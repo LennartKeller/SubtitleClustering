{
 "cells": [
  {
   "cell_type": "code",
   "execution_count": 1,
   "metadata": {},
   "outputs": [],
   "source": [
    "import pandas as pd\n",
    "import numpy as np\n",
    "import matplotlib.pyplot as plt\n",
    "from sklearn.cluster import KMeans\n",
    "from sklearn.decomposition import PCA\n",
    "from matplotlib.textpath import TextPath\n",
    "from sklearn.feature_extraction.text import CountVectorizer\n",
    "from sklearn.feature_extraction.text import TfidfVectorizer\n",
    "from sklearn.cluster import AgglomerativeClustering, KMeans\n",
    "from scipy.cluster.hierarchy import dendrogram"
   ]
  },
  {
   "cell_type": "code",
   "execution_count": 2,
   "metadata": {
    "scrolled": true
   },
   "outputs": [
    {
     "name": "stderr",
     "output_type": "stream",
     "text": [
      "C:\\ProgramData\\Anaconda3\\lib\\site-packages\\IPython\\core\\interactiveshell.py:3063: DtypeWarning: Columns (0,1,3,5,6,7,8,9,16) have mixed types.Specify dtype option on import or set low_memory=False.\n",
      "  interactivity=interactivity, compiler=compiler, result=result)\n"
     ]
    },
    {
     "data": {
      "text/plain": [
       "(10927181, 19)"
      ]
     },
     "execution_count": 2,
     "metadata": {},
     "output_type": "execute_result"
    }
   ],
   "source": [
    "df = pd.read_csv('../dataset/complete_dataset.csv')\n",
    "#dfs is the original dataframe without slicing, since df would be used as a sliced dataframe later on \n",
    "dfs = df.sample(frac=1)\n",
    "dfs.shape\n"
   ]
  },
  {
   "cell_type": "markdown",
   "metadata": {},
   "source": [
    "## Visualisation of the Dataframe"
   ]
  },
  {
   "cell_type": "markdown",
   "metadata": {},
   "source": [
    "### **Original Dataframe**"
   ]
  },
  {
   "cell_type": "code",
   "execution_count": 3,
   "metadata": {},
   "outputs": [
    {
     "name": "stdout",
     "output_type": "stream",
     "text": [
      "(10927181, 19)\n"
     ]
    },
    {
     "data": {
      "text/html": [
       "<div>\n",
       "<style scoped>\n",
       "    .dataframe tbody tr th:only-of-type {\n",
       "        vertical-align: middle;\n",
       "    }\n",
       "\n",
       "    .dataframe tbody tr th {\n",
       "        vertical-align: top;\n",
       "    }\n",
       "\n",
       "    .dataframe thead th {\n",
       "        text-align: right;\n",
       "    }\n",
       "</style>\n",
       "<table border=\"1\" class=\"dataframe\">\n",
       "  <thead>\n",
       "    <tr style=\"text-align: right;\">\n",
       "      <th></th>\n",
       "      <th>filename</th>\n",
       "      <th>text</th>\n",
       "      <th>IMDB_ID</th>\n",
       "      <th>genre</th>\n",
       "      <th>year</th>\n",
       "      <th>production_region</th>\n",
       "      <th>corpus</th>\n",
       "      <th>duration</th>\n",
       "      <th>directors</th>\n",
       "      <th>writers</th>\n",
       "      <th>titleType</th>\n",
       "      <th>primaryTitle</th>\n",
       "      <th>originalTitle</th>\n",
       "      <th>isAdult</th>\n",
       "      <th>startYear</th>\n",
       "      <th>endYear</th>\n",
       "      <th>runtimeMinutes</th>\n",
       "      <th>averageRating</th>\n",
       "      <th>numVotes</th>\n",
       "    </tr>\n",
       "  </thead>\n",
       "  <tbody>\n",
       "    <tr>\n",
       "      <th>9681088</th>\n",
       "      <td>NaN</td>\n",
       "      <td>NaN</td>\n",
       "      <td>tt8303598</td>\n",
       "      <td>NaN</td>\n",
       "      <td>NaN</td>\n",
       "      <td>NaN</td>\n",
       "      <td>NaN</td>\n",
       "      <td>NaN</td>\n",
       "      <td>nm1145806</td>\n",
       "      <td>nm1354318,nm0734570</td>\n",
       "      <td>tvEpisode</td>\n",
       "      <td>Episode #1.184</td>\n",
       "      <td>Episode #1.184</td>\n",
       "      <td>0.0</td>\n",
       "      <td>1989.0</td>\n",
       "      <td>NaN</td>\n",
       "      <td>NaN</td>\n",
       "      <td>NaN</td>\n",
       "      <td>NaN</td>\n",
       "    </tr>\n",
       "    <tr>\n",
       "      <th>717825</th>\n",
       "      <td>NaN</td>\n",
       "      <td>NaN</td>\n",
       "      <td>tt0435912</td>\n",
       "      <td>NaN</td>\n",
       "      <td>NaN</td>\n",
       "      <td>NaN</td>\n",
       "      <td>NaN</td>\n",
       "      <td>NaN</td>\n",
       "      <td>NaN</td>\n",
       "      <td>NaN</td>\n",
       "      <td>short</td>\n",
       "      <td>Working a Long Tom Rocker on Bonanza Creek</td>\n",
       "      <td>Working a Long Tom Rocker on Bonanza Creek</td>\n",
       "      <td>0.0</td>\n",
       "      <td>1903.0</td>\n",
       "      <td>NaN</td>\n",
       "      <td>NaN</td>\n",
       "      <td>NaN</td>\n",
       "      <td>NaN</td>\n",
       "    </tr>\n",
       "    <tr>\n",
       "      <th>2305922</th>\n",
       "      <td>NaN</td>\n",
       "      <td>NaN</td>\n",
       "      <td>tt10766496</td>\n",
       "      <td>NaN</td>\n",
       "      <td>NaN</td>\n",
       "      <td>NaN</td>\n",
       "      <td>NaN</td>\n",
       "      <td>NaN</td>\n",
       "      <td>nm10894328,nm10732632,nm10875531</td>\n",
       "      <td>NaN</td>\n",
       "      <td>short</td>\n",
       "      <td>Time Away</td>\n",
       "      <td>Time Away</td>\n",
       "      <td>0.0</td>\n",
       "      <td>2017.0</td>\n",
       "      <td>NaN</td>\n",
       "      <td>4</td>\n",
       "      <td>NaN</td>\n",
       "      <td>NaN</td>\n",
       "    </tr>\n",
       "    <tr>\n",
       "      <th>14410</th>\n",
       "      <td>5532810.xml</td>\n",
       "      <td>Alexandros , kommst du mit auf die Insel ? - W...</td>\n",
       "      <td>tt156794</td>\n",
       "      <td>Drama</td>\n",
       "      <td>1998.0</td>\n",
       "      <td>Greek, English, Italian</td>\n",
       "      <td>untokenisiert</td>\n",
       "      <td>137</td>\n",
       "      <td>NaN</td>\n",
       "      <td>NaN</td>\n",
       "      <td>NaN</td>\n",
       "      <td>NaN</td>\n",
       "      <td>NaN</td>\n",
       "      <td>NaN</td>\n",
       "      <td>NaN</td>\n",
       "      <td>NaN</td>\n",
       "      <td>NaN</td>\n",
       "      <td>NaN</td>\n",
       "      <td>NaN</td>\n",
       "    </tr>\n",
       "    <tr>\n",
       "      <th>5524469</th>\n",
       "      <td>NaN</td>\n",
       "      <td>NaN</td>\n",
       "      <td>tt2533374</td>\n",
       "      <td>NaN</td>\n",
       "      <td>NaN</td>\n",
       "      <td>NaN</td>\n",
       "      <td>NaN</td>\n",
       "      <td>NaN</td>\n",
       "      <td>nm0024063,nm2605840,nm3861808</td>\n",
       "      <td>nm0103819,nm4263577,nm2384839,nm2405419,nm1757...</td>\n",
       "      <td>tvEpisode</td>\n",
       "      <td>Episode dated 6 November 2012</td>\n",
       "      <td>Episode dated 6 November 2012</td>\n",
       "      <td>0.0</td>\n",
       "      <td>2012.0</td>\n",
       "      <td>NaN</td>\n",
       "      <td>NaN</td>\n",
       "      <td>NaN</td>\n",
       "      <td>NaN</td>\n",
       "    </tr>\n",
       "  </tbody>\n",
       "</table>\n",
       "</div>"
      ],
      "text/plain": [
       "            filename                                               text  \\\n",
       "9681088          NaN                                                NaN   \n",
       "717825           NaN                                                NaN   \n",
       "2305922          NaN                                                NaN   \n",
       "14410    5532810.xml  Alexandros , kommst du mit auf die Insel ? - W...   \n",
       "5524469          NaN                                                NaN   \n",
       "\n",
       "            IMDB_ID  genre    year        production_region         corpus  \\\n",
       "9681088   tt8303598    NaN     NaN                      NaN            NaN   \n",
       "717825    tt0435912    NaN     NaN                      NaN            NaN   \n",
       "2305922  tt10766496    NaN     NaN                      NaN            NaN   \n",
       "14410      tt156794  Drama  1998.0  Greek, English, Italian  untokenisiert   \n",
       "5524469   tt2533374    NaN     NaN                      NaN            NaN   \n",
       "\n",
       "        duration                         directors  \\\n",
       "9681088      NaN                         nm1145806   \n",
       "717825       NaN                               NaN   \n",
       "2305922      NaN  nm10894328,nm10732632,nm10875531   \n",
       "14410        137                               NaN   \n",
       "5524469      NaN     nm0024063,nm2605840,nm3861808   \n",
       "\n",
       "                                                   writers  titleType  \\\n",
       "9681088                                nm1354318,nm0734570  tvEpisode   \n",
       "717825                                                 NaN      short   \n",
       "2305922                                                NaN      short   \n",
       "14410                                                  NaN        NaN   \n",
       "5524469  nm0103819,nm4263577,nm2384839,nm2405419,nm1757...  tvEpisode   \n",
       "\n",
       "                                       primaryTitle  \\\n",
       "9681088                              Episode #1.184   \n",
       "717825   Working a Long Tom Rocker on Bonanza Creek   \n",
       "2305922                                   Time Away   \n",
       "14410                                           NaN   \n",
       "5524469               Episode dated 6 November 2012   \n",
       "\n",
       "                                      originalTitle  isAdult  startYear  \\\n",
       "9681088                              Episode #1.184      0.0     1989.0   \n",
       "717825   Working a Long Tom Rocker on Bonanza Creek      0.0     1903.0   \n",
       "2305922                                   Time Away      0.0     2017.0   \n",
       "14410                                           NaN      NaN        NaN   \n",
       "5524469               Episode dated 6 November 2012      0.0     2012.0   \n",
       "\n",
       "         endYear runtimeMinutes  averageRating  numVotes  \n",
       "9681088      NaN            NaN            NaN       NaN  \n",
       "717825       NaN            NaN            NaN       NaN  \n",
       "2305922      NaN              4            NaN       NaN  \n",
       "14410        NaN            NaN            NaN       NaN  \n",
       "5524469      NaN            NaN            NaN       NaN  "
      ]
     },
     "execution_count": 3,
     "metadata": {},
     "output_type": "execute_result"
    }
   ],
   "source": [
    "print(dfs.shape)\n",
    "dfs.head()"
   ]
  },
  {
   "cell_type": "markdown",
   "metadata": {},
   "source": [
    "### **Dataframe without NaN in text, genre, year and production_region**"
   ]
  },
  {
   "cell_type": "code",
   "execution_count": 4,
   "metadata": {
    "scrolled": true
   },
   "outputs": [
    {
     "name": "stdout",
     "output_type": "stream",
     "text": [
      "(11557, 19)\n"
     ]
    },
    {
     "data": {
      "text/html": [
       "<div>\n",
       "<style scoped>\n",
       "    .dataframe tbody tr th:only-of-type {\n",
       "        vertical-align: middle;\n",
       "    }\n",
       "\n",
       "    .dataframe tbody tr th {\n",
       "        vertical-align: top;\n",
       "    }\n",
       "\n",
       "    .dataframe thead th {\n",
       "        text-align: right;\n",
       "    }\n",
       "</style>\n",
       "<table border=\"1\" class=\"dataframe\">\n",
       "  <thead>\n",
       "    <tr style=\"text-align: right;\">\n",
       "      <th></th>\n",
       "      <th>filename</th>\n",
       "      <th>text</th>\n",
       "      <th>IMDB_ID</th>\n",
       "      <th>genre</th>\n",
       "      <th>year</th>\n",
       "      <th>production_region</th>\n",
       "      <th>corpus</th>\n",
       "      <th>duration</th>\n",
       "      <th>directors</th>\n",
       "      <th>writers</th>\n",
       "      <th>titleType</th>\n",
       "      <th>primaryTitle</th>\n",
       "      <th>originalTitle</th>\n",
       "      <th>isAdult</th>\n",
       "      <th>startYear</th>\n",
       "      <th>endYear</th>\n",
       "      <th>runtimeMinutes</th>\n",
       "      <th>averageRating</th>\n",
       "      <th>numVotes</th>\n",
       "    </tr>\n",
       "  </thead>\n",
       "  <tbody>\n",
       "    <tr>\n",
       "      <th>109</th>\n",
       "      <td>3653850.xml</td>\n",
       "      <td>[ Subtitles by Subturtles ] Du sollst nach Hau...</td>\n",
       "      <td>tt1175</td>\n",
       "      <td>Drama,Romance</td>\n",
       "      <td>1912.0</td>\n",
       "      <td>French</td>\n",
       "      <td>untokenisiert</td>\n",
       "      <td>NaN</td>\n",
       "      <td>NaN</td>\n",
       "      <td>NaN</td>\n",
       "      <td>NaN</td>\n",
       "      <td>NaN</td>\n",
       "      <td>NaN</td>\n",
       "      <td>NaN</td>\n",
       "      <td>NaN</td>\n",
       "      <td>NaN</td>\n",
       "      <td>NaN</td>\n",
       "      <td>NaN</td>\n",
       "      <td>NaN</td>\n",
       "    </tr>\n",
       "    <tr>\n",
       "      <th>110</th>\n",
       "      <td>6581015.xml</td>\n",
       "      <td>HINTER DER LEIWAND Die Anwendung für die Arbei...</td>\n",
       "      <td>tt6414</td>\n",
       "      <td>Comedy,Romance,Short</td>\n",
       "      <td>1916.0</td>\n",
       "      <td>English</td>\n",
       "      <td>untokenisiert</td>\n",
       "      <td>30</td>\n",
       "      <td>NaN</td>\n",
       "      <td>NaN</td>\n",
       "      <td>NaN</td>\n",
       "      <td>NaN</td>\n",
       "      <td>NaN</td>\n",
       "      <td>NaN</td>\n",
       "      <td>NaN</td>\n",
       "      <td>NaN</td>\n",
       "      <td>NaN</td>\n",
       "      <td>NaN</td>\n",
       "      <td>NaN</td>\n",
       "    </tr>\n",
       "    <tr>\n",
       "      <th>111</th>\n",
       "      <td>6564964.xml</td>\n",
       "      <td>DER GRAF Maße : Hals 30 cm - Ohr - 4 cm Mounth...</td>\n",
       "      <td>tt6548</td>\n",
       "      <td>Comedy,Short</td>\n",
       "      <td>1916.0</td>\n",
       "      <td>English</td>\n",
       "      <td>untokenisiert</td>\n",
       "      <td>24</td>\n",
       "      <td>NaN</td>\n",
       "      <td>NaN</td>\n",
       "      <td>NaN</td>\n",
       "      <td>NaN</td>\n",
       "      <td>NaN</td>\n",
       "      <td>NaN</td>\n",
       "      <td>NaN</td>\n",
       "      <td>NaN</td>\n",
       "      <td>NaN</td>\n",
       "      <td>NaN</td>\n",
       "      <td>NaN</td>\n",
       "    </tr>\n",
       "    <tr>\n",
       "      <th>113</th>\n",
       "      <td>6412883.xml</td>\n",
       "      <td>Chaplin bei der Feuerwehr \" Lass doch das Haus...</td>\n",
       "      <td>tt6684</td>\n",
       "      <td>Comedy,Short</td>\n",
       "      <td>1916.0</td>\n",
       "      <td>English</td>\n",
       "      <td>untokenisiert</td>\n",
       "      <td>24</td>\n",
       "      <td>NaN</td>\n",
       "      <td>NaN</td>\n",
       "      <td>NaN</td>\n",
       "      <td>NaN</td>\n",
       "      <td>NaN</td>\n",
       "      <td>NaN</td>\n",
       "      <td>NaN</td>\n",
       "      <td>NaN</td>\n",
       "      <td>NaN</td>\n",
       "      <td>NaN</td>\n",
       "      <td>NaN</td>\n",
       "    </tr>\n",
       "    <tr>\n",
       "      <th>116</th>\n",
       "      <td>6565009.xml</td>\n",
       "      <td>Der Abenteurer Der Mann Jagd . Ein morgendlich...</td>\n",
       "      <td>tt7613</td>\n",
       "      <td>Comedy,Short</td>\n",
       "      <td>1917.0</td>\n",
       "      <td>English</td>\n",
       "      <td>untokenisiert</td>\n",
       "      <td>24</td>\n",
       "      <td>NaN</td>\n",
       "      <td>NaN</td>\n",
       "      <td>NaN</td>\n",
       "      <td>NaN</td>\n",
       "      <td>NaN</td>\n",
       "      <td>NaN</td>\n",
       "      <td>NaN</td>\n",
       "      <td>NaN</td>\n",
       "      <td>NaN</td>\n",
       "      <td>NaN</td>\n",
       "      <td>NaN</td>\n",
       "    </tr>\n",
       "  </tbody>\n",
       "</table>\n",
       "</div>"
      ],
      "text/plain": [
       "        filename                                               text IMDB_ID  \\\n",
       "109  3653850.xml  [ Subtitles by Subturtles ] Du sollst nach Hau...  tt1175   \n",
       "110  6581015.xml  HINTER DER LEIWAND Die Anwendung für die Arbei...  tt6414   \n",
       "111  6564964.xml  DER GRAF Maße : Hals 30 cm - Ohr - 4 cm Mounth...  tt6548   \n",
       "113  6412883.xml  Chaplin bei der Feuerwehr \" Lass doch das Haus...  tt6684   \n",
       "116  6565009.xml  Der Abenteurer Der Mann Jagd . Ein morgendlich...  tt7613   \n",
       "\n",
       "                    genre    year production_region         corpus duration  \\\n",
       "109         Drama,Romance  1912.0            French  untokenisiert      NaN   \n",
       "110  Comedy,Romance,Short  1916.0           English  untokenisiert       30   \n",
       "111          Comedy,Short  1916.0           English  untokenisiert       24   \n",
       "113          Comedy,Short  1916.0           English  untokenisiert       24   \n",
       "116          Comedy,Short  1917.0           English  untokenisiert       24   \n",
       "\n",
       "    directors writers titleType primaryTitle originalTitle  isAdult  \\\n",
       "109       NaN     NaN       NaN          NaN           NaN      NaN   \n",
       "110       NaN     NaN       NaN          NaN           NaN      NaN   \n",
       "111       NaN     NaN       NaN          NaN           NaN      NaN   \n",
       "113       NaN     NaN       NaN          NaN           NaN      NaN   \n",
       "116       NaN     NaN       NaN          NaN           NaN      NaN   \n",
       "\n",
       "     startYear  endYear runtimeMinutes  averageRating  numVotes  \n",
       "109        NaN      NaN            NaN            NaN       NaN  \n",
       "110        NaN      NaN            NaN            NaN       NaN  \n",
       "111        NaN      NaN            NaN            NaN       NaN  \n",
       "113        NaN      NaN            NaN            NaN       NaN  \n",
       "116        NaN      NaN            NaN            NaN       NaN  "
      ]
     },
     "execution_count": 4,
     "metadata": {},
     "output_type": "execute_result"
    }
   ],
   "source": [
    "df.dropna(subset=['text', 'genre', 'year', 'production_region'], inplace=True)\n",
    "df.drop_duplicates(subset=['IMDB_ID'], inplace=True)\n",
    "print(df.shape)\n",
    "df.head()"
   ]
  },
  {
   "cell_type": "markdown",
   "metadata": {},
   "source": [
    "## Plot Production "
   ]
  },
  {
   "cell_type": "code",
   "execution_count": 5,
   "metadata": {},
   "outputs": [
    {
     "data": {
      "text/plain": [
       "<matplotlib.axes._subplots.AxesSubplot at 0x1bd7ed46348>"
      ]
     },
     "execution_count": 5,
     "metadata": {},
     "output_type": "execute_result"
    },
    {
     "data": {
      "image/png": "[encoded data removed]",
      "text/plain": [
       "<Figure size 432x288 with 1 Axes>"
      ]
     },
     "metadata": {
      "needs_background": "light"
     },
     "output_type": "display_data"
    }
   ],
   "source": [
    "pd.value_counts(df['production_region']).plot.bar()"
   ]
  },
  {
   "cell_type": "markdown",
   "metadata": {},
   "source": [
    "# Plot Main Country (the first country mentioned on each rows)"
   ]
  },
  {
   "cell_type": "code",
   "execution_count": 6,
   "metadata": {},
   "outputs": [
    {
     "data": {
      "text/html": [
       "<div>\n",
       "<style scoped>\n",
       "    .dataframe tbody tr th:only-of-type {\n",
       "        vertical-align: middle;\n",
       "    }\n",
       "\n",
       "    .dataframe tbody tr th {\n",
       "        vertical-align: top;\n",
       "    }\n",
       "\n",
       "    .dataframe thead th {\n",
       "        text-align: right;\n",
       "    }\n",
       "</style>\n",
       "<table border=\"1\" class=\"dataframe\">\n",
       "  <thead>\n",
       "    <tr style=\"text-align: right;\">\n",
       "      <th></th>\n",
       "      <th>filename</th>\n",
       "      <th>text</th>\n",
       "      <th>IMDB_ID</th>\n",
       "      <th>genre</th>\n",
       "      <th>year</th>\n",
       "      <th>production_region</th>\n",
       "      <th>corpus</th>\n",
       "      <th>duration</th>\n",
       "      <th>directors</th>\n",
       "      <th>writers</th>\n",
       "      <th>titleType</th>\n",
       "      <th>primaryTitle</th>\n",
       "      <th>originalTitle</th>\n",
       "      <th>isAdult</th>\n",
       "      <th>startYear</th>\n",
       "      <th>endYear</th>\n",
       "      <th>runtimeMinutes</th>\n",
       "      <th>averageRating</th>\n",
       "      <th>numVotes</th>\n",
       "      <th>main_country</th>\n",
       "    </tr>\n",
       "  </thead>\n",
       "  <tbody>\n",
       "    <tr>\n",
       "      <th>17204</th>\n",
       "      <td>116716.xml</td>\n",
       "      <td>DER HERR DER RINGE DIE ZWEI TÜRME SPECIAL EXTE...</td>\n",
       "      <td>tt167261</td>\n",
       "      <td>Action,Adventure,Drama</td>\n",
       "      <td>2002.0</td>\n",
       "      <td>English, Sindarin, Old English</td>\n",
       "      <td>untokenisiert</td>\n",
       "      <td>179</td>\n",
       "      <td>NaN</td>\n",
       "      <td>NaN</td>\n",
       "      <td>NaN</td>\n",
       "      <td>NaN</td>\n",
       "      <td>NaN</td>\n",
       "      <td>NaN</td>\n",
       "      <td>NaN</td>\n",
       "      <td>NaN</td>\n",
       "      <td>NaN</td>\n",
       "      <td>NaN</td>\n",
       "      <td>NaN</td>\n",
       "      <td>English</td>\n",
       "    </tr>\n",
       "    <tr>\n",
       "      <th>18136</th>\n",
       "      <td>226752.xml</td>\n",
       "      <td>Der Herr der Ringe Sméagol ! Ich hab einen ! I...</td>\n",
       "      <td>tt167260</td>\n",
       "      <td>Adventure,Drama,Fantasy</td>\n",
       "      <td>2003.0</td>\n",
       "      <td>English, Quenya, Old English, Sindarin</td>\n",
       "      <td>untokenisiert</td>\n",
       "      <td>201</td>\n",
       "      <td>NaN</td>\n",
       "      <td>NaN</td>\n",
       "      <td>NaN</td>\n",
       "      <td>NaN</td>\n",
       "      <td>NaN</td>\n",
       "      <td>NaN</td>\n",
       "      <td>NaN</td>\n",
       "      <td>NaN</td>\n",
       "      <td>NaN</td>\n",
       "      <td>NaN</td>\n",
       "      <td>NaN</td>\n",
       "      <td>English</td>\n",
       "    </tr>\n",
       "    <tr>\n",
       "      <th>23661</th>\n",
       "      <td>6858525.xml</td>\n",
       "      <td>Hrothgar ! Hrothgar ! Hrothgar ! Ich will Met ...</td>\n",
       "      <td>tt442933</td>\n",
       "      <td>Action,Adventure,Animation</td>\n",
       "      <td>2007.0</td>\n",
       "      <td>English, Old English</td>\n",
       "      <td>untokenisiert</td>\n",
       "      <td>115</td>\n",
       "      <td>NaN</td>\n",
       "      <td>NaN</td>\n",
       "      <td>NaN</td>\n",
       "      <td>NaN</td>\n",
       "      <td>NaN</td>\n",
       "      <td>NaN</td>\n",
       "      <td>NaN</td>\n",
       "      <td>NaN</td>\n",
       "      <td>NaN</td>\n",
       "      <td>NaN</td>\n",
       "      <td>NaN</td>\n",
       "      <td>English</td>\n",
       "    </tr>\n",
       "    <tr>\n",
       "      <th>27121</th>\n",
       "      <td>4994297.xml</td>\n",
       "      <td>Outlander ( 2008 ) dTV - kabel eins - 6. April...</td>\n",
       "      <td>tt462465</td>\n",
       "      <td>Action,Adventure,Sci-Fi</td>\n",
       "      <td>2008.0</td>\n",
       "      <td>English, Norse,  Old, Latin</td>\n",
       "      <td>untokenisiert</td>\n",
       "      <td>115</td>\n",
       "      <td>NaN</td>\n",
       "      <td>NaN</td>\n",
       "      <td>NaN</td>\n",
       "      <td>NaN</td>\n",
       "      <td>NaN</td>\n",
       "      <td>NaN</td>\n",
       "      <td>NaN</td>\n",
       "      <td>NaN</td>\n",
       "      <td>NaN</td>\n",
       "      <td>NaN</td>\n",
       "      <td>NaN</td>\n",
       "      <td>English</td>\n",
       "    </tr>\n",
       "  </tbody>\n",
       "</table>\n",
       "</div>"
      ],
      "text/plain": [
       "          filename                                               text  \\\n",
       "17204   116716.xml  DER HERR DER RINGE DIE ZWEI TÜRME SPECIAL EXTE...   \n",
       "18136   226752.xml  Der Herr der Ringe Sméagol ! Ich hab einen ! I...   \n",
       "23661  6858525.xml  Hrothgar ! Hrothgar ! Hrothgar ! Ich will Met ...   \n",
       "27121  4994297.xml  Outlander ( 2008 ) dTV - kabel eins - 6. April...   \n",
       "\n",
       "        IMDB_ID                       genre    year  \\\n",
       "17204  tt167261      Action,Adventure,Drama  2002.0   \n",
       "18136  tt167260     Adventure,Drama,Fantasy  2003.0   \n",
       "23661  tt442933  Action,Adventure,Animation  2007.0   \n",
       "27121  tt462465     Action,Adventure,Sci-Fi  2008.0   \n",
       "\n",
       "                            production_region         corpus duration  \\\n",
       "17204          English, Sindarin, Old English  untokenisiert      179   \n",
       "18136  English, Quenya, Old English, Sindarin  untokenisiert      201   \n",
       "23661                    English, Old English  untokenisiert      115   \n",
       "27121             English, Norse,  Old, Latin  untokenisiert      115   \n",
       "\n",
       "      directors writers titleType primaryTitle originalTitle  isAdult  \\\n",
       "17204       NaN     NaN       NaN          NaN           NaN      NaN   \n",
       "18136       NaN     NaN       NaN          NaN           NaN      NaN   \n",
       "23661       NaN     NaN       NaN          NaN           NaN      NaN   \n",
       "27121       NaN     NaN       NaN          NaN           NaN      NaN   \n",
       "\n",
       "       startYear  endYear runtimeMinutes  averageRating  numVotes main_country  \n",
       "17204        NaN      NaN            NaN            NaN       NaN      English  \n",
       "18136        NaN      NaN            NaN            NaN       NaN      English  \n",
       "23661        NaN      NaN            NaN            NaN       NaN      English  \n",
       "27121        NaN      NaN            NaN            NaN       NaN      English  "
      ]
     },
     "execution_count": 6,
     "metadata": {},
     "output_type": "execute_result"
    }
   ],
   "source": [
    "df['main_country'] = df.production_region.str.split(',')\n",
    "main = df['main_country']\n",
    "main_country = main.apply(lambda x: x[0])\n",
    "df['main_country'] = main_country\n",
    "df[df['production_region'].str.contains(\" Old\")]\n"
   ]
  },
  {
   "cell_type": "code",
   "execution_count": 7,
   "metadata": {},
   "outputs": [
    {
     "data": {
      "text/plain": [
       "109       French\n",
       "110      English\n",
       "111      English\n",
       "113      English\n",
       "116      English\n",
       "          ...   \n",
       "59644    English\n",
       "59646    English\n",
       "59654    English\n",
       "59664    English\n",
       "59666    English\n",
       "Name: main_country, Length: 11557, dtype: object"
      ]
     },
     "execution_count": 7,
     "metadata": {},
     "output_type": "execute_result"
    }
   ],
   "source": [
    "df.main_country"
   ]
  },
  {
   "cell_type": "code",
   "execution_count": 8,
   "metadata": {},
   "outputs": [
    {
     "name": "stdout",
     "output_type": "stream",
     "text": [
      "['French' 'English' 'Swedish' 'German' 'Slovak' 'Russian' 'Polish'\n",
      " 'Spanish' 'Portuguese' 'Czech' 'Danish' 'Croatian' 'Italian' 'Japanese'\n",
      " 'Swiss German' 'Romanian' 'Georgian' 'Dutch' 'Turkish' 'Bulgarian'\n",
      " 'Ukrainian' 'Mandarin' 'Urdu' 'Estonian' 'Hebrew' 'Serbo-Croatian'\n",
      " 'Greek' 'Norwegian' 'Korean' 'Cantonese' 'Finnish' 'Arabic' 'Icelandic'\n",
      " 'Serbian' 'Belarusian' 'Saami' 'Scanian' 'Bambara' 'Azerbaijani'\n",
      " 'Hungarian' 'Afrikaans' 'Faroese' 'Lithuanian' 'Hindi' 'More'\n",
      " 'Vietnamese' 'Bosnian' 'Persian' 'Romany' 'Khmer' 'Tamil' 'Tibetan'\n",
      " 'Catalan' 'Kurdish' 'Thai' 'Wolof' 'Aboriginal' 'Slovenian' 'Dari'\n",
      " 'Aramaic' 'Panjabi' 'Kazakh' 'Mongolian' 'Zulu' 'Maya' 'Hokkien'\n",
      " 'Flemish' 'Filipino' 'Kirghiz' 'Irish' 'Inupiaq' 'Min Nan' 'Neapolitan'\n",
      " 'Indonesian' 'Chinese' 'Greenlandic' 'Ladakhi' 'Albanian' 'Malay'\n",
      " 'Inuktitut' 'Maori' 'Telugu']\n"
     ]
    },
    {
     "data": {
      "text/plain": [
       "82"
      ]
     },
     "execution_count": 8,
     "metadata": {},
     "output_type": "execute_result"
    }
   ],
   "source": [
    "df.main_country.unique()\n",
    "print(df.main_country.unique())\n",
    "len(df.main_country.unique())"
   ]
  },
  {
   "cell_type": "code",
   "execution_count": 9,
   "metadata": {},
   "outputs": [
    {
     "name": "stdout",
     "output_type": "stream",
     "text": [
      "There are 82 main Countries where the Movies are produced\n"
     ]
    },
    {
     "data": {
      "text/plain": [
       "[('English', 6862),\n",
       " ('French', 1109),\n",
       " ('German', 981),\n",
       " ('Japanese', 471),\n",
       " ('Italian', 391),\n",
       " ('Spanish', 211),\n",
       " ('Cantonese', 167),\n",
       " ('Korean', 152),\n",
       " ('Mandarin', 151),\n",
       " ('Swedish', 144),\n",
       " ('Russian', 118),\n",
       " ('Danish', 83),\n",
       " ('Norwegian', 80),\n",
       " ('Turkish', 67),\n",
       " ('Dutch', 66),\n",
       " ('Polish', 45),\n",
       " ('Thai', 45),\n",
       " ('Hindi', 43),\n",
       " ('Czech', 38),\n",
       " ('Icelandic', 36)]"
      ]
     },
     "execution_count": 9,
     "metadata": {},
     "output_type": "execute_result"
    }
   ],
   "source": [
    "from collections import Counter\n",
    "main_country_frequs = Counter(df.main_country)\n",
    "print('There are', len(main_country_frequs), 'main Countries where the Movies are produced')\n",
    "main_country_frequs.most_common(20)"
   ]
  },
  {
   "cell_type": "markdown",
   "metadata": {},
   "source": [
    "**Main Country Plot**"
   ]
  },
  {
   "cell_type": "code",
   "execution_count": 10,
   "metadata": {},
   "outputs": [
    {
     "data": {
      "text/plain": [
       "<matplotlib.axes._subplots.AxesSubplot at 0x1bd80959108>"
      ]
     },
     "execution_count": 10,
     "metadata": {},
     "output_type": "execute_result"
    },
    {
     "data": {
      "image/png": "[encoded data removed]",
      "text/plain": [
       "<Figure size 432x288 with 1 Axes>"
      ]
     },
     "metadata": {
      "needs_background": "light"
     },
     "output_type": "display_data"
    }
   ],
   "source": [
    "pd.value_counts(df['main_country']).plot.bar()\n"
   ]
  },
  {
   "cell_type": "markdown",
   "metadata": {},
   "source": [
    "# Production Country"
   ]
  },
  {
   "cell_type": "code",
   "execution_count": 11,
   "metadata": {},
   "outputs": [
    {
     "name": "stdout",
     "output_type": "stream",
     "text": [
      "['French' 'English' 'Swedish' ... 'Chinese, English'\n",
      " 'Spanish, English, Icelandic, Portuguese' 'Hebrew, English, Persian']\n"
     ]
    }
   ],
   "source": [
    "df.production_region.unique()\n",
    "print(df.production_region.unique())"
   ]
  },
  {
   "cell_type": "code",
   "execution_count": 12,
   "metadata": {
    "scrolled": true
   },
   "outputs": [
    {
     "data": {
      "text/plain": [
       "[('English', 5082),\n",
       " ('French', 799),\n",
       " ('German', 780),\n",
       " ('Japanese', 398),\n",
       " ('Italian', 306),\n",
       " ('English, Spanish', 252),\n",
       " ('English, French', 207),\n",
       " ('Spanish', 154),\n",
       " ('Korean', 119),\n",
       " ('English, German', 98),\n",
       " ('Mandarin', 95),\n",
       " ('Russian', 91),\n",
       " ('Swedish', 87),\n",
       " ('French, English', 82),\n",
       " ('English, Italian', 79),\n",
       " ('Cantonese', 79),\n",
       " ('English, Russian', 75),\n",
       " ('English, Japanese', 63),\n",
       " ('Turkish', 57),\n",
       " ('Danish', 52)]"
      ]
     },
     "execution_count": 12,
     "metadata": {},
     "output_type": "execute_result"
    }
   ],
   "source": [
    "from collections import Counter\n",
    "region_combination_frequs = Counter(df.production_region)\n",
    "region_combination_frequs.most_common(20)"
   ]
  },
  {
   "cell_type": "code",
   "execution_count": 13,
   "metadata": {},
   "outputs": [
    {
     "data": {
      "text/plain": [
       "109             French\n",
       "110            English\n",
       "111            English\n",
       "113            English\n",
       "116            English\n",
       "117            English\n",
       "118            English\n",
       "119            English\n",
       "121            Swedish\n",
       "123             German\n",
       "125            English\n",
       "127            Swedish\n",
       "128             German\n",
       "129            English\n",
       "131             Slovak\n",
       "132             German\n",
       "133    Swedish, Danish\n",
       "137             French\n",
       "140            Russian\n",
       "142            English\n",
       "145            English\n",
       "146            English\n",
       "148             French\n",
       "150            English\n",
       "153            English\n",
       "154             French\n",
       "155            English\n",
       "156            English\n",
       "157             German\n",
       "158            English\n",
       "Name: production_region, dtype: object"
      ]
     },
     "execution_count": 13,
     "metadata": {},
     "output_type": "execute_result"
    }
   ],
   "source": [
    "region = df.production_region\n",
    "region.head(30)"
   ]
  },
  {
   "cell_type": "code",
   "execution_count": 14,
   "metadata": {},
   "outputs": [
    {
     "name": "stdout",
     "output_type": "stream",
     "text": [
      "Number of countries mentioned in the Dataset:  4082\n",
      "['French', 'English', 'Swedish', 'German', 'Slovak', 'Swedish', 'Danish', 'Russian', 'Polish', 'German', 'English', 'English', 'French', 'Spanish', 'Arabic', 'Italian', 'Spanish', 'English', 'Hungarian', 'Latin', 'Spanish', 'Hungarian', 'English', 'Latin', 'Portuguese', 'English', 'German', 'French', 'English', 'Russian', 'English', 'Arabic', 'French', 'English', 'French', 'Cantonese', 'German', 'English', 'Italian', 'Russian', 'Spanish', 'German', 'English', 'Spanish', 'English', 'German', 'Italian', 'English', 'French', 'English', 'Polynesian', 'English', 'Italian', 'English', 'Cantonese', 'Latin', 'English', 'German', 'English', 'Arabic', 'Czech', 'English', 'Portuguese', 'French', 'German', 'English', 'Russian', 'English', 'Mandarin', 'English', 'Hebrew', 'French', 'English', 'English', 'German', 'French', 'Italian', 'English', 'Latin', 'German', 'English', 'Esperanto', 'English', 'Welsh', 'English', 'French', 'German', 'Italian', 'English', 'Czech', 'Serbian', 'English', 'French', 'Indonesian', 'English', 'French', 'Russian', 'German', 'Spanish', 'Greek', 'French', 'Italian', 'Danish', 'English', 'Spanish', 'French', 'Croatian', 'Italian', 'German', 'English', 'Spanish', 'French', 'German', 'English', 'Nahuatl', 'French', 'English', 'German', 'Italian', 'English', 'Cantonese', 'Italian', 'Italian', 'French', 'English', 'Swahili', 'Japanese', 'English', 'German', 'Russian', 'Italian', 'English', 'Spanish', 'German', 'French', 'English', 'Japanese', 'English', 'German', 'Swahili', 'English', 'French', 'German', 'English', 'French', 'Spanish', 'English', 'French', 'Hindi', 'Russian', 'English', 'French', 'Japanese', 'Italian', 'English', 'French', 'Portuguese', 'Spanish', 'English', 'French', 'Portuguese', 'German', 'Swiss German', 'Swedish', 'French', 'English', 'Athapascan', 'English', 'French', 'Latin', 'Arabic', 'English', 'French', 'Italian', 'German', 'English', 'French', 'Italian', 'English', 'Italian', 'German', 'French', 'English', 'Spanish', 'German', 'Italian', 'Russian', 'Japanese', 'English', 'French', 'German', 'English', 'English', 'Spanish', 'Italian', 'English', 'Swedish', 'Swiss German', 'German', 'English', 'Italian', 'Spanish', 'Romanian', 'Georgian', 'French', 'Swedish', 'English', 'French', 'Arabic', 'English', 'Navajo', 'Spanish', 'German', 'Hungarian', 'French', 'German', 'English', 'Japanese', 'Thai', 'English', 'German', 'Latin', 'German', 'Greek', 'Hungarian', 'Italian', 'Portuguese', 'Swedish', 'Latin', 'French', 'Spanish', 'German', 'Italian', 'English', 'Japanese', 'Mandarin', 'Russian', 'Cantonese', 'Japanese', 'Mandarin', 'Japanese', 'Mandarin', 'Russian', 'English', 'American', 'Italian', 'English', 'French', 'German', 'Swedish', 'German', 'English', 'French', 'German', 'Chinese', 'Italian', 'Arabic', 'Dutch', 'French', 'Italian', 'English', 'English', 'Greek', 'Russian', 'French', 'Russian', 'English', 'Greek', 'German', 'Turkish', 'French', 'Greek', 'English', 'Polish', 'German', 'English', 'Arapaho', 'Russian', 'German', 'English', 'Arabic', 'Turkish', 'English', 'Chinese', 'Italian', 'English', 'German', 'Polish', 'Czech', 'French', 'Russian', 'Dutch', 'German', 'Czech', 'German', 'German', 'English', 'Polish', 'English', 'Russian', 'Turkish', 'Romany', 'Italian', 'Latin', 'French', 'English', 'German', 'French', 'Russian', 'Swedish', 'English', 'German', 'French', 'Spanish', 'English', 'German', 'Portuguese', 'French', 'English', 'Greek', 'Italian', 'Turkish', 'English', 'Chinese', 'Spanish', 'French', 'English', 'Portuguese', 'Bulgarian', 'French', 'French', 'Portuguese', 'English', 'Italian', 'Spanish', 'English', 'French', 'Spanish', 'Arabic', 'English', 'French', 'Turkish', 'German', 'Greek', 'Italian', 'English', 'Zulu', 'Georgian', 'Russian', 'Ukrainian', 'French', 'Italian', 'Russian', 'English', 'Russian', 'French', 'English', 'Italian', 'Arabic', 'English', 'German', 'Norwegian', 'Mandarin', 'English', 'Malay', 'Japanese', 'French', 'English', 'Italian', 'English', 'French', 'German', 'Italian', 'Japanese', 'Italian', 'French', 'Spanish', 'French', 'Arabic', 'English', 'Russian', 'Italian', 'Tatar', 'Italian', 'Latin', 'French', 'Latin', 'French', 'English', 'German', 'French', 'Italian', 'Latin', 'English', 'Latin', 'Spanish', 'French', 'Swedish', 'English', 'English', 'German', 'Swedish', 'Norwegian', 'French', 'Dutch', 'English', 'Latin', 'Spanish', 'Italian', 'English', 'Spanish', 'English', 'French', 'German', 'Portuguese', 'Urdu', 'French', 'Spanish', 'Mongolian', 'English', 'German', 'French', 'Spanish', 'Latin', 'Italian', 'Spanish', 'English', 'Italian', 'Spanish', 'French', 'English', 'Japanese', 'Russian', 'German', 'Russian', 'English', 'Vietnamese', 'German', 'Danish', 'French', 'Dutch', 'English', 'Spanish', 'English', 'English', 'Italian', 'Russian', 'French', 'Chinese', 'Georgian', 'German', 'Swedish', 'Norwegian', 'French', 'Italian', 'Spanish', 'English', 'German', 'Polish', 'French', 'Italian', 'French', 'English', 'French', 'English', 'Danish', 'Estonian', 'Russian', 'Georgian', 'French', 'Hebrew', 'German', 'English', 'Spanish', 'French', 'Russian', 'English', 'Spanish', 'German', 'French', 'Russian', 'English', 'Swiss German', 'French', 'French', 'French', 'English', 'Spanish', 'Italian', 'English', 'French', 'Italian', 'Cantonese', 'Polish', 'English', 'Swedish', 'Spanish', 'English', 'Japanese', 'Korean', 'English', 'Sioux', 'French', 'English', 'German', 'French', 'Russian', 'Arabic', 'Italian', 'Polish', 'German', 'Turkish', 'Italian', 'Neapolitan', 'English', 'Yiddish', 'English', 'Hebrew', 'Russian', 'English', 'Italian', 'Polish', 'French', 'Dutch', 'English', 'English', 'Spanish', 'Japanese', 'French', 'Italian', 'Spanish', 'English', 'English', 'Italian', 'Latin', 'Mandarin', 'Cantonese', 'Serbo-Croatian', 'Italian', 'Mandarin', 'Cantonese', 'English', 'Italian', 'Greek', 'Italian', 'German', 'English', 'French', 'Latin', 'Spanish', 'English', 'Apache', 'Swedish', 'German', 'Danish', 'Italian', 'Burmese', 'Thai', 'English', 'Creoles and pidgins', 'English', 'Italian', 'French', 'Italian', 'German', 'French', 'English', 'German', 'Hebrew', 'Russian', 'French', 'French', 'English', 'Hebrew', 'Yiddish', 'Arabic', 'English', 'Latin', 'Greek', 'French', 'German', 'Arabic', 'English', 'Hungarian', 'German', 'Czech', 'Italian', 'Greek', ' Ancient (to 1453)', 'French', 'Italian', 'Hungarian', 'English', 'Spanish', 'Dutch', 'German', 'English', 'Dutch', 'English', 'Italian', 'Swedish', 'Latin', 'German', 'French', 'Irish', 'English', 'Cantonese', 'Spanish', 'English', 'Italian', 'Spanish', 'Latin', 'Sicilian', 'English', 'Swedish', 'Norwegian', 'Danish', 'Icelandic', 'English', 'Thai', 'Cantonese', 'English', 'French', 'German', 'Turkish', 'Italian', 'Swedish', 'French', 'Swedish', 'English', 'English', 'French', 'Polish', 'Spanish', 'Italian', 'Russian', 'Chinese', 'English', 'French', 'Latin', 'Russian', 'Spanish', 'Polish', 'German', 'Yiddish', 'Russian', 'English', 'Brazilian', 'Spanish', 'Polish', 'French', 'Russian', 'German', 'Italian', 'Norwegian', 'French', 'English', 'Polish', 'Italian', 'Cantonese', 'Thai', 'English', 'Italian', 'French', 'German', 'Italian', 'German', 'French', 'Hungarian', 'English', 'Italian', 'French', 'German', 'English', 'Czech', 'Latin', 'Hungarian', 'Neapolitan', 'English', 'Hebrew', 'French', 'German', 'English', 'German', 'Polish', 'English', 'French', 'German', 'Spanish', 'Yiddish', 'English', 'Latin', 'Italian', 'Serbo-Croatian', 'Korean', 'Cantonese', 'English', 'Russian', 'French', 'German', 'German', 'English', 'French', 'English', 'German', 'Dutch', 'Polish', 'Latin', 'English', 'French', 'Spanish', 'Hindi', 'German', 'French', 'English', 'Korean', 'English', 'Italian', 'Aboriginal', 'Georgian', 'Russian', 'English', 'Armenian', 'English', 'French', 'Arabic', 'German', 'English', 'Russian', 'Vietnamese', 'French', 'English', 'Hungarian', 'Lithuanian', 'Latin', 'Italian', 'English', 'Croatian', 'English', 'Mandarin', 'Cantonese', 'English', 'Maltese', 'French', 'Danish', 'German', 'Cantonese', 'Mandarin', 'English', 'Spanish', 'Cantonese', 'Hebrew', 'French', 'Japanese', 'English', 'French', 'German', 'Italian', 'English', 'Japanese', 'German', 'English', 'French', 'Vietnamese', 'Khmer', 'English', 'Russian', 'Italian', 'German', 'Italian', 'Hebrew', 'Polish', 'Russian', 'Hebrew', 'Polish', 'Italian', 'English', 'German', 'French', 'Portuguese', 'Japanese', 'English', 'French', 'English', 'Klingon', 'English', 'Swedish', 'German', 'English', 'German', 'Czech', 'French', 'English', 'Dutch', 'French', 'German', 'English', 'Japanese', 'French', 'German', 'Spanish', 'Russian', 'English', 'Russian', 'French', 'Polish', 'German', 'English', 'French', 'Russian', 'English', 'Cantonese', 'Japanese', 'Arabic', 'English', 'Greek', 'Italian', 'English', 'Latin', 'French', 'English', 'Hungarian', 'German', 'English', 'German', 'French', 'Swedish', 'Danish', 'French', 'English', 'German', 'Hebrew', 'Spanish', 'Arabic', 'Nepali', 'English', 'Russian', 'Polish', 'English', 'German', 'Cantonese', 'Japanese', 'Hungarian', 'German', 'English', 'French', 'Serbo-Croatian', 'English', 'German', 'Dutch', 'Swedish', 'German', 'Yiddish', 'English', 'German', 'Spanish', 'Italian', 'Cantonese', 'English', 'English', 'Filipino', 'French', 'German', 'Polish', 'English', 'Polish', 'German', 'French', 'Russian', 'English', 'Norwegian', 'Turkish', 'Kurdish', 'English', 'Russian', 'Japanese', 'English', 'French', 'Spanish', 'Arabic', 'Italian', 'Russian', 'English', 'Russian', 'German', 'Spanish', 'Finnish', 'Russian', 'English', 'German', 'English', 'Polish', 'English', 'French', 'German', 'Vietnamese', 'Bulgarian', 'English', 'Italian', 'Latin', 'German', 'Arabic', 'English', 'Italian', 'Yiddish', 'Icelandic', 'English', 'Sinhalese', 'English', 'French', 'Khmer', 'Russian', 'Slovak', 'German', 'English', 'Croatian', 'Serbian', 'English', 'Russian', 'Spanish', 'English', 'Klingon', 'Russian', 'English', 'German', 'Yiddish', 'Georgian', 'Russian', 'Italian', 'German', 'English', 'Finnish', 'Italian', 'English', 'German', 'Swiss German', 'Danish', 'English', 'Spanish', 'Cantonese', 'Italian', 'English', 'German', 'Russian', 'French', 'English', 'German', 'Serbian', 'English', 'Persian', 'French', 'Spanish', 'English', 'French', 'Portuguese', 'German', 'German', 'Hebrew', 'English', 'Italian', 'German', 'French', 'Serbian', 'Hungarian', 'Slovak', 'Italian', 'English', 'Vietnamese', 'English', 'German', 'Hebrew', 'Polish', 'Yiddish', 'French', 'French', 'Arabic', 'English', 'Arabic', 'Spanish', 'Cantonese', 'English', 'Japanese', 'Mandarin', 'English', 'Cantonese', 'Vietnamese', 'Polish', 'Belarusian', 'Russian', 'German', 'German', 'English', 'French', 'Italian', 'English', 'Spanish', 'German', 'French', 'Italian', 'Dutch', 'English', 'German', 'Spanish', 'French', 'English', 'Arabic', 'Hebrew', 'Greek', 'English', 'Guarani', 'Spanish', 'Latin', 'Swedish', 'French', 'English', 'Finnish', 'Swedish', 'English', 'Cantonese', 'Mandarin', 'English', 'Cantonese', 'English', 'Thai', 'Vietnamese', 'French', 'German', 'English', 'Greek', 'Latin', 'English', 'Japanese', 'Mandarin', 'German', 'English', 'French', 'Turkish', 'Hebrew', 'Spanish', 'Japanese', 'Mandarin', 'Japanese', 'English', 'Mandarin', 'Japanese', 'Russian', 'English', 'Arabic', 'French', 'German', 'Russian', 'Czech', 'Slovak', 'Dari', 'Pushto', 'Saami', 'Scanian', 'Danish', 'Swedish', 'English', 'Russian', 'French', 'Italian', 'Bambara', 'Fulah', 'German', 'Spanish', 'Dutch', 'Spanish', 'Mandarin', 'English', 'Azerbaijani', 'Georgian', 'English', 'Pushto', 'English', 'Spanish', 'German', 'Serbo-Croatian', 'English', 'English', 'Italian', 'Russian', 'Hungarian', 'Cantonese', 'Hakka', 'Italian', 'English', 'Portuguese', 'Dutch', 'French', 'English', 'French', 'Mandarin', 'English', 'Spanish', 'French', 'German', 'Italian', 'Czech', 'Slovak', 'Polish', 'Danish', 'Cantonese', 'Mandarin', 'Japanese', 'Afrikaans', 'English', 'Ungwatsi', 'English', 'German', 'Greek', 'English', 'Spanish', 'Portuguese', 'Finnish', 'English', 'English', 'Afrikaans', 'English', 'Japanese', 'Italian', 'Slovak', 'Czech', 'English', 'Italian', 'Irish', 'Yiddish', 'English', 'Italian', 'Japanese', 'French', 'English', 'Greek', 'Cantonese', 'Shanghainese', 'Tagalog', 'English', 'Mandarin', 'German', 'French', 'English', 'Faroese', 'English', 'Icelandic', 'Afrikaans', 'Norwegian', 'English', 'Lao', 'French', 'Occitan', 'English', 'Sioux', 'Pawnee', 'English', 'Italian', 'German', 'Latin', 'Icelandic', 'English', 'English', 'French', 'Finnish', 'Italian', 'German', 'English', 'Irish', 'Greek', 'Lithuanian', 'Finnish', 'English', 'Turkish', 'Hindi', 'Cantonese', 'Japanese', 'Mandarin', 'English', 'Romanian', 'Greek', 'Bulgarian', 'Latin', 'French', 'Vietnamese', 'English', 'French', 'Mohawk', 'English', 'Dutch', 'English', 'Vietnamese', 'German', 'Japanese', 'Portuguese', 'English', 'Russian', 'Chinese', 'English', 'Sioux', 'More', 'French', 'Serbian', 'Spanish', 'German', 'English', 'Spanish', 'Korean', 'English', 'Polish', 'Spanish', 'Mandarin', 'English', 'Vietnamese', 'English', 'Hebrew', 'German', 'Polish', 'French', 'Romanian', 'Polish', 'Cantonese', 'Mandarin', 'Hokkien', 'Italian', 'English', 'Mandarin', 'Dutch', 'French', 'German', 'Spanish', 'Aymara', 'Quechua', 'English', 'Irish', 'Cantonese', 'English', 'Japanese', 'Hindi', 'Mandarin', 'English', 'British', 'French', 'German', 'English', 'Italian', 'Russian', 'English', 'Swahili', 'Xhosa', 'Zulu', 'Danish', 'Swedish', 'English', 'Navajo', 'Japanese', 'English', 'Inuktitut', 'English', 'French', 'Italian', 'Russian', 'Spanish', 'Arabic', 'French', 'English', 'Norwegian', 'Swedish', 'English', 'Japanese', 'Esperanto', 'Polish', 'French', 'English', 'Russian', 'Romanian', 'English', 'Mandarin', 'French', 'English', 'Dutch', 'Spanish', 'English', 'French', 'Latin', 'Scottish Gaelic', 'English', 'French', 'Persian', 'French', 'Cantonese', 'Cantonese', 'English', 'Mandarin', 'English', 'Cree', 'English', 'German', 'Romanian', 'English', 'Malay', 'Indonesian', 'English', 'Italian', 'Japanese', 'Russian', 'Japanese', 'English', 'Italian', 'English', 'Mandarin', 'Russian', 'English', 'Korean', 'French', 'English', 'Algonquin', 'German', 'Italian', 'English', 'Serbian', 'German', 'French', 'English', 'Russian', 'English', 'Hungarian', 'Spanish', 'French', 'English', 'Sioux', 'Cantonese', 'Icelandic', 'German', 'French', 'Arabic', 'Italian', 'French', 'English', 'Japanese', 'Korean', 'Cantonese', 'English', 'German', 'Italian', 'Arabic', 'English', 'Hindi', 'English', 'Indonesian', 'French', 'Portuguese', 'Spanish', 'German', 'German', 'English', 'Spanish', 'English', 'Cantonese', 'Mandarin', 'Russian', 'Ukrainian', 'Russian', 'Turkish', 'Georgian', 'Chechen', 'Serbian', 'English', 'English', 'French', 'Czech', 'Danish', 'Swedish', 'Serbo-Croatian', 'English', 'Japanese', 'Italian', 'French', 'English', 'French', 'German', 'Spanish', 'Italian', 'Japanese', 'English', 'Mandarin', 'Bosnian', 'English', 'Cantonese', 'Mandarin', 'English', 'Mende', 'Spanish', 'Russian', 'English', 'French', 'Italian', 'German', 'English', 'Spanish', 'Italian', 'Bulgarian', 'French', 'Lithuanian', 'French', 'Mandarin', 'Cantonese', 'Spanish', 'Persian', 'English', 'Spanish', 'German', 'Russian', 'English', 'German', 'Italian', 'Mandarin', 'Spanish', 'French', 'English', 'Spanish', 'English', 'Cantonese', 'German', 'English', 'Spanish', 'Greek', 'Norwegian', 'Swedish', 'Dutch', 'English', 'German', 'French', 'English', 'Tibetan', 'Mandarin', 'English', 'Italian', 'Japanese', 'Spanish', 'English', 'Russian', 'Serbian', 'Bosnian', 'Croatian', 'English', 'German', 'Mandarin', 'Tibetan', 'Hindi', 'English', 'American', 'Portuguese', 'English', 'French', 'German', 'Swedish', 'Italian', 'Russian', 'English', 'German', 'Danish', 'Mandarin', 'Cantonese', 'English', 'Albanian', 'Japanese', 'Mandarin', 'Min Nan', 'English', 'German', 'Hebrew', 'Spanish', 'Romany', 'Serbian', 'Bulgarian', 'German', 'English', 'Syriac', 'Assyrian Neo-Aramaic', 'Russian', 'English', 'French', 'German', 'English', 'Russian', 'Indonesian', 'English', 'French', 'Japanese', 'Russian', 'Spanish', 'English', 'Turkish', 'English', 'French', 'German', 'Czech', 'English', 'Tok Pisin', 'Japanese', 'Greek', 'German', 'English', 'Russian', 'English', 'Spanish', 'Latin', 'French', 'German', 'Finnish', 'English', 'German', 'English', 'Japanese', 'English', 'Spanish', 'Danish', 'Danish', 'Icelandic', 'English', 'Serbian', 'Albanian', 'English', 'French', 'German', 'Korean', 'Portuguese', 'Danish', 'German', 'English', 'Greek', 'English', 'Italian', 'Khmer', 'Japanese', 'Cantonese', 'English', 'Mandarin', 'Cantonese', 'English', 'Japanese', 'Russian', 'English', 'Latin', 'Irish', 'Tamil', 'Hindi', 'Urdu', 'English', 'Cantonese', 'English', 'Thai', 'German', 'Polish', 'Polish', 'Russian', 'English', 'Egyptian (Ancient)', 'Arabic', 'English', 'Thai', 'English', 'French', 'German', 'Latin', 'English', 'Vietnamese', 'French', 'English', 'Japanese', 'Arabic', 'Persian', 'English', 'Norwegian', 'French', 'Spanish', 'English', 'French', 'Latin', 'Portuguese', 'Spanish', 'English', 'Spanish', 'Papiamento', 'Russian', 'French', 'Italian', 'Greek', 'English', 'Assyrian Neo-Aramaic', 'Portuguese', 'Italian', 'Aramaic', 'Finnish', 'Italian', 'Russian', 'English', 'Thai', 'French', 'Czech', 'Russian', 'Icelandic', 'Danish', 'Danish', 'English', 'Serbo-Croatian', 'German', 'Cantonese', 'English', 'Mandarin', 'Japanese', 'Min Nan', 'Spanish', 'Catalan', 'Faroese', 'Danish', 'English', 'French', 'Tibetan', 'Cantonese', 'Shanghainese', 'French', 'Swedish', 'Russian', 'English', 'Russian', 'Spanish', 'Romanian', 'English', 'Danish', 'English', 'German', 'Finnish', 'Japanese', 'Cantonese', 'English', 'German', 'Spanish', 'English', 'French', 'Swedish', 'Thai', 'Croatian', 'English', 'Hebrew', 'Spanish', 'German', 'English', 'Turkish', 'Bulgarian', 'Serbo-Croatian', 'Romanian', 'English', 'Mandarin', 'Sioux', 'Spanish', 'German', 'Latin', 'Swedish', 'Persian', 'English', 'German', 'Luxembourgish', 'English', 'Russian', 'French', 'Hawaiian', 'Spanish', 'Italian', 'English', 'Latin', 'Greek', ' Ancient (to 1453)', 'Catalan', 'English', 'Japanese', 'Italian', 'Spanish', 'Cantonese', 'Japanese', 'English', 'Spanish', 'French', 'English', 'Danish', 'Italian', 'English', 'Mandarin', 'Min Nan', 'Hokkien', 'English', 'Japanese', 'English', 'Mandarin', 'Russian', 'Japanese', 'Portuguese', 'Cantonese', 'English', 'Spanish', 'Russian', 'French', 'German', 'Portuguese', 'Catalan', 'Spanish', 'English', 'French', 'Berber', 'French', 'Polish', 'English', 'Kurdish', 'Persian', 'Korean', 'English', 'German', 'Thai', 'English', 'Thai', 'Swedish', 'Arabic', 'English', 'Sindarin', 'English', 'Russian', 'Spanish', 'Korean', 'English', 'Swahili', 'German', 'English', 'Czech', 'Russian', 'Greek', 'Afrikaans', 'Tibetan', 'Ladakhi', 'Hindi', 'English', 'Japanese', 'French', 'English', 'Spanish', 'German', 'Greek', 'English', 'German', 'Japanese', 'Latin', 'Spanish', 'English', 'Greek', 'German', 'Italian', 'English', 'Italian', 'Cantonese', 'Czech', 'German', 'English', 'Slovak', 'English', 'Serbo-Croatian', 'English', 'Italian', 'Chinese', 'English', 'Gallegan', 'Spanish', 'English', 'Somali', 'Hindi', 'English', 'English', 'German', 'Arabic', 'French', 'Cantonese', 'Mandarin', 'French', 'Min Nan', 'English', 'English', 'French', 'Mandarin', 'French', 'Japanese', 'Mandarin', 'Mandarin', 'Korean', 'Japanese', 'German', 'Italian', 'Portuguese', 'Spanish', 'French', 'English', 'Arabic', 'Danish', 'Swedish', 'English', 'English', 'Russian', 'German', 'Korean', 'Arabic', 'Spanish', 'Serbian', 'Mandarin', 'English', 'Mandarin', 'Japanese', 'Cantonese', 'Italian', 'Korean', 'Cantonese', 'Mandarin', 'Bambara', 'English', 'French', 'German', 'Italian', 'Spanish', 'Japanese', 'Russian', 'Korean', 'English', 'German', 'English', 'Lithuanian', 'German', 'Japanese', 'Cantonese', 'English', 'Korean', 'Japanese', 'Wolof', 'English', 'Russian', 'Ukrainian', 'German', 'Arabic', 'English', 'Sindarin', 'Old English', 'English', 'Romanian', 'Czech', 'English', 'Irish', 'Chinese', 'Latin', 'Hindi', 'Urdu', 'Bengali', 'English', 'Korean', 'Cantonese', 'Spanish', 'German', 'Icelandic', 'Italian', 'Danish', 'Swedish', 'Serbian', 'French', 'Arabic', 'Cantonese', 'Latin', 'German', 'Aboriginal', 'English', 'English', 'French', 'Vietnamese', 'English', 'French', 'German', 'Dutch', 'Italian', 'French', 'English', 'Arabic', 'Italian', 'French', 'Spanish', 'English', 'Catalan', 'Danish', 'German', 'Italian', 'Mandarin', 'Hokkien', 'English', 'English', 'Panjabi', 'Hindi', 'German', 'Italian', 'Sicilian', 'Spanish', 'Latin', 'French', 'Romanian', 'French', 'Spanish', 'Italian', 'English', 'English', 'Japanese', 'German', 'French', 'English', 'German', 'Spanish', 'Russian', 'Czech', 'English', 'Maori', 'Russian', 'Swedish', 'English', 'Polish', 'Mandarin', 'Cantonese', 'English', 'Japanese', 'Cantonese', 'English', 'Somali', 'Spanish', 'French', 'German', 'Greek', 'Hungarian', 'English', 'English', 'German', 'Mandarin', 'Spanish', 'Finnish', 'Saami', 'Finnish', 'Russian', 'German', 'Russian', 'English', 'Chechen', 'German', 'English', 'French', 'Arabic', 'Korean', 'Korean', 'Slovenian', 'Serbo-Croatian', 'Czech', 'Hungarian', 'Polish', 'Russian', 'Spanish', 'English', 'English', 'Serbian', 'English', 'Hungarian', 'French', 'German', 'Cantonese', 'Thai', 'Mandarin', 'English', 'Hakka', 'German', 'Slovak', 'Ukrainian', 'English', 'Icelandic', 'Norwegian', 'English', 'English', 'Quenya', 'Old English', 'Sindarin', 'English', 'Tibetan', 'Panjabi', 'German', 'English', 'French', 'Japanese', 'Dutch', 'Turkish', 'English', 'Persian', 'Russian', 'English', 'Amharic', 'Khmer', 'German', 'Chechen', 'English', 'Mandarin', 'Spanish', 'English', 'Mandarin', 'Korean', 'Swedish', 'English', 'German', 'French', 'Dutch', 'Spanish', 'Catalan', 'English', 'French', 'English', 'Portuguese', 'French', 'French', 'English', 'Russian', 'English', 'Klingon', 'German', 'Swedish', 'English', 'Danish', 'English', 'Hebrew', 'French', 'Danish', 'Swedish', 'French', 'Norwegian', 'English', 'Inuktitut', 'Croatian', 'Serbian', 'French', 'Turkish', 'Slovenian', 'Serbo-Croatian', 'English', 'English', 'Apache', 'Spanish', 'Swedish', 'Finnish', 'Italian', 'English', 'Norwegian', 'German', 'Polish', 'Russian', 'Icelandic', 'French', 'Swiss German', 'French', 'Italian', 'Swedish', 'Finnish', 'French', 'German', 'Danish', 'English', 'French', 'Spanish', 'Dutch', 'Spanish', 'Norwegian', 'English', 'Swedish', 'Saami', 'Dari', 'Pushto', 'English', 'Cantonese', 'English', 'Mandarin', 'Thai', 'English', 'Greek', 'Turkish', 'Japanese', 'Spanish', 'English', 'English', 'Russian', 'Spanish', 'Latin', 'Greek', 'Turkish', 'German', 'English', 'Spanish', 'Hebrew', 'English', 'Dutch', 'Japanese', 'Swedish', 'Finnish', 'German', 'English', 'Portuguese', 'Spanish', 'English', 'German', 'Thai', 'English', 'Arabic', 'Sioux', 'Spanish', 'Quechua', 'Mapudungun', 'English', 'Japanese', 'French', 'Arabic', 'Spanish', 'Serbian', 'English', 'German', 'Hungarian', 'English', 'Hungarian', 'Hebrew', 'English', 'Cantonese', 'French', 'German', 'Hindi', 'Turkish', 'Aramaic', 'Latin', 'Hebrew', 'English', 'German', 'French', 'Spanish', 'English', 'Hawaiian', 'Mandarin', 'Turkish', 'French', 'German', 'Corsican', 'English', 'Tibetan', 'German', 'German', 'Turkish', 'English', 'English', 'Latin', 'Irish', 'Welsh', 'Scottish Gaelic', 'English', 'Dutch', 'French', 'Italian', 'Mandarin', 'English', 'French', 'American', 'French', 'Dutch', 'Russian', 'Spanish', 'English', 'French', 'Russian', 'Bulgarian', 'Spanish', 'English', 'Icelandic', 'Filipino', 'Portuguese', 'French', 'Tagalog', 'German', 'Italian', 'German', 'Russian', 'Hungarian', 'Spanish', 'Catalan', 'Gallegan', 'English', 'Russian', 'German', 'Italian', 'English', 'French', 'Klingon', 'Korean', 'Arabic', 'Hebrew', 'English', 'English', 'Armenian', 'English', 'Persian', 'Spanish', 'Mandarin', 'Korean', 'English', 'Romanian', 'English', 'Cantonese', 'Mandarin', 'Spanish', 'French', 'English', 'German', 'Spanish', 'Swedish', 'English', 'Italian', 'German', 'Turkish', 'Dutch', 'Cantonese', 'English', 'Japanese', 'Mandarin', 'German', 'Russian', 'English', 'Danish', 'Cantonese', 'English', 'Danish', 'Serbo-Croatian', 'German', 'Swiss German', 'Albanian', 'Norwegian', 'Danish', 'German', 'English', 'Spanish', 'German', 'English', 'Greek', 'Japanese', 'French', 'English', 'Bambara', 'French', 'English', 'Korean', 'French', 'Vietnamese', 'French', 'Portuguese', 'French', 'Albanian', 'English', 'Russian', 'Swahili', 'Kurdish', 'Arabic', 'English', 'Swedish', 'English', 'Spanish', 'Japanese', 'Spanish', 'Cantonese', 'Mandarin', 'Portuguese', 'English', 'Panjabi', 'English', 'Arabic', 'Latin', 'Italian', 'English', 'Portuguese', 'Spanish', 'German', 'French', 'English', 'Filipino', 'Tagalog', 'English', 'Urdu', 'Arabic', 'Persian', 'French', 'Mandarin', 'Mandarin', 'Cantonese', 'English', 'Korean', 'Hungarian', 'German', 'English', 'Yiddish', 'Hebrew', 'Polish', 'English', 'Urdu', 'Mandarin', 'Aboriginal', 'English', 'French', 'Portuguese', 'Kazakh', 'English', 'English', 'Italian', 'Swahili', 'German', 'Persian', 'Arabic', 'English', 'Ukrainian', 'German', 'Spanish', 'Russian', 'French', 'Arabic', 'Turkish', 'English', 'Tagalog', 'English', 'Russian', 'Ukrainian', 'English', 'Syriac', 'German', 'Greek', 'Hebrew', 'Latin', 'Aramaic', 'English', 'German', 'French', 'Hebrew', 'Arabic', 'Italian', 'Greek', 'Russian', 'Danish', 'English', 'English', 'Russian', 'French', 'Spanish', 'Italian', 'English', 'Spanish', 'Arabic', 'Latin', 'Italian', 'English', 'Arabic', 'French', 'English', 'Spanish', 'American', 'English', 'Aboriginal', 'French', 'German', 'English', 'Latin', 'Thai', 'English', 'Mandarin', 'Vietnamese', 'German', 'Persian', 'English', 'French', 'English', 'Cantonese', 'Mandarin', 'Korean', 'Cantonese', 'German', 'Swiss German', 'French', 'German', 'Swahili', 'English', 'Spanish', 'Italian', 'Catalan', 'English', 'English', 'Japanese', 'Icelandic', 'English', 'Czech', 'German', 'Dutch', 'Slovak', 'Japanese', 'Icelandic', 'Russian', 'Spanish', 'Korean', 'English', 'Japanese', 'Korean', 'Russian', 'Mongolian', 'Zulu', 'Xhosa', 'Afrikaans', 'English', 'Panjabi', 'Norwegian', 'French', 'Georgian', 'German', 'Italian', 'Occitan', 'French', 'English', 'Japanese', 'Spanish', 'German', 'Swedish', 'Danish', 'English', 'English', 'German', 'Italian', 'Romanian', 'Spanish', 'Arabic', 'Georgian', 'Czech', 'German', 'French', 'English', 'Italian', 'Korean', 'English', 'Italian', 'Japanese', 'Yiddish', 'English', 'Italian', 'Mandarin', 'Cantonese', 'German', 'Czech', 'English', 'Spanish', 'Russian', 'German', 'Lingala', 'English', 'French', 'Latin', 'Spanish', 'English', 'Turkish', 'Greek', 'Mandarin', 'Dutch', 'German', 'English', 'Hebrew', 'English', 'Portuguese', 'Japanese', 'French', 'English', 'Spanish', 'Mandarin', 'Arabic', 'English', 'French', 'Hungarian', 'Finnish', 'Mandarin', 'Hindi', 'English', 'Cantonese', 'Korean', 'Cantonese', 'French', 'Mandarin', 'English', 'French', 'German', 'Romanian', 'English', 'French', 'English', 'Arabic', 'Spanish', 'Japanese', 'Berber', 'French', 'Russian', 'Japanese', 'English', 'Mende', 'Afrikaans', 'English', 'French', 'German', 'Swahili', 'Danish', 'Swedish', 'English', 'Hindi', 'Finnish', 'Russian', 'English', 'German', 'Swiss German', 'Spanish', 'Korean', 'English', 'Romanian', 'Latin', 'Thai', 'English', 'Japanese', 'Korean', 'French', 'Arabic', 'German', 'Italian', 'English', 'Sicilian', 'English', 'Urdu', 'English', 'German', 'Romanian', 'Italian', 'Maya', 'Hebrew', 'Arabic', 'English', 'German', 'Swiss German', 'Bosnian', 'English', 'Italian', 'Hebrew', 'German', 'Russian', 'Hebrew', 'Swiss German', 'English', 'English', 'Mandarin', 'Crow', 'Swedish', 'Danish', 'English', 'Japanese', 'German', 'Hokkien', 'English', 'Japanese', 'Mandarin', 'Italian', 'Ukrainian', 'English', 'Spanish', 'Arabic', 'Swedish', 'Italian', 'English', 'French', 'Flemish', 'French', 'Bambara', 'English', 'Hebrew', 'Korean', 'French', 'English', 'Tagalog', 'Filipino', 'Cantonese', 'Khmer', 'Thai', 'English', 'English', 'Cantonese', 'Hindi', 'Mandarin', 'Tagalog', 'Japanese', 'English', 'Spanish', 'Danish', 'English', 'Czech', 'Korean', 'French', 'Marathi', 'English', 'Russian', 'German', 'Belarusian', 'Cantonese', 'English', 'Thai', 'Mandarin', 'Filipino', 'Tagalog', 'Kirghiz', 'Polish', 'Italian', 'Thai', 'French', 'English', 'French', 'Japanese', 'Mandarin', 'Latin', 'English', 'French', 'Spanish', 'Russian', 'English', 'Spanish', 'Swedish', 'Dari', 'English', 'Pushto', 'Russian', 'Urdu', 'English', 'Xhosa', 'English', 'French', 'Arabic', 'Russian', 'Spanish', 'English', 'Old English', 'English', 'Serbo-Croatian', 'Croatian', 'Spanish', 'Arabic', 'French', 'English', 'German', 'Slovak', 'Russian', 'English', 'English', 'Russian', 'Serbo-Croatian', 'English', 'Dari', 'Russian', 'Urdu', 'Hebrew', 'Arabic', 'Russian', 'French', 'Swedish', 'Polish', 'English', 'Sanskrit', 'German', 'French', 'Italian', 'Russian', 'Romanian', 'Mandarin', 'Latin', 'Armenian', 'Egyptian (Ancient)', 'French', 'Arabic', 'Russian', 'French', 'Cantonese', 'English', 'Japanese', 'Italian', 'French', 'Yiddish', 'German', 'Hebrew', 'English', 'Japanese', 'Latin', 'English', 'Slovak', 'Italian', 'Czech', 'English', 'Mandarin', 'Japanese', 'Cantonese', 'German', 'English', 'Italian', 'English', 'Russian', 'Turkish', 'Ukrainian', 'Urdu', 'German', 'Polish', 'English', 'English', 'German', 'Cantonese', 'German', 'Hebrew', 'Yiddish', 'Norwegian', 'French', 'English', 'Vietnamese', 'French', 'English', 'French', 'Arabic', 'Spanish', 'Mandarin', 'Japanese', 'English', 'Hindi', 'Shanghainese', 'Cantonese', 'French', 'English', 'Persian', 'German', 'Dutch', 'Flemish', 'German', 'Russian', 'English', 'Hebrew', 'Swedish', 'English', 'Arabic', 'French', 'Latin', 'English', 'Hindi', 'German', 'Tibetan', 'English', 'Mandarin', 'Persian', 'English', 'French', 'Arabic', 'Romanian', 'Cantonese', 'English', 'Filipino', 'Afrikaans', 'Danish', 'Raeto-Romance', 'Swedish', 'German', 'English', 'Swiss German', 'Irish', 'Mandarin', 'English', 'French', 'Spanish', 'Danish', 'Finnish', 'Hebrew', 'Italian', 'Japanese', 'Portuguese', 'Russian', 'Yiddish', 'Mandarin', 'Hokkien', 'English', 'Cantonese', 'Hindi', 'Bhojpuri', 'Japanese', 'Korean', 'Cantonese', 'English', 'Vietnamese', 'Danish', 'Turkish', 'English', 'Chinese', 'English', 'Hindi', 'French', 'Norwegian', 'Urdu', 'Norwegian', 'German', 'English', 'Russian', 'Finnish', 'English', 'Spanish', 'Russian', 'German', 'Russian', 'Georgian', 'French', 'German', 'Latin', 'Portuguese', 'Mandarin', 'Japanese', 'French', 'Bambara', 'Spanish', 'English', 'Korean', 'Estonian', 'Spanish', 'Bable', 'English', 'Spanish', 'Korean', 'Russian', 'Icelandic', 'Spanish', 'Arabic', 'English', 'Hebrew', 'Russian', 'French', 'Danish', 'Maltese', 'English', 'English', 'Japanese', 'Spanish', 'Portuguese', 'Thai', 'English', 'French', 'Ukrainian', 'Russian', 'Hungarian', 'Japanese', 'Mandarin', 'Cantonese', 'Norwegian', 'German', 'Inupiaq', 'English', 'Japanese', 'Thai', 'English', 'English', 'Danish', 'Swedish', 'English', 'Persian', 'German', 'French', 'Hebrew', 'English', 'Yiddish', 'Min Nan', 'Mandarin', 'Hebrew', 'Arabic', 'German', 'English', 'English', 'Hmong', 'English', 'Lao', 'Thai', 'English', 'French', 'Armenian', 'Icelandic', 'Dutch', 'English', 'French', 'Yiddish', 'Portuguese', 'Turkish', 'English', 'Persian', 'Kurdish', 'German', 'Italian', 'English', 'Mandarin', 'Turkish', 'Georgian', 'English', 'Persian', 'Urdu', 'Arabic', 'English', 'Italian', 'Arabic', 'Latin', 'French', 'English', 'Russian', 'Czech', 'English', 'Norse', ' Old', 'Latin', 'English', 'Burmese', 'Thai', 'German', 'English', 'French', 'Swedish', 'English', 'Russian', 'German', 'Greek', 'English', 'Hawaiian', 'German', 'Japanese', 'English', 'Russian', 'Spanish', 'Chinese', 'French', 'French', 'English', 'Serbian', 'Portuguese', 'English', 'French', 'Cantonese', 'Gujarati', 'Yiddish', 'English', 'Hebrew', 'Arabic', 'Persian', 'Spanish', 'English', 'Spanish', 'Italian', 'French', 'Swiss German', 'German', 'English', 'French', 'Czech', 'Japanese', 'German', 'Swiss German', 'French', 'Italian', 'English', 'Mandarin', 'Sanskrit', 'English', 'Spanish', 'Chinese', 'Korean', 'Mandarin', 'Japanese', 'Japanese', 'French', 'Italian', 'Thai', 'English', 'French', 'German', 'English', 'Tagalog', 'Neapolitan', 'Italian', 'Mandarin', 'French', 'English', 'French', 'Albanian', 'Arabic', 'Flemish', 'Dutch', 'Swedish', 'English', 'Norwegian', 'Danish', 'Arabic', 'English', 'Maya', 'Spanish', 'Greek', 'German', 'English', 'German', 'Greek', 'Latin', 'French', 'English', 'Russian', 'Spanish', 'German', 'English', 'Yiddish', 'Hebrew', 'English', 'French', 'Swedish', 'English', 'Tagalog', 'Thai', 'English', 'French', 'Scottish Gaelic', 'English', 'Somali', 'French', 'Russian', 'English', 'Mandarin', 'Japanese', 'Cantonese', 'English', 'Min Nan', 'Hokkien', 'English', 'Japanese', 'Hindi', 'Mandarin', 'English', 'Japanese', 'German', 'Cantonese', 'Mandarin', 'German', 'Japanese', 'English', 'Ukrainian', 'French', 'Armenian', 'English', 'Spanish', 'Arabic', 'French', 'Japanese', 'English', 'Spanish', 'Russian', 'German', 'English', 'Nyanja', 'Afrikaans', 'Zulu', 'Xhosa', 'Southern Sotho', 'English', 'American', 'Estonian', 'German', 'Italian', 'Polish', 'German', 'Cantonese', 'French', 'English', 'Hebrew', 'Portuguese', 'English', 'French', 'Latin', 'Italian', 'German', 'Russian', 'Serbian', 'English', 'Japanese', 'Russian', 'Spanish', 'Japanese', 'English', 'Catalan', 'English', 'Vietnamese', 'German', 'English', 'French', 'Tibetan', 'Mandarin', 'Russian', 'Hindi', 'Portuguese', 'Latin', 'Italian', 'Cantonese', 'English', 'Hokkien', 'Spanish', 'Quechua', 'Swedish', 'Italian', 'French', 'English', 'Mandarin', 'Min Nan', 'French', 'Arabic', 'Corsican', 'English', 'Romanian', 'French', 'Spanish', 'Guarani', 'English', 'German', 'Mandarin', 'Norwegian', 'Saami', 'German', 'English', 'Danish', 'Thai', 'Hindi', 'Marathi', 'Bengali', 'English', 'Portuguese', 'Dutch', 'Albanian', 'English', 'Bulgarian', 'English', 'German', 'Italian', 'Dutch', 'French', 'Japanese', 'Saami', 'Norwegian', 'Norwegian', 'English', 'Spanish', 'English', 'Ukrainian', 'Italian', 'Spanish', 'French', 'Kurdish', 'English', 'Turkish', 'English', 'Dutch', 'Irish', 'German', 'English', 'Swedish', 'Mandarin', 'English', 'Cantonese', 'French', 'Greek', 'Albanian', 'German', 'Turkish', 'Norwegian', 'English', 'Cantonese', 'Mandarin', 'Swiss German', 'German', 'Korean', 'English', 'Italian', 'Russian', 'English', 'Indonesian', 'English', 'German', 'English', 'Khmer', 'Serbian', 'Portuguese', 'French', 'Japanese', 'Indonesian', 'Spanish', 'Italian', 'English', 'German', 'Japanese', 'French', 'English', 'Creole', 'Norwegian', 'English', 'Chinese', 'Turkish', 'English', 'German', 'English', 'Czech', 'Thai', 'German', 'Korean', 'English', 'French', 'English', 'Italian', 'Latin', 'French', 'Swiss German', 'German', 'Chinese', 'English', 'Hindi', 'Japanese', 'English', 'Italian', 'French', 'Danish', 'English', 'Scottish Gaelic', 'English', 'Mandarin', 'Japanese', 'German', 'Mandarin', 'Spanish', 'English', 'Ukrainian', 'Spanish', 'Chinese', 'Wolof', 'English', 'Zulu', 'Xhosa', 'Afrikaans', 'English', 'French', 'Mandarin', 'German', 'Korean', 'Mandarin', 'English', 'Spanish', 'Italian', 'Russian', 'Basque', 'Arabic', 'German', 'Latin', 'Italian', 'Serbian', 'English', 'Swedish', 'Min Nan', 'Mandarin', 'French', 'Swedish', 'Serbo-Croatian', 'Spanish', 'English', 'German', 'English', 'Ukrainian', 'Spanish', 'Danish', 'Swedish', 'English', 'Arabic', 'English', 'Urdu', 'Arabic', 'English', 'Arabic', 'Hebrew', 'Hindi', 'Urdu', 'French', 'Cantonese', 'Mandarin', 'English', 'Cantonese', 'Mandarin', 'Tagalog', 'English', 'Danish', 'Arabic', 'German', 'Estonian', 'French', 'Russian', 'French', 'Flemish', 'English', 'German', 'French', 'Flemish', 'Mandarin', 'Japanese', 'English', 'French', 'German', 'French', 'English', 'Spanish', 'Japanese', 'Arabic', 'Mandarin', 'Icelandic', 'English', 'German', 'Norwegian', 'English', 'Russian', 'French', 'Serbian', 'English', 'Spanish', 'German', 'Russian', 'German', 'French', 'Italian', 'Danish', 'Spanish', 'English', 'English', 'Scots', 'Latin', 'Greenlandic', 'Danish', 'German', 'English', 'Hindi', 'Ladakhi', 'French', 'English', 'Italian', 'German', 'Yiddish', 'Albanian', 'German', 'English', 'French', 'Esperanto', 'Greek', 'French', 'Portuguese', 'English', 'Thai', 'Japanese', 'Burmese', 'Korean', 'English', 'Italian', 'Japanese', 'German', 'French', 'Japanese', 'English', 'Italian', 'Mandarin', 'Japanese', 'English', 'English', 'Spanish', 'French', 'Swahili', 'German', 'English', 'Russian', 'Korean', 'English', 'Spanish', 'Hungarian', 'Romanian', 'English', 'Hungarian', 'Spanish', 'German', 'English', 'Welsh', 'Italian', 'Latin', 'Russian', 'Hungarian', 'English', 'Russian', 'Italian', 'Mandarin', 'French', 'English', 'Russian', 'French', 'Arabic', 'Swedish', 'English', 'Hungarian', 'Latin', 'Danish', 'German', 'Indonesian', 'English', 'German', 'Polish', 'Russian', 'English', 'English', 'German', 'French', 'Spanish', 'Russian', 'Hungarian', 'German', 'English', 'uncategorised', 'French', 'English', 'Thai', 'Serbian', 'English', 'Spanish', 'Flemish', 'German', 'French', 'English', 'Thai', 'Japanese', 'Spanish', 'Bengali', 'English', 'Russian', 'Hungarian', 'French', 'Swedish', 'German', 'Hebrew', 'English', 'Mandarin', 'English', 'Japanese', 'Shanghainese', 'English', 'Arabic', 'French', 'Spanish', 'Italian', 'German', 'Latin', 'English', 'Spanish', 'Polish', 'French', 'English', 'French', 'Italian', 'Greek', ' Ancient (to 1453)', 'French', 'English', 'Khmer', 'French', 'Ukrainian', 'Russian', 'German', 'Finnish', 'English', 'Arabic', 'Acholi', 'Norwegian', 'Swedish', 'English', 'English', 'Portuguese', 'Spanish', 'Italian', 'Norwegian', 'English', 'Danish', 'English', 'French', 'Spanish', 'German', 'Korean', 'German', 'Japanese', 'Mandarin', 'Russian', 'English', 'Norwegian', 'Danish', 'Russian', 'English', 'French', 'German', 'Danish', 'Dutch', 'German', 'French', 'English', 'Hindi', 'English', 'Urdu', 'Russian', 'English', 'Mandarin', 'Swiss German', 'Cantonese', 'Russian', 'English', 'Hindi', 'Malayalam', 'Norwegian', 'English', 'German', 'English', 'German', 'Arabic', 'French', 'Portuguese', 'Russian', 'Slovak', 'Persian', 'English', 'French', 'English', 'Italian', 'Japanese', 'German', 'Spanish', 'Indonesian', 'Balinese', 'Portuguese', 'Ukrainian', 'Vietnamese', 'Creole', 'Catalan', 'Dutch', 'Bengali', 'Masai', 'Hindi', 'Arabic', 'Quechua', 'Russian', 'Icelandic', 'English', 'Serbian', 'Russian', 'English', 'Georgian', 'Spanish', 'French', 'German', 'Spanish', 'Spanish', 'Mandarin', 'German', 'Danish', 'Chinese', 'French', 'German', 'English', 'Flemish', 'Japanese', 'German', 'English', 'Polish', 'Russian', 'French', 'Spanish', 'English', 'English', 'Syriac', 'Arabic', 'Russian', 'English', 'German', 'English', 'Chinese', 'Turkish', 'Polish', 'English', 'Burmese', 'Flemish', 'French', 'German', 'French', 'Dutch', 'Japanese', 'Portuguese', 'English', 'French', 'Finnish', 'Czech', 'German', 'English', 'Polish', 'Hungarian', 'Greek', 'English', 'Italian', 'Romanian', 'German', 'English', 'Dari', 'Greek', 'English', 'Spanish', 'French', 'German', 'French', 'English', 'Romanian', 'Hebrew', 'English', 'French', 'Swedish', 'English', 'Estonian', 'Portuguese', 'English', 'French', 'Spanish', 'Aboriginal', 'Japanese', 'Hokkien', 'Malay', 'English', 'Norwegian', 'French', 'English', 'Norwegian', 'Danish', 'English', 'French', 'German', 'Italian', 'Arabic', 'Spanish', 'English', 'Persian', 'English', 'Russian', 'Filipino', 'Danish', 'English', 'German', 'French', 'English', 'Turkish', 'Arabic', 'German', 'English', 'Swahili', 'English', 'Mandarin', 'French', 'Spanish', 'Russian', 'English', 'Italian', 'Polish', 'English', 'French', 'Spanish', 'Italian', 'uncategorised', 'Russian', 'English', 'German', 'Japanese', 'Serbian', 'English', 'Afrikaans', 'Spanish', 'Norwegian', 'English', 'French', 'Swedish', 'English', 'Thai', 'Swedish', 'Spanish', 'Catalan', 'French', 'German', 'French', 'English', 'Hebrew', 'Latin', 'Kurdish', 'Catalan', 'Spanish', 'German', 'English', 'Turkish', 'Arabic', 'Russian', 'Latvian', 'German', 'Norwegian', 'English', 'Russian', 'Danish', 'Finnish', 'English', 'Russian', 'Swedish', 'Spanish', 'English', 'Serbian', 'Hindi', 'Bengali', 'English', 'Danish', 'Italian', 'German', 'Vietnamese', 'English', 'Norwegian', 'German', 'Italian', 'English', 'French', 'English', 'Portuguese', 'French', 'Breton', 'Portuguese', 'English', 'French', 'Italian', 'German', 'French', 'English', 'Spanish', 'Turkish', 'German', 'English', 'English', 'Spanish', 'Japanese', 'German', 'French', 'Korean', 'French', 'English', 'Russian', 'Swahili', 'Danish', 'Flemish', 'English', 'English', 'Cantonese', 'Arabic', 'Mandarin', 'Malay', 'French', 'English', 'Chinese', 'Swedish', 'Serbo-Croatian', 'Serbian', 'German', 'Russian', 'French', 'Danish', 'English', 'Polish', 'Korean', 'English', 'Tagalog', 'Mandarin', 'English', 'Japanese', 'Portuguese', 'English', 'Polish', 'German', 'Norwegian', 'English', 'Hungarian', 'English', 'Romany', 'Greek', 'Russian', 'English', 'German', 'English', 'Russian', 'Turkish', 'Lithuanian', 'English', 'French', 'Danish', 'Swedish', 'English', 'Japanese', 'Somali', 'Swedish', 'Spanish', 'English', 'French', 'Danish', 'Arabic', 'French', 'English', 'Spanish', 'Japanese', 'German', 'French', 'Turkish', 'English', 'Tamil', 'French', 'Japanese', 'Hindi', 'Chinese', 'Arabic', 'Hebrew', 'English', 'North American Indian', 'English', 'German', 'Arabic', 'Urdu', 'English', 'Greenlandic', 'Mandarin', 'Cantonese', 'Japanese', 'English', 'Spanish', 'French', 'Afrikaans', 'English', 'Russian', 'Hindi', 'Polish', 'Yiddish', 'Hebrew', 'German', 'English', 'Japanese', 'Cantonese', 'Mandarin', 'English', 'Korean', 'Japanese', 'French', 'English', 'French', 'Arabic', 'Turkish', 'English', 'Sanskrit', 'Polish', 'Russian', 'Ukrainian', 'German', 'English', 'Icelandic', 'Swahili', 'Arabic', 'English', 'Polish', 'Cantonese', 'Italian', 'English', 'Russian', 'Spanish', 'Indonesian', 'English', 'Spanish', 'Latin', 'English', 'French', 'German', 'Spanish', 'English', 'French', 'Spanish', 'Chinese', 'Yiddish', 'English', 'Polish', 'Latin', 'English', 'German', 'Italian', 'French', 'Japanese', 'German', 'Italian', 'French', 'French', 'German', 'Occitan', 'English', 'French', 'Albanian', 'Spanish', 'Hungarian', 'Swedish', 'German', 'English', 'Spanish', 'French', 'Russian', 'Hindi', 'English', 'French', 'French', 'Albanian', 'Greek', 'English', 'Greek', 'French', 'Swedish', 'Norwegian', 'English', 'German', 'English', 'Tagalog', 'Cantonese', 'Mandarin', 'Spanish', 'Chinese', 'Mandarin', 'English', 'Icelandic', 'Hebrew', 'Arabic', 'Italian', 'Japanese', 'Spanish', 'Chinese', 'Spanish', 'English', 'French', 'French', 'Persian', 'English', 'Spanish', 'Bulgarian', 'German', 'English', 'Hebrew', 'Danish', 'Swedish', 'Arabic', 'Dutch', 'Arabic', 'French', 'Turkish', 'English', 'English', 'Pushto', 'Somali', 'Dari', 'Arabic', 'English', 'Zulu', 'Afrikaans', 'Southern Sotho', 'Inuktitut', 'English', 'Filipino', 'Tagalog', 'English', 'French', 'Danish', 'Flemish', 'French', 'Chinese', 'English', 'Slovenian', 'Danish', 'English', 'Spanish', 'German', 'Italian', 'Icelandic', 'Swedish', 'English', 'Min Nan', 'English', 'Spanish', 'Hebrew', 'Arabic', 'English', 'German', 'Russian', 'French', 'Flemish', 'French', 'English', 'Russian', 'Chechen', 'Portuguese', 'German', 'English', 'Arabic', 'Turkish', 'Kurdish', 'Spanish', 'Indonesian', 'Japanese', 'English', 'Arabic', 'English', 'Indonesian', 'Japanese', 'Cantonese', 'Chinese', 'French', 'English', 'Russian', 'Arabic', 'Japanese', 'Thai', 'English', 'German', 'English', 'French', 'Hindi', 'German', 'English', 'Pushto', 'Dari', 'Hebrew', 'French', 'Arabic', 'Greek', 'Albanian', 'English', 'Chinese', 'Russian', 'Czech', 'Bulgarian', 'Japanese', 'German', 'Spanish', 'English', 'Chinese', 'Arabic', 'Maori', 'German', 'French', 'Latin', 'German', 'Hungarian', 'Hebrew', 'English', 'Yiddish', 'Estonian', 'Russian', 'Telugu', 'Tamil', 'Hindi', 'Chinese', 'English', 'Spanish', 'English', 'Icelandic', 'Portuguese', 'Hebrew', 'English', 'Persian']\n"
     ]
    }
   ],
   "source": [
    "#to find out the out the country names so we can tailor the language-continent dataframe\n",
    "production_countries = []\n",
    "for prod_country in df.production_region.unique():\n",
    "    sign_languages = prod_country.replace ('Sign Languages', 'uncategorised')\n",
    "    sign_language = sign_languages.replace (' Sign Language', '')\n",
    "    language = sign_language.replace(' languages', '')\n",
    "    each_country = language.split(', ')\n",
    "    production_countries = production_countries + each_country\n",
    "print('Number of countries mentioned in the Dataset: ', len(production_countries))\n",
    "print(production_countries)    \n",
    "\n"
   ]
  },
  {
   "cell_type": "code",
   "execution_count": 15,
   "metadata": {},
   "outputs": [
    {
     "name": "stdout",
     "output_type": "stream",
     "text": [
      "167\n",
      "['French', 'English', 'Swedish', 'German', 'Slovak', 'Danish', 'Russian', 'Polish', 'Spanish', 'Arabic', 'Italian', 'Hungarian', 'Latin', 'Portuguese', 'Cantonese', 'Polynesian', 'Czech', 'Mandarin', 'Hebrew', 'Esperanto', 'Welsh', 'Serbian', 'Indonesian', 'Greek', 'Croatian', 'Nahuatl', 'Swahili', 'Japanese', 'Hindi', 'Swiss German', 'Athapascan', 'Romanian', 'Georgian', 'Navajo', 'Thai', 'American', 'Chinese', 'Dutch', 'Turkish', 'Arapaho', 'Romany', 'Bulgarian', 'Zulu', 'Ukrainian', 'Norwegian', 'Malay', 'Tatar', 'Urdu', 'Mongolian', 'Vietnamese', 'Estonian', 'Korean', 'Sioux', 'Neapolitan', 'Yiddish', 'Serbo-Croatian', 'Apache', 'Burmese', 'Creoles and pidgins', ' Ancient (to 1453)', 'Irish', 'Sicilian', 'Icelandic', 'Brazilian', 'Aboriginal', 'Armenian', 'Lithuanian', 'Maltese', 'Khmer', 'Klingon', 'Nepali', 'Filipino', 'Kurdish', 'Finnish', 'Sinhalese', 'Persian', 'Belarusian', 'Guarani', 'Dari', 'Pushto', 'Saami', 'Scanian', 'Bambara', 'Fulah', 'Azerbaijani', 'Hakka', 'Afrikaans', 'Ungwatsi', 'Shanghainese', 'Tagalog', 'Faroese', 'Lao', 'Occitan', 'Pawnee', 'Mohawk', 'More', 'Hokkien', 'Aymara', 'Quechua', 'British', 'Xhosa', 'Inuktitut', 'Scottish Gaelic', 'Cree', 'Algonquin', 'Chechen', 'Bosnian', 'Mende', 'Tibetan', 'Albanian', 'Min Nan', 'Syriac', 'Assyrian Neo-Aramaic', 'Tok Pisin', 'Tamil', 'Egyptian (Ancient)', 'Papiamento', 'Aramaic', 'Catalan', 'Luxembourgish', 'Hawaiian', 'Berber', 'Sindarin', 'Ladakhi', 'Gallegan', 'Somali', 'Wolof', 'Old English', 'Bengali', 'Panjabi', 'Maori', 'Slovenian', 'Quenya', 'Amharic', 'Mapudungun', 'Corsican', 'Kazakh', 'Lingala', 'Maya', 'Crow', 'Flemish', 'Marathi', 'Kirghiz', 'Sanskrit', 'Raeto-Romance', 'Bhojpuri', 'Bable', 'Inupiaq', 'Hmong', 'Norse', ' Old', 'Gujarati', 'Nyanja', 'Southern Sotho', 'Creole', 'Basque', 'Scots', 'Greenlandic', 'uncategorised', 'Acholi', 'Malayalam', 'Balinese', 'Masai', 'Latvian', 'Breton', 'North American Indian', 'Telugu']\n"
     ]
    }
   ],
   "source": [
    "a = []\n",
    "for y in production_countries:\n",
    "    if y not in a:\n",
    "        a.append(y)\n",
    "print(len(a))\n",
    "print(a)\n"
   ]
  },
  {
   "cell_type": "code",
   "execution_count": 16,
   "metadata": {},
   "outputs": [
    {
     "name": "stdout",
     "output_type": "stream",
     "text": [
      "4082\n"
     ]
    },
    {
     "data": {
      "text/plain": [
       "Counter({'French': 409,\n",
       "         'English': 890,\n",
       "         'Swedish': 75,\n",
       "         'German': 363,\n",
       "         'Slovak': 12,\n",
       "         'Danish': 64,\n",
       "         'Russian': 183,\n",
       "         'Polish': 51,\n",
       "         'Spanish': 229,\n",
       "         'Arabic': 99,\n",
       "         'Italian': 197,\n",
       "         'Hungarian': 33,\n",
       "         'Latin': 70,\n",
       "         'Portuguese': 50,\n",
       "         'Cantonese': 94,\n",
       "         'Polynesian': 1,\n",
       "         'Czech': 28,\n",
       "         'Mandarin': 118,\n",
       "         'Hebrew': 53,\n",
       "         'Esperanto': 3,\n",
       "         'Welsh': 3,\n",
       "         'Serbian': 25,\n",
       "         'Indonesian': 11,\n",
       "         'Greek': 44,\n",
       "         'Croatian': 7,\n",
       "         'Nahuatl': 1,\n",
       "         'Swahili': 12,\n",
       "         'Japanese': 136,\n",
       "         'Hindi': 34,\n",
       "         'Swiss German': 16,\n",
       "         'Athapascan': 1,\n",
       "         'Romanian': 20,\n",
       "         'Georgian': 13,\n",
       "         'Navajo': 2,\n",
       "         'Thai': 32,\n",
       "         'American': 5,\n",
       "         'Chinese': 26,\n",
       "         'Dutch': 37,\n",
       "         'Turkish': 39,\n",
       "         'Arapaho': 1,\n",
       "         'Romany': 3,\n",
       "         'Bulgarian': 10,\n",
       "         'Zulu': 6,\n",
       "         'Ukrainian': 16,\n",
       "         'Norwegian': 38,\n",
       "         'Malay': 4,\n",
       "         'Tatar': 1,\n",
       "         'Urdu': 15,\n",
       "         'Mongolian': 2,\n",
       "         'Vietnamese': 19,\n",
       "         'Estonian': 6,\n",
       "         'Korean': 44,\n",
       "         'Sioux': 6,\n",
       "         'Neapolitan': 3,\n",
       "         'Yiddish': 22,\n",
       "         'Serbo-Croatian': 15,\n",
       "         'Apache': 2,\n",
       "         'Burmese': 4,\n",
       "         'Creoles and pidgins': 1,\n",
       "         ' Ancient (to 1453)': 3,\n",
       "         'Irish': 9,\n",
       "         'Sicilian': 3,\n",
       "         'Icelandic': 21,\n",
       "         'Brazilian': 1,\n",
       "         'Aboriginal': 5,\n",
       "         'Armenian': 5,\n",
       "         'Lithuanian': 5,\n",
       "         'Maltese': 2,\n",
       "         'Khmer': 7,\n",
       "         'Klingon': 4,\n",
       "         'Nepali': 1,\n",
       "         'Filipino': 8,\n",
       "         'Kurdish': 7,\n",
       "         'Finnish': 21,\n",
       "         'Sinhalese': 1,\n",
       "         'Persian': 21,\n",
       "         'Belarusian': 2,\n",
       "         'Guarani': 2,\n",
       "         'Dari': 7,\n",
       "         'Pushto': 6,\n",
       "         'Saami': 5,\n",
       "         'Scanian': 1,\n",
       "         'Bambara': 5,\n",
       "         'Fulah': 1,\n",
       "         'Azerbaijani': 1,\n",
       "         'Hakka': 2,\n",
       "         'Afrikaans': 12,\n",
       "         'Ungwatsi': 1,\n",
       "         'Shanghainese': 4,\n",
       "         'Tagalog': 13,\n",
       "         'Faroese': 2,\n",
       "         'Lao': 2,\n",
       "         'Occitan': 3,\n",
       "         'Pawnee': 1,\n",
       "         'Mohawk': 1,\n",
       "         'More': 1,\n",
       "         'Hokkien': 8,\n",
       "         'Aymara': 1,\n",
       "         'Quechua': 4,\n",
       "         'British': 1,\n",
       "         'Xhosa': 5,\n",
       "         'Inuktitut': 3,\n",
       "         'Scottish Gaelic': 4,\n",
       "         'Cree': 1,\n",
       "         'Algonquin': 1,\n",
       "         'Chechen': 4,\n",
       "         'Bosnian': 3,\n",
       "         'Mende': 2,\n",
       "         'Tibetan': 8,\n",
       "         'Albanian': 11,\n",
       "         'Min Nan': 9,\n",
       "         'Syriac': 3,\n",
       "         'Assyrian Neo-Aramaic': 2,\n",
       "         'Tok Pisin': 1,\n",
       "         'Tamil': 3,\n",
       "         'Egyptian (Ancient)': 2,\n",
       "         'Papiamento': 1,\n",
       "         'Aramaic': 3,\n",
       "         'Catalan': 11,\n",
       "         'Luxembourgish': 1,\n",
       "         'Hawaiian': 3,\n",
       "         'Berber': 2,\n",
       "         'Sindarin': 3,\n",
       "         'Ladakhi': 2,\n",
       "         'Gallegan': 2,\n",
       "         'Somali': 5,\n",
       "         'Wolof': 2,\n",
       "         'Old English': 3,\n",
       "         'Bengali': 5,\n",
       "         'Panjabi': 4,\n",
       "         'Maori': 2,\n",
       "         'Slovenian': 3,\n",
       "         'Quenya': 1,\n",
       "         'Amharic': 1,\n",
       "         'Mapudungun': 1,\n",
       "         'Corsican': 2,\n",
       "         'Kazakh': 1,\n",
       "         'Lingala': 1,\n",
       "         'Maya': 2,\n",
       "         'Crow': 1,\n",
       "         'Flemish': 11,\n",
       "         'Marathi': 2,\n",
       "         'Kirghiz': 1,\n",
       "         'Sanskrit': 3,\n",
       "         'Raeto-Romance': 1,\n",
       "         'Bhojpuri': 1,\n",
       "         'Bable': 1,\n",
       "         'Inupiaq': 1,\n",
       "         'Hmong': 1,\n",
       "         'Norse': 1,\n",
       "         ' Old': 1,\n",
       "         'Gujarati': 1,\n",
       "         'Nyanja': 1,\n",
       "         'Southern Sotho': 2,\n",
       "         'Creole': 2,\n",
       "         'Basque': 1,\n",
       "         'Scots': 1,\n",
       "         'Greenlandic': 2,\n",
       "         'uncategorised': 2,\n",
       "         'Acholi': 1,\n",
       "         'Malayalam': 1,\n",
       "         'Balinese': 1,\n",
       "         'Masai': 1,\n",
       "         'Latvian': 1,\n",
       "         'Breton': 1,\n",
       "         'North American Indian': 1,\n",
       "         'Telugu': 1})"
      ]
     },
     "execution_count": 16,
     "metadata": {},
     "output_type": "execute_result"
    }
   ],
   "source": [
    "from collections import Counter\n",
    "print(len(production_countries))\n",
    "g = Counter(production_countries)\n",
    "g"
   ]
  },
  {
   "cell_type": "markdown",
   "metadata": {},
   "source": [
    "## Country to Continent conversion"
   ]
  },
  {
   "cell_type": "markdown",
   "metadata": {},
   "source": [
    "**Importing the list of continent**"
   ]
  },
  {
   "cell_type": "code",
   "execution_count": 17,
   "metadata": {},
   "outputs": [
    {
     "data": {
      "text/html": [
       "<div>\n",
       "<style scoped>\n",
       "    .dataframe tbody tr th:only-of-type {\n",
       "        vertical-align: middle;\n",
       "    }\n",
       "\n",
       "    .dataframe tbody tr th {\n",
       "        vertical-align: top;\n",
       "    }\n",
       "\n",
       "    .dataframe thead th {\n",
       "        text-align: right;\n",
       "    }\n",
       "</style>\n",
       "<table border=\"1\" class=\"dataframe\">\n",
       "  <thead>\n",
       "    <tr style=\"text-align: right;\">\n",
       "      <th></th>\n",
       "      <th>north_america</th>\n",
       "      <th>south_america</th>\n",
       "      <th>europe</th>\n",
       "      <th>africa</th>\n",
       "      <th>asia</th>\n",
       "      <th>australia</th>\n",
       "      <th>antartica</th>\n",
       "      <th>uncategorised</th>\n",
       "    </tr>\n",
       "  </thead>\n",
       "  <tbody>\n",
       "    <tr>\n",
       "      <th>0</th>\n",
       "      <td>English</td>\n",
       "      <td>Nahuatl</td>\n",
       "      <td>French</td>\n",
       "      <td>Swahili</td>\n",
       "      <td>Russian</td>\n",
       "      <td>Aboriginal</td>\n",
       "      <td>NaN</td>\n",
       "      <td>Latin</td>\n",
       "    </tr>\n",
       "    <tr>\n",
       "      <th>1</th>\n",
       "      <td>Athapascan</td>\n",
       "      <td>Brazilian</td>\n",
       "      <td>Swedish</td>\n",
       "      <td>Zulu</td>\n",
       "      <td>Arabic</td>\n",
       "      <td>Maori</td>\n",
       "      <td>NaN</td>\n",
       "      <td>Portuguese</td>\n",
       "    </tr>\n",
       "    <tr>\n",
       "      <th>2</th>\n",
       "      <td>American</td>\n",
       "      <td>Guarani</td>\n",
       "      <td>German</td>\n",
       "      <td>Bambara</td>\n",
       "      <td>Cantonese</td>\n",
       "      <td>NaN</td>\n",
       "      <td>NaN</td>\n",
       "      <td>Esperanto</td>\n",
       "    </tr>\n",
       "    <tr>\n",
       "      <th>3</th>\n",
       "      <td>Sioux</td>\n",
       "      <td>Aymara</td>\n",
       "      <td>Slovak</td>\n",
       "      <td>Fulah</td>\n",
       "      <td>Polynesian</td>\n",
       "      <td>NaN</td>\n",
       "      <td>NaN</td>\n",
       "      <td>Georgian</td>\n",
       "    </tr>\n",
       "    <tr>\n",
       "      <th>4</th>\n",
       "      <td>Apache</td>\n",
       "      <td>Quechua</td>\n",
       "      <td>Danish</td>\n",
       "      <td>Afrikaans</td>\n",
       "      <td>Mandarin</td>\n",
       "      <td>NaN</td>\n",
       "      <td>NaN</td>\n",
       "      <td>Navajo</td>\n",
       "    </tr>\n",
       "  </tbody>\n",
       "</table>\n",
       "</div>"
      ],
      "text/plain": [
       "  north_america south_america   europe     africa        asia   australia  \\\n",
       "0       English       Nahuatl   French    Swahili     Russian  Aboriginal   \n",
       "1    Athapascan     Brazilian  Swedish       Zulu      Arabic       Maori   \n",
       "2      American       Guarani   German    Bambara   Cantonese         NaN   \n",
       "3         Sioux        Aymara   Slovak      Fulah  Polynesian         NaN   \n",
       "4        Apache       Quechua   Danish  Afrikaans    Mandarin         NaN   \n",
       "\n",
       "   antartica uncategorised  \n",
       "0        NaN         Latin  \n",
       "1        NaN    Portuguese  \n",
       "2        NaN     Esperanto  \n",
       "3        NaN      Georgian  \n",
       "4        NaN        Navajo  "
      ]
     },
     "execution_count": 17,
     "metadata": {},
     "output_type": "execute_result"
    }
   ],
   "source": [
    "continent = pd.read_csv('../dataset/continent_languages.csv')\n",
    "continent.head()"
   ]
  },
  {
   "cell_type": "markdown",
   "metadata": {},
   "source": [
    "## Main Region to Main Continent ##"
   ]
  },
  {
   "cell_type": "code",
   "execution_count": 18,
   "metadata": {},
   "outputs": [],
   "source": [
    "df['main_continent'] = df.main_country\n",
    "\n",
    "def conti(continent):\n",
    "    na = []\n",
    "    for land in continent:\n",
    "        na.append(land)\n",
    "    return na\n",
    "\n",
    "north_america = conti(continent.north_america)\n",
    "south_america = conti(continent.south_america)\n",
    "europe = conti(continent.europe)\n",
    "africa = conti(continent.africa)\n",
    "asia = conti(continent.asia)\n",
    "australia = conti(continent.australia)\n",
    "antartica = conti(continent.antartica)\n",
    "uncategorised = conti(continent.uncategorised)\n",
    "\n",
    "c = []\n",
    "for x in df.main_country:\n",
    "    if x in north_america:\n",
    "        c.append('North America')   \n",
    "    elif x in south_america:\n",
    "        c.append('South America')\n",
    "    elif x in europe:\n",
    "        c.append('Europe')\n",
    "    elif x in africa:\n",
    "        c.append('Africa')\n",
    "    elif x in asia:\n",
    "        c.append('Asia')\n",
    "    elif x in australia:\n",
    "        c.append('Australia')\n",
    "    elif x in antartica:\n",
    "        c.append('Antartica')\n",
    "    elif x in uncategorised:\n",
    "        c.append('Uncategorised')\n",
    "    else: \n",
    "        c.append('Fehlerhaft')\n",
    "    \n",
    "df.main_continent = c"
   ]
  },
  {
   "cell_type": "markdown",
   "metadata": {},
   "source": [
    "## Main Continent Plot ##"
   ]
  },
  {
   "cell_type": "code",
   "execution_count": 19,
   "metadata": {},
   "outputs": [
    {
     "name": "stdout",
     "output_type": "stream",
     "text": [
      "There are 7 main continents where the Movies are produced\n"
     ]
    },
    {
     "data": {
      "text/plain": [
       "[('North America', 6864),\n",
       " ('Europe', 3335),\n",
       " ('Asia', 1307),\n",
       " ('Uncategorised', 40),\n",
       " ('Africa', 6),\n",
       " ('Australia', 4),\n",
       " ('South America', 1)]"
      ]
     },
     "execution_count": 19,
     "metadata": {},
     "output_type": "execute_result"
    }
   ],
   "source": [
    "from collections import Counter\n",
    "main_continent_frequs = Counter(df.main_continent)\n",
    "print('There are', len(main_continent_frequs), 'main continents where the Movies are produced')\n",
    "main_continent_frequs.most_common()"
   ]
  },
  {
   "cell_type": "code",
   "execution_count": 26,
   "metadata": {},
   "outputs": [
    {
     "data": {
      "text/plain": [
       "North America    6864\n",
       "Europe           3335\n",
       "Asia             1307\n",
       "Uncategorised      40\n",
       "Africa              6\n",
       "Australia           4\n",
       "South America       1\n",
       "Name: main_continent, dtype: int64"
      ]
     },
     "execution_count": 26,
     "metadata": {},
     "output_type": "execute_result"
    },
    {
     "data": {
      "image/png": "[encoded data removed]",
      "text/plain": [
       "<Figure size 432x288 with 1 Axes>"
      ]
     },
     "metadata": {
      "needs_background": "light"
     },
     "output_type": "display_data"
    }
   ],
   "source": [
    "pd.value_counts(df['main_continent']).plot.bar()\n",
    "pd.value_counts(df.main_continent)"
   ]
  },
  {
   "cell_type": "markdown",
   "metadata": {},
   "source": [
    "## K-Means"
   ]
  },
  {
   "cell_type": "code",
   "execution_count": null,
   "metadata": {},
   "outputs": [],
   "source": []
  },
  {
   "cell_type": "markdown",
   "metadata": {},
   "source": [
    "**Convert the countries to be continent**"
   ]
  },
  {
   "cell_type": "markdown",
   "metadata": {},
   "source": [
    "df['production_continent'] = df.production_region\n",
    "production_continent =  df.production_continent\n",
    "\n",
    "#north_america = [continent.north_america]\n",
    "#south_america = [continent.south_america]\n",
    "#europe = [continent.europe]\n",
    "#africa = [continent.africa]\n",
    "#asia = [continent.asia]\n",
    "#australia = [continent.australia]\n",
    "#antartica = [continent.antartica]\n",
    "#uncategorised = [continent.uncategorised]\n",
    "\n",
    "north_america = continent['north_america']\n",
    "continent1 = production_continent.replace([north_america],'North America')\n",
    "\n",
    "europe = continent['europe']\n",
    "continent2 = continent1.replace([europe],'Europe')\n",
    "\n",
    "df['production_continent'] = continent2\n",
    "\n",
    "df[:1704]"
   ]
  },
  {
   "cell_type": "markdown",
   "metadata": {},
   "source": [
    "# Production Country to Production Continent"
   ]
  },
  {
   "cell_type": "code",
   "execution_count": 21,
   "metadata": {},
   "outputs": [
    {
     "data": {
      "text/html": [
       "<div>\n",
       "<style scoped>\n",
       "    .dataframe tbody tr th:only-of-type {\n",
       "        vertical-align: middle;\n",
       "    }\n",
       "\n",
       "    .dataframe tbody tr th {\n",
       "        vertical-align: top;\n",
       "    }\n",
       "\n",
       "    .dataframe thead th {\n",
       "        text-align: right;\n",
       "    }\n",
       "</style>\n",
       "<table border=\"1\" class=\"dataframe\">\n",
       "  <thead>\n",
       "    <tr style=\"text-align: right;\">\n",
       "      <th></th>\n",
       "      <th>filename</th>\n",
       "      <th>text</th>\n",
       "      <th>IMDB_ID</th>\n",
       "      <th>genre</th>\n",
       "      <th>year</th>\n",
       "      <th>production_region</th>\n",
       "      <th>corpus</th>\n",
       "      <th>duration</th>\n",
       "      <th>directors</th>\n",
       "      <th>writers</th>\n",
       "      <th>...</th>\n",
       "      <th>originalTitle</th>\n",
       "      <th>isAdult</th>\n",
       "      <th>startYear</th>\n",
       "      <th>endYear</th>\n",
       "      <th>runtimeMinutes</th>\n",
       "      <th>averageRating</th>\n",
       "      <th>numVotes</th>\n",
       "      <th>main_country</th>\n",
       "      <th>main_continent</th>\n",
       "      <th>production_country</th>\n",
       "    </tr>\n",
       "  </thead>\n",
       "  <tbody>\n",
       "    <tr>\n",
       "      <th>109</th>\n",
       "      <td>3653850.xml</td>\n",
       "      <td>[ Subtitles by Subturtles ] Du sollst nach Hau...</td>\n",
       "      <td>tt1175</td>\n",
       "      <td>Drama,Romance</td>\n",
       "      <td>1912.0</td>\n",
       "      <td>French</td>\n",
       "      <td>untokenisiert</td>\n",
       "      <td>NaN</td>\n",
       "      <td>NaN</td>\n",
       "      <td>NaN</td>\n",
       "      <td>...</td>\n",
       "      <td>NaN</td>\n",
       "      <td>NaN</td>\n",
       "      <td>NaN</td>\n",
       "      <td>NaN</td>\n",
       "      <td>NaN</td>\n",
       "      <td>NaN</td>\n",
       "      <td>NaN</td>\n",
       "      <td>French</td>\n",
       "      <td>Europe</td>\n",
       "      <td>French</td>\n",
       "    </tr>\n",
       "    <tr>\n",
       "      <th>110</th>\n",
       "      <td>6581015.xml</td>\n",
       "      <td>HINTER DER LEIWAND Die Anwendung für die Arbei...</td>\n",
       "      <td>tt6414</td>\n",
       "      <td>Comedy,Romance,Short</td>\n",
       "      <td>1916.0</td>\n",
       "      <td>English</td>\n",
       "      <td>untokenisiert</td>\n",
       "      <td>30</td>\n",
       "      <td>NaN</td>\n",
       "      <td>NaN</td>\n",
       "      <td>...</td>\n",
       "      <td>NaN</td>\n",
       "      <td>NaN</td>\n",
       "      <td>NaN</td>\n",
       "      <td>NaN</td>\n",
       "      <td>NaN</td>\n",
       "      <td>NaN</td>\n",
       "      <td>NaN</td>\n",
       "      <td>English</td>\n",
       "      <td>North America</td>\n",
       "      <td>English</td>\n",
       "    </tr>\n",
       "    <tr>\n",
       "      <th>111</th>\n",
       "      <td>6564964.xml</td>\n",
       "      <td>DER GRAF Maße : Hals 30 cm - Ohr - 4 cm Mounth...</td>\n",
       "      <td>tt6548</td>\n",
       "      <td>Comedy,Short</td>\n",
       "      <td>1916.0</td>\n",
       "      <td>English</td>\n",
       "      <td>untokenisiert</td>\n",
       "      <td>24</td>\n",
       "      <td>NaN</td>\n",
       "      <td>NaN</td>\n",
       "      <td>...</td>\n",
       "      <td>NaN</td>\n",
       "      <td>NaN</td>\n",
       "      <td>NaN</td>\n",
       "      <td>NaN</td>\n",
       "      <td>NaN</td>\n",
       "      <td>NaN</td>\n",
       "      <td>NaN</td>\n",
       "      <td>English</td>\n",
       "      <td>North America</td>\n",
       "      <td>English</td>\n",
       "    </tr>\n",
       "    <tr>\n",
       "      <th>113</th>\n",
       "      <td>6412883.xml</td>\n",
       "      <td>Chaplin bei der Feuerwehr \" Lass doch das Haus...</td>\n",
       "      <td>tt6684</td>\n",
       "      <td>Comedy,Short</td>\n",
       "      <td>1916.0</td>\n",
       "      <td>English</td>\n",
       "      <td>untokenisiert</td>\n",
       "      <td>24</td>\n",
       "      <td>NaN</td>\n",
       "      <td>NaN</td>\n",
       "      <td>...</td>\n",
       "      <td>NaN</td>\n",
       "      <td>NaN</td>\n",
       "      <td>NaN</td>\n",
       "      <td>NaN</td>\n",
       "      <td>NaN</td>\n",
       "      <td>NaN</td>\n",
       "      <td>NaN</td>\n",
       "      <td>English</td>\n",
       "      <td>North America</td>\n",
       "      <td>English</td>\n",
       "    </tr>\n",
       "    <tr>\n",
       "      <th>116</th>\n",
       "      <td>6565009.xml</td>\n",
       "      <td>Der Abenteurer Der Mann Jagd . Ein morgendlich...</td>\n",
       "      <td>tt7613</td>\n",
       "      <td>Comedy,Short</td>\n",
       "      <td>1917.0</td>\n",
       "      <td>English</td>\n",
       "      <td>untokenisiert</td>\n",
       "      <td>24</td>\n",
       "      <td>NaN</td>\n",
       "      <td>NaN</td>\n",
       "      <td>...</td>\n",
       "      <td>NaN</td>\n",
       "      <td>NaN</td>\n",
       "      <td>NaN</td>\n",
       "      <td>NaN</td>\n",
       "      <td>NaN</td>\n",
       "      <td>NaN</td>\n",
       "      <td>NaN</td>\n",
       "      <td>English</td>\n",
       "      <td>North America</td>\n",
       "      <td>English</td>\n",
       "    </tr>\n",
       "  </tbody>\n",
       "</table>\n",
       "<p>5 rows × 22 columns</p>\n",
       "</div>"
      ],
      "text/plain": [
       "        filename                                               text IMDB_ID  \\\n",
       "109  3653850.xml  [ Subtitles by Subturtles ] Du sollst nach Hau...  tt1175   \n",
       "110  6581015.xml  HINTER DER LEIWAND Die Anwendung für die Arbei...  tt6414   \n",
       "111  6564964.xml  DER GRAF Maße : Hals 30 cm - Ohr - 4 cm Mounth...  tt6548   \n",
       "113  6412883.xml  Chaplin bei der Feuerwehr \" Lass doch das Haus...  tt6684   \n",
       "116  6565009.xml  Der Abenteurer Der Mann Jagd . Ein morgendlich...  tt7613   \n",
       "\n",
       "                    genre    year production_region         corpus duration  \\\n",
       "109         Drama,Romance  1912.0            French  untokenisiert      NaN   \n",
       "110  Comedy,Romance,Short  1916.0           English  untokenisiert       30   \n",
       "111          Comedy,Short  1916.0           English  untokenisiert       24   \n",
       "113          Comedy,Short  1916.0           English  untokenisiert       24   \n",
       "116          Comedy,Short  1917.0           English  untokenisiert       24   \n",
       "\n",
       "    directors writers  ... originalTitle isAdult startYear  endYear  \\\n",
       "109       NaN     NaN  ...           NaN     NaN       NaN      NaN   \n",
       "110       NaN     NaN  ...           NaN     NaN       NaN      NaN   \n",
       "111       NaN     NaN  ...           NaN     NaN       NaN      NaN   \n",
       "113       NaN     NaN  ...           NaN     NaN       NaN      NaN   \n",
       "116       NaN     NaN  ...           NaN     NaN       NaN      NaN   \n",
       "\n",
       "     runtimeMinutes  averageRating numVotes  main_country  main_continent  \\\n",
       "109             NaN            NaN      NaN        French          Europe   \n",
       "110             NaN            NaN      NaN       English   North America   \n",
       "111             NaN            NaN      NaN       English   North America   \n",
       "113             NaN            NaN      NaN       English   North America   \n",
       "116             NaN            NaN      NaN       English   North America   \n",
       "\n",
       "    production_country  \n",
       "109             French  \n",
       "110            English  \n",
       "111            English  \n",
       "113            English  \n",
       "116            English  \n",
       "\n",
       "[5 rows x 22 columns]"
      ]
     },
     "execution_count": 21,
     "metadata": {},
     "output_type": "execute_result"
    }
   ],
   "source": [
    "df['production_country'] = df.production_region\n",
    "reg = df['production_country']\n",
    "df.head()"
   ]
  },
  {
   "cell_type": "code",
   "execution_count": 22,
   "metadata": {},
   "outputs": [],
   "source": [
    "df['production_continent'] = df.production_country\n",
    "\n",
    "def conti(continent):\n",
    "    na = []\n",
    "    for land in continent:\n",
    "        na.append(land)\n",
    "    return na\n",
    "\n",
    "north_america = conti(continent.north_america)\n",
    "south_america = conti(continent.south_america)\n",
    "europe = conti(continent.europe)\n",
    "africa = conti(continent.africa)\n",
    "asia = conti(continent.asia)\n",
    "australia = conti(continent.australia)\n",
    "antartica = conti(continent.antartica)\n",
    "uncategorised = conti(continent.uncategorised)\n",
    "\n",
    "b = []\n",
    "for y in df.production_country:\n",
    "    def Convert(string): \n",
    "        li = list(string.split(\", \")) \n",
    "        return li \n",
    "    z = Convert(y)\n",
    "    count = 0  \n",
    "    c = []\n",
    "    for x in z:\n",
    "        if x in north_america:\n",
    "            c.append('North America')\n",
    "        elif x in south_america:\n",
    "            c.append('South America')\n",
    "        elif x in europe:\n",
    "            c.append('Europe')\n",
    "        elif x in africa:\n",
    "            c.append('Africa')\n",
    "        elif x in asia:\n",
    "            c.append('Asia')\n",
    "        elif x in australia:\n",
    "            c.append('Australia')\n",
    "        elif x in antartica:\n",
    "            c.append('Antartica')\n",
    "        elif x in uncategorised:\n",
    "            c.append('Uncategorised')\n",
    "        else: \n",
    "            c.append('Fehlerhaft')\n",
    "    count = count +1\n",
    "    b.append(c)\n",
    "    \n",
    "df.production_continent = b\n",
    "\n",
    "\n",
    "    "
   ]
  },
  {
   "cell_type": "code",
   "execution_count": 23,
   "metadata": {},
   "outputs": [
    {
     "data": {
      "text/html": [
       "<div>\n",
       "<style scoped>\n",
       "    .dataframe tbody tr th:only-of-type {\n",
       "        vertical-align: middle;\n",
       "    }\n",
       "\n",
       "    .dataframe tbody tr th {\n",
       "        vertical-align: top;\n",
       "    }\n",
       "\n",
       "    .dataframe thead th {\n",
       "        text-align: right;\n",
       "    }\n",
       "</style>\n",
       "<table border=\"1\" class=\"dataframe\">\n",
       "  <thead>\n",
       "    <tr style=\"text-align: right;\">\n",
       "      <th></th>\n",
       "      <th>filename</th>\n",
       "      <th>text</th>\n",
       "      <th>IMDB_ID</th>\n",
       "      <th>genre</th>\n",
       "      <th>year</th>\n",
       "      <th>production_region</th>\n",
       "      <th>corpus</th>\n",
       "      <th>duration</th>\n",
       "      <th>directors</th>\n",
       "      <th>writers</th>\n",
       "      <th>...</th>\n",
       "      <th>isAdult</th>\n",
       "      <th>startYear</th>\n",
       "      <th>endYear</th>\n",
       "      <th>runtimeMinutes</th>\n",
       "      <th>averageRating</th>\n",
       "      <th>numVotes</th>\n",
       "      <th>main_country</th>\n",
       "      <th>main_continent</th>\n",
       "      <th>production_country</th>\n",
       "      <th>production_continent</th>\n",
       "    </tr>\n",
       "  </thead>\n",
       "  <tbody>\n",
       "    <tr>\n",
       "      <th>17204</th>\n",
       "      <td>116716.xml</td>\n",
       "      <td>DER HERR DER RINGE DIE ZWEI TÜRME SPECIAL EXTE...</td>\n",
       "      <td>tt167261</td>\n",
       "      <td>Action,Adventure,Drama</td>\n",
       "      <td>2002.0</td>\n",
       "      <td>English, Sindarin, Old English</td>\n",
       "      <td>untokenisiert</td>\n",
       "      <td>179</td>\n",
       "      <td>NaN</td>\n",
       "      <td>NaN</td>\n",
       "      <td>...</td>\n",
       "      <td>NaN</td>\n",
       "      <td>NaN</td>\n",
       "      <td>NaN</td>\n",
       "      <td>NaN</td>\n",
       "      <td>NaN</td>\n",
       "      <td>NaN</td>\n",
       "      <td>English</td>\n",
       "      <td>North America</td>\n",
       "      <td>English, Sindarin, Old English</td>\n",
       "      <td>[North America, Uncategorised, Europe]</td>\n",
       "    </tr>\n",
       "    <tr>\n",
       "      <th>18136</th>\n",
       "      <td>226752.xml</td>\n",
       "      <td>Der Herr der Ringe Sméagol ! Ich hab einen ! I...</td>\n",
       "      <td>tt167260</td>\n",
       "      <td>Adventure,Drama,Fantasy</td>\n",
       "      <td>2003.0</td>\n",
       "      <td>English, Quenya, Old English, Sindarin</td>\n",
       "      <td>untokenisiert</td>\n",
       "      <td>201</td>\n",
       "      <td>NaN</td>\n",
       "      <td>NaN</td>\n",
       "      <td>...</td>\n",
       "      <td>NaN</td>\n",
       "      <td>NaN</td>\n",
       "      <td>NaN</td>\n",
       "      <td>NaN</td>\n",
       "      <td>NaN</td>\n",
       "      <td>NaN</td>\n",
       "      <td>English</td>\n",
       "      <td>North America</td>\n",
       "      <td>English, Quenya, Old English, Sindarin</td>\n",
       "      <td>[North America, Uncategorised, Europe, Uncateg...</td>\n",
       "    </tr>\n",
       "    <tr>\n",
       "      <th>23661</th>\n",
       "      <td>6858525.xml</td>\n",
       "      <td>Hrothgar ! Hrothgar ! Hrothgar ! Ich will Met ...</td>\n",
       "      <td>tt442933</td>\n",
       "      <td>Action,Adventure,Animation</td>\n",
       "      <td>2007.0</td>\n",
       "      <td>English, Old English</td>\n",
       "      <td>untokenisiert</td>\n",
       "      <td>115</td>\n",
       "      <td>NaN</td>\n",
       "      <td>NaN</td>\n",
       "      <td>...</td>\n",
       "      <td>NaN</td>\n",
       "      <td>NaN</td>\n",
       "      <td>NaN</td>\n",
       "      <td>NaN</td>\n",
       "      <td>NaN</td>\n",
       "      <td>NaN</td>\n",
       "      <td>English</td>\n",
       "      <td>North America</td>\n",
       "      <td>English, Old English</td>\n",
       "      <td>[North America, Europe]</td>\n",
       "    </tr>\n",
       "    <tr>\n",
       "      <th>27121</th>\n",
       "      <td>4994297.xml</td>\n",
       "      <td>Outlander ( 2008 ) dTV - kabel eins - 6. April...</td>\n",
       "      <td>tt462465</td>\n",
       "      <td>Action,Adventure,Sci-Fi</td>\n",
       "      <td>2008.0</td>\n",
       "      <td>English, Norse,  Old, Latin</td>\n",
       "      <td>untokenisiert</td>\n",
       "      <td>115</td>\n",
       "      <td>NaN</td>\n",
       "      <td>NaN</td>\n",
       "      <td>...</td>\n",
       "      <td>NaN</td>\n",
       "      <td>NaN</td>\n",
       "      <td>NaN</td>\n",
       "      <td>NaN</td>\n",
       "      <td>NaN</td>\n",
       "      <td>NaN</td>\n",
       "      <td>English</td>\n",
       "      <td>North America</td>\n",
       "      <td>English, Norse,  Old, Latin</td>\n",
       "      <td>[North America, Europe, Uncategorised, Uncateg...</td>\n",
       "    </tr>\n",
       "  </tbody>\n",
       "</table>\n",
       "<p>4 rows × 23 columns</p>\n",
       "</div>"
      ],
      "text/plain": [
       "          filename                                               text  \\\n",
       "17204   116716.xml  DER HERR DER RINGE DIE ZWEI TÜRME SPECIAL EXTE...   \n",
       "18136   226752.xml  Der Herr der Ringe Sméagol ! Ich hab einen ! I...   \n",
       "23661  6858525.xml  Hrothgar ! Hrothgar ! Hrothgar ! Ich will Met ...   \n",
       "27121  4994297.xml  Outlander ( 2008 ) dTV - kabel eins - 6. April...   \n",
       "\n",
       "        IMDB_ID                       genre    year  \\\n",
       "17204  tt167261      Action,Adventure,Drama  2002.0   \n",
       "18136  tt167260     Adventure,Drama,Fantasy  2003.0   \n",
       "23661  tt442933  Action,Adventure,Animation  2007.0   \n",
       "27121  tt462465     Action,Adventure,Sci-Fi  2008.0   \n",
       "\n",
       "                            production_region         corpus duration  \\\n",
       "17204          English, Sindarin, Old English  untokenisiert      179   \n",
       "18136  English, Quenya, Old English, Sindarin  untokenisiert      201   \n",
       "23661                    English, Old English  untokenisiert      115   \n",
       "27121             English, Norse,  Old, Latin  untokenisiert      115   \n",
       "\n",
       "      directors writers  ... isAdult startYear endYear  runtimeMinutes  \\\n",
       "17204       NaN     NaN  ...     NaN       NaN     NaN             NaN   \n",
       "18136       NaN     NaN  ...     NaN       NaN     NaN             NaN   \n",
       "23661       NaN     NaN  ...     NaN       NaN     NaN             NaN   \n",
       "27121       NaN     NaN  ...     NaN       NaN     NaN             NaN   \n",
       "\n",
       "       averageRating  numVotes main_country  main_continent  \\\n",
       "17204            NaN       NaN      English   North America   \n",
       "18136            NaN       NaN      English   North America   \n",
       "23661            NaN       NaN      English   North America   \n",
       "27121            NaN       NaN      English   North America   \n",
       "\n",
       "                           production_country  \\\n",
       "17204          English, Sindarin, Old English   \n",
       "18136  English, Quenya, Old English, Sindarin   \n",
       "23661                    English, Old English   \n",
       "27121             English, Norse,  Old, Latin   \n",
       "\n",
       "                                    production_continent  \n",
       "17204             [North America, Uncategorised, Europe]  \n",
       "18136  [North America, Uncategorised, Europe, Uncateg...  \n",
       "23661                            [North America, Europe]  \n",
       "27121  [North America, Europe, Uncategorised, Uncateg...  \n",
       "\n",
       "[4 rows x 23 columns]"
      ]
     },
     "execution_count": 23,
     "metadata": {},
     "output_type": "execute_result"
    }
   ],
   "source": [
    "df[df['production_region'].str.contains(\" Old\")]"
   ]
  },
  {
   "cell_type": "markdown",
   "metadata": {},
   "source": [
    "### Production Continent Plot"
   ]
  },
  {
   "cell_type": "code",
   "execution_count": 104,
   "metadata": {},
   "outputs": [
    {
     "ename": "TypeError",
     "evalue": "unhashable type: 'list'",
     "output_type": "error",
     "traceback": [
      "\u001b[1;31m---------------------------------------------------------------------------\u001b[0m",
      "\u001b[1;31mTypeError\u001b[0m                                 Traceback (most recent call last)",
      "\u001b[1;32m<ipython-input-104-5e38a9468aca>\u001b[0m in \u001b[0;36m<module>\u001b[1;34m\u001b[0m\n\u001b[0;32m      1\u001b[0m \u001b[1;32mfrom\u001b[0m \u001b[0mcollections\u001b[0m \u001b[1;32mimport\u001b[0m \u001b[0mCounter\u001b[0m\u001b[1;33m\u001b[0m\u001b[1;33m\u001b[0m\u001b[0m\n\u001b[1;32m----> 2\u001b[1;33m \u001b[0mprod_continent_frequs\u001b[0m \u001b[1;33m=\u001b[0m \u001b[0mCounter\u001b[0m\u001b[1;33m(\u001b[0m\u001b[0mdf\u001b[0m\u001b[1;33m.\u001b[0m\u001b[0mproduction_continent\u001b[0m\u001b[1;33m)\u001b[0m\u001b[1;33m\u001b[0m\u001b[1;33m\u001b[0m\u001b[0m\n\u001b[0m\u001b[0;32m      3\u001b[0m \u001b[0mprint\u001b[0m\u001b[1;33m(\u001b[0m\u001b[1;34m'There are'\u001b[0m\u001b[1;33m,\u001b[0m \u001b[0mlen\u001b[0m\u001b[1;33m(\u001b[0m\u001b[0mprod_continent_frequs\u001b[0m\u001b[1;33m)\u001b[0m\u001b[1;33m,\u001b[0m \u001b[1;34m'production continents where the Movies are produced'\u001b[0m\u001b[1;33m)\u001b[0m\u001b[1;33m\u001b[0m\u001b[1;33m\u001b[0m\u001b[0m\n\u001b[0;32m      4\u001b[0m \u001b[0mprod_continent_frequs\u001b[0m\u001b[1;33m.\u001b[0m\u001b[0mmost_common\u001b[0m\u001b[1;33m(\u001b[0m\u001b[1;33m)\u001b[0m\u001b[1;33m\u001b[0m\u001b[1;33m\u001b[0m\u001b[0m\n",
      "\u001b[1;32mC:\\ProgramData\\Anaconda3\\lib\\collections\\__init__.py\u001b[0m in \u001b[0;36m__init__\u001b[1;34m(*args, **kwds)\u001b[0m\n\u001b[0;32m    566\u001b[0m             \u001b[1;32mraise\u001b[0m \u001b[0mTypeError\u001b[0m\u001b[1;33m(\u001b[0m\u001b[1;34m'expected at most 1 arguments, got %d'\u001b[0m \u001b[1;33m%\u001b[0m \u001b[0mlen\u001b[0m\u001b[1;33m(\u001b[0m\u001b[0margs\u001b[0m\u001b[1;33m)\u001b[0m\u001b[1;33m)\u001b[0m\u001b[1;33m\u001b[0m\u001b[1;33m\u001b[0m\u001b[0m\n\u001b[0;32m    567\u001b[0m         \u001b[0msuper\u001b[0m\u001b[1;33m(\u001b[0m\u001b[0mCounter\u001b[0m\u001b[1;33m,\u001b[0m \u001b[0mself\u001b[0m\u001b[1;33m)\u001b[0m\u001b[1;33m.\u001b[0m\u001b[0m__init__\u001b[0m\u001b[1;33m(\u001b[0m\u001b[1;33m)\u001b[0m\u001b[1;33m\u001b[0m\u001b[1;33m\u001b[0m\u001b[0m\n\u001b[1;32m--> 568\u001b[1;33m         \u001b[0mself\u001b[0m\u001b[1;33m.\u001b[0m\u001b[0mupdate\u001b[0m\u001b[1;33m(\u001b[0m\u001b[1;33m*\u001b[0m\u001b[0margs\u001b[0m\u001b[1;33m,\u001b[0m \u001b[1;33m**\u001b[0m\u001b[0mkwds\u001b[0m\u001b[1;33m)\u001b[0m\u001b[1;33m\u001b[0m\u001b[1;33m\u001b[0m\u001b[0m\n\u001b[0m\u001b[0;32m    569\u001b[0m \u001b[1;33m\u001b[0m\u001b[0m\n\u001b[0;32m    570\u001b[0m     \u001b[1;32mdef\u001b[0m \u001b[0m__missing__\u001b[0m\u001b[1;33m(\u001b[0m\u001b[0mself\u001b[0m\u001b[1;33m,\u001b[0m \u001b[0mkey\u001b[0m\u001b[1;33m)\u001b[0m\u001b[1;33m:\u001b[0m\u001b[1;33m\u001b[0m\u001b[1;33m\u001b[0m\u001b[0m\n",
      "\u001b[1;32mC:\\ProgramData\\Anaconda3\\lib\\collections\\__init__.py\u001b[0m in \u001b[0;36mupdate\u001b[1;34m(*args, **kwds)\u001b[0m\n\u001b[0;32m    653\u001b[0m                     \u001b[0msuper\u001b[0m\u001b[1;33m(\u001b[0m\u001b[0mCounter\u001b[0m\u001b[1;33m,\u001b[0m \u001b[0mself\u001b[0m\u001b[1;33m)\u001b[0m\u001b[1;33m.\u001b[0m\u001b[0mupdate\u001b[0m\u001b[1;33m(\u001b[0m\u001b[0miterable\u001b[0m\u001b[1;33m)\u001b[0m \u001b[1;31m# fast path when counter is empty\u001b[0m\u001b[1;33m\u001b[0m\u001b[1;33m\u001b[0m\u001b[0m\n\u001b[0;32m    654\u001b[0m             \u001b[1;32melse\u001b[0m\u001b[1;33m:\u001b[0m\u001b[1;33m\u001b[0m\u001b[1;33m\u001b[0m\u001b[0m\n\u001b[1;32m--> 655\u001b[1;33m                 \u001b[0m_count_elements\u001b[0m\u001b[1;33m(\u001b[0m\u001b[0mself\u001b[0m\u001b[1;33m,\u001b[0m \u001b[0miterable\u001b[0m\u001b[1;33m)\u001b[0m\u001b[1;33m\u001b[0m\u001b[1;33m\u001b[0m\u001b[0m\n\u001b[0m\u001b[0;32m    656\u001b[0m         \u001b[1;32mif\u001b[0m \u001b[0mkwds\u001b[0m\u001b[1;33m:\u001b[0m\u001b[1;33m\u001b[0m\u001b[1;33m\u001b[0m\u001b[0m\n\u001b[0;32m    657\u001b[0m             \u001b[0mself\u001b[0m\u001b[1;33m.\u001b[0m\u001b[0mupdate\u001b[0m\u001b[1;33m(\u001b[0m\u001b[0mkwds\u001b[0m\u001b[1;33m)\u001b[0m\u001b[1;33m\u001b[0m\u001b[1;33m\u001b[0m\u001b[0m\n",
      "\u001b[1;31mTypeError\u001b[0m: unhashable type: 'list'"
     ]
    }
   ],
   "source": [
    "from collections import Counter\n",
    "prod_continent_frequs = Counter(df.production_continent)\n",
    "print('There are', len(prod_continent_frequs), 'production continents where the Movies are produced')\n",
    "prod_continent_frequs.most_common()"
   ]
  },
  {
   "cell_type": "code",
   "execution_count": null,
   "metadata": {},
   "outputs": [],
   "source": [
    "\n",
    "#conti = df['production_continent']\n",
    "#contine = conti.replace(['[continent.europe]','English'],['Europe','North America'])\n",
    "#df['production_continent'] = contine\n",
    "\n",
    "#df['production_continent'] = df.production_region\n",
    "#production_continent = [df['production_continent']]\n",
    "#replacements=[([north_america], 'North America'), ([europe],'Europe')]\n",
    "#for pat,repl in replacements:\n",
    "   # production_continent = re.sub(pat, repl, production_continent)\n",
    "#df['production_continent'] = production_continent\n",
    "\n",
    "\n",
    "\n",
    "#conti = []\n",
    "#for con in df[production_continent]:\n",
    "#    con\n",
    "#df[production_continent]=df.production_region\n",
    "\n",
    "#replace_values = {'[north_america]' : 'North America', '[europe]' : 'Europe' }\n",
    "#production_continent = production_continent.replace({'production_continent': replace_values})\n",
    "#production_continent\n",
    "\n",
    "#df[production_continent] = replace_values[{'production_country' : {'[north_america]' : 'North America', '[europe]' : 'Europe' }}]\n",
    "\n",
    "\n",
    "#north america\n",
    "#north_america = continent['north_america']\n",
    "#df['production_continent'] = df['production_country'].replace('north_america','South America')\n",
    "\n",
    "#south america\n",
    "#south_america = continent['south_america']\n",
    "#df['production_continent'] = df['production_country'].replace([south_america],'South America')\n",
    "\n",
    "#europe\n",
    "#europe = continent['europe']\n",
    "#df['production_continent'] = df['production_country'].replace([[europe],[north_america]],['Europe','North America'])\n",
    "\n",
    "#africa\n",
    "#africa = continent['africa']\n",
    "#df['production_continent'] = df['production_country'].replace([africa],'Africa')\n",
    "\n",
    "#asia\n",
    "#asia = continent['asia']\n",
    "#df['production_continent'] = df['production_country'].replace([asia],'Asia')\n",
    "\n",
    "#australia\n",
    "#australia = continent['australia']\n",
    "#df['production_continent'] = df['production_country'].replace([australia],'Australia')\n",
    "\n",
    "#antartica\n",
    "#antartica = continent['antartica']\n",
    "#df['production_continent'] = df['production_country'].replace([antartica],'Antratica')\n",
    "\n",
    "#uncategorised\n",
    "#uncategorised = continent['uncategorised']\n",
    "#df['production_continent'] = df['production_country'].replace([uncategorised],'Uncategorised')\n",
    "\n",
    "#df.head()"
   ]
  },
  {
   "cell_type": "markdown",
   "metadata": {},
   "source": [
    "# Cluster Main Continent"
   ]
  },
  {
   "cell_type": "markdown",
   "metadata": {},
   "source": [
    "### Divisional Main Continent  "
   ]
  },
  {
   "cell_type": "code",
   "execution_count": 29,
   "metadata": {},
   "outputs": [
    {
     "data": {
      "text/plain": [
       "red       6864\n",
       "blue      3335\n",
       "yellow    1307\n",
       "grey        40\n",
       "purple       6\n",
       "orange       4\n",
       "green        1\n",
       "Name: colors, dtype: int64"
      ]
     },
     "execution_count": 29,
     "metadata": {},
     "output_type": "execute_result"
    },
    {
     "data": {
      "image/png": "[encoded data removed]",
      "text/plain": [
       "<Figure size 432x288 with 1 Axes>"
      ]
     },
     "metadata": {
      "needs_background": "light"
     },
     "output_type": "display_data"
    }
   ],
   "source": [
    "colors = []\n",
    "for x in df.main_continent:\n",
    "    if x == 'North America':\n",
    "        colors.append('red')\n",
    "    elif x == 'South America':\n",
    "        colors.append('green')\n",
    "    elif x == 'Europe':\n",
    "        colors.append('blue')\n",
    "    elif x == 'Africa':\n",
    "        colors.append('purple')\n",
    "    elif x == 'Asia':\n",
    "        colors.append('yellow')\n",
    "    elif x == 'Australia':\n",
    "        colors.append('orange')\n",
    "    elif x == 'Antartica':\n",
    "        colors.append('pink')\n",
    "    elif x == 'Uncategorised':\n",
    "        colors.append('grey')\n",
    "    else: \n",
    "        colors.append('white')\n",
    "df['colors']=colors\n",
    "      \n",
    "df_clean = df[df.colors != 'white']\n",
    "pd.value_counts(df_clean.colors).plot.bar() \n",
    "pd.value_counts(df_clean.colors)"
   ]
  },
  {
   "cell_type": "code",
   "execution_count": 28,
   "metadata": {},
   "outputs": [],
   "source": [
    "tfidf = TfidfVectorizer(max_features=10000)\n",
    "tokens = tfidf.fit_transform(df_clean.text)\n"
   ]
  },
  {
   "cell_type": "code",
   "execution_count": 30,
   "metadata": {},
   "outputs": [
    {
     "data": {
      "text/plain": [
       "(array([[0.        , 0.        , 0.        , ..., 0.        , 0.        ,\n",
       "         0.        ],\n",
       "        [0.        , 0.        , 0.        , ..., 0.        , 0.        ,\n",
       "         0.        ],\n",
       "        [0.        , 0.        , 0.        , ..., 0.        , 0.        ,\n",
       "         0.        ],\n",
       "        ...,\n",
       "        [0.        , 0.        , 0.        , ..., 0.        , 0.        ,\n",
       "         0.        ],\n",
       "        [0.        , 0.        , 0.        , ..., 0.        , 0.00354427,\n",
       "         0.        ],\n",
       "        [0.        , 0.        , 0.        , ..., 0.        , 0.00308994,\n",
       "         0.00483548]]),\n",
       " (11557, 10000))"
      ]
     },
     "execution_count": 30,
     "metadata": {},
     "output_type": "execute_result"
    }
   ],
   "source": [
    "tokens.toarray(), tokens.shape"
   ]
  },
  {
   "cell_type": "code",
   "execution_count": 32,
   "metadata": {},
   "outputs": [
    {
     "ename": "KeyboardInterrupt",
     "evalue": "",
     "output_type": "error",
     "traceback": [
      "\u001b[1;31m---------------------------------------------------------------------------\u001b[0m",
      "\u001b[1;31mKeyboardInterrupt\u001b[0m                         Traceback (most recent call last)",
      "\u001b[1;32m<ipython-input-32-5f3c56f8c2b9>\u001b[0m in \u001b[0;36m<module>\u001b[1;34m\u001b[0m\n\u001b[0;32m      1\u001b[0m \u001b[0mmodels\u001b[0m \u001b[1;33m=\u001b[0m \u001b[0mKMeans\u001b[0m\u001b[1;33m(\u001b[0m\u001b[0mn_clusters\u001b[0m\u001b[1;33m=\u001b[0m\u001b[1;36m7\u001b[0m\u001b[1;33m)\u001b[0m\u001b[1;33m\u001b[0m\u001b[1;33m\u001b[0m\u001b[0m\n\u001b[1;32m----> 2\u001b[1;33m \u001b[0mmodels\u001b[0m\u001b[1;33m.\u001b[0m\u001b[0mfit\u001b[0m\u001b[1;33m(\u001b[0m\u001b[0mtokens\u001b[0m\u001b[1;33m)\u001b[0m\u001b[1;33m\u001b[0m\u001b[1;33m\u001b[0m\u001b[0m\n\u001b[0m",
      "\u001b[1;32mC:\\ProgramData\\Anaconda3\\lib\\site-packages\\sklearn\\cluster\\_kmeans.py\u001b[0m in \u001b[0;36mfit\u001b[1;34m(self, X, y, sample_weight)\u001b[0m\n\u001b[0;32m    935\u001b[0m                     \u001b[0mmax_iter\u001b[0m\u001b[1;33m=\u001b[0m\u001b[0mself\u001b[0m\u001b[1;33m.\u001b[0m\u001b[0mmax_iter\u001b[0m\u001b[1;33m,\u001b[0m \u001b[0minit\u001b[0m\u001b[1;33m=\u001b[0m\u001b[0minit\u001b[0m\u001b[1;33m,\u001b[0m \u001b[0mverbose\u001b[0m\u001b[1;33m=\u001b[0m\u001b[0mself\u001b[0m\u001b[1;33m.\u001b[0m\u001b[0mverbose\u001b[0m\u001b[1;33m,\u001b[0m\u001b[1;33m\u001b[0m\u001b[1;33m\u001b[0m\u001b[0m\n\u001b[0;32m    936\u001b[0m                     \u001b[0mprecompute_distances\u001b[0m\u001b[1;33m=\u001b[0m\u001b[0mprecompute_distances\u001b[0m\u001b[1;33m,\u001b[0m \u001b[0mtol\u001b[0m\u001b[1;33m=\u001b[0m\u001b[0mtol\u001b[0m\u001b[1;33m,\u001b[0m\u001b[1;33m\u001b[0m\u001b[1;33m\u001b[0m\u001b[0m\n\u001b[1;32m--> 937\u001b[1;33m                     x_squared_norms=x_squared_norms, random_state=seed)\n\u001b[0m\u001b[0;32m    938\u001b[0m                 \u001b[1;31m# determine if these results are the best so far\u001b[0m\u001b[1;33m\u001b[0m\u001b[1;33m\u001b[0m\u001b[1;33m\u001b[0m\u001b[0m\n\u001b[0;32m    939\u001b[0m                 \u001b[1;32mif\u001b[0m \u001b[0mbest_inertia\u001b[0m \u001b[1;32mis\u001b[0m \u001b[1;32mNone\u001b[0m \u001b[1;32mor\u001b[0m \u001b[0minertia\u001b[0m \u001b[1;33m<\u001b[0m \u001b[0mbest_inertia\u001b[0m\u001b[1;33m:\u001b[0m\u001b[1;33m\u001b[0m\u001b[1;33m\u001b[0m\u001b[0m\n",
      "\u001b[1;32mC:\\ProgramData\\Anaconda3\\lib\\site-packages\\sklearn\\cluster\\_kmeans.py\u001b[0m in \u001b[0;36m_kmeans_single_lloyd\u001b[1;34m(X, sample_weight, n_clusters, max_iter, init, verbose, x_squared_norms, random_state, tol, precompute_distances)\u001b[0m\n\u001b[0;32m    436\u001b[0m \u001b[1;33m\u001b[0m\u001b[0m\n\u001b[0;32m    437\u001b[0m         \u001b[1;32mif\u001b[0m \u001b[0mbest_inertia\u001b[0m \u001b[1;32mis\u001b[0m \u001b[1;32mNone\u001b[0m \u001b[1;32mor\u001b[0m \u001b[0minertia\u001b[0m \u001b[1;33m<\u001b[0m \u001b[0mbest_inertia\u001b[0m\u001b[1;33m:\u001b[0m\u001b[1;33m\u001b[0m\u001b[1;33m\u001b[0m\u001b[0m\n\u001b[1;32m--> 438\u001b[1;33m             \u001b[0mbest_labels\u001b[0m \u001b[1;33m=\u001b[0m \u001b[0mlabels\u001b[0m\u001b[1;33m.\u001b[0m\u001b[0mcopy\u001b[0m\u001b[1;33m(\u001b[0m\u001b[1;33m)\u001b[0m\u001b[1;33m\u001b[0m\u001b[1;33m\u001b[0m\u001b[0m\n\u001b[0m\u001b[0;32m    439\u001b[0m             \u001b[0mbest_centers\u001b[0m \u001b[1;33m=\u001b[0m \u001b[0mcenters\u001b[0m\u001b[1;33m.\u001b[0m\u001b[0mcopy\u001b[0m\u001b[1;33m(\u001b[0m\u001b[1;33m)\u001b[0m\u001b[1;33m\u001b[0m\u001b[1;33m\u001b[0m\u001b[0m\n\u001b[0;32m    440\u001b[0m             \u001b[0mbest_inertia\u001b[0m \u001b[1;33m=\u001b[0m \u001b[0minertia\u001b[0m\u001b[1;33m\u001b[0m\u001b[1;33m\u001b[0m\u001b[0m\n",
      "\u001b[1;31mKeyboardInterrupt\u001b[0m: "
     ]
    }
   ],
   "source": [
    "models = KMeans(n_clusters=7)\n",
    "models.fit(tokens)"
   ]
  },
  {
   "cell_type": "code",
   "execution_count": null,
   "metadata": {},
   "outputs": [],
   "source": [
    "len(models.labels_)"
   ]
  },
  {
   "cell_type": "code",
   "execution_count": null,
   "metadata": {},
   "outputs": [],
   "source": [
    "pca = PCA(n_components=7\n",
    "pca.fit(tokens.todense())\n",
    "X_tf = pca.transform(tokens.todense())\n",
    "\n",
    "#Saving the temporal results into Dataframe\n",
    "df_clean['pcatokens_1'] = X_tf[:,0]\n",
    "df_clean['pcatokens_2'] = X_tf[:,1]\n",
    "df_clean['pcatokens_3'] = X_tf[:,2]\n",
    "df_clean['pcatokens_4'] = X_tf[:,3]\n",
    "df_clean['pcatokens_5'] = X_tf[:,4]\n",
    "df_clean['pcatokens_6'] = X_tf[:,5]\n",
    "df_clean['pcatokens_7'] = X_tf[:,6]\n",
    "\n",
    "df_clean['kmeanstokens'] = models.labels_\n",
    "\n",
    "#Plot based on temporal results \n",
    "plt.figure(figsize=(15,8))\n",
    "for d in dfs_clean.iterrows():\n",
    "    a = d[1].pcatokens_1\n",
    "    b = d[1].pcatokens_2\n",
    "    c = d[1].pcatokens_3\n",
    "    d = d[1].pcatokens_4\n",
    "    e = d[1].pcatokens_5\n",
    "    f = d[1].pcatokens_6\n",
    "    g = d[1].pcatokens_7\n",
    "    plt.plot(a, b, c, d , e , f, g, 'o', markersize=4, color= d[1].colors)\n",
    "    plt.plot(a, b, c, d , e , f, g, marker=TextPath((-3, -3), f'{d[1].kmeanstokens}'), color='black', markersize=1)"
   ]
  },
  {
   "cell_type": "code",
   "execution_count": 33,
   "metadata": {},
   "outputs": [],
   "source": [
    "import seaborn\n",
    "import umap"
   ]
  },
  {
   "cell_type": "code",
   "execution_count": 35,
   "metadata": {},
   "outputs": [],
   "source": [
    "from umap import UMAP \n",
    "reducer = UMAP()\n",
    "Xr_tfidf = reducer.fit_transform(tokens)"
   ]
  },
  {
   "cell_type": "code",
   "execution_count": 36,
   "metadata": {},
   "outputs": [
    {
     "data": {
      "image/png": "[encoded data removed]",
      "text/plain": [
       "<Figure size 864x864 with 1 Axes>"
      ]
     },
     "metadata": {
      "needs_background": "light"
     },
     "output_type": "display_data"
    }
   ],
   "source": [
    "import seaborn as sns\n",
    "\n",
    "plt.figure(figsize=(12,12))\n",
    "sns.scatterplot(Xr_tfidf[:,0], Xr_tfidf[:,1], hue=df['main_continent'])\n",
    "plt.show()"
   ]
  },
  {
   "cell_type": "code",
   "execution_count": null,
   "metadata": {},
   "outputs": [],
   "source": [
    "df['labelcolor']=colorlist"
   ]
  },
  {
   "cell_type": "code",
   "execution_count": null,
   "metadata": {},
   "outputs": [],
   "source": [
    "North_AmericaValue = 'North America'\n",
    "EuropeValue = 'Europe'\n",
    "North_America = df.production_continent = North_AmericaValue\n",
    "Europe = df.production_continent = EuropeValue\n",
    "production_continents = North_AmericaValue + EuropeValue\n",
    "colorlist = []\n",
    "\n",
    "for x in df.production_region:\n",
    "    if x =='North America':\n",
    "        colorlist.append('red')\n",
    "    elif x =='Europe':\n",
    "        colorlist.append('blue')\n",
    "    else: \n",
    "        colorlist.append('white')"
   ]
  },
  {
   "cell_type": "code",
   "execution_count": null,
   "metadata": {},
   "outputs": [],
   "source": [
    "pd.value_counts(dfs.colors).plot.bar() \n",
    "pd.value_counts(dfs.colors)"
   ]
  },
  {
   "cell_type": "markdown",
   "metadata": {},
   "source": [
    "# K-Means"
   ]
  },
  {
   "cell_type": "code",
   "execution_count": 24,
   "metadata": {},
   "outputs": [
    {
     "ename": "NameError",
     "evalue": "name 'embeddings' is not defined",
     "output_type": "error",
     "traceback": [
      "\u001b[1;31m---------------------------------------------------------------------------\u001b[0m",
      "\u001b[1;31mNameError\u001b[0m                                 Traceback (most recent call last)",
      "\u001b[1;32m<ipython-input-24-a5404a73bde8>\u001b[0m in \u001b[0;36m<module>\u001b[1;34m\u001b[0m\n\u001b[0;32m      1\u001b[0m \u001b[0mmodel\u001b[0m \u001b[1;33m=\u001b[0m \u001b[0mKMeans\u001b[0m\u001b[1;33m(\u001b[0m\u001b[0mn_clusters\u001b[0m\u001b[1;33m=\u001b[0m\u001b[1;36m8\u001b[0m\u001b[1;33m)\u001b[0m\u001b[1;33m\u001b[0m\u001b[1;33m\u001b[0m\u001b[0m\n\u001b[1;32m----> 2\u001b[1;33m \u001b[0mmodel\u001b[0m\u001b[1;33m.\u001b[0m\u001b[0mfit\u001b[0m\u001b[1;33m(\u001b[0m\u001b[0membeddings\u001b[0m\u001b[1;33m)\u001b[0m\u001b[1;33m\u001b[0m\u001b[1;33m\u001b[0m\u001b[0m\n\u001b[0m",
      "\u001b[1;31mNameError\u001b[0m: name 'embeddings' is not defined"
     ]
    }
   ],
   "source": [
    "model = KMeans(n_clusters=8)\n",
    "model.fit(embeddings)"
   ]
  },
  {
   "cell_type": "code",
   "execution_count": null,
   "metadata": {},
   "outputs": [],
   "source": [
    "len(model.labels_)"
   ]
  },
  {
   "cell_type": "markdown",
   "metadata": {},
   "source": [
    "# Split without Embedding\n"
   ]
  },
  {
   "cell_type": "code",
   "execution_count": null,
   "metadata": {},
   "outputs": [],
   "source": [
    "colors = []\n",
    "for x in df.production_region:\n",
    "    if x =='English':\n",
    "        colors.append('red')\n",
    "    elif x =='French':\n",
    "        colors.append('blue')\n",
    "    else: \n",
    "        colors.append('white')\n",
    "dfs['colors']=colors\n",
    "\n",
    "pd.value_counts(dfs.colors).plot.bar() \n",
    "pd.value_counts(dfs.colors)\n"
   ]
  },
  {
   "cell_type": "code",
   "execution_count": null,
   "metadata": {},
   "outputs": [],
   "source": []
  }
 ],
 "metadata": {
  "kernelspec": {
   "display_name": "Python 3",
   "language": "python",
   "name": "python3"
  },
  "language_info": {
   "codemirror_mode": {
    "name": "ipython",
    "version": 3
   },
   "file_extension": ".py",
   "mimetype": "text/x-python",
   "name": "python",
   "nbconvert_exporter": "python",
   "pygments_lexer": "ipython3",
   "version": "3.7.6"
  }
 },
 "nbformat": 4,
 "nbformat_minor": 4
}
