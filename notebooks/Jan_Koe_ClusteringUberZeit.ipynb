{
 "cells": [
  {
   "cell_type": "code",
   "execution_count": 68,
   "metadata": {},
   "outputs": [],
   "source": [
    "import pandas as pd\n",
    "import numpy as np\n",
    "import matplotlib.pyplot as plt\n",
    "from sklearn.cluster import KMeans\n",
    "from sklearn.decomposition import PCA\n",
    "from matplotlib.textpath import TextPath\n",
    "from sklearn.feature_extraction.text import CountVectorizer\n",
    "from sklearn.feature_extraction.text import TfidfVectorizer"
   ]
  },
  {
   "cell_type": "code",
   "execution_count": 2,
   "metadata": {},
   "outputs": [
    {
     "name": "stderr",
     "output_type": "stream",
     "text": [
      "C:\\Users\\janko\\Anaconda3\\lib\\site-packages\\IPython\\core\\interactiveshell.py:3058: DtypeWarning: Columns (0,1,3,5,6,7,8,9,16) have mixed types. Specify dtype option on import or set low_memory=False.\n",
      "  interactivity=interactivity, compiler=compiler, result=result)\n"
     ]
    },
    {
     "data": {
      "text/plain": [
       "(10927181, 19)"
      ]
     },
     "execution_count": 2,
     "metadata": {},
     "output_type": "execute_result"
    }
   ],
   "source": [
    "df = pd.read_csv('../dataset/complete_dataset.csv')\n",
    "dfs = df.sample(frac=1)\n",
    "dfs.shape"
   ]
  },
  {
   "cell_type": "code",
   "execution_count": 21,
   "metadata": {},
   "outputs": [
    {
     "data": {
      "text/plain": [
       "(3729, 24)"
      ]
     },
     "execution_count": 21,
     "metadata": {},
     "output_type": "execute_result"
    }
   ],
   "source": [
    "#df.dropna(subset=['text', 'genre', 'year', 'production_region'], inplace=True)\n",
    "df.drop_duplicates(subset=['IMDB_ID'], inplace=True)\n",
    "df.shape"
   ]
  },
  {
   "cell_type": "markdown",
   "metadata": {},
   "source": [
    "# Clustering über Zeit mit Embeddings"
   ]
  },
  {
   "cell_type": "code",
   "execution_count": 4,
   "metadata": {},
   "outputs": [],
   "source": [
    "from pathlib import Path\n",
    "import numpy as np\n",
    "def read_embeddings(embedding_file: str):\n",
    "    data = Path(embedding_file).read_text()\n",
    "    lines = data.split('\\n')\n",
    "    filenames = []\n",
    "    embeddings = []\n",
    "    for line in lines:\n",
    "        line_data = line.split(' ')\n",
    "        if len(line_data) >=2 :\n",
    "            filenames.append(line_data[0])\n",
    "            embeddings.append(list(map(float, line_data[1:])))\n",
    "    return np.asarray(filenames), np.asarray(embeddings)"
   ]
  },
  {
   "cell_type": "code",
   "execution_count": 5,
   "metadata": {},
   "outputs": [],
   "source": [
    "filenames, embeddings = read_embeddings('../dataset/embeddings.txt')"
   ]
  },
  {
   "cell_type": "code",
   "execution_count": 6,
   "metadata": {},
   "outputs": [
    {
     "data": {
      "text/plain": [
       "((3729,), (3729, 300))"
      ]
     },
     "execution_count": 6,
     "metadata": {},
     "output_type": "execute_result"
    }
   ],
   "source": [
    "filenames.shape, embeddings.shape"
   ]
  },
  {
   "cell_type": "code",
   "execution_count": 7,
   "metadata": {},
   "outputs": [
    {
     "data": {
      "text/plain": [
       "(3729, 19)"
      ]
     },
     "execution_count": 7,
     "metadata": {},
     "output_type": "execute_result"
    }
   ],
   "source": [
    "df = df[df['filename'].isin(filenames)].copy()\n",
    "df.shape"
   ]
  },
  {
   "cell_type": "code",
   "execution_count": 8,
   "metadata": {},
   "outputs": [
    {
     "data": {
      "text/plain": [
       "True"
      ]
     },
     "execution_count": 8,
     "metadata": {},
     "output_type": "execute_result"
    }
   ],
   "source": [
    "(df.filename == filenames).all()"
   ]
  },
  {
   "cell_type": "code",
   "execution_count": 9,
   "metadata": {},
   "outputs": [
    {
     "data": {
      "text/html": [
       "<div>\n",
       "<style scoped>\n",
       "    .dataframe tbody tr th:only-of-type {\n",
       "        vertical-align: middle;\n",
       "    }\n",
       "\n",
       "    .dataframe tbody tr th {\n",
       "        vertical-align: top;\n",
       "    }\n",
       "\n",
       "    .dataframe thead th {\n",
       "        text-align: right;\n",
       "    }\n",
       "</style>\n",
       "<table border=\"1\" class=\"dataframe\">\n",
       "  <thead>\n",
       "    <tr style=\"text-align: right;\">\n",
       "      <th></th>\n",
       "      <th>filename</th>\n",
       "      <th>text</th>\n",
       "      <th>IMDB_ID</th>\n",
       "      <th>genre</th>\n",
       "      <th>year</th>\n",
       "      <th>production_region</th>\n",
       "      <th>corpus</th>\n",
       "      <th>duration</th>\n",
       "      <th>directors</th>\n",
       "      <th>writers</th>\n",
       "      <th>titleType</th>\n",
       "      <th>primaryTitle</th>\n",
       "      <th>originalTitle</th>\n",
       "      <th>isAdult</th>\n",
       "      <th>startYear</th>\n",
       "      <th>endYear</th>\n",
       "      <th>runtimeMinutes</th>\n",
       "      <th>averageRating</th>\n",
       "      <th>numVotes</th>\n",
       "      <th>embedding</th>\n",
       "    </tr>\n",
       "  </thead>\n",
       "  <tbody>\n",
       "    <tr>\n",
       "      <td>706</td>\n",
       "      <td>6416324.xml</td>\n",
       "      <td>Der Roman von Alexandre Dumas dem Älteren hatt...</td>\n",
       "      <td>tt1104767</td>\n",
       "      <td>Adventure,Drama,History</td>\n",
       "      <td>1943.0</td>\n",
       "      <td>French</td>\n",
       "      <td>untokenisiert</td>\n",
       "      <td>90</td>\n",
       "      <td>nm0894509,nm0148602</td>\n",
       "      <td>nm0241416,nm0816458,nm0763376,nm0812731</td>\n",
       "      <td>movie</td>\n",
       "      <td>The Count of Monte Cristo - Part 2: Retribution</td>\n",
       "      <td>Le comte de Monte Cristo, 2ème époque: Le chât...</td>\n",
       "      <td>0.0</td>\n",
       "      <td>1943.0</td>\n",
       "      <td>NaN</td>\n",
       "      <td>90</td>\n",
       "      <td>7.0</td>\n",
       "      <td>80.0</td>\n",
       "      <td>[-0.09066946, 0.13505703, -0.19079152, -0.2511...</td>\n",
       "    </tr>\n",
       "    <tr>\n",
       "      <td>2784</td>\n",
       "      <td>4732286.xml</td>\n",
       "      <td>Hände hoch oder ich schieße ( 1966 ) dTV - MDR...</td>\n",
       "      <td>tt1631717</td>\n",
       "      <td>Comedy</td>\n",
       "      <td>1966.0</td>\n",
       "      <td>German</td>\n",
       "      <td>untokenisiert</td>\n",
       "      <td>75</td>\n",
       "      <td>nm0440757</td>\n",
       "      <td>nm0440757,nm0833141,nm1127102</td>\n",
       "      <td>movie</td>\n",
       "      <td>Hände hoch oder ich schieße</td>\n",
       "      <td>Hände hoch oder ich schieße</td>\n",
       "      <td>0.0</td>\n",
       "      <td>1966.0</td>\n",
       "      <td>NaN</td>\n",
       "      <td>75</td>\n",
       "      <td>5.8</td>\n",
       "      <td>36.0</td>\n",
       "      <td>[-0.08849932, 0.13341562, -0.16020295, -0.2384...</td>\n",
       "    </tr>\n",
       "    <tr>\n",
       "      <td>3085</td>\n",
       "      <td>6122081.xml</td>\n",
       "      <td>Hallo , Manuela ? Störe ich ? Kann ich zu dir ...</td>\n",
       "      <td>tt1271979</td>\n",
       "      <td>Drama</td>\n",
       "      <td>1967.0</td>\n",
       "      <td>French</td>\n",
       "      <td>untokenisiert</td>\n",
       "      <td>78</td>\n",
       "      <td>nm0816215</td>\n",
       "      <td>nm0816215</td>\n",
       "      <td>movie</td>\n",
       "      <td>La lune avec les dents</td>\n",
       "      <td>La lune avec les dents</td>\n",
       "      <td>0.0</td>\n",
       "      <td>1967.0</td>\n",
       "      <td>NaN</td>\n",
       "      <td>78</td>\n",
       "      <td>7.0</td>\n",
       "      <td>34.0</td>\n",
       "      <td>[-0.07498731, 0.13234918, -0.14840715, -0.2293...</td>\n",
       "    </tr>\n",
       "    <tr>\n",
       "      <td>6044</td>\n",
       "      <td>5594522.xml</td>\n",
       "      <td>Dein Vater war ein ausgezeichneter Kämpfer . A...</td>\n",
       "      <td>tt3141954</td>\n",
       "      <td>Action,Adventure</td>\n",
       "      <td>1978.0</td>\n",
       "      <td>Cantonese</td>\n",
       "      <td>untokenisiert</td>\n",
       "      <td>82</td>\n",
       "      <td>nm1172472</td>\n",
       "      <td>NaN</td>\n",
       "      <td>movie</td>\n",
       "      <td>Brawl Busters</td>\n",
       "      <td>Sa-dae-tong-iue-moon</td>\n",
       "      <td>0.0</td>\n",
       "      <td>1978.0</td>\n",
       "      <td>NaN</td>\n",
       "      <td>82</td>\n",
       "      <td>6.2</td>\n",
       "      <td>31.0</td>\n",
       "      <td>[-0.08724029, 0.1408841, -0.19008194, -0.26056...</td>\n",
       "    </tr>\n",
       "    <tr>\n",
       "      <td>6281</td>\n",
       "      <td>5618549.xml</td>\n",
       "      <td>Na los , iss jetzt schnell auf . Junge , ist d...</td>\n",
       "      <td>tt1065116</td>\n",
       "      <td>Action</td>\n",
       "      <td>1979.0</td>\n",
       "      <td>Japanese</td>\n",
       "      <td>untokenisiert</td>\n",
       "      <td>96</td>\n",
       "      <td>nm0814232</td>\n",
       "      <td>nm0032816,nm0793999,nm0814232</td>\n",
       "      <td>movie</td>\n",
       "      <td>Sûpâ gun redei Wani Bunsho</td>\n",
       "      <td>Sûpâ gun redei Wani Bunsho</td>\n",
       "      <td>0.0</td>\n",
       "      <td>1979.0</td>\n",
       "      <td>NaN</td>\n",
       "      <td>96</td>\n",
       "      <td>5.7</td>\n",
       "      <td>44.0</td>\n",
       "      <td>[-0.07911543, 0.15853323, -0.1507321, -0.24809...</td>\n",
       "    </tr>\n",
       "  </tbody>\n",
       "</table>\n",
       "</div>"
      ],
      "text/plain": [
       "         filename                                               text  \\\n",
       "706   6416324.xml  Der Roman von Alexandre Dumas dem Älteren hatt...   \n",
       "2784  4732286.xml  Hände hoch oder ich schieße ( 1966 ) dTV - MDR...   \n",
       "3085  6122081.xml  Hallo , Manuela ? Störe ich ? Kann ich zu dir ...   \n",
       "6044  5594522.xml  Dein Vater war ein ausgezeichneter Kämpfer . A...   \n",
       "6281  5618549.xml  Na los , iss jetzt schnell auf . Junge , ist d...   \n",
       "\n",
       "        IMDB_ID                    genre    year production_region  \\\n",
       "706   tt1104767  Adventure,Drama,History  1943.0            French   \n",
       "2784  tt1631717                   Comedy  1966.0            German   \n",
       "3085  tt1271979                    Drama  1967.0            French   \n",
       "6044  tt3141954         Action,Adventure  1978.0         Cantonese   \n",
       "6281  tt1065116                   Action  1979.0          Japanese   \n",
       "\n",
       "             corpus duration            directors  \\\n",
       "706   untokenisiert       90  nm0894509,nm0148602   \n",
       "2784  untokenisiert       75            nm0440757   \n",
       "3085  untokenisiert       78            nm0816215   \n",
       "6044  untokenisiert       82            nm1172472   \n",
       "6281  untokenisiert       96            nm0814232   \n",
       "\n",
       "                                      writers titleType  \\\n",
       "706   nm0241416,nm0816458,nm0763376,nm0812731     movie   \n",
       "2784            nm0440757,nm0833141,nm1127102     movie   \n",
       "3085                                nm0816215     movie   \n",
       "6044                                      NaN     movie   \n",
       "6281            nm0032816,nm0793999,nm0814232     movie   \n",
       "\n",
       "                                         primaryTitle  \\\n",
       "706   The Count of Monte Cristo - Part 2: Retribution   \n",
       "2784                      Hände hoch oder ich schieße   \n",
       "3085                           La lune avec les dents   \n",
       "6044                                    Brawl Busters   \n",
       "6281                       Sûpâ gun redei Wani Bunsho   \n",
       "\n",
       "                                          originalTitle  isAdult  startYear  \\\n",
       "706   Le comte de Monte Cristo, 2ème époque: Le chât...      0.0     1943.0   \n",
       "2784                        Hände hoch oder ich schieße      0.0     1966.0   \n",
       "3085                             La lune avec les dents      0.0     1967.0   \n",
       "6044                               Sa-dae-tong-iue-moon      0.0     1978.0   \n",
       "6281                         Sûpâ gun redei Wani Bunsho      0.0     1979.0   \n",
       "\n",
       "      endYear runtimeMinutes  averageRating  numVotes  \\\n",
       "706       NaN             90            7.0      80.0   \n",
       "2784      NaN             75            5.8      36.0   \n",
       "3085      NaN             78            7.0      34.0   \n",
       "6044      NaN             82            6.2      31.0   \n",
       "6281      NaN             96            5.7      44.0   \n",
       "\n",
       "                                              embedding  \n",
       "706   [-0.09066946, 0.13505703, -0.19079152, -0.2511...  \n",
       "2784  [-0.08849932, 0.13341562, -0.16020295, -0.2384...  \n",
       "3085  [-0.07498731, 0.13234918, -0.14840715, -0.2293...  \n",
       "6044  [-0.08724029, 0.1408841, -0.19008194, -0.26056...  \n",
       "6281  [-0.07911543, 0.15853323, -0.1507321, -0.24809...  "
      ]
     },
     "execution_count": 9,
     "metadata": {},
     "output_type": "execute_result"
    }
   ],
   "source": [
    "#Einfügen der Embeddings ins Dataframe\n",
    "df['embedding'] = [e for e in embeddings]\n",
    "df.shape"
   ]
  },
  {
   "cell_type": "markdown",
   "metadata": {},
   "source": [
    "## Plot über Zeit"
   ]
  },
  {
   "cell_type": "code",
   "execution_count": 10,
   "metadata": {},
   "outputs": [
    {
     "name": "stdout",
     "output_type": "stream",
     "text": [
      "Mean:  2012.2115848753017 Median:  2012.0\n"
     ]
    },
    {
     "data": {
      "image/png": "[encoded data removed]",
      "text/plain": [
       "<Figure size 432x288 with 1 Axes>"
      ]
     },
     "metadata": {
      "needs_background": "light"
     },
     "output_type": "display_data"
    }
   ],
   "source": [
    "pd.value_counts(df['year']).plot.bar()\n",
    "print('Mean: ', df['year'].mean(), 'Median: ', df['year'].median())"
   ]
  },
  {
   "cell_type": "markdown",
   "metadata": {},
   "source": [
    "## Split der Daten in Zeitperioden"
   ]
  },
  {
   "cell_type": "code",
   "execution_count": 14,
   "metadata": {},
   "outputs": [
    {
     "name": "stderr",
     "output_type": "stream",
     "text": [
      "C:\\Users\\janko\\Anaconda3\\lib\\site-packages\\pandas\\core\\computation\\expressions.py:194: UserWarning: evaluating in Python space because the '+' operator is not supported by numexpr for the bool dtype, use '|' instead\n",
      "  op=op_str, alt_op=unsupported[op_str]\n"
     ]
    }
   ],
   "source": [
    "sincevalue = 2017\n",
    "beforevalue = 2000\n",
    "since = df.year >= sincevalue\n",
    "before = df.year <= beforevalue\n",
    "years = since + before\n",
    "years.shape\n",
    "colorlist = []\n",
    "\n",
    "for x in df.year:\n",
    "    if x >=2017:\n",
    "        colorlist.append('red')\n",
    "    elif x <= 2007:\n",
    "        colorlist.append('blue')\n",
    "    else: \n",
    "        colorlist.append('white')"
   ]
  },
  {
   "cell_type": "code",
   "execution_count": 15,
   "metadata": {},
   "outputs": [],
   "source": [
    "df['labelcolor']=colorlist"
   ]
  },
  {
   "cell_type": "markdown",
   "metadata": {},
   "source": [
    "## K-Means"
   ]
  },
  {
   "cell_type": "code",
   "execution_count": 16,
   "metadata": {},
   "outputs": [
    {
     "data": {
      "text/plain": [
       "KMeans(algorithm='auto', copy_x=True, init='k-means++', max_iter=300,\n",
       "       n_clusters=2, n_init=10, n_jobs=None, precompute_distances='auto',\n",
       "       random_state=None, tol=0.0001, verbose=0)"
      ]
     },
     "execution_count": 16,
     "metadata": {},
     "output_type": "execute_result"
    }
   ],
   "source": [
    "model = KMeans(n_clusters=2)\n",
    "model.fit(embeddings)"
   ]
  },
  {
   "cell_type": "code",
   "execution_count": 17,
   "metadata": {},
   "outputs": [
    {
     "data": {
      "text/plain": [
       "3729"
      ]
     },
     "execution_count": 17,
     "metadata": {},
     "output_type": "execute_result"
    }
   ],
   "source": [
    "len(model.labels_)"
   ]
  },
  {
   "cell_type": "markdown",
   "metadata": {},
   "source": [
    "## PCA"
   ]
  },
  {
   "cell_type": "code",
   "execution_count": 18,
   "metadata": {},
   "outputs": [
    {
     "data": {
      "image/png": "[encoded data removed]",
      "text/plain": [
       "<Figure size 864x576 with 1 Axes>"
      ]
     },
     "metadata": {
      "needs_background": "light"
     },
     "output_type": "display_data"
    }
   ],
   "source": [
    "pca = PCA(n_components=2)\n",
    "pca.fit(embeddings)\n",
    "X_tf = pca.transform(embeddings)\n",
    "\n",
    "#Abspeichern der Zwischenergebnisste im Datafram\n",
    "df['pca2d_1'] = X_tf[:,0]\n",
    "df['pca2d_2'] = X_tf[:,1]\n",
    "df['kmeans'] = model.labels_\n",
    "\n",
    "#Plotten anhand der gespeicherten Zwischenergebnisse \n",
    "plt.figure(figsize=(15,8))\n",
    "for d in df.iterrows():\n",
    "    x = d[1].pca2d_1\n",
    "    y = d[1].pca2d_2    \n",
    "    plt.plot(x, y, 'o', markersize=4, color= d[1].labelcolor)\n",
    "    plt.plot(x, y, marker=TextPath((-3, -3), f'{d[1].kmeans}'), color='black', markersize=1)\n"
   ]
  },
  {
   "cell_type": "code",
   "execution_count": 19,
   "metadata": {},
   "outputs": [
    {
     "name": "stdout",
     "output_type": "stream",
     "text": [
      "3729\n"
     ]
    },
    {
     "data": {
      "image/png": "[encoded data removed]",
      "text/plain": [
       "<Figure size 864x576 with 1 Axes>"
      ]
     },
     "metadata": {
      "needs_background": "light"
     },
     "output_type": "display_data"
    }
   ],
   "source": [
    "pca = PCA(n_components=2)\n",
    "pca.fit(embeddings)\n",
    "X_tf = pca.transform(embeddings)\n",
    "print(len(X_tf))\n",
    "df['pca2d_1'] = X_tf[:,0]\n",
    "df['pca2d_2'] = X_tf[:,1]\n",
    "df['kmeans'] = model.labels_\n",
    "\n",
    "df_clean = df[df.labelcolor != 'white']\n",
    "#df_embedding = df_clean['embedding']\n",
    "#df_embedding.tolist()\n",
    "\n",
    "plt.figure(figsize=(15,8))\n",
    "for d in df_clean.iterrows():\n",
    "    x = d[1].pca2d_1\n",
    "    y = d[1].pca2d_2    \n",
    "    plt.plot(x, y, 'o', markersize=8, color= d[1].labelcolor)\n",
    "    plt.plot(x, y, marker=TextPath((-3, -3), f'{d[1].kmeans}'), color='white', markersize=6)\n"
   ]
  },
  {
   "cell_type": "markdown",
   "metadata": {},
   "source": [
    "### Verteilung der Ergebnisse"
   ]
  },
  {
   "cell_type": "code",
   "execution_count": 20,
   "metadata": {},
   "outputs": [
    {
     "name": "stdout",
     "output_type": "stream",
     "text": [
      "b1:  13 b0:  45 r1:  50 r0:  30\n"
     ]
    }
   ],
   "source": [
    "b1 = df.loc[(df['kmeans'] == 1) & (df['labelcolor'] == 'blue')]\n",
    "b0 = df.loc[(df['kmeans'] == 0) & (df['labelcolor'] == 'blue')]\n",
    "r1 = df.loc[(df['kmeans'] == 1) & (df['labelcolor'] == 'red')]\n",
    "r0 = df.loc[(df['kmeans'] == 0) & (df['labelcolor'] == 'red')]\n",
    "print('b1: ', len(b1), 'b0: ', len(b0), 'r1: ', len(r1), 'r0: ', len(r0))"
   ]
  },
  {
   "cell_type": "markdown",
   "metadata": {},
   "source": [
    "# Ohne Embeddings"
   ]
  },
  {
   "cell_type": "code",
   "execution_count": 27,
   "metadata": {},
   "outputs": [
    {
     "data": {
      "text/plain": [
       "(61309, 19)"
      ]
     },
     "execution_count": 27,
     "metadata": {},
     "output_type": "execute_result"
    },
    {
     "data": {
      "image/png": "[encoded data removed]",
      "text/plain": [
       "<Figure size 1080x576 with 1 Axes>"
      ]
     },
     "metadata": {
      "needs_background": "light"
     },
     "output_type": "display_data"
    }
   ],
   "source": [
    "dfs.dropna(subset=['text', 'year'], inplace=True)\n",
    "plt.figure(figsize=(15,8))\n",
    "pd.value_counts(dfs['year']).plot.bar()\n",
    "dfs.shape"
   ]
  },
  {
   "cell_type": "markdown",
   "metadata": {},
   "source": [
    "## Split in Zeitperioden"
   ]
  },
  {
   "cell_type": "code",
   "execution_count": 67,
   "metadata": {},
   "outputs": [
    {
     "data": {
      "text/plain": [
       "white    53379\n",
       "red       4294\n",
       "blue      3636\n",
       "Name: colors, dtype: int64"
      ]
     },
     "execution_count": 67,
     "metadata": {},
     "output_type": "execute_result"
    },
    {
     "data": {
      "image/png": "[encoded data removed]",
      "text/plain": [
       "<Figure size 432x288 with 1 Axes>"
      ]
     },
     "metadata": {
      "needs_background": "light"
     },
     "output_type": "display_data"
    }
   ],
   "source": [
    "#Aufteilung in 1950 bis 1970 und 2016\n",
    "colors = []\n",
    "for x in dfs.year:\n",
    "    if x == 2016:\n",
    "        colors.append('red')\n",
    "    elif (x <= 1970) & (x >= 1940):\n",
    "        colors.append('blue')\n",
    "    else: \n",
    "        colors.append('white')\n",
    "dfs['colors']=colors\n",
    "      \n",
    "pd.value_counts(dfs.colors).plot.bar() \n",
    "pd.value_counts(dfs.colors)"
   ]
  },
  {
   "cell_type": "markdown",
   "metadata": {},
   "source": [
    "# K-Means"
   ]
  },
  {
   "cell_type": "code",
   "execution_count": 69,
   "metadata": {},
   "outputs": [],
   "source": [
    "# TF-IDF\n",
    "tfidf = TfidfVectorizer(max_features=10000)\n",
    "tokens = tfidf.fit_transform(dfs.text)\n",
    "#vectorizer = CountVectorizer()\n",
    "#X = vectorizer.fit_transform(df_split.text)"
   ]
  },
  {
   "cell_type": "code",
   "execution_count": 71,
   "metadata": {},
   "outputs": [
    {
     "data": {
      "text/plain": [
       "(array([[0.        , 0.        , 0.        , ..., 0.        , 0.        ,\n",
       "         0.        ],\n",
       "        [0.        , 0.02728304, 0.        , ..., 0.        , 0.        ,\n",
       "         0.        ],\n",
       "        [0.        , 0.        , 0.        , ..., 0.02908446, 0.00803901,\n",
       "         0.        ],\n",
       "        ...,\n",
       "        [0.        , 0.01268105, 0.        , ..., 0.        , 0.00776018,\n",
       "         0.        ],\n",
       "        [0.        , 0.        , 0.        , ..., 0.        , 0.01342507,\n",
       "         0.        ],\n",
       "        [0.        , 0.01848268, 0.        , ..., 0.        , 0.        ,\n",
       "         0.00685679]]), (61309, 10000))"
      ]
     },
     "execution_count": 71,
     "metadata": {},
     "output_type": "execute_result"
    }
   ],
   "source": [
    "tokens.toarray(), tokens.shape"
   ]
  },
  {
   "cell_type": "code",
   "execution_count": null,
   "metadata": {},
   "outputs": [],
   "source": [
    "models = KMeans(n_clusters=2)\n",
    "models.fit(tokens)"
   ]
  },
  {
   "cell_type": "code",
   "execution_count": null,
   "metadata": {},
   "outputs": [],
   "source": [
    "len(models.labels_)"
   ]
  },
  {
   "cell_type": "code",
   "execution_count": null,
   "metadata": {},
   "outputs": [],
   "source": [
    "pca = PCA(n_components=2)\n",
    "pca.fit(tokens.todense())\n",
    "X_tf = pca.transform(tokens.todense())\n",
    "\n",
    "#Abspeichern der Zwischenergebnisste im Datafram\n",
    "dfs['pcatokens_1'] = X_tf[:,0]\n",
    "dfs['pcatokens_2'] = X_tf[:,1]\n",
    "dfs['kmeanstokens'] = models.labels_\n",
    "\n",
    "dfs_clean = dfs[dfs.colors != 'white']\n",
    "\n",
    "#Plotten anhand der gespeicherten Zwischenergebnisse \n",
    "plt.figure(figsize=(15,8))\n",
    "for d in dfs_clean.iterrows():\n",
    "    x = d[1].pcatokens_1\n",
    "    y = d[1].pcatokens_2    \n",
    "    plt.plot(x, y, 'o', markersize=4, color= d[1].colors)\n",
    "    plt.plot(x, y, marker=TextPath((-3, -3), f'{d[1].kmeanstokens}'), color='black', markersize=1)\n"
   ]
  },
  {
   "cell_type": "code",
   "execution_count": null,
   "metadata": {},
   "outputs": [],
   "source": []
  }
 ],
 "metadata": {
  "kernelspec": {
   "display_name": "Python 3",
   "language": "python",
   "name": "python3"
  },
  "language_info": {
   "codemirror_mode": {
    "name": "ipython",
    "version": 3
   },
   "file_extension": ".py",
   "mimetype": "text/x-python",
   "name": "python",
   "nbconvert_exporter": "python",
   "pygments_lexer": "ipython3",
   "version": "3.7.4"
  }
 },
 "nbformat": 4,
 "nbformat_minor": 2
}
