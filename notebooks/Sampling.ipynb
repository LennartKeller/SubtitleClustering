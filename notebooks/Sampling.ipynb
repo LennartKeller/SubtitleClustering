{
 "cells": [
  {
   "cell_type": "code",
   "execution_count": 1,
   "metadata": {},
   "outputs": [],
   "source": [
    "import pandas as pd"
   ]
  },
  {
   "cell_type": "code",
   "execution_count": 6,
   "metadata": {},
   "outputs": [
    {
     "name": "stderr",
     "output_type": "stream",
     "text": [
      "/Users/lennartkeller/opt/anaconda3/envs/clustering/lib/python3.8/site-packages/IPython/core/interactiveshell.py:3062: DtypeWarning: Columns (0,1,3,5,6,7,8,9,16) have mixed types.Specify dtype option on import or set low_memory=False.\n",
      "  has_raised = await self.run_ast_nodes(code_ast.body, cell_name,\n"
     ]
    }
   ],
   "source": [
    "full_df = pd.read_csv('../dataset/complete_dataset.csv')\n",
    "full_df.drop_duplicates(subset=['IMDB_ID'], inplace=True)\n",
    "full_df.dropna(subset=['text', 'filename'], inplace=True)"
   ]
  },
  {
   "cell_type": "code",
   "execution_count": 16,
   "metadata": {},
   "outputs": [],
   "source": [
    "full_df = full_df[(full_df.titleType == 'movie') | (full_df.titleType == 'tvEpisode')]"
   ]
  },
  {
   "cell_type": "code",
   "execution_count": 17,
   "metadata": {},
   "outputs": [
    {
     "data": {
      "text/plain": [
       "(17042, 19)"
      ]
     },
     "execution_count": 17,
     "metadata": {},
     "output_type": "execute_result"
    }
   ],
   "source": [
    "full_df.shape"
   ]
  },
  {
   "cell_type": "markdown",
   "metadata": {},
   "source": [
    "# 1. Sample\n",
    "Dataframe with size of 20% of original dataframe containing both movies and tvEpisodes"
   ]
  },
  {
   "cell_type": "code",
   "execution_count": 22,
   "metadata": {},
   "outputs": [],
   "source": [
    "df = full_df.sample(frac=0.2, random_state=42)"
   ]
  },
  {
   "cell_type": "code",
   "execution_count": 23,
   "metadata": {},
   "outputs": [
    {
     "data": {
      "text/plain": [
       "(3408, 19)"
      ]
     },
     "execution_count": 23,
     "metadata": {},
     "output_type": "execute_result"
    }
   ],
   "source": [
    "df.shape"
   ]
  },
  {
   "cell_type": "code",
   "execution_count": 24,
   "metadata": {},
   "outputs": [
    {
     "data": {
      "text/html": [
       "<div>\n",
       "<style scoped>\n",
       "    .dataframe tbody tr th:only-of-type {\n",
       "        vertical-align: middle;\n",
       "    }\n",
       "\n",
       "    .dataframe tbody tr th {\n",
       "        vertical-align: top;\n",
       "    }\n",
       "\n",
       "    .dataframe thead tr th {\n",
       "        text-align: left;\n",
       "    }\n",
       "\n",
       "    .dataframe thead tr:last-of-type th {\n",
       "        text-align: right;\n",
       "    }\n",
       "</style>\n",
       "<table border=\"1\" class=\"dataframe\">\n",
       "  <thead>\n",
       "    <tr>\n",
       "      <th></th>\n",
       "      <th colspan=\"8\" halign=\"left\">year</th>\n",
       "      <th colspan=\"2\" halign=\"left\">isAdult</th>\n",
       "      <th>...</th>\n",
       "      <th colspan=\"2\" halign=\"left\">averageRating</th>\n",
       "      <th colspan=\"8\" halign=\"left\">numVotes</th>\n",
       "    </tr>\n",
       "    <tr>\n",
       "      <th></th>\n",
       "      <th>count</th>\n",
       "      <th>mean</th>\n",
       "      <th>std</th>\n",
       "      <th>min</th>\n",
       "      <th>25%</th>\n",
       "      <th>50%</th>\n",
       "      <th>75%</th>\n",
       "      <th>max</th>\n",
       "      <th>count</th>\n",
       "      <th>mean</th>\n",
       "      <th>...</th>\n",
       "      <th>75%</th>\n",
       "      <th>max</th>\n",
       "      <th>count</th>\n",
       "      <th>mean</th>\n",
       "      <th>std</th>\n",
       "      <th>min</th>\n",
       "      <th>25%</th>\n",
       "      <th>50%</th>\n",
       "      <th>75%</th>\n",
       "      <th>max</th>\n",
       "    </tr>\n",
       "    <tr>\n",
       "      <th>titleType</th>\n",
       "      <th></th>\n",
       "      <th></th>\n",
       "      <th></th>\n",
       "      <th></th>\n",
       "      <th></th>\n",
       "      <th></th>\n",
       "      <th></th>\n",
       "      <th></th>\n",
       "      <th></th>\n",
       "      <th></th>\n",
       "      <th></th>\n",
       "      <th></th>\n",
       "      <th></th>\n",
       "      <th></th>\n",
       "      <th></th>\n",
       "      <th></th>\n",
       "      <th></th>\n",
       "      <th></th>\n",
       "      <th></th>\n",
       "      <th></th>\n",
       "      <th></th>\n",
       "    </tr>\n",
       "  </thead>\n",
       "  <tbody>\n",
       "    <tr>\n",
       "      <th>movie</th>\n",
       "      <td>3729.0</td>\n",
       "      <td>2012.211585</td>\n",
       "      <td>3.044557</td>\n",
       "      <td>1943.0</td>\n",
       "      <td>2010.0</td>\n",
       "      <td>2012.0</td>\n",
       "      <td>2014.0</td>\n",
       "      <td>2017.0</td>\n",
       "      <td>3729.0</td>\n",
       "      <td>0.000268</td>\n",
       "      <td>...</td>\n",
       "      <td>6.8</td>\n",
       "      <td>8.9</td>\n",
       "      <td>3725.0</td>\n",
       "      <td>49449.579329</td>\n",
       "      <td>117554.131070</td>\n",
       "      <td>5.0</td>\n",
       "      <td>969.0</td>\n",
       "      <td>5323.0</td>\n",
       "      <td>38783.0</td>\n",
       "      <td>1963119.0</td>\n",
       "    </tr>\n",
       "    <tr>\n",
       "      <th>tvEpisode</th>\n",
       "      <td>13271.0</td>\n",
       "      <td>2012.016954</td>\n",
       "      <td>9.032309</td>\n",
       "      <td>1191.0</td>\n",
       "      <td>2010.0</td>\n",
       "      <td>2013.0</td>\n",
       "      <td>2015.0</td>\n",
       "      <td>2017.0</td>\n",
       "      <td>13313.0</td>\n",
       "      <td>0.000000</td>\n",
       "      <td>...</td>\n",
       "      <td>8.5</td>\n",
       "      <td>10.0</td>\n",
       "      <td>13025.0</td>\n",
       "      <td>1568.946334</td>\n",
       "      <td>4243.414407</td>\n",
       "      <td>5.0</td>\n",
       "      <td>231.0</td>\n",
       "      <td>661.0</td>\n",
       "      <td>1611.0</td>\n",
       "      <td>185434.0</td>\n",
       "    </tr>\n",
       "  </tbody>\n",
       "</table>\n",
       "<p>2 rows × 48 columns</p>\n",
       "</div>"
      ],
      "text/plain": [
       "              year                                                         \\\n",
       "             count         mean       std     min     25%     50%     75%   \n",
       "titleType                                                                   \n",
       "movie       3729.0  2012.211585  3.044557  1943.0  2010.0  2012.0  2014.0   \n",
       "tvEpisode  13271.0  2012.016954  9.032309  1191.0  2010.0  2013.0  2015.0   \n",
       "\n",
       "                   isAdult            ... averageRating       numVotes  \\\n",
       "              max    count      mean  ...           75%   max    count   \n",
       "titleType                             ...                                \n",
       "movie      2017.0   3729.0  0.000268  ...           6.8   8.9   3725.0   \n",
       "tvEpisode  2017.0  13313.0  0.000000  ...           8.5  10.0  13025.0   \n",
       "\n",
       "                                                                                \n",
       "                   mean            std  min    25%     50%      75%        max  \n",
       "titleType                                                                       \n",
       "movie      49449.579329  117554.131070  5.0  969.0  5323.0  38783.0  1963119.0  \n",
       "tvEpisode   1568.946334    4243.414407  5.0  231.0   661.0   1611.0   185434.0  \n",
       "\n",
       "[2 rows x 48 columns]"
      ]
     },
     "execution_count": 24,
     "metadata": {},
     "output_type": "execute_result"
    }
   ],
   "source": [
    "full_df.groupby('titleType').describe()"
   ]
  },
  {
   "cell_type": "code",
   "execution_count": 25,
   "metadata": {},
   "outputs": [
    {
     "data": {
      "text/html": [
       "<div>\n",
       "<style scoped>\n",
       "    .dataframe tbody tr th:only-of-type {\n",
       "        vertical-align: middle;\n",
       "    }\n",
       "\n",
       "    .dataframe tbody tr th {\n",
       "        vertical-align: top;\n",
       "    }\n",
       "\n",
       "    .dataframe thead tr th {\n",
       "        text-align: left;\n",
       "    }\n",
       "\n",
       "    .dataframe thead tr:last-of-type th {\n",
       "        text-align: right;\n",
       "    }\n",
       "</style>\n",
       "<table border=\"1\" class=\"dataframe\">\n",
       "  <thead>\n",
       "    <tr>\n",
       "      <th></th>\n",
       "      <th colspan=\"8\" halign=\"left\">year</th>\n",
       "      <th colspan=\"2\" halign=\"left\">isAdult</th>\n",
       "      <th>...</th>\n",
       "      <th colspan=\"2\" halign=\"left\">averageRating</th>\n",
       "      <th colspan=\"8\" halign=\"left\">numVotes</th>\n",
       "    </tr>\n",
       "    <tr>\n",
       "      <th></th>\n",
       "      <th>count</th>\n",
       "      <th>mean</th>\n",
       "      <th>std</th>\n",
       "      <th>min</th>\n",
       "      <th>25%</th>\n",
       "      <th>50%</th>\n",
       "      <th>75%</th>\n",
       "      <th>max</th>\n",
       "      <th>count</th>\n",
       "      <th>mean</th>\n",
       "      <th>...</th>\n",
       "      <th>75%</th>\n",
       "      <th>max</th>\n",
       "      <th>count</th>\n",
       "      <th>mean</th>\n",
       "      <th>std</th>\n",
       "      <th>min</th>\n",
       "      <th>25%</th>\n",
       "      <th>50%</th>\n",
       "      <th>75%</th>\n",
       "      <th>max</th>\n",
       "    </tr>\n",
       "    <tr>\n",
       "      <th>titleType</th>\n",
       "      <th></th>\n",
       "      <th></th>\n",
       "      <th></th>\n",
       "      <th></th>\n",
       "      <th></th>\n",
       "      <th></th>\n",
       "      <th></th>\n",
       "      <th></th>\n",
       "      <th></th>\n",
       "      <th></th>\n",
       "      <th></th>\n",
       "      <th></th>\n",
       "      <th></th>\n",
       "      <th></th>\n",
       "      <th></th>\n",
       "      <th></th>\n",
       "      <th></th>\n",
       "      <th></th>\n",
       "      <th></th>\n",
       "      <th></th>\n",
       "      <th></th>\n",
       "    </tr>\n",
       "  </thead>\n",
       "  <tbody>\n",
       "    <tr>\n",
       "      <th>movie</th>\n",
       "      <td>766.0</td>\n",
       "      <td>2012.263708</td>\n",
       "      <td>2.508217</td>\n",
       "      <td>1994.0</td>\n",
       "      <td>2011.0</td>\n",
       "      <td>2012.0</td>\n",
       "      <td>2014.0</td>\n",
       "      <td>2017.0</td>\n",
       "      <td>766.0</td>\n",
       "      <td>0.0</td>\n",
       "      <td>...</td>\n",
       "      <td>6.9</td>\n",
       "      <td>8.4</td>\n",
       "      <td>764.0</td>\n",
       "      <td>49364.157068</td>\n",
       "      <td>109345.599851</td>\n",
       "      <td>5.0</td>\n",
       "      <td>1162.50</td>\n",
       "      <td>5719.5</td>\n",
       "      <td>37082.0</td>\n",
       "      <td>898576.0</td>\n",
       "    </tr>\n",
       "    <tr>\n",
       "      <th>tvEpisode</th>\n",
       "      <td>2631.0</td>\n",
       "      <td>2012.071836</td>\n",
       "      <td>5.674284</td>\n",
       "      <td>1961.0</td>\n",
       "      <td>2010.0</td>\n",
       "      <td>2013.0</td>\n",
       "      <td>2015.0</td>\n",
       "      <td>2017.0</td>\n",
       "      <td>2642.0</td>\n",
       "      <td>0.0</td>\n",
       "      <td>...</td>\n",
       "      <td>8.5</td>\n",
       "      <td>9.9</td>\n",
       "      <td>2572.0</td>\n",
       "      <td>1586.441680</td>\n",
       "      <td>3941.237801</td>\n",
       "      <td>5.0</td>\n",
       "      <td>232.75</td>\n",
       "      <td>679.0</td>\n",
       "      <td>1636.0</td>\n",
       "      <td>82422.0</td>\n",
       "    </tr>\n",
       "  </tbody>\n",
       "</table>\n",
       "<p>2 rows × 48 columns</p>\n",
       "</div>"
      ],
      "text/plain": [
       "             year                                                         \\\n",
       "            count         mean       std     min     25%     50%     75%   \n",
       "titleType                                                                  \n",
       "movie       766.0  2012.263708  2.508217  1994.0  2011.0  2012.0  2014.0   \n",
       "tvEpisode  2631.0  2012.071836  5.674284  1961.0  2010.0  2013.0  2015.0   \n",
       "\n",
       "                  isAdult       ... averageRating      numVotes                \\\n",
       "              max   count mean  ...           75%  max    count          mean   \n",
       "titleType                       ...                                             \n",
       "movie      2017.0   766.0  0.0  ...           6.9  8.4    764.0  49364.157068   \n",
       "tvEpisode  2017.0  2642.0  0.0  ...           8.5  9.9   2572.0   1586.441680   \n",
       "\n",
       "                                                                   \n",
       "                     std  min      25%     50%      75%       max  \n",
       "titleType                                                          \n",
       "movie      109345.599851  5.0  1162.50  5719.5  37082.0  898576.0  \n",
       "tvEpisode    3941.237801  5.0   232.75   679.0   1636.0   82422.0  \n",
       "\n",
       "[2 rows x 48 columns]"
      ]
     },
     "execution_count": 25,
     "metadata": {},
     "output_type": "execute_result"
    }
   ],
   "source": [
    "df.groupby('titleType').describe()"
   ]
  },
  {
   "cell_type": "code",
   "execution_count": 28,
   "metadata": {},
   "outputs": [],
   "source": [
    "df.to_csv('../dataset/complete_dataset_sample.csv')"
   ]
  },
  {
   "cell_type": "markdown",
   "metadata": {},
   "source": [
    "# 2. Sample\n",
    "\n",
    "Dataframe containing only Movies but no downsampling is applied"
   ]
  },
  {
   "cell_type": "code",
   "execution_count": 26,
   "metadata": {},
   "outputs": [],
   "source": [
    "movies = full_df = full_df[(full_df.titleType == 'movie')]"
   ]
  },
  {
   "cell_type": "code",
   "execution_count": 27,
   "metadata": {},
   "outputs": [
    {
     "data": {
      "text/plain": [
       "(3729, 19)"
      ]
     },
     "execution_count": 27,
     "metadata": {},
     "output_type": "execute_result"
    }
   ],
   "source": [
    "movies.shape"
   ]
  },
  {
   "cell_type": "code",
   "execution_count": 29,
   "metadata": {},
   "outputs": [],
   "source": [
    "movies.to_csv('../dataset/movies.csv')"
   ]
  },
  {
   "cell_type": "code",
   "execution_count": null,
   "metadata": {},
   "outputs": [],
   "source": []
  }
 ],
 "metadata": {
  "kernelspec": {
   "display_name": "Python 3",
   "language": "python",
   "name": "python3"
  },
  "language_info": {
   "codemirror_mode": {
    "name": "ipython",
    "version": 3
   },
   "file_extension": ".py",
   "mimetype": "text/x-python",
   "name": "python",
   "nbconvert_exporter": "python",
   "pygments_lexer": "ipython3",
   "version": "3.8.2"
  }
 },
 "nbformat": 4,
 "nbformat_minor": 4
}
