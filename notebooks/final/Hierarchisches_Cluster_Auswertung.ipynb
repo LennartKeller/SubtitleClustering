{
 "cells": [
  {
   "cell_type": "code",
   "execution_count": 1,
   "metadata": {},
   "outputs": [],
   "source": [
    "import pandas as pd\n",
    "import numpy as np\n",
    "from stop_words import get_stop_words\n",
    "import re\n",
    "import matplotlib.pyplot as plt\n",
    "from sklearn.cluster import KMeans\n",
    "from sklearn.decomposition import PCA\n",
    "from matplotlib.textpath import TextPath\n",
    "from sklearn.feature_extraction.text import CountVectorizer\n",
    "from sklearn.feature_extraction.text import TfidfVectorizer\n",
    "from sklearn.cluster import AgglomerativeClustering, KMeans\n",
    "from scipy.cluster.hierarchy import dendrogram\n",
    "from sklearn import mixture\n",
    "from collections import Counter\n",
    "from sklearn.cluster import DBSCAN"
   ]
  },
  {
   "cell_type": "code",
   "execution_count": 94,
   "metadata": {},
   "outputs": [],
   "source": [
    "#vereinfachte Methode:\n",
    "def linkage_matrix(n_samples, children, distances):\n",
    "    \"\"\"\n",
    "    create a linkage matrix for the dendogram method in scipy\n",
    "    n_samples: int, number of samples\n",
    "    children: list of lists, clustered data points (should be 2)\n",
    "    distances: list of distances between nodes\n",
    "    \"\"\"\n",
    "    # Create linkage matrix\n",
    "    \n",
    "\n",
    "    # create the counts of samples under each node\n",
    "    counts = np.zeros(children.shape[0])\n",
    "    for i, merge in enumerate(children):\n",
    "        current_count = 0\n",
    "        for child_idx in merge:\n",
    "            if child_idx < n_samples:\n",
    "                current_count += 1  # leaf node\n",
    "            else:\n",
    "                current_count += counts[child_idx - n_samples]\n",
    "        counts[i] = current_count\n",
    "\n",
    "    return np.column_stack([children, distances, counts]).astype(float)\n",
    "\n",
    "# Gibt eine Worthäufigkeitsliste zurück, mit nur dem Namen des Genre in Form eines Strings als Argument.\n",
    "def wordlister(genre):\n",
    "    stop_words = get_stop_words('de')\n",
    "    stop_words.append('ch00ffff')\n",
    "    # Alle Texte eines Genres konkatenieren\n",
    "    film_genre = \"\"\n",
    "    for film in df.iterrows():\n",
    "        if film[1].genre == genre:\n",
    "            film_genre = film_genre + film[1].text\n",
    "    # Tokenisieren\n",
    "    genre_tokens = re.findall(\"\\w+\", film_genre.lower())\n",
    "    # Stopwordliste \n",
    "    tokens_without_stopwords =[]\n",
    "    for word in genre_tokens:\n",
    "        if word not in stop_words:\n",
    "            tokens_without_stopwords.append(word)\n",
    "    #Rückgabe mit gezählten Tokens\n",
    "    return Counter(tokens_without_stopwords)\n",
    "\n",
    "\n",
    "def wordlister_Language(genre):\n",
    "    stop_words = get_stop_words('de')\n",
    "    stop_words.append('ch00ffff')\n",
    "    # Alle Texte eines Genres konkatenieren\n",
    "    film_genre = \"\"\n",
    "    for film in df_sample.iterrows():\n",
    "        if film[1].Language == genre:\n",
    "            film_genre = film_genre + film[1].text\n",
    "    # Tokenisieren\n",
    "    genre_tokens = re.findall(\"\\w+\", film_genre.lower())\n",
    "    # Stopwordliste \n",
    "    tokens_without_stopwords =[]\n",
    "    for word in genre_tokens:\n",
    "        if word not in stop_words:\n",
    "            tokens_without_stopwords.append(word)\n",
    "    #Rückgabe mit gezählten Tokens\n",
    "    return Counter(tokens_without_stopwords)\n",
    "\n",
    "# Plottet die Wörterliste aus der oberen Funktion, mit .most_common() kann die Zahl begrenzt werden.\n",
    "def wordlistplot(wordlist):\n",
    "    plt.figure(figsize=(15,8))\n",
    "    for word in wordlist:\n",
    "        x= word[0]\n",
    "        y = word[1]\n",
    "        plt.bar(x, y)\n",
    "    plt.show()\n",
    "    \n",
    "# Gibt unter Angabe eines Filmtitels als String die Worthäufigkeitsliste des Films, seinen Text \n",
    "# und zur Metadatenabfrage die Series aus dem Dataframe zurück    \n",
    "def wordlistersingle(title):\n",
    "    singletitle = df.loc[(df['Title'] == title)]\n",
    "    idx = df.index[df['Title'] == title]\n",
    "    \n",
    "    single_tokens = re.findall(\"\\w+\", singletitle.at[idx[0],'text'].lower())\n",
    "    tokens_without_stopwords =[]\n",
    "    for word in single_tokens:\n",
    "        if word not in stop_words:\n",
    "            tokens_without_stopwords.append(word)\n",
    "    return Counter(tokens_without_stopwords), singletitle.at[idx[0],'text'], singletitle\n",
    "\n",
    "Selbe Funktion, wie oben nur umgeschrieben für \"Language\"\n",
    "def wordlistersingle_Language(title):\n",
    "    singletitle = df_sample.loc[(df['Title'] == title)]\n",
    "    idx = df_sample.index[df_sample['Title'] == title]\n",
    "    \n",
    "    single_tokens = re.findall(\"\\w+\", singletitle.at[idx[0],'text'].lower())\n",
    "    tokens_without_stopwords =[]\n",
    "    for word in single_tokens:\n",
    "        if word not in stop_words:\n",
    "            tokens_without_stopwords.append(word)\n",
    "    return Counter(tokens_without_stopwords), singletitle.at[idx[0],'text'], singletitle\n",
    "    \n",
    "#Filter der NICHT Stop-Wörter herausfiltert.    \n",
    "def filter_non_stopwords(s, stopwords=get_stop_words('de')):\n",
    "    stopwords = set([t.lower() for t in stopwords])\n",
    "    token = re.findall(r'\\w+', s.lower())\n",
    "    return \" \".join([t for t in token if t in stopwords])"
   ]
  },
  {
   "cell_type": "markdown",
   "metadata": {},
   "source": [
    "## Datensatz einlesen"
   ]
  },
  {
   "cell_type": "code",
   "execution_count": 3,
   "metadata": {},
   "outputs": [
    {
     "data": {
      "text/plain": [
       "(3468, 56)"
      ]
     },
     "execution_count": 3,
     "metadata": {},
     "output_type": "execute_result"
    }
   ],
   "source": [
    "df = pd.read_csv('../../dataset/movies_complete.csv')\n",
    "df.dropna(subset=['genre'], inplace=True)\n",
    "df.dropna(subset=['Language'], inplace=True)\n",
    "df['text_length'] = df.text.apply(lambda x: len(x.split()))\n",
    "df = df[df['text_length'] >= 3000]\n",
    "df.shape"
   ]
  },
  {
   "cell_type": "code",
   "execution_count": 4,
   "metadata": {},
   "outputs": [],
   "source": [
    "df['only_stopwords'] = df.text.apply(filter_non_stopwords)"
   ]
  },
  {
   "cell_type": "markdown",
   "metadata": {},
   "source": [
    "# 1. Genre Cluster"
   ]
  },
  {
   "cell_type": "code",
   "execution_count": 7,
   "metadata": {},
   "outputs": [
    {
     "data": {
      "text/plain": [
       "[('Drama', 367),\n",
       " ('Comedy', 194),\n",
       " ('Comedy,Drama', 137),\n",
       " ('Drama,Romance', 132),\n",
       " ('Comedy,Drama,Romance', 116),\n",
       " ('Comedy,Romance', 85),\n",
       " ('Horror', 77),\n",
       " ('Drama,Thriller', 74),\n",
       " ('Horror,Thriller', 69),\n",
       " ('Action,Crime,Drama', 67),\n",
       " ('Adventure,Animation,Comedy', 65),\n",
       " ('Documentary', 64),\n",
       " ('Crime,Drama,Thriller', 62),\n",
       " ('Thriller', 53),\n",
       " ('Action,Crime,Thriller', 49),\n",
       " ('Action,Comedy,Crime', 41),\n",
       " ('Action,Adventure,Sci-Fi', 41),\n",
       " ('Action', 36),\n",
       " ('Action,Adventure,Drama', 36),\n",
       " ('Crime,Drama', 34),\n",
       " ('Biography,Drama,History', 30),\n",
       " ('Biography,Drama', 30),\n",
       " ('Crime,Drama,Mystery', 30),\n",
       " ('Action,Thriller', 28),\n",
       " ('Horror,Mystery,Thriller', 28),\n",
       " ('Action,Adventure,Comedy', 28),\n",
       " ('Comedy,Horror', 27),\n",
       " ('Comedy,Crime,Drama', 26),\n",
       " ('Action,Adventure,Fantasy', 25),\n",
       " ('Action,Adventure,Animation', 22),\n",
       " ('Crime,Thriller', 22),\n",
       " ('Family', 21),\n",
       " ('Action,Horror,Sci-Fi', 20),\n",
       " ('Biography,Drama,Romance', 20),\n",
       " ('Action,Comedy', 19),\n",
       " ('Action,Drama', 19),\n",
       " ('Action,Drama,History', 19),\n",
       " ('Drama,Mystery,Thriller', 19),\n",
       " ('Action,Drama,Thriller', 18),\n",
       " ('Action,Sci-Fi,Thriller', 18),\n",
       " ('Drama,Horror,Thriller', 16),\n",
       " ('Action,Comedy,Horror', 15),\n",
       " ('Action,Biography,Drama', 15),\n",
       " ('Horror,Sci-Fi,Thriller', 15),\n",
       " ('Adventure,Family,Fantasy', 15),\n",
       " ('Adventure,Comedy,Drama', 14),\n",
       " ('Drama,Family', 14),\n",
       " ('Adventure,Comedy,Family', 14),\n",
       " ('Biography,Comedy,Drama', 14),\n",
       " ('Mystery,Thriller', 14),\n",
       " ('Comedy,Crime', 14),\n",
       " ('Drama,War', 13),\n",
       " ('Action,Adventure', 12),\n",
       " ('Drama,Fantasy,Horror', 12),\n",
       " ('Drama,Horror,Mystery', 12),\n",
       " ('Crime,Mystery,Thriller', 12),\n",
       " ('Adventure,Family', 12),\n",
       " ('Horror,Mystery', 12),\n",
       " ('Drama,History,War', 12),\n",
       " ('Comedy,Drama,Fantasy', 12),\n",
       " ('Drama,Romance,Thriller', 12),\n",
       " ('Adventure,Animation,Family', 12),\n",
       " ('Drama,Mystery', 11),\n",
       " ('Drama,History', 11),\n",
       " ('Action,Adventure,Crime', 11),\n",
       " ('Drama,Mystery,Romance', 11),\n",
       " ('Comedy,Family', 11),\n",
       " ('Crime', 11),\n",
       " ('Action,Adventure,Thriller', 11),\n",
       " ('Comedy,Drama,Music', 10),\n",
       " ('Drama,Music', 10),\n",
       " ('Action,Horror', 10),\n",
       " ('Adventure,Drama,Family', 10),\n",
       " ('Horror,Sci-Fi', 10),\n",
       " ('Adventure,Comedy', 10),\n",
       " ('Biography,Crime,Drama', 10),\n",
       " ('Comedy,Horror,Sci-Fi', 9),\n",
       " ('Documentary,Music', 8),\n",
       " ('Adventure,Drama,Fantasy', 8),\n",
       " ('Biography,Drama,Music', 8),\n",
       " ('Comedy,Drama,Family', 8),\n",
       " ('Drama,History,Romance', 8),\n",
       " ('Drama,Sci-Fi', 8),\n",
       " ('Sci-Fi,Thriller', 8),\n",
       " ('Animation,Comedy,Family', 8),\n",
       " ('Adventure,Fantasy', 7),\n",
       " ('Drama,Horror', 7),\n",
       " ('Drama,Sport', 7),\n",
       " ('Drama,Horror,Sci-Fi', 7),\n",
       " ('Action,Crime,Mystery', 7),\n",
       " ('Drama,Fantasy', 7),\n",
       " ('Comedy,Crime,Thriller', 7),\n",
       " ('Comedy,Fantasy,Horror', 7),\n",
       " ('Animation,Family', 7),\n",
       " ('Crime,Horror,Thriller', 7),\n",
       " ('Crime,Drama,Romance', 7),\n",
       " ('Adventure', 7),\n",
       " ('Action,Sci-Fi', 7),\n",
       " ('Biography,Drama,Thriller', 7),\n",
       " ('Action,Fantasy,Horror', 7),\n",
       " ('Drama,Fantasy,Romance', 6),\n",
       " ('Action,Comedy,Drama', 6),\n",
       " ('Action,Comedy,Fantasy', 6),\n",
       " ('Action,Adventure,Family', 6),\n",
       " ('Drama,Mystery,Sci-Fi', 6),\n",
       " ('Comedy,Horror,Romance', 6),\n",
       " ('Action,Comedy,Sci-Fi', 6),\n",
       " ('Comedy,Thriller', 6),\n",
       " ('Drama,Sci-Fi,Thriller', 6),\n",
       " ('Western', 6),\n",
       " ('Comedy,Fantasy', 6),\n",
       " ('Adventure,Drama,History', 5),\n",
       " ('Romance', 5),\n",
       " ('Crime,Drama,Horror', 5),\n",
       " ('Sci-Fi', 5),\n",
       " ('Adventure,Animation,Drama', 5),\n",
       " ('Crime,Documentary', 5),\n",
       " ('Action,Crime', 5),\n",
       " ('Comedy,Drama,Musical', 5),\n",
       " ('Biography,Documentary,Music', 5),\n",
       " ('Comedy,Drama,History', 5),\n",
       " ('Action,Horror,Thriller', 5),\n",
       " ('Biography,Drama,Sport', 5),\n",
       " ('Drama,Western', 5),\n",
       " ('Documentary,Drama', 5),\n",
       " ('Action,Animation,Sci-Fi', 5),\n",
       " ('Drama,Romance,War', 5),\n",
       " ('Fantasy,Horror,Mystery', 5),\n",
       " ('Action,Adventure,Mystery', 5),\n",
       " ('Biography,Documentary', 5),\n",
       " ('Action,Fantasy,Sci-Fi', 4),\n",
       " ('Action,Drama,Fantasy', 4),\n",
       " ('Comedy,Drama,Sport', 4),\n",
       " ('Drama,Horror,Romance', 4),\n",
       " ('Adventure,Fantasy,Mystery', 4),\n",
       " ('Comedy,Sci-Fi', 4),\n",
       " ('Fantasy,Horror', 4),\n",
       " ('Comedy,Family,Fantasy', 4),\n",
       " ('Adventure,Biography,Drama', 4),\n",
       " ('Action,Horror,Mystery', 4),\n",
       " ('Mystery,Sci-Fi,Thriller', 4),\n",
       " ('Action,Comedy,Romance', 4),\n",
       " ('Biography,Drama,War', 4),\n",
       " ('Comedy,Horror,Thriller', 4),\n",
       " ('Action,Mystery,Thriller', 4),\n",
       " ('Drama,Romance,Sci-Fi', 4),\n",
       " ('Action,Comedy,Thriller', 4),\n",
       " ('Comedy,Drama,Mystery', 4),\n",
       " ('Comedy,Mystery', 4),\n",
       " ('Fantasy,Horror,Thriller', 4),\n",
       " ('Fantasy', 4),\n",
       " ('Drama,Fantasy,Mystery', 4),\n",
       " ('Action,Drama,Sci-Fi', 4),\n",
       " ('Action,Crime,Sci-Fi', 4),\n",
       " ('Comedy,Music', 4),\n",
       " ('Animation,Comedy,Drama', 3),\n",
       " ('Action,Drama,Sport', 3),\n",
       " ('Documentary,Sport', 3),\n",
       " ('Action,Biography,Crime', 3),\n",
       " ('Action,Animation,Horror', 3),\n",
       " ('Action,Drama,Romance', 3),\n",
       " ('Animation,Comedy', 3),\n",
       " ('Animation,Drama,Family', 3),\n",
       " ('Mystery,Romance,Thriller', 3),\n",
       " ('Action,Comedy,Family', 3),\n",
       " ('War', 3),\n",
       " ('Comedy,Western', 3),\n",
       " ('Adventure,Drama,Thriller', 3),\n",
       " ('Adventure,Drama,Romance', 3),\n",
       " ('Animation', 3),\n",
       " ('Adventure,Horror', 3),\n",
       " ('Action,Drama,War', 3),\n",
       " ('Comedy,Family,Romance', 3),\n",
       " ('Adventure,Comedy,Fantasy', 3),\n",
       " ('Drama,Thriller,War', 3),\n",
       " ('Crime,Drama,History', 3),\n",
       " ('Action,Fantasy,Thriller', 3),\n",
       " ('Comedy,Fantasy,Romance', 3),\n",
       " ('Action,Fantasy', 3),\n",
       " ('Adventure,Drama,Sci-Fi', 3),\n",
       " ('Drama,Fantasy,Sci-Fi', 3),\n",
       " ('Animation,Family,Fantasy', 3),\n",
       " ('Comedy,Romance,Sport', 3),\n",
       " ('Drama,History,Thriller', 3),\n",
       " ('Comedy,Horror,Mystery', 3),\n",
       " ('Adventure,Comedy,Crime', 3),\n",
       " ('Action,Drama,Mystery', 3),\n",
       " ('Romance,Thriller', 3),\n",
       " ('Biography,Documentary,Drama', 3),\n",
       " ('Action,Adventure,Biography', 3),\n",
       " ('Action,Animation,Drama', 2),\n",
       " ('Animation,Drama,Fantasy', 2),\n",
       " ('Drama,Music,Romance', 2),\n",
       " ('Biography,Documentary,Sport', 2),\n",
       " ('Action,Comedy,Sport', 2),\n",
       " ('Comedy,War', 2),\n",
       " ('Action,Romance,Thriller', 2),\n",
       " ('Action,Animation,Crime', 2),\n",
       " ('Action,Romance', 2),\n",
       " ('Adventure,Comedy,Horror', 2),\n",
       " ('Adventure,Biography,Comedy', 2),\n",
       " ('Horror,Romance', 2),\n",
       " ('Comedy,Horror,Music', 2),\n",
       " ('Crime,Horror,Mystery', 2),\n",
       " ('Action,Animation,Comedy', 2),\n",
       " ('Animation,Drama,Sci-Fi', 2),\n",
       " ('Animation,Drama', 2),\n",
       " ('Crime,Drama,War', 2),\n",
       " ('Action,Crime,Romance', 2),\n",
       " ('Animation,Comedy,Crime', 2),\n",
       " ('Adventure,Drama,Western', 2),\n",
       " ('Action,History', 2),\n",
       " ('Horror,Romance,Thriller', 2),\n",
       " ('Thriller,Western', 2),\n",
       " ('Adventure,Drama', 2),\n",
       " ('Documentary,News', 2),\n",
       " ('Action,Adventure,History', 2),\n",
       " ('Action,Drama,Family', 2),\n",
       " ('Romance,Sci-Fi,Thriller', 2),\n",
       " ('Action,Adventure,Romance', 2),\n",
       " ('Action,Crime,Fantasy', 2),\n",
       " ('Adventure,Documentary,Sport', 2),\n",
       " ('Drama,Fantasy,Musical', 2),\n",
       " ('Comedy,Crime,Mystery', 2),\n",
       " ('Action,Drama,Horror', 2),\n",
       " ('Comedy,Drama,War', 2),\n",
       " ('Action,Fantasy,Romance', 2),\n",
       " ('Action,Animation,Fantasy', 2),\n",
       " ('Adventure,Mystery,Sci-Fi', 2),\n",
       " ('Adventure,History', 2),\n",
       " ('Drama,Musical,Romance', 2),\n",
       " ('Action,Adventure,Horror', 2),\n",
       " ('Comedy,Sport', 2),\n",
       " ('Comedy,Music,Musical', 2),\n",
       " ('Documentary,History', 2),\n",
       " ('Fantasy,Romance', 2),\n",
       " ('Animation,Sci-Fi', 2),\n",
       " ('Adventure,Animation', 2),\n",
       " ('Action,Adventure,Western', 2),\n",
       " ('Comedy,Drama,Horror', 2),\n",
       " ('Horror,Mystery,Sci-Fi', 2),\n",
       " ('Action,Adventure,Documentary', 2),\n",
       " ('Action,Mystery,Sci-Fi', 2),\n",
       " ('Adventure,Family,Sci-Fi', 2),\n",
       " ('Action,Drama,Western', 2),\n",
       " ('Animation,Documentary', 1),\n",
       " ('Comedy,Musical', 1),\n",
       " ('Animation,Comedy,Fantasy', 1),\n",
       " ('Animation,Biography,Documentary', 1),\n",
       " ('Comedy,Fantasy,Sci-Fi', 1),\n",
       " ('Documentary,Drama,Family', 1),\n",
       " ('Adventure,Crime,Drama', 1),\n",
       " ('Fantasy,Mystery,Thriller', 1),\n",
       " ('Crime,Sci-Fi,Thriller', 1),\n",
       " ('Adventure,Comedy,Western', 1),\n",
       " ('Action,Comedy,Music', 1),\n",
       " ('Comedy,Musical,Sci-Fi', 1),\n",
       " ('Action,War', 1),\n",
       " ('Action,Fantasy,Western', 1),\n",
       " ('Action,Comedy,Documentary', 1),\n",
       " ('Drama,Mystery,War', 1),\n",
       " ('Drama,Thriller,Western', 1),\n",
       " ('Comedy,Crime,Romance', 1),\n",
       " ('Musical', 1),\n",
       " ('Comedy,Family,Sport', 1),\n",
       " ('Action,History,Thriller', 1),\n",
       " ('Crime,Mystery,Romance', 1),\n",
       " ('Animation,Mystery,Thriller', 1),\n",
       " ('Action,Comedy,Western', 1),\n",
       " ('Adventure,Documentary,Drama', 1),\n",
       " ('Documentary,War', 1),\n",
       " ('Adventure,Comedy,Sci-Fi', 1),\n",
       " ('Adventure,Crime,Thriller', 1),\n",
       " ('Family,Mystery', 1),\n",
       " ('Biography,Comedy,Crime', 1),\n",
       " ('Comedy,Musical,Romance', 1),\n",
       " ('Comedy,Romance,Sci-Fi', 1),\n",
       " ('Animation,Drama,Thriller', 1),\n",
       " ('Adventure,Romance', 1),\n",
       " ('Action,Crime,Horror', 1),\n",
       " ('Comedy,Fantasy,Thriller', 1),\n",
       " ('Animation,Family,Musical', 1),\n",
       " ('Biography,Comedy', 1),\n",
       " ('Adventure,Biography,History', 1),\n",
       " ('Adventure,Crime,Family', 1),\n",
       " ('Music', 1),\n",
       " ('Adventure,Drama,Horror', 1),\n",
       " ('Documentary,History,Sport', 1),\n",
       " ('Drama,Family,Romance', 1),\n",
       " ('Fantasy,Mystery,Romance', 1),\n",
       " ('Action,Biography,Documentary', 1),\n",
       " ('Documentary,History,Music', 1),\n",
       " ('Adventure,Horror,Sci-Fi', 1),\n",
       " ('Animation,Biography,Drama', 1),\n",
       " ('Music,Mystery,Thriller', 1),\n",
       " ('Comedy,Crime,Horror', 1),\n",
       " ('Adventure,Drama,Sport', 1),\n",
       " ('Family,Fantasy', 1),\n",
       " ('Drama,Music,Thriller', 1),\n",
       " ('Drama,History,Horror', 1),\n",
       " ('Biography,Drama,Musical', 1),\n",
       " ('Mystery,Romance,Sci-Fi', 1),\n",
       " ('Crime,Documentary,Drama', 1),\n",
       " ('Animation,Drama,Romance', 1),\n",
       " ('Adventure,Animation,Sci-Fi', 1),\n",
       " ('Adventure,History,Romance', 1),\n",
       " ('Documentary,Mystery', 1),\n",
       " ('Biography,History', 1),\n",
       " ('Drama,Fantasy,Music', 1),\n",
       " ('Comedy,Family,Music', 1),\n",
       " ('Adventure,Fantasy,Musical', 1),\n",
       " ('Comedy,Horror,Musical', 1),\n",
       " ('Adventure,Thriller', 1),\n",
       " ('Comedy,Drama,Sci-Fi', 1),\n",
       " ('Drama,Family,History', 1),\n",
       " ('Comedy,Romance,Western', 1),\n",
       " ('Mystery,Western', 1),\n",
       " ('Comedy,Drama,Thriller', 1),\n",
       " ('Crime,Drama,Sci-Fi', 1),\n",
       " ('Crime,Horror,Romance', 1),\n",
       " ('Crime,Romance,Thriller', 1),\n",
       " ('Fantasy,Horror,Sci-Fi', 1),\n",
       " ('Comedy,Documentary,Drama', 1),\n",
       " ('Drama,Family,Music', 1),\n",
       " ('Documentary,History,War', 1),\n",
       " ('Drama,Musical', 1),\n",
       " ('Drama,Family,Fantasy', 1),\n",
       " ('Drama,History,Sport', 1),\n",
       " ('Adventure,Sci-Fi,Thriller', 1),\n",
       " ('Biography,Documentary,Family', 1),\n",
       " ('Drama,Family,Sci-Fi', 1),\n",
       " ('Documentary,Family,History', 1),\n",
       " ('Drama,Family,Mystery', 1),\n",
       " ('Adventure,Biography,Crime', 1),\n",
       " ('Comedy,Crime,Family', 1),\n",
       " ('Adventure,Animation,Fantasy', 1),\n",
       " ('Horror,War', 1),\n",
       " ('Biography,Drama,Fantasy', 1),\n",
       " ('Drama,Fantasy,Thriller', 1),\n",
       " ('Biography', 1),\n",
       " ('Action,Thriller,Western', 1),\n",
       " ('Action,Horror,Romance', 1),\n",
       " ('Adventure,Biography', 1),\n",
       " ('Romance,War', 1),\n",
       " ('Thriller,War', 1),\n",
       " ('Crime,Drama,Fantasy', 1),\n",
       " ('Action,Mystery', 1),\n",
       " ('Crime,Documentary,History', 1),\n",
       " ('Crime,Mystery', 1),\n",
       " ('Family,Fantasy,Musical', 1),\n",
       " ('Documentary,Thriller', 1)]"
      ]
     },
     "execution_count": 7,
     "metadata": {},
     "output_type": "execute_result"
    }
   ],
   "source": [
    "genre_combination_frequs = Counter(df.genre)\n",
    "genre_combination_frequs.most_common(30)"
   ]
  },
  {
   "cell_type": "markdown",
   "metadata": {},
   "source": [
    "## Vorbereitung der Label und Slice auf die Genre"
   ]
  },
  {
   "cell_type": "code",
   "execution_count": 135,
   "metadata": {},
   "outputs": [
    {
     "data": {
      "text/plain": [
       "blue    67\n",
       "red     64\n",
       "Name: labelcolor, dtype: int64"
      ]
     },
     "execution_count": 135,
     "metadata": {},
     "output_type": "execute_result"
    }
   ],
   "source": [
    "#Documentary und Action, Crime, Drama\n",
    "labelcolor = []\n",
    "for index, row in df.iterrows():\n",
    "    if (row['genre'] == 'Documentary') == True:                       #Documentary\n",
    "        labelcolor.append('red')  \n",
    "    elif (row['genre'] == 'Action,Crime,Drama') == True:              #Action,Crime,Drama\n",
    "        labelcolor.append('blue')  \n",
    "    else: \n",
    "        labelcolor.append('white')\n",
    "df['labelcolor']=labelcolor    \n",
    "df_2genre = df[df.labelcolor != 'white']\n",
    "pd.value_counts(df_2genre.labelcolor)  "
   ]
  },
  {
   "cell_type": "markdown",
   "metadata": {},
   "source": [
    "## TFIDF - Agglomerative Clustering"
   ]
  },
  {
   "cell_type": "code",
   "execution_count": 124,
   "metadata": {},
   "outputs": [],
   "source": [
    "#tf-idf\n",
    "stop_words = get_stop_words('de')\n",
    "stop_words.append('ch00ffff')\n",
    "stop_words.append('¼')\n",
    "tfidf = TfidfVectorizer(max_features=100, stop_words=stop_words)\n",
    "tokens = tfidf.fit_transform(df_2genre.text)\n",
    "hier_model = c(n_clusters=None, distance_threshold=0).fit(tokens.todense())"
   ]
  },
  {
   "cell_type": "markdown",
   "metadata": {},
   "source": [
    "## Dendrogram"
   ]
  },
  {
   "cell_type": "code",
   "execution_count": 134,
   "metadata": {},
   "outputs": [
    {
     "data": {
      "image/png": "[encoded data removed]",
      "text/plain": [
       "<Figure size 1152x576 with 1 Axes>"
      ]
     },
     "metadata": {
      "needs_background": "light"
     },
     "output_type": "display_data"
    }
   ],
   "source": [
    "lmatrix = linkage_matrix(tokens.shape[0], hier_model.children_, hier_model.distances_)\n",
    "plt.figure(figsize=(16,8))\n",
    "dendrogram(lmatrix, labels=(df_2genre['Title'].values + \"     \" + df_2genre['genre'].values), leaf_font_size=9);"
   ]
  },
  {
   "cell_type": "markdown",
   "metadata": {},
   "source": [
    "## Liste der Häufigsten Wortformen in den \"Documentaries\""
   ]
  },
  {
   "cell_type": "code",
   "execution_count": 132,
   "metadata": {
    "scrolled": true
   },
   "outputs": [
    {
     "data": {
      "text/plain": [
       "[('ja', 1383),\n",
       " ('mehr', 1268),\n",
       " ('immer', 1067),\n",
       " ('gibt', 969),\n",
       " ('wurde', 953),\n",
       " ('leben', 872),\n",
       " ('gut', 871),\n",
       " ('menschen', 840),\n",
       " ('mal', 773),\n",
       " ('leute', 742),\n",
       " ('sagte', 717),\n",
       " ('geht', 711),\n",
       " ('viele', 709),\n",
       " ('schon', 650),\n",
       " ('sehen', 649),\n",
       " ('einfach', 634),\n",
       " ('sagen', 618),\n",
       " ('weiß', 576),\n",
       " ('nein', 568),\n",
       " ('wirklich', 550)]"
      ]
     },
     "execution_count": 132,
     "metadata": {},
     "output_type": "execute_result"
    }
   ],
   "source": [
    "count_docu = wordlister('Documentary')\n",
    "count_docu.most_common(20)"
   ]
  },
  {
   "cell_type": "markdown",
   "metadata": {},
   "source": [
    "## Liste der häufigsten Wortformen in \"Action, Crime, Drama\""
   ]
  },
  {
   "cell_type": "code",
   "execution_count": 133,
   "metadata": {
    "scrolled": true
   },
   "outputs": [
    {
     "data": {
      "text/plain": [
       "[('ja', 3096),\n",
       " ('hast', 1536),\n",
       " ('nein', 1490),\n",
       " ('mal', 1380),\n",
       " ('schon', 1334),\n",
       " ('los', 1326),\n",
       " ('gut', 1317),\n",
       " ('s', 1177),\n",
       " ('hey', 927),\n",
       " ('geht', 895),\n",
       " ('mann', 879),\n",
       " ('wer', 848),\n",
       " ('komm', 836),\n",
       " ('weiß', 827),\n",
       " ('okay', 827),\n",
       " ('bitte', 766),\n",
       " ('mehr', 726),\n",
       " ('scheiße', 649),\n",
       " ('gehen', 638),\n",
       " ('immer', 635)]"
      ]
     },
     "execution_count": 133,
     "metadata": {},
     "output_type": "execute_result"
    }
   ],
   "source": [
    "count_action_crime_drama = wordlister('Action,Crime,Drama')\n",
    "#print(wordlistplot(count_action_crime_drama.most_common(1000))) \n",
    "count_action_crime_drama.most_common(20)"
   ]
  },
  {
   "cell_type": "markdown",
   "metadata": {},
   "source": [
    "## Liste der Wortformen in expliziten Titeln zum Vergleich mit den Listen der Genre"
   ]
  },
  {
   "cell_type": "code",
   "execution_count": 84,
   "metadata": {
    "scrolled": true
   },
   "outputs": [
    {
     "data": {
      "text/plain": [
       "[('ok', 26),\n",
       " ('hast', 24),\n",
       " ('polo', 24),\n",
       " ('flint', 22),\n",
       " ('geld', 20),\n",
       " ('roland', 20),\n",
       " ('schon', 14),\n",
       " ('mal', 14),\n",
       " ('gut', 14),\n",
       " ('kannst', 12),\n",
       " ('raus', 12),\n",
       " ('leben', 12),\n",
       " ('tun', 11),\n",
       " ('willst', 11),\n",
       " ('ja', 11),\n",
       " ('freund', 11),\n",
       " ('nein', 11),\n",
       " ('gibt', 10),\n",
       " ('bitte', 9),\n",
       " ('komm', 9),\n",
       " ('bruder', 9),\n",
       " ('hallo', 9),\n",
       " ('mann', 8),\n",
       " ('hey', 8),\n",
       " ('weiß', 8),\n",
       " ('lassen', 8),\n",
       " ('gehen', 8),\n",
       " ('stopp', 7),\n",
       " ('tut', 7),\n",
       " ('morgen', 7),\n",
       " ('lange', 7),\n",
       " ('wer', 7),\n",
       " ('s', 7),\n",
       " ('leid', 6),\n",
       " ('tot', 6),\n",
       " ('beide', 6),\n",
       " ('persönlich', 6),\n",
       " ('immer', 6),\n",
       " ('anna', 6),\n",
       " ('mehr', 6)]"
      ]
     },
     "execution_count": 84,
     "metadata": {},
     "output_type": "execute_result"
    }
   ],
   "source": [
    "count_singletitle, text_singletitle, df_singletitle = wordlistersingle('Assassination Games')\n",
    "#Ghost in the Shell\n",
    "#Le marais\n",
    "count_singletitle.most_common(40)"
   ]
  },
  {
   "cell_type": "markdown",
   "metadata": {},
   "source": [
    "## Als Action, Crime, Drama eingeordnet:\n",
    "##### Le Marais: \n",
    "Dokumentation zeigt das alltägliche leben in Le Marais, die Dokumentation besteht hauptsächlich aus Dialogen mit den Leuten dort -> alltagssprache; häufigsten Wörter stimmen mehr mit Action, Crime Drama überein\n",
    "##### Die Kinder vom Napf:\n",
    "Alltagssprache, einfache Wörter, Dialoge mit Kindern -> enthält nicht die typische sachliche Sprache der meisten Dokumentationen\n",
    "##### Plastic Planet \n",
    "Trotz fachlichem Jargon, viele Interviews und Dialoge in alltagssprache, Präsens, Perfekt und Indikativ, wenig Konjunktiv und passiv oder Präteritum. Wenig Erzähleranteile, wirkt mehr wie eine Reportage in der der verantwortliche Journalist subjektiv und emotional das Geschehen beschreibt.\n",
    "##### Young Yakuza \n",
    "Viel \"Dialog\" und nachgespielte Szenen, raue alltagssprache, Kraftausdrücke, etc.  -> Die Sprache passt gut in das Action, Crime, Drama Milieu\n",
    "\n",
    "## Als Documentary eingeordnet:\n",
    "##### Kajinek \n",
    "Textdaten fehlerhaft, enthalten nicht die Untertitel sondern eine Plotbeschreibung\n",
    "##### Ghost in a Shell:\n",
    "Nur die Dialoge sind untertitelt, nicht aber die \"Erzählstimme\" -> Extrem kurz, sachliche, fast schon militärische Sprache\n",
    "##### Beyond the Track\n",
    "Viele spezifische \"Fachbegriffe\" sci-fi, neben Alltagsdialogen viel \"sachliche\" Sprache und Präteritum, vgl. Bericht\n",
    "##### Motorway \n",
    "viele asiatische Namen für Automobil und Motorrad spezifische Begriffe. Keine Kraftausdrücke oder raue Sprache\n",
    "##### Kaun Kare Kurbanie\n",
    "auffallend häufig passive oder konjunktive Sprache und Präteritum. Ebenso wenig Perfekt, wie es in der heutigen Alltagssprache gängig ist, bsp. \" Wir wünschen , dass es einen tapferen Mann gab , der gut an Herzen wäre \"\n",
    "##### Colombiana\n",
    "Untertiteltext enthält nur eine Szene aus dem Film -> sehr kurz\n",
    "\n",
    "\n",
    "## Zusammenfassung\n",
    "Die Wortformen, die die alltagssprache von der sachlichen Unterscheiden scheinen ein ausschlaggebender Faktor zu sein für die \"falsch\" eingeordneten Instanzen. Aber auch typische Begriffe der Alltagssprache haben einen großen Anteil, z.B. \"okay\", \"danke\", aber auch Kurzformen, wie \"geht's\" treten überwiegend im Action, Crime, Drama Cluster auf"
   ]
  },
  {
   "cell_type": "markdown",
   "metadata": {},
   "source": [
    "# 2. Language Cluster - deutsch japanisch\n",
    "## Labelvorbereitung"
   ]
  },
  {
   "cell_type": "code",
   "execution_count": 73,
   "metadata": {},
   "outputs": [],
   "source": [
    "colors = []\n",
    "for x in df.Language:\n",
    "    if x == 'German':\n",
    "        colors.append('red')\n",
    "    elif x == 'Japanese':\n",
    "        colors.append('blue')\n",
    "    else: \n",
    "        colors.append('white')\n",
    "df['colors']=colors      \n",
    "df_2languages = df[df.colors != 'white']"
   ]
  },
  {
   "cell_type": "markdown",
   "metadata": {},
   "source": [
    "## Hierarchisches Cluster"
   ]
  },
  {
   "cell_type": "code",
   "execution_count": 102,
   "metadata": {},
   "outputs": [
    {
     "data": {
      "text/plain": [
       "(58, 59)"
      ]
     },
     "execution_count": 102,
     "metadata": {},
     "output_type": "execute_result"
    }
   ],
   "source": [
    "df_sample = df_2languages.sample(frac=0.2)\n",
    "df_sample.shape"
   ]
  },
  {
   "cell_type": "code",
   "execution_count": 103,
   "metadata": {},
   "outputs": [],
   "source": [
    "#tf-idf\n",
    "stop_words = get_stop_words('de')\n",
    "stop_words.append('ch00ffff')\n",
    "tfidf = TfidfVectorizer(max_features=100, stop_words=stop_words)\n",
    "tokens = tfidf.fit_transform(df_sample.text)  \n",
    "hier_model = AgglomerativeClustering(n_clusters=None, distance_threshold=0).fit(tokens.todense())"
   ]
  },
  {
   "cell_type": "code",
   "execution_count": 104,
   "metadata": {},
   "outputs": [
    {
     "data": {
      "image/png": "[encoded data removed]",
      "text/plain": [
       "<Figure size 1080x576 with 1 Axes>"
      ]
     },
     "metadata": {
      "needs_background": "light"
     },
     "output_type": "display_data"
    }
   ],
   "source": [
    "lmatrix = linkage_matrix(tokens.shape[0], hier_model.children_, hier_model.distances_)\n",
    "plt.figure(figsize=(15,8))\n",
    "dendrogram(lmatrix, labels=(df_sample['Title'].values + \"     \" + df_sample['Language'].values), leaf_font_size=9);"
   ]
  },
  {
   "cell_type": "markdown",
   "metadata": {},
   "source": [
    "Gute Aufteilung in japanische (rot) und deutsche (violettt) Filme. Zwei große Ausreißergruppen sichtbar: Türkis enthält Musik Filme und der kleine Ausreißerbereich links im Cluster enthält deutsche Filme, die in Dialekt untertitelt wurden. Aufgrund der dialektischen Schreibweise der Wortformen werden diese nicht zusammen mit den anderen deutschen Filmen geclustert"
   ]
  },
  {
   "cell_type": "markdown",
   "metadata": {},
   "source": [
    "## Auswertung mit Worthäufigkeitslisten"
   ]
  },
  {
   "cell_type": "markdown",
   "metadata": {},
   "source": [
    "## Liste der Häufigsten Wortformen in expliziten Filmen"
   ]
  },
  {
   "cell_type": "code",
   "execution_count": 121,
   "metadata": {
    "scrolled": true
   },
   "outputs": [
    {
     "name": "stdout",
     "output_type": "stream",
     "text": [
      "3241\n"
     ]
    },
    {
     "data": {
      "text/plain": [
       "[('ja', 81),\n",
       " ('s', 50),\n",
       " ('schon', 45),\n",
       " ('maria', 31),\n",
       " ('hast', 29),\n",
       " ('lena', 26),\n",
       " ('waltraud', 26),\n",
       " ('gott', 24),\n",
       " ('mal', 24),\n",
       " ('gut', 22),\n",
       " ('geht', 20),\n",
       " ('nein', 19),\n",
       " ('hallo', 18),\n",
       " ('ganz', 18),\n",
       " ('mann', 17),\n",
       " ('mehr', 15),\n",
       " ('stöhnt', 15),\n",
       " ('klingelt', 14),\n",
       " ('jakob', 14),\n",
       " ('handy', 14),\n",
       " ('kannst', 14),\n",
       " ('heinz', 14),\n",
       " ('stöhnen', 14),\n",
       " ('herr', 13),\n",
       " ('flüstert', 13),\n",
       " ('mama', 13),\n",
       " ('lumpi', 13),\n",
       " ('geh', 12),\n",
       " ('grüß', 12),\n",
       " ('weiß', 12),\n",
       " ('gibt', 12),\n",
       " ('kommt', 12),\n",
       " ('halt', 12),\n",
       " ('dekan', 12),\n",
       " ('telefon', 11),\n",
       " ('tut', 11),\n",
       " ('mach', 11),\n",
       " ('bisschen', 11),\n",
       " ('immer', 11),\n",
       " ('gerti', 11)]"
      ]
     },
     "execution_count": 121,
     "metadata": {},
     "output_type": "execute_result"
    }
   ],
   "source": [
    "count_singletitle, text_singletitle, df_singletitle = wordlistersingle_Language('Eine ganz heiße Nummer')\n",
    "print(sum(count_singletitle.values()))\n",
    "count_singletitle.most_common(40)"
   ]
  },
  {
   "cell_type": "markdown",
   "metadata": {},
   "source": [
    "## Liste der Häufigsten Wortformen in den deutschen Filmen"
   ]
  },
  {
   "cell_type": "code",
   "execution_count": 100,
   "metadata": {
    "scrolled": false
   },
   "outputs": [
    {
     "data": {
      "text/plain": [
       "[('ja', 2750),\n",
       " ('mal', 1490),\n",
       " ('hast', 886),\n",
       " ('s', 870),\n",
       " ('schon', 853),\n",
       " ('musik', 770),\n",
       " ('nein', 747),\n",
       " ('gut', 683),\n",
       " ('komm', 677),\n",
       " ('mann', 672),\n",
       " ('na', 574),\n",
       " ('geht', 558),\n",
       " ('los', 554),\n",
       " ('bitte', 540),\n",
       " ('mehr', 477),\n",
       " ('ganz', 469),\n",
       " ('immer', 468),\n",
       " ('weiß', 448),\n",
       " ('frau', 414),\n",
       " ('danke', 410)]"
      ]
     },
     "execution_count": 100,
     "metadata": {},
     "output_type": "execute_result"
    }
   ],
   "source": [
    "count_german = wordlister_Language('German')\n",
    "count_german.most_common(20)"
   ]
  },
  {
   "cell_type": "markdown",
   "metadata": {},
   "source": [
    "## Liste der Häufigsten Wortformen in den japanischen Filmen"
   ]
  },
  {
   "cell_type": "code",
   "execution_count": 101,
   "metadata": {
    "scrolled": false
   },
   "outputs": [
    {
     "data": {
      "text/plain": [
       "[('ja', 632),\n",
       " ('schon', 327),\n",
       " ('hast', 324),\n",
       " ('mal', 297),\n",
       " ('s', 294),\n",
       " ('gut', 263),\n",
       " ('bitte', 246),\n",
       " ('nein', 237),\n",
       " ('los', 195),\n",
       " ('mehr', 191),\n",
       " ('freund', 188),\n",
       " ('immer', 174),\n",
       " ('wer', 170),\n",
       " ('welt', 166),\n",
       " ('geht', 150),\n",
       " ('herr', 150),\n",
       " ('wurde', 149),\n",
       " ('leben', 138),\n",
       " ('weiß', 133),\n",
       " ('gehen', 130)]"
      ]
     },
     "execution_count": 101,
     "metadata": {},
     "output_type": "execute_result"
    }
   ],
   "source": [
    "count_japanese = wordlister_Language('Japanese')\n",
    "count_japanese.most_common(20)"
   ]
  },
  {
   "cell_type": "markdown",
   "metadata": {},
   "source": [
    "### Fazit:\n",
    "Die Unterscheidung von deutscher zu japanischer Sprache ist möglich. Die Sprachen lassen sich mittels hierarchischem Clustering gut unterscheiden. Ebenso zeigen die Worthäufigkeitslisten einige distinktive Wörter, anhand denen die zwischen den Sprachen differenziert werden kann. Die SPrache ist aber wie erwarte durch die Genre Untersuchungen zuvor nicht das einzige Signal, dass von den Texten ausgeht (Siehe Musik-Cluster)"
   ]
  },
  {
   "cell_type": "markdown",
   "metadata": {},
   "source": [
    "# 3. Cluster über zusammengefasster Texte der einzelnen Genre\n",
    "## Zusammenfassen der Texte"
   ]
  },
  {
   "cell_type": "code",
   "execution_count": 20,
   "metadata": {},
   "outputs": [
    {
     "name": "stdout",
     "output_type": "stream",
     "text": [
      "(352, 2)\n"
     ]
    },
    {
     "data": {
      "text/html": [
       "<div>\n",
       "<style scoped>\n",
       "    .dataframe tbody tr th:only-of-type {\n",
       "        vertical-align: middle;\n",
       "    }\n",
       "\n",
       "    .dataframe tbody tr th {\n",
       "        vertical-align: top;\n",
       "    }\n",
       "\n",
       "    .dataframe thead th {\n",
       "        text-align: right;\n",
       "    }\n",
       "</style>\n",
       "<table border=\"1\" class=\"dataframe\">\n",
       "  <thead>\n",
       "    <tr style=\"text-align: right;\">\n",
       "      <th></th>\n",
       "      <th>genre</th>\n",
       "      <th>text</th>\n",
       "    </tr>\n",
       "  </thead>\n",
       "  <tbody>\n",
       "    <tr>\n",
       "      <td>0</td>\n",
       "      <td>Adventure,Drama,History</td>\n",
       "      <td>Der Roman von Alexandre Dumas dem Älteren hatt...</td>\n",
       "    </tr>\n",
       "    <tr>\n",
       "      <td>1</td>\n",
       "      <td>Comedy</td>\n",
       "      <td>Hände hoch oder ich schieße ( 1966 ) dTV - MDR...</td>\n",
       "    </tr>\n",
       "    <tr>\n",
       "      <td>2</td>\n",
       "      <td>Drama</td>\n",
       "      <td>Hallo , Manuela ? Störe ich ? Kann ich zu dir ...</td>\n",
       "    </tr>\n",
       "    <tr>\n",
       "      <td>3</td>\n",
       "      <td>Action,Adventure</td>\n",
       "      <td>Dein Vater war ein ausgezeichneter Kämpfer . A...</td>\n",
       "    </tr>\n",
       "    <tr>\n",
       "      <td>4</td>\n",
       "      <td>Action</td>\n",
       "      <td>Na los , iss jetzt schnell auf . Junge , ist d...</td>\n",
       "    </tr>\n",
       "  </tbody>\n",
       "</table>\n",
       "</div>"
      ],
      "text/plain": [
       "                     genre                                               text\n",
       "0  Adventure,Drama,History  Der Roman von Alexandre Dumas dem Älteren hatt...\n",
       "1                   Comedy  Hände hoch oder ich schieße ( 1966 ) dTV - MDR...\n",
       "2                    Drama  Hallo , Manuela ? Störe ich ? Kann ich zu dir ...\n",
       "3         Action,Adventure  Dein Vater war ein ausgezeichneter Kämpfer . A...\n",
       "4                   Action  Na los , iss jetzt schnell auf . Junge , ist d..."
      ]
     },
     "execution_count": 20,
     "metadata": {},
     "output_type": "execute_result"
    }
   ],
   "source": [
    "data=[]\n",
    "texts =[]\n",
    "genres=[]\n",
    "for genre in df.genre.unique():\n",
    "    text = \"\"\n",
    "    for instance in df.iterrows():\n",
    "        if instance[1].genre == genre:\n",
    "            text = text + instance[1].text\n",
    "    data.append({\n",
    "                'genre': genre,\n",
    "                'text': text,                            \n",
    "            })\n",
    "df_genre = pd.DataFrame.from_dict(data)\n",
    "print(df_genre.shape)\n",
    "df_genre.head()"
   ]
  },
  {
   "cell_type": "code",
   "execution_count": 21,
   "metadata": {},
   "outputs": [],
   "source": [
    "df_genre.dropna(subset=['genre'], inplace=True)"
   ]
  },
  {
   "cell_type": "markdown",
   "metadata": {},
   "source": [
    "### Prüfen ob die Texte korrekt zusammengefasst wurden"
   ]
  },
  {
   "cell_type": "code",
   "execution_count": 22,
   "metadata": {},
   "outputs": [
    {
     "name": "stdout",
     "output_type": "stream",
     "text": [
      "1117565\n",
      "1117565\n"
     ]
    }
   ],
   "source": [
    "genre_test = \"Action\"\n",
    "for x in df_genre.iterrows():\n",
    "    if x[1].genre == genre_test:\n",
    "        print(len(x[1].text))\n",
    "\n",
    "text = \"\"\n",
    "for instance in df.iterrows():\n",
    "    if instance[1].genre == genre_test:\n",
    "        text = text + instance[1].text\n",
    "print(len(text))"
   ]
  },
  {
   "cell_type": "markdown",
   "metadata": {},
   "source": [
    "## Erste Exploration mittels PCA"
   ]
  },
  {
   "cell_type": "code",
   "execution_count": 23,
   "metadata": {},
   "outputs": [],
   "source": [
    "# TF-IDF\n",
    "tfidf = TfidfVectorizer(max_features=100, stop_words=stop_words)\n",
    "tokens = tfidf.fit_transform(df_genre.text)"
   ]
  },
  {
   "cell_type": "code",
   "execution_count": 24,
   "metadata": {},
   "outputs": [
    {
     "data": {
      "image/png": "[encoded data removed]",
      "text/plain": [
       "<Figure size 1080x576 with 1 Axes>"
      ]
     },
     "metadata": {
      "needs_background": "light"
     },
     "output_type": "display_data"
    }
   ],
   "source": [
    "pca = PCA(n_components=2)\n",
    "pca.fit(tokens.todense())\n",
    "X_tf = pca.transform(tokens.todense())\n",
    "\n",
    "#Abspeichern der Zwischenergebnisste im Datafram\n",
    "df_genre['pcatokens_1'] = X_tf[:,0]\n",
    "df_genre['pcatokens_2'] = X_tf[:,1]\n",
    "\n",
    "#Plotten anhand der gespeicherten Zwischenergebnisse \n",
    "plt.figure(figsize=(15,8))\n",
    "for d in df_genre.iterrows():\n",
    "    x = d[1].pcatokens_1\n",
    "    y = d[1].pcatokens_2    \n",
    "    plt.plot(x, y, 'o', markersize=4)\n",
    "    #plt.plot(x, y, marker=TextPath((-3, -3), f'{d[1].kmeanstokens}'), color='black', markersize=1)"
   ]
  },
  {
   "cell_type": "markdown",
   "metadata": {},
   "source": [
    "## Exploration mittels Plotly\n",
    "### Ineraktive Grafik - um diese Anzeigen zu können muss das Notebook neu ausgeführt werden"
   ]
  },
  {
   "cell_type": "code",
   "execution_count": 25,
   "metadata": {},
   "outputs": [
    {
     "data": {
      "application/vnd.plotly.v1+json": {
       "config": {
        "plotlyServerURL": "https://plot.ly"
       },
       "data": [
        {
         "mode": "markers",
         "text": [
          "Adventure,Drama,History|",
          "Comedy|",
          "Drama|",
          "Action,Adventure|",
          "Action|",
          "Action,Crime,Drama|",
          "Romance|",
          "Documentary|",
          "Action,Comedy|",
          "Animation,Documentary|",
          "Comedy,Drama,Music|",
          "Drama,Fantasy,Horror|",
          "Horror|",
          "Action,Thriller|",
          "Comedy,Drama,Romance|",
          "Crime,Drama,Thriller|",
          "Thriller|",
          "Crime,Drama|",
          "Drama,Thriller|",
          "Action,Animation,Drama|",
          "Documentary,Music|",
          "Action,Fantasy,Sci-Fi|",
          "Action,Comedy,Horror|",
          "Drama,Romance|",
          "Action,Drama|",
          "Comedy,Drama|",
          "Animation,Drama,Fantasy|",
          "Action,Adventure,Animation|",
          "Horror,Thriller|",
          "Action,Drama,Thriller|",
          "Drama,Horror,Mystery|",
          "Animation,Comedy,Drama|",
          "Horror,Mystery,Thriller|",
          "Crime,Mystery,Thriller|",
          "Crime,Drama,Horror|",
          "Adventure,Fantasy|",
          "Comedy,Romance|",
          "Biography,Drama,History|",
          "Action,Drama,Sport|",
          "Drama,Music,Romance|",
          "Sci-Fi|",
          "Action,Biography,Drama|",
          "Action,Crime,Thriller|",
          "Biography,Documentary,Sport|",
          "Adventure,Comedy,Drama|",
          "Biography,Drama|",
          "Comedy,Musical|",
          "Comedy,Crime,Drama|",
          "Action,Drama,Fantasy|",
          "Drama,Horror|",
          "Comedy,Horror|",
          "Adventure,Animation,Drama|",
          "Horror,Sci-Fi,Thriller|",
          "Drama,Music|",
          "Crime,Drama,Mystery|",
          "Drama,Mystery|",
          "Crime,Thriller|",
          "Drama,History|",
          "Drama,Horror,Thriller|",
          "Drama,Fantasy,Romance|",
          "Adventure,Family|",
          "Drama,Sport|",
          "Action,Comedy,Drama|",
          "Action,Adventure,Crime|",
          "Action,Horror,Sci-Fi|",
          "Horror,Mystery|",
          "Action,Comedy,Sport|",
          "Comedy,Drama,Sport|",
          "Drama,Horror,Romance|",
          "Comedy,War|",
          "Adventure,Fantasy,Mystery|",
          "Crime,Documentary|",
          "Documentary,Sport|",
          "Drama,History,War|",
          "Animation,Comedy,Fantasy|",
          "Action,Biography,Crime|",
          "Action,Animation,Horror|",
          "Action,Horror|",
          "Animation,Biography,Documentary|",
          "Action,Drama,Romance|",
          "Comedy,Sci-Fi|",
          "Action,Romance,Thriller|",
          "Action,Adventure,Drama|",
          "Adventure,Drama,Family|",
          "Fantasy,Horror|",
          "Action,Crime|",
          "Horror,Sci-Fi|",
          "Action,Animation,Crime|",
          "Drama,War|",
          "Comedy,Fantasy,Sci-Fi|",
          "Action,Romance|",
          "Action,Comedy,Crime|",
          "Action,Adventure,Comedy|",
          "Documentary,Drama,Family|",
          "Comedy,Drama,Musical|",
          "Drama,Horror,Sci-Fi|",
          "Action,Comedy,Fantasy|",
          "Comedy,Horror,Sci-Fi|",
          "Drama,Family|",
          "Adventure,Drama,Fantasy|",
          "Action,Sci-Fi,Thriller|",
          "Animation,Comedy|",
          "Action,Adventure,Sci-Fi|",
          "Adventure,Animation,Comedy|",
          "Action,Drama,History|",
          "Animation,Drama,Family|",
          "Biography,Drama,Music|",
          "Action,Adventure,Family|",
          "Adventure,Comedy,Family|",
          "Action,Adventure,Fantasy|",
          "Comedy,Drama,Family|",
          "Comedy,Drama,Fantasy|",
          "Action,Crime,Mystery|",
          "Adventure,Crime,Drama|",
          "Biography,Comedy,Drama|",
          "Drama,Mystery,Thriller|",
          "Biography,Drama,Romance|",
          "Adventure,Comedy,Horror|",
          "Mystery,Thriller|",
          "Comedy,Family,Fantasy|",
          "Drama,Fantasy|",
          "Comedy,Crime,Thriller|",
          "Drama,Mystery,Sci-Fi|",
          "Adventure,Biography,Comedy|",
          "Adventure,Biography,Drama|",
          "Fantasy,Mystery,Thriller|",
          "Action,Horror,Mystery|",
          "Family|",
          "Adventure,Comedy|",
          "Horror,Romance|",
          "Mystery,Sci-Fi,Thriller|",
          "Crime,Sci-Fi,Thriller|",
          "Adventure,Comedy,Western|",
          "Drama,Mystery,Romance|",
          "Drama,Romance,Thriller|",
          "Action,Comedy,Music|",
          "Comedy,Horror,Music|",
          "Crime,Horror,Mystery|",
          "Comedy,Horror,Romance|",
          "Comedy,Fantasy,Horror|",
          "Action,Animation,Comedy|",
          "Comedy,Musical,Sci-Fi|",
          "Animation,Drama,Sci-Fi|",
          "Action,Comedy,Sci-Fi|",
          "Action,War|",
          "Animation,Family|",
          "Action,Comedy,Romance|",
          "Mystery,Romance,Thriller|",
          "Drama,History,Romance|",
          "Action,Comedy,Family|",
          "War|",
          "Animation,Drama|",
          "Comedy,Western|",
          "Adventure,Family,Fantasy|",
          "Action,Fantasy,Western|",
          "Action,Comedy,Documentary|",
          "Adventure,Drama,Thriller|",
          "Comedy,Family|",
          "Crime,Drama,War|",
          "Biography,Documentary,Music|",
          "Crime,Horror,Thriller|",
          "Action,Crime,Romance|",
          "Drama,Mystery,War|",
          "Comedy,Thriller|",
          "Comedy,Drama,History|",
          "Drama,Thriller,Western|",
          "Drama,Sci-Fi|",
          "Sci-Fi,Thriller|",
          "Biography,Drama,War|",
          "Comedy,Horror,Thriller|",
          "Animation,Comedy,Crime|",
          "Comedy,Crime,Romance|",
          "Adventure,Drama,Romance|",
          "Musical|",
          "Action,Mystery,Thriller|",
          "Action,Horror,Thriller|",
          "Drama,Romance,Sci-Fi|",
          "Action,Comedy,Thriller|",
          "Biography,Drama,Sport|",
          "Comedy,Family,Sport|",
          "Adventure,Drama,Western|",
          "Animation|",
          "Action,History,Thriller|",
          "Crime,Drama,Romance|",
          "Crime,Mystery,Romance|",
          "Action,History|",
          "Animation,Mystery,Thriller|",
          "Drama,Sci-Fi,Thriller|",
          "Horror,Romance,Thriller|",
          "Adventure,Horror|",
          "Drama,Western|",
          "Thriller,Western|",
          "Action,Comedy,Western|",
          "Adventure|",
          "Adventure,Animation,Family|",
          "Crime|",
          "Adventure,Drama|",
          "Western|",
          "Action,Drama,War|",
          "Adventure,Documentary,Drama|",
          "Animation,Comedy,Family|",
          "Documentary,War|",
          "Documentary,Drama|",
          "Action,Animation,Sci-Fi|",
          "Comedy,Fantasy|",
          "Documentary,News|",
          "Comedy,Drama,Mystery|",
          "Adventure,Comedy,Sci-Fi|",
          "Drama,Romance,War|",
          "Action,Sci-Fi|",
          "Comedy,Family,Romance|",
          "Action,Adventure,Thriller|",
          "Action,Adventure,History|",
          "Adventure,Comedy,Fantasy|",
          "Action,Drama,Family|",
          "Drama,Thriller,War|",
          "Romance,Sci-Fi,Thriller|",
          "Crime,Drama,History|",
          "Comedy,Mystery|",
          "Adventure,Crime,Thriller|",
          "Fantasy,Horror,Mystery|",
          "Comedy,Crime|",
          "Action,Fantasy,Thriller|",
          "Action,Adventure,Romance|",
          "Action,Crime,Fantasy|",
          "Biography,Crime,Drama|",
          "Comedy,Fantasy,Romance|",
          "Biography,Drama,Thriller|",
          "Action,Fantasy|",
          "Fantasy,Horror,Thriller|",
          "Adventure,Documentary,Sport|",
          "Family,Mystery|",
          "Adventure,Drama,Sci-Fi|",
          "Drama,Fantasy,Musical|",
          "Biography,Comedy,Crime|",
          "Drama,Fantasy,Sci-Fi|",
          "Comedy,Musical,Romance|",
          "Comedy,Crime,Mystery|",
          "Action,Drama,Horror|",
          "Comedy,Romance,Sci-Fi|",
          "Animation,Drama,Thriller|",
          "Comedy,Drama,War|",
          "Action,Fantasy,Romance|",
          "Adventure,Romance|",
          "Action,Crime,Horror|",
          "Fantasy|",
          "Action,Animation,Fantasy|",
          "Action,Adventure,Mystery|",
          "Animation,Family,Fantasy|",
          "Adventure,Mystery,Sci-Fi|",
          "Action,Fantasy,Horror|",
          "Comedy,Romance,Sport|",
          "Adventure,History|",
          "Drama,Musical,Romance|",
          "Drama,Fantasy,Mystery|",
          "Action,Adventure,Horror|",
          "Drama,History,Thriller|",
          "Comedy,Horror,Mystery|",
          "Comedy,Sport|",
          "Comedy,Fantasy,Thriller|",
          "Biography,Documentary|",
          "Animation,Family,Musical|",
          "Comedy,Music,Musical|",
          "Adventure,Comedy,Crime|",
          "Biography,Comedy|",
          "Adventure,Biography,History|",
          "Adventure,Crime,Family|",
          "Documentary,History|",
          "Music|",
          "Fantasy,Romance|",
          "Adventure,Drama,Horror|",
          "Documentary,History,Sport|",
          "Drama,Family,Romance|",
          "Fantasy,Mystery,Romance|",
          "Animation,Sci-Fi|",
          "Adventure,Animation|",
          "Action,Biography,Documentary|",
          "Documentary,History,Music|",
          "Action,Adventure,Western|",
          "Action,Drama,Mystery|",
          "Romance,Thriller|",
          "Action,Drama,Sci-Fi|",
          "Comedy,Drama,Horror|",
          "Horror,Mystery,Sci-Fi|",
          "Adventure,Horror,Sci-Fi|",
          "Action,Crime,Sci-Fi|",
          "Animation,Biography,Drama|",
          "Music,Mystery,Thriller|",
          "Comedy,Crime,Horror|",
          "Adventure,Drama,Sport|",
          "Family,Fantasy|",
          "Drama,Music,Thriller|",
          "Comedy,Music|",
          "Drama,History,Horror|",
          "Biography,Documentary,Drama|",
          "Biography,Drama,Musical|",
          "Mystery,Romance,Sci-Fi|",
          "Crime,Documentary,Drama|",
          "Animation,Drama,Romance|",
          "Adventure,Animation,Sci-Fi|",
          "Adventure,History,Romance|",
          "Action,Adventure,Documentary|",
          "Documentary,Mystery|",
          "Biography,History|",
          "Drama,Fantasy,Music|",
          "Action,Mystery,Sci-Fi|",
          "Comedy,Family,Music|",
          "Adventure,Fantasy,Musical|",
          "Adventure,Family,Sci-Fi|",
          "Comedy,Horror,Musical|",
          "Adventure,Thriller|",
          "Comedy,Drama,Sci-Fi|",
          "Drama,Family,History|",
          "Comedy,Romance,Western|",
          "Mystery,Western|",
          "Comedy,Drama,Thriller|",
          "Crime,Drama,Sci-Fi|",
          "Crime,Horror,Romance|",
          "Crime,Romance,Thriller|",
          "Fantasy,Horror,Sci-Fi|",
          "Comedy,Documentary,Drama|",
          "Drama,Family,Music|",
          "Action,Adventure,Biography|",
          "Documentary,History,War|",
          "Drama,Musical|",
          "Drama,Family,Fantasy|",
          "Action,Drama,Western|",
          "Drama,History,Sport|",
          "Adventure,Sci-Fi,Thriller|",
          "Biography,Documentary,Family|",
          "Drama,Family,Sci-Fi|",
          "Documentary,Family,History|",
          "Drama,Family,Mystery|",
          "Adventure,Biography,Crime|",
          "Comedy,Crime,Family|",
          "Adventure,Animation,Fantasy|",
          "Horror,War|",
          "Biography,Drama,Fantasy|",
          "Drama,Fantasy,Thriller|",
          "Biography|",
          "Action,Thriller,Western|",
          "Action,Horror,Romance|",
          "Adventure,Biography|",
          "Romance,War|",
          "Thriller,War|",
          "Crime,Drama,Fantasy|",
          "Action,Mystery|",
          "Crime,Documentary,History|",
          "Crime,Mystery|",
          "Adventure,Sci-Fi|",
          "Family,Fantasy,Musical|",
          "Documentary,Thriller|"
         ],
         "type": "scatter",
         "x": [
          0.18173253527958283,
          -0.2081515320305943,
          -0.1055752853944546,
          0.10649246073640947,
          -0.07524052115549235,
          -0.09607209936377335,
          -0.16651054060294782,
          0.4135799965691963,
          -0.13224173991466198,
          0.5491035153731054,
          -0.04807086230826587,
          -0.022797595687704945,
          -0.17762920653057399,
          -0.12871454969226356,
          -0.1665257709300682,
          -0.1296074718095085,
          -0.12251135858066477,
          -0.10836778517477381,
          -0.1433931791170009,
          0.07496884747137854,
          0.26445243195860146,
          0.17405375771104342,
          -0.1361031087004732,
          -0.11711082770635113,
          0.033332254820996596,
          -0.1678071791694391,
          0.07675534535080294,
          -0.09656290599677939,
          -0.17722798762022618,
          -0.09792723282715755,
          -0.1261814247802895,
          0.03445226153066806,
          -0.142212319316859,
          -0.07545636040112198,
          -0.05825036925728803,
          0.12452949860073001,
          -0.21902853821926271,
          0.06087797549255033,
          -0.13968321797822458,
          -0.1471511151527523,
          0.018326216700639646,
          -0.012666253822146648,
          -0.09513260606480302,
          0.5018710797877042,
          -0.11821117146154637,
          -0.006136693473207672,
          0.18325694525327532,
          -0.13194198381477948,
          0.11506545600732747,
          -0.08418973206219756,
          -0.20581954672759936,
          0.04814693783391996,
          -0.16400311201111012,
          -0.14918440224696894,
          -0.07550537136354889,
          0.027904744908096645,
          -0.1525915987794065,
          0.13884451982601184,
          -0.21498389814160557,
          -0.08840545298785034,
          -0.12862314723564547,
          -0.2292386742684558,
          -0.04024889729267121,
          -0.03851594084914386,
          -0.09806278283414452,
          -0.1132878438980795,
          -0.08219768939085466,
          -0.1783288628571918,
          -0.18757579874891944,
          0.039568518785360045,
          0.048584116225049975,
          0.46459047796387165,
          0.304384391287855,
          0.0955569432791143,
          0.3558440896414432,
          -0.023082550732438225,
          -0.03435496287384409,
          -0.12266058433730609,
          0.2801072705142908,
          0.0726474991922578,
          -0.1882486284822408,
          -0.004158642879102056,
          0.07137140923622588,
          -0.15921856037372006,
          -0.0497417647003614,
          -0.10356954113666778,
          -0.2043982821794946,
          0.04025851575985709,
          -0.06345486378107927,
          -0.01403992728969148,
          -0.05428707185169062,
          -0.12064939280350813,
          -0.10084299056397246,
          0.7545257900422037,
          0.04387023045076956,
          -0.07817016397320636,
          -0.1316480107771418,
          -0.20146920782582112,
          -0.21779495539000238,
          0.010595373252445119,
          -0.03172722534106489,
          -0.15826081212946194,
          -0.007123224674654437,
          -0.16598285745499058,
          0.13376299028848268,
          -0.01144381060512498,
          -0.11506236949735632,
          -0.06607205994823763,
          -0.19692885236460553,
          0.10587634918108865,
          -0.1367374589070557,
          -0.17176481885142633,
          -0.052626015744078575,
          0.10915412450186548,
          -0.14000283382026787,
          -0.09226722355102253,
          0.041689464471979784,
          -0.23380951281238238,
          -0.12748846611137898,
          -0.1263951400909352,
          -0.043852899268452414,
          -0.18687494586382092,
          -0.04335937330545772,
          -0.030404328203816427,
          0.14160364021053148,
          -0.12770390718269647,
          -0.11881037081404536,
          -0.1913686682061507,
          -0.24551913802147385,
          -0.07320296706957675,
          -0.06839471999439868,
          -0.09346751888503949,
          -0.005997474017773115,
          0.017897781432038688,
          -0.1351389300403967,
          0.3118459224006592,
          -0.26605520581581527,
          -0.07568354912557405,
          -0.20501953524764838,
          -0.11017272892231066,
          0.10439086246076021,
          0.30757906680009967,
          0.15480659239624817,
          -0.12702493245655155,
          -0.0175988760952897,
          -0.05660030277224729,
          -0.1271098816321176,
          0.08216762363998628,
          0.14175247053321594,
          -0.07961021031014506,
          -0.06583096604870992,
          -0.09941278095744091,
          0.046512908523264805,
          -0.04479727291786319,
          -0.03384873706372537,
          -0.0917819370891617,
          -0.0010612220650551571,
          -0.2027657759960536,
          -0.02607402000931703,
          0.43136243482175574,
          -0.18689011825160717,
          -0.06453584679628971,
          0.2962788783566435,
          0.010761252777638446,
          0.05117541571614744,
          0.22318361386540805,
          -0.016785220195250618,
          -0.1425894174266584,
          0.15488079134469906,
          -0.1384090623704746,
          -0.16268700695225413,
          -0.16141680122744198,
          -0.06998487433701059,
          -0.020612982070034085,
          0.06529990479252638,
          -0.17772088180989662,
          -0.07623308710827274,
          -0.11800927425038307,
          -0.04533041812939118,
          -0.16962206525677526,
          0.36125401730295936,
          -0.12407175709186223,
          0.3610166124968771,
          -0.16204979738480704,
          -0.11420738598761614,
          0.05931297220589641,
          0.07379447336019865,
          -0.10419369412073771,
          0.10690096383433649,
          -0.10514830751998941,
          0.15602761383871178,
          -0.03482077024532933,
          0.11939792900086021,
          0.08206150249885256,
          -0.1392940623719573,
          -0.08160963335776582,
          0.01655216652266902,
          -0.012063778905958061,
          -0.029249489615490017,
          0.2169602078033614,
          -0.17303455545650465,
          0.21581092263574703,
          0.2502804005840519,
          -0.011660670002491911,
          -0.18306936334154095,
          0.45620525681969937,
          -0.041808538468663115,
          -0.14415790854222343,
          -0.06371167111412042,
          -0.05761781687251787,
          -0.15673992639819356,
          0.057390876810151335,
          0.33465017529685614,
          -0.1852972011856423,
          -0.09459459660175876,
          -0.025368410239376776,
          0.015198174203817213,
          -0.23993774985349844,
          -0.26491910907536165,
          -0.2115488270463332,
          0.05882348260096043,
          -0.23181038264574558,
          -0.15135284829508708,
          0.11347002744325903,
          0.030828377993817217,
          -0.133918377454295,
          -0.09116017142546028,
          0.0019096873001277538,
          0.12535226875907088,
          -0.14859211823762355,
          0.3536775431099871,
          -0.06782954528823018,
          -0.0714832519368491,
          -0.002647790810339901,
          0.04065130913759611,
          -0.08295849697735119,
          -0.19109971565535583,
          -0.0028395836132123716,
          -0.11264621690526895,
          -0.14632403448181233,
          0.09852121232640301,
          0.07453987845160279,
          0.05875349577596109,
          -0.272072898310147,
          0.35553939948840707,
          -0.08019623430304468,
          -0.013426273647989552,
          -0.06318347906194668,
          -0.13613511517757046,
          -0.05586436856877855,
          -0.032518143044475485,
          -0.24379607717763938,
          0.110385873048778,
          0.3622289685180443,
          0.055429810045681746,
          -0.05439510518746495,
          -0.007970583750182529,
          -0.1298416768312573,
          -0.22461029847121908,
          -0.20275249543890878,
          0.4551342396392538,
          -0.12109826303691677,
          -0.14447066165987082,
          -0.07416707118728906,
          0.04722310483459845,
          0.17007540264633303,
          -0.11151499705085642,
          0.14545112397346216,
          -0.13729140578572832,
          0.25005302459767675,
          -0.17733418933442538,
          0.480818623515489,
          0.016876243760616624,
          0.30341117156333225,
          -0.01894030222569438,
          -0.1873551161021372,
          0.4034140504975219,
          0.5792717565051676,
          0.10103493327533848,
          0.06256911043735063,
          -0.07374268817974956,
          -0.07575905938151484,
          -0.11684285862460228,
          -0.16474134937415646,
          -0.046351770744806356,
          0.01288725047070792,
          -0.036417764338053604,
          -0.09216654481428657,
          -0.20152207119707094,
          -0.30533731410395737,
          -0.09997006049240116,
          -0.23750954466433044,
          -0.21324274090861073,
          0.21541674439341232,
          0.47887255149285246,
          0.11236550258604254,
          0.052608627435514296,
          0.5741296197994022,
          0.010706915167867063,
          0.2496635012722934,
          0.3860255069137031,
          0.08996137700823513,
          0.605067988712408,
          0.49024922708539775,
          -0.03860516025006082,
          -0.07436204797847956,
          -0.1767857732004835,
          0.38675322688512664,
          -0.16139159037643985,
          0.09361946701445503,
          -0.07960361593979338,
          -0.19350133756743143,
          -0.14333572263043456,
          -0.16984280647142896,
          0.27625442660085825,
          -0.07452850208012426,
          0.05107651245706188,
          -0.17328893372668525,
          0.14851976231594474,
          -0.14430198119512191,
          0.22589613590264732,
          -0.27429481119952226,
          0.11178684643115411,
          0.6872866640579697,
          0.2878444119855386,
          0.26277905233221516,
          0.1853641154977386,
          -0.0883748110643018,
          -0.01717636560053865,
          -0.08482314901811919,
          0.3229787630377322,
          0.4732748989853106,
          0.07214146876213291,
          -0.12215213588880396,
          -0.060951469982541716,
          0.15469871854680753,
          0.004471818333990202,
          -0.038921657072224274,
          0.016856518530512666,
          -0.01339809440657397,
          -0.012928666639569115,
          0.17536214297953356,
          0.015365541943033505,
          -0.06452613631047019,
          0.010038644483751202,
          -0.19756902803532495,
          0.07677009548629324,
          0.6792484892508532,
          0.14261129492164965,
          0.2537101662410408,
          0.2767464625137738,
          0.08055409687036667
         ],
         "y": [
          -0.03898433951336952,
          0.056043256883665425,
          0.04925050117254392,
          -0.07564363798768738,
          -0.059862177147308494,
          -0.03184110820538362,
          0.004390467127329381,
          0.019582027142496985,
          -0.03814678228861351,
          0.1409335195107243,
          0.13900772390696942,
          -0.03396522115151793,
          -0.08793043959200063,
          -0.0825570831093391,
          0.038144815636462326,
          -0.0056608944988512724,
          0.011530196967317158,
          -0.032580034935703175,
          0.010937705858298775,
          -0.20658804069060124,
          0.18561218457364886,
          -0.07479958133553559,
          -0.09134080037493457,
          0.04203543117868662,
          -0.05977994236465434,
          0.06621229159551245,
          0.06044386051435898,
          -0.057554203143898884,
          -0.08719879724556664,
          -0.05414062185129851,
          -0.12778371520190074,
          0.11214496771243793,
          -0.1685710269003777,
          0.00290644519870814,
          0.07326386360777608,
          -0.12161374218798751,
          0.039149804559408787,
          -0.0017685330366802793,
          -0.0801210661941659,
          0.05840502451788094,
          -0.08804663348034487,
          -0.022331736921329687,
          -0.005312326015838259,
          -0.018853796336247612,
          -0.0013068838982728513,
          0.04947135915730929,
          -0.19955459510635462,
          -0.04621292203177211,
          -0.02940834325430049,
          -0.14336862782741977,
          -0.060976666573487784,
          0.26861434979461285,
          -0.13879337501894518,
          0.07128804009258609,
          -0.026026896158865387,
          -0.03157253795243022,
          -0.029120794413623884,
          0.09448972696042839,
          -0.03966802882771556,
          0.06311483150855804,
          0.137981951292467,
          0.035036371339497954,
          -0.002095190040544417,
          0.04518209865446196,
          -0.04794442503766442,
          -0.08614157273748899,
          0.021800574593319345,
          0.10186151137740024,
          0.08970414569127912,
          0.3974915292371101,
          -0.0655317141223796,
          0.042673511720631885,
          0.3967239083196902,
          -0.06505720877592745,
          -0.20813460039662793,
          0.3397792216692826,
          -0.09056017601872132,
          -0.08759213703125077,
          0.009238034021074397,
          -0.027994402230887255,
          -0.18243619515099987,
          -0.020578398828022062,
          -0.10244064472583235,
          0.20033642849547195,
          -0.11535717469416731,
          -0.11420007821629513,
          -0.06674162746019881,
          -0.04363987600398121,
          -0.03757696598731723,
          0.03291199675101464,
          0.0323178299102598,
          -0.05057572746122461,
          -0.036269378833391604,
          -0.009839940579451485,
          -0.042796183806989886,
          -0.1006222898373294,
          -0.10682266192239659,
          -0.10469945699008006,
          0.09028913617109614,
          -0.10443429031562924,
          -0.12209155409717154,
          0.14020827954017362,
          -0.1491725530874998,
          -0.0327829346430976,
          -0.0849635829603134,
          0.11003409939509813,
          -0.034132423496239434,
          -0.07722253797689443,
          0.01911230527707282,
          -0.09022560490566701,
          0.06264026656912877,
          0.011084991983077575,
          0.03265830393581113,
          -0.20467019907891837,
          0.10111235613348159,
          -0.028257088081160012,
          0.003013116843201197,
          -0.024136182806988454,
          -0.10207855086805426,
          0.38069523773441133,
          0.011257051207642293,
          0.04299973593550073,
          0.13286424953917286,
          0.23872545231787223,
          0.04438281806715545,
          -0.12078991875716968,
          -0.010062596360619002,
          0.2219720262142374,
          0.049069808503931125,
          -0.044654515102884845,
          -0.020936917326434157,
          -0.27053794329357694,
          -0.2011756756765152,
          -0.08447274626518644,
          -0.0018398478649647788,
          0.07672568263802251,
          0.05006394378881919,
          -0.14563460877945147,
          -0.009481108163465807,
          -0.1249203745339352,
          0.3091571493760781,
          -0.09448072218889218,
          0.0072312073328533386,
          -0.12488436424587132,
          0.24502637606750263,
          0.2500171997398939,
          -0.14542849732887161,
          -0.06642002797698407,
          -0.0816627429545145,
          -0.11938609577561904,
          0.03167532202381794,
          0.04324333163804157,
          -0.03877630449193654,
          0.03648156588869163,
          -0.14326727744017692,
          -0.17527034252218718,
          -0.2826103741360633,
          0.05127562832304791,
          0.04307762231810963,
          0.14837731257640846,
          -0.035365374123250984,
          0.18791786217066975,
          -0.044146260689976055,
          0.05098587547123182,
          0.06376590878767027,
          -0.04172863885034833,
          0.07809190145352235,
          -0.1514904040702954,
          0.1491677148148956,
          -0.09241753730368808,
          0.16931440351157825,
          -0.26400126566910753,
          -0.06745457311190062,
          0.03612121456311889,
          -0.07758282367434666,
          -0.11467847194041886,
          0.07490970541265181,
          -0.03940234788700982,
          0.012901900044205047,
          0.23837196235475347,
          -0.07126124984027259,
          0.055645903951778604,
          -0.03728273053679989,
          -0.012963430637327892,
          0.16780907155697,
          0.05898459645517981,
          0.16420639508319884,
          -0.09419908269025082,
          -0.15314584314778748,
          0.038592197111923354,
          -0.04679413880522267,
          -0.09478745295738766,
          0.13091394858119149,
          -0.006469343068648999,
          0.04914187620399481,
          -0.006855263429374163,
          0.10084326116079828,
          0.12214500932327463,
          -0.05032795817080631,
          0.07192245226220421,
          -0.036135033899203826,
          -0.03621734559978884,
          0.06857576875867574,
          -0.03967246056018035,
          -0.04363903429185867,
          0.04722982888578132,
          0.18755771154700604,
          -0.03992038481077393,
          0.15497070361223647,
          -0.050004041315296954,
          -0.11446833260980628,
          -0.04434647268270582,
          0.3810735442018455,
          0.05684589998544046,
          0.003603056393750019,
          0.10900072688976391,
          -0.16560610091134748,
          0.07370008312632466,
          0.015431599230963003,
          0.023616382956681337,
          -0.23821457168300902,
          -0.04298628558179136,
          -0.07820987824493224,
          0.21126896088243333,
          -0.11074798014582789,
          0.024098492768914223,
          -0.0035080815307769082,
          0.03482556623587183,
          -0.04844687731219914,
          -0.1941993116097876,
          -0.04386793441516701,
          0.21525037149871035,
          -0.11632911376587246,
          0.03665767080377992,
          -0.001577853892753784,
          -0.13957923304962627,
          0.22054941643208076,
          0.08874315736093492,
          -0.18496339402872128,
          0.1134440037532579,
          -0.17167261555743207,
          0.1286815401489889,
          -0.03000309655280512,
          0.19815295531921048,
          -0.0802132956930899,
          0.1277999813994854,
          -0.07265600028719042,
          -0.1444045476786638,
          -0.0033498274957724085,
          -0.2332048155817645,
          -0.13064854482091576,
          0.11264949893149762,
          -0.06714305629709792,
          -0.13914673441356717,
          0.16353309417767994,
          0.010923498026919354,
          0.060683215575611335,
          -0.030308660457033378,
          -0.07541709639746011,
          -0.0943532943970663,
          0.022492249862014906,
          -0.044665143900852855,
          -0.1424323407618191,
          0.18654951790687138,
          0.060902546435820534,
          -0.005395971725015577,
          -0.02983843608807566,
          -0.023047256968530667,
          0.17414260796299152,
          -0.19204757988454024,
          -0.11996506200705254,
          -0.04242125415013321,
          0.10296175155138258,
          -0.13689941798620475,
          0.0587784940834098,
          -0.005158257494594354,
          0.1122185134538265,
          0.4186989836631824,
          -0.08699496724429989,
          -0.20515638487664262,
          0.11608924267596,
          -0.08129429630464094,
          0.027972063891695067,
          -0.08306644648088027,
          -0.07966715231647618,
          -0.12950926284105038,
          0.1561550185864644,
          0.11255997416358608,
          -0.0013174746562132653,
          0.17898818696568278,
          0.24277297763342473,
          0.10160643364475194,
          0.07201718797951814,
          -0.13317288985195194,
          0.019498140810133083,
          0.1640046512527579,
          0.06988536938519276,
          0.04691477140356499,
          0.20158816066357205,
          -0.06797848897746617,
          -0.1303044076447714,
          0.09878947264803832,
          -0.0011076842546006544,
          -0.14889607141979125,
          -0.0558491776580495,
          -0.29278244751163657,
          0.3070391376538422,
          -0.06359446651805883,
          -0.07269594633205603,
          -0.0696656931021418,
          -0.23203348897918805,
          0.03854600379317585,
          0.11268952155411646,
          -0.11310968455678728,
          0.5092493101560407,
          -0.011373745418049292,
          -0.07164460918891992,
          -0.015487184294857714,
          0.09685150861863066,
          0.12956341078227837,
          -0.02393213933272927,
          0.12442024959708078,
          -0.09717799807636547,
          -0.026642471620466332,
          -0.10938531576936962,
          -0.028712635946345485,
          -0.10661277158775827,
          0.24455177499178365,
          -0.18968946465461947,
          0.14774378300183866,
          -0.24195570765515703,
          0.002691784895556631,
          -0.03456298484260715,
          -0.16188467932424544,
          0.4972281117389839,
          -0.09192007633774929,
          -0.030511472526046655,
          0.0660643787019112,
          -0.131545747150855,
          0.3087820136467537,
          0.013280215201038642,
          -0.035610268027909155,
          0.14980815903869277,
          -0.17115393790819078,
          -0.2904777632314246,
          0.04041082955337902,
          0.07489786136919657,
          0.01618452931045598,
          -0.0458366973572412,
          -0.10017964073048308,
          -0.06584223464008608,
          0.05452480471965277
         ]
        }
       ],
       "layout": {
        "template": {
         "data": {
          "bar": [
           {
            "error_x": {
             "color": "#2a3f5f"
            },
            "error_y": {
             "color": "#2a3f5f"
            },
            "marker": {
             "line": {
              "color": "#E5ECF6",
              "width": 0.5
             }
            },
            "type": "bar"
           }
          ],
          "barpolar": [
           {
            "marker": {
             "line": {
              "color": "#E5ECF6",
              "width": 0.5
             }
            },
            "type": "barpolar"
           }
          ],
          "carpet": [
           {
            "aaxis": {
             "endlinecolor": "#2a3f5f",
             "gridcolor": "white",
             "linecolor": "white",
             "minorgridcolor": "white",
             "startlinecolor": "#2a3f5f"
            },
            "baxis": {
             "endlinecolor": "#2a3f5f",
             "gridcolor": "white",
             "linecolor": "white",
             "minorgridcolor": "white",
             "startlinecolor": "#2a3f5f"
            },
            "type": "carpet"
           }
          ],
          "choropleth": [
           {
            "colorbar": {
             "outlinewidth": 0,
             "ticks": ""
            },
            "type": "choropleth"
           }
          ],
          "contour": [
           {
            "colorbar": {
             "outlinewidth": 0,
             "ticks": ""
            },
            "colorscale": [
             [
              0,
              "#0d0887"
             ],
             [
              0.1111111111111111,
              "#46039f"
             ],
             [
              0.2222222222222222,
              "#7201a8"
             ],
             [
              0.3333333333333333,
              "#9c179e"
             ],
             [
              0.4444444444444444,
              "#bd3786"
             ],
             [
              0.5555555555555556,
              "#d8576b"
             ],
             [
              0.6666666666666666,
              "#ed7953"
             ],
             [
              0.7777777777777778,
              "#fb9f3a"
             ],
             [
              0.8888888888888888,
              "#fdca26"
             ],
             [
              1,
              "#f0f921"
             ]
            ],
            "type": "contour"
           }
          ],
          "contourcarpet": [
           {
            "colorbar": {
             "outlinewidth": 0,
             "ticks": ""
            },
            "type": "contourcarpet"
           }
          ],
          "heatmap": [
           {
            "colorbar": {
             "outlinewidth": 0,
             "ticks": ""
            },
            "colorscale": [
             [
              0,
              "#0d0887"
             ],
             [
              0.1111111111111111,
              "#46039f"
             ],
             [
              0.2222222222222222,
              "#7201a8"
             ],
             [
              0.3333333333333333,
              "#9c179e"
             ],
             [
              0.4444444444444444,
              "#bd3786"
             ],
             [
              0.5555555555555556,
              "#d8576b"
             ],
             [
              0.6666666666666666,
              "#ed7953"
             ],
             [
              0.7777777777777778,
              "#fb9f3a"
             ],
             [
              0.8888888888888888,
              "#fdca26"
             ],
             [
              1,
              "#f0f921"
             ]
            ],
            "type": "heatmap"
           }
          ],
          "heatmapgl": [
           {
            "colorbar": {
             "outlinewidth": 0,
             "ticks": ""
            },
            "colorscale": [
             [
              0,
              "#0d0887"
             ],
             [
              0.1111111111111111,
              "#46039f"
             ],
             [
              0.2222222222222222,
              "#7201a8"
             ],
             [
              0.3333333333333333,
              "#9c179e"
             ],
             [
              0.4444444444444444,
              "#bd3786"
             ],
             [
              0.5555555555555556,
              "#d8576b"
             ],
             [
              0.6666666666666666,
              "#ed7953"
             ],
             [
              0.7777777777777778,
              "#fb9f3a"
             ],
             [
              0.8888888888888888,
              "#fdca26"
             ],
             [
              1,
              "#f0f921"
             ]
            ],
            "type": "heatmapgl"
           }
          ],
          "histogram": [
           {
            "marker": {
             "colorbar": {
              "outlinewidth": 0,
              "ticks": ""
             }
            },
            "type": "histogram"
           }
          ],
          "histogram2d": [
           {
            "colorbar": {
             "outlinewidth": 0,
             "ticks": ""
            },
            "colorscale": [
             [
              0,
              "#0d0887"
             ],
             [
              0.1111111111111111,
              "#46039f"
             ],
             [
              0.2222222222222222,
              "#7201a8"
             ],
             [
              0.3333333333333333,
              "#9c179e"
             ],
             [
              0.4444444444444444,
              "#bd3786"
             ],
             [
              0.5555555555555556,
              "#d8576b"
             ],
             [
              0.6666666666666666,
              "#ed7953"
             ],
             [
              0.7777777777777778,
              "#fb9f3a"
             ],
             [
              0.8888888888888888,
              "#fdca26"
             ],
             [
              1,
              "#f0f921"
             ]
            ],
            "type": "histogram2d"
           }
          ],
          "histogram2dcontour": [
           {
            "colorbar": {
             "outlinewidth": 0,
             "ticks": ""
            },
            "colorscale": [
             [
              0,
              "#0d0887"
             ],
             [
              0.1111111111111111,
              "#46039f"
             ],
             [
              0.2222222222222222,
              "#7201a8"
             ],
             [
              0.3333333333333333,
              "#9c179e"
             ],
             [
              0.4444444444444444,
              "#bd3786"
             ],
             [
              0.5555555555555556,
              "#d8576b"
             ],
             [
              0.6666666666666666,
              "#ed7953"
             ],
             [
              0.7777777777777778,
              "#fb9f3a"
             ],
             [
              0.8888888888888888,
              "#fdca26"
             ],
             [
              1,
              "#f0f921"
             ]
            ],
            "type": "histogram2dcontour"
           }
          ],
          "mesh3d": [
           {
            "colorbar": {
             "outlinewidth": 0,
             "ticks": ""
            },
            "type": "mesh3d"
           }
          ],
          "parcoords": [
           {
            "line": {
             "colorbar": {
              "outlinewidth": 0,
              "ticks": ""
             }
            },
            "type": "parcoords"
           }
          ],
          "pie": [
           {
            "automargin": true,
            "type": "pie"
           }
          ],
          "scatter": [
           {
            "marker": {
             "colorbar": {
              "outlinewidth": 0,
              "ticks": ""
             }
            },
            "type": "scatter"
           }
          ],
          "scatter3d": [
           {
            "line": {
             "colorbar": {
              "outlinewidth": 0,
              "ticks": ""
             }
            },
            "marker": {
             "colorbar": {
              "outlinewidth": 0,
              "ticks": ""
             }
            },
            "type": "scatter3d"
           }
          ],
          "scattercarpet": [
           {
            "marker": {
             "colorbar": {
              "outlinewidth": 0,
              "ticks": ""
             }
            },
            "type": "scattercarpet"
           }
          ],
          "scattergeo": [
           {
            "marker": {
             "colorbar": {
              "outlinewidth": 0,
              "ticks": ""
             }
            },
            "type": "scattergeo"
           }
          ],
          "scattergl": [
           {
            "marker": {
             "colorbar": {
              "outlinewidth": 0,
              "ticks": ""
             }
            },
            "type": "scattergl"
           }
          ],
          "scattermapbox": [
           {
            "marker": {
             "colorbar": {
              "outlinewidth": 0,
              "ticks": ""
             }
            },
            "type": "scattermapbox"
           }
          ],
          "scatterpolar": [
           {
            "marker": {
             "colorbar": {
              "outlinewidth": 0,
              "ticks": ""
             }
            },
            "type": "scatterpolar"
           }
          ],
          "scatterpolargl": [
           {
            "marker": {
             "colorbar": {
              "outlinewidth": 0,
              "ticks": ""
             }
            },
            "type": "scatterpolargl"
           }
          ],
          "scatterternary": [
           {
            "marker": {
             "colorbar": {
              "outlinewidth": 0,
              "ticks": ""
             }
            },
            "type": "scatterternary"
           }
          ],
          "surface": [
           {
            "colorbar": {
             "outlinewidth": 0,
             "ticks": ""
            },
            "colorscale": [
             [
              0,
              "#0d0887"
             ],
             [
              0.1111111111111111,
              "#46039f"
             ],
             [
              0.2222222222222222,
              "#7201a8"
             ],
             [
              0.3333333333333333,
              "#9c179e"
             ],
             [
              0.4444444444444444,
              "#bd3786"
             ],
             [
              0.5555555555555556,
              "#d8576b"
             ],
             [
              0.6666666666666666,
              "#ed7953"
             ],
             [
              0.7777777777777778,
              "#fb9f3a"
             ],
             [
              0.8888888888888888,
              "#fdca26"
             ],
             [
              1,
              "#f0f921"
             ]
            ],
            "type": "surface"
           }
          ],
          "table": [
           {
            "cells": {
             "fill": {
              "color": "#EBF0F8"
             },
             "line": {
              "color": "white"
             }
            },
            "header": {
             "fill": {
              "color": "#C8D4E3"
             },
             "line": {
              "color": "white"
             }
            },
            "type": "table"
           }
          ]
         },
         "layout": {
          "annotationdefaults": {
           "arrowcolor": "#2a3f5f",
           "arrowhead": 0,
           "arrowwidth": 1
          },
          "coloraxis": {
           "colorbar": {
            "outlinewidth": 0,
            "ticks": ""
           }
          },
          "colorscale": {
           "diverging": [
            [
             0,
             "#8e0152"
            ],
            [
             0.1,
             "#c51b7d"
            ],
            [
             0.2,
             "#de77ae"
            ],
            [
             0.3,
             "#f1b6da"
            ],
            [
             0.4,
             "#fde0ef"
            ],
            [
             0.5,
             "#f7f7f7"
            ],
            [
             0.6,
             "#e6f5d0"
            ],
            [
             0.7,
             "#b8e186"
            ],
            [
             0.8,
             "#7fbc41"
            ],
            [
             0.9,
             "#4d9221"
            ],
            [
             1,
             "#276419"
            ]
           ],
           "sequential": [
            [
             0,
             "#0d0887"
            ],
            [
             0.1111111111111111,
             "#46039f"
            ],
            [
             0.2222222222222222,
             "#7201a8"
            ],
            [
             0.3333333333333333,
             "#9c179e"
            ],
            [
             0.4444444444444444,
             "#bd3786"
            ],
            [
             0.5555555555555556,
             "#d8576b"
            ],
            [
             0.6666666666666666,
             "#ed7953"
            ],
            [
             0.7777777777777778,
             "#fb9f3a"
            ],
            [
             0.8888888888888888,
             "#fdca26"
            ],
            [
             1,
             "#f0f921"
            ]
           ],
           "sequentialminus": [
            [
             0,
             "#0d0887"
            ],
            [
             0.1111111111111111,
             "#46039f"
            ],
            [
             0.2222222222222222,
             "#7201a8"
            ],
            [
             0.3333333333333333,
             "#9c179e"
            ],
            [
             0.4444444444444444,
             "#bd3786"
            ],
            [
             0.5555555555555556,
             "#d8576b"
            ],
            [
             0.6666666666666666,
             "#ed7953"
            ],
            [
             0.7777777777777778,
             "#fb9f3a"
            ],
            [
             0.8888888888888888,
             "#fdca26"
            ],
            [
             1,
             "#f0f921"
            ]
           ]
          },
          "colorway": [
           "#636efa",
           "#EF553B",
           "#00cc96",
           "#ab63fa",
           "#FFA15A",
           "#19d3f3",
           "#FF6692",
           "#B6E880",
           "#FF97FF",
           "#FECB52"
          ],
          "font": {
           "color": "#2a3f5f"
          },
          "geo": {
           "bgcolor": "white",
           "lakecolor": "white",
           "landcolor": "#E5ECF6",
           "showlakes": true,
           "showland": true,
           "subunitcolor": "white"
          },
          "hoverlabel": {
           "align": "left"
          },
          "hovermode": "closest",
          "mapbox": {
           "style": "light"
          },
          "paper_bgcolor": "white",
          "plot_bgcolor": "#E5ECF6",
          "polar": {
           "angularaxis": {
            "gridcolor": "white",
            "linecolor": "white",
            "ticks": ""
           },
           "bgcolor": "#E5ECF6",
           "radialaxis": {
            "gridcolor": "white",
            "linecolor": "white",
            "ticks": ""
           }
          },
          "scene": {
           "xaxis": {
            "backgroundcolor": "#E5ECF6",
            "gridcolor": "white",
            "gridwidth": 2,
            "linecolor": "white",
            "showbackground": true,
            "ticks": "",
            "zerolinecolor": "white"
           },
           "yaxis": {
            "backgroundcolor": "#E5ECF6",
            "gridcolor": "white",
            "gridwidth": 2,
            "linecolor": "white",
            "showbackground": true,
            "ticks": "",
            "zerolinecolor": "white"
           },
           "zaxis": {
            "backgroundcolor": "#E5ECF6",
            "gridcolor": "white",
            "gridwidth": 2,
            "linecolor": "white",
            "showbackground": true,
            "ticks": "",
            "zerolinecolor": "white"
           }
          },
          "shapedefaults": {
           "line": {
            "color": "#2a3f5f"
           }
          },
          "ternary": {
           "aaxis": {
            "gridcolor": "white",
            "linecolor": "white",
            "ticks": ""
           },
           "baxis": {
            "gridcolor": "white",
            "linecolor": "white",
            "ticks": ""
           },
           "bgcolor": "#E5ECF6",
           "caxis": {
            "gridcolor": "white",
            "linecolor": "white",
            "ticks": ""
           }
          },
          "title": {
           "x": 0.05
          },
          "xaxis": {
           "automargin": true,
           "gridcolor": "white",
           "linecolor": "white",
           "ticks": "",
           "title": {
            "standoff": 15
           },
           "zerolinecolor": "white",
           "zerolinewidth": 2
          },
          "yaxis": {
           "automargin": true,
           "gridcolor": "white",
           "linecolor": "white",
           "ticks": "",
           "title": {
            "standoff": 15
           },
           "zerolinecolor": "white",
           "zerolinewidth": 2
          }
         }
        }
       }
      },
      "text/html": [
       "<div>\n",
       "        \n",
       "        \n",
       "            <div id=\"6f40f63c-2c5f-4cc9-aa58-5b34d9385eb4\" class=\"plotly-graph-div\" style=\"height:525px; width:100%;\"></div>\n",
       "            <script type=\"text/javascript\">\n",
       "                require([\"plotly\"], function(Plotly) {\n",
       "                    window.PLOTLYENV=window.PLOTLYENV || {};\n",
       "                    \n",
       "                if (document.getElementById(\"6f40f63c-2c5f-4cc9-aa58-5b34d9385eb4\")) {\n",
       "                    Plotly.newPlot(\n",
       "                        '6f40f63c-2c5f-4cc9-aa58-5b34d9385eb4',\n",
       "                        [{\"mode\": \"markers\", \"text\": [\"Adventure,Drama,History|\", \"Comedy|\", \"Drama|\", \"Action,Adventure|\", \"Action|\", \"Action,Crime,Drama|\", \"Romance|\", \"Documentary|\", \"Action,Comedy|\", \"Animation,Documentary|\", \"Comedy,Drama,Music|\", \"Drama,Fantasy,Horror|\", \"Horror|\", \"Action,Thriller|\", \"Comedy,Drama,Romance|\", \"Crime,Drama,Thriller|\", \"Thriller|\", \"Crime,Drama|\", \"Drama,Thriller|\", \"Action,Animation,Drama|\", \"Documentary,Music|\", \"Action,Fantasy,Sci-Fi|\", \"Action,Comedy,Horror|\", \"Drama,Romance|\", \"Action,Drama|\", \"Comedy,Drama|\", \"Animation,Drama,Fantasy|\", \"Action,Adventure,Animation|\", \"Horror,Thriller|\", \"Action,Drama,Thriller|\", \"Drama,Horror,Mystery|\", \"Animation,Comedy,Drama|\", \"Horror,Mystery,Thriller|\", \"Crime,Mystery,Thriller|\", \"Crime,Drama,Horror|\", \"Adventure,Fantasy|\", \"Comedy,Romance|\", \"Biography,Drama,History|\", \"Action,Drama,Sport|\", \"Drama,Music,Romance|\", \"Sci-Fi|\", \"Action,Biography,Drama|\", \"Action,Crime,Thriller|\", \"Biography,Documentary,Sport|\", \"Adventure,Comedy,Drama|\", \"Biography,Drama|\", \"Comedy,Musical|\", \"Comedy,Crime,Drama|\", \"Action,Drama,Fantasy|\", \"Drama,Horror|\", \"Comedy,Horror|\", \"Adventure,Animation,Drama|\", \"Horror,Sci-Fi,Thriller|\", \"Drama,Music|\", \"Crime,Drama,Mystery|\", \"Drama,Mystery|\", \"Crime,Thriller|\", \"Drama,History|\", \"Drama,Horror,Thriller|\", \"Drama,Fantasy,Romance|\", \"Adventure,Family|\", \"Drama,Sport|\", \"Action,Comedy,Drama|\", \"Action,Adventure,Crime|\", \"Action,Horror,Sci-Fi|\", \"Horror,Mystery|\", \"Action,Comedy,Sport|\", \"Comedy,Drama,Sport|\", \"Drama,Horror,Romance|\", \"Comedy,War|\", \"Adventure,Fantasy,Mystery|\", \"Crime,Documentary|\", \"Documentary,Sport|\", \"Drama,History,War|\", \"Animation,Comedy,Fantasy|\", \"Action,Biography,Crime|\", \"Action,Animation,Horror|\", \"Action,Horror|\", \"Animation,Biography,Documentary|\", \"Action,Drama,Romance|\", \"Comedy,Sci-Fi|\", \"Action,Romance,Thriller|\", \"Action,Adventure,Drama|\", \"Adventure,Drama,Family|\", \"Fantasy,Horror|\", \"Action,Crime|\", \"Horror,Sci-Fi|\", \"Action,Animation,Crime|\", \"Drama,War|\", \"Comedy,Fantasy,Sci-Fi|\", \"Action,Romance|\", \"Action,Comedy,Crime|\", \"Action,Adventure,Comedy|\", \"Documentary,Drama,Family|\", \"Comedy,Drama,Musical|\", \"Drama,Horror,Sci-Fi|\", \"Action,Comedy,Fantasy|\", \"Comedy,Horror,Sci-Fi|\", \"Drama,Family|\", \"Adventure,Drama,Fantasy|\", \"Action,Sci-Fi,Thriller|\", \"Animation,Comedy|\", \"Action,Adventure,Sci-Fi|\", \"Adventure,Animation,Comedy|\", \"Action,Drama,History|\", \"Animation,Drama,Family|\", \"Biography,Drama,Music|\", \"Action,Adventure,Family|\", \"Adventure,Comedy,Family|\", \"Action,Adventure,Fantasy|\", \"Comedy,Drama,Family|\", \"Comedy,Drama,Fantasy|\", \"Action,Crime,Mystery|\", \"Adventure,Crime,Drama|\", \"Biography,Comedy,Drama|\", \"Drama,Mystery,Thriller|\", \"Biography,Drama,Romance|\", \"Adventure,Comedy,Horror|\", \"Mystery,Thriller|\", \"Comedy,Family,Fantasy|\", \"Drama,Fantasy|\", \"Comedy,Crime,Thriller|\", \"Drama,Mystery,Sci-Fi|\", \"Adventure,Biography,Comedy|\", \"Adventure,Biography,Drama|\", \"Fantasy,Mystery,Thriller|\", \"Action,Horror,Mystery|\", \"Family|\", \"Adventure,Comedy|\", \"Horror,Romance|\", \"Mystery,Sci-Fi,Thriller|\", \"Crime,Sci-Fi,Thriller|\", \"Adventure,Comedy,Western|\", \"Drama,Mystery,Romance|\", \"Drama,Romance,Thriller|\", \"Action,Comedy,Music|\", \"Comedy,Horror,Music|\", \"Crime,Horror,Mystery|\", \"Comedy,Horror,Romance|\", \"Comedy,Fantasy,Horror|\", \"Action,Animation,Comedy|\", \"Comedy,Musical,Sci-Fi|\", \"Animation,Drama,Sci-Fi|\", \"Action,Comedy,Sci-Fi|\", \"Action,War|\", \"Animation,Family|\", \"Action,Comedy,Romance|\", \"Mystery,Romance,Thriller|\", \"Drama,History,Romance|\", \"Action,Comedy,Family|\", \"War|\", \"Animation,Drama|\", \"Comedy,Western|\", \"Adventure,Family,Fantasy|\", \"Action,Fantasy,Western|\", \"Action,Comedy,Documentary|\", \"Adventure,Drama,Thriller|\", \"Comedy,Family|\", \"Crime,Drama,War|\", \"Biography,Documentary,Music|\", \"Crime,Horror,Thriller|\", \"Action,Crime,Romance|\", \"Drama,Mystery,War|\", \"Comedy,Thriller|\", \"Comedy,Drama,History|\", \"Drama,Thriller,Western|\", \"Drama,Sci-Fi|\", \"Sci-Fi,Thriller|\", \"Biography,Drama,War|\", \"Comedy,Horror,Thriller|\", \"Animation,Comedy,Crime|\", \"Comedy,Crime,Romance|\", \"Adventure,Drama,Romance|\", \"Musical|\", \"Action,Mystery,Thriller|\", \"Action,Horror,Thriller|\", \"Drama,Romance,Sci-Fi|\", \"Action,Comedy,Thriller|\", \"Biography,Drama,Sport|\", \"Comedy,Family,Sport|\", \"Adventure,Drama,Western|\", \"Animation|\", \"Action,History,Thriller|\", \"Crime,Drama,Romance|\", \"Crime,Mystery,Romance|\", \"Action,History|\", \"Animation,Mystery,Thriller|\", \"Drama,Sci-Fi,Thriller|\", \"Horror,Romance,Thriller|\", \"Adventure,Horror|\", \"Drama,Western|\", \"Thriller,Western|\", \"Action,Comedy,Western|\", \"Adventure|\", \"Adventure,Animation,Family|\", \"Crime|\", \"Adventure,Drama|\", \"Western|\", \"Action,Drama,War|\", \"Adventure,Documentary,Drama|\", \"Animation,Comedy,Family|\", \"Documentary,War|\", \"Documentary,Drama|\", \"Action,Animation,Sci-Fi|\", \"Comedy,Fantasy|\", \"Documentary,News|\", \"Comedy,Drama,Mystery|\", \"Adventure,Comedy,Sci-Fi|\", \"Drama,Romance,War|\", \"Action,Sci-Fi|\", \"Comedy,Family,Romance|\", \"Action,Adventure,Thriller|\", \"Action,Adventure,History|\", \"Adventure,Comedy,Fantasy|\", \"Action,Drama,Family|\", \"Drama,Thriller,War|\", \"Romance,Sci-Fi,Thriller|\", \"Crime,Drama,History|\", \"Comedy,Mystery|\", \"Adventure,Crime,Thriller|\", \"Fantasy,Horror,Mystery|\", \"Comedy,Crime|\", \"Action,Fantasy,Thriller|\", \"Action,Adventure,Romance|\", \"Action,Crime,Fantasy|\", \"Biography,Crime,Drama|\", \"Comedy,Fantasy,Romance|\", \"Biography,Drama,Thriller|\", \"Action,Fantasy|\", \"Fantasy,Horror,Thriller|\", \"Adventure,Documentary,Sport|\", \"Family,Mystery|\", \"Adventure,Drama,Sci-Fi|\", \"Drama,Fantasy,Musical|\", \"Biography,Comedy,Crime|\", \"Drama,Fantasy,Sci-Fi|\", \"Comedy,Musical,Romance|\", \"Comedy,Crime,Mystery|\", \"Action,Drama,Horror|\", \"Comedy,Romance,Sci-Fi|\", \"Animation,Drama,Thriller|\", \"Comedy,Drama,War|\", \"Action,Fantasy,Romance|\", \"Adventure,Romance|\", \"Action,Crime,Horror|\", \"Fantasy|\", \"Action,Animation,Fantasy|\", \"Action,Adventure,Mystery|\", \"Animation,Family,Fantasy|\", \"Adventure,Mystery,Sci-Fi|\", \"Action,Fantasy,Horror|\", \"Comedy,Romance,Sport|\", \"Adventure,History|\", \"Drama,Musical,Romance|\", \"Drama,Fantasy,Mystery|\", \"Action,Adventure,Horror|\", \"Drama,History,Thriller|\", \"Comedy,Horror,Mystery|\", \"Comedy,Sport|\", \"Comedy,Fantasy,Thriller|\", \"Biography,Documentary|\", \"Animation,Family,Musical|\", \"Comedy,Music,Musical|\", \"Adventure,Comedy,Crime|\", \"Biography,Comedy|\", \"Adventure,Biography,History|\", \"Adventure,Crime,Family|\", \"Documentary,History|\", \"Music|\", \"Fantasy,Romance|\", \"Adventure,Drama,Horror|\", \"Documentary,History,Sport|\", \"Drama,Family,Romance|\", \"Fantasy,Mystery,Romance|\", \"Animation,Sci-Fi|\", \"Adventure,Animation|\", \"Action,Biography,Documentary|\", \"Documentary,History,Music|\", \"Action,Adventure,Western|\", \"Action,Drama,Mystery|\", \"Romance,Thriller|\", \"Action,Drama,Sci-Fi|\", \"Comedy,Drama,Horror|\", \"Horror,Mystery,Sci-Fi|\", \"Adventure,Horror,Sci-Fi|\", \"Action,Crime,Sci-Fi|\", \"Animation,Biography,Drama|\", \"Music,Mystery,Thriller|\", \"Comedy,Crime,Horror|\", \"Adventure,Drama,Sport|\", \"Family,Fantasy|\", \"Drama,Music,Thriller|\", \"Comedy,Music|\", \"Drama,History,Horror|\", \"Biography,Documentary,Drama|\", \"Biography,Drama,Musical|\", \"Mystery,Romance,Sci-Fi|\", \"Crime,Documentary,Drama|\", \"Animation,Drama,Romance|\", \"Adventure,Animation,Sci-Fi|\", \"Adventure,History,Romance|\", \"Action,Adventure,Documentary|\", \"Documentary,Mystery|\", \"Biography,History|\", \"Drama,Fantasy,Music|\", \"Action,Mystery,Sci-Fi|\", \"Comedy,Family,Music|\", \"Adventure,Fantasy,Musical|\", \"Adventure,Family,Sci-Fi|\", \"Comedy,Horror,Musical|\", \"Adventure,Thriller|\", \"Comedy,Drama,Sci-Fi|\", \"Drama,Family,History|\", \"Comedy,Romance,Western|\", \"Mystery,Western|\", \"Comedy,Drama,Thriller|\", \"Crime,Drama,Sci-Fi|\", \"Crime,Horror,Romance|\", \"Crime,Romance,Thriller|\", \"Fantasy,Horror,Sci-Fi|\", \"Comedy,Documentary,Drama|\", \"Drama,Family,Music|\", \"Action,Adventure,Biography|\", \"Documentary,History,War|\", \"Drama,Musical|\", \"Drama,Family,Fantasy|\", \"Action,Drama,Western|\", \"Drama,History,Sport|\", \"Adventure,Sci-Fi,Thriller|\", \"Biography,Documentary,Family|\", \"Drama,Family,Sci-Fi|\", \"Documentary,Family,History|\", \"Drama,Family,Mystery|\", \"Adventure,Biography,Crime|\", \"Comedy,Crime,Family|\", \"Adventure,Animation,Fantasy|\", \"Horror,War|\", \"Biography,Drama,Fantasy|\", \"Drama,Fantasy,Thriller|\", \"Biography|\", \"Action,Thriller,Western|\", \"Action,Horror,Romance|\", \"Adventure,Biography|\", \"Romance,War|\", \"Thriller,War|\", \"Crime,Drama,Fantasy|\", \"Action,Mystery|\", \"Crime,Documentary,History|\", \"Crime,Mystery|\", \"Adventure,Sci-Fi|\", \"Family,Fantasy,Musical|\", \"Documentary,Thriller|\"], \"type\": \"scatter\", \"x\": [0.18173253527958283, -0.2081515320305943, -0.1055752853944546, 0.10649246073640947, -0.07524052115549235, -0.09607209936377335, -0.16651054060294782, 0.4135799965691963, -0.13224173991466198, 0.5491035153731054, -0.04807086230826587, -0.022797595687704945, -0.17762920653057399, -0.12871454969226356, -0.1665257709300682, -0.1296074718095085, -0.12251135858066477, -0.10836778517477381, -0.1433931791170009, 0.07496884747137854, 0.26445243195860146, 0.17405375771104342, -0.1361031087004732, -0.11711082770635113, 0.033332254820996596, -0.1678071791694391, 0.07675534535080294, -0.09656290599677939, -0.17722798762022618, -0.09792723282715755, -0.1261814247802895, 0.03445226153066806, -0.142212319316859, -0.07545636040112198, -0.05825036925728803, 0.12452949860073001, -0.21902853821926271, 0.06087797549255033, -0.13968321797822458, -0.1471511151527523, 0.018326216700639646, -0.012666253822146648, -0.09513260606480302, 0.5018710797877042, -0.11821117146154637, -0.006136693473207672, 0.18325694525327532, -0.13194198381477948, 0.11506545600732747, -0.08418973206219756, -0.20581954672759936, 0.04814693783391996, -0.16400311201111012, -0.14918440224696894, -0.07550537136354889, 0.027904744908096645, -0.1525915987794065, 0.13884451982601184, -0.21498389814160557, -0.08840545298785034, -0.12862314723564547, -0.2292386742684558, -0.04024889729267121, -0.03851594084914386, -0.09806278283414452, -0.1132878438980795, -0.08219768939085466, -0.1783288628571918, -0.18757579874891944, 0.039568518785360045, 0.048584116225049975, 0.46459047796387165, 0.304384391287855, 0.0955569432791143, 0.3558440896414432, -0.023082550732438225, -0.03435496287384409, -0.12266058433730609, 0.2801072705142908, 0.0726474991922578, -0.1882486284822408, -0.004158642879102056, 0.07137140923622588, -0.15921856037372006, -0.0497417647003614, -0.10356954113666778, -0.2043982821794946, 0.04025851575985709, -0.06345486378107927, -0.01403992728969148, -0.05428707185169062, -0.12064939280350813, -0.10084299056397246, 0.7545257900422037, 0.04387023045076956, -0.07817016397320636, -0.1316480107771418, -0.20146920782582112, -0.21779495539000238, 0.010595373252445119, -0.03172722534106489, -0.15826081212946194, -0.007123224674654437, -0.16598285745499058, 0.13376299028848268, -0.01144381060512498, -0.11506236949735632, -0.06607205994823763, -0.19692885236460553, 0.10587634918108865, -0.1367374589070557, -0.17176481885142633, -0.052626015744078575, 0.10915412450186548, -0.14000283382026787, -0.09226722355102253, 0.041689464471979784, -0.23380951281238238, -0.12748846611137898, -0.1263951400909352, -0.043852899268452414, -0.18687494586382092, -0.04335937330545772, -0.030404328203816427, 0.14160364021053148, -0.12770390718269647, -0.11881037081404536, -0.1913686682061507, -0.24551913802147385, -0.07320296706957675, -0.06839471999439868, -0.09346751888503949, -0.005997474017773115, 0.017897781432038688, -0.1351389300403967, 0.3118459224006592, -0.26605520581581527, -0.07568354912557405, -0.20501953524764838, -0.11017272892231066, 0.10439086246076021, 0.30757906680009967, 0.15480659239624817, -0.12702493245655155, -0.0175988760952897, -0.05660030277224729, -0.1271098816321176, 0.08216762363998628, 0.14175247053321594, -0.07961021031014506, -0.06583096604870992, -0.09941278095744091, 0.046512908523264805, -0.04479727291786319, -0.03384873706372537, -0.0917819370891617, -0.0010612220650551571, -0.2027657759960536, -0.02607402000931703, 0.43136243482175574, -0.18689011825160717, -0.06453584679628971, 0.2962788783566435, 0.010761252777638446, 0.05117541571614744, 0.22318361386540805, -0.016785220195250618, -0.1425894174266584, 0.15488079134469906, -0.1384090623704746, -0.16268700695225413, -0.16141680122744198, -0.06998487433701059, -0.020612982070034085, 0.06529990479252638, -0.17772088180989662, -0.07623308710827274, -0.11800927425038307, -0.04533041812939118, -0.16962206525677526, 0.36125401730295936, -0.12407175709186223, 0.3610166124968771, -0.16204979738480704, -0.11420738598761614, 0.05931297220589641, 0.07379447336019865, -0.10419369412073771, 0.10690096383433649, -0.10514830751998941, 0.15602761383871178, -0.03482077024532933, 0.11939792900086021, 0.08206150249885256, -0.1392940623719573, -0.08160963335776582, 0.01655216652266902, -0.012063778905958061, -0.029249489615490017, 0.2169602078033614, -0.17303455545650465, 0.21581092263574703, 0.2502804005840519, -0.011660670002491911, -0.18306936334154095, 0.45620525681969937, -0.041808538468663115, -0.14415790854222343, -0.06371167111412042, -0.05761781687251787, -0.15673992639819356, 0.057390876810151335, 0.33465017529685614, -0.1852972011856423, -0.09459459660175876, -0.025368410239376776, 0.015198174203817213, -0.23993774985349844, -0.26491910907536165, -0.2115488270463332, 0.05882348260096043, -0.23181038264574558, -0.15135284829508708, 0.11347002744325903, 0.030828377993817217, -0.133918377454295, -0.09116017142546028, 0.0019096873001277538, 0.12535226875907088, -0.14859211823762355, 0.3536775431099871, -0.06782954528823018, -0.0714832519368491, -0.002647790810339901, 0.04065130913759611, -0.08295849697735119, -0.19109971565535583, -0.0028395836132123716, -0.11264621690526895, -0.14632403448181233, 0.09852121232640301, 0.07453987845160279, 0.05875349577596109, -0.272072898310147, 0.35553939948840707, -0.08019623430304468, -0.013426273647989552, -0.06318347906194668, -0.13613511517757046, -0.05586436856877855, -0.032518143044475485, -0.24379607717763938, 0.110385873048778, 0.3622289685180443, 0.055429810045681746, -0.05439510518746495, -0.007970583750182529, -0.1298416768312573, -0.22461029847121908, -0.20275249543890878, 0.4551342396392538, -0.12109826303691677, -0.14447066165987082, -0.07416707118728906, 0.04722310483459845, 0.17007540264633303, -0.11151499705085642, 0.14545112397346216, -0.13729140578572832, 0.25005302459767675, -0.17733418933442538, 0.480818623515489, 0.016876243760616624, 0.30341117156333225, -0.01894030222569438, -0.1873551161021372, 0.4034140504975219, 0.5792717565051676, 0.10103493327533848, 0.06256911043735063, -0.07374268817974956, -0.07575905938151484, -0.11684285862460228, -0.16474134937415646, -0.046351770744806356, 0.01288725047070792, -0.036417764338053604, -0.09216654481428657, -0.20152207119707094, -0.30533731410395737, -0.09997006049240116, -0.23750954466433044, -0.21324274090861073, 0.21541674439341232, 0.47887255149285246, 0.11236550258604254, 0.052608627435514296, 0.5741296197994022, 0.010706915167867063, 0.2496635012722934, 0.3860255069137031, 0.08996137700823513, 0.605067988712408, 0.49024922708539775, -0.03860516025006082, -0.07436204797847956, -0.1767857732004835, 0.38675322688512664, -0.16139159037643985, 0.09361946701445503, -0.07960361593979338, -0.19350133756743143, -0.14333572263043456, -0.16984280647142896, 0.27625442660085825, -0.07452850208012426, 0.05107651245706188, -0.17328893372668525, 0.14851976231594474, -0.14430198119512191, 0.22589613590264732, -0.27429481119952226, 0.11178684643115411, 0.6872866640579697, 0.2878444119855386, 0.26277905233221516, 0.1853641154977386, -0.0883748110643018, -0.01717636560053865, -0.08482314901811919, 0.3229787630377322, 0.4732748989853106, 0.07214146876213291, -0.12215213588880396, -0.060951469982541716, 0.15469871854680753, 0.004471818333990202, -0.038921657072224274, 0.016856518530512666, -0.01339809440657397, -0.012928666639569115, 0.17536214297953356, 0.015365541943033505, -0.06452613631047019, 0.010038644483751202, -0.19756902803532495, 0.07677009548629324, 0.6792484892508532, 0.14261129492164965, 0.2537101662410408, 0.2767464625137738, 0.08055409687036667], \"y\": [-0.03898433951336952, 0.056043256883665425, 0.04925050117254392, -0.07564363798768738, -0.059862177147308494, -0.03184110820538362, 0.004390467127329381, 0.019582027142496985, -0.03814678228861351, 0.1409335195107243, 0.13900772390696942, -0.03396522115151793, -0.08793043959200063, -0.0825570831093391, 0.038144815636462326, -0.0056608944988512724, 0.011530196967317158, -0.032580034935703175, 0.010937705858298775, -0.20658804069060124, 0.18561218457364886, -0.07479958133553559, -0.09134080037493457, 0.04203543117868662, -0.05977994236465434, 0.06621229159551245, 0.06044386051435898, -0.057554203143898884, -0.08719879724556664, -0.05414062185129851, -0.12778371520190074, 0.11214496771243793, -0.1685710269003777, 0.00290644519870814, 0.07326386360777608, -0.12161374218798751, 0.039149804559408787, -0.0017685330366802793, -0.0801210661941659, 0.05840502451788094, -0.08804663348034487, -0.022331736921329687, -0.005312326015838259, -0.018853796336247612, -0.0013068838982728513, 0.04947135915730929, -0.19955459510635462, -0.04621292203177211, -0.02940834325430049, -0.14336862782741977, -0.060976666573487784, 0.26861434979461285, -0.13879337501894518, 0.07128804009258609, -0.026026896158865387, -0.03157253795243022, -0.029120794413623884, 0.09448972696042839, -0.03966802882771556, 0.06311483150855804, 0.137981951292467, 0.035036371339497954, -0.002095190040544417, 0.04518209865446196, -0.04794442503766442, -0.08614157273748899, 0.021800574593319345, 0.10186151137740024, 0.08970414569127912, 0.3974915292371101, -0.0655317141223796, 0.042673511720631885, 0.3967239083196902, -0.06505720877592745, -0.20813460039662793, 0.3397792216692826, -0.09056017601872132, -0.08759213703125077, 0.009238034021074397, -0.027994402230887255, -0.18243619515099987, -0.020578398828022062, -0.10244064472583235, 0.20033642849547195, -0.11535717469416731, -0.11420007821629513, -0.06674162746019881, -0.04363987600398121, -0.03757696598731723, 0.03291199675101464, 0.0323178299102598, -0.05057572746122461, -0.036269378833391604, -0.009839940579451485, -0.042796183806989886, -0.1006222898373294, -0.10682266192239659, -0.10469945699008006, 0.09028913617109614, -0.10443429031562924, -0.12209155409717154, 0.14020827954017362, -0.1491725530874998, -0.0327829346430976, -0.0849635829603134, 0.11003409939509813, -0.034132423496239434, -0.07722253797689443, 0.01911230527707282, -0.09022560490566701, 0.06264026656912877, 0.011084991983077575, 0.03265830393581113, -0.20467019907891837, 0.10111235613348159, -0.028257088081160012, 0.003013116843201197, -0.024136182806988454, -0.10207855086805426, 0.38069523773441133, 0.011257051207642293, 0.04299973593550073, 0.13286424953917286, 0.23872545231787223, 0.04438281806715545, -0.12078991875716968, -0.010062596360619002, 0.2219720262142374, 0.049069808503931125, -0.044654515102884845, -0.020936917326434157, -0.27053794329357694, -0.2011756756765152, -0.08447274626518644, -0.0018398478649647788, 0.07672568263802251, 0.05006394378881919, -0.14563460877945147, -0.009481108163465807, -0.1249203745339352, 0.3091571493760781, -0.09448072218889218, 0.0072312073328533386, -0.12488436424587132, 0.24502637606750263, 0.2500171997398939, -0.14542849732887161, -0.06642002797698407, -0.0816627429545145, -0.11938609577561904, 0.03167532202381794, 0.04324333163804157, -0.03877630449193654, 0.03648156588869163, -0.14326727744017692, -0.17527034252218718, -0.2826103741360633, 0.05127562832304791, 0.04307762231810963, 0.14837731257640846, -0.035365374123250984, 0.18791786217066975, -0.044146260689976055, 0.05098587547123182, 0.06376590878767027, -0.04172863885034833, 0.07809190145352235, -0.1514904040702954, 0.1491677148148956, -0.09241753730368808, 0.16931440351157825, -0.26400126566910753, -0.06745457311190062, 0.03612121456311889, -0.07758282367434666, -0.11467847194041886, 0.07490970541265181, -0.03940234788700982, 0.012901900044205047, 0.23837196235475347, -0.07126124984027259, 0.055645903951778604, -0.03728273053679989, -0.012963430637327892, 0.16780907155697, 0.05898459645517981, 0.16420639508319884, -0.09419908269025082, -0.15314584314778748, 0.038592197111923354, -0.04679413880522267, -0.09478745295738766, 0.13091394858119149, -0.006469343068648999, 0.04914187620399481, -0.006855263429374163, 0.10084326116079828, 0.12214500932327463, -0.05032795817080631, 0.07192245226220421, -0.036135033899203826, -0.03621734559978884, 0.06857576875867574, -0.03967246056018035, -0.04363903429185867, 0.04722982888578132, 0.18755771154700604, -0.03992038481077393, 0.15497070361223647, -0.050004041315296954, -0.11446833260980628, -0.04434647268270582, 0.3810735442018455, 0.05684589998544046, 0.003603056393750019, 0.10900072688976391, -0.16560610091134748, 0.07370008312632466, 0.015431599230963003, 0.023616382956681337, -0.23821457168300902, -0.04298628558179136, -0.07820987824493224, 0.21126896088243333, -0.11074798014582789, 0.024098492768914223, -0.0035080815307769082, 0.03482556623587183, -0.04844687731219914, -0.1941993116097876, -0.04386793441516701, 0.21525037149871035, -0.11632911376587246, 0.03665767080377992, -0.001577853892753784, -0.13957923304962627, 0.22054941643208076, 0.08874315736093492, -0.18496339402872128, 0.1134440037532579, -0.17167261555743207, 0.1286815401489889, -0.03000309655280512, 0.19815295531921048, -0.0802132956930899, 0.1277999813994854, -0.07265600028719042, -0.1444045476786638, -0.0033498274957724085, -0.2332048155817645, -0.13064854482091576, 0.11264949893149762, -0.06714305629709792, -0.13914673441356717, 0.16353309417767994, 0.010923498026919354, 0.060683215575611335, -0.030308660457033378, -0.07541709639746011, -0.0943532943970663, 0.022492249862014906, -0.044665143900852855, -0.1424323407618191, 0.18654951790687138, 0.060902546435820534, -0.005395971725015577, -0.02983843608807566, -0.023047256968530667, 0.17414260796299152, -0.19204757988454024, -0.11996506200705254, -0.04242125415013321, 0.10296175155138258, -0.13689941798620475, 0.0587784940834098, -0.005158257494594354, 0.1122185134538265, 0.4186989836631824, -0.08699496724429989, -0.20515638487664262, 0.11608924267596, -0.08129429630464094, 0.027972063891695067, -0.08306644648088027, -0.07966715231647618, -0.12950926284105038, 0.1561550185864644, 0.11255997416358608, -0.0013174746562132653, 0.17898818696568278, 0.24277297763342473, 0.10160643364475194, 0.07201718797951814, -0.13317288985195194, 0.019498140810133083, 0.1640046512527579, 0.06988536938519276, 0.04691477140356499, 0.20158816066357205, -0.06797848897746617, -0.1303044076447714, 0.09878947264803832, -0.0011076842546006544, -0.14889607141979125, -0.0558491776580495, -0.29278244751163657, 0.3070391376538422, -0.06359446651805883, -0.07269594633205603, -0.0696656931021418, -0.23203348897918805, 0.03854600379317585, 0.11268952155411646, -0.11310968455678728, 0.5092493101560407, -0.011373745418049292, -0.07164460918891992, -0.015487184294857714, 0.09685150861863066, 0.12956341078227837, -0.02393213933272927, 0.12442024959708078, -0.09717799807636547, -0.026642471620466332, -0.10938531576936962, -0.028712635946345485, -0.10661277158775827, 0.24455177499178365, -0.18968946465461947, 0.14774378300183866, -0.24195570765515703, 0.002691784895556631, -0.03456298484260715, -0.16188467932424544, 0.4972281117389839, -0.09192007633774929, -0.030511472526046655, 0.0660643787019112, -0.131545747150855, 0.3087820136467537, 0.013280215201038642, -0.035610268027909155, 0.14980815903869277, -0.17115393790819078, -0.2904777632314246, 0.04041082955337902, 0.07489786136919657, 0.01618452931045598, -0.0458366973572412, -0.10017964073048308, -0.06584223464008608, 0.05452480471965277]}],\n",
       "                        {\"template\": {\"data\": {\"bar\": [{\"error_x\": {\"color\": \"#2a3f5f\"}, \"error_y\": {\"color\": \"#2a3f5f\"}, \"marker\": {\"line\": {\"color\": \"#E5ECF6\", \"width\": 0.5}}, \"type\": \"bar\"}], \"barpolar\": [{\"marker\": {\"line\": {\"color\": \"#E5ECF6\", \"width\": 0.5}}, \"type\": \"barpolar\"}], \"carpet\": [{\"aaxis\": {\"endlinecolor\": \"#2a3f5f\", \"gridcolor\": \"white\", \"linecolor\": \"white\", \"minorgridcolor\": \"white\", \"startlinecolor\": \"#2a3f5f\"}, \"baxis\": {\"endlinecolor\": \"#2a3f5f\", \"gridcolor\": \"white\", \"linecolor\": \"white\", \"minorgridcolor\": \"white\", \"startlinecolor\": \"#2a3f5f\"}, \"type\": \"carpet\"}], \"choropleth\": [{\"colorbar\": {\"outlinewidth\": 0, \"ticks\": \"\"}, \"type\": \"choropleth\"}], \"contour\": [{\"colorbar\": {\"outlinewidth\": 0, \"ticks\": \"\"}, \"colorscale\": [[0.0, \"#0d0887\"], [0.1111111111111111, \"#46039f\"], [0.2222222222222222, \"#7201a8\"], [0.3333333333333333, \"#9c179e\"], [0.4444444444444444, \"#bd3786\"], [0.5555555555555556, \"#d8576b\"], [0.6666666666666666, \"#ed7953\"], [0.7777777777777778, \"#fb9f3a\"], [0.8888888888888888, \"#fdca26\"], [1.0, \"#f0f921\"]], \"type\": \"contour\"}], \"contourcarpet\": [{\"colorbar\": {\"outlinewidth\": 0, \"ticks\": \"\"}, \"type\": \"contourcarpet\"}], \"heatmap\": [{\"colorbar\": {\"outlinewidth\": 0, \"ticks\": \"\"}, \"colorscale\": [[0.0, \"#0d0887\"], [0.1111111111111111, \"#46039f\"], [0.2222222222222222, \"#7201a8\"], [0.3333333333333333, \"#9c179e\"], [0.4444444444444444, \"#bd3786\"], [0.5555555555555556, \"#d8576b\"], [0.6666666666666666, \"#ed7953\"], [0.7777777777777778, \"#fb9f3a\"], [0.8888888888888888, \"#fdca26\"], [1.0, \"#f0f921\"]], \"type\": \"heatmap\"}], \"heatmapgl\": [{\"colorbar\": {\"outlinewidth\": 0, \"ticks\": \"\"}, \"colorscale\": [[0.0, \"#0d0887\"], [0.1111111111111111, \"#46039f\"], [0.2222222222222222, \"#7201a8\"], [0.3333333333333333, \"#9c179e\"], [0.4444444444444444, \"#bd3786\"], [0.5555555555555556, \"#d8576b\"], [0.6666666666666666, \"#ed7953\"], [0.7777777777777778, \"#fb9f3a\"], [0.8888888888888888, \"#fdca26\"], [1.0, \"#f0f921\"]], \"type\": \"heatmapgl\"}], \"histogram\": [{\"marker\": {\"colorbar\": {\"outlinewidth\": 0, \"ticks\": \"\"}}, \"type\": \"histogram\"}], \"histogram2d\": [{\"colorbar\": {\"outlinewidth\": 0, \"ticks\": \"\"}, \"colorscale\": [[0.0, \"#0d0887\"], [0.1111111111111111, \"#46039f\"], [0.2222222222222222, \"#7201a8\"], [0.3333333333333333, \"#9c179e\"], [0.4444444444444444, \"#bd3786\"], [0.5555555555555556, \"#d8576b\"], [0.6666666666666666, \"#ed7953\"], [0.7777777777777778, \"#fb9f3a\"], [0.8888888888888888, \"#fdca26\"], [1.0, \"#f0f921\"]], \"type\": \"histogram2d\"}], \"histogram2dcontour\": [{\"colorbar\": {\"outlinewidth\": 0, \"ticks\": \"\"}, \"colorscale\": [[0.0, \"#0d0887\"], [0.1111111111111111, \"#46039f\"], [0.2222222222222222, \"#7201a8\"], [0.3333333333333333, \"#9c179e\"], [0.4444444444444444, \"#bd3786\"], [0.5555555555555556, \"#d8576b\"], [0.6666666666666666, \"#ed7953\"], [0.7777777777777778, \"#fb9f3a\"], [0.8888888888888888, \"#fdca26\"], [1.0, \"#f0f921\"]], \"type\": \"histogram2dcontour\"}], \"mesh3d\": [{\"colorbar\": {\"outlinewidth\": 0, \"ticks\": \"\"}, \"type\": \"mesh3d\"}], \"parcoords\": [{\"line\": {\"colorbar\": {\"outlinewidth\": 0, \"ticks\": \"\"}}, \"type\": \"parcoords\"}], \"pie\": [{\"automargin\": true, \"type\": \"pie\"}], \"scatter\": [{\"marker\": {\"colorbar\": {\"outlinewidth\": 0, \"ticks\": \"\"}}, \"type\": \"scatter\"}], \"scatter3d\": [{\"line\": {\"colorbar\": {\"outlinewidth\": 0, \"ticks\": \"\"}}, \"marker\": {\"colorbar\": {\"outlinewidth\": 0, \"ticks\": \"\"}}, \"type\": \"scatter3d\"}], \"scattercarpet\": [{\"marker\": {\"colorbar\": {\"outlinewidth\": 0, \"ticks\": \"\"}}, \"type\": \"scattercarpet\"}], \"scattergeo\": [{\"marker\": {\"colorbar\": {\"outlinewidth\": 0, \"ticks\": \"\"}}, \"type\": \"scattergeo\"}], \"scattergl\": [{\"marker\": {\"colorbar\": {\"outlinewidth\": 0, \"ticks\": \"\"}}, \"type\": \"scattergl\"}], \"scattermapbox\": [{\"marker\": {\"colorbar\": {\"outlinewidth\": 0, \"ticks\": \"\"}}, \"type\": \"scattermapbox\"}], \"scatterpolar\": [{\"marker\": {\"colorbar\": {\"outlinewidth\": 0, \"ticks\": \"\"}}, \"type\": \"scatterpolar\"}], \"scatterpolargl\": [{\"marker\": {\"colorbar\": {\"outlinewidth\": 0, \"ticks\": \"\"}}, \"type\": \"scatterpolargl\"}], \"scatterternary\": [{\"marker\": {\"colorbar\": {\"outlinewidth\": 0, \"ticks\": \"\"}}, \"type\": \"scatterternary\"}], \"surface\": [{\"colorbar\": {\"outlinewidth\": 0, \"ticks\": \"\"}, \"colorscale\": [[0.0, \"#0d0887\"], [0.1111111111111111, \"#46039f\"], [0.2222222222222222, \"#7201a8\"], [0.3333333333333333, \"#9c179e\"], [0.4444444444444444, \"#bd3786\"], [0.5555555555555556, \"#d8576b\"], [0.6666666666666666, \"#ed7953\"], [0.7777777777777778, \"#fb9f3a\"], [0.8888888888888888, \"#fdca26\"], [1.0, \"#f0f921\"]], \"type\": \"surface\"}], \"table\": [{\"cells\": {\"fill\": {\"color\": \"#EBF0F8\"}, \"line\": {\"color\": \"white\"}}, \"header\": {\"fill\": {\"color\": \"#C8D4E3\"}, \"line\": {\"color\": \"white\"}}, \"type\": \"table\"}]}, \"layout\": {\"annotationdefaults\": {\"arrowcolor\": \"#2a3f5f\", \"arrowhead\": 0, \"arrowwidth\": 1}, \"coloraxis\": {\"colorbar\": {\"outlinewidth\": 0, \"ticks\": \"\"}}, \"colorscale\": {\"diverging\": [[0, \"#8e0152\"], [0.1, \"#c51b7d\"], [0.2, \"#de77ae\"], [0.3, \"#f1b6da\"], [0.4, \"#fde0ef\"], [0.5, \"#f7f7f7\"], [0.6, \"#e6f5d0\"], [0.7, \"#b8e186\"], [0.8, \"#7fbc41\"], [0.9, \"#4d9221\"], [1, \"#276419\"]], \"sequential\": [[0.0, \"#0d0887\"], [0.1111111111111111, \"#46039f\"], [0.2222222222222222, \"#7201a8\"], [0.3333333333333333, \"#9c179e\"], [0.4444444444444444, \"#bd3786\"], [0.5555555555555556, \"#d8576b\"], [0.6666666666666666, \"#ed7953\"], [0.7777777777777778, \"#fb9f3a\"], [0.8888888888888888, \"#fdca26\"], [1.0, \"#f0f921\"]], \"sequentialminus\": [[0.0, \"#0d0887\"], [0.1111111111111111, \"#46039f\"], [0.2222222222222222, \"#7201a8\"], [0.3333333333333333, \"#9c179e\"], [0.4444444444444444, \"#bd3786\"], [0.5555555555555556, \"#d8576b\"], [0.6666666666666666, \"#ed7953\"], [0.7777777777777778, \"#fb9f3a\"], [0.8888888888888888, \"#fdca26\"], [1.0, \"#f0f921\"]]}, \"colorway\": [\"#636efa\", \"#EF553B\", \"#00cc96\", \"#ab63fa\", \"#FFA15A\", \"#19d3f3\", \"#FF6692\", \"#B6E880\", \"#FF97FF\", \"#FECB52\"], \"font\": {\"color\": \"#2a3f5f\"}, \"geo\": {\"bgcolor\": \"white\", \"lakecolor\": \"white\", \"landcolor\": \"#E5ECF6\", \"showlakes\": true, \"showland\": true, \"subunitcolor\": \"white\"}, \"hoverlabel\": {\"align\": \"left\"}, \"hovermode\": \"closest\", \"mapbox\": {\"style\": \"light\"}, \"paper_bgcolor\": \"white\", \"plot_bgcolor\": \"#E5ECF6\", \"polar\": {\"angularaxis\": {\"gridcolor\": \"white\", \"linecolor\": \"white\", \"ticks\": \"\"}, \"bgcolor\": \"#E5ECF6\", \"radialaxis\": {\"gridcolor\": \"white\", \"linecolor\": \"white\", \"ticks\": \"\"}}, \"scene\": {\"xaxis\": {\"backgroundcolor\": \"#E5ECF6\", \"gridcolor\": \"white\", \"gridwidth\": 2, \"linecolor\": \"white\", \"showbackground\": true, \"ticks\": \"\", \"zerolinecolor\": \"white\"}, \"yaxis\": {\"backgroundcolor\": \"#E5ECF6\", \"gridcolor\": \"white\", \"gridwidth\": 2, \"linecolor\": \"white\", \"showbackground\": true, \"ticks\": \"\", \"zerolinecolor\": \"white\"}, \"zaxis\": {\"backgroundcolor\": \"#E5ECF6\", \"gridcolor\": \"white\", \"gridwidth\": 2, \"linecolor\": \"white\", \"showbackground\": true, \"ticks\": \"\", \"zerolinecolor\": \"white\"}}, \"shapedefaults\": {\"line\": {\"color\": \"#2a3f5f\"}}, \"ternary\": {\"aaxis\": {\"gridcolor\": \"white\", \"linecolor\": \"white\", \"ticks\": \"\"}, \"baxis\": {\"gridcolor\": \"white\", \"linecolor\": \"white\", \"ticks\": \"\"}, \"bgcolor\": \"#E5ECF6\", \"caxis\": {\"gridcolor\": \"white\", \"linecolor\": \"white\", \"ticks\": \"\"}}, \"title\": {\"x\": 0.05}, \"xaxis\": {\"automargin\": true, \"gridcolor\": \"white\", \"linecolor\": \"white\", \"ticks\": \"\", \"title\": {\"standoff\": 15}, \"zerolinecolor\": \"white\", \"zerolinewidth\": 2}, \"yaxis\": {\"automargin\": true, \"gridcolor\": \"white\", \"linecolor\": \"white\", \"ticks\": \"\", \"title\": {\"standoff\": 15}, \"zerolinecolor\": \"white\", \"zerolinewidth\": 2}}}},\n",
       "                        {\"responsive\": true}\n",
       "                    ).then(function(){\n",
       "                            \n",
       "var gd = document.getElementById('6f40f63c-2c5f-4cc9-aa58-5b34d9385eb4');\n",
       "var x = new MutationObserver(function (mutations, observer) {{\n",
       "        var display = window.getComputedStyle(gd).display;\n",
       "        if (!display || display === 'none') {{\n",
       "            console.log([gd, 'removed!']);\n",
       "            Plotly.purge(gd);\n",
       "            observer.disconnect();\n",
       "        }}\n",
       "}});\n",
       "\n",
       "// Listen for the removal of the full notebook cells\n",
       "var notebookContainer = gd.closest('#notebook-container');\n",
       "if (notebookContainer) {{\n",
       "    x.observe(notebookContainer, {childList: true});\n",
       "}}\n",
       "\n",
       "// Listen for the clearing of the current output cell\n",
       "var outputEl = gd.closest('.output');\n",
       "if (outputEl) {{\n",
       "    x.observe(outputEl, {childList: true});\n",
       "}}\n",
       "\n",
       "                        })\n",
       "                };\n",
       "                });\n",
       "            </script>\n",
       "        </div>"
      ]
     },
     "metadata": {},
     "output_type": "display_data"
    }
   ],
   "source": [
    "import plotly.graph_objects as go\n",
    "import plotly.express as px\n",
    "text_data = [\n",
    "    f'{row.genre}|'\n",
    "    for index, row in df_genre.iterrows()\n",
    "]\n",
    "fig = go.Figure(data=go.Scatter(x=X_tf[:, 0],\n",
    "                                y=X_tf[:, 1],\n",
    "                                mode='markers',\n",
    "                                text=text_data))\n",
    "fig.show()"
   ]
  },
  {
   "cell_type": "markdown",
   "metadata": {},
   "source": [
    "## Hierarchisches Cluster der zusammengefassten Genres"
   ]
  },
  {
   "cell_type": "code",
   "execution_count": 26,
   "metadata": {},
   "outputs": [],
   "source": [
    "df_genre_sample = df_genre.sample(frac=0.2)"
   ]
  },
  {
   "cell_type": "code",
   "execution_count": 27,
   "metadata": {},
   "outputs": [],
   "source": [
    "tfidf = TfidfVectorizer(max_features=10000, stop_words=stop_words)\n",
    "df_genre_token = tfidf.fit_transform(df_genre_sample.text)\n",
    "\n",
    "hier_model = AgglomerativeClustering(n_clusters=None, distance_threshold=0).fit(df_genre_token.todense())"
   ]
  },
  {
   "cell_type": "code",
   "execution_count": 28,
   "metadata": {},
   "outputs": [
    {
     "data": {
      "image/png": "[encoded data removed]",
      "text/plain": [
       "<Figure size 1080x576 with 1 Axes>"
      ]
     },
     "metadata": {
      "needs_background": "light"
     },
     "output_type": "display_data"
    }
   ],
   "source": [
    "lmatrix = linkage_matrix(df_genre_token.shape[0], hier_model.children_, hier_model.distances_)\n",
    "plt.figure(figsize=(15,8))\n",
    "dendrogram(lmatrix, labels=df_genre_sample['genre'].values, leaf_font_size=10); #"
   ]
  },
  {
   "cell_type": "markdown",
   "metadata": {},
   "source": [
    "### Fazit: \n",
    "Erste Einblicke in die Daten mittels PCA waren noch nicht vielversprechend, die Interaktiven Methoden von Plotly ermöglichten aber einen guten Überblick über die Verteilung der Genres.\n",
    "Das hierarchische Clustering ordnet viele Genre, die eine Textuelle Nähe vermuten lassen in mehrere \"gute\" aber nicht allzu übersichtliche Cluster. Auffällig ist aber, dass viele Genre, in denen man Intuitiv eine Textuelle Nähe erwarten kann oft relativ \"weit\" voneinander geclustert wurden (siehe beispielsweise diverse Genre, die Sci-fi enthalten)"
   ]
  },
  {
   "cell_type": "code",
   "execution_count": null,
   "metadata": {},
   "outputs": [],
   "source": []
  }
 ],
 "metadata": {
  "kernelspec": {
   "display_name": "Python 3",
   "language": "python",
   "name": "python3"
  },
  "language_info": {
   "codemirror_mode": {
    "name": "ipython",
    "version": 3
   },
   "file_extension": ".py",
   "mimetype": "text/x-python",
   "name": "python",
   "nbconvert_exporter": "python",
   "pygments_lexer": "ipython3",
   "version": "3.7.4"
  }
 },
 "nbformat": 4,
 "nbformat_minor": 2
}
