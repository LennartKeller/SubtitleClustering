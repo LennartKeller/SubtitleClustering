{
 "cells": [
  {
   "cell_type": "code",
   "execution_count": 1,
   "metadata": {},
   "outputs": [],
   "source": [
    "import pandas as pd\n",
    "import numpy as np\n",
    "from stop_words import get_stop_words\n",
    "import re\n",
    "import matplotlib.pyplot as plt\n",
    "from sklearn.cluster import KMeans\n",
    "from sklearn.decomposition import PCA\n",
    "from matplotlib.textpath import TextPath\n",
    "from sklearn.feature_extraction.text import CountVectorizer\n",
    "from sklearn.feature_extraction.text import TfidfVectorizer\n",
    "from sklearn.cluster import AgglomerativeClustering, KMeans\n",
    "from scipy.cluster.hierarchy import dendrogram\n",
    "from sklearn import mixture\n",
    "from collections import Counter\n",
    "from sklearn.cluster import DBSCAN"
   ]
  },
  {
   "cell_type": "code",
   "execution_count": 2,
   "metadata": {},
   "outputs": [],
   "source": [
    "#vereinfachte Methode:\n",
    "def linkage_matrix(n_samples, children, distances):\n",
    "    \"\"\"\n",
    "    create a linkage matrix for the dendogram method in scipy\n",
    "    n_samples: int, number of samples\n",
    "    children: list of lists, clustered data points (should be 2)\n",
    "    distances: list of distances between nodes\n",
    "    \"\"\"\n",
    "    # Create linkage matrix\n",
    "    \n",
    "\n",
    "    # create the counts of samples under each node\n",
    "    counts = np.zeros(children.shape[0])\n",
    "    for i, merge in enumerate(children):\n",
    "        current_count = 0\n",
    "        for child_idx in merge:\n",
    "            if child_idx < n_samples:\n",
    "                current_count += 1  # leaf node\n",
    "            else:\n",
    "                current_count += counts[child_idx - n_samples]\n",
    "        counts[i] = current_count\n",
    "\n",
    "    return np.column_stack([children, distances, counts]).astype(float)\n",
    "\n",
    "# Gibt eine Worthäufigkeitsliste zurück, nur den Namen des Genre in Form eines Strings als Argument.\n",
    "def wordlister(genre):\n",
    "    stop_words = get_stop_words('de')\n",
    "    stop_words.append('ch00ffff')\n",
    "    # Alle Texte eines Genres konkatenieren\n",
    "    film_genre = \"\"\n",
    "    for film in df.iterrows():\n",
    "        if film[1].genre == genre:\n",
    "            film_genre = film_genre + film[1].text\n",
    "    # Tokenisieren\n",
    "    genre_tokens = re.findall(\"\\w+\", film_genre.lower())\n",
    "    # Stopwordliste \n",
    "    tokens_without_stopwords =[]\n",
    "    for word in genre_tokens:\n",
    "        if word not in stop_words:\n",
    "            tokens_without_stopwords.append(word)\n",
    "    #Rückgabe mit gezählten Tokens\n",
    "    return Counter(tokens_without_stopwords)\n",
    "\n",
    "\n",
    "\n",
    "# Plottet die Wörterliste aus der oberen Funktion, mit .most_common() kann die Zahl begrenzt werden.\n",
    "def wordlistplot(wordlist):\n",
    "    plt.figure(figsize=(15,8))\n",
    "    for word in wordlist:\n",
    "        x= word[0]\n",
    "        y = word[1]\n",
    "        plt.bar(x, y)\n",
    "    plt.show()\n",
    "    \n",
    "#Filter der nicht Stop-Wörter herausfiltert.    \n",
    "def filter_non_stopwords(s, stopwords=get_stop_words('de')):\n",
    "    stopwords = set([t.lower() for t in stopwords])\n",
    "    token = re.findall(r'\\w+', s.lower())\n",
    "    return \" \".join([t for t in token if t in stopwords])"
   ]
  },
  {
   "cell_type": "code",
   "execution_count": 3,
   "metadata": {},
   "outputs": [
    {
     "data": {
      "text/plain": [
       "(3479, 56)"
      ]
     },
     "execution_count": 3,
     "metadata": {},
     "output_type": "execute_result"
    }
   ],
   "source": [
    "df = pd.read_csv('../../dataset/movies_complete.csv')\n",
    "df.dropna(subset=['genre'], inplace=True)\n",
    "df.dropna(subset=['Language'], inplace=True)\n",
    "df['text_length'] = df.text.apply(lambda x: len(x.split()))\n",
    "df = df[df['text_length'] >= 3000]\n",
    "df.shape"
   ]
  },
  {
   "cell_type": "code",
   "execution_count": 4,
   "metadata": {},
   "outputs": [],
   "source": [
    "df['only_stopwords'] = df.text.apply(filter_non_stopwords)"
   ]
  },
  {
   "cell_type": "code",
   "execution_count": 5,
   "metadata": {},
   "outputs": [
    {
     "data": {
      "text/html": [
       "<div>\n",
       "<style scoped>\n",
       "    .dataframe tbody tr th:only-of-type {\n",
       "        vertical-align: middle;\n",
       "    }\n",
       "\n",
       "    .dataframe tbody tr th {\n",
       "        vertical-align: top;\n",
       "    }\n",
       "\n",
       "    .dataframe thead th {\n",
       "        text-align: right;\n",
       "    }\n",
       "</style>\n",
       "<table border=\"1\" class=\"dataframe\">\n",
       "  <thead>\n",
       "    <tr style=\"text-align: right;\">\n",
       "      <th></th>\n",
       "      <th>Unnamed: 0</th>\n",
       "      <th>filename</th>\n",
       "      <th>text</th>\n",
       "      <th>IMDB_ID</th>\n",
       "      <th>genre</th>\n",
       "      <th>year</th>\n",
       "      <th>production_region</th>\n",
       "      <th>corpus</th>\n",
       "      <th>duration</th>\n",
       "      <th>directors</th>\n",
       "      <th>...</th>\n",
       "      <th>Metascore</th>\n",
       "      <th>imdbRating</th>\n",
       "      <th>imdbVotes</th>\n",
       "      <th>Type</th>\n",
       "      <th>DVD</th>\n",
       "      <th>BoxOffice</th>\n",
       "      <th>Production</th>\n",
       "      <th>Website</th>\n",
       "      <th>Response</th>\n",
       "      <th>only_stopwords</th>\n",
       "    </tr>\n",
       "  </thead>\n",
       "  <tbody>\n",
       "    <tr>\n",
       "      <td>0</td>\n",
       "      <td>0</td>\n",
       "      <td>6416324.xml</td>\n",
       "      <td>Der Roman von Alexandre Dumas dem Älteren hatt...</td>\n",
       "      <td>tt1104767</td>\n",
       "      <td>Adventure,Drama,History</td>\n",
       "      <td>1943.0</td>\n",
       "      <td>French</td>\n",
       "      <td>untokenisiert</td>\n",
       "      <td>90.0</td>\n",
       "      <td>nm0894509,nm0148602</td>\n",
       "      <td>...</td>\n",
       "      <td>NaN</td>\n",
       "      <td>7.1</td>\n",
       "      <td>76</td>\n",
       "      <td>movie</td>\n",
       "      <td>NaN</td>\n",
       "      <td>NaN</td>\n",
       "      <td>NaN</td>\n",
       "      <td>NaN</td>\n",
       "      <td>True</td>\n",
       "      <td>der von dem hatte einen er sich wieder der man...</td>\n",
       "    </tr>\n",
       "    <tr>\n",
       "      <td>1</td>\n",
       "      <td>1</td>\n",
       "      <td>4732286.xml</td>\n",
       "      <td>Hände hoch oder ich schieße ( 1966 ) dTV - MDR...</td>\n",
       "      <td>tt1631717</td>\n",
       "      <td>Comedy</td>\n",
       "      <td>1966.0</td>\n",
       "      <td>German</td>\n",
       "      <td>untokenisiert</td>\n",
       "      <td>75.0</td>\n",
       "      <td>nm0440757</td>\n",
       "      <td>...</td>\n",
       "      <td>NaN</td>\n",
       "      <td>6.0</td>\n",
       "      <td>19</td>\n",
       "      <td>movie</td>\n",
       "      <td>NaN</td>\n",
       "      <td>NaN</td>\n",
       "      <td>NaN</td>\n",
       "      <td>NaN</td>\n",
       "      <td>True</td>\n",
       "      <td>oder ich das ist ein wie es einige seine und s...</td>\n",
       "    </tr>\n",
       "    <tr>\n",
       "      <td>2</td>\n",
       "      <td>2</td>\n",
       "      <td>6122081.xml</td>\n",
       "      <td>Hallo , Manuela ? Störe ich ? Kann ich zu dir ...</td>\n",
       "      <td>tt1271979</td>\n",
       "      <td>Drama</td>\n",
       "      <td>1967.0</td>\n",
       "      <td>French</td>\n",
       "      <td>untokenisiert</td>\n",
       "      <td>78.0</td>\n",
       "      <td>nm0816215</td>\n",
       "      <td>...</td>\n",
       "      <td>NaN</td>\n",
       "      <td>6.6</td>\n",
       "      <td>25</td>\n",
       "      <td>movie</td>\n",
       "      <td>NaN</td>\n",
       "      <td>NaN</td>\n",
       "      <td>NaN</td>\n",
       "      <td>NaN</td>\n",
       "      <td>True</td>\n",
       "      <td>ich kann ich zu dir hab sie ich kann nicht son...</td>\n",
       "    </tr>\n",
       "    <tr>\n",
       "      <td>3</td>\n",
       "      <td>3</td>\n",
       "      <td>5594522.xml</td>\n",
       "      <td>Dein Vater war ein ausgezeichneter Kämpfer . A...</td>\n",
       "      <td>tt3141954</td>\n",
       "      <td>Action,Adventure</td>\n",
       "      <td>1978.0</td>\n",
       "      <td>Cantonese</td>\n",
       "      <td>untokenisiert</td>\n",
       "      <td>82.0</td>\n",
       "      <td>nm1172472</td>\n",
       "      <td>...</td>\n",
       "      <td>NaN</td>\n",
       "      <td>5.8</td>\n",
       "      <td>23</td>\n",
       "      <td>movie</td>\n",
       "      <td>NaN</td>\n",
       "      <td>NaN</td>\n",
       "      <td>NaN</td>\n",
       "      <td>NaN</td>\n",
       "      <td>True</td>\n",
       "      <td>dein war ein aber er hat dass das war ein auf ...</td>\n",
       "    </tr>\n",
       "    <tr>\n",
       "      <td>4</td>\n",
       "      <td>4</td>\n",
       "      <td>5618549.xml</td>\n",
       "      <td>Na los , iss jetzt schnell auf . Junge , ist d...</td>\n",
       "      <td>tt1065116</td>\n",
       "      <td>Action</td>\n",
       "      <td>1979.0</td>\n",
       "      <td>Japanese</td>\n",
       "      <td>untokenisiert</td>\n",
       "      <td>96.0</td>\n",
       "      <td>nm0814232</td>\n",
       "      <td>...</td>\n",
       "      <td>NaN</td>\n",
       "      <td>5.6</td>\n",
       "      <td>32</td>\n",
       "      <td>movie</td>\n",
       "      <td>NaN</td>\n",
       "      <td>NaN</td>\n",
       "      <td>NaN</td>\n",
       "      <td>NaN</td>\n",
       "      <td>True</td>\n",
       "      <td>jetzt auf ist der wenn du bist deine auf zu wi...</td>\n",
       "    </tr>\n",
       "  </tbody>\n",
       "</table>\n",
       "<p>5 rows × 57 columns</p>\n",
       "</div>"
      ],
      "text/plain": [
       "   Unnamed: 0     filename                                               text  \\\n",
       "0           0  6416324.xml  Der Roman von Alexandre Dumas dem Älteren hatt...   \n",
       "1           1  4732286.xml  Hände hoch oder ich schieße ( 1966 ) dTV - MDR...   \n",
       "2           2  6122081.xml  Hallo , Manuela ? Störe ich ? Kann ich zu dir ...   \n",
       "3           3  5594522.xml  Dein Vater war ein ausgezeichneter Kämpfer . A...   \n",
       "4           4  5618549.xml  Na los , iss jetzt schnell auf . Junge , ist d...   \n",
       "\n",
       "     IMDB_ID                    genre    year production_region  \\\n",
       "0  tt1104767  Adventure,Drama,History  1943.0            French   \n",
       "1  tt1631717                   Comedy  1966.0            German   \n",
       "2  tt1271979                    Drama  1967.0            French   \n",
       "3  tt3141954         Action,Adventure  1978.0         Cantonese   \n",
       "4  tt1065116                   Action  1979.0          Japanese   \n",
       "\n",
       "          corpus  duration            directors  ... Metascore imdbRating  \\\n",
       "0  untokenisiert      90.0  nm0894509,nm0148602  ...       NaN        7.1   \n",
       "1  untokenisiert      75.0            nm0440757  ...       NaN        6.0   \n",
       "2  untokenisiert      78.0            nm0816215  ...       NaN        6.6   \n",
       "3  untokenisiert      82.0            nm1172472  ...       NaN        5.8   \n",
       "4  untokenisiert      96.0            nm0814232  ...       NaN        5.6   \n",
       "\n",
       "  imdbVotes   Type  DVD  BoxOffice  Production  Website  Response  \\\n",
       "0        76  movie  NaN        NaN         NaN      NaN      True   \n",
       "1        19  movie  NaN        NaN         NaN      NaN      True   \n",
       "2        25  movie  NaN        NaN         NaN      NaN      True   \n",
       "3        23  movie  NaN        NaN         NaN      NaN      True   \n",
       "4        32  movie  NaN        NaN         NaN      NaN      True   \n",
       "\n",
       "                                      only_stopwords  \n",
       "0  der von dem hatte einen er sich wieder der man...  \n",
       "1  oder ich das ist ein wie es einige seine und s...  \n",
       "2  ich kann ich zu dir hab sie ich kann nicht son...  \n",
       "3  dein war ein aber er hat dass das war ein auf ...  \n",
       "4  jetzt auf ist der wenn du bist deine auf zu wi...  \n",
       "\n",
       "[5 rows x 57 columns]"
      ]
     },
     "execution_count": 5,
     "metadata": {},
     "output_type": "execute_result"
    }
   ],
   "source": [
    "df.head()"
   ]
  },
  {
   "cell_type": "code",
   "execution_count": 6,
   "metadata": {},
   "outputs": [
    {
     "data": {
      "text/plain": [
       "[('Drama', 370),\n",
       " ('Comedy', 195),\n",
       " ('Comedy,Drama', 139),\n",
       " ('Drama,Romance', 132),\n",
       " ('Comedy,Drama,Romance', 116),\n",
       " ('Comedy,Romance', 85),\n",
       " ('Horror', 77),\n",
       " ('Drama,Thriller', 74),\n",
       " ('Horror,Thriller', 69),\n",
       " ('Action,Crime,Drama', 67),\n",
       " ('Adventure,Animation,Comedy', 65),\n",
       " ('Documentary', 64),\n",
       " ('Crime,Drama,Thriller', 62),\n",
       " ('Thriller', 53),\n",
       " ('Action,Crime,Thriller', 49),\n",
       " ('Action,Comedy,Crime', 41),\n",
       " ('Action,Adventure,Sci-Fi', 41),\n",
       " ('Action', 36),\n",
       " ('Action,Adventure,Drama', 36),\n",
       " ('Crime,Drama', 35),\n",
       " ('Biography,Drama,History', 30),\n",
       " ('Biography,Drama', 30),\n",
       " ('Crime,Drama,Mystery', 30),\n",
       " ('Action,Thriller', 28),\n",
       " ('Horror,Mystery,Thriller', 28),\n",
       " ('Action,Adventure,Comedy', 28),\n",
       " ('Comedy,Horror', 27),\n",
       " ('Comedy,Crime,Drama', 26),\n",
       " ('Action,Adventure,Fantasy', 25),\n",
       " ('Action,Adventure,Animation', 22),\n",
       " ('Crime,Thriller', 22),\n",
       " ('Family', 22),\n",
       " ('Action,Horror,Sci-Fi', 20),\n",
       " ('Biography,Drama,Romance', 20),\n",
       " ('Action,Comedy', 19),\n",
       " ('Action,Drama', 19),\n",
       " ('Action,Drama,History', 19),\n",
       " ('Drama,Mystery,Thriller', 19),\n",
       " ('Action,Drama,Thriller', 18),\n",
       " ('Action,Sci-Fi,Thriller', 18),\n",
       " ('Drama,Horror,Thriller', 16),\n",
       " ('Action,Comedy,Horror', 15),\n",
       " ('Action,Biography,Drama', 15),\n",
       " ('Horror,Sci-Fi,Thriller', 15),\n",
       " ('Adventure,Family,Fantasy', 15),\n",
       " ('Adventure,Comedy,Drama', 14),\n",
       " ('Drama,War', 14),\n",
       " ('Drama,Family', 14),\n",
       " ('Adventure,Comedy,Family', 14),\n",
       " ('Biography,Comedy,Drama', 14),\n",
       " ('Mystery,Thriller', 14),\n",
       " ('Comedy,Crime', 14),\n",
       " ('Action,Adventure', 12),\n",
       " ('Drama,Fantasy,Horror', 12),\n",
       " ('Drama,Horror,Mystery', 12),\n",
       " ('Crime,Mystery,Thriller', 12),\n",
       " ('Adventure,Family', 12),\n",
       " ('Horror,Mystery', 12),\n",
       " ('Drama,History,War', 12),\n",
       " ('Comedy,Drama,Fantasy', 12),\n",
       " ('Drama,Romance,Thriller', 12),\n",
       " ('Adventure,Animation,Family', 12),\n",
       " ('Drama,Mystery', 11),\n",
       " ('Drama,History', 11),\n",
       " ('Action,Adventure,Crime', 11),\n",
       " ('Action,Horror', 11),\n",
       " ('Drama,Mystery,Romance', 11),\n",
       " ('Comedy,Family', 11),\n",
       " ('Crime', 11),\n",
       " ('Action,Adventure,Thriller', 11),\n",
       " ('Comedy,Drama,Music', 10),\n",
       " ('Drama,Music', 10),\n",
       " ('Adventure,Drama,Family', 10),\n",
       " ('Horror,Sci-Fi', 10),\n",
       " ('Adventure,Comedy', 10),\n",
       " ('Biography,Crime,Drama', 10),\n",
       " ('Comedy,Horror,Sci-Fi', 9),\n",
       " ('Documentary,Music', 8),\n",
       " ('Adventure,Drama,Fantasy', 8),\n",
       " ('Biography,Drama,Music', 8),\n",
       " ('Comedy,Drama,Family', 8),\n",
       " ('Drama,History,Romance', 8),\n",
       " ('Drama,Sci-Fi', 8),\n",
       " ('Sci-Fi,Thriller', 8),\n",
       " ('Animation,Comedy,Family', 8),\n",
       " ('Adventure,Fantasy', 7),\n",
       " ('Drama,Horror', 7),\n",
       " ('Drama,Sport', 7),\n",
       " ('Drama,Horror,Sci-Fi', 7),\n",
       " ('Action,Crime,Mystery', 7),\n",
       " ('Drama,Fantasy', 7),\n",
       " ('Comedy,Crime,Thriller', 7),\n",
       " ('Comedy,Fantasy,Horror', 7),\n",
       " ('Animation,Family', 7),\n",
       " ('Crime,Horror,Thriller', 7),\n",
       " ('Crime,Drama,Romance', 7),\n",
       " ('Adventure', 7),\n",
       " ('Action,Sci-Fi', 7),\n",
       " ('Biography,Drama,Thriller', 7),\n",
       " ('Action,Fantasy,Horror', 7),\n",
       " ('Drama,Fantasy,Romance', 6),\n",
       " ('Action,Comedy,Drama', 6),\n",
       " ('Action,Comedy,Fantasy', 6),\n",
       " ('Action,Adventure,Family', 6),\n",
       " ('Drama,Mystery,Sci-Fi', 6),\n",
       " ('Comedy,Horror,Romance', 6),\n",
       " ('Action,Comedy,Sci-Fi', 6),\n",
       " ('Comedy,Thriller', 6),\n",
       " ('Drama,Sci-Fi,Thriller', 6),\n",
       " ('Western', 6),\n",
       " ('Comedy,Fantasy', 6),\n",
       " ('Adventure,Drama,History', 5),\n",
       " ('Romance', 5),\n",
       " ('Crime,Drama,Horror', 5),\n",
       " ('Sci-Fi', 5),\n",
       " ('Adventure,Animation,Drama', 5),\n",
       " ('Crime,Documentary', 5),\n",
       " ('Action,Crime', 5),\n",
       " ('Comedy,Drama,Musical', 5),\n",
       " ('Biography,Documentary,Music', 5),\n",
       " ('Comedy,Drama,History', 5),\n",
       " ('Action,Horror,Thriller', 5),\n",
       " ('Biography,Drama,Sport', 5),\n",
       " ('Drama,Western', 5),\n",
       " ('Documentary,Drama', 5),\n",
       " ('Action,Animation,Sci-Fi', 5),\n",
       " ('Drama,Romance,War', 5),\n",
       " ('Fantasy,Horror,Mystery', 5),\n",
       " ('Action,Adventure,Mystery', 5),\n",
       " ('Biography,Documentary', 5),\n",
       " ('Action,Fantasy,Sci-Fi', 4),\n",
       " ('Action,Drama,Fantasy', 4),\n",
       " ('Comedy,Drama,Sport', 4),\n",
       " ('Drama,Horror,Romance', 4),\n",
       " ('Adventure,Fantasy,Mystery', 4),\n",
       " ('Comedy,Sci-Fi', 4),\n",
       " ('Fantasy,Horror', 4),\n",
       " ('Comedy,Family,Fantasy', 4),\n",
       " ('Adventure,Biography,Drama', 4),\n",
       " ('Action,Horror,Mystery', 4),\n",
       " ('Mystery,Sci-Fi,Thriller', 4),\n",
       " ('Action,Comedy,Romance', 4),\n",
       " ('Biography,Drama,War', 4),\n",
       " ('Comedy,Horror,Thriller', 4),\n",
       " ('Action,Mystery,Thriller', 4),\n",
       " ('Drama,Romance,Sci-Fi', 4),\n",
       " ('Action,Comedy,Thriller', 4),\n",
       " ('Comedy,Drama,Mystery', 4),\n",
       " ('Comedy,Mystery', 4),\n",
       " ('Fantasy,Horror,Thriller', 4),\n",
       " ('Fantasy', 4),\n",
       " ('Drama,Fantasy,Mystery', 4),\n",
       " ('Action,Drama,Sci-Fi', 4),\n",
       " ('Action,Crime,Sci-Fi', 4),\n",
       " ('Comedy,Music', 4),\n",
       " ('Animation,Comedy,Drama', 3),\n",
       " ('Action,Drama,Sport', 3),\n",
       " ('Documentary,Sport', 3),\n",
       " ('Action,Biography,Crime', 3),\n",
       " ('Action,Animation,Horror', 3),\n",
       " ('Action,Drama,Romance', 3),\n",
       " ('Animation,Comedy', 3),\n",
       " ('Animation,Drama,Family', 3),\n",
       " ('Mystery,Romance,Thriller', 3),\n",
       " ('Action,Comedy,Family', 3),\n",
       " ('War', 3),\n",
       " ('Comedy,Western', 3),\n",
       " ('Adventure,Drama,Thriller', 3),\n",
       " ('Adventure,Drama,Romance', 3),\n",
       " ('Animation', 3),\n",
       " ('Adventure,Horror', 3),\n",
       " ('Action,Drama,War', 3),\n",
       " ('Comedy,Family,Romance', 3),\n",
       " ('Adventure,Comedy,Fantasy', 3),\n",
       " ('Drama,Thriller,War', 3),\n",
       " ('Crime,Drama,History', 3),\n",
       " ('Action,Fantasy,Thriller', 3),\n",
       " ('Comedy,Fantasy,Romance', 3),\n",
       " ('Action,Fantasy', 3),\n",
       " ('Adventure,Drama,Sci-Fi', 3),\n",
       " ('Drama,Fantasy,Sci-Fi', 3),\n",
       " ('Animation,Family,Fantasy', 3),\n",
       " ('Comedy,Romance,Sport', 3),\n",
       " ('Drama,History,Thriller', 3),\n",
       " ('Comedy,Horror,Mystery', 3),\n",
       " ('Adventure,Comedy,Crime', 3),\n",
       " ('Action,Drama,Mystery', 3),\n",
       " ('Romance,Thriller', 3),\n",
       " ('Biography,Documentary,Drama', 3),\n",
       " ('Action,Adventure,Biography', 3),\n",
       " ('Action,Animation,Drama', 2),\n",
       " ('Animation,Drama,Fantasy', 2),\n",
       " ('Drama,Music,Romance', 2),\n",
       " ('Biography,Documentary,Sport', 2),\n",
       " ('Action,Comedy,Sport', 2),\n",
       " ('Comedy,War', 2),\n",
       " ('Action,Romance,Thriller', 2),\n",
       " ('Action,Animation,Crime', 2),\n",
       " ('Action,Romance', 2),\n",
       " ('Adventure,Comedy,Horror', 2),\n",
       " ('Adventure,Biography,Comedy', 2),\n",
       " ('Horror,Romance', 2),\n",
       " ('Comedy,Horror,Music', 2),\n",
       " ('Crime,Horror,Mystery', 2),\n",
       " ('Action,Animation,Comedy', 2),\n",
       " ('Animation,Drama,Sci-Fi', 2),\n",
       " ('Animation,Drama', 2),\n",
       " ('Crime,Drama,War', 2),\n",
       " ('Action,Crime,Romance', 2),\n",
       " ('Animation,Comedy,Crime', 2),\n",
       " ('Adventure,Drama,Western', 2),\n",
       " ('Action,History', 2),\n",
       " ('Horror,Romance,Thriller', 2),\n",
       " ('Thriller,Western', 2),\n",
       " ('Adventure,Drama', 2),\n",
       " ('Documentary,News', 2),\n",
       " ('Action,Adventure,History', 2),\n",
       " ('Action,Drama,Family', 2),\n",
       " ('Romance,Sci-Fi,Thriller', 2),\n",
       " ('Action,Adventure,Romance', 2),\n",
       " ('Action,Crime,Fantasy', 2),\n",
       " ('Adventure,Documentary,Sport', 2),\n",
       " ('Drama,Fantasy,Musical', 2),\n",
       " ('Comedy,Crime,Mystery', 2),\n",
       " ('Action,Drama,Horror', 2),\n",
       " ('Comedy,Drama,War', 2),\n",
       " ('Action,Fantasy,Romance', 2),\n",
       " ('Action,Animation,Fantasy', 2),\n",
       " ('Adventure,Mystery,Sci-Fi', 2),\n",
       " ('Adventure,History', 2),\n",
       " ('Drama,Musical,Romance', 2),\n",
       " ('Action,Adventure,Horror', 2),\n",
       " ('Comedy,Sport', 2),\n",
       " ('Comedy,Music,Musical', 2),\n",
       " ('Documentary,History', 2),\n",
       " ('Fantasy,Romance', 2),\n",
       " ('Animation,Sci-Fi', 2),\n",
       " ('Adventure,Animation', 2),\n",
       " ('Action,Adventure,Western', 2),\n",
       " ('Comedy,Drama,Horror', 2),\n",
       " ('Horror,Mystery,Sci-Fi', 2),\n",
       " ('Action,Adventure,Documentary', 2),\n",
       " ('Action,Mystery,Sci-Fi', 2),\n",
       " ('Adventure,Family,Sci-Fi', 2),\n",
       " ('Action,Drama,Western', 2),\n",
       " ('Animation,Documentary', 1),\n",
       " ('Comedy,Musical', 1),\n",
       " ('Animation,Comedy,Fantasy', 1),\n",
       " ('Animation,Biography,Documentary', 1),\n",
       " ('Comedy,Fantasy,Sci-Fi', 1),\n",
       " ('Documentary,Drama,Family', 1),\n",
       " ('Adventure,Crime,Drama', 1),\n",
       " ('Fantasy,Mystery,Thriller', 1),\n",
       " ('Crime,Sci-Fi,Thriller', 1),\n",
       " ('Adventure,Comedy,Western', 1),\n",
       " ('Action,Comedy,Music', 1),\n",
       " ('Comedy,Musical,Sci-Fi', 1),\n",
       " ('Action,War', 1),\n",
       " ('Action,Fantasy,Western', 1),\n",
       " ('Action,Comedy,Documentary', 1),\n",
       " ('Drama,Mystery,War', 1),\n",
       " ('Drama,Thriller,Western', 1),\n",
       " ('Comedy,Crime,Romance', 1),\n",
       " ('Musical', 1),\n",
       " ('Comedy,Family,Sport', 1),\n",
       " ('Action,History,Thriller', 1),\n",
       " ('Crime,Mystery,Romance', 1),\n",
       " ('Animation,Mystery,Thriller', 1),\n",
       " ('Action,Comedy,Western', 1),\n",
       " ('Adventure,Documentary,Drama', 1),\n",
       " ('Documentary,War', 1),\n",
       " ('Adventure,Comedy,Sci-Fi', 1),\n",
       " ('Adventure,Crime,Thriller', 1),\n",
       " ('Family,Mystery', 1),\n",
       " ('Biography,Comedy,Crime', 1),\n",
       " ('Comedy,Musical,Romance', 1),\n",
       " ('Comedy,Romance,Sci-Fi', 1),\n",
       " ('Animation,Drama,Thriller', 1),\n",
       " ('Adventure,Romance', 1),\n",
       " ('Action,Crime,Horror', 1),\n",
       " ('Comedy,Fantasy,Thriller', 1),\n",
       " ('Animation,Family,Musical', 1),\n",
       " ('Biography,Comedy', 1),\n",
       " ('Adventure,Biography,History', 1),\n",
       " ('Adventure,Crime,Family', 1),\n",
       " ('Music', 1),\n",
       " ('Adventure,Drama,Horror', 1),\n",
       " ('Documentary,History,Sport', 1),\n",
       " ('Drama,Family,Romance', 1),\n",
       " ('Fantasy,Mystery,Romance', 1),\n",
       " ('Action,Biography,Documentary', 1),\n",
       " ('Documentary,History,Music', 1),\n",
       " ('Adventure,Horror,Sci-Fi', 1),\n",
       " ('Animation,Biography,Drama', 1),\n",
       " ('Music,Mystery,Thriller', 1),\n",
       " ('Comedy,Crime,Horror', 1),\n",
       " ('Adventure,Drama,Sport', 1),\n",
       " ('Family,Fantasy', 1),\n",
       " ('Drama,Music,Thriller', 1),\n",
       " ('Drama,History,Horror', 1),\n",
       " ('Biography,Drama,Musical', 1),\n",
       " ('Mystery,Romance,Sci-Fi', 1),\n",
       " ('Crime,Documentary,Drama', 1),\n",
       " ('Animation,Drama,Romance', 1),\n",
       " ('Adventure,Animation,Sci-Fi', 1),\n",
       " ('Adventure,History,Romance', 1),\n",
       " ('Documentary,Mystery', 1),\n",
       " ('Biography,History', 1),\n",
       " ('Drama,Fantasy,Music', 1),\n",
       " ('Comedy,Family,Music', 1),\n",
       " ('Adventure,Fantasy,Musical', 1),\n",
       " ('Comedy,Horror,Musical', 1),\n",
       " ('Adventure,Thriller', 1),\n",
       " ('Comedy,Drama,Sci-Fi', 1),\n",
       " ('Drama,Family,History', 1),\n",
       " ('Comedy,Romance,Western', 1),\n",
       " ('Mystery,Western', 1),\n",
       " ('Comedy,Drama,Thriller', 1),\n",
       " ('Crime,Drama,Sci-Fi', 1),\n",
       " ('Crime,Horror,Romance', 1),\n",
       " ('Crime,Romance,Thriller', 1),\n",
       " ('Fantasy,Horror,Sci-Fi', 1),\n",
       " ('Comedy,Documentary,Drama', 1),\n",
       " ('Drama,Family,Music', 1),\n",
       " ('Documentary,History,War', 1),\n",
       " ('Drama,Musical', 1),\n",
       " ('Drama,Family,Fantasy', 1),\n",
       " ('Drama,History,Sport', 1),\n",
       " ('Adventure,Sci-Fi,Thriller', 1),\n",
       " ('Biography,Documentary,Family', 1),\n",
       " ('Drama,Family,Sci-Fi', 1),\n",
       " ('Documentary,Family,History', 1),\n",
       " ('Drama,Family,Mystery', 1),\n",
       " ('Adventure,Biography,Crime', 1),\n",
       " ('Comedy,Crime,Family', 1),\n",
       " ('Adventure,Animation,Fantasy', 1),\n",
       " ('Horror,War', 1),\n",
       " ('Biography,Drama,Fantasy', 1),\n",
       " ('Drama,Fantasy,Thriller', 1),\n",
       " ('Biography', 1),\n",
       " ('Action,Thriller,Western', 1),\n",
       " ('Action,Horror,Romance', 1),\n",
       " ('Adventure,Biography', 1),\n",
       " ('Romance,War', 1),\n",
       " ('Thriller,War', 1),\n",
       " ('Crime,Drama,Fantasy', 1),\n",
       " ('Action,Mystery', 1),\n",
       " ('Crime,Documentary,History', 1),\n",
       " ('Crime,Mystery', 1),\n",
       " ('Adventure,Sci-Fi', 1),\n",
       " ('Family,Fantasy,Musical', 1),\n",
       " ('Documentary,Thriller', 1)]"
      ]
     },
     "execution_count": 6,
     "metadata": {},
     "output_type": "execute_result"
    }
   ],
   "source": [
    "genre_combination_frequs = Counter(df.genre)\n",
    "genre_combination_frequs.most_common()"
   ]
  },
  {
   "cell_type": "markdown",
   "metadata": {},
   "source": [
    "## Vorbereitung der Label und Slice auf die Genre"
   ]
  },
  {
   "cell_type": "code",
   "execution_count": 7,
   "metadata": {},
   "outputs": [],
   "source": [
    "#Documentary und Action, Crime, Drama\n",
    "labelcolor = []\n",
    "for index, row in df.iterrows():\n",
    "    if (row['genre'] == 'Documentary') == True:            #Documentary\n",
    "        labelcolor.append('red')    #red\n",
    "    elif (row['genre'] == 'Action,Crime,Drama') == True:              #Action,Crime,Drama\n",
    "        labelcolor.append('blue')   #blue\n",
    "    else: \n",
    "        labelcolor.append('white')\n",
    "df['labelcolor']=labelcolor    \n",
    "#df = df.loc[dfs_movie['originalTitle'] != 'Geisha vs ninja'] \n",
    "#df = df.loc[dfs_movie['originalTitle'] != 'Dao jiàn xiào'] \n",
    "df_2genre = df[df.labelcolor != 'white']\n",
    "#pd.value_counts(df_2genre.labelcolor).plot.bar() \n",
    "#pd.value_counts(df_2genre.labelcolor)  "
   ]
  },
  {
   "cell_type": "markdown",
   "metadata": {},
   "source": [
    "## TFIDF - Agglomerative Clustering"
   ]
  },
  {
   "cell_type": "code",
   "execution_count": 8,
   "metadata": {},
   "outputs": [],
   "source": [
    "#tf-idf\n",
    "stop_words = get_stop_words('de')\n",
    "stop_words.append('ch00ffff')\n",
    "tfidf = TfidfVectorizer(max_features=100, stop_words=stop_words) #, stop_words=get_stop_words('de'))\n",
    "tokens = tfidf.fit_transform(df_2genre.text)\n",
    "hier_model = AgglomerativeClustering(n_clusters=None, distance_threshold=0).fit(tokens.todense())"
   ]
  },
  {
   "cell_type": "markdown",
   "metadata": {},
   "source": [
    "## Dendrogram"
   ]
  },
  {
   "cell_type": "code",
   "execution_count": 9,
   "metadata": {},
   "outputs": [
    {
     "data": {
      "image/png": "[encoded data removed]",
      "text/plain": [
       "<Figure size 1080x576 with 1 Axes>"
      ]
     },
     "metadata": {
      "needs_background": "light"
     },
     "output_type": "display_data"
    }
   ],
   "source": [
    "lmatrix = linkage_matrix(tokens.shape[0], hier_model.children_, hier_model.distances_)\n",
    "plt.figure(figsize=(15,8))\n",
    "dendrogram(lmatrix, labels=(df_2genre['Title'].values + \"     \" + df_2genre['genre'].values), leaf_font_size=9);"
   ]
  },
  {
   "cell_type": "markdown",
   "metadata": {},
   "source": [
    "## Wordlist"
   ]
  },
  {
   "cell_type": "code",
   "execution_count": 10,
   "metadata": {},
   "outputs": [
    {
     "data": {
      "text/plain": [
       "[('ja', 1383),\n",
       " ('mehr', 1268),\n",
       " ('immer', 1067),\n",
       " ('gibt', 969),\n",
       " ('wurde', 953),\n",
       " ('leben', 872),\n",
       " ('gut', 871),\n",
       " ('menschen', 840),\n",
       " ('mal', 773),\n",
       " ('leute', 742),\n",
       " ('sagte', 717),\n",
       " ('geht', 711),\n",
       " ('viele', 709),\n",
       " ('schon', 650),\n",
       " ('sehen', 649),\n",
       " ('einfach', 634),\n",
       " ('sagen', 618),\n",
       " ('weiß', 576),\n",
       " ('nein', 568),\n",
       " ('wirklich', 550),\n",
       " ('welt', 550),\n",
       " ('tun', 538),\n",
       " ('zwei', 524),\n",
       " ('nie', 516),\n",
       " ('zeit', 515),\n",
       " ('tag', 507),\n",
       " ('heute', 484),\n",
       " ('¼', 482),\n",
       " ('film', 480),\n",
       " ('warum', 478),\n",
       " ('müssen', 469),\n",
       " ('macht', 466),\n",
       " ('ganz', 443),\n",
       " ('geld', 427),\n",
       " ('gab', 421),\n",
       " ('jahre', 421),\n",
       " ('gehen', 417),\n",
       " ('hast', 406),\n",
       " ('wissen', 403),\n",
       " ('glaube', 394)]"
      ]
     },
     "execution_count": 10,
     "metadata": {},
     "output_type": "execute_result"
    }
   ],
   "source": [
    "count_docu = wordlister('Documentary')\n",
    "#print(wordlistplot(count_docu.most_common(1000)))\n",
    "count_docu.most_common(40)"
   ]
  },
  {
   "cell_type": "code",
   "execution_count": 11,
   "metadata": {},
   "outputs": [
    {
     "data": {
      "text/plain": [
       "[('ja', 3096),\n",
       " ('hast', 1536),\n",
       " ('nein', 1490),\n",
       " ('mal', 1380),\n",
       " ('schon', 1334),\n",
       " ('los', 1326),\n",
       " ('gut', 1317),\n",
       " ('s', 1177),\n",
       " ('hey', 927),\n",
       " ('geht', 895),\n",
       " ('mann', 879),\n",
       " ('wer', 848),\n",
       " ('komm', 836),\n",
       " ('weiß', 827),\n",
       " ('okay', 827),\n",
       " ('bitte', 766),\n",
       " ('mehr', 726),\n",
       " ('scheiße', 649),\n",
       " ('gehen', 638),\n",
       " ('immer', 635),\n",
       " ('tun', 613),\n",
       " ('warum', 599),\n",
       " ('willst', 589),\n",
       " ('geld', 576),\n",
       " ('na', 565),\n",
       " ('gibt', 558),\n",
       " ('danke', 521),\n",
       " ('leben', 516),\n",
       " ('sehen', 511),\n",
       " ('wissen', 506),\n",
       " ('sagen', 483),\n",
       " ('müssen', 479),\n",
       " ('raus', 478),\n",
       " ('kommen', 465),\n",
       " ('kommt', 465),\n",
       " ('klar', 463),\n",
       " ('ganz', 456),\n",
       " ('zwei', 455),\n",
       " ('lass', 448),\n",
       " ('lassen', 445)]"
      ]
     },
     "execution_count": 11,
     "metadata": {},
     "output_type": "execute_result"
    }
   ],
   "source": [
    "count_action_crime_drama = wordlister('Action,Crime,Drama')\n",
    "#print(wordlistplot(count_action_crime_drama.most_common(1000))) \n",
    "count_action_crime_drama.most_common(40)"
   ]
  },
  {
   "cell_type": "code",
   "execution_count": 12,
   "metadata": {
    "scrolled": true
   },
   "outputs": [
    {
     "name": "stdout",
     "output_type": "stream",
     "text": [
      "Kaun Kare Kurbanie\n",
      "Le marais\n",
      "Young Yakuza\n",
      "The War on Democracy\n",
      "For Love and Honour\n",
      "Righteous Kill\n",
      "Man on Wire\n",
      "Triad Wars\n",
      "Knut und seine Freunde\n",
      "Taking Root: The Vision of Wangari Maathai\n",
      "The Porn Diaries\n",
      "69\n",
      "Stalags\n",
      "Shinjuku Incident\n",
      "Ninja\n",
      "Rain Fall\n",
      "Mother\n",
      "Dossier K.\n",
      "Harry Brown\n",
      "Plastic Planet\n",
      "Andrzej Wajda: Let's Shoot!\n",
      "Mount St. Elias\n",
      "To Shoot an Elephant\n",
      "All Boys\n",
      "Fat, Sick & Nearly Dead\n",
      "The Yellow Sea\n",
      "Snabba Cash\n",
      "Faster\n",
      "Hubble 3D\n",
      "Elite Squad 2: The Enemy Within\n",
      "I Saw the Devil\n",
      "David Wants to Fly\n",
      "Yakuza-Busting Girls: Final Death-Ride Battle\n",
      "Future of Hope\n",
      "Boca\n",
      "Taste the Waste\n",
      "Whores' Glory\n",
      "Assassination Games\n",
      "Forks Over Knives\n",
      "Pressed\n",
      "Dragon\n",
      "The Prey\n",
      "Zeitgeist: Moving Forward\n",
      "Serengeti\n",
      "Trabant Goes to Africa\n",
      "Debtocracy\n",
      "The Road Uphill\n",
      "Just Do It: A Tale of Modern-day Outlaws\n",
      "Quebrando o Tabu\n",
      "Die Kinder vom Napf\n",
      "Looper\n",
      "After Porn Ends\n",
      "Get the Gringo\n",
      "Beyond Outrage\n",
      "Dragon Eyes\n",
      "Motorway\n",
      "Fire with Fire\n",
      "Gangs of Wasseypur\n",
      "Room 237\n",
      "Drug War\n",
      "The Flesh and the Fury: X-posing Twins of Evil\n",
      "Stories We Tell\n",
      "Catastroika\n",
      "Bloody Daughter\n",
      "A Year with Armin Van Buuren\n",
      "Gangster Squad\n",
      "I Am Divine\n",
      "Redemption\n",
      "Jodorowsky's Dune\n",
      "Java Heat\n",
      "Dead Man Down\n",
      "Homefront\n",
      "Blood of Redemption\n",
      "Avenged\n",
      "Police Story: Lockdown\n",
      "New World\n",
      "On the Job\n",
      "First Comes Love\n",
      "009-1: The End of the Beginning\n",
      "Psycho's Sister: Making the Name of the Game Is Kill\n",
      "Population Boom\n",
      "A Symphony of Summits: The Alps from Above\n",
      "Revenge of the Green Dragons\n",
      "Sabotage\n",
      "The Rover\n",
      "Bad Country\n",
      "Son of a Gun\n",
      "Black Butler\n",
      "American Heist\n",
      "A Most Violent Year\n",
      "Free to Play\n",
      "Cowspiracy: The Sustainability Secret\n",
      "We Come as Friends\n",
      "Point and Shoot\n",
      "Chappie\n",
      "Run All Night\n",
      "Wild Card\n",
      "Broken Horses\n",
      "The Gunman\n",
      "Kidnapping Mr. Heineken\n",
      "Sicario\n",
      "Lila & Eve\n",
      "10 Billion - What's on your plate?\n",
      "Hot Girls Wanted\n",
      "Winter on Fire: Ukraine's Fight for Freedom\n",
      "Hitting the Apex\n",
      "Under the Sun\n",
      "Triple 9\n",
      "The Accountant\n",
      "The Take\n",
      "Criminal\n",
      "Kickboxer: Vengeance\n",
      "I Am Wrath\n",
      "London Has Fallen\n",
      "Blood Father\n",
      "The Red Pill\n",
      "I'll Sleep When I'm Dead\n",
      "Into the Inferno\n",
      "Tony Robbins: I Am Not Your Guru\n",
      "Audrie & Daisy\n",
      "Brexit: The Movie\n",
      "Asura\n",
      "The Ivory Game\n",
      "Beyond the Trek\n",
      "Raees\n",
      "After Porn Ends 2\n",
      "What the Health\n",
      "Barbecue\n",
      "Chasing Coral\n",
      "I am Jane Doe\n",
      "Unacknowledged\n"
     ]
    }
   ],
   "source": [
    "for title in df_2genre.Title:\n",
    "    print(title)"
   ]
  },
  {
   "cell_type": "code",
   "execution_count": 13,
   "metadata": {
    "scrolled": false
   },
   "outputs": [
    {
     "data": {
      "text/plain": [
       "[('jinxi', 28),\n",
       " ('tang', 25),\n",
       " ('vater', 24),\n",
       " ('long', 22),\n",
       " ('liu', 21),\n",
       " ('kommen', 14),\n",
       " ('hast', 12),\n",
       " ('xu', 12),\n",
       " ('yan', 11),\n",
       " ('gehen', 11),\n",
       " ('sagte', 11),\n",
       " ('sohn', 11),\n",
       " ('schon', 10),\n",
       " ('immer', 10),\n",
       " ('dorf', 10),\n",
       " ('wurde', 10),\n",
       " ('nie', 10),\n",
       " ('mehr', 10),\n",
       " ('zehn', 10),\n",
       " ('dongsheng', 9),\n",
       " ('mann', 9),\n",
       " ('dämonen', 9),\n",
       " ('ja', 8),\n",
       " ('jingzhou', 8),\n",
       " ('tot', 8),\n",
       " ('jahre', 8),\n",
       " ('wäre', 8),\n",
       " ('baijiu', 8),\n",
       " ('xiaotian', 7),\n",
       " ('gut', 7),\n",
       " ('warum', 7),\n",
       " ('sogar', 7),\n",
       " ('fall', 7),\n",
       " ('schlachter', 7),\n",
       " ('mensch', 7),\n",
       " ('menschen', 7),\n",
       " ('leben', 7),\n",
       " ('72', 7),\n",
       " ('bruder', 7),\n",
       " ('phase', 7)]"
      ]
     },
     "execution_count": 13,
     "metadata": {},
     "output_type": "execute_result"
    }
   ],
   "source": [
    "def wordlistersingle(title):\n",
    "    singletitle = df.loc[(df['Title'] == title)]\n",
    "    idx = df.index[df['Title'] == title]\n",
    "    \n",
    "    single_tokens = re.findall(\"\\w+\", singletitle.at[idx[0],'text'].lower())\n",
    "    tokens_without_stopwords =[]\n",
    "    for word in single_tokens:\n",
    "        if word not in stop_words:\n",
    "            tokens_without_stopwords.append(word)\n",
    "    return Counter(tokens_without_stopwords), singletitle.at[idx[0],'text'], singletitle\n",
    "\n",
    "\n",
    "count_singletitle, text_singletitle, df_singletitle = wordlistersingle('Dragon')\n",
    "#Ghost in the Shell\n",
    "#Le marais\n",
    "count_singletitle.most_common(40)"
   ]
  },
  {
   "cell_type": "code",
   "execution_count": 14,
   "metadata": {},
   "outputs": [
    {
     "data": {
      "text/html": [
       "<div>\n",
       "<style scoped>\n",
       "    .dataframe tbody tr th:only-of-type {\n",
       "        vertical-align: middle;\n",
       "    }\n",
       "\n",
       "    .dataframe tbody tr th {\n",
       "        vertical-align: top;\n",
       "    }\n",
       "\n",
       "    .dataframe thead th {\n",
       "        text-align: right;\n",
       "    }\n",
       "</style>\n",
       "<table border=\"1\" class=\"dataframe\">\n",
       "  <thead>\n",
       "    <tr style=\"text-align: right;\">\n",
       "      <th></th>\n",
       "      <th>Unnamed: 0</th>\n",
       "      <th>filename</th>\n",
       "      <th>text</th>\n",
       "      <th>IMDB_ID</th>\n",
       "      <th>genre</th>\n",
       "      <th>year</th>\n",
       "      <th>production_region</th>\n",
       "      <th>corpus</th>\n",
       "      <th>duration</th>\n",
       "      <th>directors</th>\n",
       "      <th>...</th>\n",
       "      <th>imdbRating</th>\n",
       "      <th>imdbVotes</th>\n",
       "      <th>Type</th>\n",
       "      <th>DVD</th>\n",
       "      <th>BoxOffice</th>\n",
       "      <th>Production</th>\n",
       "      <th>Website</th>\n",
       "      <th>Response</th>\n",
       "      <th>only_stopwords</th>\n",
       "      <th>labelcolor</th>\n",
       "    </tr>\n",
       "  </thead>\n",
       "  <tbody>\n",
       "    <tr>\n",
       "      <td>1239</td>\n",
       "      <td>1239</td>\n",
       "      <td>5023525.xml</td>\n",
       "      <td>Vater . - Was ist denn , Xiaotian ? Mein Zahn ...</td>\n",
       "      <td>tt1718199</td>\n",
       "      <td>Action,Crime,Drama</td>\n",
       "      <td>2011.0</td>\n",
       "      <td>Mandarin</td>\n",
       "      <td>untokenisiert</td>\n",
       "      <td>115.0</td>\n",
       "      <td>nm0151066</td>\n",
       "      <td>...</td>\n",
       "      <td>7.1</td>\n",
       "      <td>13,354</td>\n",
       "      <td>movie</td>\n",
       "      <td>16 Apr 2013</td>\n",
       "      <td>$11,137</td>\n",
       "      <td>Radius/The Weinstein Co.</td>\n",
       "      <td>NaN</td>\n",
       "      <td>True</td>\n",
       "      <td>was ist denn mein was ist mit dem ich nach wel...</td>\n",
       "      <td>blue</td>\n",
       "    </tr>\n",
       "  </tbody>\n",
       "</table>\n",
       "<p>1 rows × 58 columns</p>\n",
       "</div>"
      ],
      "text/plain": [
       "      Unnamed: 0     filename  \\\n",
       "1239        1239  5023525.xml   \n",
       "\n",
       "                                                   text    IMDB_ID  \\\n",
       "1239  Vater . - Was ist denn , Xiaotian ? Mein Zahn ...  tt1718199   \n",
       "\n",
       "                   genre    year production_region         corpus  duration  \\\n",
       "1239  Action,Crime,Drama  2011.0          Mandarin  untokenisiert     115.0   \n",
       "\n",
       "      directors  ... imdbRating imdbVotes   Type          DVD  BoxOffice  \\\n",
       "1239  nm0151066  ...        7.1    13,354  movie  16 Apr 2013    $11,137   \n",
       "\n",
       "                    Production  Website  Response  \\\n",
       "1239  Radius/The Weinstein Co.      NaN      True   \n",
       "\n",
       "                                         only_stopwords  labelcolor  \n",
       "1239  was ist denn mein was ist mit dem ich nach wel...        blue  \n",
       "\n",
       "[1 rows x 58 columns]"
      ]
     },
     "execution_count": 14,
     "metadata": {},
     "output_type": "execute_result"
    }
   ],
   "source": [
    "df_singletitle"
   ]
  },
  {
   "cell_type": "code",
   "execution_count": 15,
   "metadata": {},
   "outputs": [
    {
     "data": {
      "text/plain": [
       "'Vater . - Was ist denn , Xiaotian ? Mein Zahn tut weh . - Komm mal her . Was ist mit dem Zahn ? Ich sehe mal nach . Welcher Zahn ist es ? Mach den Mund weit auf . Noch ein bisschen . Ist es der hier ? Oder der ? Oder der hier ? Zeig mal . Zhigens Frau kam gestern zur Papiermühle . Sie schimpfte alle , die nicht zur Feier ihres Neugeborenen gekommen waren . Ich war beschäftigt und verschwand lieber . Wirklich wahr ? Bei ihrem Bauch meint man , das Kind kommt erst noch . Findest du ? Wann kriegst du noch ein Kind ? Das fragt man nicht . - Wer so viel fragt , wird eingetauscht . Das werde ich nicht . - Das wirst du wohl . Nein . - Doch . Nein . Jinxi . - Ja ? Hast du schon gegessen ? Es gibt Fleischeintopf . Danke , ich esse kein Fleisch . - Stimmt ja . Du isst kein Fleisch . Das vergesse ich immer . Seit es die Papiermühle gibt , geht es dem Dorf gut . Viele Fremde kaufen hier ihr Papier . Wir sind wegen des Geldes hier . Ihr wollt sicher Papier kaufen . Wir sind wegen des Geldes hier . Habt ihr einen Kreditbrief ? Wir wollen das Geld holen . Haben Sie jetzt verstanden ? Her mit dem Geld . Hört auf , ihn zu schlagen . Schlagt ihn nicht , hört auf , hört auf . Kriegen wir nun das Geld ? Hilfe ! - Schau hin , was du machst . Helft mir . Bloß weg hier . Vater . Vater ! Vater . Vater . Vater . Vater , was ist mit dir ? Die Zehen sind unverletzt . Die Lunge ist in Ordnung . Die Schultern sind unverletzt . Kinder , hört auf , zu rennen . Es gibt keine Verletzung an den Knien und keine an den Handflächen . Die Fußsohlen sind ohne tödliche Verletzung , die Fußrücken ebenso . Verurteilt wegen Raubüberfall Yan Dongsheng Hier , Euer Ehren , die Kräuter vertreiben den Gestank . Euer Ehren . - Was ist , Xu ? Euer Ehren . - Warum sind Sie so aufgeregt ? Ich habe etwas entdeckt . Der eine Tote ist ein Schwerverbrecher . Erinnern Sie sich an Yan Dongsheng ? Yan Dongsheng war der Drahtzieher bei zahllosen schrecklichen Verbrechen . Wir hatten ihn geschnappt , doch er überwältigte unsere Leute und entkam . Und jetzt hat dieser Liu Jinxi ihn ganz nebenbei zur Strecke gebracht ? So ist es . Und er hat ihn sogar erschlagen ? - So ist es . Damit wurde dieser Fall in meinem Amtsbereich gelöst . Sehr schön , das ist ausgezeichnet . Arrangieren Sie sofort ein Treffen mit dem Helden . Ich will ihn kennenlernen und ihm im Namen der Bevölkerung und der Regierung danken . Gehen wir . Lasst uns Liu Jinxi danken . Der Richter ruft . - Dankt Liu Jinxi . Ich komme schon . Liebe Landsleute , der Fall wurde bereits aufgeklärt . Dieser Tote hier ist Yan Dongsheng . Er war ein berüchtigter Verbrecher und hat zahlreiche Morde begangen . Dass er zur Strecke gebracht wurde , verdanken wir unserem Helden Liu Jinxi . Das war eine großartige Leistung . Juli 1917 , in der 22. Woche . Ich wurde in das Dorf der Liu geschickt . Tatort ist ein Gemischtwarenladen . Beteiligt sind ein Papiermacher und zwei flüchtige Verbrecher . Wie kann ein unbewaffneter Papiermacher einen erfahrenen Mörder wie Yan Dongsheng töten ? Sie kennen doch Liu Jinxi ? In so einem Dorf kennt jeder jeden . Hat denn Liu Jinxi schon immer hier gewohnt ? Nicht ganz . - Nein ? Erst als er Ayu heiratete , zog er hierher . Davor hieß er auch nicht \" Liu \" wie wir . Sein Nachname war \" Gong \" . \" Gong \" ? - Genau . Fangzheng war noch klein , als sein Vater davonlief . Ayu heiratete Jinxi und bekam Xiaotian . Einmal habe ich Jinxi gefragt : \" Aus welchem Dorf stammst du ? \" Er sagte : \" Aus Gongjiazhuang . \" Außerdem sagte er , in seiner Familie seien alle Schlachter . Schlachter ? Blutunterlaufene Augen deuten auf eine Hirnblutung hin . Yan wurde an der Schläfe getroffen , wo ein wichtiger Nerv verläuft : Er reguliert den Herzschlag . Wird der Nerv verletzt , hört das Herz auf zu schlagen . Aber um den Nerv mit nur einem Schlag zu zerstören , braucht es außerordentliche Fähigkeiten . Er ist aus der Region Jingzhou . Daran erinnere ich mich genau . Aus Jingzhou ? - Aus Jingzhou . Ist er wirklich aus Jingzhou ? Und vor allem ein guter Mann ? Was kann ein Mensch schon ? Selbst ob man gut oder böse ist , bestimmt der Körper . In ihm stecken alle Emotionen . Das Mitgefühl sitzt in der Brust . Dieser Punkt ist bei mir sehr ausgeprägt . Deshalb habe ich zu viel Mitleid . Das wurde mir einst fast zum Verhängnis : Ein Junge hatte seinen Pflegeeltern Geld gestohlen . Ich ließ den Jungen laufen . Güte war mir wichtiger als das Gesetz . Ich ahnte nicht , dass er das Essen vergiften würde . Die Pflegeeltern waren sofort tot . Auch in mir wütete das Gift . Meine Persönlichkeit wurde gespalten . Seitdem ist mein anderes Ich immer an meiner Seite . Es sagte mir : \" Beherrsche deine Gefühle durch Medizin . \" Also stieß ich eine Nadel in den Punkt in meiner Brust . So unterdrücke ich mein Mitgefühl . Mit einer anderen Nadel begrenzte ich die Wirkung des Giftes . \" Auf dein Gefühl ist kein Verlass \" , sagte mein anderes Ich . \" Verlasse dich nur auf das Gesetz und die Wissenschaft . \" Sie sind es . Hier ist keine Tür . Das ist in kleinen Dörfern so . Suchen Sie Jinxi ? Er ist nicht hier . Nein , ich wollte zu Ihnen . Ich mache Ihnen Suppe gegen den Husten . Lassen Sie nur . - Das macht keine Umstände . Gestern hörte ich den Wirt sagen , dass Jinxi erst seit ein paar Jahren hier lebt . Und sein Name ist nicht \" Liu \" . Es muss wohl fünf Jahre her sein . Ich war gerade mit Xiaotian schwanger , als ich Jinxi im Dorf registrieren ließ . So wurde er ein \" Liu \" . Wie haben Sie sich kennengelernt ? Das war vor langer Zeit . Ich erinnere mich kaum . Er zog damals durch unser Dorf . Wie ich hörte , gab es bei ihm zu Hause Streit . Deswegen war er weggelaufen . Sonst hat er nichts gesagt . Seine Familie muss wohl sehr leiden . - Warum sollte sie das ? Kennt Jinxi Ihren ersten Mann ? Sie trafen sich nie . Ich habe wohl etwas Falsches gesagt . Mein erster Mann ist damals einfach so verschwunden . Er sagte , er käme abends zum Essen wieder . Aber in Wirklichkeit hatte er schon alles vorbereitet . Sogar sein Kopfkissen hat er mitgenommen . Er hat mich mit dem Kind alleine gelassen . So einen Menschen muss Jinxi nicht kennen . Manchmal sagt Jinxi zu mir : \" Ich komme zum Abendessen wieder . \" Dann sage ich : \" Das will ich nicht hören . \" Nicht diese Worte . Über seine Familie frage ich nie etwas , weil ich Angst habe , dass er dann auch weggeht . Erste Befragung des Verdächtigen , Juli 1917 , in der 23. Woche . Wie haben Sie Yan Dongsheng gepackt ? Ich muss nachdenken . Das muss wohl ... Ich glaube , das war so . So habe ich ihn festgehalten . Und weiter ? - Ich habe mich festgeklammert . Ich ließ nicht los , und er wirbelte mich herum . Du hast dir die Hebelkraft gegen Yan Dongshen zunutze gemacht . Der hatte keine Chance , sich gegen den Griff zu wehren . Wie hat Yan Dongsheng sein Ohr verloren ? Keine Ahnung , es war so ein Durcheinander . Der andere kam mit dem Messer an . Ich duckte mich natürlich und hörte plötzlich einen Schrei . Ich weiß auch nicht , was genau passiert ist . Sie haben sich also gegenseitig verletzt ? Genau so war es . Sie haben sich gegenseitig verletzt . - So ist es , es war wohl Zufall . Du wurdest herumgeschleudert und hast dich mit den Händen abgefangen . Dann hast du Kampfstellung eingenommen . Du hast dich zum Töten bereit gemacht . Ein gekonnter Schlag verursachte ein Blutgerinnsel . Das wanderte zum Herzen , wo es die Kranzgefäße blockierte . Es kam zum Herzstillstand . Der Große durchbrach die Tür und schleppte mich raus . Er stieß mich ins Wasser und drückte meinen Kopf runter . Ich kämpfte um mein Leben und zappelte . Ich kämpfte um mein Leben , ich bekam keine Luft . Und wie starb Yan Dongsheng ? Du hast Yan Dongsheng ins Wasser gezogen . Denn das Wasser bremste die Wucht seiner Schläge . Dann hast du ihn auf den Vagusnerv geschlagen . Wenn ihn das nicht getötet hätte , wäre er zumindest für immer gelähmt gewesen . Es war ein heimtückischer Schlag . Du wolltest ihn töten . Liu Jinxi , letztendlich bist du ein Mörder . Ich habe schnell reagiert . Das reicht mir , ich danke Ihnen . Bis morgen . - Sie kommen wieder ? Haben Sie noch mehr Fragen ? Ich überlege mir welche . Jinxi hat der Gemeinschaft einen großen Dienst erwiesen . Deshalb haben wir beschlossen , Fangzheng zu unterstützen . Wir bezahlen für die Universität und die Aufnahmeprüfung . Fangzheng wird dieses Jahr erwachsen ? - So ist es . Nach dem Ritual bekommt er die Kleidung eines Erwachsenen und wird wie ein Erwachsener behandelt . Das ist doch der Traum aller Eltern . Vielen Dank . Das kann nicht sein . Dein Atem geht viel zu schnell . Ein Meister der Kampfkunst atmet langsam , um die Energie des Qi zu nutzen . Ich müsste bei jedem Atemzug bis zehn zählen können . Aber ich zähle nur bis zwei . Das ist unmöglich . Ich helfe Ihnen . - Das ist nicht nötig . Das ist schwer . - Es geht schon . Helft mir . Halte durch . - Wir kommen . Halte durch . - Wir helfen dir . Helft mir . Wenn ein Körper mit seiner Masse aus dieser Höhe fällt , kann der Ast unmöglich halten . Neben der Masse spielt auch die Dichte eine Rolle . Wenn die Luft eine höhere Dichte hätte als er , könnte sie den Sturz bremsen . Aber Luft hat eine viel geringere Dichte . Ändert er sein Gewicht ? Er beherrscht Qinggong . So geht es . - Es ist nichts passiert , oder ? Das war knapp . - Macht langsam . Wären Sie nicht gewesen , wäre ich nicht ins Wasser gestürzt . Das war Vorsehung . Das war keine Absicht . Natürlich nicht . Aber auf dieser Welt sind alle Dinge miteinander verwoben . Nichts existiert nur für sich , alles hängt zusammen . Wäre ich zum Beispiel nicht in dieses Dorf gekommen , hätte ich nie Ayu getroffen . Wäre ihr Mann nicht weggelaufen , hätte ich sie nie geheiratet . Wäre ich nicht im Laden den Verbrechern begegnet , wären die beiden jetzt noch am Leben . Und Sie wären nicht hier . Niemand lebt für sich allein . Wenn einer Unrecht tut , hat das Auswirkungen auf alle . Wir sind alle Komplizen . Ich kann es nicht beweisen . Dann lassen Sie ihn . Er ist doch ein guter Mann geworden . Wir sperren keinen ein , um ihn zu bessern . Warum denn dann ? Weil es das Gesetz verlangt . Wenn das Gesetz die Menschen nicht bessern kann , was nutzt es dann ? Ein wahrer Meister der Kampfkunst hat seine Gefühlsregungen im Griff . Er mag wie ein guter Mensch erscheinen , aber er ist dennoch ein Mörder . Geh nach Jingzhou und höre dich um . Dann erstatte mir Bericht . Xu Baijiu , woher kommen Sie eigentlich ? Ich komme aus Wenjiang in Sichuan . Das ist ja gar nicht weit von hier . Und Sie stammen aus Jingzhou ? Ist das sehr weit von hier ? Was hat Sie hierher verschlagen ? Finden Sie es hier so schön , oder dort so furchtbar ? Ich finde es hier so schön . Wenn Ihre Heimat so nah ist , sind Sie sicher oft dort . Das Klima ist sehr mild , oder ? Aber als mein Vater starb , heiratete meine Mutter wieder . Seitdem bin ich nicht mehr oft dort . Auch wenn es nicht weit ist , mir fehlt meine Heimat . Sie sind schon zehn Jahre weg . Haben Sie da kein Heimweh ? Wollten Sie nie zurückgehen ? Bisher nicht . Dann hat Xiaotian also noch nie seinen Großvater getroffen ? Greifen Sie zu , es wird kalt . Fangzheng sagte mir , Sie hätten mal ein Pferd gehabt . Hier haben die wenigsten ein Pferd . Das ist wirklich selten . Was war das für ein Pferd ? Es stimmt . Ich hatte früher ein Pferd . Mein Vater brachte es um . Er sah , wie sehr ich das Pferd mochte . Deshalb tötete er es . Er setzte es mir zum Essen vor . Ahnungslos griff ich zu . Nachher sagte er , wenn ich sogar mein geliebtes Pferd essen kann , muss ich mich vor nichts fürchten . Nichts kann mich je kleinkriegen . Würden Sie dorthin zurückkehren ? Söhne unserer Gemeinschaft , ihr seid erwachsen geworden . Von nun an tragt ihr die Kleidung der Erwachsenen und dient dem Kaiser . Liu Kaipai . Liu Fangzheng . Liu Tiannan . Sitzt alles gut ? - Ja . Verbeugt euch . Verbeugt euch noch einmal . Die Räucherstäbchen . Sie waren gerade sehr gerührt , nicht wahr ? Was treibt einen Menschen dazu , seine Heimat für immer zu verlassen und sogar den Namen zu ändern ? Können sich Menschen nicht ändern ? Ich fasste einmal einen kleinen Dieb . Ich dachte , er könne sich ändern . Deswegen ließ ich ihn laufen . Ich konnte nicht ahnen , dass er seine Eltern vergiftet , sobald ich ihn freilasse . Was meinen Sie , ändert sich der Junge , indem er wegläuft und seinen Namen ändert ? Ich glaube nicht . Sie wollen mich festnehmen . Ich bin ein verurteilter Mörder . Ich war zehn Jahre im Gefängnis . Das war noch in Gongjiazhuang . Mein Vater war Schlachter . Ein anderer Schlachter lieh sich Geld von uns . Er zahlte es nicht zurück , und Vater sagte : \" Menschen sind nicht mehr wert als Tiere . \" \" Und dieser Mensch ist sogar noch weniger wert , weil er gierig ist . \" Dann gab er mir sein Fleischerbeil . Und ich hackte den Mann in Stücke . Ich fühlte nichts dabei . Plötzlich hörte ich den Sohn des Mannes weinen . Das Kind weinte immerzu und sah mich unentwegt an . Mein Vater hatte unrecht . Menschen sind nicht wie Tiere . Bei Mord bekommt man nicht nur zehn Jahre . Vor zehn Jahren gab es eine Amnestie . Ich musste mein Leben ändern . Ich musste meine Heimat verlassen . Ich musste Liu Jinxi werden . Es ist mir fast gelungen . Vater , der Markt fängt gleich an . Bitte gehen Sie einfach . Ich bitte Sie . Vater , wir müssen los . Xu Baijiu , kommen Sie doch auch mit . Ist gut , ich komme schon . - Beeil dich . Beeil dich . Da bin ich . Gehen wir . Sein Qi ist viel stärker als das der anderen . Ihn umgibt eine Energie , die sogar Fliegen abwehrt . Er hat dich angelogen . Kein Schlachtersohn hat solche Fähigkeiten . Versuch es , es wird die Energie nicht durchdringen . Ich habe alles überprüft . In Jingzhou gibt es kein Dorf , das Gongjiazhuang heißt . In ganz Jingzhou gibt es auch keine Schlachter namens Gong . Aber vor zehn Jahren wurde die Familie eines Schlachters ermordet . Er hieß Zhang und bezahlte seine Schulden nicht . Seine gesamte Familie wurde ermordet . Aus den Leichen machte man Füllung und verkaufte sie in Hefeklößen . Den ahnungslosen Dorfbewohnern schmeckten sie ausgezeichnet . Der Fall müsste Ihnen bekannt sein . Ist alles in Ordnung ? Mir fehlt nichts . - Mit der Zeit gewöhnt man sich daran . Es ist so , die 72 Dämonen sind die einzigen Überlebenden der Tangut . Sie waren einst wie wir , gebildet und kultiviert . Dann wurden 800.000 von ihnen grundlos abgeschlachtet . Die Überlebenden wurden Wilde . Sie essen rohes Fleisch und begraben ihre Toten nicht . Sie leben nur , um ihre Toten zu rächen . Das hier ist unsere Quittung . Nach den Morden verschwand Tang Long , der zweite Anführer der 72 Dämonen . Dass Liu Jinxi hier ins Dorf kam , muss doch auch etwa zehn Jahre her sein . Er ist Tang Long . Du warst zehn Jahre weg , aber nicht im Gefängnis . Dein Vater ist kein Schlachter . Du hast einen Schlachter getötet . Du bist der zweite Anführer der 72 Dämonen . Ich muss in die Stadt und einen Haftbefehl bekommen . Xu Baijiu , wo wollen Sie hin ? Sie gehen in die Stadt ? - So ist es . Dieser Fall wird Aufsehen erregen . Ihre Verletzung heilt schnell . Der Arzt sagt , Sie haben die Schlagader knapp verfehlt . Das wäre tödlich gewesen . Sie hatten Glück . Oder Sie hatten Glück . Ich kenne eine Abkürzung . Ich werde Sie begleiten . Sonst kommen Sie nicht vor der Dämmerung an . Das wäre schlecht . Diesen Pfad kennt kaum jemand . Wenn Sie gehen , schließen Sie den Fall ab ? Ja , ich schließe den Fall ab . Sie glauben mir nicht . Hier verabschiede ich mich . Gehen Sie immer geradeaus , dann kommen Sie zur Straße . Folgen Sie ihr , und Sie kommen in die Stadt . Worauf warten Sie ? Dann gehe ich mal . Die Straße führte tatsächlich in die Stadt . Warum hat er mich nicht getötet ? Xu Baijiu , selbst nach zehn Jahren bei mir bist du noch immer so naiv ? Hauptmann , dieses Mal ist es anders . Ich kann dir meine Männer geben , aber das sind Feiglinge und Idioten . Heure besser gerissene Verbrecher an , um ihn dingfest zu machen . Aber mit Verbrechern einen Verbrecher zu jagen , ist ein Spiel mit dem Feuer . Xu Baijiu , lass die Sache auf sich beruhen . Nach Tang Long wird nicht gesucht . Wozu wollen Sie den Haftbefehl ? Die 72 Dämonen sind Gesetzlose , und er ist ihr zweiter Anführer . Ich brauche Beweise . Auch wenn du den Richter bestichst , du riskierst trotzdem dein Leben . Ich melde den Richter . - Unsinn . Wie viel wollen Sie ? 20 Silber Tael . Was ? Woher kriege ich die ? Ich verdiene nur vier im Jahr . Die Geschäftszeit ist vorbei . Kommen Sie wieder , wenn Sie die 20 Tael haben . Ich suchte Hilfe bei dem Menschen , den ich am wenigsten bitten wollte : bei meiner Frau . Ich gebe es dir wieder . Ich bete für deinen Vater und gehe . - Nein . Das ist nicht nötig . Du hast mir nicht verziehen . - Und wenn ? Vater hat falsche Medizin verkauft . Aber seine Medizin hat niemandem das Leben gekostet . Er fiel vor dir auf die Knie und flehte dich an . Du hast ihn festgenommen . Wie fühlte sich das an ? - Was er tat , war illegal . Ich musste ihn festnehmen . Aber seine Strafe wäre nicht sehr hoch gewesen . Er musste sich nicht umbringen . - Ich weiß . Das sagtest du bereits . Du wirst mir nie verzeihen . Meinst du das wirklich ? Das würde ja bedeuten , ich könnte noch immer etwas empfinden . Ist das Gesetz denn nun wichtiger als der Mensch ? Hauptmann , was ist nur aus Ehre und Moral geworden ? Das ist egal , du musst dich anpassen . Hast du gedacht , du kannst eigene Regeln aufstellen ? Haftbefehl Xu Kun , wohin gehen wir ? Kriege ich jetzt die Belohnung ? Erst will der Anführer dich sehen . Sie sagen also , Tang Long ist in dem Dorf , das Sie gerade erwähnt haben ? So ist es . Und Sie behaupten , Tang Long hätte jetzt zwei Söhne . So ist es . Der eine Sohn ist von ihm . Den anderen brachte seine Frau mit in die Ehe . Und das erzählen Sie mir , weil Sie wissen , dass ich nach Tang Long suche ? Xu Kun , was meint er ? Es ist ... - Was ist denn ? Sie verraten ihn nicht an die schwarzen Drachen oder an eine andere Bande . Sie kommen direkt hierher . Denn Sie wissen , dass uns am meisten daran liegt , Tang Long zu finden . Ist es nicht so ? Nicht doch , das ist ein Missverständnis . So ist es nicht . Xu Kun , helfen Sie mir doch . Bitte helfen Sie mir . Sag ihm , wie ich zu Tang Long stehe . Tang Long ist der Sohn des Anführers . Sie verraten ihn und wollen , dass ich meinen eigenen Sohn töte . Wie können Sie es wagen ? Sagt mir , soll ich Tang Long töten ? Was ist ? Soll ich ihn nun töten oder nicht ? Keiner von euch ist Tang Long ebenbürtig , nicht ein Einziger von euch . Der Anführer will , dass wir Tang Long zurückholen . Wen spielst du ? Kaiser Sun Quan ? Das ist toll , mein Sohn . Jinxi hat mutig zwei Verbrecher getötet . Heute wollen wir seine Heldentat ehren und niederschreiben . Jinxi ist ein ehrenhafter Mann . Sein Mut und seine Güte sind ein Segen . Sie sollten unseren Kindern als Beispiel dienen . Wir werden uns immer an seinen Mut und an seine Tat erinnern . Sie sollen uns inspirieren . Warum fällst du vor mir nicht auf die Knie ? Knie nieder ! Ich bin Liu Jinxi . Liu Jinxi ? Ich bin Liu Jinxi . Wer bist du ? Vater ! Wer bist du ? Was will sie ? Ich rede mit meinem Sohn . Also haltet den Mund . Haltet den Mund . Du bist also doch Tang Long . Mein Haus brennt . Kommt alle löschen . Ich komme nicht zurück . Du weißt , dass er das will . Er wird dich nie aufgeben . Du bist Tang Long . Du bist noch immer Tang Long . Ich hole dir Wasser . Wir sollen uns in der Festung verstecken . Deshalb packe ich . Deine Sachen sind schon gepackt . Es ist schon gut . Was meinst du ? Ich kann nicht mit . - Dann lass uns weglaufen . Wir gehen nicht zur Festung . Wir laufen weg und gehen woanders hin . Das hat keinen Zweck . Sag das nicht . Hier , trink etwas Wasser . Und sag nicht solche Sachen . Dazu ist es zu spät . Es gibt kein Zurück mehr . - Danke , dass ich Liu Jinxi sein durfte . Aber ich bin nicht Liu Jinxi . Jinxi , wenn du damals am See einer anderen begegnet wärst , wärst du dann auch geblieben ? Ich flehe Sie an , lassen Sie die Kinder gehen . Lassen Sie sie , ich flehe Sie an . Tun Sie es nicht . Bitte nicht . Großer Bruder ? Es tut mir leid . Was ist passiert ? Das waren sicher die 72 Dämonen . Wenn wir Tang Long jetzt festnehmen , werden sie uns aufhalten . Sie kommen sicher zurück , und wir sollten erst eingreifen , wenn sie sich gegenseitig umgebracht haben . Und was nutzt uns das ? Tang Long bekommt sowieso die Todesstrafe . Xu Baijiu , was wollen Sie eigentlich ? Was machen Sie hier ? Ist das Tang Long ? Ich bin einer der 72 Dämonen . - Sie kommen zurück . Xu Baijiu , lassen Sie uns verschwinden . Auf keinen Fall , wir bleiben . Sie können bleiben . Wir kommen wieder , wenn es vorbei ist . Warum haben Sie mich im Wald nicht umgebracht ? Sie wollten nicht wiederkommen . Sie haben mir geglaubt ? Das habe ich . Ayu sagte mir etwas . Sie sagte : \" Im Grunde ist Xu Baijiu ein guter Mann . \" \" Er weiß es nur nicht . \" Kein Mensch ist gut . Wenn es vorbei ist , kommen Sie vor Gericht . Der menschliche Körper ist faszinierend . Ich brauche Ihren Körper für eine List . Tang Long , Sie müssen sterben . Das Sterben besteht aus drei Phasen : dem Übergang , dem Verfall und dem eigentlichen Tod . In der ersten Phase erscheint der Mensch bereits wie tot . Ich versetze Sie in die erste Phase . Die erste Phase ist wie ein tiefes Koma . Die meisten werden Sie für tot halten . Er ist tot . Die 72 Dämonen zu überlisten , wird gefährlicher . Dazu muss ich Sie in Phase 2 versetzen . Wenn die Dämonen kommen , drücke ich auf Ihren Vagusnerv . Dadurch werden Sie in die zweite Phase versetzt . Ohne Atmung und Puls erscheint Ihr Körper wie tot . Es wird beängstigend und verwirrend . Sie verlieren jegliches Gefühl . In dieser Phase können Sie 15 Minuten bleiben . Wenn ich Sie dann nicht zurückhole , tritt Phase 3 ein , und Sie sind wirklich tot . Tang Longs Leiche muss ins Gericht . Lasst uns durch . Ihr habt ihn ermordet . Wer ist Tang Longs Sohn ? Sagt mir , wer Tang Longs Sohn ist . Er heißt Xiaotian . Er ist vier Jahre alt . Ich gebe den Dämonen meine mörderische Hand . Ich bin keiner mehr von euch . Es braucht nur zehn Jahre , damit du deine Familie verrätst ? Mein Bruder Tang Long ist gestorben . Mein Bruder Tang Long ist tot . Tang Long ist tot . Die Nachricht überbringst du dem Anführer selbst . Er wartet in deinem Haus auf dich . Das war sehr schön . Sing weiter , das gefällt Großvater . Großer Bruder Daumen , kleiner Bruder Zeigefinger , kommt auf die Bühne , singt uns ein Lied . Das gefällt der kleinen Schwester . Großvater liebt es , wenn Kinder singen . Kommt auf die Bühne , singt uns ein Lied . Das gefällt der kleinen Schwester . Das war sehr schön . Ab jetzt singst du jeden Tag für Großvater . Großer Bruder Daumen , kleiner Bruder Zeigefinger , kommt auf die Bühne , singt uns ein Lied . Das gefällt der kleinen Schwester . Vater ? Was ist das ? Ich bin nicht länger ein Dämon . Jetzt sind ja alle da . Alle sind da . Dann können wir ja anfangen . Lasst uns essen . Als dein Vater klein war , sah er aus wie ich . Besonders dann , wenn er wütend war . Dann war er mein Ebenbild . Wenn er sich verirrte , brachte man ihn nach Hause . Aber mittlerweile ist alle Ähnlichkeit mit mir verschwunden . Aber mein Enkel ähnelt mir sogar noch mehr . Die Bohnen sind gut . Xiaotian , iss ein paar Bohnen . Bohnen , Bohnen , ihr seid lecker . Ich ess eins , du isst eins . Hör auf zu singen . Böhnchen , Böhnchen , ihr seid lecker . Hör auf zu singen . Iss die Bohnen , iss das Fleisch , sonst wirst du ... Schluss damit . Hören Sie auf . Ich bitte Sie . Ich flehe Sie an , hören Sie auf . Ich flehe Sie an . Kinder müssen gehorchen , hörst du ? Als dein Vater klein war , ließ er mich nie fortgehen . Als ich einmal nach Hause kam , hatte der Baum am Tor keine Blätter mehr . Dein Vater erklärte mir , was passiert war : \" Du hast einmal gesagt , wenn der Baum keine Blätter mehr hat , kommst du nach Hause . \" Deshalb schlug er alle Blätter vom Baum . Dann hat er sich gewundert : \" Der Baum hat keine Blätter mehr . Warum ist Vater noch nicht zurück ? \" Ich brannte den Baum nieder . Ich hasste ihn . Schließlich hatte er meinen Sohn enttäuscht . Zum Teufel damit . Von da an musste ich meinen Sohn mitnehmen , wenn ich das Haus verließ . Er sagte : \" Der Baum am Tor ist weg . Wie willst du da wiederkommen ? \" Ich habe dir meinen Arm gegeben . Uns verbindet nichts mehr . Ich lasse dich gehen . Ich bin ein gerechter Mann . Aber jemand muss deinen Platz einnehmen . In deinen Adern fließt mein Blut . Deshalb fließt es auch in seinen Adern . Dein Blut ist nicht länger das Blut der Tanguts ? Dein Blut ist verdorben . Du bist ein Verräter . Die Nadel steckt noch im Fuß . Jetzt fehlt noch eine . Du bist mein Sohn . Wie kannst du mich verraten ? Wenn ich dich töte , ist das mein gutes Recht . Der Mensch wird nie seine Gefühle beherrschen können . Die Ermittlungen sind abgeschlossen . Oktober 1917 , in der 36. Woche . Xiaotian , möchtest du Reis oder Suppe ? - Suppe . Iss langsam . Jinxi ? Bis heute Abend . '"
      ]
     },
     "execution_count": 15,
     "metadata": {},
     "output_type": "execute_result"
    }
   ],
   "source": [
    "text_singletitle"
   ]
  },
  {
   "cell_type": "markdown",
   "metadata": {},
   "source": [
    "## Als Action, Crime, Drama eingeordnet:\n",
    "##### Le Marais: \n",
    "Dokumentation zeigt das alltägliche leben in Le Marais, die Dokumentation besteht hauptsächlich aus Dialogen mit den Leuten dort -> alltagssprache; häufigsten Wörter stimmen mehr mit Action, Crime Drama überein\n",
    "##### Die Kinder vom Napf:\n",
    "Alltagssprache, einfache Wörter, Dialoge mit Kindern -> enthält nicht die typische sachliche Sprache der meisten Dokumentationen\n",
    "##### Plastic Planet \n",
    "Trotz fachlichem Jargon, viele Interviews und Dialoge in alltagssprache, Präsens, Perfekt und Indikativ, wenig Konjunktiv und passiv oder Präteritum. Wenig Erzähleranteile, wirkt mehr wie eine Reportage in der der verantwortliche Journalist subjektiv und emotional das Geschehen beschreibt.\n",
    "##### Young Yakuza \n",
    "Viel \"Dialog\" und nachgespielte Szenen, raue alltagssprache, Kraftausdrücke, etc.  -> Die Sprache passt gut in das Action, Crime, Drama Milieu\n",
    "\n",
    "## Als Documentary eingeordnet:\n",
    "##### Kajinek \n",
    "Textdaten fehlerhaft, enthalten nicht die Untertitel sondern eine Plotbeschreibung\n",
    "##### Ghost in a Shell:\n",
    "Nur die Dialoge sind untertitelt, nicht aber die \"Erzählstimme\" -> Extrem kurz, sachliche, fast schon militärische Sprache\n",
    "##### Beyond the Track\n",
    "Viele spezifische \"Fachbegriffe\" sci-fi, neben Alltagsdialogen viel \"sachliche\" Sprache und Präteritum, vgl. Bericht\n",
    "##### Motorway \n",
    "viele asiatische Namen für Automobil und Motorrad spezifische Begriffe. Keine Kraftausdrücke oder raue Sprache\n",
    "##### Kaun Kare Kurbanie\n",
    "auffallend häufig passive oder konjunktive Sprache und Präteritum. Ebenso wenig Perfekt, wie es in der heutigen Alltagssprache gängig ist, bsp. \" Wir wünschen , dass es einen tapferen Mann gab , der gut an Herzen wäre \"\n",
    "##### Colombiana\n",
    "Untertiteltext enthält nur eine Szene aus dem Film -> sehr kurz\n",
    "\n",
    "\n",
    "## Zusammenfassung\n",
    "Die Wortformen, die die alltagssprache von der sachlichen Unterscheiden scheinen ein ausschlaggebender Faktor zu sein für die \"falsch\" eingeordneten Instanzen. Aber auch typische Begriffe der Alltagssprache haben einen großen Anteil, z.B. \"okay\", \"danke\", aber auch Kurzformen, wie \"geht's\" treten überwiegend im Action, Crime, Drama Cluster auf\n",
    "\n",
    "Ich habe das Documentary - Action, Crime, Drama Cluster weitgehend untersucht, ein paar Sachen möchte ich noch machen, die meisten \"falsch\" eingeordneten Instanzen lassen sich nachvollziehen, leider sind auch welche dabei, bei denen die Texte fehlerhaft sind. Einmal haben wir eine Plotbeschreibung und einmal nur eine einzige Szene aus dem Film. In einem dritten Fall enthält der Text nur die Dialoge aber nicht die den großteil ausmachende Erzähstimme."
   ]
  },
  {
   "cell_type": "markdown",
   "metadata": {},
   "source": [
    "# Language Cluster - deutsch japanisch"
   ]
  },
  {
   "cell_type": "code",
   "execution_count": 16,
   "metadata": {},
   "outputs": [],
   "source": [
    "colors = []\n",
    "for x in df.Language:\n",
    "    if x == 'German':\n",
    "        colors.append('red')\n",
    "    elif x == 'Japanese':\n",
    "        colors.append('blue')\n",
    "    else: \n",
    "        colors.append('white')\n",
    "df['colors']=colors      \n",
    "df_2languages = df[df.colors != 'white']"
   ]
  },
  {
   "cell_type": "markdown",
   "metadata": {},
   "source": [
    "## Hierarchisches Cluster"
   ]
  },
  {
   "cell_type": "code",
   "execution_count": 62,
   "metadata": {},
   "outputs": [
    {
     "data": {
      "text/plain": [
       "(58, 59)"
      ]
     },
     "execution_count": 62,
     "metadata": {},
     "output_type": "execute_result"
    }
   ],
   "source": [
    "df_sample = df_2languages.sample(frac=0.2)\n",
    "df_sample.shape"
   ]
  },
  {
   "cell_type": "code",
   "execution_count": 68,
   "metadata": {},
   "outputs": [],
   "source": [
    "#tf-idf\n",
    "stop_words = get_stop_words('de')\n",
    "stop_words.append('ch00ffff')\n",
    "tfidf = TfidfVectorizer(max_features=100, stop_words=stop_words) #, stop_words=get_stop_words('de')) , stop_words=stop_words\n",
    "tokens = tfidf.fit_transform(df_sample.text)  #.only_stopwords\n",
    "hier_model = AgglomerativeClustering(n_clusters=None, distance_threshold=0).fit(tokens.todense())"
   ]
  },
  {
   "cell_type": "code",
   "execution_count": 69,
   "metadata": {},
   "outputs": [
    {
     "data": {
      "image/png": "[encoded data removed]",
      "text/plain": [
       "<Figure size 1080x576 with 1 Axes>"
      ]
     },
     "metadata": {
      "needs_background": "light"
     },
     "output_type": "display_data"
    }
   ],
   "source": [
    "lmatrix = linkage_matrix(tokens.shape[0], hier_model.children_, hier_model.distances_)\n",
    "plt.figure(figsize=(15,8))\n",
    "dendrogram(lmatrix, labels=(df_sample['Title'].values + \"     \" + df_sample['Language'].values), leaf_font_size=9);"
   ]
  },
  {
   "cell_type": "code",
   "execution_count": 95,
   "metadata": {},
   "outputs": [
    {
     "name": "stdout",
     "output_type": "stream",
     "text": [
      "1214 1176\n"
     ]
    }
   ],
   "source": [
    "def wordlistersingle(title):\n",
    "    singletitle = df_sample.loc[(df_sample['Title'] == title)]\n",
    "    idx = df_sample.index[df_sample['Title'] == title]\n",
    "    \n",
    "    single_tokens = re.findall(\"\\w+\", singletitle.at[idx[0],'text'].lower())\n",
    "    tokens_without_stopwords =[]\n",
    "    for word in single_tokens:\n",
    "        if word not in stop_words:\n",
    "            tokens_without_stopwords.append(word)\n",
    "    single_tokens2 = re.findall(\"\\w+\", singletitle.at[idx[0],'only_stopwords'].lower())\n",
    "    tokens_with_stopwords =[]\n",
    "    for word in single_tokens2:\n",
    "        tokens_with_stopwords.append(word)\n",
    "    return Counter(tokens_without_stopwords),Counter(tokens_with_stopwords),  singletitle.at[idx[0],'text'], singletitle\n",
    "\n",
    "\n",
    "count_singletitle, count_stopwords, text_singletitle, df_singletitle = wordlistersingle('Spanien')\n",
    "#Ghost in the Shell\n",
    "#Le marais\n",
    "print(sum(count_singletitle.values()), sum(count_stopwords.values()))"
   ]
  },
  {
   "cell_type": "markdown",
   "metadata": {},
   "source": [
    "# Zusammenfassen der Genre Texte"
   ]
  },
  {
   "cell_type": "code",
   "execution_count": 20,
   "metadata": {},
   "outputs": [
    {
     "name": "stdout",
     "output_type": "stream",
     "text": [
      "(352, 2)\n"
     ]
    },
    {
     "data": {
      "text/html": [
       "<div>\n",
       "<style scoped>\n",
       "    .dataframe tbody tr th:only-of-type {\n",
       "        vertical-align: middle;\n",
       "    }\n",
       "\n",
       "    .dataframe tbody tr th {\n",
       "        vertical-align: top;\n",
       "    }\n",
       "\n",
       "    .dataframe thead th {\n",
       "        text-align: right;\n",
       "    }\n",
       "</style>\n",
       "<table border=\"1\" class=\"dataframe\">\n",
       "  <thead>\n",
       "    <tr style=\"text-align: right;\">\n",
       "      <th></th>\n",
       "      <th>genre</th>\n",
       "      <th>text</th>\n",
       "    </tr>\n",
       "  </thead>\n",
       "  <tbody>\n",
       "    <tr>\n",
       "      <td>0</td>\n",
       "      <td>Adventure,Drama,History</td>\n",
       "      <td>Der Roman von Alexandre Dumas dem Älteren hatt...</td>\n",
       "    </tr>\n",
       "    <tr>\n",
       "      <td>1</td>\n",
       "      <td>Comedy</td>\n",
       "      <td>Hände hoch oder ich schieße ( 1966 ) dTV - MDR...</td>\n",
       "    </tr>\n",
       "    <tr>\n",
       "      <td>2</td>\n",
       "      <td>Drama</td>\n",
       "      <td>Hallo , Manuela ? Störe ich ? Kann ich zu dir ...</td>\n",
       "    </tr>\n",
       "    <tr>\n",
       "      <td>3</td>\n",
       "      <td>Action,Adventure</td>\n",
       "      <td>Dein Vater war ein ausgezeichneter Kämpfer . A...</td>\n",
       "    </tr>\n",
       "    <tr>\n",
       "      <td>4</td>\n",
       "      <td>Action</td>\n",
       "      <td>Na los , iss jetzt schnell auf . Junge , ist d...</td>\n",
       "    </tr>\n",
       "  </tbody>\n",
       "</table>\n",
       "</div>"
      ],
      "text/plain": [
       "                     genre                                               text\n",
       "0  Adventure,Drama,History  Der Roman von Alexandre Dumas dem Älteren hatt...\n",
       "1                   Comedy  Hände hoch oder ich schieße ( 1966 ) dTV - MDR...\n",
       "2                    Drama  Hallo , Manuela ? Störe ich ? Kann ich zu dir ...\n",
       "3         Action,Adventure  Dein Vater war ein ausgezeichneter Kämpfer . A...\n",
       "4                   Action  Na los , iss jetzt schnell auf . Junge , ist d..."
      ]
     },
     "execution_count": 20,
     "metadata": {},
     "output_type": "execute_result"
    }
   ],
   "source": [
    "data=[]\n",
    "texts =[]\n",
    "genres=[]\n",
    "for genre in df.genre.unique():\n",
    "    text = \"\"\n",
    "    for instance in df.iterrows():\n",
    "        if instance[1].genre == genre:\n",
    "            text = text + instance[1].text\n",
    "    data.append({\n",
    "                'genre': genre,\n",
    "                'text': text,                            \n",
    "            })\n",
    "df_genre = pd.DataFrame.from_dict(data)\n",
    "print(df_genre.shape)\n",
    "df_genre.head()"
   ]
  },
  {
   "cell_type": "code",
   "execution_count": 21,
   "metadata": {},
   "outputs": [],
   "source": [
    "df_genre.dropna(subset=['genre'], inplace=True)"
   ]
  },
  {
   "cell_type": "code",
   "execution_count": 22,
   "metadata": {},
   "outputs": [
    {
     "name": "stdout",
     "output_type": "stream",
     "text": [
      "1117565\n",
      "1117565\n"
     ]
    }
   ],
   "source": [
    "genre_test = \"Action\"\n",
    "for x in df_genre.iterrows():\n",
    "    if x[1].genre == genre_test:\n",
    "        print(len(x[1].text))\n",
    "\n",
    "text = \"\"\n",
    "for instance in df.iterrows():\n",
    "    if instance[1].genre == genre_test:\n",
    "        text = text + instance[1].text\n",
    "print(len(text))"
   ]
  },
  {
   "cell_type": "code",
   "execution_count": 23,
   "metadata": {},
   "outputs": [],
   "source": [
    "# TF-IDF\n",
    "tfidf = TfidfVectorizer(max_features=100, stop_words=stop_words)\n",
    "tokens = tfidf.fit_transform(df_genre.text)"
   ]
  },
  {
   "cell_type": "code",
   "execution_count": 24,
   "metadata": {},
   "outputs": [
    {
     "data": {
      "image/png": "[encoded data removed]",
      "text/plain": [
       "<Figure size 1080x576 with 1 Axes>"
      ]
     },
     "metadata": {
      "needs_background": "light"
     },
     "output_type": "display_data"
    }
   ],
   "source": [
    "pca = PCA(n_components=2)\n",
    "pca.fit(tokens.todense())\n",
    "X_tf = pca.transform(tokens.todense())\n",
    "\n",
    "#Abspeichern der Zwischenergebnisste im Datafram\n",
    "df_genre['pcatokens_1'] = X_tf[:,0]\n",
    "df_genre['pcatokens_2'] = X_tf[:,1]\n",
    "\n",
    "#Plotten anhand der gespeicherten Zwischenergebnisse \n",
    "plt.figure(figsize=(15,8))\n",
    "for d in df_genre.iterrows():\n",
    "    x = d[1].pcatokens_1\n",
    "    y = d[1].pcatokens_2    \n",
    "    plt.plot(x, y, 'o', markersize=4)\n",
    "    #plt.plot(x, y, marker=TextPath((-3, -3), f'{d[1].kmeanstokens}'), color='black', markersize=1)"
   ]
  },
  {
   "cell_type": "code",
   "execution_count": 25,
   "metadata": {},
   "outputs": [
    {
     "data": {
      "application/vnd.plotly.v1+json": {
       "config": {
        "plotlyServerURL": "https://plot.ly"
       },
       "data": [
        {
         "mode": "markers",
         "text": [
          "Adventure,Drama,History|",
          "Comedy|",
          "Drama|",
          "Action,Adventure|",
          "Action|",
          "Action,Crime,Drama|",
          "Romance|",
          "Documentary|",
          "Action,Comedy|",
          "Animation,Documentary|",
          "Comedy,Drama,Music|",
          "Drama,Fantasy,Horror|",
          "Horror|",
          "Action,Thriller|",
          "Comedy,Drama,Romance|",
          "Crime,Drama,Thriller|",
          "Thriller|",
          "Crime,Drama|",
          "Drama,Thriller|",
          "Action,Animation,Drama|",
          "Documentary,Music|",
          "Action,Fantasy,Sci-Fi|",
          "Action,Comedy,Horror|",
          "Drama,Romance|",
          "Action,Drama|",
          "Comedy,Drama|",
          "Animation,Drama,Fantasy|",
          "Action,Adventure,Animation|",
          "Horror,Thriller|",
          "Action,Drama,Thriller|",
          "Drama,Horror,Mystery|",
          "Animation,Comedy,Drama|",
          "Horror,Mystery,Thriller|",
          "Crime,Mystery,Thriller|",
          "Crime,Drama,Horror|",
          "Adventure,Fantasy|",
          "Comedy,Romance|",
          "Biography,Drama,History|",
          "Action,Drama,Sport|",
          "Drama,Music,Romance|",
          "Sci-Fi|",
          "Action,Biography,Drama|",
          "Action,Crime,Thriller|",
          "Biography,Documentary,Sport|",
          "Adventure,Comedy,Drama|",
          "Biography,Drama|",
          "Comedy,Musical|",
          "Comedy,Crime,Drama|",
          "Action,Drama,Fantasy|",
          "Drama,Horror|",
          "Comedy,Horror|",
          "Adventure,Animation,Drama|",
          "Horror,Sci-Fi,Thriller|",
          "Drama,Music|",
          "Crime,Drama,Mystery|",
          "Drama,Mystery|",
          "Crime,Thriller|",
          "Drama,History|",
          "Drama,Horror,Thriller|",
          "Drama,Fantasy,Romance|",
          "Adventure,Family|",
          "Drama,Sport|",
          "Action,Comedy,Drama|",
          "Action,Adventure,Crime|",
          "Action,Horror,Sci-Fi|",
          "Horror,Mystery|",
          "Action,Comedy,Sport|",
          "Comedy,Drama,Sport|",
          "Drama,Horror,Romance|",
          "Comedy,War|",
          "Adventure,Fantasy,Mystery|",
          "Crime,Documentary|",
          "Documentary,Sport|",
          "Drama,History,War|",
          "Animation,Comedy,Fantasy|",
          "Action,Biography,Crime|",
          "Action,Animation,Horror|",
          "Action,Horror|",
          "Animation,Biography,Documentary|",
          "Action,Drama,Romance|",
          "Comedy,Sci-Fi|",
          "Action,Romance,Thriller|",
          "Action,Adventure,Drama|",
          "Adventure,Drama,Family|",
          "Fantasy,Horror|",
          "Action,Crime|",
          "Horror,Sci-Fi|",
          "Action,Animation,Crime|",
          "Drama,War|",
          "Comedy,Fantasy,Sci-Fi|",
          "Action,Romance|",
          "Action,Comedy,Crime|",
          "Action,Adventure,Comedy|",
          "Documentary,Drama,Family|",
          "Comedy,Drama,Musical|",
          "Drama,Horror,Sci-Fi|",
          "Action,Comedy,Fantasy|",
          "Comedy,Horror,Sci-Fi|",
          "Drama,Family|",
          "Adventure,Drama,Fantasy|",
          "Action,Sci-Fi,Thriller|",
          "Animation,Comedy|",
          "Action,Adventure,Sci-Fi|",
          "Adventure,Animation,Comedy|",
          "Action,Drama,History|",
          "Animation,Drama,Family|",
          "Biography,Drama,Music|",
          "Action,Adventure,Family|",
          "Adventure,Comedy,Family|",
          "Action,Adventure,Fantasy|",
          "Comedy,Drama,Family|",
          "Comedy,Drama,Fantasy|",
          "Action,Crime,Mystery|",
          "Adventure,Crime,Drama|",
          "Biography,Comedy,Drama|",
          "Drama,Mystery,Thriller|",
          "Biography,Drama,Romance|",
          "Adventure,Comedy,Horror|",
          "Mystery,Thriller|",
          "Comedy,Family,Fantasy|",
          "Drama,Fantasy|",
          "Comedy,Crime,Thriller|",
          "Drama,Mystery,Sci-Fi|",
          "Adventure,Biography,Comedy|",
          "Adventure,Biography,Drama|",
          "Fantasy,Mystery,Thriller|",
          "Action,Horror,Mystery|",
          "Family|",
          "Adventure,Comedy|",
          "Horror,Romance|",
          "Mystery,Sci-Fi,Thriller|",
          "Crime,Sci-Fi,Thriller|",
          "Adventure,Comedy,Western|",
          "Drama,Mystery,Romance|",
          "Drama,Romance,Thriller|",
          "Action,Comedy,Music|",
          "Comedy,Horror,Music|",
          "Crime,Horror,Mystery|",
          "Comedy,Horror,Romance|",
          "Comedy,Fantasy,Horror|",
          "Action,Animation,Comedy|",
          "Comedy,Musical,Sci-Fi|",
          "Animation,Drama,Sci-Fi|",
          "Action,Comedy,Sci-Fi|",
          "Action,War|",
          "Animation,Family|",
          "Action,Comedy,Romance|",
          "Mystery,Romance,Thriller|",
          "Drama,History,Romance|",
          "Action,Comedy,Family|",
          "War|",
          "Animation,Drama|",
          "Comedy,Western|",
          "Adventure,Family,Fantasy|",
          "Action,Fantasy,Western|",
          "Action,Comedy,Documentary|",
          "Adventure,Drama,Thriller|",
          "Comedy,Family|",
          "Crime,Drama,War|",
          "Biography,Documentary,Music|",
          "Crime,Horror,Thriller|",
          "Action,Crime,Romance|",
          "Drama,Mystery,War|",
          "Comedy,Thriller|",
          "Comedy,Drama,History|",
          "Drama,Thriller,Western|",
          "Drama,Sci-Fi|",
          "Sci-Fi,Thriller|",
          "Biography,Drama,War|",
          "Comedy,Horror,Thriller|",
          "Animation,Comedy,Crime|",
          "Comedy,Crime,Romance|",
          "Adventure,Drama,Romance|",
          "Musical|",
          "Action,Mystery,Thriller|",
          "Action,Horror,Thriller|",
          "Drama,Romance,Sci-Fi|",
          "Action,Comedy,Thriller|",
          "Biography,Drama,Sport|",
          "Comedy,Family,Sport|",
          "Adventure,Drama,Western|",
          "Animation|",
          "Action,History,Thriller|",
          "Crime,Drama,Romance|",
          "Crime,Mystery,Romance|",
          "Action,History|",
          "Animation,Mystery,Thriller|",
          "Drama,Sci-Fi,Thriller|",
          "Horror,Romance,Thriller|",
          "Adventure,Horror|",
          "Drama,Western|",
          "Thriller,Western|",
          "Action,Comedy,Western|",
          "Adventure|",
          "Adventure,Animation,Family|",
          "Crime|",
          "Adventure,Drama|",
          "Western|",
          "Action,Drama,War|",
          "Adventure,Documentary,Drama|",
          "Animation,Comedy,Family|",
          "Documentary,War|",
          "Documentary,Drama|",
          "Action,Animation,Sci-Fi|",
          "Comedy,Fantasy|",
          "Documentary,News|",
          "Comedy,Drama,Mystery|",
          "Adventure,Comedy,Sci-Fi|",
          "Drama,Romance,War|",
          "Action,Sci-Fi|",
          "Comedy,Family,Romance|",
          "Action,Adventure,Thriller|",
          "Action,Adventure,History|",
          "Adventure,Comedy,Fantasy|",
          "Action,Drama,Family|",
          "Drama,Thriller,War|",
          "Romance,Sci-Fi,Thriller|",
          "Crime,Drama,History|",
          "Comedy,Mystery|",
          "Adventure,Crime,Thriller|",
          "Fantasy,Horror,Mystery|",
          "Comedy,Crime|",
          "Action,Fantasy,Thriller|",
          "Action,Adventure,Romance|",
          "Action,Crime,Fantasy|",
          "Biography,Crime,Drama|",
          "Comedy,Fantasy,Romance|",
          "Biography,Drama,Thriller|",
          "Action,Fantasy|",
          "Fantasy,Horror,Thriller|",
          "Adventure,Documentary,Sport|",
          "Family,Mystery|",
          "Adventure,Drama,Sci-Fi|",
          "Drama,Fantasy,Musical|",
          "Biography,Comedy,Crime|",
          "Drama,Fantasy,Sci-Fi|",
          "Comedy,Musical,Romance|",
          "Comedy,Crime,Mystery|",
          "Action,Drama,Horror|",
          "Comedy,Romance,Sci-Fi|",
          "Animation,Drama,Thriller|",
          "Comedy,Drama,War|",
          "Action,Fantasy,Romance|",
          "Adventure,Romance|",
          "Action,Crime,Horror|",
          "Fantasy|",
          "Action,Animation,Fantasy|",
          "Action,Adventure,Mystery|",
          "Animation,Family,Fantasy|",
          "Adventure,Mystery,Sci-Fi|",
          "Action,Fantasy,Horror|",
          "Comedy,Romance,Sport|",
          "Adventure,History|",
          "Drama,Musical,Romance|",
          "Drama,Fantasy,Mystery|",
          "Action,Adventure,Horror|",
          "Drama,History,Thriller|",
          "Comedy,Horror,Mystery|",
          "Comedy,Sport|",
          "Comedy,Fantasy,Thriller|",
          "Biography,Documentary|",
          "Animation,Family,Musical|",
          "Comedy,Music,Musical|",
          "Adventure,Comedy,Crime|",
          "Biography,Comedy|",
          "Adventure,Biography,History|",
          "Adventure,Crime,Family|",
          "Documentary,History|",
          "Music|",
          "Fantasy,Romance|",
          "Adventure,Drama,Horror|",
          "Documentary,History,Sport|",
          "Drama,Family,Romance|",
          "Fantasy,Mystery,Romance|",
          "Animation,Sci-Fi|",
          "Adventure,Animation|",
          "Action,Biography,Documentary|",
          "Documentary,History,Music|",
          "Action,Adventure,Western|",
          "Action,Drama,Mystery|",
          "Romance,Thriller|",
          "Action,Drama,Sci-Fi|",
          "Comedy,Drama,Horror|",
          "Horror,Mystery,Sci-Fi|",
          "Adventure,Horror,Sci-Fi|",
          "Action,Crime,Sci-Fi|",
          "Animation,Biography,Drama|",
          "Music,Mystery,Thriller|",
          "Comedy,Crime,Horror|",
          "Adventure,Drama,Sport|",
          "Family,Fantasy|",
          "Drama,Music,Thriller|",
          "Comedy,Music|",
          "Drama,History,Horror|",
          "Biography,Documentary,Drama|",
          "Biography,Drama,Musical|",
          "Mystery,Romance,Sci-Fi|",
          "Crime,Documentary,Drama|",
          "Animation,Drama,Romance|",
          "Adventure,Animation,Sci-Fi|",
          "Adventure,History,Romance|",
          "Action,Adventure,Documentary|",
          "Documentary,Mystery|",
          "Biography,History|",
          "Drama,Fantasy,Music|",
          "Action,Mystery,Sci-Fi|",
          "Comedy,Family,Music|",
          "Adventure,Fantasy,Musical|",
          "Adventure,Family,Sci-Fi|",
          "Comedy,Horror,Musical|",
          "Adventure,Thriller|",
          "Comedy,Drama,Sci-Fi|",
          "Drama,Family,History|",
          "Comedy,Romance,Western|",
          "Mystery,Western|",
          "Comedy,Drama,Thriller|",
          "Crime,Drama,Sci-Fi|",
          "Crime,Horror,Romance|",
          "Crime,Romance,Thriller|",
          "Fantasy,Horror,Sci-Fi|",
          "Comedy,Documentary,Drama|",
          "Drama,Family,Music|",
          "Action,Adventure,Biography|",
          "Documentary,History,War|",
          "Drama,Musical|",
          "Drama,Family,Fantasy|",
          "Action,Drama,Western|",
          "Drama,History,Sport|",
          "Adventure,Sci-Fi,Thriller|",
          "Biography,Documentary,Family|",
          "Drama,Family,Sci-Fi|",
          "Documentary,Family,History|",
          "Drama,Family,Mystery|",
          "Adventure,Biography,Crime|",
          "Comedy,Crime,Family|",
          "Adventure,Animation,Fantasy|",
          "Horror,War|",
          "Biography,Drama,Fantasy|",
          "Drama,Fantasy,Thriller|",
          "Biography|",
          "Action,Thriller,Western|",
          "Action,Horror,Romance|",
          "Adventure,Biography|",
          "Romance,War|",
          "Thriller,War|",
          "Crime,Drama,Fantasy|",
          "Action,Mystery|",
          "Crime,Documentary,History|",
          "Crime,Mystery|",
          "Adventure,Sci-Fi|",
          "Family,Fantasy,Musical|",
          "Documentary,Thriller|"
         ],
         "type": "scatter",
         "x": [
          0.18173253527958283,
          -0.2081515320305943,
          -0.1055752853944546,
          0.10649246073640947,
          -0.07524052115549235,
          -0.09607209936377335,
          -0.16651054060294782,
          0.4135799965691963,
          -0.13224173991466198,
          0.5491035153731054,
          -0.04807086230826587,
          -0.022797595687704945,
          -0.17762920653057399,
          -0.12871454969226356,
          -0.1665257709300682,
          -0.1296074718095085,
          -0.12251135858066477,
          -0.10836778517477381,
          -0.1433931791170009,
          0.07496884747137854,
          0.26445243195860146,
          0.17405375771104342,
          -0.1361031087004732,
          -0.11711082770635113,
          0.033332254820996596,
          -0.1678071791694391,
          0.07675534535080294,
          -0.09656290599677939,
          -0.17722798762022618,
          -0.09792723282715755,
          -0.1261814247802895,
          0.03445226153066806,
          -0.142212319316859,
          -0.07545636040112198,
          -0.05825036925728803,
          0.12452949860073001,
          -0.21902853821926271,
          0.06087797549255033,
          -0.13968321797822458,
          -0.1471511151527523,
          0.018326216700639646,
          -0.012666253822146648,
          -0.09513260606480302,
          0.5018710797877042,
          -0.11821117146154637,
          -0.006136693473207672,
          0.18325694525327532,
          -0.13194198381477948,
          0.11506545600732747,
          -0.08418973206219756,
          -0.20581954672759936,
          0.04814693783391996,
          -0.16400311201111012,
          -0.14918440224696894,
          -0.07550537136354889,
          0.027904744908096645,
          -0.1525915987794065,
          0.13884451982601184,
          -0.21498389814160557,
          -0.08840545298785034,
          -0.12862314723564547,
          -0.2292386742684558,
          -0.04024889729267121,
          -0.03851594084914386,
          -0.09806278283414452,
          -0.1132878438980795,
          -0.08219768939085466,
          -0.1783288628571918,
          -0.18757579874891944,
          0.039568518785360045,
          0.048584116225049975,
          0.46459047796387165,
          0.304384391287855,
          0.0955569432791143,
          0.3558440896414432,
          -0.023082550732438225,
          -0.03435496287384409,
          -0.12266058433730609,
          0.2801072705142908,
          0.0726474991922578,
          -0.1882486284822408,
          -0.004158642879102056,
          0.07137140923622588,
          -0.15921856037372006,
          -0.0497417647003614,
          -0.10356954113666778,
          -0.2043982821794946,
          0.04025851575985709,
          -0.06345486378107927,
          -0.01403992728969148,
          -0.05428707185169062,
          -0.12064939280350813,
          -0.10084299056397246,
          0.7545257900422037,
          0.04387023045076956,
          -0.07817016397320636,
          -0.1316480107771418,
          -0.20146920782582112,
          -0.21779495539000238,
          0.010595373252445119,
          -0.03172722534106489,
          -0.15826081212946194,
          -0.007123224674654437,
          -0.16598285745499058,
          0.13376299028848268,
          -0.01144381060512498,
          -0.11506236949735632,
          -0.06607205994823763,
          -0.19692885236460553,
          0.10587634918108865,
          -0.1367374589070557,
          -0.17176481885142633,
          -0.052626015744078575,
          0.10915412450186548,
          -0.14000283382026787,
          -0.09226722355102253,
          0.041689464471979784,
          -0.23380951281238238,
          -0.12748846611137898,
          -0.1263951400909352,
          -0.043852899268452414,
          -0.18687494586382092,
          -0.04335937330545772,
          -0.030404328203816427,
          0.14160364021053148,
          -0.12770390718269647,
          -0.11881037081404536,
          -0.1913686682061507,
          -0.24551913802147385,
          -0.07320296706957675,
          -0.06839471999439868,
          -0.09346751888503949,
          -0.005997474017773115,
          0.017897781432038688,
          -0.1351389300403967,
          0.3118459224006592,
          -0.26605520581581527,
          -0.07568354912557405,
          -0.20501953524764838,
          -0.11017272892231066,
          0.10439086246076021,
          0.30757906680009967,
          0.15480659239624817,
          -0.12702493245655155,
          -0.0175988760952897,
          -0.05660030277224729,
          -0.1271098816321176,
          0.08216762363998628,
          0.14175247053321594,
          -0.07961021031014506,
          -0.06583096604870992,
          -0.09941278095744091,
          0.046512908523264805,
          -0.04479727291786319,
          -0.03384873706372537,
          -0.0917819370891617,
          -0.0010612220650551571,
          -0.2027657759960536,
          -0.02607402000931703,
          0.43136243482175574,
          -0.18689011825160717,
          -0.06453584679628971,
          0.2962788783566435,
          0.010761252777638446,
          0.05117541571614744,
          0.22318361386540805,
          -0.016785220195250618,
          -0.1425894174266584,
          0.15488079134469906,
          -0.1384090623704746,
          -0.16268700695225413,
          -0.16141680122744198,
          -0.06998487433701059,
          -0.020612982070034085,
          0.06529990479252638,
          -0.17772088180989662,
          -0.07623308710827274,
          -0.11800927425038307,
          -0.04533041812939118,
          -0.16962206525677526,
          0.36125401730295936,
          -0.12407175709186223,
          0.3610166124968771,
          -0.16204979738480704,
          -0.11420738598761614,
          0.05931297220589641,
          0.07379447336019865,
          -0.10419369412073771,
          0.10690096383433649,
          -0.10514830751998941,
          0.15602761383871178,
          -0.03482077024532933,
          0.11939792900086021,
          0.08206150249885256,
          -0.1392940623719573,
          -0.08160963335776582,
          0.01655216652266902,
          -0.012063778905958061,
          -0.029249489615490017,
          0.2169602078033614,
          -0.17303455545650465,
          0.21581092263574703,
          0.2502804005840519,
          -0.011660670002491911,
          -0.18306936334154095,
          0.45620525681969937,
          -0.041808538468663115,
          -0.14415790854222343,
          -0.06371167111412042,
          -0.05761781687251787,
          -0.15673992639819356,
          0.057390876810151335,
          0.33465017529685614,
          -0.1852972011856423,
          -0.09459459660175876,
          -0.025368410239376776,
          0.015198174203817213,
          -0.23993774985349844,
          -0.26491910907536165,
          -0.2115488270463332,
          0.05882348260096043,
          -0.23181038264574558,
          -0.15135284829508708,
          0.11347002744325903,
          0.030828377993817217,
          -0.133918377454295,
          -0.09116017142546028,
          0.0019096873001277538,
          0.12535226875907088,
          -0.14859211823762355,
          0.3536775431099871,
          -0.06782954528823018,
          -0.0714832519368491,
          -0.002647790810339901,
          0.04065130913759611,
          -0.08295849697735119,
          -0.19109971565535583,
          -0.0028395836132123716,
          -0.11264621690526895,
          -0.14632403448181233,
          0.09852121232640301,
          0.07453987845160279,
          0.05875349577596109,
          -0.272072898310147,
          0.35553939948840707,
          -0.08019623430304468,
          -0.013426273647989552,
          -0.06318347906194668,
          -0.13613511517757046,
          -0.05586436856877855,
          -0.032518143044475485,
          -0.24379607717763938,
          0.110385873048778,
          0.3622289685180443,
          0.055429810045681746,
          -0.05439510518746495,
          -0.007970583750182529,
          -0.1298416768312573,
          -0.22461029847121908,
          -0.20275249543890878,
          0.4551342396392538,
          -0.12109826303691677,
          -0.14447066165987082,
          -0.07416707118728906,
          0.04722310483459845,
          0.17007540264633303,
          -0.11151499705085642,
          0.14545112397346216,
          -0.13729140578572832,
          0.25005302459767675,
          -0.17733418933442538,
          0.480818623515489,
          0.016876243760616624,
          0.30341117156333225,
          -0.01894030222569438,
          -0.1873551161021372,
          0.4034140504975219,
          0.5792717565051676,
          0.10103493327533848,
          0.06256911043735063,
          -0.07374268817974956,
          -0.07575905938151484,
          -0.11684285862460228,
          -0.16474134937415646,
          -0.046351770744806356,
          0.01288725047070792,
          -0.036417764338053604,
          -0.09216654481428657,
          -0.20152207119707094,
          -0.30533731410395737,
          -0.09997006049240116,
          -0.23750954466433044,
          -0.21324274090861073,
          0.21541674439341232,
          0.47887255149285246,
          0.11236550258604254,
          0.052608627435514296,
          0.5741296197994022,
          0.010706915167867063,
          0.2496635012722934,
          0.3860255069137031,
          0.08996137700823513,
          0.605067988712408,
          0.49024922708539775,
          -0.03860516025006082,
          -0.07436204797847956,
          -0.1767857732004835,
          0.38675322688512664,
          -0.16139159037643985,
          0.09361946701445503,
          -0.07960361593979338,
          -0.19350133756743143,
          -0.14333572263043456,
          -0.16984280647142896,
          0.27625442660085825,
          -0.07452850208012426,
          0.05107651245706188,
          -0.17328893372668525,
          0.14851976231594474,
          -0.14430198119512191,
          0.22589613590264732,
          -0.27429481119952226,
          0.11178684643115411,
          0.6872866640579697,
          0.2878444119855386,
          0.26277905233221516,
          0.1853641154977386,
          -0.0883748110643018,
          -0.01717636560053865,
          -0.08482314901811919,
          0.3229787630377322,
          0.4732748989853106,
          0.07214146876213291,
          -0.12215213588880396,
          -0.060951469982541716,
          0.15469871854680753,
          0.004471818333990202,
          -0.038921657072224274,
          0.016856518530512666,
          -0.01339809440657397,
          -0.012928666639569115,
          0.17536214297953356,
          0.015365541943033505,
          -0.06452613631047019,
          0.010038644483751202,
          -0.19756902803532495,
          0.07677009548629324,
          0.6792484892508532,
          0.14261129492164965,
          0.2537101662410408,
          0.2767464625137738,
          0.08055409687036667
         ],
         "y": [
          -0.03898433951336952,
          0.056043256883665425,
          0.04925050117254392,
          -0.07564363798768738,
          -0.059862177147308494,
          -0.03184110820538362,
          0.004390467127329381,
          0.019582027142496985,
          -0.03814678228861351,
          0.1409335195107243,
          0.13900772390696942,
          -0.03396522115151793,
          -0.08793043959200063,
          -0.0825570831093391,
          0.038144815636462326,
          -0.0056608944988512724,
          0.011530196967317158,
          -0.032580034935703175,
          0.010937705858298775,
          -0.20658804069060124,
          0.18561218457364886,
          -0.07479958133553559,
          -0.09134080037493457,
          0.04203543117868662,
          -0.05977994236465434,
          0.06621229159551245,
          0.06044386051435898,
          -0.057554203143898884,
          -0.08719879724556664,
          -0.05414062185129851,
          -0.12778371520190074,
          0.11214496771243793,
          -0.1685710269003777,
          0.00290644519870814,
          0.07326386360777608,
          -0.12161374218798751,
          0.039149804559408787,
          -0.0017685330366802793,
          -0.0801210661941659,
          0.05840502451788094,
          -0.08804663348034487,
          -0.022331736921329687,
          -0.005312326015838259,
          -0.018853796336247612,
          -0.0013068838982728513,
          0.04947135915730929,
          -0.19955459510635462,
          -0.04621292203177211,
          -0.02940834325430049,
          -0.14336862782741977,
          -0.060976666573487784,
          0.26861434979461285,
          -0.13879337501894518,
          0.07128804009258609,
          -0.026026896158865387,
          -0.03157253795243022,
          -0.029120794413623884,
          0.09448972696042839,
          -0.03966802882771556,
          0.06311483150855804,
          0.137981951292467,
          0.035036371339497954,
          -0.002095190040544417,
          0.04518209865446196,
          -0.04794442503766442,
          -0.08614157273748899,
          0.021800574593319345,
          0.10186151137740024,
          0.08970414569127912,
          0.3974915292371101,
          -0.0655317141223796,
          0.042673511720631885,
          0.3967239083196902,
          -0.06505720877592745,
          -0.20813460039662793,
          0.3397792216692826,
          -0.09056017601872132,
          -0.08759213703125077,
          0.009238034021074397,
          -0.027994402230887255,
          -0.18243619515099987,
          -0.020578398828022062,
          -0.10244064472583235,
          0.20033642849547195,
          -0.11535717469416731,
          -0.11420007821629513,
          -0.06674162746019881,
          -0.04363987600398121,
          -0.03757696598731723,
          0.03291199675101464,
          0.0323178299102598,
          -0.05057572746122461,
          -0.036269378833391604,
          -0.009839940579451485,
          -0.042796183806989886,
          -0.1006222898373294,
          -0.10682266192239659,
          -0.10469945699008006,
          0.09028913617109614,
          -0.10443429031562924,
          -0.12209155409717154,
          0.14020827954017362,
          -0.1491725530874998,
          -0.0327829346430976,
          -0.0849635829603134,
          0.11003409939509813,
          -0.034132423496239434,
          -0.07722253797689443,
          0.01911230527707282,
          -0.09022560490566701,
          0.06264026656912877,
          0.011084991983077575,
          0.03265830393581113,
          -0.20467019907891837,
          0.10111235613348159,
          -0.028257088081160012,
          0.003013116843201197,
          -0.024136182806988454,
          -0.10207855086805426,
          0.38069523773441133,
          0.011257051207642293,
          0.04299973593550073,
          0.13286424953917286,
          0.23872545231787223,
          0.04438281806715545,
          -0.12078991875716968,
          -0.010062596360619002,
          0.2219720262142374,
          0.049069808503931125,
          -0.044654515102884845,
          -0.020936917326434157,
          -0.27053794329357694,
          -0.2011756756765152,
          -0.08447274626518644,
          -0.0018398478649647788,
          0.07672568263802251,
          0.05006394378881919,
          -0.14563460877945147,
          -0.009481108163465807,
          -0.1249203745339352,
          0.3091571493760781,
          -0.09448072218889218,
          0.0072312073328533386,
          -0.12488436424587132,
          0.24502637606750263,
          0.2500171997398939,
          -0.14542849732887161,
          -0.06642002797698407,
          -0.0816627429545145,
          -0.11938609577561904,
          0.03167532202381794,
          0.04324333163804157,
          -0.03877630449193654,
          0.03648156588869163,
          -0.14326727744017692,
          -0.17527034252218718,
          -0.2826103741360633,
          0.05127562832304791,
          0.04307762231810963,
          0.14837731257640846,
          -0.035365374123250984,
          0.18791786217066975,
          -0.044146260689976055,
          0.05098587547123182,
          0.06376590878767027,
          -0.04172863885034833,
          0.07809190145352235,
          -0.1514904040702954,
          0.1491677148148956,
          -0.09241753730368808,
          0.16931440351157825,
          -0.26400126566910753,
          -0.06745457311190062,
          0.03612121456311889,
          -0.07758282367434666,
          -0.11467847194041886,
          0.07490970541265181,
          -0.03940234788700982,
          0.012901900044205047,
          0.23837196235475347,
          -0.07126124984027259,
          0.055645903951778604,
          -0.03728273053679989,
          -0.012963430637327892,
          0.16780907155697,
          0.05898459645517981,
          0.16420639508319884,
          -0.09419908269025082,
          -0.15314584314778748,
          0.038592197111923354,
          -0.04679413880522267,
          -0.09478745295738766,
          0.13091394858119149,
          -0.006469343068648999,
          0.04914187620399481,
          -0.006855263429374163,
          0.10084326116079828,
          0.12214500932327463,
          -0.05032795817080631,
          0.07192245226220421,
          -0.036135033899203826,
          -0.03621734559978884,
          0.06857576875867574,
          -0.03967246056018035,
          -0.04363903429185867,
          0.04722982888578132,
          0.18755771154700604,
          -0.03992038481077393,
          0.15497070361223647,
          -0.050004041315296954,
          -0.11446833260980628,
          -0.04434647268270582,
          0.3810735442018455,
          0.05684589998544046,
          0.003603056393750019,
          0.10900072688976391,
          -0.16560610091134748,
          0.07370008312632466,
          0.015431599230963003,
          0.023616382956681337,
          -0.23821457168300902,
          -0.04298628558179136,
          -0.07820987824493224,
          0.21126896088243333,
          -0.11074798014582789,
          0.024098492768914223,
          -0.0035080815307769082,
          0.03482556623587183,
          -0.04844687731219914,
          -0.1941993116097876,
          -0.04386793441516701,
          0.21525037149871035,
          -0.11632911376587246,
          0.03665767080377992,
          -0.001577853892753784,
          -0.13957923304962627,
          0.22054941643208076,
          0.08874315736093492,
          -0.18496339402872128,
          0.1134440037532579,
          -0.17167261555743207,
          0.1286815401489889,
          -0.03000309655280512,
          0.19815295531921048,
          -0.0802132956930899,
          0.1277999813994854,
          -0.07265600028719042,
          -0.1444045476786638,
          -0.0033498274957724085,
          -0.2332048155817645,
          -0.13064854482091576,
          0.11264949893149762,
          -0.06714305629709792,
          -0.13914673441356717,
          0.16353309417767994,
          0.010923498026919354,
          0.060683215575611335,
          -0.030308660457033378,
          -0.07541709639746011,
          -0.0943532943970663,
          0.022492249862014906,
          -0.044665143900852855,
          -0.1424323407618191,
          0.18654951790687138,
          0.060902546435820534,
          -0.005395971725015577,
          -0.02983843608807566,
          -0.023047256968530667,
          0.17414260796299152,
          -0.19204757988454024,
          -0.11996506200705254,
          -0.04242125415013321,
          0.10296175155138258,
          -0.13689941798620475,
          0.0587784940834098,
          -0.005158257494594354,
          0.1122185134538265,
          0.4186989836631824,
          -0.08699496724429989,
          -0.20515638487664262,
          0.11608924267596,
          -0.08129429630464094,
          0.027972063891695067,
          -0.08306644648088027,
          -0.07966715231647618,
          -0.12950926284105038,
          0.1561550185864644,
          0.11255997416358608,
          -0.0013174746562132653,
          0.17898818696568278,
          0.24277297763342473,
          0.10160643364475194,
          0.07201718797951814,
          -0.13317288985195194,
          0.019498140810133083,
          0.1640046512527579,
          0.06988536938519276,
          0.04691477140356499,
          0.20158816066357205,
          -0.06797848897746617,
          -0.1303044076447714,
          0.09878947264803832,
          -0.0011076842546006544,
          -0.14889607141979125,
          -0.0558491776580495,
          -0.29278244751163657,
          0.3070391376538422,
          -0.06359446651805883,
          -0.07269594633205603,
          -0.0696656931021418,
          -0.23203348897918805,
          0.03854600379317585,
          0.11268952155411646,
          -0.11310968455678728,
          0.5092493101560407,
          -0.011373745418049292,
          -0.07164460918891992,
          -0.015487184294857714,
          0.09685150861863066,
          0.12956341078227837,
          -0.02393213933272927,
          0.12442024959708078,
          -0.09717799807636547,
          -0.026642471620466332,
          -0.10938531576936962,
          -0.028712635946345485,
          -0.10661277158775827,
          0.24455177499178365,
          -0.18968946465461947,
          0.14774378300183866,
          -0.24195570765515703,
          0.002691784895556631,
          -0.03456298484260715,
          -0.16188467932424544,
          0.4972281117389839,
          -0.09192007633774929,
          -0.030511472526046655,
          0.0660643787019112,
          -0.131545747150855,
          0.3087820136467537,
          0.013280215201038642,
          -0.035610268027909155,
          0.14980815903869277,
          -0.17115393790819078,
          -0.2904777632314246,
          0.04041082955337902,
          0.07489786136919657,
          0.01618452931045598,
          -0.0458366973572412,
          -0.10017964073048308,
          -0.06584223464008608,
          0.05452480471965277
         ]
        }
       ],
       "layout": {
        "template": {
         "data": {
          "bar": [
           {
            "error_x": {
             "color": "#2a3f5f"
            },
            "error_y": {
             "color": "#2a3f5f"
            },
            "marker": {
             "line": {
              "color": "#E5ECF6",
              "width": 0.5
             }
            },
            "type": "bar"
           }
          ],
          "barpolar": [
           {
            "marker": {
             "line": {
              "color": "#E5ECF6",
              "width": 0.5
             }
            },
            "type": "barpolar"
           }
          ],
          "carpet": [
           {
            "aaxis": {
             "endlinecolor": "#2a3f5f",
             "gridcolor": "white",
             "linecolor": "white",
             "minorgridcolor": "white",
             "startlinecolor": "#2a3f5f"
            },
            "baxis": {
             "endlinecolor": "#2a3f5f",
             "gridcolor": "white",
             "linecolor": "white",
             "minorgridcolor": "white",
             "startlinecolor": "#2a3f5f"
            },
            "type": "carpet"
           }
          ],
          "choropleth": [
           {
            "colorbar": {
             "outlinewidth": 0,
             "ticks": ""
            },
            "type": "choropleth"
           }
          ],
          "contour": [
           {
            "colorbar": {
             "outlinewidth": 0,
             "ticks": ""
            },
            "colorscale": [
             [
              0,
              "#0d0887"
             ],
             [
              0.1111111111111111,
              "#46039f"
             ],
             [
              0.2222222222222222,
              "#7201a8"
             ],
             [
              0.3333333333333333,
              "#9c179e"
             ],
             [
              0.4444444444444444,
              "#bd3786"
             ],
             [
              0.5555555555555556,
              "#d8576b"
             ],
             [
              0.6666666666666666,
              "#ed7953"
             ],
             [
              0.7777777777777778,
              "#fb9f3a"
             ],
             [
              0.8888888888888888,
              "#fdca26"
             ],
             [
              1,
              "#f0f921"
             ]
            ],
            "type": "contour"
           }
          ],
          "contourcarpet": [
           {
            "colorbar": {
             "outlinewidth": 0,
             "ticks": ""
            },
            "type": "contourcarpet"
           }
          ],
          "heatmap": [
           {
            "colorbar": {
             "outlinewidth": 0,
             "ticks": ""
            },
            "colorscale": [
             [
              0,
              "#0d0887"
             ],
             [
              0.1111111111111111,
              "#46039f"
             ],
             [
              0.2222222222222222,
              "#7201a8"
             ],
             [
              0.3333333333333333,
              "#9c179e"
             ],
             [
              0.4444444444444444,
              "#bd3786"
             ],
             [
              0.5555555555555556,
              "#d8576b"
             ],
             [
              0.6666666666666666,
              "#ed7953"
             ],
             [
              0.7777777777777778,
              "#fb9f3a"
             ],
             [
              0.8888888888888888,
              "#fdca26"
             ],
             [
              1,
              "#f0f921"
             ]
            ],
            "type": "heatmap"
           }
          ],
          "heatmapgl": [
           {
            "colorbar": {
             "outlinewidth": 0,
             "ticks": ""
            },
            "colorscale": [
             [
              0,
              "#0d0887"
             ],
             [
              0.1111111111111111,
              "#46039f"
             ],
             [
              0.2222222222222222,
              "#7201a8"
             ],
             [
              0.3333333333333333,
              "#9c179e"
             ],
             [
              0.4444444444444444,
              "#bd3786"
             ],
             [
              0.5555555555555556,
              "#d8576b"
             ],
             [
              0.6666666666666666,
              "#ed7953"
             ],
             [
              0.7777777777777778,
              "#fb9f3a"
             ],
             [
              0.8888888888888888,
              "#fdca26"
             ],
             [
              1,
              "#f0f921"
             ]
            ],
            "type": "heatmapgl"
           }
          ],
          "histogram": [
           {
            "marker": {
             "colorbar": {
              "outlinewidth": 0,
              "ticks": ""
             }
            },
            "type": "histogram"
           }
          ],
          "histogram2d": [
           {
            "colorbar": {
             "outlinewidth": 0,
             "ticks": ""
            },
            "colorscale": [
             [
              0,
              "#0d0887"
             ],
             [
              0.1111111111111111,
              "#46039f"
             ],
             [
              0.2222222222222222,
              "#7201a8"
             ],
             [
              0.3333333333333333,
              "#9c179e"
             ],
             [
              0.4444444444444444,
              "#bd3786"
             ],
             [
              0.5555555555555556,
              "#d8576b"
             ],
             [
              0.6666666666666666,
              "#ed7953"
             ],
             [
              0.7777777777777778,
              "#fb9f3a"
             ],
             [
              0.8888888888888888,
              "#fdca26"
             ],
             [
              1,
              "#f0f921"
             ]
            ],
            "type": "histogram2d"
           }
          ],
          "histogram2dcontour": [
           {
            "colorbar": {
             "outlinewidth": 0,
             "ticks": ""
            },
            "colorscale": [
             [
              0,
              "#0d0887"
             ],
             [
              0.1111111111111111,
              "#46039f"
             ],
             [
              0.2222222222222222,
              "#7201a8"
             ],
             [
              0.3333333333333333,
              "#9c179e"
             ],
             [
              0.4444444444444444,
              "#bd3786"
             ],
             [
              0.5555555555555556,
              "#d8576b"
             ],
             [
              0.6666666666666666,
              "#ed7953"
             ],
             [
              0.7777777777777778,
              "#fb9f3a"
             ],
             [
              0.8888888888888888,
              "#fdca26"
             ],
             [
              1,
              "#f0f921"
             ]
            ],
            "type": "histogram2dcontour"
           }
          ],
          "mesh3d": [
           {
            "colorbar": {
             "outlinewidth": 0,
             "ticks": ""
            },
            "type": "mesh3d"
           }
          ],
          "parcoords": [
           {
            "line": {
             "colorbar": {
              "outlinewidth": 0,
              "ticks": ""
             }
            },
            "type": "parcoords"
           }
          ],
          "pie": [
           {
            "automargin": true,
            "type": "pie"
           }
          ],
          "scatter": [
           {
            "marker": {
             "colorbar": {
              "outlinewidth": 0,
              "ticks": ""
             }
            },
            "type": "scatter"
           }
          ],
          "scatter3d": [
           {
            "line": {
             "colorbar": {
              "outlinewidth": 0,
              "ticks": ""
             }
            },
            "marker": {
             "colorbar": {
              "outlinewidth": 0,
              "ticks": ""
             }
            },
            "type": "scatter3d"
           }
          ],
          "scattercarpet": [
           {
            "marker": {
             "colorbar": {
              "outlinewidth": 0,
              "ticks": ""
             }
            },
            "type": "scattercarpet"
           }
          ],
          "scattergeo": [
           {
            "marker": {
             "colorbar": {
              "outlinewidth": 0,
              "ticks": ""
             }
            },
            "type": "scattergeo"
           }
          ],
          "scattergl": [
           {
            "marker": {
             "colorbar": {
              "outlinewidth": 0,
              "ticks": ""
             }
            },
            "type": "scattergl"
           }
          ],
          "scattermapbox": [
           {
            "marker": {
             "colorbar": {
              "outlinewidth": 0,
              "ticks": ""
             }
            },
            "type": "scattermapbox"
           }
          ],
          "scatterpolar": [
           {
            "marker": {
             "colorbar": {
              "outlinewidth": 0,
              "ticks": ""
             }
            },
            "type": "scatterpolar"
           }
          ],
          "scatterpolargl": [
           {
            "marker": {
             "colorbar": {
              "outlinewidth": 0,
              "ticks": ""
             }
            },
            "type": "scatterpolargl"
           }
          ],
          "scatterternary": [
           {
            "marker": {
             "colorbar": {
              "outlinewidth": 0,
              "ticks": ""
             }
            },
            "type": "scatterternary"
           }
          ],
          "surface": [
           {
            "colorbar": {
             "outlinewidth": 0,
             "ticks": ""
            },
            "colorscale": [
             [
              0,
              "#0d0887"
             ],
             [
              0.1111111111111111,
              "#46039f"
             ],
             [
              0.2222222222222222,
              "#7201a8"
             ],
             [
              0.3333333333333333,
              "#9c179e"
             ],
             [
              0.4444444444444444,
              "#bd3786"
             ],
             [
              0.5555555555555556,
              "#d8576b"
             ],
             [
              0.6666666666666666,
              "#ed7953"
             ],
             [
              0.7777777777777778,
              "#fb9f3a"
             ],
             [
              0.8888888888888888,
              "#fdca26"
             ],
             [
              1,
              "#f0f921"
             ]
            ],
            "type": "surface"
           }
          ],
          "table": [
           {
            "cells": {
             "fill": {
              "color": "#EBF0F8"
             },
             "line": {
              "color": "white"
             }
            },
            "header": {
             "fill": {
              "color": "#C8D4E3"
             },
             "line": {
              "color": "white"
             }
            },
            "type": "table"
           }
          ]
         },
         "layout": {
          "annotationdefaults": {
           "arrowcolor": "#2a3f5f",
           "arrowhead": 0,
           "arrowwidth": 1
          },
          "coloraxis": {
           "colorbar": {
            "outlinewidth": 0,
            "ticks": ""
           }
          },
          "colorscale": {
           "diverging": [
            [
             0,
             "#8e0152"
            ],
            [
             0.1,
             "#c51b7d"
            ],
            [
             0.2,
             "#de77ae"
            ],
            [
             0.3,
             "#f1b6da"
            ],
            [
             0.4,
             "#fde0ef"
            ],
            [
             0.5,
             "#f7f7f7"
            ],
            [
             0.6,
             "#e6f5d0"
            ],
            [
             0.7,
             "#b8e186"
            ],
            [
             0.8,
             "#7fbc41"
            ],
            [
             0.9,
             "#4d9221"
            ],
            [
             1,
             "#276419"
            ]
           ],
           "sequential": [
            [
             0,
             "#0d0887"
            ],
            [
             0.1111111111111111,
             "#46039f"
            ],
            [
             0.2222222222222222,
             "#7201a8"
            ],
            [
             0.3333333333333333,
             "#9c179e"
            ],
            [
             0.4444444444444444,
             "#bd3786"
            ],
            [
             0.5555555555555556,
             "#d8576b"
            ],
            [
             0.6666666666666666,
             "#ed7953"
            ],
            [
             0.7777777777777778,
             "#fb9f3a"
            ],
            [
             0.8888888888888888,
             "#fdca26"
            ],
            [
             1,
             "#f0f921"
            ]
           ],
           "sequentialminus": [
            [
             0,
             "#0d0887"
            ],
            [
             0.1111111111111111,
             "#46039f"
            ],
            [
             0.2222222222222222,
             "#7201a8"
            ],
            [
             0.3333333333333333,
             "#9c179e"
            ],
            [
             0.4444444444444444,
             "#bd3786"
            ],
            [
             0.5555555555555556,
             "#d8576b"
            ],
            [
             0.6666666666666666,
             "#ed7953"
            ],
            [
             0.7777777777777778,
             "#fb9f3a"
            ],
            [
             0.8888888888888888,
             "#fdca26"
            ],
            [
             1,
             "#f0f921"
            ]
           ]
          },
          "colorway": [
           "#636efa",
           "#EF553B",
           "#00cc96",
           "#ab63fa",
           "#FFA15A",
           "#19d3f3",
           "#FF6692",
           "#B6E880",
           "#FF97FF",
           "#FECB52"
          ],
          "font": {
           "color": "#2a3f5f"
          },
          "geo": {
           "bgcolor": "white",
           "lakecolor": "white",
           "landcolor": "#E5ECF6",
           "showlakes": true,
           "showland": true,
           "subunitcolor": "white"
          },
          "hoverlabel": {
           "align": "left"
          },
          "hovermode": "closest",
          "mapbox": {
           "style": "light"
          },
          "paper_bgcolor": "white",
          "plot_bgcolor": "#E5ECF6",
          "polar": {
           "angularaxis": {
            "gridcolor": "white",
            "linecolor": "white",
            "ticks": ""
           },
           "bgcolor": "#E5ECF6",
           "radialaxis": {
            "gridcolor": "white",
            "linecolor": "white",
            "ticks": ""
           }
          },
          "scene": {
           "xaxis": {
            "backgroundcolor": "#E5ECF6",
            "gridcolor": "white",
            "gridwidth": 2,
            "linecolor": "white",
            "showbackground": true,
            "ticks": "",
            "zerolinecolor": "white"
           },
           "yaxis": {
            "backgroundcolor": "#E5ECF6",
            "gridcolor": "white",
            "gridwidth": 2,
            "linecolor": "white",
            "showbackground": true,
            "ticks": "",
            "zerolinecolor": "white"
           },
           "zaxis": {
            "backgroundcolor": "#E5ECF6",
            "gridcolor": "white",
            "gridwidth": 2,
            "linecolor": "white",
            "showbackground": true,
            "ticks": "",
            "zerolinecolor": "white"
           }
          },
          "shapedefaults": {
           "line": {
            "color": "#2a3f5f"
           }
          },
          "ternary": {
           "aaxis": {
            "gridcolor": "white",
            "linecolor": "white",
            "ticks": ""
           },
           "baxis": {
            "gridcolor": "white",
            "linecolor": "white",
            "ticks": ""
           },
           "bgcolor": "#E5ECF6",
           "caxis": {
            "gridcolor": "white",
            "linecolor": "white",
            "ticks": ""
           }
          },
          "title": {
           "x": 0.05
          },
          "xaxis": {
           "automargin": true,
           "gridcolor": "white",
           "linecolor": "white",
           "ticks": "",
           "title": {
            "standoff": 15
           },
           "zerolinecolor": "white",
           "zerolinewidth": 2
          },
          "yaxis": {
           "automargin": true,
           "gridcolor": "white",
           "linecolor": "white",
           "ticks": "",
           "title": {
            "standoff": 15
           },
           "zerolinecolor": "white",
           "zerolinewidth": 2
          }
         }
        }
       }
      },
      "text/html": [
       "<div>\n",
       "        \n",
       "        \n",
       "            <div id=\"6f40f63c-2c5f-4cc9-aa58-5b34d9385eb4\" class=\"plotly-graph-div\" style=\"height:525px; width:100%;\"></div>\n",
       "            <script type=\"text/javascript\">\n",
       "                require([\"plotly\"], function(Plotly) {\n",
       "                    window.PLOTLYENV=window.PLOTLYENV || {};\n",
       "                    \n",
       "                if (document.getElementById(\"6f40f63c-2c5f-4cc9-aa58-5b34d9385eb4\")) {\n",
       "                    Plotly.newPlot(\n",
       "                        '6f40f63c-2c5f-4cc9-aa58-5b34d9385eb4',\n",
       "                        [{\"mode\": \"markers\", \"text\": [\"Adventure,Drama,History|\", \"Comedy|\", \"Drama|\", \"Action,Adventure|\", \"Action|\", \"Action,Crime,Drama|\", \"Romance|\", \"Documentary|\", \"Action,Comedy|\", \"Animation,Documentary|\", \"Comedy,Drama,Music|\", \"Drama,Fantasy,Horror|\", \"Horror|\", \"Action,Thriller|\", \"Comedy,Drama,Romance|\", \"Crime,Drama,Thriller|\", \"Thriller|\", \"Crime,Drama|\", \"Drama,Thriller|\", \"Action,Animation,Drama|\", \"Documentary,Music|\", \"Action,Fantasy,Sci-Fi|\", \"Action,Comedy,Horror|\", \"Drama,Romance|\", \"Action,Drama|\", \"Comedy,Drama|\", \"Animation,Drama,Fantasy|\", \"Action,Adventure,Animation|\", \"Horror,Thriller|\", \"Action,Drama,Thriller|\", \"Drama,Horror,Mystery|\", \"Animation,Comedy,Drama|\", \"Horror,Mystery,Thriller|\", \"Crime,Mystery,Thriller|\", \"Crime,Drama,Horror|\", \"Adventure,Fantasy|\", \"Comedy,Romance|\", \"Biography,Drama,History|\", \"Action,Drama,Sport|\", \"Drama,Music,Romance|\", \"Sci-Fi|\", \"Action,Biography,Drama|\", \"Action,Crime,Thriller|\", \"Biography,Documentary,Sport|\", \"Adventure,Comedy,Drama|\", \"Biography,Drama|\", \"Comedy,Musical|\", \"Comedy,Crime,Drama|\", \"Action,Drama,Fantasy|\", \"Drama,Horror|\", \"Comedy,Horror|\", \"Adventure,Animation,Drama|\", \"Horror,Sci-Fi,Thriller|\", \"Drama,Music|\", \"Crime,Drama,Mystery|\", \"Drama,Mystery|\", \"Crime,Thriller|\", \"Drama,History|\", \"Drama,Horror,Thriller|\", \"Drama,Fantasy,Romance|\", \"Adventure,Family|\", \"Drama,Sport|\", \"Action,Comedy,Drama|\", \"Action,Adventure,Crime|\", \"Action,Horror,Sci-Fi|\", \"Horror,Mystery|\", \"Action,Comedy,Sport|\", \"Comedy,Drama,Sport|\", \"Drama,Horror,Romance|\", \"Comedy,War|\", \"Adventure,Fantasy,Mystery|\", \"Crime,Documentary|\", \"Documentary,Sport|\", \"Drama,History,War|\", \"Animation,Comedy,Fantasy|\", \"Action,Biography,Crime|\", \"Action,Animation,Horror|\", \"Action,Horror|\", \"Animation,Biography,Documentary|\", \"Action,Drama,Romance|\", \"Comedy,Sci-Fi|\", \"Action,Romance,Thriller|\", \"Action,Adventure,Drama|\", \"Adventure,Drama,Family|\", \"Fantasy,Horror|\", \"Action,Crime|\", \"Horror,Sci-Fi|\", \"Action,Animation,Crime|\", \"Drama,War|\", \"Comedy,Fantasy,Sci-Fi|\", \"Action,Romance|\", \"Action,Comedy,Crime|\", \"Action,Adventure,Comedy|\", \"Documentary,Drama,Family|\", \"Comedy,Drama,Musical|\", \"Drama,Horror,Sci-Fi|\", \"Action,Comedy,Fantasy|\", \"Comedy,Horror,Sci-Fi|\", \"Drama,Family|\", \"Adventure,Drama,Fantasy|\", \"Action,Sci-Fi,Thriller|\", \"Animation,Comedy|\", \"Action,Adventure,Sci-Fi|\", \"Adventure,Animation,Comedy|\", \"Action,Drama,History|\", \"Animation,Drama,Family|\", \"Biography,Drama,Music|\", \"Action,Adventure,Family|\", \"Adventure,Comedy,Family|\", \"Action,Adventure,Fantasy|\", \"Comedy,Drama,Family|\", \"Comedy,Drama,Fantasy|\", \"Action,Crime,Mystery|\", \"Adventure,Crime,Drama|\", \"Biography,Comedy,Drama|\", \"Drama,Mystery,Thriller|\", \"Biography,Drama,Romance|\", \"Adventure,Comedy,Horror|\", \"Mystery,Thriller|\", \"Comedy,Family,Fantasy|\", \"Drama,Fantasy|\", \"Comedy,Crime,Thriller|\", \"Drama,Mystery,Sci-Fi|\", \"Adventure,Biography,Comedy|\", \"Adventure,Biography,Drama|\", \"Fantasy,Mystery,Thriller|\", \"Action,Horror,Mystery|\", \"Family|\", \"Adventure,Comedy|\", \"Horror,Romance|\", \"Mystery,Sci-Fi,Thriller|\", \"Crime,Sci-Fi,Thriller|\", \"Adventure,Comedy,Western|\", \"Drama,Mystery,Romance|\", \"Drama,Romance,Thriller|\", \"Action,Comedy,Music|\", \"Comedy,Horror,Music|\", \"Crime,Horror,Mystery|\", \"Comedy,Horror,Romance|\", \"Comedy,Fantasy,Horror|\", \"Action,Animation,Comedy|\", \"Comedy,Musical,Sci-Fi|\", \"Animation,Drama,Sci-Fi|\", \"Action,Comedy,Sci-Fi|\", \"Action,War|\", \"Animation,Family|\", \"Action,Comedy,Romance|\", \"Mystery,Romance,Thriller|\", \"Drama,History,Romance|\", \"Action,Comedy,Family|\", \"War|\", \"Animation,Drama|\", \"Comedy,Western|\", \"Adventure,Family,Fantasy|\", \"Action,Fantasy,Western|\", \"Action,Comedy,Documentary|\", \"Adventure,Drama,Thriller|\", \"Comedy,Family|\", \"Crime,Drama,War|\", \"Biography,Documentary,Music|\", \"Crime,Horror,Thriller|\", \"Action,Crime,Romance|\", \"Drama,Mystery,War|\", \"Comedy,Thriller|\", \"Comedy,Drama,History|\", \"Drama,Thriller,Western|\", \"Drama,Sci-Fi|\", \"Sci-Fi,Thriller|\", \"Biography,Drama,War|\", \"Comedy,Horror,Thriller|\", \"Animation,Comedy,Crime|\", \"Comedy,Crime,Romance|\", \"Adventure,Drama,Romance|\", \"Musical|\", \"Action,Mystery,Thriller|\", \"Action,Horror,Thriller|\", \"Drama,Romance,Sci-Fi|\", \"Action,Comedy,Thriller|\", \"Biography,Drama,Sport|\", \"Comedy,Family,Sport|\", \"Adventure,Drama,Western|\", \"Animation|\", \"Action,History,Thriller|\", \"Crime,Drama,Romance|\", \"Crime,Mystery,Romance|\", \"Action,History|\", \"Animation,Mystery,Thriller|\", \"Drama,Sci-Fi,Thriller|\", \"Horror,Romance,Thriller|\", \"Adventure,Horror|\", \"Drama,Western|\", \"Thriller,Western|\", \"Action,Comedy,Western|\", \"Adventure|\", \"Adventure,Animation,Family|\", \"Crime|\", \"Adventure,Drama|\", \"Western|\", \"Action,Drama,War|\", \"Adventure,Documentary,Drama|\", \"Animation,Comedy,Family|\", \"Documentary,War|\", \"Documentary,Drama|\", \"Action,Animation,Sci-Fi|\", \"Comedy,Fantasy|\", \"Documentary,News|\", \"Comedy,Drama,Mystery|\", \"Adventure,Comedy,Sci-Fi|\", \"Drama,Romance,War|\", \"Action,Sci-Fi|\", \"Comedy,Family,Romance|\", \"Action,Adventure,Thriller|\", \"Action,Adventure,History|\", \"Adventure,Comedy,Fantasy|\", \"Action,Drama,Family|\", \"Drama,Thriller,War|\", \"Romance,Sci-Fi,Thriller|\", \"Crime,Drama,History|\", \"Comedy,Mystery|\", \"Adventure,Crime,Thriller|\", \"Fantasy,Horror,Mystery|\", \"Comedy,Crime|\", \"Action,Fantasy,Thriller|\", \"Action,Adventure,Romance|\", \"Action,Crime,Fantasy|\", \"Biography,Crime,Drama|\", \"Comedy,Fantasy,Romance|\", \"Biography,Drama,Thriller|\", \"Action,Fantasy|\", \"Fantasy,Horror,Thriller|\", \"Adventure,Documentary,Sport|\", \"Family,Mystery|\", \"Adventure,Drama,Sci-Fi|\", \"Drama,Fantasy,Musical|\", \"Biography,Comedy,Crime|\", \"Drama,Fantasy,Sci-Fi|\", \"Comedy,Musical,Romance|\", \"Comedy,Crime,Mystery|\", \"Action,Drama,Horror|\", \"Comedy,Romance,Sci-Fi|\", \"Animation,Drama,Thriller|\", \"Comedy,Drama,War|\", \"Action,Fantasy,Romance|\", \"Adventure,Romance|\", \"Action,Crime,Horror|\", \"Fantasy|\", \"Action,Animation,Fantasy|\", \"Action,Adventure,Mystery|\", \"Animation,Family,Fantasy|\", \"Adventure,Mystery,Sci-Fi|\", \"Action,Fantasy,Horror|\", \"Comedy,Romance,Sport|\", \"Adventure,History|\", \"Drama,Musical,Romance|\", \"Drama,Fantasy,Mystery|\", \"Action,Adventure,Horror|\", \"Drama,History,Thriller|\", \"Comedy,Horror,Mystery|\", \"Comedy,Sport|\", \"Comedy,Fantasy,Thriller|\", \"Biography,Documentary|\", \"Animation,Family,Musical|\", \"Comedy,Music,Musical|\", \"Adventure,Comedy,Crime|\", \"Biography,Comedy|\", \"Adventure,Biography,History|\", \"Adventure,Crime,Family|\", \"Documentary,History|\", \"Music|\", \"Fantasy,Romance|\", \"Adventure,Drama,Horror|\", \"Documentary,History,Sport|\", \"Drama,Family,Romance|\", \"Fantasy,Mystery,Romance|\", \"Animation,Sci-Fi|\", \"Adventure,Animation|\", \"Action,Biography,Documentary|\", \"Documentary,History,Music|\", \"Action,Adventure,Western|\", \"Action,Drama,Mystery|\", \"Romance,Thriller|\", \"Action,Drama,Sci-Fi|\", \"Comedy,Drama,Horror|\", \"Horror,Mystery,Sci-Fi|\", \"Adventure,Horror,Sci-Fi|\", \"Action,Crime,Sci-Fi|\", \"Animation,Biography,Drama|\", \"Music,Mystery,Thriller|\", \"Comedy,Crime,Horror|\", \"Adventure,Drama,Sport|\", \"Family,Fantasy|\", \"Drama,Music,Thriller|\", \"Comedy,Music|\", \"Drama,History,Horror|\", \"Biography,Documentary,Drama|\", \"Biography,Drama,Musical|\", \"Mystery,Romance,Sci-Fi|\", \"Crime,Documentary,Drama|\", \"Animation,Drama,Romance|\", \"Adventure,Animation,Sci-Fi|\", \"Adventure,History,Romance|\", \"Action,Adventure,Documentary|\", \"Documentary,Mystery|\", \"Biography,History|\", \"Drama,Fantasy,Music|\", \"Action,Mystery,Sci-Fi|\", \"Comedy,Family,Music|\", \"Adventure,Fantasy,Musical|\", \"Adventure,Family,Sci-Fi|\", \"Comedy,Horror,Musical|\", \"Adventure,Thriller|\", \"Comedy,Drama,Sci-Fi|\", \"Drama,Family,History|\", \"Comedy,Romance,Western|\", \"Mystery,Western|\", \"Comedy,Drama,Thriller|\", \"Crime,Drama,Sci-Fi|\", \"Crime,Horror,Romance|\", \"Crime,Romance,Thriller|\", \"Fantasy,Horror,Sci-Fi|\", \"Comedy,Documentary,Drama|\", \"Drama,Family,Music|\", \"Action,Adventure,Biography|\", \"Documentary,History,War|\", \"Drama,Musical|\", \"Drama,Family,Fantasy|\", \"Action,Drama,Western|\", \"Drama,History,Sport|\", \"Adventure,Sci-Fi,Thriller|\", \"Biography,Documentary,Family|\", \"Drama,Family,Sci-Fi|\", \"Documentary,Family,History|\", \"Drama,Family,Mystery|\", \"Adventure,Biography,Crime|\", \"Comedy,Crime,Family|\", \"Adventure,Animation,Fantasy|\", \"Horror,War|\", \"Biography,Drama,Fantasy|\", \"Drama,Fantasy,Thriller|\", \"Biography|\", \"Action,Thriller,Western|\", \"Action,Horror,Romance|\", \"Adventure,Biography|\", \"Romance,War|\", \"Thriller,War|\", \"Crime,Drama,Fantasy|\", \"Action,Mystery|\", \"Crime,Documentary,History|\", \"Crime,Mystery|\", \"Adventure,Sci-Fi|\", \"Family,Fantasy,Musical|\", \"Documentary,Thriller|\"], \"type\": \"scatter\", \"x\": [0.18173253527958283, -0.2081515320305943, -0.1055752853944546, 0.10649246073640947, -0.07524052115549235, -0.09607209936377335, -0.16651054060294782, 0.4135799965691963, -0.13224173991466198, 0.5491035153731054, -0.04807086230826587, -0.022797595687704945, -0.17762920653057399, -0.12871454969226356, -0.1665257709300682, -0.1296074718095085, -0.12251135858066477, -0.10836778517477381, -0.1433931791170009, 0.07496884747137854, 0.26445243195860146, 0.17405375771104342, -0.1361031087004732, -0.11711082770635113, 0.033332254820996596, -0.1678071791694391, 0.07675534535080294, -0.09656290599677939, -0.17722798762022618, -0.09792723282715755, -0.1261814247802895, 0.03445226153066806, -0.142212319316859, -0.07545636040112198, -0.05825036925728803, 0.12452949860073001, -0.21902853821926271, 0.06087797549255033, -0.13968321797822458, -0.1471511151527523, 0.018326216700639646, -0.012666253822146648, -0.09513260606480302, 0.5018710797877042, -0.11821117146154637, -0.006136693473207672, 0.18325694525327532, -0.13194198381477948, 0.11506545600732747, -0.08418973206219756, -0.20581954672759936, 0.04814693783391996, -0.16400311201111012, -0.14918440224696894, -0.07550537136354889, 0.027904744908096645, -0.1525915987794065, 0.13884451982601184, -0.21498389814160557, -0.08840545298785034, -0.12862314723564547, -0.2292386742684558, -0.04024889729267121, -0.03851594084914386, -0.09806278283414452, -0.1132878438980795, -0.08219768939085466, -0.1783288628571918, -0.18757579874891944, 0.039568518785360045, 0.048584116225049975, 0.46459047796387165, 0.304384391287855, 0.0955569432791143, 0.3558440896414432, -0.023082550732438225, -0.03435496287384409, -0.12266058433730609, 0.2801072705142908, 0.0726474991922578, -0.1882486284822408, -0.004158642879102056, 0.07137140923622588, -0.15921856037372006, -0.0497417647003614, -0.10356954113666778, -0.2043982821794946, 0.04025851575985709, -0.06345486378107927, -0.01403992728969148, -0.05428707185169062, -0.12064939280350813, -0.10084299056397246, 0.7545257900422037, 0.04387023045076956, -0.07817016397320636, -0.1316480107771418, -0.20146920782582112, -0.21779495539000238, 0.010595373252445119, -0.03172722534106489, -0.15826081212946194, -0.007123224674654437, -0.16598285745499058, 0.13376299028848268, -0.01144381060512498, -0.11506236949735632, -0.06607205994823763, -0.19692885236460553, 0.10587634918108865, -0.1367374589070557, -0.17176481885142633, -0.052626015744078575, 0.10915412450186548, -0.14000283382026787, -0.09226722355102253, 0.041689464471979784, -0.23380951281238238, -0.12748846611137898, -0.1263951400909352, -0.043852899268452414, -0.18687494586382092, -0.04335937330545772, -0.030404328203816427, 0.14160364021053148, -0.12770390718269647, -0.11881037081404536, -0.1913686682061507, -0.24551913802147385, -0.07320296706957675, -0.06839471999439868, -0.09346751888503949, -0.005997474017773115, 0.017897781432038688, -0.1351389300403967, 0.3118459224006592, -0.26605520581581527, -0.07568354912557405, -0.20501953524764838, -0.11017272892231066, 0.10439086246076021, 0.30757906680009967, 0.15480659239624817, -0.12702493245655155, -0.0175988760952897, -0.05660030277224729, -0.1271098816321176, 0.08216762363998628, 0.14175247053321594, -0.07961021031014506, -0.06583096604870992, -0.09941278095744091, 0.046512908523264805, -0.04479727291786319, -0.03384873706372537, -0.0917819370891617, -0.0010612220650551571, -0.2027657759960536, -0.02607402000931703, 0.43136243482175574, -0.18689011825160717, -0.06453584679628971, 0.2962788783566435, 0.010761252777638446, 0.05117541571614744, 0.22318361386540805, -0.016785220195250618, -0.1425894174266584, 0.15488079134469906, -0.1384090623704746, -0.16268700695225413, -0.16141680122744198, -0.06998487433701059, -0.020612982070034085, 0.06529990479252638, -0.17772088180989662, -0.07623308710827274, -0.11800927425038307, -0.04533041812939118, -0.16962206525677526, 0.36125401730295936, -0.12407175709186223, 0.3610166124968771, -0.16204979738480704, -0.11420738598761614, 0.05931297220589641, 0.07379447336019865, -0.10419369412073771, 0.10690096383433649, -0.10514830751998941, 0.15602761383871178, -0.03482077024532933, 0.11939792900086021, 0.08206150249885256, -0.1392940623719573, -0.08160963335776582, 0.01655216652266902, -0.012063778905958061, -0.029249489615490017, 0.2169602078033614, -0.17303455545650465, 0.21581092263574703, 0.2502804005840519, -0.011660670002491911, -0.18306936334154095, 0.45620525681969937, -0.041808538468663115, -0.14415790854222343, -0.06371167111412042, -0.05761781687251787, -0.15673992639819356, 0.057390876810151335, 0.33465017529685614, -0.1852972011856423, -0.09459459660175876, -0.025368410239376776, 0.015198174203817213, -0.23993774985349844, -0.26491910907536165, -0.2115488270463332, 0.05882348260096043, -0.23181038264574558, -0.15135284829508708, 0.11347002744325903, 0.030828377993817217, -0.133918377454295, -0.09116017142546028, 0.0019096873001277538, 0.12535226875907088, -0.14859211823762355, 0.3536775431099871, -0.06782954528823018, -0.0714832519368491, -0.002647790810339901, 0.04065130913759611, -0.08295849697735119, -0.19109971565535583, -0.0028395836132123716, -0.11264621690526895, -0.14632403448181233, 0.09852121232640301, 0.07453987845160279, 0.05875349577596109, -0.272072898310147, 0.35553939948840707, -0.08019623430304468, -0.013426273647989552, -0.06318347906194668, -0.13613511517757046, -0.05586436856877855, -0.032518143044475485, -0.24379607717763938, 0.110385873048778, 0.3622289685180443, 0.055429810045681746, -0.05439510518746495, -0.007970583750182529, -0.1298416768312573, -0.22461029847121908, -0.20275249543890878, 0.4551342396392538, -0.12109826303691677, -0.14447066165987082, -0.07416707118728906, 0.04722310483459845, 0.17007540264633303, -0.11151499705085642, 0.14545112397346216, -0.13729140578572832, 0.25005302459767675, -0.17733418933442538, 0.480818623515489, 0.016876243760616624, 0.30341117156333225, -0.01894030222569438, -0.1873551161021372, 0.4034140504975219, 0.5792717565051676, 0.10103493327533848, 0.06256911043735063, -0.07374268817974956, -0.07575905938151484, -0.11684285862460228, -0.16474134937415646, -0.046351770744806356, 0.01288725047070792, -0.036417764338053604, -0.09216654481428657, -0.20152207119707094, -0.30533731410395737, -0.09997006049240116, -0.23750954466433044, -0.21324274090861073, 0.21541674439341232, 0.47887255149285246, 0.11236550258604254, 0.052608627435514296, 0.5741296197994022, 0.010706915167867063, 0.2496635012722934, 0.3860255069137031, 0.08996137700823513, 0.605067988712408, 0.49024922708539775, -0.03860516025006082, -0.07436204797847956, -0.1767857732004835, 0.38675322688512664, -0.16139159037643985, 0.09361946701445503, -0.07960361593979338, -0.19350133756743143, -0.14333572263043456, -0.16984280647142896, 0.27625442660085825, -0.07452850208012426, 0.05107651245706188, -0.17328893372668525, 0.14851976231594474, -0.14430198119512191, 0.22589613590264732, -0.27429481119952226, 0.11178684643115411, 0.6872866640579697, 0.2878444119855386, 0.26277905233221516, 0.1853641154977386, -0.0883748110643018, -0.01717636560053865, -0.08482314901811919, 0.3229787630377322, 0.4732748989853106, 0.07214146876213291, -0.12215213588880396, -0.060951469982541716, 0.15469871854680753, 0.004471818333990202, -0.038921657072224274, 0.016856518530512666, -0.01339809440657397, -0.012928666639569115, 0.17536214297953356, 0.015365541943033505, -0.06452613631047019, 0.010038644483751202, -0.19756902803532495, 0.07677009548629324, 0.6792484892508532, 0.14261129492164965, 0.2537101662410408, 0.2767464625137738, 0.08055409687036667], \"y\": [-0.03898433951336952, 0.056043256883665425, 0.04925050117254392, -0.07564363798768738, -0.059862177147308494, -0.03184110820538362, 0.004390467127329381, 0.019582027142496985, -0.03814678228861351, 0.1409335195107243, 0.13900772390696942, -0.03396522115151793, -0.08793043959200063, -0.0825570831093391, 0.038144815636462326, -0.0056608944988512724, 0.011530196967317158, -0.032580034935703175, 0.010937705858298775, -0.20658804069060124, 0.18561218457364886, -0.07479958133553559, -0.09134080037493457, 0.04203543117868662, -0.05977994236465434, 0.06621229159551245, 0.06044386051435898, -0.057554203143898884, -0.08719879724556664, -0.05414062185129851, -0.12778371520190074, 0.11214496771243793, -0.1685710269003777, 0.00290644519870814, 0.07326386360777608, -0.12161374218798751, 0.039149804559408787, -0.0017685330366802793, -0.0801210661941659, 0.05840502451788094, -0.08804663348034487, -0.022331736921329687, -0.005312326015838259, -0.018853796336247612, -0.0013068838982728513, 0.04947135915730929, -0.19955459510635462, -0.04621292203177211, -0.02940834325430049, -0.14336862782741977, -0.060976666573487784, 0.26861434979461285, -0.13879337501894518, 0.07128804009258609, -0.026026896158865387, -0.03157253795243022, -0.029120794413623884, 0.09448972696042839, -0.03966802882771556, 0.06311483150855804, 0.137981951292467, 0.035036371339497954, -0.002095190040544417, 0.04518209865446196, -0.04794442503766442, -0.08614157273748899, 0.021800574593319345, 0.10186151137740024, 0.08970414569127912, 0.3974915292371101, -0.0655317141223796, 0.042673511720631885, 0.3967239083196902, -0.06505720877592745, -0.20813460039662793, 0.3397792216692826, -0.09056017601872132, -0.08759213703125077, 0.009238034021074397, -0.027994402230887255, -0.18243619515099987, -0.020578398828022062, -0.10244064472583235, 0.20033642849547195, -0.11535717469416731, -0.11420007821629513, -0.06674162746019881, -0.04363987600398121, -0.03757696598731723, 0.03291199675101464, 0.0323178299102598, -0.05057572746122461, -0.036269378833391604, -0.009839940579451485, -0.042796183806989886, -0.1006222898373294, -0.10682266192239659, -0.10469945699008006, 0.09028913617109614, -0.10443429031562924, -0.12209155409717154, 0.14020827954017362, -0.1491725530874998, -0.0327829346430976, -0.0849635829603134, 0.11003409939509813, -0.034132423496239434, -0.07722253797689443, 0.01911230527707282, -0.09022560490566701, 0.06264026656912877, 0.011084991983077575, 0.03265830393581113, -0.20467019907891837, 0.10111235613348159, -0.028257088081160012, 0.003013116843201197, -0.024136182806988454, -0.10207855086805426, 0.38069523773441133, 0.011257051207642293, 0.04299973593550073, 0.13286424953917286, 0.23872545231787223, 0.04438281806715545, -0.12078991875716968, -0.010062596360619002, 0.2219720262142374, 0.049069808503931125, -0.044654515102884845, -0.020936917326434157, -0.27053794329357694, -0.2011756756765152, -0.08447274626518644, -0.0018398478649647788, 0.07672568263802251, 0.05006394378881919, -0.14563460877945147, -0.009481108163465807, -0.1249203745339352, 0.3091571493760781, -0.09448072218889218, 0.0072312073328533386, -0.12488436424587132, 0.24502637606750263, 0.2500171997398939, -0.14542849732887161, -0.06642002797698407, -0.0816627429545145, -0.11938609577561904, 0.03167532202381794, 0.04324333163804157, -0.03877630449193654, 0.03648156588869163, -0.14326727744017692, -0.17527034252218718, -0.2826103741360633, 0.05127562832304791, 0.04307762231810963, 0.14837731257640846, -0.035365374123250984, 0.18791786217066975, -0.044146260689976055, 0.05098587547123182, 0.06376590878767027, -0.04172863885034833, 0.07809190145352235, -0.1514904040702954, 0.1491677148148956, -0.09241753730368808, 0.16931440351157825, -0.26400126566910753, -0.06745457311190062, 0.03612121456311889, -0.07758282367434666, -0.11467847194041886, 0.07490970541265181, -0.03940234788700982, 0.012901900044205047, 0.23837196235475347, -0.07126124984027259, 0.055645903951778604, -0.03728273053679989, -0.012963430637327892, 0.16780907155697, 0.05898459645517981, 0.16420639508319884, -0.09419908269025082, -0.15314584314778748, 0.038592197111923354, -0.04679413880522267, -0.09478745295738766, 0.13091394858119149, -0.006469343068648999, 0.04914187620399481, -0.006855263429374163, 0.10084326116079828, 0.12214500932327463, -0.05032795817080631, 0.07192245226220421, -0.036135033899203826, -0.03621734559978884, 0.06857576875867574, -0.03967246056018035, -0.04363903429185867, 0.04722982888578132, 0.18755771154700604, -0.03992038481077393, 0.15497070361223647, -0.050004041315296954, -0.11446833260980628, -0.04434647268270582, 0.3810735442018455, 0.05684589998544046, 0.003603056393750019, 0.10900072688976391, -0.16560610091134748, 0.07370008312632466, 0.015431599230963003, 0.023616382956681337, -0.23821457168300902, -0.04298628558179136, -0.07820987824493224, 0.21126896088243333, -0.11074798014582789, 0.024098492768914223, -0.0035080815307769082, 0.03482556623587183, -0.04844687731219914, -0.1941993116097876, -0.04386793441516701, 0.21525037149871035, -0.11632911376587246, 0.03665767080377992, -0.001577853892753784, -0.13957923304962627, 0.22054941643208076, 0.08874315736093492, -0.18496339402872128, 0.1134440037532579, -0.17167261555743207, 0.1286815401489889, -0.03000309655280512, 0.19815295531921048, -0.0802132956930899, 0.1277999813994854, -0.07265600028719042, -0.1444045476786638, -0.0033498274957724085, -0.2332048155817645, -0.13064854482091576, 0.11264949893149762, -0.06714305629709792, -0.13914673441356717, 0.16353309417767994, 0.010923498026919354, 0.060683215575611335, -0.030308660457033378, -0.07541709639746011, -0.0943532943970663, 0.022492249862014906, -0.044665143900852855, -0.1424323407618191, 0.18654951790687138, 0.060902546435820534, -0.005395971725015577, -0.02983843608807566, -0.023047256968530667, 0.17414260796299152, -0.19204757988454024, -0.11996506200705254, -0.04242125415013321, 0.10296175155138258, -0.13689941798620475, 0.0587784940834098, -0.005158257494594354, 0.1122185134538265, 0.4186989836631824, -0.08699496724429989, -0.20515638487664262, 0.11608924267596, -0.08129429630464094, 0.027972063891695067, -0.08306644648088027, -0.07966715231647618, -0.12950926284105038, 0.1561550185864644, 0.11255997416358608, -0.0013174746562132653, 0.17898818696568278, 0.24277297763342473, 0.10160643364475194, 0.07201718797951814, -0.13317288985195194, 0.019498140810133083, 0.1640046512527579, 0.06988536938519276, 0.04691477140356499, 0.20158816066357205, -0.06797848897746617, -0.1303044076447714, 0.09878947264803832, -0.0011076842546006544, -0.14889607141979125, -0.0558491776580495, -0.29278244751163657, 0.3070391376538422, -0.06359446651805883, -0.07269594633205603, -0.0696656931021418, -0.23203348897918805, 0.03854600379317585, 0.11268952155411646, -0.11310968455678728, 0.5092493101560407, -0.011373745418049292, -0.07164460918891992, -0.015487184294857714, 0.09685150861863066, 0.12956341078227837, -0.02393213933272927, 0.12442024959708078, -0.09717799807636547, -0.026642471620466332, -0.10938531576936962, -0.028712635946345485, -0.10661277158775827, 0.24455177499178365, -0.18968946465461947, 0.14774378300183866, -0.24195570765515703, 0.002691784895556631, -0.03456298484260715, -0.16188467932424544, 0.4972281117389839, -0.09192007633774929, -0.030511472526046655, 0.0660643787019112, -0.131545747150855, 0.3087820136467537, 0.013280215201038642, -0.035610268027909155, 0.14980815903869277, -0.17115393790819078, -0.2904777632314246, 0.04041082955337902, 0.07489786136919657, 0.01618452931045598, -0.0458366973572412, -0.10017964073048308, -0.06584223464008608, 0.05452480471965277]}],\n",
       "                        {\"template\": {\"data\": {\"bar\": [{\"error_x\": {\"color\": \"#2a3f5f\"}, \"error_y\": {\"color\": \"#2a3f5f\"}, \"marker\": {\"line\": {\"color\": \"#E5ECF6\", \"width\": 0.5}}, \"type\": \"bar\"}], \"barpolar\": [{\"marker\": {\"line\": {\"color\": \"#E5ECF6\", \"width\": 0.5}}, \"type\": \"barpolar\"}], \"carpet\": [{\"aaxis\": {\"endlinecolor\": \"#2a3f5f\", \"gridcolor\": \"white\", \"linecolor\": \"white\", \"minorgridcolor\": \"white\", \"startlinecolor\": \"#2a3f5f\"}, \"baxis\": {\"endlinecolor\": \"#2a3f5f\", \"gridcolor\": \"white\", \"linecolor\": \"white\", \"minorgridcolor\": \"white\", \"startlinecolor\": \"#2a3f5f\"}, \"type\": \"carpet\"}], \"choropleth\": [{\"colorbar\": {\"outlinewidth\": 0, \"ticks\": \"\"}, \"type\": \"choropleth\"}], \"contour\": [{\"colorbar\": {\"outlinewidth\": 0, \"ticks\": \"\"}, \"colorscale\": [[0.0, \"#0d0887\"], [0.1111111111111111, \"#46039f\"], [0.2222222222222222, \"#7201a8\"], [0.3333333333333333, \"#9c179e\"], [0.4444444444444444, \"#bd3786\"], [0.5555555555555556, \"#d8576b\"], [0.6666666666666666, \"#ed7953\"], [0.7777777777777778, \"#fb9f3a\"], [0.8888888888888888, \"#fdca26\"], [1.0, \"#f0f921\"]], \"type\": \"contour\"}], \"contourcarpet\": [{\"colorbar\": {\"outlinewidth\": 0, \"ticks\": \"\"}, \"type\": \"contourcarpet\"}], \"heatmap\": [{\"colorbar\": {\"outlinewidth\": 0, \"ticks\": \"\"}, \"colorscale\": [[0.0, \"#0d0887\"], [0.1111111111111111, \"#46039f\"], [0.2222222222222222, \"#7201a8\"], [0.3333333333333333, \"#9c179e\"], [0.4444444444444444, \"#bd3786\"], [0.5555555555555556, \"#d8576b\"], [0.6666666666666666, \"#ed7953\"], [0.7777777777777778, \"#fb9f3a\"], [0.8888888888888888, \"#fdca26\"], [1.0, \"#f0f921\"]], \"type\": \"heatmap\"}], \"heatmapgl\": [{\"colorbar\": {\"outlinewidth\": 0, \"ticks\": \"\"}, \"colorscale\": [[0.0, \"#0d0887\"], [0.1111111111111111, \"#46039f\"], [0.2222222222222222, \"#7201a8\"], [0.3333333333333333, \"#9c179e\"], [0.4444444444444444, \"#bd3786\"], [0.5555555555555556, \"#d8576b\"], [0.6666666666666666, \"#ed7953\"], [0.7777777777777778, \"#fb9f3a\"], [0.8888888888888888, \"#fdca26\"], [1.0, \"#f0f921\"]], \"type\": \"heatmapgl\"}], \"histogram\": [{\"marker\": {\"colorbar\": {\"outlinewidth\": 0, \"ticks\": \"\"}}, \"type\": \"histogram\"}], \"histogram2d\": [{\"colorbar\": {\"outlinewidth\": 0, \"ticks\": \"\"}, \"colorscale\": [[0.0, \"#0d0887\"], [0.1111111111111111, \"#46039f\"], [0.2222222222222222, \"#7201a8\"], [0.3333333333333333, \"#9c179e\"], [0.4444444444444444, \"#bd3786\"], [0.5555555555555556, \"#d8576b\"], [0.6666666666666666, \"#ed7953\"], [0.7777777777777778, \"#fb9f3a\"], [0.8888888888888888, \"#fdca26\"], [1.0, \"#f0f921\"]], \"type\": \"histogram2d\"}], \"histogram2dcontour\": [{\"colorbar\": {\"outlinewidth\": 0, \"ticks\": \"\"}, \"colorscale\": [[0.0, \"#0d0887\"], [0.1111111111111111, \"#46039f\"], [0.2222222222222222, \"#7201a8\"], [0.3333333333333333, \"#9c179e\"], [0.4444444444444444, \"#bd3786\"], [0.5555555555555556, \"#d8576b\"], [0.6666666666666666, \"#ed7953\"], [0.7777777777777778, \"#fb9f3a\"], [0.8888888888888888, \"#fdca26\"], [1.0, \"#f0f921\"]], \"type\": \"histogram2dcontour\"}], \"mesh3d\": [{\"colorbar\": {\"outlinewidth\": 0, \"ticks\": \"\"}, \"type\": \"mesh3d\"}], \"parcoords\": [{\"line\": {\"colorbar\": {\"outlinewidth\": 0, \"ticks\": \"\"}}, \"type\": \"parcoords\"}], \"pie\": [{\"automargin\": true, \"type\": \"pie\"}], \"scatter\": [{\"marker\": {\"colorbar\": {\"outlinewidth\": 0, \"ticks\": \"\"}}, \"type\": \"scatter\"}], \"scatter3d\": [{\"line\": {\"colorbar\": {\"outlinewidth\": 0, \"ticks\": \"\"}}, \"marker\": {\"colorbar\": {\"outlinewidth\": 0, \"ticks\": \"\"}}, \"type\": \"scatter3d\"}], \"scattercarpet\": [{\"marker\": {\"colorbar\": {\"outlinewidth\": 0, \"ticks\": \"\"}}, \"type\": \"scattercarpet\"}], \"scattergeo\": [{\"marker\": {\"colorbar\": {\"outlinewidth\": 0, \"ticks\": \"\"}}, \"type\": \"scattergeo\"}], \"scattergl\": [{\"marker\": {\"colorbar\": {\"outlinewidth\": 0, \"ticks\": \"\"}}, \"type\": \"scattergl\"}], \"scattermapbox\": [{\"marker\": {\"colorbar\": {\"outlinewidth\": 0, \"ticks\": \"\"}}, \"type\": \"scattermapbox\"}], \"scatterpolar\": [{\"marker\": {\"colorbar\": {\"outlinewidth\": 0, \"ticks\": \"\"}}, \"type\": \"scatterpolar\"}], \"scatterpolargl\": [{\"marker\": {\"colorbar\": {\"outlinewidth\": 0, \"ticks\": \"\"}}, \"type\": \"scatterpolargl\"}], \"scatterternary\": [{\"marker\": {\"colorbar\": {\"outlinewidth\": 0, \"ticks\": \"\"}}, \"type\": \"scatterternary\"}], \"surface\": [{\"colorbar\": {\"outlinewidth\": 0, \"ticks\": \"\"}, \"colorscale\": [[0.0, \"#0d0887\"], [0.1111111111111111, \"#46039f\"], [0.2222222222222222, \"#7201a8\"], [0.3333333333333333, \"#9c179e\"], [0.4444444444444444, \"#bd3786\"], [0.5555555555555556, \"#d8576b\"], [0.6666666666666666, \"#ed7953\"], [0.7777777777777778, \"#fb9f3a\"], [0.8888888888888888, \"#fdca26\"], [1.0, \"#f0f921\"]], \"type\": \"surface\"}], \"table\": [{\"cells\": {\"fill\": {\"color\": \"#EBF0F8\"}, \"line\": {\"color\": \"white\"}}, \"header\": {\"fill\": {\"color\": \"#C8D4E3\"}, \"line\": {\"color\": \"white\"}}, \"type\": \"table\"}]}, \"layout\": {\"annotationdefaults\": {\"arrowcolor\": \"#2a3f5f\", \"arrowhead\": 0, \"arrowwidth\": 1}, \"coloraxis\": {\"colorbar\": {\"outlinewidth\": 0, \"ticks\": \"\"}}, \"colorscale\": {\"diverging\": [[0, \"#8e0152\"], [0.1, \"#c51b7d\"], [0.2, \"#de77ae\"], [0.3, \"#f1b6da\"], [0.4, \"#fde0ef\"], [0.5, \"#f7f7f7\"], [0.6, \"#e6f5d0\"], [0.7, \"#b8e186\"], [0.8, \"#7fbc41\"], [0.9, \"#4d9221\"], [1, \"#276419\"]], \"sequential\": [[0.0, \"#0d0887\"], [0.1111111111111111, \"#46039f\"], [0.2222222222222222, \"#7201a8\"], [0.3333333333333333, \"#9c179e\"], [0.4444444444444444, \"#bd3786\"], [0.5555555555555556, \"#d8576b\"], [0.6666666666666666, \"#ed7953\"], [0.7777777777777778, \"#fb9f3a\"], [0.8888888888888888, \"#fdca26\"], [1.0, \"#f0f921\"]], \"sequentialminus\": [[0.0, \"#0d0887\"], [0.1111111111111111, \"#46039f\"], [0.2222222222222222, \"#7201a8\"], [0.3333333333333333, \"#9c179e\"], [0.4444444444444444, \"#bd3786\"], [0.5555555555555556, \"#d8576b\"], [0.6666666666666666, \"#ed7953\"], [0.7777777777777778, \"#fb9f3a\"], [0.8888888888888888, \"#fdca26\"], [1.0, \"#f0f921\"]]}, \"colorway\": [\"#636efa\", \"#EF553B\", \"#00cc96\", \"#ab63fa\", \"#FFA15A\", \"#19d3f3\", \"#FF6692\", \"#B6E880\", \"#FF97FF\", \"#FECB52\"], \"font\": {\"color\": \"#2a3f5f\"}, \"geo\": {\"bgcolor\": \"white\", \"lakecolor\": \"white\", \"landcolor\": \"#E5ECF6\", \"showlakes\": true, \"showland\": true, \"subunitcolor\": \"white\"}, \"hoverlabel\": {\"align\": \"left\"}, \"hovermode\": \"closest\", \"mapbox\": {\"style\": \"light\"}, \"paper_bgcolor\": \"white\", \"plot_bgcolor\": \"#E5ECF6\", \"polar\": {\"angularaxis\": {\"gridcolor\": \"white\", \"linecolor\": \"white\", \"ticks\": \"\"}, \"bgcolor\": \"#E5ECF6\", \"radialaxis\": {\"gridcolor\": \"white\", \"linecolor\": \"white\", \"ticks\": \"\"}}, \"scene\": {\"xaxis\": {\"backgroundcolor\": \"#E5ECF6\", \"gridcolor\": \"white\", \"gridwidth\": 2, \"linecolor\": \"white\", \"showbackground\": true, \"ticks\": \"\", \"zerolinecolor\": \"white\"}, \"yaxis\": {\"backgroundcolor\": \"#E5ECF6\", \"gridcolor\": \"white\", \"gridwidth\": 2, \"linecolor\": \"white\", \"showbackground\": true, \"ticks\": \"\", \"zerolinecolor\": \"white\"}, \"zaxis\": {\"backgroundcolor\": \"#E5ECF6\", \"gridcolor\": \"white\", \"gridwidth\": 2, \"linecolor\": \"white\", \"showbackground\": true, \"ticks\": \"\", \"zerolinecolor\": \"white\"}}, \"shapedefaults\": {\"line\": {\"color\": \"#2a3f5f\"}}, \"ternary\": {\"aaxis\": {\"gridcolor\": \"white\", \"linecolor\": \"white\", \"ticks\": \"\"}, \"baxis\": {\"gridcolor\": \"white\", \"linecolor\": \"white\", \"ticks\": \"\"}, \"bgcolor\": \"#E5ECF6\", \"caxis\": {\"gridcolor\": \"white\", \"linecolor\": \"white\", \"ticks\": \"\"}}, \"title\": {\"x\": 0.05}, \"xaxis\": {\"automargin\": true, \"gridcolor\": \"white\", \"linecolor\": \"white\", \"ticks\": \"\", \"title\": {\"standoff\": 15}, \"zerolinecolor\": \"white\", \"zerolinewidth\": 2}, \"yaxis\": {\"automargin\": true, \"gridcolor\": \"white\", \"linecolor\": \"white\", \"ticks\": \"\", \"title\": {\"standoff\": 15}, \"zerolinecolor\": \"white\", \"zerolinewidth\": 2}}}},\n",
       "                        {\"responsive\": true}\n",
       "                    ).then(function(){\n",
       "                            \n",
       "var gd = document.getElementById('6f40f63c-2c5f-4cc9-aa58-5b34d9385eb4');\n",
       "var x = new MutationObserver(function (mutations, observer) {{\n",
       "        var display = window.getComputedStyle(gd).display;\n",
       "        if (!display || display === 'none') {{\n",
       "            console.log([gd, 'removed!']);\n",
       "            Plotly.purge(gd);\n",
       "            observer.disconnect();\n",
       "        }}\n",
       "}});\n",
       "\n",
       "// Listen for the removal of the full notebook cells\n",
       "var notebookContainer = gd.closest('#notebook-container');\n",
       "if (notebookContainer) {{\n",
       "    x.observe(notebookContainer, {childList: true});\n",
       "}}\n",
       "\n",
       "// Listen for the clearing of the current output cell\n",
       "var outputEl = gd.closest('.output');\n",
       "if (outputEl) {{\n",
       "    x.observe(outputEl, {childList: true});\n",
       "}}\n",
       "\n",
       "                        })\n",
       "                };\n",
       "                });\n",
       "            </script>\n",
       "        </div>"
      ]
     },
     "metadata": {},
     "output_type": "display_data"
    }
   ],
   "source": [
    "import plotly.graph_objects as go\n",
    "import plotly.express as px\n",
    "text_data = [\n",
    "    f'{row.genre}|'\n",
    "    for index, row in df_genre.iterrows()\n",
    "]\n",
    "fig = go.Figure(data=go.Scatter(x=X_tf[:, 0],\n",
    "                                y=X_tf[:, 1],\n",
    "                                mode='markers',\n",
    "                                text=text_data))\n",
    "fig.show()"
   ]
  },
  {
   "cell_type": "markdown",
   "metadata": {},
   "source": [
    "## Hierarchisches Cluster mit zusammengefassten Genres"
   ]
  },
  {
   "cell_type": "code",
   "execution_count": 26,
   "metadata": {},
   "outputs": [],
   "source": [
    "df_genre_sample = df_genre.sample(frac=0.2)"
   ]
  },
  {
   "cell_type": "code",
   "execution_count": 27,
   "metadata": {},
   "outputs": [],
   "source": [
    "tfidf = TfidfVectorizer(max_features=10000, stop_words=stop_words)\n",
    "df_genre_token = tfidf.fit_transform(df_genre_sample.text)\n",
    "\n",
    "hier_model = AgglomerativeClustering(n_clusters=None, distance_threshold=0).fit(df_genre_token.todense())"
   ]
  },
  {
   "cell_type": "code",
   "execution_count": 28,
   "metadata": {},
   "outputs": [
    {
     "data": {
      "image/png": "[encoded data removed]",
      "text/plain": [
       "<Figure size 1080x576 with 1 Axes>"
      ]
     },
     "metadata": {
      "needs_background": "light"
     },
     "output_type": "display_data"
    }
   ],
   "source": [
    "lmatrix = linkage_matrix(df_genre_token.shape[0], hier_model.children_, hier_model.distances_)\n",
    "plt.figure(figsize=(15,8))\n",
    "dendrogram(lmatrix, labels=df_genre_sample['genre'].values, leaf_font_size=10); #"
   ]
  },
  {
   "cell_type": "code",
   "execution_count": null,
   "metadata": {},
   "outputs": [],
   "source": []
  },
  {
   "cell_type": "code",
   "execution_count": null,
   "metadata": {},
   "outputs": [],
   "source": []
  }
 ],
 "metadata": {
  "kernelspec": {
   "display_name": "Python 3",
   "language": "python",
   "name": "python3"
  },
  "language_info": {
   "codemirror_mode": {
    "name": "ipython",
    "version": 3
   },
   "file_extension": ".py",
   "mimetype": "text/x-python",
   "name": "python",
   "nbconvert_exporter": "python",
   "pygments_lexer": "ipython3",
   "version": "3.7.4"
  }
 },
 "nbformat": 4,
 "nbformat_minor": 2
}
