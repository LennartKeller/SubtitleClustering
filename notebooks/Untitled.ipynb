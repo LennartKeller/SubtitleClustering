{
 "cells": [
  {
   "cell_type": "code",
   "execution_count": 1,
   "metadata": {},
   "outputs": [],
   "source": [
    "import pandas as pd"
   ]
  },
  {
   "cell_type": "code",
   "execution_count": 2,
   "metadata": {},
   "outputs": [
    {
     "name": "stderr",
     "output_type": "stream",
     "text": [
      "/Users/lennartkeller/opt/anaconda3/envs/clustering/lib/python3.8/site-packages/IPython/core/interactiveshell.py:3062: DtypeWarning: Columns (0,1,3,5,6,7,8,9,16) have mixed types.Specify dtype option on import or set low_memory=False.\n",
      "  has_raised = await self.run_ast_nodes(code_ast.body, cell_name,\n"
     ]
    }
   ],
   "source": [
    "df = pd.read_csv('../dataset/complete_dataset.csv')\n",
    "df.drop_duplicates(subset=['IMDB_ID'], inplace=True)\n",
    "df.dropna(subset=['text', 'year'], inplace=True)"
   ]
  },
  {
   "cell_type": "code",
   "execution_count": 3,
   "metadata": {},
   "outputs": [],
   "source": [
    "df = df[~df.text.apply(lambda x: len(x) < 500)]"
   ]
  },
  {
   "cell_type": "code",
   "execution_count": 275,
   "metadata": {},
   "outputs": [],
   "source": [
    "import re\n",
    "df['text_length'] = df.text.apply(lambda x: len(re.findall(r'\\w+', x)))"
   ]
  },
  {
   "cell_type": "code",
   "execution_count": 318,
   "metadata": {},
   "outputs": [],
   "source": [
    "import re\n",
    "remove_subcentral_annotation = re.compile(r'übersetzt von.+$', flags=re.I)\n",
    "remove_season_episode_annotation = re.compile(r's\\d+?e\\d+?', flags=re.I)\n",
    "remove_remove_season_episode_annotation_german = re.compile(r'staffel.+?episode', flags=re.I)\n",
    "remove_remove_season_episode_annotation_german_2 = re.compile(r'staffel.+?folge', flags=re.I)\n",
    "remove_subcentral_note = re.compile(r'subcentral.+ präsentiert', flags=re.I)\n",
    "remove_subtitle_statement = re.compile(r'Untertitel von.+$', flags=re.I)\n",
    "remove_netflix_original_statement = re.compile(r'EINE NETFLIX ORIGINAL SERIE', flags=re.I)\n",
    "remove_tvuser = re.compile(r'tv4user.+?präsentiert', flags=re.I)\n",
    "remove_tvuser_subcentral = re.compile(r'subcentral.+?tv4user', flags=re.I)\n",
    "remove_subcentral_url = re.compile(r'subcentral\\.de', flags=re.I)\n",
    "remove_tv4user_url = re.compile(r'tv4user\\.de', flags=re.I)\n",
    "remove_sub_statement = re.compile(r'subbed\\w+?by', flags=re.I)\n",
    "remove_tiger_statement = re.compile(r'übersetzung filmtiger', flags=re.I)\n",
    "\n",
    "for regex in (remove_subcentral_annotation,\n",
    "              remove_season_episode_annotation,\n",
    "              remove_remove_season_episode_annotation_german,\n",
    "              remove_remove_season_episode_annotation_german_2,\n",
    "              remove_subcentral_note,\n",
    "              remove_subtitle_statement,\n",
    "              remove_netflix_original_statement,\n",
    "              remove_tvuser,\n",
    "              remove_tvuser_subcentral,\n",
    "              remove_subcentral_url,\n",
    "              remove_tv4user_url,\n",
    "              remove_sub_statement,\n",
    "              remove_tiger_statement):\n",
    "    \n",
    "    df.text = df.text.str.replace(regex, '')"
   ]
  },
  {
   "cell_type": "code",
   "execution_count": 278,
   "metadata": {},
   "outputs": [],
   "source": [
    "from pathlib import Path\n",
    "import numpy as np\n",
    "def read_embeddings(embedding_file: str):\n",
    "    data = Path(embedding_file).read_text()\n",
    "    lines = data.split('\\n')\n",
    "    filenames = []\n",
    "    embeddings = []\n",
    "    for line in lines:\n",
    "        line_data = line.split(' ')\n",
    "        if len(line_data) >=2 :\n",
    "            filenames.append(line_data[0])\n",
    "            embeddings.append(list(map(float, line_data[1:])))\n",
    "    return np.asarray(filenames), np.asarray(embeddings)"
   ]
  },
  {
   "cell_type": "code",
   "execution_count": 279,
   "metadata": {},
   "outputs": [],
   "source": [
    "filenames, embeddings = read_embeddings('../dataset/embeddings_mean.txt')"
   ]
  },
  {
   "cell_type": "code",
   "execution_count": 280,
   "metadata": {},
   "outputs": [
    {
     "data": {
      "text/plain": [
       "107      6094543.xml\n",
       "109      3653850.xml\n",
       "110      6581015.xml\n",
       "111      6564964.xml\n",
       "112      4711374.xml\n",
       "            ...     \n",
       "61410    7057767.xml\n",
       "61411    7057760.xml\n",
       "61413    7057765.xml\n",
       "61414    7057793.xml\n",
       "61415    7063882.xml\n",
       "Name: filename, Length: 34310, dtype: object"
      ]
     },
     "execution_count": 280,
     "metadata": {},
     "output_type": "execute_result"
    }
   ],
   "source": [
    "df.filename"
   ]
  },
  {
   "cell_type": "code",
   "execution_count": 281,
   "metadata": {},
   "outputs": [
    {
     "data": {
      "text/html": [
       "<div>\n",
       "<style scoped>\n",
       "    .dataframe tbody tr th:only-of-type {\n",
       "        vertical-align: middle;\n",
       "    }\n",
       "\n",
       "    .dataframe tbody tr th {\n",
       "        vertical-align: top;\n",
       "    }\n",
       "\n",
       "    .dataframe thead th {\n",
       "        text-align: right;\n",
       "    }\n",
       "</style>\n",
       "<table border=\"1\" class=\"dataframe\">\n",
       "  <thead>\n",
       "    <tr style=\"text-align: right;\">\n",
       "      <th></th>\n",
       "      <th>filename</th>\n",
       "      <th>text</th>\n",
       "      <th>IMDB_ID</th>\n",
       "      <th>genre</th>\n",
       "      <th>year</th>\n",
       "      <th>production_region</th>\n",
       "      <th>corpus</th>\n",
       "      <th>duration</th>\n",
       "      <th>directors</th>\n",
       "      <th>writers</th>\n",
       "      <th>titleType</th>\n",
       "      <th>primaryTitle</th>\n",
       "      <th>originalTitle</th>\n",
       "      <th>isAdult</th>\n",
       "      <th>startYear</th>\n",
       "      <th>endYear</th>\n",
       "      <th>runtimeMinutes</th>\n",
       "      <th>averageRating</th>\n",
       "      <th>numVotes</th>\n",
       "      <th>text_length</th>\n",
       "    </tr>\n",
       "  </thead>\n",
       "  <tbody>\n",
       "    <tr>\n",
       "      <th>107</th>\n",
       "      <td>6094543.xml</td>\n",
       "      <td>Zuvor bei \" The Blacklist \" ... - Willst du de...</td>\n",
       "      <td>tt3276470</td>\n",
       "      <td>Crime,Drama,Mystery</td>\n",
       "      <td>1191.0</td>\n",
       "      <td>NaN</td>\n",
       "      <td>untokenisiert</td>\n",
       "      <td>43</td>\n",
       "      <td>nm0250267</td>\n",
       "      <td>nm0092578,nm0071299</td>\n",
       "      <td>tvEpisode</td>\n",
       "      <td>The Pavlovich Brothers (Nos. 119-122)</td>\n",
       "      <td>The Pavlovich Brothers (Nos. 119-122)</td>\n",
       "      <td>0.0</td>\n",
       "      <td>2014.0</td>\n",
       "      <td>NaN</td>\n",
       "      <td>43</td>\n",
       "      <td>8.6</td>\n",
       "      <td>1732.0</td>\n",
       "      <td>706</td>\n",
       "    </tr>\n",
       "    <tr>\n",
       "      <th>109</th>\n",
       "      <td>3653850.xml</td>\n",
       "      <td>[ Subtitles by Subturtles ] Du sollst nach Hau...</td>\n",
       "      <td>tt1175</td>\n",
       "      <td>Drama,Romance</td>\n",
       "      <td>1912.0</td>\n",
       "      <td>French</td>\n",
       "      <td>untokenisiert</td>\n",
       "      <td>NaN</td>\n",
       "      <td>NaN</td>\n",
       "      <td>NaN</td>\n",
       "      <td>NaN</td>\n",
       "      <td>NaN</td>\n",
       "      <td>NaN</td>\n",
       "      <td>NaN</td>\n",
       "      <td>NaN</td>\n",
       "      <td>NaN</td>\n",
       "      <td>NaN</td>\n",
       "      <td>NaN</td>\n",
       "      <td>NaN</td>\n",
       "      <td>4995</td>\n",
       "    </tr>\n",
       "    <tr>\n",
       "      <th>110</th>\n",
       "      <td>6581015.xml</td>\n",
       "      <td>HINTER DER LEIWAND Die Anwendung für die Arbei...</td>\n",
       "      <td>tt6414</td>\n",
       "      <td>Comedy,Romance,Short</td>\n",
       "      <td>1916.0</td>\n",
       "      <td>English</td>\n",
       "      <td>untokenisiert</td>\n",
       "      <td>30</td>\n",
       "      <td>NaN</td>\n",
       "      <td>NaN</td>\n",
       "      <td>NaN</td>\n",
       "      <td>NaN</td>\n",
       "      <td>NaN</td>\n",
       "      <td>NaN</td>\n",
       "      <td>NaN</td>\n",
       "      <td>NaN</td>\n",
       "      <td>NaN</td>\n",
       "      <td>NaN</td>\n",
       "      <td>NaN</td>\n",
       "      <td>125</td>\n",
       "    </tr>\n",
       "    <tr>\n",
       "      <th>111</th>\n",
       "      <td>6564964.xml</td>\n",
       "      <td>DER GRAF Maße : Hals 30 cm - Ohr - 4 cm Mounth...</td>\n",
       "      <td>tt6548</td>\n",
       "      <td>Comedy,Short</td>\n",
       "      <td>1916.0</td>\n",
       "      <td>English</td>\n",
       "      <td>untokenisiert</td>\n",
       "      <td>24</td>\n",
       "      <td>NaN</td>\n",
       "      <td>NaN</td>\n",
       "      <td>NaN</td>\n",
       "      <td>NaN</td>\n",
       "      <td>NaN</td>\n",
       "      <td>NaN</td>\n",
       "      <td>NaN</td>\n",
       "      <td>NaN</td>\n",
       "      <td>NaN</td>\n",
       "      <td>NaN</td>\n",
       "      <td>NaN</td>\n",
       "      <td>85</td>\n",
       "    </tr>\n",
       "    <tr>\n",
       "      <th>112</th>\n",
       "      <td>4711374.xml</td>\n",
       "      <td>DER TODESKUSS Kriminaldrama in drei Akten Kame...</td>\n",
       "      <td>tt6617</td>\n",
       "      <td>Comedy,Crime,Drama</td>\n",
       "      <td>1916.0</td>\n",
       "      <td>NaN</td>\n",
       "      <td>untokenisiert</td>\n",
       "      <td>60</td>\n",
       "      <td>NaN</td>\n",
       "      <td>NaN</td>\n",
       "      <td>NaN</td>\n",
       "      <td>NaN</td>\n",
       "      <td>NaN</td>\n",
       "      <td>NaN</td>\n",
       "      <td>NaN</td>\n",
       "      <td>NaN</td>\n",
       "      <td>NaN</td>\n",
       "      <td>NaN</td>\n",
       "      <td>NaN</td>\n",
       "      <td>642</td>\n",
       "    </tr>\n",
       "  </tbody>\n",
       "</table>\n",
       "</div>"
      ],
      "text/plain": [
       "        filename                                               text  \\\n",
       "107  6094543.xml  Zuvor bei \" The Blacklist \" ... - Willst du de...   \n",
       "109  3653850.xml  [ Subtitles by Subturtles ] Du sollst nach Hau...   \n",
       "110  6581015.xml  HINTER DER LEIWAND Die Anwendung für die Arbei...   \n",
       "111  6564964.xml  DER GRAF Maße : Hals 30 cm - Ohr - 4 cm Mounth...   \n",
       "112  4711374.xml  DER TODESKUSS Kriminaldrama in drei Akten Kame...   \n",
       "\n",
       "       IMDB_ID                 genre    year production_region         corpus  \\\n",
       "107  tt3276470   Crime,Drama,Mystery  1191.0               NaN  untokenisiert   \n",
       "109     tt1175         Drama,Romance  1912.0            French  untokenisiert   \n",
       "110     tt6414  Comedy,Romance,Short  1916.0           English  untokenisiert   \n",
       "111     tt6548          Comedy,Short  1916.0           English  untokenisiert   \n",
       "112     tt6617    Comedy,Crime,Drama  1916.0               NaN  untokenisiert   \n",
       "\n",
       "    duration  directors              writers  titleType  \\\n",
       "107       43  nm0250267  nm0092578,nm0071299  tvEpisode   \n",
       "109      NaN        NaN                  NaN        NaN   \n",
       "110       30        NaN                  NaN        NaN   \n",
       "111       24        NaN                  NaN        NaN   \n",
       "112       60        NaN                  NaN        NaN   \n",
       "\n",
       "                              primaryTitle  \\\n",
       "107  The Pavlovich Brothers (Nos. 119-122)   \n",
       "109                                    NaN   \n",
       "110                                    NaN   \n",
       "111                                    NaN   \n",
       "112                                    NaN   \n",
       "\n",
       "                             originalTitle  isAdult  startYear  endYear  \\\n",
       "107  The Pavlovich Brothers (Nos. 119-122)      0.0     2014.0      NaN   \n",
       "109                                    NaN      NaN        NaN      NaN   \n",
       "110                                    NaN      NaN        NaN      NaN   \n",
       "111                                    NaN      NaN        NaN      NaN   \n",
       "112                                    NaN      NaN        NaN      NaN   \n",
       "\n",
       "    runtimeMinutes  averageRating  numVotes  text_length  \n",
       "107             43            8.6    1732.0          706  \n",
       "109            NaN            NaN       NaN         4995  \n",
       "110            NaN            NaN       NaN          125  \n",
       "111            NaN            NaN       NaN           85  \n",
       "112            NaN            NaN       NaN          642  "
      ]
     },
     "execution_count": 281,
     "metadata": {},
     "output_type": "execute_result"
    }
   ],
   "source": [
    "df.head()"
   ]
  },
  {
   "cell_type": "code",
   "execution_count": 319,
   "metadata": {},
   "outputs": [],
   "source": [
    "movies = df[(df.titleType == 'movie') | (df.titleType == 'tvEpisode')].copy().sample(frac=0.5)"
   ]
  },
  {
   "cell_type": "code",
   "execution_count": 320,
   "metadata": {},
   "outputs": [
    {
     "data": {
      "text/plain": [
       "(8483, 20)"
      ]
     },
     "execution_count": 320,
     "metadata": {},
     "output_type": "execute_result"
    }
   ],
   "source": [
    "movies.shape"
   ]
  },
  {
   "cell_type": "code",
   "execution_count": 321,
   "metadata": {},
   "outputs": [
    {
     "data": {
      "text/html": [
       "<div>\n",
       "<style scoped>\n",
       "    .dataframe tbody tr th:only-of-type {\n",
       "        vertical-align: middle;\n",
       "    }\n",
       "\n",
       "    .dataframe tbody tr th {\n",
       "        vertical-align: top;\n",
       "    }\n",
       "\n",
       "    .dataframe thead th {\n",
       "        text-align: right;\n",
       "    }\n",
       "</style>\n",
       "<table border=\"1\" class=\"dataframe\">\n",
       "  <thead>\n",
       "    <tr style=\"text-align: right;\">\n",
       "      <th></th>\n",
       "      <th>count</th>\n",
       "      <th>mean</th>\n",
       "      <th>std</th>\n",
       "      <th>min</th>\n",
       "      <th>25%</th>\n",
       "      <th>50%</th>\n",
       "      <th>75%</th>\n",
       "      <th>max</th>\n",
       "    </tr>\n",
       "    <tr>\n",
       "      <th>titleType</th>\n",
       "      <th></th>\n",
       "      <th></th>\n",
       "      <th></th>\n",
       "      <th></th>\n",
       "      <th></th>\n",
       "      <th></th>\n",
       "      <th></th>\n",
       "      <th></th>\n",
       "    </tr>\n",
       "  </thead>\n",
       "  <tbody>\n",
       "    <tr>\n",
       "      <th>movie</th>\n",
       "      <td>1841.0</td>\n",
       "      <td>6044.779468</td>\n",
       "      <td>2870.509119</td>\n",
       "      <td>0.0</td>\n",
       "      <td>4291.00</td>\n",
       "      <td>5828.0</td>\n",
       "      <td>7469.0</td>\n",
       "      <td>47161.0</td>\n",
       "    </tr>\n",
       "    <tr>\n",
       "      <th>tvEpisode</th>\n",
       "      <td>6642.0</td>\n",
       "      <td>3000.967179</td>\n",
       "      <td>1919.597482</td>\n",
       "      <td>0.0</td>\n",
       "      <td>1222.25</td>\n",
       "      <td>3184.5</td>\n",
       "      <td>4364.0</td>\n",
       "      <td>14016.0</td>\n",
       "    </tr>\n",
       "  </tbody>\n",
       "</table>\n",
       "</div>"
      ],
      "text/plain": [
       "            count         mean          std  min      25%     50%     75%  \\\n",
       "titleType                                                                   \n",
       "movie      1841.0  6044.779468  2870.509119  0.0  4291.00  5828.0  7469.0   \n",
       "tvEpisode  6642.0  3000.967179  1919.597482  0.0  1222.25  3184.5  4364.0   \n",
       "\n",
       "               max  \n",
       "titleType           \n",
       "movie      47161.0  \n",
       "tvEpisode  14016.0  "
      ]
     },
     "execution_count": 321,
     "metadata": {},
     "output_type": "execute_result"
    }
   ],
   "source": [
    "movies.groupby('titleType').describe()['text_length']"
   ]
  },
  {
   "cell_type": "code",
   "execution_count": 322,
   "metadata": {},
   "outputs": [],
   "source": [
    "from sklearn.feature_extraction.text import TfidfVectorizer\n",
    "from stop_words import get_stop_words\n",
    "\n",
    "tfidf = TfidfVectorizer(max_features=5000, ngram_range=(2, 4), stop_words=get_stop_words('de'))\n",
    "\n",
    "X = tfidf.fit_transform(movies.text)"
   ]
  },
  {
   "cell_type": "code",
   "execution_count": 323,
   "metadata": {},
   "outputs": [],
   "source": [
    "from sklearn.decomposition import PCA\n",
    "from umap import UMAP\n",
    "\n",
    "reducer = PCA(n_components=2)\n",
    "\n",
    "Xr = reducer.fit_transform(X.todense())"
   ]
  },
  {
   "cell_type": "code",
   "execution_count": 324,
   "metadata": {},
   "outputs": [
    {
     "data": {
      "text/plain": [
       "<matplotlib.axes._subplots.AxesSubplot at 0x7fc73d24edf0>"
      ]
     },
     "execution_count": 324,
     "metadata": {},
     "output_type": "execute_result"
    },
    {
     "data": {
      "image/png": "[encoded data removed]",
      "text/plain": [
       "<Figure size 432x288 with 1 Axes>"
      ]
     },
     "metadata": {
      "needs_background": "light"
     },
     "output_type": "display_data"
    }
   ],
   "source": [
    "import seaborn as sns\n",
    "\n",
    "sns.scatterplot(x=Xr[:,0], y=Xr[:,1], hue=movies.titleType)"
   ]
  },
  {
   "cell_type": "code",
   "execution_count": 332,
   "metadata": {},
   "outputs": [
    {
     "ename": "ValueError",
     "evalue": "blocks[0,:] has incompatible row dimensions. Got blocks[0,1].shape[0] == 1, expected 8483.",
     "output_type": "error",
     "traceback": [
      "\u001b[0;31m---------------------------------------------------------------------------\u001b[0m",
      "\u001b[0;31mValueError\u001b[0m                                Traceback (most recent call last)",
      "\u001b[0;32m<ipython-input-332-a9e43488cc7a>\u001b[0m in \u001b[0;36m<module>\u001b[0;34m\u001b[0m\n\u001b[1;32m      4\u001b[0m \u001b[0;32mfrom\u001b[0m \u001b[0mscipy\u001b[0m\u001b[0;34m.\u001b[0m\u001b[0msparse\u001b[0m \u001b[0;32mimport\u001b[0m \u001b[0mhstack\u001b[0m\u001b[0;34m\u001b[0m\u001b[0;34m\u001b[0m\u001b[0m\n\u001b[1;32m      5\u001b[0m \u001b[0;34m\u001b[0m\u001b[0m\n\u001b[0;32m----> 6\u001b[0;31m \u001b[0mXp\u001b[0m \u001b[0;34m=\u001b[0m \u001b[0mhstack\u001b[0m\u001b[0;34m(\u001b[0m\u001b[0;34m[\u001b[0m\u001b[0mX\u001b[0m\u001b[0;34m,\u001b[0m \u001b[0mmovies\u001b[0m\u001b[0;34m.\u001b[0m\u001b[0mtext_length\u001b[0m\u001b[0;34m]\u001b[0m\u001b[0;34m)\u001b[0m\u001b[0;34m\u001b[0m\u001b[0;34m\u001b[0m\u001b[0m\n\u001b[0m\u001b[1;32m      7\u001b[0m \u001b[0mX_train\u001b[0m\u001b[0;34m,\u001b[0m \u001b[0mX_test\u001b[0m\u001b[0;34m,\u001b[0m \u001b[0my_train\u001b[0m\u001b[0;34m,\u001b[0m \u001b[0my_test\u001b[0m \u001b[0;34m=\u001b[0m \u001b[0mtrain_test_split\u001b[0m\u001b[0;34m(\u001b[0m\u001b[0mXp\u001b[0m\u001b[0;34m,\u001b[0m \u001b[0mmovies\u001b[0m\u001b[0;34m.\u001b[0m\u001b[0mtitleType\u001b[0m\u001b[0;34m,\u001b[0m \u001b[0mtest_size\u001b[0m\u001b[0;34m=\u001b[0m\u001b[0;36m.2\u001b[0m\u001b[0;34m)\u001b[0m\u001b[0;34m\u001b[0m\u001b[0;34m\u001b[0m\u001b[0m\n\u001b[1;32m      8\u001b[0m \u001b[0mclf\u001b[0m \u001b[0;34m=\u001b[0m \u001b[0mLogisticRegression\u001b[0m\u001b[0;34m(\u001b[0m\u001b[0;34m)\u001b[0m\u001b[0;34m\u001b[0m\u001b[0;34m\u001b[0m\u001b[0m\n",
      "\u001b[0;32m~/opt/anaconda3/envs/clustering/lib/python3.8/site-packages/scipy/sparse/construct.py\u001b[0m in \u001b[0;36mhstack\u001b[0;34m(blocks, format, dtype)\u001b[0m\n\u001b[1;32m    463\u001b[0m \u001b[0;34m\u001b[0m\u001b[0m\n\u001b[1;32m    464\u001b[0m     \"\"\"\n\u001b[0;32m--> 465\u001b[0;31m     \u001b[0;32mreturn\u001b[0m \u001b[0mbmat\u001b[0m\u001b[0;34m(\u001b[0m\u001b[0;34m[\u001b[0m\u001b[0mblocks\u001b[0m\u001b[0;34m]\u001b[0m\u001b[0;34m,\u001b[0m \u001b[0mformat\u001b[0m\u001b[0;34m=\u001b[0m\u001b[0mformat\u001b[0m\u001b[0;34m,\u001b[0m \u001b[0mdtype\u001b[0m\u001b[0;34m=\u001b[0m\u001b[0mdtype\u001b[0m\u001b[0;34m)\u001b[0m\u001b[0;34m\u001b[0m\u001b[0;34m\u001b[0m\u001b[0m\n\u001b[0m\u001b[1;32m    466\u001b[0m \u001b[0;34m\u001b[0m\u001b[0m\n\u001b[1;32m    467\u001b[0m \u001b[0;34m\u001b[0m\u001b[0m\n",
      "\u001b[0;32m~/opt/anaconda3/envs/clustering/lib/python3.8/site-packages/scipy/sparse/construct.py\u001b[0m in \u001b[0;36mbmat\u001b[0;34m(blocks, format, dtype)\u001b[0m\n\u001b[1;32m    584\u001b[0m                                                     \u001b[0mexp\u001b[0m\u001b[0;34m=\u001b[0m\u001b[0mbrow_lengths\u001b[0m\u001b[0;34m[\u001b[0m\u001b[0mi\u001b[0m\u001b[0;34m]\u001b[0m\u001b[0;34m,\u001b[0m\u001b[0;34m\u001b[0m\u001b[0;34m\u001b[0m\u001b[0m\n\u001b[1;32m    585\u001b[0m                                                     got=A.shape[0]))\n\u001b[0;32m--> 586\u001b[0;31m                     \u001b[0;32mraise\u001b[0m \u001b[0mValueError\u001b[0m\u001b[0;34m(\u001b[0m\u001b[0mmsg\u001b[0m\u001b[0;34m)\u001b[0m\u001b[0;34m\u001b[0m\u001b[0;34m\u001b[0m\u001b[0m\n\u001b[0m\u001b[1;32m    587\u001b[0m \u001b[0;34m\u001b[0m\u001b[0m\n\u001b[1;32m    588\u001b[0m                 \u001b[0;32mif\u001b[0m \u001b[0mbcol_lengths\u001b[0m\u001b[0;34m[\u001b[0m\u001b[0mj\u001b[0m\u001b[0;34m]\u001b[0m \u001b[0;34m==\u001b[0m \u001b[0;36m0\u001b[0m\u001b[0;34m:\u001b[0m\u001b[0;34m\u001b[0m\u001b[0;34m\u001b[0m\u001b[0m\n",
      "\u001b[0;31mValueError\u001b[0m: blocks[0,:] has incompatible row dimensions. Got blocks[0,1].shape[0] == 1, expected 8483."
     ]
    }
   ],
   "source": [
    "from sklearn.linear_model import LogisticRegression\n",
    "from sklearn.model_selection import train_test_split\n",
    "from sklearn.metrics import classification_report\n",
    "from scipy.sparse import hstack\n",
    "\n",
    "X_train, X_test, y_train, y_test = train_test_split(Xp, movies.titleType, test_size=.2)\n",
    "clf = LogisticRegression()\n",
    "\n",
    "clf.fit(X_train, y_train)\n",
    "\n",
    "y_pred = clf.predict(X_test)\n",
    "\n",
    "print(classification_report(y_test, y_pred))"
   ]
  },
  {
   "cell_type": "code",
   "execution_count": 326,
   "metadata": {},
   "outputs": [],
   "source": [
    "top_feat_movie = np.argpartition(clf.coef_.ravel(), 20)[:20]\n",
    "top_feat_tvmovie = np.argpartition(clf.coef_.ravel(), -20)[-20:]"
   ]
  },
  {
   "cell_type": "code",
   "execution_count": 327,
   "metadata": {},
   "outputs": [
    {
     "name": "stdout",
     "output_type": "stream",
     "text": [
      "tut weh => 4247\n",
      "verrückt geworden => 4300\n",
      "vereinigten staaten => 4288\n",
      "sag mal => 3604\n",
      "guten tag => 1354\n",
      "halt maul => 1406\n",
      "jahre später => 2103\n",
      "guten abend => 1345\n",
      "komm her => 2240\n",
      "ersten mal => 626\n",
      "ganz ruhig => 782\n",
      "los los => 2588\n",
      "kung fu => 2361\n",
      "gute nacht => 1336\n",
      "na los => 2999\n",
      "hau ab => 1553\n",
      "mach schon => 2634\n",
      "ja herr => 1914\n",
      "papa papa => 3477\n",
      "ja gut => 1901\n"
     ]
    }
   ],
   "source": [
    "for tf in top_feat_movie:\n",
    "    print(dict(zip(tfidf.vocabulary_.values(), tfidf.vocabulary_.keys())).get(tf), tf, sep=' => ')"
   ]
  },
  {
   "cell_type": "code",
   "execution_count": 328,
   "metadata": {},
   "outputs": [
    {
     "name": "stdout",
     "output_type": "stream",
     "text": [
      "weißt schon => 4614\n",
      "mr thompson => 2902\n",
      "ex frau => 639\n",
      "wahrheit sagen => 4406\n",
      "sieht hätte => 4009\n",
      "paar fragen => 3460\n",
      "mm hmm => 2878\n",
      "oh hey => 3307\n",
      "oh gut => 3302\n",
      "getan hast => 1084\n",
      "wissen lassen => 4767\n",
      "tschüs tschüs => 4158\n",
      "ziemlich gut => 4936\n",
      "hattest recht => 1551\n",
      "00 uhr => 0\n",
      "heute morgen => 1619\n",
      "gestern abend => 1080\n",
      "german sdh => 1035\n",
      "bisher geschah => 213\n",
      "übersetzung filmtiger => 4999\n"
     ]
    }
   ],
   "source": [
    "for tf in top_feat_tvmovie:\n",
    "    print(dict(zip(tfidf.vocabulary_.values(), tfidf.vocabulary_.keys())).get(tf), tf, sep=' => ')"
   ]
  },
  {
   "cell_type": "code",
   "execution_count": null,
   "metadata": {},
   "outputs": [],
   "source": []
  }
 ],
 "metadata": {
  "kernelspec": {
   "display_name": "Python 3",
   "language": "python",
   "name": "python3"
  },
  "language_info": {
   "codemirror_mode": {
    "name": "ipython",
    "version": 3
   },
   "file_extension": ".py",
   "mimetype": "text/x-python",
   "name": "python",
   "nbconvert_exporter": "python",
   "pygments_lexer": "ipython3",
   "version": "3.8.2"
  }
 },
 "nbformat": 4,
 "nbformat_minor": 4
}
