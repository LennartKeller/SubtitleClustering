{
 "cells": [
  {
   "cell_type": "code",
   "execution_count": 105,
   "metadata": {},
   "outputs": [],
   "source": [
    "import pandas as pd\n",
    "import matplotlib.pyplot as plt\n",
    "import numpy as np\n",
    "import plotly.graph_objects as go\n",
    "import seaborn as sns\n",
    "from sklearn.feature_extraction.text import TfidfVectorizer\n",
    "from stop_words import get_stop_words\n",
    "from sklearn.decomposition import PCA\n",
    "from sklearn.cluster import *\n",
    "from sklearn.mixture import *\n",
    "from umap import UMAP\n",
    "from collections import Counter\n",
    "from sklearn.mixture import GaussianMixture\n",
    "from sklearn.pipeline import Pipeline, make_pipeline\n",
    "from sklearn.base import TransformerMixin\n",
    "from sklearn.metrics import davies_bouldin_score, calinski_harabasz_score\n",
    "from sklearn.base import clone as clone_estimator\n",
    "import re"
   ]
  },
  {
   "cell_type": "markdown",
   "metadata": {},
   "source": [
    "## Define some usefull functions"
   ]
  },
  {
   "cell_type": "code",
   "execution_count": 2,
   "metadata": {},
   "outputs": [],
   "source": [
    "def aggregate_by_label(df: pd.DataFrame, label: str, min_threshold: int = 0):\n",
    "\n",
    "    top_labels = df[label].value_counts()[df[label].value_counts() > min_threshold]\n",
    "    \n",
    "    entries = []\n",
    "    for l in top_labels.index:\n",
    "        label_df = df[df[label] == l]\n",
    "        all_texts = []\n",
    "        for text in label_df.text:\n",
    "            all_texts.append(text)\n",
    "        entry = {}\n",
    "        \n",
    "        conctanated_text = \" \".join(all_texts)\n",
    "        entry['label'] = l\n",
    "        entry['text'] = conctanated_text\n",
    "        entry['n_texts'] = len(all_texts)\n",
    "        entry['n_tokens'] = len(conctanated_text.split())\n",
    "        entry['instances'] = \", \".join(label_df.filename.to_list())\n",
    "        \n",
    "        entries.append(entry)\n",
    "    return pd.DataFrame.from_records(entries)"
   ]
  },
  {
   "cell_type": "code",
   "execution_count": 3,
   "metadata": {},
   "outputs": [],
   "source": [
    "def get_cluster_dfs(df, cluster):\n",
    "    \"Get one df with all entries from one cluster for all clusters\"\n",
    "    return [df[cluster == i] for i in np.unique(cluster)]"
   ]
  },
  {
   "cell_type": "code",
   "execution_count": 4,
   "metadata": {},
   "outputs": [],
   "source": [
    "from plotly.colors import qualitative \n",
    "\n",
    "def plotly_color_categorical_values(values, cmap=qualitative.Light24):\n",
    "    uniq = np.unique(values)\n",
    "    if len(uniq) > len(cmap):\n",
    "        print(\"Need more colors than current cmap holds\")\n",
    "        return\n",
    "    categories_color = {cat: cmap[index] for index, cat in enumerate(uniq)}\n",
    "    return [categories_color[cat] for cat in values]"
   ]
  },
  {
   "cell_type": "code",
   "execution_count": 5,
   "metadata": {},
   "outputs": [],
   "source": [
    "from sklearn.model_selection import ParameterGrid\n",
    "from sklearn.base import ClusterMixin\n",
    "from tqdm import tqdm\n",
    "from sklearn.base import clone as clone_estimator\n",
    "from time import time\n",
    "\n",
    "def _call_scoring(entry, score, data):\n",
    "    try:\n",
    "        entry[score.__name__] = score(data)\n",
    "    except Exception as e:\n",
    "        entry['Exception'] = e\n",
    "    return entry\n",
    "\n",
    "def tune(clu: ClusterMixin,\n",
    "         X: np.ndarray,\n",
    "         params: ParameterGrid,\n",
    "         scoring: callable = None,\n",
    "         verbose: bool = True):\n",
    "    \n",
    "    results = []\n",
    "    params = tqdm(params) if verbose else params\n",
    "    for param_comb in params:\n",
    "        entry = {**param_comb}\n",
    "        clu_instance = clone_estimator(clu)\n",
    "        \n",
    "        fit_start = time()\n",
    "        clu_instance.fit(X)\n",
    "        fit_time = time() - fit_start\n",
    "        entry['fit_time'] = fit_time\n",
    "        \n",
    "        labels = clu_instance.predict(X)\n",
    "        \n",
    "        if scoring:\n",
    "            if isinstance(scoring, list):\n",
    "                for score in scoring:\n",
    "                    _call_scoring(entry=entry, score=score, data=labels)\n",
    "            if callable(scoring):\n",
    "                _call_scoring(entry=entry, score=scoring, data=labels)\n",
    "            else:\n",
    "                raise Exception('Invalid scoring parameter passed')\n",
    "        else:\n",
    "            if hasattr(clu_instance, 'score') and callable(clu_instance.score):\n",
    "                _call_scoring(entry=entry, score=clu_instance.score, data=X)\n",
    "        results.append(entry)\n",
    "        \n",
    "    return pd.DataFrame.from_records(results)"
   ]
  },
  {
   "cell_type": "code",
   "execution_count": 6,
   "metadata": {},
   "outputs": [],
   "source": [
    "class DenseTransformer(TransformerMixin):\n",
    "    \"\"\"\n",
    "    Transformer for convert sparse data into dense.\n",
    "    \"\"\"\n",
    "    def fit(self, X, y=None):\n",
    "        return self\n",
    "    \n",
    "    def transform(self, X, y=None):\n",
    "        return X.todense()"
   ]
  },
  {
   "cell_type": "code",
   "execution_count": 7,
   "metadata": {},
   "outputs": [],
   "source": [
    "def merge_params_dicts(*args, sep='__'):\n",
    "    \"\"\"\n",
    "    Merges n python dicts into one.\n",
    "    If each dict is passed in a tuple where the first entry is a string,\n",
    "    all keys in that dict will get the string as prefix\n",
    "    \"\"\"\n",
    "    merged = {}\n",
    "    for entry in args:\n",
    "        if isinstance(entry, tuple):\n",
    "            prefix = entry[0]\n",
    "            merged.update({prefix + sep + key: value for key, value in entry[1].items()})\n",
    "        if isinstance(entry, dict):\n",
    "            merged.update(entry)\n",
    "    return merged"
   ]
  },
  {
   "cell_type": "code",
   "execution_count": 8,
   "metadata": {},
   "outputs": [],
   "source": [
    "def print_clusters(dfs):\n",
    "    for index, cluster_df in enumerate(dfs):\n",
    "        print(f'Cluster {index}')\n",
    "        print(cluster_df.label)\n",
    "        print(f'Total number of movies in cluster => {cluster_df.n_texts.sum()}')\n",
    "        print(f'Total number of tokens in cluster => {cluster_df.n_tokens.sum()}')\n",
    "        print('#'*60)"
   ]
  },
  {
   "cell_type": "code",
   "execution_count": 9,
   "metadata": {},
   "outputs": [],
   "source": [
    "def cluster_distribution(cluster):\n",
    "    cluster_counter = Counter(cluster)\n",
    "    plt.bar(cluster_counter.keys(), cluster_counter.values())\n",
    "    plt.show()\n",
    "    return cluster_counter"
   ]
  },
  {
   "cell_type": "markdown",
   "metadata": {},
   "source": [
    "## Load dataset"
   ]
  },
  {
   "cell_type": "code",
   "execution_count": 10,
   "metadata": {},
   "outputs": [],
   "source": [
    "df = pd.read_csv('../dataset/movies_complete.csv')\n",
    "df.dropna(subset=['genre'], inplace=True)\n",
    "df['text_length'] = df.text.apply(lambda x: len(x.split()))\n",
    "df = df[df['text_length'] >= 3000]"
   ]
  },
  {
   "cell_type": "markdown",
   "metadata": {},
   "source": [
    "## Aggregate texts by Language attribute\n",
    "We set the threshold to 1, every Language entry which occurs only one time is discarded"
   ]
  },
  {
   "cell_type": "code",
   "execution_count": 11,
   "metadata": {},
   "outputs": [],
   "source": [
    "aggr = aggregate_by_label(df, 'Language', 3)"
   ]
  },
  {
   "cell_type": "markdown",
   "metadata": {},
   "source": [
    "We compute the number of different languages (that occur alone at least one time in our aggregated dataset)\n",
    "We will use this number as number of cluster later on."
   ]
  },
  {
   "cell_type": "code",
   "execution_count": 12,
   "metadata": {},
   "outputs": [
    {
     "data": {
      "text/plain": [
       "(0          English\n",
       " 1           French\n",
       " 2           German\n",
       " 3         Japanese\n",
       " 5          Spanish\n",
       " 6           Korean\n",
       " 8          Turkish\n",
       " 10        Mandarin\n",
       " 14       Norwegian\n",
       " 15           Dutch\n",
       " 16          Danish\n",
       " 17         Italian\n",
       " 18         Swedish\n",
       " 20         Russian\n",
       " 21       Icelandic\n",
       " 23       Cantonese\n",
       " 25            Thai\n",
       " 28           Hindi\n",
       " 31      Portuguese\n",
       " 38         Chinese\n",
       " 47    Swiss German\n",
       " 48           Greek\n",
       " 53          Polish\n",
       " 60          Arabic\n",
       " 64        Romanian\n",
       " Name: label, dtype: object,\n",
       " 25)"
      ]
     },
     "execution_count": 12,
     "metadata": {},
     "output_type": "execute_result"
    }
   ],
   "source": [
    "single_labels = aggr.label[aggr.label.str.split(',').apply(lambda x: len(x)) == 1]\n",
    "n_single_labels = len(single_labels)\n",
    "single_labels, n_single_labels"
   ]
  },
  {
   "cell_type": "markdown",
   "metadata": {},
   "source": [
    "## Define feature extraction pipeline(s)"
   ]
  },
  {
   "cell_type": "code",
   "execution_count": 199,
   "metadata": {},
   "outputs": [
    {
     "data": {
      "text/plain": [
       "Pipeline(steps=[('tfidfvectorizer', TfidfVectorizer(max_features=232)),\n",
       "                ('densetransformer',\n",
       "                 <__main__.DenseTransformer object at 0x7f8c6db0a970>),\n",
       "                ('umap', UMAP(n_components=50, random_state=42))])"
      ]
     },
     "execution_count": 199,
     "metadata": {},
     "output_type": "execute_result"
    }
   ],
   "source": [
    "feature_pipe = make_pipeline(\n",
    "    \n",
    "    TfidfVectorizer(\n",
    "        #stop_words=get_stop_words('de'),\n",
    "        max_features=232,\n",
    "        ngram_range=(1,1)),\n",
    "    \n",
    "    DenseTransformer(),\n",
    "    \n",
    "    UMAP(n_components=50,\n",
    "         random_state=42),\n",
    ")\n",
    "feature_pipe"
   ]
  },
  {
   "cell_type": "code",
   "execution_count": 193,
   "metadata": {},
   "outputs": [],
   "source": [
    "X = feature_pipe.fit_transform(aggr.text)"
   ]
  },
  {
   "cell_type": "code",
   "execution_count": 194,
   "metadata": {},
   "outputs": [],
   "source": [
    "def filter_non_stopwords(s, stopwords=get_stop_words('de')):\n",
    "    stopwords = set([t.lower() for t in stopwords])\n",
    "    token = re.findall(r'\\w+', s.lower())\n",
    "    return \" \".join([t for t in token if t in stopwords])\n",
    "\n",
    "only_stopwords = aggr.text.apply(filter_non_stopwords)"
   ]
  },
  {
   "cell_type": "code",
   "execution_count": 195,
   "metadata": {},
   "outputs": [
    {
     "data": {
      "text/plain": [
       "232"
      ]
     },
     "execution_count": 195,
     "metadata": {},
     "output_type": "execute_result"
    }
   ],
   "source": [
    "len(get_stop_words('de'))"
   ]
  },
  {
   "cell_type": "code",
   "execution_count": 196,
   "metadata": {},
   "outputs": [],
   "source": [
    "Xstop = feature_pipe.fit_transform(only_stopwords)"
   ]
  },
  {
   "cell_type": "code",
   "execution_count": 197,
   "metadata": {},
   "outputs": [],
   "source": [
    "X = Xstop"
   ]
  },
  {
   "cell_type": "markdown",
   "metadata": {},
   "source": [
    "## Compute 2D Umap-Representation of our data\n",
    "We use the same pipeline for computing 2D data for plotting our results"
   ]
  },
  {
   "cell_type": "code",
   "execution_count": 198,
   "metadata": {},
   "outputs": [
    {
     "data": {
      "application/vnd.plotly.v1+json": {
       "config": {
        "plotlyServerURL": "https://plot.ly"
       },
       "data": [
        {
         "marker": {
          "color": [
           12181830,
           1589231,
           1676394,
           670914,
           810080,
           532378,
           395234,
           484261,
           485290,
           361604,
           237221,
           243233,
           240343,
           207250,
           147740,
           156794,
           144459,
           143324,
           136157,
           126810,
           118492,
           98198,
           135981,
           95279,
           147809,
           78349,
           137156,
           100770,
           105164,
           57035,
           69555,
           73679,
           83374,
           58867,
           54356,
           41719,
           47078,
           45473,
           44621,
           42856,
           45145,
           38277,
           43172,
           57788,
           29945,
           52111,
           67385,
           30327,
           26038,
           36370,
           42901,
           42262,
           34642,
           29621,
           21666,
           27401,
           30004,
           22157,
           28061,
           38116,
           33941,
           25831,
           27648,
           31430,
           31173
          ]
         },
         "mode": "markers",
         "text": [
          "English|1382",
          "French|204",
          "German|190",
          "Japanese|100",
          "English, Spanish|78",
          "Spanish|71",
          "Korean|51",
          "English, French|51",
          "Turkish|45",
          "French, English|45",
          "Mandarin|33",
          "German, English|29",
          "English, Russian|24",
          "English, German|24",
          "Norwegian|23",
          "Dutch|21",
          "Danish|21",
          "Italian|18",
          "Swedish|18",
          "English, Japanese|18",
          "Russian|18",
          "Icelandic|15",
          "English, Ukrainian|13",
          "Cantonese|13",
          "English, Italian|13",
          "Thai|12",
          "English, Arabic|11",
          "English, Mandarin|11",
          "Hindi|11",
          "Japanese, English|10",
          "Spanish, English|10",
          "Portuguese|10",
          "English, Portuguese|9",
          "French, German|8",
          "Mandarin, English|8",
          "Cantonese, English|7",
          "Mandarin, Cantonese|7",
          "German, Turkish|7",
          "Chinese|6",
          "English, French, Italian|6",
          "French, Arabic|6",
          "Korean, English|6",
          "Swedish, English|5",
          "English, French, German|5",
          "Norwegian, English|5",
          "English, Korean|5",
          "English, Hebrew|5",
          "Swiss German|5",
          "Greek|5",
          "French, Italian|5",
          "English, Greek|5",
          "English, Latin|5",
          "English, Chinese|5",
          "Polish|5",
          "English, Arabic, Hebrew|4",
          "Cantonese, Mandarin|4",
          "English, Thai|4",
          "Thai, English|4",
          "French, Spanish|4",
          "English, Italian, Spanish|4",
          "Arabic|4",
          "Arabic, French|4",
          "Dutch, English|4",
          "Russian, English|4",
          "Romanian|4"
         ],
         "type": "scatter",
         "x": [
          15.511247634887695,
          9.902116775512695,
          7.804812908172607,
          17.248079299926758,
          15.13377571105957,
          11.883853912353516,
          3.7459661960601807,
          7.5956902503967285,
          -11.882355690002441,
          10.038045883178711,
          10.8099365234375,
          7.804598808288574,
          14.569436073303223,
          5.948513984680176,
          -13.34251880645752,
          7.864806652069092,
          10.310340881347656,
          -12.205324172973633,
          -13.514565467834473,
          3.473963737487793,
          10.030942916870117,
          -12.531842231750488,
          14.539131164550781,
          12.164468765258789,
          9.360401153564453,
          12.589566230773926,
          5.348349571228027,
          14.945585250854492,
          6.361755847930908,
          10.221983909606934,
          12.115531921386719,
          -12.109689712524414,
          15.586429595947266,
          8.098191261291504,
          10.697469711303711,
          3.5942647457122803,
          10.896912574768066,
          -13.481965065002441,
          12.440146446228027,
          10.349814414978027,
          11.628470420837402,
          3.7983343601226807,
          15.069253921508789,
          5.0956926345825195,
          16.463916778564453,
          14.48989486694336,
          15.431386947631836,
          -13.242144584655762,
          10.506142616271973,
          8.744001388549805,
          14.885030746459961,
          8.982183456420898,
          12.166290283203125,
          3.7175469398498535,
          11.741805076599121,
          11.91695499420166,
          16.89862632751465,
          11.994160652160645,
          9.389472961425781,
          16.59493064880371,
          12.340412139892578,
          11.582575798034668,
          9.568726539611816,
          17.083314895629883,
          -12.029999732971191
         ],
         "y": [
          6.997899055480957,
          4.288156509399414,
          16.937108993530273,
          5.218214988708496,
          7.38759183883667,
          0.44054314494132996,
          6.234816074371338,
          5.050295829772949,
          5.733588695526123,
          4.091062068939209,
          -2.094236135482788,
          16.937307357788086,
          8.420758247375488,
          5.487576007843018,
          7.191349983215332,
          16.87698745727539,
          -2.755556344985962,
          6.074092864990234,
          7.075928211212158,
          5.915435791015625,
          -2.534925937652588,
          6.4062275886535645,
          8.398908615112305,
          -1.317754864692688,
          4.260672569274902,
          -1.5262906551361084,
          5.623136043548584,
          7.776031017303467,
          5.3662872314453125,
          -2.731607437133789,
          0.5418254733085632,
          5.964550971984863,
          7.090366840362549,
          4.904763698577881,
          -2.1920697689056396,
          6.054844379425049,
          -2.0494701862335205,
          7.075596809387207,
          -1.663989543914795,
          4.2046027183532715,
          1.260635495185852,
          6.261887550354004,
          7.46055269241333,
          5.682819366455078,
          6.187936305999756,
          8.489453315734863,
          7.187045574188232,
          7.089084625244141,
          -2.6342568397521973,
          4.628154754638672,
          7.98954963684082,
          4.694542407989502,
          0.4539499580860138,
          5.960843563079834,
          0.934870183467865,
          -1.6328941583633423,
          5.665687084197998,
          -0.1467646211385727,
          4.371935844421387,
          6.034140586853027,
          -1.3768059015274048,
          1.3666719198226929,
          4.120520114898682,
          5.429016590118408,
          5.867542266845703
         ]
        }
       ],
       "layout": {
        "template": {
         "data": {
          "bar": [
           {
            "error_x": {
             "color": "#2a3f5f"
            },
            "error_y": {
             "color": "#2a3f5f"
            },
            "marker": {
             "line": {
              "color": "#E5ECF6",
              "width": 0.5
             }
            },
            "type": "bar"
           }
          ],
          "barpolar": [
           {
            "marker": {
             "line": {
              "color": "#E5ECF6",
              "width": 0.5
             }
            },
            "type": "barpolar"
           }
          ],
          "carpet": [
           {
            "aaxis": {
             "endlinecolor": "#2a3f5f",
             "gridcolor": "white",
             "linecolor": "white",
             "minorgridcolor": "white",
             "startlinecolor": "#2a3f5f"
            },
            "baxis": {
             "endlinecolor": "#2a3f5f",
             "gridcolor": "white",
             "linecolor": "white",
             "minorgridcolor": "white",
             "startlinecolor": "#2a3f5f"
            },
            "type": "carpet"
           }
          ],
          "choropleth": [
           {
            "colorbar": {
             "outlinewidth": 0,
             "ticks": ""
            },
            "type": "choropleth"
           }
          ],
          "contour": [
           {
            "colorbar": {
             "outlinewidth": 0,
             "ticks": ""
            },
            "colorscale": [
             [
              0,
              "#0d0887"
             ],
             [
              0.1111111111111111,
              "#46039f"
             ],
             [
              0.2222222222222222,
              "#7201a8"
             ],
             [
              0.3333333333333333,
              "#9c179e"
             ],
             [
              0.4444444444444444,
              "#bd3786"
             ],
             [
              0.5555555555555556,
              "#d8576b"
             ],
             [
              0.6666666666666666,
              "#ed7953"
             ],
             [
              0.7777777777777778,
              "#fb9f3a"
             ],
             [
              0.8888888888888888,
              "#fdca26"
             ],
             [
              1,
              "#f0f921"
             ]
            ],
            "type": "contour"
           }
          ],
          "contourcarpet": [
           {
            "colorbar": {
             "outlinewidth": 0,
             "ticks": ""
            },
            "type": "contourcarpet"
           }
          ],
          "heatmap": [
           {
            "colorbar": {
             "outlinewidth": 0,
             "ticks": ""
            },
            "colorscale": [
             [
              0,
              "#0d0887"
             ],
             [
              0.1111111111111111,
              "#46039f"
             ],
             [
              0.2222222222222222,
              "#7201a8"
             ],
             [
              0.3333333333333333,
              "#9c179e"
             ],
             [
              0.4444444444444444,
              "#bd3786"
             ],
             [
              0.5555555555555556,
              "#d8576b"
             ],
             [
              0.6666666666666666,
              "#ed7953"
             ],
             [
              0.7777777777777778,
              "#fb9f3a"
             ],
             [
              0.8888888888888888,
              "#fdca26"
             ],
             [
              1,
              "#f0f921"
             ]
            ],
            "type": "heatmap"
           }
          ],
          "heatmapgl": [
           {
            "colorbar": {
             "outlinewidth": 0,
             "ticks": ""
            },
            "colorscale": [
             [
              0,
              "#0d0887"
             ],
             [
              0.1111111111111111,
              "#46039f"
             ],
             [
              0.2222222222222222,
              "#7201a8"
             ],
             [
              0.3333333333333333,
              "#9c179e"
             ],
             [
              0.4444444444444444,
              "#bd3786"
             ],
             [
              0.5555555555555556,
              "#d8576b"
             ],
             [
              0.6666666666666666,
              "#ed7953"
             ],
             [
              0.7777777777777778,
              "#fb9f3a"
             ],
             [
              0.8888888888888888,
              "#fdca26"
             ],
             [
              1,
              "#f0f921"
             ]
            ],
            "type": "heatmapgl"
           }
          ],
          "histogram": [
           {
            "marker": {
             "colorbar": {
              "outlinewidth": 0,
              "ticks": ""
             }
            },
            "type": "histogram"
           }
          ],
          "histogram2d": [
           {
            "colorbar": {
             "outlinewidth": 0,
             "ticks": ""
            },
            "colorscale": [
             [
              0,
              "#0d0887"
             ],
             [
              0.1111111111111111,
              "#46039f"
             ],
             [
              0.2222222222222222,
              "#7201a8"
             ],
             [
              0.3333333333333333,
              "#9c179e"
             ],
             [
              0.4444444444444444,
              "#bd3786"
             ],
             [
              0.5555555555555556,
              "#d8576b"
             ],
             [
              0.6666666666666666,
              "#ed7953"
             ],
             [
              0.7777777777777778,
              "#fb9f3a"
             ],
             [
              0.8888888888888888,
              "#fdca26"
             ],
             [
              1,
              "#f0f921"
             ]
            ],
            "type": "histogram2d"
           }
          ],
          "histogram2dcontour": [
           {
            "colorbar": {
             "outlinewidth": 0,
             "ticks": ""
            },
            "colorscale": [
             [
              0,
              "#0d0887"
             ],
             [
              0.1111111111111111,
              "#46039f"
             ],
             [
              0.2222222222222222,
              "#7201a8"
             ],
             [
              0.3333333333333333,
              "#9c179e"
             ],
             [
              0.4444444444444444,
              "#bd3786"
             ],
             [
              0.5555555555555556,
              "#d8576b"
             ],
             [
              0.6666666666666666,
              "#ed7953"
             ],
             [
              0.7777777777777778,
              "#fb9f3a"
             ],
             [
              0.8888888888888888,
              "#fdca26"
             ],
             [
              1,
              "#f0f921"
             ]
            ],
            "type": "histogram2dcontour"
           }
          ],
          "mesh3d": [
           {
            "colorbar": {
             "outlinewidth": 0,
             "ticks": ""
            },
            "type": "mesh3d"
           }
          ],
          "parcoords": [
           {
            "line": {
             "colorbar": {
              "outlinewidth": 0,
              "ticks": ""
             }
            },
            "type": "parcoords"
           }
          ],
          "pie": [
           {
            "automargin": true,
            "type": "pie"
           }
          ],
          "scatter": [
           {
            "marker": {
             "colorbar": {
              "outlinewidth": 0,
              "ticks": ""
             }
            },
            "type": "scatter"
           }
          ],
          "scatter3d": [
           {
            "line": {
             "colorbar": {
              "outlinewidth": 0,
              "ticks": ""
             }
            },
            "marker": {
             "colorbar": {
              "outlinewidth": 0,
              "ticks": ""
             }
            },
            "type": "scatter3d"
           }
          ],
          "scattercarpet": [
           {
            "marker": {
             "colorbar": {
              "outlinewidth": 0,
              "ticks": ""
             }
            },
            "type": "scattercarpet"
           }
          ],
          "scattergeo": [
           {
            "marker": {
             "colorbar": {
              "outlinewidth": 0,
              "ticks": ""
             }
            },
            "type": "scattergeo"
           }
          ],
          "scattergl": [
           {
            "marker": {
             "colorbar": {
              "outlinewidth": 0,
              "ticks": ""
             }
            },
            "type": "scattergl"
           }
          ],
          "scattermapbox": [
           {
            "marker": {
             "colorbar": {
              "outlinewidth": 0,
              "ticks": ""
             }
            },
            "type": "scattermapbox"
           }
          ],
          "scatterpolar": [
           {
            "marker": {
             "colorbar": {
              "outlinewidth": 0,
              "ticks": ""
             }
            },
            "type": "scatterpolar"
           }
          ],
          "scatterpolargl": [
           {
            "marker": {
             "colorbar": {
              "outlinewidth": 0,
              "ticks": ""
             }
            },
            "type": "scatterpolargl"
           }
          ],
          "scatterternary": [
           {
            "marker": {
             "colorbar": {
              "outlinewidth": 0,
              "ticks": ""
             }
            },
            "type": "scatterternary"
           }
          ],
          "surface": [
           {
            "colorbar": {
             "outlinewidth": 0,
             "ticks": ""
            },
            "colorscale": [
             [
              0,
              "#0d0887"
             ],
             [
              0.1111111111111111,
              "#46039f"
             ],
             [
              0.2222222222222222,
              "#7201a8"
             ],
             [
              0.3333333333333333,
              "#9c179e"
             ],
             [
              0.4444444444444444,
              "#bd3786"
             ],
             [
              0.5555555555555556,
              "#d8576b"
             ],
             [
              0.6666666666666666,
              "#ed7953"
             ],
             [
              0.7777777777777778,
              "#fb9f3a"
             ],
             [
              0.8888888888888888,
              "#fdca26"
             ],
             [
              1,
              "#f0f921"
             ]
            ],
            "type": "surface"
           }
          ],
          "table": [
           {
            "cells": {
             "fill": {
              "color": "#EBF0F8"
             },
             "line": {
              "color": "white"
             }
            },
            "header": {
             "fill": {
              "color": "#C8D4E3"
             },
             "line": {
              "color": "white"
             }
            },
            "type": "table"
           }
          ]
         },
         "layout": {
          "annotationdefaults": {
           "arrowcolor": "#2a3f5f",
           "arrowhead": 0,
           "arrowwidth": 1
          },
          "coloraxis": {
           "colorbar": {
            "outlinewidth": 0,
            "ticks": ""
           }
          },
          "colorscale": {
           "diverging": [
            [
             0,
             "#8e0152"
            ],
            [
             0.1,
             "#c51b7d"
            ],
            [
             0.2,
             "#de77ae"
            ],
            [
             0.3,
             "#f1b6da"
            ],
            [
             0.4,
             "#fde0ef"
            ],
            [
             0.5,
             "#f7f7f7"
            ],
            [
             0.6,
             "#e6f5d0"
            ],
            [
             0.7,
             "#b8e186"
            ],
            [
             0.8,
             "#7fbc41"
            ],
            [
             0.9,
             "#4d9221"
            ],
            [
             1,
             "#276419"
            ]
           ],
           "sequential": [
            [
             0,
             "#0d0887"
            ],
            [
             0.1111111111111111,
             "#46039f"
            ],
            [
             0.2222222222222222,
             "#7201a8"
            ],
            [
             0.3333333333333333,
             "#9c179e"
            ],
            [
             0.4444444444444444,
             "#bd3786"
            ],
            [
             0.5555555555555556,
             "#d8576b"
            ],
            [
             0.6666666666666666,
             "#ed7953"
            ],
            [
             0.7777777777777778,
             "#fb9f3a"
            ],
            [
             0.8888888888888888,
             "#fdca26"
            ],
            [
             1,
             "#f0f921"
            ]
           ],
           "sequentialminus": [
            [
             0,
             "#0d0887"
            ],
            [
             0.1111111111111111,
             "#46039f"
            ],
            [
             0.2222222222222222,
             "#7201a8"
            ],
            [
             0.3333333333333333,
             "#9c179e"
            ],
            [
             0.4444444444444444,
             "#bd3786"
            ],
            [
             0.5555555555555556,
             "#d8576b"
            ],
            [
             0.6666666666666666,
             "#ed7953"
            ],
            [
             0.7777777777777778,
             "#fb9f3a"
            ],
            [
             0.8888888888888888,
             "#fdca26"
            ],
            [
             1,
             "#f0f921"
            ]
           ]
          },
          "colorway": [
           "#636efa",
           "#EF553B",
           "#00cc96",
           "#ab63fa",
           "#FFA15A",
           "#19d3f3",
           "#FF6692",
           "#B6E880",
           "#FF97FF",
           "#FECB52"
          ],
          "font": {
           "color": "#2a3f5f"
          },
          "geo": {
           "bgcolor": "white",
           "lakecolor": "white",
           "landcolor": "#E5ECF6",
           "showlakes": true,
           "showland": true,
           "subunitcolor": "white"
          },
          "hoverlabel": {
           "align": "left"
          },
          "hovermode": "closest",
          "mapbox": {
           "style": "light"
          },
          "paper_bgcolor": "white",
          "plot_bgcolor": "#E5ECF6",
          "polar": {
           "angularaxis": {
            "gridcolor": "white",
            "linecolor": "white",
            "ticks": ""
           },
           "bgcolor": "#E5ECF6",
           "radialaxis": {
            "gridcolor": "white",
            "linecolor": "white",
            "ticks": ""
           }
          },
          "scene": {
           "xaxis": {
            "backgroundcolor": "#E5ECF6",
            "gridcolor": "white",
            "gridwidth": 2,
            "linecolor": "white",
            "showbackground": true,
            "ticks": "",
            "zerolinecolor": "white"
           },
           "yaxis": {
            "backgroundcolor": "#E5ECF6",
            "gridcolor": "white",
            "gridwidth": 2,
            "linecolor": "white",
            "showbackground": true,
            "ticks": "",
            "zerolinecolor": "white"
           },
           "zaxis": {
            "backgroundcolor": "#E5ECF6",
            "gridcolor": "white",
            "gridwidth": 2,
            "linecolor": "white",
            "showbackground": true,
            "ticks": "",
            "zerolinecolor": "white"
           }
          },
          "shapedefaults": {
           "line": {
            "color": "#2a3f5f"
           }
          },
          "ternary": {
           "aaxis": {
            "gridcolor": "white",
            "linecolor": "white",
            "ticks": ""
           },
           "baxis": {
            "gridcolor": "white",
            "linecolor": "white",
            "ticks": ""
           },
           "bgcolor": "#E5ECF6",
           "caxis": {
            "gridcolor": "white",
            "linecolor": "white",
            "ticks": ""
           }
          },
          "title": {
           "x": 0.05
          },
          "xaxis": {
           "automargin": true,
           "gridcolor": "white",
           "linecolor": "white",
           "ticks": "",
           "title": {
            "standoff": 15
           },
           "zerolinecolor": "white",
           "zerolinewidth": 2
          },
          "yaxis": {
           "automargin": true,
           "gridcolor": "white",
           "linecolor": "white",
           "ticks": "",
           "title": {
            "standoff": 15
           },
           "zerolinecolor": "white",
           "zerolinewidth": 2
          }
         }
        }
       }
      },
      "text/html": [
       "<div>\n",
       "        \n",
       "        \n",
       "            <div id=\"2c3b8b46-23f0-471e-a44e-16bf8c9944bf\" class=\"plotly-graph-div\" style=\"height:525px; width:100%;\"></div>\n",
       "            <script type=\"text/javascript\">\n",
       "                require([\"plotly\"], function(Plotly) {\n",
       "                    window.PLOTLYENV=window.PLOTLYENV || {};\n",
       "                    \n",
       "                if (document.getElementById(\"2c3b8b46-23f0-471e-a44e-16bf8c9944bf\")) {\n",
       "                    Plotly.newPlot(\n",
       "                        '2c3b8b46-23f0-471e-a44e-16bf8c9944bf',\n",
       "                        [{\"marker\": {\"color\": [12181830, 1589231, 1676394, 670914, 810080, 532378, 395234, 484261, 485290, 361604, 237221, 243233, 240343, 207250, 147740, 156794, 144459, 143324, 136157, 126810, 118492, 98198, 135981, 95279, 147809, 78349, 137156, 100770, 105164, 57035, 69555, 73679, 83374, 58867, 54356, 41719, 47078, 45473, 44621, 42856, 45145, 38277, 43172, 57788, 29945, 52111, 67385, 30327, 26038, 36370, 42901, 42262, 34642, 29621, 21666, 27401, 30004, 22157, 28061, 38116, 33941, 25831, 27648, 31430, 31173]}, \"mode\": \"markers\", \"text\": [\"English|1382\", \"French|204\", \"German|190\", \"Japanese|100\", \"English, Spanish|78\", \"Spanish|71\", \"Korean|51\", \"English, French|51\", \"Turkish|45\", \"French, English|45\", \"Mandarin|33\", \"German, English|29\", \"English, Russian|24\", \"English, German|24\", \"Norwegian|23\", \"Dutch|21\", \"Danish|21\", \"Italian|18\", \"Swedish|18\", \"English, Japanese|18\", \"Russian|18\", \"Icelandic|15\", \"English, Ukrainian|13\", \"Cantonese|13\", \"English, Italian|13\", \"Thai|12\", \"English, Arabic|11\", \"English, Mandarin|11\", \"Hindi|11\", \"Japanese, English|10\", \"Spanish, English|10\", \"Portuguese|10\", \"English, Portuguese|9\", \"French, German|8\", \"Mandarin, English|8\", \"Cantonese, English|7\", \"Mandarin, Cantonese|7\", \"German, Turkish|7\", \"Chinese|6\", \"English, French, Italian|6\", \"French, Arabic|6\", \"Korean, English|6\", \"Swedish, English|5\", \"English, French, German|5\", \"Norwegian, English|5\", \"English, Korean|5\", \"English, Hebrew|5\", \"Swiss German|5\", \"Greek|5\", \"French, Italian|5\", \"English, Greek|5\", \"English, Latin|5\", \"English, Chinese|5\", \"Polish|5\", \"English, Arabic, Hebrew|4\", \"Cantonese, Mandarin|4\", \"English, Thai|4\", \"Thai, English|4\", \"French, Spanish|4\", \"English, Italian, Spanish|4\", \"Arabic|4\", \"Arabic, French|4\", \"Dutch, English|4\", \"Russian, English|4\", \"Romanian|4\"], \"type\": \"scatter\", \"x\": [15.511247634887695, 9.902116775512695, 7.804812908172607, 17.248079299926758, 15.13377571105957, 11.883853912353516, 3.7459661960601807, 7.5956902503967285, -11.882355690002441, 10.038045883178711, 10.8099365234375, 7.804598808288574, 14.569436073303223, 5.948513984680176, -13.34251880645752, 7.864806652069092, 10.310340881347656, -12.205324172973633, -13.514565467834473, 3.473963737487793, 10.030942916870117, -12.531842231750488, 14.539131164550781, 12.164468765258789, 9.360401153564453, 12.589566230773926, 5.348349571228027, 14.945585250854492, 6.361755847930908, 10.221983909606934, 12.115531921386719, -12.109689712524414, 15.586429595947266, 8.098191261291504, 10.697469711303711, 3.5942647457122803, 10.896912574768066, -13.481965065002441, 12.440146446228027, 10.349814414978027, 11.628470420837402, 3.7983343601226807, 15.069253921508789, 5.0956926345825195, 16.463916778564453, 14.48989486694336, 15.431386947631836, -13.242144584655762, 10.506142616271973, 8.744001388549805, 14.885030746459961, 8.982183456420898, 12.166290283203125, 3.7175469398498535, 11.741805076599121, 11.91695499420166, 16.89862632751465, 11.994160652160645, 9.389472961425781, 16.59493064880371, 12.340412139892578, 11.582575798034668, 9.568726539611816, 17.083314895629883, -12.029999732971191], \"y\": [6.997899055480957, 4.288156509399414, 16.937108993530273, 5.218214988708496, 7.38759183883667, 0.44054314494132996, 6.234816074371338, 5.050295829772949, 5.733588695526123, 4.091062068939209, -2.094236135482788, 16.937307357788086, 8.420758247375488, 5.487576007843018, 7.191349983215332, 16.87698745727539, -2.755556344985962, 6.074092864990234, 7.075928211212158, 5.915435791015625, -2.534925937652588, 6.4062275886535645, 8.398908615112305, -1.317754864692688, 4.260672569274902, -1.5262906551361084, 5.623136043548584, 7.776031017303467, 5.3662872314453125, -2.731607437133789, 0.5418254733085632, 5.964550971984863, 7.090366840362549, 4.904763698577881, -2.1920697689056396, 6.054844379425049, -2.0494701862335205, 7.075596809387207, -1.663989543914795, 4.2046027183532715, 1.260635495185852, 6.261887550354004, 7.46055269241333, 5.682819366455078, 6.187936305999756, 8.489453315734863, 7.187045574188232, 7.089084625244141, -2.6342568397521973, 4.628154754638672, 7.98954963684082, 4.694542407989502, 0.4539499580860138, 5.960843563079834, 0.934870183467865, -1.6328941583633423, 5.665687084197998, -0.1467646211385727, 4.371935844421387, 6.034140586853027, -1.3768059015274048, 1.3666719198226929, 4.120520114898682, 5.429016590118408, 5.867542266845703]}],\n",
       "                        {\"template\": {\"data\": {\"bar\": [{\"error_x\": {\"color\": \"#2a3f5f\"}, \"error_y\": {\"color\": \"#2a3f5f\"}, \"marker\": {\"line\": {\"color\": \"#E5ECF6\", \"width\": 0.5}}, \"type\": \"bar\"}], \"barpolar\": [{\"marker\": {\"line\": {\"color\": \"#E5ECF6\", \"width\": 0.5}}, \"type\": \"barpolar\"}], \"carpet\": [{\"aaxis\": {\"endlinecolor\": \"#2a3f5f\", \"gridcolor\": \"white\", \"linecolor\": \"white\", \"minorgridcolor\": \"white\", \"startlinecolor\": \"#2a3f5f\"}, \"baxis\": {\"endlinecolor\": \"#2a3f5f\", \"gridcolor\": \"white\", \"linecolor\": \"white\", \"minorgridcolor\": \"white\", \"startlinecolor\": \"#2a3f5f\"}, \"type\": \"carpet\"}], \"choropleth\": [{\"colorbar\": {\"outlinewidth\": 0, \"ticks\": \"\"}, \"type\": \"choropleth\"}], \"contour\": [{\"colorbar\": {\"outlinewidth\": 0, \"ticks\": \"\"}, \"colorscale\": [[0.0, \"#0d0887\"], [0.1111111111111111, \"#46039f\"], [0.2222222222222222, \"#7201a8\"], [0.3333333333333333, \"#9c179e\"], [0.4444444444444444, \"#bd3786\"], [0.5555555555555556, \"#d8576b\"], [0.6666666666666666, \"#ed7953\"], [0.7777777777777778, \"#fb9f3a\"], [0.8888888888888888, \"#fdca26\"], [1.0, \"#f0f921\"]], \"type\": \"contour\"}], \"contourcarpet\": [{\"colorbar\": {\"outlinewidth\": 0, \"ticks\": \"\"}, \"type\": \"contourcarpet\"}], \"heatmap\": [{\"colorbar\": {\"outlinewidth\": 0, \"ticks\": \"\"}, \"colorscale\": [[0.0, \"#0d0887\"], [0.1111111111111111, \"#46039f\"], [0.2222222222222222, \"#7201a8\"], [0.3333333333333333, \"#9c179e\"], [0.4444444444444444, \"#bd3786\"], [0.5555555555555556, \"#d8576b\"], [0.6666666666666666, \"#ed7953\"], [0.7777777777777778, \"#fb9f3a\"], [0.8888888888888888, \"#fdca26\"], [1.0, \"#f0f921\"]], \"type\": \"heatmap\"}], \"heatmapgl\": [{\"colorbar\": {\"outlinewidth\": 0, \"ticks\": \"\"}, \"colorscale\": [[0.0, \"#0d0887\"], [0.1111111111111111, \"#46039f\"], [0.2222222222222222, \"#7201a8\"], [0.3333333333333333, \"#9c179e\"], [0.4444444444444444, \"#bd3786\"], [0.5555555555555556, \"#d8576b\"], [0.6666666666666666, \"#ed7953\"], [0.7777777777777778, \"#fb9f3a\"], [0.8888888888888888, \"#fdca26\"], [1.0, \"#f0f921\"]], \"type\": \"heatmapgl\"}], \"histogram\": [{\"marker\": {\"colorbar\": {\"outlinewidth\": 0, \"ticks\": \"\"}}, \"type\": \"histogram\"}], \"histogram2d\": [{\"colorbar\": {\"outlinewidth\": 0, \"ticks\": \"\"}, \"colorscale\": [[0.0, \"#0d0887\"], [0.1111111111111111, \"#46039f\"], [0.2222222222222222, \"#7201a8\"], [0.3333333333333333, \"#9c179e\"], [0.4444444444444444, \"#bd3786\"], [0.5555555555555556, \"#d8576b\"], [0.6666666666666666, \"#ed7953\"], [0.7777777777777778, \"#fb9f3a\"], [0.8888888888888888, \"#fdca26\"], [1.0, \"#f0f921\"]], \"type\": \"histogram2d\"}], \"histogram2dcontour\": [{\"colorbar\": {\"outlinewidth\": 0, \"ticks\": \"\"}, \"colorscale\": [[0.0, \"#0d0887\"], [0.1111111111111111, \"#46039f\"], [0.2222222222222222, \"#7201a8\"], [0.3333333333333333, \"#9c179e\"], [0.4444444444444444, \"#bd3786\"], [0.5555555555555556, \"#d8576b\"], [0.6666666666666666, \"#ed7953\"], [0.7777777777777778, \"#fb9f3a\"], [0.8888888888888888, \"#fdca26\"], [1.0, \"#f0f921\"]], \"type\": \"histogram2dcontour\"}], \"mesh3d\": [{\"colorbar\": {\"outlinewidth\": 0, \"ticks\": \"\"}, \"type\": \"mesh3d\"}], \"parcoords\": [{\"line\": {\"colorbar\": {\"outlinewidth\": 0, \"ticks\": \"\"}}, \"type\": \"parcoords\"}], \"pie\": [{\"automargin\": true, \"type\": \"pie\"}], \"scatter\": [{\"marker\": {\"colorbar\": {\"outlinewidth\": 0, \"ticks\": \"\"}}, \"type\": \"scatter\"}], \"scatter3d\": [{\"line\": {\"colorbar\": {\"outlinewidth\": 0, \"ticks\": \"\"}}, \"marker\": {\"colorbar\": {\"outlinewidth\": 0, \"ticks\": \"\"}}, \"type\": \"scatter3d\"}], \"scattercarpet\": [{\"marker\": {\"colorbar\": {\"outlinewidth\": 0, \"ticks\": \"\"}}, \"type\": \"scattercarpet\"}], \"scattergeo\": [{\"marker\": {\"colorbar\": {\"outlinewidth\": 0, \"ticks\": \"\"}}, \"type\": \"scattergeo\"}], \"scattergl\": [{\"marker\": {\"colorbar\": {\"outlinewidth\": 0, \"ticks\": \"\"}}, \"type\": \"scattergl\"}], \"scattermapbox\": [{\"marker\": {\"colorbar\": {\"outlinewidth\": 0, \"ticks\": \"\"}}, \"type\": \"scattermapbox\"}], \"scatterpolar\": [{\"marker\": {\"colorbar\": {\"outlinewidth\": 0, \"ticks\": \"\"}}, \"type\": \"scatterpolar\"}], \"scatterpolargl\": [{\"marker\": {\"colorbar\": {\"outlinewidth\": 0, \"ticks\": \"\"}}, \"type\": \"scatterpolargl\"}], \"scatterternary\": [{\"marker\": {\"colorbar\": {\"outlinewidth\": 0, \"ticks\": \"\"}}, \"type\": \"scatterternary\"}], \"surface\": [{\"colorbar\": {\"outlinewidth\": 0, \"ticks\": \"\"}, \"colorscale\": [[0.0, \"#0d0887\"], [0.1111111111111111, \"#46039f\"], [0.2222222222222222, \"#7201a8\"], [0.3333333333333333, \"#9c179e\"], [0.4444444444444444, \"#bd3786\"], [0.5555555555555556, \"#d8576b\"], [0.6666666666666666, \"#ed7953\"], [0.7777777777777778, \"#fb9f3a\"], [0.8888888888888888, \"#fdca26\"], [1.0, \"#f0f921\"]], \"type\": \"surface\"}], \"table\": [{\"cells\": {\"fill\": {\"color\": \"#EBF0F8\"}, \"line\": {\"color\": \"white\"}}, \"header\": {\"fill\": {\"color\": \"#C8D4E3\"}, \"line\": {\"color\": \"white\"}}, \"type\": \"table\"}]}, \"layout\": {\"annotationdefaults\": {\"arrowcolor\": \"#2a3f5f\", \"arrowhead\": 0, \"arrowwidth\": 1}, \"coloraxis\": {\"colorbar\": {\"outlinewidth\": 0, \"ticks\": \"\"}}, \"colorscale\": {\"diverging\": [[0, \"#8e0152\"], [0.1, \"#c51b7d\"], [0.2, \"#de77ae\"], [0.3, \"#f1b6da\"], [0.4, \"#fde0ef\"], [0.5, \"#f7f7f7\"], [0.6, \"#e6f5d0\"], [0.7, \"#b8e186\"], [0.8, \"#7fbc41\"], [0.9, \"#4d9221\"], [1, \"#276419\"]], \"sequential\": [[0.0, \"#0d0887\"], [0.1111111111111111, \"#46039f\"], [0.2222222222222222, \"#7201a8\"], [0.3333333333333333, \"#9c179e\"], [0.4444444444444444, \"#bd3786\"], [0.5555555555555556, \"#d8576b\"], [0.6666666666666666, \"#ed7953\"], [0.7777777777777778, \"#fb9f3a\"], [0.8888888888888888, \"#fdca26\"], [1.0, \"#f0f921\"]], \"sequentialminus\": [[0.0, \"#0d0887\"], [0.1111111111111111, \"#46039f\"], [0.2222222222222222, \"#7201a8\"], [0.3333333333333333, \"#9c179e\"], [0.4444444444444444, \"#bd3786\"], [0.5555555555555556, \"#d8576b\"], [0.6666666666666666, \"#ed7953\"], [0.7777777777777778, \"#fb9f3a\"], [0.8888888888888888, \"#fdca26\"], [1.0, \"#f0f921\"]]}, \"colorway\": [\"#636efa\", \"#EF553B\", \"#00cc96\", \"#ab63fa\", \"#FFA15A\", \"#19d3f3\", \"#FF6692\", \"#B6E880\", \"#FF97FF\", \"#FECB52\"], \"font\": {\"color\": \"#2a3f5f\"}, \"geo\": {\"bgcolor\": \"white\", \"lakecolor\": \"white\", \"landcolor\": \"#E5ECF6\", \"showlakes\": true, \"showland\": true, \"subunitcolor\": \"white\"}, \"hoverlabel\": {\"align\": \"left\"}, \"hovermode\": \"closest\", \"mapbox\": {\"style\": \"light\"}, \"paper_bgcolor\": \"white\", \"plot_bgcolor\": \"#E5ECF6\", \"polar\": {\"angularaxis\": {\"gridcolor\": \"white\", \"linecolor\": \"white\", \"ticks\": \"\"}, \"bgcolor\": \"#E5ECF6\", \"radialaxis\": {\"gridcolor\": \"white\", \"linecolor\": \"white\", \"ticks\": \"\"}}, \"scene\": {\"xaxis\": {\"backgroundcolor\": \"#E5ECF6\", \"gridcolor\": \"white\", \"gridwidth\": 2, \"linecolor\": \"white\", \"showbackground\": true, \"ticks\": \"\", \"zerolinecolor\": \"white\"}, \"yaxis\": {\"backgroundcolor\": \"#E5ECF6\", \"gridcolor\": \"white\", \"gridwidth\": 2, \"linecolor\": \"white\", \"showbackground\": true, \"ticks\": \"\", \"zerolinecolor\": \"white\"}, \"zaxis\": {\"backgroundcolor\": \"#E5ECF6\", \"gridcolor\": \"white\", \"gridwidth\": 2, \"linecolor\": \"white\", \"showbackground\": true, \"ticks\": \"\", \"zerolinecolor\": \"white\"}}, \"shapedefaults\": {\"line\": {\"color\": \"#2a3f5f\"}}, \"ternary\": {\"aaxis\": {\"gridcolor\": \"white\", \"linecolor\": \"white\", \"ticks\": \"\"}, \"baxis\": {\"gridcolor\": \"white\", \"linecolor\": \"white\", \"ticks\": \"\"}, \"bgcolor\": \"#E5ECF6\", \"caxis\": {\"gridcolor\": \"white\", \"linecolor\": \"white\", \"ticks\": \"\"}}, \"title\": {\"x\": 0.05}, \"xaxis\": {\"automargin\": true, \"gridcolor\": \"white\", \"linecolor\": \"white\", \"ticks\": \"\", \"title\": {\"standoff\": 15}, \"zerolinecolor\": \"white\", \"zerolinewidth\": 2}, \"yaxis\": {\"automargin\": true, \"gridcolor\": \"white\", \"linecolor\": \"white\", \"ticks\": \"\", \"title\": {\"standoff\": 15}, \"zerolinecolor\": \"white\", \"zerolinewidth\": 2}}}},\n",
       "                        {\"responsive\": true}\n",
       "                    ).then(function(){\n",
       "                            \n",
       "var gd = document.getElementById('2c3b8b46-23f0-471e-a44e-16bf8c9944bf');\n",
       "var x = new MutationObserver(function (mutations, observer) {{\n",
       "        var display = window.getComputedStyle(gd).display;\n",
       "        if (!display || display === 'none') {{\n",
       "            console.log([gd, 'removed!']);\n",
       "            Plotly.purge(gd);\n",
       "            observer.disconnect();\n",
       "        }}\n",
       "}});\n",
       "\n",
       "// Listen for the removal of the full notebook cells\n",
       "var notebookContainer = gd.closest('#notebook-container');\n",
       "if (notebookContainer) {{\n",
       "    x.observe(notebookContainer, {childList: true});\n",
       "}}\n",
       "\n",
       "// Listen for the clearing of the current output cell\n",
       "var outputEl = gd.closest('.output');\n",
       "if (outputEl) {{\n",
       "    x.observe(outputEl, {childList: true});\n",
       "}}\n",
       "\n",
       "                        })\n",
       "                };\n",
       "                });\n",
       "            </script>\n",
       "        </div>"
      ]
     },
     "metadata": {},
     "output_type": "display_data"
    }
   ],
   "source": [
    "Xr = UMAP(n_components=2, n_neighbors=3).fit_transform(X)\n",
    "fig = go.Figure(data=go.Scatter(x=Xr[:, 0],\n",
    "                                y=Xr[:, 1],\n",
    "                                mode='markers',\n",
    "                                text=[f'{label}|{n_token}' for label, n_token in zip(aggr.label, aggr.n_texts)],\n",
    "                                marker_color=aggr.n_tokens))\n",
    "\n",
    "\n",
    "fig.show()"
   ]
  },
  {
   "cell_type": "markdown",
   "metadata": {},
   "source": [
    "# KMeans-Clustering"
   ]
  },
  {
   "cell_type": "code",
   "execution_count": 200,
   "metadata": {},
   "outputs": [],
   "source": [
    "kmeans = KMeans(n_clusters=n_single_labels)\n",
    "kmean_cluster = kmeans.fit_predict(X)\n",
    "kmeans_dfs = get_cluster_dfs(aggr, kmean_cluster)"
   ]
  },
  {
   "cell_type": "code",
   "execution_count": 201,
   "metadata": {},
   "outputs": [
    {
     "data": {
      "image/png": "[encoded data removed]",
      "text/plain": [
       "<Figure size 432x288 with 1 Axes>"
      ]
     },
     "metadata": {
      "needs_background": "light"
     },
     "output_type": "display_data"
    }
   ],
   "source": [
    "kmeans_cluster_counts = cluster_distribution(kmean_cluster)"
   ]
  },
  {
   "cell_type": "code",
   "execution_count": 202,
   "metadata": {},
   "outputs": [
    {
     "data": {
      "text/html": [
       "<div>\n",
       "<style scoped>\n",
       "    .dataframe tbody tr th:only-of-type {\n",
       "        vertical-align: middle;\n",
       "    }\n",
       "\n",
       "    .dataframe tbody tr th {\n",
       "        vertical-align: top;\n",
       "    }\n",
       "\n",
       "    .dataframe thead th {\n",
       "        text-align: right;\n",
       "    }\n",
       "</style>\n",
       "<table border=\"1\" class=\"dataframe\">\n",
       "  <thead>\n",
       "    <tr style=\"text-align: right;\">\n",
       "      <th></th>\n",
       "      <th>label</th>\n",
       "      <th>text</th>\n",
       "      <th>n_texts</th>\n",
       "      <th>n_tokens</th>\n",
       "      <th>instances</th>\n",
       "    </tr>\n",
       "  </thead>\n",
       "  <tbody>\n",
       "    <tr>\n",
       "      <th>8</th>\n",
       "      <td>Turkish</td>\n",
       "      <td>Das Ei Hallo ... Hallo ... Yusuf ? Ich rufe au...</td>\n",
       "      <td>45</td>\n",
       "      <td>485290</td>\n",
       "      <td>3283602.xml, 4499587.xml, 3358575.xml, 3368846...</td>\n",
       "    </tr>\n",
       "    <tr>\n",
       "      <th>17</th>\n",
       "      <td>Italian</td>\n",
       "      <td>Am Anfang war das Wasser . Und Wasser ist Lebe...</td>\n",
       "      <td>18</td>\n",
       "      <td>143324</td>\n",
       "      <td>4445071.xml, 4224160.xml, 6183526.xml, 5752163...</td>\n",
       "    </tr>\n",
       "    <tr>\n",
       "      <th>21</th>\n",
       "      <td>Icelandic</td>\n",
       "      <td>Ich sitze im Gefängnis , weil ich wegen Mordes...</td>\n",
       "      <td>15</td>\n",
       "      <td>98198</td>\n",
       "      <td>4246157.xml, 4554648.xml, 3859797.xml, 6815756...</td>\n",
       "    </tr>\n",
       "  </tbody>\n",
       "</table>\n",
       "</div>"
      ],
      "text/plain": [
       "        label                                               text  n_texts  \\\n",
       "8     Turkish  Das Ei Hallo ... Hallo ... Yusuf ? Ich rufe au...       45   \n",
       "17    Italian  Am Anfang war das Wasser . Und Wasser ist Lebe...       18   \n",
       "21  Icelandic  Ich sitze im Gefängnis , weil ich wegen Mordes...       15   \n",
       "\n",
       "    n_tokens                                          instances  \n",
       "8     485290  3283602.xml, 4499587.xml, 3358575.xml, 3368846...  \n",
       "17    143324  4445071.xml, 4224160.xml, 6183526.xml, 5752163...  \n",
       "21     98198  4246157.xml, 4554648.xml, 3859797.xml, 6815756...  "
      ]
     },
     "execution_count": 202,
     "metadata": {},
     "output_type": "execute_result"
    }
   ],
   "source": [
    "kmeans_dfs[1].head()"
   ]
  },
  {
   "cell_type": "code",
   "execution_count": 203,
   "metadata": {},
   "outputs": [
    {
     "name": "stdout",
     "output_type": "stream",
     "text": [
      "Cluster 0\n",
      "19    English, Japanese\n",
      "53               Polish\n",
      "Name: label, dtype: object\n",
      "Total number of movies in cluster => 23\n",
      "Total number of tokens in cluster => 156431\n",
      "############################################################\n",
      "Cluster 1\n",
      "8       Turkish\n",
      "17      Italian\n",
      "21    Icelandic\n",
      "Name: label, dtype: object\n",
      "Total number of movies in cluster => 78\n",
      "Total number of tokens in cluster => 726812\n",
      "############################################################\n",
      "Cluster 2\n",
      "0                 English\n",
      "4        English, Spanish\n",
      "32    English, Portuguese\n",
      "42       Swedish, English\n",
      "46        English, Hebrew\n",
      "Name: label, dtype: object\n",
      "Total number of movies in cluster => 1479\n",
      "Total number of tokens in cluster => 13185841\n",
      "############################################################\n",
      "Cluster 3\n",
      "5                     Spanish\n",
      "54    English, Arabic, Hebrew\n",
      "Name: label, dtype: object\n",
      "Total number of movies in cluster => 75\n",
      "Total number of tokens in cluster => 554044\n",
      "############################################################\n",
      "Cluster 4\n",
      "10               Mandarin\n",
      "34      Mandarin, English\n",
      "36    Mandarin, Cantonese\n",
      "Name: label, dtype: object\n",
      "Total number of movies in cluster => 48\n",
      "Total number of tokens in cluster => 338655\n",
      "############################################################\n",
      "Cluster 5\n",
      "56       English, Thai\n",
      "63    Russian, English\n",
      "Name: label, dtype: object\n",
      "Total number of movies in cluster => 8\n",
      "Total number of tokens in cluster => 61434\n",
      "############################################################\n",
      "Cluster 6\n",
      "1              French\n",
      "9     French, English\n",
      "49    French, Italian\n",
      "58    French, Spanish\n",
      "62     Dutch, English\n",
      "Name: label, dtype: object\n",
      "Total number of movies in cluster => 262\n",
      "Total number of tokens in cluster => 2042914\n",
      "############################################################\n",
      "Cluster 7\n",
      "7     English, French\n",
      "33     French, German\n",
      "Name: label, dtype: object\n",
      "Total number of movies in cluster => 59\n",
      "Total number of tokens in cluster => 543128\n",
      "############################################################\n",
      "Cluster 8\n",
      "2              German\n",
      "11    German, English\n",
      "15              Dutch\n",
      "Name: label, dtype: object\n",
      "Total number of movies in cluster => 240\n",
      "Total number of tokens in cluster => 2076421\n",
      "############################################################\n",
      "Cluster 9\n",
      "16               Danish\n",
      "29    Japanese, English\n",
      "48                Greek\n",
      "Name: label, dtype: object\n",
      "Total number of movies in cluster => 36\n",
      "Total number of tokens in cluster => 227532\n",
      "############################################################\n",
      "Cluster 10\n",
      "12      English, Russian\n",
      "22    English, Ukrainian\n",
      "27     English, Mandarin\n",
      "45       English, Korean\n",
      "50        English, Greek\n",
      "Name: label, dtype: object\n",
      "Total number of movies in cluster => 58\n",
      "Total number of tokens in cluster => 572106\n",
      "############################################################\n",
      "Cluster 11\n",
      "26            English, Arabic\n",
      "43    English, French, German\n",
      "Name: label, dtype: object\n",
      "Total number of movies in cluster => 16\n",
      "Total number of tokens in cluster => 194944\n",
      "############################################################\n",
      "Cluster 12\n",
      "31    Portuguese\n",
      "64      Romanian\n",
      "Name: label, dtype: object\n",
      "Total number of movies in cluster => 14\n",
      "Total number of tokens in cluster => 104852\n",
      "############################################################\n",
      "Cluster 13\n",
      "23    Cantonese\n",
      "25         Thai\n",
      "38      Chinese\n",
      "60       Arabic\n",
      "Name: label, dtype: object\n",
      "Total number of movies in cluster => 35\n",
      "Total number of tokens in cluster => 252190\n",
      "############################################################\n",
      "Cluster 14\n",
      "6                 Korean\n",
      "35    Cantonese, English\n",
      "41       Korean, English\n",
      "Name: label, dtype: object\n",
      "Total number of movies in cluster => 64\n",
      "Total number of tokens in cluster => 475230\n",
      "############################################################\n",
      "Cluster 15\n",
      "44           Norwegian, English\n",
      "59    English, Italian, Spanish\n",
      "Name: label, dtype: object\n",
      "Total number of movies in cluster => 9\n",
      "Total number of tokens in cluster => 68061\n",
      "############################################################\n",
      "Cluster 16\n",
      "14          Norwegian\n",
      "18            Swedish\n",
      "37    German, Turkish\n",
      "47       Swiss German\n",
      "Name: label, dtype: object\n",
      "Total number of movies in cluster => 53\n",
      "Total number of tokens in cluster => 359697\n",
      "############################################################\n",
      "Cluster 17\n",
      "40    French, Arabic\n",
      "61    Arabic, French\n",
      "Name: label, dtype: object\n",
      "Total number of movies in cluster => 10\n",
      "Total number of tokens in cluster => 70976\n",
      "############################################################\n",
      "Cluster 18\n",
      "55    Cantonese, Mandarin\n",
      "Name: label, dtype: object\n",
      "Total number of movies in cluster => 4\n",
      "Total number of tokens in cluster => 27401\n",
      "############################################################\n",
      "Cluster 19\n",
      "30    Spanish, English\n",
      "52    English, Chinese\n",
      "Name: label, dtype: object\n",
      "Total number of movies in cluster => 15\n",
      "Total number of tokens in cluster => 104197\n",
      "############################################################\n",
      "Cluster 20\n",
      "57    Thai, English\n",
      "Name: label, dtype: object\n",
      "Total number of movies in cluster => 4\n",
      "Total number of tokens in cluster => 22157\n",
      "############################################################\n",
      "Cluster 21\n",
      "3     Japanese\n",
      "20     Russian\n",
      "Name: label, dtype: object\n",
      "Total number of movies in cluster => 118\n",
      "Total number of tokens in cluster => 789406\n",
      "############################################################\n",
      "Cluster 22\n",
      "51    English, Latin\n",
      "Name: label, dtype: object\n",
      "Total number of movies in cluster => 5\n",
      "Total number of tokens in cluster => 42262\n",
      "############################################################\n",
      "Cluster 23\n",
      "24            English, Italian\n",
      "39    English, French, Italian\n",
      "Name: label, dtype: object\n",
      "Total number of movies in cluster => 19\n",
      "Total number of tokens in cluster => 190665\n",
      "############################################################\n",
      "Cluster 24\n",
      "13    English, German\n",
      "28              Hindi\n",
      "Name: label, dtype: object\n",
      "Total number of movies in cluster => 35\n",
      "Total number of tokens in cluster => 312414\n",
      "############################################################\n"
     ]
    }
   ],
   "source": [
    "print_clusters(kmeans_dfs)"
   ]
  },
  {
   "cell_type": "code",
   "execution_count": 140,
   "metadata": {},
   "outputs": [
    {
     "data": {
      "text/plain": [
       "0.9325565231385573"
      ]
     },
     "execution_count": 140,
     "metadata": {},
     "output_type": "execute_result"
    }
   ],
   "source": [
    "kmeans_dbscore = davies_bouldin_score(X, kmean_cluster)\n",
    "kmeans_dbscore"
   ]
  },
  {
   "cell_type": "code",
   "execution_count": 141,
   "metadata": {},
   "outputs": [
    {
     "data": {
      "text/plain": [
       "5.874542408446575"
      ]
     },
     "execution_count": 141,
     "metadata": {},
     "output_type": "execute_result"
    }
   ],
   "source": [
    "kmeans_chscore = calinski_harabasz_score(X, kmean_cluster)\n",
    "kmeans_chscore"
   ]
  },
  {
   "cell_type": "markdown",
   "metadata": {},
   "source": [
    "# DBSCAN-Clustering"
   ]
  },
  {
   "cell_type": "markdown",
   "metadata": {},
   "source": [
    "In order to find a suitable value for the min-distance parameter ```eps``` we compute the mean distance between all datatpoints"
   ]
  },
  {
   "cell_type": "code",
   "execution_count": 142,
   "metadata": {},
   "outputs": [],
   "source": [
    "from scipy.spatial.distance import pdist, squareform, cosine\n",
    "dm = squareform(pdist(X, cosine))"
   ]
  },
  {
   "cell_type": "code",
   "execution_count": 143,
   "metadata": {},
   "outputs": [
    {
     "data": {
      "text/plain": [
       "0.021004571547312254"
      ]
     },
     "execution_count": 143,
     "metadata": {},
     "output_type": "execute_result"
    }
   ],
   "source": [
    "dm.mean()"
   ]
  },
  {
   "cell_type": "markdown",
   "metadata": {},
   "source": [
    "Now we choose a value near the mean distance as eps and set the min_samples param for density reachability to a low value since we do not have many points in our dataset."
   ]
  },
  {
   "cell_type": "code",
   "execution_count": 182,
   "metadata": {},
   "outputs": [],
   "source": [
    "dbscan = DBSCAN(metric='cosine', eps=0.009, min_samples=2)"
   ]
  },
  {
   "cell_type": "code",
   "execution_count": 183,
   "metadata": {},
   "outputs": [],
   "source": [
    "dbscan_cluster = dbscan.fit_predict(X)"
   ]
  },
  {
   "cell_type": "code",
   "execution_count": 184,
   "metadata": {},
   "outputs": [],
   "source": [
    "dbscan_dfs = get_cluster_dfs(aggr, dbscan_cluster)"
   ]
  },
  {
   "cell_type": "code",
   "execution_count": 185,
   "metadata": {},
   "outputs": [
    {
     "data": {
      "image/png": "[encoded data removed]",
      "text/plain": [
       "<Figure size 432x288 with 1 Axes>"
      ]
     },
     "metadata": {
      "needs_background": "light"
     },
     "output_type": "display_data"
    }
   ],
   "source": [
    "dbscan_cluster_counts = cluster_distribution(dbscan_cluster)"
   ]
  },
  {
   "cell_type": "code",
   "execution_count": 153,
   "metadata": {},
   "outputs": [
    {
     "name": "stdout",
     "output_type": "stream",
     "text": [
      "5\n"
     ]
    }
   ],
   "source": [
    "print(len(dbscan_cluster_counts))"
   ]
  },
  {
   "cell_type": "markdown",
   "metadata": {},
   "source": [
    "=> The number data points marked as noise is surpringly low\n",
    "=> The min_samples param has great influence on the number of clusters that the algorithm will find"
   ]
  },
  {
   "cell_type": "code",
   "execution_count": 154,
   "metadata": {},
   "outputs": [
    {
     "data": {
      "text/html": [
       "<div>\n",
       "<style scoped>\n",
       "    .dataframe tbody tr th:only-of-type {\n",
       "        vertical-align: middle;\n",
       "    }\n",
       "\n",
       "    .dataframe tbody tr th {\n",
       "        vertical-align: top;\n",
       "    }\n",
       "\n",
       "    .dataframe thead th {\n",
       "        text-align: right;\n",
       "    }\n",
       "</style>\n",
       "<table border=\"1\" class=\"dataframe\">\n",
       "  <thead>\n",
       "    <tr style=\"text-align: right;\">\n",
       "      <th></th>\n",
       "      <th>label</th>\n",
       "      <th>text</th>\n",
       "      <th>n_texts</th>\n",
       "      <th>n_tokens</th>\n",
       "      <th>instances</th>\n",
       "    </tr>\n",
       "  </thead>\n",
       "  <tbody>\n",
       "    <tr>\n",
       "      <th>6</th>\n",
       "      <td>Korean</td>\n",
       "      <td>Dein Vater war ein ausgezeichneter Kämpfer . A...</td>\n",
       "      <td>51</td>\n",
       "      <td>395234</td>\n",
       "      <td>5594522.xml, 3691322.xml, 6968595.xml, 6271648...</td>\n",
       "    </tr>\n",
       "    <tr>\n",
       "      <th>7</th>\n",
       "      <td>English, French</td>\n",
       "      <td>Mitten in der Nacht habe ich einen Alptraum . ...</td>\n",
       "      <td>51</td>\n",
       "      <td>484261</td>\n",
       "      <td>6483160.xml, 5589212.xml, 3335888.xml, 6984636...</td>\n",
       "    </tr>\n",
       "    <tr>\n",
       "      <th>8</th>\n",
       "      <td>Turkish</td>\n",
       "      <td>Das Ei Hallo ... Hallo ... Yusuf ? Ich rufe au...</td>\n",
       "      <td>45</td>\n",
       "      <td>485290</td>\n",
       "      <td>3283602.xml, 4499587.xml, 3358575.xml, 3368846...</td>\n",
       "    </tr>\n",
       "    <tr>\n",
       "      <th>10</th>\n",
       "      <td>Mandarin</td>\n",
       "      <td>Nach dem Cartoon von Chang Leping Mit Jialin a...</td>\n",
       "      <td>33</td>\n",
       "      <td>237221</td>\n",
       "      <td>6254411.xml, 5584814.xml, 5983854.xml, 4648055...</td>\n",
       "    </tr>\n",
       "    <tr>\n",
       "      <th>14</th>\n",
       "      <td>Norwegian</td>\n",
       "      <td>Ich weiß nicht , wann es begann , oder wie es ...</td>\n",
       "      <td>23</td>\n",
       "      <td>147740</td>\n",
       "      <td>4903811.xml, 5862471.xml, 4918401.xml, 4413003...</td>\n",
       "    </tr>\n",
       "    <tr>\n",
       "      <th>16</th>\n",
       "      <td>Danish</td>\n",
       "      <td>Ein Film von Ole Bornedal Liebesszene Nr. 1 Hi...</td>\n",
       "      <td>21</td>\n",
       "      <td>144459</td>\n",
       "      <td>6001494.xml, 4732464.xml, 6692042.xml, 3636537...</td>\n",
       "    </tr>\n",
       "    <tr>\n",
       "      <th>17</th>\n",
       "      <td>Italian</td>\n",
       "      <td>Am Anfang war das Wasser . Und Wasser ist Lebe...</td>\n",
       "      <td>18</td>\n",
       "      <td>143324</td>\n",
       "      <td>4445071.xml, 4224160.xml, 6183526.xml, 5752163...</td>\n",
       "    </tr>\n",
       "    <tr>\n",
       "      <th>18</th>\n",
       "      <td>Swedish</td>\n",
       "      <td>PATRIK , AGE 1 / 5 Basierend auf einem Stück v...</td>\n",
       "      <td>18</td>\n",
       "      <td>136157</td>\n",
       "      <td>3592485.xml, 4887280.xml, 5252151.xml, 3855929...</td>\n",
       "    </tr>\n",
       "    <tr>\n",
       "      <th>21</th>\n",
       "      <td>Icelandic</td>\n",
       "      <td>Ich sitze im Gefängnis , weil ich wegen Mordes...</td>\n",
       "      <td>15</td>\n",
       "      <td>98198</td>\n",
       "      <td>4246157.xml, 4554648.xml, 3859797.xml, 6815756...</td>\n",
       "    </tr>\n",
       "    <tr>\n",
       "      <th>24</th>\n",
       "      <td>English, Italian</td>\n",
       "      <td>DER weiße HAI IN VENEDIG ( 2008 ) dTV - HR - 0...</td>\n",
       "      <td>13</td>\n",
       "      <td>147809</td>\n",
       "      <td>4535688.xml, 5096547.xml, 4165838.xml, 4138330...</td>\n",
       "    </tr>\n",
       "    <tr>\n",
       "      <th>28</th>\n",
       "      <td>Hindi</td>\n",
       "      <td>Was geht auf diesem Land von Fluss Ganga heutz...</td>\n",
       "      <td>11</td>\n",
       "      <td>105164</td>\n",
       "      <td>4208202.xml, 3295394.xml, 5276174.xml, 4778271...</td>\n",
       "    </tr>\n",
       "    <tr>\n",
       "      <th>29</th>\n",
       "      <td>Japanese, English</td>\n",
       "      <td>- Hallo , Boss . - Hi . - Ja , was gibt ' s ? ...</td>\n",
       "      <td>10</td>\n",
       "      <td>57035</td>\n",
       "      <td>6477496.xml, 5570089.xml, 5931456.xml, 4236228...</td>\n",
       "    </tr>\n",
       "    <tr>\n",
       "      <th>30</th>\n",
       "      <td>Spanish, English</td>\n",
       "      <td>Mein Name ist Charles Bronson . Ich wollte imm...</td>\n",
       "      <td>10</td>\n",
       "      <td>69555</td>\n",
       "      <td>5487393.xml, 4663313.xml, 5563360.xml, 4884029...</td>\n",
       "    </tr>\n",
       "    <tr>\n",
       "      <th>31</th>\n",
       "      <td>Portuguese</td>\n",
       "      <td>Mein Freund ... Lass mich Dir was erzählen ......</td>\n",
       "      <td>10</td>\n",
       "      <td>73679</td>\n",
       "      <td>4680809.xml, 6818617.xml, 4017940.xml, 5700043...</td>\n",
       "    </tr>\n",
       "    <tr>\n",
       "      <th>33</th>\n",
       "      <td>French, German</td>\n",
       "      <td>Die letzte Sekunde der letzten Stunde , des le...</td>\n",
       "      <td>8</td>\n",
       "      <td>58867</td>\n",
       "      <td>5577949.xml, 6835795.xml, 6439350.xml, 5594941...</td>\n",
       "    </tr>\n",
       "    <tr>\n",
       "      <th>34</th>\n",
       "      <td>Mandarin, English</td>\n",
       "      <td>Vor 800 Jahren kam der indische Mönch Bodhi na...</td>\n",
       "      <td>8</td>\n",
       "      <td>54356</td>\n",
       "      <td>6274656.xml, 5712096.xml, 5149121.xml, 6242907...</td>\n",
       "    </tr>\n",
       "    <tr>\n",
       "      <th>35</th>\n",
       "      <td>Cantonese, English</td>\n",
       "      <td>Bruder Tung . Bruder Tung . Na endlich , die a...</td>\n",
       "      <td>7</td>\n",
       "      <td>41719</td>\n",
       "      <td>3596702.xml, 5252721.xml, 6022001.xml, 6803652...</td>\n",
       "    </tr>\n",
       "    <tr>\n",
       "      <th>36</th>\n",
       "      <td>Mandarin, Cantonese</td>\n",
       "      <td>Spring Fever ( 2009 ) dTV - arte - 3. Septembe...</td>\n",
       "      <td>7</td>\n",
       "      <td>47078</td>\n",
       "      <td>5167636.xml, 4241951.xml, 5105563.xml, 4568527...</td>\n",
       "    </tr>\n",
       "    <tr>\n",
       "      <th>37</th>\n",
       "      <td>German, Turkish</td>\n",
       "      <td>- ENCODE + SYNC - * * * * * CaLLioPE _ MoNTEDi...</td>\n",
       "      <td>7</td>\n",
       "      <td>45473</td>\n",
       "      <td>3468442.xml, 6165604.xml, 4009236.xml, 5493402...</td>\n",
       "    </tr>\n",
       "    <tr>\n",
       "      <th>38</th>\n",
       "      <td>Chinese</td>\n",
       "      <td>Fremde Ungeheuer ! Gebt ihnen den Prügel ! Fre...</td>\n",
       "      <td>6</td>\n",
       "      <td>44621</td>\n",
       "      <td>5567488.xml, 6253289.xml, 5711625.xml, 5149127...</td>\n",
       "    </tr>\n",
       "    <tr>\n",
       "      <th>40</th>\n",
       "      <td>French, Arabic</td>\n",
       "      <td>Nächsten Montag kommst du für drei Stunden . I...</td>\n",
       "      <td>6</td>\n",
       "      <td>45145</td>\n",
       "      <td>6190394.xml, 4669829.xml, 5855236.xml, 6186627...</td>\n",
       "    </tr>\n",
       "    <tr>\n",
       "      <th>41</th>\n",
       "      <td>Korean, English</td>\n",
       "      <td>Verschollen in der City ( 2009 ) dTV - arte - ...</td>\n",
       "      <td>6</td>\n",
       "      <td>38277</td>\n",
       "      <td>6477187.xml, 4236263.xml, 4182584.xml, 5681063...</td>\n",
       "    </tr>\n",
       "    <tr>\n",
       "      <th>43</th>\n",
       "      <td>English, French, German</td>\n",
       "      <td>Wie BEN HUR , meinen Sie ? Erwiesenermaßen ist...</td>\n",
       "      <td>5</td>\n",
       "      <td>57788</td>\n",
       "      <td>3660944.xml, 6510380.xml, 6017619.xml, 5751366...</td>\n",
       "    </tr>\n",
       "    <tr>\n",
       "      <th>44</th>\n",
       "      <td>Norwegian, English</td>\n",
       "      <td>13. Oktober 2008 Erhalten von Filmkameratene A...</td>\n",
       "      <td>5</td>\n",
       "      <td>29945</td>\n",
       "      <td>4089780.xml, 6674436.xml, 4816727.xml, 6483045...</td>\n",
       "    </tr>\n",
       "    <tr>\n",
       "      <th>47</th>\n",
       "      <td>Swiss German</td>\n",
       "      <td>Schweizer Alpen , heute Mami , Mami . - Ist de...</td>\n",
       "      <td>5</td>\n",
       "      <td>30327</td>\n",
       "      <td>4207326.xml, 6100120.xml, 4967133.xml, 5555883...</td>\n",
       "    </tr>\n",
       "    <tr>\n",
       "      <th>48</th>\n",
       "      <td>Greek</td>\n",
       "      <td>FERNHALTEN Was machst du ? Was ist los , Leoni...</td>\n",
       "      <td>5</td>\n",
       "      <td>26038</td>\n",
       "      <td>3582218.xml, 4670699.xml, 4562212.xml, 6388799...</td>\n",
       "    </tr>\n",
       "    <tr>\n",
       "      <th>49</th>\n",
       "      <td>French, Italian</td>\n",
       "      <td>L ' autre moitié - Die andere Hälfte ( 2007 ) ...</td>\n",
       "      <td>5</td>\n",
       "      <td>36370</td>\n",
       "      <td>4635309.xml, 5072878.xml, 5181040.xml, 6849616...</td>\n",
       "    </tr>\n",
       "    <tr>\n",
       "      <th>51</th>\n",
       "      <td>English, Latin</td>\n",
       "      <td>Leaves of Grass ( 2009 ) dTV - Das Erste - 9. ...</td>\n",
       "      <td>5</td>\n",
       "      <td>42262</td>\n",
       "      <td>4617134.xml, 4051224.xml, 4752606.xml, 4978559...</td>\n",
       "    </tr>\n",
       "    <tr>\n",
       "      <th>52</th>\n",
       "      <td>English, Chinese</td>\n",
       "      <td>NOCH EIN FILM ... VON VIELEN LEUTEN Mein Name ...</td>\n",
       "      <td>5</td>\n",
       "      <td>34642</td>\n",
       "      <td>5553463.xml, 5739184.xml, 6066525.xml, 5885916...</td>\n",
       "    </tr>\n",
       "    <tr>\n",
       "      <th>53</th>\n",
       "      <td>Polish</td>\n",
       "      <td>ANDRZEJ WAJDA DER BEKANNTESTE POLNISCHE FILMRE...</td>\n",
       "      <td>5</td>\n",
       "      <td>29621</td>\n",
       "      <td>6908151.xml, 4841971.xml, 5609993.xml, 6296375...</td>\n",
       "    </tr>\n",
       "    <tr>\n",
       "      <th>54</th>\n",
       "      <td>English, Arabic, Hebrew</td>\n",
       "      <td>Vielleicht wäre mein Leben jetzt anders . Viel...</td>\n",
       "      <td>4</td>\n",
       "      <td>21666</td>\n",
       "      <td>6466004.xml, 4793724.xml, 5640046.xml, 6442890...</td>\n",
       "    </tr>\n",
       "    <tr>\n",
       "      <th>55</th>\n",
       "      <td>Cantonese, Mandarin</td>\n",
       "      <td>Bruder ! Der Weg ist noch lang . Ruh dich aus ...</td>\n",
       "      <td>4</td>\n",
       "      <td>27401</td>\n",
       "      <td>5884605.xml, 6296449.xml, 6421101.xml, 7003850...</td>\n",
       "    </tr>\n",
       "    <tr>\n",
       "      <th>56</th>\n",
       "      <td>English, Thai</td>\n",
       "      <td>( JENNY LEWIS ' \" IT ' S A BAD MAN ' S WORLD \"...</td>\n",
       "      <td>4</td>\n",
       "      <td>30004</td>\n",
       "      <td>4425935.xml, 4992183.xml, 5884566.xml, 6291001...</td>\n",
       "    </tr>\n",
       "    <tr>\n",
       "      <th>57</th>\n",
       "      <td>Thai, English</td>\n",
       "      <td>Bevor wir unsere Reise begonnen haben , haben ...</td>\n",
       "      <td>4</td>\n",
       "      <td>22157</td>\n",
       "      <td>6159071.xml, 6477471.xml, 6211519.xml, 6591813...</td>\n",
       "    </tr>\n",
       "    <tr>\n",
       "      <th>59</th>\n",
       "      <td>English, Italian, Spanish</td>\n",
       "      <td>Es gibt 2 Arten von Menschen auf dieser Welt ,...</td>\n",
       "      <td>4</td>\n",
       "      <td>38116</td>\n",
       "      <td>3651521.xml, 4790478.xml, 5827249.xml, 6652468...</td>\n",
       "    </tr>\n",
       "    <tr>\n",
       "      <th>60</th>\n",
       "      <td>Arabic</td>\n",
       "      <td>SECHS ... SIEBEN ... ACHT NACH EIN ER WAHREN G...</td>\n",
       "      <td>4</td>\n",
       "      <td>33941</td>\n",
       "      <td>4982882.xml, 5226494.xml, 6552828.xml, 5580804...</td>\n",
       "    </tr>\n",
       "    <tr>\n",
       "      <th>61</th>\n",
       "      <td>Arabic, French</td>\n",
       "      <td>Die neue \" Moudawana \" modernisiert das Famili...</td>\n",
       "      <td>4</td>\n",
       "      <td>25831</td>\n",
       "      <td>4426087.xml, 4091117.xml, 6169695.xml, 6979505...</td>\n",
       "    </tr>\n",
       "    <tr>\n",
       "      <th>62</th>\n",
       "      <td>Dutch, English</td>\n",
       "      <td>( Plätschern ) Ja , ich liebe das Wasser . - E...</td>\n",
       "      <td>4</td>\n",
       "      <td>27648</td>\n",
       "      <td>6499690.xml, 6004219.xml, 6036779.xml, 6030131...</td>\n",
       "    </tr>\n",
       "    <tr>\n",
       "      <th>63</th>\n",
       "      <td>Russian, English</td>\n",
       "      <td>Komm schon ! Los ! Hey ! Hey ! THE WAY - DER W...</td>\n",
       "      <td>4</td>\n",
       "      <td>31430</td>\n",
       "      <td>6487178.xml, 4484560.xml, 5248277.xml, 6790597...</td>\n",
       "    </tr>\n",
       "    <tr>\n",
       "      <th>64</th>\n",
       "      <td>Romanian</td>\n",
       "      <td>Rumänien , 1987 Gut . Danke . Kannst du mit an...</td>\n",
       "      <td>4</td>\n",
       "      <td>31173</td>\n",
       "      <td>3175522.xml, 4774677.xml, 6493796.xml, 5355608...</td>\n",
       "    </tr>\n",
       "  </tbody>\n",
       "</table>\n",
       "</div>"
      ],
      "text/plain": [
       "                        label  \\\n",
       "6                      Korean   \n",
       "7             English, French   \n",
       "8                     Turkish   \n",
       "10                   Mandarin   \n",
       "14                  Norwegian   \n",
       "16                     Danish   \n",
       "17                    Italian   \n",
       "18                    Swedish   \n",
       "21                  Icelandic   \n",
       "24           English, Italian   \n",
       "28                      Hindi   \n",
       "29          Japanese, English   \n",
       "30           Spanish, English   \n",
       "31                 Portuguese   \n",
       "33             French, German   \n",
       "34          Mandarin, English   \n",
       "35         Cantonese, English   \n",
       "36        Mandarin, Cantonese   \n",
       "37            German, Turkish   \n",
       "38                    Chinese   \n",
       "40             French, Arabic   \n",
       "41            Korean, English   \n",
       "43    English, French, German   \n",
       "44         Norwegian, English   \n",
       "47               Swiss German   \n",
       "48                      Greek   \n",
       "49            French, Italian   \n",
       "51             English, Latin   \n",
       "52           English, Chinese   \n",
       "53                     Polish   \n",
       "54    English, Arabic, Hebrew   \n",
       "55        Cantonese, Mandarin   \n",
       "56              English, Thai   \n",
       "57              Thai, English   \n",
       "59  English, Italian, Spanish   \n",
       "60                     Arabic   \n",
       "61             Arabic, French   \n",
       "62             Dutch, English   \n",
       "63           Russian, English   \n",
       "64                   Romanian   \n",
       "\n",
       "                                                 text  n_texts  n_tokens  \\\n",
       "6   Dein Vater war ein ausgezeichneter Kämpfer . A...       51    395234   \n",
       "7   Mitten in der Nacht habe ich einen Alptraum . ...       51    484261   \n",
       "8   Das Ei Hallo ... Hallo ... Yusuf ? Ich rufe au...       45    485290   \n",
       "10  Nach dem Cartoon von Chang Leping Mit Jialin a...       33    237221   \n",
       "14  Ich weiß nicht , wann es begann , oder wie es ...       23    147740   \n",
       "16  Ein Film von Ole Bornedal Liebesszene Nr. 1 Hi...       21    144459   \n",
       "17  Am Anfang war das Wasser . Und Wasser ist Lebe...       18    143324   \n",
       "18  PATRIK , AGE 1 / 5 Basierend auf einem Stück v...       18    136157   \n",
       "21  Ich sitze im Gefängnis , weil ich wegen Mordes...       15     98198   \n",
       "24  DER weiße HAI IN VENEDIG ( 2008 ) dTV - HR - 0...       13    147809   \n",
       "28  Was geht auf diesem Land von Fluss Ganga heutz...       11    105164   \n",
       "29  - Hallo , Boss . - Hi . - Ja , was gibt ' s ? ...       10     57035   \n",
       "30  Mein Name ist Charles Bronson . Ich wollte imm...       10     69555   \n",
       "31  Mein Freund ... Lass mich Dir was erzählen ......       10     73679   \n",
       "33  Die letzte Sekunde der letzten Stunde , des le...        8     58867   \n",
       "34  Vor 800 Jahren kam der indische Mönch Bodhi na...        8     54356   \n",
       "35  Bruder Tung . Bruder Tung . Na endlich , die a...        7     41719   \n",
       "36  Spring Fever ( 2009 ) dTV - arte - 3. Septembe...        7     47078   \n",
       "37  - ENCODE + SYNC - * * * * * CaLLioPE _ MoNTEDi...        7     45473   \n",
       "38  Fremde Ungeheuer ! Gebt ihnen den Prügel ! Fre...        6     44621   \n",
       "40  Nächsten Montag kommst du für drei Stunden . I...        6     45145   \n",
       "41  Verschollen in der City ( 2009 ) dTV - arte - ...        6     38277   \n",
       "43  Wie BEN HUR , meinen Sie ? Erwiesenermaßen ist...        5     57788   \n",
       "44  13. Oktober 2008 Erhalten von Filmkameratene A...        5     29945   \n",
       "47  Schweizer Alpen , heute Mami , Mami . - Ist de...        5     30327   \n",
       "48  FERNHALTEN Was machst du ? Was ist los , Leoni...        5     26038   \n",
       "49  L ' autre moitié - Die andere Hälfte ( 2007 ) ...        5     36370   \n",
       "51  Leaves of Grass ( 2009 ) dTV - Das Erste - 9. ...        5     42262   \n",
       "52  NOCH EIN FILM ... VON VIELEN LEUTEN Mein Name ...        5     34642   \n",
       "53  ANDRZEJ WAJDA DER BEKANNTESTE POLNISCHE FILMRE...        5     29621   \n",
       "54  Vielleicht wäre mein Leben jetzt anders . Viel...        4     21666   \n",
       "55  Bruder ! Der Weg ist noch lang . Ruh dich aus ...        4     27401   \n",
       "56  ( JENNY LEWIS ' \" IT ' S A BAD MAN ' S WORLD \"...        4     30004   \n",
       "57  Bevor wir unsere Reise begonnen haben , haben ...        4     22157   \n",
       "59  Es gibt 2 Arten von Menschen auf dieser Welt ,...        4     38116   \n",
       "60  SECHS ... SIEBEN ... ACHT NACH EIN ER WAHREN G...        4     33941   \n",
       "61  Die neue \" Moudawana \" modernisiert das Famili...        4     25831   \n",
       "62  ( Plätschern ) Ja , ich liebe das Wasser . - E...        4     27648   \n",
       "63  Komm schon ! Los ! Hey ! Hey ! THE WAY - DER W...        4     31430   \n",
       "64  Rumänien , 1987 Gut . Danke . Kannst du mit an...        4     31173   \n",
       "\n",
       "                                            instances  \n",
       "6   5594522.xml, 3691322.xml, 6968595.xml, 6271648...  \n",
       "7   6483160.xml, 5589212.xml, 3335888.xml, 6984636...  \n",
       "8   3283602.xml, 4499587.xml, 3358575.xml, 3368846...  \n",
       "10  6254411.xml, 5584814.xml, 5983854.xml, 4648055...  \n",
       "14  4903811.xml, 5862471.xml, 4918401.xml, 4413003...  \n",
       "16  6001494.xml, 4732464.xml, 6692042.xml, 3636537...  \n",
       "17  4445071.xml, 4224160.xml, 6183526.xml, 5752163...  \n",
       "18  3592485.xml, 4887280.xml, 5252151.xml, 3855929...  \n",
       "21  4246157.xml, 4554648.xml, 3859797.xml, 6815756...  \n",
       "24  4535688.xml, 5096547.xml, 4165838.xml, 4138330...  \n",
       "28  4208202.xml, 3295394.xml, 5276174.xml, 4778271...  \n",
       "29  6477496.xml, 5570089.xml, 5931456.xml, 4236228...  \n",
       "30  5487393.xml, 4663313.xml, 5563360.xml, 4884029...  \n",
       "31  4680809.xml, 6818617.xml, 4017940.xml, 5700043...  \n",
       "33  5577949.xml, 6835795.xml, 6439350.xml, 5594941...  \n",
       "34  6274656.xml, 5712096.xml, 5149121.xml, 6242907...  \n",
       "35  3596702.xml, 5252721.xml, 6022001.xml, 6803652...  \n",
       "36  5167636.xml, 4241951.xml, 5105563.xml, 4568527...  \n",
       "37  3468442.xml, 6165604.xml, 4009236.xml, 5493402...  \n",
       "38  5567488.xml, 6253289.xml, 5711625.xml, 5149127...  \n",
       "40  6190394.xml, 4669829.xml, 5855236.xml, 6186627...  \n",
       "41  6477187.xml, 4236263.xml, 4182584.xml, 5681063...  \n",
       "43  3660944.xml, 6510380.xml, 6017619.xml, 5751366...  \n",
       "44  4089780.xml, 6674436.xml, 4816727.xml, 6483045...  \n",
       "47  4207326.xml, 6100120.xml, 4967133.xml, 5555883...  \n",
       "48  3582218.xml, 4670699.xml, 4562212.xml, 6388799...  \n",
       "49  4635309.xml, 5072878.xml, 5181040.xml, 6849616...  \n",
       "51  4617134.xml, 4051224.xml, 4752606.xml, 4978559...  \n",
       "52  5553463.xml, 5739184.xml, 6066525.xml, 5885916...  \n",
       "53  6908151.xml, 4841971.xml, 5609993.xml, 6296375...  \n",
       "54  6466004.xml, 4793724.xml, 5640046.xml, 6442890...  \n",
       "55  5884605.xml, 6296449.xml, 6421101.xml, 7003850...  \n",
       "56  4425935.xml, 4992183.xml, 5884566.xml, 6291001...  \n",
       "57  6159071.xml, 6477471.xml, 6211519.xml, 6591813...  \n",
       "59  3651521.xml, 4790478.xml, 5827249.xml, 6652468...  \n",
       "60  4982882.xml, 5226494.xml, 6552828.xml, 5580804...  \n",
       "61  4426087.xml, 4091117.xml, 6169695.xml, 6979505...  \n",
       "62  6499690.xml, 6004219.xml, 6036779.xml, 6030131...  \n",
       "63  6487178.xml, 4484560.xml, 5248277.xml, 6790597...  \n",
       "64  3175522.xml, 4774677.xml, 6493796.xml, 5355608...  "
      ]
     },
     "execution_count": 154,
     "metadata": {},
     "output_type": "execute_result"
    }
   ],
   "source": [
    "noise = aggr[dbscan_cluster == -1]\n",
    "noise"
   ]
  },
  {
   "cell_type": "code",
   "execution_count": 155,
   "metadata": {},
   "outputs": [
    {
     "data": {
      "application/vnd.plotly.v1+json": {
       "config": {
        "plotlyServerURL": "https://plot.ly"
       },
       "data": [
        {
         "marker": {
          "color": [
           "#00FE35",
           "#00FE35",
           "#6A76FC",
           "#FED4C4",
           "#00FE35",
           "#00FE35",
           "#FD3216",
           "#FD3216",
           "#FD3216",
           "#00FE35",
           "#FD3216",
           "#6A76FC",
           "#00FE35",
           "#FE00CE",
           "#FD3216",
           "#6A76FC",
           "#FD3216",
           "#FD3216",
           "#FD3216",
           "#00FE35",
           "#FED4C4",
           "#FD3216",
           "#00FE35",
           "#00FE35",
           "#FD3216",
           "#00FE35",
           "#FE00CE",
           "#00FE35",
           "#FD3216",
           "#FD3216",
           "#FD3216",
           "#FD3216",
           "#00FE35",
           "#FD3216",
           "#FD3216",
           "#FD3216",
           "#FD3216",
           "#FD3216",
           "#FD3216",
           "#00FE35",
           "#FD3216",
           "#FD3216",
           "#00FE35",
           "#FD3216",
           "#FD3216",
           "#00FE35",
           "#00FE35",
           "#FD3216",
           "#FD3216",
           "#FD3216",
           "#00FE35",
           "#FD3216",
           "#FD3216",
           "#FD3216",
           "#FD3216",
           "#FD3216",
           "#FD3216",
           "#FD3216",
           "#00FE35",
           "#FD3216",
           "#FD3216",
           "#FD3216",
           "#FD3216",
           "#FD3216",
           "#FD3216"
          ]
         },
         "mode": "markers",
         "text": [
          "English|1382|12181830",
          "French|204|1589231",
          "German|190|1676394",
          "Japanese|100|670914",
          "English, Spanish|78|810080",
          "Spanish|71|532378",
          "Korean|51|395234",
          "English, French|51|484261",
          "Turkish|45|485290",
          "French, English|45|361604",
          "Mandarin|33|237221",
          "German, English|29|243233",
          "English, Russian|24|240343",
          "English, German|24|207250",
          "Norwegian|23|147740",
          "Dutch|21|156794",
          "Danish|21|144459",
          "Italian|18|143324",
          "Swedish|18|136157",
          "English, Japanese|18|126810",
          "Russian|18|118492",
          "Icelandic|15|98198",
          "English, Ukrainian|13|135981",
          "Cantonese|13|95279",
          "English, Italian|13|147809",
          "Thai|12|78349",
          "English, Arabic|11|137156",
          "English, Mandarin|11|100770",
          "Hindi|11|105164",
          "Japanese, English|10|57035",
          "Spanish, English|10|69555",
          "Portuguese|10|73679",
          "English, Portuguese|9|83374",
          "French, German|8|58867",
          "Mandarin, English|8|54356",
          "Cantonese, English|7|41719",
          "Mandarin, Cantonese|7|47078",
          "German, Turkish|7|45473",
          "Chinese|6|44621",
          "English, French, Italian|6|42856",
          "French, Arabic|6|45145",
          "Korean, English|6|38277",
          "Swedish, English|5|43172",
          "English, French, German|5|57788",
          "Norwegian, English|5|29945",
          "English, Korean|5|52111",
          "English, Hebrew|5|67385",
          "Swiss German|5|30327",
          "Greek|5|26038",
          "French, Italian|5|36370",
          "English, Greek|5|42901",
          "English, Latin|5|42262",
          "English, Chinese|5|34642",
          "Polish|5|29621",
          "English, Arabic, Hebrew|4|21666",
          "Cantonese, Mandarin|4|27401",
          "English, Thai|4|30004",
          "Thai, English|4|22157",
          "French, Spanish|4|28061",
          "English, Italian, Spanish|4|38116",
          "Arabic|4|33941",
          "Arabic, French|4|25831",
          "Dutch, English|4|27648",
          "Russian, English|4|31430",
          "Romanian|4|31173"
         ],
         "type": "scatter",
         "x": [
          7.485511779785156,
          7.788224697113037,
          4.068058013916016,
          4.271691799163818,
          6.944581985473633,
          5.197750091552734,
          5.050644874572754,
          6.813378810882568,
          6.188145637512207,
          7.895562648773193,
          3.7480454444885254,
          4.046846389770508,
          6.276975631713867,
          6.224952220916748,
          5.029294967651367,
          4.284069538116455,
          4.13642692565918,
          6.037113189697266,
          4.72056770324707,
          5.448592662811279,
          4.276920318603516,
          5.226103782653809,
          6.380890369415283,
          4.302369594573975,
          7.288956165313721,
          4.023909568786621,
          5.926573753356934,
          6.074195384979248,
          6.58259391784668,
          4.0493059158325195,
          5.354051113128662,
          6.398094177246094,
          7.172966003417969,
          7.118131637573242,
          3.686810255050659,
          4.993870258331299,
          3.820706605911255,
          4.768337726593018,
          4.0911431312561035,
          7.6827569007873535,
          5.976606369018555,
          5.438588619232178,
          7.193906784057617,
          5.7482686042785645,
          5.5574798583984375,
          6.172884941101074,
          6.943062782287598,
          5.40777063369751,
          3.827089309692383,
          7.509289741516113,
          6.576155185699463,
          5.194779396057129,
          5.541426658630371,
          5.201502799987793,
          5.579812049865723,
          4.215255260467529,
          4.699914932250977,
          4.856224060058594,
          7.969611167907715,
          5.375639915466309,
          4.638524532318115,
          6.211503982543945,
          8.00744342803955,
          4.7727370262146,
          6.373019695281982
         ],
         "y": [
          1.151931881904602,
          2.0950889587402344,
          1.2472374439239502,
          2.316392421722412,
          1.4427891969680786,
          5.205454349517822,
          3.376138210296631,
          2.825284719467163,
          -0.18762634694576263,
          2.3217697143554688,
          4.581905841827393,
          1.4372339248657227,
          1.8292198181152344,
          2.833500862121582,
          -0.2681112587451935,
          1.0121556520462036,
          2.9792728424072266,
          -0.20406995713710785,
          -0.5357069373130798,
          2.4454798698425293,
          3.2115535736083984,
          -0.292654812335968,
          1.9253160953521729,
          5.153624534606934,
          2.5066845417022705,
          5.127280235290527,
          2.746053457260132,
          1.6058168411254883,
          3.0486011505126953,
          3.005446195602417,
          4.888594627380371,
          -0.052615441381931305,
          0.9510549902915955,
          3.008392810821533,
          3.858806610107422,
          2.9692115783691406,
          4.657948970794678,
          -0.4887063503265381,
          5.255434989929199,
          1.6885913610458374,
          4.978521823883057,
          3.1783180236816406,
          1.462599754333496,
          2.673430919647217,
          1.2370173931121826,
          1.7912800312042236,
          0.9968075156211853,
          -0.42173701524734497,
          3.5380473136901855,
          2.935026168823242,
          1.5161033868789673,
          3.6841936111450195,
          4.253672122955322,
          2.672877311706543,
          4.782458305358887,
          4.97129487991333,
          1.327505111694336,
          4.7273945808410645,
          2.3060905933380127,
          1.1592669486999512,
          5.199374198913574,
          4.952725410461426,
          2.3179221153259277,
          1.6546711921691895,
          0.3835182189941406
         ]
        }
       ],
       "layout": {
        "template": {
         "data": {
          "bar": [
           {
            "error_x": {
             "color": "#2a3f5f"
            },
            "error_y": {
             "color": "#2a3f5f"
            },
            "marker": {
             "line": {
              "color": "#E5ECF6",
              "width": 0.5
             }
            },
            "type": "bar"
           }
          ],
          "barpolar": [
           {
            "marker": {
             "line": {
              "color": "#E5ECF6",
              "width": 0.5
             }
            },
            "type": "barpolar"
           }
          ],
          "carpet": [
           {
            "aaxis": {
             "endlinecolor": "#2a3f5f",
             "gridcolor": "white",
             "linecolor": "white",
             "minorgridcolor": "white",
             "startlinecolor": "#2a3f5f"
            },
            "baxis": {
             "endlinecolor": "#2a3f5f",
             "gridcolor": "white",
             "linecolor": "white",
             "minorgridcolor": "white",
             "startlinecolor": "#2a3f5f"
            },
            "type": "carpet"
           }
          ],
          "choropleth": [
           {
            "colorbar": {
             "outlinewidth": 0,
             "ticks": ""
            },
            "type": "choropleth"
           }
          ],
          "contour": [
           {
            "colorbar": {
             "outlinewidth": 0,
             "ticks": ""
            },
            "colorscale": [
             [
              0,
              "#0d0887"
             ],
             [
              0.1111111111111111,
              "#46039f"
             ],
             [
              0.2222222222222222,
              "#7201a8"
             ],
             [
              0.3333333333333333,
              "#9c179e"
             ],
             [
              0.4444444444444444,
              "#bd3786"
             ],
             [
              0.5555555555555556,
              "#d8576b"
             ],
             [
              0.6666666666666666,
              "#ed7953"
             ],
             [
              0.7777777777777778,
              "#fb9f3a"
             ],
             [
              0.8888888888888888,
              "#fdca26"
             ],
             [
              1,
              "#f0f921"
             ]
            ],
            "type": "contour"
           }
          ],
          "contourcarpet": [
           {
            "colorbar": {
             "outlinewidth": 0,
             "ticks": ""
            },
            "type": "contourcarpet"
           }
          ],
          "heatmap": [
           {
            "colorbar": {
             "outlinewidth": 0,
             "ticks": ""
            },
            "colorscale": [
             [
              0,
              "#0d0887"
             ],
             [
              0.1111111111111111,
              "#46039f"
             ],
             [
              0.2222222222222222,
              "#7201a8"
             ],
             [
              0.3333333333333333,
              "#9c179e"
             ],
             [
              0.4444444444444444,
              "#bd3786"
             ],
             [
              0.5555555555555556,
              "#d8576b"
             ],
             [
              0.6666666666666666,
              "#ed7953"
             ],
             [
              0.7777777777777778,
              "#fb9f3a"
             ],
             [
              0.8888888888888888,
              "#fdca26"
             ],
             [
              1,
              "#f0f921"
             ]
            ],
            "type": "heatmap"
           }
          ],
          "heatmapgl": [
           {
            "colorbar": {
             "outlinewidth": 0,
             "ticks": ""
            },
            "colorscale": [
             [
              0,
              "#0d0887"
             ],
             [
              0.1111111111111111,
              "#46039f"
             ],
             [
              0.2222222222222222,
              "#7201a8"
             ],
             [
              0.3333333333333333,
              "#9c179e"
             ],
             [
              0.4444444444444444,
              "#bd3786"
             ],
             [
              0.5555555555555556,
              "#d8576b"
             ],
             [
              0.6666666666666666,
              "#ed7953"
             ],
             [
              0.7777777777777778,
              "#fb9f3a"
             ],
             [
              0.8888888888888888,
              "#fdca26"
             ],
             [
              1,
              "#f0f921"
             ]
            ],
            "type": "heatmapgl"
           }
          ],
          "histogram": [
           {
            "marker": {
             "colorbar": {
              "outlinewidth": 0,
              "ticks": ""
             }
            },
            "type": "histogram"
           }
          ],
          "histogram2d": [
           {
            "colorbar": {
             "outlinewidth": 0,
             "ticks": ""
            },
            "colorscale": [
             [
              0,
              "#0d0887"
             ],
             [
              0.1111111111111111,
              "#46039f"
             ],
             [
              0.2222222222222222,
              "#7201a8"
             ],
             [
              0.3333333333333333,
              "#9c179e"
             ],
             [
              0.4444444444444444,
              "#bd3786"
             ],
             [
              0.5555555555555556,
              "#d8576b"
             ],
             [
              0.6666666666666666,
              "#ed7953"
             ],
             [
              0.7777777777777778,
              "#fb9f3a"
             ],
             [
              0.8888888888888888,
              "#fdca26"
             ],
             [
              1,
              "#f0f921"
             ]
            ],
            "type": "histogram2d"
           }
          ],
          "histogram2dcontour": [
           {
            "colorbar": {
             "outlinewidth": 0,
             "ticks": ""
            },
            "colorscale": [
             [
              0,
              "#0d0887"
             ],
             [
              0.1111111111111111,
              "#46039f"
             ],
             [
              0.2222222222222222,
              "#7201a8"
             ],
             [
              0.3333333333333333,
              "#9c179e"
             ],
             [
              0.4444444444444444,
              "#bd3786"
             ],
             [
              0.5555555555555556,
              "#d8576b"
             ],
             [
              0.6666666666666666,
              "#ed7953"
             ],
             [
              0.7777777777777778,
              "#fb9f3a"
             ],
             [
              0.8888888888888888,
              "#fdca26"
             ],
             [
              1,
              "#f0f921"
             ]
            ],
            "type": "histogram2dcontour"
           }
          ],
          "mesh3d": [
           {
            "colorbar": {
             "outlinewidth": 0,
             "ticks": ""
            },
            "type": "mesh3d"
           }
          ],
          "parcoords": [
           {
            "line": {
             "colorbar": {
              "outlinewidth": 0,
              "ticks": ""
             }
            },
            "type": "parcoords"
           }
          ],
          "pie": [
           {
            "automargin": true,
            "type": "pie"
           }
          ],
          "scatter": [
           {
            "marker": {
             "colorbar": {
              "outlinewidth": 0,
              "ticks": ""
             }
            },
            "type": "scatter"
           }
          ],
          "scatter3d": [
           {
            "line": {
             "colorbar": {
              "outlinewidth": 0,
              "ticks": ""
             }
            },
            "marker": {
             "colorbar": {
              "outlinewidth": 0,
              "ticks": ""
             }
            },
            "type": "scatter3d"
           }
          ],
          "scattercarpet": [
           {
            "marker": {
             "colorbar": {
              "outlinewidth": 0,
              "ticks": ""
             }
            },
            "type": "scattercarpet"
           }
          ],
          "scattergeo": [
           {
            "marker": {
             "colorbar": {
              "outlinewidth": 0,
              "ticks": ""
             }
            },
            "type": "scattergeo"
           }
          ],
          "scattergl": [
           {
            "marker": {
             "colorbar": {
              "outlinewidth": 0,
              "ticks": ""
             }
            },
            "type": "scattergl"
           }
          ],
          "scattermapbox": [
           {
            "marker": {
             "colorbar": {
              "outlinewidth": 0,
              "ticks": ""
             }
            },
            "type": "scattermapbox"
           }
          ],
          "scatterpolar": [
           {
            "marker": {
             "colorbar": {
              "outlinewidth": 0,
              "ticks": ""
             }
            },
            "type": "scatterpolar"
           }
          ],
          "scatterpolargl": [
           {
            "marker": {
             "colorbar": {
              "outlinewidth": 0,
              "ticks": ""
             }
            },
            "type": "scatterpolargl"
           }
          ],
          "scatterternary": [
           {
            "marker": {
             "colorbar": {
              "outlinewidth": 0,
              "ticks": ""
             }
            },
            "type": "scatterternary"
           }
          ],
          "surface": [
           {
            "colorbar": {
             "outlinewidth": 0,
             "ticks": ""
            },
            "colorscale": [
             [
              0,
              "#0d0887"
             ],
             [
              0.1111111111111111,
              "#46039f"
             ],
             [
              0.2222222222222222,
              "#7201a8"
             ],
             [
              0.3333333333333333,
              "#9c179e"
             ],
             [
              0.4444444444444444,
              "#bd3786"
             ],
             [
              0.5555555555555556,
              "#d8576b"
             ],
             [
              0.6666666666666666,
              "#ed7953"
             ],
             [
              0.7777777777777778,
              "#fb9f3a"
             ],
             [
              0.8888888888888888,
              "#fdca26"
             ],
             [
              1,
              "#f0f921"
             ]
            ],
            "type": "surface"
           }
          ],
          "table": [
           {
            "cells": {
             "fill": {
              "color": "#EBF0F8"
             },
             "line": {
              "color": "white"
             }
            },
            "header": {
             "fill": {
              "color": "#C8D4E3"
             },
             "line": {
              "color": "white"
             }
            },
            "type": "table"
           }
          ]
         },
         "layout": {
          "annotationdefaults": {
           "arrowcolor": "#2a3f5f",
           "arrowhead": 0,
           "arrowwidth": 1
          },
          "coloraxis": {
           "colorbar": {
            "outlinewidth": 0,
            "ticks": ""
           }
          },
          "colorscale": {
           "diverging": [
            [
             0,
             "#8e0152"
            ],
            [
             0.1,
             "#c51b7d"
            ],
            [
             0.2,
             "#de77ae"
            ],
            [
             0.3,
             "#f1b6da"
            ],
            [
             0.4,
             "#fde0ef"
            ],
            [
             0.5,
             "#f7f7f7"
            ],
            [
             0.6,
             "#e6f5d0"
            ],
            [
             0.7,
             "#b8e186"
            ],
            [
             0.8,
             "#7fbc41"
            ],
            [
             0.9,
             "#4d9221"
            ],
            [
             1,
             "#276419"
            ]
           ],
           "sequential": [
            [
             0,
             "#0d0887"
            ],
            [
             0.1111111111111111,
             "#46039f"
            ],
            [
             0.2222222222222222,
             "#7201a8"
            ],
            [
             0.3333333333333333,
             "#9c179e"
            ],
            [
             0.4444444444444444,
             "#bd3786"
            ],
            [
             0.5555555555555556,
             "#d8576b"
            ],
            [
             0.6666666666666666,
             "#ed7953"
            ],
            [
             0.7777777777777778,
             "#fb9f3a"
            ],
            [
             0.8888888888888888,
             "#fdca26"
            ],
            [
             1,
             "#f0f921"
            ]
           ],
           "sequentialminus": [
            [
             0,
             "#0d0887"
            ],
            [
             0.1111111111111111,
             "#46039f"
            ],
            [
             0.2222222222222222,
             "#7201a8"
            ],
            [
             0.3333333333333333,
             "#9c179e"
            ],
            [
             0.4444444444444444,
             "#bd3786"
            ],
            [
             0.5555555555555556,
             "#d8576b"
            ],
            [
             0.6666666666666666,
             "#ed7953"
            ],
            [
             0.7777777777777778,
             "#fb9f3a"
            ],
            [
             0.8888888888888888,
             "#fdca26"
            ],
            [
             1,
             "#f0f921"
            ]
           ]
          },
          "colorway": [
           "#636efa",
           "#EF553B",
           "#00cc96",
           "#ab63fa",
           "#FFA15A",
           "#19d3f3",
           "#FF6692",
           "#B6E880",
           "#FF97FF",
           "#FECB52"
          ],
          "font": {
           "color": "#2a3f5f"
          },
          "geo": {
           "bgcolor": "white",
           "lakecolor": "white",
           "landcolor": "#E5ECF6",
           "showlakes": true,
           "showland": true,
           "subunitcolor": "white"
          },
          "hoverlabel": {
           "align": "left"
          },
          "hovermode": "closest",
          "mapbox": {
           "style": "light"
          },
          "paper_bgcolor": "white",
          "plot_bgcolor": "#E5ECF6",
          "polar": {
           "angularaxis": {
            "gridcolor": "white",
            "linecolor": "white",
            "ticks": ""
           },
           "bgcolor": "#E5ECF6",
           "radialaxis": {
            "gridcolor": "white",
            "linecolor": "white",
            "ticks": ""
           }
          },
          "scene": {
           "xaxis": {
            "backgroundcolor": "#E5ECF6",
            "gridcolor": "white",
            "gridwidth": 2,
            "linecolor": "white",
            "showbackground": true,
            "ticks": "",
            "zerolinecolor": "white"
           },
           "yaxis": {
            "backgroundcolor": "#E5ECF6",
            "gridcolor": "white",
            "gridwidth": 2,
            "linecolor": "white",
            "showbackground": true,
            "ticks": "",
            "zerolinecolor": "white"
           },
           "zaxis": {
            "backgroundcolor": "#E5ECF6",
            "gridcolor": "white",
            "gridwidth": 2,
            "linecolor": "white",
            "showbackground": true,
            "ticks": "",
            "zerolinecolor": "white"
           }
          },
          "shapedefaults": {
           "line": {
            "color": "#2a3f5f"
           }
          },
          "ternary": {
           "aaxis": {
            "gridcolor": "white",
            "linecolor": "white",
            "ticks": ""
           },
           "baxis": {
            "gridcolor": "white",
            "linecolor": "white",
            "ticks": ""
           },
           "bgcolor": "#E5ECF6",
           "caxis": {
            "gridcolor": "white",
            "linecolor": "white",
            "ticks": ""
           }
          },
          "title": {
           "x": 0.05
          },
          "xaxis": {
           "automargin": true,
           "gridcolor": "white",
           "linecolor": "white",
           "ticks": "",
           "title": {
            "standoff": 15
           },
           "zerolinecolor": "white",
           "zerolinewidth": 2
          },
          "yaxis": {
           "automargin": true,
           "gridcolor": "white",
           "linecolor": "white",
           "ticks": "",
           "title": {
            "standoff": 15
           },
           "zerolinecolor": "white",
           "zerolinewidth": 2
          }
         }
        }
       }
      },
      "text/html": [
       "<div>\n",
       "        \n",
       "        \n",
       "            <div id=\"7c210443-0041-45d9-858b-382a76b02ef5\" class=\"plotly-graph-div\" style=\"height:525px; width:100%;\"></div>\n",
       "            <script type=\"text/javascript\">\n",
       "                require([\"plotly\"], function(Plotly) {\n",
       "                    window.PLOTLYENV=window.PLOTLYENV || {};\n",
       "                    \n",
       "                if (document.getElementById(\"7c210443-0041-45d9-858b-382a76b02ef5\")) {\n",
       "                    Plotly.newPlot(\n",
       "                        '7c210443-0041-45d9-858b-382a76b02ef5',\n",
       "                        [{\"marker\": {\"color\": [\"#00FE35\", \"#00FE35\", \"#6A76FC\", \"#FED4C4\", \"#00FE35\", \"#00FE35\", \"#FD3216\", \"#FD3216\", \"#FD3216\", \"#00FE35\", \"#FD3216\", \"#6A76FC\", \"#00FE35\", \"#FE00CE\", \"#FD3216\", \"#6A76FC\", \"#FD3216\", \"#FD3216\", \"#FD3216\", \"#00FE35\", \"#FED4C4\", \"#FD3216\", \"#00FE35\", \"#00FE35\", \"#FD3216\", \"#00FE35\", \"#FE00CE\", \"#00FE35\", \"#FD3216\", \"#FD3216\", \"#FD3216\", \"#FD3216\", \"#00FE35\", \"#FD3216\", \"#FD3216\", \"#FD3216\", \"#FD3216\", \"#FD3216\", \"#FD3216\", \"#00FE35\", \"#FD3216\", \"#FD3216\", \"#00FE35\", \"#FD3216\", \"#FD3216\", \"#00FE35\", \"#00FE35\", \"#FD3216\", \"#FD3216\", \"#FD3216\", \"#00FE35\", \"#FD3216\", \"#FD3216\", \"#FD3216\", \"#FD3216\", \"#FD3216\", \"#FD3216\", \"#FD3216\", \"#00FE35\", \"#FD3216\", \"#FD3216\", \"#FD3216\", \"#FD3216\", \"#FD3216\", \"#FD3216\"]}, \"mode\": \"markers\", \"text\": [\"English|1382|12181830\", \"French|204|1589231\", \"German|190|1676394\", \"Japanese|100|670914\", \"English, Spanish|78|810080\", \"Spanish|71|532378\", \"Korean|51|395234\", \"English, French|51|484261\", \"Turkish|45|485290\", \"French, English|45|361604\", \"Mandarin|33|237221\", \"German, English|29|243233\", \"English, Russian|24|240343\", \"English, German|24|207250\", \"Norwegian|23|147740\", \"Dutch|21|156794\", \"Danish|21|144459\", \"Italian|18|143324\", \"Swedish|18|136157\", \"English, Japanese|18|126810\", \"Russian|18|118492\", \"Icelandic|15|98198\", \"English, Ukrainian|13|135981\", \"Cantonese|13|95279\", \"English, Italian|13|147809\", \"Thai|12|78349\", \"English, Arabic|11|137156\", \"English, Mandarin|11|100770\", \"Hindi|11|105164\", \"Japanese, English|10|57035\", \"Spanish, English|10|69555\", \"Portuguese|10|73679\", \"English, Portuguese|9|83374\", \"French, German|8|58867\", \"Mandarin, English|8|54356\", \"Cantonese, English|7|41719\", \"Mandarin, Cantonese|7|47078\", \"German, Turkish|7|45473\", \"Chinese|6|44621\", \"English, French, Italian|6|42856\", \"French, Arabic|6|45145\", \"Korean, English|6|38277\", \"Swedish, English|5|43172\", \"English, French, German|5|57788\", \"Norwegian, English|5|29945\", \"English, Korean|5|52111\", \"English, Hebrew|5|67385\", \"Swiss German|5|30327\", \"Greek|5|26038\", \"French, Italian|5|36370\", \"English, Greek|5|42901\", \"English, Latin|5|42262\", \"English, Chinese|5|34642\", \"Polish|5|29621\", \"English, Arabic, Hebrew|4|21666\", \"Cantonese, Mandarin|4|27401\", \"English, Thai|4|30004\", \"Thai, English|4|22157\", \"French, Spanish|4|28061\", \"English, Italian, Spanish|4|38116\", \"Arabic|4|33941\", \"Arabic, French|4|25831\", \"Dutch, English|4|27648\", \"Russian, English|4|31430\", \"Romanian|4|31173\"], \"type\": \"scatter\", \"x\": [7.485511779785156, 7.788224697113037, 4.068058013916016, 4.271691799163818, 6.944581985473633, 5.197750091552734, 5.050644874572754, 6.813378810882568, 6.188145637512207, 7.895562648773193, 3.7480454444885254, 4.046846389770508, 6.276975631713867, 6.224952220916748, 5.029294967651367, 4.284069538116455, 4.13642692565918, 6.037113189697266, 4.72056770324707, 5.448592662811279, 4.276920318603516, 5.226103782653809, 6.380890369415283, 4.302369594573975, 7.288956165313721, 4.023909568786621, 5.926573753356934, 6.074195384979248, 6.58259391784668, 4.0493059158325195, 5.354051113128662, 6.398094177246094, 7.172966003417969, 7.118131637573242, 3.686810255050659, 4.993870258331299, 3.820706605911255, 4.768337726593018, 4.0911431312561035, 7.6827569007873535, 5.976606369018555, 5.438588619232178, 7.193906784057617, 5.7482686042785645, 5.5574798583984375, 6.172884941101074, 6.943062782287598, 5.40777063369751, 3.827089309692383, 7.509289741516113, 6.576155185699463, 5.194779396057129, 5.541426658630371, 5.201502799987793, 5.579812049865723, 4.215255260467529, 4.699914932250977, 4.856224060058594, 7.969611167907715, 5.375639915466309, 4.638524532318115, 6.211503982543945, 8.00744342803955, 4.7727370262146, 6.373019695281982], \"y\": [1.151931881904602, 2.0950889587402344, 1.2472374439239502, 2.316392421722412, 1.4427891969680786, 5.205454349517822, 3.376138210296631, 2.825284719467163, -0.18762634694576263, 2.3217697143554688, 4.581905841827393, 1.4372339248657227, 1.8292198181152344, 2.833500862121582, -0.2681112587451935, 1.0121556520462036, 2.9792728424072266, -0.20406995713710785, -0.5357069373130798, 2.4454798698425293, 3.2115535736083984, -0.292654812335968, 1.9253160953521729, 5.153624534606934, 2.5066845417022705, 5.127280235290527, 2.746053457260132, 1.6058168411254883, 3.0486011505126953, 3.005446195602417, 4.888594627380371, -0.052615441381931305, 0.9510549902915955, 3.008392810821533, 3.858806610107422, 2.9692115783691406, 4.657948970794678, -0.4887063503265381, 5.255434989929199, 1.6885913610458374, 4.978521823883057, 3.1783180236816406, 1.462599754333496, 2.673430919647217, 1.2370173931121826, 1.7912800312042236, 0.9968075156211853, -0.42173701524734497, 3.5380473136901855, 2.935026168823242, 1.5161033868789673, 3.6841936111450195, 4.253672122955322, 2.672877311706543, 4.782458305358887, 4.97129487991333, 1.327505111694336, 4.7273945808410645, 2.3060905933380127, 1.1592669486999512, 5.199374198913574, 4.952725410461426, 2.3179221153259277, 1.6546711921691895, 0.3835182189941406]}],\n",
       "                        {\"template\": {\"data\": {\"bar\": [{\"error_x\": {\"color\": \"#2a3f5f\"}, \"error_y\": {\"color\": \"#2a3f5f\"}, \"marker\": {\"line\": {\"color\": \"#E5ECF6\", \"width\": 0.5}}, \"type\": \"bar\"}], \"barpolar\": [{\"marker\": {\"line\": {\"color\": \"#E5ECF6\", \"width\": 0.5}}, \"type\": \"barpolar\"}], \"carpet\": [{\"aaxis\": {\"endlinecolor\": \"#2a3f5f\", \"gridcolor\": \"white\", \"linecolor\": \"white\", \"minorgridcolor\": \"white\", \"startlinecolor\": \"#2a3f5f\"}, \"baxis\": {\"endlinecolor\": \"#2a3f5f\", \"gridcolor\": \"white\", \"linecolor\": \"white\", \"minorgridcolor\": \"white\", \"startlinecolor\": \"#2a3f5f\"}, \"type\": \"carpet\"}], \"choropleth\": [{\"colorbar\": {\"outlinewidth\": 0, \"ticks\": \"\"}, \"type\": \"choropleth\"}], \"contour\": [{\"colorbar\": {\"outlinewidth\": 0, \"ticks\": \"\"}, \"colorscale\": [[0.0, \"#0d0887\"], [0.1111111111111111, \"#46039f\"], [0.2222222222222222, \"#7201a8\"], [0.3333333333333333, \"#9c179e\"], [0.4444444444444444, \"#bd3786\"], [0.5555555555555556, \"#d8576b\"], [0.6666666666666666, \"#ed7953\"], [0.7777777777777778, \"#fb9f3a\"], [0.8888888888888888, \"#fdca26\"], [1.0, \"#f0f921\"]], \"type\": \"contour\"}], \"contourcarpet\": [{\"colorbar\": {\"outlinewidth\": 0, \"ticks\": \"\"}, \"type\": \"contourcarpet\"}], \"heatmap\": [{\"colorbar\": {\"outlinewidth\": 0, \"ticks\": \"\"}, \"colorscale\": [[0.0, \"#0d0887\"], [0.1111111111111111, \"#46039f\"], [0.2222222222222222, \"#7201a8\"], [0.3333333333333333, \"#9c179e\"], [0.4444444444444444, \"#bd3786\"], [0.5555555555555556, \"#d8576b\"], [0.6666666666666666, \"#ed7953\"], [0.7777777777777778, \"#fb9f3a\"], [0.8888888888888888, \"#fdca26\"], [1.0, \"#f0f921\"]], \"type\": \"heatmap\"}], \"heatmapgl\": [{\"colorbar\": {\"outlinewidth\": 0, \"ticks\": \"\"}, \"colorscale\": [[0.0, \"#0d0887\"], [0.1111111111111111, \"#46039f\"], [0.2222222222222222, \"#7201a8\"], [0.3333333333333333, \"#9c179e\"], [0.4444444444444444, \"#bd3786\"], [0.5555555555555556, \"#d8576b\"], [0.6666666666666666, \"#ed7953\"], [0.7777777777777778, \"#fb9f3a\"], [0.8888888888888888, \"#fdca26\"], [1.0, \"#f0f921\"]], \"type\": \"heatmapgl\"}], \"histogram\": [{\"marker\": {\"colorbar\": {\"outlinewidth\": 0, \"ticks\": \"\"}}, \"type\": \"histogram\"}], \"histogram2d\": [{\"colorbar\": {\"outlinewidth\": 0, \"ticks\": \"\"}, \"colorscale\": [[0.0, \"#0d0887\"], [0.1111111111111111, \"#46039f\"], [0.2222222222222222, \"#7201a8\"], [0.3333333333333333, \"#9c179e\"], [0.4444444444444444, \"#bd3786\"], [0.5555555555555556, \"#d8576b\"], [0.6666666666666666, \"#ed7953\"], [0.7777777777777778, \"#fb9f3a\"], [0.8888888888888888, \"#fdca26\"], [1.0, \"#f0f921\"]], \"type\": \"histogram2d\"}], \"histogram2dcontour\": [{\"colorbar\": {\"outlinewidth\": 0, \"ticks\": \"\"}, \"colorscale\": [[0.0, \"#0d0887\"], [0.1111111111111111, \"#46039f\"], [0.2222222222222222, \"#7201a8\"], [0.3333333333333333, \"#9c179e\"], [0.4444444444444444, \"#bd3786\"], [0.5555555555555556, \"#d8576b\"], [0.6666666666666666, \"#ed7953\"], [0.7777777777777778, \"#fb9f3a\"], [0.8888888888888888, \"#fdca26\"], [1.0, \"#f0f921\"]], \"type\": \"histogram2dcontour\"}], \"mesh3d\": [{\"colorbar\": {\"outlinewidth\": 0, \"ticks\": \"\"}, \"type\": \"mesh3d\"}], \"parcoords\": [{\"line\": {\"colorbar\": {\"outlinewidth\": 0, \"ticks\": \"\"}}, \"type\": \"parcoords\"}], \"pie\": [{\"automargin\": true, \"type\": \"pie\"}], \"scatter\": [{\"marker\": {\"colorbar\": {\"outlinewidth\": 0, \"ticks\": \"\"}}, \"type\": \"scatter\"}], \"scatter3d\": [{\"line\": {\"colorbar\": {\"outlinewidth\": 0, \"ticks\": \"\"}}, \"marker\": {\"colorbar\": {\"outlinewidth\": 0, \"ticks\": \"\"}}, \"type\": \"scatter3d\"}], \"scattercarpet\": [{\"marker\": {\"colorbar\": {\"outlinewidth\": 0, \"ticks\": \"\"}}, \"type\": \"scattercarpet\"}], \"scattergeo\": [{\"marker\": {\"colorbar\": {\"outlinewidth\": 0, \"ticks\": \"\"}}, \"type\": \"scattergeo\"}], \"scattergl\": [{\"marker\": {\"colorbar\": {\"outlinewidth\": 0, \"ticks\": \"\"}}, \"type\": \"scattergl\"}], \"scattermapbox\": [{\"marker\": {\"colorbar\": {\"outlinewidth\": 0, \"ticks\": \"\"}}, \"type\": \"scattermapbox\"}], \"scatterpolar\": [{\"marker\": {\"colorbar\": {\"outlinewidth\": 0, \"ticks\": \"\"}}, \"type\": \"scatterpolar\"}], \"scatterpolargl\": [{\"marker\": {\"colorbar\": {\"outlinewidth\": 0, \"ticks\": \"\"}}, \"type\": \"scatterpolargl\"}], \"scatterternary\": [{\"marker\": {\"colorbar\": {\"outlinewidth\": 0, \"ticks\": \"\"}}, \"type\": \"scatterternary\"}], \"surface\": [{\"colorbar\": {\"outlinewidth\": 0, \"ticks\": \"\"}, \"colorscale\": [[0.0, \"#0d0887\"], [0.1111111111111111, \"#46039f\"], [0.2222222222222222, \"#7201a8\"], [0.3333333333333333, \"#9c179e\"], [0.4444444444444444, \"#bd3786\"], [0.5555555555555556, \"#d8576b\"], [0.6666666666666666, \"#ed7953\"], [0.7777777777777778, \"#fb9f3a\"], [0.8888888888888888, \"#fdca26\"], [1.0, \"#f0f921\"]], \"type\": \"surface\"}], \"table\": [{\"cells\": {\"fill\": {\"color\": \"#EBF0F8\"}, \"line\": {\"color\": \"white\"}}, \"header\": {\"fill\": {\"color\": \"#C8D4E3\"}, \"line\": {\"color\": \"white\"}}, \"type\": \"table\"}]}, \"layout\": {\"annotationdefaults\": {\"arrowcolor\": \"#2a3f5f\", \"arrowhead\": 0, \"arrowwidth\": 1}, \"coloraxis\": {\"colorbar\": {\"outlinewidth\": 0, \"ticks\": \"\"}}, \"colorscale\": {\"diverging\": [[0, \"#8e0152\"], [0.1, \"#c51b7d\"], [0.2, \"#de77ae\"], [0.3, \"#f1b6da\"], [0.4, \"#fde0ef\"], [0.5, \"#f7f7f7\"], [0.6, \"#e6f5d0\"], [0.7, \"#b8e186\"], [0.8, \"#7fbc41\"], [0.9, \"#4d9221\"], [1, \"#276419\"]], \"sequential\": [[0.0, \"#0d0887\"], [0.1111111111111111, \"#46039f\"], [0.2222222222222222, \"#7201a8\"], [0.3333333333333333, \"#9c179e\"], [0.4444444444444444, \"#bd3786\"], [0.5555555555555556, \"#d8576b\"], [0.6666666666666666, \"#ed7953\"], [0.7777777777777778, \"#fb9f3a\"], [0.8888888888888888, \"#fdca26\"], [1.0, \"#f0f921\"]], \"sequentialminus\": [[0.0, \"#0d0887\"], [0.1111111111111111, \"#46039f\"], [0.2222222222222222, \"#7201a8\"], [0.3333333333333333, \"#9c179e\"], [0.4444444444444444, \"#bd3786\"], [0.5555555555555556, \"#d8576b\"], [0.6666666666666666, \"#ed7953\"], [0.7777777777777778, \"#fb9f3a\"], [0.8888888888888888, \"#fdca26\"], [1.0, \"#f0f921\"]]}, \"colorway\": [\"#636efa\", \"#EF553B\", \"#00cc96\", \"#ab63fa\", \"#FFA15A\", \"#19d3f3\", \"#FF6692\", \"#B6E880\", \"#FF97FF\", \"#FECB52\"], \"font\": {\"color\": \"#2a3f5f\"}, \"geo\": {\"bgcolor\": \"white\", \"lakecolor\": \"white\", \"landcolor\": \"#E5ECF6\", \"showlakes\": true, \"showland\": true, \"subunitcolor\": \"white\"}, \"hoverlabel\": {\"align\": \"left\"}, \"hovermode\": \"closest\", \"mapbox\": {\"style\": \"light\"}, \"paper_bgcolor\": \"white\", \"plot_bgcolor\": \"#E5ECF6\", \"polar\": {\"angularaxis\": {\"gridcolor\": \"white\", \"linecolor\": \"white\", \"ticks\": \"\"}, \"bgcolor\": \"#E5ECF6\", \"radialaxis\": {\"gridcolor\": \"white\", \"linecolor\": \"white\", \"ticks\": \"\"}}, \"scene\": {\"xaxis\": {\"backgroundcolor\": \"#E5ECF6\", \"gridcolor\": \"white\", \"gridwidth\": 2, \"linecolor\": \"white\", \"showbackground\": true, \"ticks\": \"\", \"zerolinecolor\": \"white\"}, \"yaxis\": {\"backgroundcolor\": \"#E5ECF6\", \"gridcolor\": \"white\", \"gridwidth\": 2, \"linecolor\": \"white\", \"showbackground\": true, \"ticks\": \"\", \"zerolinecolor\": \"white\"}, \"zaxis\": {\"backgroundcolor\": \"#E5ECF6\", \"gridcolor\": \"white\", \"gridwidth\": 2, \"linecolor\": \"white\", \"showbackground\": true, \"ticks\": \"\", \"zerolinecolor\": \"white\"}}, \"shapedefaults\": {\"line\": {\"color\": \"#2a3f5f\"}}, \"ternary\": {\"aaxis\": {\"gridcolor\": \"white\", \"linecolor\": \"white\", \"ticks\": \"\"}, \"baxis\": {\"gridcolor\": \"white\", \"linecolor\": \"white\", \"ticks\": \"\"}, \"bgcolor\": \"#E5ECF6\", \"caxis\": {\"gridcolor\": \"white\", \"linecolor\": \"white\", \"ticks\": \"\"}}, \"title\": {\"x\": 0.05}, \"xaxis\": {\"automargin\": true, \"gridcolor\": \"white\", \"linecolor\": \"white\", \"ticks\": \"\", \"title\": {\"standoff\": 15}, \"zerolinecolor\": \"white\", \"zerolinewidth\": 2}, \"yaxis\": {\"automargin\": true, \"gridcolor\": \"white\", \"linecolor\": \"white\", \"ticks\": \"\", \"title\": {\"standoff\": 15}, \"zerolinecolor\": \"white\", \"zerolinewidth\": 2}}}},\n",
       "                        {\"responsive\": true}\n",
       "                    ).then(function(){\n",
       "                            \n",
       "var gd = document.getElementById('7c210443-0041-45d9-858b-382a76b02ef5');\n",
       "var x = new MutationObserver(function (mutations, observer) {{\n",
       "        var display = window.getComputedStyle(gd).display;\n",
       "        if (!display || display === 'none') {{\n",
       "            console.log([gd, 'removed!']);\n",
       "            Plotly.purge(gd);\n",
       "            observer.disconnect();\n",
       "        }}\n",
       "}});\n",
       "\n",
       "// Listen for the removal of the full notebook cells\n",
       "var notebookContainer = gd.closest('#notebook-container');\n",
       "if (notebookContainer) {{\n",
       "    x.observe(notebookContainer, {childList: true});\n",
       "}}\n",
       "\n",
       "// Listen for the clearing of the current output cell\n",
       "var outputEl = gd.closest('.output');\n",
       "if (outputEl) {{\n",
       "    x.observe(outputEl, {childList: true});\n",
       "}}\n",
       "\n",
       "                        })\n",
       "                };\n",
       "                });\n",
       "            </script>\n",
       "        </div>"
      ]
     },
     "metadata": {},
     "output_type": "display_data"
    }
   ],
   "source": [
    "fig = go.Figure(data=go.Scatter(x=Xr[:, 0],\n",
    "                                y=Xr[:, 1],\n",
    "                                mode='markers',\n",
    "                                text=[\n",
    "                                    f'{label}|{n_texts}|{n_tokens}' for label, n_texts, n_tokens in zip(aggr.label, aggr.n_texts, aggr.n_tokens)\n",
    "                                ],\n",
    "                                marker_color=plotly_color_categorical_values(dbscan_cluster)))\n",
    "\n",
    "\n",
    "fig.show()"
   ]
  },
  {
   "cell_type": "code",
   "execution_count": 156,
   "metadata": {},
   "outputs": [
    {
     "data": {
      "text/plain": [
       "<matplotlib.axes._subplots.AxesSubplot at 0x7f8c743f9eb0>"
      ]
     },
     "execution_count": 156,
     "metadata": {},
     "output_type": "execute_result"
    },
    {
     "data": {
      "image/png": "[encoded data removed]",
      "text/plain": [
       "<Figure size 432x288 with 1 Axes>"
      ]
     },
     "metadata": {
      "needs_background": "light"
     },
     "output_type": "display_data"
    }
   ],
   "source": [
    "import seaborn as sns\n",
    "sns.scatterplot(x=Xr[:, 0],\n",
    "                y=Xr[:, 1],\n",
    "               hue=[f'C{i}' for i in dbscan_cluster])"
   ]
  },
  {
   "cell_type": "code",
   "execution_count": 157,
   "metadata": {},
   "outputs": [
    {
     "data": {
      "text/plain": [
       "2.7017051854822056"
      ]
     },
     "execution_count": 157,
     "metadata": {},
     "output_type": "execute_result"
    }
   ],
   "source": [
    "if len(dbscan_cluster_counts) > 1:\n",
    "    dbscan_dbscore = davies_bouldin_score(X, dbscan_cluster)\n",
    "else:\n",
    "    dbscan_dbscore = None\n",
    "dbscan_dbscore"
   ]
  },
  {
   "cell_type": "code",
   "execution_count": 158,
   "metadata": {},
   "outputs": [
    {
     "data": {
      "text/plain": [
       "2.015132364595488"
      ]
     },
     "execution_count": 158,
     "metadata": {},
     "output_type": "execute_result"
    }
   ],
   "source": [
    "if len(dbscan_cluster_counts) > 1:\n",
    "    dbscan_chscore = calinski_harabasz_score(X, dbscan_cluster)\n",
    "else:\n",
    "    dbscan_chscore = None\n",
    "dbscan_chscore"
   ]
  },
  {
   "cell_type": "markdown",
   "metadata": {},
   "source": [
    "## GaussianMixtureModels Clustering"
   ]
  },
  {
   "cell_type": "code",
   "execution_count": 159,
   "metadata": {},
   "outputs": [],
   "source": [
    "gmm = GaussianMixture(n_components=n_single_labels)"
   ]
  },
  {
   "cell_type": "code",
   "execution_count": 160,
   "metadata": {},
   "outputs": [],
   "source": [
    "gmm_cluster = gmm.fit_predict(X)\n",
    "probs = gmm.predict_proba(X)"
   ]
  },
  {
   "cell_type": "code",
   "execution_count": 161,
   "metadata": {},
   "outputs": [],
   "source": [
    "gmm_dfs = get_cluster_dfs(aggr, gmm_cluster)"
   ]
  },
  {
   "cell_type": "markdown",
   "metadata": {},
   "source": [
    "gmm_cluster_counts = cluster_distribution(gmm_cluster)"
   ]
  },
  {
   "cell_type": "code",
   "execution_count": 162,
   "metadata": {},
   "outputs": [
    {
     "name": "stdout",
     "output_type": "stream",
     "text": [
      "Need more colors than current cmap holds\n"
     ]
    },
    {
     "data": {
      "application/vnd.plotly.v1+json": {
       "config": {
        "plotlyServerURL": "https://plot.ly"
       },
       "data": [
        {
         "mode": "markers",
         "text": [
          "English|1382",
          "French|204",
          "German|190",
          "Japanese|100",
          "English, Spanish|78",
          "Spanish|71",
          "Korean|51",
          "English, French|51",
          "Turkish|45",
          "French, English|45",
          "Mandarin|33",
          "German, English|29",
          "English, Russian|24",
          "English, German|24",
          "Norwegian|23",
          "Dutch|21",
          "Danish|21",
          "Italian|18",
          "Swedish|18",
          "English, Japanese|18",
          "Russian|18",
          "Icelandic|15",
          "English, Ukrainian|13",
          "Cantonese|13",
          "English, Italian|13",
          "Thai|12",
          "English, Arabic|11",
          "English, Mandarin|11",
          "Hindi|11",
          "Japanese, English|10",
          "Spanish, English|10",
          "Portuguese|10",
          "English, Portuguese|9",
          "French, German|8",
          "Mandarin, English|8",
          "Cantonese, English|7",
          "Mandarin, Cantonese|7",
          "German, Turkish|7",
          "Chinese|6",
          "English, French, Italian|6",
          "French, Arabic|6",
          "Korean, English|6",
          "Swedish, English|5",
          "English, French, German|5",
          "Norwegian, English|5",
          "English, Korean|5",
          "English, Hebrew|5",
          "Swiss German|5",
          "Greek|5",
          "French, Italian|5",
          "English, Greek|5",
          "English, Latin|5",
          "English, Chinese|5",
          "Polish|5",
          "English, Arabic, Hebrew|4",
          "Cantonese, Mandarin|4",
          "English, Thai|4",
          "Thai, English|4",
          "French, Spanish|4",
          "English, Italian, Spanish|4",
          "Arabic|4",
          "Arabic, French|4",
          "Dutch, English|4",
          "Russian, English|4",
          "Romanian|4"
         ],
         "type": "scatter",
         "x": [
          7.485511779785156,
          7.788224697113037,
          4.068058013916016,
          4.271691799163818,
          6.944581985473633,
          5.197750091552734,
          5.050644874572754,
          6.813378810882568,
          6.188145637512207,
          7.895562648773193,
          3.7480454444885254,
          4.046846389770508,
          6.276975631713867,
          6.224952220916748,
          5.029294967651367,
          4.284069538116455,
          4.13642692565918,
          6.037113189697266,
          4.72056770324707,
          5.448592662811279,
          4.276920318603516,
          5.226103782653809,
          6.380890369415283,
          4.302369594573975,
          7.288956165313721,
          4.023909568786621,
          5.926573753356934,
          6.074195384979248,
          6.58259391784668,
          4.0493059158325195,
          5.354051113128662,
          6.398094177246094,
          7.172966003417969,
          7.118131637573242,
          3.686810255050659,
          4.993870258331299,
          3.820706605911255,
          4.768337726593018,
          4.0911431312561035,
          7.6827569007873535,
          5.976606369018555,
          5.438588619232178,
          7.193906784057617,
          5.7482686042785645,
          5.5574798583984375,
          6.172884941101074,
          6.943062782287598,
          5.40777063369751,
          3.827089309692383,
          7.509289741516113,
          6.576155185699463,
          5.194779396057129,
          5.541426658630371,
          5.201502799987793,
          5.579812049865723,
          4.215255260467529,
          4.699914932250977,
          4.856224060058594,
          7.969611167907715,
          5.375639915466309,
          4.638524532318115,
          6.211503982543945,
          8.00744342803955,
          4.7727370262146,
          6.373019695281982
         ],
         "y": [
          1.151931881904602,
          2.0950889587402344,
          1.2472374439239502,
          2.316392421722412,
          1.4427891969680786,
          5.205454349517822,
          3.376138210296631,
          2.825284719467163,
          -0.18762634694576263,
          2.3217697143554688,
          4.581905841827393,
          1.4372339248657227,
          1.8292198181152344,
          2.833500862121582,
          -0.2681112587451935,
          1.0121556520462036,
          2.9792728424072266,
          -0.20406995713710785,
          -0.5357069373130798,
          2.4454798698425293,
          3.2115535736083984,
          -0.292654812335968,
          1.9253160953521729,
          5.153624534606934,
          2.5066845417022705,
          5.127280235290527,
          2.746053457260132,
          1.6058168411254883,
          3.0486011505126953,
          3.005446195602417,
          4.888594627380371,
          -0.052615441381931305,
          0.9510549902915955,
          3.008392810821533,
          3.858806610107422,
          2.9692115783691406,
          4.657948970794678,
          -0.4887063503265381,
          5.255434989929199,
          1.6885913610458374,
          4.978521823883057,
          3.1783180236816406,
          1.462599754333496,
          2.673430919647217,
          1.2370173931121826,
          1.7912800312042236,
          0.9968075156211853,
          -0.42173701524734497,
          3.5380473136901855,
          2.935026168823242,
          1.5161033868789673,
          3.6841936111450195,
          4.253672122955322,
          2.672877311706543,
          4.782458305358887,
          4.97129487991333,
          1.327505111694336,
          4.7273945808410645,
          2.3060905933380127,
          1.1592669486999512,
          5.199374198913574,
          4.952725410461426,
          2.3179221153259277,
          1.6546711921691895,
          0.3835182189941406
         ]
        }
       ],
       "layout": {
        "template": {
         "data": {
          "bar": [
           {
            "error_x": {
             "color": "#2a3f5f"
            },
            "error_y": {
             "color": "#2a3f5f"
            },
            "marker": {
             "line": {
              "color": "#E5ECF6",
              "width": 0.5
             }
            },
            "type": "bar"
           }
          ],
          "barpolar": [
           {
            "marker": {
             "line": {
              "color": "#E5ECF6",
              "width": 0.5
             }
            },
            "type": "barpolar"
           }
          ],
          "carpet": [
           {
            "aaxis": {
             "endlinecolor": "#2a3f5f",
             "gridcolor": "white",
             "linecolor": "white",
             "minorgridcolor": "white",
             "startlinecolor": "#2a3f5f"
            },
            "baxis": {
             "endlinecolor": "#2a3f5f",
             "gridcolor": "white",
             "linecolor": "white",
             "minorgridcolor": "white",
             "startlinecolor": "#2a3f5f"
            },
            "type": "carpet"
           }
          ],
          "choropleth": [
           {
            "colorbar": {
             "outlinewidth": 0,
             "ticks": ""
            },
            "type": "choropleth"
           }
          ],
          "contour": [
           {
            "colorbar": {
             "outlinewidth": 0,
             "ticks": ""
            },
            "colorscale": [
             [
              0,
              "#0d0887"
             ],
             [
              0.1111111111111111,
              "#46039f"
             ],
             [
              0.2222222222222222,
              "#7201a8"
             ],
             [
              0.3333333333333333,
              "#9c179e"
             ],
             [
              0.4444444444444444,
              "#bd3786"
             ],
             [
              0.5555555555555556,
              "#d8576b"
             ],
             [
              0.6666666666666666,
              "#ed7953"
             ],
             [
              0.7777777777777778,
              "#fb9f3a"
             ],
             [
              0.8888888888888888,
              "#fdca26"
             ],
             [
              1,
              "#f0f921"
             ]
            ],
            "type": "contour"
           }
          ],
          "contourcarpet": [
           {
            "colorbar": {
             "outlinewidth": 0,
             "ticks": ""
            },
            "type": "contourcarpet"
           }
          ],
          "heatmap": [
           {
            "colorbar": {
             "outlinewidth": 0,
             "ticks": ""
            },
            "colorscale": [
             [
              0,
              "#0d0887"
             ],
             [
              0.1111111111111111,
              "#46039f"
             ],
             [
              0.2222222222222222,
              "#7201a8"
             ],
             [
              0.3333333333333333,
              "#9c179e"
             ],
             [
              0.4444444444444444,
              "#bd3786"
             ],
             [
              0.5555555555555556,
              "#d8576b"
             ],
             [
              0.6666666666666666,
              "#ed7953"
             ],
             [
              0.7777777777777778,
              "#fb9f3a"
             ],
             [
              0.8888888888888888,
              "#fdca26"
             ],
             [
              1,
              "#f0f921"
             ]
            ],
            "type": "heatmap"
           }
          ],
          "heatmapgl": [
           {
            "colorbar": {
             "outlinewidth": 0,
             "ticks": ""
            },
            "colorscale": [
             [
              0,
              "#0d0887"
             ],
             [
              0.1111111111111111,
              "#46039f"
             ],
             [
              0.2222222222222222,
              "#7201a8"
             ],
             [
              0.3333333333333333,
              "#9c179e"
             ],
             [
              0.4444444444444444,
              "#bd3786"
             ],
             [
              0.5555555555555556,
              "#d8576b"
             ],
             [
              0.6666666666666666,
              "#ed7953"
             ],
             [
              0.7777777777777778,
              "#fb9f3a"
             ],
             [
              0.8888888888888888,
              "#fdca26"
             ],
             [
              1,
              "#f0f921"
             ]
            ],
            "type": "heatmapgl"
           }
          ],
          "histogram": [
           {
            "marker": {
             "colorbar": {
              "outlinewidth": 0,
              "ticks": ""
             }
            },
            "type": "histogram"
           }
          ],
          "histogram2d": [
           {
            "colorbar": {
             "outlinewidth": 0,
             "ticks": ""
            },
            "colorscale": [
             [
              0,
              "#0d0887"
             ],
             [
              0.1111111111111111,
              "#46039f"
             ],
             [
              0.2222222222222222,
              "#7201a8"
             ],
             [
              0.3333333333333333,
              "#9c179e"
             ],
             [
              0.4444444444444444,
              "#bd3786"
             ],
             [
              0.5555555555555556,
              "#d8576b"
             ],
             [
              0.6666666666666666,
              "#ed7953"
             ],
             [
              0.7777777777777778,
              "#fb9f3a"
             ],
             [
              0.8888888888888888,
              "#fdca26"
             ],
             [
              1,
              "#f0f921"
             ]
            ],
            "type": "histogram2d"
           }
          ],
          "histogram2dcontour": [
           {
            "colorbar": {
             "outlinewidth": 0,
             "ticks": ""
            },
            "colorscale": [
             [
              0,
              "#0d0887"
             ],
             [
              0.1111111111111111,
              "#46039f"
             ],
             [
              0.2222222222222222,
              "#7201a8"
             ],
             [
              0.3333333333333333,
              "#9c179e"
             ],
             [
              0.4444444444444444,
              "#bd3786"
             ],
             [
              0.5555555555555556,
              "#d8576b"
             ],
             [
              0.6666666666666666,
              "#ed7953"
             ],
             [
              0.7777777777777778,
              "#fb9f3a"
             ],
             [
              0.8888888888888888,
              "#fdca26"
             ],
             [
              1,
              "#f0f921"
             ]
            ],
            "type": "histogram2dcontour"
           }
          ],
          "mesh3d": [
           {
            "colorbar": {
             "outlinewidth": 0,
             "ticks": ""
            },
            "type": "mesh3d"
           }
          ],
          "parcoords": [
           {
            "line": {
             "colorbar": {
              "outlinewidth": 0,
              "ticks": ""
             }
            },
            "type": "parcoords"
           }
          ],
          "pie": [
           {
            "automargin": true,
            "type": "pie"
           }
          ],
          "scatter": [
           {
            "marker": {
             "colorbar": {
              "outlinewidth": 0,
              "ticks": ""
             }
            },
            "type": "scatter"
           }
          ],
          "scatter3d": [
           {
            "line": {
             "colorbar": {
              "outlinewidth": 0,
              "ticks": ""
             }
            },
            "marker": {
             "colorbar": {
              "outlinewidth": 0,
              "ticks": ""
             }
            },
            "type": "scatter3d"
           }
          ],
          "scattercarpet": [
           {
            "marker": {
             "colorbar": {
              "outlinewidth": 0,
              "ticks": ""
             }
            },
            "type": "scattercarpet"
           }
          ],
          "scattergeo": [
           {
            "marker": {
             "colorbar": {
              "outlinewidth": 0,
              "ticks": ""
             }
            },
            "type": "scattergeo"
           }
          ],
          "scattergl": [
           {
            "marker": {
             "colorbar": {
              "outlinewidth": 0,
              "ticks": ""
             }
            },
            "type": "scattergl"
           }
          ],
          "scattermapbox": [
           {
            "marker": {
             "colorbar": {
              "outlinewidth": 0,
              "ticks": ""
             }
            },
            "type": "scattermapbox"
           }
          ],
          "scatterpolar": [
           {
            "marker": {
             "colorbar": {
              "outlinewidth": 0,
              "ticks": ""
             }
            },
            "type": "scatterpolar"
           }
          ],
          "scatterpolargl": [
           {
            "marker": {
             "colorbar": {
              "outlinewidth": 0,
              "ticks": ""
             }
            },
            "type": "scatterpolargl"
           }
          ],
          "scatterternary": [
           {
            "marker": {
             "colorbar": {
              "outlinewidth": 0,
              "ticks": ""
             }
            },
            "type": "scatterternary"
           }
          ],
          "surface": [
           {
            "colorbar": {
             "outlinewidth": 0,
             "ticks": ""
            },
            "colorscale": [
             [
              0,
              "#0d0887"
             ],
             [
              0.1111111111111111,
              "#46039f"
             ],
             [
              0.2222222222222222,
              "#7201a8"
             ],
             [
              0.3333333333333333,
              "#9c179e"
             ],
             [
              0.4444444444444444,
              "#bd3786"
             ],
             [
              0.5555555555555556,
              "#d8576b"
             ],
             [
              0.6666666666666666,
              "#ed7953"
             ],
             [
              0.7777777777777778,
              "#fb9f3a"
             ],
             [
              0.8888888888888888,
              "#fdca26"
             ],
             [
              1,
              "#f0f921"
             ]
            ],
            "type": "surface"
           }
          ],
          "table": [
           {
            "cells": {
             "fill": {
              "color": "#EBF0F8"
             },
             "line": {
              "color": "white"
             }
            },
            "header": {
             "fill": {
              "color": "#C8D4E3"
             },
             "line": {
              "color": "white"
             }
            },
            "type": "table"
           }
          ]
         },
         "layout": {
          "annotationdefaults": {
           "arrowcolor": "#2a3f5f",
           "arrowhead": 0,
           "arrowwidth": 1
          },
          "coloraxis": {
           "colorbar": {
            "outlinewidth": 0,
            "ticks": ""
           }
          },
          "colorscale": {
           "diverging": [
            [
             0,
             "#8e0152"
            ],
            [
             0.1,
             "#c51b7d"
            ],
            [
             0.2,
             "#de77ae"
            ],
            [
             0.3,
             "#f1b6da"
            ],
            [
             0.4,
             "#fde0ef"
            ],
            [
             0.5,
             "#f7f7f7"
            ],
            [
             0.6,
             "#e6f5d0"
            ],
            [
             0.7,
             "#b8e186"
            ],
            [
             0.8,
             "#7fbc41"
            ],
            [
             0.9,
             "#4d9221"
            ],
            [
             1,
             "#276419"
            ]
           ],
           "sequential": [
            [
             0,
             "#0d0887"
            ],
            [
             0.1111111111111111,
             "#46039f"
            ],
            [
             0.2222222222222222,
             "#7201a8"
            ],
            [
             0.3333333333333333,
             "#9c179e"
            ],
            [
             0.4444444444444444,
             "#bd3786"
            ],
            [
             0.5555555555555556,
             "#d8576b"
            ],
            [
             0.6666666666666666,
             "#ed7953"
            ],
            [
             0.7777777777777778,
             "#fb9f3a"
            ],
            [
             0.8888888888888888,
             "#fdca26"
            ],
            [
             1,
             "#f0f921"
            ]
           ],
           "sequentialminus": [
            [
             0,
             "#0d0887"
            ],
            [
             0.1111111111111111,
             "#46039f"
            ],
            [
             0.2222222222222222,
             "#7201a8"
            ],
            [
             0.3333333333333333,
             "#9c179e"
            ],
            [
             0.4444444444444444,
             "#bd3786"
            ],
            [
             0.5555555555555556,
             "#d8576b"
            ],
            [
             0.6666666666666666,
             "#ed7953"
            ],
            [
             0.7777777777777778,
             "#fb9f3a"
            ],
            [
             0.8888888888888888,
             "#fdca26"
            ],
            [
             1,
             "#f0f921"
            ]
           ]
          },
          "colorway": [
           "#636efa",
           "#EF553B",
           "#00cc96",
           "#ab63fa",
           "#FFA15A",
           "#19d3f3",
           "#FF6692",
           "#B6E880",
           "#FF97FF",
           "#FECB52"
          ],
          "font": {
           "color": "#2a3f5f"
          },
          "geo": {
           "bgcolor": "white",
           "lakecolor": "white",
           "landcolor": "#E5ECF6",
           "showlakes": true,
           "showland": true,
           "subunitcolor": "white"
          },
          "hoverlabel": {
           "align": "left"
          },
          "hovermode": "closest",
          "mapbox": {
           "style": "light"
          },
          "paper_bgcolor": "white",
          "plot_bgcolor": "#E5ECF6",
          "polar": {
           "angularaxis": {
            "gridcolor": "white",
            "linecolor": "white",
            "ticks": ""
           },
           "bgcolor": "#E5ECF6",
           "radialaxis": {
            "gridcolor": "white",
            "linecolor": "white",
            "ticks": ""
           }
          },
          "scene": {
           "xaxis": {
            "backgroundcolor": "#E5ECF6",
            "gridcolor": "white",
            "gridwidth": 2,
            "linecolor": "white",
            "showbackground": true,
            "ticks": "",
            "zerolinecolor": "white"
           },
           "yaxis": {
            "backgroundcolor": "#E5ECF6",
            "gridcolor": "white",
            "gridwidth": 2,
            "linecolor": "white",
            "showbackground": true,
            "ticks": "",
            "zerolinecolor": "white"
           },
           "zaxis": {
            "backgroundcolor": "#E5ECF6",
            "gridcolor": "white",
            "gridwidth": 2,
            "linecolor": "white",
            "showbackground": true,
            "ticks": "",
            "zerolinecolor": "white"
           }
          },
          "shapedefaults": {
           "line": {
            "color": "#2a3f5f"
           }
          },
          "ternary": {
           "aaxis": {
            "gridcolor": "white",
            "linecolor": "white",
            "ticks": ""
           },
           "baxis": {
            "gridcolor": "white",
            "linecolor": "white",
            "ticks": ""
           },
           "bgcolor": "#E5ECF6",
           "caxis": {
            "gridcolor": "white",
            "linecolor": "white",
            "ticks": ""
           }
          },
          "title": {
           "x": 0.05
          },
          "xaxis": {
           "automargin": true,
           "gridcolor": "white",
           "linecolor": "white",
           "ticks": "",
           "title": {
            "standoff": 15
           },
           "zerolinecolor": "white",
           "zerolinewidth": 2
          },
          "yaxis": {
           "automargin": true,
           "gridcolor": "white",
           "linecolor": "white",
           "ticks": "",
           "title": {
            "standoff": 15
           },
           "zerolinecolor": "white",
           "zerolinewidth": 2
          }
         }
        }
       }
      },
      "text/html": [
       "<div>\n",
       "        \n",
       "        \n",
       "            <div id=\"9d319b8f-f0dd-47a4-a7fb-190dbd97af50\" class=\"plotly-graph-div\" style=\"height:525px; width:100%;\"></div>\n",
       "            <script type=\"text/javascript\">\n",
       "                require([\"plotly\"], function(Plotly) {\n",
       "                    window.PLOTLYENV=window.PLOTLYENV || {};\n",
       "                    \n",
       "                if (document.getElementById(\"9d319b8f-f0dd-47a4-a7fb-190dbd97af50\")) {\n",
       "                    Plotly.newPlot(\n",
       "                        '9d319b8f-f0dd-47a4-a7fb-190dbd97af50',\n",
       "                        [{\"mode\": \"markers\", \"text\": [\"English|1382\", \"French|204\", \"German|190\", \"Japanese|100\", \"English, Spanish|78\", \"Spanish|71\", \"Korean|51\", \"English, French|51\", \"Turkish|45\", \"French, English|45\", \"Mandarin|33\", \"German, English|29\", \"English, Russian|24\", \"English, German|24\", \"Norwegian|23\", \"Dutch|21\", \"Danish|21\", \"Italian|18\", \"Swedish|18\", \"English, Japanese|18\", \"Russian|18\", \"Icelandic|15\", \"English, Ukrainian|13\", \"Cantonese|13\", \"English, Italian|13\", \"Thai|12\", \"English, Arabic|11\", \"English, Mandarin|11\", \"Hindi|11\", \"Japanese, English|10\", \"Spanish, English|10\", \"Portuguese|10\", \"English, Portuguese|9\", \"French, German|8\", \"Mandarin, English|8\", \"Cantonese, English|7\", \"Mandarin, Cantonese|7\", \"German, Turkish|7\", \"Chinese|6\", \"English, French, Italian|6\", \"French, Arabic|6\", \"Korean, English|6\", \"Swedish, English|5\", \"English, French, German|5\", \"Norwegian, English|5\", \"English, Korean|5\", \"English, Hebrew|5\", \"Swiss German|5\", \"Greek|5\", \"French, Italian|5\", \"English, Greek|5\", \"English, Latin|5\", \"English, Chinese|5\", \"Polish|5\", \"English, Arabic, Hebrew|4\", \"Cantonese, Mandarin|4\", \"English, Thai|4\", \"Thai, English|4\", \"French, Spanish|4\", \"English, Italian, Spanish|4\", \"Arabic|4\", \"Arabic, French|4\", \"Dutch, English|4\", \"Russian, English|4\", \"Romanian|4\"], \"type\": \"scatter\", \"x\": [7.485511779785156, 7.788224697113037, 4.068058013916016, 4.271691799163818, 6.944581985473633, 5.197750091552734, 5.050644874572754, 6.813378810882568, 6.188145637512207, 7.895562648773193, 3.7480454444885254, 4.046846389770508, 6.276975631713867, 6.224952220916748, 5.029294967651367, 4.284069538116455, 4.13642692565918, 6.037113189697266, 4.72056770324707, 5.448592662811279, 4.276920318603516, 5.226103782653809, 6.380890369415283, 4.302369594573975, 7.288956165313721, 4.023909568786621, 5.926573753356934, 6.074195384979248, 6.58259391784668, 4.0493059158325195, 5.354051113128662, 6.398094177246094, 7.172966003417969, 7.118131637573242, 3.686810255050659, 4.993870258331299, 3.820706605911255, 4.768337726593018, 4.0911431312561035, 7.6827569007873535, 5.976606369018555, 5.438588619232178, 7.193906784057617, 5.7482686042785645, 5.5574798583984375, 6.172884941101074, 6.943062782287598, 5.40777063369751, 3.827089309692383, 7.509289741516113, 6.576155185699463, 5.194779396057129, 5.541426658630371, 5.201502799987793, 5.579812049865723, 4.215255260467529, 4.699914932250977, 4.856224060058594, 7.969611167907715, 5.375639915466309, 4.638524532318115, 6.211503982543945, 8.00744342803955, 4.7727370262146, 6.373019695281982], \"y\": [1.151931881904602, 2.0950889587402344, 1.2472374439239502, 2.316392421722412, 1.4427891969680786, 5.205454349517822, 3.376138210296631, 2.825284719467163, -0.18762634694576263, 2.3217697143554688, 4.581905841827393, 1.4372339248657227, 1.8292198181152344, 2.833500862121582, -0.2681112587451935, 1.0121556520462036, 2.9792728424072266, -0.20406995713710785, -0.5357069373130798, 2.4454798698425293, 3.2115535736083984, -0.292654812335968, 1.9253160953521729, 5.153624534606934, 2.5066845417022705, 5.127280235290527, 2.746053457260132, 1.6058168411254883, 3.0486011505126953, 3.005446195602417, 4.888594627380371, -0.052615441381931305, 0.9510549902915955, 3.008392810821533, 3.858806610107422, 2.9692115783691406, 4.657948970794678, -0.4887063503265381, 5.255434989929199, 1.6885913610458374, 4.978521823883057, 3.1783180236816406, 1.462599754333496, 2.673430919647217, 1.2370173931121826, 1.7912800312042236, 0.9968075156211853, -0.42173701524734497, 3.5380473136901855, 2.935026168823242, 1.5161033868789673, 3.6841936111450195, 4.253672122955322, 2.672877311706543, 4.782458305358887, 4.97129487991333, 1.327505111694336, 4.7273945808410645, 2.3060905933380127, 1.1592669486999512, 5.199374198913574, 4.952725410461426, 2.3179221153259277, 1.6546711921691895, 0.3835182189941406]}],\n",
       "                        {\"template\": {\"data\": {\"bar\": [{\"error_x\": {\"color\": \"#2a3f5f\"}, \"error_y\": {\"color\": \"#2a3f5f\"}, \"marker\": {\"line\": {\"color\": \"#E5ECF6\", \"width\": 0.5}}, \"type\": \"bar\"}], \"barpolar\": [{\"marker\": {\"line\": {\"color\": \"#E5ECF6\", \"width\": 0.5}}, \"type\": \"barpolar\"}], \"carpet\": [{\"aaxis\": {\"endlinecolor\": \"#2a3f5f\", \"gridcolor\": \"white\", \"linecolor\": \"white\", \"minorgridcolor\": \"white\", \"startlinecolor\": \"#2a3f5f\"}, \"baxis\": {\"endlinecolor\": \"#2a3f5f\", \"gridcolor\": \"white\", \"linecolor\": \"white\", \"minorgridcolor\": \"white\", \"startlinecolor\": \"#2a3f5f\"}, \"type\": \"carpet\"}], \"choropleth\": [{\"colorbar\": {\"outlinewidth\": 0, \"ticks\": \"\"}, \"type\": \"choropleth\"}], \"contour\": [{\"colorbar\": {\"outlinewidth\": 0, \"ticks\": \"\"}, \"colorscale\": [[0.0, \"#0d0887\"], [0.1111111111111111, \"#46039f\"], [0.2222222222222222, \"#7201a8\"], [0.3333333333333333, \"#9c179e\"], [0.4444444444444444, \"#bd3786\"], [0.5555555555555556, \"#d8576b\"], [0.6666666666666666, \"#ed7953\"], [0.7777777777777778, \"#fb9f3a\"], [0.8888888888888888, \"#fdca26\"], [1.0, \"#f0f921\"]], \"type\": \"contour\"}], \"contourcarpet\": [{\"colorbar\": {\"outlinewidth\": 0, \"ticks\": \"\"}, \"type\": \"contourcarpet\"}], \"heatmap\": [{\"colorbar\": {\"outlinewidth\": 0, \"ticks\": \"\"}, \"colorscale\": [[0.0, \"#0d0887\"], [0.1111111111111111, \"#46039f\"], [0.2222222222222222, \"#7201a8\"], [0.3333333333333333, \"#9c179e\"], [0.4444444444444444, \"#bd3786\"], [0.5555555555555556, \"#d8576b\"], [0.6666666666666666, \"#ed7953\"], [0.7777777777777778, \"#fb9f3a\"], [0.8888888888888888, \"#fdca26\"], [1.0, \"#f0f921\"]], \"type\": \"heatmap\"}], \"heatmapgl\": [{\"colorbar\": {\"outlinewidth\": 0, \"ticks\": \"\"}, \"colorscale\": [[0.0, \"#0d0887\"], [0.1111111111111111, \"#46039f\"], [0.2222222222222222, \"#7201a8\"], [0.3333333333333333, \"#9c179e\"], [0.4444444444444444, \"#bd3786\"], [0.5555555555555556, \"#d8576b\"], [0.6666666666666666, \"#ed7953\"], [0.7777777777777778, \"#fb9f3a\"], [0.8888888888888888, \"#fdca26\"], [1.0, \"#f0f921\"]], \"type\": \"heatmapgl\"}], \"histogram\": [{\"marker\": {\"colorbar\": {\"outlinewidth\": 0, \"ticks\": \"\"}}, \"type\": \"histogram\"}], \"histogram2d\": [{\"colorbar\": {\"outlinewidth\": 0, \"ticks\": \"\"}, \"colorscale\": [[0.0, \"#0d0887\"], [0.1111111111111111, \"#46039f\"], [0.2222222222222222, \"#7201a8\"], [0.3333333333333333, \"#9c179e\"], [0.4444444444444444, \"#bd3786\"], [0.5555555555555556, \"#d8576b\"], [0.6666666666666666, \"#ed7953\"], [0.7777777777777778, \"#fb9f3a\"], [0.8888888888888888, \"#fdca26\"], [1.0, \"#f0f921\"]], \"type\": \"histogram2d\"}], \"histogram2dcontour\": [{\"colorbar\": {\"outlinewidth\": 0, \"ticks\": \"\"}, \"colorscale\": [[0.0, \"#0d0887\"], [0.1111111111111111, \"#46039f\"], [0.2222222222222222, \"#7201a8\"], [0.3333333333333333, \"#9c179e\"], [0.4444444444444444, \"#bd3786\"], [0.5555555555555556, \"#d8576b\"], [0.6666666666666666, \"#ed7953\"], [0.7777777777777778, \"#fb9f3a\"], [0.8888888888888888, \"#fdca26\"], [1.0, \"#f0f921\"]], \"type\": \"histogram2dcontour\"}], \"mesh3d\": [{\"colorbar\": {\"outlinewidth\": 0, \"ticks\": \"\"}, \"type\": \"mesh3d\"}], \"parcoords\": [{\"line\": {\"colorbar\": {\"outlinewidth\": 0, \"ticks\": \"\"}}, \"type\": \"parcoords\"}], \"pie\": [{\"automargin\": true, \"type\": \"pie\"}], \"scatter\": [{\"marker\": {\"colorbar\": {\"outlinewidth\": 0, \"ticks\": \"\"}}, \"type\": \"scatter\"}], \"scatter3d\": [{\"line\": {\"colorbar\": {\"outlinewidth\": 0, \"ticks\": \"\"}}, \"marker\": {\"colorbar\": {\"outlinewidth\": 0, \"ticks\": \"\"}}, \"type\": \"scatter3d\"}], \"scattercarpet\": [{\"marker\": {\"colorbar\": {\"outlinewidth\": 0, \"ticks\": \"\"}}, \"type\": \"scattercarpet\"}], \"scattergeo\": [{\"marker\": {\"colorbar\": {\"outlinewidth\": 0, \"ticks\": \"\"}}, \"type\": \"scattergeo\"}], \"scattergl\": [{\"marker\": {\"colorbar\": {\"outlinewidth\": 0, \"ticks\": \"\"}}, \"type\": \"scattergl\"}], \"scattermapbox\": [{\"marker\": {\"colorbar\": {\"outlinewidth\": 0, \"ticks\": \"\"}}, \"type\": \"scattermapbox\"}], \"scatterpolar\": [{\"marker\": {\"colorbar\": {\"outlinewidth\": 0, \"ticks\": \"\"}}, \"type\": \"scatterpolar\"}], \"scatterpolargl\": [{\"marker\": {\"colorbar\": {\"outlinewidth\": 0, \"ticks\": \"\"}}, \"type\": \"scatterpolargl\"}], \"scatterternary\": [{\"marker\": {\"colorbar\": {\"outlinewidth\": 0, \"ticks\": \"\"}}, \"type\": \"scatterternary\"}], \"surface\": [{\"colorbar\": {\"outlinewidth\": 0, \"ticks\": \"\"}, \"colorscale\": [[0.0, \"#0d0887\"], [0.1111111111111111, \"#46039f\"], [0.2222222222222222, \"#7201a8\"], [0.3333333333333333, \"#9c179e\"], [0.4444444444444444, \"#bd3786\"], [0.5555555555555556, \"#d8576b\"], [0.6666666666666666, \"#ed7953\"], [0.7777777777777778, \"#fb9f3a\"], [0.8888888888888888, \"#fdca26\"], [1.0, \"#f0f921\"]], \"type\": \"surface\"}], \"table\": [{\"cells\": {\"fill\": {\"color\": \"#EBF0F8\"}, \"line\": {\"color\": \"white\"}}, \"header\": {\"fill\": {\"color\": \"#C8D4E3\"}, \"line\": {\"color\": \"white\"}}, \"type\": \"table\"}]}, \"layout\": {\"annotationdefaults\": {\"arrowcolor\": \"#2a3f5f\", \"arrowhead\": 0, \"arrowwidth\": 1}, \"coloraxis\": {\"colorbar\": {\"outlinewidth\": 0, \"ticks\": \"\"}}, \"colorscale\": {\"diverging\": [[0, \"#8e0152\"], [0.1, \"#c51b7d\"], [0.2, \"#de77ae\"], [0.3, \"#f1b6da\"], [0.4, \"#fde0ef\"], [0.5, \"#f7f7f7\"], [0.6, \"#e6f5d0\"], [0.7, \"#b8e186\"], [0.8, \"#7fbc41\"], [0.9, \"#4d9221\"], [1, \"#276419\"]], \"sequential\": [[0.0, \"#0d0887\"], [0.1111111111111111, \"#46039f\"], [0.2222222222222222, \"#7201a8\"], [0.3333333333333333, \"#9c179e\"], [0.4444444444444444, \"#bd3786\"], [0.5555555555555556, \"#d8576b\"], [0.6666666666666666, \"#ed7953\"], [0.7777777777777778, \"#fb9f3a\"], [0.8888888888888888, \"#fdca26\"], [1.0, \"#f0f921\"]], \"sequentialminus\": [[0.0, \"#0d0887\"], [0.1111111111111111, \"#46039f\"], [0.2222222222222222, \"#7201a8\"], [0.3333333333333333, \"#9c179e\"], [0.4444444444444444, \"#bd3786\"], [0.5555555555555556, \"#d8576b\"], [0.6666666666666666, \"#ed7953\"], [0.7777777777777778, \"#fb9f3a\"], [0.8888888888888888, \"#fdca26\"], [1.0, \"#f0f921\"]]}, \"colorway\": [\"#636efa\", \"#EF553B\", \"#00cc96\", \"#ab63fa\", \"#FFA15A\", \"#19d3f3\", \"#FF6692\", \"#B6E880\", \"#FF97FF\", \"#FECB52\"], \"font\": {\"color\": \"#2a3f5f\"}, \"geo\": {\"bgcolor\": \"white\", \"lakecolor\": \"white\", \"landcolor\": \"#E5ECF6\", \"showlakes\": true, \"showland\": true, \"subunitcolor\": \"white\"}, \"hoverlabel\": {\"align\": \"left\"}, \"hovermode\": \"closest\", \"mapbox\": {\"style\": \"light\"}, \"paper_bgcolor\": \"white\", \"plot_bgcolor\": \"#E5ECF6\", \"polar\": {\"angularaxis\": {\"gridcolor\": \"white\", \"linecolor\": \"white\", \"ticks\": \"\"}, \"bgcolor\": \"#E5ECF6\", \"radialaxis\": {\"gridcolor\": \"white\", \"linecolor\": \"white\", \"ticks\": \"\"}}, \"scene\": {\"xaxis\": {\"backgroundcolor\": \"#E5ECF6\", \"gridcolor\": \"white\", \"gridwidth\": 2, \"linecolor\": \"white\", \"showbackground\": true, \"ticks\": \"\", \"zerolinecolor\": \"white\"}, \"yaxis\": {\"backgroundcolor\": \"#E5ECF6\", \"gridcolor\": \"white\", \"gridwidth\": 2, \"linecolor\": \"white\", \"showbackground\": true, \"ticks\": \"\", \"zerolinecolor\": \"white\"}, \"zaxis\": {\"backgroundcolor\": \"#E5ECF6\", \"gridcolor\": \"white\", \"gridwidth\": 2, \"linecolor\": \"white\", \"showbackground\": true, \"ticks\": \"\", \"zerolinecolor\": \"white\"}}, \"shapedefaults\": {\"line\": {\"color\": \"#2a3f5f\"}}, \"ternary\": {\"aaxis\": {\"gridcolor\": \"white\", \"linecolor\": \"white\", \"ticks\": \"\"}, \"baxis\": {\"gridcolor\": \"white\", \"linecolor\": \"white\", \"ticks\": \"\"}, \"bgcolor\": \"#E5ECF6\", \"caxis\": {\"gridcolor\": \"white\", \"linecolor\": \"white\", \"ticks\": \"\"}}, \"title\": {\"x\": 0.05}, \"xaxis\": {\"automargin\": true, \"gridcolor\": \"white\", \"linecolor\": \"white\", \"ticks\": \"\", \"title\": {\"standoff\": 15}, \"zerolinecolor\": \"white\", \"zerolinewidth\": 2}, \"yaxis\": {\"automargin\": true, \"gridcolor\": \"white\", \"linecolor\": \"white\", \"ticks\": \"\", \"title\": {\"standoff\": 15}, \"zerolinecolor\": \"white\", \"zerolinewidth\": 2}}}},\n",
       "                        {\"responsive\": true}\n",
       "                    ).then(function(){\n",
       "                            \n",
       "var gd = document.getElementById('9d319b8f-f0dd-47a4-a7fb-190dbd97af50');\n",
       "var x = new MutationObserver(function (mutations, observer) {{\n",
       "        var display = window.getComputedStyle(gd).display;\n",
       "        if (!display || display === 'none') {{\n",
       "            console.log([gd, 'removed!']);\n",
       "            Plotly.purge(gd);\n",
       "            observer.disconnect();\n",
       "        }}\n",
       "}});\n",
       "\n",
       "// Listen for the removal of the full notebook cells\n",
       "var notebookContainer = gd.closest('#notebook-container');\n",
       "if (notebookContainer) {{\n",
       "    x.observe(notebookContainer, {childList: true});\n",
       "}}\n",
       "\n",
       "// Listen for the clearing of the current output cell\n",
       "var outputEl = gd.closest('.output');\n",
       "if (outputEl) {{\n",
       "    x.observe(outputEl, {childList: true});\n",
       "}}\n",
       "\n",
       "                        })\n",
       "                };\n",
       "                });\n",
       "            </script>\n",
       "        </div>"
      ]
     },
     "metadata": {},
     "output_type": "display_data"
    }
   ],
   "source": [
    "fig = go.Figure(data=go.Scatter(x=Xr[:, 0],\n",
    "                                y=Xr[:, 1],\n",
    "                                mode='markers',\n",
    "                                text=[f'{label}|{n_token}' for label, n_token in zip(aggr.label, aggr.n_texts)],\n",
    "                                marker_color=plotly_color_categorical_values(gmm_cluster)))\n",
    "\n",
    "\n",
    "fig.show()"
   ]
  },
  {
   "cell_type": "code",
   "execution_count": 163,
   "metadata": {},
   "outputs": [
    {
     "data": {
      "text/plain": [
       "<matplotlib.axes._subplots.AxesSubplot at 0x7f8c6c0a1ca0>"
      ]
     },
     "execution_count": 163,
     "metadata": {},
     "output_type": "execute_result"
    },
    {
     "data": {
      "image/png": "[encoded data removed]",
      "text/plain": [
       "<Figure size 432x288 with 1 Axes>"
      ]
     },
     "metadata": {
      "needs_background": "light"
     },
     "output_type": "display_data"
    }
   ],
   "source": [
    "import seaborn as sns\n",
    "sns.scatterplot(x=Xr[:, 0],\n",
    "                y=Xr[:, 1],\n",
    "               hue=[f'C{i}' for i in gmm_cluster])"
   ]
  },
  {
   "cell_type": "code",
   "execution_count": 164,
   "metadata": {},
   "outputs": [
    {
     "name": "stdout",
     "output_type": "stream",
     "text": [
      "Cluster 0\n",
      "57    Thai, English\n",
      "Name: label, dtype: object\n",
      "Total number of movies in cluster => 4\n",
      "Total number of tokens in cluster => 22157\n",
      "############################################################\n",
      "Cluster 1\n",
      "30    Spanish, English\n",
      "Name: label, dtype: object\n",
      "Total number of movies in cluster => 10\n",
      "Total number of tokens in cluster => 69555\n",
      "############################################################\n",
      "Cluster 2\n",
      "16               Danish\n",
      "29    Japanese, English\n",
      "Name: label, dtype: object\n",
      "Total number of movies in cluster => 31\n",
      "Total number of tokens in cluster => 201494\n",
      "############################################################\n",
      "Cluster 3\n",
      "5              Spanish\n",
      "23           Cantonese\n",
      "40      French, Arabic\n",
      "52    English, Chinese\n",
      "60              Arabic\n",
      "Name: label, dtype: object\n",
      "Total number of movies in cluster => 99\n",
      "Total number of tokens in cluster => 741385\n",
      "############################################################\n",
      "Cluster 4\n",
      "43    English, French, German\n",
      "Name: label, dtype: object\n",
      "Total number of movies in cluster => 5\n",
      "Total number of tokens in cluster => 57788\n",
      "############################################################\n",
      "Cluster 5\n",
      "7     English, French\n",
      "13    English, German\n",
      "26    English, Arabic\n",
      "28              Hindi\n",
      "33     French, German\n",
      "Name: label, dtype: object\n",
      "Total number of movies in cluster => 105\n",
      "Total number of tokens in cluster => 992698\n",
      "############################################################\n",
      "Cluster 6\n",
      "48    Greek\n",
      "Name: label, dtype: object\n",
      "Total number of movies in cluster => 5\n",
      "Total number of tokens in cluster => 26038\n",
      "############################################################\n",
      "Cluster 7\n",
      "2              German\n",
      "11    German, English\n",
      "15              Dutch\n",
      "Name: label, dtype: object\n",
      "Total number of movies in cluster => 240\n",
      "Total number of tokens in cluster => 2076421\n",
      "############################################################\n",
      "Cluster 8\n",
      "50    English, Greek\n",
      "Name: label, dtype: object\n",
      "Total number of movies in cluster => 5\n",
      "Total number of tokens in cluster => 42901\n",
      "############################################################\n",
      "Cluster 9\n",
      "10               Mandarin\n",
      "20                Russian\n",
      "25                   Thai\n",
      "34      Mandarin, English\n",
      "35     Cantonese, English\n",
      "36    Mandarin, Cantonese\n",
      "38                Chinese\n",
      "55    Cantonese, Mandarin\n",
      "Name: label, dtype: object\n",
      "Total number of movies in cluster => 95\n",
      "Total number of tokens in cluster => 649237\n",
      "############################################################\n",
      "Cluster 10\n",
      "18    Swedish\n",
      "Name: label, dtype: object\n",
      "Total number of movies in cluster => 18\n",
      "Total number of tokens in cluster => 136157\n",
      "############################################################\n",
      "Cluster 11\n",
      "14    Norwegian\n",
      "21    Icelandic\n",
      "Name: label, dtype: object\n",
      "Total number of movies in cluster => 38\n",
      "Total number of tokens in cluster => 245938\n",
      "############################################################\n",
      "Cluster 12\n",
      "1               French\n",
      "9      French, English\n",
      "24    English, Italian\n",
      "49     French, Italian\n",
      "51      English, Latin\n",
      "58     French, Spanish\n",
      "62      Dutch, English\n",
      "Name: label, dtype: object\n",
      "Total number of movies in cluster => 280\n",
      "Total number of tokens in cluster => 2232985\n",
      "############################################################\n",
      "Cluster 13\n",
      "8        Turkish\n",
      "17       Italian\n",
      "31    Portuguese\n",
      "64      Romanian\n",
      "Name: label, dtype: object\n",
      "Total number of movies in cluster => 77\n",
      "Total number of tokens in cluster => 733466\n",
      "############################################################\n",
      "Cluster 14\n",
      "0                      English\n",
      "3                     Japanese\n",
      "4             English, Spanish\n",
      "12            English, Russian\n",
      "19           English, Japanese\n",
      "32         English, Portuguese\n",
      "39    English, French, Italian\n",
      "42            Swedish, English\n",
      "46             English, Hebrew\n",
      "Name: label, dtype: object\n",
      "Total number of movies in cluster => 1627\n",
      "Total number of tokens in cluster => 14266764\n",
      "############################################################\n",
      "Cluster 15\n",
      "22    English, Ukrainian\n",
      "27     English, Mandarin\n",
      "45       English, Korean\n",
      "Name: label, dtype: object\n",
      "Total number of movies in cluster => 29\n",
      "Total number of tokens in cluster => 288862\n",
      "############################################################\n",
      "Cluster 16\n",
      "6              Korean\n",
      "41    Korean, English\n",
      "Name: label, dtype: object\n",
      "Total number of movies in cluster => 57\n",
      "Total number of tokens in cluster => 433511\n",
      "############################################################\n",
      "Cluster 17\n",
      "37    German, Turkish\n",
      "Name: label, dtype: object\n",
      "Total number of movies in cluster => 7\n",
      "Total number of tokens in cluster => 45473\n",
      "############################################################\n",
      "Cluster 18\n",
      "59    English, Italian, Spanish\n",
      "63             Russian, English\n",
      "Name: label, dtype: object\n",
      "Total number of movies in cluster => 8\n",
      "Total number of tokens in cluster => 69546\n",
      "############################################################\n",
      "Cluster 19\n",
      "47    Swiss German\n",
      "Name: label, dtype: object\n",
      "Total number of movies in cluster => 5\n",
      "Total number of tokens in cluster => 30327\n",
      "############################################################\n",
      "Cluster 20\n",
      "54    English, Arabic, Hebrew\n",
      "Name: label, dtype: object\n",
      "Total number of movies in cluster => 4\n",
      "Total number of tokens in cluster => 21666\n",
      "############################################################\n",
      "Cluster 21\n",
      "44    Norwegian, English\n",
      "Name: label, dtype: object\n",
      "Total number of movies in cluster => 5\n",
      "Total number of tokens in cluster => 29945\n",
      "############################################################\n",
      "Cluster 22\n",
      "61    Arabic, French\n",
      "Name: label, dtype: object\n",
      "Total number of movies in cluster => 4\n",
      "Total number of tokens in cluster => 25831\n",
      "############################################################\n",
      "Cluster 23\n",
      "53    Polish\n",
      "Name: label, dtype: object\n",
      "Total number of movies in cluster => 5\n",
      "Total number of tokens in cluster => 29621\n",
      "############################################################\n",
      "Cluster 24\n",
      "56    English, Thai\n",
      "Name: label, dtype: object\n",
      "Total number of movies in cluster => 4\n",
      "Total number of tokens in cluster => 30004\n",
      "############################################################\n"
     ]
    }
   ],
   "source": [
    "print_clusters(gmm_dfs)"
   ]
  },
  {
   "cell_type": "code",
   "execution_count": 84,
   "metadata": {},
   "outputs": [
    {
     "data": {
      "text/plain": [
       "0.7901722010593853"
      ]
     },
     "execution_count": 84,
     "metadata": {},
     "output_type": "execute_result"
    }
   ],
   "source": [
    "gmm_dbscore = davies_bouldin_score(X, gmm_cluster)\n",
    "gmm_dbscore"
   ]
  },
  {
   "cell_type": "code",
   "execution_count": 85,
   "metadata": {},
   "outputs": [
    {
     "data": {
      "text/plain": [
       "32.34682508162946"
      ]
     },
     "execution_count": 85,
     "metadata": {},
     "output_type": "execute_result"
    }
   ],
   "source": [
    "gmm_chscore = calinski_harabasz_score(X, gmm_cluster)\n",
    "gmm_chscore"
   ]
  },
  {
   "cell_type": "code",
   "execution_count": 101,
   "metadata": {},
   "outputs": [
    {
     "data": {
      "text/plain": [
       "array([], dtype=float64)"
      ]
     },
     "execution_count": 101,
     "metadata": {},
     "output_type": "execute_result"
    }
   ],
   "source": [
    "probs[(probs < 1.0) & (probs > 0.0)]"
   ]
  },
  {
   "cell_type": "code",
   "execution_count": 188,
   "metadata": {},
   "outputs": [
    {
     "name": "stdout",
     "output_type": "stream",
     "text": [
      "['aber', 'alle', 'allem', 'allen', 'aller', 'alles', 'als', 'also', 'am', 'an', 'ander', 'andere', 'anderem', 'anderen', 'anderer', 'anderes', 'anderm', 'andern', 'anders', 'auch', 'auf', 'aus', 'bei', 'bin', 'bis', 'bist', 'da', 'damit', 'dann', 'das', 'dass', 'dasselbe', 'dazu', 'daß', 'dein', 'deine', 'deinem', 'deinen', 'deiner', 'deines', 'dem', 'demselben', 'den', 'denn', 'denselben', 'der', 'derer', 'derselbe', 'derselben', 'des', 'desselben', 'dessen', 'dich', 'die', 'dies', 'diese', 'dieselbe', 'dieselben', 'diesem', 'diesen', 'dieser', 'dieses', 'dir', 'doch', 'dort', 'du', 'durch', 'ein', 'eine', 'einem', 'einen', 'einer', 'eines', 'einig', 'einige', 'einigem', 'einigen', 'einiger', 'einiges', 'einmal', 'er', 'es', 'etwas', 'euch', 'euer', 'eure', 'eurem', 'euren', 'eurer', 'eures', 'für', 'gegen', 'gewesen', 'hab', 'habe', 'haben', 'hat', 'hatte', 'hatten', 'hier', 'hin', 'hinter', 'ich', 'ihm', 'ihn', 'ihnen', 'ihr', 'ihre', 'ihrem', 'ihren', 'ihrer', 'ihres', 'im', 'in', 'indem', 'ins', 'ist', 'jede', 'jedem', 'jeden', 'jeder', 'jedes', 'jene', 'jenem', 'jenen', 'jener', 'jenes', 'jetzt', 'kann', 'kein', 'keine', 'keinem', 'keinen', 'keiner', 'keines', 'können', 'könnte', 'machen', 'man', 'manche', 'manchem', 'manchen', 'mancher', 'manches', 'mein', 'meine', 'meinem', 'meinen', 'meiner', 'meines', 'mich', 'mir', 'mit', 'muss', 'musste', 'nach', 'nicht', 'nichts', 'noch', 'nun', 'nur', 'ob', 'oder', 'ohne', 'sehr', 'sein', 'seine', 'seinem', 'seinen', 'seiner', 'seines', 'selbst', 'sich', 'sie', 'sind', 'so', 'solche', 'solchem', 'solchen', 'solcher', 'solches', 'soll', 'sollte', 'sondern', 'sonst', 'um', 'und', 'uns', 'unser', 'unsere', 'unserem', 'unseren', 'unserer', 'unseres', 'unter', 'viel', 'vom', 'von', 'vor', 'war', 'waren', 'warst', 'was', 'weg', 'weil', 'weiter', 'welche', 'welchem', 'welchen', 'welcher', 'welches', 'wenn', 'werde', 'werden', 'wie', 'wieder', 'will', 'wir', 'wird', 'wirst', 'wo', 'wollen', 'wollte', 'während', 'würde', 'würden', 'zu', 'zum', 'zur', 'zwar', 'zwischen', 'über']\n"
     ]
    }
   ],
   "source": [
    "print(get_stop_words('de'))"
   ]
  },
  {
   "cell_type": "code",
   "execution_count": 190,
   "metadata": {},
   "outputs": [],
   "source": [
    "tf = TfidfVectorizer(max_features=100).fit(aggr.text)"
   ]
  },
  {
   "cell_type": "code",
   "execution_count": 191,
   "metadata": {},
   "outputs": [
    {
     "data": {
      "text/plain": [
       "{'die': 23,\n",
       " 'also': 4,\n",
       " 'das': 16,\n",
       " 'der': 21,\n",
       " 'in': 48,\n",
       " 'den': 19,\n",
       " 'und': 84,\n",
       " 'haben': 38,\n",
       " 'vor': 87,\n",
       " 'sie': 80,\n",
       " 'dass': 17,\n",
       " 'es': 31,\n",
       " 'eine': 28,\n",
       " 'so': 82,\n",
       " 'nur': 72,\n",
       " 'wenn': 91,\n",
       " 'einen': 29,\n",
       " 'wird': 97,\n",
       " 'von': 86,\n",
       " 'mit': 65,\n",
       " 'dem': 18,\n",
       " 'ist': 49,\n",
       " 'ihn': 44,\n",
       " 'kann': 52,\n",
       " 'mir': 64,\n",
       " 'zu': 99,\n",
       " 'als': 3,\n",
       " 'was': 89,\n",
       " 'schon': 76,\n",
       " 'aber': 0,\n",
       " 'nicht': 69,\n",
       " 'werden': 92,\n",
       " 'keine': 53,\n",
       " 'hat': 40,\n",
       " 'ja': 50,\n",
       " 'an': 5,\n",
       " 'uns': 85,\n",
       " 'auf': 7,\n",
       " 'wo': 98,\n",
       " 'denn': 20,\n",
       " 'für': 33,\n",
       " 'aus': 8,\n",
       " 'wir': 96,\n",
       " 'bei': 9,\n",
       " 'er': 30,\n",
       " 'sich': 79,\n",
       " 'noch': 71,\n",
       " 'oder': 73,\n",
       " 'man': 58,\n",
       " 'doch': 25,\n",
       " 'sein': 78,\n",
       " 'um': 83,\n",
       " 'wie': 93,\n",
       " 'da': 13,\n",
       " 'alles': 2,\n",
       " 'sehr': 77,\n",
       " 'im': 46,\n",
       " 'war': 88,\n",
       " 'auch': 6,\n",
       " 'ihr': 45,\n",
       " 'ein': 27,\n",
       " 'alle': 1,\n",
       " 'mehr': 60,\n",
       " 'nichts': 70,\n",
       " 'machen': 56,\n",
       " 'dann': 15,\n",
       " 'nach': 67,\n",
       " 'gut': 35,\n",
       " 'wieder': 94,\n",
       " 'immer': 47,\n",
       " 'sind': 81,\n",
       " 'mal': 57,\n",
       " 'hier': 42,\n",
       " 'ich': 43,\n",
       " 'muss': 66,\n",
       " 'hab': 36,\n",
       " 'jetzt': 51,\n",
       " 'habe': 37,\n",
       " 'mich': 63,\n",
       " 'du': 26,\n",
       " 'mann': 59,\n",
       " 'bin': 10,\n",
       " 'mein': 61,\n",
       " 'hast': 39,\n",
       " 'okay': 75,\n",
       " 'dich': 22,\n",
       " 'oh': 74,\n",
       " 'bist': 11,\n",
       " 'weiß': 90,\n",
       " 'dir': 24,\n",
       " 'nein': 68,\n",
       " 'meine': 62,\n",
       " 'hey': 41,\n",
       " 'will': 95,\n",
       " 'los': 55,\n",
       " 'danke': 14,\n",
       " 'geht': 34,\n",
       " 'bitte': 12,\n",
       " 'komm': 54,\n",
       " 'euch': 32}"
      ]
     },
     "execution_count": 191,
     "metadata": {},
     "output_type": "execute_result"
    }
   ],
   "source": [
    "tf.vocabulary_"
   ]
  },
  {
   "cell_type": "code",
   "execution_count": null,
   "metadata": {},
   "outputs": [],
   "source": []
  }
 ],
 "metadata": {
  "kernelspec": {
   "display_name": "Python 3",
   "language": "python",
   "name": "python3"
  },
  "language_info": {
   "codemirror_mode": {
    "name": "ipython",
    "version": 3
   },
   "file_extension": ".py",
   "mimetype": "text/x-python",
   "name": "python",
   "nbconvert_exporter": "python",
   "pygments_lexer": "ipython3",
   "version": "3.8.2"
  }
 },
 "nbformat": 4,
 "nbformat_minor": 4
}
