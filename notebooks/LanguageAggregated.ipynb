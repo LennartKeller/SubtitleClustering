{
 "cells": [
  {
   "cell_type": "code",
   "execution_count": 193,
   "metadata": {},
   "outputs": [],
   "source": [
    "import pandas as pd\n",
    "import matplotlib.pyplot as plt\n",
    "import numpy as np\n",
    "import plotly.graph_objects as go\n",
    "import seaborn as sns\n",
    "from sklearn.feature_extraction.text import TfidfVectorizer\n",
    "from stop_words import get_stop_words\n",
    "from sklearn.decomposition import PCA\n",
    "from sklearn.cluster import *\n",
    "from sklearn.mixture import *\n",
    "from umap import UMAP\n",
    "from collections import Counter\n",
    "from sklearn.mixture import GaussianMixture\n",
    "from sklearn.pipeline import Pipeline, make_pipeline\n",
    "from sklearn.base import TransformerMixin\n",
    "from sklearn.metrics import davies_bouldin_score, calinski_harabasz_score\n",
    "from sklearn.base import clone as clone_estimator\n",
    "import re\n",
    "from scipy.spatial.distance import pdist, squareform, cosine, euclidean"
   ]
  },
  {
   "cell_type": "markdown",
   "metadata": {},
   "source": [
    "## Define some usefull functions"
   ]
  },
  {
   "cell_type": "code",
   "execution_count": 2,
   "metadata": {},
   "outputs": [],
   "source": [
    "def aggregate_by_label(df: pd.DataFrame, label: str, min_threshold: int = 0):\n",
    "\n",
    "    top_labels = df[label].value_counts()[df[label].value_counts() > min_threshold]\n",
    "    \n",
    "    entries = []\n",
    "    for l in top_labels.index:\n",
    "        label_df = df[df[label] == l]\n",
    "        all_texts = []\n",
    "        for text in label_df.text:\n",
    "            all_texts.append(text)\n",
    "        entry = {}\n",
    "        \n",
    "        conctanated_text = \" \".join(all_texts)\n",
    "        entry['label'] = l\n",
    "        entry['text'] = conctanated_text\n",
    "        entry['n_texts'] = len(all_texts)\n",
    "        entry['n_tokens'] = len(conctanated_text.split())\n",
    "        entry['instances'] = \", \".join(label_df.filename.to_list())\n",
    "        \n",
    "        entries.append(entry)\n",
    "    return pd.DataFrame.from_records(entries)"
   ]
  },
  {
   "cell_type": "code",
   "execution_count": 3,
   "metadata": {},
   "outputs": [],
   "source": [
    "def get_cluster_dfs(df, cluster):\n",
    "    \"Get one df with all entries from one cluster for all clusters\"\n",
    "    return [df[cluster == i] for i in np.unique(cluster)]"
   ]
  },
  {
   "cell_type": "code",
   "execution_count": 4,
   "metadata": {},
   "outputs": [],
   "source": [
    "from plotly.colors import qualitative \n",
    "\n",
    "def plotly_color_categorical_values(values, cmap=qualitative.Light24):\n",
    "    uniq = np.unique(values)\n",
    "    if len(uniq) > len(cmap):\n",
    "        print(\"Need more colors than current cmap holds\")\n",
    "        return\n",
    "    categories_color = {cat: cmap[index] for index, cat in enumerate(uniq)}\n",
    "    return [categories_color[cat] for cat in values]"
   ]
  },
  {
   "cell_type": "code",
   "execution_count": 5,
   "metadata": {},
   "outputs": [],
   "source": [
    "from sklearn.model_selection import ParameterGrid\n",
    "from sklearn.base import ClusterMixin\n",
    "from tqdm import tqdm\n",
    "from sklearn.base import clone as clone_estimator\n",
    "from time import time\n",
    "\n",
    "def _call_scoring(entry, score, data):\n",
    "    try:\n",
    "        entry[score.__name__] = score(data)\n",
    "    except Exception as e:\n",
    "        entry['Exception'] = e\n",
    "    return entry\n",
    "\n",
    "def tune(clu: ClusterMixin,\n",
    "         X: np.ndarray,\n",
    "         params: ParameterGrid,\n",
    "         scoring: callable = None,\n",
    "         verbose: bool = True):\n",
    "    \n",
    "    results = []\n",
    "    params = tqdm(params) if verbose else params\n",
    "    for param_comb in params:\n",
    "        entry = {**param_comb}\n",
    "        clu_instance = clone_estimator(clu)\n",
    "        \n",
    "        fit_start = time()\n",
    "        clu_instance.fit(X)\n",
    "        fit_time = time() - fit_start\n",
    "        entry['fit_time'] = fit_time\n",
    "        \n",
    "        labels = clu_instance.predict(X)\n",
    "        \n",
    "        if scoring:\n",
    "            if isinstance(scoring, list):\n",
    "                for score in scoring:\n",
    "                    _call_scoring(entry=entry, score=score, data=labels)\n",
    "            if callable(scoring):\n",
    "                _call_scoring(entry=entry, score=scoring, data=labels)\n",
    "            else:\n",
    "                raise Exception('Invalid scoring parameter passed')\n",
    "        else:\n",
    "            if hasattr(clu_instance, 'score') and callable(clu_instance.score):\n",
    "                _call_scoring(entry=entry, score=clu_instance.score, data=X)\n",
    "        results.append(entry)\n",
    "        \n",
    "    return pd.DataFrame.from_records(results)"
   ]
  },
  {
   "cell_type": "code",
   "execution_count": 6,
   "metadata": {},
   "outputs": [],
   "source": [
    "class DenseTransformer(TransformerMixin):\n",
    "    \"\"\"\n",
    "    Transformer for convert sparse data into dense.\n",
    "    \"\"\"\n",
    "    def fit(self, X, y=None):\n",
    "        return self\n",
    "    \n",
    "    def transform(self, X, y=None):\n",
    "        return X.todense()"
   ]
  },
  {
   "cell_type": "code",
   "execution_count": 7,
   "metadata": {},
   "outputs": [],
   "source": [
    "def merge_params_dicts(*args, sep='__'):\n",
    "    \"\"\"\n",
    "    Merges n python dicts into one.\n",
    "    If each dict is passed in a tuple where the first entry is a string,\n",
    "    all keys in that dict will get the string as prefix\n",
    "    \"\"\"\n",
    "    merged = {}\n",
    "    for entry in args:\n",
    "        if isinstance(entry, tuple):\n",
    "            prefix = entry[0]\n",
    "            merged.update({prefix + sep + key: value for key, value in entry[1].items()})\n",
    "        if isinstance(entry, dict):\n",
    "            merged.update(entry)\n",
    "    return merged"
   ]
  },
  {
   "cell_type": "code",
   "execution_count": 8,
   "metadata": {},
   "outputs": [],
   "source": [
    "def print_clusters(dfs):\n",
    "    for index, cluster_df in enumerate(dfs):\n",
    "        print(f'Cluster {index}')\n",
    "        print(cluster_df.label)\n",
    "        print(f'Total number of movies in cluster => {cluster_df.n_texts.sum()}')\n",
    "        print(f'Total number of tokens in cluster => {cluster_df.n_tokens.sum()}')\n",
    "        print('#'*60)"
   ]
  },
  {
   "cell_type": "code",
   "execution_count": 9,
   "metadata": {},
   "outputs": [],
   "source": [
    "def cluster_distribution(cluster):\n",
    "    cluster_counter = Counter(cluster)\n",
    "    plt.bar(cluster_counter.keys(), cluster_counter.values())\n",
    "    plt.show()\n",
    "    return cluster_counter"
   ]
  },
  {
   "cell_type": "markdown",
   "metadata": {},
   "source": [
    "## Load dataset"
   ]
  },
  {
   "cell_type": "code",
   "execution_count": 10,
   "metadata": {},
   "outputs": [],
   "source": [
    "df = pd.read_csv('../dataset/movies_complete.csv')\n",
    "df.dropna(subset=['genre'], inplace=True)\n",
    "df['text_length'] = df.text.apply(lambda x: len(x.split()))\n",
    "df = df[df['text_length'] >= 3000]"
   ]
  },
  {
   "cell_type": "markdown",
   "metadata": {},
   "source": [
    "## Aggregate texts by Language attribute\n",
    "We set the threshold to 1, every Language entry which occurs only one time is discarded"
   ]
  },
  {
   "cell_type": "code",
   "execution_count": 11,
   "metadata": {},
   "outputs": [],
   "source": [
    "aggr = aggregate_by_label(df, 'Language', 3)"
   ]
  },
  {
   "cell_type": "markdown",
   "metadata": {},
   "source": [
    "We compute the number of different languages (that occur alone at least one time in our aggregated dataset)\n",
    "We will use this number as number of cluster later on."
   ]
  },
  {
   "cell_type": "code",
   "execution_count": 12,
   "metadata": {},
   "outputs": [
    {
     "data": {
      "text/plain": [
       "(0          English\n",
       " 1           French\n",
       " 2           German\n",
       " 3         Japanese\n",
       " 5          Spanish\n",
       " 6           Korean\n",
       " 8          Turkish\n",
       " 10        Mandarin\n",
       " 14       Norwegian\n",
       " 15          Danish\n",
       " 16           Dutch\n",
       " 18         Swedish\n",
       " 19         Russian\n",
       " 20         Italian\n",
       " 21       Icelandic\n",
       " 24       Cantonese\n",
       " 25            Thai\n",
       " 26           Hindi\n",
       " 29      Portuguese\n",
       " 41         Chinese\n",
       " 42           Greek\n",
       " 49          Polish\n",
       " 52    Swiss German\n",
       " 60          Arabic\n",
       " 63        Romanian\n",
       " Name: label, dtype: object,\n",
       " 25)"
      ]
     },
     "execution_count": 12,
     "metadata": {},
     "output_type": "execute_result"
    }
   ],
   "source": [
    "single_labels = aggr.label[aggr.label.str.split(',').apply(lambda x: len(x)) == 1]\n",
    "n_single_labels = len(single_labels)\n",
    "single_labels, n_single_labels"
   ]
  },
  {
   "cell_type": "markdown",
   "metadata": {},
   "source": [
    "## Define feature extraction pipeline(s)"
   ]
  },
  {
   "cell_type": "code",
   "execution_count": 97,
   "metadata": {},
   "outputs": [
    {
     "data": {
      "text/plain": [
       "Pipeline(steps=[('tfidfvectorizer', TfidfVectorizer(max_features=100)),\n",
       "                ('densetransformer',\n",
       "                 <__main__.DenseTransformer object at 0x7fc61065d850>),\n",
       "                ('umap', UMAP(n_components=20, random_state=42))])"
      ]
     },
     "execution_count": 97,
     "metadata": {},
     "output_type": "execute_result"
    }
   ],
   "source": [
    "feature_pipe = make_pipeline(\n",
    "    \n",
    "    TfidfVectorizer(\n",
    "        #stop_words=get_stop_words('de'),\n",
    "        max_features=100,\n",
    "        ngram_range=(1,1)),\n",
    "    \n",
    "    DenseTransformer(),\n",
    "    \n",
    "    UMAP(n_components=20,\n",
    "         random_state=42),\n",
    ")\n",
    "feature_pipe"
   ]
  },
  {
   "cell_type": "code",
   "execution_count": 98,
   "metadata": {},
   "outputs": [],
   "source": [
    "X = feature_pipe.fit_transform(aggr.text)"
   ]
  },
  {
   "cell_type": "code",
   "execution_count": 99,
   "metadata": {},
   "outputs": [
    {
     "data": {
      "text/plain": [
       "{'die': 23,\n",
       " 'also': 4,\n",
       " 'das': 16,\n",
       " 'der': 21,\n",
       " 'in': 48,\n",
       " 'den': 19,\n",
       " 'und': 84,\n",
       " 'haben': 38,\n",
       " 'vor': 87,\n",
       " 'sie': 80,\n",
       " 'dass': 17,\n",
       " 'es': 31,\n",
       " 'eine': 28,\n",
       " 'so': 82,\n",
       " 'nur': 72,\n",
       " 'wenn': 91,\n",
       " 'einen': 29,\n",
       " 'wird': 97,\n",
       " 'von': 86,\n",
       " 'mit': 65,\n",
       " 'dem': 18,\n",
       " 'ist': 49,\n",
       " 'ihn': 44,\n",
       " 'kann': 52,\n",
       " 'mir': 64,\n",
       " 'zu': 99,\n",
       " 'als': 3,\n",
       " 'was': 89,\n",
       " 'schon': 76,\n",
       " 'aber': 0,\n",
       " 'nicht': 69,\n",
       " 'werden': 92,\n",
       " 'keine': 53,\n",
       " 'hat': 40,\n",
       " 'ja': 50,\n",
       " 'an': 5,\n",
       " 'uns': 85,\n",
       " 'auf': 7,\n",
       " 'wo': 98,\n",
       " 'denn': 20,\n",
       " 'für': 33,\n",
       " 'aus': 8,\n",
       " 'wir': 96,\n",
       " 'bei': 9,\n",
       " 'er': 30,\n",
       " 'sich': 79,\n",
       " 'noch': 71,\n",
       " 'oder': 73,\n",
       " 'man': 58,\n",
       " 'doch': 25,\n",
       " 'sein': 78,\n",
       " 'um': 83,\n",
       " 'wie': 93,\n",
       " 'da': 13,\n",
       " 'alles': 2,\n",
       " 'sehr': 77,\n",
       " 'im': 46,\n",
       " 'war': 88,\n",
       " 'auch': 6,\n",
       " 'ihr': 45,\n",
       " 'ein': 27,\n",
       " 'alle': 1,\n",
       " 'mehr': 60,\n",
       " 'nichts': 70,\n",
       " 'machen': 56,\n",
       " 'dann': 15,\n",
       " 'nach': 67,\n",
       " 'gut': 35,\n",
       " 'wieder': 94,\n",
       " 'immer': 47,\n",
       " 'sind': 81,\n",
       " 'mal': 57,\n",
       " 'hier': 42,\n",
       " 'ich': 43,\n",
       " 'muss': 66,\n",
       " 'hab': 36,\n",
       " 'jetzt': 51,\n",
       " 'habe': 37,\n",
       " 'mich': 63,\n",
       " 'du': 26,\n",
       " 'mann': 59,\n",
       " 'bin': 10,\n",
       " 'mein': 61,\n",
       " 'hast': 39,\n",
       " 'okay': 75,\n",
       " 'dich': 22,\n",
       " 'oh': 74,\n",
       " 'bist': 11,\n",
       " 'weiß': 90,\n",
       " 'dir': 24,\n",
       " 'nein': 68,\n",
       " 'meine': 62,\n",
       " 'hey': 41,\n",
       " 'will': 95,\n",
       " 'los': 55,\n",
       " 'danke': 14,\n",
       " 'geht': 34,\n",
       " 'bitte': 12,\n",
       " 'komm': 54,\n",
       " 'euch': 32}"
      ]
     },
     "execution_count": 99,
     "metadata": {},
     "output_type": "execute_result"
    }
   ],
   "source": [
    "feature_pipe[0].vocabulary_"
   ]
  },
  {
   "cell_type": "code",
   "execution_count": 100,
   "metadata": {},
   "outputs": [],
   "source": [
    "def filter_non_stopwords(s, stopwords=get_stop_words('de')):\n",
    "    stopwords = set([t.lower() for t in stopwords])\n",
    "    token = re.findall(r'\\w+', s.lower())\n",
    "    return \" \".join([t for t in token if t in stopwords])\n",
    "\n",
    "#only_stopwords = aggr.text.apply(filter_non_stopwords)"
   ]
  },
  {
   "cell_type": "code",
   "execution_count": 101,
   "metadata": {},
   "outputs": [],
   "source": [
    "#len(get_stop_words('de'))"
   ]
  },
  {
   "cell_type": "code",
   "execution_count": 102,
   "metadata": {},
   "outputs": [],
   "source": [
    "#Xstop = feature_pipe.fit_transform(only_stopwords)"
   ]
  },
  {
   "cell_type": "code",
   "execution_count": 103,
   "metadata": {},
   "outputs": [],
   "source": [
    "#X = Xstop"
   ]
  },
  {
   "cell_type": "code",
   "execution_count": 104,
   "metadata": {},
   "outputs": [
    {
     "data": {
      "text/plain": [
       "(65, 20)"
      ]
     },
     "execution_count": 104,
     "metadata": {},
     "output_type": "execute_result"
    }
   ],
   "source": [
    "X.shape"
   ]
  },
  {
   "cell_type": "markdown",
   "metadata": {},
   "source": [
    "## Compute 2D umap representation of our data\n",
    "We use the same pipeline for computing 2D data for plotting our results"
   ]
  },
  {
   "cell_type": "code",
   "execution_count": 105,
   "metadata": {},
   "outputs": [
    {
     "data": {
      "application/vnd.plotly.v1+json": {
       "config": {
        "plotlyServerURL": "https://plot.ly"
       },
       "data": [
        {
         "marker": {
          "color": [
           12181830,
           1589231,
           1676394,
           670914,
           810080,
           532378,
           395234,
           484261,
           485290,
           361604,
           237221,
           243233,
           207250,
           240343,
           147740,
           144459,
           156794,
           126810,
           136157,
           118492,
           143324,
           98198,
           147809,
           135981,
           95279,
           78349,
           105164,
           137156,
           100770,
           73679,
           69555,
           57035,
           83374,
           58867,
           54356,
           41719,
           45473,
           47078,
           42856,
           38277,
           45145,
           44621,
           26038,
           43172,
           29945,
           34642,
           42262,
           67385,
           36370,
           29621,
           57788,
           42901,
           30327,
           52111,
           28061,
           38116,
           22157,
           31430,
           25831,
           30004,
           33941,
           27401,
           21666,
           31173,
           27648
          ]
         },
         "mode": "markers",
         "text": [
          "English|1382",
          "French|204",
          "German|190",
          "Japanese|100",
          "English, Spanish|78",
          "Spanish|71",
          "Korean|51",
          "English, French|51",
          "Turkish|45",
          "French, English|45",
          "Mandarin|33",
          "German, English|29",
          "English, German|24",
          "English, Russian|24",
          "Norwegian|23",
          "Danish|21",
          "Dutch|21",
          "English, Japanese|18",
          "Swedish|18",
          "Russian|18",
          "Italian|18",
          "Icelandic|15",
          "English, Italian|13",
          "English, Ukrainian|13",
          "Cantonese|13",
          "Thai|12",
          "Hindi|11",
          "English, Arabic|11",
          "English, Mandarin|11",
          "Portuguese|10",
          "Spanish, English|10",
          "Japanese, English|10",
          "English, Portuguese|9",
          "French, German|8",
          "Mandarin, English|8",
          "Cantonese, English|7",
          "German, Turkish|7",
          "Mandarin, Cantonese|7",
          "English, French, Italian|6",
          "Korean, English|6",
          "French, Arabic|6",
          "Chinese|6",
          "Greek|5",
          "Swedish, English|5",
          "Norwegian, English|5",
          "English, Chinese|5",
          "English, Latin|5",
          "English, Hebrew|5",
          "French, Italian|5",
          "Polish|5",
          "English, French, German|5",
          "English, Greek|5",
          "Swiss German|5",
          "English, Korean|5",
          "French, Spanish|4",
          "English, Italian, Spanish|4",
          "Thai, English|4",
          "Russian, English|4",
          "Arabic, French|4",
          "English, Thai|4",
          "Arabic|4",
          "Cantonese, Mandarin|4",
          "English, Arabic, Hebrew|4",
          "Romanian|4",
          "Dutch, English|4"
         ],
         "type": "scatter",
         "x": [
          5.441404819488525,
          4.116971492767334,
          -0.017187394201755524,
          1.3597501516342163,
          6.054511070251465,
          2.7987847328186035,
          3.3474724292755127,
          4.380264759063721,
          0.8386741876602173,
          3.652125358581543,
          1.3750782012939453,
          0.1422540694475174,
          4.509974479675293,
          5.415106296539307,
          0.06448590755462646,
          1.7997801303863525,
          0.04976808652281761,
          4.007614612579346,
          -0.08218741416931152,
          1.5298869609832764,
          0.6629526615142822,
          0.20509320497512817,
          4.138760566711426,
          5.128902912139893,
          0.9855232238769531,
          0.864989697933197,
          4.300631046295166,
          4.591551780700684,
          5.5957841873168945,
          1.2327882051467896,
          2.709578514099121,
          1.8569096326828003,
          5.676302909851074,
          4.134822368621826,
          1.560706377029419,
          2.3625264167785645,
          -0.17529723048210144,
          1.1179014444351196,
          4.41871452331543,
          3.7023277282714844,
          2.371741771697998,
          0.6380135416984558,
          1.4670089483261108,
          5.098927974700928,
          0.6920871734619141,
          2.890265941619873,
          3.2443718910217285,
          5.736922264099121,
          3.7431328296661377,
          3.8248989582061768,
          4.281070232391357,
          5.503498554229736,
          0.2354005128145218,
          5.389407634735107,
          3.703918933868408,
          0.9243311882019043,
          0.928006112575531,
          1.1609399318695068,
          2.7323949337005615,
          5.883383274078369,
          0.8004716634750366,
          1.3814243078231812,
          2.4443509578704834,
          1.0089874267578125,
          3.8826119899749756
         ],
         "y": [
          2.9514448642730713,
          2.740912914276123,
          4.886661529541016,
          6.809031009674072,
          3.2373552322387695,
          3.9928860664367676,
          6.085427284240723,
          3.9999663829803467,
          3.74897837638855,
          2.5419118404388428,
          8.19456672668457,
          5.068116188049316,
          4.761643886566162,
          4.198307514190674,
          3.7856202125549316,
          6.640381336212158,
          4.7213311195373535,
          5.5435028076171875,
          4.149350166320801,
          7.245388984680176,
          3.7837769985198975,
          4.068918704986572,
          3.1415369510650635,
          3.919570207595825,
          8.65250301361084,
          8.307711601257324,
          4.545868873596191,
          4.958000659942627,
          3.5243704319000244,
          3.9095804691314697,
          4.418890953063965,
          6.982497692108154,
          2.8667030334472656,
          3.6523489952087402,
          7.781304836273193,
          6.835999011993408,
          3.9695301055908203,
          7.9354376792907715,
          2.7952640056610107,
          5.816136360168457,
          3.881204605102539,
          8.066106796264648,
          7.504467964172363,
          2.765092611312866,
          4.500323295593262,
          4.70929479598999,
          3.4357223510742188,
          3.0690784454345703,
          3.2376253604888916,
          5.695311546325684,
          5.219131946563721,
          3.59187912940979,
          3.685762643814087,
          3.7667407989501953,
          2.7420384883880615,
          4.418447494506836,
          7.438372611999512,
          7.055362701416016,
          3.4720969200134277,
          3.2832415103912354,
          8.385334968566895,
          7.942084312438965,
          3.9737260341644287,
          3.845418930053711,
          2.6927132606506348
         ]
        }
       ],
       "layout": {
        "template": {
         "data": {
          "bar": [
           {
            "error_x": {
             "color": "#2a3f5f"
            },
            "error_y": {
             "color": "#2a3f5f"
            },
            "marker": {
             "line": {
              "color": "#E5ECF6",
              "width": 0.5
             }
            },
            "type": "bar"
           }
          ],
          "barpolar": [
           {
            "marker": {
             "line": {
              "color": "#E5ECF6",
              "width": 0.5
             }
            },
            "type": "barpolar"
           }
          ],
          "carpet": [
           {
            "aaxis": {
             "endlinecolor": "#2a3f5f",
             "gridcolor": "white",
             "linecolor": "white",
             "minorgridcolor": "white",
             "startlinecolor": "#2a3f5f"
            },
            "baxis": {
             "endlinecolor": "#2a3f5f",
             "gridcolor": "white",
             "linecolor": "white",
             "minorgridcolor": "white",
             "startlinecolor": "#2a3f5f"
            },
            "type": "carpet"
           }
          ],
          "choropleth": [
           {
            "colorbar": {
             "outlinewidth": 0,
             "ticks": ""
            },
            "type": "choropleth"
           }
          ],
          "contour": [
           {
            "colorbar": {
             "outlinewidth": 0,
             "ticks": ""
            },
            "colorscale": [
             [
              0,
              "#0d0887"
             ],
             [
              0.1111111111111111,
              "#46039f"
             ],
             [
              0.2222222222222222,
              "#7201a8"
             ],
             [
              0.3333333333333333,
              "#9c179e"
             ],
             [
              0.4444444444444444,
              "#bd3786"
             ],
             [
              0.5555555555555556,
              "#d8576b"
             ],
             [
              0.6666666666666666,
              "#ed7953"
             ],
             [
              0.7777777777777778,
              "#fb9f3a"
             ],
             [
              0.8888888888888888,
              "#fdca26"
             ],
             [
              1,
              "#f0f921"
             ]
            ],
            "type": "contour"
           }
          ],
          "contourcarpet": [
           {
            "colorbar": {
             "outlinewidth": 0,
             "ticks": ""
            },
            "type": "contourcarpet"
           }
          ],
          "heatmap": [
           {
            "colorbar": {
             "outlinewidth": 0,
             "ticks": ""
            },
            "colorscale": [
             [
              0,
              "#0d0887"
             ],
             [
              0.1111111111111111,
              "#46039f"
             ],
             [
              0.2222222222222222,
              "#7201a8"
             ],
             [
              0.3333333333333333,
              "#9c179e"
             ],
             [
              0.4444444444444444,
              "#bd3786"
             ],
             [
              0.5555555555555556,
              "#d8576b"
             ],
             [
              0.6666666666666666,
              "#ed7953"
             ],
             [
              0.7777777777777778,
              "#fb9f3a"
             ],
             [
              0.8888888888888888,
              "#fdca26"
             ],
             [
              1,
              "#f0f921"
             ]
            ],
            "type": "heatmap"
           }
          ],
          "heatmapgl": [
           {
            "colorbar": {
             "outlinewidth": 0,
             "ticks": ""
            },
            "colorscale": [
             [
              0,
              "#0d0887"
             ],
             [
              0.1111111111111111,
              "#46039f"
             ],
             [
              0.2222222222222222,
              "#7201a8"
             ],
             [
              0.3333333333333333,
              "#9c179e"
             ],
             [
              0.4444444444444444,
              "#bd3786"
             ],
             [
              0.5555555555555556,
              "#d8576b"
             ],
             [
              0.6666666666666666,
              "#ed7953"
             ],
             [
              0.7777777777777778,
              "#fb9f3a"
             ],
             [
              0.8888888888888888,
              "#fdca26"
             ],
             [
              1,
              "#f0f921"
             ]
            ],
            "type": "heatmapgl"
           }
          ],
          "histogram": [
           {
            "marker": {
             "colorbar": {
              "outlinewidth": 0,
              "ticks": ""
             }
            },
            "type": "histogram"
           }
          ],
          "histogram2d": [
           {
            "colorbar": {
             "outlinewidth": 0,
             "ticks": ""
            },
            "colorscale": [
             [
              0,
              "#0d0887"
             ],
             [
              0.1111111111111111,
              "#46039f"
             ],
             [
              0.2222222222222222,
              "#7201a8"
             ],
             [
              0.3333333333333333,
              "#9c179e"
             ],
             [
              0.4444444444444444,
              "#bd3786"
             ],
             [
              0.5555555555555556,
              "#d8576b"
             ],
             [
              0.6666666666666666,
              "#ed7953"
             ],
             [
              0.7777777777777778,
              "#fb9f3a"
             ],
             [
              0.8888888888888888,
              "#fdca26"
             ],
             [
              1,
              "#f0f921"
             ]
            ],
            "type": "histogram2d"
           }
          ],
          "histogram2dcontour": [
           {
            "colorbar": {
             "outlinewidth": 0,
             "ticks": ""
            },
            "colorscale": [
             [
              0,
              "#0d0887"
             ],
             [
              0.1111111111111111,
              "#46039f"
             ],
             [
              0.2222222222222222,
              "#7201a8"
             ],
             [
              0.3333333333333333,
              "#9c179e"
             ],
             [
              0.4444444444444444,
              "#bd3786"
             ],
             [
              0.5555555555555556,
              "#d8576b"
             ],
             [
              0.6666666666666666,
              "#ed7953"
             ],
             [
              0.7777777777777778,
              "#fb9f3a"
             ],
             [
              0.8888888888888888,
              "#fdca26"
             ],
             [
              1,
              "#f0f921"
             ]
            ],
            "type": "histogram2dcontour"
           }
          ],
          "mesh3d": [
           {
            "colorbar": {
             "outlinewidth": 0,
             "ticks": ""
            },
            "type": "mesh3d"
           }
          ],
          "parcoords": [
           {
            "line": {
             "colorbar": {
              "outlinewidth": 0,
              "ticks": ""
             }
            },
            "type": "parcoords"
           }
          ],
          "pie": [
           {
            "automargin": true,
            "type": "pie"
           }
          ],
          "scatter": [
           {
            "marker": {
             "colorbar": {
              "outlinewidth": 0,
              "ticks": ""
             }
            },
            "type": "scatter"
           }
          ],
          "scatter3d": [
           {
            "line": {
             "colorbar": {
              "outlinewidth": 0,
              "ticks": ""
             }
            },
            "marker": {
             "colorbar": {
              "outlinewidth": 0,
              "ticks": ""
             }
            },
            "type": "scatter3d"
           }
          ],
          "scattercarpet": [
           {
            "marker": {
             "colorbar": {
              "outlinewidth": 0,
              "ticks": ""
             }
            },
            "type": "scattercarpet"
           }
          ],
          "scattergeo": [
           {
            "marker": {
             "colorbar": {
              "outlinewidth": 0,
              "ticks": ""
             }
            },
            "type": "scattergeo"
           }
          ],
          "scattergl": [
           {
            "marker": {
             "colorbar": {
              "outlinewidth": 0,
              "ticks": ""
             }
            },
            "type": "scattergl"
           }
          ],
          "scattermapbox": [
           {
            "marker": {
             "colorbar": {
              "outlinewidth": 0,
              "ticks": ""
             }
            },
            "type": "scattermapbox"
           }
          ],
          "scatterpolar": [
           {
            "marker": {
             "colorbar": {
              "outlinewidth": 0,
              "ticks": ""
             }
            },
            "type": "scatterpolar"
           }
          ],
          "scatterpolargl": [
           {
            "marker": {
             "colorbar": {
              "outlinewidth": 0,
              "ticks": ""
             }
            },
            "type": "scatterpolargl"
           }
          ],
          "scatterternary": [
           {
            "marker": {
             "colorbar": {
              "outlinewidth": 0,
              "ticks": ""
             }
            },
            "type": "scatterternary"
           }
          ],
          "surface": [
           {
            "colorbar": {
             "outlinewidth": 0,
             "ticks": ""
            },
            "colorscale": [
             [
              0,
              "#0d0887"
             ],
             [
              0.1111111111111111,
              "#46039f"
             ],
             [
              0.2222222222222222,
              "#7201a8"
             ],
             [
              0.3333333333333333,
              "#9c179e"
             ],
             [
              0.4444444444444444,
              "#bd3786"
             ],
             [
              0.5555555555555556,
              "#d8576b"
             ],
             [
              0.6666666666666666,
              "#ed7953"
             ],
             [
              0.7777777777777778,
              "#fb9f3a"
             ],
             [
              0.8888888888888888,
              "#fdca26"
             ],
             [
              1,
              "#f0f921"
             ]
            ],
            "type": "surface"
           }
          ],
          "table": [
           {
            "cells": {
             "fill": {
              "color": "#EBF0F8"
             },
             "line": {
              "color": "white"
             }
            },
            "header": {
             "fill": {
              "color": "#C8D4E3"
             },
             "line": {
              "color": "white"
             }
            },
            "type": "table"
           }
          ]
         },
         "layout": {
          "annotationdefaults": {
           "arrowcolor": "#2a3f5f",
           "arrowhead": 0,
           "arrowwidth": 1
          },
          "coloraxis": {
           "colorbar": {
            "outlinewidth": 0,
            "ticks": ""
           }
          },
          "colorscale": {
           "diverging": [
            [
             0,
             "#8e0152"
            ],
            [
             0.1,
             "#c51b7d"
            ],
            [
             0.2,
             "#de77ae"
            ],
            [
             0.3,
             "#f1b6da"
            ],
            [
             0.4,
             "#fde0ef"
            ],
            [
             0.5,
             "#f7f7f7"
            ],
            [
             0.6,
             "#e6f5d0"
            ],
            [
             0.7,
             "#b8e186"
            ],
            [
             0.8,
             "#7fbc41"
            ],
            [
             0.9,
             "#4d9221"
            ],
            [
             1,
             "#276419"
            ]
           ],
           "sequential": [
            [
             0,
             "#0d0887"
            ],
            [
             0.1111111111111111,
             "#46039f"
            ],
            [
             0.2222222222222222,
             "#7201a8"
            ],
            [
             0.3333333333333333,
             "#9c179e"
            ],
            [
             0.4444444444444444,
             "#bd3786"
            ],
            [
             0.5555555555555556,
             "#d8576b"
            ],
            [
             0.6666666666666666,
             "#ed7953"
            ],
            [
             0.7777777777777778,
             "#fb9f3a"
            ],
            [
             0.8888888888888888,
             "#fdca26"
            ],
            [
             1,
             "#f0f921"
            ]
           ],
           "sequentialminus": [
            [
             0,
             "#0d0887"
            ],
            [
             0.1111111111111111,
             "#46039f"
            ],
            [
             0.2222222222222222,
             "#7201a8"
            ],
            [
             0.3333333333333333,
             "#9c179e"
            ],
            [
             0.4444444444444444,
             "#bd3786"
            ],
            [
             0.5555555555555556,
             "#d8576b"
            ],
            [
             0.6666666666666666,
             "#ed7953"
            ],
            [
             0.7777777777777778,
             "#fb9f3a"
            ],
            [
             0.8888888888888888,
             "#fdca26"
            ],
            [
             1,
             "#f0f921"
            ]
           ]
          },
          "colorway": [
           "#636efa",
           "#EF553B",
           "#00cc96",
           "#ab63fa",
           "#FFA15A",
           "#19d3f3",
           "#FF6692",
           "#B6E880",
           "#FF97FF",
           "#FECB52"
          ],
          "font": {
           "color": "#2a3f5f"
          },
          "geo": {
           "bgcolor": "white",
           "lakecolor": "white",
           "landcolor": "#E5ECF6",
           "showlakes": true,
           "showland": true,
           "subunitcolor": "white"
          },
          "hoverlabel": {
           "align": "left"
          },
          "hovermode": "closest",
          "mapbox": {
           "style": "light"
          },
          "paper_bgcolor": "white",
          "plot_bgcolor": "#E5ECF6",
          "polar": {
           "angularaxis": {
            "gridcolor": "white",
            "linecolor": "white",
            "ticks": ""
           },
           "bgcolor": "#E5ECF6",
           "radialaxis": {
            "gridcolor": "white",
            "linecolor": "white",
            "ticks": ""
           }
          },
          "scene": {
           "xaxis": {
            "backgroundcolor": "#E5ECF6",
            "gridcolor": "white",
            "gridwidth": 2,
            "linecolor": "white",
            "showbackground": true,
            "ticks": "",
            "zerolinecolor": "white"
           },
           "yaxis": {
            "backgroundcolor": "#E5ECF6",
            "gridcolor": "white",
            "gridwidth": 2,
            "linecolor": "white",
            "showbackground": true,
            "ticks": "",
            "zerolinecolor": "white"
           },
           "zaxis": {
            "backgroundcolor": "#E5ECF6",
            "gridcolor": "white",
            "gridwidth": 2,
            "linecolor": "white",
            "showbackground": true,
            "ticks": "",
            "zerolinecolor": "white"
           }
          },
          "shapedefaults": {
           "line": {
            "color": "#2a3f5f"
           }
          },
          "ternary": {
           "aaxis": {
            "gridcolor": "white",
            "linecolor": "white",
            "ticks": ""
           },
           "baxis": {
            "gridcolor": "white",
            "linecolor": "white",
            "ticks": ""
           },
           "bgcolor": "#E5ECF6",
           "caxis": {
            "gridcolor": "white",
            "linecolor": "white",
            "ticks": ""
           }
          },
          "title": {
           "x": 0.05
          },
          "xaxis": {
           "automargin": true,
           "gridcolor": "white",
           "linecolor": "white",
           "ticks": "",
           "title": {
            "standoff": 15
           },
           "zerolinecolor": "white",
           "zerolinewidth": 2
          },
          "yaxis": {
           "automargin": true,
           "gridcolor": "white",
           "linecolor": "white",
           "ticks": "",
           "title": {
            "standoff": 15
           },
           "zerolinecolor": "white",
           "zerolinewidth": 2
          }
         }
        }
       }
      },
      "text/html": [
       "<div>\n",
       "        \n",
       "        \n",
       "            <div id=\"d6d6a9ac-b63a-4815-ba33-31b00410537f\" class=\"plotly-graph-div\" style=\"height:525px; width:100%;\"></div>\n",
       "            <script type=\"text/javascript\">\n",
       "                require([\"plotly\"], function(Plotly) {\n",
       "                    window.PLOTLYENV=window.PLOTLYENV || {};\n",
       "                    \n",
       "                if (document.getElementById(\"d6d6a9ac-b63a-4815-ba33-31b00410537f\")) {\n",
       "                    Plotly.newPlot(\n",
       "                        'd6d6a9ac-b63a-4815-ba33-31b00410537f',\n",
       "                        [{\"marker\": {\"color\": [12181830, 1589231, 1676394, 670914, 810080, 532378, 395234, 484261, 485290, 361604, 237221, 243233, 207250, 240343, 147740, 144459, 156794, 126810, 136157, 118492, 143324, 98198, 147809, 135981, 95279, 78349, 105164, 137156, 100770, 73679, 69555, 57035, 83374, 58867, 54356, 41719, 45473, 47078, 42856, 38277, 45145, 44621, 26038, 43172, 29945, 34642, 42262, 67385, 36370, 29621, 57788, 42901, 30327, 52111, 28061, 38116, 22157, 31430, 25831, 30004, 33941, 27401, 21666, 31173, 27648]}, \"mode\": \"markers\", \"text\": [\"English|1382\", \"French|204\", \"German|190\", \"Japanese|100\", \"English, Spanish|78\", \"Spanish|71\", \"Korean|51\", \"English, French|51\", \"Turkish|45\", \"French, English|45\", \"Mandarin|33\", \"German, English|29\", \"English, German|24\", \"English, Russian|24\", \"Norwegian|23\", \"Danish|21\", \"Dutch|21\", \"English, Japanese|18\", \"Swedish|18\", \"Russian|18\", \"Italian|18\", \"Icelandic|15\", \"English, Italian|13\", \"English, Ukrainian|13\", \"Cantonese|13\", \"Thai|12\", \"Hindi|11\", \"English, Arabic|11\", \"English, Mandarin|11\", \"Portuguese|10\", \"Spanish, English|10\", \"Japanese, English|10\", \"English, Portuguese|9\", \"French, German|8\", \"Mandarin, English|8\", \"Cantonese, English|7\", \"German, Turkish|7\", \"Mandarin, Cantonese|7\", \"English, French, Italian|6\", \"Korean, English|6\", \"French, Arabic|6\", \"Chinese|6\", \"Greek|5\", \"Swedish, English|5\", \"Norwegian, English|5\", \"English, Chinese|5\", \"English, Latin|5\", \"English, Hebrew|5\", \"French, Italian|5\", \"Polish|5\", \"English, French, German|5\", \"English, Greek|5\", \"Swiss German|5\", \"English, Korean|5\", \"French, Spanish|4\", \"English, Italian, Spanish|4\", \"Thai, English|4\", \"Russian, English|4\", \"Arabic, French|4\", \"English, Thai|4\", \"Arabic|4\", \"Cantonese, Mandarin|4\", \"English, Arabic, Hebrew|4\", \"Romanian|4\", \"Dutch, English|4\"], \"type\": \"scatter\", \"x\": [5.441404819488525, 4.116971492767334, -0.017187394201755524, 1.3597501516342163, 6.054511070251465, 2.7987847328186035, 3.3474724292755127, 4.380264759063721, 0.8386741876602173, 3.652125358581543, 1.3750782012939453, 0.1422540694475174, 4.509974479675293, 5.415106296539307, 0.06448590755462646, 1.7997801303863525, 0.04976808652281761, 4.007614612579346, -0.08218741416931152, 1.5298869609832764, 0.6629526615142822, 0.20509320497512817, 4.138760566711426, 5.128902912139893, 0.9855232238769531, 0.864989697933197, 4.300631046295166, 4.591551780700684, 5.5957841873168945, 1.2327882051467896, 2.709578514099121, 1.8569096326828003, 5.676302909851074, 4.134822368621826, 1.560706377029419, 2.3625264167785645, -0.17529723048210144, 1.1179014444351196, 4.41871452331543, 3.7023277282714844, 2.371741771697998, 0.6380135416984558, 1.4670089483261108, 5.098927974700928, 0.6920871734619141, 2.890265941619873, 3.2443718910217285, 5.736922264099121, 3.7431328296661377, 3.8248989582061768, 4.281070232391357, 5.503498554229736, 0.2354005128145218, 5.389407634735107, 3.703918933868408, 0.9243311882019043, 0.928006112575531, 1.1609399318695068, 2.7323949337005615, 5.883383274078369, 0.8004716634750366, 1.3814243078231812, 2.4443509578704834, 1.0089874267578125, 3.8826119899749756], \"y\": [2.9514448642730713, 2.740912914276123, 4.886661529541016, 6.809031009674072, 3.2373552322387695, 3.9928860664367676, 6.085427284240723, 3.9999663829803467, 3.74897837638855, 2.5419118404388428, 8.19456672668457, 5.068116188049316, 4.761643886566162, 4.198307514190674, 3.7856202125549316, 6.640381336212158, 4.7213311195373535, 5.5435028076171875, 4.149350166320801, 7.245388984680176, 3.7837769985198975, 4.068918704986572, 3.1415369510650635, 3.919570207595825, 8.65250301361084, 8.307711601257324, 4.545868873596191, 4.958000659942627, 3.5243704319000244, 3.9095804691314697, 4.418890953063965, 6.982497692108154, 2.8667030334472656, 3.6523489952087402, 7.781304836273193, 6.835999011993408, 3.9695301055908203, 7.9354376792907715, 2.7952640056610107, 5.816136360168457, 3.881204605102539, 8.066106796264648, 7.504467964172363, 2.765092611312866, 4.500323295593262, 4.70929479598999, 3.4357223510742188, 3.0690784454345703, 3.2376253604888916, 5.695311546325684, 5.219131946563721, 3.59187912940979, 3.685762643814087, 3.7667407989501953, 2.7420384883880615, 4.418447494506836, 7.438372611999512, 7.055362701416016, 3.4720969200134277, 3.2832415103912354, 8.385334968566895, 7.942084312438965, 3.9737260341644287, 3.845418930053711, 2.6927132606506348]}],\n",
       "                        {\"template\": {\"data\": {\"bar\": [{\"error_x\": {\"color\": \"#2a3f5f\"}, \"error_y\": {\"color\": \"#2a3f5f\"}, \"marker\": {\"line\": {\"color\": \"#E5ECF6\", \"width\": 0.5}}, \"type\": \"bar\"}], \"barpolar\": [{\"marker\": {\"line\": {\"color\": \"#E5ECF6\", \"width\": 0.5}}, \"type\": \"barpolar\"}], \"carpet\": [{\"aaxis\": {\"endlinecolor\": \"#2a3f5f\", \"gridcolor\": \"white\", \"linecolor\": \"white\", \"minorgridcolor\": \"white\", \"startlinecolor\": \"#2a3f5f\"}, \"baxis\": {\"endlinecolor\": \"#2a3f5f\", \"gridcolor\": \"white\", \"linecolor\": \"white\", \"minorgridcolor\": \"white\", \"startlinecolor\": \"#2a3f5f\"}, \"type\": \"carpet\"}], \"choropleth\": [{\"colorbar\": {\"outlinewidth\": 0, \"ticks\": \"\"}, \"type\": \"choropleth\"}], \"contour\": [{\"colorbar\": {\"outlinewidth\": 0, \"ticks\": \"\"}, \"colorscale\": [[0.0, \"#0d0887\"], [0.1111111111111111, \"#46039f\"], [0.2222222222222222, \"#7201a8\"], [0.3333333333333333, \"#9c179e\"], [0.4444444444444444, \"#bd3786\"], [0.5555555555555556, \"#d8576b\"], [0.6666666666666666, \"#ed7953\"], [0.7777777777777778, \"#fb9f3a\"], [0.8888888888888888, \"#fdca26\"], [1.0, \"#f0f921\"]], \"type\": \"contour\"}], \"contourcarpet\": [{\"colorbar\": {\"outlinewidth\": 0, \"ticks\": \"\"}, \"type\": \"contourcarpet\"}], \"heatmap\": [{\"colorbar\": {\"outlinewidth\": 0, \"ticks\": \"\"}, \"colorscale\": [[0.0, \"#0d0887\"], [0.1111111111111111, \"#46039f\"], [0.2222222222222222, \"#7201a8\"], [0.3333333333333333, \"#9c179e\"], [0.4444444444444444, \"#bd3786\"], [0.5555555555555556, \"#d8576b\"], [0.6666666666666666, \"#ed7953\"], [0.7777777777777778, \"#fb9f3a\"], [0.8888888888888888, \"#fdca26\"], [1.0, \"#f0f921\"]], \"type\": \"heatmap\"}], \"heatmapgl\": [{\"colorbar\": {\"outlinewidth\": 0, \"ticks\": \"\"}, \"colorscale\": [[0.0, \"#0d0887\"], [0.1111111111111111, \"#46039f\"], [0.2222222222222222, \"#7201a8\"], [0.3333333333333333, \"#9c179e\"], [0.4444444444444444, \"#bd3786\"], [0.5555555555555556, \"#d8576b\"], [0.6666666666666666, \"#ed7953\"], [0.7777777777777778, \"#fb9f3a\"], [0.8888888888888888, \"#fdca26\"], [1.0, \"#f0f921\"]], \"type\": \"heatmapgl\"}], \"histogram\": [{\"marker\": {\"colorbar\": {\"outlinewidth\": 0, \"ticks\": \"\"}}, \"type\": \"histogram\"}], \"histogram2d\": [{\"colorbar\": {\"outlinewidth\": 0, \"ticks\": \"\"}, \"colorscale\": [[0.0, \"#0d0887\"], [0.1111111111111111, \"#46039f\"], [0.2222222222222222, \"#7201a8\"], [0.3333333333333333, \"#9c179e\"], [0.4444444444444444, \"#bd3786\"], [0.5555555555555556, \"#d8576b\"], [0.6666666666666666, \"#ed7953\"], [0.7777777777777778, \"#fb9f3a\"], [0.8888888888888888, \"#fdca26\"], [1.0, \"#f0f921\"]], \"type\": \"histogram2d\"}], \"histogram2dcontour\": [{\"colorbar\": {\"outlinewidth\": 0, \"ticks\": \"\"}, \"colorscale\": [[0.0, \"#0d0887\"], [0.1111111111111111, \"#46039f\"], [0.2222222222222222, \"#7201a8\"], [0.3333333333333333, \"#9c179e\"], [0.4444444444444444, \"#bd3786\"], [0.5555555555555556, \"#d8576b\"], [0.6666666666666666, \"#ed7953\"], [0.7777777777777778, \"#fb9f3a\"], [0.8888888888888888, \"#fdca26\"], [1.0, \"#f0f921\"]], \"type\": \"histogram2dcontour\"}], \"mesh3d\": [{\"colorbar\": {\"outlinewidth\": 0, \"ticks\": \"\"}, \"type\": \"mesh3d\"}], \"parcoords\": [{\"line\": {\"colorbar\": {\"outlinewidth\": 0, \"ticks\": \"\"}}, \"type\": \"parcoords\"}], \"pie\": [{\"automargin\": true, \"type\": \"pie\"}], \"scatter\": [{\"marker\": {\"colorbar\": {\"outlinewidth\": 0, \"ticks\": \"\"}}, \"type\": \"scatter\"}], \"scatter3d\": [{\"line\": {\"colorbar\": {\"outlinewidth\": 0, \"ticks\": \"\"}}, \"marker\": {\"colorbar\": {\"outlinewidth\": 0, \"ticks\": \"\"}}, \"type\": \"scatter3d\"}], \"scattercarpet\": [{\"marker\": {\"colorbar\": {\"outlinewidth\": 0, \"ticks\": \"\"}}, \"type\": \"scattercarpet\"}], \"scattergeo\": [{\"marker\": {\"colorbar\": {\"outlinewidth\": 0, \"ticks\": \"\"}}, \"type\": \"scattergeo\"}], \"scattergl\": [{\"marker\": {\"colorbar\": {\"outlinewidth\": 0, \"ticks\": \"\"}}, \"type\": \"scattergl\"}], \"scattermapbox\": [{\"marker\": {\"colorbar\": {\"outlinewidth\": 0, \"ticks\": \"\"}}, \"type\": \"scattermapbox\"}], \"scatterpolar\": [{\"marker\": {\"colorbar\": {\"outlinewidth\": 0, \"ticks\": \"\"}}, \"type\": \"scatterpolar\"}], \"scatterpolargl\": [{\"marker\": {\"colorbar\": {\"outlinewidth\": 0, \"ticks\": \"\"}}, \"type\": \"scatterpolargl\"}], \"scatterternary\": [{\"marker\": {\"colorbar\": {\"outlinewidth\": 0, \"ticks\": \"\"}}, \"type\": \"scatterternary\"}], \"surface\": [{\"colorbar\": {\"outlinewidth\": 0, \"ticks\": \"\"}, \"colorscale\": [[0.0, \"#0d0887\"], [0.1111111111111111, \"#46039f\"], [0.2222222222222222, \"#7201a8\"], [0.3333333333333333, \"#9c179e\"], [0.4444444444444444, \"#bd3786\"], [0.5555555555555556, \"#d8576b\"], [0.6666666666666666, \"#ed7953\"], [0.7777777777777778, \"#fb9f3a\"], [0.8888888888888888, \"#fdca26\"], [1.0, \"#f0f921\"]], \"type\": \"surface\"}], \"table\": [{\"cells\": {\"fill\": {\"color\": \"#EBF0F8\"}, \"line\": {\"color\": \"white\"}}, \"header\": {\"fill\": {\"color\": \"#C8D4E3\"}, \"line\": {\"color\": \"white\"}}, \"type\": \"table\"}]}, \"layout\": {\"annotationdefaults\": {\"arrowcolor\": \"#2a3f5f\", \"arrowhead\": 0, \"arrowwidth\": 1}, \"coloraxis\": {\"colorbar\": {\"outlinewidth\": 0, \"ticks\": \"\"}}, \"colorscale\": {\"diverging\": [[0, \"#8e0152\"], [0.1, \"#c51b7d\"], [0.2, \"#de77ae\"], [0.3, \"#f1b6da\"], [0.4, \"#fde0ef\"], [0.5, \"#f7f7f7\"], [0.6, \"#e6f5d0\"], [0.7, \"#b8e186\"], [0.8, \"#7fbc41\"], [0.9, \"#4d9221\"], [1, \"#276419\"]], \"sequential\": [[0.0, \"#0d0887\"], [0.1111111111111111, \"#46039f\"], [0.2222222222222222, \"#7201a8\"], [0.3333333333333333, \"#9c179e\"], [0.4444444444444444, \"#bd3786\"], [0.5555555555555556, \"#d8576b\"], [0.6666666666666666, \"#ed7953\"], [0.7777777777777778, \"#fb9f3a\"], [0.8888888888888888, \"#fdca26\"], [1.0, \"#f0f921\"]], \"sequentialminus\": [[0.0, \"#0d0887\"], [0.1111111111111111, \"#46039f\"], [0.2222222222222222, \"#7201a8\"], [0.3333333333333333, \"#9c179e\"], [0.4444444444444444, \"#bd3786\"], [0.5555555555555556, \"#d8576b\"], [0.6666666666666666, \"#ed7953\"], [0.7777777777777778, \"#fb9f3a\"], [0.8888888888888888, \"#fdca26\"], [1.0, \"#f0f921\"]]}, \"colorway\": [\"#636efa\", \"#EF553B\", \"#00cc96\", \"#ab63fa\", \"#FFA15A\", \"#19d3f3\", \"#FF6692\", \"#B6E880\", \"#FF97FF\", \"#FECB52\"], \"font\": {\"color\": \"#2a3f5f\"}, \"geo\": {\"bgcolor\": \"white\", \"lakecolor\": \"white\", \"landcolor\": \"#E5ECF6\", \"showlakes\": true, \"showland\": true, \"subunitcolor\": \"white\"}, \"hoverlabel\": {\"align\": \"left\"}, \"hovermode\": \"closest\", \"mapbox\": {\"style\": \"light\"}, \"paper_bgcolor\": \"white\", \"plot_bgcolor\": \"#E5ECF6\", \"polar\": {\"angularaxis\": {\"gridcolor\": \"white\", \"linecolor\": \"white\", \"ticks\": \"\"}, \"bgcolor\": \"#E5ECF6\", \"radialaxis\": {\"gridcolor\": \"white\", \"linecolor\": \"white\", \"ticks\": \"\"}}, \"scene\": {\"xaxis\": {\"backgroundcolor\": \"#E5ECF6\", \"gridcolor\": \"white\", \"gridwidth\": 2, \"linecolor\": \"white\", \"showbackground\": true, \"ticks\": \"\", \"zerolinecolor\": \"white\"}, \"yaxis\": {\"backgroundcolor\": \"#E5ECF6\", \"gridcolor\": \"white\", \"gridwidth\": 2, \"linecolor\": \"white\", \"showbackground\": true, \"ticks\": \"\", \"zerolinecolor\": \"white\"}, \"zaxis\": {\"backgroundcolor\": \"#E5ECF6\", \"gridcolor\": \"white\", \"gridwidth\": 2, \"linecolor\": \"white\", \"showbackground\": true, \"ticks\": \"\", \"zerolinecolor\": \"white\"}}, \"shapedefaults\": {\"line\": {\"color\": \"#2a3f5f\"}}, \"ternary\": {\"aaxis\": {\"gridcolor\": \"white\", \"linecolor\": \"white\", \"ticks\": \"\"}, \"baxis\": {\"gridcolor\": \"white\", \"linecolor\": \"white\", \"ticks\": \"\"}, \"bgcolor\": \"#E5ECF6\", \"caxis\": {\"gridcolor\": \"white\", \"linecolor\": \"white\", \"ticks\": \"\"}}, \"title\": {\"x\": 0.05}, \"xaxis\": {\"automargin\": true, \"gridcolor\": \"white\", \"linecolor\": \"white\", \"ticks\": \"\", \"title\": {\"standoff\": 15}, \"zerolinecolor\": \"white\", \"zerolinewidth\": 2}, \"yaxis\": {\"automargin\": true, \"gridcolor\": \"white\", \"linecolor\": \"white\", \"ticks\": \"\", \"title\": {\"standoff\": 15}, \"zerolinecolor\": \"white\", \"zerolinewidth\": 2}}}},\n",
       "                        {\"responsive\": true}\n",
       "                    ).then(function(){\n",
       "                            \n",
       "var gd = document.getElementById('d6d6a9ac-b63a-4815-ba33-31b00410537f');\n",
       "var x = new MutationObserver(function (mutations, observer) {{\n",
       "        var display = window.getComputedStyle(gd).display;\n",
       "        if (!display || display === 'none') {{\n",
       "            console.log([gd, 'removed!']);\n",
       "            Plotly.purge(gd);\n",
       "            observer.disconnect();\n",
       "        }}\n",
       "}});\n",
       "\n",
       "// Listen for the removal of the full notebook cells\n",
       "var notebookContainer = gd.closest('#notebook-container');\n",
       "if (notebookContainer) {{\n",
       "    x.observe(notebookContainer, {childList: true});\n",
       "}}\n",
       "\n",
       "// Listen for the clearing of the current output cell\n",
       "var outputEl = gd.closest('.output');\n",
       "if (outputEl) {{\n",
       "    x.observe(outputEl, {childList: true});\n",
       "}}\n",
       "\n",
       "                        })\n",
       "                };\n",
       "                });\n",
       "            </script>\n",
       "        </div>"
      ]
     },
     "metadata": {},
     "output_type": "display_data"
    }
   ],
   "source": [
    "Xr = UMAP(n_components=2).fit_transform(X)\n",
    "fig = go.Figure(data=go.Scatter(x=Xr[:, 0],\n",
    "                                y=Xr[:, 1],\n",
    "                                mode='markers',\n",
    "                                text=[f'{label}|{n_token}' for label, n_token in zip(aggr.label, aggr.n_texts)],\n",
    "                                marker_color=aggr.n_tokens))\n",
    "\n",
    "\n",
    "fig.show()"
   ]
  },
  {
   "cell_type": "markdown",
   "metadata": {},
   "source": [
    "# KMeans-Clustering"
   ]
  },
  {
   "cell_type": "code",
   "execution_count": 106,
   "metadata": {},
   "outputs": [],
   "source": [
    "from yellowbrick.cluster import KElbowVisualizer"
   ]
  },
  {
   "cell_type": "code",
   "execution_count": 107,
   "metadata": {},
   "outputs": [
    {
     "data": {
      "image/png": "[encoded data removed]",
      "text/plain": [
       "<Figure size 576x396 with 2 Axes>"
      ]
     },
     "metadata": {},
     "output_type": "display_data"
    },
    {
     "data": {
      "text/plain": [
       "<matplotlib.axes._subplots.AxesSubplot at 0x7fc613a83640>"
      ]
     },
     "execution_count": 107,
     "metadata": {},
     "output_type": "execute_result"
    }
   ],
   "source": [
    "visualizer = KElbowVisualizer(KMeans(), k=(2, 30))\n",
    "visualizer.fit(X)\n",
    "visualizer.show()"
   ]
  },
  {
   "cell_type": "code",
   "execution_count": 108,
   "metadata": {},
   "outputs": [],
   "source": [
    "kmeans = KMeans(n_clusters=8)\n",
    "kmean_cluster = kmeans.fit_predict(X)\n",
    "kmeans_dfs = get_cluster_dfs(aggr, kmean_cluster)"
   ]
  },
  {
   "cell_type": "code",
   "execution_count": 201,
   "metadata": {},
   "outputs": [],
   "source": [
    "center_distances = squareform(pdist(kmeans.cluster_centers_, euclidean))"
   ]
  },
  {
   "cell_type": "code",
   "execution_count": 202,
   "metadata": {},
   "outputs": [
    {
     "data": {
      "text/plain": [
       "<matplotlib.axes._subplots.AxesSubplot at 0x7fc55009bac0>"
      ]
     },
     "execution_count": 202,
     "metadata": {},
     "output_type": "execute_result"
    },
    {
     "data": {
      "image/png": "[encoded data removed]",
      "text/plain": [
       "<Figure size 576x396 with 2 Axes>"
      ]
     },
     "metadata": {},
     "output_type": "display_data"
    }
   ],
   "source": [
    "sns.heatmap(center_distances, annot=True)"
   ]
  },
  {
   "cell_type": "code",
   "execution_count": 109,
   "metadata": {},
   "outputs": [
    {
     "data": {
      "image/png": "[encoded data removed]",
      "text/plain": [
       "<Figure size 576x396 with 1 Axes>"
      ]
     },
     "metadata": {},
     "output_type": "display_data"
    }
   ],
   "source": [
    "kmeans_cluster_counts = cluster_distribution(kmean_cluster)"
   ]
  },
  {
   "cell_type": "code",
   "execution_count": 110,
   "metadata": {},
   "outputs": [
    {
     "data": {
      "text/html": [
       "<div>\n",
       "<style scoped>\n",
       "    .dataframe tbody tr th:only-of-type {\n",
       "        vertical-align: middle;\n",
       "    }\n",
       "\n",
       "    .dataframe tbody tr th {\n",
       "        vertical-align: top;\n",
       "    }\n",
       "\n",
       "    .dataframe thead th {\n",
       "        text-align: right;\n",
       "    }\n",
       "</style>\n",
       "<table border=\"1\" class=\"dataframe\">\n",
       "  <thead>\n",
       "    <tr style=\"text-align: right;\">\n",
       "      <th></th>\n",
       "      <th>label</th>\n",
       "      <th>text</th>\n",
       "      <th>n_texts</th>\n",
       "      <th>n_tokens</th>\n",
       "      <th>instances</th>\n",
       "    </tr>\n",
       "  </thead>\n",
       "  <tbody>\n",
       "    <tr>\n",
       "      <th>2</th>\n",
       "      <td>German</td>\n",
       "      <td>Hände hoch oder ich schieße ( 1966 ) dTV - MDR...</td>\n",
       "      <td>190</td>\n",
       "      <td>1676394</td>\n",
       "      <td>4732286.xml, 3689777.xml, 3587552.xml, 3306117...</td>\n",
       "    </tr>\n",
       "    <tr>\n",
       "      <th>11</th>\n",
       "      <td>German, English</td>\n",
       "      <td>( Grillengezirpe ) ( Vogelschreie ) ( Dröhnen ...</td>\n",
       "      <td>29</td>\n",
       "      <td>243233</td>\n",
       "      <td>4794472.xml, 5766111.xml, 5074196.xml, 4421004...</td>\n",
       "    </tr>\n",
       "    <tr>\n",
       "      <th>14</th>\n",
       "      <td>Norwegian</td>\n",
       "      <td>Ich weiß nicht , wann es begann , oder wie es ...</td>\n",
       "      <td>23</td>\n",
       "      <td>147740</td>\n",
       "      <td>4903811.xml, 5862471.xml, 4918401.xml, 4413003...</td>\n",
       "    </tr>\n",
       "    <tr>\n",
       "      <th>16</th>\n",
       "      <td>Dutch</td>\n",
       "      <td>Zieh deine Socken aus . Und deine Hose . T-Shi...</td>\n",
       "      <td>21</td>\n",
       "      <td>156794</td>\n",
       "      <td>5505476.xml, 4464865.xml, 6809239.xml, 4535696...</td>\n",
       "    </tr>\n",
       "    <tr>\n",
       "      <th>18</th>\n",
       "      <td>Swedish</td>\n",
       "      <td>PATRIK , AGE 1 / 5 Basierend auf einem Stück v...</td>\n",
       "      <td>18</td>\n",
       "      <td>136157</td>\n",
       "      <td>3592485.xml, 4887280.xml, 5252151.xml, 3855929...</td>\n",
       "    </tr>\n",
       "  </tbody>\n",
       "</table>\n",
       "</div>"
      ],
      "text/plain": [
       "              label                                               text  \\\n",
       "2            German  Hände hoch oder ich schieße ( 1966 ) dTV - MDR...   \n",
       "11  German, English  ( Grillengezirpe ) ( Vogelschreie ) ( Dröhnen ...   \n",
       "14        Norwegian  Ich weiß nicht , wann es begann , oder wie es ...   \n",
       "16            Dutch  Zieh deine Socken aus . Und deine Hose . T-Shi...   \n",
       "18          Swedish  PATRIK , AGE 1 / 5 Basierend auf einem Stück v...   \n",
       "\n",
       "    n_texts  n_tokens                                          instances  \n",
       "2       190   1676394  4732286.xml, 3689777.xml, 3587552.xml, 3306117...  \n",
       "11       29    243233  4794472.xml, 5766111.xml, 5074196.xml, 4421004...  \n",
       "14       23    147740  4903811.xml, 5862471.xml, 4918401.xml, 4413003...  \n",
       "16       21    156794  5505476.xml, 4464865.xml, 6809239.xml, 4535696...  \n",
       "18       18    136157  3592485.xml, 4887280.xml, 5252151.xml, 3855929...  "
      ]
     },
     "execution_count": 110,
     "metadata": {},
     "output_type": "execute_result"
    }
   ],
   "source": [
    "kmeans_dfs[1].head()"
   ]
  },
  {
   "cell_type": "code",
   "execution_count": 203,
   "metadata": {},
   "outputs": [
    {
     "name": "stdout",
     "output_type": "stream",
     "text": [
      "Cluster 0\n",
      "5                     Spanish\n",
      "30           Spanish, English\n",
      "40             French, Arabic\n",
      "45           English, Chinese\n",
      "46             English, Latin\n",
      "58             Arabic, French\n",
      "62    English, Arabic, Hebrew\n",
      "Name: label, dtype: object\n",
      "Total number of movies in cluster => 105\n",
      "Total number of tokens in cluster => 771479\n",
      "############################################################\n",
      "Cluster 1\n",
      "2              German\n",
      "11    German, English\n",
      "14          Norwegian\n",
      "16              Dutch\n",
      "18            Swedish\n",
      "21          Icelandic\n",
      "36    German, Turkish\n",
      "52       Swiss German\n",
      "Name: label, dtype: object\n",
      "Total number of movies in cluster => 308\n",
      "Total number of tokens in cluster => 2534316\n",
      "############################################################\n",
      "Cluster 2\n",
      "1                       French\n",
      "7              English, French\n",
      "9              French, English\n",
      "22            English, Italian\n",
      "33              French, German\n",
      "38    English, French, Italian\n",
      "48             French, Italian\n",
      "54             French, Spanish\n",
      "64              Dutch, English\n",
      "Name: label, dtype: object\n",
      "Total number of movies in cluster => 340\n",
      "Total number of tokens in cluster => 2776707\n",
      "############################################################\n",
      "Cluster 3\n",
      "10               Mandarin\n",
      "24              Cantonese\n",
      "25                   Thai\n",
      "34      Mandarin, English\n",
      "37    Mandarin, Cantonese\n",
      "41                Chinese\n",
      "56          Thai, English\n",
      "60                 Arabic\n",
      "61    Cantonese, Mandarin\n",
      "Name: label, dtype: object\n",
      "Total number of movies in cluster => 91\n",
      "Total number of tokens in cluster => 640403\n",
      "############################################################\n",
      "Cluster 4\n",
      "0                 English\n",
      "4        English, Spanish\n",
      "13       English, Russian\n",
      "23     English, Ukrainian\n",
      "28      English, Mandarin\n",
      "32    English, Portuguese\n",
      "43       Swedish, English\n",
      "47        English, Hebrew\n",
      "51         English, Greek\n",
      "53        English, Korean\n",
      "59          English, Thai\n",
      "Name: label, dtype: object\n",
      "Total number of movies in cluster => 1541\n",
      "Total number of tokens in cluster => 13787951\n",
      "############################################################\n",
      "Cluster 5\n",
      "3               Japanese\n",
      "15                Danish\n",
      "19               Russian\n",
      "31     Japanese, English\n",
      "35    Cantonese, English\n",
      "42                 Greek\n",
      "57      Russian, English\n",
      "Name: label, dtype: object\n",
      "Total number of movies in cluster => 165\n",
      "Total number of tokens in cluster => 1090087\n",
      "############################################################\n",
      "Cluster 6\n",
      "8                       Turkish\n",
      "20                      Italian\n",
      "29                   Portuguese\n",
      "44           Norwegian, English\n",
      "55    English, Italian, Spanish\n",
      "63                     Romanian\n",
      "Name: label, dtype: object\n",
      "Total number of movies in cluster => 86\n",
      "Total number of tokens in cluster => 801527\n",
      "############################################################\n",
      "Cluster 7\n",
      "6                      Korean\n",
      "12            English, German\n",
      "17          English, Japanese\n",
      "26                      Hindi\n",
      "27            English, Arabic\n",
      "39            Korean, English\n",
      "49                     Polish\n",
      "50    English, French, German\n",
      "Name: label, dtype: object\n",
      "Total number of movies in cluster => 131\n",
      "Total number of tokens in cluster => 1097300\n",
      "############################################################\n"
     ]
    }
   ],
   "source": [
    "print_clusters(kmeans_dfs)"
   ]
  },
  {
   "cell_type": "code",
   "execution_count": 112,
   "metadata": {},
   "outputs": [
    {
     "data": {
      "text/plain": [
       "1.028114057776006"
      ]
     },
     "execution_count": 112,
     "metadata": {},
     "output_type": "execute_result"
    }
   ],
   "source": [
    "kmeans_dbscore = davies_bouldin_score(X, kmean_cluster)\n",
    "kmeans_dbscore"
   ]
  },
  {
   "cell_type": "code",
   "execution_count": 113,
   "metadata": {},
   "outputs": [
    {
     "data": {
      "text/plain": [
       "38.58115557315378"
      ]
     },
     "execution_count": 113,
     "metadata": {},
     "output_type": "execute_result"
    }
   ],
   "source": [
    "kmeans_chscore = calinski_harabasz_score(X, kmean_cluster)\n",
    "kmeans_chscore"
   ]
  },
  {
   "cell_type": "markdown",
   "metadata": {},
   "source": [
    "# DBSCAN-Clustering"
   ]
  },
  {
   "cell_type": "markdown",
   "metadata": {},
   "source": [
    "In order to find a suitable value for the min-distance parameter ```eps``` we compute the mean distance between all datatpoints"
   ]
  },
  {
   "cell_type": "code",
   "execution_count": 183,
   "metadata": {},
   "outputs": [],
   "source": [
    "from scipy.spatial.distance import pdist, squareform, cosine, euclidean\n",
    "dm = squareform(pdist(X, cosine))"
   ]
  },
  {
   "cell_type": "code",
   "execution_count": 184,
   "metadata": {},
   "outputs": [
    {
     "data": {
      "text/plain": [
       "array([[0.        , 0.0008413 , 0.00317856, ..., 0.00215479, 0.0021569 ,\n",
       "        0.0009723 ],\n",
       "       [0.0008413 , 0.        , 0.00370211, ..., 0.00212078, 0.00259437,\n",
       "        0.00015044],\n",
       "       [0.00317856, 0.00370211, 0.        , ..., 0.00267261, 0.00212328,\n",
       "        0.00441996],\n",
       "       ...,\n",
       "       [0.00215479, 0.00212078, 0.00267261, ..., 0.        , 0.00094757,\n",
       "        0.00240341],\n",
       "       [0.0021569 , 0.00259437, 0.00212328, ..., 0.00094757, 0.        ,\n",
       "        0.00284216],\n",
       "       [0.0009723 , 0.00015044, 0.00441996, ..., 0.00240341, 0.00284216,\n",
       "        0.        ]])"
      ]
     },
     "execution_count": 184,
     "metadata": {},
     "output_type": "execute_result"
    }
   ],
   "source": [
    "dm"
   ]
  },
  {
   "cell_type": "code",
   "execution_count": 185,
   "metadata": {},
   "outputs": [
    {
     "data": {
      "text/plain": [
       "0.0026174896763856504"
      ]
     },
     "execution_count": 185,
     "metadata": {},
     "output_type": "execute_result"
    }
   ],
   "source": [
    "dm.mean()"
   ]
  },
  {
   "cell_type": "markdown",
   "metadata": {},
   "source": [
    "Now we choose a value near the mean distance as eps and set the min_samples param for density reachability to a low value since we do not have many points in our dataset."
   ]
  },
  {
   "cell_type": "code",
   "execution_count": 187,
   "metadata": {},
   "outputs": [],
   "source": [
    "dbscan = DBSCAN(metric='cosine', eps=0.8, min_samples=3)"
   ]
  },
  {
   "cell_type": "code",
   "execution_count": 188,
   "metadata": {},
   "outputs": [],
   "source": [
    "dbscan_cluster = dbscan.fit_predict(X)"
   ]
  },
  {
   "cell_type": "code",
   "execution_count": 189,
   "metadata": {},
   "outputs": [],
   "source": [
    "dbscan_dfs = get_cluster_dfs(aggr, dbscan_cluster)"
   ]
  },
  {
   "cell_type": "code",
   "execution_count": 190,
   "metadata": {},
   "outputs": [
    {
     "data": {
      "image/png": "[encoded data removed]",
      "text/plain": [
       "<Figure size 576x396 with 1 Axes>"
      ]
     },
     "metadata": {},
     "output_type": "display_data"
    }
   ],
   "source": [
    "dbscan_cluster_counts = cluster_distribution(dbscan_cluster)"
   ]
  },
  {
   "cell_type": "code",
   "execution_count": 180,
   "metadata": {},
   "outputs": [
    {
     "name": "stdout",
     "output_type": "stream",
     "text": [
      "4\n"
     ]
    }
   ],
   "source": [
    "print(len(dbscan_cluster_counts))"
   ]
  },
  {
   "cell_type": "markdown",
   "metadata": {},
   "source": [
    "=> The number data points marked as noise is surpringly low\n",
    "=> The min_samples param has great influence on the number of clusters that the algorithm will find"
   ]
  },
  {
   "cell_type": "code",
   "execution_count": 181,
   "metadata": {},
   "outputs": [
    {
     "data": {
      "text/html": [
       "<div>\n",
       "<style scoped>\n",
       "    .dataframe tbody tr th:only-of-type {\n",
       "        vertical-align: middle;\n",
       "    }\n",
       "\n",
       "    .dataframe tbody tr th {\n",
       "        vertical-align: top;\n",
       "    }\n",
       "\n",
       "    .dataframe thead th {\n",
       "        text-align: right;\n",
       "    }\n",
       "</style>\n",
       "<table border=\"1\" class=\"dataframe\">\n",
       "  <thead>\n",
       "    <tr style=\"text-align: right;\">\n",
       "      <th></th>\n",
       "      <th>label</th>\n",
       "      <th>text</th>\n",
       "      <th>n_texts</th>\n",
       "      <th>n_tokens</th>\n",
       "      <th>instances</th>\n",
       "    </tr>\n",
       "  </thead>\n",
       "  <tbody>\n",
       "    <tr>\n",
       "      <th>44</th>\n",
       "      <td>Norwegian, English</td>\n",
       "      <td>13. Oktober 2008 Erhalten von Filmkameratene A...</td>\n",
       "      <td>5</td>\n",
       "      <td>29945</td>\n",
       "      <td>4089780.xml, 6674436.xml, 4816727.xml, 6483045...</td>\n",
       "    </tr>\n",
       "    <tr>\n",
       "      <th>46</th>\n",
       "      <td>English, Latin</td>\n",
       "      <td>Leaves of Grass ( 2009 ) dTV - Das Erste - 9. ...</td>\n",
       "      <td>5</td>\n",
       "      <td>42262</td>\n",
       "      <td>4617134.xml, 4051224.xml, 4752606.xml, 4978559...</td>\n",
       "    </tr>\n",
       "    <tr>\n",
       "      <th>55</th>\n",
       "      <td>English, Italian, Spanish</td>\n",
       "      <td>Es gibt 2 Arten von Menschen auf dieser Welt ,...</td>\n",
       "      <td>4</td>\n",
       "      <td>38116</td>\n",
       "      <td>3651521.xml, 4790478.xml, 5827249.xml, 6652468...</td>\n",
       "    </tr>\n",
       "  </tbody>\n",
       "</table>\n",
       "</div>"
      ],
      "text/plain": [
       "                        label  \\\n",
       "44         Norwegian, English   \n",
       "46             English, Latin   \n",
       "55  English, Italian, Spanish   \n",
       "\n",
       "                                                 text  n_texts  n_tokens  \\\n",
       "44  13. Oktober 2008 Erhalten von Filmkameratene A...        5     29945   \n",
       "46  Leaves of Grass ( 2009 ) dTV - Das Erste - 9. ...        5     42262   \n",
       "55  Es gibt 2 Arten von Menschen auf dieser Welt ,...        4     38116   \n",
       "\n",
       "                                            instances  \n",
       "44  4089780.xml, 6674436.xml, 4816727.xml, 6483045...  \n",
       "46  4617134.xml, 4051224.xml, 4752606.xml, 4978559...  \n",
       "55  3651521.xml, 4790478.xml, 5827249.xml, 6652468...  "
      ]
     },
     "execution_count": 181,
     "metadata": {},
     "output_type": "execute_result"
    }
   ],
   "source": [
    "noise = aggr[dbscan_cluster == -1]\n",
    "noise"
   ]
  },
  {
   "cell_type": "code",
   "execution_count": 182,
   "metadata": {},
   "outputs": [
    {
     "name": "stdout",
     "output_type": "stream",
     "text": [
      "Cluster 0\n",
      "44           Norwegian, English\n",
      "46               English, Latin\n",
      "55    English, Italian, Spanish\n",
      "Name: label, dtype: object\n",
      "Total number of movies in cluster => 14\n",
      "Total number of tokens in cluster => 110323\n",
      "############################################################\n",
      "Cluster 1\n",
      "0                      English\n",
      "1                       French\n",
      "3                     Japanese\n",
      "4             English, Spanish\n",
      "5                      Spanish\n",
      "6                       Korean\n",
      "7              English, French\n",
      "9              French, English\n",
      "10                    Mandarin\n",
      "12             English, German\n",
      "13            English, Russian\n",
      "15                      Danish\n",
      "17           English, Japanese\n",
      "19                     Russian\n",
      "22            English, Italian\n",
      "23          English, Ukrainian\n",
      "24                   Cantonese\n",
      "25                        Thai\n",
      "26                       Hindi\n",
      "27             English, Arabic\n",
      "28           English, Mandarin\n",
      "30            Spanish, English\n",
      "31           Japanese, English\n",
      "32         English, Portuguese\n",
      "33              French, German\n",
      "34           Mandarin, English\n",
      "35          Cantonese, English\n",
      "37         Mandarin, Cantonese\n",
      "38    English, French, Italian\n",
      "39             Korean, English\n",
      "40              French, Arabic\n",
      "41                     Chinese\n",
      "42                       Greek\n",
      "43            Swedish, English\n",
      "45            English, Chinese\n",
      "47             English, Hebrew\n",
      "48             French, Italian\n",
      "49                      Polish\n",
      "50     English, French, German\n",
      "51              English, Greek\n",
      "53             English, Korean\n",
      "54             French, Spanish\n",
      "56               Thai, English\n",
      "57            Russian, English\n",
      "58              Arabic, French\n",
      "59               English, Thai\n",
      "60                      Arabic\n",
      "61         Cantonese, Mandarin\n",
      "62     English, Arabic, Hebrew\n",
      "64              Dutch, English\n",
      "Name: label, dtype: object\n",
      "Total number of movies in cluster => 2368\n",
      "Total number of tokens in cluster => 20121665\n",
      "############################################################\n",
      "Cluster 2\n",
      "2              German\n",
      "11    German, English\n",
      "16              Dutch\n",
      "Name: label, dtype: object\n",
      "Total number of movies in cluster => 240\n",
      "Total number of tokens in cluster => 2076421\n",
      "############################################################\n",
      "Cluster 3\n",
      "8             Turkish\n",
      "14          Norwegian\n",
      "18            Swedish\n",
      "20            Italian\n",
      "21          Icelandic\n",
      "29         Portuguese\n",
      "36    German, Turkish\n",
      "52       Swiss German\n",
      "63           Romanian\n",
      "Name: label, dtype: object\n",
      "Total number of movies in cluster => 145\n",
      "Total number of tokens in cluster => 1191361\n",
      "############################################################\n"
     ]
    }
   ],
   "source": [
    "print_clusters(dbscan_dfs)"
   ]
  },
  {
   "cell_type": "code",
   "execution_count": 81,
   "metadata": {},
   "outputs": [
    {
     "name": "stdout",
     "output_type": "stream",
     "text": [
      "Need more colors than current cmap holds\n"
     ]
    },
    {
     "data": {
      "application/vnd.plotly.v1+json": {
       "config": {
        "plotlyServerURL": "https://plot.ly"
       },
       "data": [
        {
         "mode": "markers",
         "text": [
          "English|1382|12181830",
          "French|204|1589231",
          "German|190|1676394",
          "Japanese|100|670914",
          "English, Spanish|78|810080",
          "Spanish|71|532378",
          "Korean|51|395234",
          "English, French|51|484261",
          "Turkish|45|485290",
          "French, English|45|361604",
          "Mandarin|33|237221",
          "German, English|29|243233",
          "English, German|24|207250",
          "English, Russian|24|240343",
          "Norwegian|23|147740",
          "Danish|21|144459",
          "Dutch|21|156794",
          "English, Japanese|18|126810",
          "Swedish|18|136157",
          "Russian|18|118492",
          "Italian|18|143324",
          "Icelandic|15|98198",
          "English, Italian|13|147809",
          "English, Ukrainian|13|135981",
          "Cantonese|13|95279",
          "Thai|12|78349",
          "Hindi|11|105164",
          "English, Arabic|11|137156",
          "English, Mandarin|11|100770",
          "Portuguese|10|73679",
          "Spanish, English|10|69555",
          "Japanese, English|10|57035",
          "English, Portuguese|9|83374",
          "French, German|8|58867",
          "Mandarin, English|8|54356",
          "Cantonese, English|7|41719",
          "German, Turkish|7|45473",
          "Mandarin, Cantonese|7|47078",
          "English, French, Italian|6|42856",
          "Korean, English|6|38277",
          "French, Arabic|6|45145",
          "Chinese|6|44621",
          "Greek|5|26038",
          "Swedish, English|5|43172",
          "Norwegian, English|5|29945",
          "English, Chinese|5|34642",
          "English, Latin|5|42262",
          "English, Hebrew|5|67385",
          "French, Italian|5|36370",
          "Polish|5|29621",
          "English, French, German|5|57788",
          "English, Greek|5|42901",
          "Swiss German|5|30327",
          "English, Korean|5|52111",
          "French, Spanish|4|28061",
          "English, Italian, Spanish|4|38116",
          "Thai, English|4|22157",
          "Russian, English|4|31430",
          "Arabic, French|4|25831",
          "English, Thai|4|30004",
          "Arabic|4|33941",
          "Cantonese, Mandarin|4|27401",
          "English, Arabic, Hebrew|4|21666",
          "Romanian|4|31173",
          "Dutch, English|4|27648"
         ],
         "type": "scatter",
         "x": [
          2.6155760288238525,
          1.4460868835449219,
          5.094393253326416,
          3.9702649116516113,
          3.3031113147735596,
          0.6089174747467041,
          2.5898046493530273,
          2.1383614540100098,
          6.631290435791016,
          1.3396122455596924,
          2.9687232971191406,
          5.201818943023682,
          2.3555712699890137,
          3.149144172668457,
          5.740592002868652,
          4.0082688331604,
          5.176145553588867,
          2.129622220993042,
          5.674894332885742,
          3.4511308670043945,
          6.640160083770752,
          6.137842178344727,
          1.8142017126083374,
          2.9017534255981445,
          3.5362484455108643,
          3.1246752738952637,
          2.1953678131103516,
          2.519498825073242,
          2.8586010932922363,
          6.870502948760986,
          0.8466495871543884,
          3.727766752243042,
          3.115664482116699,
          1.8080344200134277,
          3.182973623275757,
          2.6998987197875977,
          5.8972086906433105,
          2.920719623565674,
          1.96985924243927,
          2.3429839611053467,
          0.37388259172439575,
          3.05951189994812,
          3.1260530948638916,
          2.323854923248291,
          5.772663593292236,
          1.319533109664917,
          1.0386707782745361,
          3.0053904056549072,
          1.4658864736557007,
          2.4471359252929688,
          2.403130054473877,
          3.0063271522521973,
          6.317928791046143,
          2.9943788051605225,
          1.5376192331314087,
          6.007389545440674,
          3.771446704864502,
          3.837973117828369,
          0.5957233905792236,
          3.3022730350494385,
          3.1608588695526123,
          2.740452766418457,
          0.3673447370529175,
          6.522911071777344,
          1.631448745727539
         ],
         "y": [
          5.011167526245117,
          5.5117268562316895,
          8.364275932312012,
          10.054800987243652,
          5.4575114250183105,
          6.386126518249512,
          9.019217491149902,
          6.623218059539795,
          7.333961009979248,
          5.132425308227539,
          10.563225746154785,
          8.502068519592285,
          7.352792263031006,
          6.425467491149902,
          7.972875595092773,
          9.464051246643066,
          8.185403823852539,
          8.15622615814209,
          7.9353437423706055,
          10.04233169555664,
          7.673281669616699,
          7.795841693878174,
          5.596303462982178,
          6.257582664489746,
          10.929760932922363,
          10.909001350402832,
          7.094844341278076,
          7.561882019042969,
          5.711130619049072,
          7.422534465789795,
          6.64776086807251,
          9.682530403137207,
          5.015009880065918,
          6.210731029510498,
          10.222640037536621,
          9.444461822509766,
          8.087535858154297,
          10.573565483093262,
          5.21118688583374,
          8.50700855255127,
          6.060521602630615,
          11.023943901062012,
          9.88060474395752,
          4.929335594177246,
          7.537124156951904,
          7.387650012969971,
          6.083626747131348,
          5.272815704345703,
          5.890250205993652,
          8.781102180480957,
          7.971713542938232,
          5.755161762237549,
          7.689791202545166,
          6.15976095199585,
          5.287301063537598,
          8.376068115234375,
          10.564859390258789,
          10.313756942749023,
          5.818500518798828,
          5.290432453155518,
          10.9213285446167,
          10.114432334899902,
          6.590251445770264,
          7.386436939239502,
          5.115088939666748
         ]
        }
       ],
       "layout": {
        "template": {
         "data": {
          "bar": [
           {
            "error_x": {
             "color": "#2a3f5f"
            },
            "error_y": {
             "color": "#2a3f5f"
            },
            "marker": {
             "line": {
              "color": "#E5ECF6",
              "width": 0.5
             }
            },
            "type": "bar"
           }
          ],
          "barpolar": [
           {
            "marker": {
             "line": {
              "color": "#E5ECF6",
              "width": 0.5
             }
            },
            "type": "barpolar"
           }
          ],
          "carpet": [
           {
            "aaxis": {
             "endlinecolor": "#2a3f5f",
             "gridcolor": "white",
             "linecolor": "white",
             "minorgridcolor": "white",
             "startlinecolor": "#2a3f5f"
            },
            "baxis": {
             "endlinecolor": "#2a3f5f",
             "gridcolor": "white",
             "linecolor": "white",
             "minorgridcolor": "white",
             "startlinecolor": "#2a3f5f"
            },
            "type": "carpet"
           }
          ],
          "choropleth": [
           {
            "colorbar": {
             "outlinewidth": 0,
             "ticks": ""
            },
            "type": "choropleth"
           }
          ],
          "contour": [
           {
            "colorbar": {
             "outlinewidth": 0,
             "ticks": ""
            },
            "colorscale": [
             [
              0,
              "#0d0887"
             ],
             [
              0.1111111111111111,
              "#46039f"
             ],
             [
              0.2222222222222222,
              "#7201a8"
             ],
             [
              0.3333333333333333,
              "#9c179e"
             ],
             [
              0.4444444444444444,
              "#bd3786"
             ],
             [
              0.5555555555555556,
              "#d8576b"
             ],
             [
              0.6666666666666666,
              "#ed7953"
             ],
             [
              0.7777777777777778,
              "#fb9f3a"
             ],
             [
              0.8888888888888888,
              "#fdca26"
             ],
             [
              1,
              "#f0f921"
             ]
            ],
            "type": "contour"
           }
          ],
          "contourcarpet": [
           {
            "colorbar": {
             "outlinewidth": 0,
             "ticks": ""
            },
            "type": "contourcarpet"
           }
          ],
          "heatmap": [
           {
            "colorbar": {
             "outlinewidth": 0,
             "ticks": ""
            },
            "colorscale": [
             [
              0,
              "#0d0887"
             ],
             [
              0.1111111111111111,
              "#46039f"
             ],
             [
              0.2222222222222222,
              "#7201a8"
             ],
             [
              0.3333333333333333,
              "#9c179e"
             ],
             [
              0.4444444444444444,
              "#bd3786"
             ],
             [
              0.5555555555555556,
              "#d8576b"
             ],
             [
              0.6666666666666666,
              "#ed7953"
             ],
             [
              0.7777777777777778,
              "#fb9f3a"
             ],
             [
              0.8888888888888888,
              "#fdca26"
             ],
             [
              1,
              "#f0f921"
             ]
            ],
            "type": "heatmap"
           }
          ],
          "heatmapgl": [
           {
            "colorbar": {
             "outlinewidth": 0,
             "ticks": ""
            },
            "colorscale": [
             [
              0,
              "#0d0887"
             ],
             [
              0.1111111111111111,
              "#46039f"
             ],
             [
              0.2222222222222222,
              "#7201a8"
             ],
             [
              0.3333333333333333,
              "#9c179e"
             ],
             [
              0.4444444444444444,
              "#bd3786"
             ],
             [
              0.5555555555555556,
              "#d8576b"
             ],
             [
              0.6666666666666666,
              "#ed7953"
             ],
             [
              0.7777777777777778,
              "#fb9f3a"
             ],
             [
              0.8888888888888888,
              "#fdca26"
             ],
             [
              1,
              "#f0f921"
             ]
            ],
            "type": "heatmapgl"
           }
          ],
          "histogram": [
           {
            "marker": {
             "colorbar": {
              "outlinewidth": 0,
              "ticks": ""
             }
            },
            "type": "histogram"
           }
          ],
          "histogram2d": [
           {
            "colorbar": {
             "outlinewidth": 0,
             "ticks": ""
            },
            "colorscale": [
             [
              0,
              "#0d0887"
             ],
             [
              0.1111111111111111,
              "#46039f"
             ],
             [
              0.2222222222222222,
              "#7201a8"
             ],
             [
              0.3333333333333333,
              "#9c179e"
             ],
             [
              0.4444444444444444,
              "#bd3786"
             ],
             [
              0.5555555555555556,
              "#d8576b"
             ],
             [
              0.6666666666666666,
              "#ed7953"
             ],
             [
              0.7777777777777778,
              "#fb9f3a"
             ],
             [
              0.8888888888888888,
              "#fdca26"
             ],
             [
              1,
              "#f0f921"
             ]
            ],
            "type": "histogram2d"
           }
          ],
          "histogram2dcontour": [
           {
            "colorbar": {
             "outlinewidth": 0,
             "ticks": ""
            },
            "colorscale": [
             [
              0,
              "#0d0887"
             ],
             [
              0.1111111111111111,
              "#46039f"
             ],
             [
              0.2222222222222222,
              "#7201a8"
             ],
             [
              0.3333333333333333,
              "#9c179e"
             ],
             [
              0.4444444444444444,
              "#bd3786"
             ],
             [
              0.5555555555555556,
              "#d8576b"
             ],
             [
              0.6666666666666666,
              "#ed7953"
             ],
             [
              0.7777777777777778,
              "#fb9f3a"
             ],
             [
              0.8888888888888888,
              "#fdca26"
             ],
             [
              1,
              "#f0f921"
             ]
            ],
            "type": "histogram2dcontour"
           }
          ],
          "mesh3d": [
           {
            "colorbar": {
             "outlinewidth": 0,
             "ticks": ""
            },
            "type": "mesh3d"
           }
          ],
          "parcoords": [
           {
            "line": {
             "colorbar": {
              "outlinewidth": 0,
              "ticks": ""
             }
            },
            "type": "parcoords"
           }
          ],
          "pie": [
           {
            "automargin": true,
            "type": "pie"
           }
          ],
          "scatter": [
           {
            "marker": {
             "colorbar": {
              "outlinewidth": 0,
              "ticks": ""
             }
            },
            "type": "scatter"
           }
          ],
          "scatter3d": [
           {
            "line": {
             "colorbar": {
              "outlinewidth": 0,
              "ticks": ""
             }
            },
            "marker": {
             "colorbar": {
              "outlinewidth": 0,
              "ticks": ""
             }
            },
            "type": "scatter3d"
           }
          ],
          "scattercarpet": [
           {
            "marker": {
             "colorbar": {
              "outlinewidth": 0,
              "ticks": ""
             }
            },
            "type": "scattercarpet"
           }
          ],
          "scattergeo": [
           {
            "marker": {
             "colorbar": {
              "outlinewidth": 0,
              "ticks": ""
             }
            },
            "type": "scattergeo"
           }
          ],
          "scattergl": [
           {
            "marker": {
             "colorbar": {
              "outlinewidth": 0,
              "ticks": ""
             }
            },
            "type": "scattergl"
           }
          ],
          "scattermapbox": [
           {
            "marker": {
             "colorbar": {
              "outlinewidth": 0,
              "ticks": ""
             }
            },
            "type": "scattermapbox"
           }
          ],
          "scatterpolar": [
           {
            "marker": {
             "colorbar": {
              "outlinewidth": 0,
              "ticks": ""
             }
            },
            "type": "scatterpolar"
           }
          ],
          "scatterpolargl": [
           {
            "marker": {
             "colorbar": {
              "outlinewidth": 0,
              "ticks": ""
             }
            },
            "type": "scatterpolargl"
           }
          ],
          "scatterternary": [
           {
            "marker": {
             "colorbar": {
              "outlinewidth": 0,
              "ticks": ""
             }
            },
            "type": "scatterternary"
           }
          ],
          "surface": [
           {
            "colorbar": {
             "outlinewidth": 0,
             "ticks": ""
            },
            "colorscale": [
             [
              0,
              "#0d0887"
             ],
             [
              0.1111111111111111,
              "#46039f"
             ],
             [
              0.2222222222222222,
              "#7201a8"
             ],
             [
              0.3333333333333333,
              "#9c179e"
             ],
             [
              0.4444444444444444,
              "#bd3786"
             ],
             [
              0.5555555555555556,
              "#d8576b"
             ],
             [
              0.6666666666666666,
              "#ed7953"
             ],
             [
              0.7777777777777778,
              "#fb9f3a"
             ],
             [
              0.8888888888888888,
              "#fdca26"
             ],
             [
              1,
              "#f0f921"
             ]
            ],
            "type": "surface"
           }
          ],
          "table": [
           {
            "cells": {
             "fill": {
              "color": "#EBF0F8"
             },
             "line": {
              "color": "white"
             }
            },
            "header": {
             "fill": {
              "color": "#C8D4E3"
             },
             "line": {
              "color": "white"
             }
            },
            "type": "table"
           }
          ]
         },
         "layout": {
          "annotationdefaults": {
           "arrowcolor": "#2a3f5f",
           "arrowhead": 0,
           "arrowwidth": 1
          },
          "coloraxis": {
           "colorbar": {
            "outlinewidth": 0,
            "ticks": ""
           }
          },
          "colorscale": {
           "diverging": [
            [
             0,
             "#8e0152"
            ],
            [
             0.1,
             "#c51b7d"
            ],
            [
             0.2,
             "#de77ae"
            ],
            [
             0.3,
             "#f1b6da"
            ],
            [
             0.4,
             "#fde0ef"
            ],
            [
             0.5,
             "#f7f7f7"
            ],
            [
             0.6,
             "#e6f5d0"
            ],
            [
             0.7,
             "#b8e186"
            ],
            [
             0.8,
             "#7fbc41"
            ],
            [
             0.9,
             "#4d9221"
            ],
            [
             1,
             "#276419"
            ]
           ],
           "sequential": [
            [
             0,
             "#0d0887"
            ],
            [
             0.1111111111111111,
             "#46039f"
            ],
            [
             0.2222222222222222,
             "#7201a8"
            ],
            [
             0.3333333333333333,
             "#9c179e"
            ],
            [
             0.4444444444444444,
             "#bd3786"
            ],
            [
             0.5555555555555556,
             "#d8576b"
            ],
            [
             0.6666666666666666,
             "#ed7953"
            ],
            [
             0.7777777777777778,
             "#fb9f3a"
            ],
            [
             0.8888888888888888,
             "#fdca26"
            ],
            [
             1,
             "#f0f921"
            ]
           ],
           "sequentialminus": [
            [
             0,
             "#0d0887"
            ],
            [
             0.1111111111111111,
             "#46039f"
            ],
            [
             0.2222222222222222,
             "#7201a8"
            ],
            [
             0.3333333333333333,
             "#9c179e"
            ],
            [
             0.4444444444444444,
             "#bd3786"
            ],
            [
             0.5555555555555556,
             "#d8576b"
            ],
            [
             0.6666666666666666,
             "#ed7953"
            ],
            [
             0.7777777777777778,
             "#fb9f3a"
            ],
            [
             0.8888888888888888,
             "#fdca26"
            ],
            [
             1,
             "#f0f921"
            ]
           ]
          },
          "colorway": [
           "#636efa",
           "#EF553B",
           "#00cc96",
           "#ab63fa",
           "#FFA15A",
           "#19d3f3",
           "#FF6692",
           "#B6E880",
           "#FF97FF",
           "#FECB52"
          ],
          "font": {
           "color": "#2a3f5f"
          },
          "geo": {
           "bgcolor": "white",
           "lakecolor": "white",
           "landcolor": "#E5ECF6",
           "showlakes": true,
           "showland": true,
           "subunitcolor": "white"
          },
          "hoverlabel": {
           "align": "left"
          },
          "hovermode": "closest",
          "mapbox": {
           "style": "light"
          },
          "paper_bgcolor": "white",
          "plot_bgcolor": "#E5ECF6",
          "polar": {
           "angularaxis": {
            "gridcolor": "white",
            "linecolor": "white",
            "ticks": ""
           },
           "bgcolor": "#E5ECF6",
           "radialaxis": {
            "gridcolor": "white",
            "linecolor": "white",
            "ticks": ""
           }
          },
          "scene": {
           "xaxis": {
            "backgroundcolor": "#E5ECF6",
            "gridcolor": "white",
            "gridwidth": 2,
            "linecolor": "white",
            "showbackground": true,
            "ticks": "",
            "zerolinecolor": "white"
           },
           "yaxis": {
            "backgroundcolor": "#E5ECF6",
            "gridcolor": "white",
            "gridwidth": 2,
            "linecolor": "white",
            "showbackground": true,
            "ticks": "",
            "zerolinecolor": "white"
           },
           "zaxis": {
            "backgroundcolor": "#E5ECF6",
            "gridcolor": "white",
            "gridwidth": 2,
            "linecolor": "white",
            "showbackground": true,
            "ticks": "",
            "zerolinecolor": "white"
           }
          },
          "shapedefaults": {
           "line": {
            "color": "#2a3f5f"
           }
          },
          "ternary": {
           "aaxis": {
            "gridcolor": "white",
            "linecolor": "white",
            "ticks": ""
           },
           "baxis": {
            "gridcolor": "white",
            "linecolor": "white",
            "ticks": ""
           },
           "bgcolor": "#E5ECF6",
           "caxis": {
            "gridcolor": "white",
            "linecolor": "white",
            "ticks": ""
           }
          },
          "title": {
           "x": 0.05
          },
          "xaxis": {
           "automargin": true,
           "gridcolor": "white",
           "linecolor": "white",
           "ticks": "",
           "title": {
            "standoff": 15
           },
           "zerolinecolor": "white",
           "zerolinewidth": 2
          },
          "yaxis": {
           "automargin": true,
           "gridcolor": "white",
           "linecolor": "white",
           "ticks": "",
           "title": {
            "standoff": 15
           },
           "zerolinecolor": "white",
           "zerolinewidth": 2
          }
         }
        }
       }
      },
      "text/html": [
       "<div>\n",
       "        \n",
       "        \n",
       "            <div id=\"f7a2548b-6662-4a1e-b250-31cdec6ec9f8\" class=\"plotly-graph-div\" style=\"height:525px; width:100%;\"></div>\n",
       "            <script type=\"text/javascript\">\n",
       "                require([\"plotly\"], function(Plotly) {\n",
       "                    window.PLOTLYENV=window.PLOTLYENV || {};\n",
       "                    \n",
       "                if (document.getElementById(\"f7a2548b-6662-4a1e-b250-31cdec6ec9f8\")) {\n",
       "                    Plotly.newPlot(\n",
       "                        'f7a2548b-6662-4a1e-b250-31cdec6ec9f8',\n",
       "                        [{\"mode\": \"markers\", \"text\": [\"English|1382|12181830\", \"French|204|1589231\", \"German|190|1676394\", \"Japanese|100|670914\", \"English, Spanish|78|810080\", \"Spanish|71|532378\", \"Korean|51|395234\", \"English, French|51|484261\", \"Turkish|45|485290\", \"French, English|45|361604\", \"Mandarin|33|237221\", \"German, English|29|243233\", \"English, German|24|207250\", \"English, Russian|24|240343\", \"Norwegian|23|147740\", \"Danish|21|144459\", \"Dutch|21|156794\", \"English, Japanese|18|126810\", \"Swedish|18|136157\", \"Russian|18|118492\", \"Italian|18|143324\", \"Icelandic|15|98198\", \"English, Italian|13|147809\", \"English, Ukrainian|13|135981\", \"Cantonese|13|95279\", \"Thai|12|78349\", \"Hindi|11|105164\", \"English, Arabic|11|137156\", \"English, Mandarin|11|100770\", \"Portuguese|10|73679\", \"Spanish, English|10|69555\", \"Japanese, English|10|57035\", \"English, Portuguese|9|83374\", \"French, German|8|58867\", \"Mandarin, English|8|54356\", \"Cantonese, English|7|41719\", \"German, Turkish|7|45473\", \"Mandarin, Cantonese|7|47078\", \"English, French, Italian|6|42856\", \"Korean, English|6|38277\", \"French, Arabic|6|45145\", \"Chinese|6|44621\", \"Greek|5|26038\", \"Swedish, English|5|43172\", \"Norwegian, English|5|29945\", \"English, Chinese|5|34642\", \"English, Latin|5|42262\", \"English, Hebrew|5|67385\", \"French, Italian|5|36370\", \"Polish|5|29621\", \"English, French, German|5|57788\", \"English, Greek|5|42901\", \"Swiss German|5|30327\", \"English, Korean|5|52111\", \"French, Spanish|4|28061\", \"English, Italian, Spanish|4|38116\", \"Thai, English|4|22157\", \"Russian, English|4|31430\", \"Arabic, French|4|25831\", \"English, Thai|4|30004\", \"Arabic|4|33941\", \"Cantonese, Mandarin|4|27401\", \"English, Arabic, Hebrew|4|21666\", \"Romanian|4|31173\", \"Dutch, English|4|27648\"], \"type\": \"scatter\", \"x\": [2.6155760288238525, 1.4460868835449219, 5.094393253326416, 3.9702649116516113, 3.3031113147735596, 0.6089174747467041, 2.5898046493530273, 2.1383614540100098, 6.631290435791016, 1.3396122455596924, 2.9687232971191406, 5.201818943023682, 2.3555712699890137, 3.149144172668457, 5.740592002868652, 4.0082688331604, 5.176145553588867, 2.129622220993042, 5.674894332885742, 3.4511308670043945, 6.640160083770752, 6.137842178344727, 1.8142017126083374, 2.9017534255981445, 3.5362484455108643, 3.1246752738952637, 2.1953678131103516, 2.519498825073242, 2.8586010932922363, 6.870502948760986, 0.8466495871543884, 3.727766752243042, 3.115664482116699, 1.8080344200134277, 3.182973623275757, 2.6998987197875977, 5.8972086906433105, 2.920719623565674, 1.96985924243927, 2.3429839611053467, 0.37388259172439575, 3.05951189994812, 3.1260530948638916, 2.323854923248291, 5.772663593292236, 1.319533109664917, 1.0386707782745361, 3.0053904056549072, 1.4658864736557007, 2.4471359252929688, 2.403130054473877, 3.0063271522521973, 6.317928791046143, 2.9943788051605225, 1.5376192331314087, 6.007389545440674, 3.771446704864502, 3.837973117828369, 0.5957233905792236, 3.3022730350494385, 3.1608588695526123, 2.740452766418457, 0.3673447370529175, 6.522911071777344, 1.631448745727539], \"y\": [5.011167526245117, 5.5117268562316895, 8.364275932312012, 10.054800987243652, 5.4575114250183105, 6.386126518249512, 9.019217491149902, 6.623218059539795, 7.333961009979248, 5.132425308227539, 10.563225746154785, 8.502068519592285, 7.352792263031006, 6.425467491149902, 7.972875595092773, 9.464051246643066, 8.185403823852539, 8.15622615814209, 7.9353437423706055, 10.04233169555664, 7.673281669616699, 7.795841693878174, 5.596303462982178, 6.257582664489746, 10.929760932922363, 10.909001350402832, 7.094844341278076, 7.561882019042969, 5.711130619049072, 7.422534465789795, 6.64776086807251, 9.682530403137207, 5.015009880065918, 6.210731029510498, 10.222640037536621, 9.444461822509766, 8.087535858154297, 10.573565483093262, 5.21118688583374, 8.50700855255127, 6.060521602630615, 11.023943901062012, 9.88060474395752, 4.929335594177246, 7.537124156951904, 7.387650012969971, 6.083626747131348, 5.272815704345703, 5.890250205993652, 8.781102180480957, 7.971713542938232, 5.755161762237549, 7.689791202545166, 6.15976095199585, 5.287301063537598, 8.376068115234375, 10.564859390258789, 10.313756942749023, 5.818500518798828, 5.290432453155518, 10.9213285446167, 10.114432334899902, 6.590251445770264, 7.386436939239502, 5.115088939666748]}],\n",
       "                        {\"template\": {\"data\": {\"bar\": [{\"error_x\": {\"color\": \"#2a3f5f\"}, \"error_y\": {\"color\": \"#2a3f5f\"}, \"marker\": {\"line\": {\"color\": \"#E5ECF6\", \"width\": 0.5}}, \"type\": \"bar\"}], \"barpolar\": [{\"marker\": {\"line\": {\"color\": \"#E5ECF6\", \"width\": 0.5}}, \"type\": \"barpolar\"}], \"carpet\": [{\"aaxis\": {\"endlinecolor\": \"#2a3f5f\", \"gridcolor\": \"white\", \"linecolor\": \"white\", \"minorgridcolor\": \"white\", \"startlinecolor\": \"#2a3f5f\"}, \"baxis\": {\"endlinecolor\": \"#2a3f5f\", \"gridcolor\": \"white\", \"linecolor\": \"white\", \"minorgridcolor\": \"white\", \"startlinecolor\": \"#2a3f5f\"}, \"type\": \"carpet\"}], \"choropleth\": [{\"colorbar\": {\"outlinewidth\": 0, \"ticks\": \"\"}, \"type\": \"choropleth\"}], \"contour\": [{\"colorbar\": {\"outlinewidth\": 0, \"ticks\": \"\"}, \"colorscale\": [[0.0, \"#0d0887\"], [0.1111111111111111, \"#46039f\"], [0.2222222222222222, \"#7201a8\"], [0.3333333333333333, \"#9c179e\"], [0.4444444444444444, \"#bd3786\"], [0.5555555555555556, \"#d8576b\"], [0.6666666666666666, \"#ed7953\"], [0.7777777777777778, \"#fb9f3a\"], [0.8888888888888888, \"#fdca26\"], [1.0, \"#f0f921\"]], \"type\": \"contour\"}], \"contourcarpet\": [{\"colorbar\": {\"outlinewidth\": 0, \"ticks\": \"\"}, \"type\": \"contourcarpet\"}], \"heatmap\": [{\"colorbar\": {\"outlinewidth\": 0, \"ticks\": \"\"}, \"colorscale\": [[0.0, \"#0d0887\"], [0.1111111111111111, \"#46039f\"], [0.2222222222222222, \"#7201a8\"], [0.3333333333333333, \"#9c179e\"], [0.4444444444444444, \"#bd3786\"], [0.5555555555555556, \"#d8576b\"], [0.6666666666666666, \"#ed7953\"], [0.7777777777777778, \"#fb9f3a\"], [0.8888888888888888, \"#fdca26\"], [1.0, \"#f0f921\"]], \"type\": \"heatmap\"}], \"heatmapgl\": [{\"colorbar\": {\"outlinewidth\": 0, \"ticks\": \"\"}, \"colorscale\": [[0.0, \"#0d0887\"], [0.1111111111111111, \"#46039f\"], [0.2222222222222222, \"#7201a8\"], [0.3333333333333333, \"#9c179e\"], [0.4444444444444444, \"#bd3786\"], [0.5555555555555556, \"#d8576b\"], [0.6666666666666666, \"#ed7953\"], [0.7777777777777778, \"#fb9f3a\"], [0.8888888888888888, \"#fdca26\"], [1.0, \"#f0f921\"]], \"type\": \"heatmapgl\"}], \"histogram\": [{\"marker\": {\"colorbar\": {\"outlinewidth\": 0, \"ticks\": \"\"}}, \"type\": \"histogram\"}], \"histogram2d\": [{\"colorbar\": {\"outlinewidth\": 0, \"ticks\": \"\"}, \"colorscale\": [[0.0, \"#0d0887\"], [0.1111111111111111, \"#46039f\"], [0.2222222222222222, \"#7201a8\"], [0.3333333333333333, \"#9c179e\"], [0.4444444444444444, \"#bd3786\"], [0.5555555555555556, \"#d8576b\"], [0.6666666666666666, \"#ed7953\"], [0.7777777777777778, \"#fb9f3a\"], [0.8888888888888888, \"#fdca26\"], [1.0, \"#f0f921\"]], \"type\": \"histogram2d\"}], \"histogram2dcontour\": [{\"colorbar\": {\"outlinewidth\": 0, \"ticks\": \"\"}, \"colorscale\": [[0.0, \"#0d0887\"], [0.1111111111111111, \"#46039f\"], [0.2222222222222222, \"#7201a8\"], [0.3333333333333333, \"#9c179e\"], [0.4444444444444444, \"#bd3786\"], [0.5555555555555556, \"#d8576b\"], [0.6666666666666666, \"#ed7953\"], [0.7777777777777778, \"#fb9f3a\"], [0.8888888888888888, \"#fdca26\"], [1.0, \"#f0f921\"]], \"type\": \"histogram2dcontour\"}], \"mesh3d\": [{\"colorbar\": {\"outlinewidth\": 0, \"ticks\": \"\"}, \"type\": \"mesh3d\"}], \"parcoords\": [{\"line\": {\"colorbar\": {\"outlinewidth\": 0, \"ticks\": \"\"}}, \"type\": \"parcoords\"}], \"pie\": [{\"automargin\": true, \"type\": \"pie\"}], \"scatter\": [{\"marker\": {\"colorbar\": {\"outlinewidth\": 0, \"ticks\": \"\"}}, \"type\": \"scatter\"}], \"scatter3d\": [{\"line\": {\"colorbar\": {\"outlinewidth\": 0, \"ticks\": \"\"}}, \"marker\": {\"colorbar\": {\"outlinewidth\": 0, \"ticks\": \"\"}}, \"type\": \"scatter3d\"}], \"scattercarpet\": [{\"marker\": {\"colorbar\": {\"outlinewidth\": 0, \"ticks\": \"\"}}, \"type\": \"scattercarpet\"}], \"scattergeo\": [{\"marker\": {\"colorbar\": {\"outlinewidth\": 0, \"ticks\": \"\"}}, \"type\": \"scattergeo\"}], \"scattergl\": [{\"marker\": {\"colorbar\": {\"outlinewidth\": 0, \"ticks\": \"\"}}, \"type\": \"scattergl\"}], \"scattermapbox\": [{\"marker\": {\"colorbar\": {\"outlinewidth\": 0, \"ticks\": \"\"}}, \"type\": \"scattermapbox\"}], \"scatterpolar\": [{\"marker\": {\"colorbar\": {\"outlinewidth\": 0, \"ticks\": \"\"}}, \"type\": \"scatterpolar\"}], \"scatterpolargl\": [{\"marker\": {\"colorbar\": {\"outlinewidth\": 0, \"ticks\": \"\"}}, \"type\": \"scatterpolargl\"}], \"scatterternary\": [{\"marker\": {\"colorbar\": {\"outlinewidth\": 0, \"ticks\": \"\"}}, \"type\": \"scatterternary\"}], \"surface\": [{\"colorbar\": {\"outlinewidth\": 0, \"ticks\": \"\"}, \"colorscale\": [[0.0, \"#0d0887\"], [0.1111111111111111, \"#46039f\"], [0.2222222222222222, \"#7201a8\"], [0.3333333333333333, \"#9c179e\"], [0.4444444444444444, \"#bd3786\"], [0.5555555555555556, \"#d8576b\"], [0.6666666666666666, \"#ed7953\"], [0.7777777777777778, \"#fb9f3a\"], [0.8888888888888888, \"#fdca26\"], [1.0, \"#f0f921\"]], \"type\": \"surface\"}], \"table\": [{\"cells\": {\"fill\": {\"color\": \"#EBF0F8\"}, \"line\": {\"color\": \"white\"}}, \"header\": {\"fill\": {\"color\": \"#C8D4E3\"}, \"line\": {\"color\": \"white\"}}, \"type\": \"table\"}]}, \"layout\": {\"annotationdefaults\": {\"arrowcolor\": \"#2a3f5f\", \"arrowhead\": 0, \"arrowwidth\": 1}, \"coloraxis\": {\"colorbar\": {\"outlinewidth\": 0, \"ticks\": \"\"}}, \"colorscale\": {\"diverging\": [[0, \"#8e0152\"], [0.1, \"#c51b7d\"], [0.2, \"#de77ae\"], [0.3, \"#f1b6da\"], [0.4, \"#fde0ef\"], [0.5, \"#f7f7f7\"], [0.6, \"#e6f5d0\"], [0.7, \"#b8e186\"], [0.8, \"#7fbc41\"], [0.9, \"#4d9221\"], [1, \"#276419\"]], \"sequential\": [[0.0, \"#0d0887\"], [0.1111111111111111, \"#46039f\"], [0.2222222222222222, \"#7201a8\"], [0.3333333333333333, \"#9c179e\"], [0.4444444444444444, \"#bd3786\"], [0.5555555555555556, \"#d8576b\"], [0.6666666666666666, \"#ed7953\"], [0.7777777777777778, \"#fb9f3a\"], [0.8888888888888888, \"#fdca26\"], [1.0, \"#f0f921\"]], \"sequentialminus\": [[0.0, \"#0d0887\"], [0.1111111111111111, \"#46039f\"], [0.2222222222222222, \"#7201a8\"], [0.3333333333333333, \"#9c179e\"], [0.4444444444444444, \"#bd3786\"], [0.5555555555555556, \"#d8576b\"], [0.6666666666666666, \"#ed7953\"], [0.7777777777777778, \"#fb9f3a\"], [0.8888888888888888, \"#fdca26\"], [1.0, \"#f0f921\"]]}, \"colorway\": [\"#636efa\", \"#EF553B\", \"#00cc96\", \"#ab63fa\", \"#FFA15A\", \"#19d3f3\", \"#FF6692\", \"#B6E880\", \"#FF97FF\", \"#FECB52\"], \"font\": {\"color\": \"#2a3f5f\"}, \"geo\": {\"bgcolor\": \"white\", \"lakecolor\": \"white\", \"landcolor\": \"#E5ECF6\", \"showlakes\": true, \"showland\": true, \"subunitcolor\": \"white\"}, \"hoverlabel\": {\"align\": \"left\"}, \"hovermode\": \"closest\", \"mapbox\": {\"style\": \"light\"}, \"paper_bgcolor\": \"white\", \"plot_bgcolor\": \"#E5ECF6\", \"polar\": {\"angularaxis\": {\"gridcolor\": \"white\", \"linecolor\": \"white\", \"ticks\": \"\"}, \"bgcolor\": \"#E5ECF6\", \"radialaxis\": {\"gridcolor\": \"white\", \"linecolor\": \"white\", \"ticks\": \"\"}}, \"scene\": {\"xaxis\": {\"backgroundcolor\": \"#E5ECF6\", \"gridcolor\": \"white\", \"gridwidth\": 2, \"linecolor\": \"white\", \"showbackground\": true, \"ticks\": \"\", \"zerolinecolor\": \"white\"}, \"yaxis\": {\"backgroundcolor\": \"#E5ECF6\", \"gridcolor\": \"white\", \"gridwidth\": 2, \"linecolor\": \"white\", \"showbackground\": true, \"ticks\": \"\", \"zerolinecolor\": \"white\"}, \"zaxis\": {\"backgroundcolor\": \"#E5ECF6\", \"gridcolor\": \"white\", \"gridwidth\": 2, \"linecolor\": \"white\", \"showbackground\": true, \"ticks\": \"\", \"zerolinecolor\": \"white\"}}, \"shapedefaults\": {\"line\": {\"color\": \"#2a3f5f\"}}, \"ternary\": {\"aaxis\": {\"gridcolor\": \"white\", \"linecolor\": \"white\", \"ticks\": \"\"}, \"baxis\": {\"gridcolor\": \"white\", \"linecolor\": \"white\", \"ticks\": \"\"}, \"bgcolor\": \"#E5ECF6\", \"caxis\": {\"gridcolor\": \"white\", \"linecolor\": \"white\", \"ticks\": \"\"}}, \"title\": {\"x\": 0.05}, \"xaxis\": {\"automargin\": true, \"gridcolor\": \"white\", \"linecolor\": \"white\", \"ticks\": \"\", \"title\": {\"standoff\": 15}, \"zerolinecolor\": \"white\", \"zerolinewidth\": 2}, \"yaxis\": {\"automargin\": true, \"gridcolor\": \"white\", \"linecolor\": \"white\", \"ticks\": \"\", \"title\": {\"standoff\": 15}, \"zerolinecolor\": \"white\", \"zerolinewidth\": 2}}}},\n",
       "                        {\"responsive\": true}\n",
       "                    ).then(function(){\n",
       "                            \n",
       "var gd = document.getElementById('f7a2548b-6662-4a1e-b250-31cdec6ec9f8');\n",
       "var x = new MutationObserver(function (mutations, observer) {{\n",
       "        var display = window.getComputedStyle(gd).display;\n",
       "        if (!display || display === 'none') {{\n",
       "            console.log([gd, 'removed!']);\n",
       "            Plotly.purge(gd);\n",
       "            observer.disconnect();\n",
       "        }}\n",
       "}});\n",
       "\n",
       "// Listen for the removal of the full notebook cells\n",
       "var notebookContainer = gd.closest('#notebook-container');\n",
       "if (notebookContainer) {{\n",
       "    x.observe(notebookContainer, {childList: true});\n",
       "}}\n",
       "\n",
       "// Listen for the clearing of the current output cell\n",
       "var outputEl = gd.closest('.output');\n",
       "if (outputEl) {{\n",
       "    x.observe(outputEl, {childList: true});\n",
       "}}\n",
       "\n",
       "                        })\n",
       "                };\n",
       "                });\n",
       "            </script>\n",
       "        </div>"
      ]
     },
     "metadata": {},
     "output_type": "display_data"
    }
   ],
   "source": [
    "fig = go.Figure(data=go.Scatter(x=Xr[:, 0],\n",
    "                                y=Xr[:, 1],\n",
    "                                mode='markers',\n",
    "                                text=[\n",
    "                                    f'{label}|{n_texts}|{n_tokens}' for label, n_texts, n_tokens in zip(aggr.label, aggr.n_texts, aggr.n_tokens)\n",
    "                                ],\n",
    "                                marker_color=plotly_color_categorical_values(dbscan_cluster)))\n",
    "\n",
    "\n",
    "fig.show()"
   ]
  },
  {
   "cell_type": "code",
   "execution_count": 82,
   "metadata": {},
   "outputs": [
    {
     "data": {
      "text/plain": [
       "<matplotlib.axes._subplots.AxesSubplot at 0x7fc612493b80>"
      ]
     },
     "execution_count": 82,
     "metadata": {},
     "output_type": "execute_result"
    },
    {
     "data": {
      "image/png": "[encoded data removed]",
      "text/plain": [
       "<Figure size 576x396 with 1 Axes>"
      ]
     },
     "metadata": {},
     "output_type": "display_data"
    }
   ],
   "source": [
    "import seaborn as sns\n",
    "sns.scatterplot(x=Xr[:, 0],\n",
    "                y=Xr[:, 1],\n",
    "               hue=[f'C{i}' for i in dbscan_cluster])"
   ]
  },
  {
   "cell_type": "code",
   "execution_count": 83,
   "metadata": {},
   "outputs": [
    {
     "name": "stdout",
     "output_type": "stream",
     "text": [
      "Cluster 0\n",
      "0    English\n",
      "Name: label, dtype: object\n",
      "Total number of movies in cluster => 1382\n",
      "Total number of tokens in cluster => 12181830\n",
      "############################################################\n",
      "Cluster 1\n",
      "1    French\n",
      "Name: label, dtype: object\n",
      "Total number of movies in cluster => 204\n",
      "Total number of tokens in cluster => 1589231\n",
      "############################################################\n",
      "Cluster 2\n",
      "2     German\n",
      "16     Dutch\n",
      "Name: label, dtype: object\n",
      "Total number of movies in cluster => 211\n",
      "Total number of tokens in cluster => 1833188\n",
      "############################################################\n",
      "Cluster 3\n",
      "3    Japanese\n",
      "Name: label, dtype: object\n",
      "Total number of movies in cluster => 100\n",
      "Total number of tokens in cluster => 670914\n",
      "############################################################\n",
      "Cluster 4\n",
      "4    English, Spanish\n",
      "Name: label, dtype: object\n",
      "Total number of movies in cluster => 78\n",
      "Total number of tokens in cluster => 810080\n",
      "############################################################\n",
      "Cluster 5\n",
      "5    Spanish\n",
      "Name: label, dtype: object\n",
      "Total number of movies in cluster => 71\n",
      "Total number of tokens in cluster => 532378\n",
      "############################################################\n",
      "Cluster 6\n",
      "6    Korean\n",
      "Name: label, dtype: object\n",
      "Total number of movies in cluster => 51\n",
      "Total number of tokens in cluster => 395234\n",
      "############################################################\n",
      "Cluster 7\n",
      "7    English, French\n",
      "Name: label, dtype: object\n",
      "Total number of movies in cluster => 51\n",
      "Total number of tokens in cluster => 484261\n",
      "############################################################\n",
      "Cluster 8\n",
      "8    Turkish\n",
      "Name: label, dtype: object\n",
      "Total number of movies in cluster => 45\n",
      "Total number of tokens in cluster => 485290\n",
      "############################################################\n",
      "Cluster 9\n",
      "9    French, English\n",
      "Name: label, dtype: object\n",
      "Total number of movies in cluster => 45\n",
      "Total number of tokens in cluster => 361604\n",
      "############################################################\n",
      "Cluster 10\n",
      "10    Mandarin\n",
      "Name: label, dtype: object\n",
      "Total number of movies in cluster => 33\n",
      "Total number of tokens in cluster => 237221\n",
      "############################################################\n",
      "Cluster 11\n",
      "11    German, English\n",
      "Name: label, dtype: object\n",
      "Total number of movies in cluster => 29\n",
      "Total number of tokens in cluster => 243233\n",
      "############################################################\n",
      "Cluster 12\n",
      "12    English, German\n",
      "Name: label, dtype: object\n",
      "Total number of movies in cluster => 24\n",
      "Total number of tokens in cluster => 207250\n",
      "############################################################\n",
      "Cluster 13\n",
      "13     English, Russian\n",
      "28    English, Mandarin\n",
      "53      English, Korean\n",
      "Name: label, dtype: object\n",
      "Total number of movies in cluster => 40\n",
      "Total number of tokens in cluster => 393224\n",
      "############################################################\n",
      "Cluster 14\n",
      "14          Norwegian\n",
      "18            Swedish\n",
      "36    German, Turkish\n",
      "Name: label, dtype: object\n",
      "Total number of movies in cluster => 48\n",
      "Total number of tokens in cluster => 329370\n",
      "############################################################\n",
      "Cluster 15\n",
      "15    Danish\n",
      "Name: label, dtype: object\n",
      "Total number of movies in cluster => 21\n",
      "Total number of tokens in cluster => 144459\n",
      "############################################################\n",
      "Cluster 16\n",
      "17    English, Japanese\n",
      "Name: label, dtype: object\n",
      "Total number of movies in cluster => 18\n",
      "Total number of tokens in cluster => 126810\n",
      "############################################################\n",
      "Cluster 17\n",
      "19    Russian\n",
      "Name: label, dtype: object\n",
      "Total number of movies in cluster => 18\n",
      "Total number of tokens in cluster => 118492\n",
      "############################################################\n",
      "Cluster 18\n",
      "20    Italian\n",
      "Name: label, dtype: object\n",
      "Total number of movies in cluster => 18\n",
      "Total number of tokens in cluster => 143324\n",
      "############################################################\n",
      "Cluster 19\n",
      "21    Icelandic\n",
      "Name: label, dtype: object\n",
      "Total number of movies in cluster => 15\n",
      "Total number of tokens in cluster => 98198\n",
      "############################################################\n",
      "Cluster 20\n",
      "22    English, Italian\n",
      "Name: label, dtype: object\n",
      "Total number of movies in cluster => 13\n",
      "Total number of tokens in cluster => 147809\n",
      "############################################################\n",
      "Cluster 21\n",
      "23    English, Ukrainian\n",
      "Name: label, dtype: object\n",
      "Total number of movies in cluster => 13\n",
      "Total number of tokens in cluster => 135981\n",
      "############################################################\n",
      "Cluster 22\n",
      "24    Cantonese\n",
      "25         Thai\n",
      "60       Arabic\n",
      "Name: label, dtype: object\n",
      "Total number of movies in cluster => 29\n",
      "Total number of tokens in cluster => 207569\n",
      "############################################################\n",
      "Cluster 23\n",
      "26    Hindi\n",
      "Name: label, dtype: object\n",
      "Total number of movies in cluster => 11\n",
      "Total number of tokens in cluster => 105164\n",
      "############################################################\n",
      "Cluster 24\n",
      "27            English, Arabic\n",
      "50    English, French, German\n",
      "Name: label, dtype: object\n",
      "Total number of movies in cluster => 16\n",
      "Total number of tokens in cluster => 194944\n",
      "############################################################\n",
      "Cluster 25\n",
      "29    Portuguese\n",
      "Name: label, dtype: object\n",
      "Total number of movies in cluster => 10\n",
      "Total number of tokens in cluster => 73679\n",
      "############################################################\n",
      "Cluster 26\n",
      "30    Spanish, English\n",
      "Name: label, dtype: object\n",
      "Total number of movies in cluster => 10\n",
      "Total number of tokens in cluster => 69555\n",
      "############################################################\n",
      "Cluster 27\n",
      "31    Japanese, English\n",
      "Name: label, dtype: object\n",
      "Total number of movies in cluster => 10\n",
      "Total number of tokens in cluster => 57035\n",
      "############################################################\n",
      "Cluster 28\n",
      "32    English, Portuguese\n",
      "Name: label, dtype: object\n",
      "Total number of movies in cluster => 9\n",
      "Total number of tokens in cluster => 83374\n",
      "############################################################\n",
      "Cluster 29\n",
      "33    French, German\n",
      "Name: label, dtype: object\n",
      "Total number of movies in cluster => 8\n",
      "Total number of tokens in cluster => 58867\n",
      "############################################################\n",
      "Cluster 30\n",
      "34    Mandarin, English\n",
      "Name: label, dtype: object\n",
      "Total number of movies in cluster => 8\n",
      "Total number of tokens in cluster => 54356\n",
      "############################################################\n",
      "Cluster 31\n",
      "35    Cantonese, English\n",
      "Name: label, dtype: object\n",
      "Total number of movies in cluster => 7\n",
      "Total number of tokens in cluster => 41719\n",
      "############################################################\n",
      "Cluster 32\n",
      "37    Mandarin, Cantonese\n",
      "Name: label, dtype: object\n",
      "Total number of movies in cluster => 7\n",
      "Total number of tokens in cluster => 47078\n",
      "############################################################\n",
      "Cluster 33\n",
      "38    English, French, Italian\n",
      "Name: label, dtype: object\n",
      "Total number of movies in cluster => 6\n",
      "Total number of tokens in cluster => 42856\n",
      "############################################################\n",
      "Cluster 34\n",
      "39    Korean, English\n",
      "Name: label, dtype: object\n",
      "Total number of movies in cluster => 6\n",
      "Total number of tokens in cluster => 38277\n",
      "############################################################\n",
      "Cluster 35\n",
      "40    French, Arabic\n",
      "Name: label, dtype: object\n",
      "Total number of movies in cluster => 6\n",
      "Total number of tokens in cluster => 45145\n",
      "############################################################\n",
      "Cluster 36\n",
      "41    Chinese\n",
      "Name: label, dtype: object\n",
      "Total number of movies in cluster => 6\n",
      "Total number of tokens in cluster => 44621\n",
      "############################################################\n",
      "Cluster 37\n",
      "42    Greek\n",
      "Name: label, dtype: object\n",
      "Total number of movies in cluster => 5\n",
      "Total number of tokens in cluster => 26038\n",
      "############################################################\n",
      "Cluster 38\n",
      "43    Swedish, English\n",
      "Name: label, dtype: object\n",
      "Total number of movies in cluster => 5\n",
      "Total number of tokens in cluster => 43172\n",
      "############################################################\n",
      "Cluster 39\n",
      "44    Norwegian, English\n",
      "Name: label, dtype: object\n",
      "Total number of movies in cluster => 5\n",
      "Total number of tokens in cluster => 29945\n",
      "############################################################\n",
      "Cluster 40\n",
      "45    English, Chinese\n",
      "Name: label, dtype: object\n",
      "Total number of movies in cluster => 5\n",
      "Total number of tokens in cluster => 34642\n",
      "############################################################\n",
      "Cluster 41\n",
      "46    English, Latin\n",
      "Name: label, dtype: object\n",
      "Total number of movies in cluster => 5\n",
      "Total number of tokens in cluster => 42262\n",
      "############################################################\n",
      "Cluster 42\n",
      "47    English, Hebrew\n",
      "Name: label, dtype: object\n",
      "Total number of movies in cluster => 5\n",
      "Total number of tokens in cluster => 67385\n",
      "############################################################\n",
      "Cluster 43\n",
      "48    French, Italian\n",
      "Name: label, dtype: object\n",
      "Total number of movies in cluster => 5\n",
      "Total number of tokens in cluster => 36370\n",
      "############################################################\n",
      "Cluster 44\n",
      "49    Polish\n",
      "Name: label, dtype: object\n",
      "Total number of movies in cluster => 5\n",
      "Total number of tokens in cluster => 29621\n",
      "############################################################\n",
      "Cluster 45\n",
      "51    English, Greek\n",
      "Name: label, dtype: object\n",
      "Total number of movies in cluster => 5\n",
      "Total number of tokens in cluster => 42901\n",
      "############################################################\n",
      "Cluster 46\n",
      "52    Swiss German\n",
      "Name: label, dtype: object\n",
      "Total number of movies in cluster => 5\n",
      "Total number of tokens in cluster => 30327\n",
      "############################################################\n",
      "Cluster 47\n",
      "54    French, Spanish\n",
      "64     Dutch, English\n",
      "Name: label, dtype: object\n",
      "Total number of movies in cluster => 8\n",
      "Total number of tokens in cluster => 55709\n",
      "############################################################\n",
      "Cluster 48\n",
      "55    English, Italian, Spanish\n",
      "Name: label, dtype: object\n",
      "Total number of movies in cluster => 4\n",
      "Total number of tokens in cluster => 38116\n",
      "############################################################\n",
      "Cluster 49\n",
      "56    Thai, English\n",
      "Name: label, dtype: object\n",
      "Total number of movies in cluster => 4\n",
      "Total number of tokens in cluster => 22157\n",
      "############################################################\n",
      "Cluster 50\n",
      "57    Russian, English\n",
      "Name: label, dtype: object\n",
      "Total number of movies in cluster => 4\n",
      "Total number of tokens in cluster => 31430\n",
      "############################################################\n",
      "Cluster 51\n",
      "58    Arabic, French\n",
      "Name: label, dtype: object\n",
      "Total number of movies in cluster => 4\n",
      "Total number of tokens in cluster => 25831\n",
      "############################################################\n",
      "Cluster 52\n",
      "59    English, Thai\n",
      "Name: label, dtype: object\n",
      "Total number of movies in cluster => 4\n",
      "Total number of tokens in cluster => 30004\n",
      "############################################################\n",
      "Cluster 53\n",
      "61    Cantonese, Mandarin\n",
      "Name: label, dtype: object\n",
      "Total number of movies in cluster => 4\n",
      "Total number of tokens in cluster => 27401\n",
      "############################################################\n",
      "Cluster 54\n",
      "62    English, Arabic, Hebrew\n",
      "Name: label, dtype: object\n",
      "Total number of movies in cluster => 4\n",
      "Total number of tokens in cluster => 21666\n",
      "############################################################\n",
      "Cluster 55\n",
      "63    Romanian\n",
      "Name: label, dtype: object\n",
      "Total number of movies in cluster => 4\n",
      "Total number of tokens in cluster => 31173\n",
      "############################################################\n"
     ]
    }
   ],
   "source": [
    "print_clusters(dbscan_dfs)"
   ]
  },
  {
   "cell_type": "code",
   "execution_count": 84,
   "metadata": {},
   "outputs": [
    {
     "data": {
      "text/plain": [
       "0.2656193849134325"
      ]
     },
     "execution_count": 84,
     "metadata": {},
     "output_type": "execute_result"
    }
   ],
   "source": [
    "if len(dbscan_cluster_counts) > 1:\n",
    "    dbscan_dbscore = davies_bouldin_score(X, dbscan_cluster)\n",
    "else:\n",
    "    dbscan_dbscore = None\n",
    "dbscan_dbscore"
   ]
  },
  {
   "cell_type": "code",
   "execution_count": 85,
   "metadata": {},
   "outputs": [
    {
     "data": {
      "text/plain": [
       "30.653607322002898"
      ]
     },
     "execution_count": 85,
     "metadata": {},
     "output_type": "execute_result"
    }
   ],
   "source": [
    "if len(dbscan_cluster_counts) > 1:\n",
    "    dbscan_chscore = calinski_harabasz_score(X, dbscan_cluster)\n",
    "else:\n",
    "    dbscan_chscore = None\n",
    "dbscan_chscore"
   ]
  },
  {
   "cell_type": "markdown",
   "metadata": {},
   "source": [
    "## GaussianMixtureModels Clustering"
   ]
  },
  {
   "cell_type": "code",
   "execution_count": 86,
   "metadata": {},
   "outputs": [],
   "source": [
    "gmm = BayesianGaussianMixture(n_components=30)"
   ]
  },
  {
   "cell_type": "code",
   "execution_count": 87,
   "metadata": {},
   "outputs": [],
   "source": [
    "gmm_cluster = gmm.fit_predict(X)\n"
   ]
  },
  {
   "cell_type": "code",
   "execution_count": 88,
   "metadata": {},
   "outputs": [
    {
     "data": {
      "text/plain": [
       "(0.03333333333333334, 0.018164779514765327)"
      ]
     },
     "execution_count": 88,
     "metadata": {},
     "output_type": "execute_result"
    }
   ],
   "source": [
    "gmm.weights_.mean(), gmm.weights_.std()"
   ]
  },
  {
   "cell_type": "code",
   "execution_count": 89,
   "metadata": {},
   "outputs": [],
   "source": [
    "gmm_n_cluster = len(gmm.weights_[gmm.weights_ > 0.0333])"
   ]
  },
  {
   "cell_type": "code",
   "execution_count": 90,
   "metadata": {},
   "outputs": [],
   "source": [
    "gmm = BayesianGaussianMixture(n_components=gmm_n_cluster)\n",
    "gmm_cluster = gmm.fit_predict(X)\n",
    "probs = gmm.predict_proba(X)"
   ]
  },
  {
   "cell_type": "code",
   "execution_count": 91,
   "metadata": {},
   "outputs": [],
   "source": [
    "gmm_dfs = get_cluster_dfs(aggr, gmm_cluster)"
   ]
  },
  {
   "cell_type": "markdown",
   "metadata": {},
   "source": [
    "gmm_cluster_counts = cluster_distribution(gmm_cluster)"
   ]
  },
  {
   "cell_type": "code",
   "execution_count": 92,
   "metadata": {},
   "outputs": [
    {
     "data": {
      "application/vnd.plotly.v1+json": {
       "config": {
        "plotlyServerURL": "https://plot.ly"
       },
       "data": [
        {
         "marker": {
          "color": [
           "#FD3216",
           "#EEA6FB",
           "#F6F926",
           "#FF9616",
           "#FD3216",
           "#DC587D",
           "#00FE35",
           "#FED4C4",
           "#6A76FC",
           "#EEA6FB",
           "#D626FF",
           "#F6F926",
           "#FED4C4",
           "#479B55",
           "#6A76FC",
           "#FF9616",
           "#F6F926",
           "#6E899C",
           "#6A76FC",
           "#D626FF",
           "#6A76FC",
           "#6A76FC",
           "#EEA6FB",
           "#479B55",
           "#0DF9FF",
           "#0DF9FF",
           "#FED4C4",
           "#6E899C",
           "#479B55",
           "#6A76FC",
           "#FE00CE",
           "#FF9616",
           "#FD3216",
           "#EEA6FB",
           "#D626FF",
           "#00FE35",
           "#6A76FC",
           "#D626FF",
           "#EEA6FB",
           "#6E899C",
           "#DC587D",
           "#0DF9FF",
           "#D626FF",
           "#FD3216",
           "#6A76FC",
           "#FE00CE",
           "#FE00CE",
           "#FD3216",
           "#EEA6FB",
           "#00FE35",
           "#6E899C",
           "#479B55",
           "#6A76FC",
           "#479B55",
           "#EEA6FB",
           "#6A76FC",
           "#0DF9FF",
           "#FF9616",
           "#DC587D",
           "#FD3216",
           "#0DF9FF",
           "#00FE35",
           "#DC587D",
           "#DC587D",
           "#EEA6FB"
          ]
         },
         "mode": "markers",
         "text": [
          "English|1382",
          "French|204",
          "German|190",
          "Japanese|100",
          "English, Spanish|78",
          "Spanish|71",
          "Korean|51",
          "English, French|51",
          "Turkish|45",
          "French, English|45",
          "Mandarin|33",
          "German, English|29",
          "English, German|24",
          "English, Russian|24",
          "Norwegian|23",
          "Danish|21",
          "Dutch|21",
          "English, Japanese|18",
          "Swedish|18",
          "Russian|18",
          "Italian|18",
          "Icelandic|15",
          "English, Italian|13",
          "English, Ukrainian|13",
          "Cantonese|13",
          "Thai|12",
          "Hindi|11",
          "English, Arabic|11",
          "English, Mandarin|11",
          "Portuguese|10",
          "Spanish, English|10",
          "Japanese, English|10",
          "English, Portuguese|9",
          "French, German|8",
          "Mandarin, English|8",
          "Cantonese, English|7",
          "German, Turkish|7",
          "Mandarin, Cantonese|7",
          "English, French, Italian|6",
          "Korean, English|6",
          "French, Arabic|6",
          "Chinese|6",
          "Greek|5",
          "Swedish, English|5",
          "Norwegian, English|5",
          "English, Chinese|5",
          "English, Latin|5",
          "English, Hebrew|5",
          "French, Italian|5",
          "Polish|5",
          "English, French, German|5",
          "English, Greek|5",
          "Swiss German|5",
          "English, Korean|5",
          "French, Spanish|4",
          "English, Italian, Spanish|4",
          "Thai, English|4",
          "Russian, English|4",
          "Arabic, French|4",
          "English, Thai|4",
          "Arabic|4",
          "Cantonese, Mandarin|4",
          "English, Arabic, Hebrew|4",
          "Romanian|4",
          "Dutch, English|4"
         ],
         "type": "scatter",
         "x": [
          2.6155760288238525,
          1.4460868835449219,
          5.094393253326416,
          3.9702649116516113,
          3.3031113147735596,
          0.6089174747467041,
          2.5898046493530273,
          2.1383614540100098,
          6.631290435791016,
          1.3396122455596924,
          2.9687232971191406,
          5.201818943023682,
          2.3555712699890137,
          3.149144172668457,
          5.740592002868652,
          4.0082688331604,
          5.176145553588867,
          2.129622220993042,
          5.674894332885742,
          3.4511308670043945,
          6.640160083770752,
          6.137842178344727,
          1.8142017126083374,
          2.9017534255981445,
          3.5362484455108643,
          3.1246752738952637,
          2.1953678131103516,
          2.519498825073242,
          2.8586010932922363,
          6.870502948760986,
          0.8466495871543884,
          3.727766752243042,
          3.115664482116699,
          1.8080344200134277,
          3.182973623275757,
          2.6998987197875977,
          5.8972086906433105,
          2.920719623565674,
          1.96985924243927,
          2.3429839611053467,
          0.37388259172439575,
          3.05951189994812,
          3.1260530948638916,
          2.323854923248291,
          5.772663593292236,
          1.319533109664917,
          1.0386707782745361,
          3.0053904056549072,
          1.4658864736557007,
          2.4471359252929688,
          2.403130054473877,
          3.0063271522521973,
          6.317928791046143,
          2.9943788051605225,
          1.5376192331314087,
          6.007389545440674,
          3.771446704864502,
          3.837973117828369,
          0.5957233905792236,
          3.3022730350494385,
          3.1608588695526123,
          2.740452766418457,
          0.3673447370529175,
          6.522911071777344,
          1.631448745727539
         ],
         "y": [
          5.011167526245117,
          5.5117268562316895,
          8.364275932312012,
          10.054800987243652,
          5.4575114250183105,
          6.386126518249512,
          9.019217491149902,
          6.623218059539795,
          7.333961009979248,
          5.132425308227539,
          10.563225746154785,
          8.502068519592285,
          7.352792263031006,
          6.425467491149902,
          7.972875595092773,
          9.464051246643066,
          8.185403823852539,
          8.15622615814209,
          7.9353437423706055,
          10.04233169555664,
          7.673281669616699,
          7.795841693878174,
          5.596303462982178,
          6.257582664489746,
          10.929760932922363,
          10.909001350402832,
          7.094844341278076,
          7.561882019042969,
          5.711130619049072,
          7.422534465789795,
          6.64776086807251,
          9.682530403137207,
          5.015009880065918,
          6.210731029510498,
          10.222640037536621,
          9.444461822509766,
          8.087535858154297,
          10.573565483093262,
          5.21118688583374,
          8.50700855255127,
          6.060521602630615,
          11.023943901062012,
          9.88060474395752,
          4.929335594177246,
          7.537124156951904,
          7.387650012969971,
          6.083626747131348,
          5.272815704345703,
          5.890250205993652,
          8.781102180480957,
          7.971713542938232,
          5.755161762237549,
          7.689791202545166,
          6.15976095199585,
          5.287301063537598,
          8.376068115234375,
          10.564859390258789,
          10.313756942749023,
          5.818500518798828,
          5.290432453155518,
          10.9213285446167,
          10.114432334899902,
          6.590251445770264,
          7.386436939239502,
          5.115088939666748
         ]
        }
       ],
       "layout": {
        "template": {
         "data": {
          "bar": [
           {
            "error_x": {
             "color": "#2a3f5f"
            },
            "error_y": {
             "color": "#2a3f5f"
            },
            "marker": {
             "line": {
              "color": "#E5ECF6",
              "width": 0.5
             }
            },
            "type": "bar"
           }
          ],
          "barpolar": [
           {
            "marker": {
             "line": {
              "color": "#E5ECF6",
              "width": 0.5
             }
            },
            "type": "barpolar"
           }
          ],
          "carpet": [
           {
            "aaxis": {
             "endlinecolor": "#2a3f5f",
             "gridcolor": "white",
             "linecolor": "white",
             "minorgridcolor": "white",
             "startlinecolor": "#2a3f5f"
            },
            "baxis": {
             "endlinecolor": "#2a3f5f",
             "gridcolor": "white",
             "linecolor": "white",
             "minorgridcolor": "white",
             "startlinecolor": "#2a3f5f"
            },
            "type": "carpet"
           }
          ],
          "choropleth": [
           {
            "colorbar": {
             "outlinewidth": 0,
             "ticks": ""
            },
            "type": "choropleth"
           }
          ],
          "contour": [
           {
            "colorbar": {
             "outlinewidth": 0,
             "ticks": ""
            },
            "colorscale": [
             [
              0,
              "#0d0887"
             ],
             [
              0.1111111111111111,
              "#46039f"
             ],
             [
              0.2222222222222222,
              "#7201a8"
             ],
             [
              0.3333333333333333,
              "#9c179e"
             ],
             [
              0.4444444444444444,
              "#bd3786"
             ],
             [
              0.5555555555555556,
              "#d8576b"
             ],
             [
              0.6666666666666666,
              "#ed7953"
             ],
             [
              0.7777777777777778,
              "#fb9f3a"
             ],
             [
              0.8888888888888888,
              "#fdca26"
             ],
             [
              1,
              "#f0f921"
             ]
            ],
            "type": "contour"
           }
          ],
          "contourcarpet": [
           {
            "colorbar": {
             "outlinewidth": 0,
             "ticks": ""
            },
            "type": "contourcarpet"
           }
          ],
          "heatmap": [
           {
            "colorbar": {
             "outlinewidth": 0,
             "ticks": ""
            },
            "colorscale": [
             [
              0,
              "#0d0887"
             ],
             [
              0.1111111111111111,
              "#46039f"
             ],
             [
              0.2222222222222222,
              "#7201a8"
             ],
             [
              0.3333333333333333,
              "#9c179e"
             ],
             [
              0.4444444444444444,
              "#bd3786"
             ],
             [
              0.5555555555555556,
              "#d8576b"
             ],
             [
              0.6666666666666666,
              "#ed7953"
             ],
             [
              0.7777777777777778,
              "#fb9f3a"
             ],
             [
              0.8888888888888888,
              "#fdca26"
             ],
             [
              1,
              "#f0f921"
             ]
            ],
            "type": "heatmap"
           }
          ],
          "heatmapgl": [
           {
            "colorbar": {
             "outlinewidth": 0,
             "ticks": ""
            },
            "colorscale": [
             [
              0,
              "#0d0887"
             ],
             [
              0.1111111111111111,
              "#46039f"
             ],
             [
              0.2222222222222222,
              "#7201a8"
             ],
             [
              0.3333333333333333,
              "#9c179e"
             ],
             [
              0.4444444444444444,
              "#bd3786"
             ],
             [
              0.5555555555555556,
              "#d8576b"
             ],
             [
              0.6666666666666666,
              "#ed7953"
             ],
             [
              0.7777777777777778,
              "#fb9f3a"
             ],
             [
              0.8888888888888888,
              "#fdca26"
             ],
             [
              1,
              "#f0f921"
             ]
            ],
            "type": "heatmapgl"
           }
          ],
          "histogram": [
           {
            "marker": {
             "colorbar": {
              "outlinewidth": 0,
              "ticks": ""
             }
            },
            "type": "histogram"
           }
          ],
          "histogram2d": [
           {
            "colorbar": {
             "outlinewidth": 0,
             "ticks": ""
            },
            "colorscale": [
             [
              0,
              "#0d0887"
             ],
             [
              0.1111111111111111,
              "#46039f"
             ],
             [
              0.2222222222222222,
              "#7201a8"
             ],
             [
              0.3333333333333333,
              "#9c179e"
             ],
             [
              0.4444444444444444,
              "#bd3786"
             ],
             [
              0.5555555555555556,
              "#d8576b"
             ],
             [
              0.6666666666666666,
              "#ed7953"
             ],
             [
              0.7777777777777778,
              "#fb9f3a"
             ],
             [
              0.8888888888888888,
              "#fdca26"
             ],
             [
              1,
              "#f0f921"
             ]
            ],
            "type": "histogram2d"
           }
          ],
          "histogram2dcontour": [
           {
            "colorbar": {
             "outlinewidth": 0,
             "ticks": ""
            },
            "colorscale": [
             [
              0,
              "#0d0887"
             ],
             [
              0.1111111111111111,
              "#46039f"
             ],
             [
              0.2222222222222222,
              "#7201a8"
             ],
             [
              0.3333333333333333,
              "#9c179e"
             ],
             [
              0.4444444444444444,
              "#bd3786"
             ],
             [
              0.5555555555555556,
              "#d8576b"
             ],
             [
              0.6666666666666666,
              "#ed7953"
             ],
             [
              0.7777777777777778,
              "#fb9f3a"
             ],
             [
              0.8888888888888888,
              "#fdca26"
             ],
             [
              1,
              "#f0f921"
             ]
            ],
            "type": "histogram2dcontour"
           }
          ],
          "mesh3d": [
           {
            "colorbar": {
             "outlinewidth": 0,
             "ticks": ""
            },
            "type": "mesh3d"
           }
          ],
          "parcoords": [
           {
            "line": {
             "colorbar": {
              "outlinewidth": 0,
              "ticks": ""
             }
            },
            "type": "parcoords"
           }
          ],
          "pie": [
           {
            "automargin": true,
            "type": "pie"
           }
          ],
          "scatter": [
           {
            "marker": {
             "colorbar": {
              "outlinewidth": 0,
              "ticks": ""
             }
            },
            "type": "scatter"
           }
          ],
          "scatter3d": [
           {
            "line": {
             "colorbar": {
              "outlinewidth": 0,
              "ticks": ""
             }
            },
            "marker": {
             "colorbar": {
              "outlinewidth": 0,
              "ticks": ""
             }
            },
            "type": "scatter3d"
           }
          ],
          "scattercarpet": [
           {
            "marker": {
             "colorbar": {
              "outlinewidth": 0,
              "ticks": ""
             }
            },
            "type": "scattercarpet"
           }
          ],
          "scattergeo": [
           {
            "marker": {
             "colorbar": {
              "outlinewidth": 0,
              "ticks": ""
             }
            },
            "type": "scattergeo"
           }
          ],
          "scattergl": [
           {
            "marker": {
             "colorbar": {
              "outlinewidth": 0,
              "ticks": ""
             }
            },
            "type": "scattergl"
           }
          ],
          "scattermapbox": [
           {
            "marker": {
             "colorbar": {
              "outlinewidth": 0,
              "ticks": ""
             }
            },
            "type": "scattermapbox"
           }
          ],
          "scatterpolar": [
           {
            "marker": {
             "colorbar": {
              "outlinewidth": 0,
              "ticks": ""
             }
            },
            "type": "scatterpolar"
           }
          ],
          "scatterpolargl": [
           {
            "marker": {
             "colorbar": {
              "outlinewidth": 0,
              "ticks": ""
             }
            },
            "type": "scatterpolargl"
           }
          ],
          "scatterternary": [
           {
            "marker": {
             "colorbar": {
              "outlinewidth": 0,
              "ticks": ""
             }
            },
            "type": "scatterternary"
           }
          ],
          "surface": [
           {
            "colorbar": {
             "outlinewidth": 0,
             "ticks": ""
            },
            "colorscale": [
             [
              0,
              "#0d0887"
             ],
             [
              0.1111111111111111,
              "#46039f"
             ],
             [
              0.2222222222222222,
              "#7201a8"
             ],
             [
              0.3333333333333333,
              "#9c179e"
             ],
             [
              0.4444444444444444,
              "#bd3786"
             ],
             [
              0.5555555555555556,
              "#d8576b"
             ],
             [
              0.6666666666666666,
              "#ed7953"
             ],
             [
              0.7777777777777778,
              "#fb9f3a"
             ],
             [
              0.8888888888888888,
              "#fdca26"
             ],
             [
              1,
              "#f0f921"
             ]
            ],
            "type": "surface"
           }
          ],
          "table": [
           {
            "cells": {
             "fill": {
              "color": "#EBF0F8"
             },
             "line": {
              "color": "white"
             }
            },
            "header": {
             "fill": {
              "color": "#C8D4E3"
             },
             "line": {
              "color": "white"
             }
            },
            "type": "table"
           }
          ]
         },
         "layout": {
          "annotationdefaults": {
           "arrowcolor": "#2a3f5f",
           "arrowhead": 0,
           "arrowwidth": 1
          },
          "coloraxis": {
           "colorbar": {
            "outlinewidth": 0,
            "ticks": ""
           }
          },
          "colorscale": {
           "diverging": [
            [
             0,
             "#8e0152"
            ],
            [
             0.1,
             "#c51b7d"
            ],
            [
             0.2,
             "#de77ae"
            ],
            [
             0.3,
             "#f1b6da"
            ],
            [
             0.4,
             "#fde0ef"
            ],
            [
             0.5,
             "#f7f7f7"
            ],
            [
             0.6,
             "#e6f5d0"
            ],
            [
             0.7,
             "#b8e186"
            ],
            [
             0.8,
             "#7fbc41"
            ],
            [
             0.9,
             "#4d9221"
            ],
            [
             1,
             "#276419"
            ]
           ],
           "sequential": [
            [
             0,
             "#0d0887"
            ],
            [
             0.1111111111111111,
             "#46039f"
            ],
            [
             0.2222222222222222,
             "#7201a8"
            ],
            [
             0.3333333333333333,
             "#9c179e"
            ],
            [
             0.4444444444444444,
             "#bd3786"
            ],
            [
             0.5555555555555556,
             "#d8576b"
            ],
            [
             0.6666666666666666,
             "#ed7953"
            ],
            [
             0.7777777777777778,
             "#fb9f3a"
            ],
            [
             0.8888888888888888,
             "#fdca26"
            ],
            [
             1,
             "#f0f921"
            ]
           ],
           "sequentialminus": [
            [
             0,
             "#0d0887"
            ],
            [
             0.1111111111111111,
             "#46039f"
            ],
            [
             0.2222222222222222,
             "#7201a8"
            ],
            [
             0.3333333333333333,
             "#9c179e"
            ],
            [
             0.4444444444444444,
             "#bd3786"
            ],
            [
             0.5555555555555556,
             "#d8576b"
            ],
            [
             0.6666666666666666,
             "#ed7953"
            ],
            [
             0.7777777777777778,
             "#fb9f3a"
            ],
            [
             0.8888888888888888,
             "#fdca26"
            ],
            [
             1,
             "#f0f921"
            ]
           ]
          },
          "colorway": [
           "#636efa",
           "#EF553B",
           "#00cc96",
           "#ab63fa",
           "#FFA15A",
           "#19d3f3",
           "#FF6692",
           "#B6E880",
           "#FF97FF",
           "#FECB52"
          ],
          "font": {
           "color": "#2a3f5f"
          },
          "geo": {
           "bgcolor": "white",
           "lakecolor": "white",
           "landcolor": "#E5ECF6",
           "showlakes": true,
           "showland": true,
           "subunitcolor": "white"
          },
          "hoverlabel": {
           "align": "left"
          },
          "hovermode": "closest",
          "mapbox": {
           "style": "light"
          },
          "paper_bgcolor": "white",
          "plot_bgcolor": "#E5ECF6",
          "polar": {
           "angularaxis": {
            "gridcolor": "white",
            "linecolor": "white",
            "ticks": ""
           },
           "bgcolor": "#E5ECF6",
           "radialaxis": {
            "gridcolor": "white",
            "linecolor": "white",
            "ticks": ""
           }
          },
          "scene": {
           "xaxis": {
            "backgroundcolor": "#E5ECF6",
            "gridcolor": "white",
            "gridwidth": 2,
            "linecolor": "white",
            "showbackground": true,
            "ticks": "",
            "zerolinecolor": "white"
           },
           "yaxis": {
            "backgroundcolor": "#E5ECF6",
            "gridcolor": "white",
            "gridwidth": 2,
            "linecolor": "white",
            "showbackground": true,
            "ticks": "",
            "zerolinecolor": "white"
           },
           "zaxis": {
            "backgroundcolor": "#E5ECF6",
            "gridcolor": "white",
            "gridwidth": 2,
            "linecolor": "white",
            "showbackground": true,
            "ticks": "",
            "zerolinecolor": "white"
           }
          },
          "shapedefaults": {
           "line": {
            "color": "#2a3f5f"
           }
          },
          "ternary": {
           "aaxis": {
            "gridcolor": "white",
            "linecolor": "white",
            "ticks": ""
           },
           "baxis": {
            "gridcolor": "white",
            "linecolor": "white",
            "ticks": ""
           },
           "bgcolor": "#E5ECF6",
           "caxis": {
            "gridcolor": "white",
            "linecolor": "white",
            "ticks": ""
           }
          },
          "title": {
           "x": 0.05
          },
          "xaxis": {
           "automargin": true,
           "gridcolor": "white",
           "linecolor": "white",
           "ticks": "",
           "title": {
            "standoff": 15
           },
           "zerolinecolor": "white",
           "zerolinewidth": 2
          },
          "yaxis": {
           "automargin": true,
           "gridcolor": "white",
           "linecolor": "white",
           "ticks": "",
           "title": {
            "standoff": 15
           },
           "zerolinecolor": "white",
           "zerolinewidth": 2
          }
         }
        }
       }
      },
      "text/html": [
       "<div>\n",
       "        \n",
       "        \n",
       "            <div id=\"22f463e1-4dad-4476-86de-545a412adf0c\" class=\"plotly-graph-div\" style=\"height:525px; width:100%;\"></div>\n",
       "            <script type=\"text/javascript\">\n",
       "                require([\"plotly\"], function(Plotly) {\n",
       "                    window.PLOTLYENV=window.PLOTLYENV || {};\n",
       "                    \n",
       "                if (document.getElementById(\"22f463e1-4dad-4476-86de-545a412adf0c\")) {\n",
       "                    Plotly.newPlot(\n",
       "                        '22f463e1-4dad-4476-86de-545a412adf0c',\n",
       "                        [{\"marker\": {\"color\": [\"#FD3216\", \"#EEA6FB\", \"#F6F926\", \"#FF9616\", \"#FD3216\", \"#DC587D\", \"#00FE35\", \"#FED4C4\", \"#6A76FC\", \"#EEA6FB\", \"#D626FF\", \"#F6F926\", \"#FED4C4\", \"#479B55\", \"#6A76FC\", \"#FF9616\", \"#F6F926\", \"#6E899C\", \"#6A76FC\", \"#D626FF\", \"#6A76FC\", \"#6A76FC\", \"#EEA6FB\", \"#479B55\", \"#0DF9FF\", \"#0DF9FF\", \"#FED4C4\", \"#6E899C\", \"#479B55\", \"#6A76FC\", \"#FE00CE\", \"#FF9616\", \"#FD3216\", \"#EEA6FB\", \"#D626FF\", \"#00FE35\", \"#6A76FC\", \"#D626FF\", \"#EEA6FB\", \"#6E899C\", \"#DC587D\", \"#0DF9FF\", \"#D626FF\", \"#FD3216\", \"#6A76FC\", \"#FE00CE\", \"#FE00CE\", \"#FD3216\", \"#EEA6FB\", \"#00FE35\", \"#6E899C\", \"#479B55\", \"#6A76FC\", \"#479B55\", \"#EEA6FB\", \"#6A76FC\", \"#0DF9FF\", \"#FF9616\", \"#DC587D\", \"#FD3216\", \"#0DF9FF\", \"#00FE35\", \"#DC587D\", \"#DC587D\", \"#EEA6FB\"]}, \"mode\": \"markers\", \"text\": [\"English|1382\", \"French|204\", \"German|190\", \"Japanese|100\", \"English, Spanish|78\", \"Spanish|71\", \"Korean|51\", \"English, French|51\", \"Turkish|45\", \"French, English|45\", \"Mandarin|33\", \"German, English|29\", \"English, German|24\", \"English, Russian|24\", \"Norwegian|23\", \"Danish|21\", \"Dutch|21\", \"English, Japanese|18\", \"Swedish|18\", \"Russian|18\", \"Italian|18\", \"Icelandic|15\", \"English, Italian|13\", \"English, Ukrainian|13\", \"Cantonese|13\", \"Thai|12\", \"Hindi|11\", \"English, Arabic|11\", \"English, Mandarin|11\", \"Portuguese|10\", \"Spanish, English|10\", \"Japanese, English|10\", \"English, Portuguese|9\", \"French, German|8\", \"Mandarin, English|8\", \"Cantonese, English|7\", \"German, Turkish|7\", \"Mandarin, Cantonese|7\", \"English, French, Italian|6\", \"Korean, English|6\", \"French, Arabic|6\", \"Chinese|6\", \"Greek|5\", \"Swedish, English|5\", \"Norwegian, English|5\", \"English, Chinese|5\", \"English, Latin|5\", \"English, Hebrew|5\", \"French, Italian|5\", \"Polish|5\", \"English, French, German|5\", \"English, Greek|5\", \"Swiss German|5\", \"English, Korean|5\", \"French, Spanish|4\", \"English, Italian, Spanish|4\", \"Thai, English|4\", \"Russian, English|4\", \"Arabic, French|4\", \"English, Thai|4\", \"Arabic|4\", \"Cantonese, Mandarin|4\", \"English, Arabic, Hebrew|4\", \"Romanian|4\", \"Dutch, English|4\"], \"type\": \"scatter\", \"x\": [2.6155760288238525, 1.4460868835449219, 5.094393253326416, 3.9702649116516113, 3.3031113147735596, 0.6089174747467041, 2.5898046493530273, 2.1383614540100098, 6.631290435791016, 1.3396122455596924, 2.9687232971191406, 5.201818943023682, 2.3555712699890137, 3.149144172668457, 5.740592002868652, 4.0082688331604, 5.176145553588867, 2.129622220993042, 5.674894332885742, 3.4511308670043945, 6.640160083770752, 6.137842178344727, 1.8142017126083374, 2.9017534255981445, 3.5362484455108643, 3.1246752738952637, 2.1953678131103516, 2.519498825073242, 2.8586010932922363, 6.870502948760986, 0.8466495871543884, 3.727766752243042, 3.115664482116699, 1.8080344200134277, 3.182973623275757, 2.6998987197875977, 5.8972086906433105, 2.920719623565674, 1.96985924243927, 2.3429839611053467, 0.37388259172439575, 3.05951189994812, 3.1260530948638916, 2.323854923248291, 5.772663593292236, 1.319533109664917, 1.0386707782745361, 3.0053904056549072, 1.4658864736557007, 2.4471359252929688, 2.403130054473877, 3.0063271522521973, 6.317928791046143, 2.9943788051605225, 1.5376192331314087, 6.007389545440674, 3.771446704864502, 3.837973117828369, 0.5957233905792236, 3.3022730350494385, 3.1608588695526123, 2.740452766418457, 0.3673447370529175, 6.522911071777344, 1.631448745727539], \"y\": [5.011167526245117, 5.5117268562316895, 8.364275932312012, 10.054800987243652, 5.4575114250183105, 6.386126518249512, 9.019217491149902, 6.623218059539795, 7.333961009979248, 5.132425308227539, 10.563225746154785, 8.502068519592285, 7.352792263031006, 6.425467491149902, 7.972875595092773, 9.464051246643066, 8.185403823852539, 8.15622615814209, 7.9353437423706055, 10.04233169555664, 7.673281669616699, 7.795841693878174, 5.596303462982178, 6.257582664489746, 10.929760932922363, 10.909001350402832, 7.094844341278076, 7.561882019042969, 5.711130619049072, 7.422534465789795, 6.64776086807251, 9.682530403137207, 5.015009880065918, 6.210731029510498, 10.222640037536621, 9.444461822509766, 8.087535858154297, 10.573565483093262, 5.21118688583374, 8.50700855255127, 6.060521602630615, 11.023943901062012, 9.88060474395752, 4.929335594177246, 7.537124156951904, 7.387650012969971, 6.083626747131348, 5.272815704345703, 5.890250205993652, 8.781102180480957, 7.971713542938232, 5.755161762237549, 7.689791202545166, 6.15976095199585, 5.287301063537598, 8.376068115234375, 10.564859390258789, 10.313756942749023, 5.818500518798828, 5.290432453155518, 10.9213285446167, 10.114432334899902, 6.590251445770264, 7.386436939239502, 5.115088939666748]}],\n",
       "                        {\"template\": {\"data\": {\"bar\": [{\"error_x\": {\"color\": \"#2a3f5f\"}, \"error_y\": {\"color\": \"#2a3f5f\"}, \"marker\": {\"line\": {\"color\": \"#E5ECF6\", \"width\": 0.5}}, \"type\": \"bar\"}], \"barpolar\": [{\"marker\": {\"line\": {\"color\": \"#E5ECF6\", \"width\": 0.5}}, \"type\": \"barpolar\"}], \"carpet\": [{\"aaxis\": {\"endlinecolor\": \"#2a3f5f\", \"gridcolor\": \"white\", \"linecolor\": \"white\", \"minorgridcolor\": \"white\", \"startlinecolor\": \"#2a3f5f\"}, \"baxis\": {\"endlinecolor\": \"#2a3f5f\", \"gridcolor\": \"white\", \"linecolor\": \"white\", \"minorgridcolor\": \"white\", \"startlinecolor\": \"#2a3f5f\"}, \"type\": \"carpet\"}], \"choropleth\": [{\"colorbar\": {\"outlinewidth\": 0, \"ticks\": \"\"}, \"type\": \"choropleth\"}], \"contour\": [{\"colorbar\": {\"outlinewidth\": 0, \"ticks\": \"\"}, \"colorscale\": [[0.0, \"#0d0887\"], [0.1111111111111111, \"#46039f\"], [0.2222222222222222, \"#7201a8\"], [0.3333333333333333, \"#9c179e\"], [0.4444444444444444, \"#bd3786\"], [0.5555555555555556, \"#d8576b\"], [0.6666666666666666, \"#ed7953\"], [0.7777777777777778, \"#fb9f3a\"], [0.8888888888888888, \"#fdca26\"], [1.0, \"#f0f921\"]], \"type\": \"contour\"}], \"contourcarpet\": [{\"colorbar\": {\"outlinewidth\": 0, \"ticks\": \"\"}, \"type\": \"contourcarpet\"}], \"heatmap\": [{\"colorbar\": {\"outlinewidth\": 0, \"ticks\": \"\"}, \"colorscale\": [[0.0, \"#0d0887\"], [0.1111111111111111, \"#46039f\"], [0.2222222222222222, \"#7201a8\"], [0.3333333333333333, \"#9c179e\"], [0.4444444444444444, \"#bd3786\"], [0.5555555555555556, \"#d8576b\"], [0.6666666666666666, \"#ed7953\"], [0.7777777777777778, \"#fb9f3a\"], [0.8888888888888888, \"#fdca26\"], [1.0, \"#f0f921\"]], \"type\": \"heatmap\"}], \"heatmapgl\": [{\"colorbar\": {\"outlinewidth\": 0, \"ticks\": \"\"}, \"colorscale\": [[0.0, \"#0d0887\"], [0.1111111111111111, \"#46039f\"], [0.2222222222222222, \"#7201a8\"], [0.3333333333333333, \"#9c179e\"], [0.4444444444444444, \"#bd3786\"], [0.5555555555555556, \"#d8576b\"], [0.6666666666666666, \"#ed7953\"], [0.7777777777777778, \"#fb9f3a\"], [0.8888888888888888, \"#fdca26\"], [1.0, \"#f0f921\"]], \"type\": \"heatmapgl\"}], \"histogram\": [{\"marker\": {\"colorbar\": {\"outlinewidth\": 0, \"ticks\": \"\"}}, \"type\": \"histogram\"}], \"histogram2d\": [{\"colorbar\": {\"outlinewidth\": 0, \"ticks\": \"\"}, \"colorscale\": [[0.0, \"#0d0887\"], [0.1111111111111111, \"#46039f\"], [0.2222222222222222, \"#7201a8\"], [0.3333333333333333, \"#9c179e\"], [0.4444444444444444, \"#bd3786\"], [0.5555555555555556, \"#d8576b\"], [0.6666666666666666, \"#ed7953\"], [0.7777777777777778, \"#fb9f3a\"], [0.8888888888888888, \"#fdca26\"], [1.0, \"#f0f921\"]], \"type\": \"histogram2d\"}], \"histogram2dcontour\": [{\"colorbar\": {\"outlinewidth\": 0, \"ticks\": \"\"}, \"colorscale\": [[0.0, \"#0d0887\"], [0.1111111111111111, \"#46039f\"], [0.2222222222222222, \"#7201a8\"], [0.3333333333333333, \"#9c179e\"], [0.4444444444444444, \"#bd3786\"], [0.5555555555555556, \"#d8576b\"], [0.6666666666666666, \"#ed7953\"], [0.7777777777777778, \"#fb9f3a\"], [0.8888888888888888, \"#fdca26\"], [1.0, \"#f0f921\"]], \"type\": \"histogram2dcontour\"}], \"mesh3d\": [{\"colorbar\": {\"outlinewidth\": 0, \"ticks\": \"\"}, \"type\": \"mesh3d\"}], \"parcoords\": [{\"line\": {\"colorbar\": {\"outlinewidth\": 0, \"ticks\": \"\"}}, \"type\": \"parcoords\"}], \"pie\": [{\"automargin\": true, \"type\": \"pie\"}], \"scatter\": [{\"marker\": {\"colorbar\": {\"outlinewidth\": 0, \"ticks\": \"\"}}, \"type\": \"scatter\"}], \"scatter3d\": [{\"line\": {\"colorbar\": {\"outlinewidth\": 0, \"ticks\": \"\"}}, \"marker\": {\"colorbar\": {\"outlinewidth\": 0, \"ticks\": \"\"}}, \"type\": \"scatter3d\"}], \"scattercarpet\": [{\"marker\": {\"colorbar\": {\"outlinewidth\": 0, \"ticks\": \"\"}}, \"type\": \"scattercarpet\"}], \"scattergeo\": [{\"marker\": {\"colorbar\": {\"outlinewidth\": 0, \"ticks\": \"\"}}, \"type\": \"scattergeo\"}], \"scattergl\": [{\"marker\": {\"colorbar\": {\"outlinewidth\": 0, \"ticks\": \"\"}}, \"type\": \"scattergl\"}], \"scattermapbox\": [{\"marker\": {\"colorbar\": {\"outlinewidth\": 0, \"ticks\": \"\"}}, \"type\": \"scattermapbox\"}], \"scatterpolar\": [{\"marker\": {\"colorbar\": {\"outlinewidth\": 0, \"ticks\": \"\"}}, \"type\": \"scatterpolar\"}], \"scatterpolargl\": [{\"marker\": {\"colorbar\": {\"outlinewidth\": 0, \"ticks\": \"\"}}, \"type\": \"scatterpolargl\"}], \"scatterternary\": [{\"marker\": {\"colorbar\": {\"outlinewidth\": 0, \"ticks\": \"\"}}, \"type\": \"scatterternary\"}], \"surface\": [{\"colorbar\": {\"outlinewidth\": 0, \"ticks\": \"\"}, \"colorscale\": [[0.0, \"#0d0887\"], [0.1111111111111111, \"#46039f\"], [0.2222222222222222, \"#7201a8\"], [0.3333333333333333, \"#9c179e\"], [0.4444444444444444, \"#bd3786\"], [0.5555555555555556, \"#d8576b\"], [0.6666666666666666, \"#ed7953\"], [0.7777777777777778, \"#fb9f3a\"], [0.8888888888888888, \"#fdca26\"], [1.0, \"#f0f921\"]], \"type\": \"surface\"}], \"table\": [{\"cells\": {\"fill\": {\"color\": \"#EBF0F8\"}, \"line\": {\"color\": \"white\"}}, \"header\": {\"fill\": {\"color\": \"#C8D4E3\"}, \"line\": {\"color\": \"white\"}}, \"type\": \"table\"}]}, \"layout\": {\"annotationdefaults\": {\"arrowcolor\": \"#2a3f5f\", \"arrowhead\": 0, \"arrowwidth\": 1}, \"coloraxis\": {\"colorbar\": {\"outlinewidth\": 0, \"ticks\": \"\"}}, \"colorscale\": {\"diverging\": [[0, \"#8e0152\"], [0.1, \"#c51b7d\"], [0.2, \"#de77ae\"], [0.3, \"#f1b6da\"], [0.4, \"#fde0ef\"], [0.5, \"#f7f7f7\"], [0.6, \"#e6f5d0\"], [0.7, \"#b8e186\"], [0.8, \"#7fbc41\"], [0.9, \"#4d9221\"], [1, \"#276419\"]], \"sequential\": [[0.0, \"#0d0887\"], [0.1111111111111111, \"#46039f\"], [0.2222222222222222, \"#7201a8\"], [0.3333333333333333, \"#9c179e\"], [0.4444444444444444, \"#bd3786\"], [0.5555555555555556, \"#d8576b\"], [0.6666666666666666, \"#ed7953\"], [0.7777777777777778, \"#fb9f3a\"], [0.8888888888888888, \"#fdca26\"], [1.0, \"#f0f921\"]], \"sequentialminus\": [[0.0, \"#0d0887\"], [0.1111111111111111, \"#46039f\"], [0.2222222222222222, \"#7201a8\"], [0.3333333333333333, \"#9c179e\"], [0.4444444444444444, \"#bd3786\"], [0.5555555555555556, \"#d8576b\"], [0.6666666666666666, \"#ed7953\"], [0.7777777777777778, \"#fb9f3a\"], [0.8888888888888888, \"#fdca26\"], [1.0, \"#f0f921\"]]}, \"colorway\": [\"#636efa\", \"#EF553B\", \"#00cc96\", \"#ab63fa\", \"#FFA15A\", \"#19d3f3\", \"#FF6692\", \"#B6E880\", \"#FF97FF\", \"#FECB52\"], \"font\": {\"color\": \"#2a3f5f\"}, \"geo\": {\"bgcolor\": \"white\", \"lakecolor\": \"white\", \"landcolor\": \"#E5ECF6\", \"showlakes\": true, \"showland\": true, \"subunitcolor\": \"white\"}, \"hoverlabel\": {\"align\": \"left\"}, \"hovermode\": \"closest\", \"mapbox\": {\"style\": \"light\"}, \"paper_bgcolor\": \"white\", \"plot_bgcolor\": \"#E5ECF6\", \"polar\": {\"angularaxis\": {\"gridcolor\": \"white\", \"linecolor\": \"white\", \"ticks\": \"\"}, \"bgcolor\": \"#E5ECF6\", \"radialaxis\": {\"gridcolor\": \"white\", \"linecolor\": \"white\", \"ticks\": \"\"}}, \"scene\": {\"xaxis\": {\"backgroundcolor\": \"#E5ECF6\", \"gridcolor\": \"white\", \"gridwidth\": 2, \"linecolor\": \"white\", \"showbackground\": true, \"ticks\": \"\", \"zerolinecolor\": \"white\"}, \"yaxis\": {\"backgroundcolor\": \"#E5ECF6\", \"gridcolor\": \"white\", \"gridwidth\": 2, \"linecolor\": \"white\", \"showbackground\": true, \"ticks\": \"\", \"zerolinecolor\": \"white\"}, \"zaxis\": {\"backgroundcolor\": \"#E5ECF6\", \"gridcolor\": \"white\", \"gridwidth\": 2, \"linecolor\": \"white\", \"showbackground\": true, \"ticks\": \"\", \"zerolinecolor\": \"white\"}}, \"shapedefaults\": {\"line\": {\"color\": \"#2a3f5f\"}}, \"ternary\": {\"aaxis\": {\"gridcolor\": \"white\", \"linecolor\": \"white\", \"ticks\": \"\"}, \"baxis\": {\"gridcolor\": \"white\", \"linecolor\": \"white\", \"ticks\": \"\"}, \"bgcolor\": \"#E5ECF6\", \"caxis\": {\"gridcolor\": \"white\", \"linecolor\": \"white\", \"ticks\": \"\"}}, \"title\": {\"x\": 0.05}, \"xaxis\": {\"automargin\": true, \"gridcolor\": \"white\", \"linecolor\": \"white\", \"ticks\": \"\", \"title\": {\"standoff\": 15}, \"zerolinecolor\": \"white\", \"zerolinewidth\": 2}, \"yaxis\": {\"automargin\": true, \"gridcolor\": \"white\", \"linecolor\": \"white\", \"ticks\": \"\", \"title\": {\"standoff\": 15}, \"zerolinecolor\": \"white\", \"zerolinewidth\": 2}}}},\n",
       "                        {\"responsive\": true}\n",
       "                    ).then(function(){\n",
       "                            \n",
       "var gd = document.getElementById('22f463e1-4dad-4476-86de-545a412adf0c');\n",
       "var x = new MutationObserver(function (mutations, observer) {{\n",
       "        var display = window.getComputedStyle(gd).display;\n",
       "        if (!display || display === 'none') {{\n",
       "            console.log([gd, 'removed!']);\n",
       "            Plotly.purge(gd);\n",
       "            observer.disconnect();\n",
       "        }}\n",
       "}});\n",
       "\n",
       "// Listen for the removal of the full notebook cells\n",
       "var notebookContainer = gd.closest('#notebook-container');\n",
       "if (notebookContainer) {{\n",
       "    x.observe(notebookContainer, {childList: true});\n",
       "}}\n",
       "\n",
       "// Listen for the clearing of the current output cell\n",
       "var outputEl = gd.closest('.output');\n",
       "if (outputEl) {{\n",
       "    x.observe(outputEl, {childList: true});\n",
       "}}\n",
       "\n",
       "                        })\n",
       "                };\n",
       "                });\n",
       "            </script>\n",
       "        </div>"
      ]
     },
     "metadata": {},
     "output_type": "display_data"
    }
   ],
   "source": [
    "fig = go.Figure(data=go.Scatter(x=Xr[:, 0],\n",
    "                                y=Xr[:, 1],\n",
    "                                mode='markers',\n",
    "                                text=[f'{label}|{n_token}' for label, n_token in zip(aggr.label, aggr.n_texts)],\n",
    "                                marker_color=plotly_color_categorical_values(gmm_cluster)))\n",
    "\n",
    "\n",
    "fig.show()"
   ]
  },
  {
   "cell_type": "code",
   "execution_count": 93,
   "metadata": {},
   "outputs": [
    {
     "data": {
      "text/plain": [
       "<matplotlib.axes._subplots.AxesSubplot at 0x7fc60f4fe310>"
      ]
     },
     "execution_count": 93,
     "metadata": {},
     "output_type": "execute_result"
    },
    {
     "data": {
      "image/png": "[encoded data removed]",
      "text/plain": [
       "<Figure size 576x396 with 1 Axes>"
      ]
     },
     "metadata": {},
     "output_type": "display_data"
    }
   ],
   "source": [
    "import seaborn as sns\n",
    "sns.scatterplot(x=Xr[:, 0],\n",
    "                y=Xr[:, 1],\n",
    "               hue=[f'C{i}' for i in gmm_cluster])"
   ]
  },
  {
   "cell_type": "code",
   "execution_count": 94,
   "metadata": {},
   "outputs": [
    {
     "name": "stdout",
     "output_type": "stream",
     "text": [
      "Cluster 0\n",
      "0                 English\n",
      "4        English, Spanish\n",
      "32    English, Portuguese\n",
      "43       Swedish, English\n",
      "47        English, Hebrew\n",
      "59          English, Thai\n",
      "Name: label, dtype: object\n",
      "Total number of movies in cluster => 1483\n",
      "Total number of tokens in cluster => 13215845\n",
      "############################################################\n",
      "Cluster 1\n",
      "6                  Korean\n",
      "35     Cantonese, English\n",
      "49                 Polish\n",
      "61    Cantonese, Mandarin\n",
      "Name: label, dtype: object\n",
      "Total number of movies in cluster => 67\n",
      "Total number of tokens in cluster => 493975\n",
      "############################################################\n",
      "Cluster 2\n",
      "8                       Turkish\n",
      "14                    Norwegian\n",
      "18                      Swedish\n",
      "20                      Italian\n",
      "21                    Icelandic\n",
      "29                   Portuguese\n",
      "36              German, Turkish\n",
      "44           Norwegian, English\n",
      "52                 Swiss German\n",
      "55    English, Italian, Spanish\n",
      "Name: label, dtype: object\n",
      "Total number of movies in cluster => 150\n",
      "Total number of tokens in cluster => 1228249\n",
      "############################################################\n",
      "Cluster 3\n",
      "7     English, French\n",
      "12    English, German\n",
      "26              Hindi\n",
      "Name: label, dtype: object\n",
      "Total number of movies in cluster => 86\n",
      "Total number of tokens in cluster => 796675\n",
      "############################################################\n",
      "Cluster 4\n",
      "30    Spanish, English\n",
      "45    English, Chinese\n",
      "46      English, Latin\n",
      "Name: label, dtype: object\n",
      "Total number of movies in cluster => 20\n",
      "Total number of tokens in cluster => 146459\n",
      "############################################################\n",
      "Cluster 5\n",
      "24        Cantonese\n",
      "25             Thai\n",
      "41          Chinese\n",
      "56    Thai, English\n",
      "60           Arabic\n",
      "Name: label, dtype: object\n",
      "Total number of movies in cluster => 39\n",
      "Total number of tokens in cluster => 274347\n",
      "############################################################\n",
      "Cluster 6\n",
      "2              German\n",
      "11    German, English\n",
      "16              Dutch\n",
      "Name: label, dtype: object\n",
      "Total number of movies in cluster => 240\n",
      "Total number of tokens in cluster => 2076421\n",
      "############################################################\n",
      "Cluster 7\n",
      "3              Japanese\n",
      "15               Danish\n",
      "31    Japanese, English\n",
      "57     Russian, English\n",
      "Name: label, dtype: object\n",
      "Total number of movies in cluster => 135\n",
      "Total number of tokens in cluster => 903838\n",
      "############################################################\n",
      "Cluster 8\n",
      "13      English, Russian\n",
      "23    English, Ukrainian\n",
      "28     English, Mandarin\n",
      "51        English, Greek\n",
      "53       English, Korean\n",
      "Name: label, dtype: object\n",
      "Total number of movies in cluster => 58\n",
      "Total number of tokens in cluster => 572106\n",
      "############################################################\n",
      "Cluster 9\n",
      "1                       French\n",
      "9              French, English\n",
      "22            English, Italian\n",
      "33              French, German\n",
      "38    English, French, Italian\n",
      "48             French, Italian\n",
      "54             French, Spanish\n",
      "64              Dutch, English\n",
      "Name: label, dtype: object\n",
      "Total number of movies in cluster => 289\n",
      "Total number of tokens in cluster => 2292446\n",
      "############################################################\n",
      "Cluster 10\n",
      "5                     Spanish\n",
      "40             French, Arabic\n",
      "58             Arabic, French\n",
      "62    English, Arabic, Hebrew\n",
      "63                   Romanian\n",
      "Name: label, dtype: object\n",
      "Total number of movies in cluster => 89\n",
      "Total number of tokens in cluster => 656193\n",
      "############################################################\n",
      "Cluster 11\n",
      "10               Mandarin\n",
      "19                Russian\n",
      "34      Mandarin, English\n",
      "37    Mandarin, Cantonese\n",
      "42                  Greek\n",
      "Name: label, dtype: object\n",
      "Total number of movies in cluster => 71\n",
      "Total number of tokens in cluster => 483185\n",
      "############################################################\n",
      "Cluster 12\n",
      "17          English, Japanese\n",
      "27            English, Arabic\n",
      "39            Korean, English\n",
      "50    English, French, German\n",
      "Name: label, dtype: object\n",
      "Total number of movies in cluster => 40\n",
      "Total number of tokens in cluster => 360031\n",
      "############################################################\n"
     ]
    }
   ],
   "source": [
    "print_clusters(gmm_dfs)"
   ]
  },
  {
   "cell_type": "code",
   "execution_count": 95,
   "metadata": {},
   "outputs": [
    {
     "data": {
      "text/plain": [
       "0.9074147943113752"
      ]
     },
     "execution_count": 95,
     "metadata": {},
     "output_type": "execute_result"
    }
   ],
   "source": [
    "gmm_dbscore = davies_bouldin_score(X, gmm_cluster)\n",
    "gmm_dbscore"
   ]
  },
  {
   "cell_type": "code",
   "execution_count": 96,
   "metadata": {},
   "outputs": [
    {
     "data": {
      "text/plain": [
       "32.19473314564718"
      ]
     },
     "execution_count": 96,
     "metadata": {},
     "output_type": "execute_result"
    }
   ],
   "source": [
    "gmm_chscore = calinski_harabasz_score(X, gmm_cluster)\n",
    "gmm_chscore"
   ]
  },
  {
   "cell_type": "code",
   "execution_count": null,
   "metadata": {},
   "outputs": [],
   "source": []
  }
 ],
 "metadata": {
  "kernelspec": {
   "display_name": "Python 3",
   "language": "python",
   "name": "python3"
  },
  "language_info": {
   "codemirror_mode": {
    "name": "ipython",
    "version": 3
   },
   "file_extension": ".py",
   "mimetype": "text/x-python",
   "name": "python",
   "nbconvert_exporter": "python",
   "pygments_lexer": "ipython3",
   "version": "3.8.2"
  }
 },
 "nbformat": 4,
 "nbformat_minor": 4
}
