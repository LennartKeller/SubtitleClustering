{
 "cells": [
  {
   "cell_type": "code",
   "execution_count": 1,
   "metadata": {},
   "outputs": [],
   "source": [
    "import pandas as pd\n",
    "import matplotlib.pyplot as plt\n",
    "import numpy as np\n",
    "import plotly.graph_objects as go\n",
    "import seaborn as sns\n",
    "from sklearn.feature_extraction.text import TfidfVectorizer\n",
    "from stop_words import get_stop_words\n",
    "from sklearn.decomposition import PCA\n",
    "from sklearn.cluster import KMeans\n",
    "from umap import UMAP\n",
    "from collections import Counter"
   ]
  },
  {
   "cell_type": "code",
   "execution_count": 2,
   "metadata": {},
   "outputs": [],
   "source": [
    "df = pd.read_csv('../dataset/movies_complete.csv')\n",
    "df.dropna(subset=['genre'], inplace=True)\n",
    "df['text_length'] = df.text.apply(lambda x: len(x.split()))\n",
    "df = df[df['text_length'] >= 3000]"
   ]
  },
  {
   "cell_type": "code",
   "execution_count": 3,
   "metadata": {},
   "outputs": [],
   "source": [
    "def aggregate_by_label(df: pd.DataFrame, label: str, min_threshold: int = 0):\n",
    "    \n",
    "    top_labels = df[label].value_counts()[df[label].value_counts() > min_threshold]\n",
    "    \n",
    "    entries = []\n",
    "    for l in top_labels.index:\n",
    "        label_df = df[df[label] == l]\n",
    "        all_texts = []\n",
    "        for text in label_df.text:\n",
    "            all_texts.append(text)\n",
    "        entry = {}\n",
    "        \n",
    "        conctanated_text = \" \".join(all_texts)\n",
    "        entry['label'] = l\n",
    "        entry['text'] = conctanated_text\n",
    "        entry['n_texts'] = len(all_texts)\n",
    "        entry['n_tokens'] = len(conctanated_text.split())\n",
    "        entry['instances'] = \", \".join(label_df.filename.to_list())\n",
    "        \n",
    "        entries.append(entry)\n",
    "    return pd.DataFrame.from_records(entries)"
   ]
  },
  {
   "cell_type": "code",
   "execution_count": 4,
   "metadata": {},
   "outputs": [],
   "source": [
    "def get_cluster_dfs(df, cluster):\n",
    "    return[df[cluster == i] for i in np.unique(cluster)]"
   ]
  },
  {
   "cell_type": "code",
   "execution_count": 5,
   "metadata": {},
   "outputs": [],
   "source": [
    "from plotly.colors import qualitative \n",
    "\n",
    "def plotly_color_categorical_values(values, cmap=qualitative.Light24):\n",
    "    uniq = np.unique(values)\n",
    "    if len(uniq) > len(cmap):\n",
    "        print(\"Need more colors than current cmap holds\")\n",
    "        return\n",
    "    categories_color = {cat: cmap[index] for index, cat in enumerate(uniq)}\n",
    "    return [categories_color[cat] for cat in values]"
   ]
  },
  {
   "cell_type": "code",
   "execution_count": 164,
   "metadata": {},
   "outputs": [],
   "source": [
    "aggr = aggregate_by_label(df, 'Language', 1)"
   ]
  },
  {
   "cell_type": "code",
   "execution_count": 165,
   "metadata": {},
   "outputs": [],
   "source": [
    "tfidf = TfidfVectorizer(\n",
    "    stop_words=get_stop_words('de'),\n",
    "    max_features=250,\n",
    "    ngram_range=(1,3))\n",
    "\n",
    "X = tfidf.fit_transform(aggr.text)\n",
    "X = X.todense()"
   ]
  },
  {
   "cell_type": "code",
   "execution_count": 166,
   "metadata": {},
   "outputs": [],
   "source": [
    "Xr = UMAP(n_components=2, n_neighbors=20).fit_transform(X)\n",
    "#Xr = PCA(n_components=2).fit_transform(X.todense())"
   ]
  },
  {
   "cell_type": "code",
   "execution_count": 167,
   "metadata": {},
   "outputs": [
    {
     "data": {
      "application/vnd.plotly.v1+json": {
       "config": {
        "plotlyServerURL": "https://plot.ly"
       },
       "data": [
        {
         "marker": {
          "color": [
           12181830,
           1589231,
           1676394,
           670914,
           810080,
           532378,
           395234,
           484261,
           361604,
           485290,
           237221,
           243233,
           240343,
           207250,
           147740,
           156794,
           144459,
           118492,
           143324,
           136157,
           126810,
           98198,
           95279,
           135981,
           147809,
           78349,
           137156,
           105164,
           100770,
           73679,
           57035,
           69555,
           83374,
           58867,
           54356,
           45473,
           47078,
           41719,
           38277,
           44621,
           42856,
           45145,
           43172,
           29621,
           34642,
           36370,
           29945,
           57788,
           42901,
           26038,
           42262,
           52111,
           30327,
           67385,
           30004,
           22157,
           25831,
           31430,
           27401,
           27648,
           33941,
           28061,
           21666,
           38116,
           31173,
           13983,
           27726,
           21840,
           26624,
           19584,
           29447,
           35228,
           19688,
           20252,
           23952,
           52498,
           20866,
           36079,
           22039,
           26734,
           22602,
           23903,
           21238,
           35653,
           32539,
           21221,
           19261,
           22517,
           23147,
           21816,
           13164,
           11333,
           15881,
           17341,
           9396,
           21211,
           16305,
           14999,
           10508,
           14246,
           21524,
           18338,
           12726,
           13603,
           25993,
           18926,
           13120,
           13940,
           24745,
           12530,
           13583,
           7993,
           24351,
           13640,
           16776,
           12616,
           17763,
           23917,
           12785,
           10994,
           7191,
           10551,
           27482,
           14593,
           18289,
           24143,
           8239,
           11396,
           19995,
           13521,
           18484,
           11842,
           10927,
           14123,
           19698,
           7596,
           18559,
           12545,
           12451,
           13717,
           21253,
           11784,
           9109
          ]
         },
         "mode": "markers",
         "text": [
          "English|1382",
          "French|204",
          "German|190",
          "Japanese|100",
          "English, Spanish|78",
          "Spanish|71",
          "Korean|51",
          "English, French|51",
          "French, English|45",
          "Turkish|45",
          "Mandarin|33",
          "German, English|29",
          "English, Russian|24",
          "English, German|24",
          "Norwegian|23",
          "Dutch|21",
          "Danish|21",
          "Russian|18",
          "Italian|18",
          "Swedish|18",
          "English, Japanese|18",
          "Icelandic|15",
          "Cantonese|13",
          "English, Ukrainian|13",
          "English, Italian|13",
          "Thai|12",
          "English, Arabic|11",
          "Hindi|11",
          "English, Mandarin|11",
          "Portuguese|10",
          "Japanese, English|10",
          "Spanish, English|10",
          "English, Portuguese|9",
          "French, German|8",
          "Mandarin, English|8",
          "German, Turkish|7",
          "Mandarin, Cantonese|7",
          "Cantonese, English|7",
          "Korean, English|6",
          "Chinese|6",
          "English, French, Italian|6",
          "French, Arabic|6",
          "Swedish, English|5",
          "Polish|5",
          "English, Chinese|5",
          "French, Italian|5",
          "Norwegian, English|5",
          "English, French, German|5",
          "English, Greek|5",
          "Greek|5",
          "English, Latin|5",
          "English, Korean|5",
          "Swiss German|5",
          "English, Hebrew|5",
          "English, Thai|4",
          "Thai, English|4",
          "Arabic, French|4",
          "Russian, English|4",
          "Cantonese, Mandarin|4",
          "Dutch, English|4",
          "Arabic|4",
          "French, Spanish|4",
          "English, Arabic, Hebrew|4",
          "English, Italian, Spanish|4",
          "Romanian|4",
          "Vietnamese|3",
          "French, English, Italian|3",
          "French, German, English|3",
          "English, Cantonese|3",
          "Norwegian, Swedish|3",
          "English, Serbo-Croatian|3",
          "German, French|3",
          "Hebrew|3",
          "German, Russian, English|3",
          "English, Russian, French|3",
          "Turkish, English|3",
          "Korean, Mandarin|3",
          "English, Mandarin, Cantonese|3",
          "Finnish|3",
          "German, Italian|3",
          "Norwegian, German|3",
          "Filipino, Tagalog|3",
          "Mandarin, Cantonese, English|3",
          "Hindi, English|3",
          "English, Klingon|3",
          "Japanese, Mandarin|3",
          "Polish, English|3",
          "French, Arabic, English|3",
          "English, Spanish, Russian|3",
          "Cantonese, Mandarin, English|3",
          "Min Nan, Mandarin|2",
          "French, Spanish, English|2",
          "Icelandic, English, German|2",
          "Cantonese, English, Mandarin|2",
          "English, Bulgarian|2",
          "English, Swedish|2",
          "French, English, German|2",
          "Italian, German|2",
          "German, French, English|2",
          "English, Afrikaans|2",
          "English, Dutch|2",
          "English, Danish|2",
          "English, Irish|2",
          "Mandarin, Mongolian|2",
          "German, French, Latin|2",
          "Persian|2",
          "French, English, Ukrainian|2",
          "Italian, English|2",
          "English, Japanese, French|2",
          "Spanish, English, French|2",
          "Italian, English, French|2",
          "Indonesian|2",
          "English, German, Hebrew|2",
          "German, Russian|2",
          "English, Japanese, Chinese|2",
          "Norwegian, English, German|2",
          "Spanish, French|2",
          "Georgian|2",
          "Hebrew, Arabic|2",
          "Czech|2",
          "Lithuanian|2",
          "Greek, English|2",
          "English, Hindi|2",
          "Serbian|2",
          "English, French, Russian|2",
          "English, Khmer|2",
          "Kirghiz|2",
          "Malay|2",
          "English, Vietnamese|2",
          "Swedish, Finnish|2",
          "English, Indonesian|2",
          "Spanish, Catalan|2",
          "French, English, Russian|2",
          "Korean, Japanese|2",
          "French, English, Latin|2",
          "Indonesian, English|2",
          "English, Somali|2",
          "English, Serbian|2",
          "English, Scottish Gaelic|2",
          "English, American Sign Language|2",
          "French, English, Japanese|2",
          "Flemish, French, Dutch|2",
          "English, Icelandic|2"
         ],
         "type": "scatter",
         "x": [
          -2.8225724697113037,
          -1.267831802368164,
          -3.3055479526519775,
          0.43022558093070984,
          -3.1748218536376953,
          -0.8024555444717407,
          0.47234097123146057,
          -2.3574960231781006,
          -1.5854946374893188,
          1.1229674816131592,
          1.6934151649475098,
          -3.194664239883423,
          -2.782473087310791,
          -2.961880922317505,
          -1.8652499914169312,
          -2.7879815101623535,
          -2.1944098472595215,
          0.7048152685165405,
          -0.9466709494590759,
          -1.9969831705093384,
          -2.2375776767730713,
          -2.2288875579833984,
          1.2870419025421143,
          -3.2098662853240967,
          -2.277451515197754,
          1.1274018287658691,
          -2.757145881652832,
          1.2790435552597046,
          -3.2051141262054443,
          0.28006231784820557,
          0.5491364002227783,
          -0.8686351776123047,
          -2.991666078567505,
          -1.9710592031478882,
          1.503240942955017,
          -3.46272873878479,
          1.9615713357925415,
          1.2433176040649414,
          0.5782308578491211,
          1.519981026649475,
          -2.4740238189697266,
          -0.4533262550830841,
          -1.558894395828247,
          1.7349052429199219,
          -1.6749969720840454,
          -0.5231860876083374,
          -2.0135231018066406,
          -2.568882942199707,
          -3.46077036857605,
          1.2076139450073242,
          -2.6278438568115234,
          -2.238642454147339,
          -1.2065385580062866,
          -3.0396487712860107,
          -3.2874176502227783,
          0.9177218675613403,
          -0.8506500720977783,
          0.8351194858551025,
          1.58106529712677,
          -2.953646421432495,
          1.1765049695968628,
          -1.6008495092391968,
          -0.8677802085876465,
          -1.6352264881134033,
          -0.8650307059288025,
          1.658843994140625,
          -1.4043428897857666,
          -2.2018189430236816,
          -2.6017251014709473,
          -1.728926181793213,
          -2.751847505569458,
          -2.2988102436065674,
          0.5326938629150391,
          -3.124269485473633,
          -1.0620884895324707,
          0.8354244232177734,
          0.8462498188018799,
          -2.372687816619873,
          -0.01827581785619259,
          -3.1626944541931152,
          -2.8814594745635986,
          0.5597620606422424,
          2.0657660961151123,
          0.963764488697052,
          -2.4431259632110596,
          0.7895092368125916,
          -0.508616030216217,
          1.4866347312927246,
          -1.4027881622314453,
          1.4279659986495972,
          1.5929367542266846,
          -0.767909049987793,
          -1.9572099447250366,
          -1.9234853982925415,
          -1.4349642992019653,
          -2.546581745147705,
          -1.3648786544799805,
          -3.5437419414520264,
          -2.464350938796997,
          -2.9315810203552246,
          -1.2895323038101196,
          -2.085226058959961,
          -1.9791620969772339,
          2.003694534301758,
          -3.049199104309082,
          1.278557300567627,
          -1.3024331331253052,
          0.2214539349079132,
          -2.180370569229126,
          -0.0757884830236435,
          -1.4957917928695679,
          0.742034912109375,
          -1.9618440866470337,
          -3.5423033237457275,
          -1.963873267173767,
          -2.5425195693969727,
          -0.5368992686271667,
          -0.06308867782354355,
          -3.477199077606201,
          1.7294566631317139,
          -1.6446266174316406,
          -0.8445606231689453,
          -2.569920301437378,
          -2.664891481399536,
          -2.8518457412719727,
          -3.1636085510253906,
          0.165693461894989,
          1.371848464012146,
          -2.522176504135132,
          -1.4236849546432495,
          -1.2035973072052002,
          -0.8127643465995789,
          -0.6839046478271484,
          0.4951038062572479,
          -1.83781099319458,
          0.292836457490921,
          -3.4570460319519043,
          -2.1980743408203125,
          -3.1204099655151367,
          -3.2704989910125732,
          -1.7404704093933105,
          -2.316455602645874,
          -2.134730100631714
         ],
         "y": [
          3.474811553955078,
          1.1785093545913696,
          1.232850432395935,
          2.047917604446411,
          4.287125110626221,
          1.9290902614593506,
          2.436546802520752,
          3.1028518676757812,
          1.709570288658142,
          1.488376259803772,
          1.901672601699829,
          1.4288125038146973,
          4.489465713500977,
          3.5070629119873047,
          0.2701224386692047,
          0.9671079516410828,
          0.7970609664916992,
          1.7769893407821655,
          1.3835583925247192,
          0.49414050579071045,
          4.184962749481201,
          0.4524010717868805,
          2.3581719398498535,
          4.316544532775879,
          2.672196388244629,
          2.0821406841278076,
          4.380448818206787,
          2.7415518760681152,
          3.9165232181549072,
          1.5926121473312378,
          2.259525775909424,
          2.4775428771972656,
          3.7219254970550537,
          1.583673357963562,
          2.014773368835449,
          0.9407623410224915,
          2.3361401557922363,
          2.6050336360931396,
          2.7561111450195312,
          1.6071398258209229,
          4.6336350440979,
          1.352533221244812,
          0.6407184600830078,
          2.1159188747406006,
          3.7214932441711426,
          1.4465086460113525,
          0.15350323915481567,
          2.799896001815796,
          4.230161190032959,
          1.7907874584197998,
          3.2515830993652344,
          3.6407694816589355,
          0.4356025457382202,
          4.581104278564453,
          4.281473159790039,
          2.2506771087646484,
          1.1191041469573975,
          1.9890203475952148,
          2.399585008621216,
          1.8563930988311768,
          1.308869481086731,
          1.5321409702301025,
          2.1373796463012695,
          3.5759096145629883,
          0.8571177124977112,
          1.8719574213027954,
          1.2956962585449219,
          1.7811803817749023,
          3.7880680561065674,
          0.24918600916862488,
          3.7757956981658936,
          1.9218614101409912,
          1.071234941482544,
          1.324588418006897,
          2.714268684387207,
          1.3240537643432617,
          2.656094551086426,
          4.313990116119385,
          1.9648418426513672,
          1.1068023443222046,
          0.910376787185669,
          1.8539371490478516,
          2.181617498397827,
          2.937502145767212,
          3.705073356628418,
          2.4330782890319824,
          2.1672074794769287,
          1.2215458154678345,
          3.3666672706604004,
          2.451327085494995,
          1.7923885583877563,
          1.6794333457946777,
          0.3695548474788666,
          1.2811344861984253,
          1.945338487625122,
          2.818086624145508,
          1.2365658283233643,
          1.484108567237854,
          1.708977222442627,
          4.051693439483643,
          2.335015296936035,
          2.5705368518829346,
          3.066852569580078,
          2.4546737670898438,
          1.629941701889038,
          1.0780541896820068,
          1.7334715127944946,
          1.43734610080719,
          4.306912899017334,
          2.4341073036193848,
          1.0680853128433228,
          2.9948596954345703,
          2.8598241806030273,
          1.27084481716156,
          4.040676593780518,
          0.6198596954345703,
          1.0782619714736938,
          1.1014615297317505,
          0.953826904296875,
          1.6303738355636597,
          0.12274425476789474,
          1.2874053716659546,
          4.621881484985352,
          1.153219223022461,
          3.8746988773345947,
          4.443120956420898,
          1.2387019395828247,
          2.172023057937622,
          4.199278354644775,
          0.5974920392036438,
          2.886255979537964,
          1.6527676582336426,
          2.001300811767578,
          1.9487112760543823,
          0.982782244682312,
          2.5423216819763184,
          4.0880022048950195,
          3.5735960006713867,
          4.2777581214904785,
          1.7195699214935303,
          1.6936572790145874,
          1.1433429718017578,
          0.591256856918335
         ]
        }
       ],
       "layout": {
        "template": {
         "data": {
          "bar": [
           {
            "error_x": {
             "color": "#2a3f5f"
            },
            "error_y": {
             "color": "#2a3f5f"
            },
            "marker": {
             "line": {
              "color": "#E5ECF6",
              "width": 0.5
             }
            },
            "type": "bar"
           }
          ],
          "barpolar": [
           {
            "marker": {
             "line": {
              "color": "#E5ECF6",
              "width": 0.5
             }
            },
            "type": "barpolar"
           }
          ],
          "carpet": [
           {
            "aaxis": {
             "endlinecolor": "#2a3f5f",
             "gridcolor": "white",
             "linecolor": "white",
             "minorgridcolor": "white",
             "startlinecolor": "#2a3f5f"
            },
            "baxis": {
             "endlinecolor": "#2a3f5f",
             "gridcolor": "white",
             "linecolor": "white",
             "minorgridcolor": "white",
             "startlinecolor": "#2a3f5f"
            },
            "type": "carpet"
           }
          ],
          "choropleth": [
           {
            "colorbar": {
             "outlinewidth": 0,
             "ticks": ""
            },
            "type": "choropleth"
           }
          ],
          "contour": [
           {
            "colorbar": {
             "outlinewidth": 0,
             "ticks": ""
            },
            "colorscale": [
             [
              0,
              "#0d0887"
             ],
             [
              0.1111111111111111,
              "#46039f"
             ],
             [
              0.2222222222222222,
              "#7201a8"
             ],
             [
              0.3333333333333333,
              "#9c179e"
             ],
             [
              0.4444444444444444,
              "#bd3786"
             ],
             [
              0.5555555555555556,
              "#d8576b"
             ],
             [
              0.6666666666666666,
              "#ed7953"
             ],
             [
              0.7777777777777778,
              "#fb9f3a"
             ],
             [
              0.8888888888888888,
              "#fdca26"
             ],
             [
              1,
              "#f0f921"
             ]
            ],
            "type": "contour"
           }
          ],
          "contourcarpet": [
           {
            "colorbar": {
             "outlinewidth": 0,
             "ticks": ""
            },
            "type": "contourcarpet"
           }
          ],
          "heatmap": [
           {
            "colorbar": {
             "outlinewidth": 0,
             "ticks": ""
            },
            "colorscale": [
             [
              0,
              "#0d0887"
             ],
             [
              0.1111111111111111,
              "#46039f"
             ],
             [
              0.2222222222222222,
              "#7201a8"
             ],
             [
              0.3333333333333333,
              "#9c179e"
             ],
             [
              0.4444444444444444,
              "#bd3786"
             ],
             [
              0.5555555555555556,
              "#d8576b"
             ],
             [
              0.6666666666666666,
              "#ed7953"
             ],
             [
              0.7777777777777778,
              "#fb9f3a"
             ],
             [
              0.8888888888888888,
              "#fdca26"
             ],
             [
              1,
              "#f0f921"
             ]
            ],
            "type": "heatmap"
           }
          ],
          "heatmapgl": [
           {
            "colorbar": {
             "outlinewidth": 0,
             "ticks": ""
            },
            "colorscale": [
             [
              0,
              "#0d0887"
             ],
             [
              0.1111111111111111,
              "#46039f"
             ],
             [
              0.2222222222222222,
              "#7201a8"
             ],
             [
              0.3333333333333333,
              "#9c179e"
             ],
             [
              0.4444444444444444,
              "#bd3786"
             ],
             [
              0.5555555555555556,
              "#d8576b"
             ],
             [
              0.6666666666666666,
              "#ed7953"
             ],
             [
              0.7777777777777778,
              "#fb9f3a"
             ],
             [
              0.8888888888888888,
              "#fdca26"
             ],
             [
              1,
              "#f0f921"
             ]
            ],
            "type": "heatmapgl"
           }
          ],
          "histogram": [
           {
            "marker": {
             "colorbar": {
              "outlinewidth": 0,
              "ticks": ""
             }
            },
            "type": "histogram"
           }
          ],
          "histogram2d": [
           {
            "colorbar": {
             "outlinewidth": 0,
             "ticks": ""
            },
            "colorscale": [
             [
              0,
              "#0d0887"
             ],
             [
              0.1111111111111111,
              "#46039f"
             ],
             [
              0.2222222222222222,
              "#7201a8"
             ],
             [
              0.3333333333333333,
              "#9c179e"
             ],
             [
              0.4444444444444444,
              "#bd3786"
             ],
             [
              0.5555555555555556,
              "#d8576b"
             ],
             [
              0.6666666666666666,
              "#ed7953"
             ],
             [
              0.7777777777777778,
              "#fb9f3a"
             ],
             [
              0.8888888888888888,
              "#fdca26"
             ],
             [
              1,
              "#f0f921"
             ]
            ],
            "type": "histogram2d"
           }
          ],
          "histogram2dcontour": [
           {
            "colorbar": {
             "outlinewidth": 0,
             "ticks": ""
            },
            "colorscale": [
             [
              0,
              "#0d0887"
             ],
             [
              0.1111111111111111,
              "#46039f"
             ],
             [
              0.2222222222222222,
              "#7201a8"
             ],
             [
              0.3333333333333333,
              "#9c179e"
             ],
             [
              0.4444444444444444,
              "#bd3786"
             ],
             [
              0.5555555555555556,
              "#d8576b"
             ],
             [
              0.6666666666666666,
              "#ed7953"
             ],
             [
              0.7777777777777778,
              "#fb9f3a"
             ],
             [
              0.8888888888888888,
              "#fdca26"
             ],
             [
              1,
              "#f0f921"
             ]
            ],
            "type": "histogram2dcontour"
           }
          ],
          "mesh3d": [
           {
            "colorbar": {
             "outlinewidth": 0,
             "ticks": ""
            },
            "type": "mesh3d"
           }
          ],
          "parcoords": [
           {
            "line": {
             "colorbar": {
              "outlinewidth": 0,
              "ticks": ""
             }
            },
            "type": "parcoords"
           }
          ],
          "pie": [
           {
            "automargin": true,
            "type": "pie"
           }
          ],
          "scatter": [
           {
            "marker": {
             "colorbar": {
              "outlinewidth": 0,
              "ticks": ""
             }
            },
            "type": "scatter"
           }
          ],
          "scatter3d": [
           {
            "line": {
             "colorbar": {
              "outlinewidth": 0,
              "ticks": ""
             }
            },
            "marker": {
             "colorbar": {
              "outlinewidth": 0,
              "ticks": ""
             }
            },
            "type": "scatter3d"
           }
          ],
          "scattercarpet": [
           {
            "marker": {
             "colorbar": {
              "outlinewidth": 0,
              "ticks": ""
             }
            },
            "type": "scattercarpet"
           }
          ],
          "scattergeo": [
           {
            "marker": {
             "colorbar": {
              "outlinewidth": 0,
              "ticks": ""
             }
            },
            "type": "scattergeo"
           }
          ],
          "scattergl": [
           {
            "marker": {
             "colorbar": {
              "outlinewidth": 0,
              "ticks": ""
             }
            },
            "type": "scattergl"
           }
          ],
          "scattermapbox": [
           {
            "marker": {
             "colorbar": {
              "outlinewidth": 0,
              "ticks": ""
             }
            },
            "type": "scattermapbox"
           }
          ],
          "scatterpolar": [
           {
            "marker": {
             "colorbar": {
              "outlinewidth": 0,
              "ticks": ""
             }
            },
            "type": "scatterpolar"
           }
          ],
          "scatterpolargl": [
           {
            "marker": {
             "colorbar": {
              "outlinewidth": 0,
              "ticks": ""
             }
            },
            "type": "scatterpolargl"
           }
          ],
          "scatterternary": [
           {
            "marker": {
             "colorbar": {
              "outlinewidth": 0,
              "ticks": ""
             }
            },
            "type": "scatterternary"
           }
          ],
          "surface": [
           {
            "colorbar": {
             "outlinewidth": 0,
             "ticks": ""
            },
            "colorscale": [
             [
              0,
              "#0d0887"
             ],
             [
              0.1111111111111111,
              "#46039f"
             ],
             [
              0.2222222222222222,
              "#7201a8"
             ],
             [
              0.3333333333333333,
              "#9c179e"
             ],
             [
              0.4444444444444444,
              "#bd3786"
             ],
             [
              0.5555555555555556,
              "#d8576b"
             ],
             [
              0.6666666666666666,
              "#ed7953"
             ],
             [
              0.7777777777777778,
              "#fb9f3a"
             ],
             [
              0.8888888888888888,
              "#fdca26"
             ],
             [
              1,
              "#f0f921"
             ]
            ],
            "type": "surface"
           }
          ],
          "table": [
           {
            "cells": {
             "fill": {
              "color": "#EBF0F8"
             },
             "line": {
              "color": "white"
             }
            },
            "header": {
             "fill": {
              "color": "#C8D4E3"
             },
             "line": {
              "color": "white"
             }
            },
            "type": "table"
           }
          ]
         },
         "layout": {
          "annotationdefaults": {
           "arrowcolor": "#2a3f5f",
           "arrowhead": 0,
           "arrowwidth": 1
          },
          "coloraxis": {
           "colorbar": {
            "outlinewidth": 0,
            "ticks": ""
           }
          },
          "colorscale": {
           "diverging": [
            [
             0,
             "#8e0152"
            ],
            [
             0.1,
             "#c51b7d"
            ],
            [
             0.2,
             "#de77ae"
            ],
            [
             0.3,
             "#f1b6da"
            ],
            [
             0.4,
             "#fde0ef"
            ],
            [
             0.5,
             "#f7f7f7"
            ],
            [
             0.6,
             "#e6f5d0"
            ],
            [
             0.7,
             "#b8e186"
            ],
            [
             0.8,
             "#7fbc41"
            ],
            [
             0.9,
             "#4d9221"
            ],
            [
             1,
             "#276419"
            ]
           ],
           "sequential": [
            [
             0,
             "#0d0887"
            ],
            [
             0.1111111111111111,
             "#46039f"
            ],
            [
             0.2222222222222222,
             "#7201a8"
            ],
            [
             0.3333333333333333,
             "#9c179e"
            ],
            [
             0.4444444444444444,
             "#bd3786"
            ],
            [
             0.5555555555555556,
             "#d8576b"
            ],
            [
             0.6666666666666666,
             "#ed7953"
            ],
            [
             0.7777777777777778,
             "#fb9f3a"
            ],
            [
             0.8888888888888888,
             "#fdca26"
            ],
            [
             1,
             "#f0f921"
            ]
           ],
           "sequentialminus": [
            [
             0,
             "#0d0887"
            ],
            [
             0.1111111111111111,
             "#46039f"
            ],
            [
             0.2222222222222222,
             "#7201a8"
            ],
            [
             0.3333333333333333,
             "#9c179e"
            ],
            [
             0.4444444444444444,
             "#bd3786"
            ],
            [
             0.5555555555555556,
             "#d8576b"
            ],
            [
             0.6666666666666666,
             "#ed7953"
            ],
            [
             0.7777777777777778,
             "#fb9f3a"
            ],
            [
             0.8888888888888888,
             "#fdca26"
            ],
            [
             1,
             "#f0f921"
            ]
           ]
          },
          "colorway": [
           "#636efa",
           "#EF553B",
           "#00cc96",
           "#ab63fa",
           "#FFA15A",
           "#19d3f3",
           "#FF6692",
           "#B6E880",
           "#FF97FF",
           "#FECB52"
          ],
          "font": {
           "color": "#2a3f5f"
          },
          "geo": {
           "bgcolor": "white",
           "lakecolor": "white",
           "landcolor": "#E5ECF6",
           "showlakes": true,
           "showland": true,
           "subunitcolor": "white"
          },
          "hoverlabel": {
           "align": "left"
          },
          "hovermode": "closest",
          "mapbox": {
           "style": "light"
          },
          "paper_bgcolor": "white",
          "plot_bgcolor": "#E5ECF6",
          "polar": {
           "angularaxis": {
            "gridcolor": "white",
            "linecolor": "white",
            "ticks": ""
           },
           "bgcolor": "#E5ECF6",
           "radialaxis": {
            "gridcolor": "white",
            "linecolor": "white",
            "ticks": ""
           }
          },
          "scene": {
           "xaxis": {
            "backgroundcolor": "#E5ECF6",
            "gridcolor": "white",
            "gridwidth": 2,
            "linecolor": "white",
            "showbackground": true,
            "ticks": "",
            "zerolinecolor": "white"
           },
           "yaxis": {
            "backgroundcolor": "#E5ECF6",
            "gridcolor": "white",
            "gridwidth": 2,
            "linecolor": "white",
            "showbackground": true,
            "ticks": "",
            "zerolinecolor": "white"
           },
           "zaxis": {
            "backgroundcolor": "#E5ECF6",
            "gridcolor": "white",
            "gridwidth": 2,
            "linecolor": "white",
            "showbackground": true,
            "ticks": "",
            "zerolinecolor": "white"
           }
          },
          "shapedefaults": {
           "line": {
            "color": "#2a3f5f"
           }
          },
          "ternary": {
           "aaxis": {
            "gridcolor": "white",
            "linecolor": "white",
            "ticks": ""
           },
           "baxis": {
            "gridcolor": "white",
            "linecolor": "white",
            "ticks": ""
           },
           "bgcolor": "#E5ECF6",
           "caxis": {
            "gridcolor": "white",
            "linecolor": "white",
            "ticks": ""
           }
          },
          "title": {
           "x": 0.05
          },
          "xaxis": {
           "automargin": true,
           "gridcolor": "white",
           "linecolor": "white",
           "ticks": "",
           "title": {
            "standoff": 15
           },
           "zerolinecolor": "white",
           "zerolinewidth": 2
          },
          "yaxis": {
           "automargin": true,
           "gridcolor": "white",
           "linecolor": "white",
           "ticks": "",
           "title": {
            "standoff": 15
           },
           "zerolinecolor": "white",
           "zerolinewidth": 2
          }
         }
        }
       }
      },
      "text/html": [
       "<div>\n",
       "        \n",
       "        \n",
       "            <div id=\"f4e73580-07bf-4bc1-84e2-372bdb7087fd\" class=\"plotly-graph-div\" style=\"height:525px; width:100%;\"></div>\n",
       "            <script type=\"text/javascript\">\n",
       "                require([\"plotly\"], function(Plotly) {\n",
       "                    window.PLOTLYENV=window.PLOTLYENV || {};\n",
       "                    \n",
       "                if (document.getElementById(\"f4e73580-07bf-4bc1-84e2-372bdb7087fd\")) {\n",
       "                    Plotly.newPlot(\n",
       "                        'f4e73580-07bf-4bc1-84e2-372bdb7087fd',\n",
       "                        [{\"marker\": {\"color\": [12181830, 1589231, 1676394, 670914, 810080, 532378, 395234, 484261, 361604, 485290, 237221, 243233, 240343, 207250, 147740, 156794, 144459, 118492, 143324, 136157, 126810, 98198, 95279, 135981, 147809, 78349, 137156, 105164, 100770, 73679, 57035, 69555, 83374, 58867, 54356, 45473, 47078, 41719, 38277, 44621, 42856, 45145, 43172, 29621, 34642, 36370, 29945, 57788, 42901, 26038, 42262, 52111, 30327, 67385, 30004, 22157, 25831, 31430, 27401, 27648, 33941, 28061, 21666, 38116, 31173, 13983, 27726, 21840, 26624, 19584, 29447, 35228, 19688, 20252, 23952, 52498, 20866, 36079, 22039, 26734, 22602, 23903, 21238, 35653, 32539, 21221, 19261, 22517, 23147, 21816, 13164, 11333, 15881, 17341, 9396, 21211, 16305, 14999, 10508, 14246, 21524, 18338, 12726, 13603, 25993, 18926, 13120, 13940, 24745, 12530, 13583, 7993, 24351, 13640, 16776, 12616, 17763, 23917, 12785, 10994, 7191, 10551, 27482, 14593, 18289, 24143, 8239, 11396, 19995, 13521, 18484, 11842, 10927, 14123, 19698, 7596, 18559, 12545, 12451, 13717, 21253, 11784, 9109]}, \"mode\": \"markers\", \"text\": [\"English|1382\", \"French|204\", \"German|190\", \"Japanese|100\", \"English, Spanish|78\", \"Spanish|71\", \"Korean|51\", \"English, French|51\", \"French, English|45\", \"Turkish|45\", \"Mandarin|33\", \"German, English|29\", \"English, Russian|24\", \"English, German|24\", \"Norwegian|23\", \"Dutch|21\", \"Danish|21\", \"Russian|18\", \"Italian|18\", \"Swedish|18\", \"English, Japanese|18\", \"Icelandic|15\", \"Cantonese|13\", \"English, Ukrainian|13\", \"English, Italian|13\", \"Thai|12\", \"English, Arabic|11\", \"Hindi|11\", \"English, Mandarin|11\", \"Portuguese|10\", \"Japanese, English|10\", \"Spanish, English|10\", \"English, Portuguese|9\", \"French, German|8\", \"Mandarin, English|8\", \"German, Turkish|7\", \"Mandarin, Cantonese|7\", \"Cantonese, English|7\", \"Korean, English|6\", \"Chinese|6\", \"English, French, Italian|6\", \"French, Arabic|6\", \"Swedish, English|5\", \"Polish|5\", \"English, Chinese|5\", \"French, Italian|5\", \"Norwegian, English|5\", \"English, French, German|5\", \"English, Greek|5\", \"Greek|5\", \"English, Latin|5\", \"English, Korean|5\", \"Swiss German|5\", \"English, Hebrew|5\", \"English, Thai|4\", \"Thai, English|4\", \"Arabic, French|4\", \"Russian, English|4\", \"Cantonese, Mandarin|4\", \"Dutch, English|4\", \"Arabic|4\", \"French, Spanish|4\", \"English, Arabic, Hebrew|4\", \"English, Italian, Spanish|4\", \"Romanian|4\", \"Vietnamese|3\", \"French, English, Italian|3\", \"French, German, English|3\", \"English, Cantonese|3\", \"Norwegian, Swedish|3\", \"English, Serbo-Croatian|3\", \"German, French|3\", \"Hebrew|3\", \"German, Russian, English|3\", \"English, Russian, French|3\", \"Turkish, English|3\", \"Korean, Mandarin|3\", \"English, Mandarin, Cantonese|3\", \"Finnish|3\", \"German, Italian|3\", \"Norwegian, German|3\", \"Filipino, Tagalog|3\", \"Mandarin, Cantonese, English|3\", \"Hindi, English|3\", \"English, Klingon|3\", \"Japanese, Mandarin|3\", \"Polish, English|3\", \"French, Arabic, English|3\", \"English, Spanish, Russian|3\", \"Cantonese, Mandarin, English|3\", \"Min Nan, Mandarin|2\", \"French, Spanish, English|2\", \"Icelandic, English, German|2\", \"Cantonese, English, Mandarin|2\", \"English, Bulgarian|2\", \"English, Swedish|2\", \"French, English, German|2\", \"Italian, German|2\", \"German, French, English|2\", \"English, Afrikaans|2\", \"English, Dutch|2\", \"English, Danish|2\", \"English, Irish|2\", \"Mandarin, Mongolian|2\", \"German, French, Latin|2\", \"Persian|2\", \"French, English, Ukrainian|2\", \"Italian, English|2\", \"English, Japanese, French|2\", \"Spanish, English, French|2\", \"Italian, English, French|2\", \"Indonesian|2\", \"English, German, Hebrew|2\", \"German, Russian|2\", \"English, Japanese, Chinese|2\", \"Norwegian, English, German|2\", \"Spanish, French|2\", \"Georgian|2\", \"Hebrew, Arabic|2\", \"Czech|2\", \"Lithuanian|2\", \"Greek, English|2\", \"English, Hindi|2\", \"Serbian|2\", \"English, French, Russian|2\", \"English, Khmer|2\", \"Kirghiz|2\", \"Malay|2\", \"English, Vietnamese|2\", \"Swedish, Finnish|2\", \"English, Indonesian|2\", \"Spanish, Catalan|2\", \"French, English, Russian|2\", \"Korean, Japanese|2\", \"French, English, Latin|2\", \"Indonesian, English|2\", \"English, Somali|2\", \"English, Serbian|2\", \"English, Scottish Gaelic|2\", \"English, American Sign Language|2\", \"French, English, Japanese|2\", \"Flemish, French, Dutch|2\", \"English, Icelandic|2\"], \"type\": \"scatter\", \"x\": [-2.8225724697113037, -1.267831802368164, -3.3055479526519775, 0.43022558093070984, -3.1748218536376953, -0.8024555444717407, 0.47234097123146057, -2.3574960231781006, -1.5854946374893188, 1.1229674816131592, 1.6934151649475098, -3.194664239883423, -2.782473087310791, -2.961880922317505, -1.8652499914169312, -2.7879815101623535, -2.1944098472595215, 0.7048152685165405, -0.9466709494590759, -1.9969831705093384, -2.2375776767730713, -2.2288875579833984, 1.2870419025421143, -3.2098662853240967, -2.277451515197754, 1.1274018287658691, -2.757145881652832, 1.2790435552597046, -3.2051141262054443, 0.28006231784820557, 0.5491364002227783, -0.8686351776123047, -2.991666078567505, -1.9710592031478882, 1.503240942955017, -3.46272873878479, 1.9615713357925415, 1.2433176040649414, 0.5782308578491211, 1.519981026649475, -2.4740238189697266, -0.4533262550830841, -1.558894395828247, 1.7349052429199219, -1.6749969720840454, -0.5231860876083374, -2.0135231018066406, -2.568882942199707, -3.46077036857605, 1.2076139450073242, -2.6278438568115234, -2.238642454147339, -1.2065385580062866, -3.0396487712860107, -3.2874176502227783, 0.9177218675613403, -0.8506500720977783, 0.8351194858551025, 1.58106529712677, -2.953646421432495, 1.1765049695968628, -1.6008495092391968, -0.8677802085876465, -1.6352264881134033, -0.8650307059288025, 1.658843994140625, -1.4043428897857666, -2.2018189430236816, -2.6017251014709473, -1.728926181793213, -2.751847505569458, -2.2988102436065674, 0.5326938629150391, -3.124269485473633, -1.0620884895324707, 0.8354244232177734, 0.8462498188018799, -2.372687816619873, -0.01827581785619259, -3.1626944541931152, -2.8814594745635986, 0.5597620606422424, 2.0657660961151123, 0.963764488697052, -2.4431259632110596, 0.7895092368125916, -0.508616030216217, 1.4866347312927246, -1.4027881622314453, 1.4279659986495972, 1.5929367542266846, -0.767909049987793, -1.9572099447250366, -1.9234853982925415, -1.4349642992019653, -2.546581745147705, -1.3648786544799805, -3.5437419414520264, -2.464350938796997, -2.9315810203552246, -1.2895323038101196, -2.085226058959961, -1.9791620969772339, 2.003694534301758, -3.049199104309082, 1.278557300567627, -1.3024331331253052, 0.2214539349079132, -2.180370569229126, -0.0757884830236435, -1.4957917928695679, 0.742034912109375, -1.9618440866470337, -3.5423033237457275, -1.963873267173767, -2.5425195693969727, -0.5368992686271667, -0.06308867782354355, -3.477199077606201, 1.7294566631317139, -1.6446266174316406, -0.8445606231689453, -2.569920301437378, -2.664891481399536, -2.8518457412719727, -3.1636085510253906, 0.165693461894989, 1.371848464012146, -2.522176504135132, -1.4236849546432495, -1.2035973072052002, -0.8127643465995789, -0.6839046478271484, 0.4951038062572479, -1.83781099319458, 0.292836457490921, -3.4570460319519043, -2.1980743408203125, -3.1204099655151367, -3.2704989910125732, -1.7404704093933105, -2.316455602645874, -2.134730100631714], \"y\": [3.474811553955078, 1.1785093545913696, 1.232850432395935, 2.047917604446411, 4.287125110626221, 1.9290902614593506, 2.436546802520752, 3.1028518676757812, 1.709570288658142, 1.488376259803772, 1.901672601699829, 1.4288125038146973, 4.489465713500977, 3.5070629119873047, 0.2701224386692047, 0.9671079516410828, 0.7970609664916992, 1.7769893407821655, 1.3835583925247192, 0.49414050579071045, 4.184962749481201, 0.4524010717868805, 2.3581719398498535, 4.316544532775879, 2.672196388244629, 2.0821406841278076, 4.380448818206787, 2.7415518760681152, 3.9165232181549072, 1.5926121473312378, 2.259525775909424, 2.4775428771972656, 3.7219254970550537, 1.583673357963562, 2.014773368835449, 0.9407623410224915, 2.3361401557922363, 2.6050336360931396, 2.7561111450195312, 1.6071398258209229, 4.6336350440979, 1.352533221244812, 0.6407184600830078, 2.1159188747406006, 3.7214932441711426, 1.4465086460113525, 0.15350323915481567, 2.799896001815796, 4.230161190032959, 1.7907874584197998, 3.2515830993652344, 3.6407694816589355, 0.4356025457382202, 4.581104278564453, 4.281473159790039, 2.2506771087646484, 1.1191041469573975, 1.9890203475952148, 2.399585008621216, 1.8563930988311768, 1.308869481086731, 1.5321409702301025, 2.1373796463012695, 3.5759096145629883, 0.8571177124977112, 1.8719574213027954, 1.2956962585449219, 1.7811803817749023, 3.7880680561065674, 0.24918600916862488, 3.7757956981658936, 1.9218614101409912, 1.071234941482544, 1.324588418006897, 2.714268684387207, 1.3240537643432617, 2.656094551086426, 4.313990116119385, 1.9648418426513672, 1.1068023443222046, 0.910376787185669, 1.8539371490478516, 2.181617498397827, 2.937502145767212, 3.705073356628418, 2.4330782890319824, 2.1672074794769287, 1.2215458154678345, 3.3666672706604004, 2.451327085494995, 1.7923885583877563, 1.6794333457946777, 0.3695548474788666, 1.2811344861984253, 1.945338487625122, 2.818086624145508, 1.2365658283233643, 1.484108567237854, 1.708977222442627, 4.051693439483643, 2.335015296936035, 2.5705368518829346, 3.066852569580078, 2.4546737670898438, 1.629941701889038, 1.0780541896820068, 1.7334715127944946, 1.43734610080719, 4.306912899017334, 2.4341073036193848, 1.0680853128433228, 2.9948596954345703, 2.8598241806030273, 1.27084481716156, 4.040676593780518, 0.6198596954345703, 1.0782619714736938, 1.1014615297317505, 0.953826904296875, 1.6303738355636597, 0.12274425476789474, 1.2874053716659546, 4.621881484985352, 1.153219223022461, 3.8746988773345947, 4.443120956420898, 1.2387019395828247, 2.172023057937622, 4.199278354644775, 0.5974920392036438, 2.886255979537964, 1.6527676582336426, 2.001300811767578, 1.9487112760543823, 0.982782244682312, 2.5423216819763184, 4.0880022048950195, 3.5735960006713867, 4.2777581214904785, 1.7195699214935303, 1.6936572790145874, 1.1433429718017578, 0.591256856918335]}],\n",
       "                        {\"template\": {\"data\": {\"bar\": [{\"error_x\": {\"color\": \"#2a3f5f\"}, \"error_y\": {\"color\": \"#2a3f5f\"}, \"marker\": {\"line\": {\"color\": \"#E5ECF6\", \"width\": 0.5}}, \"type\": \"bar\"}], \"barpolar\": [{\"marker\": {\"line\": {\"color\": \"#E5ECF6\", \"width\": 0.5}}, \"type\": \"barpolar\"}], \"carpet\": [{\"aaxis\": {\"endlinecolor\": \"#2a3f5f\", \"gridcolor\": \"white\", \"linecolor\": \"white\", \"minorgridcolor\": \"white\", \"startlinecolor\": \"#2a3f5f\"}, \"baxis\": {\"endlinecolor\": \"#2a3f5f\", \"gridcolor\": \"white\", \"linecolor\": \"white\", \"minorgridcolor\": \"white\", \"startlinecolor\": \"#2a3f5f\"}, \"type\": \"carpet\"}], \"choropleth\": [{\"colorbar\": {\"outlinewidth\": 0, \"ticks\": \"\"}, \"type\": \"choropleth\"}], \"contour\": [{\"colorbar\": {\"outlinewidth\": 0, \"ticks\": \"\"}, \"colorscale\": [[0.0, \"#0d0887\"], [0.1111111111111111, \"#46039f\"], [0.2222222222222222, \"#7201a8\"], [0.3333333333333333, \"#9c179e\"], [0.4444444444444444, \"#bd3786\"], [0.5555555555555556, \"#d8576b\"], [0.6666666666666666, \"#ed7953\"], [0.7777777777777778, \"#fb9f3a\"], [0.8888888888888888, \"#fdca26\"], [1.0, \"#f0f921\"]], \"type\": \"contour\"}], \"contourcarpet\": [{\"colorbar\": {\"outlinewidth\": 0, \"ticks\": \"\"}, \"type\": \"contourcarpet\"}], \"heatmap\": [{\"colorbar\": {\"outlinewidth\": 0, \"ticks\": \"\"}, \"colorscale\": [[0.0, \"#0d0887\"], [0.1111111111111111, \"#46039f\"], [0.2222222222222222, \"#7201a8\"], [0.3333333333333333, \"#9c179e\"], [0.4444444444444444, \"#bd3786\"], [0.5555555555555556, \"#d8576b\"], [0.6666666666666666, \"#ed7953\"], [0.7777777777777778, \"#fb9f3a\"], [0.8888888888888888, \"#fdca26\"], [1.0, \"#f0f921\"]], \"type\": \"heatmap\"}], \"heatmapgl\": [{\"colorbar\": {\"outlinewidth\": 0, \"ticks\": \"\"}, \"colorscale\": [[0.0, \"#0d0887\"], [0.1111111111111111, \"#46039f\"], [0.2222222222222222, \"#7201a8\"], [0.3333333333333333, \"#9c179e\"], [0.4444444444444444, \"#bd3786\"], [0.5555555555555556, \"#d8576b\"], [0.6666666666666666, \"#ed7953\"], [0.7777777777777778, \"#fb9f3a\"], [0.8888888888888888, \"#fdca26\"], [1.0, \"#f0f921\"]], \"type\": \"heatmapgl\"}], \"histogram\": [{\"marker\": {\"colorbar\": {\"outlinewidth\": 0, \"ticks\": \"\"}}, \"type\": \"histogram\"}], \"histogram2d\": [{\"colorbar\": {\"outlinewidth\": 0, \"ticks\": \"\"}, \"colorscale\": [[0.0, \"#0d0887\"], [0.1111111111111111, \"#46039f\"], [0.2222222222222222, \"#7201a8\"], [0.3333333333333333, \"#9c179e\"], [0.4444444444444444, \"#bd3786\"], [0.5555555555555556, \"#d8576b\"], [0.6666666666666666, \"#ed7953\"], [0.7777777777777778, \"#fb9f3a\"], [0.8888888888888888, \"#fdca26\"], [1.0, \"#f0f921\"]], \"type\": \"histogram2d\"}], \"histogram2dcontour\": [{\"colorbar\": {\"outlinewidth\": 0, \"ticks\": \"\"}, \"colorscale\": [[0.0, \"#0d0887\"], [0.1111111111111111, \"#46039f\"], [0.2222222222222222, \"#7201a8\"], [0.3333333333333333, \"#9c179e\"], [0.4444444444444444, \"#bd3786\"], [0.5555555555555556, \"#d8576b\"], [0.6666666666666666, \"#ed7953\"], [0.7777777777777778, \"#fb9f3a\"], [0.8888888888888888, \"#fdca26\"], [1.0, \"#f0f921\"]], \"type\": \"histogram2dcontour\"}], \"mesh3d\": [{\"colorbar\": {\"outlinewidth\": 0, \"ticks\": \"\"}, \"type\": \"mesh3d\"}], \"parcoords\": [{\"line\": {\"colorbar\": {\"outlinewidth\": 0, \"ticks\": \"\"}}, \"type\": \"parcoords\"}], \"pie\": [{\"automargin\": true, \"type\": \"pie\"}], \"scatter\": [{\"marker\": {\"colorbar\": {\"outlinewidth\": 0, \"ticks\": \"\"}}, \"type\": \"scatter\"}], \"scatter3d\": [{\"line\": {\"colorbar\": {\"outlinewidth\": 0, \"ticks\": \"\"}}, \"marker\": {\"colorbar\": {\"outlinewidth\": 0, \"ticks\": \"\"}}, \"type\": \"scatter3d\"}], \"scattercarpet\": [{\"marker\": {\"colorbar\": {\"outlinewidth\": 0, \"ticks\": \"\"}}, \"type\": \"scattercarpet\"}], \"scattergeo\": [{\"marker\": {\"colorbar\": {\"outlinewidth\": 0, \"ticks\": \"\"}}, \"type\": \"scattergeo\"}], \"scattergl\": [{\"marker\": {\"colorbar\": {\"outlinewidth\": 0, \"ticks\": \"\"}}, \"type\": \"scattergl\"}], \"scattermapbox\": [{\"marker\": {\"colorbar\": {\"outlinewidth\": 0, \"ticks\": \"\"}}, \"type\": \"scattermapbox\"}], \"scatterpolar\": [{\"marker\": {\"colorbar\": {\"outlinewidth\": 0, \"ticks\": \"\"}}, \"type\": \"scatterpolar\"}], \"scatterpolargl\": [{\"marker\": {\"colorbar\": {\"outlinewidth\": 0, \"ticks\": \"\"}}, \"type\": \"scatterpolargl\"}], \"scatterternary\": [{\"marker\": {\"colorbar\": {\"outlinewidth\": 0, \"ticks\": \"\"}}, \"type\": \"scatterternary\"}], \"surface\": [{\"colorbar\": {\"outlinewidth\": 0, \"ticks\": \"\"}, \"colorscale\": [[0.0, \"#0d0887\"], [0.1111111111111111, \"#46039f\"], [0.2222222222222222, \"#7201a8\"], [0.3333333333333333, \"#9c179e\"], [0.4444444444444444, \"#bd3786\"], [0.5555555555555556, \"#d8576b\"], [0.6666666666666666, \"#ed7953\"], [0.7777777777777778, \"#fb9f3a\"], [0.8888888888888888, \"#fdca26\"], [1.0, \"#f0f921\"]], \"type\": \"surface\"}], \"table\": [{\"cells\": {\"fill\": {\"color\": \"#EBF0F8\"}, \"line\": {\"color\": \"white\"}}, \"header\": {\"fill\": {\"color\": \"#C8D4E3\"}, \"line\": {\"color\": \"white\"}}, \"type\": \"table\"}]}, \"layout\": {\"annotationdefaults\": {\"arrowcolor\": \"#2a3f5f\", \"arrowhead\": 0, \"arrowwidth\": 1}, \"coloraxis\": {\"colorbar\": {\"outlinewidth\": 0, \"ticks\": \"\"}}, \"colorscale\": {\"diverging\": [[0, \"#8e0152\"], [0.1, \"#c51b7d\"], [0.2, \"#de77ae\"], [0.3, \"#f1b6da\"], [0.4, \"#fde0ef\"], [0.5, \"#f7f7f7\"], [0.6, \"#e6f5d0\"], [0.7, \"#b8e186\"], [0.8, \"#7fbc41\"], [0.9, \"#4d9221\"], [1, \"#276419\"]], \"sequential\": [[0.0, \"#0d0887\"], [0.1111111111111111, \"#46039f\"], [0.2222222222222222, \"#7201a8\"], [0.3333333333333333, \"#9c179e\"], [0.4444444444444444, \"#bd3786\"], [0.5555555555555556, \"#d8576b\"], [0.6666666666666666, \"#ed7953\"], [0.7777777777777778, \"#fb9f3a\"], [0.8888888888888888, \"#fdca26\"], [1.0, \"#f0f921\"]], \"sequentialminus\": [[0.0, \"#0d0887\"], [0.1111111111111111, \"#46039f\"], [0.2222222222222222, \"#7201a8\"], [0.3333333333333333, \"#9c179e\"], [0.4444444444444444, \"#bd3786\"], [0.5555555555555556, \"#d8576b\"], [0.6666666666666666, \"#ed7953\"], [0.7777777777777778, \"#fb9f3a\"], [0.8888888888888888, \"#fdca26\"], [1.0, \"#f0f921\"]]}, \"colorway\": [\"#636efa\", \"#EF553B\", \"#00cc96\", \"#ab63fa\", \"#FFA15A\", \"#19d3f3\", \"#FF6692\", \"#B6E880\", \"#FF97FF\", \"#FECB52\"], \"font\": {\"color\": \"#2a3f5f\"}, \"geo\": {\"bgcolor\": \"white\", \"lakecolor\": \"white\", \"landcolor\": \"#E5ECF6\", \"showlakes\": true, \"showland\": true, \"subunitcolor\": \"white\"}, \"hoverlabel\": {\"align\": \"left\"}, \"hovermode\": \"closest\", \"mapbox\": {\"style\": \"light\"}, \"paper_bgcolor\": \"white\", \"plot_bgcolor\": \"#E5ECF6\", \"polar\": {\"angularaxis\": {\"gridcolor\": \"white\", \"linecolor\": \"white\", \"ticks\": \"\"}, \"bgcolor\": \"#E5ECF6\", \"radialaxis\": {\"gridcolor\": \"white\", \"linecolor\": \"white\", \"ticks\": \"\"}}, \"scene\": {\"xaxis\": {\"backgroundcolor\": \"#E5ECF6\", \"gridcolor\": \"white\", \"gridwidth\": 2, \"linecolor\": \"white\", \"showbackground\": true, \"ticks\": \"\", \"zerolinecolor\": \"white\"}, \"yaxis\": {\"backgroundcolor\": \"#E5ECF6\", \"gridcolor\": \"white\", \"gridwidth\": 2, \"linecolor\": \"white\", \"showbackground\": true, \"ticks\": \"\", \"zerolinecolor\": \"white\"}, \"zaxis\": {\"backgroundcolor\": \"#E5ECF6\", \"gridcolor\": \"white\", \"gridwidth\": 2, \"linecolor\": \"white\", \"showbackground\": true, \"ticks\": \"\", \"zerolinecolor\": \"white\"}}, \"shapedefaults\": {\"line\": {\"color\": \"#2a3f5f\"}}, \"ternary\": {\"aaxis\": {\"gridcolor\": \"white\", \"linecolor\": \"white\", \"ticks\": \"\"}, \"baxis\": {\"gridcolor\": \"white\", \"linecolor\": \"white\", \"ticks\": \"\"}, \"bgcolor\": \"#E5ECF6\", \"caxis\": {\"gridcolor\": \"white\", \"linecolor\": \"white\", \"ticks\": \"\"}}, \"title\": {\"x\": 0.05}, \"xaxis\": {\"automargin\": true, \"gridcolor\": \"white\", \"linecolor\": \"white\", \"ticks\": \"\", \"title\": {\"standoff\": 15}, \"zerolinecolor\": \"white\", \"zerolinewidth\": 2}, \"yaxis\": {\"automargin\": true, \"gridcolor\": \"white\", \"linecolor\": \"white\", \"ticks\": \"\", \"title\": {\"standoff\": 15}, \"zerolinecolor\": \"white\", \"zerolinewidth\": 2}}}},\n",
       "                        {\"responsive\": true}\n",
       "                    ).then(function(){\n",
       "                            \n",
       "var gd = document.getElementById('f4e73580-07bf-4bc1-84e2-372bdb7087fd');\n",
       "var x = new MutationObserver(function (mutations, observer) {{\n",
       "        var display = window.getComputedStyle(gd).display;\n",
       "        if (!display || display === 'none') {{\n",
       "            console.log([gd, 'removed!']);\n",
       "            Plotly.purge(gd);\n",
       "            observer.disconnect();\n",
       "        }}\n",
       "}});\n",
       "\n",
       "// Listen for the removal of the full notebook cells\n",
       "var notebookContainer = gd.closest('#notebook-container');\n",
       "if (notebookContainer) {{\n",
       "    x.observe(notebookContainer, {childList: true});\n",
       "}}\n",
       "\n",
       "// Listen for the clearing of the current output cell\n",
       "var outputEl = gd.closest('.output');\n",
       "if (outputEl) {{\n",
       "    x.observe(outputEl, {childList: true});\n",
       "}}\n",
       "\n",
       "                        })\n",
       "                };\n",
       "                });\n",
       "            </script>\n",
       "        </div>"
      ]
     },
     "metadata": {},
     "output_type": "display_data"
    }
   ],
   "source": [
    "fig = go.Figure(data=go.Scatter(x=Xr[:, 0],\n",
    "                                y=Xr[:, 1],\n",
    "                                mode='markers',\n",
    "                                text=[f'{label}|{n_token}' for label, n_token in zip(aggr.label, aggr.n_texts)],\n",
    "                                marker_color=aggr.n_tokens))\n",
    "\n",
    "\n",
    "fig.show()"
   ]
  },
  {
   "cell_type": "code",
   "execution_count": 168,
   "metadata": {},
   "outputs": [
    {
     "data": {
      "text/plain": [
       "(0           English\n",
       " 1            French\n",
       " 2            German\n",
       " 3          Japanese\n",
       " 5           Spanish\n",
       " 6            Korean\n",
       " 9           Turkish\n",
       " 10         Mandarin\n",
       " 14        Norwegian\n",
       " 15            Dutch\n",
       " 16           Danish\n",
       " 17          Russian\n",
       " 18          Italian\n",
       " 19          Swedish\n",
       " 21        Icelandic\n",
       " 22        Cantonese\n",
       " 25             Thai\n",
       " 27            Hindi\n",
       " 29       Portuguese\n",
       " 39          Chinese\n",
       " 43           Polish\n",
       " 49            Greek\n",
       " 52     Swiss German\n",
       " 60           Arabic\n",
       " 64         Romanian\n",
       " 65       Vietnamese\n",
       " 72           Hebrew\n",
       " 78          Finnish\n",
       " 105         Persian\n",
       " 111      Indonesian\n",
       " 117        Georgian\n",
       " 119           Czech\n",
       " 120      Lithuanian\n",
       " 123         Serbian\n",
       " 126         Kirghiz\n",
       " 127           Malay\n",
       " Name: label, dtype: object,\n",
       " 36)"
      ]
     },
     "execution_count": 168,
     "metadata": {},
     "output_type": "execute_result"
    }
   ],
   "source": [
    "single_labels = aggr.label[aggr.label.str.split(',').apply(lambda x: len(x)) == 1]\n",
    "n_single_labels = len(single_labels)\n",
    "single_labels, n_single_labels"
   ]
  },
  {
   "cell_type": "code",
   "execution_count": 169,
   "metadata": {},
   "outputs": [],
   "source": [
    "from sklearn.mixture import GaussianMixture\n",
    "\n",
    "clu = GaussianMixture(n_components=n_single_labels)\n",
    "#clu = KMeans(n_clusters=n_single_labels)\n",
    "Xpca = UMAP(n_components=50).fit_transform(X)\n",
    "\n",
    "cluster = clu.fit_predict(Xpca)\n",
    "probs = clu.predict_proba(Xpca)"
   ]
  },
  {
   "cell_type": "code",
   "execution_count": 170,
   "metadata": {},
   "outputs": [
    {
     "data": {
      "image/png": "[encoded data removed]",
      "text/plain": [
       "<Figure size 432x288 with 1 Axes>"
      ]
     },
     "metadata": {
      "needs_background": "light"
     },
     "output_type": "display_data"
    }
   ],
   "source": [
    "cluster_counter = Counter(cluster)\n",
    "plt.bar(cluster_counter.keys(), cluster_counter.values())\n",
    "plt.show()"
   ]
  },
  {
   "cell_type": "code",
   "execution_count": 171,
   "metadata": {},
   "outputs": [
    {
     "data": {
      "text/plain": [
       "array([0.16433555, 0.16433555, 0.16433555, 0.16433555, 0.16433555,\n",
       "       0.16433555, 0.16433555, 0.16433555, 0.16433555, 0.16433555,\n",
       "       0.16433555, 0.16433555, 0.16433555, 0.16433555, 0.16433555,\n",
       "       0.16433555, 0.16433555, 0.16433555, 0.16433555, 0.16433555,\n",
       "       0.16433555, 0.16433555, 0.16433555, 0.16433555, 0.16433555,\n",
       "       0.16433555, 0.16433555, 0.16433555, 0.16433555, 0.16433555,\n",
       "       0.16433555, 0.16433555, 0.16433555, 0.16433555, 0.16433555,\n",
       "       0.16433555, 0.16433555, 0.16433555, 0.16433555, 0.16433555,\n",
       "       0.16433555, 0.16433555, 0.16433555, 0.16433555, 0.16433555,\n",
       "       0.16433555, 0.16433555, 0.16433555, 0.16433555, 0.16433555,\n",
       "       0.16433555, 0.16433555, 0.16433555, 0.16433555, 0.16433555,\n",
       "       0.16433555, 0.16433555, 0.16433555, 0.16433555, 0.16433555,\n",
       "       0.16433555, 0.16433555, 0.16433555, 0.16433555, 0.16433555,\n",
       "       0.16433555, 0.16433555, 0.16433555, 0.16433555, 0.16433555,\n",
       "       0.16433555, 0.16433555, 0.16433555, 0.16433555, 0.16433555,\n",
       "       0.16433555, 0.16433555, 0.16433555, 0.16433555, 0.16433555,\n",
       "       0.16433555, 0.16433555, 0.16433555, 0.16433555, 0.16433555,\n",
       "       0.16433555, 0.16433555, 0.16433555, 0.16433555, 0.16433555,\n",
       "       0.16433555, 0.16433555, 0.16433555, 0.16433555, 0.16433555,\n",
       "       0.16433555, 0.16433555, 0.16433555, 0.16433555, 0.16433555,\n",
       "       0.16433555, 0.16433555, 0.16433555, 0.16433555, 0.16433555,\n",
       "       0.16433555, 0.16433555, 0.16433555, 0.16433555, 0.16433555,\n",
       "       0.16433555, 0.16433555, 0.16433555, 0.16433555, 0.16433555,\n",
       "       0.16433555, 0.16433555, 0.16433555, 0.16433555, 0.16433555,\n",
       "       0.16433555, 0.16433555, 0.16433555, 0.16433555, 0.16433555,\n",
       "       0.16433555, 0.16433555, 0.16433555, 0.16433555, 0.16433555,\n",
       "       0.16433555, 0.16433555, 0.16433555, 0.16433555, 0.16433555,\n",
       "       0.16433555, 0.16433555, 0.16433555, 0.16433555, 0.16433555,\n",
       "       0.16433555, 0.16433555, 0.16433555])"
      ]
     },
     "execution_count": 171,
     "metadata": {},
     "output_type": "execute_result"
    }
   ],
   "source": [
    "probs.std(axis=1)"
   ]
  },
  {
   "cell_type": "code",
   "execution_count": 172,
   "metadata": {},
   "outputs": [
    {
     "name": "stdout",
     "output_type": "stream",
     "text": [
      "Need more colors than current cmap holds\n"
     ]
    },
    {
     "data": {
      "application/vnd.plotly.v1+json": {
       "config": {
        "plotlyServerURL": "https://plot.ly"
       },
       "data": [
        {
         "mode": "markers",
         "text": [
          "English|1382",
          "French|204",
          "German|190",
          "Japanese|100",
          "English, Spanish|78",
          "Spanish|71",
          "Korean|51",
          "English, French|51",
          "French, English|45",
          "Turkish|45",
          "Mandarin|33",
          "German, English|29",
          "English, Russian|24",
          "English, German|24",
          "Norwegian|23",
          "Dutch|21",
          "Danish|21",
          "Russian|18",
          "Italian|18",
          "Swedish|18",
          "English, Japanese|18",
          "Icelandic|15",
          "Cantonese|13",
          "English, Ukrainian|13",
          "English, Italian|13",
          "Thai|12",
          "English, Arabic|11",
          "Hindi|11",
          "English, Mandarin|11",
          "Portuguese|10",
          "Japanese, English|10",
          "Spanish, English|10",
          "English, Portuguese|9",
          "French, German|8",
          "Mandarin, English|8",
          "German, Turkish|7",
          "Mandarin, Cantonese|7",
          "Cantonese, English|7",
          "Korean, English|6",
          "Chinese|6",
          "English, French, Italian|6",
          "French, Arabic|6",
          "Swedish, English|5",
          "Polish|5",
          "English, Chinese|5",
          "French, Italian|5",
          "Norwegian, English|5",
          "English, French, German|5",
          "English, Greek|5",
          "Greek|5",
          "English, Latin|5",
          "English, Korean|5",
          "Swiss German|5",
          "English, Hebrew|5",
          "English, Thai|4",
          "Thai, English|4",
          "Arabic, French|4",
          "Russian, English|4",
          "Cantonese, Mandarin|4",
          "Dutch, English|4",
          "Arabic|4",
          "French, Spanish|4",
          "English, Arabic, Hebrew|4",
          "English, Italian, Spanish|4",
          "Romanian|4",
          "Vietnamese|3",
          "French, English, Italian|3",
          "French, German, English|3",
          "English, Cantonese|3",
          "Norwegian, Swedish|3",
          "English, Serbo-Croatian|3",
          "German, French|3",
          "Hebrew|3",
          "German, Russian, English|3",
          "English, Russian, French|3",
          "Turkish, English|3",
          "Korean, Mandarin|3",
          "English, Mandarin, Cantonese|3",
          "Finnish|3",
          "German, Italian|3",
          "Norwegian, German|3",
          "Filipino, Tagalog|3",
          "Mandarin, Cantonese, English|3",
          "Hindi, English|3",
          "English, Klingon|3",
          "Japanese, Mandarin|3",
          "Polish, English|3",
          "French, Arabic, English|3",
          "English, Spanish, Russian|3",
          "Cantonese, Mandarin, English|3",
          "Min Nan, Mandarin|2",
          "French, Spanish, English|2",
          "Icelandic, English, German|2",
          "Cantonese, English, Mandarin|2",
          "English, Bulgarian|2",
          "English, Swedish|2",
          "French, English, German|2",
          "Italian, German|2",
          "German, French, English|2",
          "English, Afrikaans|2",
          "English, Dutch|2",
          "English, Danish|2",
          "English, Irish|2",
          "Mandarin, Mongolian|2",
          "German, French, Latin|2",
          "Persian|2",
          "French, English, Ukrainian|2",
          "Italian, English|2",
          "English, Japanese, French|2",
          "Spanish, English, French|2",
          "Italian, English, French|2",
          "Indonesian|2",
          "English, German, Hebrew|2",
          "German, Russian|2",
          "English, Japanese, Chinese|2",
          "Norwegian, English, German|2",
          "Spanish, French|2",
          "Georgian|2",
          "Hebrew, Arabic|2",
          "Czech|2",
          "Lithuanian|2",
          "Greek, English|2",
          "English, Hindi|2",
          "Serbian|2",
          "English, French, Russian|2",
          "English, Khmer|2",
          "Kirghiz|2",
          "Malay|2",
          "English, Vietnamese|2",
          "Swedish, Finnish|2",
          "English, Indonesian|2",
          "Spanish, Catalan|2",
          "French, English, Russian|2",
          "Korean, Japanese|2",
          "French, English, Latin|2",
          "Indonesian, English|2",
          "English, Somali|2",
          "English, Serbian|2",
          "English, Scottish Gaelic|2",
          "English, American Sign Language|2",
          "French, English, Japanese|2",
          "Flemish, French, Dutch|2",
          "English, Icelandic|2"
         ],
         "type": "scatter",
         "x": [
          -2.8225724697113037,
          -1.267831802368164,
          -3.3055479526519775,
          0.43022558093070984,
          -3.1748218536376953,
          -0.8024555444717407,
          0.47234097123146057,
          -2.3574960231781006,
          -1.5854946374893188,
          1.1229674816131592,
          1.6934151649475098,
          -3.194664239883423,
          -2.782473087310791,
          -2.961880922317505,
          -1.8652499914169312,
          -2.7879815101623535,
          -2.1944098472595215,
          0.7048152685165405,
          -0.9466709494590759,
          -1.9969831705093384,
          -2.2375776767730713,
          -2.2288875579833984,
          1.2870419025421143,
          -3.2098662853240967,
          -2.277451515197754,
          1.1274018287658691,
          -2.757145881652832,
          1.2790435552597046,
          -3.2051141262054443,
          0.28006231784820557,
          0.5491364002227783,
          -0.8686351776123047,
          -2.991666078567505,
          -1.9710592031478882,
          1.503240942955017,
          -3.46272873878479,
          1.9615713357925415,
          1.2433176040649414,
          0.5782308578491211,
          1.519981026649475,
          -2.4740238189697266,
          -0.4533262550830841,
          -1.558894395828247,
          1.7349052429199219,
          -1.6749969720840454,
          -0.5231860876083374,
          -2.0135231018066406,
          -2.568882942199707,
          -3.46077036857605,
          1.2076139450073242,
          -2.6278438568115234,
          -2.238642454147339,
          -1.2065385580062866,
          -3.0396487712860107,
          -3.2874176502227783,
          0.9177218675613403,
          -0.8506500720977783,
          0.8351194858551025,
          1.58106529712677,
          -2.953646421432495,
          1.1765049695968628,
          -1.6008495092391968,
          -0.8677802085876465,
          -1.6352264881134033,
          -0.8650307059288025,
          1.658843994140625,
          -1.4043428897857666,
          -2.2018189430236816,
          -2.6017251014709473,
          -1.728926181793213,
          -2.751847505569458,
          -2.2988102436065674,
          0.5326938629150391,
          -3.124269485473633,
          -1.0620884895324707,
          0.8354244232177734,
          0.8462498188018799,
          -2.372687816619873,
          -0.01827581785619259,
          -3.1626944541931152,
          -2.8814594745635986,
          0.5597620606422424,
          2.0657660961151123,
          0.963764488697052,
          -2.4431259632110596,
          0.7895092368125916,
          -0.508616030216217,
          1.4866347312927246,
          -1.4027881622314453,
          1.4279659986495972,
          1.5929367542266846,
          -0.767909049987793,
          -1.9572099447250366,
          -1.9234853982925415,
          -1.4349642992019653,
          -2.546581745147705,
          -1.3648786544799805,
          -3.5437419414520264,
          -2.464350938796997,
          -2.9315810203552246,
          -1.2895323038101196,
          -2.085226058959961,
          -1.9791620969772339,
          2.003694534301758,
          -3.049199104309082,
          1.278557300567627,
          -1.3024331331253052,
          0.2214539349079132,
          -2.180370569229126,
          -0.0757884830236435,
          -1.4957917928695679,
          0.742034912109375,
          -1.9618440866470337,
          -3.5423033237457275,
          -1.963873267173767,
          -2.5425195693969727,
          -0.5368992686271667,
          -0.06308867782354355,
          -3.477199077606201,
          1.7294566631317139,
          -1.6446266174316406,
          -0.8445606231689453,
          -2.569920301437378,
          -2.664891481399536,
          -2.8518457412719727,
          -3.1636085510253906,
          0.165693461894989,
          1.371848464012146,
          -2.522176504135132,
          -1.4236849546432495,
          -1.2035973072052002,
          -0.8127643465995789,
          -0.6839046478271484,
          0.4951038062572479,
          -1.83781099319458,
          0.292836457490921,
          -3.4570460319519043,
          -2.1980743408203125,
          -3.1204099655151367,
          -3.2704989910125732,
          -1.7404704093933105,
          -2.316455602645874,
          -2.134730100631714
         ],
         "y": [
          3.474811553955078,
          1.1785093545913696,
          1.232850432395935,
          2.047917604446411,
          4.287125110626221,
          1.9290902614593506,
          2.436546802520752,
          3.1028518676757812,
          1.709570288658142,
          1.488376259803772,
          1.901672601699829,
          1.4288125038146973,
          4.489465713500977,
          3.5070629119873047,
          0.2701224386692047,
          0.9671079516410828,
          0.7970609664916992,
          1.7769893407821655,
          1.3835583925247192,
          0.49414050579071045,
          4.184962749481201,
          0.4524010717868805,
          2.3581719398498535,
          4.316544532775879,
          2.672196388244629,
          2.0821406841278076,
          4.380448818206787,
          2.7415518760681152,
          3.9165232181549072,
          1.5926121473312378,
          2.259525775909424,
          2.4775428771972656,
          3.7219254970550537,
          1.583673357963562,
          2.014773368835449,
          0.9407623410224915,
          2.3361401557922363,
          2.6050336360931396,
          2.7561111450195312,
          1.6071398258209229,
          4.6336350440979,
          1.352533221244812,
          0.6407184600830078,
          2.1159188747406006,
          3.7214932441711426,
          1.4465086460113525,
          0.15350323915481567,
          2.799896001815796,
          4.230161190032959,
          1.7907874584197998,
          3.2515830993652344,
          3.6407694816589355,
          0.4356025457382202,
          4.581104278564453,
          4.281473159790039,
          2.2506771087646484,
          1.1191041469573975,
          1.9890203475952148,
          2.399585008621216,
          1.8563930988311768,
          1.308869481086731,
          1.5321409702301025,
          2.1373796463012695,
          3.5759096145629883,
          0.8571177124977112,
          1.8719574213027954,
          1.2956962585449219,
          1.7811803817749023,
          3.7880680561065674,
          0.24918600916862488,
          3.7757956981658936,
          1.9218614101409912,
          1.071234941482544,
          1.324588418006897,
          2.714268684387207,
          1.3240537643432617,
          2.656094551086426,
          4.313990116119385,
          1.9648418426513672,
          1.1068023443222046,
          0.910376787185669,
          1.8539371490478516,
          2.181617498397827,
          2.937502145767212,
          3.705073356628418,
          2.4330782890319824,
          2.1672074794769287,
          1.2215458154678345,
          3.3666672706604004,
          2.451327085494995,
          1.7923885583877563,
          1.6794333457946777,
          0.3695548474788666,
          1.2811344861984253,
          1.945338487625122,
          2.818086624145508,
          1.2365658283233643,
          1.484108567237854,
          1.708977222442627,
          4.051693439483643,
          2.335015296936035,
          2.5705368518829346,
          3.066852569580078,
          2.4546737670898438,
          1.629941701889038,
          1.0780541896820068,
          1.7334715127944946,
          1.43734610080719,
          4.306912899017334,
          2.4341073036193848,
          1.0680853128433228,
          2.9948596954345703,
          2.8598241806030273,
          1.27084481716156,
          4.040676593780518,
          0.6198596954345703,
          1.0782619714736938,
          1.1014615297317505,
          0.953826904296875,
          1.6303738355636597,
          0.12274425476789474,
          1.2874053716659546,
          4.621881484985352,
          1.153219223022461,
          3.8746988773345947,
          4.443120956420898,
          1.2387019395828247,
          2.172023057937622,
          4.199278354644775,
          0.5974920392036438,
          2.886255979537964,
          1.6527676582336426,
          2.001300811767578,
          1.9487112760543823,
          0.982782244682312,
          2.5423216819763184,
          4.0880022048950195,
          3.5735960006713867,
          4.2777581214904785,
          1.7195699214935303,
          1.6936572790145874,
          1.1433429718017578,
          0.591256856918335
         ]
        }
       ],
       "layout": {
        "template": {
         "data": {
          "bar": [
           {
            "error_x": {
             "color": "#2a3f5f"
            },
            "error_y": {
             "color": "#2a3f5f"
            },
            "marker": {
             "line": {
              "color": "#E5ECF6",
              "width": 0.5
             }
            },
            "type": "bar"
           }
          ],
          "barpolar": [
           {
            "marker": {
             "line": {
              "color": "#E5ECF6",
              "width": 0.5
             }
            },
            "type": "barpolar"
           }
          ],
          "carpet": [
           {
            "aaxis": {
             "endlinecolor": "#2a3f5f",
             "gridcolor": "white",
             "linecolor": "white",
             "minorgridcolor": "white",
             "startlinecolor": "#2a3f5f"
            },
            "baxis": {
             "endlinecolor": "#2a3f5f",
             "gridcolor": "white",
             "linecolor": "white",
             "minorgridcolor": "white",
             "startlinecolor": "#2a3f5f"
            },
            "type": "carpet"
           }
          ],
          "choropleth": [
           {
            "colorbar": {
             "outlinewidth": 0,
             "ticks": ""
            },
            "type": "choropleth"
           }
          ],
          "contour": [
           {
            "colorbar": {
             "outlinewidth": 0,
             "ticks": ""
            },
            "colorscale": [
             [
              0,
              "#0d0887"
             ],
             [
              0.1111111111111111,
              "#46039f"
             ],
             [
              0.2222222222222222,
              "#7201a8"
             ],
             [
              0.3333333333333333,
              "#9c179e"
             ],
             [
              0.4444444444444444,
              "#bd3786"
             ],
             [
              0.5555555555555556,
              "#d8576b"
             ],
             [
              0.6666666666666666,
              "#ed7953"
             ],
             [
              0.7777777777777778,
              "#fb9f3a"
             ],
             [
              0.8888888888888888,
              "#fdca26"
             ],
             [
              1,
              "#f0f921"
             ]
            ],
            "type": "contour"
           }
          ],
          "contourcarpet": [
           {
            "colorbar": {
             "outlinewidth": 0,
             "ticks": ""
            },
            "type": "contourcarpet"
           }
          ],
          "heatmap": [
           {
            "colorbar": {
             "outlinewidth": 0,
             "ticks": ""
            },
            "colorscale": [
             [
              0,
              "#0d0887"
             ],
             [
              0.1111111111111111,
              "#46039f"
             ],
             [
              0.2222222222222222,
              "#7201a8"
             ],
             [
              0.3333333333333333,
              "#9c179e"
             ],
             [
              0.4444444444444444,
              "#bd3786"
             ],
             [
              0.5555555555555556,
              "#d8576b"
             ],
             [
              0.6666666666666666,
              "#ed7953"
             ],
             [
              0.7777777777777778,
              "#fb9f3a"
             ],
             [
              0.8888888888888888,
              "#fdca26"
             ],
             [
              1,
              "#f0f921"
             ]
            ],
            "type": "heatmap"
           }
          ],
          "heatmapgl": [
           {
            "colorbar": {
             "outlinewidth": 0,
             "ticks": ""
            },
            "colorscale": [
             [
              0,
              "#0d0887"
             ],
             [
              0.1111111111111111,
              "#46039f"
             ],
             [
              0.2222222222222222,
              "#7201a8"
             ],
             [
              0.3333333333333333,
              "#9c179e"
             ],
             [
              0.4444444444444444,
              "#bd3786"
             ],
             [
              0.5555555555555556,
              "#d8576b"
             ],
             [
              0.6666666666666666,
              "#ed7953"
             ],
             [
              0.7777777777777778,
              "#fb9f3a"
             ],
             [
              0.8888888888888888,
              "#fdca26"
             ],
             [
              1,
              "#f0f921"
             ]
            ],
            "type": "heatmapgl"
           }
          ],
          "histogram": [
           {
            "marker": {
             "colorbar": {
              "outlinewidth": 0,
              "ticks": ""
             }
            },
            "type": "histogram"
           }
          ],
          "histogram2d": [
           {
            "colorbar": {
             "outlinewidth": 0,
             "ticks": ""
            },
            "colorscale": [
             [
              0,
              "#0d0887"
             ],
             [
              0.1111111111111111,
              "#46039f"
             ],
             [
              0.2222222222222222,
              "#7201a8"
             ],
             [
              0.3333333333333333,
              "#9c179e"
             ],
             [
              0.4444444444444444,
              "#bd3786"
             ],
             [
              0.5555555555555556,
              "#d8576b"
             ],
             [
              0.6666666666666666,
              "#ed7953"
             ],
             [
              0.7777777777777778,
              "#fb9f3a"
             ],
             [
              0.8888888888888888,
              "#fdca26"
             ],
             [
              1,
              "#f0f921"
             ]
            ],
            "type": "histogram2d"
           }
          ],
          "histogram2dcontour": [
           {
            "colorbar": {
             "outlinewidth": 0,
             "ticks": ""
            },
            "colorscale": [
             [
              0,
              "#0d0887"
             ],
             [
              0.1111111111111111,
              "#46039f"
             ],
             [
              0.2222222222222222,
              "#7201a8"
             ],
             [
              0.3333333333333333,
              "#9c179e"
             ],
             [
              0.4444444444444444,
              "#bd3786"
             ],
             [
              0.5555555555555556,
              "#d8576b"
             ],
             [
              0.6666666666666666,
              "#ed7953"
             ],
             [
              0.7777777777777778,
              "#fb9f3a"
             ],
             [
              0.8888888888888888,
              "#fdca26"
             ],
             [
              1,
              "#f0f921"
             ]
            ],
            "type": "histogram2dcontour"
           }
          ],
          "mesh3d": [
           {
            "colorbar": {
             "outlinewidth": 0,
             "ticks": ""
            },
            "type": "mesh3d"
           }
          ],
          "parcoords": [
           {
            "line": {
             "colorbar": {
              "outlinewidth": 0,
              "ticks": ""
             }
            },
            "type": "parcoords"
           }
          ],
          "pie": [
           {
            "automargin": true,
            "type": "pie"
           }
          ],
          "scatter": [
           {
            "marker": {
             "colorbar": {
              "outlinewidth": 0,
              "ticks": ""
             }
            },
            "type": "scatter"
           }
          ],
          "scatter3d": [
           {
            "line": {
             "colorbar": {
              "outlinewidth": 0,
              "ticks": ""
             }
            },
            "marker": {
             "colorbar": {
              "outlinewidth": 0,
              "ticks": ""
             }
            },
            "type": "scatter3d"
           }
          ],
          "scattercarpet": [
           {
            "marker": {
             "colorbar": {
              "outlinewidth": 0,
              "ticks": ""
             }
            },
            "type": "scattercarpet"
           }
          ],
          "scattergeo": [
           {
            "marker": {
             "colorbar": {
              "outlinewidth": 0,
              "ticks": ""
             }
            },
            "type": "scattergeo"
           }
          ],
          "scattergl": [
           {
            "marker": {
             "colorbar": {
              "outlinewidth": 0,
              "ticks": ""
             }
            },
            "type": "scattergl"
           }
          ],
          "scattermapbox": [
           {
            "marker": {
             "colorbar": {
              "outlinewidth": 0,
              "ticks": ""
             }
            },
            "type": "scattermapbox"
           }
          ],
          "scatterpolar": [
           {
            "marker": {
             "colorbar": {
              "outlinewidth": 0,
              "ticks": ""
             }
            },
            "type": "scatterpolar"
           }
          ],
          "scatterpolargl": [
           {
            "marker": {
             "colorbar": {
              "outlinewidth": 0,
              "ticks": ""
             }
            },
            "type": "scatterpolargl"
           }
          ],
          "scatterternary": [
           {
            "marker": {
             "colorbar": {
              "outlinewidth": 0,
              "ticks": ""
             }
            },
            "type": "scatterternary"
           }
          ],
          "surface": [
           {
            "colorbar": {
             "outlinewidth": 0,
             "ticks": ""
            },
            "colorscale": [
             [
              0,
              "#0d0887"
             ],
             [
              0.1111111111111111,
              "#46039f"
             ],
             [
              0.2222222222222222,
              "#7201a8"
             ],
             [
              0.3333333333333333,
              "#9c179e"
             ],
             [
              0.4444444444444444,
              "#bd3786"
             ],
             [
              0.5555555555555556,
              "#d8576b"
             ],
             [
              0.6666666666666666,
              "#ed7953"
             ],
             [
              0.7777777777777778,
              "#fb9f3a"
             ],
             [
              0.8888888888888888,
              "#fdca26"
             ],
             [
              1,
              "#f0f921"
             ]
            ],
            "type": "surface"
           }
          ],
          "table": [
           {
            "cells": {
             "fill": {
              "color": "#EBF0F8"
             },
             "line": {
              "color": "white"
             }
            },
            "header": {
             "fill": {
              "color": "#C8D4E3"
             },
             "line": {
              "color": "white"
             }
            },
            "type": "table"
           }
          ]
         },
         "layout": {
          "annotationdefaults": {
           "arrowcolor": "#2a3f5f",
           "arrowhead": 0,
           "arrowwidth": 1
          },
          "coloraxis": {
           "colorbar": {
            "outlinewidth": 0,
            "ticks": ""
           }
          },
          "colorscale": {
           "diverging": [
            [
             0,
             "#8e0152"
            ],
            [
             0.1,
             "#c51b7d"
            ],
            [
             0.2,
             "#de77ae"
            ],
            [
             0.3,
             "#f1b6da"
            ],
            [
             0.4,
             "#fde0ef"
            ],
            [
             0.5,
             "#f7f7f7"
            ],
            [
             0.6,
             "#e6f5d0"
            ],
            [
             0.7,
             "#b8e186"
            ],
            [
             0.8,
             "#7fbc41"
            ],
            [
             0.9,
             "#4d9221"
            ],
            [
             1,
             "#276419"
            ]
           ],
           "sequential": [
            [
             0,
             "#0d0887"
            ],
            [
             0.1111111111111111,
             "#46039f"
            ],
            [
             0.2222222222222222,
             "#7201a8"
            ],
            [
             0.3333333333333333,
             "#9c179e"
            ],
            [
             0.4444444444444444,
             "#bd3786"
            ],
            [
             0.5555555555555556,
             "#d8576b"
            ],
            [
             0.6666666666666666,
             "#ed7953"
            ],
            [
             0.7777777777777778,
             "#fb9f3a"
            ],
            [
             0.8888888888888888,
             "#fdca26"
            ],
            [
             1,
             "#f0f921"
            ]
           ],
           "sequentialminus": [
            [
             0,
             "#0d0887"
            ],
            [
             0.1111111111111111,
             "#46039f"
            ],
            [
             0.2222222222222222,
             "#7201a8"
            ],
            [
             0.3333333333333333,
             "#9c179e"
            ],
            [
             0.4444444444444444,
             "#bd3786"
            ],
            [
             0.5555555555555556,
             "#d8576b"
            ],
            [
             0.6666666666666666,
             "#ed7953"
            ],
            [
             0.7777777777777778,
             "#fb9f3a"
            ],
            [
             0.8888888888888888,
             "#fdca26"
            ],
            [
             1,
             "#f0f921"
            ]
           ]
          },
          "colorway": [
           "#636efa",
           "#EF553B",
           "#00cc96",
           "#ab63fa",
           "#FFA15A",
           "#19d3f3",
           "#FF6692",
           "#B6E880",
           "#FF97FF",
           "#FECB52"
          ],
          "font": {
           "color": "#2a3f5f"
          },
          "geo": {
           "bgcolor": "white",
           "lakecolor": "white",
           "landcolor": "#E5ECF6",
           "showlakes": true,
           "showland": true,
           "subunitcolor": "white"
          },
          "hoverlabel": {
           "align": "left"
          },
          "hovermode": "closest",
          "mapbox": {
           "style": "light"
          },
          "paper_bgcolor": "white",
          "plot_bgcolor": "#E5ECF6",
          "polar": {
           "angularaxis": {
            "gridcolor": "white",
            "linecolor": "white",
            "ticks": ""
           },
           "bgcolor": "#E5ECF6",
           "radialaxis": {
            "gridcolor": "white",
            "linecolor": "white",
            "ticks": ""
           }
          },
          "scene": {
           "xaxis": {
            "backgroundcolor": "#E5ECF6",
            "gridcolor": "white",
            "gridwidth": 2,
            "linecolor": "white",
            "showbackground": true,
            "ticks": "",
            "zerolinecolor": "white"
           },
           "yaxis": {
            "backgroundcolor": "#E5ECF6",
            "gridcolor": "white",
            "gridwidth": 2,
            "linecolor": "white",
            "showbackground": true,
            "ticks": "",
            "zerolinecolor": "white"
           },
           "zaxis": {
            "backgroundcolor": "#E5ECF6",
            "gridcolor": "white",
            "gridwidth": 2,
            "linecolor": "white",
            "showbackground": true,
            "ticks": "",
            "zerolinecolor": "white"
           }
          },
          "shapedefaults": {
           "line": {
            "color": "#2a3f5f"
           }
          },
          "ternary": {
           "aaxis": {
            "gridcolor": "white",
            "linecolor": "white",
            "ticks": ""
           },
           "baxis": {
            "gridcolor": "white",
            "linecolor": "white",
            "ticks": ""
           },
           "bgcolor": "#E5ECF6",
           "caxis": {
            "gridcolor": "white",
            "linecolor": "white",
            "ticks": ""
           }
          },
          "title": {
           "x": 0.05
          },
          "xaxis": {
           "automargin": true,
           "gridcolor": "white",
           "linecolor": "white",
           "ticks": "",
           "title": {
            "standoff": 15
           },
           "zerolinecolor": "white",
           "zerolinewidth": 2
          },
          "yaxis": {
           "automargin": true,
           "gridcolor": "white",
           "linecolor": "white",
           "ticks": "",
           "title": {
            "standoff": 15
           },
           "zerolinecolor": "white",
           "zerolinewidth": 2
          }
         }
        }
       }
      },
      "text/html": [
       "<div>\n",
       "        \n",
       "        \n",
       "            <div id=\"083605a2-36d7-43cc-b04d-df1adcc42c39\" class=\"plotly-graph-div\" style=\"height:525px; width:100%;\"></div>\n",
       "            <script type=\"text/javascript\">\n",
       "                require([\"plotly\"], function(Plotly) {\n",
       "                    window.PLOTLYENV=window.PLOTLYENV || {};\n",
       "                    \n",
       "                if (document.getElementById(\"083605a2-36d7-43cc-b04d-df1adcc42c39\")) {\n",
       "                    Plotly.newPlot(\n",
       "                        '083605a2-36d7-43cc-b04d-df1adcc42c39',\n",
       "                        [{\"mode\": \"markers\", \"text\": [\"English|1382\", \"French|204\", \"German|190\", \"Japanese|100\", \"English, Spanish|78\", \"Spanish|71\", \"Korean|51\", \"English, French|51\", \"French, English|45\", \"Turkish|45\", \"Mandarin|33\", \"German, English|29\", \"English, Russian|24\", \"English, German|24\", \"Norwegian|23\", \"Dutch|21\", \"Danish|21\", \"Russian|18\", \"Italian|18\", \"Swedish|18\", \"English, Japanese|18\", \"Icelandic|15\", \"Cantonese|13\", \"English, Ukrainian|13\", \"English, Italian|13\", \"Thai|12\", \"English, Arabic|11\", \"Hindi|11\", \"English, Mandarin|11\", \"Portuguese|10\", \"Japanese, English|10\", \"Spanish, English|10\", \"English, Portuguese|9\", \"French, German|8\", \"Mandarin, English|8\", \"German, Turkish|7\", \"Mandarin, Cantonese|7\", \"Cantonese, English|7\", \"Korean, English|6\", \"Chinese|6\", \"English, French, Italian|6\", \"French, Arabic|6\", \"Swedish, English|5\", \"Polish|5\", \"English, Chinese|5\", \"French, Italian|5\", \"Norwegian, English|5\", \"English, French, German|5\", \"English, Greek|5\", \"Greek|5\", \"English, Latin|5\", \"English, Korean|5\", \"Swiss German|5\", \"English, Hebrew|5\", \"English, Thai|4\", \"Thai, English|4\", \"Arabic, French|4\", \"Russian, English|4\", \"Cantonese, Mandarin|4\", \"Dutch, English|4\", \"Arabic|4\", \"French, Spanish|4\", \"English, Arabic, Hebrew|4\", \"English, Italian, Spanish|4\", \"Romanian|4\", \"Vietnamese|3\", \"French, English, Italian|3\", \"French, German, English|3\", \"English, Cantonese|3\", \"Norwegian, Swedish|3\", \"English, Serbo-Croatian|3\", \"German, French|3\", \"Hebrew|3\", \"German, Russian, English|3\", \"English, Russian, French|3\", \"Turkish, English|3\", \"Korean, Mandarin|3\", \"English, Mandarin, Cantonese|3\", \"Finnish|3\", \"German, Italian|3\", \"Norwegian, German|3\", \"Filipino, Tagalog|3\", \"Mandarin, Cantonese, English|3\", \"Hindi, English|3\", \"English, Klingon|3\", \"Japanese, Mandarin|3\", \"Polish, English|3\", \"French, Arabic, English|3\", \"English, Spanish, Russian|3\", \"Cantonese, Mandarin, English|3\", \"Min Nan, Mandarin|2\", \"French, Spanish, English|2\", \"Icelandic, English, German|2\", \"Cantonese, English, Mandarin|2\", \"English, Bulgarian|2\", \"English, Swedish|2\", \"French, English, German|2\", \"Italian, German|2\", \"German, French, English|2\", \"English, Afrikaans|2\", \"English, Dutch|2\", \"English, Danish|2\", \"English, Irish|2\", \"Mandarin, Mongolian|2\", \"German, French, Latin|2\", \"Persian|2\", \"French, English, Ukrainian|2\", \"Italian, English|2\", \"English, Japanese, French|2\", \"Spanish, English, French|2\", \"Italian, English, French|2\", \"Indonesian|2\", \"English, German, Hebrew|2\", \"German, Russian|2\", \"English, Japanese, Chinese|2\", \"Norwegian, English, German|2\", \"Spanish, French|2\", \"Georgian|2\", \"Hebrew, Arabic|2\", \"Czech|2\", \"Lithuanian|2\", \"Greek, English|2\", \"English, Hindi|2\", \"Serbian|2\", \"English, French, Russian|2\", \"English, Khmer|2\", \"Kirghiz|2\", \"Malay|2\", \"English, Vietnamese|2\", \"Swedish, Finnish|2\", \"English, Indonesian|2\", \"Spanish, Catalan|2\", \"French, English, Russian|2\", \"Korean, Japanese|2\", \"French, English, Latin|2\", \"Indonesian, English|2\", \"English, Somali|2\", \"English, Serbian|2\", \"English, Scottish Gaelic|2\", \"English, American Sign Language|2\", \"French, English, Japanese|2\", \"Flemish, French, Dutch|2\", \"English, Icelandic|2\"], \"type\": \"scatter\", \"x\": [-2.8225724697113037, -1.267831802368164, -3.3055479526519775, 0.43022558093070984, -3.1748218536376953, -0.8024555444717407, 0.47234097123146057, -2.3574960231781006, -1.5854946374893188, 1.1229674816131592, 1.6934151649475098, -3.194664239883423, -2.782473087310791, -2.961880922317505, -1.8652499914169312, -2.7879815101623535, -2.1944098472595215, 0.7048152685165405, -0.9466709494590759, -1.9969831705093384, -2.2375776767730713, -2.2288875579833984, 1.2870419025421143, -3.2098662853240967, -2.277451515197754, 1.1274018287658691, -2.757145881652832, 1.2790435552597046, -3.2051141262054443, 0.28006231784820557, 0.5491364002227783, -0.8686351776123047, -2.991666078567505, -1.9710592031478882, 1.503240942955017, -3.46272873878479, 1.9615713357925415, 1.2433176040649414, 0.5782308578491211, 1.519981026649475, -2.4740238189697266, -0.4533262550830841, -1.558894395828247, 1.7349052429199219, -1.6749969720840454, -0.5231860876083374, -2.0135231018066406, -2.568882942199707, -3.46077036857605, 1.2076139450073242, -2.6278438568115234, -2.238642454147339, -1.2065385580062866, -3.0396487712860107, -3.2874176502227783, 0.9177218675613403, -0.8506500720977783, 0.8351194858551025, 1.58106529712677, -2.953646421432495, 1.1765049695968628, -1.6008495092391968, -0.8677802085876465, -1.6352264881134033, -0.8650307059288025, 1.658843994140625, -1.4043428897857666, -2.2018189430236816, -2.6017251014709473, -1.728926181793213, -2.751847505569458, -2.2988102436065674, 0.5326938629150391, -3.124269485473633, -1.0620884895324707, 0.8354244232177734, 0.8462498188018799, -2.372687816619873, -0.01827581785619259, -3.1626944541931152, -2.8814594745635986, 0.5597620606422424, 2.0657660961151123, 0.963764488697052, -2.4431259632110596, 0.7895092368125916, -0.508616030216217, 1.4866347312927246, -1.4027881622314453, 1.4279659986495972, 1.5929367542266846, -0.767909049987793, -1.9572099447250366, -1.9234853982925415, -1.4349642992019653, -2.546581745147705, -1.3648786544799805, -3.5437419414520264, -2.464350938796997, -2.9315810203552246, -1.2895323038101196, -2.085226058959961, -1.9791620969772339, 2.003694534301758, -3.049199104309082, 1.278557300567627, -1.3024331331253052, 0.2214539349079132, -2.180370569229126, -0.0757884830236435, -1.4957917928695679, 0.742034912109375, -1.9618440866470337, -3.5423033237457275, -1.963873267173767, -2.5425195693969727, -0.5368992686271667, -0.06308867782354355, -3.477199077606201, 1.7294566631317139, -1.6446266174316406, -0.8445606231689453, -2.569920301437378, -2.664891481399536, -2.8518457412719727, -3.1636085510253906, 0.165693461894989, 1.371848464012146, -2.522176504135132, -1.4236849546432495, -1.2035973072052002, -0.8127643465995789, -0.6839046478271484, 0.4951038062572479, -1.83781099319458, 0.292836457490921, -3.4570460319519043, -2.1980743408203125, -3.1204099655151367, -3.2704989910125732, -1.7404704093933105, -2.316455602645874, -2.134730100631714], \"y\": [3.474811553955078, 1.1785093545913696, 1.232850432395935, 2.047917604446411, 4.287125110626221, 1.9290902614593506, 2.436546802520752, 3.1028518676757812, 1.709570288658142, 1.488376259803772, 1.901672601699829, 1.4288125038146973, 4.489465713500977, 3.5070629119873047, 0.2701224386692047, 0.9671079516410828, 0.7970609664916992, 1.7769893407821655, 1.3835583925247192, 0.49414050579071045, 4.184962749481201, 0.4524010717868805, 2.3581719398498535, 4.316544532775879, 2.672196388244629, 2.0821406841278076, 4.380448818206787, 2.7415518760681152, 3.9165232181549072, 1.5926121473312378, 2.259525775909424, 2.4775428771972656, 3.7219254970550537, 1.583673357963562, 2.014773368835449, 0.9407623410224915, 2.3361401557922363, 2.6050336360931396, 2.7561111450195312, 1.6071398258209229, 4.6336350440979, 1.352533221244812, 0.6407184600830078, 2.1159188747406006, 3.7214932441711426, 1.4465086460113525, 0.15350323915481567, 2.799896001815796, 4.230161190032959, 1.7907874584197998, 3.2515830993652344, 3.6407694816589355, 0.4356025457382202, 4.581104278564453, 4.281473159790039, 2.2506771087646484, 1.1191041469573975, 1.9890203475952148, 2.399585008621216, 1.8563930988311768, 1.308869481086731, 1.5321409702301025, 2.1373796463012695, 3.5759096145629883, 0.8571177124977112, 1.8719574213027954, 1.2956962585449219, 1.7811803817749023, 3.7880680561065674, 0.24918600916862488, 3.7757956981658936, 1.9218614101409912, 1.071234941482544, 1.324588418006897, 2.714268684387207, 1.3240537643432617, 2.656094551086426, 4.313990116119385, 1.9648418426513672, 1.1068023443222046, 0.910376787185669, 1.8539371490478516, 2.181617498397827, 2.937502145767212, 3.705073356628418, 2.4330782890319824, 2.1672074794769287, 1.2215458154678345, 3.3666672706604004, 2.451327085494995, 1.7923885583877563, 1.6794333457946777, 0.3695548474788666, 1.2811344861984253, 1.945338487625122, 2.818086624145508, 1.2365658283233643, 1.484108567237854, 1.708977222442627, 4.051693439483643, 2.335015296936035, 2.5705368518829346, 3.066852569580078, 2.4546737670898438, 1.629941701889038, 1.0780541896820068, 1.7334715127944946, 1.43734610080719, 4.306912899017334, 2.4341073036193848, 1.0680853128433228, 2.9948596954345703, 2.8598241806030273, 1.27084481716156, 4.040676593780518, 0.6198596954345703, 1.0782619714736938, 1.1014615297317505, 0.953826904296875, 1.6303738355636597, 0.12274425476789474, 1.2874053716659546, 4.621881484985352, 1.153219223022461, 3.8746988773345947, 4.443120956420898, 1.2387019395828247, 2.172023057937622, 4.199278354644775, 0.5974920392036438, 2.886255979537964, 1.6527676582336426, 2.001300811767578, 1.9487112760543823, 0.982782244682312, 2.5423216819763184, 4.0880022048950195, 3.5735960006713867, 4.2777581214904785, 1.7195699214935303, 1.6936572790145874, 1.1433429718017578, 0.591256856918335]}],\n",
       "                        {\"template\": {\"data\": {\"bar\": [{\"error_x\": {\"color\": \"#2a3f5f\"}, \"error_y\": {\"color\": \"#2a3f5f\"}, \"marker\": {\"line\": {\"color\": \"#E5ECF6\", \"width\": 0.5}}, \"type\": \"bar\"}], \"barpolar\": [{\"marker\": {\"line\": {\"color\": \"#E5ECF6\", \"width\": 0.5}}, \"type\": \"barpolar\"}], \"carpet\": [{\"aaxis\": {\"endlinecolor\": \"#2a3f5f\", \"gridcolor\": \"white\", \"linecolor\": \"white\", \"minorgridcolor\": \"white\", \"startlinecolor\": \"#2a3f5f\"}, \"baxis\": {\"endlinecolor\": \"#2a3f5f\", \"gridcolor\": \"white\", \"linecolor\": \"white\", \"minorgridcolor\": \"white\", \"startlinecolor\": \"#2a3f5f\"}, \"type\": \"carpet\"}], \"choropleth\": [{\"colorbar\": {\"outlinewidth\": 0, \"ticks\": \"\"}, \"type\": \"choropleth\"}], \"contour\": [{\"colorbar\": {\"outlinewidth\": 0, \"ticks\": \"\"}, \"colorscale\": [[0.0, \"#0d0887\"], [0.1111111111111111, \"#46039f\"], [0.2222222222222222, \"#7201a8\"], [0.3333333333333333, \"#9c179e\"], [0.4444444444444444, \"#bd3786\"], [0.5555555555555556, \"#d8576b\"], [0.6666666666666666, \"#ed7953\"], [0.7777777777777778, \"#fb9f3a\"], [0.8888888888888888, \"#fdca26\"], [1.0, \"#f0f921\"]], \"type\": \"contour\"}], \"contourcarpet\": [{\"colorbar\": {\"outlinewidth\": 0, \"ticks\": \"\"}, \"type\": \"contourcarpet\"}], \"heatmap\": [{\"colorbar\": {\"outlinewidth\": 0, \"ticks\": \"\"}, \"colorscale\": [[0.0, \"#0d0887\"], [0.1111111111111111, \"#46039f\"], [0.2222222222222222, \"#7201a8\"], [0.3333333333333333, \"#9c179e\"], [0.4444444444444444, \"#bd3786\"], [0.5555555555555556, \"#d8576b\"], [0.6666666666666666, \"#ed7953\"], [0.7777777777777778, \"#fb9f3a\"], [0.8888888888888888, \"#fdca26\"], [1.0, \"#f0f921\"]], \"type\": \"heatmap\"}], \"heatmapgl\": [{\"colorbar\": {\"outlinewidth\": 0, \"ticks\": \"\"}, \"colorscale\": [[0.0, \"#0d0887\"], [0.1111111111111111, \"#46039f\"], [0.2222222222222222, \"#7201a8\"], [0.3333333333333333, \"#9c179e\"], [0.4444444444444444, \"#bd3786\"], [0.5555555555555556, \"#d8576b\"], [0.6666666666666666, \"#ed7953\"], [0.7777777777777778, \"#fb9f3a\"], [0.8888888888888888, \"#fdca26\"], [1.0, \"#f0f921\"]], \"type\": \"heatmapgl\"}], \"histogram\": [{\"marker\": {\"colorbar\": {\"outlinewidth\": 0, \"ticks\": \"\"}}, \"type\": \"histogram\"}], \"histogram2d\": [{\"colorbar\": {\"outlinewidth\": 0, \"ticks\": \"\"}, \"colorscale\": [[0.0, \"#0d0887\"], [0.1111111111111111, \"#46039f\"], [0.2222222222222222, \"#7201a8\"], [0.3333333333333333, \"#9c179e\"], [0.4444444444444444, \"#bd3786\"], [0.5555555555555556, \"#d8576b\"], [0.6666666666666666, \"#ed7953\"], [0.7777777777777778, \"#fb9f3a\"], [0.8888888888888888, \"#fdca26\"], [1.0, \"#f0f921\"]], \"type\": \"histogram2d\"}], \"histogram2dcontour\": [{\"colorbar\": {\"outlinewidth\": 0, \"ticks\": \"\"}, \"colorscale\": [[0.0, \"#0d0887\"], [0.1111111111111111, \"#46039f\"], [0.2222222222222222, \"#7201a8\"], [0.3333333333333333, \"#9c179e\"], [0.4444444444444444, \"#bd3786\"], [0.5555555555555556, \"#d8576b\"], [0.6666666666666666, \"#ed7953\"], [0.7777777777777778, \"#fb9f3a\"], [0.8888888888888888, \"#fdca26\"], [1.0, \"#f0f921\"]], \"type\": \"histogram2dcontour\"}], \"mesh3d\": [{\"colorbar\": {\"outlinewidth\": 0, \"ticks\": \"\"}, \"type\": \"mesh3d\"}], \"parcoords\": [{\"line\": {\"colorbar\": {\"outlinewidth\": 0, \"ticks\": \"\"}}, \"type\": \"parcoords\"}], \"pie\": [{\"automargin\": true, \"type\": \"pie\"}], \"scatter\": [{\"marker\": {\"colorbar\": {\"outlinewidth\": 0, \"ticks\": \"\"}}, \"type\": \"scatter\"}], \"scatter3d\": [{\"line\": {\"colorbar\": {\"outlinewidth\": 0, \"ticks\": \"\"}}, \"marker\": {\"colorbar\": {\"outlinewidth\": 0, \"ticks\": \"\"}}, \"type\": \"scatter3d\"}], \"scattercarpet\": [{\"marker\": {\"colorbar\": {\"outlinewidth\": 0, \"ticks\": \"\"}}, \"type\": \"scattercarpet\"}], \"scattergeo\": [{\"marker\": {\"colorbar\": {\"outlinewidth\": 0, \"ticks\": \"\"}}, \"type\": \"scattergeo\"}], \"scattergl\": [{\"marker\": {\"colorbar\": {\"outlinewidth\": 0, \"ticks\": \"\"}}, \"type\": \"scattergl\"}], \"scattermapbox\": [{\"marker\": {\"colorbar\": {\"outlinewidth\": 0, \"ticks\": \"\"}}, \"type\": \"scattermapbox\"}], \"scatterpolar\": [{\"marker\": {\"colorbar\": {\"outlinewidth\": 0, \"ticks\": \"\"}}, \"type\": \"scatterpolar\"}], \"scatterpolargl\": [{\"marker\": {\"colorbar\": {\"outlinewidth\": 0, \"ticks\": \"\"}}, \"type\": \"scatterpolargl\"}], \"scatterternary\": [{\"marker\": {\"colorbar\": {\"outlinewidth\": 0, \"ticks\": \"\"}}, \"type\": \"scatterternary\"}], \"surface\": [{\"colorbar\": {\"outlinewidth\": 0, \"ticks\": \"\"}, \"colorscale\": [[0.0, \"#0d0887\"], [0.1111111111111111, \"#46039f\"], [0.2222222222222222, \"#7201a8\"], [0.3333333333333333, \"#9c179e\"], [0.4444444444444444, \"#bd3786\"], [0.5555555555555556, \"#d8576b\"], [0.6666666666666666, \"#ed7953\"], [0.7777777777777778, \"#fb9f3a\"], [0.8888888888888888, \"#fdca26\"], [1.0, \"#f0f921\"]], \"type\": \"surface\"}], \"table\": [{\"cells\": {\"fill\": {\"color\": \"#EBF0F8\"}, \"line\": {\"color\": \"white\"}}, \"header\": {\"fill\": {\"color\": \"#C8D4E3\"}, \"line\": {\"color\": \"white\"}}, \"type\": \"table\"}]}, \"layout\": {\"annotationdefaults\": {\"arrowcolor\": \"#2a3f5f\", \"arrowhead\": 0, \"arrowwidth\": 1}, \"coloraxis\": {\"colorbar\": {\"outlinewidth\": 0, \"ticks\": \"\"}}, \"colorscale\": {\"diverging\": [[0, \"#8e0152\"], [0.1, \"#c51b7d\"], [0.2, \"#de77ae\"], [0.3, \"#f1b6da\"], [0.4, \"#fde0ef\"], [0.5, \"#f7f7f7\"], [0.6, \"#e6f5d0\"], [0.7, \"#b8e186\"], [0.8, \"#7fbc41\"], [0.9, \"#4d9221\"], [1, \"#276419\"]], \"sequential\": [[0.0, \"#0d0887\"], [0.1111111111111111, \"#46039f\"], [0.2222222222222222, \"#7201a8\"], [0.3333333333333333, \"#9c179e\"], [0.4444444444444444, \"#bd3786\"], [0.5555555555555556, \"#d8576b\"], [0.6666666666666666, \"#ed7953\"], [0.7777777777777778, \"#fb9f3a\"], [0.8888888888888888, \"#fdca26\"], [1.0, \"#f0f921\"]], \"sequentialminus\": [[0.0, \"#0d0887\"], [0.1111111111111111, \"#46039f\"], [0.2222222222222222, \"#7201a8\"], [0.3333333333333333, \"#9c179e\"], [0.4444444444444444, \"#bd3786\"], [0.5555555555555556, \"#d8576b\"], [0.6666666666666666, \"#ed7953\"], [0.7777777777777778, \"#fb9f3a\"], [0.8888888888888888, \"#fdca26\"], [1.0, \"#f0f921\"]]}, \"colorway\": [\"#636efa\", \"#EF553B\", \"#00cc96\", \"#ab63fa\", \"#FFA15A\", \"#19d3f3\", \"#FF6692\", \"#B6E880\", \"#FF97FF\", \"#FECB52\"], \"font\": {\"color\": \"#2a3f5f\"}, \"geo\": {\"bgcolor\": \"white\", \"lakecolor\": \"white\", \"landcolor\": \"#E5ECF6\", \"showlakes\": true, \"showland\": true, \"subunitcolor\": \"white\"}, \"hoverlabel\": {\"align\": \"left\"}, \"hovermode\": \"closest\", \"mapbox\": {\"style\": \"light\"}, \"paper_bgcolor\": \"white\", \"plot_bgcolor\": \"#E5ECF6\", \"polar\": {\"angularaxis\": {\"gridcolor\": \"white\", \"linecolor\": \"white\", \"ticks\": \"\"}, \"bgcolor\": \"#E5ECF6\", \"radialaxis\": {\"gridcolor\": \"white\", \"linecolor\": \"white\", \"ticks\": \"\"}}, \"scene\": {\"xaxis\": {\"backgroundcolor\": \"#E5ECF6\", \"gridcolor\": \"white\", \"gridwidth\": 2, \"linecolor\": \"white\", \"showbackground\": true, \"ticks\": \"\", \"zerolinecolor\": \"white\"}, \"yaxis\": {\"backgroundcolor\": \"#E5ECF6\", \"gridcolor\": \"white\", \"gridwidth\": 2, \"linecolor\": \"white\", \"showbackground\": true, \"ticks\": \"\", \"zerolinecolor\": \"white\"}, \"zaxis\": {\"backgroundcolor\": \"#E5ECF6\", \"gridcolor\": \"white\", \"gridwidth\": 2, \"linecolor\": \"white\", \"showbackground\": true, \"ticks\": \"\", \"zerolinecolor\": \"white\"}}, \"shapedefaults\": {\"line\": {\"color\": \"#2a3f5f\"}}, \"ternary\": {\"aaxis\": {\"gridcolor\": \"white\", \"linecolor\": \"white\", \"ticks\": \"\"}, \"baxis\": {\"gridcolor\": \"white\", \"linecolor\": \"white\", \"ticks\": \"\"}, \"bgcolor\": \"#E5ECF6\", \"caxis\": {\"gridcolor\": \"white\", \"linecolor\": \"white\", \"ticks\": \"\"}}, \"title\": {\"x\": 0.05}, \"xaxis\": {\"automargin\": true, \"gridcolor\": \"white\", \"linecolor\": \"white\", \"ticks\": \"\", \"title\": {\"standoff\": 15}, \"zerolinecolor\": \"white\", \"zerolinewidth\": 2}, \"yaxis\": {\"automargin\": true, \"gridcolor\": \"white\", \"linecolor\": \"white\", \"ticks\": \"\", \"title\": {\"standoff\": 15}, \"zerolinecolor\": \"white\", \"zerolinewidth\": 2}}}},\n",
       "                        {\"responsive\": true}\n",
       "                    ).then(function(){\n",
       "                            \n",
       "var gd = document.getElementById('083605a2-36d7-43cc-b04d-df1adcc42c39');\n",
       "var x = new MutationObserver(function (mutations, observer) {{\n",
       "        var display = window.getComputedStyle(gd).display;\n",
       "        if (!display || display === 'none') {{\n",
       "            console.log([gd, 'removed!']);\n",
       "            Plotly.purge(gd);\n",
       "            observer.disconnect();\n",
       "        }}\n",
       "}});\n",
       "\n",
       "// Listen for the removal of the full notebook cells\n",
       "var notebookContainer = gd.closest('#notebook-container');\n",
       "if (notebookContainer) {{\n",
       "    x.observe(notebookContainer, {childList: true});\n",
       "}}\n",
       "\n",
       "// Listen for the clearing of the current output cell\n",
       "var outputEl = gd.closest('.output');\n",
       "if (outputEl) {{\n",
       "    x.observe(outputEl, {childList: true});\n",
       "}}\n",
       "\n",
       "                        })\n",
       "                };\n",
       "                });\n",
       "            </script>\n",
       "        </div>"
      ]
     },
     "metadata": {},
     "output_type": "display_data"
    }
   ],
   "source": [
    "fig = go.Figure(data=go.Scatter(x=Xr[:, 0],\n",
    "                                y=Xr[:, 1],\n",
    "                                mode='markers',\n",
    "                                text=[f'{label}|{n_token}' for label, n_token in zip(aggr.label, aggr.n_texts)],\n",
    "                                marker_color=plotly_color_categorical_values(cluster)))\n",
    "\n",
    "\n",
    "fig.show()"
   ]
  },
  {
   "cell_type": "code",
   "execution_count": 173,
   "metadata": {},
   "outputs": [
    {
     "data": {
      "text/plain": [
       "<matplotlib.axes._subplots.AxesSubplot at 0x7f87edd155e0>"
      ]
     },
     "execution_count": 173,
     "metadata": {},
     "output_type": "execute_result"
    },
    {
     "data": {
      "image/png": "[encoded data removed]",
      "text/plain": [
       "<Figure size 432x288 with 1 Axes>"
      ]
     },
     "metadata": {
      "needs_background": "light"
     },
     "output_type": "display_data"
    }
   ],
   "source": [
    "import seaborn as sns\n",
    "sns.scatterplot(x=Xr[:, 0],\n",
    "                y=Xr[:, 1],\n",
    "               hue=[f'C{i}' for i in cluster])"
   ]
  },
  {
   "cell_type": "code",
   "execution_count": 174,
   "metadata": {},
   "outputs": [],
   "source": [
    "dfs = get_cluster_dfs(aggr, cluster)"
   ]
  },
  {
   "cell_type": "code",
   "execution_count": 175,
   "metadata": {},
   "outputs": [
    {
     "name": "stdout",
     "output_type": "stream",
     "text": [
      "45     French, Italian\n",
      "121     Greek, English\n",
      "Name: label, dtype: object\n",
      "Total number of movies in cluster => 7\n",
      "############################################################\n",
      "20     English, Japanese\n",
      "68    English, Cantonese\n",
      "Name: label, dtype: object\n",
      "Total number of movies in cluster => 21\n",
      "############################################################\n",
      "10              Mandarin\n",
      "34     Mandarin, English\n",
      "49                 Greek\n",
      "65            Vietnamese\n",
      "90     Min Nan, Mandarin\n",
      "127                Malay\n",
      "Name: label, dtype: object\n",
      "Total number of movies in cluster => 53\n",
      "############################################################\n",
      "15                          Dutch\n",
      "59                 Dutch, English\n",
      "80              Norwegian, German\n",
      "115    Norwegian, English, German\n",
      "123                       Serbian\n",
      "Name: label, dtype: object\n",
      "Total number of movies in cluster => 32\n",
      "############################################################\n",
      "16                     Danish\n",
      "141    Flemish, French, Dutch\n",
      "Name: label, dtype: object\n",
      "Total number of movies in cluster => 23\n",
      "############################################################\n",
      "31             Spanish, English\n",
      "74     English, Russian, French\n",
      "100              English, Dutch\n",
      "130         English, Indonesian\n",
      "Name: label, dtype: object\n",
      "Total number of movies in cluster => 17\n",
      "############################################################\n",
      "7              English, French\n",
      "24            English, Italian\n",
      "47     English, French, German\n",
      "95            English, Swedish\n",
      "101            English, Danish\n",
      "112    English, German, Hebrew\n",
      "Name: label, dtype: object\n",
      "Total number of movies in cluster => 75\n",
      "############################################################\n",
      "30       Japanese, English\n",
      "85      Japanese, Mandarin\n",
      "135    Indonesian, English\n",
      "Name: label, dtype: object\n",
      "Total number of movies in cluster => 15\n",
      "############################################################\n",
      "29           Portuguese\n",
      "72               Hebrew\n",
      "107    Italian, English\n",
      "117            Georgian\n",
      "126             Kirghiz\n",
      "Name: label, dtype: object\n",
      "Total number of movies in cluster => 19\n",
      "############################################################\n",
      "8                   French, English\n",
      "93     Cantonese, English, Mandarin\n",
      "110        Italian, English, French\n",
      "134          French, English, Latin\n",
      "Name: label, dtype: object\n",
      "Total number of movies in cluster => 51\n",
      "############################################################\n",
      "67    French, German, English\n",
      "71             German, French\n",
      "98    German, French, English\n",
      "Name: label, dtype: object\n",
      "Total number of movies in cluster => 8\n",
      "############################################################\n",
      "9              Turkish\n",
      "75    Turkish, English\n",
      "Name: label, dtype: object\n",
      "Total number of movies in cluster => 48\n",
      "############################################################\n",
      "53     English, Hebrew\n",
      "54       English, Thai\n",
      "125     English, Khmer\n",
      "Name: label, dtype: object\n",
      "Total number of movies in cluster => 11\n",
      "############################################################\n",
      "41               French, Arabic\n",
      "86              Polish, English\n",
      "91     French, Spanish, English\n",
      "116             Spanish, French\n",
      "Name: label, dtype: object\n",
      "Total number of movies in cluster => 13\n",
      "############################################################\n",
      "27     Hindi\n",
      "119    Czech\n",
      "Name: label, dtype: object\n",
      "Total number of movies in cluster => 13\n",
      "############################################################\n",
      "46    Norwegian, English\n",
      "Name: label, dtype: object\n",
      "Total number of movies in cluster => 5\n",
      "############################################################\n",
      "3                      Japanese\n",
      "17                      Russian\n",
      "57             Russian, English\n",
      "81            Filipino, Tagalog\n",
      "109    Spanish, English, French\n",
      "133            Korean, Japanese\n",
      "Name: label, dtype: object\n",
      "Total number of movies in cluster => 129\n",
      "############################################################\n",
      "12             English, Russian\n",
      "23           English, Ukrainian\n",
      "28            English, Mandarin\n",
      "136             English, Somali\n",
      "138    English, Scottish Gaelic\n",
      "Name: label, dtype: object\n",
      "Total number of movies in cluster => 52\n",
      "############################################################\n",
      "44              English, Chinese\n",
      "63     English, Italian, Spanish\n",
      "88     English, Spanish, Russian\n",
      "102               English, Irish\n",
      "Name: label, dtype: object\n",
      "Total number of movies in cluster => 14\n",
      "############################################################\n",
      "26              English, Arabic\n",
      "84             English, Klingon\n",
      "99           English, Afrikaans\n",
      "124    English, French, Russian\n",
      "Name: label, dtype: object\n",
      "Total number of movies in cluster => 18\n",
      "############################################################\n",
      "1                          French\n",
      "33                 French, German\n",
      "61                French, Spanish\n",
      "66       French, English, Italian\n",
      "96        French, English, German\n",
      "106    French, English, Ukrainian\n",
      "140     French, English, Japanese\n",
      "Name: label, dtype: object\n",
      "Total number of movies in cluster => 225\n",
      "############################################################\n",
      "2                               German\n",
      "11                     German, English\n",
      "35                     German, Turkish\n",
      "73            German, Russian, English\n",
      "79                     German, Italian\n",
      "97                     Italian, German\n",
      "104              German, French, Latin\n",
      "113                    German, Russian\n",
      "118                     Hebrew, Arabic\n",
      "139    English, American Sign Language\n",
      "Name: label, dtype: object\n",
      "Total number of movies in cluster => 242\n",
      "############################################################\n",
      "39                     Chinese\n",
      "60                      Arabic\n",
      "87     French, Arabic, English\n",
      "105                    Persian\n",
      "Name: label, dtype: object\n",
      "Total number of movies in cluster => 15\n",
      "############################################################\n",
      "78    Finnish\n",
      "Name: label, dtype: object\n",
      "Total number of movies in cluster => 3\n",
      "############################################################\n",
      "40         English, French, Italian\n",
      "77     English, Mandarin, Cantonese\n",
      "108       English, Japanese, French\n",
      "114      English, Japanese, Chinese\n",
      "122                  English, Hindi\n",
      "Name: label, dtype: object\n",
      "Total number of movies in cluster => 15\n",
      "############################################################\n",
      "43    Polish\n",
      "Name: label, dtype: object\n",
      "Total number of movies in cluster => 5\n",
      "############################################################\n",
      "18           Italian\n",
      "52      Swiss German\n",
      "56    Arabic, French\n",
      "64          Romanian\n",
      "Name: label, dtype: object\n",
      "Total number of movies in cluster => 31\n",
      "############################################################\n",
      "14              Norwegian\n",
      "19                Swedish\n",
      "42       Swedish, English\n",
      "129      Swedish, Finnish\n",
      "142    English, Icelandic\n",
      "Name: label, dtype: object\n",
      "Total number of movies in cluster => 50\n",
      "############################################################\n",
      "13         English, German\n",
      "128    English, Vietnamese\n",
      "Name: label, dtype: object\n",
      "Total number of movies in cluster => 26\n",
      "############################################################\n",
      "21                      Icelandic\n",
      "69             Norwegian, Swedish\n",
      "92     Icelandic, English, German\n",
      "120                    Lithuanian\n",
      "Name: label, dtype: object\n",
      "Total number of movies in cluster => 22\n",
      "############################################################\n",
      "22                       Cantonese\n",
      "25                            Thai\n",
      "55                   Thai, English\n",
      "89    Cantonese, Mandarin, English\n",
      "Name: label, dtype: object\n",
      "Total number of movies in cluster => 32\n",
      "############################################################\n",
      "4            English, Spanish\n",
      "32        English, Portuguese\n",
      "48             English, Greek\n",
      "70    English, Serbo-Croatian\n",
      "Name: label, dtype: object\n",
      "Total number of movies in cluster => 95\n",
      "############################################################\n",
      "6                  Korean\n",
      "37     Cantonese, English\n",
      "38        Korean, English\n",
      "76       Korean, Mandarin\n",
      "83         Hindi, English\n",
      "111            Indonesian\n",
      "Name: label, dtype: object\n",
      "Total number of movies in cluster => 72\n",
      "############################################################\n",
      "5                       Spanish\n",
      "62      English, Arabic, Hebrew\n",
      "94           English, Bulgarian\n",
      "131            Spanish, Catalan\n",
      "132    French, English, Russian\n",
      "Name: label, dtype: object\n",
      "Total number of movies in cluster => 81\n",
      "############################################################\n",
      "36              Mandarin, Cantonese\n",
      "58              Cantonese, Mandarin\n",
      "82     Mandarin, Cantonese, English\n",
      "103             Mandarin, Mongolian\n",
      "Name: label, dtype: object\n",
      "Total number of movies in cluster => 16\n",
      "############################################################\n",
      "0               English\n",
      "50       English, Latin\n",
      "51      English, Korean\n",
      "137    English, Serbian\n",
      "Name: label, dtype: object\n",
      "Total number of movies in cluster => 1394\n",
      "############################################################\n"
     ]
    }
   ],
   "source": [
    "for cluster_df in dfs:\n",
    "    print(cluster_df.label)\n",
    "    print(f'Total number of movies in cluster => {cluster_df.n_texts.sum()}')\n",
    "    print('#'*60)"
   ]
  },
  {
   "cell_type": "code",
   "execution_count": null,
   "metadata": {},
   "outputs": [],
   "source": []
  }
 ],
 "metadata": {
  "kernelspec": {
   "display_name": "Python 3",
   "language": "python",
   "name": "python3"
  },
  "language_info": {
   "codemirror_mode": {
    "name": "ipython",
    "version": 3
   },
   "file_extension": ".py",
   "mimetype": "text/x-python",
   "name": "python",
   "nbconvert_exporter": "python",
   "pygments_lexer": "ipython3",
   "version": "3.8.2"
  }
 },
 "nbformat": 4,
 "nbformat_minor": 4
}
