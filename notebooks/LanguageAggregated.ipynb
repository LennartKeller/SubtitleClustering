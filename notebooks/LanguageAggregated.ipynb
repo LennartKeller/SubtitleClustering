{
 "cells": [
  {
   "cell_type": "code",
   "execution_count": 1,
   "metadata": {},
   "outputs": [],
   "source": [
    "import pandas as pd\n",
    "import matplotlib.pyplot as plt\n",
    "import numpy as np\n",
    "import plotly.graph_objects as go\n",
    "import seaborn as sns\n",
    "from sklearn.feature_extraction.text import TfidfVectorizer\n",
    "from stop_words import get_stop_words\n",
    "from sklearn.decomposition import PCA\n",
    "from sklearn.cluster import KMeans\n",
    "from umap import UMAP\n",
    "from collections import Counter"
   ]
  },
  {
   "cell_type": "code",
   "execution_count": 2,
   "metadata": {},
   "outputs": [],
   "source": [
    "df = pd.read_csv('../dataset/movies_complete.csv')\n",
    "df.dropna(subset=['genre'], inplace=True)\n",
    "df['text_length'] = df.text.apply(lambda x: len(x.split()))\n",
    "df = df[df['text_length'] >= 3000]"
   ]
  },
  {
   "cell_type": "code",
   "execution_count": 3,
   "metadata": {},
   "outputs": [],
   "source": [
    "def aggregate_by_label(df: pd.DataFrame, label: str, min_threshold: int = 0):\n",
    "    \n",
    "    top_labels = df[label].value_counts()[df[label].value_counts() > min_threshold]\n",
    "    \n",
    "    entries = []\n",
    "    for l in top_labels.index:\n",
    "        label_df = df[df[label] == l]\n",
    "        all_texts = []\n",
    "        for text in label_df.text:\n",
    "            all_texts.append(text)\n",
    "        entry = {}\n",
    "        \n",
    "        conctanated_text = \" \".join(all_texts)\n",
    "        entry['label'] = l\n",
    "        entry['text'] = conctanated_text\n",
    "        entry['n_texts'] = len(all_texts)\n",
    "        entry['n_tokens'] = len(conctanated_text.split())\n",
    "        entry['instances'] = \", \".join(label_df.filename.to_list())\n",
    "        \n",
    "        entries.append(entry)\n",
    "    return pd.DataFrame.from_records(entries)"
   ]
  },
  {
   "cell_type": "code",
   "execution_count": 4,
   "metadata": {},
   "outputs": [],
   "source": [
    "def get_cluster_dfs(df, cluster):\n",
    "    return[df[cluster == i] for i in np.unique(cluster)]"
   ]
  },
  {
   "cell_type": "code",
   "execution_count": 5,
   "metadata": {},
   "outputs": [],
   "source": [
    "from plotly.colors import qualitative \n",
    "\n",
    "def plotly_color_categorical_values(values, cmap=qualitative.Light24):\n",
    "    uniq = np.unique(values)\n",
    "    if len(uniq) > len(cmap):\n",
    "        print(\"Need more colors than current cmap holds\")\n",
    "        return\n",
    "    categories_color = {cat: cmap[index] for index, cat in enumerate(uniq)}\n",
    "    return [categories_color[cat] for cat in values]"
   ]
  },
  {
   "cell_type": "code",
   "execution_count": 6,
   "metadata": {},
   "outputs": [],
   "source": [
    "aggr = aggregate_by_label(df, 'Language', 2)"
   ]
  },
  {
   "cell_type": "code",
   "execution_count": 22,
   "metadata": {},
   "outputs": [],
   "source": [
    "tfidf = TfidfVectorizer(\n",
    "    #stop_words=get_stop_words('de'),\n",
    "    max_features=100)\n",
    "\n",
    "X = tfidf.fit_transform(aggr.text)"
   ]
  },
  {
   "cell_type": "code",
   "execution_count": 23,
   "metadata": {},
   "outputs": [],
   "source": [
    "Xr = UMAP(n_components=2, n_neighbors=20).fit_transform(X.todense())\n",
    "#Xr = PCA(n_components=2).fit_transform(X.todense())"
   ]
  },
  {
   "cell_type": "code",
   "execution_count": 24,
   "metadata": {},
   "outputs": [
    {
     "data": {
      "application/vnd.plotly.v1+json": {
       "config": {
        "plotlyServerURL": "https://plot.ly"
       },
       "data": [
        {
         "marker": {
          "color": [
           12181830,
           1589231,
           1676394,
           670914,
           810080,
           532378,
           395234,
           484261,
           361604,
           485290,
           237221,
           243233,
           240343,
           207250,
           147740,
           156794,
           144459,
           118492,
           143324,
           136157,
           126810,
           98198,
           95279,
           135981,
           147809,
           78349,
           137156,
           105164,
           100770,
           73679,
           57035,
           69555,
           83374,
           58867,
           54356,
           45473,
           47078,
           41719,
           38277,
           44621,
           42856,
           45145,
           43172,
           29621,
           34642,
           36370,
           29945,
           57788,
           42901,
           26038,
           42262,
           52111,
           30327,
           67385,
           30004,
           22157,
           25831,
           31430,
           27401,
           27648,
           33941,
           28061,
           21666,
           38116,
           31173,
           13983,
           27726,
           21840,
           26624,
           19584,
           29447,
           35228,
           19688,
           20252,
           23952,
           52498,
           20866,
           36079,
           22039,
           26734,
           22602,
           23903,
           21238,
           35653,
           32539,
           21221,
           19261,
           22517,
           23147,
           21816
          ]
         },
         "mode": "markers",
         "text": [
          "English|1382",
          "French|204",
          "German|190",
          "Japanese|100",
          "English, Spanish|78",
          "Spanish|71",
          "Korean|51",
          "English, French|51",
          "French, English|45",
          "Turkish|45",
          "Mandarin|33",
          "German, English|29",
          "English, Russian|24",
          "English, German|24",
          "Norwegian|23",
          "Dutch|21",
          "Danish|21",
          "Russian|18",
          "Italian|18",
          "Swedish|18",
          "English, Japanese|18",
          "Icelandic|15",
          "Cantonese|13",
          "English, Ukrainian|13",
          "English, Italian|13",
          "Thai|12",
          "English, Arabic|11",
          "Hindi|11",
          "English, Mandarin|11",
          "Portuguese|10",
          "Japanese, English|10",
          "Spanish, English|10",
          "English, Portuguese|9",
          "French, German|8",
          "Mandarin, English|8",
          "German, Turkish|7",
          "Mandarin, Cantonese|7",
          "Cantonese, English|7",
          "Korean, English|6",
          "Chinese|6",
          "English, French, Italian|6",
          "French, Arabic|6",
          "Swedish, English|5",
          "Polish|5",
          "English, Chinese|5",
          "French, Italian|5",
          "Norwegian, English|5",
          "English, French, German|5",
          "English, Greek|5",
          "Greek|5",
          "English, Latin|5",
          "English, Korean|5",
          "Swiss German|5",
          "English, Hebrew|5",
          "English, Thai|4",
          "Thai, English|4",
          "Arabic, French|4",
          "Russian, English|4",
          "Cantonese, Mandarin|4",
          "Dutch, English|4",
          "Arabic|4",
          "French, Spanish|4",
          "English, Arabic, Hebrew|4",
          "English, Italian, Spanish|4",
          "Romanian|4",
          "Vietnamese|3",
          "French, English, Italian|3",
          "French, German, English|3",
          "English, Cantonese|3",
          "Norwegian, Swedish|3",
          "English, Serbo-Croatian|3",
          "German, French|3",
          "Hebrew|3",
          "German, Russian, English|3",
          "English, Russian, French|3",
          "Turkish, English|3",
          "Korean, Mandarin|3",
          "English, Mandarin, Cantonese|3",
          "Finnish|3",
          "German, Italian|3",
          "Norwegian, German|3",
          "Filipino, Tagalog|3",
          "Mandarin, Cantonese, English|3",
          "Hindi, English|3",
          "English, Klingon|3",
          "Japanese, Mandarin|3",
          "Polish, English|3",
          "French, Arabic, English|3",
          "English, Spanish, Russian|3",
          "Cantonese, Mandarin, English|3"
         ],
         "type": "scatter",
         "x": [
          8.797822952270508,
          9.732447624206543,
          8.362956047058105,
          7.2574663162231445,
          8.550339698791504,
          7.650097846984863,
          7.6871137619018555,
          9.441471099853516,
          9.226712226867676,
          6.563607692718506,
          6.363021373748779,
          8.505470275878906,
          8.615363121032715,
          8.9525728225708,
          7.257264614105225,
          8.512164115905762,
          7.700613021850586,
          6.879306793212891,
          7.0656867027282715,
          7.608543872833252,
          7.919866561889648,
          7.227521896362305,
          6.531156539916992,
          9.322385787963867,
          9.72653865814209,
          6.159618854522705,
          8.762767791748047,
          9.245591163635254,
          8.795638084411621,
          7.319187164306641,
          7.335461139678955,
          8.11899185180664,
          8.87554931640625,
          9.765318870544434,
          6.374034881591797,
          7.844731330871582,
          5.967413902282715,
          6.890420913696289,
          8.266995429992676,
          5.971820831298828,
          9.006442070007324,
          7.494779586791992,
          8.611695289611816,
          7.3019609451293945,
          7.99884557723999,
          10.104986190795898,
          8.1519775390625,
          7.891753196716309,
          9.199551582336426,
          6.991600513458252,
          9.092949867248535,
          8.86820125579834,
          7.306323528289795,
          9.039057731628418,
          8.415453910827637,
          7.070446014404297,
          7.769211769104004,
          6.903538703918457,
          6.5086283683776855,
          9.561078071594238,
          5.992635726928711,
          9.528916358947754,
          7.293447494506836,
          7.898076057434082,
          7.044174671173096,
          5.90301513671875,
          9.417610168457031,
          7.917518138885498,
          9.76252269744873,
          7.075031280517578,
          7.776671886444092,
          7.419733047485352,
          7.332674980163574,
          8.157370567321777,
          9.699406623840332,
          6.653700828552246,
          6.442979335784912,
          9.105815887451172,
          7.5585126876831055,
          7.910824298858643,
          8.300675392150879,
          6.670753002166748,
          6.277902603149414,
          7.127136707305908,
          9.63243579864502,
          6.850076198577881,
          7.131344795227051,
          5.852339744567871,
          7.85893440246582,
          10.14019775390625
         ],
         "y": [
          6.724038124084473,
          6.51390266418457,
          8.028206825256348,
          5.8114848136901855,
          6.909309387207031,
          6.434739589691162,
          5.172682762145996,
          5.2311601638793945,
          6.141408920288086,
          7.560321807861328,
          5.404402256011963,
          7.891124725341797,
          5.859406471252441,
          4.535977363586426,
          8.674230575561523,
          8.109609603881836,
          5.58558988571167,
          5.551206588745117,
          7.728617191314697,
          8.65153980255127,
          5.4362006187438965,
          8.121889114379883,
          6.4935808181762695,
          5.767119407653809,
          5.962879657745361,
          6.025742053985596,
          4.888880252838135,
          4.801156044006348,
          6.078268527984619,
          7.502989292144775,
          5.412728309631348,
          6.074440002441406,
          7.217957019805908,
          5.2114081382751465,
          5.722830772399902,
          8.644070625305176,
          5.646768569946289,
          5.034529685974121,
          5.137893199920654,
          6.486663818359375,
          6.524425029754639,
          6.933098316192627,
          6.363719940185547,
          4.760095596313477,
          5.979946136474609,
          5.509695529937744,
          7.260741710662842,
          4.397145748138428,
          6.470500469207764,
          4.886983871459961,
          5.58375358581543,
          5.793003082275391,
          8.050905227661133,
          6.890775680541992,
          7.0469279289245605,
          6.353850364685059,
          6.821342468261719,
          6.131552219390869,
          5.240626811981201,
          6.419313907623291,
          6.283637523651123,
          6.269192218780518,
          6.739546775817871,
          7.049859523773193,
          7.199032306671143,
          7.008687496185303,
          4.95562219619751,
          4.45621919631958,
          4.821218490600586,
          8.463274002075195,
          8.232601165771484,
          4.596874713897705,
          4.830092430114746,
          4.890278339385986,
          5.413580894470215,
          7.397292613983154,
          6.217042922973633,
          4.648151874542236,
          8.440999984741211,
          8.578248023986816,
          8.259122848510742,
          6.559535026550293,
          6.967519283294678,
          5.872964859008789,
          4.597208499908447,
          5.953181266784668,
          7.001326084136963,
          5.397300720214844,
          6.50904655456543,
          5.101058483123779
         ]
        }
       ],
       "layout": {
        "template": {
         "data": {
          "bar": [
           {
            "error_x": {
             "color": "#2a3f5f"
            },
            "error_y": {
             "color": "#2a3f5f"
            },
            "marker": {
             "line": {
              "color": "#E5ECF6",
              "width": 0.5
             }
            },
            "type": "bar"
           }
          ],
          "barpolar": [
           {
            "marker": {
             "line": {
              "color": "#E5ECF6",
              "width": 0.5
             }
            },
            "type": "barpolar"
           }
          ],
          "carpet": [
           {
            "aaxis": {
             "endlinecolor": "#2a3f5f",
             "gridcolor": "white",
             "linecolor": "white",
             "minorgridcolor": "white",
             "startlinecolor": "#2a3f5f"
            },
            "baxis": {
             "endlinecolor": "#2a3f5f",
             "gridcolor": "white",
             "linecolor": "white",
             "minorgridcolor": "white",
             "startlinecolor": "#2a3f5f"
            },
            "type": "carpet"
           }
          ],
          "choropleth": [
           {
            "colorbar": {
             "outlinewidth": 0,
             "ticks": ""
            },
            "type": "choropleth"
           }
          ],
          "contour": [
           {
            "colorbar": {
             "outlinewidth": 0,
             "ticks": ""
            },
            "colorscale": [
             [
              0,
              "#0d0887"
             ],
             [
              0.1111111111111111,
              "#46039f"
             ],
             [
              0.2222222222222222,
              "#7201a8"
             ],
             [
              0.3333333333333333,
              "#9c179e"
             ],
             [
              0.4444444444444444,
              "#bd3786"
             ],
             [
              0.5555555555555556,
              "#d8576b"
             ],
             [
              0.6666666666666666,
              "#ed7953"
             ],
             [
              0.7777777777777778,
              "#fb9f3a"
             ],
             [
              0.8888888888888888,
              "#fdca26"
             ],
             [
              1,
              "#f0f921"
             ]
            ],
            "type": "contour"
           }
          ],
          "contourcarpet": [
           {
            "colorbar": {
             "outlinewidth": 0,
             "ticks": ""
            },
            "type": "contourcarpet"
           }
          ],
          "heatmap": [
           {
            "colorbar": {
             "outlinewidth": 0,
             "ticks": ""
            },
            "colorscale": [
             [
              0,
              "#0d0887"
             ],
             [
              0.1111111111111111,
              "#46039f"
             ],
             [
              0.2222222222222222,
              "#7201a8"
             ],
             [
              0.3333333333333333,
              "#9c179e"
             ],
             [
              0.4444444444444444,
              "#bd3786"
             ],
             [
              0.5555555555555556,
              "#d8576b"
             ],
             [
              0.6666666666666666,
              "#ed7953"
             ],
             [
              0.7777777777777778,
              "#fb9f3a"
             ],
             [
              0.8888888888888888,
              "#fdca26"
             ],
             [
              1,
              "#f0f921"
             ]
            ],
            "type": "heatmap"
           }
          ],
          "heatmapgl": [
           {
            "colorbar": {
             "outlinewidth": 0,
             "ticks": ""
            },
            "colorscale": [
             [
              0,
              "#0d0887"
             ],
             [
              0.1111111111111111,
              "#46039f"
             ],
             [
              0.2222222222222222,
              "#7201a8"
             ],
             [
              0.3333333333333333,
              "#9c179e"
             ],
             [
              0.4444444444444444,
              "#bd3786"
             ],
             [
              0.5555555555555556,
              "#d8576b"
             ],
             [
              0.6666666666666666,
              "#ed7953"
             ],
             [
              0.7777777777777778,
              "#fb9f3a"
             ],
             [
              0.8888888888888888,
              "#fdca26"
             ],
             [
              1,
              "#f0f921"
             ]
            ],
            "type": "heatmapgl"
           }
          ],
          "histogram": [
           {
            "marker": {
             "colorbar": {
              "outlinewidth": 0,
              "ticks": ""
             }
            },
            "type": "histogram"
           }
          ],
          "histogram2d": [
           {
            "colorbar": {
             "outlinewidth": 0,
             "ticks": ""
            },
            "colorscale": [
             [
              0,
              "#0d0887"
             ],
             [
              0.1111111111111111,
              "#46039f"
             ],
             [
              0.2222222222222222,
              "#7201a8"
             ],
             [
              0.3333333333333333,
              "#9c179e"
             ],
             [
              0.4444444444444444,
              "#bd3786"
             ],
             [
              0.5555555555555556,
              "#d8576b"
             ],
             [
              0.6666666666666666,
              "#ed7953"
             ],
             [
              0.7777777777777778,
              "#fb9f3a"
             ],
             [
              0.8888888888888888,
              "#fdca26"
             ],
             [
              1,
              "#f0f921"
             ]
            ],
            "type": "histogram2d"
           }
          ],
          "histogram2dcontour": [
           {
            "colorbar": {
             "outlinewidth": 0,
             "ticks": ""
            },
            "colorscale": [
             [
              0,
              "#0d0887"
             ],
             [
              0.1111111111111111,
              "#46039f"
             ],
             [
              0.2222222222222222,
              "#7201a8"
             ],
             [
              0.3333333333333333,
              "#9c179e"
             ],
             [
              0.4444444444444444,
              "#bd3786"
             ],
             [
              0.5555555555555556,
              "#d8576b"
             ],
             [
              0.6666666666666666,
              "#ed7953"
             ],
             [
              0.7777777777777778,
              "#fb9f3a"
             ],
             [
              0.8888888888888888,
              "#fdca26"
             ],
             [
              1,
              "#f0f921"
             ]
            ],
            "type": "histogram2dcontour"
           }
          ],
          "mesh3d": [
           {
            "colorbar": {
             "outlinewidth": 0,
             "ticks": ""
            },
            "type": "mesh3d"
           }
          ],
          "parcoords": [
           {
            "line": {
             "colorbar": {
              "outlinewidth": 0,
              "ticks": ""
             }
            },
            "type": "parcoords"
           }
          ],
          "pie": [
           {
            "automargin": true,
            "type": "pie"
           }
          ],
          "scatter": [
           {
            "marker": {
             "colorbar": {
              "outlinewidth": 0,
              "ticks": ""
             }
            },
            "type": "scatter"
           }
          ],
          "scatter3d": [
           {
            "line": {
             "colorbar": {
              "outlinewidth": 0,
              "ticks": ""
             }
            },
            "marker": {
             "colorbar": {
              "outlinewidth": 0,
              "ticks": ""
             }
            },
            "type": "scatter3d"
           }
          ],
          "scattercarpet": [
           {
            "marker": {
             "colorbar": {
              "outlinewidth": 0,
              "ticks": ""
             }
            },
            "type": "scattercarpet"
           }
          ],
          "scattergeo": [
           {
            "marker": {
             "colorbar": {
              "outlinewidth": 0,
              "ticks": ""
             }
            },
            "type": "scattergeo"
           }
          ],
          "scattergl": [
           {
            "marker": {
             "colorbar": {
              "outlinewidth": 0,
              "ticks": ""
             }
            },
            "type": "scattergl"
           }
          ],
          "scattermapbox": [
           {
            "marker": {
             "colorbar": {
              "outlinewidth": 0,
              "ticks": ""
             }
            },
            "type": "scattermapbox"
           }
          ],
          "scatterpolar": [
           {
            "marker": {
             "colorbar": {
              "outlinewidth": 0,
              "ticks": ""
             }
            },
            "type": "scatterpolar"
           }
          ],
          "scatterpolargl": [
           {
            "marker": {
             "colorbar": {
              "outlinewidth": 0,
              "ticks": ""
             }
            },
            "type": "scatterpolargl"
           }
          ],
          "scatterternary": [
           {
            "marker": {
             "colorbar": {
              "outlinewidth": 0,
              "ticks": ""
             }
            },
            "type": "scatterternary"
           }
          ],
          "surface": [
           {
            "colorbar": {
             "outlinewidth": 0,
             "ticks": ""
            },
            "colorscale": [
             [
              0,
              "#0d0887"
             ],
             [
              0.1111111111111111,
              "#46039f"
             ],
             [
              0.2222222222222222,
              "#7201a8"
             ],
             [
              0.3333333333333333,
              "#9c179e"
             ],
             [
              0.4444444444444444,
              "#bd3786"
             ],
             [
              0.5555555555555556,
              "#d8576b"
             ],
             [
              0.6666666666666666,
              "#ed7953"
             ],
             [
              0.7777777777777778,
              "#fb9f3a"
             ],
             [
              0.8888888888888888,
              "#fdca26"
             ],
             [
              1,
              "#f0f921"
             ]
            ],
            "type": "surface"
           }
          ],
          "table": [
           {
            "cells": {
             "fill": {
              "color": "#EBF0F8"
             },
             "line": {
              "color": "white"
             }
            },
            "header": {
             "fill": {
              "color": "#C8D4E3"
             },
             "line": {
              "color": "white"
             }
            },
            "type": "table"
           }
          ]
         },
         "layout": {
          "annotationdefaults": {
           "arrowcolor": "#2a3f5f",
           "arrowhead": 0,
           "arrowwidth": 1
          },
          "coloraxis": {
           "colorbar": {
            "outlinewidth": 0,
            "ticks": ""
           }
          },
          "colorscale": {
           "diverging": [
            [
             0,
             "#8e0152"
            ],
            [
             0.1,
             "#c51b7d"
            ],
            [
             0.2,
             "#de77ae"
            ],
            [
             0.3,
             "#f1b6da"
            ],
            [
             0.4,
             "#fde0ef"
            ],
            [
             0.5,
             "#f7f7f7"
            ],
            [
             0.6,
             "#e6f5d0"
            ],
            [
             0.7,
             "#b8e186"
            ],
            [
             0.8,
             "#7fbc41"
            ],
            [
             0.9,
             "#4d9221"
            ],
            [
             1,
             "#276419"
            ]
           ],
           "sequential": [
            [
             0,
             "#0d0887"
            ],
            [
             0.1111111111111111,
             "#46039f"
            ],
            [
             0.2222222222222222,
             "#7201a8"
            ],
            [
             0.3333333333333333,
             "#9c179e"
            ],
            [
             0.4444444444444444,
             "#bd3786"
            ],
            [
             0.5555555555555556,
             "#d8576b"
            ],
            [
             0.6666666666666666,
             "#ed7953"
            ],
            [
             0.7777777777777778,
             "#fb9f3a"
            ],
            [
             0.8888888888888888,
             "#fdca26"
            ],
            [
             1,
             "#f0f921"
            ]
           ],
           "sequentialminus": [
            [
             0,
             "#0d0887"
            ],
            [
             0.1111111111111111,
             "#46039f"
            ],
            [
             0.2222222222222222,
             "#7201a8"
            ],
            [
             0.3333333333333333,
             "#9c179e"
            ],
            [
             0.4444444444444444,
             "#bd3786"
            ],
            [
             0.5555555555555556,
             "#d8576b"
            ],
            [
             0.6666666666666666,
             "#ed7953"
            ],
            [
             0.7777777777777778,
             "#fb9f3a"
            ],
            [
             0.8888888888888888,
             "#fdca26"
            ],
            [
             1,
             "#f0f921"
            ]
           ]
          },
          "colorway": [
           "#636efa",
           "#EF553B",
           "#00cc96",
           "#ab63fa",
           "#FFA15A",
           "#19d3f3",
           "#FF6692",
           "#B6E880",
           "#FF97FF",
           "#FECB52"
          ],
          "font": {
           "color": "#2a3f5f"
          },
          "geo": {
           "bgcolor": "white",
           "lakecolor": "white",
           "landcolor": "#E5ECF6",
           "showlakes": true,
           "showland": true,
           "subunitcolor": "white"
          },
          "hoverlabel": {
           "align": "left"
          },
          "hovermode": "closest",
          "mapbox": {
           "style": "light"
          },
          "paper_bgcolor": "white",
          "plot_bgcolor": "#E5ECF6",
          "polar": {
           "angularaxis": {
            "gridcolor": "white",
            "linecolor": "white",
            "ticks": ""
           },
           "bgcolor": "#E5ECF6",
           "radialaxis": {
            "gridcolor": "white",
            "linecolor": "white",
            "ticks": ""
           }
          },
          "scene": {
           "xaxis": {
            "backgroundcolor": "#E5ECF6",
            "gridcolor": "white",
            "gridwidth": 2,
            "linecolor": "white",
            "showbackground": true,
            "ticks": "",
            "zerolinecolor": "white"
           },
           "yaxis": {
            "backgroundcolor": "#E5ECF6",
            "gridcolor": "white",
            "gridwidth": 2,
            "linecolor": "white",
            "showbackground": true,
            "ticks": "",
            "zerolinecolor": "white"
           },
           "zaxis": {
            "backgroundcolor": "#E5ECF6",
            "gridcolor": "white",
            "gridwidth": 2,
            "linecolor": "white",
            "showbackground": true,
            "ticks": "",
            "zerolinecolor": "white"
           }
          },
          "shapedefaults": {
           "line": {
            "color": "#2a3f5f"
           }
          },
          "ternary": {
           "aaxis": {
            "gridcolor": "white",
            "linecolor": "white",
            "ticks": ""
           },
           "baxis": {
            "gridcolor": "white",
            "linecolor": "white",
            "ticks": ""
           },
           "bgcolor": "#E5ECF6",
           "caxis": {
            "gridcolor": "white",
            "linecolor": "white",
            "ticks": ""
           }
          },
          "title": {
           "x": 0.05
          },
          "xaxis": {
           "automargin": true,
           "gridcolor": "white",
           "linecolor": "white",
           "ticks": "",
           "title": {
            "standoff": 15
           },
           "zerolinecolor": "white",
           "zerolinewidth": 2
          },
          "yaxis": {
           "automargin": true,
           "gridcolor": "white",
           "linecolor": "white",
           "ticks": "",
           "title": {
            "standoff": 15
           },
           "zerolinecolor": "white",
           "zerolinewidth": 2
          }
         }
        }
       }
      },
      "text/html": [
       "<div>\n",
       "        \n",
       "        \n",
       "            <div id=\"aa5c12dd-ce1e-454b-aece-0538a570168f\" class=\"plotly-graph-div\" style=\"height:525px; width:100%;\"></div>\n",
       "            <script type=\"text/javascript\">\n",
       "                require([\"plotly\"], function(Plotly) {\n",
       "                    window.PLOTLYENV=window.PLOTLYENV || {};\n",
       "                    \n",
       "                if (document.getElementById(\"aa5c12dd-ce1e-454b-aece-0538a570168f\")) {\n",
       "                    Plotly.newPlot(\n",
       "                        'aa5c12dd-ce1e-454b-aece-0538a570168f',\n",
       "                        [{\"marker\": {\"color\": [12181830, 1589231, 1676394, 670914, 810080, 532378, 395234, 484261, 361604, 485290, 237221, 243233, 240343, 207250, 147740, 156794, 144459, 118492, 143324, 136157, 126810, 98198, 95279, 135981, 147809, 78349, 137156, 105164, 100770, 73679, 57035, 69555, 83374, 58867, 54356, 45473, 47078, 41719, 38277, 44621, 42856, 45145, 43172, 29621, 34642, 36370, 29945, 57788, 42901, 26038, 42262, 52111, 30327, 67385, 30004, 22157, 25831, 31430, 27401, 27648, 33941, 28061, 21666, 38116, 31173, 13983, 27726, 21840, 26624, 19584, 29447, 35228, 19688, 20252, 23952, 52498, 20866, 36079, 22039, 26734, 22602, 23903, 21238, 35653, 32539, 21221, 19261, 22517, 23147, 21816]}, \"mode\": \"markers\", \"text\": [\"English|1382\", \"French|204\", \"German|190\", \"Japanese|100\", \"English, Spanish|78\", \"Spanish|71\", \"Korean|51\", \"English, French|51\", \"French, English|45\", \"Turkish|45\", \"Mandarin|33\", \"German, English|29\", \"English, Russian|24\", \"English, German|24\", \"Norwegian|23\", \"Dutch|21\", \"Danish|21\", \"Russian|18\", \"Italian|18\", \"Swedish|18\", \"English, Japanese|18\", \"Icelandic|15\", \"Cantonese|13\", \"English, Ukrainian|13\", \"English, Italian|13\", \"Thai|12\", \"English, Arabic|11\", \"Hindi|11\", \"English, Mandarin|11\", \"Portuguese|10\", \"Japanese, English|10\", \"Spanish, English|10\", \"English, Portuguese|9\", \"French, German|8\", \"Mandarin, English|8\", \"German, Turkish|7\", \"Mandarin, Cantonese|7\", \"Cantonese, English|7\", \"Korean, English|6\", \"Chinese|6\", \"English, French, Italian|6\", \"French, Arabic|6\", \"Swedish, English|5\", \"Polish|5\", \"English, Chinese|5\", \"French, Italian|5\", \"Norwegian, English|5\", \"English, French, German|5\", \"English, Greek|5\", \"Greek|5\", \"English, Latin|5\", \"English, Korean|5\", \"Swiss German|5\", \"English, Hebrew|5\", \"English, Thai|4\", \"Thai, English|4\", \"Arabic, French|4\", \"Russian, English|4\", \"Cantonese, Mandarin|4\", \"Dutch, English|4\", \"Arabic|4\", \"French, Spanish|4\", \"English, Arabic, Hebrew|4\", \"English, Italian, Spanish|4\", \"Romanian|4\", \"Vietnamese|3\", \"French, English, Italian|3\", \"French, German, English|3\", \"English, Cantonese|3\", \"Norwegian, Swedish|3\", \"English, Serbo-Croatian|3\", \"German, French|3\", \"Hebrew|3\", \"German, Russian, English|3\", \"English, Russian, French|3\", \"Turkish, English|3\", \"Korean, Mandarin|3\", \"English, Mandarin, Cantonese|3\", \"Finnish|3\", \"German, Italian|3\", \"Norwegian, German|3\", \"Filipino, Tagalog|3\", \"Mandarin, Cantonese, English|3\", \"Hindi, English|3\", \"English, Klingon|3\", \"Japanese, Mandarin|3\", \"Polish, English|3\", \"French, Arabic, English|3\", \"English, Spanish, Russian|3\", \"Cantonese, Mandarin, English|3\"], \"type\": \"scatter\", \"x\": [8.797822952270508, 9.732447624206543, 8.362956047058105, 7.2574663162231445, 8.550339698791504, 7.650097846984863, 7.6871137619018555, 9.441471099853516, 9.226712226867676, 6.563607692718506, 6.363021373748779, 8.505470275878906, 8.615363121032715, 8.9525728225708, 7.257264614105225, 8.512164115905762, 7.700613021850586, 6.879306793212891, 7.0656867027282715, 7.608543872833252, 7.919866561889648, 7.227521896362305, 6.531156539916992, 9.322385787963867, 9.72653865814209, 6.159618854522705, 8.762767791748047, 9.245591163635254, 8.795638084411621, 7.319187164306641, 7.335461139678955, 8.11899185180664, 8.87554931640625, 9.765318870544434, 6.374034881591797, 7.844731330871582, 5.967413902282715, 6.890420913696289, 8.266995429992676, 5.971820831298828, 9.006442070007324, 7.494779586791992, 8.611695289611816, 7.3019609451293945, 7.99884557723999, 10.104986190795898, 8.1519775390625, 7.891753196716309, 9.199551582336426, 6.991600513458252, 9.092949867248535, 8.86820125579834, 7.306323528289795, 9.039057731628418, 8.415453910827637, 7.070446014404297, 7.769211769104004, 6.903538703918457, 6.5086283683776855, 9.561078071594238, 5.992635726928711, 9.528916358947754, 7.293447494506836, 7.898076057434082, 7.044174671173096, 5.90301513671875, 9.417610168457031, 7.917518138885498, 9.76252269744873, 7.075031280517578, 7.776671886444092, 7.419733047485352, 7.332674980163574, 8.157370567321777, 9.699406623840332, 6.653700828552246, 6.442979335784912, 9.105815887451172, 7.5585126876831055, 7.910824298858643, 8.300675392150879, 6.670753002166748, 6.277902603149414, 7.127136707305908, 9.63243579864502, 6.850076198577881, 7.131344795227051, 5.852339744567871, 7.85893440246582, 10.14019775390625], \"y\": [6.724038124084473, 6.51390266418457, 8.028206825256348, 5.8114848136901855, 6.909309387207031, 6.434739589691162, 5.172682762145996, 5.2311601638793945, 6.141408920288086, 7.560321807861328, 5.404402256011963, 7.891124725341797, 5.859406471252441, 4.535977363586426, 8.674230575561523, 8.109609603881836, 5.58558988571167, 5.551206588745117, 7.728617191314697, 8.65153980255127, 5.4362006187438965, 8.121889114379883, 6.4935808181762695, 5.767119407653809, 5.962879657745361, 6.025742053985596, 4.888880252838135, 4.801156044006348, 6.078268527984619, 7.502989292144775, 5.412728309631348, 6.074440002441406, 7.217957019805908, 5.2114081382751465, 5.722830772399902, 8.644070625305176, 5.646768569946289, 5.034529685974121, 5.137893199920654, 6.486663818359375, 6.524425029754639, 6.933098316192627, 6.363719940185547, 4.760095596313477, 5.979946136474609, 5.509695529937744, 7.260741710662842, 4.397145748138428, 6.470500469207764, 4.886983871459961, 5.58375358581543, 5.793003082275391, 8.050905227661133, 6.890775680541992, 7.0469279289245605, 6.353850364685059, 6.821342468261719, 6.131552219390869, 5.240626811981201, 6.419313907623291, 6.283637523651123, 6.269192218780518, 6.739546775817871, 7.049859523773193, 7.199032306671143, 7.008687496185303, 4.95562219619751, 4.45621919631958, 4.821218490600586, 8.463274002075195, 8.232601165771484, 4.596874713897705, 4.830092430114746, 4.890278339385986, 5.413580894470215, 7.397292613983154, 6.217042922973633, 4.648151874542236, 8.440999984741211, 8.578248023986816, 8.259122848510742, 6.559535026550293, 6.967519283294678, 5.872964859008789, 4.597208499908447, 5.953181266784668, 7.001326084136963, 5.397300720214844, 6.50904655456543, 5.101058483123779]}],\n",
       "                        {\"template\": {\"data\": {\"bar\": [{\"error_x\": {\"color\": \"#2a3f5f\"}, \"error_y\": {\"color\": \"#2a3f5f\"}, \"marker\": {\"line\": {\"color\": \"#E5ECF6\", \"width\": 0.5}}, \"type\": \"bar\"}], \"barpolar\": [{\"marker\": {\"line\": {\"color\": \"#E5ECF6\", \"width\": 0.5}}, \"type\": \"barpolar\"}], \"carpet\": [{\"aaxis\": {\"endlinecolor\": \"#2a3f5f\", \"gridcolor\": \"white\", \"linecolor\": \"white\", \"minorgridcolor\": \"white\", \"startlinecolor\": \"#2a3f5f\"}, \"baxis\": {\"endlinecolor\": \"#2a3f5f\", \"gridcolor\": \"white\", \"linecolor\": \"white\", \"minorgridcolor\": \"white\", \"startlinecolor\": \"#2a3f5f\"}, \"type\": \"carpet\"}], \"choropleth\": [{\"colorbar\": {\"outlinewidth\": 0, \"ticks\": \"\"}, \"type\": \"choropleth\"}], \"contour\": [{\"colorbar\": {\"outlinewidth\": 0, \"ticks\": \"\"}, \"colorscale\": [[0.0, \"#0d0887\"], [0.1111111111111111, \"#46039f\"], [0.2222222222222222, \"#7201a8\"], [0.3333333333333333, \"#9c179e\"], [0.4444444444444444, \"#bd3786\"], [0.5555555555555556, \"#d8576b\"], [0.6666666666666666, \"#ed7953\"], [0.7777777777777778, \"#fb9f3a\"], [0.8888888888888888, \"#fdca26\"], [1.0, \"#f0f921\"]], \"type\": \"contour\"}], \"contourcarpet\": [{\"colorbar\": {\"outlinewidth\": 0, \"ticks\": \"\"}, \"type\": \"contourcarpet\"}], \"heatmap\": [{\"colorbar\": {\"outlinewidth\": 0, \"ticks\": \"\"}, \"colorscale\": [[0.0, \"#0d0887\"], [0.1111111111111111, \"#46039f\"], [0.2222222222222222, \"#7201a8\"], [0.3333333333333333, \"#9c179e\"], [0.4444444444444444, \"#bd3786\"], [0.5555555555555556, \"#d8576b\"], [0.6666666666666666, \"#ed7953\"], [0.7777777777777778, \"#fb9f3a\"], [0.8888888888888888, \"#fdca26\"], [1.0, \"#f0f921\"]], \"type\": \"heatmap\"}], \"heatmapgl\": [{\"colorbar\": {\"outlinewidth\": 0, \"ticks\": \"\"}, \"colorscale\": [[0.0, \"#0d0887\"], [0.1111111111111111, \"#46039f\"], [0.2222222222222222, \"#7201a8\"], [0.3333333333333333, \"#9c179e\"], [0.4444444444444444, \"#bd3786\"], [0.5555555555555556, \"#d8576b\"], [0.6666666666666666, \"#ed7953\"], [0.7777777777777778, \"#fb9f3a\"], [0.8888888888888888, \"#fdca26\"], [1.0, \"#f0f921\"]], \"type\": \"heatmapgl\"}], \"histogram\": [{\"marker\": {\"colorbar\": {\"outlinewidth\": 0, \"ticks\": \"\"}}, \"type\": \"histogram\"}], \"histogram2d\": [{\"colorbar\": {\"outlinewidth\": 0, \"ticks\": \"\"}, \"colorscale\": [[0.0, \"#0d0887\"], [0.1111111111111111, \"#46039f\"], [0.2222222222222222, \"#7201a8\"], [0.3333333333333333, \"#9c179e\"], [0.4444444444444444, \"#bd3786\"], [0.5555555555555556, \"#d8576b\"], [0.6666666666666666, \"#ed7953\"], [0.7777777777777778, \"#fb9f3a\"], [0.8888888888888888, \"#fdca26\"], [1.0, \"#f0f921\"]], \"type\": \"histogram2d\"}], \"histogram2dcontour\": [{\"colorbar\": {\"outlinewidth\": 0, \"ticks\": \"\"}, \"colorscale\": [[0.0, \"#0d0887\"], [0.1111111111111111, \"#46039f\"], [0.2222222222222222, \"#7201a8\"], [0.3333333333333333, \"#9c179e\"], [0.4444444444444444, \"#bd3786\"], [0.5555555555555556, \"#d8576b\"], [0.6666666666666666, \"#ed7953\"], [0.7777777777777778, \"#fb9f3a\"], [0.8888888888888888, \"#fdca26\"], [1.0, \"#f0f921\"]], \"type\": \"histogram2dcontour\"}], \"mesh3d\": [{\"colorbar\": {\"outlinewidth\": 0, \"ticks\": \"\"}, \"type\": \"mesh3d\"}], \"parcoords\": [{\"line\": {\"colorbar\": {\"outlinewidth\": 0, \"ticks\": \"\"}}, \"type\": \"parcoords\"}], \"pie\": [{\"automargin\": true, \"type\": \"pie\"}], \"scatter\": [{\"marker\": {\"colorbar\": {\"outlinewidth\": 0, \"ticks\": \"\"}}, \"type\": \"scatter\"}], \"scatter3d\": [{\"line\": {\"colorbar\": {\"outlinewidth\": 0, \"ticks\": \"\"}}, \"marker\": {\"colorbar\": {\"outlinewidth\": 0, \"ticks\": \"\"}}, \"type\": \"scatter3d\"}], \"scattercarpet\": [{\"marker\": {\"colorbar\": {\"outlinewidth\": 0, \"ticks\": \"\"}}, \"type\": \"scattercarpet\"}], \"scattergeo\": [{\"marker\": {\"colorbar\": {\"outlinewidth\": 0, \"ticks\": \"\"}}, \"type\": \"scattergeo\"}], \"scattergl\": [{\"marker\": {\"colorbar\": {\"outlinewidth\": 0, \"ticks\": \"\"}}, \"type\": \"scattergl\"}], \"scattermapbox\": [{\"marker\": {\"colorbar\": {\"outlinewidth\": 0, \"ticks\": \"\"}}, \"type\": \"scattermapbox\"}], \"scatterpolar\": [{\"marker\": {\"colorbar\": {\"outlinewidth\": 0, \"ticks\": \"\"}}, \"type\": \"scatterpolar\"}], \"scatterpolargl\": [{\"marker\": {\"colorbar\": {\"outlinewidth\": 0, \"ticks\": \"\"}}, \"type\": \"scatterpolargl\"}], \"scatterternary\": [{\"marker\": {\"colorbar\": {\"outlinewidth\": 0, \"ticks\": \"\"}}, \"type\": \"scatterternary\"}], \"surface\": [{\"colorbar\": {\"outlinewidth\": 0, \"ticks\": \"\"}, \"colorscale\": [[0.0, \"#0d0887\"], [0.1111111111111111, \"#46039f\"], [0.2222222222222222, \"#7201a8\"], [0.3333333333333333, \"#9c179e\"], [0.4444444444444444, \"#bd3786\"], [0.5555555555555556, \"#d8576b\"], [0.6666666666666666, \"#ed7953\"], [0.7777777777777778, \"#fb9f3a\"], [0.8888888888888888, \"#fdca26\"], [1.0, \"#f0f921\"]], \"type\": \"surface\"}], \"table\": [{\"cells\": {\"fill\": {\"color\": \"#EBF0F8\"}, \"line\": {\"color\": \"white\"}}, \"header\": {\"fill\": {\"color\": \"#C8D4E3\"}, \"line\": {\"color\": \"white\"}}, \"type\": \"table\"}]}, \"layout\": {\"annotationdefaults\": {\"arrowcolor\": \"#2a3f5f\", \"arrowhead\": 0, \"arrowwidth\": 1}, \"coloraxis\": {\"colorbar\": {\"outlinewidth\": 0, \"ticks\": \"\"}}, \"colorscale\": {\"diverging\": [[0, \"#8e0152\"], [0.1, \"#c51b7d\"], [0.2, \"#de77ae\"], [0.3, \"#f1b6da\"], [0.4, \"#fde0ef\"], [0.5, \"#f7f7f7\"], [0.6, \"#e6f5d0\"], [0.7, \"#b8e186\"], [0.8, \"#7fbc41\"], [0.9, \"#4d9221\"], [1, \"#276419\"]], \"sequential\": [[0.0, \"#0d0887\"], [0.1111111111111111, \"#46039f\"], [0.2222222222222222, \"#7201a8\"], [0.3333333333333333, \"#9c179e\"], [0.4444444444444444, \"#bd3786\"], [0.5555555555555556, \"#d8576b\"], [0.6666666666666666, \"#ed7953\"], [0.7777777777777778, \"#fb9f3a\"], [0.8888888888888888, \"#fdca26\"], [1.0, \"#f0f921\"]], \"sequentialminus\": [[0.0, \"#0d0887\"], [0.1111111111111111, \"#46039f\"], [0.2222222222222222, \"#7201a8\"], [0.3333333333333333, \"#9c179e\"], [0.4444444444444444, \"#bd3786\"], [0.5555555555555556, \"#d8576b\"], [0.6666666666666666, \"#ed7953\"], [0.7777777777777778, \"#fb9f3a\"], [0.8888888888888888, \"#fdca26\"], [1.0, \"#f0f921\"]]}, \"colorway\": [\"#636efa\", \"#EF553B\", \"#00cc96\", \"#ab63fa\", \"#FFA15A\", \"#19d3f3\", \"#FF6692\", \"#B6E880\", \"#FF97FF\", \"#FECB52\"], \"font\": {\"color\": \"#2a3f5f\"}, \"geo\": {\"bgcolor\": \"white\", \"lakecolor\": \"white\", \"landcolor\": \"#E5ECF6\", \"showlakes\": true, \"showland\": true, \"subunitcolor\": \"white\"}, \"hoverlabel\": {\"align\": \"left\"}, \"hovermode\": \"closest\", \"mapbox\": {\"style\": \"light\"}, \"paper_bgcolor\": \"white\", \"plot_bgcolor\": \"#E5ECF6\", \"polar\": {\"angularaxis\": {\"gridcolor\": \"white\", \"linecolor\": \"white\", \"ticks\": \"\"}, \"bgcolor\": \"#E5ECF6\", \"radialaxis\": {\"gridcolor\": \"white\", \"linecolor\": \"white\", \"ticks\": \"\"}}, \"scene\": {\"xaxis\": {\"backgroundcolor\": \"#E5ECF6\", \"gridcolor\": \"white\", \"gridwidth\": 2, \"linecolor\": \"white\", \"showbackground\": true, \"ticks\": \"\", \"zerolinecolor\": \"white\"}, \"yaxis\": {\"backgroundcolor\": \"#E5ECF6\", \"gridcolor\": \"white\", \"gridwidth\": 2, \"linecolor\": \"white\", \"showbackground\": true, \"ticks\": \"\", \"zerolinecolor\": \"white\"}, \"zaxis\": {\"backgroundcolor\": \"#E5ECF6\", \"gridcolor\": \"white\", \"gridwidth\": 2, \"linecolor\": \"white\", \"showbackground\": true, \"ticks\": \"\", \"zerolinecolor\": \"white\"}}, \"shapedefaults\": {\"line\": {\"color\": \"#2a3f5f\"}}, \"ternary\": {\"aaxis\": {\"gridcolor\": \"white\", \"linecolor\": \"white\", \"ticks\": \"\"}, \"baxis\": {\"gridcolor\": \"white\", \"linecolor\": \"white\", \"ticks\": \"\"}, \"bgcolor\": \"#E5ECF6\", \"caxis\": {\"gridcolor\": \"white\", \"linecolor\": \"white\", \"ticks\": \"\"}}, \"title\": {\"x\": 0.05}, \"xaxis\": {\"automargin\": true, \"gridcolor\": \"white\", \"linecolor\": \"white\", \"ticks\": \"\", \"title\": {\"standoff\": 15}, \"zerolinecolor\": \"white\", \"zerolinewidth\": 2}, \"yaxis\": {\"automargin\": true, \"gridcolor\": \"white\", \"linecolor\": \"white\", \"ticks\": \"\", \"title\": {\"standoff\": 15}, \"zerolinecolor\": \"white\", \"zerolinewidth\": 2}}}},\n",
       "                        {\"responsive\": true}\n",
       "                    ).then(function(){\n",
       "                            \n",
       "var gd = document.getElementById('aa5c12dd-ce1e-454b-aece-0538a570168f');\n",
       "var x = new MutationObserver(function (mutations, observer) {{\n",
       "        var display = window.getComputedStyle(gd).display;\n",
       "        if (!display || display === 'none') {{\n",
       "            console.log([gd, 'removed!']);\n",
       "            Plotly.purge(gd);\n",
       "            observer.disconnect();\n",
       "        }}\n",
       "}});\n",
       "\n",
       "// Listen for the removal of the full notebook cells\n",
       "var notebookContainer = gd.closest('#notebook-container');\n",
       "if (notebookContainer) {{\n",
       "    x.observe(notebookContainer, {childList: true});\n",
       "}}\n",
       "\n",
       "// Listen for the clearing of the current output cell\n",
       "var outputEl = gd.closest('.output');\n",
       "if (outputEl) {{\n",
       "    x.observe(outputEl, {childList: true});\n",
       "}}\n",
       "\n",
       "                        })\n",
       "                };\n",
       "                });\n",
       "            </script>\n",
       "        </div>"
      ]
     },
     "metadata": {},
     "output_type": "display_data"
    }
   ],
   "source": [
    "fig = go.Figure(data=go.Scatter(x=Xr[:, 0],\n",
    "                                y=Xr[:, 1],\n",
    "                                mode='markers',\n",
    "                                text=[f'{label}|{n_token}' for label, n_token in zip(aggr.label, aggr.n_texts)],\n",
    "                                marker_color=aggr.n_tokens))\n",
    "\n",
    "\n",
    "fig.show()"
   ]
  },
  {
   "cell_type": "code",
   "execution_count": 25,
   "metadata": {},
   "outputs": [
    {
     "data": {
      "text/plain": [
       "(0          English\n",
       " 1           French\n",
       " 2           German\n",
       " 3         Japanese\n",
       " 5          Spanish\n",
       " 6           Korean\n",
       " 9          Turkish\n",
       " 10        Mandarin\n",
       " 14       Norwegian\n",
       " 15           Dutch\n",
       " 16          Danish\n",
       " 17         Russian\n",
       " 18         Italian\n",
       " 19         Swedish\n",
       " 21       Icelandic\n",
       " 22       Cantonese\n",
       " 25            Thai\n",
       " 27           Hindi\n",
       " 29      Portuguese\n",
       " 39         Chinese\n",
       " 43          Polish\n",
       " 49           Greek\n",
       " 52    Swiss German\n",
       " 60          Arabic\n",
       " 64        Romanian\n",
       " 65      Vietnamese\n",
       " 72          Hebrew\n",
       " 78         Finnish\n",
       " Name: label, dtype: object,\n",
       " 28)"
      ]
     },
     "execution_count": 25,
     "metadata": {},
     "output_type": "execute_result"
    }
   ],
   "source": [
    "single_labels = aggr.label[aggr.label.str.split(',').apply(lambda x: len(x)) == 1]\n",
    "n_single_labels = len(single_labels)\n",
    "single_labels, n_single_labels"
   ]
  },
  {
   "cell_type": "code",
   "execution_count": 26,
   "metadata": {},
   "outputs": [],
   "source": [
    "from sklearn.mixture import GaussianMixture\n",
    "\n",
    "clu = GaussianMixture(n_components=n_single_labels)\n",
    "Xpca = UMAP(n_components=3).fit_transform(X.todense())\n",
    "\n",
    "cluster = clu.fit_predict(Xpca)\n",
    "probs = clu.predict_proba(Xpca)"
   ]
  },
  {
   "cell_type": "code",
   "execution_count": 27,
   "metadata": {},
   "outputs": [
    {
     "data": {
      "image/png": "[encoded data removed]",
      "text/plain": [
       "<Figure size 432x288 with 1 Axes>"
      ]
     },
     "metadata": {
      "needs_background": "light"
     },
     "output_type": "display_data"
    }
   ],
   "source": [
    "cluster_counter = Counter(cluster)\n",
    "plt.bar(cluster_counter.keys(), cluster_counter.values())\n",
    "plt.show()"
   ]
  },
  {
   "cell_type": "code",
   "execution_count": 32,
   "metadata": {},
   "outputs": [
    {
     "data": {
      "text/plain": [
       "array([0.18556807, 0.18361516, 0.18557687, 0.18557687, 0.18557687,\n",
       "       0.18557687, 0.18557687, 0.18557235, 0.1855768 , 0.18557687,\n",
       "       0.18534897, 0.18557687, 0.18557687, 0.18557681, 0.18557687,\n",
       "       0.18557687, 0.18557687, 0.18557682, 0.18557687, 0.18557687,\n",
       "       0.18557687, 0.18557687, 0.18557687, 0.18557586, 0.18557687,\n",
       "       0.18557636, 0.18557687, 0.1855423 , 0.18557687, 0.18557687,\n",
       "       0.18557687, 0.18557687, 0.18557687, 0.18478073, 0.18557687,\n",
       "       0.18557687, 0.18557687, 0.18532095, 0.18557687, 0.18557687,\n",
       "       0.18557675, 0.18557687, 0.18557687, 0.18557687, 0.18557687,\n",
       "       0.18557687, 0.18557687, 0.18557687, 0.18557687, 0.18550636,\n",
       "       0.18557687, 0.18557685, 0.18557687, 0.18556533, 0.18557687,\n",
       "       0.18557687, 0.18557687, 0.18557687, 0.1855644 , 0.18557687,\n",
       "       0.18557675, 0.18557687, 0.18557687, 0.18557687, 0.18557687,\n",
       "       0.18557687, 0.18021028, 0.18557687, 0.18557687, 0.18557687,\n",
       "       0.18557687, 0.18557687, 0.18557687, 0.18557687, 0.18557687,\n",
       "       0.18557687, 0.18557687, 0.18557687, 0.18557687, 0.18557687,\n",
       "       0.18557687, 0.18557687, 0.18557687, 0.18557687, 0.18557687,\n",
       "       0.18557687, 0.18557687, 0.18557477, 0.18557687, 0.18557602])"
      ]
     },
     "execution_count": 32,
     "metadata": {},
     "output_type": "execute_result"
    }
   ],
   "source": [
    "probs.std(axis=1)"
   ]
  },
  {
   "cell_type": "code",
   "execution_count": 29,
   "metadata": {},
   "outputs": [
    {
     "name": "stdout",
     "output_type": "stream",
     "text": [
      "Need more colors than current cmap holds\n"
     ]
    },
    {
     "data": {
      "application/vnd.plotly.v1+json": {
       "config": {
        "plotlyServerURL": "https://plot.ly"
       },
       "data": [
        {
         "mode": "markers",
         "text": [
          "English|1382",
          "French|204",
          "German|190",
          "Japanese|100",
          "English, Spanish|78",
          "Spanish|71",
          "Korean|51",
          "English, French|51",
          "French, English|45",
          "Turkish|45",
          "Mandarin|33",
          "German, English|29",
          "English, Russian|24",
          "English, German|24",
          "Norwegian|23",
          "Dutch|21",
          "Danish|21",
          "Russian|18",
          "Italian|18",
          "Swedish|18",
          "English, Japanese|18",
          "Icelandic|15",
          "Cantonese|13",
          "English, Ukrainian|13",
          "English, Italian|13",
          "Thai|12",
          "English, Arabic|11",
          "Hindi|11",
          "English, Mandarin|11",
          "Portuguese|10",
          "Japanese, English|10",
          "Spanish, English|10",
          "English, Portuguese|9",
          "French, German|8",
          "Mandarin, English|8",
          "German, Turkish|7",
          "Mandarin, Cantonese|7",
          "Cantonese, English|7",
          "Korean, English|6",
          "Chinese|6",
          "English, French, Italian|6",
          "French, Arabic|6",
          "Swedish, English|5",
          "Polish|5",
          "English, Chinese|5",
          "French, Italian|5",
          "Norwegian, English|5",
          "English, French, German|5",
          "English, Greek|5",
          "Greek|5",
          "English, Latin|5",
          "English, Korean|5",
          "Swiss German|5",
          "English, Hebrew|5",
          "English, Thai|4",
          "Thai, English|4",
          "Arabic, French|4",
          "Russian, English|4",
          "Cantonese, Mandarin|4",
          "Dutch, English|4",
          "Arabic|4",
          "French, Spanish|4",
          "English, Arabic, Hebrew|4",
          "English, Italian, Spanish|4",
          "Romanian|4",
          "Vietnamese|3",
          "French, English, Italian|3",
          "French, German, English|3",
          "English, Cantonese|3",
          "Norwegian, Swedish|3",
          "English, Serbo-Croatian|3",
          "German, French|3",
          "Hebrew|3",
          "German, Russian, English|3",
          "English, Russian, French|3",
          "Turkish, English|3",
          "Korean, Mandarin|3",
          "English, Mandarin, Cantonese|3",
          "Finnish|3",
          "German, Italian|3",
          "Norwegian, German|3",
          "Filipino, Tagalog|3",
          "Mandarin, Cantonese, English|3",
          "Hindi, English|3",
          "English, Klingon|3",
          "Japanese, Mandarin|3",
          "Polish, English|3",
          "French, Arabic, English|3",
          "English, Spanish, Russian|3",
          "Cantonese, Mandarin, English|3"
         ],
         "type": "scatter",
         "x": [
          8.797822952270508,
          9.732447624206543,
          8.362956047058105,
          7.2574663162231445,
          8.550339698791504,
          7.650097846984863,
          7.6871137619018555,
          9.441471099853516,
          9.226712226867676,
          6.563607692718506,
          6.363021373748779,
          8.505470275878906,
          8.615363121032715,
          8.9525728225708,
          7.257264614105225,
          8.512164115905762,
          7.700613021850586,
          6.879306793212891,
          7.0656867027282715,
          7.608543872833252,
          7.919866561889648,
          7.227521896362305,
          6.531156539916992,
          9.322385787963867,
          9.72653865814209,
          6.159618854522705,
          8.762767791748047,
          9.245591163635254,
          8.795638084411621,
          7.319187164306641,
          7.335461139678955,
          8.11899185180664,
          8.87554931640625,
          9.765318870544434,
          6.374034881591797,
          7.844731330871582,
          5.967413902282715,
          6.890420913696289,
          8.266995429992676,
          5.971820831298828,
          9.006442070007324,
          7.494779586791992,
          8.611695289611816,
          7.3019609451293945,
          7.99884557723999,
          10.104986190795898,
          8.1519775390625,
          7.891753196716309,
          9.199551582336426,
          6.991600513458252,
          9.092949867248535,
          8.86820125579834,
          7.306323528289795,
          9.039057731628418,
          8.415453910827637,
          7.070446014404297,
          7.769211769104004,
          6.903538703918457,
          6.5086283683776855,
          9.561078071594238,
          5.992635726928711,
          9.528916358947754,
          7.293447494506836,
          7.898076057434082,
          7.044174671173096,
          5.90301513671875,
          9.417610168457031,
          7.917518138885498,
          9.76252269744873,
          7.075031280517578,
          7.776671886444092,
          7.419733047485352,
          7.332674980163574,
          8.157370567321777,
          9.699406623840332,
          6.653700828552246,
          6.442979335784912,
          9.105815887451172,
          7.5585126876831055,
          7.910824298858643,
          8.300675392150879,
          6.670753002166748,
          6.277902603149414,
          7.127136707305908,
          9.63243579864502,
          6.850076198577881,
          7.131344795227051,
          5.852339744567871,
          7.85893440246582,
          10.14019775390625
         ],
         "y": [
          6.724038124084473,
          6.51390266418457,
          8.028206825256348,
          5.8114848136901855,
          6.909309387207031,
          6.434739589691162,
          5.172682762145996,
          5.2311601638793945,
          6.141408920288086,
          7.560321807861328,
          5.404402256011963,
          7.891124725341797,
          5.859406471252441,
          4.535977363586426,
          8.674230575561523,
          8.109609603881836,
          5.58558988571167,
          5.551206588745117,
          7.728617191314697,
          8.65153980255127,
          5.4362006187438965,
          8.121889114379883,
          6.4935808181762695,
          5.767119407653809,
          5.962879657745361,
          6.025742053985596,
          4.888880252838135,
          4.801156044006348,
          6.078268527984619,
          7.502989292144775,
          5.412728309631348,
          6.074440002441406,
          7.217957019805908,
          5.2114081382751465,
          5.722830772399902,
          8.644070625305176,
          5.646768569946289,
          5.034529685974121,
          5.137893199920654,
          6.486663818359375,
          6.524425029754639,
          6.933098316192627,
          6.363719940185547,
          4.760095596313477,
          5.979946136474609,
          5.509695529937744,
          7.260741710662842,
          4.397145748138428,
          6.470500469207764,
          4.886983871459961,
          5.58375358581543,
          5.793003082275391,
          8.050905227661133,
          6.890775680541992,
          7.0469279289245605,
          6.353850364685059,
          6.821342468261719,
          6.131552219390869,
          5.240626811981201,
          6.419313907623291,
          6.283637523651123,
          6.269192218780518,
          6.739546775817871,
          7.049859523773193,
          7.199032306671143,
          7.008687496185303,
          4.95562219619751,
          4.45621919631958,
          4.821218490600586,
          8.463274002075195,
          8.232601165771484,
          4.596874713897705,
          4.830092430114746,
          4.890278339385986,
          5.413580894470215,
          7.397292613983154,
          6.217042922973633,
          4.648151874542236,
          8.440999984741211,
          8.578248023986816,
          8.259122848510742,
          6.559535026550293,
          6.967519283294678,
          5.872964859008789,
          4.597208499908447,
          5.953181266784668,
          7.001326084136963,
          5.397300720214844,
          6.50904655456543,
          5.101058483123779
         ]
        }
       ],
       "layout": {
        "template": {
         "data": {
          "bar": [
           {
            "error_x": {
             "color": "#2a3f5f"
            },
            "error_y": {
             "color": "#2a3f5f"
            },
            "marker": {
             "line": {
              "color": "#E5ECF6",
              "width": 0.5
             }
            },
            "type": "bar"
           }
          ],
          "barpolar": [
           {
            "marker": {
             "line": {
              "color": "#E5ECF6",
              "width": 0.5
             }
            },
            "type": "barpolar"
           }
          ],
          "carpet": [
           {
            "aaxis": {
             "endlinecolor": "#2a3f5f",
             "gridcolor": "white",
             "linecolor": "white",
             "minorgridcolor": "white",
             "startlinecolor": "#2a3f5f"
            },
            "baxis": {
             "endlinecolor": "#2a3f5f",
             "gridcolor": "white",
             "linecolor": "white",
             "minorgridcolor": "white",
             "startlinecolor": "#2a3f5f"
            },
            "type": "carpet"
           }
          ],
          "choropleth": [
           {
            "colorbar": {
             "outlinewidth": 0,
             "ticks": ""
            },
            "type": "choropleth"
           }
          ],
          "contour": [
           {
            "colorbar": {
             "outlinewidth": 0,
             "ticks": ""
            },
            "colorscale": [
             [
              0,
              "#0d0887"
             ],
             [
              0.1111111111111111,
              "#46039f"
             ],
             [
              0.2222222222222222,
              "#7201a8"
             ],
             [
              0.3333333333333333,
              "#9c179e"
             ],
             [
              0.4444444444444444,
              "#bd3786"
             ],
             [
              0.5555555555555556,
              "#d8576b"
             ],
             [
              0.6666666666666666,
              "#ed7953"
             ],
             [
              0.7777777777777778,
              "#fb9f3a"
             ],
             [
              0.8888888888888888,
              "#fdca26"
             ],
             [
              1,
              "#f0f921"
             ]
            ],
            "type": "contour"
           }
          ],
          "contourcarpet": [
           {
            "colorbar": {
             "outlinewidth": 0,
             "ticks": ""
            },
            "type": "contourcarpet"
           }
          ],
          "heatmap": [
           {
            "colorbar": {
             "outlinewidth": 0,
             "ticks": ""
            },
            "colorscale": [
             [
              0,
              "#0d0887"
             ],
             [
              0.1111111111111111,
              "#46039f"
             ],
             [
              0.2222222222222222,
              "#7201a8"
             ],
             [
              0.3333333333333333,
              "#9c179e"
             ],
             [
              0.4444444444444444,
              "#bd3786"
             ],
             [
              0.5555555555555556,
              "#d8576b"
             ],
             [
              0.6666666666666666,
              "#ed7953"
             ],
             [
              0.7777777777777778,
              "#fb9f3a"
             ],
             [
              0.8888888888888888,
              "#fdca26"
             ],
             [
              1,
              "#f0f921"
             ]
            ],
            "type": "heatmap"
           }
          ],
          "heatmapgl": [
           {
            "colorbar": {
             "outlinewidth": 0,
             "ticks": ""
            },
            "colorscale": [
             [
              0,
              "#0d0887"
             ],
             [
              0.1111111111111111,
              "#46039f"
             ],
             [
              0.2222222222222222,
              "#7201a8"
             ],
             [
              0.3333333333333333,
              "#9c179e"
             ],
             [
              0.4444444444444444,
              "#bd3786"
             ],
             [
              0.5555555555555556,
              "#d8576b"
             ],
             [
              0.6666666666666666,
              "#ed7953"
             ],
             [
              0.7777777777777778,
              "#fb9f3a"
             ],
             [
              0.8888888888888888,
              "#fdca26"
             ],
             [
              1,
              "#f0f921"
             ]
            ],
            "type": "heatmapgl"
           }
          ],
          "histogram": [
           {
            "marker": {
             "colorbar": {
              "outlinewidth": 0,
              "ticks": ""
             }
            },
            "type": "histogram"
           }
          ],
          "histogram2d": [
           {
            "colorbar": {
             "outlinewidth": 0,
             "ticks": ""
            },
            "colorscale": [
             [
              0,
              "#0d0887"
             ],
             [
              0.1111111111111111,
              "#46039f"
             ],
             [
              0.2222222222222222,
              "#7201a8"
             ],
             [
              0.3333333333333333,
              "#9c179e"
             ],
             [
              0.4444444444444444,
              "#bd3786"
             ],
             [
              0.5555555555555556,
              "#d8576b"
             ],
             [
              0.6666666666666666,
              "#ed7953"
             ],
             [
              0.7777777777777778,
              "#fb9f3a"
             ],
             [
              0.8888888888888888,
              "#fdca26"
             ],
             [
              1,
              "#f0f921"
             ]
            ],
            "type": "histogram2d"
           }
          ],
          "histogram2dcontour": [
           {
            "colorbar": {
             "outlinewidth": 0,
             "ticks": ""
            },
            "colorscale": [
             [
              0,
              "#0d0887"
             ],
             [
              0.1111111111111111,
              "#46039f"
             ],
             [
              0.2222222222222222,
              "#7201a8"
             ],
             [
              0.3333333333333333,
              "#9c179e"
             ],
             [
              0.4444444444444444,
              "#bd3786"
             ],
             [
              0.5555555555555556,
              "#d8576b"
             ],
             [
              0.6666666666666666,
              "#ed7953"
             ],
             [
              0.7777777777777778,
              "#fb9f3a"
             ],
             [
              0.8888888888888888,
              "#fdca26"
             ],
             [
              1,
              "#f0f921"
             ]
            ],
            "type": "histogram2dcontour"
           }
          ],
          "mesh3d": [
           {
            "colorbar": {
             "outlinewidth": 0,
             "ticks": ""
            },
            "type": "mesh3d"
           }
          ],
          "parcoords": [
           {
            "line": {
             "colorbar": {
              "outlinewidth": 0,
              "ticks": ""
             }
            },
            "type": "parcoords"
           }
          ],
          "pie": [
           {
            "automargin": true,
            "type": "pie"
           }
          ],
          "scatter": [
           {
            "marker": {
             "colorbar": {
              "outlinewidth": 0,
              "ticks": ""
             }
            },
            "type": "scatter"
           }
          ],
          "scatter3d": [
           {
            "line": {
             "colorbar": {
              "outlinewidth": 0,
              "ticks": ""
             }
            },
            "marker": {
             "colorbar": {
              "outlinewidth": 0,
              "ticks": ""
             }
            },
            "type": "scatter3d"
           }
          ],
          "scattercarpet": [
           {
            "marker": {
             "colorbar": {
              "outlinewidth": 0,
              "ticks": ""
             }
            },
            "type": "scattercarpet"
           }
          ],
          "scattergeo": [
           {
            "marker": {
             "colorbar": {
              "outlinewidth": 0,
              "ticks": ""
             }
            },
            "type": "scattergeo"
           }
          ],
          "scattergl": [
           {
            "marker": {
             "colorbar": {
              "outlinewidth": 0,
              "ticks": ""
             }
            },
            "type": "scattergl"
           }
          ],
          "scattermapbox": [
           {
            "marker": {
             "colorbar": {
              "outlinewidth": 0,
              "ticks": ""
             }
            },
            "type": "scattermapbox"
           }
          ],
          "scatterpolar": [
           {
            "marker": {
             "colorbar": {
              "outlinewidth": 0,
              "ticks": ""
             }
            },
            "type": "scatterpolar"
           }
          ],
          "scatterpolargl": [
           {
            "marker": {
             "colorbar": {
              "outlinewidth": 0,
              "ticks": ""
             }
            },
            "type": "scatterpolargl"
           }
          ],
          "scatterternary": [
           {
            "marker": {
             "colorbar": {
              "outlinewidth": 0,
              "ticks": ""
             }
            },
            "type": "scatterternary"
           }
          ],
          "surface": [
           {
            "colorbar": {
             "outlinewidth": 0,
             "ticks": ""
            },
            "colorscale": [
             [
              0,
              "#0d0887"
             ],
             [
              0.1111111111111111,
              "#46039f"
             ],
             [
              0.2222222222222222,
              "#7201a8"
             ],
             [
              0.3333333333333333,
              "#9c179e"
             ],
             [
              0.4444444444444444,
              "#bd3786"
             ],
             [
              0.5555555555555556,
              "#d8576b"
             ],
             [
              0.6666666666666666,
              "#ed7953"
             ],
             [
              0.7777777777777778,
              "#fb9f3a"
             ],
             [
              0.8888888888888888,
              "#fdca26"
             ],
             [
              1,
              "#f0f921"
             ]
            ],
            "type": "surface"
           }
          ],
          "table": [
           {
            "cells": {
             "fill": {
              "color": "#EBF0F8"
             },
             "line": {
              "color": "white"
             }
            },
            "header": {
             "fill": {
              "color": "#C8D4E3"
             },
             "line": {
              "color": "white"
             }
            },
            "type": "table"
           }
          ]
         },
         "layout": {
          "annotationdefaults": {
           "arrowcolor": "#2a3f5f",
           "arrowhead": 0,
           "arrowwidth": 1
          },
          "coloraxis": {
           "colorbar": {
            "outlinewidth": 0,
            "ticks": ""
           }
          },
          "colorscale": {
           "diverging": [
            [
             0,
             "#8e0152"
            ],
            [
             0.1,
             "#c51b7d"
            ],
            [
             0.2,
             "#de77ae"
            ],
            [
             0.3,
             "#f1b6da"
            ],
            [
             0.4,
             "#fde0ef"
            ],
            [
             0.5,
             "#f7f7f7"
            ],
            [
             0.6,
             "#e6f5d0"
            ],
            [
             0.7,
             "#b8e186"
            ],
            [
             0.8,
             "#7fbc41"
            ],
            [
             0.9,
             "#4d9221"
            ],
            [
             1,
             "#276419"
            ]
           ],
           "sequential": [
            [
             0,
             "#0d0887"
            ],
            [
             0.1111111111111111,
             "#46039f"
            ],
            [
             0.2222222222222222,
             "#7201a8"
            ],
            [
             0.3333333333333333,
             "#9c179e"
            ],
            [
             0.4444444444444444,
             "#bd3786"
            ],
            [
             0.5555555555555556,
             "#d8576b"
            ],
            [
             0.6666666666666666,
             "#ed7953"
            ],
            [
             0.7777777777777778,
             "#fb9f3a"
            ],
            [
             0.8888888888888888,
             "#fdca26"
            ],
            [
             1,
             "#f0f921"
            ]
           ],
           "sequentialminus": [
            [
             0,
             "#0d0887"
            ],
            [
             0.1111111111111111,
             "#46039f"
            ],
            [
             0.2222222222222222,
             "#7201a8"
            ],
            [
             0.3333333333333333,
             "#9c179e"
            ],
            [
             0.4444444444444444,
             "#bd3786"
            ],
            [
             0.5555555555555556,
             "#d8576b"
            ],
            [
             0.6666666666666666,
             "#ed7953"
            ],
            [
             0.7777777777777778,
             "#fb9f3a"
            ],
            [
             0.8888888888888888,
             "#fdca26"
            ],
            [
             1,
             "#f0f921"
            ]
           ]
          },
          "colorway": [
           "#636efa",
           "#EF553B",
           "#00cc96",
           "#ab63fa",
           "#FFA15A",
           "#19d3f3",
           "#FF6692",
           "#B6E880",
           "#FF97FF",
           "#FECB52"
          ],
          "font": {
           "color": "#2a3f5f"
          },
          "geo": {
           "bgcolor": "white",
           "lakecolor": "white",
           "landcolor": "#E5ECF6",
           "showlakes": true,
           "showland": true,
           "subunitcolor": "white"
          },
          "hoverlabel": {
           "align": "left"
          },
          "hovermode": "closest",
          "mapbox": {
           "style": "light"
          },
          "paper_bgcolor": "white",
          "plot_bgcolor": "#E5ECF6",
          "polar": {
           "angularaxis": {
            "gridcolor": "white",
            "linecolor": "white",
            "ticks": ""
           },
           "bgcolor": "#E5ECF6",
           "radialaxis": {
            "gridcolor": "white",
            "linecolor": "white",
            "ticks": ""
           }
          },
          "scene": {
           "xaxis": {
            "backgroundcolor": "#E5ECF6",
            "gridcolor": "white",
            "gridwidth": 2,
            "linecolor": "white",
            "showbackground": true,
            "ticks": "",
            "zerolinecolor": "white"
           },
           "yaxis": {
            "backgroundcolor": "#E5ECF6",
            "gridcolor": "white",
            "gridwidth": 2,
            "linecolor": "white",
            "showbackground": true,
            "ticks": "",
            "zerolinecolor": "white"
           },
           "zaxis": {
            "backgroundcolor": "#E5ECF6",
            "gridcolor": "white",
            "gridwidth": 2,
            "linecolor": "white",
            "showbackground": true,
            "ticks": "",
            "zerolinecolor": "white"
           }
          },
          "shapedefaults": {
           "line": {
            "color": "#2a3f5f"
           }
          },
          "ternary": {
           "aaxis": {
            "gridcolor": "white",
            "linecolor": "white",
            "ticks": ""
           },
           "baxis": {
            "gridcolor": "white",
            "linecolor": "white",
            "ticks": ""
           },
           "bgcolor": "#E5ECF6",
           "caxis": {
            "gridcolor": "white",
            "linecolor": "white",
            "ticks": ""
           }
          },
          "title": {
           "x": 0.05
          },
          "xaxis": {
           "automargin": true,
           "gridcolor": "white",
           "linecolor": "white",
           "ticks": "",
           "title": {
            "standoff": 15
           },
           "zerolinecolor": "white",
           "zerolinewidth": 2
          },
          "yaxis": {
           "automargin": true,
           "gridcolor": "white",
           "linecolor": "white",
           "ticks": "",
           "title": {
            "standoff": 15
           },
           "zerolinecolor": "white",
           "zerolinewidth": 2
          }
         }
        }
       }
      },
      "text/html": [
       "<div>\n",
       "        \n",
       "        \n",
       "            <div id=\"38137c57-eb4d-40a3-8154-e9951fd62bff\" class=\"plotly-graph-div\" style=\"height:525px; width:100%;\"></div>\n",
       "            <script type=\"text/javascript\">\n",
       "                require([\"plotly\"], function(Plotly) {\n",
       "                    window.PLOTLYENV=window.PLOTLYENV || {};\n",
       "                    \n",
       "                if (document.getElementById(\"38137c57-eb4d-40a3-8154-e9951fd62bff\")) {\n",
       "                    Plotly.newPlot(\n",
       "                        '38137c57-eb4d-40a3-8154-e9951fd62bff',\n",
       "                        [{\"mode\": \"markers\", \"text\": [\"English|1382\", \"French|204\", \"German|190\", \"Japanese|100\", \"English, Spanish|78\", \"Spanish|71\", \"Korean|51\", \"English, French|51\", \"French, English|45\", \"Turkish|45\", \"Mandarin|33\", \"German, English|29\", \"English, Russian|24\", \"English, German|24\", \"Norwegian|23\", \"Dutch|21\", \"Danish|21\", \"Russian|18\", \"Italian|18\", \"Swedish|18\", \"English, Japanese|18\", \"Icelandic|15\", \"Cantonese|13\", \"English, Ukrainian|13\", \"English, Italian|13\", \"Thai|12\", \"English, Arabic|11\", \"Hindi|11\", \"English, Mandarin|11\", \"Portuguese|10\", \"Japanese, English|10\", \"Spanish, English|10\", \"English, Portuguese|9\", \"French, German|8\", \"Mandarin, English|8\", \"German, Turkish|7\", \"Mandarin, Cantonese|7\", \"Cantonese, English|7\", \"Korean, English|6\", \"Chinese|6\", \"English, French, Italian|6\", \"French, Arabic|6\", \"Swedish, English|5\", \"Polish|5\", \"English, Chinese|5\", \"French, Italian|5\", \"Norwegian, English|5\", \"English, French, German|5\", \"English, Greek|5\", \"Greek|5\", \"English, Latin|5\", \"English, Korean|5\", \"Swiss German|5\", \"English, Hebrew|5\", \"English, Thai|4\", \"Thai, English|4\", \"Arabic, French|4\", \"Russian, English|4\", \"Cantonese, Mandarin|4\", \"Dutch, English|4\", \"Arabic|4\", \"French, Spanish|4\", \"English, Arabic, Hebrew|4\", \"English, Italian, Spanish|4\", \"Romanian|4\", \"Vietnamese|3\", \"French, English, Italian|3\", \"French, German, English|3\", \"English, Cantonese|3\", \"Norwegian, Swedish|3\", \"English, Serbo-Croatian|3\", \"German, French|3\", \"Hebrew|3\", \"German, Russian, English|3\", \"English, Russian, French|3\", \"Turkish, English|3\", \"Korean, Mandarin|3\", \"English, Mandarin, Cantonese|3\", \"Finnish|3\", \"German, Italian|3\", \"Norwegian, German|3\", \"Filipino, Tagalog|3\", \"Mandarin, Cantonese, English|3\", \"Hindi, English|3\", \"English, Klingon|3\", \"Japanese, Mandarin|3\", \"Polish, English|3\", \"French, Arabic, English|3\", \"English, Spanish, Russian|3\", \"Cantonese, Mandarin, English|3\"], \"type\": \"scatter\", \"x\": [8.797822952270508, 9.732447624206543, 8.362956047058105, 7.2574663162231445, 8.550339698791504, 7.650097846984863, 7.6871137619018555, 9.441471099853516, 9.226712226867676, 6.563607692718506, 6.363021373748779, 8.505470275878906, 8.615363121032715, 8.9525728225708, 7.257264614105225, 8.512164115905762, 7.700613021850586, 6.879306793212891, 7.0656867027282715, 7.608543872833252, 7.919866561889648, 7.227521896362305, 6.531156539916992, 9.322385787963867, 9.72653865814209, 6.159618854522705, 8.762767791748047, 9.245591163635254, 8.795638084411621, 7.319187164306641, 7.335461139678955, 8.11899185180664, 8.87554931640625, 9.765318870544434, 6.374034881591797, 7.844731330871582, 5.967413902282715, 6.890420913696289, 8.266995429992676, 5.971820831298828, 9.006442070007324, 7.494779586791992, 8.611695289611816, 7.3019609451293945, 7.99884557723999, 10.104986190795898, 8.1519775390625, 7.891753196716309, 9.199551582336426, 6.991600513458252, 9.092949867248535, 8.86820125579834, 7.306323528289795, 9.039057731628418, 8.415453910827637, 7.070446014404297, 7.769211769104004, 6.903538703918457, 6.5086283683776855, 9.561078071594238, 5.992635726928711, 9.528916358947754, 7.293447494506836, 7.898076057434082, 7.044174671173096, 5.90301513671875, 9.417610168457031, 7.917518138885498, 9.76252269744873, 7.075031280517578, 7.776671886444092, 7.419733047485352, 7.332674980163574, 8.157370567321777, 9.699406623840332, 6.653700828552246, 6.442979335784912, 9.105815887451172, 7.5585126876831055, 7.910824298858643, 8.300675392150879, 6.670753002166748, 6.277902603149414, 7.127136707305908, 9.63243579864502, 6.850076198577881, 7.131344795227051, 5.852339744567871, 7.85893440246582, 10.14019775390625], \"y\": [6.724038124084473, 6.51390266418457, 8.028206825256348, 5.8114848136901855, 6.909309387207031, 6.434739589691162, 5.172682762145996, 5.2311601638793945, 6.141408920288086, 7.560321807861328, 5.404402256011963, 7.891124725341797, 5.859406471252441, 4.535977363586426, 8.674230575561523, 8.109609603881836, 5.58558988571167, 5.551206588745117, 7.728617191314697, 8.65153980255127, 5.4362006187438965, 8.121889114379883, 6.4935808181762695, 5.767119407653809, 5.962879657745361, 6.025742053985596, 4.888880252838135, 4.801156044006348, 6.078268527984619, 7.502989292144775, 5.412728309631348, 6.074440002441406, 7.217957019805908, 5.2114081382751465, 5.722830772399902, 8.644070625305176, 5.646768569946289, 5.034529685974121, 5.137893199920654, 6.486663818359375, 6.524425029754639, 6.933098316192627, 6.363719940185547, 4.760095596313477, 5.979946136474609, 5.509695529937744, 7.260741710662842, 4.397145748138428, 6.470500469207764, 4.886983871459961, 5.58375358581543, 5.793003082275391, 8.050905227661133, 6.890775680541992, 7.0469279289245605, 6.353850364685059, 6.821342468261719, 6.131552219390869, 5.240626811981201, 6.419313907623291, 6.283637523651123, 6.269192218780518, 6.739546775817871, 7.049859523773193, 7.199032306671143, 7.008687496185303, 4.95562219619751, 4.45621919631958, 4.821218490600586, 8.463274002075195, 8.232601165771484, 4.596874713897705, 4.830092430114746, 4.890278339385986, 5.413580894470215, 7.397292613983154, 6.217042922973633, 4.648151874542236, 8.440999984741211, 8.578248023986816, 8.259122848510742, 6.559535026550293, 6.967519283294678, 5.872964859008789, 4.597208499908447, 5.953181266784668, 7.001326084136963, 5.397300720214844, 6.50904655456543, 5.101058483123779]}],\n",
       "                        {\"template\": {\"data\": {\"bar\": [{\"error_x\": {\"color\": \"#2a3f5f\"}, \"error_y\": {\"color\": \"#2a3f5f\"}, \"marker\": {\"line\": {\"color\": \"#E5ECF6\", \"width\": 0.5}}, \"type\": \"bar\"}], \"barpolar\": [{\"marker\": {\"line\": {\"color\": \"#E5ECF6\", \"width\": 0.5}}, \"type\": \"barpolar\"}], \"carpet\": [{\"aaxis\": {\"endlinecolor\": \"#2a3f5f\", \"gridcolor\": \"white\", \"linecolor\": \"white\", \"minorgridcolor\": \"white\", \"startlinecolor\": \"#2a3f5f\"}, \"baxis\": {\"endlinecolor\": \"#2a3f5f\", \"gridcolor\": \"white\", \"linecolor\": \"white\", \"minorgridcolor\": \"white\", \"startlinecolor\": \"#2a3f5f\"}, \"type\": \"carpet\"}], \"choropleth\": [{\"colorbar\": {\"outlinewidth\": 0, \"ticks\": \"\"}, \"type\": \"choropleth\"}], \"contour\": [{\"colorbar\": {\"outlinewidth\": 0, \"ticks\": \"\"}, \"colorscale\": [[0.0, \"#0d0887\"], [0.1111111111111111, \"#46039f\"], [0.2222222222222222, \"#7201a8\"], [0.3333333333333333, \"#9c179e\"], [0.4444444444444444, \"#bd3786\"], [0.5555555555555556, \"#d8576b\"], [0.6666666666666666, \"#ed7953\"], [0.7777777777777778, \"#fb9f3a\"], [0.8888888888888888, \"#fdca26\"], [1.0, \"#f0f921\"]], \"type\": \"contour\"}], \"contourcarpet\": [{\"colorbar\": {\"outlinewidth\": 0, \"ticks\": \"\"}, \"type\": \"contourcarpet\"}], \"heatmap\": [{\"colorbar\": {\"outlinewidth\": 0, \"ticks\": \"\"}, \"colorscale\": [[0.0, \"#0d0887\"], [0.1111111111111111, \"#46039f\"], [0.2222222222222222, \"#7201a8\"], [0.3333333333333333, \"#9c179e\"], [0.4444444444444444, \"#bd3786\"], [0.5555555555555556, \"#d8576b\"], [0.6666666666666666, \"#ed7953\"], [0.7777777777777778, \"#fb9f3a\"], [0.8888888888888888, \"#fdca26\"], [1.0, \"#f0f921\"]], \"type\": \"heatmap\"}], \"heatmapgl\": [{\"colorbar\": {\"outlinewidth\": 0, \"ticks\": \"\"}, \"colorscale\": [[0.0, \"#0d0887\"], [0.1111111111111111, \"#46039f\"], [0.2222222222222222, \"#7201a8\"], [0.3333333333333333, \"#9c179e\"], [0.4444444444444444, \"#bd3786\"], [0.5555555555555556, \"#d8576b\"], [0.6666666666666666, \"#ed7953\"], [0.7777777777777778, \"#fb9f3a\"], [0.8888888888888888, \"#fdca26\"], [1.0, \"#f0f921\"]], \"type\": \"heatmapgl\"}], \"histogram\": [{\"marker\": {\"colorbar\": {\"outlinewidth\": 0, \"ticks\": \"\"}}, \"type\": \"histogram\"}], \"histogram2d\": [{\"colorbar\": {\"outlinewidth\": 0, \"ticks\": \"\"}, \"colorscale\": [[0.0, \"#0d0887\"], [0.1111111111111111, \"#46039f\"], [0.2222222222222222, \"#7201a8\"], [0.3333333333333333, \"#9c179e\"], [0.4444444444444444, \"#bd3786\"], [0.5555555555555556, \"#d8576b\"], [0.6666666666666666, \"#ed7953\"], [0.7777777777777778, \"#fb9f3a\"], [0.8888888888888888, \"#fdca26\"], [1.0, \"#f0f921\"]], \"type\": \"histogram2d\"}], \"histogram2dcontour\": [{\"colorbar\": {\"outlinewidth\": 0, \"ticks\": \"\"}, \"colorscale\": [[0.0, \"#0d0887\"], [0.1111111111111111, \"#46039f\"], [0.2222222222222222, \"#7201a8\"], [0.3333333333333333, \"#9c179e\"], [0.4444444444444444, \"#bd3786\"], [0.5555555555555556, \"#d8576b\"], [0.6666666666666666, \"#ed7953\"], [0.7777777777777778, \"#fb9f3a\"], [0.8888888888888888, \"#fdca26\"], [1.0, \"#f0f921\"]], \"type\": \"histogram2dcontour\"}], \"mesh3d\": [{\"colorbar\": {\"outlinewidth\": 0, \"ticks\": \"\"}, \"type\": \"mesh3d\"}], \"parcoords\": [{\"line\": {\"colorbar\": {\"outlinewidth\": 0, \"ticks\": \"\"}}, \"type\": \"parcoords\"}], \"pie\": [{\"automargin\": true, \"type\": \"pie\"}], \"scatter\": [{\"marker\": {\"colorbar\": {\"outlinewidth\": 0, \"ticks\": \"\"}}, \"type\": \"scatter\"}], \"scatter3d\": [{\"line\": {\"colorbar\": {\"outlinewidth\": 0, \"ticks\": \"\"}}, \"marker\": {\"colorbar\": {\"outlinewidth\": 0, \"ticks\": \"\"}}, \"type\": \"scatter3d\"}], \"scattercarpet\": [{\"marker\": {\"colorbar\": {\"outlinewidth\": 0, \"ticks\": \"\"}}, \"type\": \"scattercarpet\"}], \"scattergeo\": [{\"marker\": {\"colorbar\": {\"outlinewidth\": 0, \"ticks\": \"\"}}, \"type\": \"scattergeo\"}], \"scattergl\": [{\"marker\": {\"colorbar\": {\"outlinewidth\": 0, \"ticks\": \"\"}}, \"type\": \"scattergl\"}], \"scattermapbox\": [{\"marker\": {\"colorbar\": {\"outlinewidth\": 0, \"ticks\": \"\"}}, \"type\": \"scattermapbox\"}], \"scatterpolar\": [{\"marker\": {\"colorbar\": {\"outlinewidth\": 0, \"ticks\": \"\"}}, \"type\": \"scatterpolar\"}], \"scatterpolargl\": [{\"marker\": {\"colorbar\": {\"outlinewidth\": 0, \"ticks\": \"\"}}, \"type\": \"scatterpolargl\"}], \"scatterternary\": [{\"marker\": {\"colorbar\": {\"outlinewidth\": 0, \"ticks\": \"\"}}, \"type\": \"scatterternary\"}], \"surface\": [{\"colorbar\": {\"outlinewidth\": 0, \"ticks\": \"\"}, \"colorscale\": [[0.0, \"#0d0887\"], [0.1111111111111111, \"#46039f\"], [0.2222222222222222, \"#7201a8\"], [0.3333333333333333, \"#9c179e\"], [0.4444444444444444, \"#bd3786\"], [0.5555555555555556, \"#d8576b\"], [0.6666666666666666, \"#ed7953\"], [0.7777777777777778, \"#fb9f3a\"], [0.8888888888888888, \"#fdca26\"], [1.0, \"#f0f921\"]], \"type\": \"surface\"}], \"table\": [{\"cells\": {\"fill\": {\"color\": \"#EBF0F8\"}, \"line\": {\"color\": \"white\"}}, \"header\": {\"fill\": {\"color\": \"#C8D4E3\"}, \"line\": {\"color\": \"white\"}}, \"type\": \"table\"}]}, \"layout\": {\"annotationdefaults\": {\"arrowcolor\": \"#2a3f5f\", \"arrowhead\": 0, \"arrowwidth\": 1}, \"coloraxis\": {\"colorbar\": {\"outlinewidth\": 0, \"ticks\": \"\"}}, \"colorscale\": {\"diverging\": [[0, \"#8e0152\"], [0.1, \"#c51b7d\"], [0.2, \"#de77ae\"], [0.3, \"#f1b6da\"], [0.4, \"#fde0ef\"], [0.5, \"#f7f7f7\"], [0.6, \"#e6f5d0\"], [0.7, \"#b8e186\"], [0.8, \"#7fbc41\"], [0.9, \"#4d9221\"], [1, \"#276419\"]], \"sequential\": [[0.0, \"#0d0887\"], [0.1111111111111111, \"#46039f\"], [0.2222222222222222, \"#7201a8\"], [0.3333333333333333, \"#9c179e\"], [0.4444444444444444, \"#bd3786\"], [0.5555555555555556, \"#d8576b\"], [0.6666666666666666, \"#ed7953\"], [0.7777777777777778, \"#fb9f3a\"], [0.8888888888888888, \"#fdca26\"], [1.0, \"#f0f921\"]], \"sequentialminus\": [[0.0, \"#0d0887\"], [0.1111111111111111, \"#46039f\"], [0.2222222222222222, \"#7201a8\"], [0.3333333333333333, \"#9c179e\"], [0.4444444444444444, \"#bd3786\"], [0.5555555555555556, \"#d8576b\"], [0.6666666666666666, \"#ed7953\"], [0.7777777777777778, \"#fb9f3a\"], [0.8888888888888888, \"#fdca26\"], [1.0, \"#f0f921\"]]}, \"colorway\": [\"#636efa\", \"#EF553B\", \"#00cc96\", \"#ab63fa\", \"#FFA15A\", \"#19d3f3\", \"#FF6692\", \"#B6E880\", \"#FF97FF\", \"#FECB52\"], \"font\": {\"color\": \"#2a3f5f\"}, \"geo\": {\"bgcolor\": \"white\", \"lakecolor\": \"white\", \"landcolor\": \"#E5ECF6\", \"showlakes\": true, \"showland\": true, \"subunitcolor\": \"white\"}, \"hoverlabel\": {\"align\": \"left\"}, \"hovermode\": \"closest\", \"mapbox\": {\"style\": \"light\"}, \"paper_bgcolor\": \"white\", \"plot_bgcolor\": \"#E5ECF6\", \"polar\": {\"angularaxis\": {\"gridcolor\": \"white\", \"linecolor\": \"white\", \"ticks\": \"\"}, \"bgcolor\": \"#E5ECF6\", \"radialaxis\": {\"gridcolor\": \"white\", \"linecolor\": \"white\", \"ticks\": \"\"}}, \"scene\": {\"xaxis\": {\"backgroundcolor\": \"#E5ECF6\", \"gridcolor\": \"white\", \"gridwidth\": 2, \"linecolor\": \"white\", \"showbackground\": true, \"ticks\": \"\", \"zerolinecolor\": \"white\"}, \"yaxis\": {\"backgroundcolor\": \"#E5ECF6\", \"gridcolor\": \"white\", \"gridwidth\": 2, \"linecolor\": \"white\", \"showbackground\": true, \"ticks\": \"\", \"zerolinecolor\": \"white\"}, \"zaxis\": {\"backgroundcolor\": \"#E5ECF6\", \"gridcolor\": \"white\", \"gridwidth\": 2, \"linecolor\": \"white\", \"showbackground\": true, \"ticks\": \"\", \"zerolinecolor\": \"white\"}}, \"shapedefaults\": {\"line\": {\"color\": \"#2a3f5f\"}}, \"ternary\": {\"aaxis\": {\"gridcolor\": \"white\", \"linecolor\": \"white\", \"ticks\": \"\"}, \"baxis\": {\"gridcolor\": \"white\", \"linecolor\": \"white\", \"ticks\": \"\"}, \"bgcolor\": \"#E5ECF6\", \"caxis\": {\"gridcolor\": \"white\", \"linecolor\": \"white\", \"ticks\": \"\"}}, \"title\": {\"x\": 0.05}, \"xaxis\": {\"automargin\": true, \"gridcolor\": \"white\", \"linecolor\": \"white\", \"ticks\": \"\", \"title\": {\"standoff\": 15}, \"zerolinecolor\": \"white\", \"zerolinewidth\": 2}, \"yaxis\": {\"automargin\": true, \"gridcolor\": \"white\", \"linecolor\": \"white\", \"ticks\": \"\", \"title\": {\"standoff\": 15}, \"zerolinecolor\": \"white\", \"zerolinewidth\": 2}}}},\n",
       "                        {\"responsive\": true}\n",
       "                    ).then(function(){\n",
       "                            \n",
       "var gd = document.getElementById('38137c57-eb4d-40a3-8154-e9951fd62bff');\n",
       "var x = new MutationObserver(function (mutations, observer) {{\n",
       "        var display = window.getComputedStyle(gd).display;\n",
       "        if (!display || display === 'none') {{\n",
       "            console.log([gd, 'removed!']);\n",
       "            Plotly.purge(gd);\n",
       "            observer.disconnect();\n",
       "        }}\n",
       "}});\n",
       "\n",
       "// Listen for the removal of the full notebook cells\n",
       "var notebookContainer = gd.closest('#notebook-container');\n",
       "if (notebookContainer) {{\n",
       "    x.observe(notebookContainer, {childList: true});\n",
       "}}\n",
       "\n",
       "// Listen for the clearing of the current output cell\n",
       "var outputEl = gd.closest('.output');\n",
       "if (outputEl) {{\n",
       "    x.observe(outputEl, {childList: true});\n",
       "}}\n",
       "\n",
       "                        })\n",
       "                };\n",
       "                });\n",
       "            </script>\n",
       "        </div>"
      ]
     },
     "metadata": {},
     "output_type": "display_data"
    }
   ],
   "source": [
    "fig = go.Figure(data=go.Scatter(x=Xr[:, 0],\n",
    "                                y=Xr[:, 1],\n",
    "                                mode='markers',\n",
    "                                text=[f'{label}|{n_token}' for label, n_token in zip(aggr.label, aggr.n_texts)],\n",
    "                                marker_color=plotly_color_categorical_values(cluster)))\n",
    "\n",
    "\n",
    "fig.show()"
   ]
  },
  {
   "cell_type": "code",
   "execution_count": 40,
   "metadata": {},
   "outputs": [
    {
     "data": {
      "text/plain": [
       "<matplotlib.axes._subplots.AxesSubplot at 0x7f87ed2f5f10>"
      ]
     },
     "execution_count": 40,
     "metadata": {},
     "output_type": "execute_result"
    },
    {
     "data": {
      "image/png": "[encoded data removed]",
      "text/plain": [
       "<Figure size 432x288 with 1 Axes>"
      ]
     },
     "metadata": {
      "needs_background": "light"
     },
     "output_type": "display_data"
    }
   ],
   "source": [
    "import seaborn as sns\n",
    "sns.scatterplot(x=Xr[:, 0],\n",
    "                y=Xr[:, 1],\n",
    "               hue=[f'C{i}' for i in cluster])"
   ]
  },
  {
   "cell_type": "code",
   "execution_count": 33,
   "metadata": {},
   "outputs": [],
   "source": [
    "dfs = get_cluster_dfs(aggr, cluster)"
   ]
  },
  {
   "cell_type": "code",
   "execution_count": 44,
   "metadata": {},
   "outputs": [
    {
     "name": "stdout",
     "output_type": "stream",
     "text": [
      "2                German\n",
      "11      German, English\n",
      "15                Dutch\n",
      "80    Norwegian, German\n",
      "Name: label, dtype: object\n",
      "Total number of instances in cluster => 243\n",
      "############################################################\n",
      "6              Korean\n",
      "38    Korean, English\n",
      "Name: label, dtype: object\n",
      "Total number of instances in cluster => 57\n",
      "############################################################\n",
      "8              French, English\n",
      "40    English, French, Italian\n",
      "42            Swedish, English\n",
      "50              English, Latin\n",
      "Name: label, dtype: object\n",
      "Total number of instances in cluster => 61\n",
      "############################################################\n",
      "25                            Thai\n",
      "39                         Chinese\n",
      "60                          Arabic\n",
      "65                      Vietnamese\n",
      "82    Mandarin, Cantonese, English\n",
      "Name: label, dtype: object\n",
      "Total number of instances in cluster => 28\n",
      "############################################################\n",
      "7                  English, French\n",
      "33                  French, German\n",
      "45                 French, Italian\n",
      "74        English, Russian, French\n",
      "89    Cantonese, Mandarin, English\n",
      "Name: label, dtype: object\n",
      "Total number of instances in cluster => 70\n",
      "############################################################\n",
      "29    Portuguese\n",
      "64      Romanian\n",
      "Name: label, dtype: object\n",
      "Total number of instances in cluster => 14\n",
      "############################################################\n",
      "17               Russian\n",
      "49                 Greek\n",
      "83        Hindi, English\n",
      "85    Japanese, Mandarin\n",
      "Name: label, dtype: object\n",
      "Total number of instances in cluster => 29\n",
      "############################################################\n",
      "14             Norwegian\n",
      "19               Swedish\n",
      "69    Norwegian, Swedish\n",
      "Name: label, dtype: object\n",
      "Total number of instances in cluster => 44\n",
      "############################################################\n",
      "31             Spanish, English\n",
      "88    English, Spanish, Russian\n",
      "Name: label, dtype: object\n",
      "Total number of instances in cluster => 13\n",
      "############################################################\n",
      "1               French\n",
      "24    English, Italian\n",
      "59      Dutch, English\n",
      "61     French, Spanish\n",
      "Name: label, dtype: object\n",
      "Total number of instances in cluster => 225\n",
      "############################################################\n",
      "13                 English, German\n",
      "26                 English, Arabic\n",
      "27                           Hindi\n",
      "66        French, English, Italian\n",
      "77    English, Mandarin, Cantonese\n",
      "Name: label, dtype: object\n",
      "Total number of instances in cluster => 52\n",
      "############################################################\n",
      "12      English, Russian\n",
      "23    English, Ukrainian\n",
      "28     English, Mandarin\n",
      "48        English, Greek\n",
      "51       English, Korean\n",
      "Name: label, dtype: object\n",
      "Total number of instances in cluster => 58\n",
      "############################################################\n",
      "5                     Spanish\n",
      "62    English, Arabic, Hebrew\n",
      "86            Polish, English\n",
      "Name: label, dtype: object\n",
      "Total number of instances in cluster => 78\n",
      "############################################################\n",
      "20           English, Japanese\n",
      "37          Cantonese, English\n",
      "43                      Polish\n",
      "71              German, French\n",
      "72                      Hebrew\n",
      "73    German, Russian, English\n",
      "Name: label, dtype: object\n",
      "Total number of instances in cluster => 39\n",
      "############################################################\n",
      "4     English, Spanish\n",
      "54       English, Thai\n",
      "Name: label, dtype: object\n",
      "Total number of instances in cluster => 82\n",
      "############################################################\n",
      "35            German, Turkish\n",
      "70    English, Serbo-Croatian\n",
      "78                    Finnish\n",
      "79            German, Italian\n",
      "Name: label, dtype: object\n",
      "Total number of instances in cluster => 16\n",
      "############################################################\n",
      "41    French, Arabic\n",
      "56    Arabic, French\n",
      "Name: label, dtype: object\n",
      "Total number of instances in cluster => 10\n",
      "############################################################\n",
      "10                   Mandarin\n",
      "36        Mandarin, Cantonese\n",
      "58        Cantonese, Mandarin\n",
      "87    French, Arabic, English\n",
      "Name: label, dtype: object\n",
      "Total number of instances in cluster => 47\n",
      "############################################################\n",
      "47    English, French, German\n",
      "67    French, German, English\n",
      "Name: label, dtype: object\n",
      "Total number of instances in cluster => 8\n",
      "############################################################\n",
      "3              Japanese\n",
      "34    Mandarin, English\n",
      "57     Russian, English\n",
      "Name: label, dtype: object\n",
      "Total number of instances in cluster => 112\n",
      "############################################################\n",
      "22            Cantonese\n",
      "55        Thai, English\n",
      "76     Korean, Mandarin\n",
      "81    Filipino, Tagalog\n",
      "Name: label, dtype: object\n",
      "Total number of instances in cluster => 23\n",
      "############################################################\n",
      "21       Icelandic\n",
      "52    Swiss German\n",
      "Name: label, dtype: object\n",
      "Total number of instances in cluster => 20\n",
      "############################################################\n",
      "9              Turkish\n",
      "18             Italian\n",
      "75    Turkish, English\n",
      "Name: label, dtype: object\n",
      "Total number of instances in cluster => 66\n",
      "############################################################\n",
      "0                 English\n",
      "32    English, Portuguese\n",
      "53        English, Hebrew\n",
      "Name: label, dtype: object\n",
      "Total number of instances in cluster => 1396\n",
      "############################################################\n",
      "44    English, Chinese\n",
      "Name: label, dtype: object\n",
      "Total number of instances in cluster => 5\n",
      "############################################################\n",
      "46           Norwegian, English\n",
      "63    English, Italian, Spanish\n",
      "Name: label, dtype: object\n",
      "Total number of instances in cluster => 9\n",
      "############################################################\n",
      "16               Danish\n",
      "30    Japanese, English\n",
      "Name: label, dtype: object\n",
      "Total number of instances in cluster => 31\n",
      "############################################################\n",
      "68    English, Cantonese\n",
      "84      English, Klingon\n",
      "Name: label, dtype: object\n",
      "Total number of instances in cluster => 6\n",
      "############################################################\n"
     ]
    }
   ],
   "source": [
    "for cluster_df in dfs:\n",
    "    print(cluster_df.label)\n",
    "    print(f'Total number of instances in cluster => {cluster_df.n_texts.sum()}')\n",
    "    print('#'*60)"
   ]
  },
  {
   "cell_type": "code",
   "execution_count": null,
   "metadata": {},
   "outputs": [],
   "source": []
  }
 ],
 "metadata": {
  "kernelspec": {
   "display_name": "Python 3",
   "language": "python",
   "name": "python3"
  },
  "language_info": {
   "codemirror_mode": {
    "name": "ipython",
    "version": 3
   },
   "file_extension": ".py",
   "mimetype": "text/x-python",
   "name": "python",
   "nbconvert_exporter": "python",
   "pygments_lexer": "ipython3",
   "version": "3.8.2"
  }
 },
 "nbformat": 4,
 "nbformat_minor": 4
}
