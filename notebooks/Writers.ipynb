{
 "cells": [
  {
   "cell_type": "code",
   "execution_count": 25,
   "metadata": {},
   "outputs": [],
   "source": [
    "%matplotlib inline\n",
    "import re\n",
    "import pandas as pd\n",
    "import numpy as np\n",
    "import matplotlib.pyplot as plt"
   ]
  },
  {
   "cell_type": "markdown",
   "metadata": {},
   "source": [
    "# Preprocessing"
   ]
  },
  {
   "cell_type": "code",
   "execution_count": 2,
   "metadata": {},
   "outputs": [],
   "source": [
    "df = pd.read_csv('../dataset/subtitles_dataset_tokenized.csv')\n",
    "crew_df = pd.read_csv('../dataset/crew.tsv', sep='\\t')"
   ]
  },
  {
   "cell_type": "code",
   "execution_count": 3,
   "metadata": {},
   "outputs": [],
   "source": [
    "# merge datasets\n",
    "crew_df['IMDB_ID'] = crew_df.tconst.apply(lambda x: int(x.replace('tt', '')))\n",
    "df = df.merge(right=crew_df, on='IMDB_ID', how='outer')\n",
    "#df = df.drop(['directors_x', 'writers_x', 'directors_y', 'writers_y'], axis=1)\n",
    "df = df.drop('tconst', axis=1)\n",
    "df = df.replace(r'\\N', np.nan)"
   ]
  },
  {
   "cell_type": "code",
   "execution_count": 4,
   "metadata": {},
   "outputs": [],
   "source": [
    "df.set_index('filename', inplace=True)\n",
    "df.dropna(inplace=True)\n",
    "df.drop('Unnamed: 0', axis=1, inplace=True)"
   ]
  },
  {
   "cell_type": "code",
   "execution_count": 5,
   "metadata": {},
   "outputs": [],
   "source": [
    "df.drop_duplicates(subset='IMDB_ID', inplace=True)"
   ]
  },
  {
   "cell_type": "code",
   "execution_count": 6,
   "metadata": {},
   "outputs": [],
   "source": [
    "df['main_genre'] = df.genre.str.split(',').apply(lambda x: x[0])"
   ]
  },
  {
   "cell_type": "code",
   "execution_count": 7,
   "metadata": {},
   "outputs": [],
   "source": [
    "df.drop_duplicates(subset='IMDB_ID', inplace=True)"
   ]
  },
  {
   "cell_type": "code",
   "execution_count": 8,
   "metadata": {},
   "outputs": [],
   "source": [
    "df['main_genre'] = df.genre.str.split(',').apply(lambda x: x[0])"
   ]
  },
  {
   "cell_type": "code",
   "execution_count": 9,
   "metadata": {},
   "outputs": [],
   "source": [
    "df.text = df.text.str.replace(r'\\(.*?\\)', '')"
   ]
  },
  {
   "cell_type": "markdown",
   "metadata": {},
   "source": [
    "## Load imdb persons file"
   ]
  },
  {
   "cell_type": "code",
   "execution_count": 10,
   "metadata": {},
   "outputs": [
    {
     "data": {
      "text/plain": [
       "(10085356, 6)"
      ]
     },
     "execution_count": 10,
     "metadata": {},
     "output_type": "execute_result"
    }
   ],
   "source": [
    "persons_df = pd.read_csv('../dataset/persons.tsv', sep='\\t')\n",
    "persons_df.shape"
   ]
  },
  {
   "cell_type": "code",
   "execution_count": 11,
   "metadata": {},
   "outputs": [],
   "source": [
    "persons_df.set_index('nconst', inplace=True)"
   ]
  },
  {
   "cell_type": "code",
   "execution_count": 12,
   "metadata": {},
   "outputs": [
    {
     "data": {
      "text/html": [
       "<div>\n",
       "<style scoped>\n",
       "    .dataframe tbody tr th:only-of-type {\n",
       "        vertical-align: middle;\n",
       "    }\n",
       "\n",
       "    .dataframe tbody tr th {\n",
       "        vertical-align: top;\n",
       "    }\n",
       "\n",
       "    .dataframe thead th {\n",
       "        text-align: right;\n",
       "    }\n",
       "</style>\n",
       "<table border=\"1\" class=\"dataframe\">\n",
       "  <thead>\n",
       "    <tr style=\"text-align: right;\">\n",
       "      <th></th>\n",
       "      <th>primaryName</th>\n",
       "      <th>birthYear</th>\n",
       "      <th>deathYear</th>\n",
       "      <th>primaryProfession</th>\n",
       "      <th>knownForTitles</th>\n",
       "    </tr>\n",
       "    <tr>\n",
       "      <th>nconst</th>\n",
       "      <th></th>\n",
       "      <th></th>\n",
       "      <th></th>\n",
       "      <th></th>\n",
       "      <th></th>\n",
       "    </tr>\n",
       "  </thead>\n",
       "  <tbody>\n",
       "    <tr>\n",
       "      <th>nm0000001</th>\n",
       "      <td>Fred Astaire</td>\n",
       "      <td>1899</td>\n",
       "      <td>1987</td>\n",
       "      <td>soundtrack,actor,miscellaneous</td>\n",
       "      <td>tt0072308,tt0050419,tt0043044,tt0053137</td>\n",
       "    </tr>\n",
       "    <tr>\n",
       "      <th>nm0000002</th>\n",
       "      <td>Lauren Bacall</td>\n",
       "      <td>1924</td>\n",
       "      <td>2014</td>\n",
       "      <td>actress,soundtrack</td>\n",
       "      <td>tt0117057,tt0038355,tt0071877,tt0037382</td>\n",
       "    </tr>\n",
       "    <tr>\n",
       "      <th>nm0000003</th>\n",
       "      <td>Brigitte Bardot</td>\n",
       "      <td>1934</td>\n",
       "      <td>\\N</td>\n",
       "      <td>actress,soundtrack,producer</td>\n",
       "      <td>tt0059956,tt0049189,tt0054452,tt0057345</td>\n",
       "    </tr>\n",
       "    <tr>\n",
       "      <th>nm0000004</th>\n",
       "      <td>John Belushi</td>\n",
       "      <td>1949</td>\n",
       "      <td>1982</td>\n",
       "      <td>actor,soundtrack,writer</td>\n",
       "      <td>tt0072562,tt0077975,tt0078723,tt0080455</td>\n",
       "    </tr>\n",
       "    <tr>\n",
       "      <th>nm0000005</th>\n",
       "      <td>Ingmar Bergman</td>\n",
       "      <td>1918</td>\n",
       "      <td>2007</td>\n",
       "      <td>writer,director,actor</td>\n",
       "      <td>tt0060827,tt0050986,tt0050976,tt0083922</td>\n",
       "    </tr>\n",
       "  </tbody>\n",
       "</table>\n",
       "</div>"
      ],
      "text/plain": [
       "               primaryName birthYear deathYear  \\\n",
       "nconst                                           \n",
       "nm0000001     Fred Astaire      1899      1987   \n",
       "nm0000002    Lauren Bacall      1924      2014   \n",
       "nm0000003  Brigitte Bardot      1934        \\N   \n",
       "nm0000004     John Belushi      1949      1982   \n",
       "nm0000005   Ingmar Bergman      1918      2007   \n",
       "\n",
       "                        primaryProfession  \\\n",
       "nconst                                      \n",
       "nm0000001  soundtrack,actor,miscellaneous   \n",
       "nm0000002              actress,soundtrack   \n",
       "nm0000003     actress,soundtrack,producer   \n",
       "nm0000004         actor,soundtrack,writer   \n",
       "nm0000005           writer,director,actor   \n",
       "\n",
       "                                    knownForTitles  \n",
       "nconst                                              \n",
       "nm0000001  tt0072308,tt0050419,tt0043044,tt0053137  \n",
       "nm0000002  tt0117057,tt0038355,tt0071877,tt0037382  \n",
       "nm0000003  tt0059956,tt0049189,tt0054452,tt0057345  \n",
       "nm0000004  tt0072562,tt0077975,tt0078723,tt0080455  \n",
       "nm0000005  tt0060827,tt0050986,tt0050976,tt0083922  "
      ]
     },
     "execution_count": 12,
     "metadata": {},
     "output_type": "execute_result"
    }
   ],
   "source": [
    "persons_df.head()"
   ]
  },
  {
   "cell_type": "code",
   "execution_count": 13,
   "metadata": {},
   "outputs": [
    {
     "data": {
      "text/plain": [
       "'Fred Astaire'"
      ]
     },
     "execution_count": 13,
     "metadata": {},
     "output_type": "execute_result"
    }
   ],
   "source": [
    "persons_df.loc['nm0000001'].primaryName"
   ]
  },
  {
   "cell_type": "markdown",
   "metadata": {},
   "source": [
    "## Get only movies with one single writer"
   ]
  },
  {
   "cell_type": "code",
   "execution_count": 37,
   "metadata": {},
   "outputs": [
    {
     "data": {
      "text/plain": [
       "(3329, 12)"
      ]
     },
     "execution_count": 37,
     "metadata": {},
     "output_type": "execute_result"
    }
   ],
   "source": [
    "df = df[[len(entry) == 1 for entry in df.writers.str.split(',')]]\n",
    "df.shape"
   ]
  },
  {
   "cell_type": "markdown",
   "metadata": {},
   "source": [
    "# Analyze writers"
   ]
  },
  {
   "cell_type": "code",
   "execution_count": 38,
   "metadata": {},
   "outputs": [],
   "source": [
    "writers = df.writers.str.split(',')"
   ]
  },
  {
   "cell_type": "code",
   "execution_count": 39,
   "metadata": {},
   "outputs": [],
   "source": [
    "df['single_writer'] = df['writers'].apply(lambda x: True if len(x.split(',')) == 1 else False)\n",
    "df['n_writers'] = df['writers'].apply(lambda x: len(x.split(',')))"
   ]
  },
  {
   "cell_type": "code",
   "execution_count": 40,
   "metadata": {},
   "outputs": [
    {
     "data": {
      "text/plain": [
       "count    3329.0\n",
       "mean        1.0\n",
       "std         0.0\n",
       "min         1.0\n",
       "25%         1.0\n",
       "50%         1.0\n",
       "75%         1.0\n",
       "max         1.0\n",
       "Name: n_writers, dtype: float64"
      ]
     },
     "execution_count": 40,
     "metadata": {},
     "output_type": "execute_result"
    }
   ],
   "source": [
    "df.n_writers.describe()"
   ]
  },
  {
   "cell_type": "code",
   "execution_count": 41,
   "metadata": {},
   "outputs": [],
   "source": [
    "df.dropna(inplace=True)"
   ]
  },
  {
   "cell_type": "code",
   "execution_count": 42,
   "metadata": {},
   "outputs": [],
   "source": [
    "from collections import Counter\n",
    "writers = Counter((writer for entry in writers for writer in entry))"
   ]
  },
  {
   "cell_type": "code",
   "execution_count": 43,
   "metadata": {},
   "outputs": [
    {
     "data": {
      "text/plain": [
       "2462"
      ]
     },
     "execution_count": 43,
     "metadata": {},
     "output_type": "execute_result"
    }
   ],
   "source": [
    "len(writers)"
   ]
  },
  {
   "cell_type": "code",
   "execution_count": 44,
   "metadata": {},
   "outputs": [
    {
     "data": {
      "image/png": "[encoded data removed]",
      "text/plain": [
       "<Figure size 1080x720 with 1 Axes>"
      ]
     },
     "metadata": {},
     "output_type": "display_data"
    }
   ],
   "source": [
    "plt.plot(list(sorted(writers.values())))\n",
    "plt.show()"
   ]
  },
  {
   "cell_type": "code",
   "execution_count": 45,
   "metadata": {},
   "outputs": [
    {
     "name": "stdout",
     "output_type": "stream",
     "text": [
      "Writer:\n",
      "primaryName                                      Woody Allen\n",
      "birthYear                                               1935\n",
      "deathYear                                                 \\N\n",
      "primaryProfession                      writer,director,actor\n",
      "knownForTitles       tt0079522,tt0097123,tt0118954,tt0075686\n",
      "Name: nm0000095, dtype: object \n",
      "\n",
      "Movies:  28\n",
      "\n",
      "######################################################################\n",
      "Writer:\n",
      "primaryName                                   Ingmar Bergman\n",
      "birthYear                                               1918\n",
      "deathYear                                               2007\n",
      "primaryProfession                      writer,director,actor\n",
      "knownForTitles       tt0060827,tt0050986,tt0050976,tt0083922\n",
      "Name: nm0000005, dtype: object \n",
      "\n",
      "Movies:  20\n",
      "\n",
      "######################################################################\n",
      "Writer:\n",
      "primaryName                                      H.M. Walker\n",
      "birthYear                                               1878\n",
      "deathYear                                               1937\n",
      "primaryProfession                 writer,miscellaneous,actor\n",
      "knownForTitles       tt0014429,tt0024140,tt0024654,tt0022251\n",
      "Name: nm0907778, dtype: object \n",
      "\n",
      "Movies:  19\n",
      "\n",
      "######################################################################\n",
      "Writer:\n",
      "primaryName                                  Peter Greenaway\n",
      "birthYear                                               1942\n",
      "deathYear                                                 \\N\n",
      "primaryProfession                     director,writer,editor\n",
      "knownForTitles       tt0446750,tt0097108,tt1702429,tt0092929\n",
      "Name: nm0000425, dtype: object \n",
      "\n",
      "Movies:  15\n",
      "\n",
      "######################################################################\n",
      "Writer:\n",
      "primaryName                                      John Hughes\n",
      "birthYear                                               1950\n",
      "deathYear                                               2009\n",
      "primaryProfession                   writer,producer,director\n",
      "knownForTitles       tt0090305,tt0093748,tt0091042,tt0088847\n",
      "Name: nm0000455, dtype: object \n",
      "\n",
      "Movies:  13\n",
      "\n",
      "######################################################################\n",
      "Writer:\n",
      "primaryName                                   Takeshi Kitano\n",
      "birthYear                                               1947\n",
      "deathYear                                                 \\N\n",
      "primaryProfession                      actor,writer,director\n",
      "knownForTitles       tt0119250,tt0199683,tt0363226,tt0108188\n",
      "Name: nm0001429, dtype: object \n",
      "\n",
      "Movies:  13\n",
      "\n",
      "######################################################################\n",
      "Writer:\n",
      "primaryName                                  Pedro Almodóvar\n",
      "birthYear                                               1949\n",
      "deathYear                                                 \\N\n",
      "primaryProfession                 writer,director,soundtrack\n",
      "knownForTitles       tt1189073,tt0287467,tt8291806,tt0095675\n",
      "Name: nm0000264, dtype: object \n",
      "\n",
      "Movies:  10\n",
      "\n",
      "######################################################################\n",
      "Writer:\n",
      "primaryName                                      Kevin Smith\n",
      "birthYear                                               1970\n",
      "deathYear                                                 \\N\n",
      "primaryProfession                      producer,writer,actor\n",
      "knownForTitles       tt0109445,tt0424345,tt0120655,tt0118842\n",
      "Name: nm0003620, dtype: object \n",
      "\n",
      "Movies:  10\n",
      "\n",
      "######################################################################\n",
      "Writer:\n",
      "primaryName                                     Jim Jarmusch\n",
      "birthYear                                               1953\n",
      "deathYear                                                 \\N\n",
      "primaryProfession                      director,writer,actor\n",
      "knownForTitles       tt0412019,tt1714915,tt5247022,tt0088184\n",
      "Name: nm0000464, dtype: object \n",
      "\n",
      "Movies:  9\n",
      "\n",
      "######################################################################\n",
      "Writer:\n",
      "primaryName                                       Neil Simon\n",
      "birthYear                                               1927\n",
      "deathYear                                               2018\n",
      "primaryProfession                      writer,producer,actor\n",
      "knownForTitles       tt0063374,tt0074937,tt0076095,tt0073766\n",
      "Name: nm0800319, dtype: object \n",
      "\n",
      "Movies:  8\n",
      "\n",
      "######################################################################\n",
      "Writer:\n",
      "primaryName                                 David Cronenberg\n",
      "birthYear                                               1943\n",
      "deathYear                                                 \\N\n",
      "primaryProfession                      director,actor,writer\n",
      "knownForTitles       tt0091064,tt0120907,tt0115964,tt0094964\n",
      "Name: nm0000343, dtype: object \n",
      "\n",
      "Movies:  8\n",
      "\n",
      "######################################################################\n",
      "Writer:\n",
      "primaryName                                     Stephen King\n",
      "birthYear                                               1947\n",
      "deathYear                                                 \\N\n",
      "primaryProfession                      writer,producer,actor\n",
      "knownForTitles       tt0091499,tt0111161,tt0120689,tt0083767\n",
      "Name: nm0000175, dtype: object \n",
      "\n",
      "Movies:  8\n",
      "\n",
      "######################################################################\n",
      "Writer:\n",
      "primaryName                                   Richard Curtis\n",
      "birthYear                                               1956\n",
      "deathYear                                                 \\N\n",
      "primaryProfession                   writer,producer,director\n",
      "knownForTitles       tt1131729,tt0109831,tt2194499,tt0314331\n",
      "Name: nm0193485, dtype: object \n",
      "\n",
      "Movies:  8\n",
      "\n",
      "######################################################################\n",
      "Writer:\n",
      "primaryName                                  Charles Chaplin\n",
      "birthYear                                               1889\n",
      "deathYear                                               1977\n",
      "primaryProfession                    writer,soundtrack,actor\n",
      "knownForTitles       tt0027977,tt0032553,tt0039631,tt0044837\n",
      "Name: nm0000122, dtype: object \n",
      "\n",
      "Movies:  7\n",
      "\n",
      "######################################################################\n",
      "Writer:\n",
      "primaryName                                      Éric Rohmer\n",
      "birthYear                                               1920\n",
      "deathYear                                               2010\n",
      "primaryProfession                      director,writer,actor\n",
      "knownForTitles       tt0086087,tt0137439,tt0065772,tt0064612\n",
      "Name: nm0006445, dtype: object \n",
      "\n",
      "Movies:  7\n",
      "\n",
      "######################################################################\n",
      "Writer:\n",
      "primaryName                                  Astrid Lindgren\n",
      "birthYear                                               1907\n",
      "deathYear                                               2002\n",
      "primaryProfession                  writer,soundtrack,actress\n",
      "knownForTitles       tt2184418,tt2062621,tt0088015,tt0051312\n",
      "Name: nm0511807, dtype: object \n",
      "\n",
      "Movies:  7\n",
      "\n",
      "######################################################################\n",
      "Writer:\n",
      "primaryName                               Sylvester Stallone\n",
      "birthYear                                               1946\n",
      "deathYear                                                 \\N\n",
      "primaryProfession                      actor,writer,producer\n",
      "knownForTitles       tt0075148,tt0084602,tt0089927,tt3076658\n",
      "Name: nm0000230, dtype: object \n",
      "\n",
      "Movies:  7\n",
      "\n",
      "######################################################################\n",
      "Writer:\n",
      "primaryName                                   Aki Kaurismäki\n",
      "birthYear                                               1957\n",
      "deathYear                                                 \\N\n",
      "primaryProfession                   producer,writer,director\n",
      "knownForTitles       tt5222918,tt0105750,tt1508675,tt0311519\n",
      "Name: nm0442454, dtype: object \n",
      "\n",
      "Movies:  7\n",
      "\n",
      "######################################################################\n",
      "Writer:\n",
      "primaryName                                 Robert Rodriguez\n",
      "birthYear                                               1968\n",
      "deathYear                                                 \\N\n",
      "primaryProfession                   producer,writer,director\n",
      "knownForTitles       tt0287717,tt0458481,tt1077258,tt0104815\n",
      "Name: nm0001675, dtype: object \n",
      "\n",
      "Movies:  7\n",
      "\n",
      "######################################################################\n",
      "Writer:\n",
      "primaryName                              Alain Robbe-Grillet\n",
      "birthYear                                               1922\n",
      "deathYear                                               2008\n",
      "primaryProfession                      writer,director,actor\n",
      "knownForTitles       tt0063080,tt0114774,tt0057176,tt0061113\n",
      "Name: nm0730237, dtype: object \n",
      "\n",
      "Movies:  6\n",
      "\n",
      "######################################################################\n"
     ]
    }
   ],
   "source": [
    "for writer_id, value in writers.most_common(20):\n",
    "    print(f'Writer:\\n{persons_df.loc[writer_id]} \\n\\nMovies:  {value}\\n\\n{\"#\"*70}')"
   ]
  },
  {
   "cell_type": "code",
   "execution_count": 63,
   "metadata": {},
   "outputs": [],
   "source": [
    "sample = df[(df.writers.str.contains('nm0000005')) | (df.writers.str.contains('nm0000095'))]\n",
    "#sample = df[(df.writers.str.contains('nm0000108'))]\n",
    "#sample = df[((df.year <= 1990) & (1995 >= df.year))]\n",
    "#sample = df.sample(frac=0.1)"
   ]
  },
  {
   "cell_type": "code",
   "execution_count": 64,
   "metadata": {},
   "outputs": [
    {
     "data": {
      "text/plain": [
       "(48, 12)"
      ]
     },
     "execution_count": 64,
     "metadata": {},
     "output_type": "execute_result"
    }
   ],
   "source": [
    "sample.shape"
   ]
  },
  {
   "cell_type": "code",
   "execution_count": 82,
   "metadata": {},
   "outputs": [],
   "source": [
    "import spacy\n",
    "import re\n",
    "import numpy as np\n",
    "from sklearn.base import TransformerMixin, BaseEstimator\n",
    "from typing import Iterable, List\n",
    "from tqdm import tqdm\n",
    "\n",
    "class POSTransformer(TransformerMixin, BaseEstimator):\n",
    "    \n",
    "    def __init__(self, spacy_model: str ='de_core_news_sm', verbose: bool = False):\n",
    "        self.spacy_model = spacy_model\n",
    "        self.verbose = verbose     \n",
    "    \n",
    "    def fit(self, X, y=None):\n",
    "        return self\n",
    "\n",
    "    def transform(self, X: Iterable[str],  y=None):\n",
    "        pos_tags = set()\n",
    "        nlp = spacy.load(self.spacy_model)\n",
    "        Xt = []\n",
    "        X = tqdm(X) if self.verbose else X\n",
    "        for x in X:\n",
    "            doc = nlp(x)\n",
    "            Xt.append(\" \".join([token.pos_ for token in doc]))\n",
    "        self.tags__ = list(pos_tags)\n",
    "        return Xt\n",
    "\n",
    "class SentenceMarkCounter(TransformerMixin):\n",
    "    \n",
    "    def __init__(self,\n",
    "                 marks: List[str] = None,\n",
    "                 normalize: bool = True,\n",
    "                 verbose: bool = False,\n",
    "                 *args,\n",
    "                 **kwargs):\n",
    "        self.marks = marks if marks else [r'\\.', r'\\?', r'!', r'\\.{3}']\n",
    "        self.verbose = verbose\n",
    "        self.normalize = normalize\n",
    "        super().__init__(*args, **kwargs)\n",
    "    \n",
    "    def fit(self, X, y=None):\n",
    "        return self\n",
    "    \n",
    "    def transform(self, X, y=None):\n",
    "        Xt = []\n",
    "        X = tqdm(X) if self.verbose else X\n",
    "        for x in X:\n",
    "            xt = np.array([len(re.findall(mark, x)) for mark in self.marks])\n",
    "            if self.normalize:\n",
    "                xt = xt / len(x)\n",
    "            Xt.append(xt)\n",
    "        return np.asarray(Xt)        "
   ]
  },
  {
   "cell_type": "code",
   "execution_count": 93,
   "metadata": {},
   "outputs": [],
   "source": [
    "from sklearn.decomposition import PCA\n",
    "from sklearn.manifold import Isomap\n",
    "from sklearn.feature_extraction.text import TfidfVectorizer\n",
    "from stop_words import get_stop_words\n",
    "from sklearn.pipeline import make_pipeline, make_union\n",
    "\n",
    "from joblib import Memory\n",
    "location = './cachedir'\n",
    "memory = Memory(location, verbose=0)\n",
    "\n",
    "pos_pipe = make_pipeline(\n",
    "    POSTransformer(\n",
    "        verbose=True),\n",
    "    TfidfVectorizer(\n",
    "        ngram_range=(1,2)),\n",
    "    memory=memory\n",
    ")\n",
    "\n",
    "token_tdidf = make_pipeline(\n",
    "    TfidfVectorizer(\n",
    "        ngram_range=(1,2),\n",
    "        stop_words=get_stop_words('de'),\n",
    "        max_features=10000)\n",
    ")\n",
    "\n",
    "union = make_union(\n",
    "    #pos_pipe,\n",
    "    token_tdidf,\n",
    "    \n",
    ")\n",
    "\n",
    "X = union.fit_transform(sample.text)\n",
    "\n",
    "pca = PCA(n_components=2)\n",
    "\n",
    "Xr = pca.fit_transform(X.todense())"
   ]
  },
  {
   "cell_type": "code",
   "execution_count": 94,
   "metadata": {},
   "outputs": [
    {
     "data": {
      "image/png": "[encoded data removed]",
      "text/plain": [
       "<Figure size 1080x720 with 1 Axes>"
      ]
     },
     "metadata": {},
     "output_type": "display_data"
    }
   ],
   "source": [
    "import seaborn as sns\n",
    "sns.set(rc={'figure.figsize':(15, 10)})\n",
    "plt.figure\n",
    "p = sns.scatterplot(x=Xr[:, 0], y=Xr[:, 1], data=sample, hue='writers')"
   ]
  },
  {
   "cell_type": "code",
   "execution_count": null,
   "metadata": {},
   "outputs": [],
   "source": [
    "sum(pca.explained_variance_)"
   ]
  },
  {
   "cell_type": "code",
   "execution_count": null,
   "metadata": {},
   "outputs": [],
   "source": [
    "from yellowbrick.text import UMAPVisualizer\n",
    "from sklearn.feature_extraction.text import TfidfVectorizer"
   ]
  },
  {
   "cell_type": "code",
   "execution_count": null,
   "metadata": {},
   "outputs": [],
   "source": [
    "umap = UMAPVisualizer()\n",
    "umap.fit(X, sample.single_writer)\n",
    "umap.show()"
   ]
  },
  {
   "cell_type": "code",
   "execution_count": null,
   "metadata": {},
   "outputs": [],
   "source": [
    "from sklearn.feature_extraction.text import TfidfVectorizer\n",
    "from stop_words import get_stop_words\n",
    "\n",
    "X = TfidfVectorizer(\n",
    "    #ngram_range=(1,1),\n",
    "    #stop_words=get_stop_words('de')\n",
    ").fit_transform(sample.text)"
   ]
  },
  {
   "cell_type": "code",
   "execution_count": null,
   "metadata": {},
   "outputs": [],
   "source": [
    "from sklearn.cluster import DBSCAN, KMeans"
   ]
  },
  {
   "cell_type": "code",
   "execution_count": null,
   "metadata": {},
   "outputs": [],
   "source": [
    "from sklearn.base import ClusterMixin\n",
    "import matplotlib.pyplot as plt\n",
    "from typing import Iterable\n",
    "import numpy as np\n",
    "from sklearn.base import clone\n",
    "import time \n",
    "\n",
    "def elbow(clu: ClusterMixin, X: np.array, ks: Iterable[int] = tuple(range(2, 11))):\n",
    "    inertia_values = []\n",
    "    for k in ks:\n",
    "        current_clu = clone(clu)\n",
    "        current_clu.fit(X)\n",
    "        inertia_values.append(current_clu.inertia_)\n",
    "        del current_clu\n",
    "    return inertia_values"
   ]
  },
  {
   "cell_type": "code",
   "execution_count": null,
   "metadata": {},
   "outputs": [],
   "source": [
    "inertias = elbow(KMeans(n_jobs=-1), X)"
   ]
  },
  {
   "cell_type": "code",
   "execution_count": null,
   "metadata": {},
   "outputs": [],
   "source": [
    "plt.plot(list(range(2, 11)), inertias)\n",
    "plt.show()"
   ]
  },
  {
   "cell_type": "code",
   "execution_count": null,
   "metadata": {},
   "outputs": [],
   "source": [
    "from sklearn.cluster import KMeans, DBSCAN, AffinityPropagation\n",
    "\n",
    "clu = AffinityPropagation()\n",
    "\n",
    "clu.fit(X)"
   ]
  },
  {
   "cell_type": "code",
   "execution_count": null,
   "metadata": {},
   "outputs": [],
   "source": [
    "clu.labels_"
   ]
  },
  {
   "cell_type": "code",
   "execution_count": null,
   "metadata": {},
   "outputs": [],
   "source": [
    "import umap\n",
    "umap = umap.UMAP(n_components=2)\n",
    "Xr = umap.fit_transform(X)"
   ]
  },
  {
   "cell_type": "code",
   "execution_count": null,
   "metadata": {},
   "outputs": [],
   "source": [
    "from sklearn.decomposition import PCA\n",
    "\n",
    "pca = PCA(n_components=2)\n",
    "Xr = pca.fit_transform(X.todense())"
   ]
  },
  {
   "cell_type": "code",
   "execution_count": null,
   "metadata": {},
   "outputs": [],
   "source": [
    "import seaborn as sns\n",
    "plt.figure(figsize=(15,10))\n",
    "sns.scatterplot(x=Xr[:, 0], y=Xr[:, 1], data=sample, hue=[f'Cluster {i+1}' for i in clu.labels_])\n",
    "plt.show()"
   ]
  },
  {
   "cell_type": "code",
   "execution_count": null,
   "metadata": {},
   "outputs": [],
   "source": [
    "plt.hist(clu.labels_, bins=len(set(clu.labels_)))\n",
    "plt.show()"
   ]
  },
  {
   "cell_type": "code",
   "execution_count": null,
   "metadata": {},
   "outputs": [],
   "source": [
    "clu.labels_.shape"
   ]
  },
  {
   "cell_type": "code",
   "execution_count": null,
   "metadata": {},
   "outputs": [],
   "source": [
    "sample['cluster'] = clu.labels_"
   ]
  },
  {
   "cell_type": "code",
   "execution_count": null,
   "metadata": {},
   "outputs": [],
   "source": [
    "sample.groupby('cluster').year.describe()"
   ]
  },
  {
   "cell_type": "code",
   "execution_count": null,
   "metadata": {},
   "outputs": [],
   "source": [
    "from numpy.linalg import svds"
   ]
  },
  {
   "cell_type": "code",
   "execution_count": null,
   "metadata": {},
   "outputs": [],
   "source": [
    "svds(X)"
   ]
  },
  {
   "cell_type": "code",
   "execution_count": 86,
   "metadata": {},
   "outputs": [
    {
     "data": {
      "text/html": [
       "<div>\n",
       "<style scoped>\n",
       "    .dataframe tbody tr th:only-of-type {\n",
       "        vertical-align: middle;\n",
       "    }\n",
       "\n",
       "    .dataframe tbody tr th {\n",
       "        vertical-align: top;\n",
       "    }\n",
       "\n",
       "    .dataframe thead th {\n",
       "        text-align: right;\n",
       "    }\n",
       "</style>\n",
       "<table border=\"1\" class=\"dataframe\">\n",
       "  <thead>\n",
       "    <tr style=\"text-align: right;\">\n",
       "      <th></th>\n",
       "      <th>text</th>\n",
       "      <th>IMDB_ID</th>\n",
       "      <th>genre</th>\n",
       "      <th>year</th>\n",
       "      <th>production_region</th>\n",
       "      <th>corpus</th>\n",
       "      <th>duration</th>\n",
       "      <th>directors</th>\n",
       "      <th>writers</th>\n",
       "      <th>main_genre</th>\n",
       "      <th>single_writer</th>\n",
       "      <th>n_writers</th>\n",
       "    </tr>\n",
       "    <tr>\n",
       "      <th>filename</th>\n",
       "      <th></th>\n",
       "      <th></th>\n",
       "      <th></th>\n",
       "      <th></th>\n",
       "      <th></th>\n",
       "      <th></th>\n",
       "      <th></th>\n",
       "      <th></th>\n",
       "      <th></th>\n",
       "      <th></th>\n",
       "      <th></th>\n",
       "      <th></th>\n",
       "    </tr>\n",
       "  </thead>\n",
       "  <tbody>\n",
       "    <tr>\n",
       "      <th>4514303.xml</th>\n",
       "      <td>GENUINE GENUINE Die Geschichte eines Vampirs W...</td>\n",
       "      <td>11221</td>\n",
       "      <td>Horror</td>\n",
       "      <td>1920.0</td>\n",
       "      <td>German</td>\n",
       "      <td>untokenisiert</td>\n",
       "      <td>88</td>\n",
       "      <td>nm0927468</td>\n",
       "      <td>nm0562346</td>\n",
       "      <td>Horror</td>\n",
       "      <td>True</td>\n",
       "      <td>1</td>\n",
       "    </tr>\n",
       "    <tr>\n",
       "      <th>3590276.xml</th>\n",
       "      <td>Ein Film mit einem Lächeln ... und vielleicht ...</td>\n",
       "      <td>12349</td>\n",
       "      <td>Comedy,Drama,Family</td>\n",
       "      <td>1921.0</td>\n",
       "      <td>English</td>\n",
       "      <td>untokenisiert</td>\n",
       "      <td>68</td>\n",
       "      <td>nm0000122</td>\n",
       "      <td>nm0000122</td>\n",
       "      <td>Comedy</td>\n",
       "      <td>True</td>\n",
       "      <td>1</td>\n",
       "    </tr>\n",
       "    <tr>\n",
       "      <th>4010305.xml</th>\n",
       "      <td>Die Amalgamated Producing Company zeigt : STAN...</td>\n",
       "      <td>13341</td>\n",
       "      <td>Comedy,Short</td>\n",
       "      <td>1921.0</td>\n",
       "      <td>English</td>\n",
       "      <td>untokenisiert</td>\n",
       "      <td>17</td>\n",
       "      <td>nm0730386</td>\n",
       "      <td>nm0730386</td>\n",
       "      <td>Comedy</td>\n",
       "      <td>True</td>\n",
       "      <td>1</td>\n",
       "    </tr>\n",
       "    <tr>\n",
       "      <th>4259110.xml</th>\n",
       "      <td>DIE HEXE Eine Präsentation aus kultureller und...</td>\n",
       "      <td>13257</td>\n",
       "      <td>Documentary,Fantasy,Horror</td>\n",
       "      <td>1922.0</td>\n",
       "      <td>Swedish, Danish</td>\n",
       "      <td>untokenisiert</td>\n",
       "      <td>91</td>\n",
       "      <td>nm0159725</td>\n",
       "      <td>nm0159725</td>\n",
       "      <td>Documentary</td>\n",
       "      <td>True</td>\n",
       "      <td>1</td>\n",
       "    </tr>\n",
       "    <tr>\n",
       "      <th>4980988.xml</th>\n",
       "      <td>1923 produzierte Henri Diamant-Berger den erst...</td>\n",
       "      <td>15214</td>\n",
       "      <td>Sci-Fi,Short</td>\n",
       "      <td>1924.0</td>\n",
       "      <td>French</td>\n",
       "      <td>untokenisiert</td>\n",
       "      <td>35</td>\n",
       "      <td>nm0163229</td>\n",
       "      <td>nm0163229</td>\n",
       "      <td>Sci-Fi</td>\n",
       "      <td>True</td>\n",
       "      <td>1</td>\n",
       "    </tr>\n",
       "  </tbody>\n",
       "</table>\n",
       "</div>"
      ],
      "text/plain": [
       "                                                          text  IMDB_ID  \\\n",
       "filename                                                                  \n",
       "4514303.xml  GENUINE GENUINE Die Geschichte eines Vampirs W...    11221   \n",
       "3590276.xml  Ein Film mit einem Lächeln ... und vielleicht ...    12349   \n",
       "4010305.xml  Die Amalgamated Producing Company zeigt : STAN...    13341   \n",
       "4259110.xml  DIE HEXE Eine Präsentation aus kultureller und...    13257   \n",
       "4980988.xml  1923 produzierte Henri Diamant-Berger den erst...    15214   \n",
       "\n",
       "                                  genre    year production_region  \\\n",
       "filename                                                            \n",
       "4514303.xml                      Horror  1920.0            German   \n",
       "3590276.xml         Comedy,Drama,Family  1921.0           English   \n",
       "4010305.xml                Comedy,Short  1921.0           English   \n",
       "4259110.xml  Documentary,Fantasy,Horror  1922.0   Swedish, Danish   \n",
       "4980988.xml                Sci-Fi,Short  1924.0            French   \n",
       "\n",
       "                    corpus duration  directors    writers   main_genre  \\\n",
       "filename                                                                 \n",
       "4514303.xml  untokenisiert       88  nm0927468  nm0562346       Horror   \n",
       "3590276.xml  untokenisiert       68  nm0000122  nm0000122       Comedy   \n",
       "4010305.xml  untokenisiert       17  nm0730386  nm0730386       Comedy   \n",
       "4259110.xml  untokenisiert       91  nm0159725  nm0159725  Documentary   \n",
       "4980988.xml  untokenisiert       35  nm0163229  nm0163229       Sci-Fi   \n",
       "\n",
       "             single_writer  n_writers  \n",
       "filename                               \n",
       "4514303.xml           True          1  \n",
       "3590276.xml           True          1  \n",
       "4010305.xml           True          1  \n",
       "4259110.xml           True          1  \n",
       "4980988.xml           True          1  "
      ]
     },
     "execution_count": 86,
     "metadata": {},
     "output_type": "execute_result"
    }
   ],
   "source": [
    "df.head()"
   ]
  },
  {
   "cell_type": "code",
   "execution_count": null,
   "metadata": {},
   "outputs": [],
   "source": []
  }
 ],
 "metadata": {
  "kernelspec": {
   "display_name": "Python 3",
   "language": "python",
   "name": "python3"
  },
  "language_info": {
   "codemirror_mode": {
    "name": "ipython",
    "version": 3
   },
   "file_extension": ".py",
   "mimetype": "text/x-python",
   "name": "python",
   "nbconvert_exporter": "python",
   "pygments_lexer": "ipython3",
   "version": "3.8.2"
  }
 },
 "nbformat": 4,
 "nbformat_minor": 4
}
