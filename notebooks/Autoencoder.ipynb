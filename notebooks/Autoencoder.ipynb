{
 "cells": [
  {
   "cell_type": "markdown",
   "metadata": {},
   "source": [
    "# Goal:\n",
    "\n",
    "We want to build a character-based recurrent autoencoder (using attention and lstm recurrent units)"
   ]
  },
  {
   "cell_type": "code",
   "execution_count": 56,
   "metadata": {},
   "outputs": [],
   "source": [
    "import os\n",
    "os.environ[\"CUDA_VISIBLE_DEVICES\"] = \"3\"\n",
    "import pandas as pd\n",
    "import unicodedata\n",
    "import string\n",
    "import numpy as np\n",
    "from tensorflow.keras.preprocessing.sequence import pad_sequences\n",
    "from tensorflow.keras.models import Sequential, Model\n",
    "from tensorflow.keras.layers import *\n",
    "from tensorflow.keras.optimizers import Nadam\n",
    "import numpy as np\n",
    "import tensorflow as tf\n",
    "from tensorflow.keras.callbacks import ModelCheckpoint, TensorBoard\n",
    "from tensorflow.keras.preprocessing.text import Tokenizer\n",
    "from tensorflow.keras.optimizers import SGD, Adam"
   ]
  },
  {
   "cell_type": "code",
   "execution_count": 57,
   "metadata": {
    "scrolled": true
   },
   "outputs": [
    {
     "name": "stdout",
     "output_type": "stream",
     "text": [
      "[name: \"/device:CPU:0\"\n",
      "device_type: \"CPU\"\n",
      "memory_limit: 268435456\n",
      "locality {\n",
      "}\n",
      "incarnation: 9254018276178909113\n",
      ", name: \"/device:XLA_CPU:0\"\n",
      "device_type: \"XLA_CPU\"\n",
      "memory_limit: 17179869184\n",
      "locality {\n",
      "}\n",
      "incarnation: 10642364982528568774\n",
      "physical_device_desc: \"device: XLA_CPU device\"\n",
      ", name: \"/device:GPU:0\"\n",
      "device_type: \"GPU\"\n",
      "memory_limit: 10669107456\n",
      "locality {\n",
      "  bus_id: 2\n",
      "  numa_node: 1\n",
      "  links {\n",
      "  }\n",
      "}\n",
      "incarnation: 12242065144125447365\n",
      "physical_device_desc: \"device: 0, name: GeForce RTX 2080 Ti, pci bus id: 0000:af:00.0, compute capability: 7.5\"\n",
      ", name: \"/device:XLA_GPU:0\"\n",
      "device_type: \"XLA_GPU\"\n",
      "memory_limit: 17179869184\n",
      "locality {\n",
      "}\n",
      "incarnation: 17286600213883837480\n",
      "physical_device_desc: \"device: XLA_GPU device\"\n",
      "]\n"
     ]
    }
   ],
   "source": [
    "from tensorflow.python.client import device_lib\n",
    "print(device_lib.list_local_devices())"
   ]
  },
  {
   "cell_type": "markdown",
   "metadata": {},
   "source": [
    "## Load dataset"
   ]
  },
  {
   "cell_type": "code",
   "execution_count": 58,
   "metadata": {},
   "outputs": [],
   "source": [
    "df = pd.read_csv('../dataset/movies_complete.csv')\n",
    "df.text = df.text.str.replace('\\s+', ' ')"
   ]
  },
  {
   "cell_type": "code",
   "execution_count": 59,
   "metadata": {},
   "outputs": [],
   "source": [
    "df = pd.read_csv('../dataset/movies_complete.csv')\n",
    "df['text_length'] = df.text.apply(lambda x: len(x.split()))\n",
    "df = df[df['text_length'] >= 3000]"
   ]
  },
  {
   "cell_type": "code",
   "execution_count": 60,
   "metadata": {},
   "outputs": [],
   "source": [
    "all_letters = string.ascii_letters + \" .,;'\"\n",
    "n_letters = len(all_letters) +1 # for unknown token\n",
    "\n",
    "def unicodeToAscii(s):\n",
    "    return ''.join(\n",
    "        c for c in unicodedata.normalize('NFD', s)\n",
    "        if unicodedata.category(c) != 'Mn'\n",
    "        and c in all_letters\n",
    "    )"
   ]
  },
  {
   "cell_type": "code",
   "execution_count": 61,
   "metadata": {},
   "outputs": [],
   "source": [
    "texts = df.text.apply(unicodeToAscii).to_list()"
   ]
  },
  {
   "cell_type": "markdown",
   "metadata": {},
   "source": [
    "# Preprocessing (Keras)"
   ]
  },
  {
   "cell_type": "code",
   "execution_count": 62,
   "metadata": {},
   "outputs": [],
   "source": [
    "num_words = 1000\n",
    "tk = Tokenizer(num_words=num_words, char_level=False, oov_token='UNK')\n",
    "\n",
    "tk.fit_on_texts(texts)\n",
    "sequences = tk.texts_to_sequences(texts)\n",
    "\n",
    "char_dict = {char: index + 1 for index, char in enumerate(tk.word_index)}\n",
    "char_dict[tk.oov_token] = max(char_dict.values()) + 1\n",
    "tk.word_index = char_dict\n",
    "n_letters = len(tk.word_index) + 1\n"
   ]
  },
  {
   "cell_type": "code",
   "execution_count": 63,
   "metadata": {},
   "outputs": [],
   "source": [
    "#matrix = tk.texts_to_matrix(texts, mode='binary')"
   ]
  },
  {
   "cell_type": "code",
   "execution_count": 64,
   "metadata": {},
   "outputs": [],
   "source": [
    "#sequences"
   ]
  },
  {
   "cell_type": "code",
   "execution_count": 65,
   "metadata": {},
   "outputs": [],
   "source": [
    "maxlen = 500\n",
    "\n",
    "sequences = pad_sequences(sequences=sequences, maxlen=maxlen, padding='post')"
   ]
  },
  {
   "cell_type": "code",
   "execution_count": 66,
   "metadata": {},
   "outputs": [],
   "source": [
    "X = []\n",
    "\n",
    "for entry in sequences:\n",
    "    oh_entry = []\n",
    "    for token_index in entry:\n",
    "        oh = np.zeros(num_words, dtype='int8')\n",
    "        oh[token_index] = 1\n",
    "        oh_entry.append(oh)\n",
    "    X.append(oh_entry)\n",
    "X = np.asarray(X, dtype='int8')"
   ]
  },
  {
   "cell_type": "code",
   "execution_count": 67,
   "metadata": {},
   "outputs": [
    {
     "data": {
      "text/plain": [
       "((3486, 500, 1000), 1743000000000000.0)"
      ]
     },
     "execution_count": 67,
     "metadata": {},
     "output_type": "execute_result"
    }
   ],
   "source": [
    "X.shape, X.nbytes * 1e6"
   ]
  },
  {
   "cell_type": "code",
   "execution_count": 68,
   "metadata": {},
   "outputs": [],
   "source": [
    "#matrix = matrix.astype('int8')"
   ]
  },
  {
   "cell_type": "markdown",
   "metadata": {},
   "source": [
    "## Define model"
   ]
  },
  {
   "cell_type": "markdown",
   "metadata": {},
   "source": [
    "#### Dense Model"
   ]
  },
  {
   "cell_type": "code",
   "execution_count": 69,
   "metadata": {},
   "outputs": [],
   "source": [
    "def build_dense(num_words):\n",
    "    \n",
    "    stacked_encoder = Sequential([\n",
    "        Input(shape=(num_words)),\n",
    "        Dense(256, activation=\"linear\"),\n",
    "        Dense(128, activation=\"linear\"),\n",
    "    ])\n",
    "    \n",
    "    stacked_decoder = Sequential([\n",
    "        Dense(128, activation='linear', input_shape=[128]),\n",
    "        Dense(256, activation=\"linear\"),\n",
    "        Dense(num_words, activation=\"sigmoid\")\n",
    "    ])\n",
    "    stacked_ae = Sequential([stacked_encoder, stacked_decoder])\n",
    "    stacked_ae.compile(loss=\"binary_crossentropy\",\n",
    "    optimizer=Adam(lr=0.01))\n",
    "    return stacked_ae, stacked_encoder\n",
    " "
   ]
  },
  {
   "cell_type": "code",
   "execution_count": 70,
   "metadata": {},
   "outputs": [],
   "source": [
    "#autoencoder, encoder = build_dense(num_words)\n",
    "#autoencoder.summary()"
   ]
  },
  {
   "cell_type": "code",
   "execution_count": 71,
   "metadata": {},
   "outputs": [],
   "source": [
    "#autoencoder.fit(matrix, matrix, epochs=10, batch_size=128)"
   ]
  },
  {
   "cell_type": "code",
   "execution_count": 72,
   "metadata": {},
   "outputs": [],
   "source": [
    "#embedding = encoder.predict(matrix)\n",
    "#embedding"
   ]
  },
  {
   "cell_type": "code",
   "execution_count": 73,
   "metadata": {},
   "outputs": [],
   "source": [
    "#from umap import UMAP\n",
    "#import seaborn as sns\n",
    "\n",
    "#umap = UMAP(n_components=2)\n",
    "#red = umap.fit_transform(embedding)\n",
    "\n",
    "#sns.scatterplot(x=embedding[:,0], y=embedding[:,1])\n"
   ]
  },
  {
   "cell_type": "code",
   "execution_count": 74,
   "metadata": {},
   "outputs": [],
   "source": [
    "#from sklearn.decomposition import PCA\n",
    "#p = PCA(n_components=2).fit_transform(matrix)\n",
    "#sns.scatterplot(x=p[:,0], y=p[:,1])\n",
    "\n"
   ]
  },
  {
   "cell_type": "markdown",
   "metadata": {},
   "source": [
    "#### Recurrent-Model"
   ]
  },
  {
   "cell_type": "code",
   "execution_count": 269,
   "metadata": {},
   "outputs": [],
   "source": [
    "from keras.layers import Input, LSTM, RepeatVector\n",
    "from keras.models import Model\n",
    "\n",
    "def build_recurrent_model(n_letters, maxlen):\n",
    "    encoder = Sequential([\n",
    "        Input(shape=(maxlen)),\n",
    "        Embedding(n_letters, 32),\n",
    "        LSTM(32,\n",
    "             return_sequences=True,\n",
    "            ),\n",
    "        LSTM(16,\n",
    "             return_sequences=False,\n",
    "            ),\n",
    "    ])\n",
    "    decoder = Sequential([\n",
    "        RepeatVector(maxlen),\n",
    "        LSTM(16,\n",
    "             return_sequences=True,\n",
    "            ),\n",
    "        TimeDistributed(Dense(n_letters, activation='sigmoid'))\n",
    "    ])\n",
    "    autoencoder = Sequential([encoder, decoder])\n",
    "    autoencoder.compile(loss='mse', optimizer='rmsprop')\n",
    "    return autoencoder, encoder"
   ]
  },
  {
   "cell_type": "code",
   "execution_count": 270,
   "metadata": {},
   "outputs": [],
   "source": [
    "callbacks = [\n",
    "    ModelCheckpoint(filepath='../Results/autoencoder/model.{epoch:02d}-{loss:.2f}.h5',\n",
    "                    monitor='loss',\n",
    "                    save_best_only=True,\n",
    "                    save_freq=5),\n",
    "    TensorBoard(log_dir='../Results/tensorboard_logs',\n",
    "                embeddings_freq=1)\n",
    "]"
   ]
  },
  {
   "cell_type": "code",
   "execution_count": 271,
   "metadata": {},
   "outputs": [
    {
     "name": "stdout",
     "output_type": "stream",
     "text": [
      "Model: \"sequential_125\"\n",
      "_________________________________________________________________\n",
      "Layer (type)                 Output Shape              Param #   \n",
      "=================================================================\n",
      "sequential_123 (Sequential)  (None, 16)                43456     \n",
      "_________________________________________________________________\n",
      "sequential_124 (Sequential)  (None, 500, 1000)         19112     \n",
      "=================================================================\n",
      "Total params: 62,568\n",
      "Trainable params: 62,568\n",
      "Non-trainable params: 0\n",
      "_________________________________________________________________\n",
      "Model: \"sequential_123\"\n",
      "_________________________________________________________________\n",
      "Layer (type)                 Output Shape              Param #   \n",
      "=================================================================\n",
      "embedding_42 (Embedding)     (None, 500, 32)           32000     \n",
      "_________________________________________________________________\n",
      "lstm_138 (LSTM)              (None, 500, 32)           8320      \n",
      "_________________________________________________________________\n",
      "lstm_139 (LSTM)              (None, 16)                3136      \n",
      "=================================================================\n",
      "Total params: 43,456\n",
      "Trainable params: 43,456\n",
      "Non-trainable params: 0\n",
      "_________________________________________________________________\n"
     ]
    }
   ],
   "source": [
    "recurrent_autoencoder, recurrent_encoder = build_recurrent_model(num_words, maxlen)\n",
    "recurrent_autoencoder.summary()\n",
    "recurrent_encoder.summary()"
   ]
  },
  {
   "cell_type": "code",
   "execution_count": 272,
   "metadata": {},
   "outputs": [
    {
     "name": "stdout",
     "output_type": "stream",
     "text": [
      "Epoch 1/10\n",
      "55/55 [==============================] - 6s 109ms/step - loss: 0.1394\n",
      "Epoch 2/10\n",
      "55/55 [==============================] - 6s 106ms/step - loss: 0.0370\n",
      "Epoch 3/10\n",
      "55/55 [==============================] - 6s 103ms/step - loss: 0.0104\n",
      "Epoch 4/10\n",
      "55/55 [==============================] - 6s 104ms/step - loss: 0.0034\n",
      "Epoch 5/10\n",
      "55/55 [==============================] - 6s 103ms/step - loss: 0.0016\n",
      "Epoch 6/10\n",
      "55/55 [==============================] - 6s 107ms/step - loss: 0.0011\n",
      "Epoch 7/10\n",
      "55/55 [==============================] - 6s 106ms/step - loss: 0.0010\n",
      "Epoch 8/10\n",
      "55/55 [==============================] - 6s 106ms/step - loss: 9.7316e-04\n",
      "Epoch 9/10\n",
      "55/55 [==============================] - 6s 106ms/step - loss: 9.6193e-04\n",
      "Epoch 10/10\n",
      "55/55 [==============================] - 6s 103ms/step - loss: 9.5704e-04\n"
     ]
    }
   ],
   "source": [
    "#X = sequences.reshape((sequences.shape[0], sequences.shape[1], 1))\n",
    "\n",
    "history = recurrent_autoencoder.fit(sequences, X, batch_size=64, epochs=10, callbacks=callbacks)"
   ]
  },
  {
   "cell_type": "code",
   "execution_count": 273,
   "metadata": {},
   "outputs": [
    {
     "name": "stdout",
     "output_type": "stream",
     "text": [
      "(3486, 16)\n"
     ]
    }
   ],
   "source": [
    "embeddings = recurrent_encoder.predict(sequences)\n",
    "print(embeddings.shape)\n",
    "with open('autoencoder_embeddings.npy', 'wb') as f:\n",
    "    np.save(f, embeddings)\n",
    "    "
   ]
  },
  {
   "cell_type": "code",
   "execution_count": 275,
   "metadata": {},
   "outputs": [
    {
     "data": {
      "text/plain": [
       "<matplotlib.axes._subplots.AxesSubplot at 0x7f5d3e4dee50>"
      ]
     },
     "execution_count": 275,
     "metadata": {},
     "output_type": "execute_result"
    },
    {
     "data": {
      "image/png": "[encoded data removed]",
      "text/plain": [
       "<Figure size 432x288 with 1 Axes>"
      ]
     },
     "metadata": {
      "needs_background": "light"
     },
     "output_type": "display_data"
    }
   ],
   "source": [
    "from umap import UMAP\n",
    "from sklearn.decomposition import PCA\n",
    "import seaborn as sns\n",
    "\n",
    "r = UMAP(n_components=2).fit_transform(embeddings)\n",
    "sns.scatterplot(x=r[:,0], y=r[:,1])\n"
   ]
  },
  {
   "cell_type": "code",
   "execution_count": 267,
   "metadata": {},
   "outputs": [
    {
     "data": {
      "text/plain": [
       "array([0.00176746, 0.00115438, 0.0010179 , 0.00161795, 0.00117639,\n",
       "       0.00141092, 0.00196444, 0.00128726, 0.00089788, 0.00153283,\n",
       "       0.00134713, 0.00146617, 0.00156416, 0.00141829, 0.00086987,\n",
       "       0.00208476], dtype=float32)"
      ]
     },
     "execution_count": 267,
     "metadata": {},
     "output_type": "execute_result"
    }
   ],
   "source": [
    "embeddings.std(axis=0)"
   ]
  },
  {
   "cell_type": "code",
   "execution_count": 268,
   "metadata": {},
   "outputs": [
    {
     "data": {
      "text/plain": [
       "array([[-0.99028045,  0.9936927 , -0.9953435 , ..., -0.9929583 ,\n",
       "         0.9955513 , -0.9883416 ],\n",
       "       [-0.98883736,  0.99277836, -0.9945461 , ..., -0.99183285,\n",
       "         0.9948371 , -0.98656416],\n",
       "       [-0.98923457,  0.99309736, -0.99477327, ..., -0.99218154,\n",
       "         0.9950296 , -0.9871584 ],\n",
       "       ...,\n",
       "       [-0.99011564,  0.993469  , -0.9952501 , ..., -0.99276274,\n",
       "         0.9954412 , -0.9880993 ],\n",
       "       [-0.9887428 ,  0.9927307 , -0.994515  , ..., -0.9918071 ,\n",
       "         0.99479353, -0.9865707 ],\n",
       "       [-0.98984444,  0.99330693, -0.9951248 , ..., -0.9925674 ,\n",
       "         0.99532074, -0.9877741 ]], dtype=float32)"
      ]
     },
     "execution_count": 268,
     "metadata": {},
     "output_type": "execute_result"
    }
   ],
   "source": [
    "embeddings"
   ]
  },
  {
   "cell_type": "code",
   "execution_count": null,
   "metadata": {},
   "outputs": [],
   "source": []
  }
 ],
 "metadata": {
  "kernelspec": {
   "display_name": "Python 3",
   "language": "python",
   "name": "python3"
  },
  "language_info": {
   "codemirror_mode": {
    "name": "ipython",
    "version": 3
   },
   "file_extension": ".py",
   "mimetype": "text/x-python",
   "name": "python",
   "nbconvert_exporter": "python",
   "pygments_lexer": "ipython3",
   "version": "3.8.3"
  }
 },
 "nbformat": 4,
 "nbformat_minor": 4
}
