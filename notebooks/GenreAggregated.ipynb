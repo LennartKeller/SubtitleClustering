{
 "cells": [
  {
   "cell_type": "code",
   "execution_count": 1,
   "metadata": {},
   "outputs": [],
   "source": [
    "import pandas as pd\n",
    "import matplotlib.pyplot as plt\n",
    "import numpy as np\n",
    "import plotly.graph_objects as go\n",
    "import seaborn as sns\n",
    "from sklearn.feature_extraction.text import TfidfVectorizer\n",
    "from stop_words import get_stop_words\n",
    "from sklearn.decomposition import PCA\n",
    "from sklearn.cluster import KMeans\n",
    "from umap import UMAP\n",
    "from collections import Counter"
   ]
  },
  {
   "cell_type": "code",
   "execution_count": 2,
   "metadata": {},
   "outputs": [],
   "source": [
    "df = pd.read_csv('../dataset/movies_complete.csv')\n",
    "df.dropna(subset=['genre'], inplace=True)\n",
    "df['text_length'] = df.text.apply(lambda x: len(x.split()))\n",
    "df = df[df['text_length'] >= 3000]"
   ]
  },
  {
   "cell_type": "code",
   "execution_count": 3,
   "metadata": {},
   "outputs": [],
   "source": [
    "def aggregate_by_label(df: pd.DataFrame, label: str, min_threshold: int = 0):\n",
    "    \n",
    "    top_labels = df[label].value_counts()[df[label].value_counts() > min_threshold]\n",
    "    \n",
    "    entries = []\n",
    "    for l in top_labels.index:\n",
    "        label_df = df[df[label] == l]\n",
    "        all_texts = []\n",
    "        for text in label_df.text:\n",
    "            all_texts.append(text)\n",
    "        entry = {}\n",
    "        \n",
    "        conctanated_text = \" \".join(all_texts)\n",
    "        entry['label'] = l\n",
    "        entry['text'] = conctanated_text\n",
    "        entry['n_texts'] = len(all_texts)\n",
    "        entry['n_tokens'] = len(conctanated_text.split())\n",
    "        entry['instances'] = \", \".join(label_df.filename.to_list())\n",
    "        \n",
    "        entries.append(entry)\n",
    "    return pd.DataFrame.from_records(entries)"
   ]
  },
  {
   "cell_type": "code",
   "execution_count": 4,
   "metadata": {},
   "outputs": [],
   "source": [
    "def get_cluster_dfs(df, cluster):\n",
    "    return[df[cluster == i] for i in np.unique(cluster)]"
   ]
  },
  {
   "cell_type": "code",
   "execution_count": 5,
   "metadata": {},
   "outputs": [],
   "source": [
    "from plotly.colors import qualitative \n",
    "\n",
    "def plotly_color_categorical_values(values, cmap=qualitative.Light24):\n",
    "    uniq = np.unique(values)\n",
    "    if len(uniq) > len(cmap):\n",
    "        print(\"Need more colors than current cmap holds\")\n",
    "        return\n",
    "    categories_color = {cat: cmap[index] for index, cat in enumerate(uniq)}\n",
    "    return [categories_color[cat] for cat in values]"
   ]
  },
  {
   "cell_type": "code",
   "execution_count": 36,
   "metadata": {},
   "outputs": [],
   "source": [
    "aggr = aggregate_by_label(df, 'genre', 9)"
   ]
  },
  {
   "cell_type": "code",
   "execution_count": 149,
   "metadata": {},
   "outputs": [],
   "source": [
    "tfidf = TfidfVectorizer(\n",
    "    #stop_words=get_stop_words('de'),\n",
    "    max_features=250)\n",
    "\n",
    "X = tfidf.fit_transform(aggr.text)\n",
    "X = X.todense()"
   ]
  },
  {
   "cell_type": "code",
   "execution_count": 172,
   "metadata": {},
   "outputs": [],
   "source": [
    "Xr = UMAP(n_components=2, n_neighbors=20).fit_transform(X)\n",
    "#Xr = PCA(n_components=2).fit_transform(X)"
   ]
  },
  {
   "cell_type": "code",
   "execution_count": 173,
   "metadata": {},
   "outputs": [
    {
     "data": {
      "application/vnd.plotly.v1+json": {
       "config": {
        "plotlyServerURL": "https://plot.ly"
       },
       "data": [
        {
         "marker": {
          "color": [
           2674369,
           2233492,
           1300900,
           1016722,
           1198594,
           1015203,
           462316,
           545452,
           447645,
           542220,
           562622,
           619572,
           514264,
           343265,
           366818,
           396140,
           426025,
           283838,
           231782,
           304024,
           282027,
           304749,
           284118,
           264644,
           214763,
           191435,
           209863,
           261093,
           146342,
           169823,
           186666,
           169261,
           129658,
           173914,
           179958,
           113772,
           133304,
           158313,
           127344,
           127969,
           97203,
           124264,
           99207,
           103483,
           113566,
           104418,
           135654,
           104008,
           135383,
           96014,
           185093,
           155559,
           85787,
           114469,
           78181,
           81141,
           89085,
           94362,
           101966,
           84990,
           69526,
           94720,
           82350,
           107763,
           83527,
           74898,
           93552,
           64112,
           85138,
           82038,
           119205,
           107730,
           93600,
           70389,
           59302,
           86744
          ]
         },
         "mode": "markers",
         "text": [
          "Drama|370",
          "Comedy|195",
          "Comedy,Drama|139",
          "Drama,Romance|132",
          "Comedy,Drama,Romance|116",
          "Comedy,Romance|85",
          "Horror|77",
          "Drama,Thriller|74",
          "Horror,Thriller|69",
          "Action,Crime,Drama|67",
          "Adventure,Animation,Comedy|65",
          "Documentary|64",
          "Crime,Drama,Thriller|62",
          "Thriller|53",
          "Action,Crime,Thriller|49",
          "Action,Adventure,Sci-Fi|41",
          "Action,Comedy,Crime|41",
          "Action,Adventure,Drama|36",
          "Action|36",
          "Crime,Drama|35",
          "Crime,Drama,Mystery|30",
          "Biography,Drama,History|30",
          "Biography,Drama|30",
          "Action,Adventure,Comedy|28",
          "Action,Thriller|28",
          "Horror,Mystery,Thriller|28",
          "Comedy,Horror|27",
          "Comedy,Crime,Drama|26",
          "Action,Adventure,Fantasy|25",
          "Crime,Thriller|22",
          "Family|22",
          "Action,Adventure,Animation|22",
          "Action,Horror,Sci-Fi|20",
          "Biography,Drama,Romance|20",
          "Action,Comedy|19",
          "Action,Drama|19",
          "Drama,Mystery,Thriller|19",
          "Action,Drama,History|19",
          "Action,Drama,Thriller|18",
          "Action,Sci-Fi,Thriller|18",
          "Drama,Horror,Thriller|16",
          "Action,Biography,Drama|15",
          "Action,Comedy,Horror|15",
          "Horror,Sci-Fi,Thriller|15",
          "Adventure,Family,Fantasy|15",
          "Drama,Family|14",
          "Adventure,Comedy,Drama|14",
          "Drama,War|14",
          "Adventure,Comedy,Family|14",
          "Mystery,Thriller|14",
          "Comedy,Crime|14",
          "Biography,Comedy,Drama|14",
          "Drama,Romance,Thriller|12",
          "Comedy,Drama,Fantasy|12",
          "Drama,Horror,Mystery|12",
          "Drama,Fantasy,Horror|12",
          "Adventure,Animation,Family|12",
          "Crime,Mystery,Thriller|12",
          "Adventure,Family|12",
          "Horror,Mystery|12",
          "Action,Adventure|12",
          "Drama,History,War|12",
          "Action,Adventure,Crime|11",
          "Comedy,Family|11",
          "Crime|11",
          "Drama,History|11",
          "Drama,Mystery,Romance|11",
          "Action,Horror|11",
          "Drama,Mystery|11",
          "Action,Adventure,Thriller|11",
          "Adventure,Comedy|10",
          "Biography,Crime,Drama|10",
          "Comedy,Drama,Music|10",
          "Adventure,Drama,Family|10",
          "Horror,Sci-Fi|10",
          "Drama,Music|10"
         ],
         "type": "scatter",
         "x": [
          -0.07441720642632858,
          -0.1081816108357512,
          -0.09745412202463298,
          -0.11094729108155318,
          -0.09706732626681479,
          -0.14156718469603444,
          -0.09285625574204306,
          -0.01521267296044031,
          -0.029086221563103098,
          0.024386741696568234,
          -0.0933794732310198,
          0.27179463785739644,
          -0.01059349211385158,
          -0.01946018383487397,
          0.05533427434444574,
          0.09004322308894708,
          -0.01889244384725903,
          0.07124449675940177,
          -0.018189534554113367,
          -0.09526641774040284,
          0.09989734037183327,
          0.1548814576241439,
          0.08833014212200911,
          -0.015553343279932038,
          0.04964881046066406,
          -0.02569729417629034,
          -0.08682070848059041,
          -0.04958380957941236,
          0.0294115061555128,
          -0.05080097223482748,
          -0.09861322537520588,
          -0.052811086298041536,
          0.15243274993870584,
          0.056958596636786867,
          -0.044584304036925905,
          0.024169567161977396,
          0.02974293995208704,
          0.10127192485051449,
          0.060191229934879256,
          0.10327748658937556,
          -0.1248612364935088,
          0.09442329216633993,
          -0.08555030423710865,
          0.09802407309402213,
          -0.04652972032338845,
          -0.09968524095683248,
          -0.021311555846032927,
          0.08582563257466841,
          -0.060561040760551486,
          -0.01627009905856458,
          -0.05785160679173121,
          0.04927469603797307,
          -0.12898604761648608,
          -0.07472536901485999,
          0.04801090742495864,
          0.00824263036950757,
          -0.12027384776640226,
          0.1023621073387495,
          -0.04624222902192257,
          0.01981293898311832,
          0.056978212674207204,
          0.2171631418832561,
          0.12909848163733556,
          -0.10554766673658071,
          -0.06423441714718474,
          0.04983445122424487,
          0.025459656718125435,
          0.08746900357574361,
          -0.010022353159208996,
          0.17725941301882128,
          -0.07286102383950001,
          0.08704932389712838,
          0.038972403073285235,
          -0.12014680473891168,
          -0.02071443292017389,
          -0.11486631442833722
         ],
         "y": [
          -0.019630477506488202,
          0.029669937544154874,
          -0.018533611191978255,
          -0.05354446311655378,
          -0.05356467815855447,
          -0.02307585684435923,
          -0.007995524944620904,
          -0.07918753760009813,
          -0.05126854612124339,
          -0.028178194233451352,
          0.09695431999185818,
          0.21112668759826694,
          -0.06268137937614196,
          -0.034237992590676926,
          -0.0350419329613795,
          -0.012622357605306106,
          -0.02893157883559739,
          0.15531585883729748,
          0.03384227944283254,
          -0.010225571013055705,
          -0.14842517702440283,
          0.07023947669668815,
          -0.007000640145450643,
          0.03795225947415859,
          -0.04366359977047468,
          -0.08692272269153796,
          0.03656695516302904,
          -0.0009297874260746473,
          0.09992376607160271,
          -0.0323508417035638,
          0.09542961859939653,
          0.12958166843432126,
          -0.02714373157438401,
          -0.016837593651367572,
          0.03524799111539997,
          0.0720772718984029,
          -0.16773473343440673,
          0.12111781086989862,
          -0.030853646185526894,
          -0.029654060788280832,
          -0.04737171685401921,
          0.04607025587180011,
          0.024772337386493995,
          -0.04557603031104451,
          0.03804674816861953,
          0.026107982435057565,
          0.019618992991494295,
          0.004691916210974026,
          0.07294494685085483,
          -0.0894966370606392,
          -0.0013858817045078826,
          -0.003988367944998341,
          -0.07469921601946447,
          -0.01730479471175036,
          -0.09982685256663973,
          -0.08550179889419021,
          0.10837580481883369,
          -0.09988435504656848,
          0.07713564208361956,
          -0.032133418211328764,
          0.12321164438262501,
          0.06366023271089381,
          -0.08381872520523118,
          0.07410932437530485,
          -0.012862702317955079,
          0.10766594394130762,
          -0.08962670142738151,
          -0.0630168598122293,
          -0.10266069749150587,
          -0.05748769542997928,
          0.01578841326928398,
          -0.028202795771440105,
          -0.030134389918513957,
          0.07029266317045603,
          0.034195644691885074,
          0.04348147809754808
         ]
        }
       ],
       "layout": {
        "template": {
         "data": {
          "bar": [
           {
            "error_x": {
             "color": "#2a3f5f"
            },
            "error_y": {
             "color": "#2a3f5f"
            },
            "marker": {
             "line": {
              "color": "#E5ECF6",
              "width": 0.5
             }
            },
            "type": "bar"
           }
          ],
          "barpolar": [
           {
            "marker": {
             "line": {
              "color": "#E5ECF6",
              "width": 0.5
             }
            },
            "type": "barpolar"
           }
          ],
          "carpet": [
           {
            "aaxis": {
             "endlinecolor": "#2a3f5f",
             "gridcolor": "white",
             "linecolor": "white",
             "minorgridcolor": "white",
             "startlinecolor": "#2a3f5f"
            },
            "baxis": {
             "endlinecolor": "#2a3f5f",
             "gridcolor": "white",
             "linecolor": "white",
             "minorgridcolor": "white",
             "startlinecolor": "#2a3f5f"
            },
            "type": "carpet"
           }
          ],
          "choropleth": [
           {
            "colorbar": {
             "outlinewidth": 0,
             "ticks": ""
            },
            "type": "choropleth"
           }
          ],
          "contour": [
           {
            "colorbar": {
             "outlinewidth": 0,
             "ticks": ""
            },
            "colorscale": [
             [
              0,
              "#0d0887"
             ],
             [
              0.1111111111111111,
              "#46039f"
             ],
             [
              0.2222222222222222,
              "#7201a8"
             ],
             [
              0.3333333333333333,
              "#9c179e"
             ],
             [
              0.4444444444444444,
              "#bd3786"
             ],
             [
              0.5555555555555556,
              "#d8576b"
             ],
             [
              0.6666666666666666,
              "#ed7953"
             ],
             [
              0.7777777777777778,
              "#fb9f3a"
             ],
             [
              0.8888888888888888,
              "#fdca26"
             ],
             [
              1,
              "#f0f921"
             ]
            ],
            "type": "contour"
           }
          ],
          "contourcarpet": [
           {
            "colorbar": {
             "outlinewidth": 0,
             "ticks": ""
            },
            "type": "contourcarpet"
           }
          ],
          "heatmap": [
           {
            "colorbar": {
             "outlinewidth": 0,
             "ticks": ""
            },
            "colorscale": [
             [
              0,
              "#0d0887"
             ],
             [
              0.1111111111111111,
              "#46039f"
             ],
             [
              0.2222222222222222,
              "#7201a8"
             ],
             [
              0.3333333333333333,
              "#9c179e"
             ],
             [
              0.4444444444444444,
              "#bd3786"
             ],
             [
              0.5555555555555556,
              "#d8576b"
             ],
             [
              0.6666666666666666,
              "#ed7953"
             ],
             [
              0.7777777777777778,
              "#fb9f3a"
             ],
             [
              0.8888888888888888,
              "#fdca26"
             ],
             [
              1,
              "#f0f921"
             ]
            ],
            "type": "heatmap"
           }
          ],
          "heatmapgl": [
           {
            "colorbar": {
             "outlinewidth": 0,
             "ticks": ""
            },
            "colorscale": [
             [
              0,
              "#0d0887"
             ],
             [
              0.1111111111111111,
              "#46039f"
             ],
             [
              0.2222222222222222,
              "#7201a8"
             ],
             [
              0.3333333333333333,
              "#9c179e"
             ],
             [
              0.4444444444444444,
              "#bd3786"
             ],
             [
              0.5555555555555556,
              "#d8576b"
             ],
             [
              0.6666666666666666,
              "#ed7953"
             ],
             [
              0.7777777777777778,
              "#fb9f3a"
             ],
             [
              0.8888888888888888,
              "#fdca26"
             ],
             [
              1,
              "#f0f921"
             ]
            ],
            "type": "heatmapgl"
           }
          ],
          "histogram": [
           {
            "marker": {
             "colorbar": {
              "outlinewidth": 0,
              "ticks": ""
             }
            },
            "type": "histogram"
           }
          ],
          "histogram2d": [
           {
            "colorbar": {
             "outlinewidth": 0,
             "ticks": ""
            },
            "colorscale": [
             [
              0,
              "#0d0887"
             ],
             [
              0.1111111111111111,
              "#46039f"
             ],
             [
              0.2222222222222222,
              "#7201a8"
             ],
             [
              0.3333333333333333,
              "#9c179e"
             ],
             [
              0.4444444444444444,
              "#bd3786"
             ],
             [
              0.5555555555555556,
              "#d8576b"
             ],
             [
              0.6666666666666666,
              "#ed7953"
             ],
             [
              0.7777777777777778,
              "#fb9f3a"
             ],
             [
              0.8888888888888888,
              "#fdca26"
             ],
             [
              1,
              "#f0f921"
             ]
            ],
            "type": "histogram2d"
           }
          ],
          "histogram2dcontour": [
           {
            "colorbar": {
             "outlinewidth": 0,
             "ticks": ""
            },
            "colorscale": [
             [
              0,
              "#0d0887"
             ],
             [
              0.1111111111111111,
              "#46039f"
             ],
             [
              0.2222222222222222,
              "#7201a8"
             ],
             [
              0.3333333333333333,
              "#9c179e"
             ],
             [
              0.4444444444444444,
              "#bd3786"
             ],
             [
              0.5555555555555556,
              "#d8576b"
             ],
             [
              0.6666666666666666,
              "#ed7953"
             ],
             [
              0.7777777777777778,
              "#fb9f3a"
             ],
             [
              0.8888888888888888,
              "#fdca26"
             ],
             [
              1,
              "#f0f921"
             ]
            ],
            "type": "histogram2dcontour"
           }
          ],
          "mesh3d": [
           {
            "colorbar": {
             "outlinewidth": 0,
             "ticks": ""
            },
            "type": "mesh3d"
           }
          ],
          "parcoords": [
           {
            "line": {
             "colorbar": {
              "outlinewidth": 0,
              "ticks": ""
             }
            },
            "type": "parcoords"
           }
          ],
          "pie": [
           {
            "automargin": true,
            "type": "pie"
           }
          ],
          "scatter": [
           {
            "marker": {
             "colorbar": {
              "outlinewidth": 0,
              "ticks": ""
             }
            },
            "type": "scatter"
           }
          ],
          "scatter3d": [
           {
            "line": {
             "colorbar": {
              "outlinewidth": 0,
              "ticks": ""
             }
            },
            "marker": {
             "colorbar": {
              "outlinewidth": 0,
              "ticks": ""
             }
            },
            "type": "scatter3d"
           }
          ],
          "scattercarpet": [
           {
            "marker": {
             "colorbar": {
              "outlinewidth": 0,
              "ticks": ""
             }
            },
            "type": "scattercarpet"
           }
          ],
          "scattergeo": [
           {
            "marker": {
             "colorbar": {
              "outlinewidth": 0,
              "ticks": ""
             }
            },
            "type": "scattergeo"
           }
          ],
          "scattergl": [
           {
            "marker": {
             "colorbar": {
              "outlinewidth": 0,
              "ticks": ""
             }
            },
            "type": "scattergl"
           }
          ],
          "scattermapbox": [
           {
            "marker": {
             "colorbar": {
              "outlinewidth": 0,
              "ticks": ""
             }
            },
            "type": "scattermapbox"
           }
          ],
          "scatterpolar": [
           {
            "marker": {
             "colorbar": {
              "outlinewidth": 0,
              "ticks": ""
             }
            },
            "type": "scatterpolar"
           }
          ],
          "scatterpolargl": [
           {
            "marker": {
             "colorbar": {
              "outlinewidth": 0,
              "ticks": ""
             }
            },
            "type": "scatterpolargl"
           }
          ],
          "scatterternary": [
           {
            "marker": {
             "colorbar": {
              "outlinewidth": 0,
              "ticks": ""
             }
            },
            "type": "scatterternary"
           }
          ],
          "surface": [
           {
            "colorbar": {
             "outlinewidth": 0,
             "ticks": ""
            },
            "colorscale": [
             [
              0,
              "#0d0887"
             ],
             [
              0.1111111111111111,
              "#46039f"
             ],
             [
              0.2222222222222222,
              "#7201a8"
             ],
             [
              0.3333333333333333,
              "#9c179e"
             ],
             [
              0.4444444444444444,
              "#bd3786"
             ],
             [
              0.5555555555555556,
              "#d8576b"
             ],
             [
              0.6666666666666666,
              "#ed7953"
             ],
             [
              0.7777777777777778,
              "#fb9f3a"
             ],
             [
              0.8888888888888888,
              "#fdca26"
             ],
             [
              1,
              "#f0f921"
             ]
            ],
            "type": "surface"
           }
          ],
          "table": [
           {
            "cells": {
             "fill": {
              "color": "#EBF0F8"
             },
             "line": {
              "color": "white"
             }
            },
            "header": {
             "fill": {
              "color": "#C8D4E3"
             },
             "line": {
              "color": "white"
             }
            },
            "type": "table"
           }
          ]
         },
         "layout": {
          "annotationdefaults": {
           "arrowcolor": "#2a3f5f",
           "arrowhead": 0,
           "arrowwidth": 1
          },
          "coloraxis": {
           "colorbar": {
            "outlinewidth": 0,
            "ticks": ""
           }
          },
          "colorscale": {
           "diverging": [
            [
             0,
             "#8e0152"
            ],
            [
             0.1,
             "#c51b7d"
            ],
            [
             0.2,
             "#de77ae"
            ],
            [
             0.3,
             "#f1b6da"
            ],
            [
             0.4,
             "#fde0ef"
            ],
            [
             0.5,
             "#f7f7f7"
            ],
            [
             0.6,
             "#e6f5d0"
            ],
            [
             0.7,
             "#b8e186"
            ],
            [
             0.8,
             "#7fbc41"
            ],
            [
             0.9,
             "#4d9221"
            ],
            [
             1,
             "#276419"
            ]
           ],
           "sequential": [
            [
             0,
             "#0d0887"
            ],
            [
             0.1111111111111111,
             "#46039f"
            ],
            [
             0.2222222222222222,
             "#7201a8"
            ],
            [
             0.3333333333333333,
             "#9c179e"
            ],
            [
             0.4444444444444444,
             "#bd3786"
            ],
            [
             0.5555555555555556,
             "#d8576b"
            ],
            [
             0.6666666666666666,
             "#ed7953"
            ],
            [
             0.7777777777777778,
             "#fb9f3a"
            ],
            [
             0.8888888888888888,
             "#fdca26"
            ],
            [
             1,
             "#f0f921"
            ]
           ],
           "sequentialminus": [
            [
             0,
             "#0d0887"
            ],
            [
             0.1111111111111111,
             "#46039f"
            ],
            [
             0.2222222222222222,
             "#7201a8"
            ],
            [
             0.3333333333333333,
             "#9c179e"
            ],
            [
             0.4444444444444444,
             "#bd3786"
            ],
            [
             0.5555555555555556,
             "#d8576b"
            ],
            [
             0.6666666666666666,
             "#ed7953"
            ],
            [
             0.7777777777777778,
             "#fb9f3a"
            ],
            [
             0.8888888888888888,
             "#fdca26"
            ],
            [
             1,
             "#f0f921"
            ]
           ]
          },
          "colorway": [
           "#636efa",
           "#EF553B",
           "#00cc96",
           "#ab63fa",
           "#FFA15A",
           "#19d3f3",
           "#FF6692",
           "#B6E880",
           "#FF97FF",
           "#FECB52"
          ],
          "font": {
           "color": "#2a3f5f"
          },
          "geo": {
           "bgcolor": "white",
           "lakecolor": "white",
           "landcolor": "#E5ECF6",
           "showlakes": true,
           "showland": true,
           "subunitcolor": "white"
          },
          "hoverlabel": {
           "align": "left"
          },
          "hovermode": "closest",
          "mapbox": {
           "style": "light"
          },
          "paper_bgcolor": "white",
          "plot_bgcolor": "#E5ECF6",
          "polar": {
           "angularaxis": {
            "gridcolor": "white",
            "linecolor": "white",
            "ticks": ""
           },
           "bgcolor": "#E5ECF6",
           "radialaxis": {
            "gridcolor": "white",
            "linecolor": "white",
            "ticks": ""
           }
          },
          "scene": {
           "xaxis": {
            "backgroundcolor": "#E5ECF6",
            "gridcolor": "white",
            "gridwidth": 2,
            "linecolor": "white",
            "showbackground": true,
            "ticks": "",
            "zerolinecolor": "white"
           },
           "yaxis": {
            "backgroundcolor": "#E5ECF6",
            "gridcolor": "white",
            "gridwidth": 2,
            "linecolor": "white",
            "showbackground": true,
            "ticks": "",
            "zerolinecolor": "white"
           },
           "zaxis": {
            "backgroundcolor": "#E5ECF6",
            "gridcolor": "white",
            "gridwidth": 2,
            "linecolor": "white",
            "showbackground": true,
            "ticks": "",
            "zerolinecolor": "white"
           }
          },
          "shapedefaults": {
           "line": {
            "color": "#2a3f5f"
           }
          },
          "ternary": {
           "aaxis": {
            "gridcolor": "white",
            "linecolor": "white",
            "ticks": ""
           },
           "baxis": {
            "gridcolor": "white",
            "linecolor": "white",
            "ticks": ""
           },
           "bgcolor": "#E5ECF6",
           "caxis": {
            "gridcolor": "white",
            "linecolor": "white",
            "ticks": ""
           }
          },
          "title": {
           "x": 0.05
          },
          "xaxis": {
           "automargin": true,
           "gridcolor": "white",
           "linecolor": "white",
           "ticks": "",
           "title": {
            "standoff": 15
           },
           "zerolinecolor": "white",
           "zerolinewidth": 2
          },
          "yaxis": {
           "automargin": true,
           "gridcolor": "white",
           "linecolor": "white",
           "ticks": "",
           "title": {
            "standoff": 15
           },
           "zerolinecolor": "white",
           "zerolinewidth": 2
          }
         }
        }
       }
      },
      "text/html": [
       "<div>\n",
       "        \n",
       "        \n",
       "            <div id=\"ee63c266-f6cc-42f5-a309-44166b070fc0\" class=\"plotly-graph-div\" style=\"height:525px; width:100%;\"></div>\n",
       "            <script type=\"text/javascript\">\n",
       "                require([\"plotly\"], function(Plotly) {\n",
       "                    window.PLOTLYENV=window.PLOTLYENV || {};\n",
       "                    \n",
       "                if (document.getElementById(\"ee63c266-f6cc-42f5-a309-44166b070fc0\")) {\n",
       "                    Plotly.newPlot(\n",
       "                        'ee63c266-f6cc-42f5-a309-44166b070fc0',\n",
       "                        [{\"marker\": {\"color\": [2674369, 2233492, 1300900, 1016722, 1198594, 1015203, 462316, 545452, 447645, 542220, 562622, 619572, 514264, 343265, 366818, 396140, 426025, 283838, 231782, 304024, 282027, 304749, 284118, 264644, 214763, 191435, 209863, 261093, 146342, 169823, 186666, 169261, 129658, 173914, 179958, 113772, 133304, 158313, 127344, 127969, 97203, 124264, 99207, 103483, 113566, 104418, 135654, 104008, 135383, 96014, 185093, 155559, 85787, 114469, 78181, 81141, 89085, 94362, 101966, 84990, 69526, 94720, 82350, 107763, 83527, 74898, 93552, 64112, 85138, 82038, 119205, 107730, 93600, 70389, 59302, 86744]}, \"mode\": \"markers\", \"text\": [\"Drama|370\", \"Comedy|195\", \"Comedy,Drama|139\", \"Drama,Romance|132\", \"Comedy,Drama,Romance|116\", \"Comedy,Romance|85\", \"Horror|77\", \"Drama,Thriller|74\", \"Horror,Thriller|69\", \"Action,Crime,Drama|67\", \"Adventure,Animation,Comedy|65\", \"Documentary|64\", \"Crime,Drama,Thriller|62\", \"Thriller|53\", \"Action,Crime,Thriller|49\", \"Action,Adventure,Sci-Fi|41\", \"Action,Comedy,Crime|41\", \"Action,Adventure,Drama|36\", \"Action|36\", \"Crime,Drama|35\", \"Crime,Drama,Mystery|30\", \"Biography,Drama,History|30\", \"Biography,Drama|30\", \"Action,Adventure,Comedy|28\", \"Action,Thriller|28\", \"Horror,Mystery,Thriller|28\", \"Comedy,Horror|27\", \"Comedy,Crime,Drama|26\", \"Action,Adventure,Fantasy|25\", \"Crime,Thriller|22\", \"Family|22\", \"Action,Adventure,Animation|22\", \"Action,Horror,Sci-Fi|20\", \"Biography,Drama,Romance|20\", \"Action,Comedy|19\", \"Action,Drama|19\", \"Drama,Mystery,Thriller|19\", \"Action,Drama,History|19\", \"Action,Drama,Thriller|18\", \"Action,Sci-Fi,Thriller|18\", \"Drama,Horror,Thriller|16\", \"Action,Biography,Drama|15\", \"Action,Comedy,Horror|15\", \"Horror,Sci-Fi,Thriller|15\", \"Adventure,Family,Fantasy|15\", \"Drama,Family|14\", \"Adventure,Comedy,Drama|14\", \"Drama,War|14\", \"Adventure,Comedy,Family|14\", \"Mystery,Thriller|14\", \"Comedy,Crime|14\", \"Biography,Comedy,Drama|14\", \"Drama,Romance,Thriller|12\", \"Comedy,Drama,Fantasy|12\", \"Drama,Horror,Mystery|12\", \"Drama,Fantasy,Horror|12\", \"Adventure,Animation,Family|12\", \"Crime,Mystery,Thriller|12\", \"Adventure,Family|12\", \"Horror,Mystery|12\", \"Action,Adventure|12\", \"Drama,History,War|12\", \"Action,Adventure,Crime|11\", \"Comedy,Family|11\", \"Crime|11\", \"Drama,History|11\", \"Drama,Mystery,Romance|11\", \"Action,Horror|11\", \"Drama,Mystery|11\", \"Action,Adventure,Thriller|11\", \"Adventure,Comedy|10\", \"Biography,Crime,Drama|10\", \"Comedy,Drama,Music|10\", \"Adventure,Drama,Family|10\", \"Horror,Sci-Fi|10\", \"Drama,Music|10\"], \"type\": \"scatter\", \"x\": [-0.07441720642632858, -0.1081816108357512, -0.09745412202463298, -0.11094729108155318, -0.09706732626681479, -0.14156718469603444, -0.09285625574204306, -0.01521267296044031, -0.029086221563103098, 0.024386741696568234, -0.0933794732310198, 0.27179463785739644, -0.01059349211385158, -0.01946018383487397, 0.05533427434444574, 0.09004322308894708, -0.01889244384725903, 0.07124449675940177, -0.018189534554113367, -0.09526641774040284, 0.09989734037183327, 0.1548814576241439, 0.08833014212200911, -0.015553343279932038, 0.04964881046066406, -0.02569729417629034, -0.08682070848059041, -0.04958380957941236, 0.0294115061555128, -0.05080097223482748, -0.09861322537520588, -0.052811086298041536, 0.15243274993870584, 0.056958596636786867, -0.044584304036925905, 0.024169567161977396, 0.02974293995208704, 0.10127192485051449, 0.060191229934879256, 0.10327748658937556, -0.1248612364935088, 0.09442329216633993, -0.08555030423710865, 0.09802407309402213, -0.04652972032338845, -0.09968524095683248, -0.021311555846032927, 0.08582563257466841, -0.060561040760551486, -0.01627009905856458, -0.05785160679173121, 0.04927469603797307, -0.12898604761648608, -0.07472536901485999, 0.04801090742495864, 0.00824263036950757, -0.12027384776640226, 0.1023621073387495, -0.04624222902192257, 0.01981293898311832, 0.056978212674207204, 0.2171631418832561, 0.12909848163733556, -0.10554766673658071, -0.06423441714718474, 0.04983445122424487, 0.025459656718125435, 0.08746900357574361, -0.010022353159208996, 0.17725941301882128, -0.07286102383950001, 0.08704932389712838, 0.038972403073285235, -0.12014680473891168, -0.02071443292017389, -0.11486631442833722], \"y\": [-0.019630477506488202, 0.029669937544154874, -0.018533611191978255, -0.05354446311655378, -0.05356467815855447, -0.02307585684435923, -0.007995524944620904, -0.07918753760009813, -0.05126854612124339, -0.028178194233451352, 0.09695431999185818, 0.21112668759826694, -0.06268137937614196, -0.034237992590676926, -0.0350419329613795, -0.012622357605306106, -0.02893157883559739, 0.15531585883729748, 0.03384227944283254, -0.010225571013055705, -0.14842517702440283, 0.07023947669668815, -0.007000640145450643, 0.03795225947415859, -0.04366359977047468, -0.08692272269153796, 0.03656695516302904, -0.0009297874260746473, 0.09992376607160271, -0.0323508417035638, 0.09542961859939653, 0.12958166843432126, -0.02714373157438401, -0.016837593651367572, 0.03524799111539997, 0.0720772718984029, -0.16773473343440673, 0.12111781086989862, -0.030853646185526894, -0.029654060788280832, -0.04737171685401921, 0.04607025587180011, 0.024772337386493995, -0.04557603031104451, 0.03804674816861953, 0.026107982435057565, 0.019618992991494295, 0.004691916210974026, 0.07294494685085483, -0.0894966370606392, -0.0013858817045078826, -0.003988367944998341, -0.07469921601946447, -0.01730479471175036, -0.09982685256663973, -0.08550179889419021, 0.10837580481883369, -0.09988435504656848, 0.07713564208361956, -0.032133418211328764, 0.12321164438262501, 0.06366023271089381, -0.08381872520523118, 0.07410932437530485, -0.012862702317955079, 0.10766594394130762, -0.08962670142738151, -0.0630168598122293, -0.10266069749150587, -0.05748769542997928, 0.01578841326928398, -0.028202795771440105, -0.030134389918513957, 0.07029266317045603, 0.034195644691885074, 0.04348147809754808]}],\n",
       "                        {\"template\": {\"data\": {\"bar\": [{\"error_x\": {\"color\": \"#2a3f5f\"}, \"error_y\": {\"color\": \"#2a3f5f\"}, \"marker\": {\"line\": {\"color\": \"#E5ECF6\", \"width\": 0.5}}, \"type\": \"bar\"}], \"barpolar\": [{\"marker\": {\"line\": {\"color\": \"#E5ECF6\", \"width\": 0.5}}, \"type\": \"barpolar\"}], \"carpet\": [{\"aaxis\": {\"endlinecolor\": \"#2a3f5f\", \"gridcolor\": \"white\", \"linecolor\": \"white\", \"minorgridcolor\": \"white\", \"startlinecolor\": \"#2a3f5f\"}, \"baxis\": {\"endlinecolor\": \"#2a3f5f\", \"gridcolor\": \"white\", \"linecolor\": \"white\", \"minorgridcolor\": \"white\", \"startlinecolor\": \"#2a3f5f\"}, \"type\": \"carpet\"}], \"choropleth\": [{\"colorbar\": {\"outlinewidth\": 0, \"ticks\": \"\"}, \"type\": \"choropleth\"}], \"contour\": [{\"colorbar\": {\"outlinewidth\": 0, \"ticks\": \"\"}, \"colorscale\": [[0.0, \"#0d0887\"], [0.1111111111111111, \"#46039f\"], [0.2222222222222222, \"#7201a8\"], [0.3333333333333333, \"#9c179e\"], [0.4444444444444444, \"#bd3786\"], [0.5555555555555556, \"#d8576b\"], [0.6666666666666666, \"#ed7953\"], [0.7777777777777778, \"#fb9f3a\"], [0.8888888888888888, \"#fdca26\"], [1.0, \"#f0f921\"]], \"type\": \"contour\"}], \"contourcarpet\": [{\"colorbar\": {\"outlinewidth\": 0, \"ticks\": \"\"}, \"type\": \"contourcarpet\"}], \"heatmap\": [{\"colorbar\": {\"outlinewidth\": 0, \"ticks\": \"\"}, \"colorscale\": [[0.0, \"#0d0887\"], [0.1111111111111111, \"#46039f\"], [0.2222222222222222, \"#7201a8\"], [0.3333333333333333, \"#9c179e\"], [0.4444444444444444, \"#bd3786\"], [0.5555555555555556, \"#d8576b\"], [0.6666666666666666, \"#ed7953\"], [0.7777777777777778, \"#fb9f3a\"], [0.8888888888888888, \"#fdca26\"], [1.0, \"#f0f921\"]], \"type\": \"heatmap\"}], \"heatmapgl\": [{\"colorbar\": {\"outlinewidth\": 0, \"ticks\": \"\"}, \"colorscale\": [[0.0, \"#0d0887\"], [0.1111111111111111, \"#46039f\"], [0.2222222222222222, \"#7201a8\"], [0.3333333333333333, \"#9c179e\"], [0.4444444444444444, \"#bd3786\"], [0.5555555555555556, \"#d8576b\"], [0.6666666666666666, \"#ed7953\"], [0.7777777777777778, \"#fb9f3a\"], [0.8888888888888888, \"#fdca26\"], [1.0, \"#f0f921\"]], \"type\": \"heatmapgl\"}], \"histogram\": [{\"marker\": {\"colorbar\": {\"outlinewidth\": 0, \"ticks\": \"\"}}, \"type\": \"histogram\"}], \"histogram2d\": [{\"colorbar\": {\"outlinewidth\": 0, \"ticks\": \"\"}, \"colorscale\": [[0.0, \"#0d0887\"], [0.1111111111111111, \"#46039f\"], [0.2222222222222222, \"#7201a8\"], [0.3333333333333333, \"#9c179e\"], [0.4444444444444444, \"#bd3786\"], [0.5555555555555556, \"#d8576b\"], [0.6666666666666666, \"#ed7953\"], [0.7777777777777778, \"#fb9f3a\"], [0.8888888888888888, \"#fdca26\"], [1.0, \"#f0f921\"]], \"type\": \"histogram2d\"}], \"histogram2dcontour\": [{\"colorbar\": {\"outlinewidth\": 0, \"ticks\": \"\"}, \"colorscale\": [[0.0, \"#0d0887\"], [0.1111111111111111, \"#46039f\"], [0.2222222222222222, \"#7201a8\"], [0.3333333333333333, \"#9c179e\"], [0.4444444444444444, \"#bd3786\"], [0.5555555555555556, \"#d8576b\"], [0.6666666666666666, \"#ed7953\"], [0.7777777777777778, \"#fb9f3a\"], [0.8888888888888888, \"#fdca26\"], [1.0, \"#f0f921\"]], \"type\": \"histogram2dcontour\"}], \"mesh3d\": [{\"colorbar\": {\"outlinewidth\": 0, \"ticks\": \"\"}, \"type\": \"mesh3d\"}], \"parcoords\": [{\"line\": {\"colorbar\": {\"outlinewidth\": 0, \"ticks\": \"\"}}, \"type\": \"parcoords\"}], \"pie\": [{\"automargin\": true, \"type\": \"pie\"}], \"scatter\": [{\"marker\": {\"colorbar\": {\"outlinewidth\": 0, \"ticks\": \"\"}}, \"type\": \"scatter\"}], \"scatter3d\": [{\"line\": {\"colorbar\": {\"outlinewidth\": 0, \"ticks\": \"\"}}, \"marker\": {\"colorbar\": {\"outlinewidth\": 0, \"ticks\": \"\"}}, \"type\": \"scatter3d\"}], \"scattercarpet\": [{\"marker\": {\"colorbar\": {\"outlinewidth\": 0, \"ticks\": \"\"}}, \"type\": \"scattercarpet\"}], \"scattergeo\": [{\"marker\": {\"colorbar\": {\"outlinewidth\": 0, \"ticks\": \"\"}}, \"type\": \"scattergeo\"}], \"scattergl\": [{\"marker\": {\"colorbar\": {\"outlinewidth\": 0, \"ticks\": \"\"}}, \"type\": \"scattergl\"}], \"scattermapbox\": [{\"marker\": {\"colorbar\": {\"outlinewidth\": 0, \"ticks\": \"\"}}, \"type\": \"scattermapbox\"}], \"scatterpolar\": [{\"marker\": {\"colorbar\": {\"outlinewidth\": 0, \"ticks\": \"\"}}, \"type\": \"scatterpolar\"}], \"scatterpolargl\": [{\"marker\": {\"colorbar\": {\"outlinewidth\": 0, \"ticks\": \"\"}}, \"type\": \"scatterpolargl\"}], \"scatterternary\": [{\"marker\": {\"colorbar\": {\"outlinewidth\": 0, \"ticks\": \"\"}}, \"type\": \"scatterternary\"}], \"surface\": [{\"colorbar\": {\"outlinewidth\": 0, \"ticks\": \"\"}, \"colorscale\": [[0.0, \"#0d0887\"], [0.1111111111111111, \"#46039f\"], [0.2222222222222222, \"#7201a8\"], [0.3333333333333333, \"#9c179e\"], [0.4444444444444444, \"#bd3786\"], [0.5555555555555556, \"#d8576b\"], [0.6666666666666666, \"#ed7953\"], [0.7777777777777778, \"#fb9f3a\"], [0.8888888888888888, \"#fdca26\"], [1.0, \"#f0f921\"]], \"type\": \"surface\"}], \"table\": [{\"cells\": {\"fill\": {\"color\": \"#EBF0F8\"}, \"line\": {\"color\": \"white\"}}, \"header\": {\"fill\": {\"color\": \"#C8D4E3\"}, \"line\": {\"color\": \"white\"}}, \"type\": \"table\"}]}, \"layout\": {\"annotationdefaults\": {\"arrowcolor\": \"#2a3f5f\", \"arrowhead\": 0, \"arrowwidth\": 1}, \"coloraxis\": {\"colorbar\": {\"outlinewidth\": 0, \"ticks\": \"\"}}, \"colorscale\": {\"diverging\": [[0, \"#8e0152\"], [0.1, \"#c51b7d\"], [0.2, \"#de77ae\"], [0.3, \"#f1b6da\"], [0.4, \"#fde0ef\"], [0.5, \"#f7f7f7\"], [0.6, \"#e6f5d0\"], [0.7, \"#b8e186\"], [0.8, \"#7fbc41\"], [0.9, \"#4d9221\"], [1, \"#276419\"]], \"sequential\": [[0.0, \"#0d0887\"], [0.1111111111111111, \"#46039f\"], [0.2222222222222222, \"#7201a8\"], [0.3333333333333333, \"#9c179e\"], [0.4444444444444444, \"#bd3786\"], [0.5555555555555556, \"#d8576b\"], [0.6666666666666666, \"#ed7953\"], [0.7777777777777778, \"#fb9f3a\"], [0.8888888888888888, \"#fdca26\"], [1.0, \"#f0f921\"]], \"sequentialminus\": [[0.0, \"#0d0887\"], [0.1111111111111111, \"#46039f\"], [0.2222222222222222, \"#7201a8\"], [0.3333333333333333, \"#9c179e\"], [0.4444444444444444, \"#bd3786\"], [0.5555555555555556, \"#d8576b\"], [0.6666666666666666, \"#ed7953\"], [0.7777777777777778, \"#fb9f3a\"], [0.8888888888888888, \"#fdca26\"], [1.0, \"#f0f921\"]]}, \"colorway\": [\"#636efa\", \"#EF553B\", \"#00cc96\", \"#ab63fa\", \"#FFA15A\", \"#19d3f3\", \"#FF6692\", \"#B6E880\", \"#FF97FF\", \"#FECB52\"], \"font\": {\"color\": \"#2a3f5f\"}, \"geo\": {\"bgcolor\": \"white\", \"lakecolor\": \"white\", \"landcolor\": \"#E5ECF6\", \"showlakes\": true, \"showland\": true, \"subunitcolor\": \"white\"}, \"hoverlabel\": {\"align\": \"left\"}, \"hovermode\": \"closest\", \"mapbox\": {\"style\": \"light\"}, \"paper_bgcolor\": \"white\", \"plot_bgcolor\": \"#E5ECF6\", \"polar\": {\"angularaxis\": {\"gridcolor\": \"white\", \"linecolor\": \"white\", \"ticks\": \"\"}, \"bgcolor\": \"#E5ECF6\", \"radialaxis\": {\"gridcolor\": \"white\", \"linecolor\": \"white\", \"ticks\": \"\"}}, \"scene\": {\"xaxis\": {\"backgroundcolor\": \"#E5ECF6\", \"gridcolor\": \"white\", \"gridwidth\": 2, \"linecolor\": \"white\", \"showbackground\": true, \"ticks\": \"\", \"zerolinecolor\": \"white\"}, \"yaxis\": {\"backgroundcolor\": \"#E5ECF6\", \"gridcolor\": \"white\", \"gridwidth\": 2, \"linecolor\": \"white\", \"showbackground\": true, \"ticks\": \"\", \"zerolinecolor\": \"white\"}, \"zaxis\": {\"backgroundcolor\": \"#E5ECF6\", \"gridcolor\": \"white\", \"gridwidth\": 2, \"linecolor\": \"white\", \"showbackground\": true, \"ticks\": \"\", \"zerolinecolor\": \"white\"}}, \"shapedefaults\": {\"line\": {\"color\": \"#2a3f5f\"}}, \"ternary\": {\"aaxis\": {\"gridcolor\": \"white\", \"linecolor\": \"white\", \"ticks\": \"\"}, \"baxis\": {\"gridcolor\": \"white\", \"linecolor\": \"white\", \"ticks\": \"\"}, \"bgcolor\": \"#E5ECF6\", \"caxis\": {\"gridcolor\": \"white\", \"linecolor\": \"white\", \"ticks\": \"\"}}, \"title\": {\"x\": 0.05}, \"xaxis\": {\"automargin\": true, \"gridcolor\": \"white\", \"linecolor\": \"white\", \"ticks\": \"\", \"title\": {\"standoff\": 15}, \"zerolinecolor\": \"white\", \"zerolinewidth\": 2}, \"yaxis\": {\"automargin\": true, \"gridcolor\": \"white\", \"linecolor\": \"white\", \"ticks\": \"\", \"title\": {\"standoff\": 15}, \"zerolinecolor\": \"white\", \"zerolinewidth\": 2}}}},\n",
       "                        {\"responsive\": true}\n",
       "                    ).then(function(){\n",
       "                            \n",
       "var gd = document.getElementById('ee63c266-f6cc-42f5-a309-44166b070fc0');\n",
       "var x = new MutationObserver(function (mutations, observer) {{\n",
       "        var display = window.getComputedStyle(gd).display;\n",
       "        if (!display || display === 'none') {{\n",
       "            console.log([gd, 'removed!']);\n",
       "            Plotly.purge(gd);\n",
       "            observer.disconnect();\n",
       "        }}\n",
       "}});\n",
       "\n",
       "// Listen for the removal of the full notebook cells\n",
       "var notebookContainer = gd.closest('#notebook-container');\n",
       "if (notebookContainer) {{\n",
       "    x.observe(notebookContainer, {childList: true});\n",
       "}}\n",
       "\n",
       "// Listen for the clearing of the current output cell\n",
       "var outputEl = gd.closest('.output');\n",
       "if (outputEl) {{\n",
       "    x.observe(outputEl, {childList: true});\n",
       "}}\n",
       "\n",
       "                        })\n",
       "                };\n",
       "                });\n",
       "            </script>\n",
       "        </div>"
      ]
     },
     "metadata": {},
     "output_type": "display_data"
    }
   ],
   "source": [
    "fig = go.Figure(data=go.Scatter(x=Xr[:, 0],\n",
    "                                y=Xr[:, 1],\n",
    "                                mode='markers',\n",
    "                                text=[f'{label}|{n_token}' for label, n_token in zip(aggr.label, aggr.n_texts)],\n",
    "                                marker_color=aggr.n_tokens))\n",
    "\n",
    "\n",
    "fig.show()"
   ]
  },
  {
   "cell_type": "code",
   "execution_count": 174,
   "metadata": {},
   "outputs": [
    {
     "data": {
      "text/plain": [
       "(0           Drama\n",
       " 1          Comedy\n",
       " 6          Horror\n",
       " 11    Documentary\n",
       " 13       Thriller\n",
       " 18         Action\n",
       " 30         Family\n",
       " 64          Crime\n",
       " Name: label, dtype: object,\n",
       " 8)"
      ]
     },
     "execution_count": 174,
     "metadata": {},
     "output_type": "execute_result"
    }
   ],
   "source": [
    "single_labels = aggr.label[aggr.label.str.split(',').apply(lambda x: len(x)) == 1]\n",
    "n_single_labels = len(single_labels)\n",
    "single_labels, n_single_labels"
   ]
  },
  {
   "cell_type": "code",
   "execution_count": 187,
   "metadata": {},
   "outputs": [],
   "source": [
    "from sklearn.mixture import GaussianMixture\n",
    "\n",
    "clu = GaussianMixture(n_components=n_single_labels)\n",
    "Xpca = PCA(n_components=50).fit_transform(X)\n",
    "\n",
    "cluster = clu.fit_predict(Xpca)\n",
    "probs = clu.predict_proba(Xpca)"
   ]
  },
  {
   "cell_type": "code",
   "execution_count": 188,
   "metadata": {},
   "outputs": [
    {
     "data": {
      "image/png": "[encoded data removed]",
      "text/plain": [
       "<Figure size 432x288 with 1 Axes>"
      ]
     },
     "metadata": {
      "needs_background": "light"
     },
     "output_type": "display_data"
    }
   ],
   "source": [
    "cluster_counter = Counter(cluster)\n",
    "plt.bar(cluster_counter.keys(), cluster_counter.values())\n",
    "plt.show()"
   ]
  },
  {
   "cell_type": "code",
   "execution_count": 189,
   "metadata": {},
   "outputs": [
    {
     "data": {
      "text/plain": [
       "array([1, 3, 1, 1, 1, 1, 4, 2, 4, 7, 3, 0, 4, 4, 7, 7, 4, 6, 4, 4, 2, 0,\n",
       "       2, 4, 7, 2, 3, 4, 6, 4, 3, 3, 5, 2, 4, 6, 2, 6, 7, 7, 1, 7, 4, 5,\n",
       "       4, 1, 4, 7, 3, 2, 4, 2, 1, 1, 2, 2, 3, 7, 3, 2, 6, 0, 7, 3, 4, 6,\n",
       "       2, 5, 2, 7, 3, 7, 2, 3, 3, 1])"
      ]
     },
     "execution_count": 189,
     "metadata": {},
     "output_type": "execute_result"
    }
   ],
   "source": [
    "probs.argmax(axis=1)"
   ]
  },
  {
   "cell_type": "code",
   "execution_count": 190,
   "metadata": {},
   "outputs": [
    {
     "data": {
      "application/vnd.plotly.v1+json": {
       "config": {
        "plotlyServerURL": "https://plot.ly"
       },
       "data": [
        {
         "marker": {
          "color": [
           "#00FE35",
           "#FED4C4",
           "#00FE35",
           "#00FE35",
           "#00FE35",
           "#00FE35",
           "#FE00CE",
           "#6A76FC",
           "#FE00CE",
           "#FF9616",
           "#FED4C4",
           "#FD3216",
           "#FE00CE",
           "#FE00CE",
           "#FF9616",
           "#FF9616",
           "#FE00CE",
           "#F6F926",
           "#FE00CE",
           "#FE00CE",
           "#6A76FC",
           "#FD3216",
           "#6A76FC",
           "#FE00CE",
           "#FF9616",
           "#6A76FC",
           "#FED4C4",
           "#FE00CE",
           "#F6F926",
           "#FE00CE",
           "#FED4C4",
           "#FED4C4",
           "#0DF9FF",
           "#6A76FC",
           "#FE00CE",
           "#F6F926",
           "#6A76FC",
           "#F6F926",
           "#FF9616",
           "#FF9616",
           "#00FE35",
           "#FF9616",
           "#FE00CE",
           "#0DF9FF",
           "#FE00CE",
           "#00FE35",
           "#FE00CE",
           "#FF9616",
           "#FED4C4",
           "#6A76FC",
           "#FE00CE",
           "#6A76FC",
           "#00FE35",
           "#00FE35",
           "#6A76FC",
           "#6A76FC",
           "#FED4C4",
           "#FF9616",
           "#FED4C4",
           "#6A76FC",
           "#F6F926",
           "#FD3216",
           "#FF9616",
           "#FED4C4",
           "#FE00CE",
           "#F6F926",
           "#6A76FC",
           "#0DF9FF",
           "#6A76FC",
           "#FF9616",
           "#FED4C4",
           "#FF9616",
           "#6A76FC",
           "#FED4C4",
           "#FED4C4",
           "#00FE35"
          ]
         },
         "mode": "markers",
         "text": [
          "Drama|370",
          "Comedy|195",
          "Comedy,Drama|139",
          "Drama,Romance|132",
          "Comedy,Drama,Romance|116",
          "Comedy,Romance|85",
          "Horror|77",
          "Drama,Thriller|74",
          "Horror,Thriller|69",
          "Action,Crime,Drama|67",
          "Adventure,Animation,Comedy|65",
          "Documentary|64",
          "Crime,Drama,Thriller|62",
          "Thriller|53",
          "Action,Crime,Thriller|49",
          "Action,Adventure,Sci-Fi|41",
          "Action,Comedy,Crime|41",
          "Action,Adventure,Drama|36",
          "Action|36",
          "Crime,Drama|35",
          "Crime,Drama,Mystery|30",
          "Biography,Drama,History|30",
          "Biography,Drama|30",
          "Action,Adventure,Comedy|28",
          "Action,Thriller|28",
          "Horror,Mystery,Thriller|28",
          "Comedy,Horror|27",
          "Comedy,Crime,Drama|26",
          "Action,Adventure,Fantasy|25",
          "Crime,Thriller|22",
          "Family|22",
          "Action,Adventure,Animation|22",
          "Action,Horror,Sci-Fi|20",
          "Biography,Drama,Romance|20",
          "Action,Comedy|19",
          "Action,Drama|19",
          "Drama,Mystery,Thriller|19",
          "Action,Drama,History|19",
          "Action,Drama,Thriller|18",
          "Action,Sci-Fi,Thriller|18",
          "Drama,Horror,Thriller|16",
          "Action,Biography,Drama|15",
          "Action,Comedy,Horror|15",
          "Horror,Sci-Fi,Thriller|15",
          "Adventure,Family,Fantasy|15",
          "Drama,Family|14",
          "Adventure,Comedy,Drama|14",
          "Drama,War|14",
          "Adventure,Comedy,Family|14",
          "Mystery,Thriller|14",
          "Comedy,Crime|14",
          "Biography,Comedy,Drama|14",
          "Drama,Romance,Thriller|12",
          "Comedy,Drama,Fantasy|12",
          "Drama,Horror,Mystery|12",
          "Drama,Fantasy,Horror|12",
          "Adventure,Animation,Family|12",
          "Crime,Mystery,Thriller|12",
          "Adventure,Family|12",
          "Horror,Mystery|12",
          "Action,Adventure|12",
          "Drama,History,War|12",
          "Action,Adventure,Crime|11",
          "Comedy,Family|11",
          "Crime|11",
          "Drama,History|11",
          "Drama,Mystery,Romance|11",
          "Action,Horror|11",
          "Drama,Mystery|11",
          "Action,Adventure,Thriller|11",
          "Adventure,Comedy|10",
          "Biography,Crime,Drama|10",
          "Comedy,Drama,Music|10",
          "Adventure,Drama,Family|10",
          "Horror,Sci-Fi|10",
          "Drama,Music|10"
         ],
         "type": "scatter",
         "x": [
          -0.07441720642632858,
          -0.1081816108357512,
          -0.09745412202463298,
          -0.11094729108155318,
          -0.09706732626681479,
          -0.14156718469603444,
          -0.09285625574204306,
          -0.01521267296044031,
          -0.029086221563103098,
          0.024386741696568234,
          -0.0933794732310198,
          0.27179463785739644,
          -0.01059349211385158,
          -0.01946018383487397,
          0.05533427434444574,
          0.09004322308894708,
          -0.01889244384725903,
          0.07124449675940177,
          -0.018189534554113367,
          -0.09526641774040284,
          0.09989734037183327,
          0.1548814576241439,
          0.08833014212200911,
          -0.015553343279932038,
          0.04964881046066406,
          -0.02569729417629034,
          -0.08682070848059041,
          -0.04958380957941236,
          0.0294115061555128,
          -0.05080097223482748,
          -0.09861322537520588,
          -0.052811086298041536,
          0.15243274993870584,
          0.056958596636786867,
          -0.044584304036925905,
          0.024169567161977396,
          0.02974293995208704,
          0.10127192485051449,
          0.060191229934879256,
          0.10327748658937556,
          -0.1248612364935088,
          0.09442329216633993,
          -0.08555030423710865,
          0.09802407309402213,
          -0.04652972032338845,
          -0.09968524095683248,
          -0.021311555846032927,
          0.08582563257466841,
          -0.060561040760551486,
          -0.01627009905856458,
          -0.05785160679173121,
          0.04927469603797307,
          -0.12898604761648608,
          -0.07472536901485999,
          0.04801090742495864,
          0.00824263036950757,
          -0.12027384776640226,
          0.1023621073387495,
          -0.04624222902192257,
          0.01981293898311832,
          0.056978212674207204,
          0.2171631418832561,
          0.12909848163733556,
          -0.10554766673658071,
          -0.06423441714718474,
          0.04983445122424487,
          0.025459656718125435,
          0.08746900357574361,
          -0.010022353159208996,
          0.17725941301882128,
          -0.07286102383950001,
          0.08704932389712838,
          0.038972403073285235,
          -0.12014680473891168,
          -0.02071443292017389,
          -0.11486631442833722
         ],
         "y": [
          -0.019630477506488202,
          0.029669937544154874,
          -0.018533611191978255,
          -0.05354446311655378,
          -0.05356467815855447,
          -0.02307585684435923,
          -0.007995524944620904,
          -0.07918753760009813,
          -0.05126854612124339,
          -0.028178194233451352,
          0.09695431999185818,
          0.21112668759826694,
          -0.06268137937614196,
          -0.034237992590676926,
          -0.0350419329613795,
          -0.012622357605306106,
          -0.02893157883559739,
          0.15531585883729748,
          0.03384227944283254,
          -0.010225571013055705,
          -0.14842517702440283,
          0.07023947669668815,
          -0.007000640145450643,
          0.03795225947415859,
          -0.04366359977047468,
          -0.08692272269153796,
          0.03656695516302904,
          -0.0009297874260746473,
          0.09992376607160271,
          -0.0323508417035638,
          0.09542961859939653,
          0.12958166843432126,
          -0.02714373157438401,
          -0.016837593651367572,
          0.03524799111539997,
          0.0720772718984029,
          -0.16773473343440673,
          0.12111781086989862,
          -0.030853646185526894,
          -0.029654060788280832,
          -0.04737171685401921,
          0.04607025587180011,
          0.024772337386493995,
          -0.04557603031104451,
          0.03804674816861953,
          0.026107982435057565,
          0.019618992991494295,
          0.004691916210974026,
          0.07294494685085483,
          -0.0894966370606392,
          -0.0013858817045078826,
          -0.003988367944998341,
          -0.07469921601946447,
          -0.01730479471175036,
          -0.09982685256663973,
          -0.08550179889419021,
          0.10837580481883369,
          -0.09988435504656848,
          0.07713564208361956,
          -0.032133418211328764,
          0.12321164438262501,
          0.06366023271089381,
          -0.08381872520523118,
          0.07410932437530485,
          -0.012862702317955079,
          0.10766594394130762,
          -0.08962670142738151,
          -0.0630168598122293,
          -0.10266069749150587,
          -0.05748769542997928,
          0.01578841326928398,
          -0.028202795771440105,
          -0.030134389918513957,
          0.07029266317045603,
          0.034195644691885074,
          0.04348147809754808
         ]
        }
       ],
       "layout": {
        "template": {
         "data": {
          "bar": [
           {
            "error_x": {
             "color": "#2a3f5f"
            },
            "error_y": {
             "color": "#2a3f5f"
            },
            "marker": {
             "line": {
              "color": "#E5ECF6",
              "width": 0.5
             }
            },
            "type": "bar"
           }
          ],
          "barpolar": [
           {
            "marker": {
             "line": {
              "color": "#E5ECF6",
              "width": 0.5
             }
            },
            "type": "barpolar"
           }
          ],
          "carpet": [
           {
            "aaxis": {
             "endlinecolor": "#2a3f5f",
             "gridcolor": "white",
             "linecolor": "white",
             "minorgridcolor": "white",
             "startlinecolor": "#2a3f5f"
            },
            "baxis": {
             "endlinecolor": "#2a3f5f",
             "gridcolor": "white",
             "linecolor": "white",
             "minorgridcolor": "white",
             "startlinecolor": "#2a3f5f"
            },
            "type": "carpet"
           }
          ],
          "choropleth": [
           {
            "colorbar": {
             "outlinewidth": 0,
             "ticks": ""
            },
            "type": "choropleth"
           }
          ],
          "contour": [
           {
            "colorbar": {
             "outlinewidth": 0,
             "ticks": ""
            },
            "colorscale": [
             [
              0,
              "#0d0887"
             ],
             [
              0.1111111111111111,
              "#46039f"
             ],
             [
              0.2222222222222222,
              "#7201a8"
             ],
             [
              0.3333333333333333,
              "#9c179e"
             ],
             [
              0.4444444444444444,
              "#bd3786"
             ],
             [
              0.5555555555555556,
              "#d8576b"
             ],
             [
              0.6666666666666666,
              "#ed7953"
             ],
             [
              0.7777777777777778,
              "#fb9f3a"
             ],
             [
              0.8888888888888888,
              "#fdca26"
             ],
             [
              1,
              "#f0f921"
             ]
            ],
            "type": "contour"
           }
          ],
          "contourcarpet": [
           {
            "colorbar": {
             "outlinewidth": 0,
             "ticks": ""
            },
            "type": "contourcarpet"
           }
          ],
          "heatmap": [
           {
            "colorbar": {
             "outlinewidth": 0,
             "ticks": ""
            },
            "colorscale": [
             [
              0,
              "#0d0887"
             ],
             [
              0.1111111111111111,
              "#46039f"
             ],
             [
              0.2222222222222222,
              "#7201a8"
             ],
             [
              0.3333333333333333,
              "#9c179e"
             ],
             [
              0.4444444444444444,
              "#bd3786"
             ],
             [
              0.5555555555555556,
              "#d8576b"
             ],
             [
              0.6666666666666666,
              "#ed7953"
             ],
             [
              0.7777777777777778,
              "#fb9f3a"
             ],
             [
              0.8888888888888888,
              "#fdca26"
             ],
             [
              1,
              "#f0f921"
             ]
            ],
            "type": "heatmap"
           }
          ],
          "heatmapgl": [
           {
            "colorbar": {
             "outlinewidth": 0,
             "ticks": ""
            },
            "colorscale": [
             [
              0,
              "#0d0887"
             ],
             [
              0.1111111111111111,
              "#46039f"
             ],
             [
              0.2222222222222222,
              "#7201a8"
             ],
             [
              0.3333333333333333,
              "#9c179e"
             ],
             [
              0.4444444444444444,
              "#bd3786"
             ],
             [
              0.5555555555555556,
              "#d8576b"
             ],
             [
              0.6666666666666666,
              "#ed7953"
             ],
             [
              0.7777777777777778,
              "#fb9f3a"
             ],
             [
              0.8888888888888888,
              "#fdca26"
             ],
             [
              1,
              "#f0f921"
             ]
            ],
            "type": "heatmapgl"
           }
          ],
          "histogram": [
           {
            "marker": {
             "colorbar": {
              "outlinewidth": 0,
              "ticks": ""
             }
            },
            "type": "histogram"
           }
          ],
          "histogram2d": [
           {
            "colorbar": {
             "outlinewidth": 0,
             "ticks": ""
            },
            "colorscale": [
             [
              0,
              "#0d0887"
             ],
             [
              0.1111111111111111,
              "#46039f"
             ],
             [
              0.2222222222222222,
              "#7201a8"
             ],
             [
              0.3333333333333333,
              "#9c179e"
             ],
             [
              0.4444444444444444,
              "#bd3786"
             ],
             [
              0.5555555555555556,
              "#d8576b"
             ],
             [
              0.6666666666666666,
              "#ed7953"
             ],
             [
              0.7777777777777778,
              "#fb9f3a"
             ],
             [
              0.8888888888888888,
              "#fdca26"
             ],
             [
              1,
              "#f0f921"
             ]
            ],
            "type": "histogram2d"
           }
          ],
          "histogram2dcontour": [
           {
            "colorbar": {
             "outlinewidth": 0,
             "ticks": ""
            },
            "colorscale": [
             [
              0,
              "#0d0887"
             ],
             [
              0.1111111111111111,
              "#46039f"
             ],
             [
              0.2222222222222222,
              "#7201a8"
             ],
             [
              0.3333333333333333,
              "#9c179e"
             ],
             [
              0.4444444444444444,
              "#bd3786"
             ],
             [
              0.5555555555555556,
              "#d8576b"
             ],
             [
              0.6666666666666666,
              "#ed7953"
             ],
             [
              0.7777777777777778,
              "#fb9f3a"
             ],
             [
              0.8888888888888888,
              "#fdca26"
             ],
             [
              1,
              "#f0f921"
             ]
            ],
            "type": "histogram2dcontour"
           }
          ],
          "mesh3d": [
           {
            "colorbar": {
             "outlinewidth": 0,
             "ticks": ""
            },
            "type": "mesh3d"
           }
          ],
          "parcoords": [
           {
            "line": {
             "colorbar": {
              "outlinewidth": 0,
              "ticks": ""
             }
            },
            "type": "parcoords"
           }
          ],
          "pie": [
           {
            "automargin": true,
            "type": "pie"
           }
          ],
          "scatter": [
           {
            "marker": {
             "colorbar": {
              "outlinewidth": 0,
              "ticks": ""
             }
            },
            "type": "scatter"
           }
          ],
          "scatter3d": [
           {
            "line": {
             "colorbar": {
              "outlinewidth": 0,
              "ticks": ""
             }
            },
            "marker": {
             "colorbar": {
              "outlinewidth": 0,
              "ticks": ""
             }
            },
            "type": "scatter3d"
           }
          ],
          "scattercarpet": [
           {
            "marker": {
             "colorbar": {
              "outlinewidth": 0,
              "ticks": ""
             }
            },
            "type": "scattercarpet"
           }
          ],
          "scattergeo": [
           {
            "marker": {
             "colorbar": {
              "outlinewidth": 0,
              "ticks": ""
             }
            },
            "type": "scattergeo"
           }
          ],
          "scattergl": [
           {
            "marker": {
             "colorbar": {
              "outlinewidth": 0,
              "ticks": ""
             }
            },
            "type": "scattergl"
           }
          ],
          "scattermapbox": [
           {
            "marker": {
             "colorbar": {
              "outlinewidth": 0,
              "ticks": ""
             }
            },
            "type": "scattermapbox"
           }
          ],
          "scatterpolar": [
           {
            "marker": {
             "colorbar": {
              "outlinewidth": 0,
              "ticks": ""
             }
            },
            "type": "scatterpolar"
           }
          ],
          "scatterpolargl": [
           {
            "marker": {
             "colorbar": {
              "outlinewidth": 0,
              "ticks": ""
             }
            },
            "type": "scatterpolargl"
           }
          ],
          "scatterternary": [
           {
            "marker": {
             "colorbar": {
              "outlinewidth": 0,
              "ticks": ""
             }
            },
            "type": "scatterternary"
           }
          ],
          "surface": [
           {
            "colorbar": {
             "outlinewidth": 0,
             "ticks": ""
            },
            "colorscale": [
             [
              0,
              "#0d0887"
             ],
             [
              0.1111111111111111,
              "#46039f"
             ],
             [
              0.2222222222222222,
              "#7201a8"
             ],
             [
              0.3333333333333333,
              "#9c179e"
             ],
             [
              0.4444444444444444,
              "#bd3786"
             ],
             [
              0.5555555555555556,
              "#d8576b"
             ],
             [
              0.6666666666666666,
              "#ed7953"
             ],
             [
              0.7777777777777778,
              "#fb9f3a"
             ],
             [
              0.8888888888888888,
              "#fdca26"
             ],
             [
              1,
              "#f0f921"
             ]
            ],
            "type": "surface"
           }
          ],
          "table": [
           {
            "cells": {
             "fill": {
              "color": "#EBF0F8"
             },
             "line": {
              "color": "white"
             }
            },
            "header": {
             "fill": {
              "color": "#C8D4E3"
             },
             "line": {
              "color": "white"
             }
            },
            "type": "table"
           }
          ]
         },
         "layout": {
          "annotationdefaults": {
           "arrowcolor": "#2a3f5f",
           "arrowhead": 0,
           "arrowwidth": 1
          },
          "coloraxis": {
           "colorbar": {
            "outlinewidth": 0,
            "ticks": ""
           }
          },
          "colorscale": {
           "diverging": [
            [
             0,
             "#8e0152"
            ],
            [
             0.1,
             "#c51b7d"
            ],
            [
             0.2,
             "#de77ae"
            ],
            [
             0.3,
             "#f1b6da"
            ],
            [
             0.4,
             "#fde0ef"
            ],
            [
             0.5,
             "#f7f7f7"
            ],
            [
             0.6,
             "#e6f5d0"
            ],
            [
             0.7,
             "#b8e186"
            ],
            [
             0.8,
             "#7fbc41"
            ],
            [
             0.9,
             "#4d9221"
            ],
            [
             1,
             "#276419"
            ]
           ],
           "sequential": [
            [
             0,
             "#0d0887"
            ],
            [
             0.1111111111111111,
             "#46039f"
            ],
            [
             0.2222222222222222,
             "#7201a8"
            ],
            [
             0.3333333333333333,
             "#9c179e"
            ],
            [
             0.4444444444444444,
             "#bd3786"
            ],
            [
             0.5555555555555556,
             "#d8576b"
            ],
            [
             0.6666666666666666,
             "#ed7953"
            ],
            [
             0.7777777777777778,
             "#fb9f3a"
            ],
            [
             0.8888888888888888,
             "#fdca26"
            ],
            [
             1,
             "#f0f921"
            ]
           ],
           "sequentialminus": [
            [
             0,
             "#0d0887"
            ],
            [
             0.1111111111111111,
             "#46039f"
            ],
            [
             0.2222222222222222,
             "#7201a8"
            ],
            [
             0.3333333333333333,
             "#9c179e"
            ],
            [
             0.4444444444444444,
             "#bd3786"
            ],
            [
             0.5555555555555556,
             "#d8576b"
            ],
            [
             0.6666666666666666,
             "#ed7953"
            ],
            [
             0.7777777777777778,
             "#fb9f3a"
            ],
            [
             0.8888888888888888,
             "#fdca26"
            ],
            [
             1,
             "#f0f921"
            ]
           ]
          },
          "colorway": [
           "#636efa",
           "#EF553B",
           "#00cc96",
           "#ab63fa",
           "#FFA15A",
           "#19d3f3",
           "#FF6692",
           "#B6E880",
           "#FF97FF",
           "#FECB52"
          ],
          "font": {
           "color": "#2a3f5f"
          },
          "geo": {
           "bgcolor": "white",
           "lakecolor": "white",
           "landcolor": "#E5ECF6",
           "showlakes": true,
           "showland": true,
           "subunitcolor": "white"
          },
          "hoverlabel": {
           "align": "left"
          },
          "hovermode": "closest",
          "mapbox": {
           "style": "light"
          },
          "paper_bgcolor": "white",
          "plot_bgcolor": "#E5ECF6",
          "polar": {
           "angularaxis": {
            "gridcolor": "white",
            "linecolor": "white",
            "ticks": ""
           },
           "bgcolor": "#E5ECF6",
           "radialaxis": {
            "gridcolor": "white",
            "linecolor": "white",
            "ticks": ""
           }
          },
          "scene": {
           "xaxis": {
            "backgroundcolor": "#E5ECF6",
            "gridcolor": "white",
            "gridwidth": 2,
            "linecolor": "white",
            "showbackground": true,
            "ticks": "",
            "zerolinecolor": "white"
           },
           "yaxis": {
            "backgroundcolor": "#E5ECF6",
            "gridcolor": "white",
            "gridwidth": 2,
            "linecolor": "white",
            "showbackground": true,
            "ticks": "",
            "zerolinecolor": "white"
           },
           "zaxis": {
            "backgroundcolor": "#E5ECF6",
            "gridcolor": "white",
            "gridwidth": 2,
            "linecolor": "white",
            "showbackground": true,
            "ticks": "",
            "zerolinecolor": "white"
           }
          },
          "shapedefaults": {
           "line": {
            "color": "#2a3f5f"
           }
          },
          "ternary": {
           "aaxis": {
            "gridcolor": "white",
            "linecolor": "white",
            "ticks": ""
           },
           "baxis": {
            "gridcolor": "white",
            "linecolor": "white",
            "ticks": ""
           },
           "bgcolor": "#E5ECF6",
           "caxis": {
            "gridcolor": "white",
            "linecolor": "white",
            "ticks": ""
           }
          },
          "title": {
           "x": 0.05
          },
          "xaxis": {
           "automargin": true,
           "gridcolor": "white",
           "linecolor": "white",
           "ticks": "",
           "title": {
            "standoff": 15
           },
           "zerolinecolor": "white",
           "zerolinewidth": 2
          },
          "yaxis": {
           "automargin": true,
           "gridcolor": "white",
           "linecolor": "white",
           "ticks": "",
           "title": {
            "standoff": 15
           },
           "zerolinecolor": "white",
           "zerolinewidth": 2
          }
         }
        }
       }
      },
      "text/html": [
       "<div>\n",
       "        \n",
       "        \n",
       "            <div id=\"b948c913-7526-44b8-afd3-4995d878221a\" class=\"plotly-graph-div\" style=\"height:525px; width:100%;\"></div>\n",
       "            <script type=\"text/javascript\">\n",
       "                require([\"plotly\"], function(Plotly) {\n",
       "                    window.PLOTLYENV=window.PLOTLYENV || {};\n",
       "                    \n",
       "                if (document.getElementById(\"b948c913-7526-44b8-afd3-4995d878221a\")) {\n",
       "                    Plotly.newPlot(\n",
       "                        'b948c913-7526-44b8-afd3-4995d878221a',\n",
       "                        [{\"marker\": {\"color\": [\"#00FE35\", \"#FED4C4\", \"#00FE35\", \"#00FE35\", \"#00FE35\", \"#00FE35\", \"#FE00CE\", \"#6A76FC\", \"#FE00CE\", \"#FF9616\", \"#FED4C4\", \"#FD3216\", \"#FE00CE\", \"#FE00CE\", \"#FF9616\", \"#FF9616\", \"#FE00CE\", \"#F6F926\", \"#FE00CE\", \"#FE00CE\", \"#6A76FC\", \"#FD3216\", \"#6A76FC\", \"#FE00CE\", \"#FF9616\", \"#6A76FC\", \"#FED4C4\", \"#FE00CE\", \"#F6F926\", \"#FE00CE\", \"#FED4C4\", \"#FED4C4\", \"#0DF9FF\", \"#6A76FC\", \"#FE00CE\", \"#F6F926\", \"#6A76FC\", \"#F6F926\", \"#FF9616\", \"#FF9616\", \"#00FE35\", \"#FF9616\", \"#FE00CE\", \"#0DF9FF\", \"#FE00CE\", \"#00FE35\", \"#FE00CE\", \"#FF9616\", \"#FED4C4\", \"#6A76FC\", \"#FE00CE\", \"#6A76FC\", \"#00FE35\", \"#00FE35\", \"#6A76FC\", \"#6A76FC\", \"#FED4C4\", \"#FF9616\", \"#FED4C4\", \"#6A76FC\", \"#F6F926\", \"#FD3216\", \"#FF9616\", \"#FED4C4\", \"#FE00CE\", \"#F6F926\", \"#6A76FC\", \"#0DF9FF\", \"#6A76FC\", \"#FF9616\", \"#FED4C4\", \"#FF9616\", \"#6A76FC\", \"#FED4C4\", \"#FED4C4\", \"#00FE35\"]}, \"mode\": \"markers\", \"text\": [\"Drama|370\", \"Comedy|195\", \"Comedy,Drama|139\", \"Drama,Romance|132\", \"Comedy,Drama,Romance|116\", \"Comedy,Romance|85\", \"Horror|77\", \"Drama,Thriller|74\", \"Horror,Thriller|69\", \"Action,Crime,Drama|67\", \"Adventure,Animation,Comedy|65\", \"Documentary|64\", \"Crime,Drama,Thriller|62\", \"Thriller|53\", \"Action,Crime,Thriller|49\", \"Action,Adventure,Sci-Fi|41\", \"Action,Comedy,Crime|41\", \"Action,Adventure,Drama|36\", \"Action|36\", \"Crime,Drama|35\", \"Crime,Drama,Mystery|30\", \"Biography,Drama,History|30\", \"Biography,Drama|30\", \"Action,Adventure,Comedy|28\", \"Action,Thriller|28\", \"Horror,Mystery,Thriller|28\", \"Comedy,Horror|27\", \"Comedy,Crime,Drama|26\", \"Action,Adventure,Fantasy|25\", \"Crime,Thriller|22\", \"Family|22\", \"Action,Adventure,Animation|22\", \"Action,Horror,Sci-Fi|20\", \"Biography,Drama,Romance|20\", \"Action,Comedy|19\", \"Action,Drama|19\", \"Drama,Mystery,Thriller|19\", \"Action,Drama,History|19\", \"Action,Drama,Thriller|18\", \"Action,Sci-Fi,Thriller|18\", \"Drama,Horror,Thriller|16\", \"Action,Biography,Drama|15\", \"Action,Comedy,Horror|15\", \"Horror,Sci-Fi,Thriller|15\", \"Adventure,Family,Fantasy|15\", \"Drama,Family|14\", \"Adventure,Comedy,Drama|14\", \"Drama,War|14\", \"Adventure,Comedy,Family|14\", \"Mystery,Thriller|14\", \"Comedy,Crime|14\", \"Biography,Comedy,Drama|14\", \"Drama,Romance,Thriller|12\", \"Comedy,Drama,Fantasy|12\", \"Drama,Horror,Mystery|12\", \"Drama,Fantasy,Horror|12\", \"Adventure,Animation,Family|12\", \"Crime,Mystery,Thriller|12\", \"Adventure,Family|12\", \"Horror,Mystery|12\", \"Action,Adventure|12\", \"Drama,History,War|12\", \"Action,Adventure,Crime|11\", \"Comedy,Family|11\", \"Crime|11\", \"Drama,History|11\", \"Drama,Mystery,Romance|11\", \"Action,Horror|11\", \"Drama,Mystery|11\", \"Action,Adventure,Thriller|11\", \"Adventure,Comedy|10\", \"Biography,Crime,Drama|10\", \"Comedy,Drama,Music|10\", \"Adventure,Drama,Family|10\", \"Horror,Sci-Fi|10\", \"Drama,Music|10\"], \"type\": \"scatter\", \"x\": [-0.07441720642632858, -0.1081816108357512, -0.09745412202463298, -0.11094729108155318, -0.09706732626681479, -0.14156718469603444, -0.09285625574204306, -0.01521267296044031, -0.029086221563103098, 0.024386741696568234, -0.0933794732310198, 0.27179463785739644, -0.01059349211385158, -0.01946018383487397, 0.05533427434444574, 0.09004322308894708, -0.01889244384725903, 0.07124449675940177, -0.018189534554113367, -0.09526641774040284, 0.09989734037183327, 0.1548814576241439, 0.08833014212200911, -0.015553343279932038, 0.04964881046066406, -0.02569729417629034, -0.08682070848059041, -0.04958380957941236, 0.0294115061555128, -0.05080097223482748, -0.09861322537520588, -0.052811086298041536, 0.15243274993870584, 0.056958596636786867, -0.044584304036925905, 0.024169567161977396, 0.02974293995208704, 0.10127192485051449, 0.060191229934879256, 0.10327748658937556, -0.1248612364935088, 0.09442329216633993, -0.08555030423710865, 0.09802407309402213, -0.04652972032338845, -0.09968524095683248, -0.021311555846032927, 0.08582563257466841, -0.060561040760551486, -0.01627009905856458, -0.05785160679173121, 0.04927469603797307, -0.12898604761648608, -0.07472536901485999, 0.04801090742495864, 0.00824263036950757, -0.12027384776640226, 0.1023621073387495, -0.04624222902192257, 0.01981293898311832, 0.056978212674207204, 0.2171631418832561, 0.12909848163733556, -0.10554766673658071, -0.06423441714718474, 0.04983445122424487, 0.025459656718125435, 0.08746900357574361, -0.010022353159208996, 0.17725941301882128, -0.07286102383950001, 0.08704932389712838, 0.038972403073285235, -0.12014680473891168, -0.02071443292017389, -0.11486631442833722], \"y\": [-0.019630477506488202, 0.029669937544154874, -0.018533611191978255, -0.05354446311655378, -0.05356467815855447, -0.02307585684435923, -0.007995524944620904, -0.07918753760009813, -0.05126854612124339, -0.028178194233451352, 0.09695431999185818, 0.21112668759826694, -0.06268137937614196, -0.034237992590676926, -0.0350419329613795, -0.012622357605306106, -0.02893157883559739, 0.15531585883729748, 0.03384227944283254, -0.010225571013055705, -0.14842517702440283, 0.07023947669668815, -0.007000640145450643, 0.03795225947415859, -0.04366359977047468, -0.08692272269153796, 0.03656695516302904, -0.0009297874260746473, 0.09992376607160271, -0.0323508417035638, 0.09542961859939653, 0.12958166843432126, -0.02714373157438401, -0.016837593651367572, 0.03524799111539997, 0.0720772718984029, -0.16773473343440673, 0.12111781086989862, -0.030853646185526894, -0.029654060788280832, -0.04737171685401921, 0.04607025587180011, 0.024772337386493995, -0.04557603031104451, 0.03804674816861953, 0.026107982435057565, 0.019618992991494295, 0.004691916210974026, 0.07294494685085483, -0.0894966370606392, -0.0013858817045078826, -0.003988367944998341, -0.07469921601946447, -0.01730479471175036, -0.09982685256663973, -0.08550179889419021, 0.10837580481883369, -0.09988435504656848, 0.07713564208361956, -0.032133418211328764, 0.12321164438262501, 0.06366023271089381, -0.08381872520523118, 0.07410932437530485, -0.012862702317955079, 0.10766594394130762, -0.08962670142738151, -0.0630168598122293, -0.10266069749150587, -0.05748769542997928, 0.01578841326928398, -0.028202795771440105, -0.030134389918513957, 0.07029266317045603, 0.034195644691885074, 0.04348147809754808]}],\n",
       "                        {\"template\": {\"data\": {\"bar\": [{\"error_x\": {\"color\": \"#2a3f5f\"}, \"error_y\": {\"color\": \"#2a3f5f\"}, \"marker\": {\"line\": {\"color\": \"#E5ECF6\", \"width\": 0.5}}, \"type\": \"bar\"}], \"barpolar\": [{\"marker\": {\"line\": {\"color\": \"#E5ECF6\", \"width\": 0.5}}, \"type\": \"barpolar\"}], \"carpet\": [{\"aaxis\": {\"endlinecolor\": \"#2a3f5f\", \"gridcolor\": \"white\", \"linecolor\": \"white\", \"minorgridcolor\": \"white\", \"startlinecolor\": \"#2a3f5f\"}, \"baxis\": {\"endlinecolor\": \"#2a3f5f\", \"gridcolor\": \"white\", \"linecolor\": \"white\", \"minorgridcolor\": \"white\", \"startlinecolor\": \"#2a3f5f\"}, \"type\": \"carpet\"}], \"choropleth\": [{\"colorbar\": {\"outlinewidth\": 0, \"ticks\": \"\"}, \"type\": \"choropleth\"}], \"contour\": [{\"colorbar\": {\"outlinewidth\": 0, \"ticks\": \"\"}, \"colorscale\": [[0.0, \"#0d0887\"], [0.1111111111111111, \"#46039f\"], [0.2222222222222222, \"#7201a8\"], [0.3333333333333333, \"#9c179e\"], [0.4444444444444444, \"#bd3786\"], [0.5555555555555556, \"#d8576b\"], [0.6666666666666666, \"#ed7953\"], [0.7777777777777778, \"#fb9f3a\"], [0.8888888888888888, \"#fdca26\"], [1.0, \"#f0f921\"]], \"type\": \"contour\"}], \"contourcarpet\": [{\"colorbar\": {\"outlinewidth\": 0, \"ticks\": \"\"}, \"type\": \"contourcarpet\"}], \"heatmap\": [{\"colorbar\": {\"outlinewidth\": 0, \"ticks\": \"\"}, \"colorscale\": [[0.0, \"#0d0887\"], [0.1111111111111111, \"#46039f\"], [0.2222222222222222, \"#7201a8\"], [0.3333333333333333, \"#9c179e\"], [0.4444444444444444, \"#bd3786\"], [0.5555555555555556, \"#d8576b\"], [0.6666666666666666, \"#ed7953\"], [0.7777777777777778, \"#fb9f3a\"], [0.8888888888888888, \"#fdca26\"], [1.0, \"#f0f921\"]], \"type\": \"heatmap\"}], \"heatmapgl\": [{\"colorbar\": {\"outlinewidth\": 0, \"ticks\": \"\"}, \"colorscale\": [[0.0, \"#0d0887\"], [0.1111111111111111, \"#46039f\"], [0.2222222222222222, \"#7201a8\"], [0.3333333333333333, \"#9c179e\"], [0.4444444444444444, \"#bd3786\"], [0.5555555555555556, \"#d8576b\"], [0.6666666666666666, \"#ed7953\"], [0.7777777777777778, \"#fb9f3a\"], [0.8888888888888888, \"#fdca26\"], [1.0, \"#f0f921\"]], \"type\": \"heatmapgl\"}], \"histogram\": [{\"marker\": {\"colorbar\": {\"outlinewidth\": 0, \"ticks\": \"\"}}, \"type\": \"histogram\"}], \"histogram2d\": [{\"colorbar\": {\"outlinewidth\": 0, \"ticks\": \"\"}, \"colorscale\": [[0.0, \"#0d0887\"], [0.1111111111111111, \"#46039f\"], [0.2222222222222222, \"#7201a8\"], [0.3333333333333333, \"#9c179e\"], [0.4444444444444444, \"#bd3786\"], [0.5555555555555556, \"#d8576b\"], [0.6666666666666666, \"#ed7953\"], [0.7777777777777778, \"#fb9f3a\"], [0.8888888888888888, \"#fdca26\"], [1.0, \"#f0f921\"]], \"type\": \"histogram2d\"}], \"histogram2dcontour\": [{\"colorbar\": {\"outlinewidth\": 0, \"ticks\": \"\"}, \"colorscale\": [[0.0, \"#0d0887\"], [0.1111111111111111, \"#46039f\"], [0.2222222222222222, \"#7201a8\"], [0.3333333333333333, \"#9c179e\"], [0.4444444444444444, \"#bd3786\"], [0.5555555555555556, \"#d8576b\"], [0.6666666666666666, \"#ed7953\"], [0.7777777777777778, \"#fb9f3a\"], [0.8888888888888888, \"#fdca26\"], [1.0, \"#f0f921\"]], \"type\": \"histogram2dcontour\"}], \"mesh3d\": [{\"colorbar\": {\"outlinewidth\": 0, \"ticks\": \"\"}, \"type\": \"mesh3d\"}], \"parcoords\": [{\"line\": {\"colorbar\": {\"outlinewidth\": 0, \"ticks\": \"\"}}, \"type\": \"parcoords\"}], \"pie\": [{\"automargin\": true, \"type\": \"pie\"}], \"scatter\": [{\"marker\": {\"colorbar\": {\"outlinewidth\": 0, \"ticks\": \"\"}}, \"type\": \"scatter\"}], \"scatter3d\": [{\"line\": {\"colorbar\": {\"outlinewidth\": 0, \"ticks\": \"\"}}, \"marker\": {\"colorbar\": {\"outlinewidth\": 0, \"ticks\": \"\"}}, \"type\": \"scatter3d\"}], \"scattercarpet\": [{\"marker\": {\"colorbar\": {\"outlinewidth\": 0, \"ticks\": \"\"}}, \"type\": \"scattercarpet\"}], \"scattergeo\": [{\"marker\": {\"colorbar\": {\"outlinewidth\": 0, \"ticks\": \"\"}}, \"type\": \"scattergeo\"}], \"scattergl\": [{\"marker\": {\"colorbar\": {\"outlinewidth\": 0, \"ticks\": \"\"}}, \"type\": \"scattergl\"}], \"scattermapbox\": [{\"marker\": {\"colorbar\": {\"outlinewidth\": 0, \"ticks\": \"\"}}, \"type\": \"scattermapbox\"}], \"scatterpolar\": [{\"marker\": {\"colorbar\": {\"outlinewidth\": 0, \"ticks\": \"\"}}, \"type\": \"scatterpolar\"}], \"scatterpolargl\": [{\"marker\": {\"colorbar\": {\"outlinewidth\": 0, \"ticks\": \"\"}}, \"type\": \"scatterpolargl\"}], \"scatterternary\": [{\"marker\": {\"colorbar\": {\"outlinewidth\": 0, \"ticks\": \"\"}}, \"type\": \"scatterternary\"}], \"surface\": [{\"colorbar\": {\"outlinewidth\": 0, \"ticks\": \"\"}, \"colorscale\": [[0.0, \"#0d0887\"], [0.1111111111111111, \"#46039f\"], [0.2222222222222222, \"#7201a8\"], [0.3333333333333333, \"#9c179e\"], [0.4444444444444444, \"#bd3786\"], [0.5555555555555556, \"#d8576b\"], [0.6666666666666666, \"#ed7953\"], [0.7777777777777778, \"#fb9f3a\"], [0.8888888888888888, \"#fdca26\"], [1.0, \"#f0f921\"]], \"type\": \"surface\"}], \"table\": [{\"cells\": {\"fill\": {\"color\": \"#EBF0F8\"}, \"line\": {\"color\": \"white\"}}, \"header\": {\"fill\": {\"color\": \"#C8D4E3\"}, \"line\": {\"color\": \"white\"}}, \"type\": \"table\"}]}, \"layout\": {\"annotationdefaults\": {\"arrowcolor\": \"#2a3f5f\", \"arrowhead\": 0, \"arrowwidth\": 1}, \"coloraxis\": {\"colorbar\": {\"outlinewidth\": 0, \"ticks\": \"\"}}, \"colorscale\": {\"diverging\": [[0, \"#8e0152\"], [0.1, \"#c51b7d\"], [0.2, \"#de77ae\"], [0.3, \"#f1b6da\"], [0.4, \"#fde0ef\"], [0.5, \"#f7f7f7\"], [0.6, \"#e6f5d0\"], [0.7, \"#b8e186\"], [0.8, \"#7fbc41\"], [0.9, \"#4d9221\"], [1, \"#276419\"]], \"sequential\": [[0.0, \"#0d0887\"], [0.1111111111111111, \"#46039f\"], [0.2222222222222222, \"#7201a8\"], [0.3333333333333333, \"#9c179e\"], [0.4444444444444444, \"#bd3786\"], [0.5555555555555556, \"#d8576b\"], [0.6666666666666666, \"#ed7953\"], [0.7777777777777778, \"#fb9f3a\"], [0.8888888888888888, \"#fdca26\"], [1.0, \"#f0f921\"]], \"sequentialminus\": [[0.0, \"#0d0887\"], [0.1111111111111111, \"#46039f\"], [0.2222222222222222, \"#7201a8\"], [0.3333333333333333, \"#9c179e\"], [0.4444444444444444, \"#bd3786\"], [0.5555555555555556, \"#d8576b\"], [0.6666666666666666, \"#ed7953\"], [0.7777777777777778, \"#fb9f3a\"], [0.8888888888888888, \"#fdca26\"], [1.0, \"#f0f921\"]]}, \"colorway\": [\"#636efa\", \"#EF553B\", \"#00cc96\", \"#ab63fa\", \"#FFA15A\", \"#19d3f3\", \"#FF6692\", \"#B6E880\", \"#FF97FF\", \"#FECB52\"], \"font\": {\"color\": \"#2a3f5f\"}, \"geo\": {\"bgcolor\": \"white\", \"lakecolor\": \"white\", \"landcolor\": \"#E5ECF6\", \"showlakes\": true, \"showland\": true, \"subunitcolor\": \"white\"}, \"hoverlabel\": {\"align\": \"left\"}, \"hovermode\": \"closest\", \"mapbox\": {\"style\": \"light\"}, \"paper_bgcolor\": \"white\", \"plot_bgcolor\": \"#E5ECF6\", \"polar\": {\"angularaxis\": {\"gridcolor\": \"white\", \"linecolor\": \"white\", \"ticks\": \"\"}, \"bgcolor\": \"#E5ECF6\", \"radialaxis\": {\"gridcolor\": \"white\", \"linecolor\": \"white\", \"ticks\": \"\"}}, \"scene\": {\"xaxis\": {\"backgroundcolor\": \"#E5ECF6\", \"gridcolor\": \"white\", \"gridwidth\": 2, \"linecolor\": \"white\", \"showbackground\": true, \"ticks\": \"\", \"zerolinecolor\": \"white\"}, \"yaxis\": {\"backgroundcolor\": \"#E5ECF6\", \"gridcolor\": \"white\", \"gridwidth\": 2, \"linecolor\": \"white\", \"showbackground\": true, \"ticks\": \"\", \"zerolinecolor\": \"white\"}, \"zaxis\": {\"backgroundcolor\": \"#E5ECF6\", \"gridcolor\": \"white\", \"gridwidth\": 2, \"linecolor\": \"white\", \"showbackground\": true, \"ticks\": \"\", \"zerolinecolor\": \"white\"}}, \"shapedefaults\": {\"line\": {\"color\": \"#2a3f5f\"}}, \"ternary\": {\"aaxis\": {\"gridcolor\": \"white\", \"linecolor\": \"white\", \"ticks\": \"\"}, \"baxis\": {\"gridcolor\": \"white\", \"linecolor\": \"white\", \"ticks\": \"\"}, \"bgcolor\": \"#E5ECF6\", \"caxis\": {\"gridcolor\": \"white\", \"linecolor\": \"white\", \"ticks\": \"\"}}, \"title\": {\"x\": 0.05}, \"xaxis\": {\"automargin\": true, \"gridcolor\": \"white\", \"linecolor\": \"white\", \"ticks\": \"\", \"title\": {\"standoff\": 15}, \"zerolinecolor\": \"white\", \"zerolinewidth\": 2}, \"yaxis\": {\"automargin\": true, \"gridcolor\": \"white\", \"linecolor\": \"white\", \"ticks\": \"\", \"title\": {\"standoff\": 15}, \"zerolinecolor\": \"white\", \"zerolinewidth\": 2}}}},\n",
       "                        {\"responsive\": true}\n",
       "                    ).then(function(){\n",
       "                            \n",
       "var gd = document.getElementById('b948c913-7526-44b8-afd3-4995d878221a');\n",
       "var x = new MutationObserver(function (mutations, observer) {{\n",
       "        var display = window.getComputedStyle(gd).display;\n",
       "        if (!display || display === 'none') {{\n",
       "            console.log([gd, 'removed!']);\n",
       "            Plotly.purge(gd);\n",
       "            observer.disconnect();\n",
       "        }}\n",
       "}});\n",
       "\n",
       "// Listen for the removal of the full notebook cells\n",
       "var notebookContainer = gd.closest('#notebook-container');\n",
       "if (notebookContainer) {{\n",
       "    x.observe(notebookContainer, {childList: true});\n",
       "}}\n",
       "\n",
       "// Listen for the clearing of the current output cell\n",
       "var outputEl = gd.closest('.output');\n",
       "if (outputEl) {{\n",
       "    x.observe(outputEl, {childList: true});\n",
       "}}\n",
       "\n",
       "                        })\n",
       "                };\n",
       "                });\n",
       "            </script>\n",
       "        </div>"
      ]
     },
     "metadata": {},
     "output_type": "display_data"
    }
   ],
   "source": [
    "fig = go.Figure(data=go.Scatter(x=Xr[:, 0],\n",
    "                                y=Xr[:, 1],\n",
    "                                mode='markers',\n",
    "                                text=[f'{label}|{n_token}' for label, n_token in zip(aggr.label, aggr.n_texts)],\n",
    "                                marker_color=plotly_color_categorical_values(cluster)))\n",
    "\n",
    "\n",
    "fig.show()"
   ]
  },
  {
   "cell_type": "code",
   "execution_count": 191,
   "metadata": {},
   "outputs": [],
   "source": [
    "dfs = get_cluster_dfs(aggr, cluster)"
   ]
  },
  {
   "cell_type": "code",
   "execution_count": 194,
   "metadata": {
    "scrolled": true
   },
   "outputs": [
    {
     "name": "stdout",
     "output_type": "stream",
     "text": [
      "11                Documentary\n",
      "21    Biography,Drama,History\n",
      "61          Drama,History,War\n",
      "Name: label, dtype: object\n",
      "Total number of movies in cluster => 106\n",
      "Total number of tokens in cluster => 1019041\n",
      "############################################################\n",
      "0                      Drama\n",
      "2               Comedy,Drama\n",
      "3              Drama,Romance\n",
      "4       Comedy,Drama,Romance\n",
      "5             Comedy,Romance\n",
      "40     Drama,Horror,Thriller\n",
      "45              Drama,Family\n",
      "52    Drama,Romance,Thriller\n",
      "53      Comedy,Drama,Fantasy\n",
      "75               Drama,Music\n",
      "Name: label, dtype: object\n",
      "Total number of movies in cluster => 906\n",
      "Total number of tokens in cluster => 7694409\n",
      "############################################################\n",
      "7              Drama,Thriller\n",
      "20        Crime,Drama,Mystery\n",
      "22            Biography,Drama\n",
      "25    Horror,Mystery,Thriller\n",
      "33    Biography,Drama,Romance\n",
      "36     Drama,Mystery,Thriller\n",
      "49           Mystery,Thriller\n",
      "51     Biography,Comedy,Drama\n",
      "54       Drama,Horror,Mystery\n",
      "55       Drama,Fantasy,Horror\n",
      "59             Horror,Mystery\n",
      "66      Drama,Mystery,Romance\n",
      "68              Drama,Mystery\n",
      "72         Comedy,Drama,Music\n",
      "Name: label, dtype: object\n",
      "Total number of movies in cluster => 297\n",
      "Total number of tokens in cluster => 2378425\n",
      "############################################################\n",
      "1                         Comedy\n",
      "10    Adventure,Animation,Comedy\n",
      "26                 Comedy,Horror\n",
      "30                        Family\n",
      "31    Action,Adventure,Animation\n",
      "48       Adventure,Comedy,Family\n",
      "56    Adventure,Animation,Family\n",
      "58              Adventure,Family\n",
      "63                 Comedy,Family\n",
      "70              Adventure,Comedy\n",
      "73        Adventure,Drama,Family\n",
      "74                 Horror,Sci-Fi\n",
      "Name: label, dtype: object\n",
      "Total number of movies in cluster => 410\n",
      "Total number of tokens in cluster => 4044997\n",
      "############################################################\n",
      "6                       Horror\n",
      "8              Horror,Thriller\n",
      "12        Crime,Drama,Thriller\n",
      "13                    Thriller\n",
      "16         Action,Comedy,Crime\n",
      "18                      Action\n",
      "19                 Crime,Drama\n",
      "23     Action,Adventure,Comedy\n",
      "27          Comedy,Crime,Drama\n",
      "29              Crime,Thriller\n",
      "34               Action,Comedy\n",
      "42        Action,Comedy,Horror\n",
      "44    Adventure,Family,Fantasy\n",
      "46      Adventure,Comedy,Drama\n",
      "50                Comedy,Crime\n",
      "64                       Crime\n",
      "Name: label, dtype: object\n",
      "Total number of movies in cluster => 537\n",
      "Total number of tokens in cluster => 4221886\n",
      "############################################################\n",
      "32      Action,Horror,Sci-Fi\n",
      "43    Horror,Sci-Fi,Thriller\n",
      "67             Action,Horror\n",
      "Name: label, dtype: object\n",
      "Total number of movies in cluster => 46\n",
      "Total number of tokens in cluster => 297253\n",
      "############################################################\n",
      "17      Action,Adventure,Drama\n",
      "28    Action,Adventure,Fantasy\n",
      "35                Action,Drama\n",
      "37        Action,Drama,History\n",
      "60            Action,Adventure\n",
      "65               Drama,History\n",
      "Name: label, dtype: object\n",
      "Total number of movies in cluster => 122\n",
      "Total number of tokens in cluster => 846689\n",
      "############################################################\n",
      "9            Action,Crime,Drama\n",
      "14        Action,Crime,Thriller\n",
      "15      Action,Adventure,Sci-Fi\n",
      "24              Action,Thriller\n",
      "38        Action,Drama,Thriller\n",
      "39       Action,Sci-Fi,Thriller\n",
      "41       Action,Biography,Drama\n",
      "47                    Drama,War\n",
      "57       Crime,Mystery,Thriller\n",
      "62       Action,Adventure,Crime\n",
      "69    Action,Adventure,Thriller\n",
      "71        Biography,Crime,Drama\n",
      "Name: label, dtype: object\n",
      "Total number of movies in cluster => 294\n",
      "Total number of tokens in cluster => 2370006\n",
      "############################################################\n"
     ]
    }
   ],
   "source": [
    "for cluster_df in dfs:\n",
    "    print(cluster_df.label)\n",
    "    print(f'Total number of movies in cluster => {cluster_df.n_texts.sum()}')\n",
    "    print(f'Total number of tokens in cluster => {cluster_df.n_tokens.sum()}')\n",
    "    print('#'*60)"
   ]
  },
  {
   "cell_type": "code",
   "execution_count": null,
   "metadata": {},
   "outputs": [],
   "source": []
  },
  {
   "cell_type": "code",
   "execution_count": null,
   "metadata": {},
   "outputs": [],
   "source": []
  },
  {
   "cell_type": "code",
   "execution_count": null,
   "metadata": {},
   "outputs": [],
   "source": []
  }
 ],
 "metadata": {
  "kernelspec": {
   "display_name": "Python 3",
   "language": "python",
   "name": "python3"
  },
  "language_info": {
   "codemirror_mode": {
    "name": "ipython",
    "version": 3
   },
   "file_extension": ".py",
   "mimetype": "text/x-python",
   "name": "python",
   "nbconvert_exporter": "python",
   "pygments_lexer": "ipython3",
   "version": "3.8.2"
  }
 },
 "nbformat": 4,
 "nbformat_minor": 4
}
