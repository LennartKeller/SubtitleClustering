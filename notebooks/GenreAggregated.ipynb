{
 "cells": [
  {
   "cell_type": "code",
   "execution_count": 1,
   "metadata": {},
   "outputs": [],
   "source": [
    "import pandas as pd\n",
    "import matplotlib.pyplot as plt\n",
    "import numpy as np\n",
    "import plotly.graph_objects as go\n",
    "import seaborn as sns\n",
    "from sklearn.feature_extraction.text import TfidfVectorizer\n",
    "from stop_words import get_stop_words\n",
    "from sklearn.decomposition import PCA\n",
    "from sklearn.cluster import KMeans\n",
    "from umap import UMAP\n",
    "from collections import Counter"
   ]
  },
  {
   "cell_type": "code",
   "execution_count": 2,
   "metadata": {},
   "outputs": [],
   "source": [
    "df = pd.read_csv('../dataset/movies_complete.csv')\n",
    "df.dropna(subset=['genre'], inplace=True)\n",
    "df['text_length'] = df.text.apply(lambda x: len(x.split()))\n",
    "df = df[df['text_length'] >= 3000]"
   ]
  },
  {
   "cell_type": "code",
   "execution_count": 3,
   "metadata": {},
   "outputs": [],
   "source": [
    "def aggregate_by_label(df: pd.DataFrame, label: str, min_threshold: int = 0):\n",
    "    \n",
    "    top_labels = df[label].value_counts()[df[label].value_counts() > min_threshold]\n",
    "    \n",
    "    entries = []\n",
    "    for l in top_labels.index:\n",
    "        label_df = df[df[label] == l]\n",
    "        all_texts = []\n",
    "        for text in label_df.text:\n",
    "            all_texts.append(text)\n",
    "        entry = {}\n",
    "        \n",
    "        conctanated_text = \" \".join(all_texts)\n",
    "        entry['label'] = l\n",
    "        entry['text'] = conctanated_text\n",
    "        entry['n_texts'] = len(all_texts)\n",
    "        entry['n_tokens'] = len(conctanated_text.split())\n",
    "        entry['instances'] = \", \".join(label_df.filename.to_list())\n",
    "        \n",
    "        entries.append(entry)\n",
    "    return pd.DataFrame.from_records(entries)"
   ]
  },
  {
   "cell_type": "code",
   "execution_count": 4,
   "metadata": {},
   "outputs": [],
   "source": [
    "def get_cluster_dfs(df, cluster):\n",
    "    return[df[cluster == i] for i in np.unique(cluster)]"
   ]
  },
  {
   "cell_type": "code",
   "execution_count": 5,
   "metadata": {},
   "outputs": [],
   "source": [
    "from plotly.colors import qualitative \n",
    "\n",
    "def plotly_color_categorical_values(values, cmap=qualitative.Light24):\n",
    "    uniq = np.unique(values)\n",
    "    if len(uniq) > len(cmap):\n",
    "        print(\"Need more colors than current cmap holds\")\n",
    "        return\n",
    "    categories_color = {cat: cmap[index] for index, cat in enumerate(uniq)}\n",
    "    return [categories_color[cat] for cat in values]"
   ]
  },
  {
   "cell_type": "code",
   "execution_count": 201,
   "metadata": {},
   "outputs": [],
   "source": [
    "aggr = aggregate_by_label(df, 'genre', 0)"
   ]
  },
  {
   "cell_type": "code",
   "execution_count": 276,
   "metadata": {},
   "outputs": [],
   "source": [
    "tfidf = TfidfVectorizer(\n",
    "    #stop_words=get_stop_words('de'),\n",
    "    max_features=100)\n",
    "\n",
    "X = tfidf.fit_transform(aggr.text)\n",
    "X = X.todense()"
   ]
  },
  {
   "cell_type": "code",
   "execution_count": 277,
   "metadata": {},
   "outputs": [],
   "source": [
    "Xr = UMAP(n_components=2, n_neighbors=20).fit_transform(X)\n",
    "#Xr = PCA(n_components=2).fit_transform(X)"
   ]
  },
  {
   "cell_type": "code",
   "execution_count": 278,
   "metadata": {},
   "outputs": [
    {
     "data": {
      "application/vnd.plotly.v1+json": {
       "config": {
        "plotlyServerURL": "https://plot.ly"
       },
       "data": [
        {
         "marker": {
          "color": [
           2674369,
           2233492,
           1300900,
           1016722,
           1198594,
           1015203,
           462316,
           545452,
           447645,
           542220,
           562622,
           619572,
           514264,
           343265,
           366818,
           396140,
           426025,
           283838,
           231782,
           304024,
           282027,
           304749,
           284118,
           264644,
           214763,
           191435,
           209863,
           261093,
           146342,
           169823,
           186666,
           169261,
           129658,
           173914,
           179958,
           113772,
           133304,
           158313,
           127344,
           127969,
           97203,
           124264,
           99207,
           103483,
           113566,
           104418,
           135654,
           104008,
           135383,
           96014,
           185093,
           155559,
           85787,
           114469,
           78181,
           81141,
           89085,
           94362,
           101966,
           84990,
           69526,
           94720,
           82350,
           107763,
           83527,
           74898,
           93552,
           64112,
           85138,
           82038,
           119205,
           107730,
           93600,
           70389,
           59302,
           86744,
           79783,
           58055,
           58333,
           77853,
           52606,
           67331,
           72959,
           58715,
           67038,
           40650,
           60891,
           51468,
           63776,
           74231,
           44402,
           66902,
           39840,
           48161,
           57574,
           78998,
           39489,
           43673,
           54093,
           49738,
           32613,
           53080,
           56015,
           44575,
           73290,
           53072,
           43569,
           52658,
           34164,
           66538,
           53957,
           67069,
           38854,
           55955,
           53175,
           46369,
           32170,
           32360,
           37005,
           29918,
           52375,
           27478,
           34546,
           35651,
           37682,
           56399,
           35770,
           32659,
           44755,
           36520,
           32330,
           26739,
           35112,
           43105,
           47547,
           48761,
           51950,
           25181,
           33828,
           39393,
           27371,
           25934,
           21669,
           24630,
           39705,
           35628,
           38013,
           36583,
           29699,
           46041,
           33796,
           26787,
           37665,
           28682,
           34684,
           25597,
           26139,
           30368,
           33841,
           31295,
           37927,
           26392,
           17230,
           28224,
           19388,
           27102,
           26825,
           23461,
           19646,
           36797,
           20850,
           31449,
           24673,
           18002,
           22284,
           17918,
           25632,
           33846,
           23582,
           23478,
           39284,
           22317,
           25075,
           19883,
           21171,
           26807,
           23581,
           17169,
           38143,
           29053,
           16773,
           27849,
           9224,
           14377,
           9463,
           16536,
           19220,
           18886,
           23416,
           11958,
           13808,
           17938,
           17110,
           12669,
           11333,
           19436,
           16275,
           22889,
           16505,
           17512,
           10557,
           16702,
           20076,
           15026,
           13256,
           10095,
           12628,
           13919,
           13071,
           17020,
           18127,
           23739,
           13966,
           22128,
           14494,
           8041,
           19651,
           11948,
           18399,
           11193,
           16682,
           17900,
           13640,
           18388,
           10258,
           10771,
           16307,
           13231,
           9001,
           14089,
           15609,
           11130,
           20793,
           20506,
           16549,
           4213,
           8770,
           7922,
           7823,
           6264,
           6609,
           6242,
           6046,
           6263,
           8009,
           5284,
           5860,
           8741,
           10710,
           9362,
           8046,
           3408,
           9350,
           5386,
           3353,
           6641,
           8578,
           16653,
           9270,
           8448,
           9776,
           5743,
           9505,
           9665,
           15947,
           7120,
           5599,
           5765,
           13924,
           3563,
           9185,
           6064,
           7702,
           5274,
           8211,
           9379,
           11528,
           5988,
           19430,
           7879,
           8794,
           7659,
           4564,
           10094,
           6907,
           11695,
           10545,
           7488,
           8718,
           6216,
           7225,
           10024,
           3786,
           6932,
           10658,
           7071,
           6630,
           7428,
           7868,
           3843,
           14151,
           8153,
           6236,
           3056,
           8096,
           8941,
           7220,
           8093,
           7181,
           7512,
           6492,
           10987,
           12181,
           9205,
           7352,
           7284,
           10684,
           8559,
           6402,
           14396,
           7574,
           12288,
           6081,
           3780,
           8550,
           7418,
           8466,
           10010,
           12363,
           10944,
           6479,
           7773,
           6945,
           13075,
           7553,
           13006,
           4885,
           14293,
           7332,
           8235,
           7532,
           9741
          ]
         },
         "mode": "markers",
         "text": [
          "Drama|370",
          "Comedy|195",
          "Comedy,Drama|139",
          "Drama,Romance|132",
          "Comedy,Drama,Romance|116",
          "Comedy,Romance|85",
          "Horror|77",
          "Drama,Thriller|74",
          "Horror,Thriller|69",
          "Action,Crime,Drama|67",
          "Adventure,Animation,Comedy|65",
          "Documentary|64",
          "Crime,Drama,Thriller|62",
          "Thriller|53",
          "Action,Crime,Thriller|49",
          "Action,Adventure,Sci-Fi|41",
          "Action,Comedy,Crime|41",
          "Action,Adventure,Drama|36",
          "Action|36",
          "Crime,Drama|35",
          "Crime,Drama,Mystery|30",
          "Biography,Drama,History|30",
          "Biography,Drama|30",
          "Action,Adventure,Comedy|28",
          "Action,Thriller|28",
          "Horror,Mystery,Thriller|28",
          "Comedy,Horror|27",
          "Comedy,Crime,Drama|26",
          "Action,Adventure,Fantasy|25",
          "Crime,Thriller|22",
          "Family|22",
          "Action,Adventure,Animation|22",
          "Action,Horror,Sci-Fi|20",
          "Biography,Drama,Romance|20",
          "Action,Comedy|19",
          "Action,Drama|19",
          "Drama,Mystery,Thriller|19",
          "Action,Drama,History|19",
          "Action,Drama,Thriller|18",
          "Action,Sci-Fi,Thriller|18",
          "Drama,Horror,Thriller|16",
          "Action,Biography,Drama|15",
          "Action,Comedy,Horror|15",
          "Horror,Sci-Fi,Thriller|15",
          "Adventure,Family,Fantasy|15",
          "Drama,Family|14",
          "Adventure,Comedy,Drama|14",
          "Drama,War|14",
          "Adventure,Comedy,Family|14",
          "Mystery,Thriller|14",
          "Comedy,Crime|14",
          "Biography,Comedy,Drama|14",
          "Drama,Romance,Thriller|12",
          "Comedy,Drama,Fantasy|12",
          "Drama,Horror,Mystery|12",
          "Drama,Fantasy,Horror|12",
          "Adventure,Animation,Family|12",
          "Crime,Mystery,Thriller|12",
          "Adventure,Family|12",
          "Horror,Mystery|12",
          "Action,Adventure|12",
          "Drama,History,War|12",
          "Action,Adventure,Crime|11",
          "Comedy,Family|11",
          "Crime|11",
          "Drama,History|11",
          "Drama,Mystery,Romance|11",
          "Action,Horror|11",
          "Drama,Mystery|11",
          "Action,Adventure,Thriller|11",
          "Adventure,Comedy|10",
          "Biography,Crime,Drama|10",
          "Comedy,Drama,Music|10",
          "Adventure,Drama,Family|10",
          "Horror,Sci-Fi|10",
          "Drama,Music|10",
          "Comedy,Horror,Sci-Fi|9",
          "Documentary,Music|8",
          "Sci-Fi,Thriller|8",
          "Biography,Drama,Music|8",
          "Drama,Sci-Fi|8",
          "Drama,History,Romance|8",
          "Comedy,Drama,Family|8",
          "Adventure,Drama,Fantasy|8",
          "Animation,Comedy,Family|8",
          "Drama,Horror|7",
          "Comedy,Fantasy,Horror|7",
          "Crime,Drama,Romance|7",
          "Comedy,Crime,Thriller|7",
          "Biography,Drama,Thriller|7",
          "Drama,Horror,Sci-Fi|7",
          "Adventure,Fantasy|7",
          "Adventure|7",
          "Drama,Fantasy|7",
          "Action,Crime,Mystery|7",
          "Drama,Sport|7",
          "Action,Fantasy,Horror|7",
          "Crime,Horror,Thriller|7",
          "Action,Sci-Fi|7",
          "Animation,Family|7",
          "Drama,Sci-Fi,Thriller|6",
          "Comedy,Thriller|6",
          "Action,Comedy,Fantasy|6",
          "Action,Adventure,Family|6",
          "Comedy,Fantasy|6",
          "Comedy,Horror,Romance|6",
          "Drama,Mystery,Sci-Fi|6",
          "Action,Comedy,Sci-Fi|6",
          "Western|6",
          "Action,Comedy,Drama|6",
          "Drama,Fantasy,Romance|6",
          "Action,Adventure,Mystery|5",
          "Sci-Fi|5",
          "Biography,Drama,Sport|5",
          "Crime,Documentary|5",
          "Adventure,Drama,History|5",
          "Action,Animation,Sci-Fi|5",
          "Documentary,Drama|5",
          "Action,Crime|5",
          "Fantasy,Horror,Mystery|5",
          "Biography,Documentary,Music|5",
          "Action,Horror,Thriller|5",
          "Drama,Western|5",
          "Crime,Drama,Horror|5",
          "Romance|5",
          "Biography,Documentary|5",
          "Comedy,Drama,Musical|5",
          "Drama,Romance,War|5",
          "Comedy,Drama,History|5",
          "Adventure,Animation,Drama|5",
          "Action,Comedy,Thriller|4",
          "Action,Drama,Sci-Fi|4",
          "Fantasy|4",
          "Comedy,Drama,Mystery|4",
          "Comedy,Drama,Sport|4",
          "Comedy,Sci-Fi|4",
          "Comedy,Music|4",
          "Action,Horror,Mystery|4",
          "Comedy,Family,Fantasy|4",
          "Biography,Drama,War|4",
          "Action,Fantasy,Sci-Fi|4",
          "Fantasy,Horror|4",
          "Fantasy,Horror,Thriller|4",
          "Action,Drama,Fantasy|4",
          "Drama,Fantasy,Mystery|4",
          "Mystery,Sci-Fi,Thriller|4",
          "Adventure,Fantasy,Mystery|4",
          "Action,Mystery,Thriller|4",
          "Drama,Romance,Sci-Fi|4",
          "Comedy,Mystery|4",
          "Drama,Horror,Romance|4",
          "Adventure,Biography,Drama|4",
          "Action,Comedy,Romance|4",
          "Comedy,Horror,Thriller|4",
          "Action,Crime,Sci-Fi|4",
          "Animation,Comedy|3",
          "Action,Adventure,Biography|3",
          "Comedy,Romance,Sport|3",
          "Action,Drama,Sport|3",
          "Adventure,Drama,Thriller|3",
          "Drama,History,Thriller|3",
          "War|3",
          "Romance,Thriller|3",
          "Animation,Comedy,Drama|3",
          "Animation,Drama,Family|3",
          "Action,Comedy,Family|3",
          "Adventure,Comedy,Crime|3",
          "Adventure,Drama,Romance|3",
          "Action,Fantasy|3",
          "Comedy,Family,Romance|3",
          "Action,Biography,Crime|3",
          "Crime,Drama,History|3",
          "Action,Fantasy,Thriller|3",
          "Action,Drama,Romance|3",
          "Drama,Thriller,War|3",
          "Action,Animation,Horror|3",
          "Comedy,Horror,Mystery|3",
          "Comedy,Western|3",
          "Action,Drama,Mystery|3",
          "Animation,Family,Fantasy|3",
          "Comedy,Fantasy,Romance|3",
          "Mystery,Romance,Thriller|3",
          "Documentary,Sport|3",
          "Animation|3",
          "Action,Drama,War|3",
          "Adventure,Drama,Sci-Fi|3",
          "Drama,Fantasy,Sci-Fi|3",
          "Adventure,Horror|3",
          "Biography,Documentary,Drama|3",
          "Adventure,Comedy,Fantasy|3",
          "Action,Adventure,Romance|2",
          "Documentary,News|2",
          "Action,Drama,Horror|2",
          "Action,Mystery,Sci-Fi|2",
          "Horror,Romance,Thriller|2",
          "Action,Comedy,Sport|2",
          "Crime,Drama,War|2",
          "Horror,Mystery,Sci-Fi|2",
          "Comedy,Music,Musical|2",
          "Fantasy,Romance|2",
          "Action,Animation,Comedy|2",
          "Adventure,Comedy,Horror|2",
          "Romance,Sci-Fi,Thriller|2",
          "Action,Animation,Fantasy|2",
          "Thriller,Western|2",
          "Adventure,Drama|2",
          "Comedy,Drama,Horror|2",
          "Biography,Documentary,Sport|2",
          "Comedy,Horror,Music|2",
          "Animation,Drama,Fantasy|2",
          "Action,Romance|2",
          "Adventure,Family,Sci-Fi|2",
          "Comedy,Sport|2",
          "Action,Animation,Crime|2",
          "Action,Romance,Thriller|2",
          "Crime,Horror,Mystery|2",
          "Action,Adventure,Documentary|2",
          "Drama,Music,Romance|2",
          "Animation,Drama|2",
          "Drama,Musical,Romance|2",
          "Comedy,War|2",
          "Documentary,History|2",
          "Action,Adventure,Horror|2",
          "Comedy,Drama,War|2",
          "Adventure,Drama,Western|2",
          "Horror,Romance|2",
          "Action,Drama,Family|2",
          "Action,Fantasy,Romance|2",
          "Comedy,Crime,Mystery|2",
          "Animation,Sci-Fi|2",
          "Adventure,Animation|2",
          "Action,Animation,Drama|2",
          "Adventure,Documentary,Sport|2",
          "Adventure,Mystery,Sci-Fi|2",
          "Adventure,History|2",
          "Action,History|2",
          "Action,Crime,Romance|2",
          "Action,Adventure,History|2",
          "Drama,Fantasy,Musical|2",
          "Action,Crime,Fantasy|2",
          "Animation,Comedy,Crime|2",
          "Action,Drama,Western|2",
          "Adventure,Biography,Comedy|2",
          "Animation,Drama,Sci-Fi|2",
          "Action,Adventure,Western|2",
          "Adventure,Fantasy,Musical|1",
          "Adventure,Sci-Fi,Thriller|1",
          "Comedy,Family,Music|1",
          "Adventure,Romance|1",
          "Adventure,Crime,Family|1",
          "Action,Thriller,Western|1",
          "Adventure,Sci-Fi|1",
          "Fantasy,Mystery,Romance|1",
          "Adventure,Animation,Fantasy|1",
          "Animation,Drama,Thriller|1",
          "Adventure,Horror,Sci-Fi|1",
          "Family,Mystery|1",
          "Biography,Comedy|1",
          "Action,Mystery|1",
          "Comedy,Musical|1",
          "Adventure,Biography|1",
          "Mystery,Western|1",
          "Adventure,History,Romance|1",
          "Crime,Horror,Romance|1",
          "Action,Crime,Horror|1",
          "Adventure,Drama,Horror|1",
          "Animation,Family,Musical|1",
          "Comedy,Crime,Romance|1",
          "Documentary,History,Music|1",
          "Comedy,Crime,Horror|1",
          "Biography,Documentary,Family|1",
          "Action,History,Thriller|1",
          "Drama,Family,Mystery|1",
          "Comedy,Drama,Sci-Fi|1",
          "Documentary,Family,History|1",
          "Comedy,Horror,Musical|1",
          "Adventure,Drama,Sport|1",
          "Drama,Family,Sci-Fi|1",
          "Biography,Drama,Fantasy|1",
          "Animation,Drama,Romance|1",
          "Crime,Mystery|1",
          "Fantasy,Mystery,Thriller|1",
          "Drama,Mystery,War|1",
          "Drama,History,Horror|1",
          "Crime,Drama,Sci-Fi|1",
          "Mystery,Romance,Sci-Fi|1",
          "Adventure,Comedy,Sci-Fi|1",
          "Music|1",
          "Action,Comedy,Western|1",
          "Animation,Mystery,Thriller|1",
          "Adventure,Thriller|1",
          "Action,War|1",
          "Adventure,Crime,Drama|1",
          "Drama,Fantasy,Music|1",
          "Comedy,Crime,Family|1",
          "Documentary,Mystery|1",
          "Crime,Documentary,Drama|1",
          "Animation,Biography,Drama|1",
          "Adventure,Biography,History|1",
          "Biography,History|1",
          "Documentary,History,War|1",
          "Drama,Fantasy,Thriller|1",
          "Action,Fantasy,Western|1",
          "Documentary,Drama,Family|1",
          "Comedy,Documentary,Drama|1",
          "Adventure,Crime,Thriller|1",
          "Drama,Family,Music|1",
          "Drama,Family,Fantasy|1",
          "Family,Fantasy|1",
          "Adventure,Documentary,Drama|1",
          "Documentary,Thriller|1",
          "Crime,Drama,Fantasy|1",
          "Drama,Family,History|1",
          "Fantasy,Horror,Sci-Fi|1",
          "Crime,Mystery,Romance|1",
          "Family,Fantasy,Musical|1",
          "Drama,History,Sport|1",
          "Action,Horror,Romance|1",
          "Adventure,Animation,Sci-Fi|1",
          "Comedy,Musical,Sci-Fi|1",
          "Action,Biography,Documentary|1",
          "Documentary,History,Sport|1",
          "Drama,Family,Romance|1",
          "Biography,Drama,Musical|1",
          "Animation,Comedy,Fantasy|1",
          "Animation,Biography,Documentary|1",
          "Adventure,Biography,Crime|1",
          "Comedy,Drama,Thriller|1",
          "Drama,Musical|1",
          "Musical|1",
          "Adventure,Comedy,Western|1",
          "Comedy,Fantasy,Sci-Fi|1",
          "Crime,Romance,Thriller|1",
          "Horror,War|1",
          "Crime,Sci-Fi,Thriller|1",
          "Animation,Documentary|1",
          "Drama,Music,Thriller|1",
          "Comedy,Fantasy,Thriller|1",
          "Biography|1",
          "Comedy,Family,Sport|1",
          "Thriller,War|1",
          "Action,Comedy,Music|1",
          "Music,Mystery,Thriller|1",
          "Comedy,Romance,Western|1",
          "Comedy,Musical,Romance|1",
          "Crime,Documentary,History|1",
          "Drama,Thriller,Western|1",
          "Biography,Comedy,Crime|1",
          "Comedy,Romance,Sci-Fi|1",
          "Documentary,War|1",
          "Romance,War|1",
          "Action,Comedy,Documentary|1"
         ],
         "type": "scatter",
         "x": [
          16.044099807739258,
          16.6460018157959,
          16.305524826049805,
          16.440217971801758,
          16.235015869140625,
          17.180713653564453,
          15.56906795501709,
          14.742819786071777,
          14.314430236816406,
          13.537014961242676,
          15.841741561889648,
          10.172078132629395,
          14.57101058959961,
          14.597522735595703,
          13.196087837219238,
          12.644612312316895,
          14.454729080200195,
          12.39765739440918,
          14.98996639251709,
          16.00990104675293,
          12.957056045532227,
          11.922165870666504,
          12.844949722290039,
          14.265645980834961,
          13.366275787353516,
          14.377161026000977,
          15.475605964660645,
          14.767290115356445,
          12.940677642822266,
          15.347060203552246,
          15.856148719787598,
          15.495889663696289,
          12.210254669189453,
          13.159279823303223,
          14.750065803527832,
          12.972307205200195,
          13.696365356445312,
          12.358055114746094,
          13.119495391845703,
          12.597772598266602,
          16.73151397705078,
          12.43651294708252,
          15.452329635620117,
          12.350671768188477,
          15.116534233093262,
          16.731998443603516,
          14.457375526428223,
          12.602906227111816,
          15.464251518249512,
          14.611230850219727,
          14.802850723266602,
          13.225147247314453,
          16.76858901977539,
          15.820816040039062,
          13.851353645324707,
          14.341497421264648,
          15.98924732208252,
          12.860976219177246,
          15.261087417602539,
          14.051801681518555,
          12.670730590820312,
          11.638286590576172,
          12.576518058776855,
          16.25841522216797,
          15.456074714660645,
          12.848552703857422,
          14.236141204833984,
          12.545503616333008,
          14.513875007629395,
          12.301386833190918,
          14.992262840270996,
          12.99757194519043,
          13.232510566711426,
          16.676414489746094,
          15.027253150939941,
          16.537939071655273,
          15.191740036010742,
          10.467018127441406,
          14.963485717773438,
          16.395225524902344,
          12.79827880859375,
          12.861980438232422,
          16.778656005859375,
          16.261972427368164,
          15.827553749084473,
          16.520126342773438,
          14.00395393371582,
          16.631065368652344,
          14.657506942749023,
          11.71533489227295,
          14.295795440673828,
          12.08664608001709,
          12.631345748901367,
          16.05056381225586,
          12.508615493774414,
          16.811145782470703,
          13.497570037841797,
          14.359172821044922,
          11.778528213500977,
          15.770448684692383,
          14.520331382751465,
          14.661542892456055,
          14.381360054016113,
          14.615943908691406,
          16.41353988647461,
          17.31006622314453,
          12.785752296447754,
          14.160063743591309,
          13.563586235046387,
          15.77734661102295,
          16.050519943237305,
          12.154151916503906,
          11.827860832214355,
          12.777151107788086,
          10.07003402709961,
          12.208833694458008,
          12.686994552612305,
          10.51535415649414,
          15.74011516571045,
          14.292613983154297,
          10.549054145812988,
          13.645886421203613,
          12.207012176513672,
          14.631178855895996,
          16.675914764404297,
          10.320176124572754,
          16.914968490600586,
          16.0658016204834,
          12.234491348266602,
          14.53805923461914,
          12.651909828186035,
          12.497453689575195,
          16.32244873046875,
          14.49049186706543,
          16.40003204345703,
          16.14212417602539,
          16.407888412475586,
          13.075448036193848,
          16.0690860748291,
          12.173069953918457,
          12.55384349822998,
          15.440698623657227,
          14.495864868164062,
          15.293999671936035,
          13.100809097290039,
          14.280692100524902,
          13.345779418945312,
          12.419857025146484,
          16.138025283813477,
          14.87287425994873,
          16.88031005859375,
          11.834238052368164,
          14.903875350952148,
          15.585990905761719,
          13.073943138122559,
          16.58254051208496,
          11.039056777954102,
          15.116961479187012,
          16.865272521972656,
          15.567559242248535,
          11.494050025939941,
          12.250636100769043,
          15.147652626037598,
          12.584529876708984,
          14.525397300720215,
          15.873634338378906,
          16.494029998779297,
          15.677226066589355,
          12.638425827026367,
          16.90497589111328,
          15.216882705688477,
          13.468092918395996,
          14.4132719039917,
          16.09543228149414,
          12.134858131408691,
          12.620088577270508,
          13.336272239685059,
          13.951388359069824,
          13.179529190063477,
          15.594359397888184,
          16.112791061401367,
          13.02940559387207,
          10.499931335449219,
          15.49023723602295,
          12.28788948059082,
          11.9036865234375,
          15.976357460021973,
          12.479676246643066,
          10.416388511657715,
          16.02617073059082,
          13.631208419799805,
          10.292677879333496,
          14.354146957397461,
          14.357118606567383,
          16.256977081298828,
          13.244617462158203,
          12.622807502746582,
          12.294482231140137,
          16.29337501525879,
          16.899690628051758,
          13.799309730529785,
          16.018234252929688,
          12.569201469421387,
          16.005029678344727,
          12.622650146484375,
          11.655498504638672,
          13.39904499053955,
          10.669188499450684,
          16.360641479492188,
          15.64612865447998,
          16.262937545776367,
          15.36970043182373,
          15.941885948181152,
          13.135122299194336,
          16.612428665161133,
          14.431137084960938,
          10.588470458984375,
          15.513309478759766,
          15.943840026855469,
          13.279598236083984,
          11.51809024810791,
          9.894964218139648,
          13.957393646240234,
          11.586921691894531,
          12.169130325317383,
          13.94051456451416,
          15.791666984558105,
          15.896695137023926,
          12.651778221130371,
          12.272911071777344,
          15.656793594360352,
          16.093881607055664,
          10.58273983001709,
          12.810559272766113,
          12.593658447265625,
          13.053009986877441,
          12.78230094909668,
          11.88387393951416,
          16.758668899536133,
          13.345897674560547,
          14.96901798248291,
          16.53859519958496,
          16.017980575561523,
          13.114734649658203,
          13.073816299438477,
          13.949140548706055,
          12.926360130310059,
          16.527490615844727,
          16.98797035217285,
          16.289737701416016,
          13.304242134094238,
          12.809015274047852,
          12.156359672546387,
          15.721562385559082,
          15.966561317443848,
          15.268717765808105,
          16.345046997070312,
          12.496918678283691,
          12.583576202392578,
          15.886152267456055,
          12.022504806518555,
          12.858438491821289,
          12.421817779541016,
          16.32123374938965,
          15.467571258544922,
          15.915410995483398,
          15.961159706115723,
          14.685346603393555,
          9.774666786193848,
          16.836048126220703,
          15.834443092346191,
          12.426738739013672,
          16.437999725341797,
          13.18237018585205,
          10.300341606140137,
          15.608392715454102,
          17.052257537841797,
          12.913955688476562,
          17.100414276123047,
          16.13724136352539,
          12.546063423156738,
          15.67052936553955,
          12.501557350158691,
          16.167512893676758,
          12.81717300415039,
          15.15379524230957,
          13.189690589904785,
          17.22166633605957,
          13.16634750366211,
          13.49864387512207,
          12.151922225952148,
          11.784100532531738,
          15.802713394165039,
          16.279850006103516,
          16.470256805419922,
          9.712316513061523,
          9.962212562561035,
          12.797761917114258,
          12.87376880645752,
          11.654480934143066,
          9.814057350158691,
          15.904093742370605,
          15.00036334991455,
          9.707498550415039,
          13.593835830688477,
          12.398066520690918,
          15.016124725341797,
          13.264507293701172,
          12.306445121765137,
          12.875399589538574,
          10.191028594970703,
          16.843900680541992,
          15.378023147583008,
          16.451059341430664,
          12.837766647338867,
          14.077347755432129,
          14.899398803710938,
          12.416849136352539,
          10.724444389343262,
          10.424271583557129,
          11.46420669555664,
          10.461895942687988,
          16.778268814086914,
          12.097899436950684,
          12.40560245513916,
          10.823258399963379,
          16.61419677734375,
          13.494877815246582,
          13.07064437866211,
          15.201042175292969,
          16.215805053710938,
          15.869790077209473,
          12.684147834777832,
          12.418464660644531,
          16.700286865234375,
          9.783364295959473,
          17.289194107055664,
          15.74974536895752,
          16.2522029876709,
          16.70485496520996,
          16.94837188720703,
          12.504003524780273,
          12.725317001342773,
          17.18378257751465,
          17.264217376708984,
          9.762686729431152,
          12.863911628723145,
          10.515922546386719,
          16.667484283447266,
          10.67915153503418,
          12.231719017028809,
          16.2752742767334
         ],
         "y": [
          10.279420852661133,
          8.25809383392334,
          10.045066833496094,
          10.544500350952148,
          10.75766658782959,
          9.709924697875977,
          8.919929504394531,
          11.213638305664062,
          10.68686294555664,
          10.722417831420898,
          7.576272487640381,
          8.954895973205566,
          10.760786056518555,
          10.441017150878906,
          10.852495193481445,
          10.455821990966797,
          9.792420387268066,
          8.186700820922852,
          9.404195785522461,
          9.719096183776855,
          12.020635604858398,
          9.525252342224121,
          9.77542781829834,
          8.909443855285645,
          10.959281921386719,
          11.04732894897461,
          8.297944068908691,
          9.622206687927246,
          8.158203125,
          10.291617393493652,
          7.776687145233154,
          7.450516700744629,
          10.93116283416748,
          9.739087104797363,
          8.741083145141602,
          8.37767219543457,
          11.933067321777344,
          8.488411903381348,
          10.791991233825684,
          10.858901023864746,
          9.960369110107422,
          9.191450119018555,
          8.8386869430542,
          10.942359924316406,
          9.333099365234375,
          8.526371955871582,
          9.087575912475586,
          10.069576263427734,
          7.821221828460693,
          11.278397560119629,
          8.568305015563965,
          9.753938674926758,
          10.084100723266602,
          10.13092041015625,
          11.554481506347656,
          11.421249389648438,
          7.912121772766113,
          11.723400115966797,
          8.22773551940918,
          11.027928352355957,
          8.137497901916504,
          10.221277236938477,
          11.795137405395508,
          7.7764153480529785,
          10.193059921264648,
          8.502829551696777,
          11.55263614654541,
          10.939383506774902,
          11.388553619384766,
          11.620957374572754,
          8.436448097229004,
          9.95028018951416,
          9.816317558288574,
          8.379057884216309,
          8.323583602905273,
          8.954469680786133,
          8.1326904296875,
          8.924771308898926,
          10.042623519897461,
          10.480076789855957,
          10.190600395202637,
          9.627645492553711,
          9.162168502807617,
          10.04819107055664,
          7.751457214355469,
          10.707196235656738,
          9.17368221282959,
          10.088680267333984,
          9.16918659210205,
          10.528131484985352,
          11.0152006149292,
          8.123230934143066,
          8.032512664794922,
          9.168462753295898,
          11.911623001098633,
          8.502552032470703,
          10.747379302978516,
          10.71499252319336,
          10.886824607849121,
          7.602966785430908,
          10.918261528015137,
          10.084983825683594,
          9.00427532196045,
          8.705296516418457,
          7.719381809234619,
          9.34747314453125,
          10.2795991897583,
          9.69530963897705,
          8.878954887390137,
          9.663783073425293,
          10.785287857055664,
          10.927178382873535,
          10.592262268066406,
          8.726908683776855,
          8.755969047546387,
          8.509807586669922,
          9.009204864501953,
          8.87195110321045,
          9.90021800994873,
          11.200435638427734,
          8.576128005981445,
          10.699688911437988,
          11.884342193603516,
          11.134356498718262,
          9.261252403259277,
          8.71846866607666,
          10.312081336975098,
          9.615045547485352,
          8.099979400634766,
          9.416855812072754,
          11.4868803024292,
          11.376289367675781,
          8.725279808044434,
          9.627297401428223,
          8.341036796569824,
          7.464083194732666,
          7.763321876525879,
          10.952656745910645,
          7.9898481369018555,
          8.740479469299316,
          8.398902893066406,
          8.788459777832031,
          11.111329078674316,
          9.742838859558105,
          9.285551071166992,
          10.995798110961914,
          8.476588249206543,
          12.224143028259277,
          10.89086627960205,
          8.641119956970215,
          9.724541664123535,
          9.669413566589355,
          11.411008834838867,
          9.314983367919922,
          10.657548904418945,
          7.873388767242432,
          9.289688110351562,
          11.17768383026123,
          8.709261894226074,
          9.464097023010254,
          10.68427848815918,
          10.723530769348145,
          10.505171775817871,
          9.244743347167969,
          9.1633882522583,
          9.736618995666504,
          7.630393028259277,
          9.946442604064941,
          7.941195011138916,
          9.383452415466309,
          8.826607704162598,
          10.568626403808594,
          10.572739601135254,
          9.347479820251465,
          8.754342079162598,
          10.617807388305664,
          11.513033866882324,
          8.800040245056152,
          9.981305122375488,
          7.540363311767578,
          10.579737663269043,
          11.822083473205566,
          9.039734840393066,
          7.376652717590332,
          9.177726745605469,
          10.037516593933105,
          10.210869789123535,
          7.911957740783691,
          8.51925277709961,
          7.467044830322266,
          8.446446418762207,
          9.011786460876465,
          10.193941116333008,
          10.630435943603516,
          9.405012130737305,
          11.240670204162598,
          8.179238319396973,
          10.700776100158691,
          7.40565824508667,
          10.262127876281738,
          9.254164695739746,
          7.495453357696533,
          11.740555763244629,
          8.955471992492676,
          11.8772554397583,
          10.108399391174316,
          9.651044845581055,
          8.791467666625977,
          8.136747360229492,
          8.517848014831543,
          9.343219757080078,
          7.967508316040039,
          7.720178604125977,
          8.383513450622559,
          10.36419677734375,
          10.871138572692871,
          9.088237762451172,
          8.395122528076172,
          8.574300765991211,
          8.802074432373047,
          10.095006942749023,
          9.041291236877441,
          10.448712348937988,
          10.753928184509277,
          11.76181697845459,
          10.732606887817383,
          7.802432537078857,
          9.027538299560547,
          12.305530548095703,
          9.397668838500977,
          7.7060112953186035,
          9.026568412780762,
          9.131474494934082,
          10.995352745056152,
          8.053854942321777,
          8.059091567993164,
          12.241216659545898,
          8.395306587219238,
          9.872048377990723,
          10.749913215637207,
          7.396194934844971,
          10.452512741088867,
          7.8157806396484375,
          9.571857452392578,
          8.81037425994873,
          8.49199390411377,
          10.502019882202148,
          8.130034446716309,
          8.614757537841797,
          8.605220794677734,
          11.585376739501953,
          9.043771743774414,
          8.245588302612305,
          9.344721794128418,
          10.05472469329834,
          8.293697357177734,
          9.916505813598633,
          12.325263977050781,
          11.773231506347656,
          9.611848831176758,
          9.74755859375,
          8.453714370727539,
          12.401761054992676,
          10.962342262268066,
          10.21857738494873,
          7.989854335784912,
          8.248735427856445,
          8.461444854736328,
          8.964587211608887,
          9.051396369934082,
          10.863081932067871,
          8.281941413879395,
          10.255614280700684,
          12.254000663757324,
          8.8368558883667,
          7.915040969848633,
          8.939651489257812,
          9.897692680358887,
          9.595938682556152,
          10.861101150512695,
          12.40876579284668,
          8.982024192810059,
          11.772294044494629,
          9.49050521850586,
          7.858293056488037,
          9.966111183166504,
          12.132621765136719,
          9.026487350463867,
          8.312573432922363,
          9.229269027709961,
          10.734817504882812,
          10.670408248901367,
          9.40274429321289,
          10.692861557006836,
          7.967301368713379,
          9.01411247253418,
          8.815277099609375,
          10.25465202331543,
          7.965606212615967,
          8.384598731994629,
          8.959506034851074,
          8.2048978805542,
          8.999001502990723,
          8.874933242797852,
          10.067706108093262,
          10.870844841003418,
          11.10495662689209,
          9.786230087280273,
          9.718744277954102,
          9.747519493103027,
          9.027762413024902,
          9.437406539916992,
          8.466191291809082,
          9.925436973571777,
          12.42191219329834,
          9.230704307556152,
          8.0090970993042,
          12.375772476196289,
          9.13052749633789,
          8.54784107208252,
          9.04792308807373,
          8.713419914245605,
          10.38118839263916,
          8.221170425415039,
          12.19223403930664,
          8.656529426574707,
          7.321390628814697,
          9.877047538757324,
          8.334708213806152,
          7.675657272338867,
          9.301180839538574,
          7.439239978790283,
          12.468253135681152,
          11.256366729736328,
          10.275598526000977,
          8.926642417907715,
          9.162169456481934,
          7.653219699859619,
          8.308377265930176,
          8.148890495300293,
          9.566972732543945,
          8.66006851196289,
          12.503396034240723,
          9.354424476623535,
          9.690048217773438,
          8.970962524414062,
          8.353182792663574,
          8.371135711669922,
          9.190751075744629,
          9.186763763427734,
          11.551480293273926,
          7.580983638763428
         ]
        }
       ],
       "layout": {
        "template": {
         "data": {
          "bar": [
           {
            "error_x": {
             "color": "#2a3f5f"
            },
            "error_y": {
             "color": "#2a3f5f"
            },
            "marker": {
             "line": {
              "color": "#E5ECF6",
              "width": 0.5
             }
            },
            "type": "bar"
           }
          ],
          "barpolar": [
           {
            "marker": {
             "line": {
              "color": "#E5ECF6",
              "width": 0.5
             }
            },
            "type": "barpolar"
           }
          ],
          "carpet": [
           {
            "aaxis": {
             "endlinecolor": "#2a3f5f",
             "gridcolor": "white",
             "linecolor": "white",
             "minorgridcolor": "white",
             "startlinecolor": "#2a3f5f"
            },
            "baxis": {
             "endlinecolor": "#2a3f5f",
             "gridcolor": "white",
             "linecolor": "white",
             "minorgridcolor": "white",
             "startlinecolor": "#2a3f5f"
            },
            "type": "carpet"
           }
          ],
          "choropleth": [
           {
            "colorbar": {
             "outlinewidth": 0,
             "ticks": ""
            },
            "type": "choropleth"
           }
          ],
          "contour": [
           {
            "colorbar": {
             "outlinewidth": 0,
             "ticks": ""
            },
            "colorscale": [
             [
              0,
              "#0d0887"
             ],
             [
              0.1111111111111111,
              "#46039f"
             ],
             [
              0.2222222222222222,
              "#7201a8"
             ],
             [
              0.3333333333333333,
              "#9c179e"
             ],
             [
              0.4444444444444444,
              "#bd3786"
             ],
             [
              0.5555555555555556,
              "#d8576b"
             ],
             [
              0.6666666666666666,
              "#ed7953"
             ],
             [
              0.7777777777777778,
              "#fb9f3a"
             ],
             [
              0.8888888888888888,
              "#fdca26"
             ],
             [
              1,
              "#f0f921"
             ]
            ],
            "type": "contour"
           }
          ],
          "contourcarpet": [
           {
            "colorbar": {
             "outlinewidth": 0,
             "ticks": ""
            },
            "type": "contourcarpet"
           }
          ],
          "heatmap": [
           {
            "colorbar": {
             "outlinewidth": 0,
             "ticks": ""
            },
            "colorscale": [
             [
              0,
              "#0d0887"
             ],
             [
              0.1111111111111111,
              "#46039f"
             ],
             [
              0.2222222222222222,
              "#7201a8"
             ],
             [
              0.3333333333333333,
              "#9c179e"
             ],
             [
              0.4444444444444444,
              "#bd3786"
             ],
             [
              0.5555555555555556,
              "#d8576b"
             ],
             [
              0.6666666666666666,
              "#ed7953"
             ],
             [
              0.7777777777777778,
              "#fb9f3a"
             ],
             [
              0.8888888888888888,
              "#fdca26"
             ],
             [
              1,
              "#f0f921"
             ]
            ],
            "type": "heatmap"
           }
          ],
          "heatmapgl": [
           {
            "colorbar": {
             "outlinewidth": 0,
             "ticks": ""
            },
            "colorscale": [
             [
              0,
              "#0d0887"
             ],
             [
              0.1111111111111111,
              "#46039f"
             ],
             [
              0.2222222222222222,
              "#7201a8"
             ],
             [
              0.3333333333333333,
              "#9c179e"
             ],
             [
              0.4444444444444444,
              "#bd3786"
             ],
             [
              0.5555555555555556,
              "#d8576b"
             ],
             [
              0.6666666666666666,
              "#ed7953"
             ],
             [
              0.7777777777777778,
              "#fb9f3a"
             ],
             [
              0.8888888888888888,
              "#fdca26"
             ],
             [
              1,
              "#f0f921"
             ]
            ],
            "type": "heatmapgl"
           }
          ],
          "histogram": [
           {
            "marker": {
             "colorbar": {
              "outlinewidth": 0,
              "ticks": ""
             }
            },
            "type": "histogram"
           }
          ],
          "histogram2d": [
           {
            "colorbar": {
             "outlinewidth": 0,
             "ticks": ""
            },
            "colorscale": [
             [
              0,
              "#0d0887"
             ],
             [
              0.1111111111111111,
              "#46039f"
             ],
             [
              0.2222222222222222,
              "#7201a8"
             ],
             [
              0.3333333333333333,
              "#9c179e"
             ],
             [
              0.4444444444444444,
              "#bd3786"
             ],
             [
              0.5555555555555556,
              "#d8576b"
             ],
             [
              0.6666666666666666,
              "#ed7953"
             ],
             [
              0.7777777777777778,
              "#fb9f3a"
             ],
             [
              0.8888888888888888,
              "#fdca26"
             ],
             [
              1,
              "#f0f921"
             ]
            ],
            "type": "histogram2d"
           }
          ],
          "histogram2dcontour": [
           {
            "colorbar": {
             "outlinewidth": 0,
             "ticks": ""
            },
            "colorscale": [
             [
              0,
              "#0d0887"
             ],
             [
              0.1111111111111111,
              "#46039f"
             ],
             [
              0.2222222222222222,
              "#7201a8"
             ],
             [
              0.3333333333333333,
              "#9c179e"
             ],
             [
              0.4444444444444444,
              "#bd3786"
             ],
             [
              0.5555555555555556,
              "#d8576b"
             ],
             [
              0.6666666666666666,
              "#ed7953"
             ],
             [
              0.7777777777777778,
              "#fb9f3a"
             ],
             [
              0.8888888888888888,
              "#fdca26"
             ],
             [
              1,
              "#f0f921"
             ]
            ],
            "type": "histogram2dcontour"
           }
          ],
          "mesh3d": [
           {
            "colorbar": {
             "outlinewidth": 0,
             "ticks": ""
            },
            "type": "mesh3d"
           }
          ],
          "parcoords": [
           {
            "line": {
             "colorbar": {
              "outlinewidth": 0,
              "ticks": ""
             }
            },
            "type": "parcoords"
           }
          ],
          "pie": [
           {
            "automargin": true,
            "type": "pie"
           }
          ],
          "scatter": [
           {
            "marker": {
             "colorbar": {
              "outlinewidth": 0,
              "ticks": ""
             }
            },
            "type": "scatter"
           }
          ],
          "scatter3d": [
           {
            "line": {
             "colorbar": {
              "outlinewidth": 0,
              "ticks": ""
             }
            },
            "marker": {
             "colorbar": {
              "outlinewidth": 0,
              "ticks": ""
             }
            },
            "type": "scatter3d"
           }
          ],
          "scattercarpet": [
           {
            "marker": {
             "colorbar": {
              "outlinewidth": 0,
              "ticks": ""
             }
            },
            "type": "scattercarpet"
           }
          ],
          "scattergeo": [
           {
            "marker": {
             "colorbar": {
              "outlinewidth": 0,
              "ticks": ""
             }
            },
            "type": "scattergeo"
           }
          ],
          "scattergl": [
           {
            "marker": {
             "colorbar": {
              "outlinewidth": 0,
              "ticks": ""
             }
            },
            "type": "scattergl"
           }
          ],
          "scattermapbox": [
           {
            "marker": {
             "colorbar": {
              "outlinewidth": 0,
              "ticks": ""
             }
            },
            "type": "scattermapbox"
           }
          ],
          "scatterpolar": [
           {
            "marker": {
             "colorbar": {
              "outlinewidth": 0,
              "ticks": ""
             }
            },
            "type": "scatterpolar"
           }
          ],
          "scatterpolargl": [
           {
            "marker": {
             "colorbar": {
              "outlinewidth": 0,
              "ticks": ""
             }
            },
            "type": "scatterpolargl"
           }
          ],
          "scatterternary": [
           {
            "marker": {
             "colorbar": {
              "outlinewidth": 0,
              "ticks": ""
             }
            },
            "type": "scatterternary"
           }
          ],
          "surface": [
           {
            "colorbar": {
             "outlinewidth": 0,
             "ticks": ""
            },
            "colorscale": [
             [
              0,
              "#0d0887"
             ],
             [
              0.1111111111111111,
              "#46039f"
             ],
             [
              0.2222222222222222,
              "#7201a8"
             ],
             [
              0.3333333333333333,
              "#9c179e"
             ],
             [
              0.4444444444444444,
              "#bd3786"
             ],
             [
              0.5555555555555556,
              "#d8576b"
             ],
             [
              0.6666666666666666,
              "#ed7953"
             ],
             [
              0.7777777777777778,
              "#fb9f3a"
             ],
             [
              0.8888888888888888,
              "#fdca26"
             ],
             [
              1,
              "#f0f921"
             ]
            ],
            "type": "surface"
           }
          ],
          "table": [
           {
            "cells": {
             "fill": {
              "color": "#EBF0F8"
             },
             "line": {
              "color": "white"
             }
            },
            "header": {
             "fill": {
              "color": "#C8D4E3"
             },
             "line": {
              "color": "white"
             }
            },
            "type": "table"
           }
          ]
         },
         "layout": {
          "annotationdefaults": {
           "arrowcolor": "#2a3f5f",
           "arrowhead": 0,
           "arrowwidth": 1
          },
          "coloraxis": {
           "colorbar": {
            "outlinewidth": 0,
            "ticks": ""
           }
          },
          "colorscale": {
           "diverging": [
            [
             0,
             "#8e0152"
            ],
            [
             0.1,
             "#c51b7d"
            ],
            [
             0.2,
             "#de77ae"
            ],
            [
             0.3,
             "#f1b6da"
            ],
            [
             0.4,
             "#fde0ef"
            ],
            [
             0.5,
             "#f7f7f7"
            ],
            [
             0.6,
             "#e6f5d0"
            ],
            [
             0.7,
             "#b8e186"
            ],
            [
             0.8,
             "#7fbc41"
            ],
            [
             0.9,
             "#4d9221"
            ],
            [
             1,
             "#276419"
            ]
           ],
           "sequential": [
            [
             0,
             "#0d0887"
            ],
            [
             0.1111111111111111,
             "#46039f"
            ],
            [
             0.2222222222222222,
             "#7201a8"
            ],
            [
             0.3333333333333333,
             "#9c179e"
            ],
            [
             0.4444444444444444,
             "#bd3786"
            ],
            [
             0.5555555555555556,
             "#d8576b"
            ],
            [
             0.6666666666666666,
             "#ed7953"
            ],
            [
             0.7777777777777778,
             "#fb9f3a"
            ],
            [
             0.8888888888888888,
             "#fdca26"
            ],
            [
             1,
             "#f0f921"
            ]
           ],
           "sequentialminus": [
            [
             0,
             "#0d0887"
            ],
            [
             0.1111111111111111,
             "#46039f"
            ],
            [
             0.2222222222222222,
             "#7201a8"
            ],
            [
             0.3333333333333333,
             "#9c179e"
            ],
            [
             0.4444444444444444,
             "#bd3786"
            ],
            [
             0.5555555555555556,
             "#d8576b"
            ],
            [
             0.6666666666666666,
             "#ed7953"
            ],
            [
             0.7777777777777778,
             "#fb9f3a"
            ],
            [
             0.8888888888888888,
             "#fdca26"
            ],
            [
             1,
             "#f0f921"
            ]
           ]
          },
          "colorway": [
           "#636efa",
           "#EF553B",
           "#00cc96",
           "#ab63fa",
           "#FFA15A",
           "#19d3f3",
           "#FF6692",
           "#B6E880",
           "#FF97FF",
           "#FECB52"
          ],
          "font": {
           "color": "#2a3f5f"
          },
          "geo": {
           "bgcolor": "white",
           "lakecolor": "white",
           "landcolor": "#E5ECF6",
           "showlakes": true,
           "showland": true,
           "subunitcolor": "white"
          },
          "hoverlabel": {
           "align": "left"
          },
          "hovermode": "closest",
          "mapbox": {
           "style": "light"
          },
          "paper_bgcolor": "white",
          "plot_bgcolor": "#E5ECF6",
          "polar": {
           "angularaxis": {
            "gridcolor": "white",
            "linecolor": "white",
            "ticks": ""
           },
           "bgcolor": "#E5ECF6",
           "radialaxis": {
            "gridcolor": "white",
            "linecolor": "white",
            "ticks": ""
           }
          },
          "scene": {
           "xaxis": {
            "backgroundcolor": "#E5ECF6",
            "gridcolor": "white",
            "gridwidth": 2,
            "linecolor": "white",
            "showbackground": true,
            "ticks": "",
            "zerolinecolor": "white"
           },
           "yaxis": {
            "backgroundcolor": "#E5ECF6",
            "gridcolor": "white",
            "gridwidth": 2,
            "linecolor": "white",
            "showbackground": true,
            "ticks": "",
            "zerolinecolor": "white"
           },
           "zaxis": {
            "backgroundcolor": "#E5ECF6",
            "gridcolor": "white",
            "gridwidth": 2,
            "linecolor": "white",
            "showbackground": true,
            "ticks": "",
            "zerolinecolor": "white"
           }
          },
          "shapedefaults": {
           "line": {
            "color": "#2a3f5f"
           }
          },
          "ternary": {
           "aaxis": {
            "gridcolor": "white",
            "linecolor": "white",
            "ticks": ""
           },
           "baxis": {
            "gridcolor": "white",
            "linecolor": "white",
            "ticks": ""
           },
           "bgcolor": "#E5ECF6",
           "caxis": {
            "gridcolor": "white",
            "linecolor": "white",
            "ticks": ""
           }
          },
          "title": {
           "x": 0.05
          },
          "xaxis": {
           "automargin": true,
           "gridcolor": "white",
           "linecolor": "white",
           "ticks": "",
           "title": {
            "standoff": 15
           },
           "zerolinecolor": "white",
           "zerolinewidth": 2
          },
          "yaxis": {
           "automargin": true,
           "gridcolor": "white",
           "linecolor": "white",
           "ticks": "",
           "title": {
            "standoff": 15
           },
           "zerolinecolor": "white",
           "zerolinewidth": 2
          }
         }
        }
       }
      },
      "text/html": [
       "<div>\n",
       "        \n",
       "        \n",
       "            <div id=\"066fcf76-ac07-42b9-a1c3-ace2daeb1b61\" class=\"plotly-graph-div\" style=\"height:525px; width:100%;\"></div>\n",
       "            <script type=\"text/javascript\">\n",
       "                require([\"plotly\"], function(Plotly) {\n",
       "                    window.PLOTLYENV=window.PLOTLYENV || {};\n",
       "                    \n",
       "                if (document.getElementById(\"066fcf76-ac07-42b9-a1c3-ace2daeb1b61\")) {\n",
       "                    Plotly.newPlot(\n",
       "                        '066fcf76-ac07-42b9-a1c3-ace2daeb1b61',\n",
       "                        [{\"marker\": {\"color\": [2674369, 2233492, 1300900, 1016722, 1198594, 1015203, 462316, 545452, 447645, 542220, 562622, 619572, 514264, 343265, 366818, 396140, 426025, 283838, 231782, 304024, 282027, 304749, 284118, 264644, 214763, 191435, 209863, 261093, 146342, 169823, 186666, 169261, 129658, 173914, 179958, 113772, 133304, 158313, 127344, 127969, 97203, 124264, 99207, 103483, 113566, 104418, 135654, 104008, 135383, 96014, 185093, 155559, 85787, 114469, 78181, 81141, 89085, 94362, 101966, 84990, 69526, 94720, 82350, 107763, 83527, 74898, 93552, 64112, 85138, 82038, 119205, 107730, 93600, 70389, 59302, 86744, 79783, 58055, 58333, 77853, 52606, 67331, 72959, 58715, 67038, 40650, 60891, 51468, 63776, 74231, 44402, 66902, 39840, 48161, 57574, 78998, 39489, 43673, 54093, 49738, 32613, 53080, 56015, 44575, 73290, 53072, 43569, 52658, 34164, 66538, 53957, 67069, 38854, 55955, 53175, 46369, 32170, 32360, 37005, 29918, 52375, 27478, 34546, 35651, 37682, 56399, 35770, 32659, 44755, 36520, 32330, 26739, 35112, 43105, 47547, 48761, 51950, 25181, 33828, 39393, 27371, 25934, 21669, 24630, 39705, 35628, 38013, 36583, 29699, 46041, 33796, 26787, 37665, 28682, 34684, 25597, 26139, 30368, 33841, 31295, 37927, 26392, 17230, 28224, 19388, 27102, 26825, 23461, 19646, 36797, 20850, 31449, 24673, 18002, 22284, 17918, 25632, 33846, 23582, 23478, 39284, 22317, 25075, 19883, 21171, 26807, 23581, 17169, 38143, 29053, 16773, 27849, 9224, 14377, 9463, 16536, 19220, 18886, 23416, 11958, 13808, 17938, 17110, 12669, 11333, 19436, 16275, 22889, 16505, 17512, 10557, 16702, 20076, 15026, 13256, 10095, 12628, 13919, 13071, 17020, 18127, 23739, 13966, 22128, 14494, 8041, 19651, 11948, 18399, 11193, 16682, 17900, 13640, 18388, 10258, 10771, 16307, 13231, 9001, 14089, 15609, 11130, 20793, 20506, 16549, 4213, 8770, 7922, 7823, 6264, 6609, 6242, 6046, 6263, 8009, 5284, 5860, 8741, 10710, 9362, 8046, 3408, 9350, 5386, 3353, 6641, 8578, 16653, 9270, 8448, 9776, 5743, 9505, 9665, 15947, 7120, 5599, 5765, 13924, 3563, 9185, 6064, 7702, 5274, 8211, 9379, 11528, 5988, 19430, 7879, 8794, 7659, 4564, 10094, 6907, 11695, 10545, 7488, 8718, 6216, 7225, 10024, 3786, 6932, 10658, 7071, 6630, 7428, 7868, 3843, 14151, 8153, 6236, 3056, 8096, 8941, 7220, 8093, 7181, 7512, 6492, 10987, 12181, 9205, 7352, 7284, 10684, 8559, 6402, 14396, 7574, 12288, 6081, 3780, 8550, 7418, 8466, 10010, 12363, 10944, 6479, 7773, 6945, 13075, 7553, 13006, 4885, 14293, 7332, 8235, 7532, 9741]}, \"mode\": \"markers\", \"text\": [\"Drama|370\", \"Comedy|195\", \"Comedy,Drama|139\", \"Drama,Romance|132\", \"Comedy,Drama,Romance|116\", \"Comedy,Romance|85\", \"Horror|77\", \"Drama,Thriller|74\", \"Horror,Thriller|69\", \"Action,Crime,Drama|67\", \"Adventure,Animation,Comedy|65\", \"Documentary|64\", \"Crime,Drama,Thriller|62\", \"Thriller|53\", \"Action,Crime,Thriller|49\", \"Action,Adventure,Sci-Fi|41\", \"Action,Comedy,Crime|41\", \"Action,Adventure,Drama|36\", \"Action|36\", \"Crime,Drama|35\", \"Crime,Drama,Mystery|30\", \"Biography,Drama,History|30\", \"Biography,Drama|30\", \"Action,Adventure,Comedy|28\", \"Action,Thriller|28\", \"Horror,Mystery,Thriller|28\", \"Comedy,Horror|27\", \"Comedy,Crime,Drama|26\", \"Action,Adventure,Fantasy|25\", \"Crime,Thriller|22\", \"Family|22\", \"Action,Adventure,Animation|22\", \"Action,Horror,Sci-Fi|20\", \"Biography,Drama,Romance|20\", \"Action,Comedy|19\", \"Action,Drama|19\", \"Drama,Mystery,Thriller|19\", \"Action,Drama,History|19\", \"Action,Drama,Thriller|18\", \"Action,Sci-Fi,Thriller|18\", \"Drama,Horror,Thriller|16\", \"Action,Biography,Drama|15\", \"Action,Comedy,Horror|15\", \"Horror,Sci-Fi,Thriller|15\", \"Adventure,Family,Fantasy|15\", \"Drama,Family|14\", \"Adventure,Comedy,Drama|14\", \"Drama,War|14\", \"Adventure,Comedy,Family|14\", \"Mystery,Thriller|14\", \"Comedy,Crime|14\", \"Biography,Comedy,Drama|14\", \"Drama,Romance,Thriller|12\", \"Comedy,Drama,Fantasy|12\", \"Drama,Horror,Mystery|12\", \"Drama,Fantasy,Horror|12\", \"Adventure,Animation,Family|12\", \"Crime,Mystery,Thriller|12\", \"Adventure,Family|12\", \"Horror,Mystery|12\", \"Action,Adventure|12\", \"Drama,History,War|12\", \"Action,Adventure,Crime|11\", \"Comedy,Family|11\", \"Crime|11\", \"Drama,History|11\", \"Drama,Mystery,Romance|11\", \"Action,Horror|11\", \"Drama,Mystery|11\", \"Action,Adventure,Thriller|11\", \"Adventure,Comedy|10\", \"Biography,Crime,Drama|10\", \"Comedy,Drama,Music|10\", \"Adventure,Drama,Family|10\", \"Horror,Sci-Fi|10\", \"Drama,Music|10\", \"Comedy,Horror,Sci-Fi|9\", \"Documentary,Music|8\", \"Sci-Fi,Thriller|8\", \"Biography,Drama,Music|8\", \"Drama,Sci-Fi|8\", \"Drama,History,Romance|8\", \"Comedy,Drama,Family|8\", \"Adventure,Drama,Fantasy|8\", \"Animation,Comedy,Family|8\", \"Drama,Horror|7\", \"Comedy,Fantasy,Horror|7\", \"Crime,Drama,Romance|7\", \"Comedy,Crime,Thriller|7\", \"Biography,Drama,Thriller|7\", \"Drama,Horror,Sci-Fi|7\", \"Adventure,Fantasy|7\", \"Adventure|7\", \"Drama,Fantasy|7\", \"Action,Crime,Mystery|7\", \"Drama,Sport|7\", \"Action,Fantasy,Horror|7\", \"Crime,Horror,Thriller|7\", \"Action,Sci-Fi|7\", \"Animation,Family|7\", \"Drama,Sci-Fi,Thriller|6\", \"Comedy,Thriller|6\", \"Action,Comedy,Fantasy|6\", \"Action,Adventure,Family|6\", \"Comedy,Fantasy|6\", \"Comedy,Horror,Romance|6\", \"Drama,Mystery,Sci-Fi|6\", \"Action,Comedy,Sci-Fi|6\", \"Western|6\", \"Action,Comedy,Drama|6\", \"Drama,Fantasy,Romance|6\", \"Action,Adventure,Mystery|5\", \"Sci-Fi|5\", \"Biography,Drama,Sport|5\", \"Crime,Documentary|5\", \"Adventure,Drama,History|5\", \"Action,Animation,Sci-Fi|5\", \"Documentary,Drama|5\", \"Action,Crime|5\", \"Fantasy,Horror,Mystery|5\", \"Biography,Documentary,Music|5\", \"Action,Horror,Thriller|5\", \"Drama,Western|5\", \"Crime,Drama,Horror|5\", \"Romance|5\", \"Biography,Documentary|5\", \"Comedy,Drama,Musical|5\", \"Drama,Romance,War|5\", \"Comedy,Drama,History|5\", \"Adventure,Animation,Drama|5\", \"Action,Comedy,Thriller|4\", \"Action,Drama,Sci-Fi|4\", \"Fantasy|4\", \"Comedy,Drama,Mystery|4\", \"Comedy,Drama,Sport|4\", \"Comedy,Sci-Fi|4\", \"Comedy,Music|4\", \"Action,Horror,Mystery|4\", \"Comedy,Family,Fantasy|4\", \"Biography,Drama,War|4\", \"Action,Fantasy,Sci-Fi|4\", \"Fantasy,Horror|4\", \"Fantasy,Horror,Thriller|4\", \"Action,Drama,Fantasy|4\", \"Drama,Fantasy,Mystery|4\", \"Mystery,Sci-Fi,Thriller|4\", \"Adventure,Fantasy,Mystery|4\", \"Action,Mystery,Thriller|4\", \"Drama,Romance,Sci-Fi|4\", \"Comedy,Mystery|4\", \"Drama,Horror,Romance|4\", \"Adventure,Biography,Drama|4\", \"Action,Comedy,Romance|4\", \"Comedy,Horror,Thriller|4\", \"Action,Crime,Sci-Fi|4\", \"Animation,Comedy|3\", \"Action,Adventure,Biography|3\", \"Comedy,Romance,Sport|3\", \"Action,Drama,Sport|3\", \"Adventure,Drama,Thriller|3\", \"Drama,History,Thriller|3\", \"War|3\", \"Romance,Thriller|3\", \"Animation,Comedy,Drama|3\", \"Animation,Drama,Family|3\", \"Action,Comedy,Family|3\", \"Adventure,Comedy,Crime|3\", \"Adventure,Drama,Romance|3\", \"Action,Fantasy|3\", \"Comedy,Family,Romance|3\", \"Action,Biography,Crime|3\", \"Crime,Drama,History|3\", \"Action,Fantasy,Thriller|3\", \"Action,Drama,Romance|3\", \"Drama,Thriller,War|3\", \"Action,Animation,Horror|3\", \"Comedy,Horror,Mystery|3\", \"Comedy,Western|3\", \"Action,Drama,Mystery|3\", \"Animation,Family,Fantasy|3\", \"Comedy,Fantasy,Romance|3\", \"Mystery,Romance,Thriller|3\", \"Documentary,Sport|3\", \"Animation|3\", \"Action,Drama,War|3\", \"Adventure,Drama,Sci-Fi|3\", \"Drama,Fantasy,Sci-Fi|3\", \"Adventure,Horror|3\", \"Biography,Documentary,Drama|3\", \"Adventure,Comedy,Fantasy|3\", \"Action,Adventure,Romance|2\", \"Documentary,News|2\", \"Action,Drama,Horror|2\", \"Action,Mystery,Sci-Fi|2\", \"Horror,Romance,Thriller|2\", \"Action,Comedy,Sport|2\", \"Crime,Drama,War|2\", \"Horror,Mystery,Sci-Fi|2\", \"Comedy,Music,Musical|2\", \"Fantasy,Romance|2\", \"Action,Animation,Comedy|2\", \"Adventure,Comedy,Horror|2\", \"Romance,Sci-Fi,Thriller|2\", \"Action,Animation,Fantasy|2\", \"Thriller,Western|2\", \"Adventure,Drama|2\", \"Comedy,Drama,Horror|2\", \"Biography,Documentary,Sport|2\", \"Comedy,Horror,Music|2\", \"Animation,Drama,Fantasy|2\", \"Action,Romance|2\", \"Adventure,Family,Sci-Fi|2\", \"Comedy,Sport|2\", \"Action,Animation,Crime|2\", \"Action,Romance,Thriller|2\", \"Crime,Horror,Mystery|2\", \"Action,Adventure,Documentary|2\", \"Drama,Music,Romance|2\", \"Animation,Drama|2\", \"Drama,Musical,Romance|2\", \"Comedy,War|2\", \"Documentary,History|2\", \"Action,Adventure,Horror|2\", \"Comedy,Drama,War|2\", \"Adventure,Drama,Western|2\", \"Horror,Romance|2\", \"Action,Drama,Family|2\", \"Action,Fantasy,Romance|2\", \"Comedy,Crime,Mystery|2\", \"Animation,Sci-Fi|2\", \"Adventure,Animation|2\", \"Action,Animation,Drama|2\", \"Adventure,Documentary,Sport|2\", \"Adventure,Mystery,Sci-Fi|2\", \"Adventure,History|2\", \"Action,History|2\", \"Action,Crime,Romance|2\", \"Action,Adventure,History|2\", \"Drama,Fantasy,Musical|2\", \"Action,Crime,Fantasy|2\", \"Animation,Comedy,Crime|2\", \"Action,Drama,Western|2\", \"Adventure,Biography,Comedy|2\", \"Animation,Drama,Sci-Fi|2\", \"Action,Adventure,Western|2\", \"Adventure,Fantasy,Musical|1\", \"Adventure,Sci-Fi,Thriller|1\", \"Comedy,Family,Music|1\", \"Adventure,Romance|1\", \"Adventure,Crime,Family|1\", \"Action,Thriller,Western|1\", \"Adventure,Sci-Fi|1\", \"Fantasy,Mystery,Romance|1\", \"Adventure,Animation,Fantasy|1\", \"Animation,Drama,Thriller|1\", \"Adventure,Horror,Sci-Fi|1\", \"Family,Mystery|1\", \"Biography,Comedy|1\", \"Action,Mystery|1\", \"Comedy,Musical|1\", \"Adventure,Biography|1\", \"Mystery,Western|1\", \"Adventure,History,Romance|1\", \"Crime,Horror,Romance|1\", \"Action,Crime,Horror|1\", \"Adventure,Drama,Horror|1\", \"Animation,Family,Musical|1\", \"Comedy,Crime,Romance|1\", \"Documentary,History,Music|1\", \"Comedy,Crime,Horror|1\", \"Biography,Documentary,Family|1\", \"Action,History,Thriller|1\", \"Drama,Family,Mystery|1\", \"Comedy,Drama,Sci-Fi|1\", \"Documentary,Family,History|1\", \"Comedy,Horror,Musical|1\", \"Adventure,Drama,Sport|1\", \"Drama,Family,Sci-Fi|1\", \"Biography,Drama,Fantasy|1\", \"Animation,Drama,Romance|1\", \"Crime,Mystery|1\", \"Fantasy,Mystery,Thriller|1\", \"Drama,Mystery,War|1\", \"Drama,History,Horror|1\", \"Crime,Drama,Sci-Fi|1\", \"Mystery,Romance,Sci-Fi|1\", \"Adventure,Comedy,Sci-Fi|1\", \"Music|1\", \"Action,Comedy,Western|1\", \"Animation,Mystery,Thriller|1\", \"Adventure,Thriller|1\", \"Action,War|1\", \"Adventure,Crime,Drama|1\", \"Drama,Fantasy,Music|1\", \"Comedy,Crime,Family|1\", \"Documentary,Mystery|1\", \"Crime,Documentary,Drama|1\", \"Animation,Biography,Drama|1\", \"Adventure,Biography,History|1\", \"Biography,History|1\", \"Documentary,History,War|1\", \"Drama,Fantasy,Thriller|1\", \"Action,Fantasy,Western|1\", \"Documentary,Drama,Family|1\", \"Comedy,Documentary,Drama|1\", \"Adventure,Crime,Thriller|1\", \"Drama,Family,Music|1\", \"Drama,Family,Fantasy|1\", \"Family,Fantasy|1\", \"Adventure,Documentary,Drama|1\", \"Documentary,Thriller|1\", \"Crime,Drama,Fantasy|1\", \"Drama,Family,History|1\", \"Fantasy,Horror,Sci-Fi|1\", \"Crime,Mystery,Romance|1\", \"Family,Fantasy,Musical|1\", \"Drama,History,Sport|1\", \"Action,Horror,Romance|1\", \"Adventure,Animation,Sci-Fi|1\", \"Comedy,Musical,Sci-Fi|1\", \"Action,Biography,Documentary|1\", \"Documentary,History,Sport|1\", \"Drama,Family,Romance|1\", \"Biography,Drama,Musical|1\", \"Animation,Comedy,Fantasy|1\", \"Animation,Biography,Documentary|1\", \"Adventure,Biography,Crime|1\", \"Comedy,Drama,Thriller|1\", \"Drama,Musical|1\", \"Musical|1\", \"Adventure,Comedy,Western|1\", \"Comedy,Fantasy,Sci-Fi|1\", \"Crime,Romance,Thriller|1\", \"Horror,War|1\", \"Crime,Sci-Fi,Thriller|1\", \"Animation,Documentary|1\", \"Drama,Music,Thriller|1\", \"Comedy,Fantasy,Thriller|1\", \"Biography|1\", \"Comedy,Family,Sport|1\", \"Thriller,War|1\", \"Action,Comedy,Music|1\", \"Music,Mystery,Thriller|1\", \"Comedy,Romance,Western|1\", \"Comedy,Musical,Romance|1\", \"Crime,Documentary,History|1\", \"Drama,Thriller,Western|1\", \"Biography,Comedy,Crime|1\", \"Comedy,Romance,Sci-Fi|1\", \"Documentary,War|1\", \"Romance,War|1\", \"Action,Comedy,Documentary|1\"], \"type\": \"scatter\", \"x\": [16.044099807739258, 16.6460018157959, 16.305524826049805, 16.440217971801758, 16.235015869140625, 17.180713653564453, 15.56906795501709, 14.742819786071777, 14.314430236816406, 13.537014961242676, 15.841741561889648, 10.172078132629395, 14.57101058959961, 14.597522735595703, 13.196087837219238, 12.644612312316895, 14.454729080200195, 12.39765739440918, 14.98996639251709, 16.00990104675293, 12.957056045532227, 11.922165870666504, 12.844949722290039, 14.265645980834961, 13.366275787353516, 14.377161026000977, 15.475605964660645, 14.767290115356445, 12.940677642822266, 15.347060203552246, 15.856148719787598, 15.495889663696289, 12.210254669189453, 13.159279823303223, 14.750065803527832, 12.972307205200195, 13.696365356445312, 12.358055114746094, 13.119495391845703, 12.597772598266602, 16.73151397705078, 12.43651294708252, 15.452329635620117, 12.350671768188477, 15.116534233093262, 16.731998443603516, 14.457375526428223, 12.602906227111816, 15.464251518249512, 14.611230850219727, 14.802850723266602, 13.225147247314453, 16.76858901977539, 15.820816040039062, 13.851353645324707, 14.341497421264648, 15.98924732208252, 12.860976219177246, 15.261087417602539, 14.051801681518555, 12.670730590820312, 11.638286590576172, 12.576518058776855, 16.25841522216797, 15.456074714660645, 12.848552703857422, 14.236141204833984, 12.545503616333008, 14.513875007629395, 12.301386833190918, 14.992262840270996, 12.99757194519043, 13.232510566711426, 16.676414489746094, 15.027253150939941, 16.537939071655273, 15.191740036010742, 10.467018127441406, 14.963485717773438, 16.395225524902344, 12.79827880859375, 12.861980438232422, 16.778656005859375, 16.261972427368164, 15.827553749084473, 16.520126342773438, 14.00395393371582, 16.631065368652344, 14.657506942749023, 11.71533489227295, 14.295795440673828, 12.08664608001709, 12.631345748901367, 16.05056381225586, 12.508615493774414, 16.811145782470703, 13.497570037841797, 14.359172821044922, 11.778528213500977, 15.770448684692383, 14.520331382751465, 14.661542892456055, 14.381360054016113, 14.615943908691406, 16.41353988647461, 17.31006622314453, 12.785752296447754, 14.160063743591309, 13.563586235046387, 15.77734661102295, 16.050519943237305, 12.154151916503906, 11.827860832214355, 12.777151107788086, 10.07003402709961, 12.208833694458008, 12.686994552612305, 10.51535415649414, 15.74011516571045, 14.292613983154297, 10.549054145812988, 13.645886421203613, 12.207012176513672, 14.631178855895996, 16.675914764404297, 10.320176124572754, 16.914968490600586, 16.0658016204834, 12.234491348266602, 14.53805923461914, 12.651909828186035, 12.497453689575195, 16.32244873046875, 14.49049186706543, 16.40003204345703, 16.14212417602539, 16.407888412475586, 13.075448036193848, 16.0690860748291, 12.173069953918457, 12.55384349822998, 15.440698623657227, 14.495864868164062, 15.293999671936035, 13.100809097290039, 14.280692100524902, 13.345779418945312, 12.419857025146484, 16.138025283813477, 14.87287425994873, 16.88031005859375, 11.834238052368164, 14.903875350952148, 15.585990905761719, 13.073943138122559, 16.58254051208496, 11.039056777954102, 15.116961479187012, 16.865272521972656, 15.567559242248535, 11.494050025939941, 12.250636100769043, 15.147652626037598, 12.584529876708984, 14.525397300720215, 15.873634338378906, 16.494029998779297, 15.677226066589355, 12.638425827026367, 16.90497589111328, 15.216882705688477, 13.468092918395996, 14.4132719039917, 16.09543228149414, 12.134858131408691, 12.620088577270508, 13.336272239685059, 13.951388359069824, 13.179529190063477, 15.594359397888184, 16.112791061401367, 13.02940559387207, 10.499931335449219, 15.49023723602295, 12.28788948059082, 11.9036865234375, 15.976357460021973, 12.479676246643066, 10.416388511657715, 16.02617073059082, 13.631208419799805, 10.292677879333496, 14.354146957397461, 14.357118606567383, 16.256977081298828, 13.244617462158203, 12.622807502746582, 12.294482231140137, 16.29337501525879, 16.899690628051758, 13.799309730529785, 16.018234252929688, 12.569201469421387, 16.005029678344727, 12.622650146484375, 11.655498504638672, 13.39904499053955, 10.669188499450684, 16.360641479492188, 15.64612865447998, 16.262937545776367, 15.36970043182373, 15.941885948181152, 13.135122299194336, 16.612428665161133, 14.431137084960938, 10.588470458984375, 15.513309478759766, 15.943840026855469, 13.279598236083984, 11.51809024810791, 9.894964218139648, 13.957393646240234, 11.586921691894531, 12.169130325317383, 13.94051456451416, 15.791666984558105, 15.896695137023926, 12.651778221130371, 12.272911071777344, 15.656793594360352, 16.093881607055664, 10.58273983001709, 12.810559272766113, 12.593658447265625, 13.053009986877441, 12.78230094909668, 11.88387393951416, 16.758668899536133, 13.345897674560547, 14.96901798248291, 16.53859519958496, 16.017980575561523, 13.114734649658203, 13.073816299438477, 13.949140548706055, 12.926360130310059, 16.527490615844727, 16.98797035217285, 16.289737701416016, 13.304242134094238, 12.809015274047852, 12.156359672546387, 15.721562385559082, 15.966561317443848, 15.268717765808105, 16.345046997070312, 12.496918678283691, 12.583576202392578, 15.886152267456055, 12.022504806518555, 12.858438491821289, 12.421817779541016, 16.32123374938965, 15.467571258544922, 15.915410995483398, 15.961159706115723, 14.685346603393555, 9.774666786193848, 16.836048126220703, 15.834443092346191, 12.426738739013672, 16.437999725341797, 13.18237018585205, 10.300341606140137, 15.608392715454102, 17.052257537841797, 12.913955688476562, 17.100414276123047, 16.13724136352539, 12.546063423156738, 15.67052936553955, 12.501557350158691, 16.167512893676758, 12.81717300415039, 15.15379524230957, 13.189690589904785, 17.22166633605957, 13.16634750366211, 13.49864387512207, 12.151922225952148, 11.784100532531738, 15.802713394165039, 16.279850006103516, 16.470256805419922, 9.712316513061523, 9.962212562561035, 12.797761917114258, 12.87376880645752, 11.654480934143066, 9.814057350158691, 15.904093742370605, 15.00036334991455, 9.707498550415039, 13.593835830688477, 12.398066520690918, 15.016124725341797, 13.264507293701172, 12.306445121765137, 12.875399589538574, 10.191028594970703, 16.843900680541992, 15.378023147583008, 16.451059341430664, 12.837766647338867, 14.077347755432129, 14.899398803710938, 12.416849136352539, 10.724444389343262, 10.424271583557129, 11.46420669555664, 10.461895942687988, 16.778268814086914, 12.097899436950684, 12.40560245513916, 10.823258399963379, 16.61419677734375, 13.494877815246582, 13.07064437866211, 15.201042175292969, 16.215805053710938, 15.869790077209473, 12.684147834777832, 12.418464660644531, 16.700286865234375, 9.783364295959473, 17.289194107055664, 15.74974536895752, 16.2522029876709, 16.70485496520996, 16.94837188720703, 12.504003524780273, 12.725317001342773, 17.18378257751465, 17.264217376708984, 9.762686729431152, 12.863911628723145, 10.515922546386719, 16.667484283447266, 10.67915153503418, 12.231719017028809, 16.2752742767334], \"y\": [10.279420852661133, 8.25809383392334, 10.045066833496094, 10.544500350952148, 10.75766658782959, 9.709924697875977, 8.919929504394531, 11.213638305664062, 10.68686294555664, 10.722417831420898, 7.576272487640381, 8.954895973205566, 10.760786056518555, 10.441017150878906, 10.852495193481445, 10.455821990966797, 9.792420387268066, 8.186700820922852, 9.404195785522461, 9.719096183776855, 12.020635604858398, 9.525252342224121, 9.77542781829834, 8.909443855285645, 10.959281921386719, 11.04732894897461, 8.297944068908691, 9.622206687927246, 8.158203125, 10.291617393493652, 7.776687145233154, 7.450516700744629, 10.93116283416748, 9.739087104797363, 8.741083145141602, 8.37767219543457, 11.933067321777344, 8.488411903381348, 10.791991233825684, 10.858901023864746, 9.960369110107422, 9.191450119018555, 8.8386869430542, 10.942359924316406, 9.333099365234375, 8.526371955871582, 9.087575912475586, 10.069576263427734, 7.821221828460693, 11.278397560119629, 8.568305015563965, 9.753938674926758, 10.084100723266602, 10.13092041015625, 11.554481506347656, 11.421249389648438, 7.912121772766113, 11.723400115966797, 8.22773551940918, 11.027928352355957, 8.137497901916504, 10.221277236938477, 11.795137405395508, 7.7764153480529785, 10.193059921264648, 8.502829551696777, 11.55263614654541, 10.939383506774902, 11.388553619384766, 11.620957374572754, 8.436448097229004, 9.95028018951416, 9.816317558288574, 8.379057884216309, 8.323583602905273, 8.954469680786133, 8.1326904296875, 8.924771308898926, 10.042623519897461, 10.480076789855957, 10.190600395202637, 9.627645492553711, 9.162168502807617, 10.04819107055664, 7.751457214355469, 10.707196235656738, 9.17368221282959, 10.088680267333984, 9.16918659210205, 10.528131484985352, 11.0152006149292, 8.123230934143066, 8.032512664794922, 9.168462753295898, 11.911623001098633, 8.502552032470703, 10.747379302978516, 10.71499252319336, 10.886824607849121, 7.602966785430908, 10.918261528015137, 10.084983825683594, 9.00427532196045, 8.705296516418457, 7.719381809234619, 9.34747314453125, 10.2795991897583, 9.69530963897705, 8.878954887390137, 9.663783073425293, 10.785287857055664, 10.927178382873535, 10.592262268066406, 8.726908683776855, 8.755969047546387, 8.509807586669922, 9.009204864501953, 8.87195110321045, 9.90021800994873, 11.200435638427734, 8.576128005981445, 10.699688911437988, 11.884342193603516, 11.134356498718262, 9.261252403259277, 8.71846866607666, 10.312081336975098, 9.615045547485352, 8.099979400634766, 9.416855812072754, 11.4868803024292, 11.376289367675781, 8.725279808044434, 9.627297401428223, 8.341036796569824, 7.464083194732666, 7.763321876525879, 10.952656745910645, 7.9898481369018555, 8.740479469299316, 8.398902893066406, 8.788459777832031, 11.111329078674316, 9.742838859558105, 9.285551071166992, 10.995798110961914, 8.476588249206543, 12.224143028259277, 10.89086627960205, 8.641119956970215, 9.724541664123535, 9.669413566589355, 11.411008834838867, 9.314983367919922, 10.657548904418945, 7.873388767242432, 9.289688110351562, 11.17768383026123, 8.709261894226074, 9.464097023010254, 10.68427848815918, 10.723530769348145, 10.505171775817871, 9.244743347167969, 9.1633882522583, 9.736618995666504, 7.630393028259277, 9.946442604064941, 7.941195011138916, 9.383452415466309, 8.826607704162598, 10.568626403808594, 10.572739601135254, 9.347479820251465, 8.754342079162598, 10.617807388305664, 11.513033866882324, 8.800040245056152, 9.981305122375488, 7.540363311767578, 10.579737663269043, 11.822083473205566, 9.039734840393066, 7.376652717590332, 9.177726745605469, 10.037516593933105, 10.210869789123535, 7.911957740783691, 8.51925277709961, 7.467044830322266, 8.446446418762207, 9.011786460876465, 10.193941116333008, 10.630435943603516, 9.405012130737305, 11.240670204162598, 8.179238319396973, 10.700776100158691, 7.40565824508667, 10.262127876281738, 9.254164695739746, 7.495453357696533, 11.740555763244629, 8.955471992492676, 11.8772554397583, 10.108399391174316, 9.651044845581055, 8.791467666625977, 8.136747360229492, 8.517848014831543, 9.343219757080078, 7.967508316040039, 7.720178604125977, 8.383513450622559, 10.36419677734375, 10.871138572692871, 9.088237762451172, 8.395122528076172, 8.574300765991211, 8.802074432373047, 10.095006942749023, 9.041291236877441, 10.448712348937988, 10.753928184509277, 11.76181697845459, 10.732606887817383, 7.802432537078857, 9.027538299560547, 12.305530548095703, 9.397668838500977, 7.7060112953186035, 9.026568412780762, 9.131474494934082, 10.995352745056152, 8.053854942321777, 8.059091567993164, 12.241216659545898, 8.395306587219238, 9.872048377990723, 10.749913215637207, 7.396194934844971, 10.452512741088867, 7.8157806396484375, 9.571857452392578, 8.81037425994873, 8.49199390411377, 10.502019882202148, 8.130034446716309, 8.614757537841797, 8.605220794677734, 11.585376739501953, 9.043771743774414, 8.245588302612305, 9.344721794128418, 10.05472469329834, 8.293697357177734, 9.916505813598633, 12.325263977050781, 11.773231506347656, 9.611848831176758, 9.74755859375, 8.453714370727539, 12.401761054992676, 10.962342262268066, 10.21857738494873, 7.989854335784912, 8.248735427856445, 8.461444854736328, 8.964587211608887, 9.051396369934082, 10.863081932067871, 8.281941413879395, 10.255614280700684, 12.254000663757324, 8.8368558883667, 7.915040969848633, 8.939651489257812, 9.897692680358887, 9.595938682556152, 10.861101150512695, 12.40876579284668, 8.982024192810059, 11.772294044494629, 9.49050521850586, 7.858293056488037, 9.966111183166504, 12.132621765136719, 9.026487350463867, 8.312573432922363, 9.229269027709961, 10.734817504882812, 10.670408248901367, 9.40274429321289, 10.692861557006836, 7.967301368713379, 9.01411247253418, 8.815277099609375, 10.25465202331543, 7.965606212615967, 8.384598731994629, 8.959506034851074, 8.2048978805542, 8.999001502990723, 8.874933242797852, 10.067706108093262, 10.870844841003418, 11.10495662689209, 9.786230087280273, 9.718744277954102, 9.747519493103027, 9.027762413024902, 9.437406539916992, 8.466191291809082, 9.925436973571777, 12.42191219329834, 9.230704307556152, 8.0090970993042, 12.375772476196289, 9.13052749633789, 8.54784107208252, 9.04792308807373, 8.713419914245605, 10.38118839263916, 8.221170425415039, 12.19223403930664, 8.656529426574707, 7.321390628814697, 9.877047538757324, 8.334708213806152, 7.675657272338867, 9.301180839538574, 7.439239978790283, 12.468253135681152, 11.256366729736328, 10.275598526000977, 8.926642417907715, 9.162169456481934, 7.653219699859619, 8.308377265930176, 8.148890495300293, 9.566972732543945, 8.66006851196289, 12.503396034240723, 9.354424476623535, 9.690048217773438, 8.970962524414062, 8.353182792663574, 8.371135711669922, 9.190751075744629, 9.186763763427734, 11.551480293273926, 7.580983638763428]}],\n",
       "                        {\"template\": {\"data\": {\"bar\": [{\"error_x\": {\"color\": \"#2a3f5f\"}, \"error_y\": {\"color\": \"#2a3f5f\"}, \"marker\": {\"line\": {\"color\": \"#E5ECF6\", \"width\": 0.5}}, \"type\": \"bar\"}], \"barpolar\": [{\"marker\": {\"line\": {\"color\": \"#E5ECF6\", \"width\": 0.5}}, \"type\": \"barpolar\"}], \"carpet\": [{\"aaxis\": {\"endlinecolor\": \"#2a3f5f\", \"gridcolor\": \"white\", \"linecolor\": \"white\", \"minorgridcolor\": \"white\", \"startlinecolor\": \"#2a3f5f\"}, \"baxis\": {\"endlinecolor\": \"#2a3f5f\", \"gridcolor\": \"white\", \"linecolor\": \"white\", \"minorgridcolor\": \"white\", \"startlinecolor\": \"#2a3f5f\"}, \"type\": \"carpet\"}], \"choropleth\": [{\"colorbar\": {\"outlinewidth\": 0, \"ticks\": \"\"}, \"type\": \"choropleth\"}], \"contour\": [{\"colorbar\": {\"outlinewidth\": 0, \"ticks\": \"\"}, \"colorscale\": [[0.0, \"#0d0887\"], [0.1111111111111111, \"#46039f\"], [0.2222222222222222, \"#7201a8\"], [0.3333333333333333, \"#9c179e\"], [0.4444444444444444, \"#bd3786\"], [0.5555555555555556, \"#d8576b\"], [0.6666666666666666, \"#ed7953\"], [0.7777777777777778, \"#fb9f3a\"], [0.8888888888888888, \"#fdca26\"], [1.0, \"#f0f921\"]], \"type\": \"contour\"}], \"contourcarpet\": [{\"colorbar\": {\"outlinewidth\": 0, \"ticks\": \"\"}, \"type\": \"contourcarpet\"}], \"heatmap\": [{\"colorbar\": {\"outlinewidth\": 0, \"ticks\": \"\"}, \"colorscale\": [[0.0, \"#0d0887\"], [0.1111111111111111, \"#46039f\"], [0.2222222222222222, \"#7201a8\"], [0.3333333333333333, \"#9c179e\"], [0.4444444444444444, \"#bd3786\"], [0.5555555555555556, \"#d8576b\"], [0.6666666666666666, \"#ed7953\"], [0.7777777777777778, \"#fb9f3a\"], [0.8888888888888888, \"#fdca26\"], [1.0, \"#f0f921\"]], \"type\": \"heatmap\"}], \"heatmapgl\": [{\"colorbar\": {\"outlinewidth\": 0, \"ticks\": \"\"}, \"colorscale\": [[0.0, \"#0d0887\"], [0.1111111111111111, \"#46039f\"], [0.2222222222222222, \"#7201a8\"], [0.3333333333333333, \"#9c179e\"], [0.4444444444444444, \"#bd3786\"], [0.5555555555555556, \"#d8576b\"], [0.6666666666666666, \"#ed7953\"], [0.7777777777777778, \"#fb9f3a\"], [0.8888888888888888, \"#fdca26\"], [1.0, \"#f0f921\"]], \"type\": \"heatmapgl\"}], \"histogram\": [{\"marker\": {\"colorbar\": {\"outlinewidth\": 0, \"ticks\": \"\"}}, \"type\": \"histogram\"}], \"histogram2d\": [{\"colorbar\": {\"outlinewidth\": 0, \"ticks\": \"\"}, \"colorscale\": [[0.0, \"#0d0887\"], [0.1111111111111111, \"#46039f\"], [0.2222222222222222, \"#7201a8\"], [0.3333333333333333, \"#9c179e\"], [0.4444444444444444, \"#bd3786\"], [0.5555555555555556, \"#d8576b\"], [0.6666666666666666, \"#ed7953\"], [0.7777777777777778, \"#fb9f3a\"], [0.8888888888888888, \"#fdca26\"], [1.0, \"#f0f921\"]], \"type\": \"histogram2d\"}], \"histogram2dcontour\": [{\"colorbar\": {\"outlinewidth\": 0, \"ticks\": \"\"}, \"colorscale\": [[0.0, \"#0d0887\"], [0.1111111111111111, \"#46039f\"], [0.2222222222222222, \"#7201a8\"], [0.3333333333333333, \"#9c179e\"], [0.4444444444444444, \"#bd3786\"], [0.5555555555555556, \"#d8576b\"], [0.6666666666666666, \"#ed7953\"], [0.7777777777777778, \"#fb9f3a\"], [0.8888888888888888, \"#fdca26\"], [1.0, \"#f0f921\"]], \"type\": \"histogram2dcontour\"}], \"mesh3d\": [{\"colorbar\": {\"outlinewidth\": 0, \"ticks\": \"\"}, \"type\": \"mesh3d\"}], \"parcoords\": [{\"line\": {\"colorbar\": {\"outlinewidth\": 0, \"ticks\": \"\"}}, \"type\": \"parcoords\"}], \"pie\": [{\"automargin\": true, \"type\": \"pie\"}], \"scatter\": [{\"marker\": {\"colorbar\": {\"outlinewidth\": 0, \"ticks\": \"\"}}, \"type\": \"scatter\"}], \"scatter3d\": [{\"line\": {\"colorbar\": {\"outlinewidth\": 0, \"ticks\": \"\"}}, \"marker\": {\"colorbar\": {\"outlinewidth\": 0, \"ticks\": \"\"}}, \"type\": \"scatter3d\"}], \"scattercarpet\": [{\"marker\": {\"colorbar\": {\"outlinewidth\": 0, \"ticks\": \"\"}}, \"type\": \"scattercarpet\"}], \"scattergeo\": [{\"marker\": {\"colorbar\": {\"outlinewidth\": 0, \"ticks\": \"\"}}, \"type\": \"scattergeo\"}], \"scattergl\": [{\"marker\": {\"colorbar\": {\"outlinewidth\": 0, \"ticks\": \"\"}}, \"type\": \"scattergl\"}], \"scattermapbox\": [{\"marker\": {\"colorbar\": {\"outlinewidth\": 0, \"ticks\": \"\"}}, \"type\": \"scattermapbox\"}], \"scatterpolar\": [{\"marker\": {\"colorbar\": {\"outlinewidth\": 0, \"ticks\": \"\"}}, \"type\": \"scatterpolar\"}], \"scatterpolargl\": [{\"marker\": {\"colorbar\": {\"outlinewidth\": 0, \"ticks\": \"\"}}, \"type\": \"scatterpolargl\"}], \"scatterternary\": [{\"marker\": {\"colorbar\": {\"outlinewidth\": 0, \"ticks\": \"\"}}, \"type\": \"scatterternary\"}], \"surface\": [{\"colorbar\": {\"outlinewidth\": 0, \"ticks\": \"\"}, \"colorscale\": [[0.0, \"#0d0887\"], [0.1111111111111111, \"#46039f\"], [0.2222222222222222, \"#7201a8\"], [0.3333333333333333, \"#9c179e\"], [0.4444444444444444, \"#bd3786\"], [0.5555555555555556, \"#d8576b\"], [0.6666666666666666, \"#ed7953\"], [0.7777777777777778, \"#fb9f3a\"], [0.8888888888888888, \"#fdca26\"], [1.0, \"#f0f921\"]], \"type\": \"surface\"}], \"table\": [{\"cells\": {\"fill\": {\"color\": \"#EBF0F8\"}, \"line\": {\"color\": \"white\"}}, \"header\": {\"fill\": {\"color\": \"#C8D4E3\"}, \"line\": {\"color\": \"white\"}}, \"type\": \"table\"}]}, \"layout\": {\"annotationdefaults\": {\"arrowcolor\": \"#2a3f5f\", \"arrowhead\": 0, \"arrowwidth\": 1}, \"coloraxis\": {\"colorbar\": {\"outlinewidth\": 0, \"ticks\": \"\"}}, \"colorscale\": {\"diverging\": [[0, \"#8e0152\"], [0.1, \"#c51b7d\"], [0.2, \"#de77ae\"], [0.3, \"#f1b6da\"], [0.4, \"#fde0ef\"], [0.5, \"#f7f7f7\"], [0.6, \"#e6f5d0\"], [0.7, \"#b8e186\"], [0.8, \"#7fbc41\"], [0.9, \"#4d9221\"], [1, \"#276419\"]], \"sequential\": [[0.0, \"#0d0887\"], [0.1111111111111111, \"#46039f\"], [0.2222222222222222, \"#7201a8\"], [0.3333333333333333, \"#9c179e\"], [0.4444444444444444, \"#bd3786\"], [0.5555555555555556, \"#d8576b\"], [0.6666666666666666, \"#ed7953\"], [0.7777777777777778, \"#fb9f3a\"], [0.8888888888888888, \"#fdca26\"], [1.0, \"#f0f921\"]], \"sequentialminus\": [[0.0, \"#0d0887\"], [0.1111111111111111, \"#46039f\"], [0.2222222222222222, \"#7201a8\"], [0.3333333333333333, \"#9c179e\"], [0.4444444444444444, \"#bd3786\"], [0.5555555555555556, \"#d8576b\"], [0.6666666666666666, \"#ed7953\"], [0.7777777777777778, \"#fb9f3a\"], [0.8888888888888888, \"#fdca26\"], [1.0, \"#f0f921\"]]}, \"colorway\": [\"#636efa\", \"#EF553B\", \"#00cc96\", \"#ab63fa\", \"#FFA15A\", \"#19d3f3\", \"#FF6692\", \"#B6E880\", \"#FF97FF\", \"#FECB52\"], \"font\": {\"color\": \"#2a3f5f\"}, \"geo\": {\"bgcolor\": \"white\", \"lakecolor\": \"white\", \"landcolor\": \"#E5ECF6\", \"showlakes\": true, \"showland\": true, \"subunitcolor\": \"white\"}, \"hoverlabel\": {\"align\": \"left\"}, \"hovermode\": \"closest\", \"mapbox\": {\"style\": \"light\"}, \"paper_bgcolor\": \"white\", \"plot_bgcolor\": \"#E5ECF6\", \"polar\": {\"angularaxis\": {\"gridcolor\": \"white\", \"linecolor\": \"white\", \"ticks\": \"\"}, \"bgcolor\": \"#E5ECF6\", \"radialaxis\": {\"gridcolor\": \"white\", \"linecolor\": \"white\", \"ticks\": \"\"}}, \"scene\": {\"xaxis\": {\"backgroundcolor\": \"#E5ECF6\", \"gridcolor\": \"white\", \"gridwidth\": 2, \"linecolor\": \"white\", \"showbackground\": true, \"ticks\": \"\", \"zerolinecolor\": \"white\"}, \"yaxis\": {\"backgroundcolor\": \"#E5ECF6\", \"gridcolor\": \"white\", \"gridwidth\": 2, \"linecolor\": \"white\", \"showbackground\": true, \"ticks\": \"\", \"zerolinecolor\": \"white\"}, \"zaxis\": {\"backgroundcolor\": \"#E5ECF6\", \"gridcolor\": \"white\", \"gridwidth\": 2, \"linecolor\": \"white\", \"showbackground\": true, \"ticks\": \"\", \"zerolinecolor\": \"white\"}}, \"shapedefaults\": {\"line\": {\"color\": \"#2a3f5f\"}}, \"ternary\": {\"aaxis\": {\"gridcolor\": \"white\", \"linecolor\": \"white\", \"ticks\": \"\"}, \"baxis\": {\"gridcolor\": \"white\", \"linecolor\": \"white\", \"ticks\": \"\"}, \"bgcolor\": \"#E5ECF6\", \"caxis\": {\"gridcolor\": \"white\", \"linecolor\": \"white\", \"ticks\": \"\"}}, \"title\": {\"x\": 0.05}, \"xaxis\": {\"automargin\": true, \"gridcolor\": \"white\", \"linecolor\": \"white\", \"ticks\": \"\", \"title\": {\"standoff\": 15}, \"zerolinecolor\": \"white\", \"zerolinewidth\": 2}, \"yaxis\": {\"automargin\": true, \"gridcolor\": \"white\", \"linecolor\": \"white\", \"ticks\": \"\", \"title\": {\"standoff\": 15}, \"zerolinecolor\": \"white\", \"zerolinewidth\": 2}}}},\n",
       "                        {\"responsive\": true}\n",
       "                    ).then(function(){\n",
       "                            \n",
       "var gd = document.getElementById('066fcf76-ac07-42b9-a1c3-ace2daeb1b61');\n",
       "var x = new MutationObserver(function (mutations, observer) {{\n",
       "        var display = window.getComputedStyle(gd).display;\n",
       "        if (!display || display === 'none') {{\n",
       "            console.log([gd, 'removed!']);\n",
       "            Plotly.purge(gd);\n",
       "            observer.disconnect();\n",
       "        }}\n",
       "}});\n",
       "\n",
       "// Listen for the removal of the full notebook cells\n",
       "var notebookContainer = gd.closest('#notebook-container');\n",
       "if (notebookContainer) {{\n",
       "    x.observe(notebookContainer, {childList: true});\n",
       "}}\n",
       "\n",
       "// Listen for the clearing of the current output cell\n",
       "var outputEl = gd.closest('.output');\n",
       "if (outputEl) {{\n",
       "    x.observe(outputEl, {childList: true});\n",
       "}}\n",
       "\n",
       "                        })\n",
       "                };\n",
       "                });\n",
       "            </script>\n",
       "        </div>"
      ]
     },
     "metadata": {},
     "output_type": "display_data"
    }
   ],
   "source": [
    "fig = go.Figure(data=go.Scatter(x=Xr[:, 0],\n",
    "                                y=Xr[:, 1],\n",
    "                                mode='markers',\n",
    "                                text=[f'{label}|{n_token}' for label, n_token in zip(aggr.label, aggr.n_texts)],\n",
    "                                marker_color=aggr.n_tokens))\n",
    "\n",
    "\n",
    "fig.show()"
   ]
  },
  {
   "cell_type": "code",
   "execution_count": 279,
   "metadata": {},
   "outputs": [
    {
     "data": {
      "text/plain": [
       "(0            Drama\n",
       " 1           Comedy\n",
       " 6           Horror\n",
       " 11     Documentary\n",
       " 13        Thriller\n",
       " 18          Action\n",
       " 30          Family\n",
       " 64           Crime\n",
       " 92       Adventure\n",
       " 108        Western\n",
       " 112         Sci-Fi\n",
       " 124        Romance\n",
       " 132        Fantasy\n",
       " 161            War\n",
       " 183      Animation\n",
       " 287          Music\n",
       " 329        Musical\n",
       " 338      Biography\n",
       " Name: label, dtype: object,\n",
       " 18)"
      ]
     },
     "execution_count": 279,
     "metadata": {},
     "output_type": "execute_result"
    }
   ],
   "source": [
    "single_labels = aggr.label[aggr.label.str.split(',').apply(lambda x: len(x)) == 1]\n",
    "n_single_labels = len(single_labels)\n",
    "single_labels, n_single_labels"
   ]
  },
  {
   "cell_type": "code",
   "execution_count": 343,
   "metadata": {},
   "outputs": [],
   "source": [
    "from sklearn.mixture import GaussianMixture\n",
    "from sklearn.cluster import DBSCAN\n",
    "\n",
    "#clu = GaussianMixture(n_components=n_single_labels)\n",
    "#clu = DBSCAN(eps=.55, min_samples=10)\n",
    "clu = KMeans(n_clusters=n_single_labels)\n",
    "Xpca = UMAP(n_components=50).fit_transform(X)\n",
    "\n",
    "cluster = clu.fit_predict(Xpca)\n",
    "#probs = clu.predict_proba(Xpca)"
   ]
  },
  {
   "cell_type": "code",
   "execution_count": 344,
   "metadata": {},
   "outputs": [
    {
     "data": {
      "image/png": "[encoded data removed]",
      "text/plain": [
       "<Figure size 432x288 with 1 Axes>"
      ]
     },
     "metadata": {
      "needs_background": "light"
     },
     "output_type": "display_data"
    }
   ],
   "source": [
    "cluster_counter = Counter(cluster)\n",
    "plt.bar(cluster_counter.keys(), cluster_counter.values())\n",
    "plt.show()"
   ]
  },
  {
   "cell_type": "code",
   "execution_count": 345,
   "metadata": {},
   "outputs": [
    {
     "data": {
      "text/plain": [
       "array([ 7,  5,  7,  7,  7,  1, 14,  8,  8, 15, 13,  3,  8,  8, 15, 12,  4,\n",
       "        9,  4, 10,  2, 16,  6, 17, 15,  8, 14, 17,  9,  4, 13, 13, 12,  6,\n",
       "       17,  9,  8,  9, 15, 12,  7,  0, 14, 12, 17,  5, 17,  6, 13,  8, 17,\n",
       "        6,  7,  7,  8,  8, 13,  2, 14,  8,  9, 16,  2, 13,  4,  9,  8, 12,\n",
       "        8,  2, 14,  6,  6,  5, 14,  1, 14,  3,  4,  7,  6,  6,  1,  7, 13,\n",
       "        7, 11,  7, 17, 16,  8,  9,  9, 10,  2,  5, 15,  8, 16, 13,  8,  4,\n",
       "       17, 17, 13,  1,  6,  4, 11, 10,  7, 12, 16,  0,  3,  9,  0,  3, 10,\n",
       "        8,  3, 15,  2,  8,  1,  3,  7, 10,  9, 17,  2, 12, 10, 17,  5, 13,\n",
       "       13, 15, 13,  0,  9, 14,  8,  4,  0,  8, 11,  2,  7, 17,  1, 16,  8,\n",
       "       10, 15, 13,  3,  8,  5, 10, 16, 12,  4,  0, 17, 10, 13,  4,  9,  1,\n",
       "       14, 15,  8, 10,  0, 12,  2, 11,  6, 13,  7,  2,  3, 13,  0, 16,  7,\n",
       "        9,  3, 13,  9,  3,  4,  8, 10, 15,  9, 12, 13,  7, 11, 13,  2, 10,\n",
       "        2, 16,  6,  3,  5, 17, 10, 14, 13,  9,  7,  8,  3, 14,  1, 11, 16,\n",
       "        3, 15, 16,  2, 15, 13, 10,  2,  0, 13, 10,  3, 12,  9,  9,  2,  9,\n",
       "        7, 15, 13,  7, 13,  6,  0, 11, 12,  5,  5,  5,  2,  0,  9, 10,  7,\n",
       "       14,  7,  2,  2, 10, 16,  9,  2,  7,  4, 13, 13, 14,  3,  1,  7,  9,\n",
       "        7,  2,  3, 13,  5,  6,  1,  7,  2, 14,  2, 10,  9,  4,  2,  1,  9,\n",
       "       11, 12, 16, 10,  7,  5,  3,  3, 12,  9,  9,  3, 13, 14,  3,  6, 12,\n",
       "        8,  6, 16,  6,  3,  1, 14,  7,  2, 11, 14,  2,  3,  3,  3,  3,  7,\n",
       "        9,  2,  3, 13,  6, 11, 13, 10, 13,  2, 12,  7,  3,  1, 13,  5,  5,\n",
       "        1,  0,  2,  1,  1,  3,  9,  3,  1,  3, 16, 13], dtype=int32)"
      ]
     },
     "execution_count": 345,
     "metadata": {},
     "output_type": "execute_result"
    }
   ],
   "source": [
    "cluster"
   ]
  },
  {
   "cell_type": "code",
   "execution_count": 346,
   "metadata": {},
   "outputs": [
    {
     "data": {
      "application/vnd.plotly.v1+json": {
       "config": {
        "plotlyServerURL": "https://plot.ly"
       },
       "data": [
        {
         "marker": {
          "color": [
           "#FF9616",
           "#0DF9FF",
           "#FF9616",
           "#FF9616",
           "#FF9616",
           "#00FE35",
           "#B68E00",
           "#479B55",
           "#479B55",
           "#C9FBE5",
           "#00B5F7",
           "#FED4C4",
           "#479B55",
           "#479B55",
           "#C9FBE5",
           "#6E899C",
           "#FE00CE",
           "#EEA6FB",
           "#FE00CE",
           "#DC587D",
           "#6A76FC",
           "#FF0092",
           "#F6F926",
           "#22FFA7",
           "#C9FBE5",
           "#479B55",
           "#B68E00",
           "#22FFA7",
           "#EEA6FB",
           "#FE00CE",
           "#00B5F7",
           "#00B5F7",
           "#6E899C",
           "#F6F926",
           "#22FFA7",
           "#EEA6FB",
           "#479B55",
           "#EEA6FB",
           "#C9FBE5",
           "#6E899C",
           "#FF9616",
           "#FD3216",
           "#B68E00",
           "#6E899C",
           "#22FFA7",
           "#0DF9FF",
           "#22FFA7",
           "#F6F926",
           "#00B5F7",
           "#479B55",
           "#22FFA7",
           "#F6F926",
           "#FF9616",
           "#FF9616",
           "#479B55",
           "#479B55",
           "#00B5F7",
           "#6A76FC",
           "#B68E00",
           "#479B55",
           "#EEA6FB",
           "#FF0092",
           "#6A76FC",
           "#00B5F7",
           "#FE00CE",
           "#EEA6FB",
           "#479B55",
           "#6E899C",
           "#479B55",
           "#6A76FC",
           "#B68E00",
           "#F6F926",
           "#F6F926",
           "#0DF9FF",
           "#B68E00",
           "#00FE35",
           "#B68E00",
           "#FED4C4",
           "#FE00CE",
           "#FF9616",
           "#F6F926",
           "#F6F926",
           "#00FE35",
           "#FF9616",
           "#00B5F7",
           "#FF9616",
           "#D626FF",
           "#FF9616",
           "#22FFA7",
           "#FF0092",
           "#479B55",
           "#EEA6FB",
           "#EEA6FB",
           "#DC587D",
           "#6A76FC",
           "#0DF9FF",
           "#C9FBE5",
           "#479B55",
           "#FF0092",
           "#00B5F7",
           "#479B55",
           "#FE00CE",
           "#22FFA7",
           "#22FFA7",
           "#00B5F7",
           "#00FE35",
           "#F6F926",
           "#FE00CE",
           "#D626FF",
           "#DC587D",
           "#FF9616",
           "#6E899C",
           "#FF0092",
           "#FD3216",
           "#FED4C4",
           "#EEA6FB",
           "#FD3216",
           "#FED4C4",
           "#DC587D",
           "#479B55",
           "#FED4C4",
           "#C9FBE5",
           "#6A76FC",
           "#479B55",
           "#00FE35",
           "#FED4C4",
           "#FF9616",
           "#DC587D",
           "#EEA6FB",
           "#22FFA7",
           "#6A76FC",
           "#6E899C",
           "#DC587D",
           "#22FFA7",
           "#0DF9FF",
           "#00B5F7",
           "#00B5F7",
           "#C9FBE5",
           "#00B5F7",
           "#FD3216",
           "#EEA6FB",
           "#B68E00",
           "#479B55",
           "#FE00CE",
           "#FD3216",
           "#479B55",
           "#D626FF",
           "#6A76FC",
           "#FF9616",
           "#22FFA7",
           "#00FE35",
           "#FF0092",
           "#479B55",
           "#DC587D",
           "#C9FBE5",
           "#00B5F7",
           "#FED4C4",
           "#479B55",
           "#0DF9FF",
           "#DC587D",
           "#FF0092",
           "#6E899C",
           "#FE00CE",
           "#FD3216",
           "#22FFA7",
           "#DC587D",
           "#00B5F7",
           "#FE00CE",
           "#EEA6FB",
           "#00FE35",
           "#B68E00",
           "#C9FBE5",
           "#479B55",
           "#DC587D",
           "#FD3216",
           "#6E899C",
           "#6A76FC",
           "#D626FF",
           "#F6F926",
           "#00B5F7",
           "#FF9616",
           "#6A76FC",
           "#FED4C4",
           "#00B5F7",
           "#FD3216",
           "#FF0092",
           "#FF9616",
           "#EEA6FB",
           "#FED4C4",
           "#00B5F7",
           "#EEA6FB",
           "#FED4C4",
           "#FE00CE",
           "#479B55",
           "#DC587D",
           "#C9FBE5",
           "#EEA6FB",
           "#6E899C",
           "#00B5F7",
           "#FF9616",
           "#D626FF",
           "#00B5F7",
           "#6A76FC",
           "#DC587D",
           "#6A76FC",
           "#FF0092",
           "#F6F926",
           "#FED4C4",
           "#0DF9FF",
           "#22FFA7",
           "#DC587D",
           "#B68E00",
           "#00B5F7",
           "#EEA6FB",
           "#FF9616",
           "#479B55",
           "#FED4C4",
           "#B68E00",
           "#00FE35",
           "#D626FF",
           "#FF0092",
           "#FED4C4",
           "#C9FBE5",
           "#FF0092",
           "#6A76FC",
           "#C9FBE5",
           "#00B5F7",
           "#DC587D",
           "#6A76FC",
           "#FD3216",
           "#00B5F7",
           "#DC587D",
           "#FED4C4",
           "#6E899C",
           "#EEA6FB",
           "#EEA6FB",
           "#6A76FC",
           "#EEA6FB",
           "#FF9616",
           "#C9FBE5",
           "#00B5F7",
           "#FF9616",
           "#00B5F7",
           "#F6F926",
           "#FD3216",
           "#D626FF",
           "#6E899C",
           "#0DF9FF",
           "#0DF9FF",
           "#0DF9FF",
           "#6A76FC",
           "#FD3216",
           "#EEA6FB",
           "#DC587D",
           "#FF9616",
           "#B68E00",
           "#FF9616",
           "#6A76FC",
           "#6A76FC",
           "#DC587D",
           "#FF0092",
           "#EEA6FB",
           "#6A76FC",
           "#FF9616",
           "#FE00CE",
           "#00B5F7",
           "#00B5F7",
           "#B68E00",
           "#FED4C4",
           "#00FE35",
           "#FF9616",
           "#EEA6FB",
           "#FF9616",
           "#6A76FC",
           "#FED4C4",
           "#00B5F7",
           "#0DF9FF",
           "#F6F926",
           "#00FE35",
           "#FF9616",
           "#6A76FC",
           "#B68E00",
           "#6A76FC",
           "#DC587D",
           "#EEA6FB",
           "#FE00CE",
           "#6A76FC",
           "#00FE35",
           "#EEA6FB",
           "#D626FF",
           "#6E899C",
           "#FF0092",
           "#DC587D",
           "#FF9616",
           "#0DF9FF",
           "#FED4C4",
           "#FED4C4",
           "#6E899C",
           "#EEA6FB",
           "#EEA6FB",
           "#FED4C4",
           "#00B5F7",
           "#B68E00",
           "#FED4C4",
           "#F6F926",
           "#6E899C",
           "#479B55",
           "#F6F926",
           "#FF0092",
           "#F6F926",
           "#FED4C4",
           "#00FE35",
           "#B68E00",
           "#FF9616",
           "#6A76FC",
           "#D626FF",
           "#B68E00",
           "#6A76FC",
           "#FED4C4",
           "#FED4C4",
           "#FED4C4",
           "#FED4C4",
           "#FF9616",
           "#EEA6FB",
           "#6A76FC",
           "#FED4C4",
           "#00B5F7",
           "#F6F926",
           "#D626FF",
           "#00B5F7",
           "#DC587D",
           "#00B5F7",
           "#6A76FC",
           "#6E899C",
           "#FF9616",
           "#FED4C4",
           "#00FE35",
           "#00B5F7",
           "#0DF9FF",
           "#0DF9FF",
           "#00FE35",
           "#FD3216",
           "#6A76FC",
           "#00FE35",
           "#00FE35",
           "#FED4C4",
           "#EEA6FB",
           "#FED4C4",
           "#00FE35",
           "#FED4C4",
           "#FF0092",
           "#00B5F7"
          ]
         },
         "mode": "markers",
         "text": [
          "Drama|370",
          "Comedy|195",
          "Comedy,Drama|139",
          "Drama,Romance|132",
          "Comedy,Drama,Romance|116",
          "Comedy,Romance|85",
          "Horror|77",
          "Drama,Thriller|74",
          "Horror,Thriller|69",
          "Action,Crime,Drama|67",
          "Adventure,Animation,Comedy|65",
          "Documentary|64",
          "Crime,Drama,Thriller|62",
          "Thriller|53",
          "Action,Crime,Thriller|49",
          "Action,Adventure,Sci-Fi|41",
          "Action,Comedy,Crime|41",
          "Action,Adventure,Drama|36",
          "Action|36",
          "Crime,Drama|35",
          "Crime,Drama,Mystery|30",
          "Biography,Drama,History|30",
          "Biography,Drama|30",
          "Action,Adventure,Comedy|28",
          "Action,Thriller|28",
          "Horror,Mystery,Thriller|28",
          "Comedy,Horror|27",
          "Comedy,Crime,Drama|26",
          "Action,Adventure,Fantasy|25",
          "Crime,Thriller|22",
          "Family|22",
          "Action,Adventure,Animation|22",
          "Action,Horror,Sci-Fi|20",
          "Biography,Drama,Romance|20",
          "Action,Comedy|19",
          "Action,Drama|19",
          "Drama,Mystery,Thriller|19",
          "Action,Drama,History|19",
          "Action,Drama,Thriller|18",
          "Action,Sci-Fi,Thriller|18",
          "Drama,Horror,Thriller|16",
          "Action,Biography,Drama|15",
          "Action,Comedy,Horror|15",
          "Horror,Sci-Fi,Thriller|15",
          "Adventure,Family,Fantasy|15",
          "Drama,Family|14",
          "Adventure,Comedy,Drama|14",
          "Drama,War|14",
          "Adventure,Comedy,Family|14",
          "Mystery,Thriller|14",
          "Comedy,Crime|14",
          "Biography,Comedy,Drama|14",
          "Drama,Romance,Thriller|12",
          "Comedy,Drama,Fantasy|12",
          "Drama,Horror,Mystery|12",
          "Drama,Fantasy,Horror|12",
          "Adventure,Animation,Family|12",
          "Crime,Mystery,Thriller|12",
          "Adventure,Family|12",
          "Horror,Mystery|12",
          "Action,Adventure|12",
          "Drama,History,War|12",
          "Action,Adventure,Crime|11",
          "Comedy,Family|11",
          "Crime|11",
          "Drama,History|11",
          "Drama,Mystery,Romance|11",
          "Action,Horror|11",
          "Drama,Mystery|11",
          "Action,Adventure,Thriller|11",
          "Adventure,Comedy|10",
          "Biography,Crime,Drama|10",
          "Comedy,Drama,Music|10",
          "Adventure,Drama,Family|10",
          "Horror,Sci-Fi|10",
          "Drama,Music|10",
          "Comedy,Horror,Sci-Fi|9",
          "Documentary,Music|8",
          "Sci-Fi,Thriller|8",
          "Biography,Drama,Music|8",
          "Drama,Sci-Fi|8",
          "Drama,History,Romance|8",
          "Comedy,Drama,Family|8",
          "Adventure,Drama,Fantasy|8",
          "Animation,Comedy,Family|8",
          "Drama,Horror|7",
          "Comedy,Fantasy,Horror|7",
          "Crime,Drama,Romance|7",
          "Comedy,Crime,Thriller|7",
          "Biography,Drama,Thriller|7",
          "Drama,Horror,Sci-Fi|7",
          "Adventure,Fantasy|7",
          "Adventure|7",
          "Drama,Fantasy|7",
          "Action,Crime,Mystery|7",
          "Drama,Sport|7",
          "Action,Fantasy,Horror|7",
          "Crime,Horror,Thriller|7",
          "Action,Sci-Fi|7",
          "Animation,Family|7",
          "Drama,Sci-Fi,Thriller|6",
          "Comedy,Thriller|6",
          "Action,Comedy,Fantasy|6",
          "Action,Adventure,Family|6",
          "Comedy,Fantasy|6",
          "Comedy,Horror,Romance|6",
          "Drama,Mystery,Sci-Fi|6",
          "Action,Comedy,Sci-Fi|6",
          "Western|6",
          "Action,Comedy,Drama|6",
          "Drama,Fantasy,Romance|6",
          "Action,Adventure,Mystery|5",
          "Sci-Fi|5",
          "Biography,Drama,Sport|5",
          "Crime,Documentary|5",
          "Adventure,Drama,History|5",
          "Action,Animation,Sci-Fi|5",
          "Documentary,Drama|5",
          "Action,Crime|5",
          "Fantasy,Horror,Mystery|5",
          "Biography,Documentary,Music|5",
          "Action,Horror,Thriller|5",
          "Drama,Western|5",
          "Crime,Drama,Horror|5",
          "Romance|5",
          "Biography,Documentary|5",
          "Comedy,Drama,Musical|5",
          "Drama,Romance,War|5",
          "Comedy,Drama,History|5",
          "Adventure,Animation,Drama|5",
          "Action,Comedy,Thriller|4",
          "Action,Drama,Sci-Fi|4",
          "Fantasy|4",
          "Comedy,Drama,Mystery|4",
          "Comedy,Drama,Sport|4",
          "Comedy,Sci-Fi|4",
          "Comedy,Music|4",
          "Action,Horror,Mystery|4",
          "Comedy,Family,Fantasy|4",
          "Biography,Drama,War|4",
          "Action,Fantasy,Sci-Fi|4",
          "Fantasy,Horror|4",
          "Fantasy,Horror,Thriller|4",
          "Action,Drama,Fantasy|4",
          "Drama,Fantasy,Mystery|4",
          "Mystery,Sci-Fi,Thriller|4",
          "Adventure,Fantasy,Mystery|4",
          "Action,Mystery,Thriller|4",
          "Drama,Romance,Sci-Fi|4",
          "Comedy,Mystery|4",
          "Drama,Horror,Romance|4",
          "Adventure,Biography,Drama|4",
          "Action,Comedy,Romance|4",
          "Comedy,Horror,Thriller|4",
          "Action,Crime,Sci-Fi|4",
          "Animation,Comedy|3",
          "Action,Adventure,Biography|3",
          "Comedy,Romance,Sport|3",
          "Action,Drama,Sport|3",
          "Adventure,Drama,Thriller|3",
          "Drama,History,Thriller|3",
          "War|3",
          "Romance,Thriller|3",
          "Animation,Comedy,Drama|3",
          "Animation,Drama,Family|3",
          "Action,Comedy,Family|3",
          "Adventure,Comedy,Crime|3",
          "Adventure,Drama,Romance|3",
          "Action,Fantasy|3",
          "Comedy,Family,Romance|3",
          "Action,Biography,Crime|3",
          "Crime,Drama,History|3",
          "Action,Fantasy,Thriller|3",
          "Action,Drama,Romance|3",
          "Drama,Thriller,War|3",
          "Action,Animation,Horror|3",
          "Comedy,Horror,Mystery|3",
          "Comedy,Western|3",
          "Action,Drama,Mystery|3",
          "Animation,Family,Fantasy|3",
          "Comedy,Fantasy,Romance|3",
          "Mystery,Romance,Thriller|3",
          "Documentary,Sport|3",
          "Animation|3",
          "Action,Drama,War|3",
          "Adventure,Drama,Sci-Fi|3",
          "Drama,Fantasy,Sci-Fi|3",
          "Adventure,Horror|3",
          "Biography,Documentary,Drama|3",
          "Adventure,Comedy,Fantasy|3",
          "Action,Adventure,Romance|2",
          "Documentary,News|2",
          "Action,Drama,Horror|2",
          "Action,Mystery,Sci-Fi|2",
          "Horror,Romance,Thriller|2",
          "Action,Comedy,Sport|2",
          "Crime,Drama,War|2",
          "Horror,Mystery,Sci-Fi|2",
          "Comedy,Music,Musical|2",
          "Fantasy,Romance|2",
          "Action,Animation,Comedy|2",
          "Adventure,Comedy,Horror|2",
          "Romance,Sci-Fi,Thriller|2",
          "Action,Animation,Fantasy|2",
          "Thriller,Western|2",
          "Adventure,Drama|2",
          "Comedy,Drama,Horror|2",
          "Biography,Documentary,Sport|2",
          "Comedy,Horror,Music|2",
          "Animation,Drama,Fantasy|2",
          "Action,Romance|2",
          "Adventure,Family,Sci-Fi|2",
          "Comedy,Sport|2",
          "Action,Animation,Crime|2",
          "Action,Romance,Thriller|2",
          "Crime,Horror,Mystery|2",
          "Action,Adventure,Documentary|2",
          "Drama,Music,Romance|2",
          "Animation,Drama|2",
          "Drama,Musical,Romance|2",
          "Comedy,War|2",
          "Documentary,History|2",
          "Action,Adventure,Horror|2",
          "Comedy,Drama,War|2",
          "Adventure,Drama,Western|2",
          "Horror,Romance|2",
          "Action,Drama,Family|2",
          "Action,Fantasy,Romance|2",
          "Comedy,Crime,Mystery|2",
          "Animation,Sci-Fi|2",
          "Adventure,Animation|2",
          "Action,Animation,Drama|2",
          "Adventure,Documentary,Sport|2",
          "Adventure,Mystery,Sci-Fi|2",
          "Adventure,History|2",
          "Action,History|2",
          "Action,Crime,Romance|2",
          "Action,Adventure,History|2",
          "Drama,Fantasy,Musical|2",
          "Action,Crime,Fantasy|2",
          "Animation,Comedy,Crime|2",
          "Action,Drama,Western|2",
          "Adventure,Biography,Comedy|2",
          "Animation,Drama,Sci-Fi|2",
          "Action,Adventure,Western|2",
          "Adventure,Fantasy,Musical|1",
          "Adventure,Sci-Fi,Thriller|1",
          "Comedy,Family,Music|1",
          "Adventure,Romance|1",
          "Adventure,Crime,Family|1",
          "Action,Thriller,Western|1",
          "Adventure,Sci-Fi|1",
          "Fantasy,Mystery,Romance|1",
          "Adventure,Animation,Fantasy|1",
          "Animation,Drama,Thriller|1",
          "Adventure,Horror,Sci-Fi|1",
          "Family,Mystery|1",
          "Biography,Comedy|1",
          "Action,Mystery|1",
          "Comedy,Musical|1",
          "Adventure,Biography|1",
          "Mystery,Western|1",
          "Adventure,History,Romance|1",
          "Crime,Horror,Romance|1",
          "Action,Crime,Horror|1",
          "Adventure,Drama,Horror|1",
          "Animation,Family,Musical|1",
          "Comedy,Crime,Romance|1",
          "Documentary,History,Music|1",
          "Comedy,Crime,Horror|1",
          "Biography,Documentary,Family|1",
          "Action,History,Thriller|1",
          "Drama,Family,Mystery|1",
          "Comedy,Drama,Sci-Fi|1",
          "Documentary,Family,History|1",
          "Comedy,Horror,Musical|1",
          "Adventure,Drama,Sport|1",
          "Drama,Family,Sci-Fi|1",
          "Biography,Drama,Fantasy|1",
          "Animation,Drama,Romance|1",
          "Crime,Mystery|1",
          "Fantasy,Mystery,Thriller|1",
          "Drama,Mystery,War|1",
          "Drama,History,Horror|1",
          "Crime,Drama,Sci-Fi|1",
          "Mystery,Romance,Sci-Fi|1",
          "Adventure,Comedy,Sci-Fi|1",
          "Music|1",
          "Action,Comedy,Western|1",
          "Animation,Mystery,Thriller|1",
          "Adventure,Thriller|1",
          "Action,War|1",
          "Adventure,Crime,Drama|1",
          "Drama,Fantasy,Music|1",
          "Comedy,Crime,Family|1",
          "Documentary,Mystery|1",
          "Crime,Documentary,Drama|1",
          "Animation,Biography,Drama|1",
          "Adventure,Biography,History|1",
          "Biography,History|1",
          "Documentary,History,War|1",
          "Drama,Fantasy,Thriller|1",
          "Action,Fantasy,Western|1",
          "Documentary,Drama,Family|1",
          "Comedy,Documentary,Drama|1",
          "Adventure,Crime,Thriller|1",
          "Drama,Family,Music|1",
          "Drama,Family,Fantasy|1",
          "Family,Fantasy|1",
          "Adventure,Documentary,Drama|1",
          "Documentary,Thriller|1",
          "Crime,Drama,Fantasy|1",
          "Drama,Family,History|1",
          "Fantasy,Horror,Sci-Fi|1",
          "Crime,Mystery,Romance|1",
          "Family,Fantasy,Musical|1",
          "Drama,History,Sport|1",
          "Action,Horror,Romance|1",
          "Adventure,Animation,Sci-Fi|1",
          "Comedy,Musical,Sci-Fi|1",
          "Action,Biography,Documentary|1",
          "Documentary,History,Sport|1",
          "Drama,Family,Romance|1",
          "Biography,Drama,Musical|1",
          "Animation,Comedy,Fantasy|1",
          "Animation,Biography,Documentary|1",
          "Adventure,Biography,Crime|1",
          "Comedy,Drama,Thriller|1",
          "Drama,Musical|1",
          "Musical|1",
          "Adventure,Comedy,Western|1",
          "Comedy,Fantasy,Sci-Fi|1",
          "Crime,Romance,Thriller|1",
          "Horror,War|1",
          "Crime,Sci-Fi,Thriller|1",
          "Animation,Documentary|1",
          "Drama,Music,Thriller|1",
          "Comedy,Fantasy,Thriller|1",
          "Biography|1",
          "Comedy,Family,Sport|1",
          "Thriller,War|1",
          "Action,Comedy,Music|1",
          "Music,Mystery,Thriller|1",
          "Comedy,Romance,Western|1",
          "Comedy,Musical,Romance|1",
          "Crime,Documentary,History|1",
          "Drama,Thriller,Western|1",
          "Biography,Comedy,Crime|1",
          "Comedy,Romance,Sci-Fi|1",
          "Documentary,War|1",
          "Romance,War|1",
          "Action,Comedy,Documentary|1"
         ],
         "type": "scatter",
         "x": [
          16.044099807739258,
          16.6460018157959,
          16.305524826049805,
          16.440217971801758,
          16.235015869140625,
          17.180713653564453,
          15.56906795501709,
          14.742819786071777,
          14.314430236816406,
          13.537014961242676,
          15.841741561889648,
          10.172078132629395,
          14.57101058959961,
          14.597522735595703,
          13.196087837219238,
          12.644612312316895,
          14.454729080200195,
          12.39765739440918,
          14.98996639251709,
          16.00990104675293,
          12.957056045532227,
          11.922165870666504,
          12.844949722290039,
          14.265645980834961,
          13.366275787353516,
          14.377161026000977,
          15.475605964660645,
          14.767290115356445,
          12.940677642822266,
          15.347060203552246,
          15.856148719787598,
          15.495889663696289,
          12.210254669189453,
          13.159279823303223,
          14.750065803527832,
          12.972307205200195,
          13.696365356445312,
          12.358055114746094,
          13.119495391845703,
          12.597772598266602,
          16.73151397705078,
          12.43651294708252,
          15.452329635620117,
          12.350671768188477,
          15.116534233093262,
          16.731998443603516,
          14.457375526428223,
          12.602906227111816,
          15.464251518249512,
          14.611230850219727,
          14.802850723266602,
          13.225147247314453,
          16.76858901977539,
          15.820816040039062,
          13.851353645324707,
          14.341497421264648,
          15.98924732208252,
          12.860976219177246,
          15.261087417602539,
          14.051801681518555,
          12.670730590820312,
          11.638286590576172,
          12.576518058776855,
          16.25841522216797,
          15.456074714660645,
          12.848552703857422,
          14.236141204833984,
          12.545503616333008,
          14.513875007629395,
          12.301386833190918,
          14.992262840270996,
          12.99757194519043,
          13.232510566711426,
          16.676414489746094,
          15.027253150939941,
          16.537939071655273,
          15.191740036010742,
          10.467018127441406,
          14.963485717773438,
          16.395225524902344,
          12.79827880859375,
          12.861980438232422,
          16.778656005859375,
          16.261972427368164,
          15.827553749084473,
          16.520126342773438,
          14.00395393371582,
          16.631065368652344,
          14.657506942749023,
          11.71533489227295,
          14.295795440673828,
          12.08664608001709,
          12.631345748901367,
          16.05056381225586,
          12.508615493774414,
          16.811145782470703,
          13.497570037841797,
          14.359172821044922,
          11.778528213500977,
          15.770448684692383,
          14.520331382751465,
          14.661542892456055,
          14.381360054016113,
          14.615943908691406,
          16.41353988647461,
          17.31006622314453,
          12.785752296447754,
          14.160063743591309,
          13.563586235046387,
          15.77734661102295,
          16.050519943237305,
          12.154151916503906,
          11.827860832214355,
          12.777151107788086,
          10.07003402709961,
          12.208833694458008,
          12.686994552612305,
          10.51535415649414,
          15.74011516571045,
          14.292613983154297,
          10.549054145812988,
          13.645886421203613,
          12.207012176513672,
          14.631178855895996,
          16.675914764404297,
          10.320176124572754,
          16.914968490600586,
          16.0658016204834,
          12.234491348266602,
          14.53805923461914,
          12.651909828186035,
          12.497453689575195,
          16.32244873046875,
          14.49049186706543,
          16.40003204345703,
          16.14212417602539,
          16.407888412475586,
          13.075448036193848,
          16.0690860748291,
          12.173069953918457,
          12.55384349822998,
          15.440698623657227,
          14.495864868164062,
          15.293999671936035,
          13.100809097290039,
          14.280692100524902,
          13.345779418945312,
          12.419857025146484,
          16.138025283813477,
          14.87287425994873,
          16.88031005859375,
          11.834238052368164,
          14.903875350952148,
          15.585990905761719,
          13.073943138122559,
          16.58254051208496,
          11.039056777954102,
          15.116961479187012,
          16.865272521972656,
          15.567559242248535,
          11.494050025939941,
          12.250636100769043,
          15.147652626037598,
          12.584529876708984,
          14.525397300720215,
          15.873634338378906,
          16.494029998779297,
          15.677226066589355,
          12.638425827026367,
          16.90497589111328,
          15.216882705688477,
          13.468092918395996,
          14.4132719039917,
          16.09543228149414,
          12.134858131408691,
          12.620088577270508,
          13.336272239685059,
          13.951388359069824,
          13.179529190063477,
          15.594359397888184,
          16.112791061401367,
          13.02940559387207,
          10.499931335449219,
          15.49023723602295,
          12.28788948059082,
          11.9036865234375,
          15.976357460021973,
          12.479676246643066,
          10.416388511657715,
          16.02617073059082,
          13.631208419799805,
          10.292677879333496,
          14.354146957397461,
          14.357118606567383,
          16.256977081298828,
          13.244617462158203,
          12.622807502746582,
          12.294482231140137,
          16.29337501525879,
          16.899690628051758,
          13.799309730529785,
          16.018234252929688,
          12.569201469421387,
          16.005029678344727,
          12.622650146484375,
          11.655498504638672,
          13.39904499053955,
          10.669188499450684,
          16.360641479492188,
          15.64612865447998,
          16.262937545776367,
          15.36970043182373,
          15.941885948181152,
          13.135122299194336,
          16.612428665161133,
          14.431137084960938,
          10.588470458984375,
          15.513309478759766,
          15.943840026855469,
          13.279598236083984,
          11.51809024810791,
          9.894964218139648,
          13.957393646240234,
          11.586921691894531,
          12.169130325317383,
          13.94051456451416,
          15.791666984558105,
          15.896695137023926,
          12.651778221130371,
          12.272911071777344,
          15.656793594360352,
          16.093881607055664,
          10.58273983001709,
          12.810559272766113,
          12.593658447265625,
          13.053009986877441,
          12.78230094909668,
          11.88387393951416,
          16.758668899536133,
          13.345897674560547,
          14.96901798248291,
          16.53859519958496,
          16.017980575561523,
          13.114734649658203,
          13.073816299438477,
          13.949140548706055,
          12.926360130310059,
          16.527490615844727,
          16.98797035217285,
          16.289737701416016,
          13.304242134094238,
          12.809015274047852,
          12.156359672546387,
          15.721562385559082,
          15.966561317443848,
          15.268717765808105,
          16.345046997070312,
          12.496918678283691,
          12.583576202392578,
          15.886152267456055,
          12.022504806518555,
          12.858438491821289,
          12.421817779541016,
          16.32123374938965,
          15.467571258544922,
          15.915410995483398,
          15.961159706115723,
          14.685346603393555,
          9.774666786193848,
          16.836048126220703,
          15.834443092346191,
          12.426738739013672,
          16.437999725341797,
          13.18237018585205,
          10.300341606140137,
          15.608392715454102,
          17.052257537841797,
          12.913955688476562,
          17.100414276123047,
          16.13724136352539,
          12.546063423156738,
          15.67052936553955,
          12.501557350158691,
          16.167512893676758,
          12.81717300415039,
          15.15379524230957,
          13.189690589904785,
          17.22166633605957,
          13.16634750366211,
          13.49864387512207,
          12.151922225952148,
          11.784100532531738,
          15.802713394165039,
          16.279850006103516,
          16.470256805419922,
          9.712316513061523,
          9.962212562561035,
          12.797761917114258,
          12.87376880645752,
          11.654480934143066,
          9.814057350158691,
          15.904093742370605,
          15.00036334991455,
          9.707498550415039,
          13.593835830688477,
          12.398066520690918,
          15.016124725341797,
          13.264507293701172,
          12.306445121765137,
          12.875399589538574,
          10.191028594970703,
          16.843900680541992,
          15.378023147583008,
          16.451059341430664,
          12.837766647338867,
          14.077347755432129,
          14.899398803710938,
          12.416849136352539,
          10.724444389343262,
          10.424271583557129,
          11.46420669555664,
          10.461895942687988,
          16.778268814086914,
          12.097899436950684,
          12.40560245513916,
          10.823258399963379,
          16.61419677734375,
          13.494877815246582,
          13.07064437866211,
          15.201042175292969,
          16.215805053710938,
          15.869790077209473,
          12.684147834777832,
          12.418464660644531,
          16.700286865234375,
          9.783364295959473,
          17.289194107055664,
          15.74974536895752,
          16.2522029876709,
          16.70485496520996,
          16.94837188720703,
          12.504003524780273,
          12.725317001342773,
          17.18378257751465,
          17.264217376708984,
          9.762686729431152,
          12.863911628723145,
          10.515922546386719,
          16.667484283447266,
          10.67915153503418,
          12.231719017028809,
          16.2752742767334
         ],
         "y": [
          10.279420852661133,
          8.25809383392334,
          10.045066833496094,
          10.544500350952148,
          10.75766658782959,
          9.709924697875977,
          8.919929504394531,
          11.213638305664062,
          10.68686294555664,
          10.722417831420898,
          7.576272487640381,
          8.954895973205566,
          10.760786056518555,
          10.441017150878906,
          10.852495193481445,
          10.455821990966797,
          9.792420387268066,
          8.186700820922852,
          9.404195785522461,
          9.719096183776855,
          12.020635604858398,
          9.525252342224121,
          9.77542781829834,
          8.909443855285645,
          10.959281921386719,
          11.04732894897461,
          8.297944068908691,
          9.622206687927246,
          8.158203125,
          10.291617393493652,
          7.776687145233154,
          7.450516700744629,
          10.93116283416748,
          9.739087104797363,
          8.741083145141602,
          8.37767219543457,
          11.933067321777344,
          8.488411903381348,
          10.791991233825684,
          10.858901023864746,
          9.960369110107422,
          9.191450119018555,
          8.8386869430542,
          10.942359924316406,
          9.333099365234375,
          8.526371955871582,
          9.087575912475586,
          10.069576263427734,
          7.821221828460693,
          11.278397560119629,
          8.568305015563965,
          9.753938674926758,
          10.084100723266602,
          10.13092041015625,
          11.554481506347656,
          11.421249389648438,
          7.912121772766113,
          11.723400115966797,
          8.22773551940918,
          11.027928352355957,
          8.137497901916504,
          10.221277236938477,
          11.795137405395508,
          7.7764153480529785,
          10.193059921264648,
          8.502829551696777,
          11.55263614654541,
          10.939383506774902,
          11.388553619384766,
          11.620957374572754,
          8.436448097229004,
          9.95028018951416,
          9.816317558288574,
          8.379057884216309,
          8.323583602905273,
          8.954469680786133,
          8.1326904296875,
          8.924771308898926,
          10.042623519897461,
          10.480076789855957,
          10.190600395202637,
          9.627645492553711,
          9.162168502807617,
          10.04819107055664,
          7.751457214355469,
          10.707196235656738,
          9.17368221282959,
          10.088680267333984,
          9.16918659210205,
          10.528131484985352,
          11.0152006149292,
          8.123230934143066,
          8.032512664794922,
          9.168462753295898,
          11.911623001098633,
          8.502552032470703,
          10.747379302978516,
          10.71499252319336,
          10.886824607849121,
          7.602966785430908,
          10.918261528015137,
          10.084983825683594,
          9.00427532196045,
          8.705296516418457,
          7.719381809234619,
          9.34747314453125,
          10.2795991897583,
          9.69530963897705,
          8.878954887390137,
          9.663783073425293,
          10.785287857055664,
          10.927178382873535,
          10.592262268066406,
          8.726908683776855,
          8.755969047546387,
          8.509807586669922,
          9.009204864501953,
          8.87195110321045,
          9.90021800994873,
          11.200435638427734,
          8.576128005981445,
          10.699688911437988,
          11.884342193603516,
          11.134356498718262,
          9.261252403259277,
          8.71846866607666,
          10.312081336975098,
          9.615045547485352,
          8.099979400634766,
          9.416855812072754,
          11.4868803024292,
          11.376289367675781,
          8.725279808044434,
          9.627297401428223,
          8.341036796569824,
          7.464083194732666,
          7.763321876525879,
          10.952656745910645,
          7.9898481369018555,
          8.740479469299316,
          8.398902893066406,
          8.788459777832031,
          11.111329078674316,
          9.742838859558105,
          9.285551071166992,
          10.995798110961914,
          8.476588249206543,
          12.224143028259277,
          10.89086627960205,
          8.641119956970215,
          9.724541664123535,
          9.669413566589355,
          11.411008834838867,
          9.314983367919922,
          10.657548904418945,
          7.873388767242432,
          9.289688110351562,
          11.17768383026123,
          8.709261894226074,
          9.464097023010254,
          10.68427848815918,
          10.723530769348145,
          10.505171775817871,
          9.244743347167969,
          9.1633882522583,
          9.736618995666504,
          7.630393028259277,
          9.946442604064941,
          7.941195011138916,
          9.383452415466309,
          8.826607704162598,
          10.568626403808594,
          10.572739601135254,
          9.347479820251465,
          8.754342079162598,
          10.617807388305664,
          11.513033866882324,
          8.800040245056152,
          9.981305122375488,
          7.540363311767578,
          10.579737663269043,
          11.822083473205566,
          9.039734840393066,
          7.376652717590332,
          9.177726745605469,
          10.037516593933105,
          10.210869789123535,
          7.911957740783691,
          8.51925277709961,
          7.467044830322266,
          8.446446418762207,
          9.011786460876465,
          10.193941116333008,
          10.630435943603516,
          9.405012130737305,
          11.240670204162598,
          8.179238319396973,
          10.700776100158691,
          7.40565824508667,
          10.262127876281738,
          9.254164695739746,
          7.495453357696533,
          11.740555763244629,
          8.955471992492676,
          11.8772554397583,
          10.108399391174316,
          9.651044845581055,
          8.791467666625977,
          8.136747360229492,
          8.517848014831543,
          9.343219757080078,
          7.967508316040039,
          7.720178604125977,
          8.383513450622559,
          10.36419677734375,
          10.871138572692871,
          9.088237762451172,
          8.395122528076172,
          8.574300765991211,
          8.802074432373047,
          10.095006942749023,
          9.041291236877441,
          10.448712348937988,
          10.753928184509277,
          11.76181697845459,
          10.732606887817383,
          7.802432537078857,
          9.027538299560547,
          12.305530548095703,
          9.397668838500977,
          7.7060112953186035,
          9.026568412780762,
          9.131474494934082,
          10.995352745056152,
          8.053854942321777,
          8.059091567993164,
          12.241216659545898,
          8.395306587219238,
          9.872048377990723,
          10.749913215637207,
          7.396194934844971,
          10.452512741088867,
          7.8157806396484375,
          9.571857452392578,
          8.81037425994873,
          8.49199390411377,
          10.502019882202148,
          8.130034446716309,
          8.614757537841797,
          8.605220794677734,
          11.585376739501953,
          9.043771743774414,
          8.245588302612305,
          9.344721794128418,
          10.05472469329834,
          8.293697357177734,
          9.916505813598633,
          12.325263977050781,
          11.773231506347656,
          9.611848831176758,
          9.74755859375,
          8.453714370727539,
          12.401761054992676,
          10.962342262268066,
          10.21857738494873,
          7.989854335784912,
          8.248735427856445,
          8.461444854736328,
          8.964587211608887,
          9.051396369934082,
          10.863081932067871,
          8.281941413879395,
          10.255614280700684,
          12.254000663757324,
          8.8368558883667,
          7.915040969848633,
          8.939651489257812,
          9.897692680358887,
          9.595938682556152,
          10.861101150512695,
          12.40876579284668,
          8.982024192810059,
          11.772294044494629,
          9.49050521850586,
          7.858293056488037,
          9.966111183166504,
          12.132621765136719,
          9.026487350463867,
          8.312573432922363,
          9.229269027709961,
          10.734817504882812,
          10.670408248901367,
          9.40274429321289,
          10.692861557006836,
          7.967301368713379,
          9.01411247253418,
          8.815277099609375,
          10.25465202331543,
          7.965606212615967,
          8.384598731994629,
          8.959506034851074,
          8.2048978805542,
          8.999001502990723,
          8.874933242797852,
          10.067706108093262,
          10.870844841003418,
          11.10495662689209,
          9.786230087280273,
          9.718744277954102,
          9.747519493103027,
          9.027762413024902,
          9.437406539916992,
          8.466191291809082,
          9.925436973571777,
          12.42191219329834,
          9.230704307556152,
          8.0090970993042,
          12.375772476196289,
          9.13052749633789,
          8.54784107208252,
          9.04792308807373,
          8.713419914245605,
          10.38118839263916,
          8.221170425415039,
          12.19223403930664,
          8.656529426574707,
          7.321390628814697,
          9.877047538757324,
          8.334708213806152,
          7.675657272338867,
          9.301180839538574,
          7.439239978790283,
          12.468253135681152,
          11.256366729736328,
          10.275598526000977,
          8.926642417907715,
          9.162169456481934,
          7.653219699859619,
          8.308377265930176,
          8.148890495300293,
          9.566972732543945,
          8.66006851196289,
          12.503396034240723,
          9.354424476623535,
          9.690048217773438,
          8.970962524414062,
          8.353182792663574,
          8.371135711669922,
          9.190751075744629,
          9.186763763427734,
          11.551480293273926,
          7.580983638763428
         ]
        }
       ],
       "layout": {
        "template": {
         "data": {
          "bar": [
           {
            "error_x": {
             "color": "#2a3f5f"
            },
            "error_y": {
             "color": "#2a3f5f"
            },
            "marker": {
             "line": {
              "color": "#E5ECF6",
              "width": 0.5
             }
            },
            "type": "bar"
           }
          ],
          "barpolar": [
           {
            "marker": {
             "line": {
              "color": "#E5ECF6",
              "width": 0.5
             }
            },
            "type": "barpolar"
           }
          ],
          "carpet": [
           {
            "aaxis": {
             "endlinecolor": "#2a3f5f",
             "gridcolor": "white",
             "linecolor": "white",
             "minorgridcolor": "white",
             "startlinecolor": "#2a3f5f"
            },
            "baxis": {
             "endlinecolor": "#2a3f5f",
             "gridcolor": "white",
             "linecolor": "white",
             "minorgridcolor": "white",
             "startlinecolor": "#2a3f5f"
            },
            "type": "carpet"
           }
          ],
          "choropleth": [
           {
            "colorbar": {
             "outlinewidth": 0,
             "ticks": ""
            },
            "type": "choropleth"
           }
          ],
          "contour": [
           {
            "colorbar": {
             "outlinewidth": 0,
             "ticks": ""
            },
            "colorscale": [
             [
              0,
              "#0d0887"
             ],
             [
              0.1111111111111111,
              "#46039f"
             ],
             [
              0.2222222222222222,
              "#7201a8"
             ],
             [
              0.3333333333333333,
              "#9c179e"
             ],
             [
              0.4444444444444444,
              "#bd3786"
             ],
             [
              0.5555555555555556,
              "#d8576b"
             ],
             [
              0.6666666666666666,
              "#ed7953"
             ],
             [
              0.7777777777777778,
              "#fb9f3a"
             ],
             [
              0.8888888888888888,
              "#fdca26"
             ],
             [
              1,
              "#f0f921"
             ]
            ],
            "type": "contour"
           }
          ],
          "contourcarpet": [
           {
            "colorbar": {
             "outlinewidth": 0,
             "ticks": ""
            },
            "type": "contourcarpet"
           }
          ],
          "heatmap": [
           {
            "colorbar": {
             "outlinewidth": 0,
             "ticks": ""
            },
            "colorscale": [
             [
              0,
              "#0d0887"
             ],
             [
              0.1111111111111111,
              "#46039f"
             ],
             [
              0.2222222222222222,
              "#7201a8"
             ],
             [
              0.3333333333333333,
              "#9c179e"
             ],
             [
              0.4444444444444444,
              "#bd3786"
             ],
             [
              0.5555555555555556,
              "#d8576b"
             ],
             [
              0.6666666666666666,
              "#ed7953"
             ],
             [
              0.7777777777777778,
              "#fb9f3a"
             ],
             [
              0.8888888888888888,
              "#fdca26"
             ],
             [
              1,
              "#f0f921"
             ]
            ],
            "type": "heatmap"
           }
          ],
          "heatmapgl": [
           {
            "colorbar": {
             "outlinewidth": 0,
             "ticks": ""
            },
            "colorscale": [
             [
              0,
              "#0d0887"
             ],
             [
              0.1111111111111111,
              "#46039f"
             ],
             [
              0.2222222222222222,
              "#7201a8"
             ],
             [
              0.3333333333333333,
              "#9c179e"
             ],
             [
              0.4444444444444444,
              "#bd3786"
             ],
             [
              0.5555555555555556,
              "#d8576b"
             ],
             [
              0.6666666666666666,
              "#ed7953"
             ],
             [
              0.7777777777777778,
              "#fb9f3a"
             ],
             [
              0.8888888888888888,
              "#fdca26"
             ],
             [
              1,
              "#f0f921"
             ]
            ],
            "type": "heatmapgl"
           }
          ],
          "histogram": [
           {
            "marker": {
             "colorbar": {
              "outlinewidth": 0,
              "ticks": ""
             }
            },
            "type": "histogram"
           }
          ],
          "histogram2d": [
           {
            "colorbar": {
             "outlinewidth": 0,
             "ticks": ""
            },
            "colorscale": [
             [
              0,
              "#0d0887"
             ],
             [
              0.1111111111111111,
              "#46039f"
             ],
             [
              0.2222222222222222,
              "#7201a8"
             ],
             [
              0.3333333333333333,
              "#9c179e"
             ],
             [
              0.4444444444444444,
              "#bd3786"
             ],
             [
              0.5555555555555556,
              "#d8576b"
             ],
             [
              0.6666666666666666,
              "#ed7953"
             ],
             [
              0.7777777777777778,
              "#fb9f3a"
             ],
             [
              0.8888888888888888,
              "#fdca26"
             ],
             [
              1,
              "#f0f921"
             ]
            ],
            "type": "histogram2d"
           }
          ],
          "histogram2dcontour": [
           {
            "colorbar": {
             "outlinewidth": 0,
             "ticks": ""
            },
            "colorscale": [
             [
              0,
              "#0d0887"
             ],
             [
              0.1111111111111111,
              "#46039f"
             ],
             [
              0.2222222222222222,
              "#7201a8"
             ],
             [
              0.3333333333333333,
              "#9c179e"
             ],
             [
              0.4444444444444444,
              "#bd3786"
             ],
             [
              0.5555555555555556,
              "#d8576b"
             ],
             [
              0.6666666666666666,
              "#ed7953"
             ],
             [
              0.7777777777777778,
              "#fb9f3a"
             ],
             [
              0.8888888888888888,
              "#fdca26"
             ],
             [
              1,
              "#f0f921"
             ]
            ],
            "type": "histogram2dcontour"
           }
          ],
          "mesh3d": [
           {
            "colorbar": {
             "outlinewidth": 0,
             "ticks": ""
            },
            "type": "mesh3d"
           }
          ],
          "parcoords": [
           {
            "line": {
             "colorbar": {
              "outlinewidth": 0,
              "ticks": ""
             }
            },
            "type": "parcoords"
           }
          ],
          "pie": [
           {
            "automargin": true,
            "type": "pie"
           }
          ],
          "scatter": [
           {
            "marker": {
             "colorbar": {
              "outlinewidth": 0,
              "ticks": ""
             }
            },
            "type": "scatter"
           }
          ],
          "scatter3d": [
           {
            "line": {
             "colorbar": {
              "outlinewidth": 0,
              "ticks": ""
             }
            },
            "marker": {
             "colorbar": {
              "outlinewidth": 0,
              "ticks": ""
             }
            },
            "type": "scatter3d"
           }
          ],
          "scattercarpet": [
           {
            "marker": {
             "colorbar": {
              "outlinewidth": 0,
              "ticks": ""
             }
            },
            "type": "scattercarpet"
           }
          ],
          "scattergeo": [
           {
            "marker": {
             "colorbar": {
              "outlinewidth": 0,
              "ticks": ""
             }
            },
            "type": "scattergeo"
           }
          ],
          "scattergl": [
           {
            "marker": {
             "colorbar": {
              "outlinewidth": 0,
              "ticks": ""
             }
            },
            "type": "scattergl"
           }
          ],
          "scattermapbox": [
           {
            "marker": {
             "colorbar": {
              "outlinewidth": 0,
              "ticks": ""
             }
            },
            "type": "scattermapbox"
           }
          ],
          "scatterpolar": [
           {
            "marker": {
             "colorbar": {
              "outlinewidth": 0,
              "ticks": ""
             }
            },
            "type": "scatterpolar"
           }
          ],
          "scatterpolargl": [
           {
            "marker": {
             "colorbar": {
              "outlinewidth": 0,
              "ticks": ""
             }
            },
            "type": "scatterpolargl"
           }
          ],
          "scatterternary": [
           {
            "marker": {
             "colorbar": {
              "outlinewidth": 0,
              "ticks": ""
             }
            },
            "type": "scatterternary"
           }
          ],
          "surface": [
           {
            "colorbar": {
             "outlinewidth": 0,
             "ticks": ""
            },
            "colorscale": [
             [
              0,
              "#0d0887"
             ],
             [
              0.1111111111111111,
              "#46039f"
             ],
             [
              0.2222222222222222,
              "#7201a8"
             ],
             [
              0.3333333333333333,
              "#9c179e"
             ],
             [
              0.4444444444444444,
              "#bd3786"
             ],
             [
              0.5555555555555556,
              "#d8576b"
             ],
             [
              0.6666666666666666,
              "#ed7953"
             ],
             [
              0.7777777777777778,
              "#fb9f3a"
             ],
             [
              0.8888888888888888,
              "#fdca26"
             ],
             [
              1,
              "#f0f921"
             ]
            ],
            "type": "surface"
           }
          ],
          "table": [
           {
            "cells": {
             "fill": {
              "color": "#EBF0F8"
             },
             "line": {
              "color": "white"
             }
            },
            "header": {
             "fill": {
              "color": "#C8D4E3"
             },
             "line": {
              "color": "white"
             }
            },
            "type": "table"
           }
          ]
         },
         "layout": {
          "annotationdefaults": {
           "arrowcolor": "#2a3f5f",
           "arrowhead": 0,
           "arrowwidth": 1
          },
          "coloraxis": {
           "colorbar": {
            "outlinewidth": 0,
            "ticks": ""
           }
          },
          "colorscale": {
           "diverging": [
            [
             0,
             "#8e0152"
            ],
            [
             0.1,
             "#c51b7d"
            ],
            [
             0.2,
             "#de77ae"
            ],
            [
             0.3,
             "#f1b6da"
            ],
            [
             0.4,
             "#fde0ef"
            ],
            [
             0.5,
             "#f7f7f7"
            ],
            [
             0.6,
             "#e6f5d0"
            ],
            [
             0.7,
             "#b8e186"
            ],
            [
             0.8,
             "#7fbc41"
            ],
            [
             0.9,
             "#4d9221"
            ],
            [
             1,
             "#276419"
            ]
           ],
           "sequential": [
            [
             0,
             "#0d0887"
            ],
            [
             0.1111111111111111,
             "#46039f"
            ],
            [
             0.2222222222222222,
             "#7201a8"
            ],
            [
             0.3333333333333333,
             "#9c179e"
            ],
            [
             0.4444444444444444,
             "#bd3786"
            ],
            [
             0.5555555555555556,
             "#d8576b"
            ],
            [
             0.6666666666666666,
             "#ed7953"
            ],
            [
             0.7777777777777778,
             "#fb9f3a"
            ],
            [
             0.8888888888888888,
             "#fdca26"
            ],
            [
             1,
             "#f0f921"
            ]
           ],
           "sequentialminus": [
            [
             0,
             "#0d0887"
            ],
            [
             0.1111111111111111,
             "#46039f"
            ],
            [
             0.2222222222222222,
             "#7201a8"
            ],
            [
             0.3333333333333333,
             "#9c179e"
            ],
            [
             0.4444444444444444,
             "#bd3786"
            ],
            [
             0.5555555555555556,
             "#d8576b"
            ],
            [
             0.6666666666666666,
             "#ed7953"
            ],
            [
             0.7777777777777778,
             "#fb9f3a"
            ],
            [
             0.8888888888888888,
             "#fdca26"
            ],
            [
             1,
             "#f0f921"
            ]
           ]
          },
          "colorway": [
           "#636efa",
           "#EF553B",
           "#00cc96",
           "#ab63fa",
           "#FFA15A",
           "#19d3f3",
           "#FF6692",
           "#B6E880",
           "#FF97FF",
           "#FECB52"
          ],
          "font": {
           "color": "#2a3f5f"
          },
          "geo": {
           "bgcolor": "white",
           "lakecolor": "white",
           "landcolor": "#E5ECF6",
           "showlakes": true,
           "showland": true,
           "subunitcolor": "white"
          },
          "hoverlabel": {
           "align": "left"
          },
          "hovermode": "closest",
          "mapbox": {
           "style": "light"
          },
          "paper_bgcolor": "white",
          "plot_bgcolor": "#E5ECF6",
          "polar": {
           "angularaxis": {
            "gridcolor": "white",
            "linecolor": "white",
            "ticks": ""
           },
           "bgcolor": "#E5ECF6",
           "radialaxis": {
            "gridcolor": "white",
            "linecolor": "white",
            "ticks": ""
           }
          },
          "scene": {
           "xaxis": {
            "backgroundcolor": "#E5ECF6",
            "gridcolor": "white",
            "gridwidth": 2,
            "linecolor": "white",
            "showbackground": true,
            "ticks": "",
            "zerolinecolor": "white"
           },
           "yaxis": {
            "backgroundcolor": "#E5ECF6",
            "gridcolor": "white",
            "gridwidth": 2,
            "linecolor": "white",
            "showbackground": true,
            "ticks": "",
            "zerolinecolor": "white"
           },
           "zaxis": {
            "backgroundcolor": "#E5ECF6",
            "gridcolor": "white",
            "gridwidth": 2,
            "linecolor": "white",
            "showbackground": true,
            "ticks": "",
            "zerolinecolor": "white"
           }
          },
          "shapedefaults": {
           "line": {
            "color": "#2a3f5f"
           }
          },
          "ternary": {
           "aaxis": {
            "gridcolor": "white",
            "linecolor": "white",
            "ticks": ""
           },
           "baxis": {
            "gridcolor": "white",
            "linecolor": "white",
            "ticks": ""
           },
           "bgcolor": "#E5ECF6",
           "caxis": {
            "gridcolor": "white",
            "linecolor": "white",
            "ticks": ""
           }
          },
          "title": {
           "x": 0.05
          },
          "xaxis": {
           "automargin": true,
           "gridcolor": "white",
           "linecolor": "white",
           "ticks": "",
           "title": {
            "standoff": 15
           },
           "zerolinecolor": "white",
           "zerolinewidth": 2
          },
          "yaxis": {
           "automargin": true,
           "gridcolor": "white",
           "linecolor": "white",
           "ticks": "",
           "title": {
            "standoff": 15
           },
           "zerolinecolor": "white",
           "zerolinewidth": 2
          }
         }
        }
       }
      },
      "text/html": [
       "<div>\n",
       "        \n",
       "        \n",
       "            <div id=\"38132bce-3811-46b3-b9fd-572cbcaa745d\" class=\"plotly-graph-div\" style=\"height:525px; width:100%;\"></div>\n",
       "            <script type=\"text/javascript\">\n",
       "                require([\"plotly\"], function(Plotly) {\n",
       "                    window.PLOTLYENV=window.PLOTLYENV || {};\n",
       "                    \n",
       "                if (document.getElementById(\"38132bce-3811-46b3-b9fd-572cbcaa745d\")) {\n",
       "                    Plotly.newPlot(\n",
       "                        '38132bce-3811-46b3-b9fd-572cbcaa745d',\n",
       "                        [{\"marker\": {\"color\": [\"#FF9616\", \"#0DF9FF\", \"#FF9616\", \"#FF9616\", \"#FF9616\", \"#00FE35\", \"#B68E00\", \"#479B55\", \"#479B55\", \"#C9FBE5\", \"#00B5F7\", \"#FED4C4\", \"#479B55\", \"#479B55\", \"#C9FBE5\", \"#6E899C\", \"#FE00CE\", \"#EEA6FB\", \"#FE00CE\", \"#DC587D\", \"#6A76FC\", \"#FF0092\", \"#F6F926\", \"#22FFA7\", \"#C9FBE5\", \"#479B55\", \"#B68E00\", \"#22FFA7\", \"#EEA6FB\", \"#FE00CE\", \"#00B5F7\", \"#00B5F7\", \"#6E899C\", \"#F6F926\", \"#22FFA7\", \"#EEA6FB\", \"#479B55\", \"#EEA6FB\", \"#C9FBE5\", \"#6E899C\", \"#FF9616\", \"#FD3216\", \"#B68E00\", \"#6E899C\", \"#22FFA7\", \"#0DF9FF\", \"#22FFA7\", \"#F6F926\", \"#00B5F7\", \"#479B55\", \"#22FFA7\", \"#F6F926\", \"#FF9616\", \"#FF9616\", \"#479B55\", \"#479B55\", \"#00B5F7\", \"#6A76FC\", \"#B68E00\", \"#479B55\", \"#EEA6FB\", \"#FF0092\", \"#6A76FC\", \"#00B5F7\", \"#FE00CE\", \"#EEA6FB\", \"#479B55\", \"#6E899C\", \"#479B55\", \"#6A76FC\", \"#B68E00\", \"#F6F926\", \"#F6F926\", \"#0DF9FF\", \"#B68E00\", \"#00FE35\", \"#B68E00\", \"#FED4C4\", \"#FE00CE\", \"#FF9616\", \"#F6F926\", \"#F6F926\", \"#00FE35\", \"#FF9616\", \"#00B5F7\", \"#FF9616\", \"#D626FF\", \"#FF9616\", \"#22FFA7\", \"#FF0092\", \"#479B55\", \"#EEA6FB\", \"#EEA6FB\", \"#DC587D\", \"#6A76FC\", \"#0DF9FF\", \"#C9FBE5\", \"#479B55\", \"#FF0092\", \"#00B5F7\", \"#479B55\", \"#FE00CE\", \"#22FFA7\", \"#22FFA7\", \"#00B5F7\", \"#00FE35\", \"#F6F926\", \"#FE00CE\", \"#D626FF\", \"#DC587D\", \"#FF9616\", \"#6E899C\", \"#FF0092\", \"#FD3216\", \"#FED4C4\", \"#EEA6FB\", \"#FD3216\", \"#FED4C4\", \"#DC587D\", \"#479B55\", \"#FED4C4\", \"#C9FBE5\", \"#6A76FC\", \"#479B55\", \"#00FE35\", \"#FED4C4\", \"#FF9616\", \"#DC587D\", \"#EEA6FB\", \"#22FFA7\", \"#6A76FC\", \"#6E899C\", \"#DC587D\", \"#22FFA7\", \"#0DF9FF\", \"#00B5F7\", \"#00B5F7\", \"#C9FBE5\", \"#00B5F7\", \"#FD3216\", \"#EEA6FB\", \"#B68E00\", \"#479B55\", \"#FE00CE\", \"#FD3216\", \"#479B55\", \"#D626FF\", \"#6A76FC\", \"#FF9616\", \"#22FFA7\", \"#00FE35\", \"#FF0092\", \"#479B55\", \"#DC587D\", \"#C9FBE5\", \"#00B5F7\", \"#FED4C4\", \"#479B55\", \"#0DF9FF\", \"#DC587D\", \"#FF0092\", \"#6E899C\", \"#FE00CE\", \"#FD3216\", \"#22FFA7\", \"#DC587D\", \"#00B5F7\", \"#FE00CE\", \"#EEA6FB\", \"#00FE35\", \"#B68E00\", \"#C9FBE5\", \"#479B55\", \"#DC587D\", \"#FD3216\", \"#6E899C\", \"#6A76FC\", \"#D626FF\", \"#F6F926\", \"#00B5F7\", \"#FF9616\", \"#6A76FC\", \"#FED4C4\", \"#00B5F7\", \"#FD3216\", \"#FF0092\", \"#FF9616\", \"#EEA6FB\", \"#FED4C4\", \"#00B5F7\", \"#EEA6FB\", \"#FED4C4\", \"#FE00CE\", \"#479B55\", \"#DC587D\", \"#C9FBE5\", \"#EEA6FB\", \"#6E899C\", \"#00B5F7\", \"#FF9616\", \"#D626FF\", \"#00B5F7\", \"#6A76FC\", \"#DC587D\", \"#6A76FC\", \"#FF0092\", \"#F6F926\", \"#FED4C4\", \"#0DF9FF\", \"#22FFA7\", \"#DC587D\", \"#B68E00\", \"#00B5F7\", \"#EEA6FB\", \"#FF9616\", \"#479B55\", \"#FED4C4\", \"#B68E00\", \"#00FE35\", \"#D626FF\", \"#FF0092\", \"#FED4C4\", \"#C9FBE5\", \"#FF0092\", \"#6A76FC\", \"#C9FBE5\", \"#00B5F7\", \"#DC587D\", \"#6A76FC\", \"#FD3216\", \"#00B5F7\", \"#DC587D\", \"#FED4C4\", \"#6E899C\", \"#EEA6FB\", \"#EEA6FB\", \"#6A76FC\", \"#EEA6FB\", \"#FF9616\", \"#C9FBE5\", \"#00B5F7\", \"#FF9616\", \"#00B5F7\", \"#F6F926\", \"#FD3216\", \"#D626FF\", \"#6E899C\", \"#0DF9FF\", \"#0DF9FF\", \"#0DF9FF\", \"#6A76FC\", \"#FD3216\", \"#EEA6FB\", \"#DC587D\", \"#FF9616\", \"#B68E00\", \"#FF9616\", \"#6A76FC\", \"#6A76FC\", \"#DC587D\", \"#FF0092\", \"#EEA6FB\", \"#6A76FC\", \"#FF9616\", \"#FE00CE\", \"#00B5F7\", \"#00B5F7\", \"#B68E00\", \"#FED4C4\", \"#00FE35\", \"#FF9616\", \"#EEA6FB\", \"#FF9616\", \"#6A76FC\", \"#FED4C4\", \"#00B5F7\", \"#0DF9FF\", \"#F6F926\", \"#00FE35\", \"#FF9616\", \"#6A76FC\", \"#B68E00\", \"#6A76FC\", \"#DC587D\", \"#EEA6FB\", \"#FE00CE\", \"#6A76FC\", \"#00FE35\", \"#EEA6FB\", \"#D626FF\", \"#6E899C\", \"#FF0092\", \"#DC587D\", \"#FF9616\", \"#0DF9FF\", \"#FED4C4\", \"#FED4C4\", \"#6E899C\", \"#EEA6FB\", \"#EEA6FB\", \"#FED4C4\", \"#00B5F7\", \"#B68E00\", \"#FED4C4\", \"#F6F926\", \"#6E899C\", \"#479B55\", \"#F6F926\", \"#FF0092\", \"#F6F926\", \"#FED4C4\", \"#00FE35\", \"#B68E00\", \"#FF9616\", \"#6A76FC\", \"#D626FF\", \"#B68E00\", \"#6A76FC\", \"#FED4C4\", \"#FED4C4\", \"#FED4C4\", \"#FED4C4\", \"#FF9616\", \"#EEA6FB\", \"#6A76FC\", \"#FED4C4\", \"#00B5F7\", \"#F6F926\", \"#D626FF\", \"#00B5F7\", \"#DC587D\", \"#00B5F7\", \"#6A76FC\", \"#6E899C\", \"#FF9616\", \"#FED4C4\", \"#00FE35\", \"#00B5F7\", \"#0DF9FF\", \"#0DF9FF\", \"#00FE35\", \"#FD3216\", \"#6A76FC\", \"#00FE35\", \"#00FE35\", \"#FED4C4\", \"#EEA6FB\", \"#FED4C4\", \"#00FE35\", \"#FED4C4\", \"#FF0092\", \"#00B5F7\"]}, \"mode\": \"markers\", \"text\": [\"Drama|370\", \"Comedy|195\", \"Comedy,Drama|139\", \"Drama,Romance|132\", \"Comedy,Drama,Romance|116\", \"Comedy,Romance|85\", \"Horror|77\", \"Drama,Thriller|74\", \"Horror,Thriller|69\", \"Action,Crime,Drama|67\", \"Adventure,Animation,Comedy|65\", \"Documentary|64\", \"Crime,Drama,Thriller|62\", \"Thriller|53\", \"Action,Crime,Thriller|49\", \"Action,Adventure,Sci-Fi|41\", \"Action,Comedy,Crime|41\", \"Action,Adventure,Drama|36\", \"Action|36\", \"Crime,Drama|35\", \"Crime,Drama,Mystery|30\", \"Biography,Drama,History|30\", \"Biography,Drama|30\", \"Action,Adventure,Comedy|28\", \"Action,Thriller|28\", \"Horror,Mystery,Thriller|28\", \"Comedy,Horror|27\", \"Comedy,Crime,Drama|26\", \"Action,Adventure,Fantasy|25\", \"Crime,Thriller|22\", \"Family|22\", \"Action,Adventure,Animation|22\", \"Action,Horror,Sci-Fi|20\", \"Biography,Drama,Romance|20\", \"Action,Comedy|19\", \"Action,Drama|19\", \"Drama,Mystery,Thriller|19\", \"Action,Drama,History|19\", \"Action,Drama,Thriller|18\", \"Action,Sci-Fi,Thriller|18\", \"Drama,Horror,Thriller|16\", \"Action,Biography,Drama|15\", \"Action,Comedy,Horror|15\", \"Horror,Sci-Fi,Thriller|15\", \"Adventure,Family,Fantasy|15\", \"Drama,Family|14\", \"Adventure,Comedy,Drama|14\", \"Drama,War|14\", \"Adventure,Comedy,Family|14\", \"Mystery,Thriller|14\", \"Comedy,Crime|14\", \"Biography,Comedy,Drama|14\", \"Drama,Romance,Thriller|12\", \"Comedy,Drama,Fantasy|12\", \"Drama,Horror,Mystery|12\", \"Drama,Fantasy,Horror|12\", \"Adventure,Animation,Family|12\", \"Crime,Mystery,Thriller|12\", \"Adventure,Family|12\", \"Horror,Mystery|12\", \"Action,Adventure|12\", \"Drama,History,War|12\", \"Action,Adventure,Crime|11\", \"Comedy,Family|11\", \"Crime|11\", \"Drama,History|11\", \"Drama,Mystery,Romance|11\", \"Action,Horror|11\", \"Drama,Mystery|11\", \"Action,Adventure,Thriller|11\", \"Adventure,Comedy|10\", \"Biography,Crime,Drama|10\", \"Comedy,Drama,Music|10\", \"Adventure,Drama,Family|10\", \"Horror,Sci-Fi|10\", \"Drama,Music|10\", \"Comedy,Horror,Sci-Fi|9\", \"Documentary,Music|8\", \"Sci-Fi,Thriller|8\", \"Biography,Drama,Music|8\", \"Drama,Sci-Fi|8\", \"Drama,History,Romance|8\", \"Comedy,Drama,Family|8\", \"Adventure,Drama,Fantasy|8\", \"Animation,Comedy,Family|8\", \"Drama,Horror|7\", \"Comedy,Fantasy,Horror|7\", \"Crime,Drama,Romance|7\", \"Comedy,Crime,Thriller|7\", \"Biography,Drama,Thriller|7\", \"Drama,Horror,Sci-Fi|7\", \"Adventure,Fantasy|7\", \"Adventure|7\", \"Drama,Fantasy|7\", \"Action,Crime,Mystery|7\", \"Drama,Sport|7\", \"Action,Fantasy,Horror|7\", \"Crime,Horror,Thriller|7\", \"Action,Sci-Fi|7\", \"Animation,Family|7\", \"Drama,Sci-Fi,Thriller|6\", \"Comedy,Thriller|6\", \"Action,Comedy,Fantasy|6\", \"Action,Adventure,Family|6\", \"Comedy,Fantasy|6\", \"Comedy,Horror,Romance|6\", \"Drama,Mystery,Sci-Fi|6\", \"Action,Comedy,Sci-Fi|6\", \"Western|6\", \"Action,Comedy,Drama|6\", \"Drama,Fantasy,Romance|6\", \"Action,Adventure,Mystery|5\", \"Sci-Fi|5\", \"Biography,Drama,Sport|5\", \"Crime,Documentary|5\", \"Adventure,Drama,History|5\", \"Action,Animation,Sci-Fi|5\", \"Documentary,Drama|5\", \"Action,Crime|5\", \"Fantasy,Horror,Mystery|5\", \"Biography,Documentary,Music|5\", \"Action,Horror,Thriller|5\", \"Drama,Western|5\", \"Crime,Drama,Horror|5\", \"Romance|5\", \"Biography,Documentary|5\", \"Comedy,Drama,Musical|5\", \"Drama,Romance,War|5\", \"Comedy,Drama,History|5\", \"Adventure,Animation,Drama|5\", \"Action,Comedy,Thriller|4\", \"Action,Drama,Sci-Fi|4\", \"Fantasy|4\", \"Comedy,Drama,Mystery|4\", \"Comedy,Drama,Sport|4\", \"Comedy,Sci-Fi|4\", \"Comedy,Music|4\", \"Action,Horror,Mystery|4\", \"Comedy,Family,Fantasy|4\", \"Biography,Drama,War|4\", \"Action,Fantasy,Sci-Fi|4\", \"Fantasy,Horror|4\", \"Fantasy,Horror,Thriller|4\", \"Action,Drama,Fantasy|4\", \"Drama,Fantasy,Mystery|4\", \"Mystery,Sci-Fi,Thriller|4\", \"Adventure,Fantasy,Mystery|4\", \"Action,Mystery,Thriller|4\", \"Drama,Romance,Sci-Fi|4\", \"Comedy,Mystery|4\", \"Drama,Horror,Romance|4\", \"Adventure,Biography,Drama|4\", \"Action,Comedy,Romance|4\", \"Comedy,Horror,Thriller|4\", \"Action,Crime,Sci-Fi|4\", \"Animation,Comedy|3\", \"Action,Adventure,Biography|3\", \"Comedy,Romance,Sport|3\", \"Action,Drama,Sport|3\", \"Adventure,Drama,Thriller|3\", \"Drama,History,Thriller|3\", \"War|3\", \"Romance,Thriller|3\", \"Animation,Comedy,Drama|3\", \"Animation,Drama,Family|3\", \"Action,Comedy,Family|3\", \"Adventure,Comedy,Crime|3\", \"Adventure,Drama,Romance|3\", \"Action,Fantasy|3\", \"Comedy,Family,Romance|3\", \"Action,Biography,Crime|3\", \"Crime,Drama,History|3\", \"Action,Fantasy,Thriller|3\", \"Action,Drama,Romance|3\", \"Drama,Thriller,War|3\", \"Action,Animation,Horror|3\", \"Comedy,Horror,Mystery|3\", \"Comedy,Western|3\", \"Action,Drama,Mystery|3\", \"Animation,Family,Fantasy|3\", \"Comedy,Fantasy,Romance|3\", \"Mystery,Romance,Thriller|3\", \"Documentary,Sport|3\", \"Animation|3\", \"Action,Drama,War|3\", \"Adventure,Drama,Sci-Fi|3\", \"Drama,Fantasy,Sci-Fi|3\", \"Adventure,Horror|3\", \"Biography,Documentary,Drama|3\", \"Adventure,Comedy,Fantasy|3\", \"Action,Adventure,Romance|2\", \"Documentary,News|2\", \"Action,Drama,Horror|2\", \"Action,Mystery,Sci-Fi|2\", \"Horror,Romance,Thriller|2\", \"Action,Comedy,Sport|2\", \"Crime,Drama,War|2\", \"Horror,Mystery,Sci-Fi|2\", \"Comedy,Music,Musical|2\", \"Fantasy,Romance|2\", \"Action,Animation,Comedy|2\", \"Adventure,Comedy,Horror|2\", \"Romance,Sci-Fi,Thriller|2\", \"Action,Animation,Fantasy|2\", \"Thriller,Western|2\", \"Adventure,Drama|2\", \"Comedy,Drama,Horror|2\", \"Biography,Documentary,Sport|2\", \"Comedy,Horror,Music|2\", \"Animation,Drama,Fantasy|2\", \"Action,Romance|2\", \"Adventure,Family,Sci-Fi|2\", \"Comedy,Sport|2\", \"Action,Animation,Crime|2\", \"Action,Romance,Thriller|2\", \"Crime,Horror,Mystery|2\", \"Action,Adventure,Documentary|2\", \"Drama,Music,Romance|2\", \"Animation,Drama|2\", \"Drama,Musical,Romance|2\", \"Comedy,War|2\", \"Documentary,History|2\", \"Action,Adventure,Horror|2\", \"Comedy,Drama,War|2\", \"Adventure,Drama,Western|2\", \"Horror,Romance|2\", \"Action,Drama,Family|2\", \"Action,Fantasy,Romance|2\", \"Comedy,Crime,Mystery|2\", \"Animation,Sci-Fi|2\", \"Adventure,Animation|2\", \"Action,Animation,Drama|2\", \"Adventure,Documentary,Sport|2\", \"Adventure,Mystery,Sci-Fi|2\", \"Adventure,History|2\", \"Action,History|2\", \"Action,Crime,Romance|2\", \"Action,Adventure,History|2\", \"Drama,Fantasy,Musical|2\", \"Action,Crime,Fantasy|2\", \"Animation,Comedy,Crime|2\", \"Action,Drama,Western|2\", \"Adventure,Biography,Comedy|2\", \"Animation,Drama,Sci-Fi|2\", \"Action,Adventure,Western|2\", \"Adventure,Fantasy,Musical|1\", \"Adventure,Sci-Fi,Thriller|1\", \"Comedy,Family,Music|1\", \"Adventure,Romance|1\", \"Adventure,Crime,Family|1\", \"Action,Thriller,Western|1\", \"Adventure,Sci-Fi|1\", \"Fantasy,Mystery,Romance|1\", \"Adventure,Animation,Fantasy|1\", \"Animation,Drama,Thriller|1\", \"Adventure,Horror,Sci-Fi|1\", \"Family,Mystery|1\", \"Biography,Comedy|1\", \"Action,Mystery|1\", \"Comedy,Musical|1\", \"Adventure,Biography|1\", \"Mystery,Western|1\", \"Adventure,History,Romance|1\", \"Crime,Horror,Romance|1\", \"Action,Crime,Horror|1\", \"Adventure,Drama,Horror|1\", \"Animation,Family,Musical|1\", \"Comedy,Crime,Romance|1\", \"Documentary,History,Music|1\", \"Comedy,Crime,Horror|1\", \"Biography,Documentary,Family|1\", \"Action,History,Thriller|1\", \"Drama,Family,Mystery|1\", \"Comedy,Drama,Sci-Fi|1\", \"Documentary,Family,History|1\", \"Comedy,Horror,Musical|1\", \"Adventure,Drama,Sport|1\", \"Drama,Family,Sci-Fi|1\", \"Biography,Drama,Fantasy|1\", \"Animation,Drama,Romance|1\", \"Crime,Mystery|1\", \"Fantasy,Mystery,Thriller|1\", \"Drama,Mystery,War|1\", \"Drama,History,Horror|1\", \"Crime,Drama,Sci-Fi|1\", \"Mystery,Romance,Sci-Fi|1\", \"Adventure,Comedy,Sci-Fi|1\", \"Music|1\", \"Action,Comedy,Western|1\", \"Animation,Mystery,Thriller|1\", \"Adventure,Thriller|1\", \"Action,War|1\", \"Adventure,Crime,Drama|1\", \"Drama,Fantasy,Music|1\", \"Comedy,Crime,Family|1\", \"Documentary,Mystery|1\", \"Crime,Documentary,Drama|1\", \"Animation,Biography,Drama|1\", \"Adventure,Biography,History|1\", \"Biography,History|1\", \"Documentary,History,War|1\", \"Drama,Fantasy,Thriller|1\", \"Action,Fantasy,Western|1\", \"Documentary,Drama,Family|1\", \"Comedy,Documentary,Drama|1\", \"Adventure,Crime,Thriller|1\", \"Drama,Family,Music|1\", \"Drama,Family,Fantasy|1\", \"Family,Fantasy|1\", \"Adventure,Documentary,Drama|1\", \"Documentary,Thriller|1\", \"Crime,Drama,Fantasy|1\", \"Drama,Family,History|1\", \"Fantasy,Horror,Sci-Fi|1\", \"Crime,Mystery,Romance|1\", \"Family,Fantasy,Musical|1\", \"Drama,History,Sport|1\", \"Action,Horror,Romance|1\", \"Adventure,Animation,Sci-Fi|1\", \"Comedy,Musical,Sci-Fi|1\", \"Action,Biography,Documentary|1\", \"Documentary,History,Sport|1\", \"Drama,Family,Romance|1\", \"Biography,Drama,Musical|1\", \"Animation,Comedy,Fantasy|1\", \"Animation,Biography,Documentary|1\", \"Adventure,Biography,Crime|1\", \"Comedy,Drama,Thriller|1\", \"Drama,Musical|1\", \"Musical|1\", \"Adventure,Comedy,Western|1\", \"Comedy,Fantasy,Sci-Fi|1\", \"Crime,Romance,Thriller|1\", \"Horror,War|1\", \"Crime,Sci-Fi,Thriller|1\", \"Animation,Documentary|1\", \"Drama,Music,Thriller|1\", \"Comedy,Fantasy,Thriller|1\", \"Biography|1\", \"Comedy,Family,Sport|1\", \"Thriller,War|1\", \"Action,Comedy,Music|1\", \"Music,Mystery,Thriller|1\", \"Comedy,Romance,Western|1\", \"Comedy,Musical,Romance|1\", \"Crime,Documentary,History|1\", \"Drama,Thriller,Western|1\", \"Biography,Comedy,Crime|1\", \"Comedy,Romance,Sci-Fi|1\", \"Documentary,War|1\", \"Romance,War|1\", \"Action,Comedy,Documentary|1\"], \"type\": \"scatter\", \"x\": [16.044099807739258, 16.6460018157959, 16.305524826049805, 16.440217971801758, 16.235015869140625, 17.180713653564453, 15.56906795501709, 14.742819786071777, 14.314430236816406, 13.537014961242676, 15.841741561889648, 10.172078132629395, 14.57101058959961, 14.597522735595703, 13.196087837219238, 12.644612312316895, 14.454729080200195, 12.39765739440918, 14.98996639251709, 16.00990104675293, 12.957056045532227, 11.922165870666504, 12.844949722290039, 14.265645980834961, 13.366275787353516, 14.377161026000977, 15.475605964660645, 14.767290115356445, 12.940677642822266, 15.347060203552246, 15.856148719787598, 15.495889663696289, 12.210254669189453, 13.159279823303223, 14.750065803527832, 12.972307205200195, 13.696365356445312, 12.358055114746094, 13.119495391845703, 12.597772598266602, 16.73151397705078, 12.43651294708252, 15.452329635620117, 12.350671768188477, 15.116534233093262, 16.731998443603516, 14.457375526428223, 12.602906227111816, 15.464251518249512, 14.611230850219727, 14.802850723266602, 13.225147247314453, 16.76858901977539, 15.820816040039062, 13.851353645324707, 14.341497421264648, 15.98924732208252, 12.860976219177246, 15.261087417602539, 14.051801681518555, 12.670730590820312, 11.638286590576172, 12.576518058776855, 16.25841522216797, 15.456074714660645, 12.848552703857422, 14.236141204833984, 12.545503616333008, 14.513875007629395, 12.301386833190918, 14.992262840270996, 12.99757194519043, 13.232510566711426, 16.676414489746094, 15.027253150939941, 16.537939071655273, 15.191740036010742, 10.467018127441406, 14.963485717773438, 16.395225524902344, 12.79827880859375, 12.861980438232422, 16.778656005859375, 16.261972427368164, 15.827553749084473, 16.520126342773438, 14.00395393371582, 16.631065368652344, 14.657506942749023, 11.71533489227295, 14.295795440673828, 12.08664608001709, 12.631345748901367, 16.05056381225586, 12.508615493774414, 16.811145782470703, 13.497570037841797, 14.359172821044922, 11.778528213500977, 15.770448684692383, 14.520331382751465, 14.661542892456055, 14.381360054016113, 14.615943908691406, 16.41353988647461, 17.31006622314453, 12.785752296447754, 14.160063743591309, 13.563586235046387, 15.77734661102295, 16.050519943237305, 12.154151916503906, 11.827860832214355, 12.777151107788086, 10.07003402709961, 12.208833694458008, 12.686994552612305, 10.51535415649414, 15.74011516571045, 14.292613983154297, 10.549054145812988, 13.645886421203613, 12.207012176513672, 14.631178855895996, 16.675914764404297, 10.320176124572754, 16.914968490600586, 16.0658016204834, 12.234491348266602, 14.53805923461914, 12.651909828186035, 12.497453689575195, 16.32244873046875, 14.49049186706543, 16.40003204345703, 16.14212417602539, 16.407888412475586, 13.075448036193848, 16.0690860748291, 12.173069953918457, 12.55384349822998, 15.440698623657227, 14.495864868164062, 15.293999671936035, 13.100809097290039, 14.280692100524902, 13.345779418945312, 12.419857025146484, 16.138025283813477, 14.87287425994873, 16.88031005859375, 11.834238052368164, 14.903875350952148, 15.585990905761719, 13.073943138122559, 16.58254051208496, 11.039056777954102, 15.116961479187012, 16.865272521972656, 15.567559242248535, 11.494050025939941, 12.250636100769043, 15.147652626037598, 12.584529876708984, 14.525397300720215, 15.873634338378906, 16.494029998779297, 15.677226066589355, 12.638425827026367, 16.90497589111328, 15.216882705688477, 13.468092918395996, 14.4132719039917, 16.09543228149414, 12.134858131408691, 12.620088577270508, 13.336272239685059, 13.951388359069824, 13.179529190063477, 15.594359397888184, 16.112791061401367, 13.02940559387207, 10.499931335449219, 15.49023723602295, 12.28788948059082, 11.9036865234375, 15.976357460021973, 12.479676246643066, 10.416388511657715, 16.02617073059082, 13.631208419799805, 10.292677879333496, 14.354146957397461, 14.357118606567383, 16.256977081298828, 13.244617462158203, 12.622807502746582, 12.294482231140137, 16.29337501525879, 16.899690628051758, 13.799309730529785, 16.018234252929688, 12.569201469421387, 16.005029678344727, 12.622650146484375, 11.655498504638672, 13.39904499053955, 10.669188499450684, 16.360641479492188, 15.64612865447998, 16.262937545776367, 15.36970043182373, 15.941885948181152, 13.135122299194336, 16.612428665161133, 14.431137084960938, 10.588470458984375, 15.513309478759766, 15.943840026855469, 13.279598236083984, 11.51809024810791, 9.894964218139648, 13.957393646240234, 11.586921691894531, 12.169130325317383, 13.94051456451416, 15.791666984558105, 15.896695137023926, 12.651778221130371, 12.272911071777344, 15.656793594360352, 16.093881607055664, 10.58273983001709, 12.810559272766113, 12.593658447265625, 13.053009986877441, 12.78230094909668, 11.88387393951416, 16.758668899536133, 13.345897674560547, 14.96901798248291, 16.53859519958496, 16.017980575561523, 13.114734649658203, 13.073816299438477, 13.949140548706055, 12.926360130310059, 16.527490615844727, 16.98797035217285, 16.289737701416016, 13.304242134094238, 12.809015274047852, 12.156359672546387, 15.721562385559082, 15.966561317443848, 15.268717765808105, 16.345046997070312, 12.496918678283691, 12.583576202392578, 15.886152267456055, 12.022504806518555, 12.858438491821289, 12.421817779541016, 16.32123374938965, 15.467571258544922, 15.915410995483398, 15.961159706115723, 14.685346603393555, 9.774666786193848, 16.836048126220703, 15.834443092346191, 12.426738739013672, 16.437999725341797, 13.18237018585205, 10.300341606140137, 15.608392715454102, 17.052257537841797, 12.913955688476562, 17.100414276123047, 16.13724136352539, 12.546063423156738, 15.67052936553955, 12.501557350158691, 16.167512893676758, 12.81717300415039, 15.15379524230957, 13.189690589904785, 17.22166633605957, 13.16634750366211, 13.49864387512207, 12.151922225952148, 11.784100532531738, 15.802713394165039, 16.279850006103516, 16.470256805419922, 9.712316513061523, 9.962212562561035, 12.797761917114258, 12.87376880645752, 11.654480934143066, 9.814057350158691, 15.904093742370605, 15.00036334991455, 9.707498550415039, 13.593835830688477, 12.398066520690918, 15.016124725341797, 13.264507293701172, 12.306445121765137, 12.875399589538574, 10.191028594970703, 16.843900680541992, 15.378023147583008, 16.451059341430664, 12.837766647338867, 14.077347755432129, 14.899398803710938, 12.416849136352539, 10.724444389343262, 10.424271583557129, 11.46420669555664, 10.461895942687988, 16.778268814086914, 12.097899436950684, 12.40560245513916, 10.823258399963379, 16.61419677734375, 13.494877815246582, 13.07064437866211, 15.201042175292969, 16.215805053710938, 15.869790077209473, 12.684147834777832, 12.418464660644531, 16.700286865234375, 9.783364295959473, 17.289194107055664, 15.74974536895752, 16.2522029876709, 16.70485496520996, 16.94837188720703, 12.504003524780273, 12.725317001342773, 17.18378257751465, 17.264217376708984, 9.762686729431152, 12.863911628723145, 10.515922546386719, 16.667484283447266, 10.67915153503418, 12.231719017028809, 16.2752742767334], \"y\": [10.279420852661133, 8.25809383392334, 10.045066833496094, 10.544500350952148, 10.75766658782959, 9.709924697875977, 8.919929504394531, 11.213638305664062, 10.68686294555664, 10.722417831420898, 7.576272487640381, 8.954895973205566, 10.760786056518555, 10.441017150878906, 10.852495193481445, 10.455821990966797, 9.792420387268066, 8.186700820922852, 9.404195785522461, 9.719096183776855, 12.020635604858398, 9.525252342224121, 9.77542781829834, 8.909443855285645, 10.959281921386719, 11.04732894897461, 8.297944068908691, 9.622206687927246, 8.158203125, 10.291617393493652, 7.776687145233154, 7.450516700744629, 10.93116283416748, 9.739087104797363, 8.741083145141602, 8.37767219543457, 11.933067321777344, 8.488411903381348, 10.791991233825684, 10.858901023864746, 9.960369110107422, 9.191450119018555, 8.8386869430542, 10.942359924316406, 9.333099365234375, 8.526371955871582, 9.087575912475586, 10.069576263427734, 7.821221828460693, 11.278397560119629, 8.568305015563965, 9.753938674926758, 10.084100723266602, 10.13092041015625, 11.554481506347656, 11.421249389648438, 7.912121772766113, 11.723400115966797, 8.22773551940918, 11.027928352355957, 8.137497901916504, 10.221277236938477, 11.795137405395508, 7.7764153480529785, 10.193059921264648, 8.502829551696777, 11.55263614654541, 10.939383506774902, 11.388553619384766, 11.620957374572754, 8.436448097229004, 9.95028018951416, 9.816317558288574, 8.379057884216309, 8.323583602905273, 8.954469680786133, 8.1326904296875, 8.924771308898926, 10.042623519897461, 10.480076789855957, 10.190600395202637, 9.627645492553711, 9.162168502807617, 10.04819107055664, 7.751457214355469, 10.707196235656738, 9.17368221282959, 10.088680267333984, 9.16918659210205, 10.528131484985352, 11.0152006149292, 8.123230934143066, 8.032512664794922, 9.168462753295898, 11.911623001098633, 8.502552032470703, 10.747379302978516, 10.71499252319336, 10.886824607849121, 7.602966785430908, 10.918261528015137, 10.084983825683594, 9.00427532196045, 8.705296516418457, 7.719381809234619, 9.34747314453125, 10.2795991897583, 9.69530963897705, 8.878954887390137, 9.663783073425293, 10.785287857055664, 10.927178382873535, 10.592262268066406, 8.726908683776855, 8.755969047546387, 8.509807586669922, 9.009204864501953, 8.87195110321045, 9.90021800994873, 11.200435638427734, 8.576128005981445, 10.699688911437988, 11.884342193603516, 11.134356498718262, 9.261252403259277, 8.71846866607666, 10.312081336975098, 9.615045547485352, 8.099979400634766, 9.416855812072754, 11.4868803024292, 11.376289367675781, 8.725279808044434, 9.627297401428223, 8.341036796569824, 7.464083194732666, 7.763321876525879, 10.952656745910645, 7.9898481369018555, 8.740479469299316, 8.398902893066406, 8.788459777832031, 11.111329078674316, 9.742838859558105, 9.285551071166992, 10.995798110961914, 8.476588249206543, 12.224143028259277, 10.89086627960205, 8.641119956970215, 9.724541664123535, 9.669413566589355, 11.411008834838867, 9.314983367919922, 10.657548904418945, 7.873388767242432, 9.289688110351562, 11.17768383026123, 8.709261894226074, 9.464097023010254, 10.68427848815918, 10.723530769348145, 10.505171775817871, 9.244743347167969, 9.1633882522583, 9.736618995666504, 7.630393028259277, 9.946442604064941, 7.941195011138916, 9.383452415466309, 8.826607704162598, 10.568626403808594, 10.572739601135254, 9.347479820251465, 8.754342079162598, 10.617807388305664, 11.513033866882324, 8.800040245056152, 9.981305122375488, 7.540363311767578, 10.579737663269043, 11.822083473205566, 9.039734840393066, 7.376652717590332, 9.177726745605469, 10.037516593933105, 10.210869789123535, 7.911957740783691, 8.51925277709961, 7.467044830322266, 8.446446418762207, 9.011786460876465, 10.193941116333008, 10.630435943603516, 9.405012130737305, 11.240670204162598, 8.179238319396973, 10.700776100158691, 7.40565824508667, 10.262127876281738, 9.254164695739746, 7.495453357696533, 11.740555763244629, 8.955471992492676, 11.8772554397583, 10.108399391174316, 9.651044845581055, 8.791467666625977, 8.136747360229492, 8.517848014831543, 9.343219757080078, 7.967508316040039, 7.720178604125977, 8.383513450622559, 10.36419677734375, 10.871138572692871, 9.088237762451172, 8.395122528076172, 8.574300765991211, 8.802074432373047, 10.095006942749023, 9.041291236877441, 10.448712348937988, 10.753928184509277, 11.76181697845459, 10.732606887817383, 7.802432537078857, 9.027538299560547, 12.305530548095703, 9.397668838500977, 7.7060112953186035, 9.026568412780762, 9.131474494934082, 10.995352745056152, 8.053854942321777, 8.059091567993164, 12.241216659545898, 8.395306587219238, 9.872048377990723, 10.749913215637207, 7.396194934844971, 10.452512741088867, 7.8157806396484375, 9.571857452392578, 8.81037425994873, 8.49199390411377, 10.502019882202148, 8.130034446716309, 8.614757537841797, 8.605220794677734, 11.585376739501953, 9.043771743774414, 8.245588302612305, 9.344721794128418, 10.05472469329834, 8.293697357177734, 9.916505813598633, 12.325263977050781, 11.773231506347656, 9.611848831176758, 9.74755859375, 8.453714370727539, 12.401761054992676, 10.962342262268066, 10.21857738494873, 7.989854335784912, 8.248735427856445, 8.461444854736328, 8.964587211608887, 9.051396369934082, 10.863081932067871, 8.281941413879395, 10.255614280700684, 12.254000663757324, 8.8368558883667, 7.915040969848633, 8.939651489257812, 9.897692680358887, 9.595938682556152, 10.861101150512695, 12.40876579284668, 8.982024192810059, 11.772294044494629, 9.49050521850586, 7.858293056488037, 9.966111183166504, 12.132621765136719, 9.026487350463867, 8.312573432922363, 9.229269027709961, 10.734817504882812, 10.670408248901367, 9.40274429321289, 10.692861557006836, 7.967301368713379, 9.01411247253418, 8.815277099609375, 10.25465202331543, 7.965606212615967, 8.384598731994629, 8.959506034851074, 8.2048978805542, 8.999001502990723, 8.874933242797852, 10.067706108093262, 10.870844841003418, 11.10495662689209, 9.786230087280273, 9.718744277954102, 9.747519493103027, 9.027762413024902, 9.437406539916992, 8.466191291809082, 9.925436973571777, 12.42191219329834, 9.230704307556152, 8.0090970993042, 12.375772476196289, 9.13052749633789, 8.54784107208252, 9.04792308807373, 8.713419914245605, 10.38118839263916, 8.221170425415039, 12.19223403930664, 8.656529426574707, 7.321390628814697, 9.877047538757324, 8.334708213806152, 7.675657272338867, 9.301180839538574, 7.439239978790283, 12.468253135681152, 11.256366729736328, 10.275598526000977, 8.926642417907715, 9.162169456481934, 7.653219699859619, 8.308377265930176, 8.148890495300293, 9.566972732543945, 8.66006851196289, 12.503396034240723, 9.354424476623535, 9.690048217773438, 8.970962524414062, 8.353182792663574, 8.371135711669922, 9.190751075744629, 9.186763763427734, 11.551480293273926, 7.580983638763428]}],\n",
       "                        {\"template\": {\"data\": {\"bar\": [{\"error_x\": {\"color\": \"#2a3f5f\"}, \"error_y\": {\"color\": \"#2a3f5f\"}, \"marker\": {\"line\": {\"color\": \"#E5ECF6\", \"width\": 0.5}}, \"type\": \"bar\"}], \"barpolar\": [{\"marker\": {\"line\": {\"color\": \"#E5ECF6\", \"width\": 0.5}}, \"type\": \"barpolar\"}], \"carpet\": [{\"aaxis\": {\"endlinecolor\": \"#2a3f5f\", \"gridcolor\": \"white\", \"linecolor\": \"white\", \"minorgridcolor\": \"white\", \"startlinecolor\": \"#2a3f5f\"}, \"baxis\": {\"endlinecolor\": \"#2a3f5f\", \"gridcolor\": \"white\", \"linecolor\": \"white\", \"minorgridcolor\": \"white\", \"startlinecolor\": \"#2a3f5f\"}, \"type\": \"carpet\"}], \"choropleth\": [{\"colorbar\": {\"outlinewidth\": 0, \"ticks\": \"\"}, \"type\": \"choropleth\"}], \"contour\": [{\"colorbar\": {\"outlinewidth\": 0, \"ticks\": \"\"}, \"colorscale\": [[0.0, \"#0d0887\"], [0.1111111111111111, \"#46039f\"], [0.2222222222222222, \"#7201a8\"], [0.3333333333333333, \"#9c179e\"], [0.4444444444444444, \"#bd3786\"], [0.5555555555555556, \"#d8576b\"], [0.6666666666666666, \"#ed7953\"], [0.7777777777777778, \"#fb9f3a\"], [0.8888888888888888, \"#fdca26\"], [1.0, \"#f0f921\"]], \"type\": \"contour\"}], \"contourcarpet\": [{\"colorbar\": {\"outlinewidth\": 0, \"ticks\": \"\"}, \"type\": \"contourcarpet\"}], \"heatmap\": [{\"colorbar\": {\"outlinewidth\": 0, \"ticks\": \"\"}, \"colorscale\": [[0.0, \"#0d0887\"], [0.1111111111111111, \"#46039f\"], [0.2222222222222222, \"#7201a8\"], [0.3333333333333333, \"#9c179e\"], [0.4444444444444444, \"#bd3786\"], [0.5555555555555556, \"#d8576b\"], [0.6666666666666666, \"#ed7953\"], [0.7777777777777778, \"#fb9f3a\"], [0.8888888888888888, \"#fdca26\"], [1.0, \"#f0f921\"]], \"type\": \"heatmap\"}], \"heatmapgl\": [{\"colorbar\": {\"outlinewidth\": 0, \"ticks\": \"\"}, \"colorscale\": [[0.0, \"#0d0887\"], [0.1111111111111111, \"#46039f\"], [0.2222222222222222, \"#7201a8\"], [0.3333333333333333, \"#9c179e\"], [0.4444444444444444, \"#bd3786\"], [0.5555555555555556, \"#d8576b\"], [0.6666666666666666, \"#ed7953\"], [0.7777777777777778, \"#fb9f3a\"], [0.8888888888888888, \"#fdca26\"], [1.0, \"#f0f921\"]], \"type\": \"heatmapgl\"}], \"histogram\": [{\"marker\": {\"colorbar\": {\"outlinewidth\": 0, \"ticks\": \"\"}}, \"type\": \"histogram\"}], \"histogram2d\": [{\"colorbar\": {\"outlinewidth\": 0, \"ticks\": \"\"}, \"colorscale\": [[0.0, \"#0d0887\"], [0.1111111111111111, \"#46039f\"], [0.2222222222222222, \"#7201a8\"], [0.3333333333333333, \"#9c179e\"], [0.4444444444444444, \"#bd3786\"], [0.5555555555555556, \"#d8576b\"], [0.6666666666666666, \"#ed7953\"], [0.7777777777777778, \"#fb9f3a\"], [0.8888888888888888, \"#fdca26\"], [1.0, \"#f0f921\"]], \"type\": \"histogram2d\"}], \"histogram2dcontour\": [{\"colorbar\": {\"outlinewidth\": 0, \"ticks\": \"\"}, \"colorscale\": [[0.0, \"#0d0887\"], [0.1111111111111111, \"#46039f\"], [0.2222222222222222, \"#7201a8\"], [0.3333333333333333, \"#9c179e\"], [0.4444444444444444, \"#bd3786\"], [0.5555555555555556, \"#d8576b\"], [0.6666666666666666, \"#ed7953\"], [0.7777777777777778, \"#fb9f3a\"], [0.8888888888888888, \"#fdca26\"], [1.0, \"#f0f921\"]], \"type\": \"histogram2dcontour\"}], \"mesh3d\": [{\"colorbar\": {\"outlinewidth\": 0, \"ticks\": \"\"}, \"type\": \"mesh3d\"}], \"parcoords\": [{\"line\": {\"colorbar\": {\"outlinewidth\": 0, \"ticks\": \"\"}}, \"type\": \"parcoords\"}], \"pie\": [{\"automargin\": true, \"type\": \"pie\"}], \"scatter\": [{\"marker\": {\"colorbar\": {\"outlinewidth\": 0, \"ticks\": \"\"}}, \"type\": \"scatter\"}], \"scatter3d\": [{\"line\": {\"colorbar\": {\"outlinewidth\": 0, \"ticks\": \"\"}}, \"marker\": {\"colorbar\": {\"outlinewidth\": 0, \"ticks\": \"\"}}, \"type\": \"scatter3d\"}], \"scattercarpet\": [{\"marker\": {\"colorbar\": {\"outlinewidth\": 0, \"ticks\": \"\"}}, \"type\": \"scattercarpet\"}], \"scattergeo\": [{\"marker\": {\"colorbar\": {\"outlinewidth\": 0, \"ticks\": \"\"}}, \"type\": \"scattergeo\"}], \"scattergl\": [{\"marker\": {\"colorbar\": {\"outlinewidth\": 0, \"ticks\": \"\"}}, \"type\": \"scattergl\"}], \"scattermapbox\": [{\"marker\": {\"colorbar\": {\"outlinewidth\": 0, \"ticks\": \"\"}}, \"type\": \"scattermapbox\"}], \"scatterpolar\": [{\"marker\": {\"colorbar\": {\"outlinewidth\": 0, \"ticks\": \"\"}}, \"type\": \"scatterpolar\"}], \"scatterpolargl\": [{\"marker\": {\"colorbar\": {\"outlinewidth\": 0, \"ticks\": \"\"}}, \"type\": \"scatterpolargl\"}], \"scatterternary\": [{\"marker\": {\"colorbar\": {\"outlinewidth\": 0, \"ticks\": \"\"}}, \"type\": \"scatterternary\"}], \"surface\": [{\"colorbar\": {\"outlinewidth\": 0, \"ticks\": \"\"}, \"colorscale\": [[0.0, \"#0d0887\"], [0.1111111111111111, \"#46039f\"], [0.2222222222222222, \"#7201a8\"], [0.3333333333333333, \"#9c179e\"], [0.4444444444444444, \"#bd3786\"], [0.5555555555555556, \"#d8576b\"], [0.6666666666666666, \"#ed7953\"], [0.7777777777777778, \"#fb9f3a\"], [0.8888888888888888, \"#fdca26\"], [1.0, \"#f0f921\"]], \"type\": \"surface\"}], \"table\": [{\"cells\": {\"fill\": {\"color\": \"#EBF0F8\"}, \"line\": {\"color\": \"white\"}}, \"header\": {\"fill\": {\"color\": \"#C8D4E3\"}, \"line\": {\"color\": \"white\"}}, \"type\": \"table\"}]}, \"layout\": {\"annotationdefaults\": {\"arrowcolor\": \"#2a3f5f\", \"arrowhead\": 0, \"arrowwidth\": 1}, \"coloraxis\": {\"colorbar\": {\"outlinewidth\": 0, \"ticks\": \"\"}}, \"colorscale\": {\"diverging\": [[0, \"#8e0152\"], [0.1, \"#c51b7d\"], [0.2, \"#de77ae\"], [0.3, \"#f1b6da\"], [0.4, \"#fde0ef\"], [0.5, \"#f7f7f7\"], [0.6, \"#e6f5d0\"], [0.7, \"#b8e186\"], [0.8, \"#7fbc41\"], [0.9, \"#4d9221\"], [1, \"#276419\"]], \"sequential\": [[0.0, \"#0d0887\"], [0.1111111111111111, \"#46039f\"], [0.2222222222222222, \"#7201a8\"], [0.3333333333333333, \"#9c179e\"], [0.4444444444444444, \"#bd3786\"], [0.5555555555555556, \"#d8576b\"], [0.6666666666666666, \"#ed7953\"], [0.7777777777777778, \"#fb9f3a\"], [0.8888888888888888, \"#fdca26\"], [1.0, \"#f0f921\"]], \"sequentialminus\": [[0.0, \"#0d0887\"], [0.1111111111111111, \"#46039f\"], [0.2222222222222222, \"#7201a8\"], [0.3333333333333333, \"#9c179e\"], [0.4444444444444444, \"#bd3786\"], [0.5555555555555556, \"#d8576b\"], [0.6666666666666666, \"#ed7953\"], [0.7777777777777778, \"#fb9f3a\"], [0.8888888888888888, \"#fdca26\"], [1.0, \"#f0f921\"]]}, \"colorway\": [\"#636efa\", \"#EF553B\", \"#00cc96\", \"#ab63fa\", \"#FFA15A\", \"#19d3f3\", \"#FF6692\", \"#B6E880\", \"#FF97FF\", \"#FECB52\"], \"font\": {\"color\": \"#2a3f5f\"}, \"geo\": {\"bgcolor\": \"white\", \"lakecolor\": \"white\", \"landcolor\": \"#E5ECF6\", \"showlakes\": true, \"showland\": true, \"subunitcolor\": \"white\"}, \"hoverlabel\": {\"align\": \"left\"}, \"hovermode\": \"closest\", \"mapbox\": {\"style\": \"light\"}, \"paper_bgcolor\": \"white\", \"plot_bgcolor\": \"#E5ECF6\", \"polar\": {\"angularaxis\": {\"gridcolor\": \"white\", \"linecolor\": \"white\", \"ticks\": \"\"}, \"bgcolor\": \"#E5ECF6\", \"radialaxis\": {\"gridcolor\": \"white\", \"linecolor\": \"white\", \"ticks\": \"\"}}, \"scene\": {\"xaxis\": {\"backgroundcolor\": \"#E5ECF6\", \"gridcolor\": \"white\", \"gridwidth\": 2, \"linecolor\": \"white\", \"showbackground\": true, \"ticks\": \"\", \"zerolinecolor\": \"white\"}, \"yaxis\": {\"backgroundcolor\": \"#E5ECF6\", \"gridcolor\": \"white\", \"gridwidth\": 2, \"linecolor\": \"white\", \"showbackground\": true, \"ticks\": \"\", \"zerolinecolor\": \"white\"}, \"zaxis\": {\"backgroundcolor\": \"#E5ECF6\", \"gridcolor\": \"white\", \"gridwidth\": 2, \"linecolor\": \"white\", \"showbackground\": true, \"ticks\": \"\", \"zerolinecolor\": \"white\"}}, \"shapedefaults\": {\"line\": {\"color\": \"#2a3f5f\"}}, \"ternary\": {\"aaxis\": {\"gridcolor\": \"white\", \"linecolor\": \"white\", \"ticks\": \"\"}, \"baxis\": {\"gridcolor\": \"white\", \"linecolor\": \"white\", \"ticks\": \"\"}, \"bgcolor\": \"#E5ECF6\", \"caxis\": {\"gridcolor\": \"white\", \"linecolor\": \"white\", \"ticks\": \"\"}}, \"title\": {\"x\": 0.05}, \"xaxis\": {\"automargin\": true, \"gridcolor\": \"white\", \"linecolor\": \"white\", \"ticks\": \"\", \"title\": {\"standoff\": 15}, \"zerolinecolor\": \"white\", \"zerolinewidth\": 2}, \"yaxis\": {\"automargin\": true, \"gridcolor\": \"white\", \"linecolor\": \"white\", \"ticks\": \"\", \"title\": {\"standoff\": 15}, \"zerolinecolor\": \"white\", \"zerolinewidth\": 2}}}},\n",
       "                        {\"responsive\": true}\n",
       "                    ).then(function(){\n",
       "                            \n",
       "var gd = document.getElementById('38132bce-3811-46b3-b9fd-572cbcaa745d');\n",
       "var x = new MutationObserver(function (mutations, observer) {{\n",
       "        var display = window.getComputedStyle(gd).display;\n",
       "        if (!display || display === 'none') {{\n",
       "            console.log([gd, 'removed!']);\n",
       "            Plotly.purge(gd);\n",
       "            observer.disconnect();\n",
       "        }}\n",
       "}});\n",
       "\n",
       "// Listen for the removal of the full notebook cells\n",
       "var notebookContainer = gd.closest('#notebook-container');\n",
       "if (notebookContainer) {{\n",
       "    x.observe(notebookContainer, {childList: true});\n",
       "}}\n",
       "\n",
       "// Listen for the clearing of the current output cell\n",
       "var outputEl = gd.closest('.output');\n",
       "if (outputEl) {{\n",
       "    x.observe(outputEl, {childList: true});\n",
       "}}\n",
       "\n",
       "                        })\n",
       "                };\n",
       "                });\n",
       "            </script>\n",
       "        </div>"
      ]
     },
     "metadata": {},
     "output_type": "display_data"
    }
   ],
   "source": [
    "fig = go.Figure(data=go.Scatter(x=Xr[:, 0],\n",
    "                                y=Xr[:, 1],\n",
    "                                mode='markers',\n",
    "                                text=[f'{label}|{n_token}' for label, n_token in zip(aggr.label, aggr.n_texts)],\n",
    "                                marker_color=plotly_color_categorical_values(cluster)))\n",
    "\n",
    "\n",
    "fig.show()"
   ]
  },
  {
   "cell_type": "code",
   "execution_count": 347,
   "metadata": {},
   "outputs": [],
   "source": [
    "dfs = get_cluster_dfs(aggr, cluster)"
   ]
  },
  {
   "cell_type": "code",
   "execution_count": 348,
   "metadata": {
    "scrolled": true
   },
   "outputs": [
    {
     "name": "stdout",
     "output_type": "stream",
     "text": [
      "41       Action,Biography,Drama\n",
      "113       Biography,Drama,Sport\n",
      "116     Action,Animation,Sci-Fi\n",
      "139         Biography,Drama,War\n",
      "144       Drama,Fantasy,Mystery\n",
      "163      Animation,Comedy,Drama\n",
      "174          Drama,Thriller,War\n",
      "184            Action,Drama,War\n",
      "229            Animation,Sci-Fi\n",
      "244    Action,Adventure,Western\n",
      "251            Adventure,Sci-Fi\n",
      "341         Action,Comedy,Music\n",
      "Name: label, dtype: object\n",
      "Total number of movies in cluster => 48\n",
      "Total number of tokens in cluster => 404923\n",
      "############################################################\n",
      "5               Comedy,Romance\n",
      "75                 Drama,Music\n",
      "82         Comedy,Drama,Family\n",
      "105      Comedy,Horror,Romance\n",
      "124                    Romance\n",
      "150       Drama,Horror,Romance\n",
      "169      Comedy,Family,Romance\n",
      "218            Animation,Drama\n",
      "269        Comedy,Crime,Horror\n",
      "278    Biography,Drama,Fantasy\n",
      "287                      Music\n",
      "311        Crime,Drama,Fantasy\n",
      "336       Drama,Music,Thriller\n",
      "340               Thriller,War\n",
      "343     Comedy,Romance,Western\n",
      "344     Comedy,Musical,Romance\n",
      "348      Comedy,Romance,Sci-Fi\n",
      "Name: label, dtype: object\n",
      "Total number of movies in cluster => 132\n",
      "Total number of tokens in cluster => 1428742\n",
      "############################################################\n",
      "20           Crime,Drama,Mystery\n",
      "57        Crime,Mystery,Thriller\n",
      "62        Action,Adventure,Crime\n",
      "69     Action,Adventure,Thriller\n",
      "94          Action,Crime,Mystery\n",
      "122                Drama,Western\n",
      "130       Action,Comedy,Thriller\n",
      "147      Action,Mystery,Thriller\n",
      "176        Comedy,Horror,Mystery\n",
      "181     Mystery,Romance,Thriller\n",
      "202      Romance,Sci-Fi,Thriller\n",
      "204             Thriller,Western\n",
      "224      Adventure,Drama,Western\n",
      "228         Comedy,Crime,Mystery\n",
      "236         Action,Crime,Romance\n",
      "250      Action,Thriller,Western\n",
      "257             Biography,Comedy\n",
      "258               Action,Mystery\n",
      "262    Adventure,History,Romance\n",
      "273          Comedy,Drama,Sci-Fi\n",
      "280                Crime,Mystery\n",
      "282            Drama,Mystery,War\n",
      "286      Adventure,Comedy,Sci-Fi\n",
      "314        Crime,Mystery,Romance\n",
      "317        Action,Horror,Romance\n",
      "324     Animation,Comedy,Fantasy\n",
      "332       Crime,Romance,Thriller\n",
      "342       Music,Mystery,Thriller\n",
      "Name: label, dtype: object\n",
      "Total number of movies in cluster => 113\n",
      "Total number of tokens in cluster => 937459\n",
      "############################################################\n",
      "11                         Documentary\n",
      "77                   Documentary,Music\n",
      "114                  Crime,Documentary\n",
      "117                  Documentary,Drama\n",
      "120        Biography,Documentary,Music\n",
      "125              Biography,Documentary\n",
      "156         Action,Adventure,Biography\n",
      "182                  Documentary,Sport\n",
      "188        Biography,Documentary,Drama\n",
      "191                   Documentary,News\n",
      "207        Biography,Documentary,Sport\n",
      "216       Action,Adventure,Documentary\n",
      "221                Documentary,History\n",
      "232        Adventure,Documentary,Sport\n",
      "268          Documentary,History,Music\n",
      "274         Documentary,Family,History\n",
      "295                Documentary,Mystery\n",
      "296            Crime,Documentary,Drama\n",
      "300            Documentary,History,War\n",
      "303           Documentary,Drama,Family\n",
      "310               Documentary,Thriller\n",
      "318         Adventure,Animation,Sci-Fi\n",
      "319              Comedy,Musical,Sci-Fi\n",
      "320       Action,Biography,Documentary\n",
      "321          Documentary,History,Sport\n",
      "325    Animation,Biography,Documentary\n",
      "335              Animation,Documentary\n",
      "345          Crime,Documentary,History\n",
      "347             Biography,Comedy,Crime\n",
      "349                    Documentary,War\n",
      "Name: label, dtype: object\n",
      "Total number of movies in cluster => 127\n",
      "Total number of tokens in cluster => 1220211\n",
      "############################################################\n",
      "16         Action,Comedy,Crime\n",
      "18                      Action\n",
      "29              Crime,Thriller\n",
      "64                       Crime\n",
      "78             Sci-Fi,Thriller\n",
      "101            Comedy,Thriller\n",
      "107       Action,Comedy,Sci-Fi\n",
      "143       Action,Drama,Fantasy\n",
      "162           Romance,Thriller\n",
      "167    Adventure,Drama,Romance\n",
      "192        Action,Drama,Horror\n",
      "264        Action,Crime,Horror\n",
      "285     Mystery,Romance,Sci-Fi\n",
      "Name: label, dtype: object\n",
      "Total number of movies in cluster => 144\n",
      "Total number of tokens in cluster => 1162505\n",
      "############################################################\n",
      "1                      Comedy\n",
      "45               Drama,Family\n",
      "73     Adventure,Drama,Family\n",
      "95                Drama,Sport\n",
      "134        Comedy,Drama,Sport\n",
      "158        Action,Drama,Sport\n",
      "208       Comedy,Horror,Music\n",
      "247       Comedy,Family,Music\n",
      "248         Adventure,Romance\n",
      "249    Adventure,Crime,Family\n",
      "276     Adventure,Drama,Sport\n",
      "294       Comedy,Crime,Family\n",
      "338                 Biography\n",
      "339       Comedy,Family,Sport\n",
      "Name: label, dtype: object\n",
      "Total number of movies in cluster => 242\n",
      "Total number of tokens in cluster => 2643012\n",
      "############################################################\n",
      "22                 Biography,Drama\n",
      "33         Biography,Drama,Romance\n",
      "47                       Drama,War\n",
      "51          Biography,Comedy,Drama\n",
      "71           Biography,Crime,Drama\n",
      "72              Comedy,Drama,Music\n",
      "80                    Drama,Sci-Fi\n",
      "81           Drama,History,Romance\n",
      "106           Drama,Mystery,Sci-Fi\n",
      "178           Action,Drama,Mystery\n",
      "206            Comedy,Drama,Horror\n",
      "243         Animation,Drama,Sci-Fi\n",
      "277            Drama,Family,Sci-Fi\n",
      "304       Comedy,Documentary,Drama\n",
      "307           Drama,Family,Fantasy\n",
      "309    Adventure,Documentary,Drama\n",
      "327          Comedy,Drama,Thriller\n",
      "Name: label, dtype: object\n",
      "Total number of movies in cluster => 132\n",
      "Total number of tokens in cluster => 1179051\n",
      "############################################################\n",
      "0                             Drama\n",
      "2                      Comedy,Drama\n",
      "3                     Drama,Romance\n",
      "4              Comedy,Drama,Romance\n",
      "40            Drama,Horror,Thriller\n",
      "52           Drama,Romance,Thriller\n",
      "53             Comedy,Drama,Fantasy\n",
      "79            Biography,Drama,Music\n",
      "83          Adventure,Drama,Fantasy\n",
      "85                     Drama,Horror\n",
      "87              Crime,Drama,Romance\n",
      "110           Drama,Fantasy,Romance\n",
      "126            Comedy,Drama,Musical\n",
      "148            Drama,Romance,Sci-Fi\n",
      "180          Comedy,Fantasy,Romance\n",
      "186            Drama,Fantasy,Sci-Fi\n",
      "199                 Fantasy,Romance\n",
      "214         Action,Romance,Thriller\n",
      "238           Drama,Fantasy,Musical\n",
      "241            Action,Drama,Western\n",
      "254        Animation,Drama,Thriller\n",
      "256                  Family,Mystery\n",
      "263            Crime,Horror,Romance\n",
      "270    Biography,Documentary,Family\n",
      "272            Drama,Family,Mystery\n",
      "279         Animation,Drama,Romance\n",
      "293             Drama,Fantasy,Music\n",
      "313           Fantasy,Horror,Sci-Fi\n",
      "322            Drama,Family,Romance\n",
      "334           Crime,Sci-Fi,Thriller\n",
      "Name: label, dtype: object\n",
      "Total number of movies in cluster => 866\n",
      "Total number of tokens in cluster => 7020346\n",
      "############################################################\n",
      "7               Drama,Thriller\n",
      "8              Horror,Thriller\n",
      "12        Crime,Drama,Thriller\n",
      "13                    Thriller\n",
      "25     Horror,Mystery,Thriller\n",
      "36      Drama,Mystery,Thriller\n",
      "49            Mystery,Thriller\n",
      "54        Drama,Horror,Mystery\n",
      "55        Drama,Fantasy,Horror\n",
      "59              Horror,Mystery\n",
      "66       Drama,Mystery,Romance\n",
      "68               Drama,Mystery\n",
      "90         Drama,Horror,Sci-Fi\n",
      "97       Crime,Horror,Thriller\n",
      "100      Drama,Sci-Fi,Thriller\n",
      "119     Fantasy,Horror,Mystery\n",
      "123         Crime,Drama,Horror\n",
      "142    Fantasy,Horror,Thriller\n",
      "145    Mystery,Sci-Fi,Thriller\n",
      "152      Action,Comedy,Romance\n",
      "157       Comedy,Romance,Sport\n",
      "172    Action,Fantasy,Thriller\n",
      "193      Action,Mystery,Sci-Fi\n",
      "215       Crime,Horror,Mystery\n",
      "306         Drama,Family,Music\n",
      "Name: label, dtype: object\n",
      "Total number of movies in cluster => 430\n",
      "Total number of tokens in cluster => 3061743\n",
      "############################################################\n",
      "17          Action,Adventure,Drama\n",
      "28        Action,Adventure,Fantasy\n",
      "35                    Action,Drama\n",
      "37            Action,Drama,History\n",
      "60                Action,Adventure\n",
      "65                   Drama,History\n",
      "91               Adventure,Fantasy\n",
      "92                       Adventure\n",
      "115        Adventure,Drama,History\n",
      "128           Comedy,Drama,History\n",
      "140          Action,Fantasy,Sci-Fi\n",
      "168                 Action,Fantasy\n",
      "187               Adventure,Horror\n",
      "190       Action,Adventure,Romance\n",
      "196                Crime,Drama,War\n",
      "213         Action,Animation,Crime\n",
      "234              Adventure,History\n",
      "235                 Action,History\n",
      "237       Action,Adventure,History\n",
      "252        Fantasy,Mystery,Romance\n",
      "261                Mystery,Western\n",
      "271        Action,History,Thriller\n",
      "284             Crime,Drama,Sci-Fi\n",
      "288          Action,Comedy,Western\n",
      "298    Adventure,Biography,History\n",
      "299              Biography,History\n",
      "323        Biography,Drama,Musical\n",
      "346         Drama,Thriller,Western\n",
      "Name: label, dtype: object\n",
      "Total number of movies in cluster => 177\n",
      "Total number of tokens in cluster => 1265882\n",
      "############################################################\n",
      "19                     Crime,Drama\n",
      "93                   Drama,Fantasy\n",
      "109            Action,Comedy,Drama\n",
      "118                   Action,Crime\n",
      "127              Drama,Romance,War\n",
      "132                        Fantasy\n",
      "153         Comedy,Horror,Thriller\n",
      "159       Adventure,Drama,Thriller\n",
      "165           Action,Comedy,Family\n",
      "173           Action,Drama,Romance\n",
      "194        Horror,Romance,Thriller\n",
      "203       Action,Animation,Fantasy\n",
      "210                 Action,Romance\n",
      "227         Action,Fantasy,Romance\n",
      "231         Action,Animation,Drama\n",
      "253    Adventure,Animation,Fantasy\n",
      "259                 Comedy,Musical\n",
      "283           Drama,History,Horror\n",
      "292          Adventure,Crime,Drama\n",
      "330       Adventure,Comedy,Western\n",
      "Name: label, dtype: object\n",
      "Total number of movies in cluster => 90\n",
      "Total number of tokens in cluster => 724154\n",
      "############################################################\n",
      "86          Comedy,Fantasy,Horror\n",
      "108                       Western\n",
      "146     Adventure,Fantasy,Mystery\n",
      "177                Comedy,Western\n",
      "200       Action,Animation,Comedy\n",
      "219         Drama,Musical,Romance\n",
      "245     Adventure,Fantasy,Musical\n",
      "289    Animation,Mystery,Thriller\n",
      "315        Family,Fantasy,Musical\n",
      "328                 Drama,Musical\n",
      "Name: label, dtype: object\n",
      "Total number of movies in cluster => 28\n",
      "Total number of tokens in cluster => 225177\n",
      "############################################################\n",
      "15       Action,Adventure,Sci-Fi\n",
      "32          Action,Horror,Sci-Fi\n",
      "39        Action,Sci-Fi,Thriller\n",
      "43        Horror,Sci-Fi,Thriller\n",
      "67                 Action,Horror\n",
      "111     Action,Adventure,Mystery\n",
      "131          Action,Drama,Sci-Fi\n",
      "161                          War\n",
      "175      Action,Animation,Horror\n",
      "197        Horror,Mystery,Sci-Fi\n",
      "233     Adventure,Mystery,Sci-Fi\n",
      "246    Adventure,Sci-Fi,Thriller\n",
      "290           Adventure,Thriller\n",
      "297    Animation,Biography,Drama\n",
      "305     Adventure,Crime,Thriller\n",
      "333                   Horror,War\n",
      "Name: label, dtype: object\n",
      "Total number of movies in cluster => 129\n",
      "Total number of tokens in cluster => 1032657\n",
      "############################################################\n",
      "10     Adventure,Animation,Comedy\n",
      "30                         Family\n",
      "31     Action,Adventure,Animation\n",
      "48        Adventure,Comedy,Family\n",
      "56     Adventure,Animation,Family\n",
      "63                  Comedy,Family\n",
      "84        Animation,Comedy,Family\n",
      "99               Animation,Family\n",
      "104                Comedy,Fantasy\n",
      "135                 Comedy,Sci-Fi\n",
      "136                  Comedy,Music\n",
      "138         Comedy,Family,Fantasy\n",
      "155              Animation,Comedy\n",
      "166        Adventure,Comedy,Crime\n",
      "179      Animation,Family,Fantasy\n",
      "183                     Animation\n",
      "189      Adventure,Comedy,Fantasy\n",
      "198          Comedy,Music,Musical\n",
      "201       Adventure,Comedy,Horror\n",
      "212                  Comedy,Sport\n",
      "226           Action,Drama,Family\n",
      "230           Adventure,Animation\n",
      "240        Animation,Comedy,Crime\n",
      "242    Adventure,Biography,Comedy\n",
      "265        Adventure,Drama,Horror\n",
      "266      Animation,Family,Musical\n",
      "275         Comedy,Horror,Musical\n",
      "301        Drama,Fantasy,Thriller\n",
      "326     Adventure,Biography,Crime\n",
      "329                       Musical\n",
      "331         Comedy,Fantasy,Sci-Fi\n",
      "337       Comedy,Fantasy,Thriller\n",
      "351     Action,Comedy,Documentary\n",
      "Name: label, dtype: object\n",
      "Total number of movies in cluster => 217\n",
      "Total number of tokens in cluster => 1923868\n",
      "############################################################\n",
      "6                        Horror\n",
      "26                Comedy,Horror\n",
      "42         Action,Comedy,Horror\n",
      "58             Adventure,Family\n",
      "70             Adventure,Comedy\n",
      "74                Horror,Sci-Fi\n",
      "76         Comedy,Horror,Sci-Fi\n",
      "141              Fantasy,Horror\n",
      "170      Action,Biography,Crime\n",
      "211     Adventure,Family,Sci-Fi\n",
      "217         Drama,Music,Romance\n",
      "255     Adventure,Horror,Sci-Fi\n",
      "267        Comedy,Crime,Romance\n",
      "281    Fantasy,Mystery,Thriller\n",
      "302      Action,Fantasy,Western\n",
      "312        Drama,Family,History\n",
      "316         Drama,History,Sport\n",
      "Name: label, dtype: object\n",
      "Total number of movies in cluster => 177\n",
      "Total number of tokens in cluster => 1254290\n",
      "############################################################\n",
      "9           Action,Crime,Drama\n",
      "14       Action,Crime,Thriller\n",
      "24             Action,Thriller\n",
      "38       Action,Drama,Thriller\n",
      "96       Action,Fantasy,Horror\n",
      "121     Action,Horror,Thriller\n",
      "137      Action,Horror,Mystery\n",
      "154        Action,Crime,Sci-Fi\n",
      "171        Crime,Drama,History\n",
      "195        Action,Comedy,Sport\n",
      "222    Action,Adventure,Horror\n",
      "225             Horror,Romance\n",
      "239       Action,Crime,Fantasy\n",
      "Name: label, dtype: object\n",
      "Total number of movies in cluster => 193\n",
      "Total number of tokens in cluster => 1462058\n",
      "############################################################\n",
      "21       Biography,Drama,History\n",
      "61             Drama,History,War\n",
      "89      Biography,Drama,Thriller\n",
      "98                 Action,Sci-Fi\n",
      "112                       Sci-Fi\n",
      "151    Adventure,Biography,Drama\n",
      "160       Drama,History,Thriller\n",
      "185       Adventure,Drama,Sci-Fi\n",
      "205              Adventure,Drama\n",
      "220                   Comedy,War\n",
      "223             Comedy,Drama,War\n",
      "260          Adventure,Biography\n",
      "291                   Action,War\n",
      "308               Family,Fantasy\n",
      "350                  Romance,War\n",
      "Name: label, dtype: object\n",
      "Total number of movies in cluster => 81\n",
      "Total number of tokens in cluster => 748964\n",
      "############################################################\n",
      "23       Action,Adventure,Comedy\n",
      "27            Comedy,Crime,Drama\n",
      "34                 Action,Comedy\n",
      "44      Adventure,Family,Fantasy\n",
      "46        Adventure,Comedy,Drama\n",
      "50                  Comedy,Crime\n",
      "88         Comedy,Crime,Thriller\n",
      "102        Action,Comedy,Fantasy\n",
      "103      Action,Adventure,Family\n",
      "129    Adventure,Animation,Drama\n",
      "133         Comedy,Drama,Mystery\n",
      "149               Comedy,Mystery\n",
      "164       Animation,Drama,Family\n",
      "209      Animation,Drama,Fantasy\n",
      "Name: label, dtype: object\n",
      "Total number of movies in cluster => 153\n",
      "Total number of tokens in cluster => 1466940\n",
      "############################################################\n"
     ]
    }
   ],
   "source": [
    "for cluster_df in dfs:\n",
    "    print(cluster_df.label)\n",
    "    print(f'Total number of movies in cluster => {cluster_df.n_texts.sum()}')\n",
    "    print(f'Total number of tokens in cluster => {cluster_df.n_tokens.sum()}')\n",
    "    print('#'*60)"
   ]
  },
  {
   "cell_type": "code",
   "execution_count": null,
   "metadata": {},
   "outputs": [],
   "source": []
  },
  {
   "cell_type": "code",
   "execution_count": null,
   "metadata": {},
   "outputs": [],
   "source": []
  }
 ],
 "metadata": {
  "kernelspec": {
   "display_name": "Python 3",
   "language": "python",
   "name": "python3"
  },
  "language_info": {
   "codemirror_mode": {
    "name": "ipython",
    "version": 3
   },
   "file_extension": ".py",
   "mimetype": "text/x-python",
   "name": "python",
   "nbconvert_exporter": "python",
   "pygments_lexer": "ipython3",
   "version": "3.8.2"
  }
 },
 "nbformat": 4,
 "nbformat_minor": 4
}
