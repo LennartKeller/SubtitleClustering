{
 "cells": [
  {
   "cell_type": "code",
   "execution_count": 1,
   "metadata": {},
   "outputs": [],
   "source": [
    "import pandas as pd\n",
    "import matplotlib.pyplot as plt\n",
    "import numpy as np\n",
    "import plotly.graph_objects as go\n",
    "import seaborn as sns\n",
    "from sklearn.feature_extraction.text import TfidfVectorizer\n",
    "from stop_words import get_stop_words\n",
    "from sklearn.decomposition import PCA\n",
    "from sklearn.cluster import KMeans\n",
    "from umap import UMAP\n",
    "from collections import Counter"
   ]
  },
  {
   "cell_type": "code",
   "execution_count": 2,
   "metadata": {},
   "outputs": [],
   "source": [
    "df = pd.read_csv('../dataset/movies_complete.csv')\n",
    "df.dropna(subset=['genre'], inplace=True)\n",
    "df['text_length'] = df.text.apply(lambda x: len(x.split()))\n",
    "df = df[df['text_length'] >= 3000]"
   ]
  },
  {
   "cell_type": "code",
   "execution_count": 3,
   "metadata": {},
   "outputs": [],
   "source": [
    "def aggregate_by_label(df: pd.DataFrame, label: str, min_threshold: int = 0):\n",
    "    \n",
    "    top_labels = df[label].value_counts()[df[label].value_counts() > min_threshold]\n",
    "    \n",
    "    entries = []\n",
    "    for l in top_labels.index:\n",
    "        label_df = df[df[label] == l]\n",
    "        all_texts = []\n",
    "        for text in label_df.text:\n",
    "            all_texts.append(text)\n",
    "        entry = {}\n",
    "        \n",
    "        conctanated_text = \" \".join(all_texts)\n",
    "        entry['label'] = l\n",
    "        entry['text'] = conctanated_text\n",
    "        entry['n_texts'] = len(all_texts)\n",
    "        entry['n_tokens'] = len(conctanated_text.split())\n",
    "        entry['instances'] = \", \".join(label_df.filename.to_list())\n",
    "        \n",
    "        entries.append(entry)\n",
    "    return pd.DataFrame.from_records(entries)"
   ]
  },
  {
   "cell_type": "code",
   "execution_count": 4,
   "metadata": {},
   "outputs": [],
   "source": [
    "def get_cluster_dfs(df, cluster):\n",
    "    return[df[cluster == i] for i in np.unique(cluster)]"
   ]
  },
  {
   "cell_type": "code",
   "execution_count": 5,
   "metadata": {},
   "outputs": [],
   "source": [
    "from plotly.colors import qualitative \n",
    "\n",
    "def plotly_color_categorical_values(values, cmap=qualitative.Light24):\n",
    "    uniq = np.unique(values)\n",
    "    if len(uniq) > len(cmap):\n",
    "        print(\"Need more colors than current cmap holds\")\n",
    "        return\n",
    "    categories_color = {cat: cmap[index] for index, cat in enumerate(uniq)}\n",
    "    return [categories_color[cat] for cat in values]"
   ]
  },
  {
   "cell_type": "code",
   "execution_count": 201,
   "metadata": {},
   "outputs": [],
   "source": [
    "aggr = aggregate_by_label(df, 'genre', 0)"
   ]
  },
  {
   "cell_type": "code",
   "execution_count": 202,
   "metadata": {},
   "outputs": [],
   "source": [
    "tfidf = TfidfVectorizer(\n",
    "    #stop_words=get_stop_words('de'),\n",
    "    max_features=250)\n",
    "\n",
    "X = tfidf.fit_transform(aggr.text)\n",
    "X = X.todense()"
   ]
  },
  {
   "cell_type": "code",
   "execution_count": 203,
   "metadata": {},
   "outputs": [],
   "source": [
    "Xr = UMAP(n_components=2, n_neighbors=20).fit_transform(X)\n",
    "#Xr = PCA(n_components=2).fit_transform(X)"
   ]
  },
  {
   "cell_type": "code",
   "execution_count": 204,
   "metadata": {},
   "outputs": [
    {
     "data": {
      "application/vnd.plotly.v1+json": {
       "config": {
        "plotlyServerURL": "https://plot.ly"
       },
       "data": [
        {
         "marker": {
          "color": [
           2674369,
           2233492,
           1300900,
           1016722,
           1198594,
           1015203,
           462316,
           545452,
           447645,
           542220,
           562622,
           619572,
           514264,
           343265,
           366818,
           396140,
           426025,
           283838,
           231782,
           304024,
           282027,
           304749,
           284118,
           264644,
           214763,
           191435,
           209863,
           261093,
           146342,
           169823,
           186666,
           169261,
           129658,
           173914,
           179958,
           113772,
           133304,
           158313,
           127344,
           127969,
           97203,
           124264,
           99207,
           103483,
           113566,
           104418,
           135654,
           104008,
           135383,
           96014,
           185093,
           155559,
           85787,
           114469,
           78181,
           81141,
           89085,
           94362,
           101966,
           84990,
           69526,
           94720,
           82350,
           107763,
           83527,
           74898,
           93552,
           64112,
           85138,
           82038,
           119205,
           107730,
           93600,
           70389,
           59302,
           86744,
           79783,
           58055,
           58333,
           77853,
           52606,
           67331,
           72959,
           58715,
           67038,
           40650,
           60891,
           51468,
           63776,
           74231,
           44402,
           66902,
           39840,
           48161,
           57574,
           78998,
           39489,
           43673,
           54093,
           49738,
           32613,
           53080,
           56015,
           44575,
           73290,
           53072,
           43569,
           52658,
           34164,
           66538,
           53957,
           67069,
           38854,
           55955,
           53175,
           46369,
           32170,
           32360,
           37005,
           29918,
           52375,
           27478,
           34546,
           35651,
           37682,
           56399,
           35770,
           32659,
           44755,
           36520,
           32330,
           26739,
           35112,
           43105,
           47547,
           48761,
           51950,
           25181,
           33828,
           39393,
           27371,
           25934,
           21669,
           24630,
           39705,
           35628,
           38013,
           36583,
           29699,
           46041,
           33796,
           26787,
           37665,
           28682,
           34684,
           25597,
           26139,
           30368,
           33841,
           31295,
           37927,
           26392,
           17230,
           28224,
           19388,
           27102,
           26825,
           23461,
           19646,
           36797,
           20850,
           31449,
           24673,
           18002,
           22284,
           17918,
           25632,
           33846,
           23582,
           23478,
           39284,
           22317,
           25075,
           19883,
           21171,
           26807,
           23581,
           17169,
           38143,
           29053,
           16773,
           27849,
           9224,
           14377,
           9463,
           16536,
           19220,
           18886,
           23416,
           11958,
           13808,
           17938,
           17110,
           12669,
           11333,
           19436,
           16275,
           22889,
           16505,
           17512,
           10557,
           16702,
           20076,
           15026,
           13256,
           10095,
           12628,
           13919,
           13071,
           17020,
           18127,
           23739,
           13966,
           22128,
           14494,
           8041,
           19651,
           11948,
           18399,
           11193,
           16682,
           17900,
           13640,
           18388,
           10258,
           10771,
           16307,
           13231,
           9001,
           14089,
           15609,
           11130,
           20793,
           20506,
           16549,
           4213,
           8770,
           7922,
           7823,
           6264,
           6609,
           6242,
           6046,
           6263,
           8009,
           5284,
           5860,
           8741,
           10710,
           9362,
           8046,
           3408,
           9350,
           5386,
           3353,
           6641,
           8578,
           16653,
           9270,
           8448,
           9776,
           5743,
           9505,
           9665,
           15947,
           7120,
           5599,
           5765,
           13924,
           3563,
           9185,
           6064,
           7702,
           5274,
           8211,
           9379,
           11528,
           5988,
           19430,
           7879,
           8794,
           7659,
           4564,
           10094,
           6907,
           11695,
           10545,
           7488,
           8718,
           6216,
           7225,
           10024,
           3786,
           6932,
           10658,
           7071,
           6630,
           7428,
           7868,
           3843,
           14151,
           8153,
           6236,
           3056,
           8096,
           8941,
           7220,
           8093,
           7181,
           7512,
           6492,
           10987,
           12181,
           9205,
           7352,
           7284,
           10684,
           8559,
           6402,
           14396,
           7574,
           12288,
           6081,
           3780,
           8550,
           7418,
           8466,
           10010,
           12363,
           10944,
           6479,
           7773,
           6945,
           13075,
           7553,
           13006,
           4885,
           14293,
           7332,
           8235,
           7532,
           9741
          ]
         },
         "mode": "markers",
         "text": [
          "Drama|370",
          "Comedy|195",
          "Comedy,Drama|139",
          "Drama,Romance|132",
          "Comedy,Drama,Romance|116",
          "Comedy,Romance|85",
          "Horror|77",
          "Drama,Thriller|74",
          "Horror,Thriller|69",
          "Action,Crime,Drama|67",
          "Adventure,Animation,Comedy|65",
          "Documentary|64",
          "Crime,Drama,Thriller|62",
          "Thriller|53",
          "Action,Crime,Thriller|49",
          "Action,Adventure,Sci-Fi|41",
          "Action,Comedy,Crime|41",
          "Action,Adventure,Drama|36",
          "Action|36",
          "Crime,Drama|35",
          "Crime,Drama,Mystery|30",
          "Biography,Drama,History|30",
          "Biography,Drama|30",
          "Action,Adventure,Comedy|28",
          "Action,Thriller|28",
          "Horror,Mystery,Thriller|28",
          "Comedy,Horror|27",
          "Comedy,Crime,Drama|26",
          "Action,Adventure,Fantasy|25",
          "Crime,Thriller|22",
          "Family|22",
          "Action,Adventure,Animation|22",
          "Action,Horror,Sci-Fi|20",
          "Biography,Drama,Romance|20",
          "Action,Comedy|19",
          "Action,Drama|19",
          "Drama,Mystery,Thriller|19",
          "Action,Drama,History|19",
          "Action,Drama,Thriller|18",
          "Action,Sci-Fi,Thriller|18",
          "Drama,Horror,Thriller|16",
          "Action,Biography,Drama|15",
          "Action,Comedy,Horror|15",
          "Horror,Sci-Fi,Thriller|15",
          "Adventure,Family,Fantasy|15",
          "Drama,Family|14",
          "Adventure,Comedy,Drama|14",
          "Drama,War|14",
          "Adventure,Comedy,Family|14",
          "Mystery,Thriller|14",
          "Comedy,Crime|14",
          "Biography,Comedy,Drama|14",
          "Drama,Romance,Thriller|12",
          "Comedy,Drama,Fantasy|12",
          "Drama,Horror,Mystery|12",
          "Drama,Fantasy,Horror|12",
          "Adventure,Animation,Family|12",
          "Crime,Mystery,Thriller|12",
          "Adventure,Family|12",
          "Horror,Mystery|12",
          "Action,Adventure|12",
          "Drama,History,War|12",
          "Action,Adventure,Crime|11",
          "Comedy,Family|11",
          "Crime|11",
          "Drama,History|11",
          "Drama,Mystery,Romance|11",
          "Action,Horror|11",
          "Drama,Mystery|11",
          "Action,Adventure,Thriller|11",
          "Adventure,Comedy|10",
          "Biography,Crime,Drama|10",
          "Comedy,Drama,Music|10",
          "Adventure,Drama,Family|10",
          "Horror,Sci-Fi|10",
          "Drama,Music|10",
          "Comedy,Horror,Sci-Fi|9",
          "Documentary,Music|8",
          "Sci-Fi,Thriller|8",
          "Biography,Drama,Music|8",
          "Drama,Sci-Fi|8",
          "Drama,History,Romance|8",
          "Comedy,Drama,Family|8",
          "Adventure,Drama,Fantasy|8",
          "Animation,Comedy,Family|8",
          "Drama,Horror|7",
          "Comedy,Fantasy,Horror|7",
          "Crime,Drama,Romance|7",
          "Comedy,Crime,Thriller|7",
          "Biography,Drama,Thriller|7",
          "Drama,Horror,Sci-Fi|7",
          "Adventure,Fantasy|7",
          "Adventure|7",
          "Drama,Fantasy|7",
          "Action,Crime,Mystery|7",
          "Drama,Sport|7",
          "Action,Fantasy,Horror|7",
          "Crime,Horror,Thriller|7",
          "Action,Sci-Fi|7",
          "Animation,Family|7",
          "Drama,Sci-Fi,Thriller|6",
          "Comedy,Thriller|6",
          "Action,Comedy,Fantasy|6",
          "Action,Adventure,Family|6",
          "Comedy,Fantasy|6",
          "Comedy,Horror,Romance|6",
          "Drama,Mystery,Sci-Fi|6",
          "Action,Comedy,Sci-Fi|6",
          "Western|6",
          "Action,Comedy,Drama|6",
          "Drama,Fantasy,Romance|6",
          "Action,Adventure,Mystery|5",
          "Sci-Fi|5",
          "Biography,Drama,Sport|5",
          "Crime,Documentary|5",
          "Adventure,Drama,History|5",
          "Action,Animation,Sci-Fi|5",
          "Documentary,Drama|5",
          "Action,Crime|5",
          "Fantasy,Horror,Mystery|5",
          "Biography,Documentary,Music|5",
          "Action,Horror,Thriller|5",
          "Drama,Western|5",
          "Crime,Drama,Horror|5",
          "Romance|5",
          "Biography,Documentary|5",
          "Comedy,Drama,Musical|5",
          "Drama,Romance,War|5",
          "Comedy,Drama,History|5",
          "Adventure,Animation,Drama|5",
          "Action,Comedy,Thriller|4",
          "Action,Drama,Sci-Fi|4",
          "Fantasy|4",
          "Comedy,Drama,Mystery|4",
          "Comedy,Drama,Sport|4",
          "Comedy,Sci-Fi|4",
          "Comedy,Music|4",
          "Action,Horror,Mystery|4",
          "Comedy,Family,Fantasy|4",
          "Biography,Drama,War|4",
          "Action,Fantasy,Sci-Fi|4",
          "Fantasy,Horror|4",
          "Fantasy,Horror,Thriller|4",
          "Action,Drama,Fantasy|4",
          "Drama,Fantasy,Mystery|4",
          "Mystery,Sci-Fi,Thriller|4",
          "Adventure,Fantasy,Mystery|4",
          "Action,Mystery,Thriller|4",
          "Drama,Romance,Sci-Fi|4",
          "Comedy,Mystery|4",
          "Drama,Horror,Romance|4",
          "Adventure,Biography,Drama|4",
          "Action,Comedy,Romance|4",
          "Comedy,Horror,Thriller|4",
          "Action,Crime,Sci-Fi|4",
          "Animation,Comedy|3",
          "Action,Adventure,Biography|3",
          "Comedy,Romance,Sport|3",
          "Action,Drama,Sport|3",
          "Adventure,Drama,Thriller|3",
          "Drama,History,Thriller|3",
          "War|3",
          "Romance,Thriller|3",
          "Animation,Comedy,Drama|3",
          "Animation,Drama,Family|3",
          "Action,Comedy,Family|3",
          "Adventure,Comedy,Crime|3",
          "Adventure,Drama,Romance|3",
          "Action,Fantasy|3",
          "Comedy,Family,Romance|3",
          "Action,Biography,Crime|3",
          "Crime,Drama,History|3",
          "Action,Fantasy,Thriller|3",
          "Action,Drama,Romance|3",
          "Drama,Thriller,War|3",
          "Action,Animation,Horror|3",
          "Comedy,Horror,Mystery|3",
          "Comedy,Western|3",
          "Action,Drama,Mystery|3",
          "Animation,Family,Fantasy|3",
          "Comedy,Fantasy,Romance|3",
          "Mystery,Romance,Thriller|3",
          "Documentary,Sport|3",
          "Animation|3",
          "Action,Drama,War|3",
          "Adventure,Drama,Sci-Fi|3",
          "Drama,Fantasy,Sci-Fi|3",
          "Adventure,Horror|3",
          "Biography,Documentary,Drama|3",
          "Adventure,Comedy,Fantasy|3",
          "Action,Adventure,Romance|2",
          "Documentary,News|2",
          "Action,Drama,Horror|2",
          "Action,Mystery,Sci-Fi|2",
          "Horror,Romance,Thriller|2",
          "Action,Comedy,Sport|2",
          "Crime,Drama,War|2",
          "Horror,Mystery,Sci-Fi|2",
          "Comedy,Music,Musical|2",
          "Fantasy,Romance|2",
          "Action,Animation,Comedy|2",
          "Adventure,Comedy,Horror|2",
          "Romance,Sci-Fi,Thriller|2",
          "Action,Animation,Fantasy|2",
          "Thriller,Western|2",
          "Adventure,Drama|2",
          "Comedy,Drama,Horror|2",
          "Biography,Documentary,Sport|2",
          "Comedy,Horror,Music|2",
          "Animation,Drama,Fantasy|2",
          "Action,Romance|2",
          "Adventure,Family,Sci-Fi|2",
          "Comedy,Sport|2",
          "Action,Animation,Crime|2",
          "Action,Romance,Thriller|2",
          "Crime,Horror,Mystery|2",
          "Action,Adventure,Documentary|2",
          "Drama,Music,Romance|2",
          "Animation,Drama|2",
          "Drama,Musical,Romance|2",
          "Comedy,War|2",
          "Documentary,History|2",
          "Action,Adventure,Horror|2",
          "Comedy,Drama,War|2",
          "Adventure,Drama,Western|2",
          "Horror,Romance|2",
          "Action,Drama,Family|2",
          "Action,Fantasy,Romance|2",
          "Comedy,Crime,Mystery|2",
          "Animation,Sci-Fi|2",
          "Adventure,Animation|2",
          "Action,Animation,Drama|2",
          "Adventure,Documentary,Sport|2",
          "Adventure,Mystery,Sci-Fi|2",
          "Adventure,History|2",
          "Action,History|2",
          "Action,Crime,Romance|2",
          "Action,Adventure,History|2",
          "Drama,Fantasy,Musical|2",
          "Action,Crime,Fantasy|2",
          "Animation,Comedy,Crime|2",
          "Action,Drama,Western|2",
          "Adventure,Biography,Comedy|2",
          "Animation,Drama,Sci-Fi|2",
          "Action,Adventure,Western|2",
          "Adventure,Fantasy,Musical|1",
          "Adventure,Sci-Fi,Thriller|1",
          "Comedy,Family,Music|1",
          "Adventure,Romance|1",
          "Adventure,Crime,Family|1",
          "Action,Thriller,Western|1",
          "Adventure,Sci-Fi|1",
          "Fantasy,Mystery,Romance|1",
          "Adventure,Animation,Fantasy|1",
          "Animation,Drama,Thriller|1",
          "Adventure,Horror,Sci-Fi|1",
          "Family,Mystery|1",
          "Biography,Comedy|1",
          "Action,Mystery|1",
          "Comedy,Musical|1",
          "Adventure,Biography|1",
          "Mystery,Western|1",
          "Adventure,History,Romance|1",
          "Crime,Horror,Romance|1",
          "Action,Crime,Horror|1",
          "Adventure,Drama,Horror|1",
          "Animation,Family,Musical|1",
          "Comedy,Crime,Romance|1",
          "Documentary,History,Music|1",
          "Comedy,Crime,Horror|1",
          "Biography,Documentary,Family|1",
          "Action,History,Thriller|1",
          "Drama,Family,Mystery|1",
          "Comedy,Drama,Sci-Fi|1",
          "Documentary,Family,History|1",
          "Comedy,Horror,Musical|1",
          "Adventure,Drama,Sport|1",
          "Drama,Family,Sci-Fi|1",
          "Biography,Drama,Fantasy|1",
          "Animation,Drama,Romance|1",
          "Crime,Mystery|1",
          "Fantasy,Mystery,Thriller|1",
          "Drama,Mystery,War|1",
          "Drama,History,Horror|1",
          "Crime,Drama,Sci-Fi|1",
          "Mystery,Romance,Sci-Fi|1",
          "Adventure,Comedy,Sci-Fi|1",
          "Music|1",
          "Action,Comedy,Western|1",
          "Animation,Mystery,Thriller|1",
          "Adventure,Thriller|1",
          "Action,War|1",
          "Adventure,Crime,Drama|1",
          "Drama,Fantasy,Music|1",
          "Comedy,Crime,Family|1",
          "Documentary,Mystery|1",
          "Crime,Documentary,Drama|1",
          "Animation,Biography,Drama|1",
          "Adventure,Biography,History|1",
          "Biography,History|1",
          "Documentary,History,War|1",
          "Drama,Fantasy,Thriller|1",
          "Action,Fantasy,Western|1",
          "Documentary,Drama,Family|1",
          "Comedy,Documentary,Drama|1",
          "Adventure,Crime,Thriller|1",
          "Drama,Family,Music|1",
          "Drama,Family,Fantasy|1",
          "Family,Fantasy|1",
          "Adventure,Documentary,Drama|1",
          "Documentary,Thriller|1",
          "Crime,Drama,Fantasy|1",
          "Drama,Family,History|1",
          "Fantasy,Horror,Sci-Fi|1",
          "Crime,Mystery,Romance|1",
          "Family,Fantasy,Musical|1",
          "Drama,History,Sport|1",
          "Action,Horror,Romance|1",
          "Adventure,Animation,Sci-Fi|1",
          "Comedy,Musical,Sci-Fi|1",
          "Action,Biography,Documentary|1",
          "Documentary,History,Sport|1",
          "Drama,Family,Romance|1",
          "Biography,Drama,Musical|1",
          "Animation,Comedy,Fantasy|1",
          "Animation,Biography,Documentary|1",
          "Adventure,Biography,Crime|1",
          "Comedy,Drama,Thriller|1",
          "Drama,Musical|1",
          "Musical|1",
          "Adventure,Comedy,Western|1",
          "Comedy,Fantasy,Sci-Fi|1",
          "Crime,Romance,Thriller|1",
          "Horror,War|1",
          "Crime,Sci-Fi,Thriller|1",
          "Animation,Documentary|1",
          "Drama,Music,Thriller|1",
          "Comedy,Fantasy,Thriller|1",
          "Biography|1",
          "Comedy,Family,Sport|1",
          "Thriller,War|1",
          "Action,Comedy,Music|1",
          "Music,Mystery,Thriller|1",
          "Comedy,Romance,Western|1",
          "Comedy,Musical,Romance|1",
          "Crime,Documentary,History|1",
          "Drama,Thriller,Western|1",
          "Biography,Comedy,Crime|1",
          "Comedy,Romance,Sci-Fi|1",
          "Documentary,War|1",
          "Romance,War|1",
          "Action,Comedy,Documentary|1"
         ],
         "type": "scatter",
         "x": [
          13.880824089050293,
          15.036199569702148,
          14.608570098876953,
          14.372236251831055,
          14.111129760742188,
          15.098878860473633,
          13.515518188476562,
          12.24680233001709,
          11.949567794799805,
          11.413776397705078,
          13.972970962524414,
          8.350406646728516,
          12.376867294311523,
          12.324533462524414,
          10.850680351257324,
          10.267156600952148,
          12.277020454406738,
          10.892091751098633,
          12.894501686096191,
          14.188940048217773,
          10.110692977905273,
          9.966018676757812,
          10.46976089477539,
          12.331314086914062,
          10.946785926818848,
          12.063420295715332,
          13.622361183166504,
          12.788139343261719,
          11.043971061706543,
          12.929214477539062,
          14.14731502532959,
          13.532984733581543,
          9.757333755493164,
          10.77410888671875,
          12.938117027282715,
          11.559415817260742,
          10.835037231445312,
          10.647514343261719,
          10.939369201660156,
          10.228351593017578,
          14.851811408996582,
          10.614861488342285,
          13.421666145324707,
          10.177763938903809,
          13.026089668273926,
          14.994118690490723,
          12.48134708404541,
          10.17055606842041,
          13.647717475891113,
          12.150962829589844,
          12.969261169433594,
          10.840761184692383,
          14.680472373962402,
          13.78645133972168,
          11.001388549804688,
          11.667165756225586,
          14.012432098388672,
          10.090251922607422,
          13.214812278747559,
          11.749334335327148,
          11.087345123291016,
          9.527606964111328,
          9.83684253692627,
          14.369709014892578,
          13.335039138793945,
          11.155231475830078,
          11.48615550994873,
          10.112410545349121,
          11.917705535888672,
          9.580947875976562,
          13.391661643981934,
          10.562641143798828,
          10.828853607177734,
          14.6622896194458,
          13.203206062316895,
          14.65788459777832,
          13.336455345153809,
          8.65768814086914,
          12.651339530944824,
          14.335709571838379,
          10.658172607421875,
          10.543949127197266,
          14.843685150146484,
          14.00075626373291,
          14.128494262695312,
          14.311020851135254,
          12.219351768493652,
          14.23265266418457,
          12.455111503601074,
          9.36659049987793,
          11.708939552307129,
          10.52994155883789,
          11.085693359375,
          14.00142765045166,
          9.89975643157959,
          15.094318389892578,
          10.894599914550781,
          12.014625549316406,
          9.441986083984375,
          14.031050682067871,
          12.123519897460938,
          12.389772415161133,
          12.473042488098145,
          12.676592826843262,
          14.605124473571777,
          14.997845649719238,
          10.380171775817871,
          12.069774627685547,
          11.56412410736084,
          13.67551040649414,
          13.82711124420166,
          9.73414421081543,
          9.580510139465332,
          11.060742378234863,
          8.112983703613281,
          10.483210563659668,
          10.83472728729248,
          8.717971801757812,
          13.52247428894043,
          11.680449485778809,
          8.463577270507812,
          11.332966804504395,
          9.571573257446289,
          12.026551246643066,
          14.690698623657227,
          8.350640296936035,
          14.424858093261719,
          14.232590675354004,
          10.714529991149902,
          12.800202369689941,
          9.956149101257324,
          9.863197326660156,
          14.367650985717773,
          12.415473937988281,
          14.598288536071777,
          14.639127731323242,
          14.760146141052246,
          10.751869201660156,
          14.272610664367676,
          10.234095573425293,
          10.853053092956543,
          13.364513397216797,
          11.929938316345215,
          13.14067268371582,
          10.37828540802002,
          12.047253608703613,
          11.783891677856445,
          9.846986770629883,
          13.732028007507324,
          13.256516456604004,
          14.62447738647461,
          9.7901611328125,
          12.302018165588379,
          13.5142822265625,
          11.070632934570312,
          14.767030715942383,
          9.534646987915039,
          12.749051094055176,
          15.122047424316406,
          13.358732223510742,
          9.28607177734375,
          9.981053352355957,
          12.695136070251465,
          10.064698219299316,
          12.675482749938965,
          13.928312301635742,
          14.596821784973145,
          13.62531566619873,
          10.830085754394531,
          14.98598861694336,
          13.349485397338867,
          11.4638671875,
          12.08199691772461,
          14.096940994262695,
          10.263136863708496,
          10.514130592346191,
          10.51570987701416,
          12.145126342773438,
          10.348224639892578,
          13.51435375213623,
          13.828254699707031,
          10.39598560333252,
          8.826167106628418,
          13.519186019897461,
          10.567131042480469,
          9.887425422668457,
          14.439085006713867,
          11.089879989624023,
          8.326783180236816,
          14.157821655273438,
          11.367548942565918,
          8.360235214233398,
          12.71408462524414,
          11.962235450744629,
          13.948662757873535,
          10.772454261779785,
          11.045783996582031,
          10.007256507873535,
          14.786084175109863,
          14.52426815032959,
          11.65957260131836,
          14.171319961547852,
          9.879704475402832,
          14.000709533691406,
          9.630828857421875,
          9.534136772155762,
          11.145404815673828,
          8.553750991821289,
          14.515944480895996,
          12.747034072875977,
          14.00228214263916,
          13.329490661621094,
          13.897261619567871,
          11.412818908691406,
          14.2186279296875,
          12.05115032196045,
          8.778307914733887,
          13.74625301361084,
          14.098541259765625,
          10.995762825012207,
          9.402653694152832,
          8.234025955200195,
          11.225432395935059,
          9.375804901123047,
          9.582534790039062,
          11.551546096801758,
          14.025160789489746,
          13.909965515136719,
          9.923107147216797,
          10.68418025970459,
          13.768421173095703,
          13.924577713012695,
          8.715726852416992,
          10.420978546142578,
          10.975552558898926,
          11.303692817687988,
          9.894183158874512,
          10.279120445251465,
          14.667703628540039,
          10.97156047821045,
          13.073405265808105,
          14.197505950927734,
          14.236196517944336,
          10.839908599853516,
          11.715088844299316,
          11.662099838256836,
          10.385642051696777,
          14.726147651672363,
          14.976353645324707,
          14.430683135986328,
          10.244306564331055,
          10.65163516998291,
          10.572957992553711,
          13.71207332611084,
          13.979201316833496,
          13.31531047821045,
          14.740320205688477,
          9.614065170288086,
          9.959095001220703,
          13.663893699645996,
          10.07020378112793,
          11.299381256103516,
          9.564040184020996,
          14.27816390991211,
          13.269067764282227,
          13.785645484924316,
          14.025971412658691,
          13.059256553649902,
          8.082709312438965,
          14.620543479919434,
          13.565971374511719,
          10.60439682006836,
          14.151535987854004,
          10.399002075195312,
          8.383078575134277,
          13.670145988464355,
          15.082069396972656,
          10.388812065124512,
          14.790754318237305,
          13.755581855773926,
          9.63681697845459,
          13.503340721130371,
          9.822251319885254,
          13.952916145324707,
          11.223661422729492,
          13.030779838562012,
          10.32337760925293,
          15.06011962890625,
          11.488908767700195,
          11.362873077392578,
          9.856145858764648,
          9.44808292388916,
          14.026664733886719,
          14.663556098937988,
          14.680339813232422,
          8.257465362548828,
          8.086421966552734,
          10.824029922485352,
          11.491742134094238,
          9.980978965759277,
          8.196700096130371,
          13.9844970703125,
          13.044858932495117,
          8.272148132324219,
          13.378830909729004,
          10.111536979675293,
          12.615434646606445,
          10.707453727722168,
          10.470880508422852,
          10.363658905029297,
          8.486530303955078,
          15.299384117126465,
          13.597012519836426,
          14.420951843261719,
          9.877152442932129,
          12.153373718261719,
          12.60490894317627,
          9.599000930786133,
          9.416352272033691,
          8.702061653137207,
          9.33836555480957,
          8.619145393371582,
          14.497844696044922,
          10.663037300109863,
          9.657102584838867,
          8.768279075622559,
          14.849448204040527,
          11.080496788024902,
          10.86033821105957,
          13.33585262298584,
          14.149601936340332,
          13.751358985900879,
          9.717243194580078,
          9.682647705078125,
          14.481670379638672,
          8.231244087219238,
          15.204578399658203,
          13.638823509216309,
          14.58903694152832,
          14.761845588684082,
          15.081001281738281,
          10.794679641723633,
          9.805988311767578,
          15.159745216369629,
          15.048039436340332,
          8.130311012268066,
          11.275016784667969,
          8.376134872436523,
          14.707555770874023,
          8.92109203338623,
          9.675570487976074,
          14.531380653381348
         ],
         "y": [
          6.8237714767456055,
          5.037537574768066,
          6.591892719268799,
          7.104739665985107,
          7.268386363983154,
          6.4405975341796875,
          5.424722671508789,
          7.427967071533203,
          6.901549816131592,
          6.585790157318115,
          4.214181423187256,
          4.093676567077637,
          6.901430606842041,
          6.633554935455322,
          6.891970157623291,
          6.2087178230285645,
          6.167379856109619,
          4.15775728225708,
          5.659696578979492,
          6.423271656036377,
          7.876192092895508,
          5.190502166748047,
          5.699617862701416,
          5.031373977661133,
          6.89691686630249,
          7.1476640701293945,
          4.9299163818359375,
          6.05801248550415,
          4.328991889953613,
          6.78689432144165,
          4.2770304679870605,
          4.2063069343566895,
          6.668699741363525,
          5.656275749206543,
          5.036332607269287,
          4.478770732879639,
          7.89060640335083,
          4.321678161621094,
          6.628632068634033,
          6.716447353363037,
          6.540389537811279,
          5.095393657684326,
          5.371479034423828,
          6.8968048095703125,
          5.747976779937744,
          5.242375373840332,
          5.389712810516357,
          5.743731498718262,
          4.417014122009277,
          7.364333629608154,
          4.742537021636963,
          5.770983695983887,
          6.880206108093262,
          6.658641815185547,
          7.644808769226074,
          7.516482830047607,
          4.409634113311768,
          7.675717830657959,
          4.6957268714904785,
          6.99412727355957,
          4.079034805297852,
          5.531355857849121,
          7.639732360839844,
          4.493053913116455,
          6.596493244171143,
          4.395501136779785,
          7.598665714263916,
          6.896164417266846,
          7.569637298583984,
          7.22799825668335,
          4.524822235107422,
          5.849001407623291,
          5.757301330566406,
          4.77993631362915,
          4.866570949554443,
          5.642336845397949,
          4.8149590492248535,
          4.046814441680908,
          6.331090450286865,
          6.8356781005859375,
          6.129283905029297,
          5.616941452026367,
          6.057726860046387,
          6.716629505157471,
          4.488443374633789,
          7.227400779724121,
          5.304657936096191,
          6.751656532287598,
          5.538190841674805,
          5.956058502197266,
          7.077311038970947,
          3.90021014213562,
          3.9261341094970703,
          5.806243419647217,
          7.578877925872803,
          5.39854621887207,
          6.885025501251221,
          6.793106555938721,
          6.410425662994385,
          4.154178142547607,
          7.130192279815674,
          6.315759181976318,
          5.312328815460205,
          5.063880920410156,
          4.364071369171143,
          5.9742865562438965,
          6.187352180480957,
          5.985525608062744,
          4.782114505767822,
          6.046310901641846,
          7.360452175140381,
          6.578967094421387,
          6.159176349639893,
          4.977255344390869,
          4.245604515075684,
          4.174662113189697,
          5.00345516204834,
          4.331653594970703,
          6.437127590179443,
          7.349148750305176,
          4.462752819061279,
          6.797657489776611,
          7.57924747467041,
          7.420398235321045,
          6.113497257232666,
          4.336334228515625,
          7.0747389793396,
          5.870682239532471,
          4.0000386238098145,
          5.836935043334961,
          7.360644817352295,
          7.087456703186035,
          5.544775009155273,
          5.907233715057373,
          5.004738807678223,
          4.158720016479492,
          4.22363805770874,
          6.843905448913574,
          4.378241062164307,
          4.4733500480651855,
          4.252556324005127,
          5.409029483795166,
          7.244403839111328,
          6.135993957519531,
          5.116374969482422,
          7.131328582763672,
          4.645142078399658,
          8.004347801208496,
          7.385446071624756,
          5.026763916015625,
          6.532164573669434,
          5.26308012008667,
          7.648223400115967,
          5.717608451843262,
          6.475590705871582,
          4.692321300506592,
          4.337005615234375,
          7.4389777183532715,
          5.598735332489014,
          5.934012413024902,
          5.992964267730713,
          6.453425407409668,
          6.902597427368164,
          5.122256755828857,
          5.670328140258789,
          6.253172397613525,
          4.489526748657227,
          6.489266872406006,
          4.084588050842285,
          5.942213535308838,
          5.067976474761963,
          6.507880687713623,
          6.770035266876221,
          6.036186695098877,
          4.430400848388672,
          6.612730026245117,
          7.56489896774292,
          5.038421154022217,
          5.955214500427246,
          4.1551594734191895,
          7.144284725189209,
          7.861019134521484,
          3.963466167449951,
          3.961562156677246,
          5.114555358886719,
          5.798244476318359,
          6.361741065979004,
          3.821711540222168,
          4.3756422996521,
          4.111367225646973,
          4.898383617401123,
          4.100896835327148,
          6.005018711090088,
          6.64026403427124,
          6.360061168670654,
          6.952198505401611,
          4.25618314743042,
          6.632599830627441,
          4.051063060760498,
          7.171652317047119,
          5.409595966339111,
          4.18253231048584,
          7.203920841217041,
          5.598979473114014,
          7.524211883544922,
          5.514074802398682,
          5.687806129455566,
          4.483543395996094,
          5.036563396453857,
          5.216474533081055,
          6.15598201751709,
          4.683043956756592,
          4.51854944229126,
          4.4347825050354,
          6.703621864318848,
          7.094812870025635,
          3.9797685146331787,
          4.974653720855713,
          5.286764144897461,
          4.779860019683838,
          5.661936283111572,
          3.983499050140381,
          6.714783668518066,
          6.109421253204346,
          7.431509494781494,
          6.821099758148193,
          4.268481731414795,
          5.707702159881592,
          8.125237464904785,
          4.9462971687316895,
          4.193214416503906,
          5.736966133117676,
          4.0692548751831055,
          6.858399868011475,
          4.360980033874512,
          3.980045795440674,
          8.165692329406738,
          4.148767471313477,
          6.777038097381592,
          6.616314888000488,
          4.016948223114014,
          6.868791103363037,
          4.437111854553223,
          5.461958885192871,
          4.99436092376709,
          4.575087070465088,
          6.512259483337402,
          4.734332084655762,
          5.460324764251709,
          5.288355827331543,
          7.554434299468994,
          4.415088653564453,
          3.879312515258789,
          5.920341491699219,
          6.671061038970947,
          4.921913146972656,
          6.779352188110352,
          7.916830539703369,
          7.511675834655762,
          6.286457538604736,
          5.413835048675537,
          4.2660417556762695,
          8.16033935546875,
          7.443246841430664,
          6.519082069396973,
          4.7778449058532715,
          4.848788738250732,
          4.544723987579346,
          3.838508129119873,
          5.742560386657715,
          7.4095683097839355,
          4.018495559692383,
          6.964461326599121,
          8.059126853942871,
          4.069735050201416,
          4.597122669219971,
          5.573773384094238,
          6.038904666900635,
          6.228514671325684,
          7.4494218826293945,
          8.29491138458252,
          5.510762691497803,
          7.671346187591553,
          6.490020275115967,
          4.021851539611816,
          6.4149980545043945,
          7.959127902984619,
          5.621716499328613,
          4.4357805252075195,
          5.327584266662598,
          6.552590847015381,
          6.1836256980896,
          5.971645832061768,
          6.569102764129639,
          4.5199198722839355,
          3.826280117034912,
          4.039058685302734,
          6.244903087615967,
          4.018492698669434,
          3.995465040206909,
          3.8634719848632812,
          4.564631938934326,
          5.285420894622803,
          3.759521484375,
          7.4879231452941895,
          6.84390115737915,
          7.314053058624268,
          5.802391052246094,
          5.7162394523620605,
          5.5824713706970215,
          4.1546950340271,
          5.962740421295166,
          5.037628173828125,
          6.842543125152588,
          8.222477912902832,
          5.489305019378662,
          4.618744850158691,
          7.972821235656738,
          4.095004081726074,
          4.422785758972168,
          4.846006870269775,
          4.1479172706604,
          7.101207256317139,
          3.9172768592834473,
          7.824568271636963,
          4.4057793617248535,
          4.116004943847656,
          5.962296962738037,
          4.476483345031738,
          4.22065544128418,
          6.012450695037842,
          4.017723083496094,
          8.231870651245117,
          6.757850646972656,
          6.982403755187988,
          3.684506893157959,
          5.739438056945801,
          4.704732418060303,
          5.018029689788818,
          4.832877159118652,
          5.828375339508057,
          4.824439525604248,
          8.278682708740234,
          5.693402290344238,
          6.28220272064209,
          3.6969382762908936,
          4.312147617340088,
          4.505910873413086,
          5.926021099090576,
          4.114177703857422,
          6.849085807800293,
          4.154165267944336
         ]
        }
       ],
       "layout": {
        "template": {
         "data": {
          "bar": [
           {
            "error_x": {
             "color": "#2a3f5f"
            },
            "error_y": {
             "color": "#2a3f5f"
            },
            "marker": {
             "line": {
              "color": "#E5ECF6",
              "width": 0.5
             }
            },
            "type": "bar"
           }
          ],
          "barpolar": [
           {
            "marker": {
             "line": {
              "color": "#E5ECF6",
              "width": 0.5
             }
            },
            "type": "barpolar"
           }
          ],
          "carpet": [
           {
            "aaxis": {
             "endlinecolor": "#2a3f5f",
             "gridcolor": "white",
             "linecolor": "white",
             "minorgridcolor": "white",
             "startlinecolor": "#2a3f5f"
            },
            "baxis": {
             "endlinecolor": "#2a3f5f",
             "gridcolor": "white",
             "linecolor": "white",
             "minorgridcolor": "white",
             "startlinecolor": "#2a3f5f"
            },
            "type": "carpet"
           }
          ],
          "choropleth": [
           {
            "colorbar": {
             "outlinewidth": 0,
             "ticks": ""
            },
            "type": "choropleth"
           }
          ],
          "contour": [
           {
            "colorbar": {
             "outlinewidth": 0,
             "ticks": ""
            },
            "colorscale": [
             [
              0,
              "#0d0887"
             ],
             [
              0.1111111111111111,
              "#46039f"
             ],
             [
              0.2222222222222222,
              "#7201a8"
             ],
             [
              0.3333333333333333,
              "#9c179e"
             ],
             [
              0.4444444444444444,
              "#bd3786"
             ],
             [
              0.5555555555555556,
              "#d8576b"
             ],
             [
              0.6666666666666666,
              "#ed7953"
             ],
             [
              0.7777777777777778,
              "#fb9f3a"
             ],
             [
              0.8888888888888888,
              "#fdca26"
             ],
             [
              1,
              "#f0f921"
             ]
            ],
            "type": "contour"
           }
          ],
          "contourcarpet": [
           {
            "colorbar": {
             "outlinewidth": 0,
             "ticks": ""
            },
            "type": "contourcarpet"
           }
          ],
          "heatmap": [
           {
            "colorbar": {
             "outlinewidth": 0,
             "ticks": ""
            },
            "colorscale": [
             [
              0,
              "#0d0887"
             ],
             [
              0.1111111111111111,
              "#46039f"
             ],
             [
              0.2222222222222222,
              "#7201a8"
             ],
             [
              0.3333333333333333,
              "#9c179e"
             ],
             [
              0.4444444444444444,
              "#bd3786"
             ],
             [
              0.5555555555555556,
              "#d8576b"
             ],
             [
              0.6666666666666666,
              "#ed7953"
             ],
             [
              0.7777777777777778,
              "#fb9f3a"
             ],
             [
              0.8888888888888888,
              "#fdca26"
             ],
             [
              1,
              "#f0f921"
             ]
            ],
            "type": "heatmap"
           }
          ],
          "heatmapgl": [
           {
            "colorbar": {
             "outlinewidth": 0,
             "ticks": ""
            },
            "colorscale": [
             [
              0,
              "#0d0887"
             ],
             [
              0.1111111111111111,
              "#46039f"
             ],
             [
              0.2222222222222222,
              "#7201a8"
             ],
             [
              0.3333333333333333,
              "#9c179e"
             ],
             [
              0.4444444444444444,
              "#bd3786"
             ],
             [
              0.5555555555555556,
              "#d8576b"
             ],
             [
              0.6666666666666666,
              "#ed7953"
             ],
             [
              0.7777777777777778,
              "#fb9f3a"
             ],
             [
              0.8888888888888888,
              "#fdca26"
             ],
             [
              1,
              "#f0f921"
             ]
            ],
            "type": "heatmapgl"
           }
          ],
          "histogram": [
           {
            "marker": {
             "colorbar": {
              "outlinewidth": 0,
              "ticks": ""
             }
            },
            "type": "histogram"
           }
          ],
          "histogram2d": [
           {
            "colorbar": {
             "outlinewidth": 0,
             "ticks": ""
            },
            "colorscale": [
             [
              0,
              "#0d0887"
             ],
             [
              0.1111111111111111,
              "#46039f"
             ],
             [
              0.2222222222222222,
              "#7201a8"
             ],
             [
              0.3333333333333333,
              "#9c179e"
             ],
             [
              0.4444444444444444,
              "#bd3786"
             ],
             [
              0.5555555555555556,
              "#d8576b"
             ],
             [
              0.6666666666666666,
              "#ed7953"
             ],
             [
              0.7777777777777778,
              "#fb9f3a"
             ],
             [
              0.8888888888888888,
              "#fdca26"
             ],
             [
              1,
              "#f0f921"
             ]
            ],
            "type": "histogram2d"
           }
          ],
          "histogram2dcontour": [
           {
            "colorbar": {
             "outlinewidth": 0,
             "ticks": ""
            },
            "colorscale": [
             [
              0,
              "#0d0887"
             ],
             [
              0.1111111111111111,
              "#46039f"
             ],
             [
              0.2222222222222222,
              "#7201a8"
             ],
             [
              0.3333333333333333,
              "#9c179e"
             ],
             [
              0.4444444444444444,
              "#bd3786"
             ],
             [
              0.5555555555555556,
              "#d8576b"
             ],
             [
              0.6666666666666666,
              "#ed7953"
             ],
             [
              0.7777777777777778,
              "#fb9f3a"
             ],
             [
              0.8888888888888888,
              "#fdca26"
             ],
             [
              1,
              "#f0f921"
             ]
            ],
            "type": "histogram2dcontour"
           }
          ],
          "mesh3d": [
           {
            "colorbar": {
             "outlinewidth": 0,
             "ticks": ""
            },
            "type": "mesh3d"
           }
          ],
          "parcoords": [
           {
            "line": {
             "colorbar": {
              "outlinewidth": 0,
              "ticks": ""
             }
            },
            "type": "parcoords"
           }
          ],
          "pie": [
           {
            "automargin": true,
            "type": "pie"
           }
          ],
          "scatter": [
           {
            "marker": {
             "colorbar": {
              "outlinewidth": 0,
              "ticks": ""
             }
            },
            "type": "scatter"
           }
          ],
          "scatter3d": [
           {
            "line": {
             "colorbar": {
              "outlinewidth": 0,
              "ticks": ""
             }
            },
            "marker": {
             "colorbar": {
              "outlinewidth": 0,
              "ticks": ""
             }
            },
            "type": "scatter3d"
           }
          ],
          "scattercarpet": [
           {
            "marker": {
             "colorbar": {
              "outlinewidth": 0,
              "ticks": ""
             }
            },
            "type": "scattercarpet"
           }
          ],
          "scattergeo": [
           {
            "marker": {
             "colorbar": {
              "outlinewidth": 0,
              "ticks": ""
             }
            },
            "type": "scattergeo"
           }
          ],
          "scattergl": [
           {
            "marker": {
             "colorbar": {
              "outlinewidth": 0,
              "ticks": ""
             }
            },
            "type": "scattergl"
           }
          ],
          "scattermapbox": [
           {
            "marker": {
             "colorbar": {
              "outlinewidth": 0,
              "ticks": ""
             }
            },
            "type": "scattermapbox"
           }
          ],
          "scatterpolar": [
           {
            "marker": {
             "colorbar": {
              "outlinewidth": 0,
              "ticks": ""
             }
            },
            "type": "scatterpolar"
           }
          ],
          "scatterpolargl": [
           {
            "marker": {
             "colorbar": {
              "outlinewidth": 0,
              "ticks": ""
             }
            },
            "type": "scatterpolargl"
           }
          ],
          "scatterternary": [
           {
            "marker": {
             "colorbar": {
              "outlinewidth": 0,
              "ticks": ""
             }
            },
            "type": "scatterternary"
           }
          ],
          "surface": [
           {
            "colorbar": {
             "outlinewidth": 0,
             "ticks": ""
            },
            "colorscale": [
             [
              0,
              "#0d0887"
             ],
             [
              0.1111111111111111,
              "#46039f"
             ],
             [
              0.2222222222222222,
              "#7201a8"
             ],
             [
              0.3333333333333333,
              "#9c179e"
             ],
             [
              0.4444444444444444,
              "#bd3786"
             ],
             [
              0.5555555555555556,
              "#d8576b"
             ],
             [
              0.6666666666666666,
              "#ed7953"
             ],
             [
              0.7777777777777778,
              "#fb9f3a"
             ],
             [
              0.8888888888888888,
              "#fdca26"
             ],
             [
              1,
              "#f0f921"
             ]
            ],
            "type": "surface"
           }
          ],
          "table": [
           {
            "cells": {
             "fill": {
              "color": "#EBF0F8"
             },
             "line": {
              "color": "white"
             }
            },
            "header": {
             "fill": {
              "color": "#C8D4E3"
             },
             "line": {
              "color": "white"
             }
            },
            "type": "table"
           }
          ]
         },
         "layout": {
          "annotationdefaults": {
           "arrowcolor": "#2a3f5f",
           "arrowhead": 0,
           "arrowwidth": 1
          },
          "coloraxis": {
           "colorbar": {
            "outlinewidth": 0,
            "ticks": ""
           }
          },
          "colorscale": {
           "diverging": [
            [
             0,
             "#8e0152"
            ],
            [
             0.1,
             "#c51b7d"
            ],
            [
             0.2,
             "#de77ae"
            ],
            [
             0.3,
             "#f1b6da"
            ],
            [
             0.4,
             "#fde0ef"
            ],
            [
             0.5,
             "#f7f7f7"
            ],
            [
             0.6,
             "#e6f5d0"
            ],
            [
             0.7,
             "#b8e186"
            ],
            [
             0.8,
             "#7fbc41"
            ],
            [
             0.9,
             "#4d9221"
            ],
            [
             1,
             "#276419"
            ]
           ],
           "sequential": [
            [
             0,
             "#0d0887"
            ],
            [
             0.1111111111111111,
             "#46039f"
            ],
            [
             0.2222222222222222,
             "#7201a8"
            ],
            [
             0.3333333333333333,
             "#9c179e"
            ],
            [
             0.4444444444444444,
             "#bd3786"
            ],
            [
             0.5555555555555556,
             "#d8576b"
            ],
            [
             0.6666666666666666,
             "#ed7953"
            ],
            [
             0.7777777777777778,
             "#fb9f3a"
            ],
            [
             0.8888888888888888,
             "#fdca26"
            ],
            [
             1,
             "#f0f921"
            ]
           ],
           "sequentialminus": [
            [
             0,
             "#0d0887"
            ],
            [
             0.1111111111111111,
             "#46039f"
            ],
            [
             0.2222222222222222,
             "#7201a8"
            ],
            [
             0.3333333333333333,
             "#9c179e"
            ],
            [
             0.4444444444444444,
             "#bd3786"
            ],
            [
             0.5555555555555556,
             "#d8576b"
            ],
            [
             0.6666666666666666,
             "#ed7953"
            ],
            [
             0.7777777777777778,
             "#fb9f3a"
            ],
            [
             0.8888888888888888,
             "#fdca26"
            ],
            [
             1,
             "#f0f921"
            ]
           ]
          },
          "colorway": [
           "#636efa",
           "#EF553B",
           "#00cc96",
           "#ab63fa",
           "#FFA15A",
           "#19d3f3",
           "#FF6692",
           "#B6E880",
           "#FF97FF",
           "#FECB52"
          ],
          "font": {
           "color": "#2a3f5f"
          },
          "geo": {
           "bgcolor": "white",
           "lakecolor": "white",
           "landcolor": "#E5ECF6",
           "showlakes": true,
           "showland": true,
           "subunitcolor": "white"
          },
          "hoverlabel": {
           "align": "left"
          },
          "hovermode": "closest",
          "mapbox": {
           "style": "light"
          },
          "paper_bgcolor": "white",
          "plot_bgcolor": "#E5ECF6",
          "polar": {
           "angularaxis": {
            "gridcolor": "white",
            "linecolor": "white",
            "ticks": ""
           },
           "bgcolor": "#E5ECF6",
           "radialaxis": {
            "gridcolor": "white",
            "linecolor": "white",
            "ticks": ""
           }
          },
          "scene": {
           "xaxis": {
            "backgroundcolor": "#E5ECF6",
            "gridcolor": "white",
            "gridwidth": 2,
            "linecolor": "white",
            "showbackground": true,
            "ticks": "",
            "zerolinecolor": "white"
           },
           "yaxis": {
            "backgroundcolor": "#E5ECF6",
            "gridcolor": "white",
            "gridwidth": 2,
            "linecolor": "white",
            "showbackground": true,
            "ticks": "",
            "zerolinecolor": "white"
           },
           "zaxis": {
            "backgroundcolor": "#E5ECF6",
            "gridcolor": "white",
            "gridwidth": 2,
            "linecolor": "white",
            "showbackground": true,
            "ticks": "",
            "zerolinecolor": "white"
           }
          },
          "shapedefaults": {
           "line": {
            "color": "#2a3f5f"
           }
          },
          "ternary": {
           "aaxis": {
            "gridcolor": "white",
            "linecolor": "white",
            "ticks": ""
           },
           "baxis": {
            "gridcolor": "white",
            "linecolor": "white",
            "ticks": ""
           },
           "bgcolor": "#E5ECF6",
           "caxis": {
            "gridcolor": "white",
            "linecolor": "white",
            "ticks": ""
           }
          },
          "title": {
           "x": 0.05
          },
          "xaxis": {
           "automargin": true,
           "gridcolor": "white",
           "linecolor": "white",
           "ticks": "",
           "title": {
            "standoff": 15
           },
           "zerolinecolor": "white",
           "zerolinewidth": 2
          },
          "yaxis": {
           "automargin": true,
           "gridcolor": "white",
           "linecolor": "white",
           "ticks": "",
           "title": {
            "standoff": 15
           },
           "zerolinecolor": "white",
           "zerolinewidth": 2
          }
         }
        }
       }
      },
      "text/html": [
       "<div>\n",
       "        \n",
       "        \n",
       "            <div id=\"bfced0a0-85b3-45e8-955d-912cdfe87e04\" class=\"plotly-graph-div\" style=\"height:525px; width:100%;\"></div>\n",
       "            <script type=\"text/javascript\">\n",
       "                require([\"plotly\"], function(Plotly) {\n",
       "                    window.PLOTLYENV=window.PLOTLYENV || {};\n",
       "                    \n",
       "                if (document.getElementById(\"bfced0a0-85b3-45e8-955d-912cdfe87e04\")) {\n",
       "                    Plotly.newPlot(\n",
       "                        'bfced0a0-85b3-45e8-955d-912cdfe87e04',\n",
       "                        [{\"marker\": {\"color\": [2674369, 2233492, 1300900, 1016722, 1198594, 1015203, 462316, 545452, 447645, 542220, 562622, 619572, 514264, 343265, 366818, 396140, 426025, 283838, 231782, 304024, 282027, 304749, 284118, 264644, 214763, 191435, 209863, 261093, 146342, 169823, 186666, 169261, 129658, 173914, 179958, 113772, 133304, 158313, 127344, 127969, 97203, 124264, 99207, 103483, 113566, 104418, 135654, 104008, 135383, 96014, 185093, 155559, 85787, 114469, 78181, 81141, 89085, 94362, 101966, 84990, 69526, 94720, 82350, 107763, 83527, 74898, 93552, 64112, 85138, 82038, 119205, 107730, 93600, 70389, 59302, 86744, 79783, 58055, 58333, 77853, 52606, 67331, 72959, 58715, 67038, 40650, 60891, 51468, 63776, 74231, 44402, 66902, 39840, 48161, 57574, 78998, 39489, 43673, 54093, 49738, 32613, 53080, 56015, 44575, 73290, 53072, 43569, 52658, 34164, 66538, 53957, 67069, 38854, 55955, 53175, 46369, 32170, 32360, 37005, 29918, 52375, 27478, 34546, 35651, 37682, 56399, 35770, 32659, 44755, 36520, 32330, 26739, 35112, 43105, 47547, 48761, 51950, 25181, 33828, 39393, 27371, 25934, 21669, 24630, 39705, 35628, 38013, 36583, 29699, 46041, 33796, 26787, 37665, 28682, 34684, 25597, 26139, 30368, 33841, 31295, 37927, 26392, 17230, 28224, 19388, 27102, 26825, 23461, 19646, 36797, 20850, 31449, 24673, 18002, 22284, 17918, 25632, 33846, 23582, 23478, 39284, 22317, 25075, 19883, 21171, 26807, 23581, 17169, 38143, 29053, 16773, 27849, 9224, 14377, 9463, 16536, 19220, 18886, 23416, 11958, 13808, 17938, 17110, 12669, 11333, 19436, 16275, 22889, 16505, 17512, 10557, 16702, 20076, 15026, 13256, 10095, 12628, 13919, 13071, 17020, 18127, 23739, 13966, 22128, 14494, 8041, 19651, 11948, 18399, 11193, 16682, 17900, 13640, 18388, 10258, 10771, 16307, 13231, 9001, 14089, 15609, 11130, 20793, 20506, 16549, 4213, 8770, 7922, 7823, 6264, 6609, 6242, 6046, 6263, 8009, 5284, 5860, 8741, 10710, 9362, 8046, 3408, 9350, 5386, 3353, 6641, 8578, 16653, 9270, 8448, 9776, 5743, 9505, 9665, 15947, 7120, 5599, 5765, 13924, 3563, 9185, 6064, 7702, 5274, 8211, 9379, 11528, 5988, 19430, 7879, 8794, 7659, 4564, 10094, 6907, 11695, 10545, 7488, 8718, 6216, 7225, 10024, 3786, 6932, 10658, 7071, 6630, 7428, 7868, 3843, 14151, 8153, 6236, 3056, 8096, 8941, 7220, 8093, 7181, 7512, 6492, 10987, 12181, 9205, 7352, 7284, 10684, 8559, 6402, 14396, 7574, 12288, 6081, 3780, 8550, 7418, 8466, 10010, 12363, 10944, 6479, 7773, 6945, 13075, 7553, 13006, 4885, 14293, 7332, 8235, 7532, 9741]}, \"mode\": \"markers\", \"text\": [\"Drama|370\", \"Comedy|195\", \"Comedy,Drama|139\", \"Drama,Romance|132\", \"Comedy,Drama,Romance|116\", \"Comedy,Romance|85\", \"Horror|77\", \"Drama,Thriller|74\", \"Horror,Thriller|69\", \"Action,Crime,Drama|67\", \"Adventure,Animation,Comedy|65\", \"Documentary|64\", \"Crime,Drama,Thriller|62\", \"Thriller|53\", \"Action,Crime,Thriller|49\", \"Action,Adventure,Sci-Fi|41\", \"Action,Comedy,Crime|41\", \"Action,Adventure,Drama|36\", \"Action|36\", \"Crime,Drama|35\", \"Crime,Drama,Mystery|30\", \"Biography,Drama,History|30\", \"Biography,Drama|30\", \"Action,Adventure,Comedy|28\", \"Action,Thriller|28\", \"Horror,Mystery,Thriller|28\", \"Comedy,Horror|27\", \"Comedy,Crime,Drama|26\", \"Action,Adventure,Fantasy|25\", \"Crime,Thriller|22\", \"Family|22\", \"Action,Adventure,Animation|22\", \"Action,Horror,Sci-Fi|20\", \"Biography,Drama,Romance|20\", \"Action,Comedy|19\", \"Action,Drama|19\", \"Drama,Mystery,Thriller|19\", \"Action,Drama,History|19\", \"Action,Drama,Thriller|18\", \"Action,Sci-Fi,Thriller|18\", \"Drama,Horror,Thriller|16\", \"Action,Biography,Drama|15\", \"Action,Comedy,Horror|15\", \"Horror,Sci-Fi,Thriller|15\", \"Adventure,Family,Fantasy|15\", \"Drama,Family|14\", \"Adventure,Comedy,Drama|14\", \"Drama,War|14\", \"Adventure,Comedy,Family|14\", \"Mystery,Thriller|14\", \"Comedy,Crime|14\", \"Biography,Comedy,Drama|14\", \"Drama,Romance,Thriller|12\", \"Comedy,Drama,Fantasy|12\", \"Drama,Horror,Mystery|12\", \"Drama,Fantasy,Horror|12\", \"Adventure,Animation,Family|12\", \"Crime,Mystery,Thriller|12\", \"Adventure,Family|12\", \"Horror,Mystery|12\", \"Action,Adventure|12\", \"Drama,History,War|12\", \"Action,Adventure,Crime|11\", \"Comedy,Family|11\", \"Crime|11\", \"Drama,History|11\", \"Drama,Mystery,Romance|11\", \"Action,Horror|11\", \"Drama,Mystery|11\", \"Action,Adventure,Thriller|11\", \"Adventure,Comedy|10\", \"Biography,Crime,Drama|10\", \"Comedy,Drama,Music|10\", \"Adventure,Drama,Family|10\", \"Horror,Sci-Fi|10\", \"Drama,Music|10\", \"Comedy,Horror,Sci-Fi|9\", \"Documentary,Music|8\", \"Sci-Fi,Thriller|8\", \"Biography,Drama,Music|8\", \"Drama,Sci-Fi|8\", \"Drama,History,Romance|8\", \"Comedy,Drama,Family|8\", \"Adventure,Drama,Fantasy|8\", \"Animation,Comedy,Family|8\", \"Drama,Horror|7\", \"Comedy,Fantasy,Horror|7\", \"Crime,Drama,Romance|7\", \"Comedy,Crime,Thriller|7\", \"Biography,Drama,Thriller|7\", \"Drama,Horror,Sci-Fi|7\", \"Adventure,Fantasy|7\", \"Adventure|7\", \"Drama,Fantasy|7\", \"Action,Crime,Mystery|7\", \"Drama,Sport|7\", \"Action,Fantasy,Horror|7\", \"Crime,Horror,Thriller|7\", \"Action,Sci-Fi|7\", \"Animation,Family|7\", \"Drama,Sci-Fi,Thriller|6\", \"Comedy,Thriller|6\", \"Action,Comedy,Fantasy|6\", \"Action,Adventure,Family|6\", \"Comedy,Fantasy|6\", \"Comedy,Horror,Romance|6\", \"Drama,Mystery,Sci-Fi|6\", \"Action,Comedy,Sci-Fi|6\", \"Western|6\", \"Action,Comedy,Drama|6\", \"Drama,Fantasy,Romance|6\", \"Action,Adventure,Mystery|5\", \"Sci-Fi|5\", \"Biography,Drama,Sport|5\", \"Crime,Documentary|5\", \"Adventure,Drama,History|5\", \"Action,Animation,Sci-Fi|5\", \"Documentary,Drama|5\", \"Action,Crime|5\", \"Fantasy,Horror,Mystery|5\", \"Biography,Documentary,Music|5\", \"Action,Horror,Thriller|5\", \"Drama,Western|5\", \"Crime,Drama,Horror|5\", \"Romance|5\", \"Biography,Documentary|5\", \"Comedy,Drama,Musical|5\", \"Drama,Romance,War|5\", \"Comedy,Drama,History|5\", \"Adventure,Animation,Drama|5\", \"Action,Comedy,Thriller|4\", \"Action,Drama,Sci-Fi|4\", \"Fantasy|4\", \"Comedy,Drama,Mystery|4\", \"Comedy,Drama,Sport|4\", \"Comedy,Sci-Fi|4\", \"Comedy,Music|4\", \"Action,Horror,Mystery|4\", \"Comedy,Family,Fantasy|4\", \"Biography,Drama,War|4\", \"Action,Fantasy,Sci-Fi|4\", \"Fantasy,Horror|4\", \"Fantasy,Horror,Thriller|4\", \"Action,Drama,Fantasy|4\", \"Drama,Fantasy,Mystery|4\", \"Mystery,Sci-Fi,Thriller|4\", \"Adventure,Fantasy,Mystery|4\", \"Action,Mystery,Thriller|4\", \"Drama,Romance,Sci-Fi|4\", \"Comedy,Mystery|4\", \"Drama,Horror,Romance|4\", \"Adventure,Biography,Drama|4\", \"Action,Comedy,Romance|4\", \"Comedy,Horror,Thriller|4\", \"Action,Crime,Sci-Fi|4\", \"Animation,Comedy|3\", \"Action,Adventure,Biography|3\", \"Comedy,Romance,Sport|3\", \"Action,Drama,Sport|3\", \"Adventure,Drama,Thriller|3\", \"Drama,History,Thriller|3\", \"War|3\", \"Romance,Thriller|3\", \"Animation,Comedy,Drama|3\", \"Animation,Drama,Family|3\", \"Action,Comedy,Family|3\", \"Adventure,Comedy,Crime|3\", \"Adventure,Drama,Romance|3\", \"Action,Fantasy|3\", \"Comedy,Family,Romance|3\", \"Action,Biography,Crime|3\", \"Crime,Drama,History|3\", \"Action,Fantasy,Thriller|3\", \"Action,Drama,Romance|3\", \"Drama,Thriller,War|3\", \"Action,Animation,Horror|3\", \"Comedy,Horror,Mystery|3\", \"Comedy,Western|3\", \"Action,Drama,Mystery|3\", \"Animation,Family,Fantasy|3\", \"Comedy,Fantasy,Romance|3\", \"Mystery,Romance,Thriller|3\", \"Documentary,Sport|3\", \"Animation|3\", \"Action,Drama,War|3\", \"Adventure,Drama,Sci-Fi|3\", \"Drama,Fantasy,Sci-Fi|3\", \"Adventure,Horror|3\", \"Biography,Documentary,Drama|3\", \"Adventure,Comedy,Fantasy|3\", \"Action,Adventure,Romance|2\", \"Documentary,News|2\", \"Action,Drama,Horror|2\", \"Action,Mystery,Sci-Fi|2\", \"Horror,Romance,Thriller|2\", \"Action,Comedy,Sport|2\", \"Crime,Drama,War|2\", \"Horror,Mystery,Sci-Fi|2\", \"Comedy,Music,Musical|2\", \"Fantasy,Romance|2\", \"Action,Animation,Comedy|2\", \"Adventure,Comedy,Horror|2\", \"Romance,Sci-Fi,Thriller|2\", \"Action,Animation,Fantasy|2\", \"Thriller,Western|2\", \"Adventure,Drama|2\", \"Comedy,Drama,Horror|2\", \"Biography,Documentary,Sport|2\", \"Comedy,Horror,Music|2\", \"Animation,Drama,Fantasy|2\", \"Action,Romance|2\", \"Adventure,Family,Sci-Fi|2\", \"Comedy,Sport|2\", \"Action,Animation,Crime|2\", \"Action,Romance,Thriller|2\", \"Crime,Horror,Mystery|2\", \"Action,Adventure,Documentary|2\", \"Drama,Music,Romance|2\", \"Animation,Drama|2\", \"Drama,Musical,Romance|2\", \"Comedy,War|2\", \"Documentary,History|2\", \"Action,Adventure,Horror|2\", \"Comedy,Drama,War|2\", \"Adventure,Drama,Western|2\", \"Horror,Romance|2\", \"Action,Drama,Family|2\", \"Action,Fantasy,Romance|2\", \"Comedy,Crime,Mystery|2\", \"Animation,Sci-Fi|2\", \"Adventure,Animation|2\", \"Action,Animation,Drama|2\", \"Adventure,Documentary,Sport|2\", \"Adventure,Mystery,Sci-Fi|2\", \"Adventure,History|2\", \"Action,History|2\", \"Action,Crime,Romance|2\", \"Action,Adventure,History|2\", \"Drama,Fantasy,Musical|2\", \"Action,Crime,Fantasy|2\", \"Animation,Comedy,Crime|2\", \"Action,Drama,Western|2\", \"Adventure,Biography,Comedy|2\", \"Animation,Drama,Sci-Fi|2\", \"Action,Adventure,Western|2\", \"Adventure,Fantasy,Musical|1\", \"Adventure,Sci-Fi,Thriller|1\", \"Comedy,Family,Music|1\", \"Adventure,Romance|1\", \"Adventure,Crime,Family|1\", \"Action,Thriller,Western|1\", \"Adventure,Sci-Fi|1\", \"Fantasy,Mystery,Romance|1\", \"Adventure,Animation,Fantasy|1\", \"Animation,Drama,Thriller|1\", \"Adventure,Horror,Sci-Fi|1\", \"Family,Mystery|1\", \"Biography,Comedy|1\", \"Action,Mystery|1\", \"Comedy,Musical|1\", \"Adventure,Biography|1\", \"Mystery,Western|1\", \"Adventure,History,Romance|1\", \"Crime,Horror,Romance|1\", \"Action,Crime,Horror|1\", \"Adventure,Drama,Horror|1\", \"Animation,Family,Musical|1\", \"Comedy,Crime,Romance|1\", \"Documentary,History,Music|1\", \"Comedy,Crime,Horror|1\", \"Biography,Documentary,Family|1\", \"Action,History,Thriller|1\", \"Drama,Family,Mystery|1\", \"Comedy,Drama,Sci-Fi|1\", \"Documentary,Family,History|1\", \"Comedy,Horror,Musical|1\", \"Adventure,Drama,Sport|1\", \"Drama,Family,Sci-Fi|1\", \"Biography,Drama,Fantasy|1\", \"Animation,Drama,Romance|1\", \"Crime,Mystery|1\", \"Fantasy,Mystery,Thriller|1\", \"Drama,Mystery,War|1\", \"Drama,History,Horror|1\", \"Crime,Drama,Sci-Fi|1\", \"Mystery,Romance,Sci-Fi|1\", \"Adventure,Comedy,Sci-Fi|1\", \"Music|1\", \"Action,Comedy,Western|1\", \"Animation,Mystery,Thriller|1\", \"Adventure,Thriller|1\", \"Action,War|1\", \"Adventure,Crime,Drama|1\", \"Drama,Fantasy,Music|1\", \"Comedy,Crime,Family|1\", \"Documentary,Mystery|1\", \"Crime,Documentary,Drama|1\", \"Animation,Biography,Drama|1\", \"Adventure,Biography,History|1\", \"Biography,History|1\", \"Documentary,History,War|1\", \"Drama,Fantasy,Thriller|1\", \"Action,Fantasy,Western|1\", \"Documentary,Drama,Family|1\", \"Comedy,Documentary,Drama|1\", \"Adventure,Crime,Thriller|1\", \"Drama,Family,Music|1\", \"Drama,Family,Fantasy|1\", \"Family,Fantasy|1\", \"Adventure,Documentary,Drama|1\", \"Documentary,Thriller|1\", \"Crime,Drama,Fantasy|1\", \"Drama,Family,History|1\", \"Fantasy,Horror,Sci-Fi|1\", \"Crime,Mystery,Romance|1\", \"Family,Fantasy,Musical|1\", \"Drama,History,Sport|1\", \"Action,Horror,Romance|1\", \"Adventure,Animation,Sci-Fi|1\", \"Comedy,Musical,Sci-Fi|1\", \"Action,Biography,Documentary|1\", \"Documentary,History,Sport|1\", \"Drama,Family,Romance|1\", \"Biography,Drama,Musical|1\", \"Animation,Comedy,Fantasy|1\", \"Animation,Biography,Documentary|1\", \"Adventure,Biography,Crime|1\", \"Comedy,Drama,Thriller|1\", \"Drama,Musical|1\", \"Musical|1\", \"Adventure,Comedy,Western|1\", \"Comedy,Fantasy,Sci-Fi|1\", \"Crime,Romance,Thriller|1\", \"Horror,War|1\", \"Crime,Sci-Fi,Thriller|1\", \"Animation,Documentary|1\", \"Drama,Music,Thriller|1\", \"Comedy,Fantasy,Thriller|1\", \"Biography|1\", \"Comedy,Family,Sport|1\", \"Thriller,War|1\", \"Action,Comedy,Music|1\", \"Music,Mystery,Thriller|1\", \"Comedy,Romance,Western|1\", \"Comedy,Musical,Romance|1\", \"Crime,Documentary,History|1\", \"Drama,Thriller,Western|1\", \"Biography,Comedy,Crime|1\", \"Comedy,Romance,Sci-Fi|1\", \"Documentary,War|1\", \"Romance,War|1\", \"Action,Comedy,Documentary|1\"], \"type\": \"scatter\", \"x\": [13.880824089050293, 15.036199569702148, 14.608570098876953, 14.372236251831055, 14.111129760742188, 15.098878860473633, 13.515518188476562, 12.24680233001709, 11.949567794799805, 11.413776397705078, 13.972970962524414, 8.350406646728516, 12.376867294311523, 12.324533462524414, 10.850680351257324, 10.267156600952148, 12.277020454406738, 10.892091751098633, 12.894501686096191, 14.188940048217773, 10.110692977905273, 9.966018676757812, 10.46976089477539, 12.331314086914062, 10.946785926818848, 12.063420295715332, 13.622361183166504, 12.788139343261719, 11.043971061706543, 12.929214477539062, 14.14731502532959, 13.532984733581543, 9.757333755493164, 10.77410888671875, 12.938117027282715, 11.559415817260742, 10.835037231445312, 10.647514343261719, 10.939369201660156, 10.228351593017578, 14.851811408996582, 10.614861488342285, 13.421666145324707, 10.177763938903809, 13.026089668273926, 14.994118690490723, 12.48134708404541, 10.17055606842041, 13.647717475891113, 12.150962829589844, 12.969261169433594, 10.840761184692383, 14.680472373962402, 13.78645133972168, 11.001388549804688, 11.667165756225586, 14.012432098388672, 10.090251922607422, 13.214812278747559, 11.749334335327148, 11.087345123291016, 9.527606964111328, 9.83684253692627, 14.369709014892578, 13.335039138793945, 11.155231475830078, 11.48615550994873, 10.112410545349121, 11.917705535888672, 9.580947875976562, 13.391661643981934, 10.562641143798828, 10.828853607177734, 14.6622896194458, 13.203206062316895, 14.65788459777832, 13.336455345153809, 8.65768814086914, 12.651339530944824, 14.335709571838379, 10.658172607421875, 10.543949127197266, 14.843685150146484, 14.00075626373291, 14.128494262695312, 14.311020851135254, 12.219351768493652, 14.23265266418457, 12.455111503601074, 9.36659049987793, 11.708939552307129, 10.52994155883789, 11.085693359375, 14.00142765045166, 9.89975643157959, 15.094318389892578, 10.894599914550781, 12.014625549316406, 9.441986083984375, 14.031050682067871, 12.123519897460938, 12.389772415161133, 12.473042488098145, 12.676592826843262, 14.605124473571777, 14.997845649719238, 10.380171775817871, 12.069774627685547, 11.56412410736084, 13.67551040649414, 13.82711124420166, 9.73414421081543, 9.580510139465332, 11.060742378234863, 8.112983703613281, 10.483210563659668, 10.83472728729248, 8.717971801757812, 13.52247428894043, 11.680449485778809, 8.463577270507812, 11.332966804504395, 9.571573257446289, 12.026551246643066, 14.690698623657227, 8.350640296936035, 14.424858093261719, 14.232590675354004, 10.714529991149902, 12.800202369689941, 9.956149101257324, 9.863197326660156, 14.367650985717773, 12.415473937988281, 14.598288536071777, 14.639127731323242, 14.760146141052246, 10.751869201660156, 14.272610664367676, 10.234095573425293, 10.853053092956543, 13.364513397216797, 11.929938316345215, 13.14067268371582, 10.37828540802002, 12.047253608703613, 11.783891677856445, 9.846986770629883, 13.732028007507324, 13.256516456604004, 14.62447738647461, 9.7901611328125, 12.302018165588379, 13.5142822265625, 11.070632934570312, 14.767030715942383, 9.534646987915039, 12.749051094055176, 15.122047424316406, 13.358732223510742, 9.28607177734375, 9.981053352355957, 12.695136070251465, 10.064698219299316, 12.675482749938965, 13.928312301635742, 14.596821784973145, 13.62531566619873, 10.830085754394531, 14.98598861694336, 13.349485397338867, 11.4638671875, 12.08199691772461, 14.096940994262695, 10.263136863708496, 10.514130592346191, 10.51570987701416, 12.145126342773438, 10.348224639892578, 13.51435375213623, 13.828254699707031, 10.39598560333252, 8.826167106628418, 13.519186019897461, 10.567131042480469, 9.887425422668457, 14.439085006713867, 11.089879989624023, 8.326783180236816, 14.157821655273438, 11.367548942565918, 8.360235214233398, 12.71408462524414, 11.962235450744629, 13.948662757873535, 10.772454261779785, 11.045783996582031, 10.007256507873535, 14.786084175109863, 14.52426815032959, 11.65957260131836, 14.171319961547852, 9.879704475402832, 14.000709533691406, 9.630828857421875, 9.534136772155762, 11.145404815673828, 8.553750991821289, 14.515944480895996, 12.747034072875977, 14.00228214263916, 13.329490661621094, 13.897261619567871, 11.412818908691406, 14.2186279296875, 12.05115032196045, 8.778307914733887, 13.74625301361084, 14.098541259765625, 10.995762825012207, 9.402653694152832, 8.234025955200195, 11.225432395935059, 9.375804901123047, 9.582534790039062, 11.551546096801758, 14.025160789489746, 13.909965515136719, 9.923107147216797, 10.68418025970459, 13.768421173095703, 13.924577713012695, 8.715726852416992, 10.420978546142578, 10.975552558898926, 11.303692817687988, 9.894183158874512, 10.279120445251465, 14.667703628540039, 10.97156047821045, 13.073405265808105, 14.197505950927734, 14.236196517944336, 10.839908599853516, 11.715088844299316, 11.662099838256836, 10.385642051696777, 14.726147651672363, 14.976353645324707, 14.430683135986328, 10.244306564331055, 10.65163516998291, 10.572957992553711, 13.71207332611084, 13.979201316833496, 13.31531047821045, 14.740320205688477, 9.614065170288086, 9.959095001220703, 13.663893699645996, 10.07020378112793, 11.299381256103516, 9.564040184020996, 14.27816390991211, 13.269067764282227, 13.785645484924316, 14.025971412658691, 13.059256553649902, 8.082709312438965, 14.620543479919434, 13.565971374511719, 10.60439682006836, 14.151535987854004, 10.399002075195312, 8.383078575134277, 13.670145988464355, 15.082069396972656, 10.388812065124512, 14.790754318237305, 13.755581855773926, 9.63681697845459, 13.503340721130371, 9.822251319885254, 13.952916145324707, 11.223661422729492, 13.030779838562012, 10.32337760925293, 15.06011962890625, 11.488908767700195, 11.362873077392578, 9.856145858764648, 9.44808292388916, 14.026664733886719, 14.663556098937988, 14.680339813232422, 8.257465362548828, 8.086421966552734, 10.824029922485352, 11.491742134094238, 9.980978965759277, 8.196700096130371, 13.9844970703125, 13.044858932495117, 8.272148132324219, 13.378830909729004, 10.111536979675293, 12.615434646606445, 10.707453727722168, 10.470880508422852, 10.363658905029297, 8.486530303955078, 15.299384117126465, 13.597012519836426, 14.420951843261719, 9.877152442932129, 12.153373718261719, 12.60490894317627, 9.599000930786133, 9.416352272033691, 8.702061653137207, 9.33836555480957, 8.619145393371582, 14.497844696044922, 10.663037300109863, 9.657102584838867, 8.768279075622559, 14.849448204040527, 11.080496788024902, 10.86033821105957, 13.33585262298584, 14.149601936340332, 13.751358985900879, 9.717243194580078, 9.682647705078125, 14.481670379638672, 8.231244087219238, 15.204578399658203, 13.638823509216309, 14.58903694152832, 14.761845588684082, 15.081001281738281, 10.794679641723633, 9.805988311767578, 15.159745216369629, 15.048039436340332, 8.130311012268066, 11.275016784667969, 8.376134872436523, 14.707555770874023, 8.92109203338623, 9.675570487976074, 14.531380653381348], \"y\": [6.8237714767456055, 5.037537574768066, 6.591892719268799, 7.104739665985107, 7.268386363983154, 6.4405975341796875, 5.424722671508789, 7.427967071533203, 6.901549816131592, 6.585790157318115, 4.214181423187256, 4.093676567077637, 6.901430606842041, 6.633554935455322, 6.891970157623291, 6.2087178230285645, 6.167379856109619, 4.15775728225708, 5.659696578979492, 6.423271656036377, 7.876192092895508, 5.190502166748047, 5.699617862701416, 5.031373977661133, 6.89691686630249, 7.1476640701293945, 4.9299163818359375, 6.05801248550415, 4.328991889953613, 6.78689432144165, 4.2770304679870605, 4.2063069343566895, 6.668699741363525, 5.656275749206543, 5.036332607269287, 4.478770732879639, 7.89060640335083, 4.321678161621094, 6.628632068634033, 6.716447353363037, 6.540389537811279, 5.095393657684326, 5.371479034423828, 6.8968048095703125, 5.747976779937744, 5.242375373840332, 5.389712810516357, 5.743731498718262, 4.417014122009277, 7.364333629608154, 4.742537021636963, 5.770983695983887, 6.880206108093262, 6.658641815185547, 7.644808769226074, 7.516482830047607, 4.409634113311768, 7.675717830657959, 4.6957268714904785, 6.99412727355957, 4.079034805297852, 5.531355857849121, 7.639732360839844, 4.493053913116455, 6.596493244171143, 4.395501136779785, 7.598665714263916, 6.896164417266846, 7.569637298583984, 7.22799825668335, 4.524822235107422, 5.849001407623291, 5.757301330566406, 4.77993631362915, 4.866570949554443, 5.642336845397949, 4.8149590492248535, 4.046814441680908, 6.331090450286865, 6.8356781005859375, 6.129283905029297, 5.616941452026367, 6.057726860046387, 6.716629505157471, 4.488443374633789, 7.227400779724121, 5.304657936096191, 6.751656532287598, 5.538190841674805, 5.956058502197266, 7.077311038970947, 3.90021014213562, 3.9261341094970703, 5.806243419647217, 7.578877925872803, 5.39854621887207, 6.885025501251221, 6.793106555938721, 6.410425662994385, 4.154178142547607, 7.130192279815674, 6.315759181976318, 5.312328815460205, 5.063880920410156, 4.364071369171143, 5.9742865562438965, 6.187352180480957, 5.985525608062744, 4.782114505767822, 6.046310901641846, 7.360452175140381, 6.578967094421387, 6.159176349639893, 4.977255344390869, 4.245604515075684, 4.174662113189697, 5.00345516204834, 4.331653594970703, 6.437127590179443, 7.349148750305176, 4.462752819061279, 6.797657489776611, 7.57924747467041, 7.420398235321045, 6.113497257232666, 4.336334228515625, 7.0747389793396, 5.870682239532471, 4.0000386238098145, 5.836935043334961, 7.360644817352295, 7.087456703186035, 5.544775009155273, 5.907233715057373, 5.004738807678223, 4.158720016479492, 4.22363805770874, 6.843905448913574, 4.378241062164307, 4.4733500480651855, 4.252556324005127, 5.409029483795166, 7.244403839111328, 6.135993957519531, 5.116374969482422, 7.131328582763672, 4.645142078399658, 8.004347801208496, 7.385446071624756, 5.026763916015625, 6.532164573669434, 5.26308012008667, 7.648223400115967, 5.717608451843262, 6.475590705871582, 4.692321300506592, 4.337005615234375, 7.4389777183532715, 5.598735332489014, 5.934012413024902, 5.992964267730713, 6.453425407409668, 6.902597427368164, 5.122256755828857, 5.670328140258789, 6.253172397613525, 4.489526748657227, 6.489266872406006, 4.084588050842285, 5.942213535308838, 5.067976474761963, 6.507880687713623, 6.770035266876221, 6.036186695098877, 4.430400848388672, 6.612730026245117, 7.56489896774292, 5.038421154022217, 5.955214500427246, 4.1551594734191895, 7.144284725189209, 7.861019134521484, 3.963466167449951, 3.961562156677246, 5.114555358886719, 5.798244476318359, 6.361741065979004, 3.821711540222168, 4.3756422996521, 4.111367225646973, 4.898383617401123, 4.100896835327148, 6.005018711090088, 6.64026403427124, 6.360061168670654, 6.952198505401611, 4.25618314743042, 6.632599830627441, 4.051063060760498, 7.171652317047119, 5.409595966339111, 4.18253231048584, 7.203920841217041, 5.598979473114014, 7.524211883544922, 5.514074802398682, 5.687806129455566, 4.483543395996094, 5.036563396453857, 5.216474533081055, 6.15598201751709, 4.683043956756592, 4.51854944229126, 4.4347825050354, 6.703621864318848, 7.094812870025635, 3.9797685146331787, 4.974653720855713, 5.286764144897461, 4.779860019683838, 5.661936283111572, 3.983499050140381, 6.714783668518066, 6.109421253204346, 7.431509494781494, 6.821099758148193, 4.268481731414795, 5.707702159881592, 8.125237464904785, 4.9462971687316895, 4.193214416503906, 5.736966133117676, 4.0692548751831055, 6.858399868011475, 4.360980033874512, 3.980045795440674, 8.165692329406738, 4.148767471313477, 6.777038097381592, 6.616314888000488, 4.016948223114014, 6.868791103363037, 4.437111854553223, 5.461958885192871, 4.99436092376709, 4.575087070465088, 6.512259483337402, 4.734332084655762, 5.460324764251709, 5.288355827331543, 7.554434299468994, 4.415088653564453, 3.879312515258789, 5.920341491699219, 6.671061038970947, 4.921913146972656, 6.779352188110352, 7.916830539703369, 7.511675834655762, 6.286457538604736, 5.413835048675537, 4.2660417556762695, 8.16033935546875, 7.443246841430664, 6.519082069396973, 4.7778449058532715, 4.848788738250732, 4.544723987579346, 3.838508129119873, 5.742560386657715, 7.4095683097839355, 4.018495559692383, 6.964461326599121, 8.059126853942871, 4.069735050201416, 4.597122669219971, 5.573773384094238, 6.038904666900635, 6.228514671325684, 7.4494218826293945, 8.29491138458252, 5.510762691497803, 7.671346187591553, 6.490020275115967, 4.021851539611816, 6.4149980545043945, 7.959127902984619, 5.621716499328613, 4.4357805252075195, 5.327584266662598, 6.552590847015381, 6.1836256980896, 5.971645832061768, 6.569102764129639, 4.5199198722839355, 3.826280117034912, 4.039058685302734, 6.244903087615967, 4.018492698669434, 3.995465040206909, 3.8634719848632812, 4.564631938934326, 5.285420894622803, 3.759521484375, 7.4879231452941895, 6.84390115737915, 7.314053058624268, 5.802391052246094, 5.7162394523620605, 5.5824713706970215, 4.1546950340271, 5.962740421295166, 5.037628173828125, 6.842543125152588, 8.222477912902832, 5.489305019378662, 4.618744850158691, 7.972821235656738, 4.095004081726074, 4.422785758972168, 4.846006870269775, 4.1479172706604, 7.101207256317139, 3.9172768592834473, 7.824568271636963, 4.4057793617248535, 4.116004943847656, 5.962296962738037, 4.476483345031738, 4.22065544128418, 6.012450695037842, 4.017723083496094, 8.231870651245117, 6.757850646972656, 6.982403755187988, 3.684506893157959, 5.739438056945801, 4.704732418060303, 5.018029689788818, 4.832877159118652, 5.828375339508057, 4.824439525604248, 8.278682708740234, 5.693402290344238, 6.28220272064209, 3.6969382762908936, 4.312147617340088, 4.505910873413086, 5.926021099090576, 4.114177703857422, 6.849085807800293, 4.154165267944336]}],\n",
       "                        {\"template\": {\"data\": {\"bar\": [{\"error_x\": {\"color\": \"#2a3f5f\"}, \"error_y\": {\"color\": \"#2a3f5f\"}, \"marker\": {\"line\": {\"color\": \"#E5ECF6\", \"width\": 0.5}}, \"type\": \"bar\"}], \"barpolar\": [{\"marker\": {\"line\": {\"color\": \"#E5ECF6\", \"width\": 0.5}}, \"type\": \"barpolar\"}], \"carpet\": [{\"aaxis\": {\"endlinecolor\": \"#2a3f5f\", \"gridcolor\": \"white\", \"linecolor\": \"white\", \"minorgridcolor\": \"white\", \"startlinecolor\": \"#2a3f5f\"}, \"baxis\": {\"endlinecolor\": \"#2a3f5f\", \"gridcolor\": \"white\", \"linecolor\": \"white\", \"minorgridcolor\": \"white\", \"startlinecolor\": \"#2a3f5f\"}, \"type\": \"carpet\"}], \"choropleth\": [{\"colorbar\": {\"outlinewidth\": 0, \"ticks\": \"\"}, \"type\": \"choropleth\"}], \"contour\": [{\"colorbar\": {\"outlinewidth\": 0, \"ticks\": \"\"}, \"colorscale\": [[0.0, \"#0d0887\"], [0.1111111111111111, \"#46039f\"], [0.2222222222222222, \"#7201a8\"], [0.3333333333333333, \"#9c179e\"], [0.4444444444444444, \"#bd3786\"], [0.5555555555555556, \"#d8576b\"], [0.6666666666666666, \"#ed7953\"], [0.7777777777777778, \"#fb9f3a\"], [0.8888888888888888, \"#fdca26\"], [1.0, \"#f0f921\"]], \"type\": \"contour\"}], \"contourcarpet\": [{\"colorbar\": {\"outlinewidth\": 0, \"ticks\": \"\"}, \"type\": \"contourcarpet\"}], \"heatmap\": [{\"colorbar\": {\"outlinewidth\": 0, \"ticks\": \"\"}, \"colorscale\": [[0.0, \"#0d0887\"], [0.1111111111111111, \"#46039f\"], [0.2222222222222222, \"#7201a8\"], [0.3333333333333333, \"#9c179e\"], [0.4444444444444444, \"#bd3786\"], [0.5555555555555556, \"#d8576b\"], [0.6666666666666666, \"#ed7953\"], [0.7777777777777778, \"#fb9f3a\"], [0.8888888888888888, \"#fdca26\"], [1.0, \"#f0f921\"]], \"type\": \"heatmap\"}], \"heatmapgl\": [{\"colorbar\": {\"outlinewidth\": 0, \"ticks\": \"\"}, \"colorscale\": [[0.0, \"#0d0887\"], [0.1111111111111111, \"#46039f\"], [0.2222222222222222, \"#7201a8\"], [0.3333333333333333, \"#9c179e\"], [0.4444444444444444, \"#bd3786\"], [0.5555555555555556, \"#d8576b\"], [0.6666666666666666, \"#ed7953\"], [0.7777777777777778, \"#fb9f3a\"], [0.8888888888888888, \"#fdca26\"], [1.0, \"#f0f921\"]], \"type\": \"heatmapgl\"}], \"histogram\": [{\"marker\": {\"colorbar\": {\"outlinewidth\": 0, \"ticks\": \"\"}}, \"type\": \"histogram\"}], \"histogram2d\": [{\"colorbar\": {\"outlinewidth\": 0, \"ticks\": \"\"}, \"colorscale\": [[0.0, \"#0d0887\"], [0.1111111111111111, \"#46039f\"], [0.2222222222222222, \"#7201a8\"], [0.3333333333333333, \"#9c179e\"], [0.4444444444444444, \"#bd3786\"], [0.5555555555555556, \"#d8576b\"], [0.6666666666666666, \"#ed7953\"], [0.7777777777777778, \"#fb9f3a\"], [0.8888888888888888, \"#fdca26\"], [1.0, \"#f0f921\"]], \"type\": \"histogram2d\"}], \"histogram2dcontour\": [{\"colorbar\": {\"outlinewidth\": 0, \"ticks\": \"\"}, \"colorscale\": [[0.0, \"#0d0887\"], [0.1111111111111111, \"#46039f\"], [0.2222222222222222, \"#7201a8\"], [0.3333333333333333, \"#9c179e\"], [0.4444444444444444, \"#bd3786\"], [0.5555555555555556, \"#d8576b\"], [0.6666666666666666, \"#ed7953\"], [0.7777777777777778, \"#fb9f3a\"], [0.8888888888888888, \"#fdca26\"], [1.0, \"#f0f921\"]], \"type\": \"histogram2dcontour\"}], \"mesh3d\": [{\"colorbar\": {\"outlinewidth\": 0, \"ticks\": \"\"}, \"type\": \"mesh3d\"}], \"parcoords\": [{\"line\": {\"colorbar\": {\"outlinewidth\": 0, \"ticks\": \"\"}}, \"type\": \"parcoords\"}], \"pie\": [{\"automargin\": true, \"type\": \"pie\"}], \"scatter\": [{\"marker\": {\"colorbar\": {\"outlinewidth\": 0, \"ticks\": \"\"}}, \"type\": \"scatter\"}], \"scatter3d\": [{\"line\": {\"colorbar\": {\"outlinewidth\": 0, \"ticks\": \"\"}}, \"marker\": {\"colorbar\": {\"outlinewidth\": 0, \"ticks\": \"\"}}, \"type\": \"scatter3d\"}], \"scattercarpet\": [{\"marker\": {\"colorbar\": {\"outlinewidth\": 0, \"ticks\": \"\"}}, \"type\": \"scattercarpet\"}], \"scattergeo\": [{\"marker\": {\"colorbar\": {\"outlinewidth\": 0, \"ticks\": \"\"}}, \"type\": \"scattergeo\"}], \"scattergl\": [{\"marker\": {\"colorbar\": {\"outlinewidth\": 0, \"ticks\": \"\"}}, \"type\": \"scattergl\"}], \"scattermapbox\": [{\"marker\": {\"colorbar\": {\"outlinewidth\": 0, \"ticks\": \"\"}}, \"type\": \"scattermapbox\"}], \"scatterpolar\": [{\"marker\": {\"colorbar\": {\"outlinewidth\": 0, \"ticks\": \"\"}}, \"type\": \"scatterpolar\"}], \"scatterpolargl\": [{\"marker\": {\"colorbar\": {\"outlinewidth\": 0, \"ticks\": \"\"}}, \"type\": \"scatterpolargl\"}], \"scatterternary\": [{\"marker\": {\"colorbar\": {\"outlinewidth\": 0, \"ticks\": \"\"}}, \"type\": \"scatterternary\"}], \"surface\": [{\"colorbar\": {\"outlinewidth\": 0, \"ticks\": \"\"}, \"colorscale\": [[0.0, \"#0d0887\"], [0.1111111111111111, \"#46039f\"], [0.2222222222222222, \"#7201a8\"], [0.3333333333333333, \"#9c179e\"], [0.4444444444444444, \"#bd3786\"], [0.5555555555555556, \"#d8576b\"], [0.6666666666666666, \"#ed7953\"], [0.7777777777777778, \"#fb9f3a\"], [0.8888888888888888, \"#fdca26\"], [1.0, \"#f0f921\"]], \"type\": \"surface\"}], \"table\": [{\"cells\": {\"fill\": {\"color\": \"#EBF0F8\"}, \"line\": {\"color\": \"white\"}}, \"header\": {\"fill\": {\"color\": \"#C8D4E3\"}, \"line\": {\"color\": \"white\"}}, \"type\": \"table\"}]}, \"layout\": {\"annotationdefaults\": {\"arrowcolor\": \"#2a3f5f\", \"arrowhead\": 0, \"arrowwidth\": 1}, \"coloraxis\": {\"colorbar\": {\"outlinewidth\": 0, \"ticks\": \"\"}}, \"colorscale\": {\"diverging\": [[0, \"#8e0152\"], [0.1, \"#c51b7d\"], [0.2, \"#de77ae\"], [0.3, \"#f1b6da\"], [0.4, \"#fde0ef\"], [0.5, \"#f7f7f7\"], [0.6, \"#e6f5d0\"], [0.7, \"#b8e186\"], [0.8, \"#7fbc41\"], [0.9, \"#4d9221\"], [1, \"#276419\"]], \"sequential\": [[0.0, \"#0d0887\"], [0.1111111111111111, \"#46039f\"], [0.2222222222222222, \"#7201a8\"], [0.3333333333333333, \"#9c179e\"], [0.4444444444444444, \"#bd3786\"], [0.5555555555555556, \"#d8576b\"], [0.6666666666666666, \"#ed7953\"], [0.7777777777777778, \"#fb9f3a\"], [0.8888888888888888, \"#fdca26\"], [1.0, \"#f0f921\"]], \"sequentialminus\": [[0.0, \"#0d0887\"], [0.1111111111111111, \"#46039f\"], [0.2222222222222222, \"#7201a8\"], [0.3333333333333333, \"#9c179e\"], [0.4444444444444444, \"#bd3786\"], [0.5555555555555556, \"#d8576b\"], [0.6666666666666666, \"#ed7953\"], [0.7777777777777778, \"#fb9f3a\"], [0.8888888888888888, \"#fdca26\"], [1.0, \"#f0f921\"]]}, \"colorway\": [\"#636efa\", \"#EF553B\", \"#00cc96\", \"#ab63fa\", \"#FFA15A\", \"#19d3f3\", \"#FF6692\", \"#B6E880\", \"#FF97FF\", \"#FECB52\"], \"font\": {\"color\": \"#2a3f5f\"}, \"geo\": {\"bgcolor\": \"white\", \"lakecolor\": \"white\", \"landcolor\": \"#E5ECF6\", \"showlakes\": true, \"showland\": true, \"subunitcolor\": \"white\"}, \"hoverlabel\": {\"align\": \"left\"}, \"hovermode\": \"closest\", \"mapbox\": {\"style\": \"light\"}, \"paper_bgcolor\": \"white\", \"plot_bgcolor\": \"#E5ECF6\", \"polar\": {\"angularaxis\": {\"gridcolor\": \"white\", \"linecolor\": \"white\", \"ticks\": \"\"}, \"bgcolor\": \"#E5ECF6\", \"radialaxis\": {\"gridcolor\": \"white\", \"linecolor\": \"white\", \"ticks\": \"\"}}, \"scene\": {\"xaxis\": {\"backgroundcolor\": \"#E5ECF6\", \"gridcolor\": \"white\", \"gridwidth\": 2, \"linecolor\": \"white\", \"showbackground\": true, \"ticks\": \"\", \"zerolinecolor\": \"white\"}, \"yaxis\": {\"backgroundcolor\": \"#E5ECF6\", \"gridcolor\": \"white\", \"gridwidth\": 2, \"linecolor\": \"white\", \"showbackground\": true, \"ticks\": \"\", \"zerolinecolor\": \"white\"}, \"zaxis\": {\"backgroundcolor\": \"#E5ECF6\", \"gridcolor\": \"white\", \"gridwidth\": 2, \"linecolor\": \"white\", \"showbackground\": true, \"ticks\": \"\", \"zerolinecolor\": \"white\"}}, \"shapedefaults\": {\"line\": {\"color\": \"#2a3f5f\"}}, \"ternary\": {\"aaxis\": {\"gridcolor\": \"white\", \"linecolor\": \"white\", \"ticks\": \"\"}, \"baxis\": {\"gridcolor\": \"white\", \"linecolor\": \"white\", \"ticks\": \"\"}, \"bgcolor\": \"#E5ECF6\", \"caxis\": {\"gridcolor\": \"white\", \"linecolor\": \"white\", \"ticks\": \"\"}}, \"title\": {\"x\": 0.05}, \"xaxis\": {\"automargin\": true, \"gridcolor\": \"white\", \"linecolor\": \"white\", \"ticks\": \"\", \"title\": {\"standoff\": 15}, \"zerolinecolor\": \"white\", \"zerolinewidth\": 2}, \"yaxis\": {\"automargin\": true, \"gridcolor\": \"white\", \"linecolor\": \"white\", \"ticks\": \"\", \"title\": {\"standoff\": 15}, \"zerolinecolor\": \"white\", \"zerolinewidth\": 2}}}},\n",
       "                        {\"responsive\": true}\n",
       "                    ).then(function(){\n",
       "                            \n",
       "var gd = document.getElementById('bfced0a0-85b3-45e8-955d-912cdfe87e04');\n",
       "var x = new MutationObserver(function (mutations, observer) {{\n",
       "        var display = window.getComputedStyle(gd).display;\n",
       "        if (!display || display === 'none') {{\n",
       "            console.log([gd, 'removed!']);\n",
       "            Plotly.purge(gd);\n",
       "            observer.disconnect();\n",
       "        }}\n",
       "}});\n",
       "\n",
       "// Listen for the removal of the full notebook cells\n",
       "var notebookContainer = gd.closest('#notebook-container');\n",
       "if (notebookContainer) {{\n",
       "    x.observe(notebookContainer, {childList: true});\n",
       "}}\n",
       "\n",
       "// Listen for the clearing of the current output cell\n",
       "var outputEl = gd.closest('.output');\n",
       "if (outputEl) {{\n",
       "    x.observe(outputEl, {childList: true});\n",
       "}}\n",
       "\n",
       "                        })\n",
       "                };\n",
       "                });\n",
       "            </script>\n",
       "        </div>"
      ]
     },
     "metadata": {},
     "output_type": "display_data"
    }
   ],
   "source": [
    "fig = go.Figure(data=go.Scatter(x=Xr[:, 0],\n",
    "                                y=Xr[:, 1],\n",
    "                                mode='markers',\n",
    "                                text=[f'{label}|{n_token}' for label, n_token in zip(aggr.label, aggr.n_texts)],\n",
    "                                marker_color=aggr.n_tokens))\n",
    "\n",
    "\n",
    "fig.show()"
   ]
  },
  {
   "cell_type": "code",
   "execution_count": 205,
   "metadata": {},
   "outputs": [
    {
     "data": {
      "text/plain": [
       "(0            Drama\n",
       " 1           Comedy\n",
       " 6           Horror\n",
       " 11     Documentary\n",
       " 13        Thriller\n",
       " 18          Action\n",
       " 30          Family\n",
       " 64           Crime\n",
       " 92       Adventure\n",
       " 108        Western\n",
       " 112         Sci-Fi\n",
       " 124        Romance\n",
       " 132        Fantasy\n",
       " 161            War\n",
       " 183      Animation\n",
       " 287          Music\n",
       " 329        Musical\n",
       " 338      Biography\n",
       " Name: label, dtype: object,\n",
       " 18)"
      ]
     },
     "execution_count": 205,
     "metadata": {},
     "output_type": "execute_result"
    }
   ],
   "source": [
    "single_labels = aggr.label[aggr.label.str.split(',').apply(lambda x: len(x)) == 1]\n",
    "n_single_labels = len(single_labels)\n",
    "single_labels, n_single_labels"
   ]
  },
  {
   "cell_type": "code",
   "execution_count": 206,
   "metadata": {},
   "outputs": [],
   "source": [
    "from sklearn.mixture import GaussianMixture\n",
    "\n",
    "clu = GaussianMixture(n_components=n_single_labels)\n",
    "Xpca = UMAP(n_components=50, n_neighbors=3).fit_transform(X)\n",
    "\n",
    "cluster = clu.fit_predict(Xpca)\n",
    "probs = clu.predict_proba(Xpca)"
   ]
  },
  {
   "cell_type": "code",
   "execution_count": 207,
   "metadata": {},
   "outputs": [
    {
     "data": {
      "image/png": "[encoded data removed]",
      "text/plain": [
       "<Figure size 432x288 with 1 Axes>"
      ]
     },
     "metadata": {
      "needs_background": "light"
     },
     "output_type": "display_data"
    }
   ],
   "source": [
    "cluster_counter = Counter(cluster)\n",
    "plt.bar(cluster_counter.keys(), cluster_counter.values())\n",
    "plt.show()"
   ]
  },
  {
   "cell_type": "code",
   "execution_count": 208,
   "metadata": {},
   "outputs": [
    {
     "data": {
      "text/plain": [
       "array([ 8,  0,  0,  8,  8,  0,  6,  5, 11, 15,  9,  4,  5,  5, 15,  2, 10,\n",
       "       12, 15,  5,  3,  1,  1, 10, 15, 11,  6, 16, 12,  5, 17,  9, 13,  1,\n",
       "       10,  2,  3, 12, 15, 13,  6, 15,  6, 13, 10, 17, 16, 15,  9,  5,  9,\n",
       "        1,  8,  8,  5,  5,  9,  3,  6, 11, 12,  1,  3,  0,  5,  2,  5, 13,\n",
       "        5,  3,  9,  1,  1, 17,  6,  0,  6,  4,  6,  8,  2,  1,  0,  8,  9,\n",
       "        8, 16,  8, 16,  1, 11, 12, 12, 14,  3,  0, 15,  5, 13, 17, 11,  5,\n",
       "       16, 10,  0,  0,  2, 16, 10,  8,  8, 13,  1,  2,  4, 12,  2,  4,  5,\n",
       "       11,  4, 11,  3,  5,  8,  4,  8,  8, 12, 16,  3, 13,  8, 16, 17,  0,\n",
       "        0, 15, 17, 12, 12,  6, 11, 10,  1, 11, 10,  3,  8,  9,  8,  1,  8,\n",
       "        6, 15,  0,  1,  5,  0,  8,  1, 13,  5,  1, 16,  8,  0,  8, 12,  0,\n",
       "        6, 15, 11, 14, 12, 13,  3, 10,  1,  9,  8,  3,  4,  9, 15,  1,  0,\n",
       "       12,  4,  9, 12,  4, 11, 11, 14, 15, 15, 13,  0,  8, 16,  9, 13, 14,\n",
       "        3,  1,  1,  4,  6, 16, 14,  6,  9,  2,  8, 11,  4,  6,  6, 10,  1,\n",
       "        4, 15,  1,  3, 11,  9, 14,  3,  2,  9, 14,  4, 13, 12, 14,  3, 12,\n",
       "        8, 15,  9,  8, 17,  1, 10,  2, 12, 17,  8, 17,  3,  2, 12,  8,  8,\n",
       "        6,  8,  3,  3, 14,  1,  2,  3,  8,  8,  9,  9,  9,  7,  8,  8, 12,\n",
       "        8,  3,  4,  9,  0,  1,  0,  8,  3,  6,  3, 14, 12,  0,  3,  0,  2,\n",
       "       16, 16, 13,  5,  0, 17,  7,  4,  2, 12, 12,  7,  9,  6,  7,  8, 13,\n",
       "       17,  1,  1,  1,  4,  0,  6,  8,  3, 16,  6,  3,  1,  4,  4,  4,  8,\n",
       "       12,  3,  4,  0,  1, 12,  9, 14,  9,  3, 13,  8,  7,  0,  9, 17,  9,\n",
       "        0,  2,  3,  0,  0,  7,  2,  4,  0,  4, 13,  0])"
      ]
     },
     "execution_count": 208,
     "metadata": {},
     "output_type": "execute_result"
    }
   ],
   "source": [
    "probs.argmax(axis=1)"
   ]
  },
  {
   "cell_type": "code",
   "execution_count": 209,
   "metadata": {},
   "outputs": [
    {
     "data": {
      "application/vnd.plotly.v1+json": {
       "config": {
        "plotlyServerURL": "https://plot.ly"
       },
       "data": [
        {
         "marker": {
          "color": [
           "#479B55",
           "#FD3216",
           "#FD3216",
           "#479B55",
           "#479B55",
           "#FD3216",
           "#F6F926",
           "#0DF9FF",
           "#D626FF",
           "#C9FBE5",
           "#EEA6FB",
           "#FE00CE",
           "#0DF9FF",
           "#0DF9FF",
           "#C9FBE5",
           "#6A76FC",
           "#DC587D",
           "#6E899C",
           "#C9FBE5",
           "#0DF9FF",
           "#FED4C4",
           "#00FE35",
           "#00FE35",
           "#DC587D",
           "#C9FBE5",
           "#D626FF",
           "#F6F926",
           "#FF0092",
           "#6E899C",
           "#0DF9FF",
           "#22FFA7",
           "#EEA6FB",
           "#00B5F7",
           "#00FE35",
           "#DC587D",
           "#6A76FC",
           "#FED4C4",
           "#6E899C",
           "#C9FBE5",
           "#00B5F7",
           "#F6F926",
           "#C9FBE5",
           "#F6F926",
           "#00B5F7",
           "#DC587D",
           "#22FFA7",
           "#FF0092",
           "#C9FBE5",
           "#EEA6FB",
           "#0DF9FF",
           "#EEA6FB",
           "#00FE35",
           "#479B55",
           "#479B55",
           "#0DF9FF",
           "#0DF9FF",
           "#EEA6FB",
           "#FED4C4",
           "#F6F926",
           "#D626FF",
           "#6E899C",
           "#00FE35",
           "#FED4C4",
           "#FD3216",
           "#0DF9FF",
           "#6A76FC",
           "#0DF9FF",
           "#00B5F7",
           "#0DF9FF",
           "#FED4C4",
           "#EEA6FB",
           "#00FE35",
           "#00FE35",
           "#22FFA7",
           "#F6F926",
           "#FD3216",
           "#F6F926",
           "#FE00CE",
           "#F6F926",
           "#479B55",
           "#6A76FC",
           "#00FE35",
           "#FD3216",
           "#479B55",
           "#EEA6FB",
           "#479B55",
           "#FF0092",
           "#479B55",
           "#FF0092",
           "#00FE35",
           "#D626FF",
           "#6E899C",
           "#6E899C",
           "#B68E00",
           "#FED4C4",
           "#FD3216",
           "#C9FBE5",
           "#0DF9FF",
           "#00B5F7",
           "#22FFA7",
           "#D626FF",
           "#0DF9FF",
           "#FF0092",
           "#DC587D",
           "#FD3216",
           "#FD3216",
           "#6A76FC",
           "#FF0092",
           "#DC587D",
           "#479B55",
           "#479B55",
           "#00B5F7",
           "#00FE35",
           "#6A76FC",
           "#FE00CE",
           "#6E899C",
           "#6A76FC",
           "#FE00CE",
           "#0DF9FF",
           "#D626FF",
           "#FE00CE",
           "#D626FF",
           "#FED4C4",
           "#0DF9FF",
           "#479B55",
           "#FE00CE",
           "#479B55",
           "#479B55",
           "#6E899C",
           "#FF0092",
           "#FED4C4",
           "#00B5F7",
           "#479B55",
           "#FF0092",
           "#22FFA7",
           "#FD3216",
           "#FD3216",
           "#C9FBE5",
           "#22FFA7",
           "#6E899C",
           "#6E899C",
           "#F6F926",
           "#D626FF",
           "#DC587D",
           "#00FE35",
           "#D626FF",
           "#DC587D",
           "#FED4C4",
           "#479B55",
           "#EEA6FB",
           "#479B55",
           "#00FE35",
           "#479B55",
           "#F6F926",
           "#C9FBE5",
           "#FD3216",
           "#00FE35",
           "#0DF9FF",
           "#FD3216",
           "#479B55",
           "#00FE35",
           "#00B5F7",
           "#0DF9FF",
           "#00FE35",
           "#FF0092",
           "#479B55",
           "#FD3216",
           "#479B55",
           "#6E899C",
           "#FD3216",
           "#F6F926",
           "#C9FBE5",
           "#D626FF",
           "#B68E00",
           "#6E899C",
           "#00B5F7",
           "#FED4C4",
           "#DC587D",
           "#00FE35",
           "#EEA6FB",
           "#479B55",
           "#FED4C4",
           "#FE00CE",
           "#EEA6FB",
           "#C9FBE5",
           "#00FE35",
           "#FD3216",
           "#6E899C",
           "#FE00CE",
           "#EEA6FB",
           "#6E899C",
           "#FE00CE",
           "#D626FF",
           "#D626FF",
           "#B68E00",
           "#C9FBE5",
           "#C9FBE5",
           "#00B5F7",
           "#FD3216",
           "#479B55",
           "#FF0092",
           "#EEA6FB",
           "#00B5F7",
           "#B68E00",
           "#FED4C4",
           "#00FE35",
           "#00FE35",
           "#FE00CE",
           "#F6F926",
           "#FF0092",
           "#B68E00",
           "#F6F926",
           "#EEA6FB",
           "#6A76FC",
           "#479B55",
           "#D626FF",
           "#FE00CE",
           "#F6F926",
           "#F6F926",
           "#DC587D",
           "#00FE35",
           "#FE00CE",
           "#C9FBE5",
           "#00FE35",
           "#FED4C4",
           "#D626FF",
           "#EEA6FB",
           "#B68E00",
           "#FED4C4",
           "#6A76FC",
           "#EEA6FB",
           "#B68E00",
           "#FE00CE",
           "#00B5F7",
           "#6E899C",
           "#B68E00",
           "#FED4C4",
           "#6E899C",
           "#479B55",
           "#C9FBE5",
           "#EEA6FB",
           "#479B55",
           "#22FFA7",
           "#00FE35",
           "#DC587D",
           "#6A76FC",
           "#6E899C",
           "#22FFA7",
           "#479B55",
           "#22FFA7",
           "#FED4C4",
           "#6A76FC",
           "#6E899C",
           "#479B55",
           "#479B55",
           "#F6F926",
           "#479B55",
           "#FED4C4",
           "#FED4C4",
           "#B68E00",
           "#00FE35",
           "#6A76FC",
           "#FED4C4",
           "#479B55",
           "#479B55",
           "#EEA6FB",
           "#EEA6FB",
           "#EEA6FB",
           "#FF9616",
           "#479B55",
           "#479B55",
           "#6E899C",
           "#479B55",
           "#FED4C4",
           "#FE00CE",
           "#EEA6FB",
           "#FD3216",
           "#00FE35",
           "#FD3216",
           "#479B55",
           "#FED4C4",
           "#F6F926",
           "#FED4C4",
           "#B68E00",
           "#6E899C",
           "#FD3216",
           "#FED4C4",
           "#FD3216",
           "#6A76FC",
           "#FF0092",
           "#FF0092",
           "#00B5F7",
           "#0DF9FF",
           "#FD3216",
           "#22FFA7",
           "#FF9616",
           "#FE00CE",
           "#6A76FC",
           "#6E899C",
           "#6E899C",
           "#FF9616",
           "#EEA6FB",
           "#F6F926",
           "#FF9616",
           "#479B55",
           "#00B5F7",
           "#22FFA7",
           "#00FE35",
           "#00FE35",
           "#00FE35",
           "#FE00CE",
           "#FD3216",
           "#F6F926",
           "#479B55",
           "#FED4C4",
           "#FF0092",
           "#F6F926",
           "#FED4C4",
           "#00FE35",
           "#FE00CE",
           "#FE00CE",
           "#FE00CE",
           "#479B55",
           "#6E899C",
           "#FED4C4",
           "#FE00CE",
           "#FD3216",
           "#00FE35",
           "#6E899C",
           "#EEA6FB",
           "#B68E00",
           "#EEA6FB",
           "#FED4C4",
           "#00B5F7",
           "#479B55",
           "#FF9616",
           "#FD3216",
           "#EEA6FB",
           "#22FFA7",
           "#EEA6FB",
           "#FD3216",
           "#6A76FC",
           "#FED4C4",
           "#FD3216",
           "#FD3216",
           "#FF9616",
           "#6A76FC",
           "#FE00CE",
           "#FD3216",
           "#FE00CE",
           "#00B5F7",
           "#FD3216"
          ]
         },
         "mode": "markers",
         "text": [
          "Drama|370",
          "Comedy|195",
          "Comedy,Drama|139",
          "Drama,Romance|132",
          "Comedy,Drama,Romance|116",
          "Comedy,Romance|85",
          "Horror|77",
          "Drama,Thriller|74",
          "Horror,Thriller|69",
          "Action,Crime,Drama|67",
          "Adventure,Animation,Comedy|65",
          "Documentary|64",
          "Crime,Drama,Thriller|62",
          "Thriller|53",
          "Action,Crime,Thriller|49",
          "Action,Adventure,Sci-Fi|41",
          "Action,Comedy,Crime|41",
          "Action,Adventure,Drama|36",
          "Action|36",
          "Crime,Drama|35",
          "Crime,Drama,Mystery|30",
          "Biography,Drama,History|30",
          "Biography,Drama|30",
          "Action,Adventure,Comedy|28",
          "Action,Thriller|28",
          "Horror,Mystery,Thriller|28",
          "Comedy,Horror|27",
          "Comedy,Crime,Drama|26",
          "Action,Adventure,Fantasy|25",
          "Crime,Thriller|22",
          "Family|22",
          "Action,Adventure,Animation|22",
          "Action,Horror,Sci-Fi|20",
          "Biography,Drama,Romance|20",
          "Action,Comedy|19",
          "Action,Drama|19",
          "Drama,Mystery,Thriller|19",
          "Action,Drama,History|19",
          "Action,Drama,Thriller|18",
          "Action,Sci-Fi,Thriller|18",
          "Drama,Horror,Thriller|16",
          "Action,Biography,Drama|15",
          "Action,Comedy,Horror|15",
          "Horror,Sci-Fi,Thriller|15",
          "Adventure,Family,Fantasy|15",
          "Drama,Family|14",
          "Adventure,Comedy,Drama|14",
          "Drama,War|14",
          "Adventure,Comedy,Family|14",
          "Mystery,Thriller|14",
          "Comedy,Crime|14",
          "Biography,Comedy,Drama|14",
          "Drama,Romance,Thriller|12",
          "Comedy,Drama,Fantasy|12",
          "Drama,Horror,Mystery|12",
          "Drama,Fantasy,Horror|12",
          "Adventure,Animation,Family|12",
          "Crime,Mystery,Thriller|12",
          "Adventure,Family|12",
          "Horror,Mystery|12",
          "Action,Adventure|12",
          "Drama,History,War|12",
          "Action,Adventure,Crime|11",
          "Comedy,Family|11",
          "Crime|11",
          "Drama,History|11",
          "Drama,Mystery,Romance|11",
          "Action,Horror|11",
          "Drama,Mystery|11",
          "Action,Adventure,Thriller|11",
          "Adventure,Comedy|10",
          "Biography,Crime,Drama|10",
          "Comedy,Drama,Music|10",
          "Adventure,Drama,Family|10",
          "Horror,Sci-Fi|10",
          "Drama,Music|10",
          "Comedy,Horror,Sci-Fi|9",
          "Documentary,Music|8",
          "Sci-Fi,Thriller|8",
          "Biography,Drama,Music|8",
          "Drama,Sci-Fi|8",
          "Drama,History,Romance|8",
          "Comedy,Drama,Family|8",
          "Adventure,Drama,Fantasy|8",
          "Animation,Comedy,Family|8",
          "Drama,Horror|7",
          "Comedy,Fantasy,Horror|7",
          "Crime,Drama,Romance|7",
          "Comedy,Crime,Thriller|7",
          "Biography,Drama,Thriller|7",
          "Drama,Horror,Sci-Fi|7",
          "Adventure,Fantasy|7",
          "Adventure|7",
          "Drama,Fantasy|7",
          "Action,Crime,Mystery|7",
          "Drama,Sport|7",
          "Action,Fantasy,Horror|7",
          "Crime,Horror,Thriller|7",
          "Action,Sci-Fi|7",
          "Animation,Family|7",
          "Drama,Sci-Fi,Thriller|6",
          "Comedy,Thriller|6",
          "Action,Comedy,Fantasy|6",
          "Action,Adventure,Family|6",
          "Comedy,Fantasy|6",
          "Comedy,Horror,Romance|6",
          "Drama,Mystery,Sci-Fi|6",
          "Action,Comedy,Sci-Fi|6",
          "Western|6",
          "Action,Comedy,Drama|6",
          "Drama,Fantasy,Romance|6",
          "Action,Adventure,Mystery|5",
          "Sci-Fi|5",
          "Biography,Drama,Sport|5",
          "Crime,Documentary|5",
          "Adventure,Drama,History|5",
          "Action,Animation,Sci-Fi|5",
          "Documentary,Drama|5",
          "Action,Crime|5",
          "Fantasy,Horror,Mystery|5",
          "Biography,Documentary,Music|5",
          "Action,Horror,Thriller|5",
          "Drama,Western|5",
          "Crime,Drama,Horror|5",
          "Romance|5",
          "Biography,Documentary|5",
          "Comedy,Drama,Musical|5",
          "Drama,Romance,War|5",
          "Comedy,Drama,History|5",
          "Adventure,Animation,Drama|5",
          "Action,Comedy,Thriller|4",
          "Action,Drama,Sci-Fi|4",
          "Fantasy|4",
          "Comedy,Drama,Mystery|4",
          "Comedy,Drama,Sport|4",
          "Comedy,Sci-Fi|4",
          "Comedy,Music|4",
          "Action,Horror,Mystery|4",
          "Comedy,Family,Fantasy|4",
          "Biography,Drama,War|4",
          "Action,Fantasy,Sci-Fi|4",
          "Fantasy,Horror|4",
          "Fantasy,Horror,Thriller|4",
          "Action,Drama,Fantasy|4",
          "Drama,Fantasy,Mystery|4",
          "Mystery,Sci-Fi,Thriller|4",
          "Adventure,Fantasy,Mystery|4",
          "Action,Mystery,Thriller|4",
          "Drama,Romance,Sci-Fi|4",
          "Comedy,Mystery|4",
          "Drama,Horror,Romance|4",
          "Adventure,Biography,Drama|4",
          "Action,Comedy,Romance|4",
          "Comedy,Horror,Thriller|4",
          "Action,Crime,Sci-Fi|4",
          "Animation,Comedy|3",
          "Action,Adventure,Biography|3",
          "Comedy,Romance,Sport|3",
          "Action,Drama,Sport|3",
          "Adventure,Drama,Thriller|3",
          "Drama,History,Thriller|3",
          "War|3",
          "Romance,Thriller|3",
          "Animation,Comedy,Drama|3",
          "Animation,Drama,Family|3",
          "Action,Comedy,Family|3",
          "Adventure,Comedy,Crime|3",
          "Adventure,Drama,Romance|3",
          "Action,Fantasy|3",
          "Comedy,Family,Romance|3",
          "Action,Biography,Crime|3",
          "Crime,Drama,History|3",
          "Action,Fantasy,Thriller|3",
          "Action,Drama,Romance|3",
          "Drama,Thriller,War|3",
          "Action,Animation,Horror|3",
          "Comedy,Horror,Mystery|3",
          "Comedy,Western|3",
          "Action,Drama,Mystery|3",
          "Animation,Family,Fantasy|3",
          "Comedy,Fantasy,Romance|3",
          "Mystery,Romance,Thriller|3",
          "Documentary,Sport|3",
          "Animation|3",
          "Action,Drama,War|3",
          "Adventure,Drama,Sci-Fi|3",
          "Drama,Fantasy,Sci-Fi|3",
          "Adventure,Horror|3",
          "Biography,Documentary,Drama|3",
          "Adventure,Comedy,Fantasy|3",
          "Action,Adventure,Romance|2",
          "Documentary,News|2",
          "Action,Drama,Horror|2",
          "Action,Mystery,Sci-Fi|2",
          "Horror,Romance,Thriller|2",
          "Action,Comedy,Sport|2",
          "Crime,Drama,War|2",
          "Horror,Mystery,Sci-Fi|2",
          "Comedy,Music,Musical|2",
          "Fantasy,Romance|2",
          "Action,Animation,Comedy|2",
          "Adventure,Comedy,Horror|2",
          "Romance,Sci-Fi,Thriller|2",
          "Action,Animation,Fantasy|2",
          "Thriller,Western|2",
          "Adventure,Drama|2",
          "Comedy,Drama,Horror|2",
          "Biography,Documentary,Sport|2",
          "Comedy,Horror,Music|2",
          "Animation,Drama,Fantasy|2",
          "Action,Romance|2",
          "Adventure,Family,Sci-Fi|2",
          "Comedy,Sport|2",
          "Action,Animation,Crime|2",
          "Action,Romance,Thriller|2",
          "Crime,Horror,Mystery|2",
          "Action,Adventure,Documentary|2",
          "Drama,Music,Romance|2",
          "Animation,Drama|2",
          "Drama,Musical,Romance|2",
          "Comedy,War|2",
          "Documentary,History|2",
          "Action,Adventure,Horror|2",
          "Comedy,Drama,War|2",
          "Adventure,Drama,Western|2",
          "Horror,Romance|2",
          "Action,Drama,Family|2",
          "Action,Fantasy,Romance|2",
          "Comedy,Crime,Mystery|2",
          "Animation,Sci-Fi|2",
          "Adventure,Animation|2",
          "Action,Animation,Drama|2",
          "Adventure,Documentary,Sport|2",
          "Adventure,Mystery,Sci-Fi|2",
          "Adventure,History|2",
          "Action,History|2",
          "Action,Crime,Romance|2",
          "Action,Adventure,History|2",
          "Drama,Fantasy,Musical|2",
          "Action,Crime,Fantasy|2",
          "Animation,Comedy,Crime|2",
          "Action,Drama,Western|2",
          "Adventure,Biography,Comedy|2",
          "Animation,Drama,Sci-Fi|2",
          "Action,Adventure,Western|2",
          "Adventure,Fantasy,Musical|1",
          "Adventure,Sci-Fi,Thriller|1",
          "Comedy,Family,Music|1",
          "Adventure,Romance|1",
          "Adventure,Crime,Family|1",
          "Action,Thriller,Western|1",
          "Adventure,Sci-Fi|1",
          "Fantasy,Mystery,Romance|1",
          "Adventure,Animation,Fantasy|1",
          "Animation,Drama,Thriller|1",
          "Adventure,Horror,Sci-Fi|1",
          "Family,Mystery|1",
          "Biography,Comedy|1",
          "Action,Mystery|1",
          "Comedy,Musical|1",
          "Adventure,Biography|1",
          "Mystery,Western|1",
          "Adventure,History,Romance|1",
          "Crime,Horror,Romance|1",
          "Action,Crime,Horror|1",
          "Adventure,Drama,Horror|1",
          "Animation,Family,Musical|1",
          "Comedy,Crime,Romance|1",
          "Documentary,History,Music|1",
          "Comedy,Crime,Horror|1",
          "Biography,Documentary,Family|1",
          "Action,History,Thriller|1",
          "Drama,Family,Mystery|1",
          "Comedy,Drama,Sci-Fi|1",
          "Documentary,Family,History|1",
          "Comedy,Horror,Musical|1",
          "Adventure,Drama,Sport|1",
          "Drama,Family,Sci-Fi|1",
          "Biography,Drama,Fantasy|1",
          "Animation,Drama,Romance|1",
          "Crime,Mystery|1",
          "Fantasy,Mystery,Thriller|1",
          "Drama,Mystery,War|1",
          "Drama,History,Horror|1",
          "Crime,Drama,Sci-Fi|1",
          "Mystery,Romance,Sci-Fi|1",
          "Adventure,Comedy,Sci-Fi|1",
          "Music|1",
          "Action,Comedy,Western|1",
          "Animation,Mystery,Thriller|1",
          "Adventure,Thriller|1",
          "Action,War|1",
          "Adventure,Crime,Drama|1",
          "Drama,Fantasy,Music|1",
          "Comedy,Crime,Family|1",
          "Documentary,Mystery|1",
          "Crime,Documentary,Drama|1",
          "Animation,Biography,Drama|1",
          "Adventure,Biography,History|1",
          "Biography,History|1",
          "Documentary,History,War|1",
          "Drama,Fantasy,Thriller|1",
          "Action,Fantasy,Western|1",
          "Documentary,Drama,Family|1",
          "Comedy,Documentary,Drama|1",
          "Adventure,Crime,Thriller|1",
          "Drama,Family,Music|1",
          "Drama,Family,Fantasy|1",
          "Family,Fantasy|1",
          "Adventure,Documentary,Drama|1",
          "Documentary,Thriller|1",
          "Crime,Drama,Fantasy|1",
          "Drama,Family,History|1",
          "Fantasy,Horror,Sci-Fi|1",
          "Crime,Mystery,Romance|1",
          "Family,Fantasy,Musical|1",
          "Drama,History,Sport|1",
          "Action,Horror,Romance|1",
          "Adventure,Animation,Sci-Fi|1",
          "Comedy,Musical,Sci-Fi|1",
          "Action,Biography,Documentary|1",
          "Documentary,History,Sport|1",
          "Drama,Family,Romance|1",
          "Biography,Drama,Musical|1",
          "Animation,Comedy,Fantasy|1",
          "Animation,Biography,Documentary|1",
          "Adventure,Biography,Crime|1",
          "Comedy,Drama,Thriller|1",
          "Drama,Musical|1",
          "Musical|1",
          "Adventure,Comedy,Western|1",
          "Comedy,Fantasy,Sci-Fi|1",
          "Crime,Romance,Thriller|1",
          "Horror,War|1",
          "Crime,Sci-Fi,Thriller|1",
          "Animation,Documentary|1",
          "Drama,Music,Thriller|1",
          "Comedy,Fantasy,Thriller|1",
          "Biography|1",
          "Comedy,Family,Sport|1",
          "Thriller,War|1",
          "Action,Comedy,Music|1",
          "Music,Mystery,Thriller|1",
          "Comedy,Romance,Western|1",
          "Comedy,Musical,Romance|1",
          "Crime,Documentary,History|1",
          "Drama,Thriller,Western|1",
          "Biography,Comedy,Crime|1",
          "Comedy,Romance,Sci-Fi|1",
          "Documentary,War|1",
          "Romance,War|1",
          "Action,Comedy,Documentary|1"
         ],
         "type": "scatter",
         "x": [
          13.880824089050293,
          15.036199569702148,
          14.608570098876953,
          14.372236251831055,
          14.111129760742188,
          15.098878860473633,
          13.515518188476562,
          12.24680233001709,
          11.949567794799805,
          11.413776397705078,
          13.972970962524414,
          8.350406646728516,
          12.376867294311523,
          12.324533462524414,
          10.850680351257324,
          10.267156600952148,
          12.277020454406738,
          10.892091751098633,
          12.894501686096191,
          14.188940048217773,
          10.110692977905273,
          9.966018676757812,
          10.46976089477539,
          12.331314086914062,
          10.946785926818848,
          12.063420295715332,
          13.622361183166504,
          12.788139343261719,
          11.043971061706543,
          12.929214477539062,
          14.14731502532959,
          13.532984733581543,
          9.757333755493164,
          10.77410888671875,
          12.938117027282715,
          11.559415817260742,
          10.835037231445312,
          10.647514343261719,
          10.939369201660156,
          10.228351593017578,
          14.851811408996582,
          10.614861488342285,
          13.421666145324707,
          10.177763938903809,
          13.026089668273926,
          14.994118690490723,
          12.48134708404541,
          10.17055606842041,
          13.647717475891113,
          12.150962829589844,
          12.969261169433594,
          10.840761184692383,
          14.680472373962402,
          13.78645133972168,
          11.001388549804688,
          11.667165756225586,
          14.012432098388672,
          10.090251922607422,
          13.214812278747559,
          11.749334335327148,
          11.087345123291016,
          9.527606964111328,
          9.83684253692627,
          14.369709014892578,
          13.335039138793945,
          11.155231475830078,
          11.48615550994873,
          10.112410545349121,
          11.917705535888672,
          9.580947875976562,
          13.391661643981934,
          10.562641143798828,
          10.828853607177734,
          14.6622896194458,
          13.203206062316895,
          14.65788459777832,
          13.336455345153809,
          8.65768814086914,
          12.651339530944824,
          14.335709571838379,
          10.658172607421875,
          10.543949127197266,
          14.843685150146484,
          14.00075626373291,
          14.128494262695312,
          14.311020851135254,
          12.219351768493652,
          14.23265266418457,
          12.455111503601074,
          9.36659049987793,
          11.708939552307129,
          10.52994155883789,
          11.085693359375,
          14.00142765045166,
          9.89975643157959,
          15.094318389892578,
          10.894599914550781,
          12.014625549316406,
          9.441986083984375,
          14.031050682067871,
          12.123519897460938,
          12.389772415161133,
          12.473042488098145,
          12.676592826843262,
          14.605124473571777,
          14.997845649719238,
          10.380171775817871,
          12.069774627685547,
          11.56412410736084,
          13.67551040649414,
          13.82711124420166,
          9.73414421081543,
          9.580510139465332,
          11.060742378234863,
          8.112983703613281,
          10.483210563659668,
          10.83472728729248,
          8.717971801757812,
          13.52247428894043,
          11.680449485778809,
          8.463577270507812,
          11.332966804504395,
          9.571573257446289,
          12.026551246643066,
          14.690698623657227,
          8.350640296936035,
          14.424858093261719,
          14.232590675354004,
          10.714529991149902,
          12.800202369689941,
          9.956149101257324,
          9.863197326660156,
          14.367650985717773,
          12.415473937988281,
          14.598288536071777,
          14.639127731323242,
          14.760146141052246,
          10.751869201660156,
          14.272610664367676,
          10.234095573425293,
          10.853053092956543,
          13.364513397216797,
          11.929938316345215,
          13.14067268371582,
          10.37828540802002,
          12.047253608703613,
          11.783891677856445,
          9.846986770629883,
          13.732028007507324,
          13.256516456604004,
          14.62447738647461,
          9.7901611328125,
          12.302018165588379,
          13.5142822265625,
          11.070632934570312,
          14.767030715942383,
          9.534646987915039,
          12.749051094055176,
          15.122047424316406,
          13.358732223510742,
          9.28607177734375,
          9.981053352355957,
          12.695136070251465,
          10.064698219299316,
          12.675482749938965,
          13.928312301635742,
          14.596821784973145,
          13.62531566619873,
          10.830085754394531,
          14.98598861694336,
          13.349485397338867,
          11.4638671875,
          12.08199691772461,
          14.096940994262695,
          10.263136863708496,
          10.514130592346191,
          10.51570987701416,
          12.145126342773438,
          10.348224639892578,
          13.51435375213623,
          13.828254699707031,
          10.39598560333252,
          8.826167106628418,
          13.519186019897461,
          10.567131042480469,
          9.887425422668457,
          14.439085006713867,
          11.089879989624023,
          8.326783180236816,
          14.157821655273438,
          11.367548942565918,
          8.360235214233398,
          12.71408462524414,
          11.962235450744629,
          13.948662757873535,
          10.772454261779785,
          11.045783996582031,
          10.007256507873535,
          14.786084175109863,
          14.52426815032959,
          11.65957260131836,
          14.171319961547852,
          9.879704475402832,
          14.000709533691406,
          9.630828857421875,
          9.534136772155762,
          11.145404815673828,
          8.553750991821289,
          14.515944480895996,
          12.747034072875977,
          14.00228214263916,
          13.329490661621094,
          13.897261619567871,
          11.412818908691406,
          14.2186279296875,
          12.05115032196045,
          8.778307914733887,
          13.74625301361084,
          14.098541259765625,
          10.995762825012207,
          9.402653694152832,
          8.234025955200195,
          11.225432395935059,
          9.375804901123047,
          9.582534790039062,
          11.551546096801758,
          14.025160789489746,
          13.909965515136719,
          9.923107147216797,
          10.68418025970459,
          13.768421173095703,
          13.924577713012695,
          8.715726852416992,
          10.420978546142578,
          10.975552558898926,
          11.303692817687988,
          9.894183158874512,
          10.279120445251465,
          14.667703628540039,
          10.97156047821045,
          13.073405265808105,
          14.197505950927734,
          14.236196517944336,
          10.839908599853516,
          11.715088844299316,
          11.662099838256836,
          10.385642051696777,
          14.726147651672363,
          14.976353645324707,
          14.430683135986328,
          10.244306564331055,
          10.65163516998291,
          10.572957992553711,
          13.71207332611084,
          13.979201316833496,
          13.31531047821045,
          14.740320205688477,
          9.614065170288086,
          9.959095001220703,
          13.663893699645996,
          10.07020378112793,
          11.299381256103516,
          9.564040184020996,
          14.27816390991211,
          13.269067764282227,
          13.785645484924316,
          14.025971412658691,
          13.059256553649902,
          8.082709312438965,
          14.620543479919434,
          13.565971374511719,
          10.60439682006836,
          14.151535987854004,
          10.399002075195312,
          8.383078575134277,
          13.670145988464355,
          15.082069396972656,
          10.388812065124512,
          14.790754318237305,
          13.755581855773926,
          9.63681697845459,
          13.503340721130371,
          9.822251319885254,
          13.952916145324707,
          11.223661422729492,
          13.030779838562012,
          10.32337760925293,
          15.06011962890625,
          11.488908767700195,
          11.362873077392578,
          9.856145858764648,
          9.44808292388916,
          14.026664733886719,
          14.663556098937988,
          14.680339813232422,
          8.257465362548828,
          8.086421966552734,
          10.824029922485352,
          11.491742134094238,
          9.980978965759277,
          8.196700096130371,
          13.9844970703125,
          13.044858932495117,
          8.272148132324219,
          13.378830909729004,
          10.111536979675293,
          12.615434646606445,
          10.707453727722168,
          10.470880508422852,
          10.363658905029297,
          8.486530303955078,
          15.299384117126465,
          13.597012519836426,
          14.420951843261719,
          9.877152442932129,
          12.153373718261719,
          12.60490894317627,
          9.599000930786133,
          9.416352272033691,
          8.702061653137207,
          9.33836555480957,
          8.619145393371582,
          14.497844696044922,
          10.663037300109863,
          9.657102584838867,
          8.768279075622559,
          14.849448204040527,
          11.080496788024902,
          10.86033821105957,
          13.33585262298584,
          14.149601936340332,
          13.751358985900879,
          9.717243194580078,
          9.682647705078125,
          14.481670379638672,
          8.231244087219238,
          15.204578399658203,
          13.638823509216309,
          14.58903694152832,
          14.761845588684082,
          15.081001281738281,
          10.794679641723633,
          9.805988311767578,
          15.159745216369629,
          15.048039436340332,
          8.130311012268066,
          11.275016784667969,
          8.376134872436523,
          14.707555770874023,
          8.92109203338623,
          9.675570487976074,
          14.531380653381348
         ],
         "y": [
          6.8237714767456055,
          5.037537574768066,
          6.591892719268799,
          7.104739665985107,
          7.268386363983154,
          6.4405975341796875,
          5.424722671508789,
          7.427967071533203,
          6.901549816131592,
          6.585790157318115,
          4.214181423187256,
          4.093676567077637,
          6.901430606842041,
          6.633554935455322,
          6.891970157623291,
          6.2087178230285645,
          6.167379856109619,
          4.15775728225708,
          5.659696578979492,
          6.423271656036377,
          7.876192092895508,
          5.190502166748047,
          5.699617862701416,
          5.031373977661133,
          6.89691686630249,
          7.1476640701293945,
          4.9299163818359375,
          6.05801248550415,
          4.328991889953613,
          6.78689432144165,
          4.2770304679870605,
          4.2063069343566895,
          6.668699741363525,
          5.656275749206543,
          5.036332607269287,
          4.478770732879639,
          7.89060640335083,
          4.321678161621094,
          6.628632068634033,
          6.716447353363037,
          6.540389537811279,
          5.095393657684326,
          5.371479034423828,
          6.8968048095703125,
          5.747976779937744,
          5.242375373840332,
          5.389712810516357,
          5.743731498718262,
          4.417014122009277,
          7.364333629608154,
          4.742537021636963,
          5.770983695983887,
          6.880206108093262,
          6.658641815185547,
          7.644808769226074,
          7.516482830047607,
          4.409634113311768,
          7.675717830657959,
          4.6957268714904785,
          6.99412727355957,
          4.079034805297852,
          5.531355857849121,
          7.639732360839844,
          4.493053913116455,
          6.596493244171143,
          4.395501136779785,
          7.598665714263916,
          6.896164417266846,
          7.569637298583984,
          7.22799825668335,
          4.524822235107422,
          5.849001407623291,
          5.757301330566406,
          4.77993631362915,
          4.866570949554443,
          5.642336845397949,
          4.8149590492248535,
          4.046814441680908,
          6.331090450286865,
          6.8356781005859375,
          6.129283905029297,
          5.616941452026367,
          6.057726860046387,
          6.716629505157471,
          4.488443374633789,
          7.227400779724121,
          5.304657936096191,
          6.751656532287598,
          5.538190841674805,
          5.956058502197266,
          7.077311038970947,
          3.90021014213562,
          3.9261341094970703,
          5.806243419647217,
          7.578877925872803,
          5.39854621887207,
          6.885025501251221,
          6.793106555938721,
          6.410425662994385,
          4.154178142547607,
          7.130192279815674,
          6.315759181976318,
          5.312328815460205,
          5.063880920410156,
          4.364071369171143,
          5.9742865562438965,
          6.187352180480957,
          5.985525608062744,
          4.782114505767822,
          6.046310901641846,
          7.360452175140381,
          6.578967094421387,
          6.159176349639893,
          4.977255344390869,
          4.245604515075684,
          4.174662113189697,
          5.00345516204834,
          4.331653594970703,
          6.437127590179443,
          7.349148750305176,
          4.462752819061279,
          6.797657489776611,
          7.57924747467041,
          7.420398235321045,
          6.113497257232666,
          4.336334228515625,
          7.0747389793396,
          5.870682239532471,
          4.0000386238098145,
          5.836935043334961,
          7.360644817352295,
          7.087456703186035,
          5.544775009155273,
          5.907233715057373,
          5.004738807678223,
          4.158720016479492,
          4.22363805770874,
          6.843905448913574,
          4.378241062164307,
          4.4733500480651855,
          4.252556324005127,
          5.409029483795166,
          7.244403839111328,
          6.135993957519531,
          5.116374969482422,
          7.131328582763672,
          4.645142078399658,
          8.004347801208496,
          7.385446071624756,
          5.026763916015625,
          6.532164573669434,
          5.26308012008667,
          7.648223400115967,
          5.717608451843262,
          6.475590705871582,
          4.692321300506592,
          4.337005615234375,
          7.4389777183532715,
          5.598735332489014,
          5.934012413024902,
          5.992964267730713,
          6.453425407409668,
          6.902597427368164,
          5.122256755828857,
          5.670328140258789,
          6.253172397613525,
          4.489526748657227,
          6.489266872406006,
          4.084588050842285,
          5.942213535308838,
          5.067976474761963,
          6.507880687713623,
          6.770035266876221,
          6.036186695098877,
          4.430400848388672,
          6.612730026245117,
          7.56489896774292,
          5.038421154022217,
          5.955214500427246,
          4.1551594734191895,
          7.144284725189209,
          7.861019134521484,
          3.963466167449951,
          3.961562156677246,
          5.114555358886719,
          5.798244476318359,
          6.361741065979004,
          3.821711540222168,
          4.3756422996521,
          4.111367225646973,
          4.898383617401123,
          4.100896835327148,
          6.005018711090088,
          6.64026403427124,
          6.360061168670654,
          6.952198505401611,
          4.25618314743042,
          6.632599830627441,
          4.051063060760498,
          7.171652317047119,
          5.409595966339111,
          4.18253231048584,
          7.203920841217041,
          5.598979473114014,
          7.524211883544922,
          5.514074802398682,
          5.687806129455566,
          4.483543395996094,
          5.036563396453857,
          5.216474533081055,
          6.15598201751709,
          4.683043956756592,
          4.51854944229126,
          4.4347825050354,
          6.703621864318848,
          7.094812870025635,
          3.9797685146331787,
          4.974653720855713,
          5.286764144897461,
          4.779860019683838,
          5.661936283111572,
          3.983499050140381,
          6.714783668518066,
          6.109421253204346,
          7.431509494781494,
          6.821099758148193,
          4.268481731414795,
          5.707702159881592,
          8.125237464904785,
          4.9462971687316895,
          4.193214416503906,
          5.736966133117676,
          4.0692548751831055,
          6.858399868011475,
          4.360980033874512,
          3.980045795440674,
          8.165692329406738,
          4.148767471313477,
          6.777038097381592,
          6.616314888000488,
          4.016948223114014,
          6.868791103363037,
          4.437111854553223,
          5.461958885192871,
          4.99436092376709,
          4.575087070465088,
          6.512259483337402,
          4.734332084655762,
          5.460324764251709,
          5.288355827331543,
          7.554434299468994,
          4.415088653564453,
          3.879312515258789,
          5.920341491699219,
          6.671061038970947,
          4.921913146972656,
          6.779352188110352,
          7.916830539703369,
          7.511675834655762,
          6.286457538604736,
          5.413835048675537,
          4.2660417556762695,
          8.16033935546875,
          7.443246841430664,
          6.519082069396973,
          4.7778449058532715,
          4.848788738250732,
          4.544723987579346,
          3.838508129119873,
          5.742560386657715,
          7.4095683097839355,
          4.018495559692383,
          6.964461326599121,
          8.059126853942871,
          4.069735050201416,
          4.597122669219971,
          5.573773384094238,
          6.038904666900635,
          6.228514671325684,
          7.4494218826293945,
          8.29491138458252,
          5.510762691497803,
          7.671346187591553,
          6.490020275115967,
          4.021851539611816,
          6.4149980545043945,
          7.959127902984619,
          5.621716499328613,
          4.4357805252075195,
          5.327584266662598,
          6.552590847015381,
          6.1836256980896,
          5.971645832061768,
          6.569102764129639,
          4.5199198722839355,
          3.826280117034912,
          4.039058685302734,
          6.244903087615967,
          4.018492698669434,
          3.995465040206909,
          3.8634719848632812,
          4.564631938934326,
          5.285420894622803,
          3.759521484375,
          7.4879231452941895,
          6.84390115737915,
          7.314053058624268,
          5.802391052246094,
          5.7162394523620605,
          5.5824713706970215,
          4.1546950340271,
          5.962740421295166,
          5.037628173828125,
          6.842543125152588,
          8.222477912902832,
          5.489305019378662,
          4.618744850158691,
          7.972821235656738,
          4.095004081726074,
          4.422785758972168,
          4.846006870269775,
          4.1479172706604,
          7.101207256317139,
          3.9172768592834473,
          7.824568271636963,
          4.4057793617248535,
          4.116004943847656,
          5.962296962738037,
          4.476483345031738,
          4.22065544128418,
          6.012450695037842,
          4.017723083496094,
          8.231870651245117,
          6.757850646972656,
          6.982403755187988,
          3.684506893157959,
          5.739438056945801,
          4.704732418060303,
          5.018029689788818,
          4.832877159118652,
          5.828375339508057,
          4.824439525604248,
          8.278682708740234,
          5.693402290344238,
          6.28220272064209,
          3.6969382762908936,
          4.312147617340088,
          4.505910873413086,
          5.926021099090576,
          4.114177703857422,
          6.849085807800293,
          4.154165267944336
         ]
        }
       ],
       "layout": {
        "template": {
         "data": {
          "bar": [
           {
            "error_x": {
             "color": "#2a3f5f"
            },
            "error_y": {
             "color": "#2a3f5f"
            },
            "marker": {
             "line": {
              "color": "#E5ECF6",
              "width": 0.5
             }
            },
            "type": "bar"
           }
          ],
          "barpolar": [
           {
            "marker": {
             "line": {
              "color": "#E5ECF6",
              "width": 0.5
             }
            },
            "type": "barpolar"
           }
          ],
          "carpet": [
           {
            "aaxis": {
             "endlinecolor": "#2a3f5f",
             "gridcolor": "white",
             "linecolor": "white",
             "minorgridcolor": "white",
             "startlinecolor": "#2a3f5f"
            },
            "baxis": {
             "endlinecolor": "#2a3f5f",
             "gridcolor": "white",
             "linecolor": "white",
             "minorgridcolor": "white",
             "startlinecolor": "#2a3f5f"
            },
            "type": "carpet"
           }
          ],
          "choropleth": [
           {
            "colorbar": {
             "outlinewidth": 0,
             "ticks": ""
            },
            "type": "choropleth"
           }
          ],
          "contour": [
           {
            "colorbar": {
             "outlinewidth": 0,
             "ticks": ""
            },
            "colorscale": [
             [
              0,
              "#0d0887"
             ],
             [
              0.1111111111111111,
              "#46039f"
             ],
             [
              0.2222222222222222,
              "#7201a8"
             ],
             [
              0.3333333333333333,
              "#9c179e"
             ],
             [
              0.4444444444444444,
              "#bd3786"
             ],
             [
              0.5555555555555556,
              "#d8576b"
             ],
             [
              0.6666666666666666,
              "#ed7953"
             ],
             [
              0.7777777777777778,
              "#fb9f3a"
             ],
             [
              0.8888888888888888,
              "#fdca26"
             ],
             [
              1,
              "#f0f921"
             ]
            ],
            "type": "contour"
           }
          ],
          "contourcarpet": [
           {
            "colorbar": {
             "outlinewidth": 0,
             "ticks": ""
            },
            "type": "contourcarpet"
           }
          ],
          "heatmap": [
           {
            "colorbar": {
             "outlinewidth": 0,
             "ticks": ""
            },
            "colorscale": [
             [
              0,
              "#0d0887"
             ],
             [
              0.1111111111111111,
              "#46039f"
             ],
             [
              0.2222222222222222,
              "#7201a8"
             ],
             [
              0.3333333333333333,
              "#9c179e"
             ],
             [
              0.4444444444444444,
              "#bd3786"
             ],
             [
              0.5555555555555556,
              "#d8576b"
             ],
             [
              0.6666666666666666,
              "#ed7953"
             ],
             [
              0.7777777777777778,
              "#fb9f3a"
             ],
             [
              0.8888888888888888,
              "#fdca26"
             ],
             [
              1,
              "#f0f921"
             ]
            ],
            "type": "heatmap"
           }
          ],
          "heatmapgl": [
           {
            "colorbar": {
             "outlinewidth": 0,
             "ticks": ""
            },
            "colorscale": [
             [
              0,
              "#0d0887"
             ],
             [
              0.1111111111111111,
              "#46039f"
             ],
             [
              0.2222222222222222,
              "#7201a8"
             ],
             [
              0.3333333333333333,
              "#9c179e"
             ],
             [
              0.4444444444444444,
              "#bd3786"
             ],
             [
              0.5555555555555556,
              "#d8576b"
             ],
             [
              0.6666666666666666,
              "#ed7953"
             ],
             [
              0.7777777777777778,
              "#fb9f3a"
             ],
             [
              0.8888888888888888,
              "#fdca26"
             ],
             [
              1,
              "#f0f921"
             ]
            ],
            "type": "heatmapgl"
           }
          ],
          "histogram": [
           {
            "marker": {
             "colorbar": {
              "outlinewidth": 0,
              "ticks": ""
             }
            },
            "type": "histogram"
           }
          ],
          "histogram2d": [
           {
            "colorbar": {
             "outlinewidth": 0,
             "ticks": ""
            },
            "colorscale": [
             [
              0,
              "#0d0887"
             ],
             [
              0.1111111111111111,
              "#46039f"
             ],
             [
              0.2222222222222222,
              "#7201a8"
             ],
             [
              0.3333333333333333,
              "#9c179e"
             ],
             [
              0.4444444444444444,
              "#bd3786"
             ],
             [
              0.5555555555555556,
              "#d8576b"
             ],
             [
              0.6666666666666666,
              "#ed7953"
             ],
             [
              0.7777777777777778,
              "#fb9f3a"
             ],
             [
              0.8888888888888888,
              "#fdca26"
             ],
             [
              1,
              "#f0f921"
             ]
            ],
            "type": "histogram2d"
           }
          ],
          "histogram2dcontour": [
           {
            "colorbar": {
             "outlinewidth": 0,
             "ticks": ""
            },
            "colorscale": [
             [
              0,
              "#0d0887"
             ],
             [
              0.1111111111111111,
              "#46039f"
             ],
             [
              0.2222222222222222,
              "#7201a8"
             ],
             [
              0.3333333333333333,
              "#9c179e"
             ],
             [
              0.4444444444444444,
              "#bd3786"
             ],
             [
              0.5555555555555556,
              "#d8576b"
             ],
             [
              0.6666666666666666,
              "#ed7953"
             ],
             [
              0.7777777777777778,
              "#fb9f3a"
             ],
             [
              0.8888888888888888,
              "#fdca26"
             ],
             [
              1,
              "#f0f921"
             ]
            ],
            "type": "histogram2dcontour"
           }
          ],
          "mesh3d": [
           {
            "colorbar": {
             "outlinewidth": 0,
             "ticks": ""
            },
            "type": "mesh3d"
           }
          ],
          "parcoords": [
           {
            "line": {
             "colorbar": {
              "outlinewidth": 0,
              "ticks": ""
             }
            },
            "type": "parcoords"
           }
          ],
          "pie": [
           {
            "automargin": true,
            "type": "pie"
           }
          ],
          "scatter": [
           {
            "marker": {
             "colorbar": {
              "outlinewidth": 0,
              "ticks": ""
             }
            },
            "type": "scatter"
           }
          ],
          "scatter3d": [
           {
            "line": {
             "colorbar": {
              "outlinewidth": 0,
              "ticks": ""
             }
            },
            "marker": {
             "colorbar": {
              "outlinewidth": 0,
              "ticks": ""
             }
            },
            "type": "scatter3d"
           }
          ],
          "scattercarpet": [
           {
            "marker": {
             "colorbar": {
              "outlinewidth": 0,
              "ticks": ""
             }
            },
            "type": "scattercarpet"
           }
          ],
          "scattergeo": [
           {
            "marker": {
             "colorbar": {
              "outlinewidth": 0,
              "ticks": ""
             }
            },
            "type": "scattergeo"
           }
          ],
          "scattergl": [
           {
            "marker": {
             "colorbar": {
              "outlinewidth": 0,
              "ticks": ""
             }
            },
            "type": "scattergl"
           }
          ],
          "scattermapbox": [
           {
            "marker": {
             "colorbar": {
              "outlinewidth": 0,
              "ticks": ""
             }
            },
            "type": "scattermapbox"
           }
          ],
          "scatterpolar": [
           {
            "marker": {
             "colorbar": {
              "outlinewidth": 0,
              "ticks": ""
             }
            },
            "type": "scatterpolar"
           }
          ],
          "scatterpolargl": [
           {
            "marker": {
             "colorbar": {
              "outlinewidth": 0,
              "ticks": ""
             }
            },
            "type": "scatterpolargl"
           }
          ],
          "scatterternary": [
           {
            "marker": {
             "colorbar": {
              "outlinewidth": 0,
              "ticks": ""
             }
            },
            "type": "scatterternary"
           }
          ],
          "surface": [
           {
            "colorbar": {
             "outlinewidth": 0,
             "ticks": ""
            },
            "colorscale": [
             [
              0,
              "#0d0887"
             ],
             [
              0.1111111111111111,
              "#46039f"
             ],
             [
              0.2222222222222222,
              "#7201a8"
             ],
             [
              0.3333333333333333,
              "#9c179e"
             ],
             [
              0.4444444444444444,
              "#bd3786"
             ],
             [
              0.5555555555555556,
              "#d8576b"
             ],
             [
              0.6666666666666666,
              "#ed7953"
             ],
             [
              0.7777777777777778,
              "#fb9f3a"
             ],
             [
              0.8888888888888888,
              "#fdca26"
             ],
             [
              1,
              "#f0f921"
             ]
            ],
            "type": "surface"
           }
          ],
          "table": [
           {
            "cells": {
             "fill": {
              "color": "#EBF0F8"
             },
             "line": {
              "color": "white"
             }
            },
            "header": {
             "fill": {
              "color": "#C8D4E3"
             },
             "line": {
              "color": "white"
             }
            },
            "type": "table"
           }
          ]
         },
         "layout": {
          "annotationdefaults": {
           "arrowcolor": "#2a3f5f",
           "arrowhead": 0,
           "arrowwidth": 1
          },
          "coloraxis": {
           "colorbar": {
            "outlinewidth": 0,
            "ticks": ""
           }
          },
          "colorscale": {
           "diverging": [
            [
             0,
             "#8e0152"
            ],
            [
             0.1,
             "#c51b7d"
            ],
            [
             0.2,
             "#de77ae"
            ],
            [
             0.3,
             "#f1b6da"
            ],
            [
             0.4,
             "#fde0ef"
            ],
            [
             0.5,
             "#f7f7f7"
            ],
            [
             0.6,
             "#e6f5d0"
            ],
            [
             0.7,
             "#b8e186"
            ],
            [
             0.8,
             "#7fbc41"
            ],
            [
             0.9,
             "#4d9221"
            ],
            [
             1,
             "#276419"
            ]
           ],
           "sequential": [
            [
             0,
             "#0d0887"
            ],
            [
             0.1111111111111111,
             "#46039f"
            ],
            [
             0.2222222222222222,
             "#7201a8"
            ],
            [
             0.3333333333333333,
             "#9c179e"
            ],
            [
             0.4444444444444444,
             "#bd3786"
            ],
            [
             0.5555555555555556,
             "#d8576b"
            ],
            [
             0.6666666666666666,
             "#ed7953"
            ],
            [
             0.7777777777777778,
             "#fb9f3a"
            ],
            [
             0.8888888888888888,
             "#fdca26"
            ],
            [
             1,
             "#f0f921"
            ]
           ],
           "sequentialminus": [
            [
             0,
             "#0d0887"
            ],
            [
             0.1111111111111111,
             "#46039f"
            ],
            [
             0.2222222222222222,
             "#7201a8"
            ],
            [
             0.3333333333333333,
             "#9c179e"
            ],
            [
             0.4444444444444444,
             "#bd3786"
            ],
            [
             0.5555555555555556,
             "#d8576b"
            ],
            [
             0.6666666666666666,
             "#ed7953"
            ],
            [
             0.7777777777777778,
             "#fb9f3a"
            ],
            [
             0.8888888888888888,
             "#fdca26"
            ],
            [
             1,
             "#f0f921"
            ]
           ]
          },
          "colorway": [
           "#636efa",
           "#EF553B",
           "#00cc96",
           "#ab63fa",
           "#FFA15A",
           "#19d3f3",
           "#FF6692",
           "#B6E880",
           "#FF97FF",
           "#FECB52"
          ],
          "font": {
           "color": "#2a3f5f"
          },
          "geo": {
           "bgcolor": "white",
           "lakecolor": "white",
           "landcolor": "#E5ECF6",
           "showlakes": true,
           "showland": true,
           "subunitcolor": "white"
          },
          "hoverlabel": {
           "align": "left"
          },
          "hovermode": "closest",
          "mapbox": {
           "style": "light"
          },
          "paper_bgcolor": "white",
          "plot_bgcolor": "#E5ECF6",
          "polar": {
           "angularaxis": {
            "gridcolor": "white",
            "linecolor": "white",
            "ticks": ""
           },
           "bgcolor": "#E5ECF6",
           "radialaxis": {
            "gridcolor": "white",
            "linecolor": "white",
            "ticks": ""
           }
          },
          "scene": {
           "xaxis": {
            "backgroundcolor": "#E5ECF6",
            "gridcolor": "white",
            "gridwidth": 2,
            "linecolor": "white",
            "showbackground": true,
            "ticks": "",
            "zerolinecolor": "white"
           },
           "yaxis": {
            "backgroundcolor": "#E5ECF6",
            "gridcolor": "white",
            "gridwidth": 2,
            "linecolor": "white",
            "showbackground": true,
            "ticks": "",
            "zerolinecolor": "white"
           },
           "zaxis": {
            "backgroundcolor": "#E5ECF6",
            "gridcolor": "white",
            "gridwidth": 2,
            "linecolor": "white",
            "showbackground": true,
            "ticks": "",
            "zerolinecolor": "white"
           }
          },
          "shapedefaults": {
           "line": {
            "color": "#2a3f5f"
           }
          },
          "ternary": {
           "aaxis": {
            "gridcolor": "white",
            "linecolor": "white",
            "ticks": ""
           },
           "baxis": {
            "gridcolor": "white",
            "linecolor": "white",
            "ticks": ""
           },
           "bgcolor": "#E5ECF6",
           "caxis": {
            "gridcolor": "white",
            "linecolor": "white",
            "ticks": ""
           }
          },
          "title": {
           "x": 0.05
          },
          "xaxis": {
           "automargin": true,
           "gridcolor": "white",
           "linecolor": "white",
           "ticks": "",
           "title": {
            "standoff": 15
           },
           "zerolinecolor": "white",
           "zerolinewidth": 2
          },
          "yaxis": {
           "automargin": true,
           "gridcolor": "white",
           "linecolor": "white",
           "ticks": "",
           "title": {
            "standoff": 15
           },
           "zerolinecolor": "white",
           "zerolinewidth": 2
          }
         }
        }
       }
      },
      "text/html": [
       "<div>\n",
       "        \n",
       "        \n",
       "            <div id=\"3cbf64fb-670d-4866-8bb7-1910a2a165fa\" class=\"plotly-graph-div\" style=\"height:525px; width:100%;\"></div>\n",
       "            <script type=\"text/javascript\">\n",
       "                require([\"plotly\"], function(Plotly) {\n",
       "                    window.PLOTLYENV=window.PLOTLYENV || {};\n",
       "                    \n",
       "                if (document.getElementById(\"3cbf64fb-670d-4866-8bb7-1910a2a165fa\")) {\n",
       "                    Plotly.newPlot(\n",
       "                        '3cbf64fb-670d-4866-8bb7-1910a2a165fa',\n",
       "                        [{\"marker\": {\"color\": [\"#479B55\", \"#FD3216\", \"#FD3216\", \"#479B55\", \"#479B55\", \"#FD3216\", \"#F6F926\", \"#0DF9FF\", \"#D626FF\", \"#C9FBE5\", \"#EEA6FB\", \"#FE00CE\", \"#0DF9FF\", \"#0DF9FF\", \"#C9FBE5\", \"#6A76FC\", \"#DC587D\", \"#6E899C\", \"#C9FBE5\", \"#0DF9FF\", \"#FED4C4\", \"#00FE35\", \"#00FE35\", \"#DC587D\", \"#C9FBE5\", \"#D626FF\", \"#F6F926\", \"#FF0092\", \"#6E899C\", \"#0DF9FF\", \"#22FFA7\", \"#EEA6FB\", \"#00B5F7\", \"#00FE35\", \"#DC587D\", \"#6A76FC\", \"#FED4C4\", \"#6E899C\", \"#C9FBE5\", \"#00B5F7\", \"#F6F926\", \"#C9FBE5\", \"#F6F926\", \"#00B5F7\", \"#DC587D\", \"#22FFA7\", \"#FF0092\", \"#C9FBE5\", \"#EEA6FB\", \"#0DF9FF\", \"#EEA6FB\", \"#00FE35\", \"#479B55\", \"#479B55\", \"#0DF9FF\", \"#0DF9FF\", \"#EEA6FB\", \"#FED4C4\", \"#F6F926\", \"#D626FF\", \"#6E899C\", \"#00FE35\", \"#FED4C4\", \"#FD3216\", \"#0DF9FF\", \"#6A76FC\", \"#0DF9FF\", \"#00B5F7\", \"#0DF9FF\", \"#FED4C4\", \"#EEA6FB\", \"#00FE35\", \"#00FE35\", \"#22FFA7\", \"#F6F926\", \"#FD3216\", \"#F6F926\", \"#FE00CE\", \"#F6F926\", \"#479B55\", \"#6A76FC\", \"#00FE35\", \"#FD3216\", \"#479B55\", \"#EEA6FB\", \"#479B55\", \"#FF0092\", \"#479B55\", \"#FF0092\", \"#00FE35\", \"#D626FF\", \"#6E899C\", \"#6E899C\", \"#B68E00\", \"#FED4C4\", \"#FD3216\", \"#C9FBE5\", \"#0DF9FF\", \"#00B5F7\", \"#22FFA7\", \"#D626FF\", \"#0DF9FF\", \"#FF0092\", \"#DC587D\", \"#FD3216\", \"#FD3216\", \"#6A76FC\", \"#FF0092\", \"#DC587D\", \"#479B55\", \"#479B55\", \"#00B5F7\", \"#00FE35\", \"#6A76FC\", \"#FE00CE\", \"#6E899C\", \"#6A76FC\", \"#FE00CE\", \"#0DF9FF\", \"#D626FF\", \"#FE00CE\", \"#D626FF\", \"#FED4C4\", \"#0DF9FF\", \"#479B55\", \"#FE00CE\", \"#479B55\", \"#479B55\", \"#6E899C\", \"#FF0092\", \"#FED4C4\", \"#00B5F7\", \"#479B55\", \"#FF0092\", \"#22FFA7\", \"#FD3216\", \"#FD3216\", \"#C9FBE5\", \"#22FFA7\", \"#6E899C\", \"#6E899C\", \"#F6F926\", \"#D626FF\", \"#DC587D\", \"#00FE35\", \"#D626FF\", \"#DC587D\", \"#FED4C4\", \"#479B55\", \"#EEA6FB\", \"#479B55\", \"#00FE35\", \"#479B55\", \"#F6F926\", \"#C9FBE5\", \"#FD3216\", \"#00FE35\", \"#0DF9FF\", \"#FD3216\", \"#479B55\", \"#00FE35\", \"#00B5F7\", \"#0DF9FF\", \"#00FE35\", \"#FF0092\", \"#479B55\", \"#FD3216\", \"#479B55\", \"#6E899C\", \"#FD3216\", \"#F6F926\", \"#C9FBE5\", \"#D626FF\", \"#B68E00\", \"#6E899C\", \"#00B5F7\", \"#FED4C4\", \"#DC587D\", \"#00FE35\", \"#EEA6FB\", \"#479B55\", \"#FED4C4\", \"#FE00CE\", \"#EEA6FB\", \"#C9FBE5\", \"#00FE35\", \"#FD3216\", \"#6E899C\", \"#FE00CE\", \"#EEA6FB\", \"#6E899C\", \"#FE00CE\", \"#D626FF\", \"#D626FF\", \"#B68E00\", \"#C9FBE5\", \"#C9FBE5\", \"#00B5F7\", \"#FD3216\", \"#479B55\", \"#FF0092\", \"#EEA6FB\", \"#00B5F7\", \"#B68E00\", \"#FED4C4\", \"#00FE35\", \"#00FE35\", \"#FE00CE\", \"#F6F926\", \"#FF0092\", \"#B68E00\", \"#F6F926\", \"#EEA6FB\", \"#6A76FC\", \"#479B55\", \"#D626FF\", \"#FE00CE\", \"#F6F926\", \"#F6F926\", \"#DC587D\", \"#00FE35\", \"#FE00CE\", \"#C9FBE5\", \"#00FE35\", \"#FED4C4\", \"#D626FF\", \"#EEA6FB\", \"#B68E00\", \"#FED4C4\", \"#6A76FC\", \"#EEA6FB\", \"#B68E00\", \"#FE00CE\", \"#00B5F7\", \"#6E899C\", \"#B68E00\", \"#FED4C4\", \"#6E899C\", \"#479B55\", \"#C9FBE5\", \"#EEA6FB\", \"#479B55\", \"#22FFA7\", \"#00FE35\", \"#DC587D\", \"#6A76FC\", \"#6E899C\", \"#22FFA7\", \"#479B55\", \"#22FFA7\", \"#FED4C4\", \"#6A76FC\", \"#6E899C\", \"#479B55\", \"#479B55\", \"#F6F926\", \"#479B55\", \"#FED4C4\", \"#FED4C4\", \"#B68E00\", \"#00FE35\", \"#6A76FC\", \"#FED4C4\", \"#479B55\", \"#479B55\", \"#EEA6FB\", \"#EEA6FB\", \"#EEA6FB\", \"#FF9616\", \"#479B55\", \"#479B55\", \"#6E899C\", \"#479B55\", \"#FED4C4\", \"#FE00CE\", \"#EEA6FB\", \"#FD3216\", \"#00FE35\", \"#FD3216\", \"#479B55\", \"#FED4C4\", \"#F6F926\", \"#FED4C4\", \"#B68E00\", \"#6E899C\", \"#FD3216\", \"#FED4C4\", \"#FD3216\", \"#6A76FC\", \"#FF0092\", \"#FF0092\", \"#00B5F7\", \"#0DF9FF\", \"#FD3216\", \"#22FFA7\", \"#FF9616\", \"#FE00CE\", \"#6A76FC\", \"#6E899C\", \"#6E899C\", \"#FF9616\", \"#EEA6FB\", \"#F6F926\", \"#FF9616\", \"#479B55\", \"#00B5F7\", \"#22FFA7\", \"#00FE35\", \"#00FE35\", \"#00FE35\", \"#FE00CE\", \"#FD3216\", \"#F6F926\", \"#479B55\", \"#FED4C4\", \"#FF0092\", \"#F6F926\", \"#FED4C4\", \"#00FE35\", \"#FE00CE\", \"#FE00CE\", \"#FE00CE\", \"#479B55\", \"#6E899C\", \"#FED4C4\", \"#FE00CE\", \"#FD3216\", \"#00FE35\", \"#6E899C\", \"#EEA6FB\", \"#B68E00\", \"#EEA6FB\", \"#FED4C4\", \"#00B5F7\", \"#479B55\", \"#FF9616\", \"#FD3216\", \"#EEA6FB\", \"#22FFA7\", \"#EEA6FB\", \"#FD3216\", \"#6A76FC\", \"#FED4C4\", \"#FD3216\", \"#FD3216\", \"#FF9616\", \"#6A76FC\", \"#FE00CE\", \"#FD3216\", \"#FE00CE\", \"#00B5F7\", \"#FD3216\"]}, \"mode\": \"markers\", \"text\": [\"Drama|370\", \"Comedy|195\", \"Comedy,Drama|139\", \"Drama,Romance|132\", \"Comedy,Drama,Romance|116\", \"Comedy,Romance|85\", \"Horror|77\", \"Drama,Thriller|74\", \"Horror,Thriller|69\", \"Action,Crime,Drama|67\", \"Adventure,Animation,Comedy|65\", \"Documentary|64\", \"Crime,Drama,Thriller|62\", \"Thriller|53\", \"Action,Crime,Thriller|49\", \"Action,Adventure,Sci-Fi|41\", \"Action,Comedy,Crime|41\", \"Action,Adventure,Drama|36\", \"Action|36\", \"Crime,Drama|35\", \"Crime,Drama,Mystery|30\", \"Biography,Drama,History|30\", \"Biography,Drama|30\", \"Action,Adventure,Comedy|28\", \"Action,Thriller|28\", \"Horror,Mystery,Thriller|28\", \"Comedy,Horror|27\", \"Comedy,Crime,Drama|26\", \"Action,Adventure,Fantasy|25\", \"Crime,Thriller|22\", \"Family|22\", \"Action,Adventure,Animation|22\", \"Action,Horror,Sci-Fi|20\", \"Biography,Drama,Romance|20\", \"Action,Comedy|19\", \"Action,Drama|19\", \"Drama,Mystery,Thriller|19\", \"Action,Drama,History|19\", \"Action,Drama,Thriller|18\", \"Action,Sci-Fi,Thriller|18\", \"Drama,Horror,Thriller|16\", \"Action,Biography,Drama|15\", \"Action,Comedy,Horror|15\", \"Horror,Sci-Fi,Thriller|15\", \"Adventure,Family,Fantasy|15\", \"Drama,Family|14\", \"Adventure,Comedy,Drama|14\", \"Drama,War|14\", \"Adventure,Comedy,Family|14\", \"Mystery,Thriller|14\", \"Comedy,Crime|14\", \"Biography,Comedy,Drama|14\", \"Drama,Romance,Thriller|12\", \"Comedy,Drama,Fantasy|12\", \"Drama,Horror,Mystery|12\", \"Drama,Fantasy,Horror|12\", \"Adventure,Animation,Family|12\", \"Crime,Mystery,Thriller|12\", \"Adventure,Family|12\", \"Horror,Mystery|12\", \"Action,Adventure|12\", \"Drama,History,War|12\", \"Action,Adventure,Crime|11\", \"Comedy,Family|11\", \"Crime|11\", \"Drama,History|11\", \"Drama,Mystery,Romance|11\", \"Action,Horror|11\", \"Drama,Mystery|11\", \"Action,Adventure,Thriller|11\", \"Adventure,Comedy|10\", \"Biography,Crime,Drama|10\", \"Comedy,Drama,Music|10\", \"Adventure,Drama,Family|10\", \"Horror,Sci-Fi|10\", \"Drama,Music|10\", \"Comedy,Horror,Sci-Fi|9\", \"Documentary,Music|8\", \"Sci-Fi,Thriller|8\", \"Biography,Drama,Music|8\", \"Drama,Sci-Fi|8\", \"Drama,History,Romance|8\", \"Comedy,Drama,Family|8\", \"Adventure,Drama,Fantasy|8\", \"Animation,Comedy,Family|8\", \"Drama,Horror|7\", \"Comedy,Fantasy,Horror|7\", \"Crime,Drama,Romance|7\", \"Comedy,Crime,Thriller|7\", \"Biography,Drama,Thriller|7\", \"Drama,Horror,Sci-Fi|7\", \"Adventure,Fantasy|7\", \"Adventure|7\", \"Drama,Fantasy|7\", \"Action,Crime,Mystery|7\", \"Drama,Sport|7\", \"Action,Fantasy,Horror|7\", \"Crime,Horror,Thriller|7\", \"Action,Sci-Fi|7\", \"Animation,Family|7\", \"Drama,Sci-Fi,Thriller|6\", \"Comedy,Thriller|6\", \"Action,Comedy,Fantasy|6\", \"Action,Adventure,Family|6\", \"Comedy,Fantasy|6\", \"Comedy,Horror,Romance|6\", \"Drama,Mystery,Sci-Fi|6\", \"Action,Comedy,Sci-Fi|6\", \"Western|6\", \"Action,Comedy,Drama|6\", \"Drama,Fantasy,Romance|6\", \"Action,Adventure,Mystery|5\", \"Sci-Fi|5\", \"Biography,Drama,Sport|5\", \"Crime,Documentary|5\", \"Adventure,Drama,History|5\", \"Action,Animation,Sci-Fi|5\", \"Documentary,Drama|5\", \"Action,Crime|5\", \"Fantasy,Horror,Mystery|5\", \"Biography,Documentary,Music|5\", \"Action,Horror,Thriller|5\", \"Drama,Western|5\", \"Crime,Drama,Horror|5\", \"Romance|5\", \"Biography,Documentary|5\", \"Comedy,Drama,Musical|5\", \"Drama,Romance,War|5\", \"Comedy,Drama,History|5\", \"Adventure,Animation,Drama|5\", \"Action,Comedy,Thriller|4\", \"Action,Drama,Sci-Fi|4\", \"Fantasy|4\", \"Comedy,Drama,Mystery|4\", \"Comedy,Drama,Sport|4\", \"Comedy,Sci-Fi|4\", \"Comedy,Music|4\", \"Action,Horror,Mystery|4\", \"Comedy,Family,Fantasy|4\", \"Biography,Drama,War|4\", \"Action,Fantasy,Sci-Fi|4\", \"Fantasy,Horror|4\", \"Fantasy,Horror,Thriller|4\", \"Action,Drama,Fantasy|4\", \"Drama,Fantasy,Mystery|4\", \"Mystery,Sci-Fi,Thriller|4\", \"Adventure,Fantasy,Mystery|4\", \"Action,Mystery,Thriller|4\", \"Drama,Romance,Sci-Fi|4\", \"Comedy,Mystery|4\", \"Drama,Horror,Romance|4\", \"Adventure,Biography,Drama|4\", \"Action,Comedy,Romance|4\", \"Comedy,Horror,Thriller|4\", \"Action,Crime,Sci-Fi|4\", \"Animation,Comedy|3\", \"Action,Adventure,Biography|3\", \"Comedy,Romance,Sport|3\", \"Action,Drama,Sport|3\", \"Adventure,Drama,Thriller|3\", \"Drama,History,Thriller|3\", \"War|3\", \"Romance,Thriller|3\", \"Animation,Comedy,Drama|3\", \"Animation,Drama,Family|3\", \"Action,Comedy,Family|3\", \"Adventure,Comedy,Crime|3\", \"Adventure,Drama,Romance|3\", \"Action,Fantasy|3\", \"Comedy,Family,Romance|3\", \"Action,Biography,Crime|3\", \"Crime,Drama,History|3\", \"Action,Fantasy,Thriller|3\", \"Action,Drama,Romance|3\", \"Drama,Thriller,War|3\", \"Action,Animation,Horror|3\", \"Comedy,Horror,Mystery|3\", \"Comedy,Western|3\", \"Action,Drama,Mystery|3\", \"Animation,Family,Fantasy|3\", \"Comedy,Fantasy,Romance|3\", \"Mystery,Romance,Thriller|3\", \"Documentary,Sport|3\", \"Animation|3\", \"Action,Drama,War|3\", \"Adventure,Drama,Sci-Fi|3\", \"Drama,Fantasy,Sci-Fi|3\", \"Adventure,Horror|3\", \"Biography,Documentary,Drama|3\", \"Adventure,Comedy,Fantasy|3\", \"Action,Adventure,Romance|2\", \"Documentary,News|2\", \"Action,Drama,Horror|2\", \"Action,Mystery,Sci-Fi|2\", \"Horror,Romance,Thriller|2\", \"Action,Comedy,Sport|2\", \"Crime,Drama,War|2\", \"Horror,Mystery,Sci-Fi|2\", \"Comedy,Music,Musical|2\", \"Fantasy,Romance|2\", \"Action,Animation,Comedy|2\", \"Adventure,Comedy,Horror|2\", \"Romance,Sci-Fi,Thriller|2\", \"Action,Animation,Fantasy|2\", \"Thriller,Western|2\", \"Adventure,Drama|2\", \"Comedy,Drama,Horror|2\", \"Biography,Documentary,Sport|2\", \"Comedy,Horror,Music|2\", \"Animation,Drama,Fantasy|2\", \"Action,Romance|2\", \"Adventure,Family,Sci-Fi|2\", \"Comedy,Sport|2\", \"Action,Animation,Crime|2\", \"Action,Romance,Thriller|2\", \"Crime,Horror,Mystery|2\", \"Action,Adventure,Documentary|2\", \"Drama,Music,Romance|2\", \"Animation,Drama|2\", \"Drama,Musical,Romance|2\", \"Comedy,War|2\", \"Documentary,History|2\", \"Action,Adventure,Horror|2\", \"Comedy,Drama,War|2\", \"Adventure,Drama,Western|2\", \"Horror,Romance|2\", \"Action,Drama,Family|2\", \"Action,Fantasy,Romance|2\", \"Comedy,Crime,Mystery|2\", \"Animation,Sci-Fi|2\", \"Adventure,Animation|2\", \"Action,Animation,Drama|2\", \"Adventure,Documentary,Sport|2\", \"Adventure,Mystery,Sci-Fi|2\", \"Adventure,History|2\", \"Action,History|2\", \"Action,Crime,Romance|2\", \"Action,Adventure,History|2\", \"Drama,Fantasy,Musical|2\", \"Action,Crime,Fantasy|2\", \"Animation,Comedy,Crime|2\", \"Action,Drama,Western|2\", \"Adventure,Biography,Comedy|2\", \"Animation,Drama,Sci-Fi|2\", \"Action,Adventure,Western|2\", \"Adventure,Fantasy,Musical|1\", \"Adventure,Sci-Fi,Thriller|1\", \"Comedy,Family,Music|1\", \"Adventure,Romance|1\", \"Adventure,Crime,Family|1\", \"Action,Thriller,Western|1\", \"Adventure,Sci-Fi|1\", \"Fantasy,Mystery,Romance|1\", \"Adventure,Animation,Fantasy|1\", \"Animation,Drama,Thriller|1\", \"Adventure,Horror,Sci-Fi|1\", \"Family,Mystery|1\", \"Biography,Comedy|1\", \"Action,Mystery|1\", \"Comedy,Musical|1\", \"Adventure,Biography|1\", \"Mystery,Western|1\", \"Adventure,History,Romance|1\", \"Crime,Horror,Romance|1\", \"Action,Crime,Horror|1\", \"Adventure,Drama,Horror|1\", \"Animation,Family,Musical|1\", \"Comedy,Crime,Romance|1\", \"Documentary,History,Music|1\", \"Comedy,Crime,Horror|1\", \"Biography,Documentary,Family|1\", \"Action,History,Thriller|1\", \"Drama,Family,Mystery|1\", \"Comedy,Drama,Sci-Fi|1\", \"Documentary,Family,History|1\", \"Comedy,Horror,Musical|1\", \"Adventure,Drama,Sport|1\", \"Drama,Family,Sci-Fi|1\", \"Biography,Drama,Fantasy|1\", \"Animation,Drama,Romance|1\", \"Crime,Mystery|1\", \"Fantasy,Mystery,Thriller|1\", \"Drama,Mystery,War|1\", \"Drama,History,Horror|1\", \"Crime,Drama,Sci-Fi|1\", \"Mystery,Romance,Sci-Fi|1\", \"Adventure,Comedy,Sci-Fi|1\", \"Music|1\", \"Action,Comedy,Western|1\", \"Animation,Mystery,Thriller|1\", \"Adventure,Thriller|1\", \"Action,War|1\", \"Adventure,Crime,Drama|1\", \"Drama,Fantasy,Music|1\", \"Comedy,Crime,Family|1\", \"Documentary,Mystery|1\", \"Crime,Documentary,Drama|1\", \"Animation,Biography,Drama|1\", \"Adventure,Biography,History|1\", \"Biography,History|1\", \"Documentary,History,War|1\", \"Drama,Fantasy,Thriller|1\", \"Action,Fantasy,Western|1\", \"Documentary,Drama,Family|1\", \"Comedy,Documentary,Drama|1\", \"Adventure,Crime,Thriller|1\", \"Drama,Family,Music|1\", \"Drama,Family,Fantasy|1\", \"Family,Fantasy|1\", \"Adventure,Documentary,Drama|1\", \"Documentary,Thriller|1\", \"Crime,Drama,Fantasy|1\", \"Drama,Family,History|1\", \"Fantasy,Horror,Sci-Fi|1\", \"Crime,Mystery,Romance|1\", \"Family,Fantasy,Musical|1\", \"Drama,History,Sport|1\", \"Action,Horror,Romance|1\", \"Adventure,Animation,Sci-Fi|1\", \"Comedy,Musical,Sci-Fi|1\", \"Action,Biography,Documentary|1\", \"Documentary,History,Sport|1\", \"Drama,Family,Romance|1\", \"Biography,Drama,Musical|1\", \"Animation,Comedy,Fantasy|1\", \"Animation,Biography,Documentary|1\", \"Adventure,Biography,Crime|1\", \"Comedy,Drama,Thriller|1\", \"Drama,Musical|1\", \"Musical|1\", \"Adventure,Comedy,Western|1\", \"Comedy,Fantasy,Sci-Fi|1\", \"Crime,Romance,Thriller|1\", \"Horror,War|1\", \"Crime,Sci-Fi,Thriller|1\", \"Animation,Documentary|1\", \"Drama,Music,Thriller|1\", \"Comedy,Fantasy,Thriller|1\", \"Biography|1\", \"Comedy,Family,Sport|1\", \"Thriller,War|1\", \"Action,Comedy,Music|1\", \"Music,Mystery,Thriller|1\", \"Comedy,Romance,Western|1\", \"Comedy,Musical,Romance|1\", \"Crime,Documentary,History|1\", \"Drama,Thriller,Western|1\", \"Biography,Comedy,Crime|1\", \"Comedy,Romance,Sci-Fi|1\", \"Documentary,War|1\", \"Romance,War|1\", \"Action,Comedy,Documentary|1\"], \"type\": \"scatter\", \"x\": [13.880824089050293, 15.036199569702148, 14.608570098876953, 14.372236251831055, 14.111129760742188, 15.098878860473633, 13.515518188476562, 12.24680233001709, 11.949567794799805, 11.413776397705078, 13.972970962524414, 8.350406646728516, 12.376867294311523, 12.324533462524414, 10.850680351257324, 10.267156600952148, 12.277020454406738, 10.892091751098633, 12.894501686096191, 14.188940048217773, 10.110692977905273, 9.966018676757812, 10.46976089477539, 12.331314086914062, 10.946785926818848, 12.063420295715332, 13.622361183166504, 12.788139343261719, 11.043971061706543, 12.929214477539062, 14.14731502532959, 13.532984733581543, 9.757333755493164, 10.77410888671875, 12.938117027282715, 11.559415817260742, 10.835037231445312, 10.647514343261719, 10.939369201660156, 10.228351593017578, 14.851811408996582, 10.614861488342285, 13.421666145324707, 10.177763938903809, 13.026089668273926, 14.994118690490723, 12.48134708404541, 10.17055606842041, 13.647717475891113, 12.150962829589844, 12.969261169433594, 10.840761184692383, 14.680472373962402, 13.78645133972168, 11.001388549804688, 11.667165756225586, 14.012432098388672, 10.090251922607422, 13.214812278747559, 11.749334335327148, 11.087345123291016, 9.527606964111328, 9.83684253692627, 14.369709014892578, 13.335039138793945, 11.155231475830078, 11.48615550994873, 10.112410545349121, 11.917705535888672, 9.580947875976562, 13.391661643981934, 10.562641143798828, 10.828853607177734, 14.6622896194458, 13.203206062316895, 14.65788459777832, 13.336455345153809, 8.65768814086914, 12.651339530944824, 14.335709571838379, 10.658172607421875, 10.543949127197266, 14.843685150146484, 14.00075626373291, 14.128494262695312, 14.311020851135254, 12.219351768493652, 14.23265266418457, 12.455111503601074, 9.36659049987793, 11.708939552307129, 10.52994155883789, 11.085693359375, 14.00142765045166, 9.89975643157959, 15.094318389892578, 10.894599914550781, 12.014625549316406, 9.441986083984375, 14.031050682067871, 12.123519897460938, 12.389772415161133, 12.473042488098145, 12.676592826843262, 14.605124473571777, 14.997845649719238, 10.380171775817871, 12.069774627685547, 11.56412410736084, 13.67551040649414, 13.82711124420166, 9.73414421081543, 9.580510139465332, 11.060742378234863, 8.112983703613281, 10.483210563659668, 10.83472728729248, 8.717971801757812, 13.52247428894043, 11.680449485778809, 8.463577270507812, 11.332966804504395, 9.571573257446289, 12.026551246643066, 14.690698623657227, 8.350640296936035, 14.424858093261719, 14.232590675354004, 10.714529991149902, 12.800202369689941, 9.956149101257324, 9.863197326660156, 14.367650985717773, 12.415473937988281, 14.598288536071777, 14.639127731323242, 14.760146141052246, 10.751869201660156, 14.272610664367676, 10.234095573425293, 10.853053092956543, 13.364513397216797, 11.929938316345215, 13.14067268371582, 10.37828540802002, 12.047253608703613, 11.783891677856445, 9.846986770629883, 13.732028007507324, 13.256516456604004, 14.62447738647461, 9.7901611328125, 12.302018165588379, 13.5142822265625, 11.070632934570312, 14.767030715942383, 9.534646987915039, 12.749051094055176, 15.122047424316406, 13.358732223510742, 9.28607177734375, 9.981053352355957, 12.695136070251465, 10.064698219299316, 12.675482749938965, 13.928312301635742, 14.596821784973145, 13.62531566619873, 10.830085754394531, 14.98598861694336, 13.349485397338867, 11.4638671875, 12.08199691772461, 14.096940994262695, 10.263136863708496, 10.514130592346191, 10.51570987701416, 12.145126342773438, 10.348224639892578, 13.51435375213623, 13.828254699707031, 10.39598560333252, 8.826167106628418, 13.519186019897461, 10.567131042480469, 9.887425422668457, 14.439085006713867, 11.089879989624023, 8.326783180236816, 14.157821655273438, 11.367548942565918, 8.360235214233398, 12.71408462524414, 11.962235450744629, 13.948662757873535, 10.772454261779785, 11.045783996582031, 10.007256507873535, 14.786084175109863, 14.52426815032959, 11.65957260131836, 14.171319961547852, 9.879704475402832, 14.000709533691406, 9.630828857421875, 9.534136772155762, 11.145404815673828, 8.553750991821289, 14.515944480895996, 12.747034072875977, 14.00228214263916, 13.329490661621094, 13.897261619567871, 11.412818908691406, 14.2186279296875, 12.05115032196045, 8.778307914733887, 13.74625301361084, 14.098541259765625, 10.995762825012207, 9.402653694152832, 8.234025955200195, 11.225432395935059, 9.375804901123047, 9.582534790039062, 11.551546096801758, 14.025160789489746, 13.909965515136719, 9.923107147216797, 10.68418025970459, 13.768421173095703, 13.924577713012695, 8.715726852416992, 10.420978546142578, 10.975552558898926, 11.303692817687988, 9.894183158874512, 10.279120445251465, 14.667703628540039, 10.97156047821045, 13.073405265808105, 14.197505950927734, 14.236196517944336, 10.839908599853516, 11.715088844299316, 11.662099838256836, 10.385642051696777, 14.726147651672363, 14.976353645324707, 14.430683135986328, 10.244306564331055, 10.65163516998291, 10.572957992553711, 13.71207332611084, 13.979201316833496, 13.31531047821045, 14.740320205688477, 9.614065170288086, 9.959095001220703, 13.663893699645996, 10.07020378112793, 11.299381256103516, 9.564040184020996, 14.27816390991211, 13.269067764282227, 13.785645484924316, 14.025971412658691, 13.059256553649902, 8.082709312438965, 14.620543479919434, 13.565971374511719, 10.60439682006836, 14.151535987854004, 10.399002075195312, 8.383078575134277, 13.670145988464355, 15.082069396972656, 10.388812065124512, 14.790754318237305, 13.755581855773926, 9.63681697845459, 13.503340721130371, 9.822251319885254, 13.952916145324707, 11.223661422729492, 13.030779838562012, 10.32337760925293, 15.06011962890625, 11.488908767700195, 11.362873077392578, 9.856145858764648, 9.44808292388916, 14.026664733886719, 14.663556098937988, 14.680339813232422, 8.257465362548828, 8.086421966552734, 10.824029922485352, 11.491742134094238, 9.980978965759277, 8.196700096130371, 13.9844970703125, 13.044858932495117, 8.272148132324219, 13.378830909729004, 10.111536979675293, 12.615434646606445, 10.707453727722168, 10.470880508422852, 10.363658905029297, 8.486530303955078, 15.299384117126465, 13.597012519836426, 14.420951843261719, 9.877152442932129, 12.153373718261719, 12.60490894317627, 9.599000930786133, 9.416352272033691, 8.702061653137207, 9.33836555480957, 8.619145393371582, 14.497844696044922, 10.663037300109863, 9.657102584838867, 8.768279075622559, 14.849448204040527, 11.080496788024902, 10.86033821105957, 13.33585262298584, 14.149601936340332, 13.751358985900879, 9.717243194580078, 9.682647705078125, 14.481670379638672, 8.231244087219238, 15.204578399658203, 13.638823509216309, 14.58903694152832, 14.761845588684082, 15.081001281738281, 10.794679641723633, 9.805988311767578, 15.159745216369629, 15.048039436340332, 8.130311012268066, 11.275016784667969, 8.376134872436523, 14.707555770874023, 8.92109203338623, 9.675570487976074, 14.531380653381348], \"y\": [6.8237714767456055, 5.037537574768066, 6.591892719268799, 7.104739665985107, 7.268386363983154, 6.4405975341796875, 5.424722671508789, 7.427967071533203, 6.901549816131592, 6.585790157318115, 4.214181423187256, 4.093676567077637, 6.901430606842041, 6.633554935455322, 6.891970157623291, 6.2087178230285645, 6.167379856109619, 4.15775728225708, 5.659696578979492, 6.423271656036377, 7.876192092895508, 5.190502166748047, 5.699617862701416, 5.031373977661133, 6.89691686630249, 7.1476640701293945, 4.9299163818359375, 6.05801248550415, 4.328991889953613, 6.78689432144165, 4.2770304679870605, 4.2063069343566895, 6.668699741363525, 5.656275749206543, 5.036332607269287, 4.478770732879639, 7.89060640335083, 4.321678161621094, 6.628632068634033, 6.716447353363037, 6.540389537811279, 5.095393657684326, 5.371479034423828, 6.8968048095703125, 5.747976779937744, 5.242375373840332, 5.389712810516357, 5.743731498718262, 4.417014122009277, 7.364333629608154, 4.742537021636963, 5.770983695983887, 6.880206108093262, 6.658641815185547, 7.644808769226074, 7.516482830047607, 4.409634113311768, 7.675717830657959, 4.6957268714904785, 6.99412727355957, 4.079034805297852, 5.531355857849121, 7.639732360839844, 4.493053913116455, 6.596493244171143, 4.395501136779785, 7.598665714263916, 6.896164417266846, 7.569637298583984, 7.22799825668335, 4.524822235107422, 5.849001407623291, 5.757301330566406, 4.77993631362915, 4.866570949554443, 5.642336845397949, 4.8149590492248535, 4.046814441680908, 6.331090450286865, 6.8356781005859375, 6.129283905029297, 5.616941452026367, 6.057726860046387, 6.716629505157471, 4.488443374633789, 7.227400779724121, 5.304657936096191, 6.751656532287598, 5.538190841674805, 5.956058502197266, 7.077311038970947, 3.90021014213562, 3.9261341094970703, 5.806243419647217, 7.578877925872803, 5.39854621887207, 6.885025501251221, 6.793106555938721, 6.410425662994385, 4.154178142547607, 7.130192279815674, 6.315759181976318, 5.312328815460205, 5.063880920410156, 4.364071369171143, 5.9742865562438965, 6.187352180480957, 5.985525608062744, 4.782114505767822, 6.046310901641846, 7.360452175140381, 6.578967094421387, 6.159176349639893, 4.977255344390869, 4.245604515075684, 4.174662113189697, 5.00345516204834, 4.331653594970703, 6.437127590179443, 7.349148750305176, 4.462752819061279, 6.797657489776611, 7.57924747467041, 7.420398235321045, 6.113497257232666, 4.336334228515625, 7.0747389793396, 5.870682239532471, 4.0000386238098145, 5.836935043334961, 7.360644817352295, 7.087456703186035, 5.544775009155273, 5.907233715057373, 5.004738807678223, 4.158720016479492, 4.22363805770874, 6.843905448913574, 4.378241062164307, 4.4733500480651855, 4.252556324005127, 5.409029483795166, 7.244403839111328, 6.135993957519531, 5.116374969482422, 7.131328582763672, 4.645142078399658, 8.004347801208496, 7.385446071624756, 5.026763916015625, 6.532164573669434, 5.26308012008667, 7.648223400115967, 5.717608451843262, 6.475590705871582, 4.692321300506592, 4.337005615234375, 7.4389777183532715, 5.598735332489014, 5.934012413024902, 5.992964267730713, 6.453425407409668, 6.902597427368164, 5.122256755828857, 5.670328140258789, 6.253172397613525, 4.489526748657227, 6.489266872406006, 4.084588050842285, 5.942213535308838, 5.067976474761963, 6.507880687713623, 6.770035266876221, 6.036186695098877, 4.430400848388672, 6.612730026245117, 7.56489896774292, 5.038421154022217, 5.955214500427246, 4.1551594734191895, 7.144284725189209, 7.861019134521484, 3.963466167449951, 3.961562156677246, 5.114555358886719, 5.798244476318359, 6.361741065979004, 3.821711540222168, 4.3756422996521, 4.111367225646973, 4.898383617401123, 4.100896835327148, 6.005018711090088, 6.64026403427124, 6.360061168670654, 6.952198505401611, 4.25618314743042, 6.632599830627441, 4.051063060760498, 7.171652317047119, 5.409595966339111, 4.18253231048584, 7.203920841217041, 5.598979473114014, 7.524211883544922, 5.514074802398682, 5.687806129455566, 4.483543395996094, 5.036563396453857, 5.216474533081055, 6.15598201751709, 4.683043956756592, 4.51854944229126, 4.4347825050354, 6.703621864318848, 7.094812870025635, 3.9797685146331787, 4.974653720855713, 5.286764144897461, 4.779860019683838, 5.661936283111572, 3.983499050140381, 6.714783668518066, 6.109421253204346, 7.431509494781494, 6.821099758148193, 4.268481731414795, 5.707702159881592, 8.125237464904785, 4.9462971687316895, 4.193214416503906, 5.736966133117676, 4.0692548751831055, 6.858399868011475, 4.360980033874512, 3.980045795440674, 8.165692329406738, 4.148767471313477, 6.777038097381592, 6.616314888000488, 4.016948223114014, 6.868791103363037, 4.437111854553223, 5.461958885192871, 4.99436092376709, 4.575087070465088, 6.512259483337402, 4.734332084655762, 5.460324764251709, 5.288355827331543, 7.554434299468994, 4.415088653564453, 3.879312515258789, 5.920341491699219, 6.671061038970947, 4.921913146972656, 6.779352188110352, 7.916830539703369, 7.511675834655762, 6.286457538604736, 5.413835048675537, 4.2660417556762695, 8.16033935546875, 7.443246841430664, 6.519082069396973, 4.7778449058532715, 4.848788738250732, 4.544723987579346, 3.838508129119873, 5.742560386657715, 7.4095683097839355, 4.018495559692383, 6.964461326599121, 8.059126853942871, 4.069735050201416, 4.597122669219971, 5.573773384094238, 6.038904666900635, 6.228514671325684, 7.4494218826293945, 8.29491138458252, 5.510762691497803, 7.671346187591553, 6.490020275115967, 4.021851539611816, 6.4149980545043945, 7.959127902984619, 5.621716499328613, 4.4357805252075195, 5.327584266662598, 6.552590847015381, 6.1836256980896, 5.971645832061768, 6.569102764129639, 4.5199198722839355, 3.826280117034912, 4.039058685302734, 6.244903087615967, 4.018492698669434, 3.995465040206909, 3.8634719848632812, 4.564631938934326, 5.285420894622803, 3.759521484375, 7.4879231452941895, 6.84390115737915, 7.314053058624268, 5.802391052246094, 5.7162394523620605, 5.5824713706970215, 4.1546950340271, 5.962740421295166, 5.037628173828125, 6.842543125152588, 8.222477912902832, 5.489305019378662, 4.618744850158691, 7.972821235656738, 4.095004081726074, 4.422785758972168, 4.846006870269775, 4.1479172706604, 7.101207256317139, 3.9172768592834473, 7.824568271636963, 4.4057793617248535, 4.116004943847656, 5.962296962738037, 4.476483345031738, 4.22065544128418, 6.012450695037842, 4.017723083496094, 8.231870651245117, 6.757850646972656, 6.982403755187988, 3.684506893157959, 5.739438056945801, 4.704732418060303, 5.018029689788818, 4.832877159118652, 5.828375339508057, 4.824439525604248, 8.278682708740234, 5.693402290344238, 6.28220272064209, 3.6969382762908936, 4.312147617340088, 4.505910873413086, 5.926021099090576, 4.114177703857422, 6.849085807800293, 4.154165267944336]}],\n",
       "                        {\"template\": {\"data\": {\"bar\": [{\"error_x\": {\"color\": \"#2a3f5f\"}, \"error_y\": {\"color\": \"#2a3f5f\"}, \"marker\": {\"line\": {\"color\": \"#E5ECF6\", \"width\": 0.5}}, \"type\": \"bar\"}], \"barpolar\": [{\"marker\": {\"line\": {\"color\": \"#E5ECF6\", \"width\": 0.5}}, \"type\": \"barpolar\"}], \"carpet\": [{\"aaxis\": {\"endlinecolor\": \"#2a3f5f\", \"gridcolor\": \"white\", \"linecolor\": \"white\", \"minorgridcolor\": \"white\", \"startlinecolor\": \"#2a3f5f\"}, \"baxis\": {\"endlinecolor\": \"#2a3f5f\", \"gridcolor\": \"white\", \"linecolor\": \"white\", \"minorgridcolor\": \"white\", \"startlinecolor\": \"#2a3f5f\"}, \"type\": \"carpet\"}], \"choropleth\": [{\"colorbar\": {\"outlinewidth\": 0, \"ticks\": \"\"}, \"type\": \"choropleth\"}], \"contour\": [{\"colorbar\": {\"outlinewidth\": 0, \"ticks\": \"\"}, \"colorscale\": [[0.0, \"#0d0887\"], [0.1111111111111111, \"#46039f\"], [0.2222222222222222, \"#7201a8\"], [0.3333333333333333, \"#9c179e\"], [0.4444444444444444, \"#bd3786\"], [0.5555555555555556, \"#d8576b\"], [0.6666666666666666, \"#ed7953\"], [0.7777777777777778, \"#fb9f3a\"], [0.8888888888888888, \"#fdca26\"], [1.0, \"#f0f921\"]], \"type\": \"contour\"}], \"contourcarpet\": [{\"colorbar\": {\"outlinewidth\": 0, \"ticks\": \"\"}, \"type\": \"contourcarpet\"}], \"heatmap\": [{\"colorbar\": {\"outlinewidth\": 0, \"ticks\": \"\"}, \"colorscale\": [[0.0, \"#0d0887\"], [0.1111111111111111, \"#46039f\"], [0.2222222222222222, \"#7201a8\"], [0.3333333333333333, \"#9c179e\"], [0.4444444444444444, \"#bd3786\"], [0.5555555555555556, \"#d8576b\"], [0.6666666666666666, \"#ed7953\"], [0.7777777777777778, \"#fb9f3a\"], [0.8888888888888888, \"#fdca26\"], [1.0, \"#f0f921\"]], \"type\": \"heatmap\"}], \"heatmapgl\": [{\"colorbar\": {\"outlinewidth\": 0, \"ticks\": \"\"}, \"colorscale\": [[0.0, \"#0d0887\"], [0.1111111111111111, \"#46039f\"], [0.2222222222222222, \"#7201a8\"], [0.3333333333333333, \"#9c179e\"], [0.4444444444444444, \"#bd3786\"], [0.5555555555555556, \"#d8576b\"], [0.6666666666666666, \"#ed7953\"], [0.7777777777777778, \"#fb9f3a\"], [0.8888888888888888, \"#fdca26\"], [1.0, \"#f0f921\"]], \"type\": \"heatmapgl\"}], \"histogram\": [{\"marker\": {\"colorbar\": {\"outlinewidth\": 0, \"ticks\": \"\"}}, \"type\": \"histogram\"}], \"histogram2d\": [{\"colorbar\": {\"outlinewidth\": 0, \"ticks\": \"\"}, \"colorscale\": [[0.0, \"#0d0887\"], [0.1111111111111111, \"#46039f\"], [0.2222222222222222, \"#7201a8\"], [0.3333333333333333, \"#9c179e\"], [0.4444444444444444, \"#bd3786\"], [0.5555555555555556, \"#d8576b\"], [0.6666666666666666, \"#ed7953\"], [0.7777777777777778, \"#fb9f3a\"], [0.8888888888888888, \"#fdca26\"], [1.0, \"#f0f921\"]], \"type\": \"histogram2d\"}], \"histogram2dcontour\": [{\"colorbar\": {\"outlinewidth\": 0, \"ticks\": \"\"}, \"colorscale\": [[0.0, \"#0d0887\"], [0.1111111111111111, \"#46039f\"], [0.2222222222222222, \"#7201a8\"], [0.3333333333333333, \"#9c179e\"], [0.4444444444444444, \"#bd3786\"], [0.5555555555555556, \"#d8576b\"], [0.6666666666666666, \"#ed7953\"], [0.7777777777777778, \"#fb9f3a\"], [0.8888888888888888, \"#fdca26\"], [1.0, \"#f0f921\"]], \"type\": \"histogram2dcontour\"}], \"mesh3d\": [{\"colorbar\": {\"outlinewidth\": 0, \"ticks\": \"\"}, \"type\": \"mesh3d\"}], \"parcoords\": [{\"line\": {\"colorbar\": {\"outlinewidth\": 0, \"ticks\": \"\"}}, \"type\": \"parcoords\"}], \"pie\": [{\"automargin\": true, \"type\": \"pie\"}], \"scatter\": [{\"marker\": {\"colorbar\": {\"outlinewidth\": 0, \"ticks\": \"\"}}, \"type\": \"scatter\"}], \"scatter3d\": [{\"line\": {\"colorbar\": {\"outlinewidth\": 0, \"ticks\": \"\"}}, \"marker\": {\"colorbar\": {\"outlinewidth\": 0, \"ticks\": \"\"}}, \"type\": \"scatter3d\"}], \"scattercarpet\": [{\"marker\": {\"colorbar\": {\"outlinewidth\": 0, \"ticks\": \"\"}}, \"type\": \"scattercarpet\"}], \"scattergeo\": [{\"marker\": {\"colorbar\": {\"outlinewidth\": 0, \"ticks\": \"\"}}, \"type\": \"scattergeo\"}], \"scattergl\": [{\"marker\": {\"colorbar\": {\"outlinewidth\": 0, \"ticks\": \"\"}}, \"type\": \"scattergl\"}], \"scattermapbox\": [{\"marker\": {\"colorbar\": {\"outlinewidth\": 0, \"ticks\": \"\"}}, \"type\": \"scattermapbox\"}], \"scatterpolar\": [{\"marker\": {\"colorbar\": {\"outlinewidth\": 0, \"ticks\": \"\"}}, \"type\": \"scatterpolar\"}], \"scatterpolargl\": [{\"marker\": {\"colorbar\": {\"outlinewidth\": 0, \"ticks\": \"\"}}, \"type\": \"scatterpolargl\"}], \"scatterternary\": [{\"marker\": {\"colorbar\": {\"outlinewidth\": 0, \"ticks\": \"\"}}, \"type\": \"scatterternary\"}], \"surface\": [{\"colorbar\": {\"outlinewidth\": 0, \"ticks\": \"\"}, \"colorscale\": [[0.0, \"#0d0887\"], [0.1111111111111111, \"#46039f\"], [0.2222222222222222, \"#7201a8\"], [0.3333333333333333, \"#9c179e\"], [0.4444444444444444, \"#bd3786\"], [0.5555555555555556, \"#d8576b\"], [0.6666666666666666, \"#ed7953\"], [0.7777777777777778, \"#fb9f3a\"], [0.8888888888888888, \"#fdca26\"], [1.0, \"#f0f921\"]], \"type\": \"surface\"}], \"table\": [{\"cells\": {\"fill\": {\"color\": \"#EBF0F8\"}, \"line\": {\"color\": \"white\"}}, \"header\": {\"fill\": {\"color\": \"#C8D4E3\"}, \"line\": {\"color\": \"white\"}}, \"type\": \"table\"}]}, \"layout\": {\"annotationdefaults\": {\"arrowcolor\": \"#2a3f5f\", \"arrowhead\": 0, \"arrowwidth\": 1}, \"coloraxis\": {\"colorbar\": {\"outlinewidth\": 0, \"ticks\": \"\"}}, \"colorscale\": {\"diverging\": [[0, \"#8e0152\"], [0.1, \"#c51b7d\"], [0.2, \"#de77ae\"], [0.3, \"#f1b6da\"], [0.4, \"#fde0ef\"], [0.5, \"#f7f7f7\"], [0.6, \"#e6f5d0\"], [0.7, \"#b8e186\"], [0.8, \"#7fbc41\"], [0.9, \"#4d9221\"], [1, \"#276419\"]], \"sequential\": [[0.0, \"#0d0887\"], [0.1111111111111111, \"#46039f\"], [0.2222222222222222, \"#7201a8\"], [0.3333333333333333, \"#9c179e\"], [0.4444444444444444, \"#bd3786\"], [0.5555555555555556, \"#d8576b\"], [0.6666666666666666, \"#ed7953\"], [0.7777777777777778, \"#fb9f3a\"], [0.8888888888888888, \"#fdca26\"], [1.0, \"#f0f921\"]], \"sequentialminus\": [[0.0, \"#0d0887\"], [0.1111111111111111, \"#46039f\"], [0.2222222222222222, \"#7201a8\"], [0.3333333333333333, \"#9c179e\"], [0.4444444444444444, \"#bd3786\"], [0.5555555555555556, \"#d8576b\"], [0.6666666666666666, \"#ed7953\"], [0.7777777777777778, \"#fb9f3a\"], [0.8888888888888888, \"#fdca26\"], [1.0, \"#f0f921\"]]}, \"colorway\": [\"#636efa\", \"#EF553B\", \"#00cc96\", \"#ab63fa\", \"#FFA15A\", \"#19d3f3\", \"#FF6692\", \"#B6E880\", \"#FF97FF\", \"#FECB52\"], \"font\": {\"color\": \"#2a3f5f\"}, \"geo\": {\"bgcolor\": \"white\", \"lakecolor\": \"white\", \"landcolor\": \"#E5ECF6\", \"showlakes\": true, \"showland\": true, \"subunitcolor\": \"white\"}, \"hoverlabel\": {\"align\": \"left\"}, \"hovermode\": \"closest\", \"mapbox\": {\"style\": \"light\"}, \"paper_bgcolor\": \"white\", \"plot_bgcolor\": \"#E5ECF6\", \"polar\": {\"angularaxis\": {\"gridcolor\": \"white\", \"linecolor\": \"white\", \"ticks\": \"\"}, \"bgcolor\": \"#E5ECF6\", \"radialaxis\": {\"gridcolor\": \"white\", \"linecolor\": \"white\", \"ticks\": \"\"}}, \"scene\": {\"xaxis\": {\"backgroundcolor\": \"#E5ECF6\", \"gridcolor\": \"white\", \"gridwidth\": 2, \"linecolor\": \"white\", \"showbackground\": true, \"ticks\": \"\", \"zerolinecolor\": \"white\"}, \"yaxis\": {\"backgroundcolor\": \"#E5ECF6\", \"gridcolor\": \"white\", \"gridwidth\": 2, \"linecolor\": \"white\", \"showbackground\": true, \"ticks\": \"\", \"zerolinecolor\": \"white\"}, \"zaxis\": {\"backgroundcolor\": \"#E5ECF6\", \"gridcolor\": \"white\", \"gridwidth\": 2, \"linecolor\": \"white\", \"showbackground\": true, \"ticks\": \"\", \"zerolinecolor\": \"white\"}}, \"shapedefaults\": {\"line\": {\"color\": \"#2a3f5f\"}}, \"ternary\": {\"aaxis\": {\"gridcolor\": \"white\", \"linecolor\": \"white\", \"ticks\": \"\"}, \"baxis\": {\"gridcolor\": \"white\", \"linecolor\": \"white\", \"ticks\": \"\"}, \"bgcolor\": \"#E5ECF6\", \"caxis\": {\"gridcolor\": \"white\", \"linecolor\": \"white\", \"ticks\": \"\"}}, \"title\": {\"x\": 0.05}, \"xaxis\": {\"automargin\": true, \"gridcolor\": \"white\", \"linecolor\": \"white\", \"ticks\": \"\", \"title\": {\"standoff\": 15}, \"zerolinecolor\": \"white\", \"zerolinewidth\": 2}, \"yaxis\": {\"automargin\": true, \"gridcolor\": \"white\", \"linecolor\": \"white\", \"ticks\": \"\", \"title\": {\"standoff\": 15}, \"zerolinecolor\": \"white\", \"zerolinewidth\": 2}}}},\n",
       "                        {\"responsive\": true}\n",
       "                    ).then(function(){\n",
       "                            \n",
       "var gd = document.getElementById('3cbf64fb-670d-4866-8bb7-1910a2a165fa');\n",
       "var x = new MutationObserver(function (mutations, observer) {{\n",
       "        var display = window.getComputedStyle(gd).display;\n",
       "        if (!display || display === 'none') {{\n",
       "            console.log([gd, 'removed!']);\n",
       "            Plotly.purge(gd);\n",
       "            observer.disconnect();\n",
       "        }}\n",
       "}});\n",
       "\n",
       "// Listen for the removal of the full notebook cells\n",
       "var notebookContainer = gd.closest('#notebook-container');\n",
       "if (notebookContainer) {{\n",
       "    x.observe(notebookContainer, {childList: true});\n",
       "}}\n",
       "\n",
       "// Listen for the clearing of the current output cell\n",
       "var outputEl = gd.closest('.output');\n",
       "if (outputEl) {{\n",
       "    x.observe(outputEl, {childList: true});\n",
       "}}\n",
       "\n",
       "                        })\n",
       "                };\n",
       "                });\n",
       "            </script>\n",
       "        </div>"
      ]
     },
     "metadata": {},
     "output_type": "display_data"
    }
   ],
   "source": [
    "fig = go.Figure(data=go.Scatter(x=Xr[:, 0],\n",
    "                                y=Xr[:, 1],\n",
    "                                mode='markers',\n",
    "                                text=[f'{label}|{n_token}' for label, n_token in zip(aggr.label, aggr.n_texts)],\n",
    "                                marker_color=plotly_color_categorical_values(cluster)))\n",
    "\n",
    "\n",
    "fig.show()"
   ]
  },
  {
   "cell_type": "code",
   "execution_count": 210,
   "metadata": {},
   "outputs": [],
   "source": [
    "dfs = get_cluster_dfs(aggr, cluster)"
   ]
  },
  {
   "cell_type": "code",
   "execution_count": 211,
   "metadata": {
    "scrolled": true
   },
   "outputs": [
    {
     "name": "stdout",
     "output_type": "stream",
     "text": [
      "1                         Comedy\n",
      "2                   Comedy,Drama\n",
      "5                 Comedy,Romance\n",
      "63                 Comedy,Family\n",
      "75                   Drama,Music\n",
      "82           Comedy,Drama,Family\n",
      "95                   Drama,Sport\n",
      "104               Comedy,Fantasy\n",
      "105        Comedy,Horror,Romance\n",
      "135                Comedy,Sci-Fi\n",
      "136                 Comedy,Music\n",
      "155             Animation,Comedy\n",
      "158           Action,Drama,Sport\n",
      "166       Adventure,Comedy,Crime\n",
      "169        Comedy,Family,Romance\n",
      "186         Drama,Fantasy,Sci-Fi\n",
      "198         Comedy,Music,Musical\n",
      "276        Adventure,Drama,Sport\n",
      "278      Biography,Drama,Fantasy\n",
      "285       Mystery,Romance,Sci-Fi\n",
      "287                        Music\n",
      "293          Drama,Fantasy,Music\n",
      "311          Crime,Drama,Fantasy\n",
      "326    Adventure,Biography,Crime\n",
      "336         Drama,Music,Thriller\n",
      "340                 Thriller,War\n",
      "343       Comedy,Romance,Western\n",
      "344       Comedy,Musical,Romance\n",
      "348        Comedy,Romance,Sci-Fi\n",
      "351    Action,Comedy,Documentary\n",
      "Name: label, dtype: object\n",
      "Total number of movies in cluster => 505\n",
      "Total number of tokens in cluster => 5409656\n",
      "############################################################\n",
      "21         Biography,Drama,History\n",
      "22                 Biography,Drama\n",
      "33         Biography,Drama,Romance\n",
      "51          Biography,Comedy,Drama\n",
      "61               Drama,History,War\n",
      "71           Biography,Crime,Drama\n",
      "72              Comedy,Drama,Music\n",
      "81           Drama,History,Romance\n",
      "89        Biography,Drama,Thriller\n",
      "112                         Sci-Fi\n",
      "144          Drama,Fantasy,Mystery\n",
      "151      Adventure,Biography,Drama\n",
      "156     Action,Adventure,Biography\n",
      "160         Drama,History,Thriller\n",
      "163         Animation,Comedy,Drama\n",
      "178           Action,Drama,Mystery\n",
      "185         Adventure,Drama,Sci-Fi\n",
      "205                Adventure,Drama\n",
      "206            Comedy,Drama,Horror\n",
      "220                     Comedy,War\n",
      "223               Comedy,Drama,War\n",
      "243         Animation,Drama,Sci-Fi\n",
      "260            Adventure,Biography\n",
      "277            Drama,Family,Sci-Fi\n",
      "307           Drama,Family,Fantasy\n",
      "308                 Family,Fantasy\n",
      "309    Adventure,Documentary,Drama\n",
      "318     Adventure,Animation,Sci-Fi\n",
      "327          Comedy,Drama,Thriller\n",
      "Name: label, dtype: object\n",
      "Total number of movies in cluster => 186\n",
      "Total number of tokens in cluster => 1749139\n",
      "############################################################\n",
      "15       Action,Adventure,Sci-Fi\n",
      "35                  Action,Drama\n",
      "65                 Drama,History\n",
      "80                  Drama,Sci-Fi\n",
      "106         Drama,Mystery,Sci-Fi\n",
      "113        Biography,Drama,Sport\n",
      "116      Action,Animation,Sci-Fi\n",
      "213       Action,Animation,Crime\n",
      "229             Animation,Sci-Fi\n",
      "245    Adventure,Fantasy,Musical\n",
      "251             Adventure,Sci-Fi\n",
      "261              Mystery,Western\n",
      "288        Action,Comedy,Western\n",
      "297    Animation,Biography,Drama\n",
      "341          Action,Comedy,Music\n",
      "346       Drama,Thriller,Western\n",
      "Name: label, dtype: object\n",
      "Total number of movies in cluster => 106\n",
      "Total number of tokens in cluster => 848768\n",
      "############################################################\n",
      "20           Crime,Drama,Mystery\n",
      "36        Drama,Mystery,Thriller\n",
      "57        Crime,Mystery,Thriller\n",
      "62        Action,Adventure,Crime\n",
      "69     Action,Adventure,Thriller\n",
      "94          Action,Crime,Mystery\n",
      "122                Drama,Western\n",
      "130       Action,Comedy,Thriller\n",
      "147      Action,Mystery,Thriller\n",
      "176        Comedy,Horror,Mystery\n",
      "181     Mystery,Romance,Thriller\n",
      "204             Thriller,Western\n",
      "224      Adventure,Drama,Western\n",
      "228         Comedy,Crime,Mystery\n",
      "236         Action,Crime,Romance\n",
      "250      Action,Thriller,Western\n",
      "257             Biography,Comedy\n",
      "258               Action,Mystery\n",
      "262    Adventure,History,Romance\n",
      "273          Comedy,Drama,Sci-Fi\n",
      "280                Crime,Mystery\n",
      "282            Drama,Mystery,War\n",
      "286      Adventure,Comedy,Sci-Fi\n",
      "314        Crime,Mystery,Romance\n",
      "317        Action,Horror,Romance\n",
      "324     Animation,Comedy,Fantasy\n",
      "332       Crime,Romance,Thriller\n",
      "342       Music,Mystery,Thriller\n",
      "Name: label, dtype: object\n",
      "Total number of movies in cluster => 130\n",
      "Total number of tokens in cluster => 1053653\n",
      "############################################################\n",
      "11                         Documentary\n",
      "77                   Documentary,Music\n",
      "114                  Crime,Documentary\n",
      "117                  Documentary,Drama\n",
      "120        Biography,Documentary,Music\n",
      "125              Biography,Documentary\n",
      "182                  Documentary,Sport\n",
      "188        Biography,Documentary,Drama\n",
      "191                   Documentary,News\n",
      "207        Biography,Documentary,Sport\n",
      "216       Action,Adventure,Documentary\n",
      "221                Documentary,History\n",
      "232        Adventure,Documentary,Sport\n",
      "274         Documentary,Family,History\n",
      "296            Crime,Documentary,Drama\n",
      "310               Documentary,Thriller\n",
      "319              Comedy,Musical,Sci-Fi\n",
      "320       Action,Biography,Documentary\n",
      "321          Documentary,History,Sport\n",
      "325    Animation,Biography,Documentary\n",
      "347             Biography,Comedy,Crime\n",
      "349                    Documentary,War\n",
      "Name: label, dtype: object\n",
      "Total number of movies in cluster => 117\n",
      "Total number of tokens in cluster => 1131345\n",
      "############################################################\n",
      "7             Drama,Thriller\n",
      "12      Crime,Drama,Thriller\n",
      "13                  Thriller\n",
      "19               Crime,Drama\n",
      "29            Crime,Thriller\n",
      "49          Mystery,Thriller\n",
      "54      Drama,Horror,Mystery\n",
      "55      Drama,Fantasy,Horror\n",
      "64                     Crime\n",
      "66     Drama,Mystery,Romance\n",
      "68             Drama,Mystery\n",
      "97     Crime,Horror,Thriller\n",
      "101          Comedy,Thriller\n",
      "118             Action,Crime\n",
      "123       Crime,Drama,Horror\n",
      "157     Comedy,Romance,Sport\n",
      "162         Romance,Thriller\n",
      "292    Adventure,Crime,Drama\n",
      "Name: label, dtype: object\n",
      "Total number of movies in cluster => 347\n",
      "Total number of tokens in cluster => 2615952\n",
      "############################################################\n",
      "6                        Horror\n",
      "26                Comedy,Horror\n",
      "40        Drama,Horror,Thriller\n",
      "42         Action,Comedy,Horror\n",
      "58             Adventure,Family\n",
      "74                Horror,Sci-Fi\n",
      "76         Comedy,Horror,Sci-Fi\n",
      "78              Sci-Fi,Thriller\n",
      "141              Fantasy,Horror\n",
      "153      Comedy,Horror,Thriller\n",
      "170      Action,Biography,Crime\n",
      "208         Comedy,Horror,Music\n",
      "211     Adventure,Family,Sci-Fi\n",
      "217         Drama,Music,Romance\n",
      "218             Animation,Drama\n",
      "255     Adventure,Horror,Sci-Fi\n",
      "281    Fantasy,Mystery,Thriller\n",
      "302      Action,Fantasy,Western\n",
      "312        Drama,Family,History\n",
      "316         Drama,History,Sport\n",
      "Name: label, dtype: object\n",
      "Total number of movies in cluster => 198\n",
      "Total number of tokens in cluster => 1332226\n",
      "############################################################\n",
      "268    Documentary,History,Music\n",
      "295          Documentary,Mystery\n",
      "300      Documentary,History,War\n",
      "303     Documentary,Drama,Family\n",
      "335        Animation,Documentary\n",
      "345    Crime,Documentary,History\n",
      "Name: label, dtype: object\n",
      "Total number of movies in cluster => 6\n",
      "Total number of tokens in cluster => 55546\n",
      "############################################################\n",
      "0                             Drama\n",
      "3                     Drama,Romance\n",
      "4              Comedy,Drama,Romance\n",
      "52           Drama,Romance,Thriller\n",
      "53             Comedy,Drama,Fantasy\n",
      "79            Biography,Drama,Music\n",
      "83          Adventure,Drama,Fantasy\n",
      "85                     Drama,Horror\n",
      "87              Crime,Drama,Romance\n",
      "109             Action,Comedy,Drama\n",
      "110           Drama,Fantasy,Romance\n",
      "124                         Romance\n",
      "126            Comedy,Drama,Musical\n",
      "127               Drama,Romance,War\n",
      "132                         Fantasy\n",
      "148            Drama,Romance,Sci-Fi\n",
      "150            Drama,Horror,Romance\n",
      "152           Action,Comedy,Romance\n",
      "159        Adventure,Drama,Thriller\n",
      "165            Action,Comedy,Family\n",
      "167         Adventure,Drama,Romance\n",
      "180          Comedy,Fantasy,Romance\n",
      "199                 Fantasy,Romance\n",
      "214         Action,Romance,Thriller\n",
      "238           Drama,Fantasy,Musical\n",
      "241            Action,Drama,Western\n",
      "248               Adventure,Romance\n",
      "253     Adventure,Animation,Fantasy\n",
      "254        Animation,Drama,Thriller\n",
      "256                  Family,Mystery\n",
      "263            Crime,Horror,Romance\n",
      "264             Action,Crime,Horror\n",
      "269             Comedy,Crime,Horror\n",
      "270    Biography,Documentary,Family\n",
      "272            Drama,Family,Mystery\n",
      "279         Animation,Drama,Romance\n",
      "304        Comedy,Documentary,Drama\n",
      "313           Fantasy,Horror,Sci-Fi\n",
      "322            Drama,Family,Romance\n",
      "334           Crime,Sci-Fi,Thriller\n",
      "Name: label, dtype: object\n",
      "Total number of movies in cluster => 749\n",
      "Total number of tokens in cluster => 5950423\n",
      "############################################################\n",
      "10     Adventure,Animation,Comedy\n",
      "31     Action,Adventure,Animation\n",
      "48        Adventure,Comedy,Family\n",
      "50                   Comedy,Crime\n",
      "56     Adventure,Animation,Family\n",
      "70               Adventure,Comedy\n",
      "84        Animation,Comedy,Family\n",
      "149                Comedy,Mystery\n",
      "179      Animation,Family,Fantasy\n",
      "183                     Animation\n",
      "189      Adventure,Comedy,Fantasy\n",
      "201       Adventure,Comedy,Horror\n",
      "212                  Comedy,Sport\n",
      "226           Action,Drama,Family\n",
      "230           Adventure,Animation\n",
      "240        Animation,Comedy,Crime\n",
      "265        Adventure,Drama,Horror\n",
      "266      Animation,Family,Musical\n",
      "267          Comedy,Crime,Romance\n",
      "275         Comedy,Horror,Musical\n",
      "301        Drama,Fantasy,Thriller\n",
      "329                       Musical\n",
      "331         Comedy,Fantasy,Sci-Fi\n",
      "337       Comedy,Fantasy,Thriller\n",
      "339           Comedy,Family,Sport\n",
      "Name: label, dtype: object\n",
      "Total number of movies in cluster => 177\n",
      "Total number of tokens in cluster => 1632752\n",
      "############################################################\n",
      "16           Action,Comedy,Crime\n",
      "23       Action,Adventure,Comedy\n",
      "34                 Action,Comedy\n",
      "44      Adventure,Family,Fantasy\n",
      "103      Action,Adventure,Family\n",
      "108                      Western\n",
      "143         Action,Drama,Fantasy\n",
      "146    Adventure,Fantasy,Mystery\n",
      "177               Comedy,Western\n",
      "219        Drama,Musical,Romance\n",
      "244     Action,Adventure,Western\n",
      "Name: label, dtype: object\n",
      "Total number of movies in cluster => 130\n",
      "Total number of tokens in cluster => 1192990\n",
      "############################################################\n",
      "8              Horror,Thriller\n",
      "25     Horror,Mystery,Thriller\n",
      "59              Horror,Mystery\n",
      "90         Drama,Horror,Sci-Fi\n",
      "100      Drama,Sci-Fi,Thriller\n",
      "119     Fantasy,Horror,Mystery\n",
      "121     Action,Horror,Thriller\n",
      "142    Fantasy,Horror,Thriller\n",
      "145    Mystery,Sci-Fi,Thriller\n",
      "172    Action,Fantasy,Thriller\n",
      "192        Action,Drama,Horror\n",
      "193      Action,Mystery,Sci-Fi\n",
      "215       Crime,Horror,Mystery\n",
      "225             Horror,Romance\n",
      "Name: label, dtype: object\n",
      "Total number of movies in cluster => 151\n",
      "Total number of tokens in cluster => 982188\n",
      "############################################################\n",
      "17          Action,Adventure,Drama\n",
      "28        Action,Adventure,Fantasy\n",
      "37            Action,Drama,History\n",
      "60                Action,Adventure\n",
      "91               Adventure,Fantasy\n",
      "92                       Adventure\n",
      "115        Adventure,Drama,History\n",
      "128           Comedy,Drama,History\n",
      "139            Biography,Drama,War\n",
      "140          Action,Fantasy,Sci-Fi\n",
      "168                 Action,Fantasy\n",
      "174             Drama,Thriller,War\n",
      "187               Adventure,Horror\n",
      "190       Action,Adventure,Romance\n",
      "234              Adventure,History\n",
      "237       Action,Adventure,History\n",
      "246      Adventure,Sci-Fi,Thriller\n",
      "252        Fantasy,Mystery,Romance\n",
      "271        Action,History,Thriller\n",
      "284             Crime,Drama,Sci-Fi\n",
      "298    Adventure,Biography,History\n",
      "299              Biography,History\n",
      "323        Biography,Drama,Musical\n",
      "328                  Drama,Musical\n",
      "Name: label, dtype: object\n",
      "Total number of movies in cluster => 147\n",
      "Total number of tokens in cluster => 1081321\n",
      "############################################################\n",
      "32         Action,Horror,Sci-Fi\n",
      "39       Action,Sci-Fi,Thriller\n",
      "43       Horror,Sci-Fi,Thriller\n",
      "67                Action,Horror\n",
      "98                Action,Sci-Fi\n",
      "111    Action,Adventure,Mystery\n",
      "131         Action,Drama,Sci-Fi\n",
      "161                         War\n",
      "175     Action,Animation,Horror\n",
      "197       Horror,Mystery,Sci-Fi\n",
      "202     Romance,Sci-Fi,Thriller\n",
      "233    Adventure,Mystery,Sci-Fi\n",
      "291                  Action,War\n",
      "305    Adventure,Crime,Thriller\n",
      "333                  Horror,War\n",
      "350                 Romance,War\n",
      "Name: label, dtype: object\n",
      "Total number of movies in cluster => 96\n",
      "Total number of tokens in cluster => 697859\n",
      "############################################################\n",
      "93                Drama,Fantasy\n",
      "173        Action,Drama,Romance\n",
      "194     Horror,Romance,Thriller\n",
      "203    Action,Animation,Fantasy\n",
      "210              Action,Romance\n",
      "227      Action,Fantasy,Romance\n",
      "231      Action,Animation,Drama\n",
      "235              Action,History\n",
      "259              Comedy,Musical\n",
      "283        Drama,History,Horror\n",
      "330    Adventure,Comedy,Western\n",
      "Name: label, dtype: object\n",
      "Total number of movies in cluster => 25\n",
      "Total number of tokens in cluster => 161681\n",
      "############################################################\n",
      "9           Action,Crime,Drama\n",
      "14       Action,Crime,Thriller\n",
      "18                      Action\n",
      "24             Action,Thriller\n",
      "38       Action,Drama,Thriller\n",
      "41      Action,Biography,Drama\n",
      "47                   Drama,War\n",
      "96       Action,Fantasy,Horror\n",
      "137      Action,Horror,Mystery\n",
      "154        Action,Crime,Sci-Fi\n",
      "171        Crime,Drama,History\n",
      "184           Action,Drama,War\n",
      "195        Action,Comedy,Sport\n",
      "196            Crime,Drama,War\n",
      "222    Action,Adventure,Horror\n",
      "239       Action,Crime,Fantasy\n",
      "Name: label, dtype: object\n",
      "Total number of movies in cluster => 256\n",
      "Total number of tokens in cluster => 1926984\n",
      "############################################################\n",
      "27             Comedy,Crime,Drama\n",
      "46         Adventure,Comedy,Drama\n",
      "86          Comedy,Fantasy,Horror\n",
      "88          Comedy,Crime,Thriller\n",
      "102         Action,Comedy,Fantasy\n",
      "107          Action,Comedy,Sci-Fi\n",
      "129     Adventure,Animation,Drama\n",
      "133          Comedy,Drama,Mystery\n",
      "164        Animation,Drama,Family\n",
      "200       Action,Animation,Comedy\n",
      "209       Animation,Drama,Fantasy\n",
      "289    Animation,Mystery,Thriller\n",
      "290            Adventure,Thriller\n",
      "315        Family,Fantasy,Musical\n",
      "Name: label, dtype: object\n",
      "Total number of movies in cluster => 85\n",
      "Total number of tokens in cluster => 786034\n",
      "############################################################\n",
      "30                         Family\n",
      "45                   Drama,Family\n",
      "73         Adventure,Drama,Family\n",
      "99               Animation,Family\n",
      "134            Comedy,Drama,Sport\n",
      "138         Comedy,Family,Fantasy\n",
      "242    Adventure,Biography,Comedy\n",
      "247           Comedy,Family,Music\n",
      "249        Adventure,Crime,Family\n",
      "294           Comedy,Crime,Family\n",
      "306            Drama,Family,Music\n",
      "338                     Biography\n",
      "Name: label, dtype: object\n",
      "Total number of movies in cluster => 68\n",
      "Total number of tokens in cluster => 553465\n",
      "############################################################\n"
     ]
    }
   ],
   "source": [
    "for cluster_df in dfs:\n",
    "    print(cluster_df.label)\n",
    "    print(f'Total number of movies in cluster => {cluster_df.n_texts.sum()}')\n",
    "    print(f'Total number of tokens in cluster => {cluster_df.n_tokens.sum()}')\n",
    "    print('#'*60)"
   ]
  }
 ],
 "metadata": {
  "kernelspec": {
   "display_name": "Python 3",
   "language": "python",
   "name": "python3"
  },
  "language_info": {
   "codemirror_mode": {
    "name": "ipython",
    "version": 3
   },
   "file_extension": ".py",
   "mimetype": "text/x-python",
   "name": "python",
   "nbconvert_exporter": "python",
   "pygments_lexer": "ipython3",
   "version": "3.8.2"
  }
 },
 "nbformat": 4,
 "nbformat_minor": 4
}
