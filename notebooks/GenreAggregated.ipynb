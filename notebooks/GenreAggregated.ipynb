{
 "cells": [
  {
   "cell_type": "code",
   "execution_count": 1,
   "metadata": {},
   "outputs": [],
   "source": [
    "import pandas as pd\n",
    "import matplotlib.pyplot as plt\n",
    "import numpy as np\n",
    "import plotly.graph_objects as go\n",
    "import seaborn as sns\n",
    "from sklearn.feature_extraction.text import TfidfVectorizer\n",
    "from stop_words import get_stop_words\n",
    "from sklearn.decomposition import PCA\n",
    "from sklearn.cluster import KMeans\n",
    "from umap import UMAP\n",
    "from collections import Counter"
   ]
  },
  {
   "cell_type": "code",
   "execution_count": 2,
   "metadata": {},
   "outputs": [],
   "source": [
    "df = pd.read_csv('../dataset/movies_complete.csv')\n",
    "df.dropna(subset=['genre'], inplace=True)\n",
    "df['text_length'] = df.text.apply(lambda x: len(x.split()))\n",
    "df = df[df['text_length'] >= 3000]"
   ]
  },
  {
   "cell_type": "code",
   "execution_count": 3,
   "metadata": {},
   "outputs": [],
   "source": [
    "def aggregate_by_label(df: pd.DataFrame, label: str, min_threshold: int = 0):\n",
    "    \n",
    "    top_labels = df[label].value_counts()[df[label].value_counts() > min_threshold]\n",
    "    \n",
    "    entries = []\n",
    "    for l in top_labels.index:\n",
    "        label_df = df[df[label] == l]\n",
    "        all_texts = []\n",
    "        for text in label_df.text:\n",
    "            all_texts.append(text)\n",
    "        entry = {}\n",
    "        \n",
    "        conctanated_text = \" \".join(all_texts)\n",
    "        entry['label'] = l\n",
    "        entry['text'] = conctanated_text\n",
    "        entry['n_texts'] = len(all_texts)\n",
    "        entry['n_tokens'] = len(conctanated_text.split())\n",
    "        entry['instances'] = \", \".join(label_df.filename.to_list())\n",
    "        \n",
    "        entries.append(entry)\n",
    "    return pd.DataFrame.from_records(entries)"
   ]
  },
  {
   "cell_type": "code",
   "execution_count": 4,
   "metadata": {},
   "outputs": [],
   "source": [
    "def get_cluster_dfs(df, cluster):\n",
    "    return[df[cluster == i] for i in np.unique(cluster)]"
   ]
  },
  {
   "cell_type": "code",
   "execution_count": 5,
   "metadata": {},
   "outputs": [],
   "source": [
    "from plotly.colors import qualitative \n",
    "\n",
    "def plotly_color_categorical_values(values, cmap=qualitative.Light24):\n",
    "    uniq = np.unique(values)\n",
    "    if len(uniq) > len(cmap):\n",
    "        print(\"Need more colors than current cmap holds\")\n",
    "        return\n",
    "    categories_color = {cat: cmap[index] for index, cat in enumerate(uniq)}\n",
    "    return [categories_color[cat] for cat in values]"
   ]
  },
  {
   "cell_type": "code",
   "execution_count": 36,
   "metadata": {},
   "outputs": [],
   "source": [
    "aggr = aggregate_by_label(df, 'genre', 9)"
   ]
  },
  {
   "cell_type": "code",
   "execution_count": 137,
   "metadata": {},
   "outputs": [],
   "source": [
    "tfidf = TfidfVectorizer(\n",
    "    #stop_words=get_stop_words('de'),\n",
    "    max_features=100)\n",
    "\n",
    "X = tfidf.fit_transform(aggr.text)\n",
    "X = X.todense()"
   ]
  },
  {
   "cell_type": "code",
   "execution_count": 139,
   "metadata": {},
   "outputs": [],
   "source": [
    "Xr = UMAP(n_components=2, n_neighbors=20).fit_transform(X)\n",
    "#Xr = PCA(n_components=2).fit_transform(X.todense())"
   ]
  },
  {
   "cell_type": "code",
   "execution_count": 140,
   "metadata": {},
   "outputs": [
    {
     "data": {
      "application/vnd.plotly.v1+json": {
       "config": {
        "plotlyServerURL": "https://plot.ly"
       },
       "data": [
        {
         "marker": {
          "color": [
           2674369,
           2233492,
           1300900,
           1016722,
           1198594,
           1015203,
           462316,
           545452,
           447645,
           542220,
           562622,
           619572,
           514264,
           343265,
           366818,
           396140,
           426025,
           283838,
           231782,
           304024,
           282027,
           304749,
           284118,
           264644,
           214763,
           191435,
           209863,
           261093,
           146342,
           169823,
           186666,
           169261,
           129658,
           173914,
           179958,
           113772,
           133304,
           158313,
           127344,
           127969,
           97203,
           124264,
           99207,
           103483,
           113566,
           104418,
           135654,
           104008,
           135383,
           96014,
           185093,
           155559,
           85787,
           114469,
           78181,
           81141,
           89085,
           94362,
           101966,
           84990,
           69526,
           94720,
           82350,
           107763,
           83527,
           74898,
           93552,
           64112,
           85138,
           82038,
           119205,
           107730,
           93600,
           70389,
           59302,
           86744
          ]
         },
         "mode": "markers",
         "text": [
          "Drama|370",
          "Comedy|195",
          "Comedy,Drama|139",
          "Drama,Romance|132",
          "Comedy,Drama,Romance|116",
          "Comedy,Romance|85",
          "Horror|77",
          "Drama,Thriller|74",
          "Horror,Thriller|69",
          "Action,Crime,Drama|67",
          "Adventure,Animation,Comedy|65",
          "Documentary|64",
          "Crime,Drama,Thriller|62",
          "Thriller|53",
          "Action,Crime,Thriller|49",
          "Action,Adventure,Sci-Fi|41",
          "Action,Comedy,Crime|41",
          "Action,Adventure,Drama|36",
          "Action|36",
          "Crime,Drama|35",
          "Crime,Drama,Mystery|30",
          "Biography,Drama,History|30",
          "Biography,Drama|30",
          "Action,Adventure,Comedy|28",
          "Action,Thriller|28",
          "Horror,Mystery,Thriller|28",
          "Comedy,Horror|27",
          "Comedy,Crime,Drama|26",
          "Action,Adventure,Fantasy|25",
          "Crime,Thriller|22",
          "Family|22",
          "Action,Adventure,Animation|22",
          "Action,Horror,Sci-Fi|20",
          "Biography,Drama,Romance|20",
          "Action,Comedy|19",
          "Action,Drama|19",
          "Drama,Mystery,Thriller|19",
          "Action,Drama,History|19",
          "Action,Drama,Thriller|18",
          "Action,Sci-Fi,Thriller|18",
          "Drama,Horror,Thriller|16",
          "Action,Biography,Drama|15",
          "Action,Comedy,Horror|15",
          "Horror,Sci-Fi,Thriller|15",
          "Adventure,Family,Fantasy|15",
          "Drama,Family|14",
          "Adventure,Comedy,Drama|14",
          "Drama,War|14",
          "Adventure,Comedy,Family|14",
          "Mystery,Thriller|14",
          "Comedy,Crime|14",
          "Biography,Comedy,Drama|14",
          "Drama,Romance,Thriller|12",
          "Comedy,Drama,Fantasy|12",
          "Drama,Horror,Mystery|12",
          "Drama,Fantasy,Horror|12",
          "Adventure,Animation,Family|12",
          "Crime,Mystery,Thriller|12",
          "Adventure,Family|12",
          "Horror,Mystery|12",
          "Action,Adventure|12",
          "Drama,History,War|12",
          "Action,Adventure,Crime|11",
          "Comedy,Family|11",
          "Crime|11",
          "Drama,History|11",
          "Drama,Mystery,Romance|11",
          "Action,Horror|11",
          "Drama,Mystery|11",
          "Action,Adventure,Thriller|11",
          "Adventure,Comedy|10",
          "Biography,Crime,Drama|10",
          "Comedy,Drama,Music|10",
          "Adventure,Drama,Family|10",
          "Horror,Sci-Fi|10",
          "Drama,Music|10"
         ],
         "type": "scatter",
         "x": [
          14.200681686401367,
          15.77180004119873,
          14.906392097473145,
          14.561107635498047,
          14.843796730041504,
          15.056214332580566,
          14.534356117248535,
          12.352474212646484,
          12.960958480834961,
          12.947572708129883,
          15.667620658874512,
          12.47622299194336,
          13.048800468444824,
          13.259759902954102,
          12.544254302978516,
          11.948040008544922,
          13.60193157196045,
          13.27302360534668,
          13.884243965148926,
          13.833568572998047,
          11.365958213806152,
          12.36213493347168,
          11.804192543029785,
          14.209973335266113,
          12.73200798034668,
          12.531959533691406,
          15.151412010192871,
          14.073722839355469,
          13.493329048156738,
          13.574213027954102,
          15.624778747558594,
          15.727948188781738,
          12.037331581115723,
          11.635163307189941,
          14.523394584655762,
          13.592641830444336,
          11.707772254943848,
          13.176194190979004,
          12.530789375305176,
          11.963593482971191,
          14.718172073364258,
          12.764896392822266,
          14.744964599609375,
          12.075654983520508,
          14.263402938842773,
          15.539708137512207,
          14.030104637145996,
          12.46065902709961,
          15.371774673461914,
          12.524733543395996,
          14.662498474121094,
          11.507454872131348,
          14.325719833374023,
          14.472941398620605,
          12.047113418579102,
          12.262166023254395,
          15.835692405700684,
          11.542166709899902,
          15.196893692016602,
          12.606922149658203,
          13.480803489685059,
          12.392162322998047,
          11.38526725769043,
          15.822552680969238,
          13.73258113861084,
          13.48142147064209,
          12.05758285522461,
          12.289247512817383,
          12.15947437286377,
          11.488716125488281,
          15.181195259094238,
          11.770522117614746,
          11.408658981323242,
          15.592860221862793,
          14.827858924865723,
          15.294990539550781
         ],
         "y": [
          8.037164688110352,
          7.285306930541992,
          7.9092841148376465,
          8.567366600036621,
          8.255988121032715,
          8.29366683959961,
          7.343198776245117,
          7.221979141235352,
          6.7453293800354,
          5.953998565673828,
          6.404709815979004,
          4.149050712585449,
          7.243109226226807,
          6.9870500564575195,
          5.637829303741455,
          5.1384077072143555,
          6.575571060180664,
          4.051045894622803,
          5.708384990692139,
          7.658054351806641,
          6.633172035217285,
          4.422595977783203,
          4.530550956726074,
          5.987905979156494,
          5.514804840087891,
          7.072362899780273,
          6.48250675201416,
          7.145103931427002,
          4.126292705535889,
          7.416800022125244,
          6.790775299072266,
          6.149733066558838,
          5.755553245544434,
          4.259617805480957,
          6.355062007904053,
          4.592149257659912,
          7.076825141906738,
          4.227780342102051,
          5.559426784515381,
          5.576752185821533,
          8.21306324005127,
          4.8489990234375,
          6.96727991104126,
          6.052158832550049,
          6.87037992477417,
          7.533576011657715,
          6.358052730560303,
          5.212521553039551,
          6.299859046936035,
          7.526899337768555,
          6.566218852996826,
          4.501521110534668,
          8.413750648498535,
          7.789427757263184,
          6.776077747344971,
          7.2184553146362305,
          6.563814163208008,
          6.180734634399414,
          6.070545673370361,
          6.595592975616455,
          4.415372848510742,
          4.812726974487305,
          5.874739646911621,
          6.952086925506592,
          7.706034183502197,
          4.240443229675293,
          7.298787593841553,
          6.030518531799316,
          7.533308506011963,
          5.680063247680664,
          6.8613128662109375,
          4.768282413482666,
          4.570311069488525,
          7.202932357788086,
          6.148099422454834,
          7.522703170776367
         ]
        }
       ],
       "layout": {
        "template": {
         "data": {
          "bar": [
           {
            "error_x": {
             "color": "#2a3f5f"
            },
            "error_y": {
             "color": "#2a3f5f"
            },
            "marker": {
             "line": {
              "color": "#E5ECF6",
              "width": 0.5
             }
            },
            "type": "bar"
           }
          ],
          "barpolar": [
           {
            "marker": {
             "line": {
              "color": "#E5ECF6",
              "width": 0.5
             }
            },
            "type": "barpolar"
           }
          ],
          "carpet": [
           {
            "aaxis": {
             "endlinecolor": "#2a3f5f",
             "gridcolor": "white",
             "linecolor": "white",
             "minorgridcolor": "white",
             "startlinecolor": "#2a3f5f"
            },
            "baxis": {
             "endlinecolor": "#2a3f5f",
             "gridcolor": "white",
             "linecolor": "white",
             "minorgridcolor": "white",
             "startlinecolor": "#2a3f5f"
            },
            "type": "carpet"
           }
          ],
          "choropleth": [
           {
            "colorbar": {
             "outlinewidth": 0,
             "ticks": ""
            },
            "type": "choropleth"
           }
          ],
          "contour": [
           {
            "colorbar": {
             "outlinewidth": 0,
             "ticks": ""
            },
            "colorscale": [
             [
              0,
              "#0d0887"
             ],
             [
              0.1111111111111111,
              "#46039f"
             ],
             [
              0.2222222222222222,
              "#7201a8"
             ],
             [
              0.3333333333333333,
              "#9c179e"
             ],
             [
              0.4444444444444444,
              "#bd3786"
             ],
             [
              0.5555555555555556,
              "#d8576b"
             ],
             [
              0.6666666666666666,
              "#ed7953"
             ],
             [
              0.7777777777777778,
              "#fb9f3a"
             ],
             [
              0.8888888888888888,
              "#fdca26"
             ],
             [
              1,
              "#f0f921"
             ]
            ],
            "type": "contour"
           }
          ],
          "contourcarpet": [
           {
            "colorbar": {
             "outlinewidth": 0,
             "ticks": ""
            },
            "type": "contourcarpet"
           }
          ],
          "heatmap": [
           {
            "colorbar": {
             "outlinewidth": 0,
             "ticks": ""
            },
            "colorscale": [
             [
              0,
              "#0d0887"
             ],
             [
              0.1111111111111111,
              "#46039f"
             ],
             [
              0.2222222222222222,
              "#7201a8"
             ],
             [
              0.3333333333333333,
              "#9c179e"
             ],
             [
              0.4444444444444444,
              "#bd3786"
             ],
             [
              0.5555555555555556,
              "#d8576b"
             ],
             [
              0.6666666666666666,
              "#ed7953"
             ],
             [
              0.7777777777777778,
              "#fb9f3a"
             ],
             [
              0.8888888888888888,
              "#fdca26"
             ],
             [
              1,
              "#f0f921"
             ]
            ],
            "type": "heatmap"
           }
          ],
          "heatmapgl": [
           {
            "colorbar": {
             "outlinewidth": 0,
             "ticks": ""
            },
            "colorscale": [
             [
              0,
              "#0d0887"
             ],
             [
              0.1111111111111111,
              "#46039f"
             ],
             [
              0.2222222222222222,
              "#7201a8"
             ],
             [
              0.3333333333333333,
              "#9c179e"
             ],
             [
              0.4444444444444444,
              "#bd3786"
             ],
             [
              0.5555555555555556,
              "#d8576b"
             ],
             [
              0.6666666666666666,
              "#ed7953"
             ],
             [
              0.7777777777777778,
              "#fb9f3a"
             ],
             [
              0.8888888888888888,
              "#fdca26"
             ],
             [
              1,
              "#f0f921"
             ]
            ],
            "type": "heatmapgl"
           }
          ],
          "histogram": [
           {
            "marker": {
             "colorbar": {
              "outlinewidth": 0,
              "ticks": ""
             }
            },
            "type": "histogram"
           }
          ],
          "histogram2d": [
           {
            "colorbar": {
             "outlinewidth": 0,
             "ticks": ""
            },
            "colorscale": [
             [
              0,
              "#0d0887"
             ],
             [
              0.1111111111111111,
              "#46039f"
             ],
             [
              0.2222222222222222,
              "#7201a8"
             ],
             [
              0.3333333333333333,
              "#9c179e"
             ],
             [
              0.4444444444444444,
              "#bd3786"
             ],
             [
              0.5555555555555556,
              "#d8576b"
             ],
             [
              0.6666666666666666,
              "#ed7953"
             ],
             [
              0.7777777777777778,
              "#fb9f3a"
             ],
             [
              0.8888888888888888,
              "#fdca26"
             ],
             [
              1,
              "#f0f921"
             ]
            ],
            "type": "histogram2d"
           }
          ],
          "histogram2dcontour": [
           {
            "colorbar": {
             "outlinewidth": 0,
             "ticks": ""
            },
            "colorscale": [
             [
              0,
              "#0d0887"
             ],
             [
              0.1111111111111111,
              "#46039f"
             ],
             [
              0.2222222222222222,
              "#7201a8"
             ],
             [
              0.3333333333333333,
              "#9c179e"
             ],
             [
              0.4444444444444444,
              "#bd3786"
             ],
             [
              0.5555555555555556,
              "#d8576b"
             ],
             [
              0.6666666666666666,
              "#ed7953"
             ],
             [
              0.7777777777777778,
              "#fb9f3a"
             ],
             [
              0.8888888888888888,
              "#fdca26"
             ],
             [
              1,
              "#f0f921"
             ]
            ],
            "type": "histogram2dcontour"
           }
          ],
          "mesh3d": [
           {
            "colorbar": {
             "outlinewidth": 0,
             "ticks": ""
            },
            "type": "mesh3d"
           }
          ],
          "parcoords": [
           {
            "line": {
             "colorbar": {
              "outlinewidth": 0,
              "ticks": ""
             }
            },
            "type": "parcoords"
           }
          ],
          "pie": [
           {
            "automargin": true,
            "type": "pie"
           }
          ],
          "scatter": [
           {
            "marker": {
             "colorbar": {
              "outlinewidth": 0,
              "ticks": ""
             }
            },
            "type": "scatter"
           }
          ],
          "scatter3d": [
           {
            "line": {
             "colorbar": {
              "outlinewidth": 0,
              "ticks": ""
             }
            },
            "marker": {
             "colorbar": {
              "outlinewidth": 0,
              "ticks": ""
             }
            },
            "type": "scatter3d"
           }
          ],
          "scattercarpet": [
           {
            "marker": {
             "colorbar": {
              "outlinewidth": 0,
              "ticks": ""
             }
            },
            "type": "scattercarpet"
           }
          ],
          "scattergeo": [
           {
            "marker": {
             "colorbar": {
              "outlinewidth": 0,
              "ticks": ""
             }
            },
            "type": "scattergeo"
           }
          ],
          "scattergl": [
           {
            "marker": {
             "colorbar": {
              "outlinewidth": 0,
              "ticks": ""
             }
            },
            "type": "scattergl"
           }
          ],
          "scattermapbox": [
           {
            "marker": {
             "colorbar": {
              "outlinewidth": 0,
              "ticks": ""
             }
            },
            "type": "scattermapbox"
           }
          ],
          "scatterpolar": [
           {
            "marker": {
             "colorbar": {
              "outlinewidth": 0,
              "ticks": ""
             }
            },
            "type": "scatterpolar"
           }
          ],
          "scatterpolargl": [
           {
            "marker": {
             "colorbar": {
              "outlinewidth": 0,
              "ticks": ""
             }
            },
            "type": "scatterpolargl"
           }
          ],
          "scatterternary": [
           {
            "marker": {
             "colorbar": {
              "outlinewidth": 0,
              "ticks": ""
             }
            },
            "type": "scatterternary"
           }
          ],
          "surface": [
           {
            "colorbar": {
             "outlinewidth": 0,
             "ticks": ""
            },
            "colorscale": [
             [
              0,
              "#0d0887"
             ],
             [
              0.1111111111111111,
              "#46039f"
             ],
             [
              0.2222222222222222,
              "#7201a8"
             ],
             [
              0.3333333333333333,
              "#9c179e"
             ],
             [
              0.4444444444444444,
              "#bd3786"
             ],
             [
              0.5555555555555556,
              "#d8576b"
             ],
             [
              0.6666666666666666,
              "#ed7953"
             ],
             [
              0.7777777777777778,
              "#fb9f3a"
             ],
             [
              0.8888888888888888,
              "#fdca26"
             ],
             [
              1,
              "#f0f921"
             ]
            ],
            "type": "surface"
           }
          ],
          "table": [
           {
            "cells": {
             "fill": {
              "color": "#EBF0F8"
             },
             "line": {
              "color": "white"
             }
            },
            "header": {
             "fill": {
              "color": "#C8D4E3"
             },
             "line": {
              "color": "white"
             }
            },
            "type": "table"
           }
          ]
         },
         "layout": {
          "annotationdefaults": {
           "arrowcolor": "#2a3f5f",
           "arrowhead": 0,
           "arrowwidth": 1
          },
          "coloraxis": {
           "colorbar": {
            "outlinewidth": 0,
            "ticks": ""
           }
          },
          "colorscale": {
           "diverging": [
            [
             0,
             "#8e0152"
            ],
            [
             0.1,
             "#c51b7d"
            ],
            [
             0.2,
             "#de77ae"
            ],
            [
             0.3,
             "#f1b6da"
            ],
            [
             0.4,
             "#fde0ef"
            ],
            [
             0.5,
             "#f7f7f7"
            ],
            [
             0.6,
             "#e6f5d0"
            ],
            [
             0.7,
             "#b8e186"
            ],
            [
             0.8,
             "#7fbc41"
            ],
            [
             0.9,
             "#4d9221"
            ],
            [
             1,
             "#276419"
            ]
           ],
           "sequential": [
            [
             0,
             "#0d0887"
            ],
            [
             0.1111111111111111,
             "#46039f"
            ],
            [
             0.2222222222222222,
             "#7201a8"
            ],
            [
             0.3333333333333333,
             "#9c179e"
            ],
            [
             0.4444444444444444,
             "#bd3786"
            ],
            [
             0.5555555555555556,
             "#d8576b"
            ],
            [
             0.6666666666666666,
             "#ed7953"
            ],
            [
             0.7777777777777778,
             "#fb9f3a"
            ],
            [
             0.8888888888888888,
             "#fdca26"
            ],
            [
             1,
             "#f0f921"
            ]
           ],
           "sequentialminus": [
            [
             0,
             "#0d0887"
            ],
            [
             0.1111111111111111,
             "#46039f"
            ],
            [
             0.2222222222222222,
             "#7201a8"
            ],
            [
             0.3333333333333333,
             "#9c179e"
            ],
            [
             0.4444444444444444,
             "#bd3786"
            ],
            [
             0.5555555555555556,
             "#d8576b"
            ],
            [
             0.6666666666666666,
             "#ed7953"
            ],
            [
             0.7777777777777778,
             "#fb9f3a"
            ],
            [
             0.8888888888888888,
             "#fdca26"
            ],
            [
             1,
             "#f0f921"
            ]
           ]
          },
          "colorway": [
           "#636efa",
           "#EF553B",
           "#00cc96",
           "#ab63fa",
           "#FFA15A",
           "#19d3f3",
           "#FF6692",
           "#B6E880",
           "#FF97FF",
           "#FECB52"
          ],
          "font": {
           "color": "#2a3f5f"
          },
          "geo": {
           "bgcolor": "white",
           "lakecolor": "white",
           "landcolor": "#E5ECF6",
           "showlakes": true,
           "showland": true,
           "subunitcolor": "white"
          },
          "hoverlabel": {
           "align": "left"
          },
          "hovermode": "closest",
          "mapbox": {
           "style": "light"
          },
          "paper_bgcolor": "white",
          "plot_bgcolor": "#E5ECF6",
          "polar": {
           "angularaxis": {
            "gridcolor": "white",
            "linecolor": "white",
            "ticks": ""
           },
           "bgcolor": "#E5ECF6",
           "radialaxis": {
            "gridcolor": "white",
            "linecolor": "white",
            "ticks": ""
           }
          },
          "scene": {
           "xaxis": {
            "backgroundcolor": "#E5ECF6",
            "gridcolor": "white",
            "gridwidth": 2,
            "linecolor": "white",
            "showbackground": true,
            "ticks": "",
            "zerolinecolor": "white"
           },
           "yaxis": {
            "backgroundcolor": "#E5ECF6",
            "gridcolor": "white",
            "gridwidth": 2,
            "linecolor": "white",
            "showbackground": true,
            "ticks": "",
            "zerolinecolor": "white"
           },
           "zaxis": {
            "backgroundcolor": "#E5ECF6",
            "gridcolor": "white",
            "gridwidth": 2,
            "linecolor": "white",
            "showbackground": true,
            "ticks": "",
            "zerolinecolor": "white"
           }
          },
          "shapedefaults": {
           "line": {
            "color": "#2a3f5f"
           }
          },
          "ternary": {
           "aaxis": {
            "gridcolor": "white",
            "linecolor": "white",
            "ticks": ""
           },
           "baxis": {
            "gridcolor": "white",
            "linecolor": "white",
            "ticks": ""
           },
           "bgcolor": "#E5ECF6",
           "caxis": {
            "gridcolor": "white",
            "linecolor": "white",
            "ticks": ""
           }
          },
          "title": {
           "x": 0.05
          },
          "xaxis": {
           "automargin": true,
           "gridcolor": "white",
           "linecolor": "white",
           "ticks": "",
           "title": {
            "standoff": 15
           },
           "zerolinecolor": "white",
           "zerolinewidth": 2
          },
          "yaxis": {
           "automargin": true,
           "gridcolor": "white",
           "linecolor": "white",
           "ticks": "",
           "title": {
            "standoff": 15
           },
           "zerolinecolor": "white",
           "zerolinewidth": 2
          }
         }
        }
       }
      },
      "text/html": [
       "<div>\n",
       "        \n",
       "        \n",
       "            <div id=\"06edceef-a494-4d15-ae4d-d7a74f7e79d9\" class=\"plotly-graph-div\" style=\"height:525px; width:100%;\"></div>\n",
       "            <script type=\"text/javascript\">\n",
       "                require([\"plotly\"], function(Plotly) {\n",
       "                    window.PLOTLYENV=window.PLOTLYENV || {};\n",
       "                    \n",
       "                if (document.getElementById(\"06edceef-a494-4d15-ae4d-d7a74f7e79d9\")) {\n",
       "                    Plotly.newPlot(\n",
       "                        '06edceef-a494-4d15-ae4d-d7a74f7e79d9',\n",
       "                        [{\"marker\": {\"color\": [2674369, 2233492, 1300900, 1016722, 1198594, 1015203, 462316, 545452, 447645, 542220, 562622, 619572, 514264, 343265, 366818, 396140, 426025, 283838, 231782, 304024, 282027, 304749, 284118, 264644, 214763, 191435, 209863, 261093, 146342, 169823, 186666, 169261, 129658, 173914, 179958, 113772, 133304, 158313, 127344, 127969, 97203, 124264, 99207, 103483, 113566, 104418, 135654, 104008, 135383, 96014, 185093, 155559, 85787, 114469, 78181, 81141, 89085, 94362, 101966, 84990, 69526, 94720, 82350, 107763, 83527, 74898, 93552, 64112, 85138, 82038, 119205, 107730, 93600, 70389, 59302, 86744]}, \"mode\": \"markers\", \"text\": [\"Drama|370\", \"Comedy|195\", \"Comedy,Drama|139\", \"Drama,Romance|132\", \"Comedy,Drama,Romance|116\", \"Comedy,Romance|85\", \"Horror|77\", \"Drama,Thriller|74\", \"Horror,Thriller|69\", \"Action,Crime,Drama|67\", \"Adventure,Animation,Comedy|65\", \"Documentary|64\", \"Crime,Drama,Thriller|62\", \"Thriller|53\", \"Action,Crime,Thriller|49\", \"Action,Adventure,Sci-Fi|41\", \"Action,Comedy,Crime|41\", \"Action,Adventure,Drama|36\", \"Action|36\", \"Crime,Drama|35\", \"Crime,Drama,Mystery|30\", \"Biography,Drama,History|30\", \"Biography,Drama|30\", \"Action,Adventure,Comedy|28\", \"Action,Thriller|28\", \"Horror,Mystery,Thriller|28\", \"Comedy,Horror|27\", \"Comedy,Crime,Drama|26\", \"Action,Adventure,Fantasy|25\", \"Crime,Thriller|22\", \"Family|22\", \"Action,Adventure,Animation|22\", \"Action,Horror,Sci-Fi|20\", \"Biography,Drama,Romance|20\", \"Action,Comedy|19\", \"Action,Drama|19\", \"Drama,Mystery,Thriller|19\", \"Action,Drama,History|19\", \"Action,Drama,Thriller|18\", \"Action,Sci-Fi,Thriller|18\", \"Drama,Horror,Thriller|16\", \"Action,Biography,Drama|15\", \"Action,Comedy,Horror|15\", \"Horror,Sci-Fi,Thriller|15\", \"Adventure,Family,Fantasy|15\", \"Drama,Family|14\", \"Adventure,Comedy,Drama|14\", \"Drama,War|14\", \"Adventure,Comedy,Family|14\", \"Mystery,Thriller|14\", \"Comedy,Crime|14\", \"Biography,Comedy,Drama|14\", \"Drama,Romance,Thriller|12\", \"Comedy,Drama,Fantasy|12\", \"Drama,Horror,Mystery|12\", \"Drama,Fantasy,Horror|12\", \"Adventure,Animation,Family|12\", \"Crime,Mystery,Thriller|12\", \"Adventure,Family|12\", \"Horror,Mystery|12\", \"Action,Adventure|12\", \"Drama,History,War|12\", \"Action,Adventure,Crime|11\", \"Comedy,Family|11\", \"Crime|11\", \"Drama,History|11\", \"Drama,Mystery,Romance|11\", \"Action,Horror|11\", \"Drama,Mystery|11\", \"Action,Adventure,Thriller|11\", \"Adventure,Comedy|10\", \"Biography,Crime,Drama|10\", \"Comedy,Drama,Music|10\", \"Adventure,Drama,Family|10\", \"Horror,Sci-Fi|10\", \"Drama,Music|10\"], \"type\": \"scatter\", \"x\": [14.200681686401367, 15.77180004119873, 14.906392097473145, 14.561107635498047, 14.843796730041504, 15.056214332580566, 14.534356117248535, 12.352474212646484, 12.960958480834961, 12.947572708129883, 15.667620658874512, 12.47622299194336, 13.048800468444824, 13.259759902954102, 12.544254302978516, 11.948040008544922, 13.60193157196045, 13.27302360534668, 13.884243965148926, 13.833568572998047, 11.365958213806152, 12.36213493347168, 11.804192543029785, 14.209973335266113, 12.73200798034668, 12.531959533691406, 15.151412010192871, 14.073722839355469, 13.493329048156738, 13.574213027954102, 15.624778747558594, 15.727948188781738, 12.037331581115723, 11.635163307189941, 14.523394584655762, 13.592641830444336, 11.707772254943848, 13.176194190979004, 12.530789375305176, 11.963593482971191, 14.718172073364258, 12.764896392822266, 14.744964599609375, 12.075654983520508, 14.263402938842773, 15.539708137512207, 14.030104637145996, 12.46065902709961, 15.371774673461914, 12.524733543395996, 14.662498474121094, 11.507454872131348, 14.325719833374023, 14.472941398620605, 12.047113418579102, 12.262166023254395, 15.835692405700684, 11.542166709899902, 15.196893692016602, 12.606922149658203, 13.480803489685059, 12.392162322998047, 11.38526725769043, 15.822552680969238, 13.73258113861084, 13.48142147064209, 12.05758285522461, 12.289247512817383, 12.15947437286377, 11.488716125488281, 15.181195259094238, 11.770522117614746, 11.408658981323242, 15.592860221862793, 14.827858924865723, 15.294990539550781], \"y\": [8.037164688110352, 7.285306930541992, 7.9092841148376465, 8.567366600036621, 8.255988121032715, 8.29366683959961, 7.343198776245117, 7.221979141235352, 6.7453293800354, 5.953998565673828, 6.404709815979004, 4.149050712585449, 7.243109226226807, 6.9870500564575195, 5.637829303741455, 5.1384077072143555, 6.575571060180664, 4.051045894622803, 5.708384990692139, 7.658054351806641, 6.633172035217285, 4.422595977783203, 4.530550956726074, 5.987905979156494, 5.514804840087891, 7.072362899780273, 6.48250675201416, 7.145103931427002, 4.126292705535889, 7.416800022125244, 6.790775299072266, 6.149733066558838, 5.755553245544434, 4.259617805480957, 6.355062007904053, 4.592149257659912, 7.076825141906738, 4.227780342102051, 5.559426784515381, 5.576752185821533, 8.21306324005127, 4.8489990234375, 6.96727991104126, 6.052158832550049, 6.87037992477417, 7.533576011657715, 6.358052730560303, 5.212521553039551, 6.299859046936035, 7.526899337768555, 6.566218852996826, 4.501521110534668, 8.413750648498535, 7.789427757263184, 6.776077747344971, 7.2184553146362305, 6.563814163208008, 6.180734634399414, 6.070545673370361, 6.595592975616455, 4.415372848510742, 4.812726974487305, 5.874739646911621, 6.952086925506592, 7.706034183502197, 4.240443229675293, 7.298787593841553, 6.030518531799316, 7.533308506011963, 5.680063247680664, 6.8613128662109375, 4.768282413482666, 4.570311069488525, 7.202932357788086, 6.148099422454834, 7.522703170776367]}],\n",
       "                        {\"template\": {\"data\": {\"bar\": [{\"error_x\": {\"color\": \"#2a3f5f\"}, \"error_y\": {\"color\": \"#2a3f5f\"}, \"marker\": {\"line\": {\"color\": \"#E5ECF6\", \"width\": 0.5}}, \"type\": \"bar\"}], \"barpolar\": [{\"marker\": {\"line\": {\"color\": \"#E5ECF6\", \"width\": 0.5}}, \"type\": \"barpolar\"}], \"carpet\": [{\"aaxis\": {\"endlinecolor\": \"#2a3f5f\", \"gridcolor\": \"white\", \"linecolor\": \"white\", \"minorgridcolor\": \"white\", \"startlinecolor\": \"#2a3f5f\"}, \"baxis\": {\"endlinecolor\": \"#2a3f5f\", \"gridcolor\": \"white\", \"linecolor\": \"white\", \"minorgridcolor\": \"white\", \"startlinecolor\": \"#2a3f5f\"}, \"type\": \"carpet\"}], \"choropleth\": [{\"colorbar\": {\"outlinewidth\": 0, \"ticks\": \"\"}, \"type\": \"choropleth\"}], \"contour\": [{\"colorbar\": {\"outlinewidth\": 0, \"ticks\": \"\"}, \"colorscale\": [[0.0, \"#0d0887\"], [0.1111111111111111, \"#46039f\"], [0.2222222222222222, \"#7201a8\"], [0.3333333333333333, \"#9c179e\"], [0.4444444444444444, \"#bd3786\"], [0.5555555555555556, \"#d8576b\"], [0.6666666666666666, \"#ed7953\"], [0.7777777777777778, \"#fb9f3a\"], [0.8888888888888888, \"#fdca26\"], [1.0, \"#f0f921\"]], \"type\": \"contour\"}], \"contourcarpet\": [{\"colorbar\": {\"outlinewidth\": 0, \"ticks\": \"\"}, \"type\": \"contourcarpet\"}], \"heatmap\": [{\"colorbar\": {\"outlinewidth\": 0, \"ticks\": \"\"}, \"colorscale\": [[0.0, \"#0d0887\"], [0.1111111111111111, \"#46039f\"], [0.2222222222222222, \"#7201a8\"], [0.3333333333333333, \"#9c179e\"], [0.4444444444444444, \"#bd3786\"], [0.5555555555555556, \"#d8576b\"], [0.6666666666666666, \"#ed7953\"], [0.7777777777777778, \"#fb9f3a\"], [0.8888888888888888, \"#fdca26\"], [1.0, \"#f0f921\"]], \"type\": \"heatmap\"}], \"heatmapgl\": [{\"colorbar\": {\"outlinewidth\": 0, \"ticks\": \"\"}, \"colorscale\": [[0.0, \"#0d0887\"], [0.1111111111111111, \"#46039f\"], [0.2222222222222222, \"#7201a8\"], [0.3333333333333333, \"#9c179e\"], [0.4444444444444444, \"#bd3786\"], [0.5555555555555556, \"#d8576b\"], [0.6666666666666666, \"#ed7953\"], [0.7777777777777778, \"#fb9f3a\"], [0.8888888888888888, \"#fdca26\"], [1.0, \"#f0f921\"]], \"type\": \"heatmapgl\"}], \"histogram\": [{\"marker\": {\"colorbar\": {\"outlinewidth\": 0, \"ticks\": \"\"}}, \"type\": \"histogram\"}], \"histogram2d\": [{\"colorbar\": {\"outlinewidth\": 0, \"ticks\": \"\"}, \"colorscale\": [[0.0, \"#0d0887\"], [0.1111111111111111, \"#46039f\"], [0.2222222222222222, \"#7201a8\"], [0.3333333333333333, \"#9c179e\"], [0.4444444444444444, \"#bd3786\"], [0.5555555555555556, \"#d8576b\"], [0.6666666666666666, \"#ed7953\"], [0.7777777777777778, \"#fb9f3a\"], [0.8888888888888888, \"#fdca26\"], [1.0, \"#f0f921\"]], \"type\": \"histogram2d\"}], \"histogram2dcontour\": [{\"colorbar\": {\"outlinewidth\": 0, \"ticks\": \"\"}, \"colorscale\": [[0.0, \"#0d0887\"], [0.1111111111111111, \"#46039f\"], [0.2222222222222222, \"#7201a8\"], [0.3333333333333333, \"#9c179e\"], [0.4444444444444444, \"#bd3786\"], [0.5555555555555556, \"#d8576b\"], [0.6666666666666666, \"#ed7953\"], [0.7777777777777778, \"#fb9f3a\"], [0.8888888888888888, \"#fdca26\"], [1.0, \"#f0f921\"]], \"type\": \"histogram2dcontour\"}], \"mesh3d\": [{\"colorbar\": {\"outlinewidth\": 0, \"ticks\": \"\"}, \"type\": \"mesh3d\"}], \"parcoords\": [{\"line\": {\"colorbar\": {\"outlinewidth\": 0, \"ticks\": \"\"}}, \"type\": \"parcoords\"}], \"pie\": [{\"automargin\": true, \"type\": \"pie\"}], \"scatter\": [{\"marker\": {\"colorbar\": {\"outlinewidth\": 0, \"ticks\": \"\"}}, \"type\": \"scatter\"}], \"scatter3d\": [{\"line\": {\"colorbar\": {\"outlinewidth\": 0, \"ticks\": \"\"}}, \"marker\": {\"colorbar\": {\"outlinewidth\": 0, \"ticks\": \"\"}}, \"type\": \"scatter3d\"}], \"scattercarpet\": [{\"marker\": {\"colorbar\": {\"outlinewidth\": 0, \"ticks\": \"\"}}, \"type\": \"scattercarpet\"}], \"scattergeo\": [{\"marker\": {\"colorbar\": {\"outlinewidth\": 0, \"ticks\": \"\"}}, \"type\": \"scattergeo\"}], \"scattergl\": [{\"marker\": {\"colorbar\": {\"outlinewidth\": 0, \"ticks\": \"\"}}, \"type\": \"scattergl\"}], \"scattermapbox\": [{\"marker\": {\"colorbar\": {\"outlinewidth\": 0, \"ticks\": \"\"}}, \"type\": \"scattermapbox\"}], \"scatterpolar\": [{\"marker\": {\"colorbar\": {\"outlinewidth\": 0, \"ticks\": \"\"}}, \"type\": \"scatterpolar\"}], \"scatterpolargl\": [{\"marker\": {\"colorbar\": {\"outlinewidth\": 0, \"ticks\": \"\"}}, \"type\": \"scatterpolargl\"}], \"scatterternary\": [{\"marker\": {\"colorbar\": {\"outlinewidth\": 0, \"ticks\": \"\"}}, \"type\": \"scatterternary\"}], \"surface\": [{\"colorbar\": {\"outlinewidth\": 0, \"ticks\": \"\"}, \"colorscale\": [[0.0, \"#0d0887\"], [0.1111111111111111, \"#46039f\"], [0.2222222222222222, \"#7201a8\"], [0.3333333333333333, \"#9c179e\"], [0.4444444444444444, \"#bd3786\"], [0.5555555555555556, \"#d8576b\"], [0.6666666666666666, \"#ed7953\"], [0.7777777777777778, \"#fb9f3a\"], [0.8888888888888888, \"#fdca26\"], [1.0, \"#f0f921\"]], \"type\": \"surface\"}], \"table\": [{\"cells\": {\"fill\": {\"color\": \"#EBF0F8\"}, \"line\": {\"color\": \"white\"}}, \"header\": {\"fill\": {\"color\": \"#C8D4E3\"}, \"line\": {\"color\": \"white\"}}, \"type\": \"table\"}]}, \"layout\": {\"annotationdefaults\": {\"arrowcolor\": \"#2a3f5f\", \"arrowhead\": 0, \"arrowwidth\": 1}, \"coloraxis\": {\"colorbar\": {\"outlinewidth\": 0, \"ticks\": \"\"}}, \"colorscale\": {\"diverging\": [[0, \"#8e0152\"], [0.1, \"#c51b7d\"], [0.2, \"#de77ae\"], [0.3, \"#f1b6da\"], [0.4, \"#fde0ef\"], [0.5, \"#f7f7f7\"], [0.6, \"#e6f5d0\"], [0.7, \"#b8e186\"], [0.8, \"#7fbc41\"], [0.9, \"#4d9221\"], [1, \"#276419\"]], \"sequential\": [[0.0, \"#0d0887\"], [0.1111111111111111, \"#46039f\"], [0.2222222222222222, \"#7201a8\"], [0.3333333333333333, \"#9c179e\"], [0.4444444444444444, \"#bd3786\"], [0.5555555555555556, \"#d8576b\"], [0.6666666666666666, \"#ed7953\"], [0.7777777777777778, \"#fb9f3a\"], [0.8888888888888888, \"#fdca26\"], [1.0, \"#f0f921\"]], \"sequentialminus\": [[0.0, \"#0d0887\"], [0.1111111111111111, \"#46039f\"], [0.2222222222222222, \"#7201a8\"], [0.3333333333333333, \"#9c179e\"], [0.4444444444444444, \"#bd3786\"], [0.5555555555555556, \"#d8576b\"], [0.6666666666666666, \"#ed7953\"], [0.7777777777777778, \"#fb9f3a\"], [0.8888888888888888, \"#fdca26\"], [1.0, \"#f0f921\"]]}, \"colorway\": [\"#636efa\", \"#EF553B\", \"#00cc96\", \"#ab63fa\", \"#FFA15A\", \"#19d3f3\", \"#FF6692\", \"#B6E880\", \"#FF97FF\", \"#FECB52\"], \"font\": {\"color\": \"#2a3f5f\"}, \"geo\": {\"bgcolor\": \"white\", \"lakecolor\": \"white\", \"landcolor\": \"#E5ECF6\", \"showlakes\": true, \"showland\": true, \"subunitcolor\": \"white\"}, \"hoverlabel\": {\"align\": \"left\"}, \"hovermode\": \"closest\", \"mapbox\": {\"style\": \"light\"}, \"paper_bgcolor\": \"white\", \"plot_bgcolor\": \"#E5ECF6\", \"polar\": {\"angularaxis\": {\"gridcolor\": \"white\", \"linecolor\": \"white\", \"ticks\": \"\"}, \"bgcolor\": \"#E5ECF6\", \"radialaxis\": {\"gridcolor\": \"white\", \"linecolor\": \"white\", \"ticks\": \"\"}}, \"scene\": {\"xaxis\": {\"backgroundcolor\": \"#E5ECF6\", \"gridcolor\": \"white\", \"gridwidth\": 2, \"linecolor\": \"white\", \"showbackground\": true, \"ticks\": \"\", \"zerolinecolor\": \"white\"}, \"yaxis\": {\"backgroundcolor\": \"#E5ECF6\", \"gridcolor\": \"white\", \"gridwidth\": 2, \"linecolor\": \"white\", \"showbackground\": true, \"ticks\": \"\", \"zerolinecolor\": \"white\"}, \"zaxis\": {\"backgroundcolor\": \"#E5ECF6\", \"gridcolor\": \"white\", \"gridwidth\": 2, \"linecolor\": \"white\", \"showbackground\": true, \"ticks\": \"\", \"zerolinecolor\": \"white\"}}, \"shapedefaults\": {\"line\": {\"color\": \"#2a3f5f\"}}, \"ternary\": {\"aaxis\": {\"gridcolor\": \"white\", \"linecolor\": \"white\", \"ticks\": \"\"}, \"baxis\": {\"gridcolor\": \"white\", \"linecolor\": \"white\", \"ticks\": \"\"}, \"bgcolor\": \"#E5ECF6\", \"caxis\": {\"gridcolor\": \"white\", \"linecolor\": \"white\", \"ticks\": \"\"}}, \"title\": {\"x\": 0.05}, \"xaxis\": {\"automargin\": true, \"gridcolor\": \"white\", \"linecolor\": \"white\", \"ticks\": \"\", \"title\": {\"standoff\": 15}, \"zerolinecolor\": \"white\", \"zerolinewidth\": 2}, \"yaxis\": {\"automargin\": true, \"gridcolor\": \"white\", \"linecolor\": \"white\", \"ticks\": \"\", \"title\": {\"standoff\": 15}, \"zerolinecolor\": \"white\", \"zerolinewidth\": 2}}}},\n",
       "                        {\"responsive\": true}\n",
       "                    ).then(function(){\n",
       "                            \n",
       "var gd = document.getElementById('06edceef-a494-4d15-ae4d-d7a74f7e79d9');\n",
       "var x = new MutationObserver(function (mutations, observer) {{\n",
       "        var display = window.getComputedStyle(gd).display;\n",
       "        if (!display || display === 'none') {{\n",
       "            console.log([gd, 'removed!']);\n",
       "            Plotly.purge(gd);\n",
       "            observer.disconnect();\n",
       "        }}\n",
       "}});\n",
       "\n",
       "// Listen for the removal of the full notebook cells\n",
       "var notebookContainer = gd.closest('#notebook-container');\n",
       "if (notebookContainer) {{\n",
       "    x.observe(notebookContainer, {childList: true});\n",
       "}}\n",
       "\n",
       "// Listen for the clearing of the current output cell\n",
       "var outputEl = gd.closest('.output');\n",
       "if (outputEl) {{\n",
       "    x.observe(outputEl, {childList: true});\n",
       "}}\n",
       "\n",
       "                        })\n",
       "                };\n",
       "                });\n",
       "            </script>\n",
       "        </div>"
      ]
     },
     "metadata": {},
     "output_type": "display_data"
    }
   ],
   "source": [
    "fig = go.Figure(data=go.Scatter(x=Xr[:, 0],\n",
    "                                y=Xr[:, 1],\n",
    "                                mode='markers',\n",
    "                                text=[f'{label}|{n_token}' for label, n_token in zip(aggr.label, aggr.n_texts)],\n",
    "                                marker_color=aggr.n_tokens))\n",
    "\n",
    "\n",
    "fig.show()"
   ]
  },
  {
   "cell_type": "code",
   "execution_count": 141,
   "metadata": {},
   "outputs": [
    {
     "data": {
      "text/plain": [
       "(0           Drama\n",
       " 1          Comedy\n",
       " 6          Horror\n",
       " 11    Documentary\n",
       " 13       Thriller\n",
       " 18         Action\n",
       " 30         Family\n",
       " 64          Crime\n",
       " Name: label, dtype: object,\n",
       " 8)"
      ]
     },
     "execution_count": 141,
     "metadata": {},
     "output_type": "execute_result"
    }
   ],
   "source": [
    "single_labels = aggr.label[aggr.label.str.split(',').apply(lambda x: len(x)) == 1]\n",
    "n_single_labels = len(single_labels)\n",
    "single_labels, n_single_labels"
   ]
  },
  {
   "cell_type": "code",
   "execution_count": 143,
   "metadata": {},
   "outputs": [],
   "source": [
    "from sklearn.mixture import GaussianMixture\n",
    "\n",
    "clu = GaussianMixture(n_components=n_single_labels)\n",
    "Xpca = UMAP(n_components=3).fit_transform(X)\n",
    "\n",
    "cluster = clu.fit_predict(Xpca)\n",
    "probs = clu.predict_proba(Xpca)"
   ]
  },
  {
   "cell_type": "code",
   "execution_count": 144,
   "metadata": {},
   "outputs": [
    {
     "data": {
      "image/png": "[encoded data removed]",
      "text/plain": [
       "<Figure size 432x288 with 1 Axes>"
      ]
     },
     "metadata": {
      "needs_background": "light"
     },
     "output_type": "display_data"
    }
   ],
   "source": [
    "cluster_counter = Counter(cluster)\n",
    "plt.bar(cluster_counter.keys(), cluster_counter.values())\n",
    "plt.show()"
   ]
  },
  {
   "cell_type": "code",
   "execution_count": 145,
   "metadata": {},
   "outputs": [
    {
     "data": {
      "text/plain": [
       "array([7, 3, 3, 3, 3, 3, 7, 2, 2, 4, 0, 5, 2, 2, 4, 4, 6, 5, 6, 7, 2, 5,\n",
       "       1, 6, 4, 2, 0, 7, 5, 7, 0, 0, 4, 1, 6, 5, 2, 5, 4, 4, 3, 1, 0, 4,\n",
       "       6, 3, 6, 1, 0, 2, 6, 1, 3, 3, 2, 2, 0, 4, 0, 2, 5, 1, 4, 0, 7, 5,\n",
       "       2, 4, 2, 4, 6, 1, 1, 3, 0, 3])"
      ]
     },
     "execution_count": 145,
     "metadata": {},
     "output_type": "execute_result"
    }
   ],
   "source": [
    "probs.argmax(axis=1)"
   ]
  },
  {
   "cell_type": "code",
   "execution_count": 146,
   "metadata": {},
   "outputs": [
    {
     "data": {
      "application/vnd.plotly.v1+json": {
       "config": {
        "plotlyServerURL": "https://plot.ly"
       },
       "data": [
        {
         "marker": {
          "color": [
           "#FF9616",
           "#FED4C4",
           "#FED4C4",
           "#FED4C4",
           "#FED4C4",
           "#FED4C4",
           "#FF9616",
           "#6A76FC",
           "#6A76FC",
           "#FE00CE",
           "#FD3216",
           "#0DF9FF",
           "#6A76FC",
           "#6A76FC",
           "#FE00CE",
           "#FE00CE",
           "#F6F926",
           "#0DF9FF",
           "#F6F926",
           "#FF9616",
           "#6A76FC",
           "#0DF9FF",
           "#00FE35",
           "#F6F926",
           "#FE00CE",
           "#6A76FC",
           "#FD3216",
           "#FF9616",
           "#0DF9FF",
           "#FF9616",
           "#FD3216",
           "#FD3216",
           "#FE00CE",
           "#00FE35",
           "#F6F926",
           "#0DF9FF",
           "#6A76FC",
           "#0DF9FF",
           "#FE00CE",
           "#FE00CE",
           "#FED4C4",
           "#00FE35",
           "#FD3216",
           "#FE00CE",
           "#F6F926",
           "#FED4C4",
           "#F6F926",
           "#00FE35",
           "#FD3216",
           "#6A76FC",
           "#F6F926",
           "#00FE35",
           "#FED4C4",
           "#FED4C4",
           "#6A76FC",
           "#6A76FC",
           "#FD3216",
           "#FE00CE",
           "#FD3216",
           "#6A76FC",
           "#0DF9FF",
           "#00FE35",
           "#FE00CE",
           "#FD3216",
           "#FF9616",
           "#0DF9FF",
           "#6A76FC",
           "#FE00CE",
           "#6A76FC",
           "#FE00CE",
           "#F6F926",
           "#00FE35",
           "#00FE35",
           "#FED4C4",
           "#FD3216",
           "#FED4C4"
          ]
         },
         "mode": "markers",
         "text": [
          "Drama|370",
          "Comedy|195",
          "Comedy,Drama|139",
          "Drama,Romance|132",
          "Comedy,Drama,Romance|116",
          "Comedy,Romance|85",
          "Horror|77",
          "Drama,Thriller|74",
          "Horror,Thriller|69",
          "Action,Crime,Drama|67",
          "Adventure,Animation,Comedy|65",
          "Documentary|64",
          "Crime,Drama,Thriller|62",
          "Thriller|53",
          "Action,Crime,Thriller|49",
          "Action,Adventure,Sci-Fi|41",
          "Action,Comedy,Crime|41",
          "Action,Adventure,Drama|36",
          "Action|36",
          "Crime,Drama|35",
          "Crime,Drama,Mystery|30",
          "Biography,Drama,History|30",
          "Biography,Drama|30",
          "Action,Adventure,Comedy|28",
          "Action,Thriller|28",
          "Horror,Mystery,Thriller|28",
          "Comedy,Horror|27",
          "Comedy,Crime,Drama|26",
          "Action,Adventure,Fantasy|25",
          "Crime,Thriller|22",
          "Family|22",
          "Action,Adventure,Animation|22",
          "Action,Horror,Sci-Fi|20",
          "Biography,Drama,Romance|20",
          "Action,Comedy|19",
          "Action,Drama|19",
          "Drama,Mystery,Thriller|19",
          "Action,Drama,History|19",
          "Action,Drama,Thriller|18",
          "Action,Sci-Fi,Thriller|18",
          "Drama,Horror,Thriller|16",
          "Action,Biography,Drama|15",
          "Action,Comedy,Horror|15",
          "Horror,Sci-Fi,Thriller|15",
          "Adventure,Family,Fantasy|15",
          "Drama,Family|14",
          "Adventure,Comedy,Drama|14",
          "Drama,War|14",
          "Adventure,Comedy,Family|14",
          "Mystery,Thriller|14",
          "Comedy,Crime|14",
          "Biography,Comedy,Drama|14",
          "Drama,Romance,Thriller|12",
          "Comedy,Drama,Fantasy|12",
          "Drama,Horror,Mystery|12",
          "Drama,Fantasy,Horror|12",
          "Adventure,Animation,Family|12",
          "Crime,Mystery,Thriller|12",
          "Adventure,Family|12",
          "Horror,Mystery|12",
          "Action,Adventure|12",
          "Drama,History,War|12",
          "Action,Adventure,Crime|11",
          "Comedy,Family|11",
          "Crime|11",
          "Drama,History|11",
          "Drama,Mystery,Romance|11",
          "Action,Horror|11",
          "Drama,Mystery|11",
          "Action,Adventure,Thriller|11",
          "Adventure,Comedy|10",
          "Biography,Crime,Drama|10",
          "Comedy,Drama,Music|10",
          "Adventure,Drama,Family|10",
          "Horror,Sci-Fi|10",
          "Drama,Music|10"
         ],
         "type": "scatter",
         "x": [
          14.200681686401367,
          15.77180004119873,
          14.906392097473145,
          14.561107635498047,
          14.843796730041504,
          15.056214332580566,
          14.534356117248535,
          12.352474212646484,
          12.960958480834961,
          12.947572708129883,
          15.667620658874512,
          12.47622299194336,
          13.048800468444824,
          13.259759902954102,
          12.544254302978516,
          11.948040008544922,
          13.60193157196045,
          13.27302360534668,
          13.884243965148926,
          13.833568572998047,
          11.365958213806152,
          12.36213493347168,
          11.804192543029785,
          14.209973335266113,
          12.73200798034668,
          12.531959533691406,
          15.151412010192871,
          14.073722839355469,
          13.493329048156738,
          13.574213027954102,
          15.624778747558594,
          15.727948188781738,
          12.037331581115723,
          11.635163307189941,
          14.523394584655762,
          13.592641830444336,
          11.707772254943848,
          13.176194190979004,
          12.530789375305176,
          11.963593482971191,
          14.718172073364258,
          12.764896392822266,
          14.744964599609375,
          12.075654983520508,
          14.263402938842773,
          15.539708137512207,
          14.030104637145996,
          12.46065902709961,
          15.371774673461914,
          12.524733543395996,
          14.662498474121094,
          11.507454872131348,
          14.325719833374023,
          14.472941398620605,
          12.047113418579102,
          12.262166023254395,
          15.835692405700684,
          11.542166709899902,
          15.196893692016602,
          12.606922149658203,
          13.480803489685059,
          12.392162322998047,
          11.38526725769043,
          15.822552680969238,
          13.73258113861084,
          13.48142147064209,
          12.05758285522461,
          12.289247512817383,
          12.15947437286377,
          11.488716125488281,
          15.181195259094238,
          11.770522117614746,
          11.408658981323242,
          15.592860221862793,
          14.827858924865723,
          15.294990539550781
         ],
         "y": [
          8.037164688110352,
          7.285306930541992,
          7.9092841148376465,
          8.567366600036621,
          8.255988121032715,
          8.29366683959961,
          7.343198776245117,
          7.221979141235352,
          6.7453293800354,
          5.953998565673828,
          6.404709815979004,
          4.149050712585449,
          7.243109226226807,
          6.9870500564575195,
          5.637829303741455,
          5.1384077072143555,
          6.575571060180664,
          4.051045894622803,
          5.708384990692139,
          7.658054351806641,
          6.633172035217285,
          4.422595977783203,
          4.530550956726074,
          5.987905979156494,
          5.514804840087891,
          7.072362899780273,
          6.48250675201416,
          7.145103931427002,
          4.126292705535889,
          7.416800022125244,
          6.790775299072266,
          6.149733066558838,
          5.755553245544434,
          4.259617805480957,
          6.355062007904053,
          4.592149257659912,
          7.076825141906738,
          4.227780342102051,
          5.559426784515381,
          5.576752185821533,
          8.21306324005127,
          4.8489990234375,
          6.96727991104126,
          6.052158832550049,
          6.87037992477417,
          7.533576011657715,
          6.358052730560303,
          5.212521553039551,
          6.299859046936035,
          7.526899337768555,
          6.566218852996826,
          4.501521110534668,
          8.413750648498535,
          7.789427757263184,
          6.776077747344971,
          7.2184553146362305,
          6.563814163208008,
          6.180734634399414,
          6.070545673370361,
          6.595592975616455,
          4.415372848510742,
          4.812726974487305,
          5.874739646911621,
          6.952086925506592,
          7.706034183502197,
          4.240443229675293,
          7.298787593841553,
          6.030518531799316,
          7.533308506011963,
          5.680063247680664,
          6.8613128662109375,
          4.768282413482666,
          4.570311069488525,
          7.202932357788086,
          6.148099422454834,
          7.522703170776367
         ]
        }
       ],
       "layout": {
        "template": {
         "data": {
          "bar": [
           {
            "error_x": {
             "color": "#2a3f5f"
            },
            "error_y": {
             "color": "#2a3f5f"
            },
            "marker": {
             "line": {
              "color": "#E5ECF6",
              "width": 0.5
             }
            },
            "type": "bar"
           }
          ],
          "barpolar": [
           {
            "marker": {
             "line": {
              "color": "#E5ECF6",
              "width": 0.5
             }
            },
            "type": "barpolar"
           }
          ],
          "carpet": [
           {
            "aaxis": {
             "endlinecolor": "#2a3f5f",
             "gridcolor": "white",
             "linecolor": "white",
             "minorgridcolor": "white",
             "startlinecolor": "#2a3f5f"
            },
            "baxis": {
             "endlinecolor": "#2a3f5f",
             "gridcolor": "white",
             "linecolor": "white",
             "minorgridcolor": "white",
             "startlinecolor": "#2a3f5f"
            },
            "type": "carpet"
           }
          ],
          "choropleth": [
           {
            "colorbar": {
             "outlinewidth": 0,
             "ticks": ""
            },
            "type": "choropleth"
           }
          ],
          "contour": [
           {
            "colorbar": {
             "outlinewidth": 0,
             "ticks": ""
            },
            "colorscale": [
             [
              0,
              "#0d0887"
             ],
             [
              0.1111111111111111,
              "#46039f"
             ],
             [
              0.2222222222222222,
              "#7201a8"
             ],
             [
              0.3333333333333333,
              "#9c179e"
             ],
             [
              0.4444444444444444,
              "#bd3786"
             ],
             [
              0.5555555555555556,
              "#d8576b"
             ],
             [
              0.6666666666666666,
              "#ed7953"
             ],
             [
              0.7777777777777778,
              "#fb9f3a"
             ],
             [
              0.8888888888888888,
              "#fdca26"
             ],
             [
              1,
              "#f0f921"
             ]
            ],
            "type": "contour"
           }
          ],
          "contourcarpet": [
           {
            "colorbar": {
             "outlinewidth": 0,
             "ticks": ""
            },
            "type": "contourcarpet"
           }
          ],
          "heatmap": [
           {
            "colorbar": {
             "outlinewidth": 0,
             "ticks": ""
            },
            "colorscale": [
             [
              0,
              "#0d0887"
             ],
             [
              0.1111111111111111,
              "#46039f"
             ],
             [
              0.2222222222222222,
              "#7201a8"
             ],
             [
              0.3333333333333333,
              "#9c179e"
             ],
             [
              0.4444444444444444,
              "#bd3786"
             ],
             [
              0.5555555555555556,
              "#d8576b"
             ],
             [
              0.6666666666666666,
              "#ed7953"
             ],
             [
              0.7777777777777778,
              "#fb9f3a"
             ],
             [
              0.8888888888888888,
              "#fdca26"
             ],
             [
              1,
              "#f0f921"
             ]
            ],
            "type": "heatmap"
           }
          ],
          "heatmapgl": [
           {
            "colorbar": {
             "outlinewidth": 0,
             "ticks": ""
            },
            "colorscale": [
             [
              0,
              "#0d0887"
             ],
             [
              0.1111111111111111,
              "#46039f"
             ],
             [
              0.2222222222222222,
              "#7201a8"
             ],
             [
              0.3333333333333333,
              "#9c179e"
             ],
             [
              0.4444444444444444,
              "#bd3786"
             ],
             [
              0.5555555555555556,
              "#d8576b"
             ],
             [
              0.6666666666666666,
              "#ed7953"
             ],
             [
              0.7777777777777778,
              "#fb9f3a"
             ],
             [
              0.8888888888888888,
              "#fdca26"
             ],
             [
              1,
              "#f0f921"
             ]
            ],
            "type": "heatmapgl"
           }
          ],
          "histogram": [
           {
            "marker": {
             "colorbar": {
              "outlinewidth": 0,
              "ticks": ""
             }
            },
            "type": "histogram"
           }
          ],
          "histogram2d": [
           {
            "colorbar": {
             "outlinewidth": 0,
             "ticks": ""
            },
            "colorscale": [
             [
              0,
              "#0d0887"
             ],
             [
              0.1111111111111111,
              "#46039f"
             ],
             [
              0.2222222222222222,
              "#7201a8"
             ],
             [
              0.3333333333333333,
              "#9c179e"
             ],
             [
              0.4444444444444444,
              "#bd3786"
             ],
             [
              0.5555555555555556,
              "#d8576b"
             ],
             [
              0.6666666666666666,
              "#ed7953"
             ],
             [
              0.7777777777777778,
              "#fb9f3a"
             ],
             [
              0.8888888888888888,
              "#fdca26"
             ],
             [
              1,
              "#f0f921"
             ]
            ],
            "type": "histogram2d"
           }
          ],
          "histogram2dcontour": [
           {
            "colorbar": {
             "outlinewidth": 0,
             "ticks": ""
            },
            "colorscale": [
             [
              0,
              "#0d0887"
             ],
             [
              0.1111111111111111,
              "#46039f"
             ],
             [
              0.2222222222222222,
              "#7201a8"
             ],
             [
              0.3333333333333333,
              "#9c179e"
             ],
             [
              0.4444444444444444,
              "#bd3786"
             ],
             [
              0.5555555555555556,
              "#d8576b"
             ],
             [
              0.6666666666666666,
              "#ed7953"
             ],
             [
              0.7777777777777778,
              "#fb9f3a"
             ],
             [
              0.8888888888888888,
              "#fdca26"
             ],
             [
              1,
              "#f0f921"
             ]
            ],
            "type": "histogram2dcontour"
           }
          ],
          "mesh3d": [
           {
            "colorbar": {
             "outlinewidth": 0,
             "ticks": ""
            },
            "type": "mesh3d"
           }
          ],
          "parcoords": [
           {
            "line": {
             "colorbar": {
              "outlinewidth": 0,
              "ticks": ""
             }
            },
            "type": "parcoords"
           }
          ],
          "pie": [
           {
            "automargin": true,
            "type": "pie"
           }
          ],
          "scatter": [
           {
            "marker": {
             "colorbar": {
              "outlinewidth": 0,
              "ticks": ""
             }
            },
            "type": "scatter"
           }
          ],
          "scatter3d": [
           {
            "line": {
             "colorbar": {
              "outlinewidth": 0,
              "ticks": ""
             }
            },
            "marker": {
             "colorbar": {
              "outlinewidth": 0,
              "ticks": ""
             }
            },
            "type": "scatter3d"
           }
          ],
          "scattercarpet": [
           {
            "marker": {
             "colorbar": {
              "outlinewidth": 0,
              "ticks": ""
             }
            },
            "type": "scattercarpet"
           }
          ],
          "scattergeo": [
           {
            "marker": {
             "colorbar": {
              "outlinewidth": 0,
              "ticks": ""
             }
            },
            "type": "scattergeo"
           }
          ],
          "scattergl": [
           {
            "marker": {
             "colorbar": {
              "outlinewidth": 0,
              "ticks": ""
             }
            },
            "type": "scattergl"
           }
          ],
          "scattermapbox": [
           {
            "marker": {
             "colorbar": {
              "outlinewidth": 0,
              "ticks": ""
             }
            },
            "type": "scattermapbox"
           }
          ],
          "scatterpolar": [
           {
            "marker": {
             "colorbar": {
              "outlinewidth": 0,
              "ticks": ""
             }
            },
            "type": "scatterpolar"
           }
          ],
          "scatterpolargl": [
           {
            "marker": {
             "colorbar": {
              "outlinewidth": 0,
              "ticks": ""
             }
            },
            "type": "scatterpolargl"
           }
          ],
          "scatterternary": [
           {
            "marker": {
             "colorbar": {
              "outlinewidth": 0,
              "ticks": ""
             }
            },
            "type": "scatterternary"
           }
          ],
          "surface": [
           {
            "colorbar": {
             "outlinewidth": 0,
             "ticks": ""
            },
            "colorscale": [
             [
              0,
              "#0d0887"
             ],
             [
              0.1111111111111111,
              "#46039f"
             ],
             [
              0.2222222222222222,
              "#7201a8"
             ],
             [
              0.3333333333333333,
              "#9c179e"
             ],
             [
              0.4444444444444444,
              "#bd3786"
             ],
             [
              0.5555555555555556,
              "#d8576b"
             ],
             [
              0.6666666666666666,
              "#ed7953"
             ],
             [
              0.7777777777777778,
              "#fb9f3a"
             ],
             [
              0.8888888888888888,
              "#fdca26"
             ],
             [
              1,
              "#f0f921"
             ]
            ],
            "type": "surface"
           }
          ],
          "table": [
           {
            "cells": {
             "fill": {
              "color": "#EBF0F8"
             },
             "line": {
              "color": "white"
             }
            },
            "header": {
             "fill": {
              "color": "#C8D4E3"
             },
             "line": {
              "color": "white"
             }
            },
            "type": "table"
           }
          ]
         },
         "layout": {
          "annotationdefaults": {
           "arrowcolor": "#2a3f5f",
           "arrowhead": 0,
           "arrowwidth": 1
          },
          "coloraxis": {
           "colorbar": {
            "outlinewidth": 0,
            "ticks": ""
           }
          },
          "colorscale": {
           "diverging": [
            [
             0,
             "#8e0152"
            ],
            [
             0.1,
             "#c51b7d"
            ],
            [
             0.2,
             "#de77ae"
            ],
            [
             0.3,
             "#f1b6da"
            ],
            [
             0.4,
             "#fde0ef"
            ],
            [
             0.5,
             "#f7f7f7"
            ],
            [
             0.6,
             "#e6f5d0"
            ],
            [
             0.7,
             "#b8e186"
            ],
            [
             0.8,
             "#7fbc41"
            ],
            [
             0.9,
             "#4d9221"
            ],
            [
             1,
             "#276419"
            ]
           ],
           "sequential": [
            [
             0,
             "#0d0887"
            ],
            [
             0.1111111111111111,
             "#46039f"
            ],
            [
             0.2222222222222222,
             "#7201a8"
            ],
            [
             0.3333333333333333,
             "#9c179e"
            ],
            [
             0.4444444444444444,
             "#bd3786"
            ],
            [
             0.5555555555555556,
             "#d8576b"
            ],
            [
             0.6666666666666666,
             "#ed7953"
            ],
            [
             0.7777777777777778,
             "#fb9f3a"
            ],
            [
             0.8888888888888888,
             "#fdca26"
            ],
            [
             1,
             "#f0f921"
            ]
           ],
           "sequentialminus": [
            [
             0,
             "#0d0887"
            ],
            [
             0.1111111111111111,
             "#46039f"
            ],
            [
             0.2222222222222222,
             "#7201a8"
            ],
            [
             0.3333333333333333,
             "#9c179e"
            ],
            [
             0.4444444444444444,
             "#bd3786"
            ],
            [
             0.5555555555555556,
             "#d8576b"
            ],
            [
             0.6666666666666666,
             "#ed7953"
            ],
            [
             0.7777777777777778,
             "#fb9f3a"
            ],
            [
             0.8888888888888888,
             "#fdca26"
            ],
            [
             1,
             "#f0f921"
            ]
           ]
          },
          "colorway": [
           "#636efa",
           "#EF553B",
           "#00cc96",
           "#ab63fa",
           "#FFA15A",
           "#19d3f3",
           "#FF6692",
           "#B6E880",
           "#FF97FF",
           "#FECB52"
          ],
          "font": {
           "color": "#2a3f5f"
          },
          "geo": {
           "bgcolor": "white",
           "lakecolor": "white",
           "landcolor": "#E5ECF6",
           "showlakes": true,
           "showland": true,
           "subunitcolor": "white"
          },
          "hoverlabel": {
           "align": "left"
          },
          "hovermode": "closest",
          "mapbox": {
           "style": "light"
          },
          "paper_bgcolor": "white",
          "plot_bgcolor": "#E5ECF6",
          "polar": {
           "angularaxis": {
            "gridcolor": "white",
            "linecolor": "white",
            "ticks": ""
           },
           "bgcolor": "#E5ECF6",
           "radialaxis": {
            "gridcolor": "white",
            "linecolor": "white",
            "ticks": ""
           }
          },
          "scene": {
           "xaxis": {
            "backgroundcolor": "#E5ECF6",
            "gridcolor": "white",
            "gridwidth": 2,
            "linecolor": "white",
            "showbackground": true,
            "ticks": "",
            "zerolinecolor": "white"
           },
           "yaxis": {
            "backgroundcolor": "#E5ECF6",
            "gridcolor": "white",
            "gridwidth": 2,
            "linecolor": "white",
            "showbackground": true,
            "ticks": "",
            "zerolinecolor": "white"
           },
           "zaxis": {
            "backgroundcolor": "#E5ECF6",
            "gridcolor": "white",
            "gridwidth": 2,
            "linecolor": "white",
            "showbackground": true,
            "ticks": "",
            "zerolinecolor": "white"
           }
          },
          "shapedefaults": {
           "line": {
            "color": "#2a3f5f"
           }
          },
          "ternary": {
           "aaxis": {
            "gridcolor": "white",
            "linecolor": "white",
            "ticks": ""
           },
           "baxis": {
            "gridcolor": "white",
            "linecolor": "white",
            "ticks": ""
           },
           "bgcolor": "#E5ECF6",
           "caxis": {
            "gridcolor": "white",
            "linecolor": "white",
            "ticks": ""
           }
          },
          "title": {
           "x": 0.05
          },
          "xaxis": {
           "automargin": true,
           "gridcolor": "white",
           "linecolor": "white",
           "ticks": "",
           "title": {
            "standoff": 15
           },
           "zerolinecolor": "white",
           "zerolinewidth": 2
          },
          "yaxis": {
           "automargin": true,
           "gridcolor": "white",
           "linecolor": "white",
           "ticks": "",
           "title": {
            "standoff": 15
           },
           "zerolinecolor": "white",
           "zerolinewidth": 2
          }
         }
        }
       }
      },
      "text/html": [
       "<div>\n",
       "        \n",
       "        \n",
       "            <div id=\"3d44a78f-e58f-44f2-b3a0-4d93d565d20c\" class=\"plotly-graph-div\" style=\"height:525px; width:100%;\"></div>\n",
       "            <script type=\"text/javascript\">\n",
       "                require([\"plotly\"], function(Plotly) {\n",
       "                    window.PLOTLYENV=window.PLOTLYENV || {};\n",
       "                    \n",
       "                if (document.getElementById(\"3d44a78f-e58f-44f2-b3a0-4d93d565d20c\")) {\n",
       "                    Plotly.newPlot(\n",
       "                        '3d44a78f-e58f-44f2-b3a0-4d93d565d20c',\n",
       "                        [{\"marker\": {\"color\": [\"#FF9616\", \"#FED4C4\", \"#FED4C4\", \"#FED4C4\", \"#FED4C4\", \"#FED4C4\", \"#FF9616\", \"#6A76FC\", \"#6A76FC\", \"#FE00CE\", \"#FD3216\", \"#0DF9FF\", \"#6A76FC\", \"#6A76FC\", \"#FE00CE\", \"#FE00CE\", \"#F6F926\", \"#0DF9FF\", \"#F6F926\", \"#FF9616\", \"#6A76FC\", \"#0DF9FF\", \"#00FE35\", \"#F6F926\", \"#FE00CE\", \"#6A76FC\", \"#FD3216\", \"#FF9616\", \"#0DF9FF\", \"#FF9616\", \"#FD3216\", \"#FD3216\", \"#FE00CE\", \"#00FE35\", \"#F6F926\", \"#0DF9FF\", \"#6A76FC\", \"#0DF9FF\", \"#FE00CE\", \"#FE00CE\", \"#FED4C4\", \"#00FE35\", \"#FD3216\", \"#FE00CE\", \"#F6F926\", \"#FED4C4\", \"#F6F926\", \"#00FE35\", \"#FD3216\", \"#6A76FC\", \"#F6F926\", \"#00FE35\", \"#FED4C4\", \"#FED4C4\", \"#6A76FC\", \"#6A76FC\", \"#FD3216\", \"#FE00CE\", \"#FD3216\", \"#6A76FC\", \"#0DF9FF\", \"#00FE35\", \"#FE00CE\", \"#FD3216\", \"#FF9616\", \"#0DF9FF\", \"#6A76FC\", \"#FE00CE\", \"#6A76FC\", \"#FE00CE\", \"#F6F926\", \"#00FE35\", \"#00FE35\", \"#FED4C4\", \"#FD3216\", \"#FED4C4\"]}, \"mode\": \"markers\", \"text\": [\"Drama|370\", \"Comedy|195\", \"Comedy,Drama|139\", \"Drama,Romance|132\", \"Comedy,Drama,Romance|116\", \"Comedy,Romance|85\", \"Horror|77\", \"Drama,Thriller|74\", \"Horror,Thriller|69\", \"Action,Crime,Drama|67\", \"Adventure,Animation,Comedy|65\", \"Documentary|64\", \"Crime,Drama,Thriller|62\", \"Thriller|53\", \"Action,Crime,Thriller|49\", \"Action,Adventure,Sci-Fi|41\", \"Action,Comedy,Crime|41\", \"Action,Adventure,Drama|36\", \"Action|36\", \"Crime,Drama|35\", \"Crime,Drama,Mystery|30\", \"Biography,Drama,History|30\", \"Biography,Drama|30\", \"Action,Adventure,Comedy|28\", \"Action,Thriller|28\", \"Horror,Mystery,Thriller|28\", \"Comedy,Horror|27\", \"Comedy,Crime,Drama|26\", \"Action,Adventure,Fantasy|25\", \"Crime,Thriller|22\", \"Family|22\", \"Action,Adventure,Animation|22\", \"Action,Horror,Sci-Fi|20\", \"Biography,Drama,Romance|20\", \"Action,Comedy|19\", \"Action,Drama|19\", \"Drama,Mystery,Thriller|19\", \"Action,Drama,History|19\", \"Action,Drama,Thriller|18\", \"Action,Sci-Fi,Thriller|18\", \"Drama,Horror,Thriller|16\", \"Action,Biography,Drama|15\", \"Action,Comedy,Horror|15\", \"Horror,Sci-Fi,Thriller|15\", \"Adventure,Family,Fantasy|15\", \"Drama,Family|14\", \"Adventure,Comedy,Drama|14\", \"Drama,War|14\", \"Adventure,Comedy,Family|14\", \"Mystery,Thriller|14\", \"Comedy,Crime|14\", \"Biography,Comedy,Drama|14\", \"Drama,Romance,Thriller|12\", \"Comedy,Drama,Fantasy|12\", \"Drama,Horror,Mystery|12\", \"Drama,Fantasy,Horror|12\", \"Adventure,Animation,Family|12\", \"Crime,Mystery,Thriller|12\", \"Adventure,Family|12\", \"Horror,Mystery|12\", \"Action,Adventure|12\", \"Drama,History,War|12\", \"Action,Adventure,Crime|11\", \"Comedy,Family|11\", \"Crime|11\", \"Drama,History|11\", \"Drama,Mystery,Romance|11\", \"Action,Horror|11\", \"Drama,Mystery|11\", \"Action,Adventure,Thriller|11\", \"Adventure,Comedy|10\", \"Biography,Crime,Drama|10\", \"Comedy,Drama,Music|10\", \"Adventure,Drama,Family|10\", \"Horror,Sci-Fi|10\", \"Drama,Music|10\"], \"type\": \"scatter\", \"x\": [14.200681686401367, 15.77180004119873, 14.906392097473145, 14.561107635498047, 14.843796730041504, 15.056214332580566, 14.534356117248535, 12.352474212646484, 12.960958480834961, 12.947572708129883, 15.667620658874512, 12.47622299194336, 13.048800468444824, 13.259759902954102, 12.544254302978516, 11.948040008544922, 13.60193157196045, 13.27302360534668, 13.884243965148926, 13.833568572998047, 11.365958213806152, 12.36213493347168, 11.804192543029785, 14.209973335266113, 12.73200798034668, 12.531959533691406, 15.151412010192871, 14.073722839355469, 13.493329048156738, 13.574213027954102, 15.624778747558594, 15.727948188781738, 12.037331581115723, 11.635163307189941, 14.523394584655762, 13.592641830444336, 11.707772254943848, 13.176194190979004, 12.530789375305176, 11.963593482971191, 14.718172073364258, 12.764896392822266, 14.744964599609375, 12.075654983520508, 14.263402938842773, 15.539708137512207, 14.030104637145996, 12.46065902709961, 15.371774673461914, 12.524733543395996, 14.662498474121094, 11.507454872131348, 14.325719833374023, 14.472941398620605, 12.047113418579102, 12.262166023254395, 15.835692405700684, 11.542166709899902, 15.196893692016602, 12.606922149658203, 13.480803489685059, 12.392162322998047, 11.38526725769043, 15.822552680969238, 13.73258113861084, 13.48142147064209, 12.05758285522461, 12.289247512817383, 12.15947437286377, 11.488716125488281, 15.181195259094238, 11.770522117614746, 11.408658981323242, 15.592860221862793, 14.827858924865723, 15.294990539550781], \"y\": [8.037164688110352, 7.285306930541992, 7.9092841148376465, 8.567366600036621, 8.255988121032715, 8.29366683959961, 7.343198776245117, 7.221979141235352, 6.7453293800354, 5.953998565673828, 6.404709815979004, 4.149050712585449, 7.243109226226807, 6.9870500564575195, 5.637829303741455, 5.1384077072143555, 6.575571060180664, 4.051045894622803, 5.708384990692139, 7.658054351806641, 6.633172035217285, 4.422595977783203, 4.530550956726074, 5.987905979156494, 5.514804840087891, 7.072362899780273, 6.48250675201416, 7.145103931427002, 4.126292705535889, 7.416800022125244, 6.790775299072266, 6.149733066558838, 5.755553245544434, 4.259617805480957, 6.355062007904053, 4.592149257659912, 7.076825141906738, 4.227780342102051, 5.559426784515381, 5.576752185821533, 8.21306324005127, 4.8489990234375, 6.96727991104126, 6.052158832550049, 6.87037992477417, 7.533576011657715, 6.358052730560303, 5.212521553039551, 6.299859046936035, 7.526899337768555, 6.566218852996826, 4.501521110534668, 8.413750648498535, 7.789427757263184, 6.776077747344971, 7.2184553146362305, 6.563814163208008, 6.180734634399414, 6.070545673370361, 6.595592975616455, 4.415372848510742, 4.812726974487305, 5.874739646911621, 6.952086925506592, 7.706034183502197, 4.240443229675293, 7.298787593841553, 6.030518531799316, 7.533308506011963, 5.680063247680664, 6.8613128662109375, 4.768282413482666, 4.570311069488525, 7.202932357788086, 6.148099422454834, 7.522703170776367]}],\n",
       "                        {\"template\": {\"data\": {\"bar\": [{\"error_x\": {\"color\": \"#2a3f5f\"}, \"error_y\": {\"color\": \"#2a3f5f\"}, \"marker\": {\"line\": {\"color\": \"#E5ECF6\", \"width\": 0.5}}, \"type\": \"bar\"}], \"barpolar\": [{\"marker\": {\"line\": {\"color\": \"#E5ECF6\", \"width\": 0.5}}, \"type\": \"barpolar\"}], \"carpet\": [{\"aaxis\": {\"endlinecolor\": \"#2a3f5f\", \"gridcolor\": \"white\", \"linecolor\": \"white\", \"minorgridcolor\": \"white\", \"startlinecolor\": \"#2a3f5f\"}, \"baxis\": {\"endlinecolor\": \"#2a3f5f\", \"gridcolor\": \"white\", \"linecolor\": \"white\", \"minorgridcolor\": \"white\", \"startlinecolor\": \"#2a3f5f\"}, \"type\": \"carpet\"}], \"choropleth\": [{\"colorbar\": {\"outlinewidth\": 0, \"ticks\": \"\"}, \"type\": \"choropleth\"}], \"contour\": [{\"colorbar\": {\"outlinewidth\": 0, \"ticks\": \"\"}, \"colorscale\": [[0.0, \"#0d0887\"], [0.1111111111111111, \"#46039f\"], [0.2222222222222222, \"#7201a8\"], [0.3333333333333333, \"#9c179e\"], [0.4444444444444444, \"#bd3786\"], [0.5555555555555556, \"#d8576b\"], [0.6666666666666666, \"#ed7953\"], [0.7777777777777778, \"#fb9f3a\"], [0.8888888888888888, \"#fdca26\"], [1.0, \"#f0f921\"]], \"type\": \"contour\"}], \"contourcarpet\": [{\"colorbar\": {\"outlinewidth\": 0, \"ticks\": \"\"}, \"type\": \"contourcarpet\"}], \"heatmap\": [{\"colorbar\": {\"outlinewidth\": 0, \"ticks\": \"\"}, \"colorscale\": [[0.0, \"#0d0887\"], [0.1111111111111111, \"#46039f\"], [0.2222222222222222, \"#7201a8\"], [0.3333333333333333, \"#9c179e\"], [0.4444444444444444, \"#bd3786\"], [0.5555555555555556, \"#d8576b\"], [0.6666666666666666, \"#ed7953\"], [0.7777777777777778, \"#fb9f3a\"], [0.8888888888888888, \"#fdca26\"], [1.0, \"#f0f921\"]], \"type\": \"heatmap\"}], \"heatmapgl\": [{\"colorbar\": {\"outlinewidth\": 0, \"ticks\": \"\"}, \"colorscale\": [[0.0, \"#0d0887\"], [0.1111111111111111, \"#46039f\"], [0.2222222222222222, \"#7201a8\"], [0.3333333333333333, \"#9c179e\"], [0.4444444444444444, \"#bd3786\"], [0.5555555555555556, \"#d8576b\"], [0.6666666666666666, \"#ed7953\"], [0.7777777777777778, \"#fb9f3a\"], [0.8888888888888888, \"#fdca26\"], [1.0, \"#f0f921\"]], \"type\": \"heatmapgl\"}], \"histogram\": [{\"marker\": {\"colorbar\": {\"outlinewidth\": 0, \"ticks\": \"\"}}, \"type\": \"histogram\"}], \"histogram2d\": [{\"colorbar\": {\"outlinewidth\": 0, \"ticks\": \"\"}, \"colorscale\": [[0.0, \"#0d0887\"], [0.1111111111111111, \"#46039f\"], [0.2222222222222222, \"#7201a8\"], [0.3333333333333333, \"#9c179e\"], [0.4444444444444444, \"#bd3786\"], [0.5555555555555556, \"#d8576b\"], [0.6666666666666666, \"#ed7953\"], [0.7777777777777778, \"#fb9f3a\"], [0.8888888888888888, \"#fdca26\"], [1.0, \"#f0f921\"]], \"type\": \"histogram2d\"}], \"histogram2dcontour\": [{\"colorbar\": {\"outlinewidth\": 0, \"ticks\": \"\"}, \"colorscale\": [[0.0, \"#0d0887\"], [0.1111111111111111, \"#46039f\"], [0.2222222222222222, \"#7201a8\"], [0.3333333333333333, \"#9c179e\"], [0.4444444444444444, \"#bd3786\"], [0.5555555555555556, \"#d8576b\"], [0.6666666666666666, \"#ed7953\"], [0.7777777777777778, \"#fb9f3a\"], [0.8888888888888888, \"#fdca26\"], [1.0, \"#f0f921\"]], \"type\": \"histogram2dcontour\"}], \"mesh3d\": [{\"colorbar\": {\"outlinewidth\": 0, \"ticks\": \"\"}, \"type\": \"mesh3d\"}], \"parcoords\": [{\"line\": {\"colorbar\": {\"outlinewidth\": 0, \"ticks\": \"\"}}, \"type\": \"parcoords\"}], \"pie\": [{\"automargin\": true, \"type\": \"pie\"}], \"scatter\": [{\"marker\": {\"colorbar\": {\"outlinewidth\": 0, \"ticks\": \"\"}}, \"type\": \"scatter\"}], \"scatter3d\": [{\"line\": {\"colorbar\": {\"outlinewidth\": 0, \"ticks\": \"\"}}, \"marker\": {\"colorbar\": {\"outlinewidth\": 0, \"ticks\": \"\"}}, \"type\": \"scatter3d\"}], \"scattercarpet\": [{\"marker\": {\"colorbar\": {\"outlinewidth\": 0, \"ticks\": \"\"}}, \"type\": \"scattercarpet\"}], \"scattergeo\": [{\"marker\": {\"colorbar\": {\"outlinewidth\": 0, \"ticks\": \"\"}}, \"type\": \"scattergeo\"}], \"scattergl\": [{\"marker\": {\"colorbar\": {\"outlinewidth\": 0, \"ticks\": \"\"}}, \"type\": \"scattergl\"}], \"scattermapbox\": [{\"marker\": {\"colorbar\": {\"outlinewidth\": 0, \"ticks\": \"\"}}, \"type\": \"scattermapbox\"}], \"scatterpolar\": [{\"marker\": {\"colorbar\": {\"outlinewidth\": 0, \"ticks\": \"\"}}, \"type\": \"scatterpolar\"}], \"scatterpolargl\": [{\"marker\": {\"colorbar\": {\"outlinewidth\": 0, \"ticks\": \"\"}}, \"type\": \"scatterpolargl\"}], \"scatterternary\": [{\"marker\": {\"colorbar\": {\"outlinewidth\": 0, \"ticks\": \"\"}}, \"type\": \"scatterternary\"}], \"surface\": [{\"colorbar\": {\"outlinewidth\": 0, \"ticks\": \"\"}, \"colorscale\": [[0.0, \"#0d0887\"], [0.1111111111111111, \"#46039f\"], [0.2222222222222222, \"#7201a8\"], [0.3333333333333333, \"#9c179e\"], [0.4444444444444444, \"#bd3786\"], [0.5555555555555556, \"#d8576b\"], [0.6666666666666666, \"#ed7953\"], [0.7777777777777778, \"#fb9f3a\"], [0.8888888888888888, \"#fdca26\"], [1.0, \"#f0f921\"]], \"type\": \"surface\"}], \"table\": [{\"cells\": {\"fill\": {\"color\": \"#EBF0F8\"}, \"line\": {\"color\": \"white\"}}, \"header\": {\"fill\": {\"color\": \"#C8D4E3\"}, \"line\": {\"color\": \"white\"}}, \"type\": \"table\"}]}, \"layout\": {\"annotationdefaults\": {\"arrowcolor\": \"#2a3f5f\", \"arrowhead\": 0, \"arrowwidth\": 1}, \"coloraxis\": {\"colorbar\": {\"outlinewidth\": 0, \"ticks\": \"\"}}, \"colorscale\": {\"diverging\": [[0, \"#8e0152\"], [0.1, \"#c51b7d\"], [0.2, \"#de77ae\"], [0.3, \"#f1b6da\"], [0.4, \"#fde0ef\"], [0.5, \"#f7f7f7\"], [0.6, \"#e6f5d0\"], [0.7, \"#b8e186\"], [0.8, \"#7fbc41\"], [0.9, \"#4d9221\"], [1, \"#276419\"]], \"sequential\": [[0.0, \"#0d0887\"], [0.1111111111111111, \"#46039f\"], [0.2222222222222222, \"#7201a8\"], [0.3333333333333333, \"#9c179e\"], [0.4444444444444444, \"#bd3786\"], [0.5555555555555556, \"#d8576b\"], [0.6666666666666666, \"#ed7953\"], [0.7777777777777778, \"#fb9f3a\"], [0.8888888888888888, \"#fdca26\"], [1.0, \"#f0f921\"]], \"sequentialminus\": [[0.0, \"#0d0887\"], [0.1111111111111111, \"#46039f\"], [0.2222222222222222, \"#7201a8\"], [0.3333333333333333, \"#9c179e\"], [0.4444444444444444, \"#bd3786\"], [0.5555555555555556, \"#d8576b\"], [0.6666666666666666, \"#ed7953\"], [0.7777777777777778, \"#fb9f3a\"], [0.8888888888888888, \"#fdca26\"], [1.0, \"#f0f921\"]]}, \"colorway\": [\"#636efa\", \"#EF553B\", \"#00cc96\", \"#ab63fa\", \"#FFA15A\", \"#19d3f3\", \"#FF6692\", \"#B6E880\", \"#FF97FF\", \"#FECB52\"], \"font\": {\"color\": \"#2a3f5f\"}, \"geo\": {\"bgcolor\": \"white\", \"lakecolor\": \"white\", \"landcolor\": \"#E5ECF6\", \"showlakes\": true, \"showland\": true, \"subunitcolor\": \"white\"}, \"hoverlabel\": {\"align\": \"left\"}, \"hovermode\": \"closest\", \"mapbox\": {\"style\": \"light\"}, \"paper_bgcolor\": \"white\", \"plot_bgcolor\": \"#E5ECF6\", \"polar\": {\"angularaxis\": {\"gridcolor\": \"white\", \"linecolor\": \"white\", \"ticks\": \"\"}, \"bgcolor\": \"#E5ECF6\", \"radialaxis\": {\"gridcolor\": \"white\", \"linecolor\": \"white\", \"ticks\": \"\"}}, \"scene\": {\"xaxis\": {\"backgroundcolor\": \"#E5ECF6\", \"gridcolor\": \"white\", \"gridwidth\": 2, \"linecolor\": \"white\", \"showbackground\": true, \"ticks\": \"\", \"zerolinecolor\": \"white\"}, \"yaxis\": {\"backgroundcolor\": \"#E5ECF6\", \"gridcolor\": \"white\", \"gridwidth\": 2, \"linecolor\": \"white\", \"showbackground\": true, \"ticks\": \"\", \"zerolinecolor\": \"white\"}, \"zaxis\": {\"backgroundcolor\": \"#E5ECF6\", \"gridcolor\": \"white\", \"gridwidth\": 2, \"linecolor\": \"white\", \"showbackground\": true, \"ticks\": \"\", \"zerolinecolor\": \"white\"}}, \"shapedefaults\": {\"line\": {\"color\": \"#2a3f5f\"}}, \"ternary\": {\"aaxis\": {\"gridcolor\": \"white\", \"linecolor\": \"white\", \"ticks\": \"\"}, \"baxis\": {\"gridcolor\": \"white\", \"linecolor\": \"white\", \"ticks\": \"\"}, \"bgcolor\": \"#E5ECF6\", \"caxis\": {\"gridcolor\": \"white\", \"linecolor\": \"white\", \"ticks\": \"\"}}, \"title\": {\"x\": 0.05}, \"xaxis\": {\"automargin\": true, \"gridcolor\": \"white\", \"linecolor\": \"white\", \"ticks\": \"\", \"title\": {\"standoff\": 15}, \"zerolinecolor\": \"white\", \"zerolinewidth\": 2}, \"yaxis\": {\"automargin\": true, \"gridcolor\": \"white\", \"linecolor\": \"white\", \"ticks\": \"\", \"title\": {\"standoff\": 15}, \"zerolinecolor\": \"white\", \"zerolinewidth\": 2}}}},\n",
       "                        {\"responsive\": true}\n",
       "                    ).then(function(){\n",
       "                            \n",
       "var gd = document.getElementById('3d44a78f-e58f-44f2-b3a0-4d93d565d20c');\n",
       "var x = new MutationObserver(function (mutations, observer) {{\n",
       "        var display = window.getComputedStyle(gd).display;\n",
       "        if (!display || display === 'none') {{\n",
       "            console.log([gd, 'removed!']);\n",
       "            Plotly.purge(gd);\n",
       "            observer.disconnect();\n",
       "        }}\n",
       "}});\n",
       "\n",
       "// Listen for the removal of the full notebook cells\n",
       "var notebookContainer = gd.closest('#notebook-container');\n",
       "if (notebookContainer) {{\n",
       "    x.observe(notebookContainer, {childList: true});\n",
       "}}\n",
       "\n",
       "// Listen for the clearing of the current output cell\n",
       "var outputEl = gd.closest('.output');\n",
       "if (outputEl) {{\n",
       "    x.observe(outputEl, {childList: true});\n",
       "}}\n",
       "\n",
       "                        })\n",
       "                };\n",
       "                });\n",
       "            </script>\n",
       "        </div>"
      ]
     },
     "metadata": {},
     "output_type": "display_data"
    }
   ],
   "source": [
    "fig = go.Figure(data=go.Scatter(x=Xr[:, 0],\n",
    "                                y=Xr[:, 1],\n",
    "                                mode='markers',\n",
    "                                text=[f'{label}|{n_token}' for label, n_token in zip(aggr.label, aggr.n_texts)],\n",
    "                                marker_color=plotly_color_categorical_values(cluster)))\n",
    "\n",
    "\n",
    "fig.show()"
   ]
  },
  {
   "cell_type": "code",
   "execution_count": 147,
   "metadata": {},
   "outputs": [],
   "source": [
    "dfs = get_cluster_dfs(aggr, cluster)"
   ]
  },
  {
   "cell_type": "code",
   "execution_count": 148,
   "metadata": {
    "scrolled": true
   },
   "outputs": [
    {
     "name": "stdout",
     "output_type": "stream",
     "text": [
      "10    Adventure,Animation,Comedy\n",
      "26                 Comedy,Horror\n",
      "30                        Family\n",
      "31    Action,Adventure,Animation\n",
      "42          Action,Comedy,Horror\n",
      "48       Adventure,Comedy,Family\n",
      "56    Adventure,Animation,Family\n",
      "58              Adventure,Family\n",
      "63                 Comedy,Family\n",
      "74                 Horror,Sci-Fi\n",
      "Name: label, dtype: object\n",
      "Total number of movies in cluster => 210\n",
      "############################################################\n",
      "22            Biography,Drama\n",
      "33    Biography,Drama,Romance\n",
      "41     Action,Biography,Drama\n",
      "47                  Drama,War\n",
      "51     Biography,Comedy,Drama\n",
      "61          Drama,History,War\n",
      "71      Biography,Crime,Drama\n",
      "72         Comedy,Drama,Music\n",
      "Name: label, dtype: object\n",
      "Total number of movies in cluster => 125\n",
      "############################################################\n",
      "7              Drama,Thriller\n",
      "8             Horror,Thriller\n",
      "12       Crime,Drama,Thriller\n",
      "13                   Thriller\n",
      "20        Crime,Drama,Mystery\n",
      "25    Horror,Mystery,Thriller\n",
      "36     Drama,Mystery,Thriller\n",
      "49           Mystery,Thriller\n",
      "54       Drama,Horror,Mystery\n",
      "55       Drama,Fantasy,Horror\n",
      "59             Horror,Mystery\n",
      "66      Drama,Mystery,Romance\n",
      "68              Drama,Mystery\n",
      "Name: label, dtype: object\n",
      "Total number of movies in cluster => 407\n",
      "############################################################\n",
      "1                     Comedy\n",
      "2               Comedy,Drama\n",
      "3              Drama,Romance\n",
      "4       Comedy,Drama,Romance\n",
      "5             Comedy,Romance\n",
      "40     Drama,Horror,Thriller\n",
      "45              Drama,Family\n",
      "52    Drama,Romance,Thriller\n",
      "53      Comedy,Drama,Fantasy\n",
      "73    Adventure,Drama,Family\n",
      "75               Drama,Music\n",
      "Name: label, dtype: object\n",
      "Total number of movies in cluster => 741\n",
      "############################################################\n",
      "9            Action,Crime,Drama\n",
      "14        Action,Crime,Thriller\n",
      "15      Action,Adventure,Sci-Fi\n",
      "24              Action,Thriller\n",
      "32         Action,Horror,Sci-Fi\n",
      "38        Action,Drama,Thriller\n",
      "39       Action,Sci-Fi,Thriller\n",
      "43       Horror,Sci-Fi,Thriller\n",
      "57       Crime,Mystery,Thriller\n",
      "62       Action,Adventure,Crime\n",
      "67                Action,Horror\n",
      "69    Action,Adventure,Thriller\n",
      "Name: label, dtype: object\n",
      "Total number of movies in cluster => 301\n",
      "############################################################\n",
      "11                 Documentary\n",
      "17      Action,Adventure,Drama\n",
      "21     Biography,Drama,History\n",
      "28    Action,Adventure,Fantasy\n",
      "35                Action,Drama\n",
      "37        Action,Drama,History\n",
      "60            Action,Adventure\n",
      "65               Drama,History\n",
      "Name: label, dtype: object\n",
      "Total number of movies in cluster => 216\n",
      "############################################################\n",
      "16         Action,Comedy,Crime\n",
      "18                      Action\n",
      "23     Action,Adventure,Comedy\n",
      "34               Action,Comedy\n",
      "44    Adventure,Family,Fantasy\n",
      "46      Adventure,Comedy,Drama\n",
      "50                Comedy,Crime\n",
      "70            Adventure,Comedy\n",
      "Name: label, dtype: object\n",
      "Total number of movies in cluster => 177\n",
      "############################################################\n",
      "0                  Drama\n",
      "6                 Horror\n",
      "19           Crime,Drama\n",
      "27    Comedy,Crime,Drama\n",
      "29        Crime,Thriller\n",
      "64                 Crime\n",
      "Name: label, dtype: object\n",
      "Total number of movies in cluster => 541\n",
      "############################################################\n"
     ]
    }
   ],
   "source": [
    "for cluster_df in dfs:\n",
    "    print(cluster_df.label)\n",
    "    print(f'Total number of movies in cluster => {cluster_df.n_texts.sum()}')\n",
    "    print('#'*60)"
   ]
  },
  {
   "cell_type": "code",
   "execution_count": null,
   "metadata": {},
   "outputs": [],
   "source": []
  }
 ],
 "metadata": {
  "kernelspec": {
   "display_name": "Python 3",
   "language": "python",
   "name": "python3"
  },
  "language_info": {
   "codemirror_mode": {
    "name": "ipython",
    "version": 3
   },
   "file_extension": ".py",
   "mimetype": "text/x-python",
   "name": "python",
   "nbconvert_exporter": "python",
   "pygments_lexer": "ipython3",
   "version": "3.8.2"
  }
 },
 "nbformat": 4,
 "nbformat_minor": 4
}
