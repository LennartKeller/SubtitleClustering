{
 "cells": [
  {
   "cell_type": "code",
   "execution_count": 1,
   "metadata": {},
   "outputs": [],
   "source": [
    "import pandas as pd\n",
    "import matplotlib.pyplot as plt\n",
    "import numpy as np\n",
    "import plotly.graph_objects as go\n",
    "import seaborn as sns\n",
    "from sklearn.feature_extraction.text import TfidfVectorizer\n",
    "from stop_words import get_stop_words\n",
    "from sklearn.decomposition import PCA\n",
    "from sklearn.cluster import KMeans\n",
    "from umap import UMAP\n",
    "from collections import Counter"
   ]
  },
  {
   "cell_type": "code",
   "execution_count": 2,
   "metadata": {},
   "outputs": [],
   "source": [
    "df = pd.read_csv('../dataset/movies_complete.csv')\n",
    "df.dropna(subset=['genre'], inplace=True)\n",
    "df['text_length'] = df.text.apply(lambda x: len(x.split()))\n",
    "df = df[df['text_length'] >= 3000]"
   ]
  },
  {
   "cell_type": "code",
   "execution_count": 3,
   "metadata": {},
   "outputs": [],
   "source": [
    "def aggregate_by_label(df: pd.DataFrame, label: str, min_threshold: int = 0):\n",
    "    \n",
    "    top_labels = df[label].value_counts()[df[label].value_counts() > min_threshold]\n",
    "    \n",
    "    entries = []\n",
    "    for l in top_labels.index:\n",
    "        label_df = df[df[label] == l]\n",
    "        all_texts = []\n",
    "        for text in label_df.text:\n",
    "            all_texts.append(text)\n",
    "        entry = {}\n",
    "        \n",
    "        conctanated_text = \" \".join(all_texts)\n",
    "        entry['label'] = l\n",
    "        entry['text'] = conctanated_text\n",
    "        entry['n_texts'] = len(all_texts)\n",
    "        entry['n_tokens'] = len(conctanated_text.split())\n",
    "        entry['instances'] = \", \".join(label_df.filename.to_list())\n",
    "        \n",
    "        entries.append(entry)\n",
    "    return pd.DataFrame.from_records(entries)"
   ]
  },
  {
   "cell_type": "code",
   "execution_count": 4,
   "metadata": {},
   "outputs": [],
   "source": [
    "def get_cluster_dfs(df, cluster):\n",
    "    return[df[cluster == i] for i in np.unique(cluster)]"
   ]
  },
  {
   "cell_type": "code",
   "execution_count": 5,
   "metadata": {},
   "outputs": [],
   "source": [
    "from plotly.colors import qualitative \n",
    "\n",
    "def plotly_color_categorical_values(values, cmap=qualitative.Light24):\n",
    "    uniq = np.unique(values)\n",
    "    if len(uniq) > len(cmap):\n",
    "        print(\"Need more colors than current cmap holds\")\n",
    "        return\n",
    "    categories_color = {cat: cmap[index] for index, cat in enumerate(uniq)}\n",
    "    return [categories_color[cat] for cat in values]"
   ]
  },
  {
   "cell_type": "code",
   "execution_count": 36,
   "metadata": {},
   "outputs": [],
   "source": [
    "aggr = aggregate_by_label(df, 'genre', 9)"
   ]
  },
  {
   "cell_type": "code",
   "execution_count": 149,
   "metadata": {},
   "outputs": [],
   "source": [
    "tfidf = TfidfVectorizer(\n",
    "    #stop_words=get_stop_words('de'),\n",
    "    max_features=250)\n",
    "\n",
    "X = tfidf.fit_transform(aggr.text)\n",
    "X = X.todense()"
   ]
  },
  {
   "cell_type": "code",
   "execution_count": 150,
   "metadata": {},
   "outputs": [],
   "source": [
    "Xr = UMAP(n_components=2, n_neighbors=20).fit_transform(X)\n",
    "#Xr = PCA(n_components=2).fit_transform(X.todense())"
   ]
  },
  {
   "cell_type": "code",
   "execution_count": 151,
   "metadata": {},
   "outputs": [
    {
     "data": {
      "application/vnd.plotly.v1+json": {
       "config": {
        "plotlyServerURL": "https://plot.ly"
       },
       "data": [
        {
         "marker": {
          "color": [
           2674369,
           2233492,
           1300900,
           1016722,
           1198594,
           1015203,
           462316,
           545452,
           447645,
           542220,
           562622,
           619572,
           514264,
           343265,
           366818,
           396140,
           426025,
           283838,
           231782,
           304024,
           282027,
           304749,
           284118,
           264644,
           214763,
           191435,
           209863,
           261093,
           146342,
           169823,
           186666,
           169261,
           129658,
           173914,
           179958,
           113772,
           133304,
           158313,
           127344,
           127969,
           97203,
           124264,
           99207,
           103483,
           113566,
           104418,
           135654,
           104008,
           135383,
           96014,
           185093,
           155559,
           85787,
           114469,
           78181,
           81141,
           89085,
           94362,
           101966,
           84990,
           69526,
           94720,
           82350,
           107763,
           83527,
           74898,
           93552,
           64112,
           85138,
           82038,
           119205,
           107730,
           93600,
           70389,
           59302,
           86744
          ]
         },
         "mode": "markers",
         "text": [
          "Drama|370",
          "Comedy|195",
          "Comedy,Drama|139",
          "Drama,Romance|132",
          "Comedy,Drama,Romance|116",
          "Comedy,Romance|85",
          "Horror|77",
          "Drama,Thriller|74",
          "Horror,Thriller|69",
          "Action,Crime,Drama|67",
          "Adventure,Animation,Comedy|65",
          "Documentary|64",
          "Crime,Drama,Thriller|62",
          "Thriller|53",
          "Action,Crime,Thriller|49",
          "Action,Adventure,Sci-Fi|41",
          "Action,Comedy,Crime|41",
          "Action,Adventure,Drama|36",
          "Action|36",
          "Crime,Drama|35",
          "Crime,Drama,Mystery|30",
          "Biography,Drama,History|30",
          "Biography,Drama|30",
          "Action,Adventure,Comedy|28",
          "Action,Thriller|28",
          "Horror,Mystery,Thriller|28",
          "Comedy,Horror|27",
          "Comedy,Crime,Drama|26",
          "Action,Adventure,Fantasy|25",
          "Crime,Thriller|22",
          "Family|22",
          "Action,Adventure,Animation|22",
          "Action,Horror,Sci-Fi|20",
          "Biography,Drama,Romance|20",
          "Action,Comedy|19",
          "Action,Drama|19",
          "Drama,Mystery,Thriller|19",
          "Action,Drama,History|19",
          "Action,Drama,Thriller|18",
          "Action,Sci-Fi,Thriller|18",
          "Drama,Horror,Thriller|16",
          "Action,Biography,Drama|15",
          "Action,Comedy,Horror|15",
          "Horror,Sci-Fi,Thriller|15",
          "Adventure,Family,Fantasy|15",
          "Drama,Family|14",
          "Adventure,Comedy,Drama|14",
          "Drama,War|14",
          "Adventure,Comedy,Family|14",
          "Mystery,Thriller|14",
          "Comedy,Crime|14",
          "Biography,Comedy,Drama|14",
          "Drama,Romance,Thriller|12",
          "Comedy,Drama,Fantasy|12",
          "Drama,Horror,Mystery|12",
          "Drama,Fantasy,Horror|12",
          "Adventure,Animation,Family|12",
          "Crime,Mystery,Thriller|12",
          "Adventure,Family|12",
          "Horror,Mystery|12",
          "Action,Adventure|12",
          "Drama,History,War|12",
          "Action,Adventure,Crime|11",
          "Comedy,Family|11",
          "Crime|11",
          "Drama,History|11",
          "Drama,Mystery,Romance|11",
          "Action,Horror|11",
          "Drama,Mystery|11",
          "Action,Adventure,Thriller|11",
          "Adventure,Comedy|10",
          "Biography,Crime,Drama|10",
          "Comedy,Drama,Music|10",
          "Adventure,Drama,Family|10",
          "Horror,Sci-Fi|10",
          "Drama,Music|10"
         ],
         "type": "scatter",
         "x": [
          9.460290908813477,
          11.007804870605469,
          10.412734031677246,
          9.69115924835205,
          10.046716690063477,
          10.341435432434082,
          10.09284782409668,
          7.936368942260742,
          8.546812057495117,
          8.640873908996582,
          11.323312759399414,
          8.42799186706543,
          8.489013671875,
          8.990431785583496,
          8.00713062286377,
          7.555276870727539,
          9.362468719482422,
          9.483019828796387,
          9.600522994995117,
          9.351995468139648,
          6.89603328704834,
          8.106145858764648,
          7.602902889251709,
          10.18085765838623,
          8.16970157623291,
          8.108202934265137,
          10.60511589050293,
          9.595124244689941,
          9.651269912719727,
          9.054935455322266,
          11.458499908447266,
          11.510313034057617,
          7.237006187438965,
          7.147059917449951,
          10.470017433166504,
          9.494093894958496,
          7.055622577667236,
          9.095376014709473,
          8.092535972595215,
          7.4875006675720215,
          9.945655822753906,
          8.411850929260254,
          10.226470947265625,
          7.592021942138672,
          9.736296653747559,
          11.16412353515625,
          10.087654113769531,
          8.147038459777832,
          11.060003280639648,
          8.151128768920898,
          10.562548637390137,
          7.43375825881958,
          9.622360229492188,
          9.848675727844238,
          7.556489944458008,
          7.784582614898682,
          11.548558235168457,
          6.971018314361572,
          11.005581855773926,
          8.299382209777832,
          9.41396713256836,
          8.168731689453125,
          6.8548784255981445,
          11.329394340515137,
          9.112998962402344,
          9.276275634765625,
          7.422724723815918,
          7.517747402191162,
          7.60706090927124,
          7.132323741912842,
          10.696842193603516,
          7.675103187561035,
          7.280023097991943,
          11.574462890625,
          10.15294075012207,
          10.789301872253418
         ],
         "y": [
          4.749056816101074,
          5.251634120941162,
          4.683163166046143,
          4.219700336456299,
          4.167155742645264,
          4.36948299407959,
          5.452825546264648,
          5.47292947769165,
          6.147788047790527,
          7.06096076965332,
          6.156756401062012,
          8.667281150817871,
          5.677186965942383,
          6.270228385925293,
          7.527872562408447,
          7.740138053894043,
          6.458834171295166,
          8.537147521972656,
          7.202342987060547,
          5.282987117767334,
          6.543146133422852,
          8.708407402038574,
          8.684380531311035,
          7.075143814086914,
          7.053020477294922,
          5.9994916915893555,
          5.820838451385498,
          5.81218147277832,
          8.450773239135742,
          5.554795742034912,
          5.7674407958984375,
          6.451846599578857,
          7.196524620056152,
          8.481693267822266,
          6.631635665893555,
          7.884746551513672,
          5.927026748657227,
          8.553838729858398,
          7.329297065734863,
          7.431546211242676,
          4.411564826965332,
          8.138802528381348,
          6.190195560455322,
          6.979065418243408,
          6.508795738220215,
          4.908301830291748,
          6.951588153839111,
          7.94076681137085,
          6.133703708648682,
          5.307744979858398,
          6.122313499450684,
          8.419005393981934,
          4.475668907165527,
          4.875389575958252,
          6.082704544067383,
          5.751552581787109,
          6.1226606369018555,
          7.074862003326416,
          6.530500888824463,
          6.396979331970215,
          8.23383903503418,
          8.404322624206543,
          7.217977523803711,
          5.524867057800293,
          5.430148124694824,
          8.294602394104004,
          5.591133117675781,
          7.058823585510254,
          5.257413864135742,
          7.554435729980469,
          5.822552680969238,
          8.1525297164917,
          8.525834083557129,
          5.381102085113525,
          5.920645236968994,
          5.0642900466918945
         ]
        }
       ],
       "layout": {
        "template": {
         "data": {
          "bar": [
           {
            "error_x": {
             "color": "#2a3f5f"
            },
            "error_y": {
             "color": "#2a3f5f"
            },
            "marker": {
             "line": {
              "color": "#E5ECF6",
              "width": 0.5
             }
            },
            "type": "bar"
           }
          ],
          "barpolar": [
           {
            "marker": {
             "line": {
              "color": "#E5ECF6",
              "width": 0.5
             }
            },
            "type": "barpolar"
           }
          ],
          "carpet": [
           {
            "aaxis": {
             "endlinecolor": "#2a3f5f",
             "gridcolor": "white",
             "linecolor": "white",
             "minorgridcolor": "white",
             "startlinecolor": "#2a3f5f"
            },
            "baxis": {
             "endlinecolor": "#2a3f5f",
             "gridcolor": "white",
             "linecolor": "white",
             "minorgridcolor": "white",
             "startlinecolor": "#2a3f5f"
            },
            "type": "carpet"
           }
          ],
          "choropleth": [
           {
            "colorbar": {
             "outlinewidth": 0,
             "ticks": ""
            },
            "type": "choropleth"
           }
          ],
          "contour": [
           {
            "colorbar": {
             "outlinewidth": 0,
             "ticks": ""
            },
            "colorscale": [
             [
              0,
              "#0d0887"
             ],
             [
              0.1111111111111111,
              "#46039f"
             ],
             [
              0.2222222222222222,
              "#7201a8"
             ],
             [
              0.3333333333333333,
              "#9c179e"
             ],
             [
              0.4444444444444444,
              "#bd3786"
             ],
             [
              0.5555555555555556,
              "#d8576b"
             ],
             [
              0.6666666666666666,
              "#ed7953"
             ],
             [
              0.7777777777777778,
              "#fb9f3a"
             ],
             [
              0.8888888888888888,
              "#fdca26"
             ],
             [
              1,
              "#f0f921"
             ]
            ],
            "type": "contour"
           }
          ],
          "contourcarpet": [
           {
            "colorbar": {
             "outlinewidth": 0,
             "ticks": ""
            },
            "type": "contourcarpet"
           }
          ],
          "heatmap": [
           {
            "colorbar": {
             "outlinewidth": 0,
             "ticks": ""
            },
            "colorscale": [
             [
              0,
              "#0d0887"
             ],
             [
              0.1111111111111111,
              "#46039f"
             ],
             [
              0.2222222222222222,
              "#7201a8"
             ],
             [
              0.3333333333333333,
              "#9c179e"
             ],
             [
              0.4444444444444444,
              "#bd3786"
             ],
             [
              0.5555555555555556,
              "#d8576b"
             ],
             [
              0.6666666666666666,
              "#ed7953"
             ],
             [
              0.7777777777777778,
              "#fb9f3a"
             ],
             [
              0.8888888888888888,
              "#fdca26"
             ],
             [
              1,
              "#f0f921"
             ]
            ],
            "type": "heatmap"
           }
          ],
          "heatmapgl": [
           {
            "colorbar": {
             "outlinewidth": 0,
             "ticks": ""
            },
            "colorscale": [
             [
              0,
              "#0d0887"
             ],
             [
              0.1111111111111111,
              "#46039f"
             ],
             [
              0.2222222222222222,
              "#7201a8"
             ],
             [
              0.3333333333333333,
              "#9c179e"
             ],
             [
              0.4444444444444444,
              "#bd3786"
             ],
             [
              0.5555555555555556,
              "#d8576b"
             ],
             [
              0.6666666666666666,
              "#ed7953"
             ],
             [
              0.7777777777777778,
              "#fb9f3a"
             ],
             [
              0.8888888888888888,
              "#fdca26"
             ],
             [
              1,
              "#f0f921"
             ]
            ],
            "type": "heatmapgl"
           }
          ],
          "histogram": [
           {
            "marker": {
             "colorbar": {
              "outlinewidth": 0,
              "ticks": ""
             }
            },
            "type": "histogram"
           }
          ],
          "histogram2d": [
           {
            "colorbar": {
             "outlinewidth": 0,
             "ticks": ""
            },
            "colorscale": [
             [
              0,
              "#0d0887"
             ],
             [
              0.1111111111111111,
              "#46039f"
             ],
             [
              0.2222222222222222,
              "#7201a8"
             ],
             [
              0.3333333333333333,
              "#9c179e"
             ],
             [
              0.4444444444444444,
              "#bd3786"
             ],
             [
              0.5555555555555556,
              "#d8576b"
             ],
             [
              0.6666666666666666,
              "#ed7953"
             ],
             [
              0.7777777777777778,
              "#fb9f3a"
             ],
             [
              0.8888888888888888,
              "#fdca26"
             ],
             [
              1,
              "#f0f921"
             ]
            ],
            "type": "histogram2d"
           }
          ],
          "histogram2dcontour": [
           {
            "colorbar": {
             "outlinewidth": 0,
             "ticks": ""
            },
            "colorscale": [
             [
              0,
              "#0d0887"
             ],
             [
              0.1111111111111111,
              "#46039f"
             ],
             [
              0.2222222222222222,
              "#7201a8"
             ],
             [
              0.3333333333333333,
              "#9c179e"
             ],
             [
              0.4444444444444444,
              "#bd3786"
             ],
             [
              0.5555555555555556,
              "#d8576b"
             ],
             [
              0.6666666666666666,
              "#ed7953"
             ],
             [
              0.7777777777777778,
              "#fb9f3a"
             ],
             [
              0.8888888888888888,
              "#fdca26"
             ],
             [
              1,
              "#f0f921"
             ]
            ],
            "type": "histogram2dcontour"
           }
          ],
          "mesh3d": [
           {
            "colorbar": {
             "outlinewidth": 0,
             "ticks": ""
            },
            "type": "mesh3d"
           }
          ],
          "parcoords": [
           {
            "line": {
             "colorbar": {
              "outlinewidth": 0,
              "ticks": ""
             }
            },
            "type": "parcoords"
           }
          ],
          "pie": [
           {
            "automargin": true,
            "type": "pie"
           }
          ],
          "scatter": [
           {
            "marker": {
             "colorbar": {
              "outlinewidth": 0,
              "ticks": ""
             }
            },
            "type": "scatter"
           }
          ],
          "scatter3d": [
           {
            "line": {
             "colorbar": {
              "outlinewidth": 0,
              "ticks": ""
             }
            },
            "marker": {
             "colorbar": {
              "outlinewidth": 0,
              "ticks": ""
             }
            },
            "type": "scatter3d"
           }
          ],
          "scattercarpet": [
           {
            "marker": {
             "colorbar": {
              "outlinewidth": 0,
              "ticks": ""
             }
            },
            "type": "scattercarpet"
           }
          ],
          "scattergeo": [
           {
            "marker": {
             "colorbar": {
              "outlinewidth": 0,
              "ticks": ""
             }
            },
            "type": "scattergeo"
           }
          ],
          "scattergl": [
           {
            "marker": {
             "colorbar": {
              "outlinewidth": 0,
              "ticks": ""
             }
            },
            "type": "scattergl"
           }
          ],
          "scattermapbox": [
           {
            "marker": {
             "colorbar": {
              "outlinewidth": 0,
              "ticks": ""
             }
            },
            "type": "scattermapbox"
           }
          ],
          "scatterpolar": [
           {
            "marker": {
             "colorbar": {
              "outlinewidth": 0,
              "ticks": ""
             }
            },
            "type": "scatterpolar"
           }
          ],
          "scatterpolargl": [
           {
            "marker": {
             "colorbar": {
              "outlinewidth": 0,
              "ticks": ""
             }
            },
            "type": "scatterpolargl"
           }
          ],
          "scatterternary": [
           {
            "marker": {
             "colorbar": {
              "outlinewidth": 0,
              "ticks": ""
             }
            },
            "type": "scatterternary"
           }
          ],
          "surface": [
           {
            "colorbar": {
             "outlinewidth": 0,
             "ticks": ""
            },
            "colorscale": [
             [
              0,
              "#0d0887"
             ],
             [
              0.1111111111111111,
              "#46039f"
             ],
             [
              0.2222222222222222,
              "#7201a8"
             ],
             [
              0.3333333333333333,
              "#9c179e"
             ],
             [
              0.4444444444444444,
              "#bd3786"
             ],
             [
              0.5555555555555556,
              "#d8576b"
             ],
             [
              0.6666666666666666,
              "#ed7953"
             ],
             [
              0.7777777777777778,
              "#fb9f3a"
             ],
             [
              0.8888888888888888,
              "#fdca26"
             ],
             [
              1,
              "#f0f921"
             ]
            ],
            "type": "surface"
           }
          ],
          "table": [
           {
            "cells": {
             "fill": {
              "color": "#EBF0F8"
             },
             "line": {
              "color": "white"
             }
            },
            "header": {
             "fill": {
              "color": "#C8D4E3"
             },
             "line": {
              "color": "white"
             }
            },
            "type": "table"
           }
          ]
         },
         "layout": {
          "annotationdefaults": {
           "arrowcolor": "#2a3f5f",
           "arrowhead": 0,
           "arrowwidth": 1
          },
          "coloraxis": {
           "colorbar": {
            "outlinewidth": 0,
            "ticks": ""
           }
          },
          "colorscale": {
           "diverging": [
            [
             0,
             "#8e0152"
            ],
            [
             0.1,
             "#c51b7d"
            ],
            [
             0.2,
             "#de77ae"
            ],
            [
             0.3,
             "#f1b6da"
            ],
            [
             0.4,
             "#fde0ef"
            ],
            [
             0.5,
             "#f7f7f7"
            ],
            [
             0.6,
             "#e6f5d0"
            ],
            [
             0.7,
             "#b8e186"
            ],
            [
             0.8,
             "#7fbc41"
            ],
            [
             0.9,
             "#4d9221"
            ],
            [
             1,
             "#276419"
            ]
           ],
           "sequential": [
            [
             0,
             "#0d0887"
            ],
            [
             0.1111111111111111,
             "#46039f"
            ],
            [
             0.2222222222222222,
             "#7201a8"
            ],
            [
             0.3333333333333333,
             "#9c179e"
            ],
            [
             0.4444444444444444,
             "#bd3786"
            ],
            [
             0.5555555555555556,
             "#d8576b"
            ],
            [
             0.6666666666666666,
             "#ed7953"
            ],
            [
             0.7777777777777778,
             "#fb9f3a"
            ],
            [
             0.8888888888888888,
             "#fdca26"
            ],
            [
             1,
             "#f0f921"
            ]
           ],
           "sequentialminus": [
            [
             0,
             "#0d0887"
            ],
            [
             0.1111111111111111,
             "#46039f"
            ],
            [
             0.2222222222222222,
             "#7201a8"
            ],
            [
             0.3333333333333333,
             "#9c179e"
            ],
            [
             0.4444444444444444,
             "#bd3786"
            ],
            [
             0.5555555555555556,
             "#d8576b"
            ],
            [
             0.6666666666666666,
             "#ed7953"
            ],
            [
             0.7777777777777778,
             "#fb9f3a"
            ],
            [
             0.8888888888888888,
             "#fdca26"
            ],
            [
             1,
             "#f0f921"
            ]
           ]
          },
          "colorway": [
           "#636efa",
           "#EF553B",
           "#00cc96",
           "#ab63fa",
           "#FFA15A",
           "#19d3f3",
           "#FF6692",
           "#B6E880",
           "#FF97FF",
           "#FECB52"
          ],
          "font": {
           "color": "#2a3f5f"
          },
          "geo": {
           "bgcolor": "white",
           "lakecolor": "white",
           "landcolor": "#E5ECF6",
           "showlakes": true,
           "showland": true,
           "subunitcolor": "white"
          },
          "hoverlabel": {
           "align": "left"
          },
          "hovermode": "closest",
          "mapbox": {
           "style": "light"
          },
          "paper_bgcolor": "white",
          "plot_bgcolor": "#E5ECF6",
          "polar": {
           "angularaxis": {
            "gridcolor": "white",
            "linecolor": "white",
            "ticks": ""
           },
           "bgcolor": "#E5ECF6",
           "radialaxis": {
            "gridcolor": "white",
            "linecolor": "white",
            "ticks": ""
           }
          },
          "scene": {
           "xaxis": {
            "backgroundcolor": "#E5ECF6",
            "gridcolor": "white",
            "gridwidth": 2,
            "linecolor": "white",
            "showbackground": true,
            "ticks": "",
            "zerolinecolor": "white"
           },
           "yaxis": {
            "backgroundcolor": "#E5ECF6",
            "gridcolor": "white",
            "gridwidth": 2,
            "linecolor": "white",
            "showbackground": true,
            "ticks": "",
            "zerolinecolor": "white"
           },
           "zaxis": {
            "backgroundcolor": "#E5ECF6",
            "gridcolor": "white",
            "gridwidth": 2,
            "linecolor": "white",
            "showbackground": true,
            "ticks": "",
            "zerolinecolor": "white"
           }
          },
          "shapedefaults": {
           "line": {
            "color": "#2a3f5f"
           }
          },
          "ternary": {
           "aaxis": {
            "gridcolor": "white",
            "linecolor": "white",
            "ticks": ""
           },
           "baxis": {
            "gridcolor": "white",
            "linecolor": "white",
            "ticks": ""
           },
           "bgcolor": "#E5ECF6",
           "caxis": {
            "gridcolor": "white",
            "linecolor": "white",
            "ticks": ""
           }
          },
          "title": {
           "x": 0.05
          },
          "xaxis": {
           "automargin": true,
           "gridcolor": "white",
           "linecolor": "white",
           "ticks": "",
           "title": {
            "standoff": 15
           },
           "zerolinecolor": "white",
           "zerolinewidth": 2
          },
          "yaxis": {
           "automargin": true,
           "gridcolor": "white",
           "linecolor": "white",
           "ticks": "",
           "title": {
            "standoff": 15
           },
           "zerolinecolor": "white",
           "zerolinewidth": 2
          }
         }
        }
       }
      },
      "text/html": [
       "<div>\n",
       "        \n",
       "        \n",
       "            <div id=\"adfb5cc6-117a-4c82-9946-5713ca41135f\" class=\"plotly-graph-div\" style=\"height:525px; width:100%;\"></div>\n",
       "            <script type=\"text/javascript\">\n",
       "                require([\"plotly\"], function(Plotly) {\n",
       "                    window.PLOTLYENV=window.PLOTLYENV || {};\n",
       "                    \n",
       "                if (document.getElementById(\"adfb5cc6-117a-4c82-9946-5713ca41135f\")) {\n",
       "                    Plotly.newPlot(\n",
       "                        'adfb5cc6-117a-4c82-9946-5713ca41135f',\n",
       "                        [{\"marker\": {\"color\": [2674369, 2233492, 1300900, 1016722, 1198594, 1015203, 462316, 545452, 447645, 542220, 562622, 619572, 514264, 343265, 366818, 396140, 426025, 283838, 231782, 304024, 282027, 304749, 284118, 264644, 214763, 191435, 209863, 261093, 146342, 169823, 186666, 169261, 129658, 173914, 179958, 113772, 133304, 158313, 127344, 127969, 97203, 124264, 99207, 103483, 113566, 104418, 135654, 104008, 135383, 96014, 185093, 155559, 85787, 114469, 78181, 81141, 89085, 94362, 101966, 84990, 69526, 94720, 82350, 107763, 83527, 74898, 93552, 64112, 85138, 82038, 119205, 107730, 93600, 70389, 59302, 86744]}, \"mode\": \"markers\", \"text\": [\"Drama|370\", \"Comedy|195\", \"Comedy,Drama|139\", \"Drama,Romance|132\", \"Comedy,Drama,Romance|116\", \"Comedy,Romance|85\", \"Horror|77\", \"Drama,Thriller|74\", \"Horror,Thriller|69\", \"Action,Crime,Drama|67\", \"Adventure,Animation,Comedy|65\", \"Documentary|64\", \"Crime,Drama,Thriller|62\", \"Thriller|53\", \"Action,Crime,Thriller|49\", \"Action,Adventure,Sci-Fi|41\", \"Action,Comedy,Crime|41\", \"Action,Adventure,Drama|36\", \"Action|36\", \"Crime,Drama|35\", \"Crime,Drama,Mystery|30\", \"Biography,Drama,History|30\", \"Biography,Drama|30\", \"Action,Adventure,Comedy|28\", \"Action,Thriller|28\", \"Horror,Mystery,Thriller|28\", \"Comedy,Horror|27\", \"Comedy,Crime,Drama|26\", \"Action,Adventure,Fantasy|25\", \"Crime,Thriller|22\", \"Family|22\", \"Action,Adventure,Animation|22\", \"Action,Horror,Sci-Fi|20\", \"Biography,Drama,Romance|20\", \"Action,Comedy|19\", \"Action,Drama|19\", \"Drama,Mystery,Thriller|19\", \"Action,Drama,History|19\", \"Action,Drama,Thriller|18\", \"Action,Sci-Fi,Thriller|18\", \"Drama,Horror,Thriller|16\", \"Action,Biography,Drama|15\", \"Action,Comedy,Horror|15\", \"Horror,Sci-Fi,Thriller|15\", \"Adventure,Family,Fantasy|15\", \"Drama,Family|14\", \"Adventure,Comedy,Drama|14\", \"Drama,War|14\", \"Adventure,Comedy,Family|14\", \"Mystery,Thriller|14\", \"Comedy,Crime|14\", \"Biography,Comedy,Drama|14\", \"Drama,Romance,Thriller|12\", \"Comedy,Drama,Fantasy|12\", \"Drama,Horror,Mystery|12\", \"Drama,Fantasy,Horror|12\", \"Adventure,Animation,Family|12\", \"Crime,Mystery,Thriller|12\", \"Adventure,Family|12\", \"Horror,Mystery|12\", \"Action,Adventure|12\", \"Drama,History,War|12\", \"Action,Adventure,Crime|11\", \"Comedy,Family|11\", \"Crime|11\", \"Drama,History|11\", \"Drama,Mystery,Romance|11\", \"Action,Horror|11\", \"Drama,Mystery|11\", \"Action,Adventure,Thriller|11\", \"Adventure,Comedy|10\", \"Biography,Crime,Drama|10\", \"Comedy,Drama,Music|10\", \"Adventure,Drama,Family|10\", \"Horror,Sci-Fi|10\", \"Drama,Music|10\"], \"type\": \"scatter\", \"x\": [9.460290908813477, 11.007804870605469, 10.412734031677246, 9.69115924835205, 10.046716690063477, 10.341435432434082, 10.09284782409668, 7.936368942260742, 8.546812057495117, 8.640873908996582, 11.323312759399414, 8.42799186706543, 8.489013671875, 8.990431785583496, 8.00713062286377, 7.555276870727539, 9.362468719482422, 9.483019828796387, 9.600522994995117, 9.351995468139648, 6.89603328704834, 8.106145858764648, 7.602902889251709, 10.18085765838623, 8.16970157623291, 8.108202934265137, 10.60511589050293, 9.595124244689941, 9.651269912719727, 9.054935455322266, 11.458499908447266, 11.510313034057617, 7.237006187438965, 7.147059917449951, 10.470017433166504, 9.494093894958496, 7.055622577667236, 9.095376014709473, 8.092535972595215, 7.4875006675720215, 9.945655822753906, 8.411850929260254, 10.226470947265625, 7.592021942138672, 9.736296653747559, 11.16412353515625, 10.087654113769531, 8.147038459777832, 11.060003280639648, 8.151128768920898, 10.562548637390137, 7.43375825881958, 9.622360229492188, 9.848675727844238, 7.556489944458008, 7.784582614898682, 11.548558235168457, 6.971018314361572, 11.005581855773926, 8.299382209777832, 9.41396713256836, 8.168731689453125, 6.8548784255981445, 11.329394340515137, 9.112998962402344, 9.276275634765625, 7.422724723815918, 7.517747402191162, 7.60706090927124, 7.132323741912842, 10.696842193603516, 7.675103187561035, 7.280023097991943, 11.574462890625, 10.15294075012207, 10.789301872253418], \"y\": [4.749056816101074, 5.251634120941162, 4.683163166046143, 4.219700336456299, 4.167155742645264, 4.36948299407959, 5.452825546264648, 5.47292947769165, 6.147788047790527, 7.06096076965332, 6.156756401062012, 8.667281150817871, 5.677186965942383, 6.270228385925293, 7.527872562408447, 7.740138053894043, 6.458834171295166, 8.537147521972656, 7.202342987060547, 5.282987117767334, 6.543146133422852, 8.708407402038574, 8.684380531311035, 7.075143814086914, 7.053020477294922, 5.9994916915893555, 5.820838451385498, 5.81218147277832, 8.450773239135742, 5.554795742034912, 5.7674407958984375, 6.451846599578857, 7.196524620056152, 8.481693267822266, 6.631635665893555, 7.884746551513672, 5.927026748657227, 8.553838729858398, 7.329297065734863, 7.431546211242676, 4.411564826965332, 8.138802528381348, 6.190195560455322, 6.979065418243408, 6.508795738220215, 4.908301830291748, 6.951588153839111, 7.94076681137085, 6.133703708648682, 5.307744979858398, 6.122313499450684, 8.419005393981934, 4.475668907165527, 4.875389575958252, 6.082704544067383, 5.751552581787109, 6.1226606369018555, 7.074862003326416, 6.530500888824463, 6.396979331970215, 8.23383903503418, 8.404322624206543, 7.217977523803711, 5.524867057800293, 5.430148124694824, 8.294602394104004, 5.591133117675781, 7.058823585510254, 5.257413864135742, 7.554435729980469, 5.822552680969238, 8.1525297164917, 8.525834083557129, 5.381102085113525, 5.920645236968994, 5.0642900466918945]}],\n",
       "                        {\"template\": {\"data\": {\"bar\": [{\"error_x\": {\"color\": \"#2a3f5f\"}, \"error_y\": {\"color\": \"#2a3f5f\"}, \"marker\": {\"line\": {\"color\": \"#E5ECF6\", \"width\": 0.5}}, \"type\": \"bar\"}], \"barpolar\": [{\"marker\": {\"line\": {\"color\": \"#E5ECF6\", \"width\": 0.5}}, \"type\": \"barpolar\"}], \"carpet\": [{\"aaxis\": {\"endlinecolor\": \"#2a3f5f\", \"gridcolor\": \"white\", \"linecolor\": \"white\", \"minorgridcolor\": \"white\", \"startlinecolor\": \"#2a3f5f\"}, \"baxis\": {\"endlinecolor\": \"#2a3f5f\", \"gridcolor\": \"white\", \"linecolor\": \"white\", \"minorgridcolor\": \"white\", \"startlinecolor\": \"#2a3f5f\"}, \"type\": \"carpet\"}], \"choropleth\": [{\"colorbar\": {\"outlinewidth\": 0, \"ticks\": \"\"}, \"type\": \"choropleth\"}], \"contour\": [{\"colorbar\": {\"outlinewidth\": 0, \"ticks\": \"\"}, \"colorscale\": [[0.0, \"#0d0887\"], [0.1111111111111111, \"#46039f\"], [0.2222222222222222, \"#7201a8\"], [0.3333333333333333, \"#9c179e\"], [0.4444444444444444, \"#bd3786\"], [0.5555555555555556, \"#d8576b\"], [0.6666666666666666, \"#ed7953\"], [0.7777777777777778, \"#fb9f3a\"], [0.8888888888888888, \"#fdca26\"], [1.0, \"#f0f921\"]], \"type\": \"contour\"}], \"contourcarpet\": [{\"colorbar\": {\"outlinewidth\": 0, \"ticks\": \"\"}, \"type\": \"contourcarpet\"}], \"heatmap\": [{\"colorbar\": {\"outlinewidth\": 0, \"ticks\": \"\"}, \"colorscale\": [[0.0, \"#0d0887\"], [0.1111111111111111, \"#46039f\"], [0.2222222222222222, \"#7201a8\"], [0.3333333333333333, \"#9c179e\"], [0.4444444444444444, \"#bd3786\"], [0.5555555555555556, \"#d8576b\"], [0.6666666666666666, \"#ed7953\"], [0.7777777777777778, \"#fb9f3a\"], [0.8888888888888888, \"#fdca26\"], [1.0, \"#f0f921\"]], \"type\": \"heatmap\"}], \"heatmapgl\": [{\"colorbar\": {\"outlinewidth\": 0, \"ticks\": \"\"}, \"colorscale\": [[0.0, \"#0d0887\"], [0.1111111111111111, \"#46039f\"], [0.2222222222222222, \"#7201a8\"], [0.3333333333333333, \"#9c179e\"], [0.4444444444444444, \"#bd3786\"], [0.5555555555555556, \"#d8576b\"], [0.6666666666666666, \"#ed7953\"], [0.7777777777777778, \"#fb9f3a\"], [0.8888888888888888, \"#fdca26\"], [1.0, \"#f0f921\"]], \"type\": \"heatmapgl\"}], \"histogram\": [{\"marker\": {\"colorbar\": {\"outlinewidth\": 0, \"ticks\": \"\"}}, \"type\": \"histogram\"}], \"histogram2d\": [{\"colorbar\": {\"outlinewidth\": 0, \"ticks\": \"\"}, \"colorscale\": [[0.0, \"#0d0887\"], [0.1111111111111111, \"#46039f\"], [0.2222222222222222, \"#7201a8\"], [0.3333333333333333, \"#9c179e\"], [0.4444444444444444, \"#bd3786\"], [0.5555555555555556, \"#d8576b\"], [0.6666666666666666, \"#ed7953\"], [0.7777777777777778, \"#fb9f3a\"], [0.8888888888888888, \"#fdca26\"], [1.0, \"#f0f921\"]], \"type\": \"histogram2d\"}], \"histogram2dcontour\": [{\"colorbar\": {\"outlinewidth\": 0, \"ticks\": \"\"}, \"colorscale\": [[0.0, \"#0d0887\"], [0.1111111111111111, \"#46039f\"], [0.2222222222222222, \"#7201a8\"], [0.3333333333333333, \"#9c179e\"], [0.4444444444444444, \"#bd3786\"], [0.5555555555555556, \"#d8576b\"], [0.6666666666666666, \"#ed7953\"], [0.7777777777777778, \"#fb9f3a\"], [0.8888888888888888, \"#fdca26\"], [1.0, \"#f0f921\"]], \"type\": \"histogram2dcontour\"}], \"mesh3d\": [{\"colorbar\": {\"outlinewidth\": 0, \"ticks\": \"\"}, \"type\": \"mesh3d\"}], \"parcoords\": [{\"line\": {\"colorbar\": {\"outlinewidth\": 0, \"ticks\": \"\"}}, \"type\": \"parcoords\"}], \"pie\": [{\"automargin\": true, \"type\": \"pie\"}], \"scatter\": [{\"marker\": {\"colorbar\": {\"outlinewidth\": 0, \"ticks\": \"\"}}, \"type\": \"scatter\"}], \"scatter3d\": [{\"line\": {\"colorbar\": {\"outlinewidth\": 0, \"ticks\": \"\"}}, \"marker\": {\"colorbar\": {\"outlinewidth\": 0, \"ticks\": \"\"}}, \"type\": \"scatter3d\"}], \"scattercarpet\": [{\"marker\": {\"colorbar\": {\"outlinewidth\": 0, \"ticks\": \"\"}}, \"type\": \"scattercarpet\"}], \"scattergeo\": [{\"marker\": {\"colorbar\": {\"outlinewidth\": 0, \"ticks\": \"\"}}, \"type\": \"scattergeo\"}], \"scattergl\": [{\"marker\": {\"colorbar\": {\"outlinewidth\": 0, \"ticks\": \"\"}}, \"type\": \"scattergl\"}], \"scattermapbox\": [{\"marker\": {\"colorbar\": {\"outlinewidth\": 0, \"ticks\": \"\"}}, \"type\": \"scattermapbox\"}], \"scatterpolar\": [{\"marker\": {\"colorbar\": {\"outlinewidth\": 0, \"ticks\": \"\"}}, \"type\": \"scatterpolar\"}], \"scatterpolargl\": [{\"marker\": {\"colorbar\": {\"outlinewidth\": 0, \"ticks\": \"\"}}, \"type\": \"scatterpolargl\"}], \"scatterternary\": [{\"marker\": {\"colorbar\": {\"outlinewidth\": 0, \"ticks\": \"\"}}, \"type\": \"scatterternary\"}], \"surface\": [{\"colorbar\": {\"outlinewidth\": 0, \"ticks\": \"\"}, \"colorscale\": [[0.0, \"#0d0887\"], [0.1111111111111111, \"#46039f\"], [0.2222222222222222, \"#7201a8\"], [0.3333333333333333, \"#9c179e\"], [0.4444444444444444, \"#bd3786\"], [0.5555555555555556, \"#d8576b\"], [0.6666666666666666, \"#ed7953\"], [0.7777777777777778, \"#fb9f3a\"], [0.8888888888888888, \"#fdca26\"], [1.0, \"#f0f921\"]], \"type\": \"surface\"}], \"table\": [{\"cells\": {\"fill\": {\"color\": \"#EBF0F8\"}, \"line\": {\"color\": \"white\"}}, \"header\": {\"fill\": {\"color\": \"#C8D4E3\"}, \"line\": {\"color\": \"white\"}}, \"type\": \"table\"}]}, \"layout\": {\"annotationdefaults\": {\"arrowcolor\": \"#2a3f5f\", \"arrowhead\": 0, \"arrowwidth\": 1}, \"coloraxis\": {\"colorbar\": {\"outlinewidth\": 0, \"ticks\": \"\"}}, \"colorscale\": {\"diverging\": [[0, \"#8e0152\"], [0.1, \"#c51b7d\"], [0.2, \"#de77ae\"], [0.3, \"#f1b6da\"], [0.4, \"#fde0ef\"], [0.5, \"#f7f7f7\"], [0.6, \"#e6f5d0\"], [0.7, \"#b8e186\"], [0.8, \"#7fbc41\"], [0.9, \"#4d9221\"], [1, \"#276419\"]], \"sequential\": [[0.0, \"#0d0887\"], [0.1111111111111111, \"#46039f\"], [0.2222222222222222, \"#7201a8\"], [0.3333333333333333, \"#9c179e\"], [0.4444444444444444, \"#bd3786\"], [0.5555555555555556, \"#d8576b\"], [0.6666666666666666, \"#ed7953\"], [0.7777777777777778, \"#fb9f3a\"], [0.8888888888888888, \"#fdca26\"], [1.0, \"#f0f921\"]], \"sequentialminus\": [[0.0, \"#0d0887\"], [0.1111111111111111, \"#46039f\"], [0.2222222222222222, \"#7201a8\"], [0.3333333333333333, \"#9c179e\"], [0.4444444444444444, \"#bd3786\"], [0.5555555555555556, \"#d8576b\"], [0.6666666666666666, \"#ed7953\"], [0.7777777777777778, \"#fb9f3a\"], [0.8888888888888888, \"#fdca26\"], [1.0, \"#f0f921\"]]}, \"colorway\": [\"#636efa\", \"#EF553B\", \"#00cc96\", \"#ab63fa\", \"#FFA15A\", \"#19d3f3\", \"#FF6692\", \"#B6E880\", \"#FF97FF\", \"#FECB52\"], \"font\": {\"color\": \"#2a3f5f\"}, \"geo\": {\"bgcolor\": \"white\", \"lakecolor\": \"white\", \"landcolor\": \"#E5ECF6\", \"showlakes\": true, \"showland\": true, \"subunitcolor\": \"white\"}, \"hoverlabel\": {\"align\": \"left\"}, \"hovermode\": \"closest\", \"mapbox\": {\"style\": \"light\"}, \"paper_bgcolor\": \"white\", \"plot_bgcolor\": \"#E5ECF6\", \"polar\": {\"angularaxis\": {\"gridcolor\": \"white\", \"linecolor\": \"white\", \"ticks\": \"\"}, \"bgcolor\": \"#E5ECF6\", \"radialaxis\": {\"gridcolor\": \"white\", \"linecolor\": \"white\", \"ticks\": \"\"}}, \"scene\": {\"xaxis\": {\"backgroundcolor\": \"#E5ECF6\", \"gridcolor\": \"white\", \"gridwidth\": 2, \"linecolor\": \"white\", \"showbackground\": true, \"ticks\": \"\", \"zerolinecolor\": \"white\"}, \"yaxis\": {\"backgroundcolor\": \"#E5ECF6\", \"gridcolor\": \"white\", \"gridwidth\": 2, \"linecolor\": \"white\", \"showbackground\": true, \"ticks\": \"\", \"zerolinecolor\": \"white\"}, \"zaxis\": {\"backgroundcolor\": \"#E5ECF6\", \"gridcolor\": \"white\", \"gridwidth\": 2, \"linecolor\": \"white\", \"showbackground\": true, \"ticks\": \"\", \"zerolinecolor\": \"white\"}}, \"shapedefaults\": {\"line\": {\"color\": \"#2a3f5f\"}}, \"ternary\": {\"aaxis\": {\"gridcolor\": \"white\", \"linecolor\": \"white\", \"ticks\": \"\"}, \"baxis\": {\"gridcolor\": \"white\", \"linecolor\": \"white\", \"ticks\": \"\"}, \"bgcolor\": \"#E5ECF6\", \"caxis\": {\"gridcolor\": \"white\", \"linecolor\": \"white\", \"ticks\": \"\"}}, \"title\": {\"x\": 0.05}, \"xaxis\": {\"automargin\": true, \"gridcolor\": \"white\", \"linecolor\": \"white\", \"ticks\": \"\", \"title\": {\"standoff\": 15}, \"zerolinecolor\": \"white\", \"zerolinewidth\": 2}, \"yaxis\": {\"automargin\": true, \"gridcolor\": \"white\", \"linecolor\": \"white\", \"ticks\": \"\", \"title\": {\"standoff\": 15}, \"zerolinecolor\": \"white\", \"zerolinewidth\": 2}}}},\n",
       "                        {\"responsive\": true}\n",
       "                    ).then(function(){\n",
       "                            \n",
       "var gd = document.getElementById('adfb5cc6-117a-4c82-9946-5713ca41135f');\n",
       "var x = new MutationObserver(function (mutations, observer) {{\n",
       "        var display = window.getComputedStyle(gd).display;\n",
       "        if (!display || display === 'none') {{\n",
       "            console.log([gd, 'removed!']);\n",
       "            Plotly.purge(gd);\n",
       "            observer.disconnect();\n",
       "        }}\n",
       "}});\n",
       "\n",
       "// Listen for the removal of the full notebook cells\n",
       "var notebookContainer = gd.closest('#notebook-container');\n",
       "if (notebookContainer) {{\n",
       "    x.observe(notebookContainer, {childList: true});\n",
       "}}\n",
       "\n",
       "// Listen for the clearing of the current output cell\n",
       "var outputEl = gd.closest('.output');\n",
       "if (outputEl) {{\n",
       "    x.observe(outputEl, {childList: true});\n",
       "}}\n",
       "\n",
       "                        })\n",
       "                };\n",
       "                });\n",
       "            </script>\n",
       "        </div>"
      ]
     },
     "metadata": {},
     "output_type": "display_data"
    }
   ],
   "source": [
    "fig = go.Figure(data=go.Scatter(x=Xr[:, 0],\n",
    "                                y=Xr[:, 1],\n",
    "                                mode='markers',\n",
    "                                text=[f'{label}|{n_token}' for label, n_token in zip(aggr.label, aggr.n_texts)],\n",
    "                                marker_color=aggr.n_tokens))\n",
    "\n",
    "\n",
    "fig.show()"
   ]
  },
  {
   "cell_type": "code",
   "execution_count": 152,
   "metadata": {},
   "outputs": [
    {
     "data": {
      "text/plain": [
       "(0           Drama\n",
       " 1          Comedy\n",
       " 6          Horror\n",
       " 11    Documentary\n",
       " 13       Thriller\n",
       " 18         Action\n",
       " 30         Family\n",
       " 64          Crime\n",
       " Name: label, dtype: object,\n",
       " 8)"
      ]
     },
     "execution_count": 152,
     "metadata": {},
     "output_type": "execute_result"
    }
   ],
   "source": [
    "single_labels = aggr.label[aggr.label.str.split(',').apply(lambda x: len(x)) == 1]\n",
    "n_single_labels = len(single_labels)\n",
    "single_labels, n_single_labels"
   ]
  },
  {
   "cell_type": "code",
   "execution_count": 153,
   "metadata": {},
   "outputs": [],
   "source": [
    "from sklearn.mixture import GaussianMixture\n",
    "\n",
    "clu = GaussianMixture(n_components=n_single_labels)\n",
    "Xpca = UMAP(n_components=3).fit_transform(X)\n",
    "\n",
    "cluster = clu.fit_predict(Xpca)\n",
    "probs = clu.predict_proba(Xpca)"
   ]
  },
  {
   "cell_type": "code",
   "execution_count": 154,
   "metadata": {},
   "outputs": [
    {
     "data": {
      "image/png": "[encoded data removed]",
      "text/plain": [
       "<Figure size 432x288 with 1 Axes>"
      ]
     },
     "metadata": {
      "needs_background": "light"
     },
     "output_type": "display_data"
    }
   ],
   "source": [
    "cluster_counter = Counter(cluster)\n",
    "plt.bar(cluster_counter.keys(), cluster_counter.values())\n",
    "plt.show()"
   ]
  },
  {
   "cell_type": "code",
   "execution_count": 155,
   "metadata": {},
   "outputs": [
    {
     "data": {
      "text/plain": [
       "array([6, 7, 6, 6, 6, 6, 3, 2, 2, 0, 3, 5, 2, 2, 0, 0, 1, 5, 1, 1, 0, 5,\n",
       "       4, 1, 0, 2, 3, 1, 5, 1, 3, 3, 0, 4, 1, 5, 2, 5, 0, 0, 6, 4, 3, 0,\n",
       "       1, 7, 1, 0, 3, 2, 1, 4, 6, 6, 2, 2, 3, 0, 3, 2, 5, 0, 0, 7, 1, 5,\n",
       "       2, 0, 2, 0, 3, 4, 4, 7, 3, 7])"
      ]
     },
     "execution_count": 155,
     "metadata": {},
     "output_type": "execute_result"
    }
   ],
   "source": [
    "probs.argmax(axis=1)"
   ]
  },
  {
   "cell_type": "code",
   "execution_count": 156,
   "metadata": {},
   "outputs": [
    {
     "data": {
      "application/vnd.plotly.v1+json": {
       "config": {
        "plotlyServerURL": "https://plot.ly"
       },
       "data": [
        {
         "marker": {
          "color": [
           "#F6F926",
           "#FF9616",
           "#F6F926",
           "#F6F926",
           "#F6F926",
           "#F6F926",
           "#FED4C4",
           "#6A76FC",
           "#6A76FC",
           "#FD3216",
           "#FED4C4",
           "#0DF9FF",
           "#6A76FC",
           "#6A76FC",
           "#FD3216",
           "#FD3216",
           "#00FE35",
           "#0DF9FF",
           "#00FE35",
           "#00FE35",
           "#FD3216",
           "#0DF9FF",
           "#FE00CE",
           "#00FE35",
           "#FD3216",
           "#6A76FC",
           "#FED4C4",
           "#00FE35",
           "#0DF9FF",
           "#00FE35",
           "#FED4C4",
           "#FED4C4",
           "#FD3216",
           "#FE00CE",
           "#00FE35",
           "#0DF9FF",
           "#6A76FC",
           "#0DF9FF",
           "#FD3216",
           "#FD3216",
           "#F6F926",
           "#FE00CE",
           "#FED4C4",
           "#FD3216",
           "#00FE35",
           "#FF9616",
           "#00FE35",
           "#FD3216",
           "#FED4C4",
           "#6A76FC",
           "#00FE35",
           "#FE00CE",
           "#F6F926",
           "#F6F926",
           "#6A76FC",
           "#6A76FC",
           "#FED4C4",
           "#FD3216",
           "#FED4C4",
           "#6A76FC",
           "#0DF9FF",
           "#FD3216",
           "#FD3216",
           "#FF9616",
           "#00FE35",
           "#0DF9FF",
           "#6A76FC",
           "#FD3216",
           "#6A76FC",
           "#FD3216",
           "#FED4C4",
           "#FE00CE",
           "#FE00CE",
           "#FF9616",
           "#FED4C4",
           "#FF9616"
          ]
         },
         "mode": "markers",
         "text": [
          "Drama|370",
          "Comedy|195",
          "Comedy,Drama|139",
          "Drama,Romance|132",
          "Comedy,Drama,Romance|116",
          "Comedy,Romance|85",
          "Horror|77",
          "Drama,Thriller|74",
          "Horror,Thriller|69",
          "Action,Crime,Drama|67",
          "Adventure,Animation,Comedy|65",
          "Documentary|64",
          "Crime,Drama,Thriller|62",
          "Thriller|53",
          "Action,Crime,Thriller|49",
          "Action,Adventure,Sci-Fi|41",
          "Action,Comedy,Crime|41",
          "Action,Adventure,Drama|36",
          "Action|36",
          "Crime,Drama|35",
          "Crime,Drama,Mystery|30",
          "Biography,Drama,History|30",
          "Biography,Drama|30",
          "Action,Adventure,Comedy|28",
          "Action,Thriller|28",
          "Horror,Mystery,Thriller|28",
          "Comedy,Horror|27",
          "Comedy,Crime,Drama|26",
          "Action,Adventure,Fantasy|25",
          "Crime,Thriller|22",
          "Family|22",
          "Action,Adventure,Animation|22",
          "Action,Horror,Sci-Fi|20",
          "Biography,Drama,Romance|20",
          "Action,Comedy|19",
          "Action,Drama|19",
          "Drama,Mystery,Thriller|19",
          "Action,Drama,History|19",
          "Action,Drama,Thriller|18",
          "Action,Sci-Fi,Thriller|18",
          "Drama,Horror,Thriller|16",
          "Action,Biography,Drama|15",
          "Action,Comedy,Horror|15",
          "Horror,Sci-Fi,Thriller|15",
          "Adventure,Family,Fantasy|15",
          "Drama,Family|14",
          "Adventure,Comedy,Drama|14",
          "Drama,War|14",
          "Adventure,Comedy,Family|14",
          "Mystery,Thriller|14",
          "Comedy,Crime|14",
          "Biography,Comedy,Drama|14",
          "Drama,Romance,Thriller|12",
          "Comedy,Drama,Fantasy|12",
          "Drama,Horror,Mystery|12",
          "Drama,Fantasy,Horror|12",
          "Adventure,Animation,Family|12",
          "Crime,Mystery,Thriller|12",
          "Adventure,Family|12",
          "Horror,Mystery|12",
          "Action,Adventure|12",
          "Drama,History,War|12",
          "Action,Adventure,Crime|11",
          "Comedy,Family|11",
          "Crime|11",
          "Drama,History|11",
          "Drama,Mystery,Romance|11",
          "Action,Horror|11",
          "Drama,Mystery|11",
          "Action,Adventure,Thriller|11",
          "Adventure,Comedy|10",
          "Biography,Crime,Drama|10",
          "Comedy,Drama,Music|10",
          "Adventure,Drama,Family|10",
          "Horror,Sci-Fi|10",
          "Drama,Music|10"
         ],
         "type": "scatter",
         "x": [
          9.460290908813477,
          11.007804870605469,
          10.412734031677246,
          9.69115924835205,
          10.046716690063477,
          10.341435432434082,
          10.09284782409668,
          7.936368942260742,
          8.546812057495117,
          8.640873908996582,
          11.323312759399414,
          8.42799186706543,
          8.489013671875,
          8.990431785583496,
          8.00713062286377,
          7.555276870727539,
          9.362468719482422,
          9.483019828796387,
          9.600522994995117,
          9.351995468139648,
          6.89603328704834,
          8.106145858764648,
          7.602902889251709,
          10.18085765838623,
          8.16970157623291,
          8.108202934265137,
          10.60511589050293,
          9.595124244689941,
          9.651269912719727,
          9.054935455322266,
          11.458499908447266,
          11.510313034057617,
          7.237006187438965,
          7.147059917449951,
          10.470017433166504,
          9.494093894958496,
          7.055622577667236,
          9.095376014709473,
          8.092535972595215,
          7.4875006675720215,
          9.945655822753906,
          8.411850929260254,
          10.226470947265625,
          7.592021942138672,
          9.736296653747559,
          11.16412353515625,
          10.087654113769531,
          8.147038459777832,
          11.060003280639648,
          8.151128768920898,
          10.562548637390137,
          7.43375825881958,
          9.622360229492188,
          9.848675727844238,
          7.556489944458008,
          7.784582614898682,
          11.548558235168457,
          6.971018314361572,
          11.005581855773926,
          8.299382209777832,
          9.41396713256836,
          8.168731689453125,
          6.8548784255981445,
          11.329394340515137,
          9.112998962402344,
          9.276275634765625,
          7.422724723815918,
          7.517747402191162,
          7.60706090927124,
          7.132323741912842,
          10.696842193603516,
          7.675103187561035,
          7.280023097991943,
          11.574462890625,
          10.15294075012207,
          10.789301872253418
         ],
         "y": [
          4.749056816101074,
          5.251634120941162,
          4.683163166046143,
          4.219700336456299,
          4.167155742645264,
          4.36948299407959,
          5.452825546264648,
          5.47292947769165,
          6.147788047790527,
          7.06096076965332,
          6.156756401062012,
          8.667281150817871,
          5.677186965942383,
          6.270228385925293,
          7.527872562408447,
          7.740138053894043,
          6.458834171295166,
          8.537147521972656,
          7.202342987060547,
          5.282987117767334,
          6.543146133422852,
          8.708407402038574,
          8.684380531311035,
          7.075143814086914,
          7.053020477294922,
          5.9994916915893555,
          5.820838451385498,
          5.81218147277832,
          8.450773239135742,
          5.554795742034912,
          5.7674407958984375,
          6.451846599578857,
          7.196524620056152,
          8.481693267822266,
          6.631635665893555,
          7.884746551513672,
          5.927026748657227,
          8.553838729858398,
          7.329297065734863,
          7.431546211242676,
          4.411564826965332,
          8.138802528381348,
          6.190195560455322,
          6.979065418243408,
          6.508795738220215,
          4.908301830291748,
          6.951588153839111,
          7.94076681137085,
          6.133703708648682,
          5.307744979858398,
          6.122313499450684,
          8.419005393981934,
          4.475668907165527,
          4.875389575958252,
          6.082704544067383,
          5.751552581787109,
          6.1226606369018555,
          7.074862003326416,
          6.530500888824463,
          6.396979331970215,
          8.23383903503418,
          8.404322624206543,
          7.217977523803711,
          5.524867057800293,
          5.430148124694824,
          8.294602394104004,
          5.591133117675781,
          7.058823585510254,
          5.257413864135742,
          7.554435729980469,
          5.822552680969238,
          8.1525297164917,
          8.525834083557129,
          5.381102085113525,
          5.920645236968994,
          5.0642900466918945
         ]
        }
       ],
       "layout": {
        "template": {
         "data": {
          "bar": [
           {
            "error_x": {
             "color": "#2a3f5f"
            },
            "error_y": {
             "color": "#2a3f5f"
            },
            "marker": {
             "line": {
              "color": "#E5ECF6",
              "width": 0.5
             }
            },
            "type": "bar"
           }
          ],
          "barpolar": [
           {
            "marker": {
             "line": {
              "color": "#E5ECF6",
              "width": 0.5
             }
            },
            "type": "barpolar"
           }
          ],
          "carpet": [
           {
            "aaxis": {
             "endlinecolor": "#2a3f5f",
             "gridcolor": "white",
             "linecolor": "white",
             "minorgridcolor": "white",
             "startlinecolor": "#2a3f5f"
            },
            "baxis": {
             "endlinecolor": "#2a3f5f",
             "gridcolor": "white",
             "linecolor": "white",
             "minorgridcolor": "white",
             "startlinecolor": "#2a3f5f"
            },
            "type": "carpet"
           }
          ],
          "choropleth": [
           {
            "colorbar": {
             "outlinewidth": 0,
             "ticks": ""
            },
            "type": "choropleth"
           }
          ],
          "contour": [
           {
            "colorbar": {
             "outlinewidth": 0,
             "ticks": ""
            },
            "colorscale": [
             [
              0,
              "#0d0887"
             ],
             [
              0.1111111111111111,
              "#46039f"
             ],
             [
              0.2222222222222222,
              "#7201a8"
             ],
             [
              0.3333333333333333,
              "#9c179e"
             ],
             [
              0.4444444444444444,
              "#bd3786"
             ],
             [
              0.5555555555555556,
              "#d8576b"
             ],
             [
              0.6666666666666666,
              "#ed7953"
             ],
             [
              0.7777777777777778,
              "#fb9f3a"
             ],
             [
              0.8888888888888888,
              "#fdca26"
             ],
             [
              1,
              "#f0f921"
             ]
            ],
            "type": "contour"
           }
          ],
          "contourcarpet": [
           {
            "colorbar": {
             "outlinewidth": 0,
             "ticks": ""
            },
            "type": "contourcarpet"
           }
          ],
          "heatmap": [
           {
            "colorbar": {
             "outlinewidth": 0,
             "ticks": ""
            },
            "colorscale": [
             [
              0,
              "#0d0887"
             ],
             [
              0.1111111111111111,
              "#46039f"
             ],
             [
              0.2222222222222222,
              "#7201a8"
             ],
             [
              0.3333333333333333,
              "#9c179e"
             ],
             [
              0.4444444444444444,
              "#bd3786"
             ],
             [
              0.5555555555555556,
              "#d8576b"
             ],
             [
              0.6666666666666666,
              "#ed7953"
             ],
             [
              0.7777777777777778,
              "#fb9f3a"
             ],
             [
              0.8888888888888888,
              "#fdca26"
             ],
             [
              1,
              "#f0f921"
             ]
            ],
            "type": "heatmap"
           }
          ],
          "heatmapgl": [
           {
            "colorbar": {
             "outlinewidth": 0,
             "ticks": ""
            },
            "colorscale": [
             [
              0,
              "#0d0887"
             ],
             [
              0.1111111111111111,
              "#46039f"
             ],
             [
              0.2222222222222222,
              "#7201a8"
             ],
             [
              0.3333333333333333,
              "#9c179e"
             ],
             [
              0.4444444444444444,
              "#bd3786"
             ],
             [
              0.5555555555555556,
              "#d8576b"
             ],
             [
              0.6666666666666666,
              "#ed7953"
             ],
             [
              0.7777777777777778,
              "#fb9f3a"
             ],
             [
              0.8888888888888888,
              "#fdca26"
             ],
             [
              1,
              "#f0f921"
             ]
            ],
            "type": "heatmapgl"
           }
          ],
          "histogram": [
           {
            "marker": {
             "colorbar": {
              "outlinewidth": 0,
              "ticks": ""
             }
            },
            "type": "histogram"
           }
          ],
          "histogram2d": [
           {
            "colorbar": {
             "outlinewidth": 0,
             "ticks": ""
            },
            "colorscale": [
             [
              0,
              "#0d0887"
             ],
             [
              0.1111111111111111,
              "#46039f"
             ],
             [
              0.2222222222222222,
              "#7201a8"
             ],
             [
              0.3333333333333333,
              "#9c179e"
             ],
             [
              0.4444444444444444,
              "#bd3786"
             ],
             [
              0.5555555555555556,
              "#d8576b"
             ],
             [
              0.6666666666666666,
              "#ed7953"
             ],
             [
              0.7777777777777778,
              "#fb9f3a"
             ],
             [
              0.8888888888888888,
              "#fdca26"
             ],
             [
              1,
              "#f0f921"
             ]
            ],
            "type": "histogram2d"
           }
          ],
          "histogram2dcontour": [
           {
            "colorbar": {
             "outlinewidth": 0,
             "ticks": ""
            },
            "colorscale": [
             [
              0,
              "#0d0887"
             ],
             [
              0.1111111111111111,
              "#46039f"
             ],
             [
              0.2222222222222222,
              "#7201a8"
             ],
             [
              0.3333333333333333,
              "#9c179e"
             ],
             [
              0.4444444444444444,
              "#bd3786"
             ],
             [
              0.5555555555555556,
              "#d8576b"
             ],
             [
              0.6666666666666666,
              "#ed7953"
             ],
             [
              0.7777777777777778,
              "#fb9f3a"
             ],
             [
              0.8888888888888888,
              "#fdca26"
             ],
             [
              1,
              "#f0f921"
             ]
            ],
            "type": "histogram2dcontour"
           }
          ],
          "mesh3d": [
           {
            "colorbar": {
             "outlinewidth": 0,
             "ticks": ""
            },
            "type": "mesh3d"
           }
          ],
          "parcoords": [
           {
            "line": {
             "colorbar": {
              "outlinewidth": 0,
              "ticks": ""
             }
            },
            "type": "parcoords"
           }
          ],
          "pie": [
           {
            "automargin": true,
            "type": "pie"
           }
          ],
          "scatter": [
           {
            "marker": {
             "colorbar": {
              "outlinewidth": 0,
              "ticks": ""
             }
            },
            "type": "scatter"
           }
          ],
          "scatter3d": [
           {
            "line": {
             "colorbar": {
              "outlinewidth": 0,
              "ticks": ""
             }
            },
            "marker": {
             "colorbar": {
              "outlinewidth": 0,
              "ticks": ""
             }
            },
            "type": "scatter3d"
           }
          ],
          "scattercarpet": [
           {
            "marker": {
             "colorbar": {
              "outlinewidth": 0,
              "ticks": ""
             }
            },
            "type": "scattercarpet"
           }
          ],
          "scattergeo": [
           {
            "marker": {
             "colorbar": {
              "outlinewidth": 0,
              "ticks": ""
             }
            },
            "type": "scattergeo"
           }
          ],
          "scattergl": [
           {
            "marker": {
             "colorbar": {
              "outlinewidth": 0,
              "ticks": ""
             }
            },
            "type": "scattergl"
           }
          ],
          "scattermapbox": [
           {
            "marker": {
             "colorbar": {
              "outlinewidth": 0,
              "ticks": ""
             }
            },
            "type": "scattermapbox"
           }
          ],
          "scatterpolar": [
           {
            "marker": {
             "colorbar": {
              "outlinewidth": 0,
              "ticks": ""
             }
            },
            "type": "scatterpolar"
           }
          ],
          "scatterpolargl": [
           {
            "marker": {
             "colorbar": {
              "outlinewidth": 0,
              "ticks": ""
             }
            },
            "type": "scatterpolargl"
           }
          ],
          "scatterternary": [
           {
            "marker": {
             "colorbar": {
              "outlinewidth": 0,
              "ticks": ""
             }
            },
            "type": "scatterternary"
           }
          ],
          "surface": [
           {
            "colorbar": {
             "outlinewidth": 0,
             "ticks": ""
            },
            "colorscale": [
             [
              0,
              "#0d0887"
             ],
             [
              0.1111111111111111,
              "#46039f"
             ],
             [
              0.2222222222222222,
              "#7201a8"
             ],
             [
              0.3333333333333333,
              "#9c179e"
             ],
             [
              0.4444444444444444,
              "#bd3786"
             ],
             [
              0.5555555555555556,
              "#d8576b"
             ],
             [
              0.6666666666666666,
              "#ed7953"
             ],
             [
              0.7777777777777778,
              "#fb9f3a"
             ],
             [
              0.8888888888888888,
              "#fdca26"
             ],
             [
              1,
              "#f0f921"
             ]
            ],
            "type": "surface"
           }
          ],
          "table": [
           {
            "cells": {
             "fill": {
              "color": "#EBF0F8"
             },
             "line": {
              "color": "white"
             }
            },
            "header": {
             "fill": {
              "color": "#C8D4E3"
             },
             "line": {
              "color": "white"
             }
            },
            "type": "table"
           }
          ]
         },
         "layout": {
          "annotationdefaults": {
           "arrowcolor": "#2a3f5f",
           "arrowhead": 0,
           "arrowwidth": 1
          },
          "coloraxis": {
           "colorbar": {
            "outlinewidth": 0,
            "ticks": ""
           }
          },
          "colorscale": {
           "diverging": [
            [
             0,
             "#8e0152"
            ],
            [
             0.1,
             "#c51b7d"
            ],
            [
             0.2,
             "#de77ae"
            ],
            [
             0.3,
             "#f1b6da"
            ],
            [
             0.4,
             "#fde0ef"
            ],
            [
             0.5,
             "#f7f7f7"
            ],
            [
             0.6,
             "#e6f5d0"
            ],
            [
             0.7,
             "#b8e186"
            ],
            [
             0.8,
             "#7fbc41"
            ],
            [
             0.9,
             "#4d9221"
            ],
            [
             1,
             "#276419"
            ]
           ],
           "sequential": [
            [
             0,
             "#0d0887"
            ],
            [
             0.1111111111111111,
             "#46039f"
            ],
            [
             0.2222222222222222,
             "#7201a8"
            ],
            [
             0.3333333333333333,
             "#9c179e"
            ],
            [
             0.4444444444444444,
             "#bd3786"
            ],
            [
             0.5555555555555556,
             "#d8576b"
            ],
            [
             0.6666666666666666,
             "#ed7953"
            ],
            [
             0.7777777777777778,
             "#fb9f3a"
            ],
            [
             0.8888888888888888,
             "#fdca26"
            ],
            [
             1,
             "#f0f921"
            ]
           ],
           "sequentialminus": [
            [
             0,
             "#0d0887"
            ],
            [
             0.1111111111111111,
             "#46039f"
            ],
            [
             0.2222222222222222,
             "#7201a8"
            ],
            [
             0.3333333333333333,
             "#9c179e"
            ],
            [
             0.4444444444444444,
             "#bd3786"
            ],
            [
             0.5555555555555556,
             "#d8576b"
            ],
            [
             0.6666666666666666,
             "#ed7953"
            ],
            [
             0.7777777777777778,
             "#fb9f3a"
            ],
            [
             0.8888888888888888,
             "#fdca26"
            ],
            [
             1,
             "#f0f921"
            ]
           ]
          },
          "colorway": [
           "#636efa",
           "#EF553B",
           "#00cc96",
           "#ab63fa",
           "#FFA15A",
           "#19d3f3",
           "#FF6692",
           "#B6E880",
           "#FF97FF",
           "#FECB52"
          ],
          "font": {
           "color": "#2a3f5f"
          },
          "geo": {
           "bgcolor": "white",
           "lakecolor": "white",
           "landcolor": "#E5ECF6",
           "showlakes": true,
           "showland": true,
           "subunitcolor": "white"
          },
          "hoverlabel": {
           "align": "left"
          },
          "hovermode": "closest",
          "mapbox": {
           "style": "light"
          },
          "paper_bgcolor": "white",
          "plot_bgcolor": "#E5ECF6",
          "polar": {
           "angularaxis": {
            "gridcolor": "white",
            "linecolor": "white",
            "ticks": ""
           },
           "bgcolor": "#E5ECF6",
           "radialaxis": {
            "gridcolor": "white",
            "linecolor": "white",
            "ticks": ""
           }
          },
          "scene": {
           "xaxis": {
            "backgroundcolor": "#E5ECF6",
            "gridcolor": "white",
            "gridwidth": 2,
            "linecolor": "white",
            "showbackground": true,
            "ticks": "",
            "zerolinecolor": "white"
           },
           "yaxis": {
            "backgroundcolor": "#E5ECF6",
            "gridcolor": "white",
            "gridwidth": 2,
            "linecolor": "white",
            "showbackground": true,
            "ticks": "",
            "zerolinecolor": "white"
           },
           "zaxis": {
            "backgroundcolor": "#E5ECF6",
            "gridcolor": "white",
            "gridwidth": 2,
            "linecolor": "white",
            "showbackground": true,
            "ticks": "",
            "zerolinecolor": "white"
           }
          },
          "shapedefaults": {
           "line": {
            "color": "#2a3f5f"
           }
          },
          "ternary": {
           "aaxis": {
            "gridcolor": "white",
            "linecolor": "white",
            "ticks": ""
           },
           "baxis": {
            "gridcolor": "white",
            "linecolor": "white",
            "ticks": ""
           },
           "bgcolor": "#E5ECF6",
           "caxis": {
            "gridcolor": "white",
            "linecolor": "white",
            "ticks": ""
           }
          },
          "title": {
           "x": 0.05
          },
          "xaxis": {
           "automargin": true,
           "gridcolor": "white",
           "linecolor": "white",
           "ticks": "",
           "title": {
            "standoff": 15
           },
           "zerolinecolor": "white",
           "zerolinewidth": 2
          },
          "yaxis": {
           "automargin": true,
           "gridcolor": "white",
           "linecolor": "white",
           "ticks": "",
           "title": {
            "standoff": 15
           },
           "zerolinecolor": "white",
           "zerolinewidth": 2
          }
         }
        }
       }
      },
      "text/html": [
       "<div>\n",
       "        \n",
       "        \n",
       "            <div id=\"66c6c939-9ff2-4a88-b8a8-d7c026fe305c\" class=\"plotly-graph-div\" style=\"height:525px; width:100%;\"></div>\n",
       "            <script type=\"text/javascript\">\n",
       "                require([\"plotly\"], function(Plotly) {\n",
       "                    window.PLOTLYENV=window.PLOTLYENV || {};\n",
       "                    \n",
       "                if (document.getElementById(\"66c6c939-9ff2-4a88-b8a8-d7c026fe305c\")) {\n",
       "                    Plotly.newPlot(\n",
       "                        '66c6c939-9ff2-4a88-b8a8-d7c026fe305c',\n",
       "                        [{\"marker\": {\"color\": [\"#F6F926\", \"#FF9616\", \"#F6F926\", \"#F6F926\", \"#F6F926\", \"#F6F926\", \"#FED4C4\", \"#6A76FC\", \"#6A76FC\", \"#FD3216\", \"#FED4C4\", \"#0DF9FF\", \"#6A76FC\", \"#6A76FC\", \"#FD3216\", \"#FD3216\", \"#00FE35\", \"#0DF9FF\", \"#00FE35\", \"#00FE35\", \"#FD3216\", \"#0DF9FF\", \"#FE00CE\", \"#00FE35\", \"#FD3216\", \"#6A76FC\", \"#FED4C4\", \"#00FE35\", \"#0DF9FF\", \"#00FE35\", \"#FED4C4\", \"#FED4C4\", \"#FD3216\", \"#FE00CE\", \"#00FE35\", \"#0DF9FF\", \"#6A76FC\", \"#0DF9FF\", \"#FD3216\", \"#FD3216\", \"#F6F926\", \"#FE00CE\", \"#FED4C4\", \"#FD3216\", \"#00FE35\", \"#FF9616\", \"#00FE35\", \"#FD3216\", \"#FED4C4\", \"#6A76FC\", \"#00FE35\", \"#FE00CE\", \"#F6F926\", \"#F6F926\", \"#6A76FC\", \"#6A76FC\", \"#FED4C4\", \"#FD3216\", \"#FED4C4\", \"#6A76FC\", \"#0DF9FF\", \"#FD3216\", \"#FD3216\", \"#FF9616\", \"#00FE35\", \"#0DF9FF\", \"#6A76FC\", \"#FD3216\", \"#6A76FC\", \"#FD3216\", \"#FED4C4\", \"#FE00CE\", \"#FE00CE\", \"#FF9616\", \"#FED4C4\", \"#FF9616\"]}, \"mode\": \"markers\", \"text\": [\"Drama|370\", \"Comedy|195\", \"Comedy,Drama|139\", \"Drama,Romance|132\", \"Comedy,Drama,Romance|116\", \"Comedy,Romance|85\", \"Horror|77\", \"Drama,Thriller|74\", \"Horror,Thriller|69\", \"Action,Crime,Drama|67\", \"Adventure,Animation,Comedy|65\", \"Documentary|64\", \"Crime,Drama,Thriller|62\", \"Thriller|53\", \"Action,Crime,Thriller|49\", \"Action,Adventure,Sci-Fi|41\", \"Action,Comedy,Crime|41\", \"Action,Adventure,Drama|36\", \"Action|36\", \"Crime,Drama|35\", \"Crime,Drama,Mystery|30\", \"Biography,Drama,History|30\", \"Biography,Drama|30\", \"Action,Adventure,Comedy|28\", \"Action,Thriller|28\", \"Horror,Mystery,Thriller|28\", \"Comedy,Horror|27\", \"Comedy,Crime,Drama|26\", \"Action,Adventure,Fantasy|25\", \"Crime,Thriller|22\", \"Family|22\", \"Action,Adventure,Animation|22\", \"Action,Horror,Sci-Fi|20\", \"Biography,Drama,Romance|20\", \"Action,Comedy|19\", \"Action,Drama|19\", \"Drama,Mystery,Thriller|19\", \"Action,Drama,History|19\", \"Action,Drama,Thriller|18\", \"Action,Sci-Fi,Thriller|18\", \"Drama,Horror,Thriller|16\", \"Action,Biography,Drama|15\", \"Action,Comedy,Horror|15\", \"Horror,Sci-Fi,Thriller|15\", \"Adventure,Family,Fantasy|15\", \"Drama,Family|14\", \"Adventure,Comedy,Drama|14\", \"Drama,War|14\", \"Adventure,Comedy,Family|14\", \"Mystery,Thriller|14\", \"Comedy,Crime|14\", \"Biography,Comedy,Drama|14\", \"Drama,Romance,Thriller|12\", \"Comedy,Drama,Fantasy|12\", \"Drama,Horror,Mystery|12\", \"Drama,Fantasy,Horror|12\", \"Adventure,Animation,Family|12\", \"Crime,Mystery,Thriller|12\", \"Adventure,Family|12\", \"Horror,Mystery|12\", \"Action,Adventure|12\", \"Drama,History,War|12\", \"Action,Adventure,Crime|11\", \"Comedy,Family|11\", \"Crime|11\", \"Drama,History|11\", \"Drama,Mystery,Romance|11\", \"Action,Horror|11\", \"Drama,Mystery|11\", \"Action,Adventure,Thriller|11\", \"Adventure,Comedy|10\", \"Biography,Crime,Drama|10\", \"Comedy,Drama,Music|10\", \"Adventure,Drama,Family|10\", \"Horror,Sci-Fi|10\", \"Drama,Music|10\"], \"type\": \"scatter\", \"x\": [9.460290908813477, 11.007804870605469, 10.412734031677246, 9.69115924835205, 10.046716690063477, 10.341435432434082, 10.09284782409668, 7.936368942260742, 8.546812057495117, 8.640873908996582, 11.323312759399414, 8.42799186706543, 8.489013671875, 8.990431785583496, 8.00713062286377, 7.555276870727539, 9.362468719482422, 9.483019828796387, 9.600522994995117, 9.351995468139648, 6.89603328704834, 8.106145858764648, 7.602902889251709, 10.18085765838623, 8.16970157623291, 8.108202934265137, 10.60511589050293, 9.595124244689941, 9.651269912719727, 9.054935455322266, 11.458499908447266, 11.510313034057617, 7.237006187438965, 7.147059917449951, 10.470017433166504, 9.494093894958496, 7.055622577667236, 9.095376014709473, 8.092535972595215, 7.4875006675720215, 9.945655822753906, 8.411850929260254, 10.226470947265625, 7.592021942138672, 9.736296653747559, 11.16412353515625, 10.087654113769531, 8.147038459777832, 11.060003280639648, 8.151128768920898, 10.562548637390137, 7.43375825881958, 9.622360229492188, 9.848675727844238, 7.556489944458008, 7.784582614898682, 11.548558235168457, 6.971018314361572, 11.005581855773926, 8.299382209777832, 9.41396713256836, 8.168731689453125, 6.8548784255981445, 11.329394340515137, 9.112998962402344, 9.276275634765625, 7.422724723815918, 7.517747402191162, 7.60706090927124, 7.132323741912842, 10.696842193603516, 7.675103187561035, 7.280023097991943, 11.574462890625, 10.15294075012207, 10.789301872253418], \"y\": [4.749056816101074, 5.251634120941162, 4.683163166046143, 4.219700336456299, 4.167155742645264, 4.36948299407959, 5.452825546264648, 5.47292947769165, 6.147788047790527, 7.06096076965332, 6.156756401062012, 8.667281150817871, 5.677186965942383, 6.270228385925293, 7.527872562408447, 7.740138053894043, 6.458834171295166, 8.537147521972656, 7.202342987060547, 5.282987117767334, 6.543146133422852, 8.708407402038574, 8.684380531311035, 7.075143814086914, 7.053020477294922, 5.9994916915893555, 5.820838451385498, 5.81218147277832, 8.450773239135742, 5.554795742034912, 5.7674407958984375, 6.451846599578857, 7.196524620056152, 8.481693267822266, 6.631635665893555, 7.884746551513672, 5.927026748657227, 8.553838729858398, 7.329297065734863, 7.431546211242676, 4.411564826965332, 8.138802528381348, 6.190195560455322, 6.979065418243408, 6.508795738220215, 4.908301830291748, 6.951588153839111, 7.94076681137085, 6.133703708648682, 5.307744979858398, 6.122313499450684, 8.419005393981934, 4.475668907165527, 4.875389575958252, 6.082704544067383, 5.751552581787109, 6.1226606369018555, 7.074862003326416, 6.530500888824463, 6.396979331970215, 8.23383903503418, 8.404322624206543, 7.217977523803711, 5.524867057800293, 5.430148124694824, 8.294602394104004, 5.591133117675781, 7.058823585510254, 5.257413864135742, 7.554435729980469, 5.822552680969238, 8.1525297164917, 8.525834083557129, 5.381102085113525, 5.920645236968994, 5.0642900466918945]}],\n",
       "                        {\"template\": {\"data\": {\"bar\": [{\"error_x\": {\"color\": \"#2a3f5f\"}, \"error_y\": {\"color\": \"#2a3f5f\"}, \"marker\": {\"line\": {\"color\": \"#E5ECF6\", \"width\": 0.5}}, \"type\": \"bar\"}], \"barpolar\": [{\"marker\": {\"line\": {\"color\": \"#E5ECF6\", \"width\": 0.5}}, \"type\": \"barpolar\"}], \"carpet\": [{\"aaxis\": {\"endlinecolor\": \"#2a3f5f\", \"gridcolor\": \"white\", \"linecolor\": \"white\", \"minorgridcolor\": \"white\", \"startlinecolor\": \"#2a3f5f\"}, \"baxis\": {\"endlinecolor\": \"#2a3f5f\", \"gridcolor\": \"white\", \"linecolor\": \"white\", \"minorgridcolor\": \"white\", \"startlinecolor\": \"#2a3f5f\"}, \"type\": \"carpet\"}], \"choropleth\": [{\"colorbar\": {\"outlinewidth\": 0, \"ticks\": \"\"}, \"type\": \"choropleth\"}], \"contour\": [{\"colorbar\": {\"outlinewidth\": 0, \"ticks\": \"\"}, \"colorscale\": [[0.0, \"#0d0887\"], [0.1111111111111111, \"#46039f\"], [0.2222222222222222, \"#7201a8\"], [0.3333333333333333, \"#9c179e\"], [0.4444444444444444, \"#bd3786\"], [0.5555555555555556, \"#d8576b\"], [0.6666666666666666, \"#ed7953\"], [0.7777777777777778, \"#fb9f3a\"], [0.8888888888888888, \"#fdca26\"], [1.0, \"#f0f921\"]], \"type\": \"contour\"}], \"contourcarpet\": [{\"colorbar\": {\"outlinewidth\": 0, \"ticks\": \"\"}, \"type\": \"contourcarpet\"}], \"heatmap\": [{\"colorbar\": {\"outlinewidth\": 0, \"ticks\": \"\"}, \"colorscale\": [[0.0, \"#0d0887\"], [0.1111111111111111, \"#46039f\"], [0.2222222222222222, \"#7201a8\"], [0.3333333333333333, \"#9c179e\"], [0.4444444444444444, \"#bd3786\"], [0.5555555555555556, \"#d8576b\"], [0.6666666666666666, \"#ed7953\"], [0.7777777777777778, \"#fb9f3a\"], [0.8888888888888888, \"#fdca26\"], [1.0, \"#f0f921\"]], \"type\": \"heatmap\"}], \"heatmapgl\": [{\"colorbar\": {\"outlinewidth\": 0, \"ticks\": \"\"}, \"colorscale\": [[0.0, \"#0d0887\"], [0.1111111111111111, \"#46039f\"], [0.2222222222222222, \"#7201a8\"], [0.3333333333333333, \"#9c179e\"], [0.4444444444444444, \"#bd3786\"], [0.5555555555555556, \"#d8576b\"], [0.6666666666666666, \"#ed7953\"], [0.7777777777777778, \"#fb9f3a\"], [0.8888888888888888, \"#fdca26\"], [1.0, \"#f0f921\"]], \"type\": \"heatmapgl\"}], \"histogram\": [{\"marker\": {\"colorbar\": {\"outlinewidth\": 0, \"ticks\": \"\"}}, \"type\": \"histogram\"}], \"histogram2d\": [{\"colorbar\": {\"outlinewidth\": 0, \"ticks\": \"\"}, \"colorscale\": [[0.0, \"#0d0887\"], [0.1111111111111111, \"#46039f\"], [0.2222222222222222, \"#7201a8\"], [0.3333333333333333, \"#9c179e\"], [0.4444444444444444, \"#bd3786\"], [0.5555555555555556, \"#d8576b\"], [0.6666666666666666, \"#ed7953\"], [0.7777777777777778, \"#fb9f3a\"], [0.8888888888888888, \"#fdca26\"], [1.0, \"#f0f921\"]], \"type\": \"histogram2d\"}], \"histogram2dcontour\": [{\"colorbar\": {\"outlinewidth\": 0, \"ticks\": \"\"}, \"colorscale\": [[0.0, \"#0d0887\"], [0.1111111111111111, \"#46039f\"], [0.2222222222222222, \"#7201a8\"], [0.3333333333333333, \"#9c179e\"], [0.4444444444444444, \"#bd3786\"], [0.5555555555555556, \"#d8576b\"], [0.6666666666666666, \"#ed7953\"], [0.7777777777777778, \"#fb9f3a\"], [0.8888888888888888, \"#fdca26\"], [1.0, \"#f0f921\"]], \"type\": \"histogram2dcontour\"}], \"mesh3d\": [{\"colorbar\": {\"outlinewidth\": 0, \"ticks\": \"\"}, \"type\": \"mesh3d\"}], \"parcoords\": [{\"line\": {\"colorbar\": {\"outlinewidth\": 0, \"ticks\": \"\"}}, \"type\": \"parcoords\"}], \"pie\": [{\"automargin\": true, \"type\": \"pie\"}], \"scatter\": [{\"marker\": {\"colorbar\": {\"outlinewidth\": 0, \"ticks\": \"\"}}, \"type\": \"scatter\"}], \"scatter3d\": [{\"line\": {\"colorbar\": {\"outlinewidth\": 0, \"ticks\": \"\"}}, \"marker\": {\"colorbar\": {\"outlinewidth\": 0, \"ticks\": \"\"}}, \"type\": \"scatter3d\"}], \"scattercarpet\": [{\"marker\": {\"colorbar\": {\"outlinewidth\": 0, \"ticks\": \"\"}}, \"type\": \"scattercarpet\"}], \"scattergeo\": [{\"marker\": {\"colorbar\": {\"outlinewidth\": 0, \"ticks\": \"\"}}, \"type\": \"scattergeo\"}], \"scattergl\": [{\"marker\": {\"colorbar\": {\"outlinewidth\": 0, \"ticks\": \"\"}}, \"type\": \"scattergl\"}], \"scattermapbox\": [{\"marker\": {\"colorbar\": {\"outlinewidth\": 0, \"ticks\": \"\"}}, \"type\": \"scattermapbox\"}], \"scatterpolar\": [{\"marker\": {\"colorbar\": {\"outlinewidth\": 0, \"ticks\": \"\"}}, \"type\": \"scatterpolar\"}], \"scatterpolargl\": [{\"marker\": {\"colorbar\": {\"outlinewidth\": 0, \"ticks\": \"\"}}, \"type\": \"scatterpolargl\"}], \"scatterternary\": [{\"marker\": {\"colorbar\": {\"outlinewidth\": 0, \"ticks\": \"\"}}, \"type\": \"scatterternary\"}], \"surface\": [{\"colorbar\": {\"outlinewidth\": 0, \"ticks\": \"\"}, \"colorscale\": [[0.0, \"#0d0887\"], [0.1111111111111111, \"#46039f\"], [0.2222222222222222, \"#7201a8\"], [0.3333333333333333, \"#9c179e\"], [0.4444444444444444, \"#bd3786\"], [0.5555555555555556, \"#d8576b\"], [0.6666666666666666, \"#ed7953\"], [0.7777777777777778, \"#fb9f3a\"], [0.8888888888888888, \"#fdca26\"], [1.0, \"#f0f921\"]], \"type\": \"surface\"}], \"table\": [{\"cells\": {\"fill\": {\"color\": \"#EBF0F8\"}, \"line\": {\"color\": \"white\"}}, \"header\": {\"fill\": {\"color\": \"#C8D4E3\"}, \"line\": {\"color\": \"white\"}}, \"type\": \"table\"}]}, \"layout\": {\"annotationdefaults\": {\"arrowcolor\": \"#2a3f5f\", \"arrowhead\": 0, \"arrowwidth\": 1}, \"coloraxis\": {\"colorbar\": {\"outlinewidth\": 0, \"ticks\": \"\"}}, \"colorscale\": {\"diverging\": [[0, \"#8e0152\"], [0.1, \"#c51b7d\"], [0.2, \"#de77ae\"], [0.3, \"#f1b6da\"], [0.4, \"#fde0ef\"], [0.5, \"#f7f7f7\"], [0.6, \"#e6f5d0\"], [0.7, \"#b8e186\"], [0.8, \"#7fbc41\"], [0.9, \"#4d9221\"], [1, \"#276419\"]], \"sequential\": [[0.0, \"#0d0887\"], [0.1111111111111111, \"#46039f\"], [0.2222222222222222, \"#7201a8\"], [0.3333333333333333, \"#9c179e\"], [0.4444444444444444, \"#bd3786\"], [0.5555555555555556, \"#d8576b\"], [0.6666666666666666, \"#ed7953\"], [0.7777777777777778, \"#fb9f3a\"], [0.8888888888888888, \"#fdca26\"], [1.0, \"#f0f921\"]], \"sequentialminus\": [[0.0, \"#0d0887\"], [0.1111111111111111, \"#46039f\"], [0.2222222222222222, \"#7201a8\"], [0.3333333333333333, \"#9c179e\"], [0.4444444444444444, \"#bd3786\"], [0.5555555555555556, \"#d8576b\"], [0.6666666666666666, \"#ed7953\"], [0.7777777777777778, \"#fb9f3a\"], [0.8888888888888888, \"#fdca26\"], [1.0, \"#f0f921\"]]}, \"colorway\": [\"#636efa\", \"#EF553B\", \"#00cc96\", \"#ab63fa\", \"#FFA15A\", \"#19d3f3\", \"#FF6692\", \"#B6E880\", \"#FF97FF\", \"#FECB52\"], \"font\": {\"color\": \"#2a3f5f\"}, \"geo\": {\"bgcolor\": \"white\", \"lakecolor\": \"white\", \"landcolor\": \"#E5ECF6\", \"showlakes\": true, \"showland\": true, \"subunitcolor\": \"white\"}, \"hoverlabel\": {\"align\": \"left\"}, \"hovermode\": \"closest\", \"mapbox\": {\"style\": \"light\"}, \"paper_bgcolor\": \"white\", \"plot_bgcolor\": \"#E5ECF6\", \"polar\": {\"angularaxis\": {\"gridcolor\": \"white\", \"linecolor\": \"white\", \"ticks\": \"\"}, \"bgcolor\": \"#E5ECF6\", \"radialaxis\": {\"gridcolor\": \"white\", \"linecolor\": \"white\", \"ticks\": \"\"}}, \"scene\": {\"xaxis\": {\"backgroundcolor\": \"#E5ECF6\", \"gridcolor\": \"white\", \"gridwidth\": 2, \"linecolor\": \"white\", \"showbackground\": true, \"ticks\": \"\", \"zerolinecolor\": \"white\"}, \"yaxis\": {\"backgroundcolor\": \"#E5ECF6\", \"gridcolor\": \"white\", \"gridwidth\": 2, \"linecolor\": \"white\", \"showbackground\": true, \"ticks\": \"\", \"zerolinecolor\": \"white\"}, \"zaxis\": {\"backgroundcolor\": \"#E5ECF6\", \"gridcolor\": \"white\", \"gridwidth\": 2, \"linecolor\": \"white\", \"showbackground\": true, \"ticks\": \"\", \"zerolinecolor\": \"white\"}}, \"shapedefaults\": {\"line\": {\"color\": \"#2a3f5f\"}}, \"ternary\": {\"aaxis\": {\"gridcolor\": \"white\", \"linecolor\": \"white\", \"ticks\": \"\"}, \"baxis\": {\"gridcolor\": \"white\", \"linecolor\": \"white\", \"ticks\": \"\"}, \"bgcolor\": \"#E5ECF6\", \"caxis\": {\"gridcolor\": \"white\", \"linecolor\": \"white\", \"ticks\": \"\"}}, \"title\": {\"x\": 0.05}, \"xaxis\": {\"automargin\": true, \"gridcolor\": \"white\", \"linecolor\": \"white\", \"ticks\": \"\", \"title\": {\"standoff\": 15}, \"zerolinecolor\": \"white\", \"zerolinewidth\": 2}, \"yaxis\": {\"automargin\": true, \"gridcolor\": \"white\", \"linecolor\": \"white\", \"ticks\": \"\", \"title\": {\"standoff\": 15}, \"zerolinecolor\": \"white\", \"zerolinewidth\": 2}}}},\n",
       "                        {\"responsive\": true}\n",
       "                    ).then(function(){\n",
       "                            \n",
       "var gd = document.getElementById('66c6c939-9ff2-4a88-b8a8-d7c026fe305c');\n",
       "var x = new MutationObserver(function (mutations, observer) {{\n",
       "        var display = window.getComputedStyle(gd).display;\n",
       "        if (!display || display === 'none') {{\n",
       "            console.log([gd, 'removed!']);\n",
       "            Plotly.purge(gd);\n",
       "            observer.disconnect();\n",
       "        }}\n",
       "}});\n",
       "\n",
       "// Listen for the removal of the full notebook cells\n",
       "var notebookContainer = gd.closest('#notebook-container');\n",
       "if (notebookContainer) {{\n",
       "    x.observe(notebookContainer, {childList: true});\n",
       "}}\n",
       "\n",
       "// Listen for the clearing of the current output cell\n",
       "var outputEl = gd.closest('.output');\n",
       "if (outputEl) {{\n",
       "    x.observe(outputEl, {childList: true});\n",
       "}}\n",
       "\n",
       "                        })\n",
       "                };\n",
       "                });\n",
       "            </script>\n",
       "        </div>"
      ]
     },
     "metadata": {},
     "output_type": "display_data"
    }
   ],
   "source": [
    "fig = go.Figure(data=go.Scatter(x=Xr[:, 0],\n",
    "                                y=Xr[:, 1],\n",
    "                                mode='markers',\n",
    "                                text=[f'{label}|{n_token}' for label, n_token in zip(aggr.label, aggr.n_texts)],\n",
    "                                marker_color=plotly_color_categorical_values(cluster)))\n",
    "\n",
    "\n",
    "fig.show()"
   ]
  },
  {
   "cell_type": "code",
   "execution_count": 157,
   "metadata": {},
   "outputs": [],
   "source": [
    "dfs = get_cluster_dfs(aggr, cluster)"
   ]
  },
  {
   "cell_type": "code",
   "execution_count": 158,
   "metadata": {
    "scrolled": true
   },
   "outputs": [
    {
     "name": "stdout",
     "output_type": "stream",
     "text": [
      "9            Action,Crime,Drama\n",
      "14        Action,Crime,Thriller\n",
      "15      Action,Adventure,Sci-Fi\n",
      "20          Crime,Drama,Mystery\n",
      "24              Action,Thriller\n",
      "32         Action,Horror,Sci-Fi\n",
      "38        Action,Drama,Thriller\n",
      "39       Action,Sci-Fi,Thriller\n",
      "43       Horror,Sci-Fi,Thriller\n",
      "47                    Drama,War\n",
      "57       Crime,Mystery,Thriller\n",
      "61            Drama,History,War\n",
      "62       Action,Adventure,Crime\n",
      "67                Action,Horror\n",
      "69    Action,Adventure,Thriller\n",
      "Name: label, dtype: object\n",
      "Total number of movies in cluster => 357\n",
      "############################################################\n",
      "16         Action,Comedy,Crime\n",
      "18                      Action\n",
      "19                 Crime,Drama\n",
      "23     Action,Adventure,Comedy\n",
      "27          Comedy,Crime,Drama\n",
      "29              Crime,Thriller\n",
      "34               Action,Comedy\n",
      "44    Adventure,Family,Fantasy\n",
      "46      Adventure,Comedy,Drama\n",
      "50                Comedy,Crime\n",
      "64                       Crime\n",
      "Name: label, dtype: object\n",
      "Total number of movies in cluster => 261\n",
      "############################################################\n",
      "7              Drama,Thriller\n",
      "8             Horror,Thriller\n",
      "12       Crime,Drama,Thriller\n",
      "13                   Thriller\n",
      "25    Horror,Mystery,Thriller\n",
      "36     Drama,Mystery,Thriller\n",
      "49           Mystery,Thriller\n",
      "54       Drama,Horror,Mystery\n",
      "55       Drama,Fantasy,Horror\n",
      "59             Horror,Mystery\n",
      "66      Drama,Mystery,Romance\n",
      "68              Drama,Mystery\n",
      "Name: label, dtype: object\n",
      "Total number of movies in cluster => 377\n",
      "############################################################\n",
      "6                         Horror\n",
      "10    Adventure,Animation,Comedy\n",
      "26                 Comedy,Horror\n",
      "30                        Family\n",
      "31    Action,Adventure,Animation\n",
      "42          Action,Comedy,Horror\n",
      "48       Adventure,Comedy,Family\n",
      "56    Adventure,Animation,Family\n",
      "58              Adventure,Family\n",
      "70              Adventure,Comedy\n",
      "74                 Horror,Sci-Fi\n",
      "Name: label, dtype: object\n",
      "Total number of movies in cluster => 286\n",
      "############################################################\n",
      "22            Biography,Drama\n",
      "33    Biography,Drama,Romance\n",
      "41     Action,Biography,Drama\n",
      "51     Biography,Comedy,Drama\n",
      "71      Biography,Crime,Drama\n",
      "72         Comedy,Drama,Music\n",
      "Name: label, dtype: object\n",
      "Total number of movies in cluster => 99\n",
      "############################################################\n",
      "11                 Documentary\n",
      "17      Action,Adventure,Drama\n",
      "21     Biography,Drama,History\n",
      "28    Action,Adventure,Fantasy\n",
      "35                Action,Drama\n",
      "37        Action,Drama,History\n",
      "60            Action,Adventure\n",
      "65               Drama,History\n",
      "Name: label, dtype: object\n",
      "Total number of movies in cluster => 216\n",
      "############################################################\n",
      "0                      Drama\n",
      "2               Comedy,Drama\n",
      "3              Drama,Romance\n",
      "4       Comedy,Drama,Romance\n",
      "5             Comedy,Romance\n",
      "40     Drama,Horror,Thriller\n",
      "52    Drama,Romance,Thriller\n",
      "53      Comedy,Drama,Fantasy\n",
      "Name: label, dtype: object\n",
      "Total number of movies in cluster => 882\n",
      "############################################################\n",
      "1                     Comedy\n",
      "45              Drama,Family\n",
      "63             Comedy,Family\n",
      "73    Adventure,Drama,Family\n",
      "75               Drama,Music\n",
      "Name: label, dtype: object\n",
      "Total number of movies in cluster => 240\n",
      "############################################################\n"
     ]
    }
   ],
   "source": [
    "for cluster_df in dfs:\n",
    "    print(cluster_df.label)\n",
    "    print(f'Total number of movies in cluster => {cluster_df.n_texts.sum()}')\n",
    "    print('#'*60)"
   ]
  },
  {
   "cell_type": "code",
   "execution_count": null,
   "metadata": {},
   "outputs": [],
   "source": []
  }
 ],
 "metadata": {
  "kernelspec": {
   "display_name": "Python 3",
   "language": "python",
   "name": "python3"
  },
  "language_info": {
   "codemirror_mode": {
    "name": "ipython",
    "version": 3
   },
   "file_extension": ".py",
   "mimetype": "text/x-python",
   "name": "python",
   "nbconvert_exporter": "python",
   "pygments_lexer": "ipython3",
   "version": "3.8.2"
  }
 },
 "nbformat": 4,
 "nbformat_minor": 4
}
