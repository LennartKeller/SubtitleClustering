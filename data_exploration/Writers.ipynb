{
 "cells": [
  {
   "cell_type": "code",
   "execution_count": 1,
   "metadata": {},
   "outputs": [],
   "source": [
    "%matplotlib inline\n",
    "import re\n",
    "import pandas as pd\n",
    "import numpy as np\n",
    "import matplotlib.pyplot as plt"
   ]
  },
  {
   "cell_type": "markdown",
   "metadata": {},
   "source": [
    "# Preprocessing"
   ]
  },
  {
   "cell_type": "code",
   "execution_count": 2,
   "metadata": {},
   "outputs": [],
   "source": [
    "df = pd.read_csv('../dataset/subtitles_dataset_tokenized.csv')\n",
    "crew_df = pd.read_csv('../dataset/crew.tsv', sep='\\t')"
   ]
  },
  {
   "cell_type": "code",
   "execution_count": 3,
   "metadata": {},
   "outputs": [],
   "source": [
    "# merge datasets\n",
    "crew_df['IMDB_ID'] = crew_df.tconst.apply(lambda x: int(x.replace('tt', '')))\n",
    "df = df.merge(right=crew_df, on='IMDB_ID', how='outer')\n",
    "#df = df.drop(['directors_x', 'writers_x', 'directors_y', 'writers_y'], axis=1)\n",
    "df = df.drop('tconst', axis=1)\n",
    "df = df.replace(r'\\N', np.nan)"
   ]
  },
  {
   "cell_type": "code",
   "execution_count": 4,
   "metadata": {},
   "outputs": [],
   "source": [
    "df.set_index('filename', inplace=True)\n",
    "df.dropna(inplace=True)\n",
    "df.drop('Unnamed: 0', axis=1, inplace=True)"
   ]
  },
  {
   "cell_type": "code",
   "execution_count": 5,
   "metadata": {},
   "outputs": [],
   "source": [
    "df.drop_duplicates(subset='IMDB_ID', inplace=True)"
   ]
  },
  {
   "cell_type": "code",
   "execution_count": 6,
   "metadata": {},
   "outputs": [],
   "source": [
    "df['main_genre'] = df.genre.str.split(',').apply(lambda x: x[0])"
   ]
  },
  {
   "cell_type": "code",
   "execution_count": 7,
   "metadata": {},
   "outputs": [],
   "source": [
    "df.drop_duplicates(subset='IMDB_ID', inplace=True)"
   ]
  },
  {
   "cell_type": "code",
   "execution_count": 8,
   "metadata": {},
   "outputs": [],
   "source": [
    "df['main_genre'] = df.genre.str.split(',').apply(lambda x: x[0])"
   ]
  },
  {
   "cell_type": "markdown",
   "metadata": {},
   "source": [
    "## Load imdb persons file"
   ]
  },
  {
   "cell_type": "code",
   "execution_count": 9,
   "metadata": {},
   "outputs": [
    {
     "data": {
      "text/plain": [
       "(10085356, 6)"
      ]
     },
     "execution_count": 9,
     "metadata": {},
     "output_type": "execute_result"
    }
   ],
   "source": [
    "persons_df = pd.read_csv('../dataset/persons.tsv', sep='\\t')\n",
    "persons_df.shape"
   ]
  },
  {
   "cell_type": "code",
   "execution_count": 10,
   "metadata": {},
   "outputs": [],
   "source": [
    "persons_df.set_index('nconst', inplace=True)"
   ]
  },
  {
   "cell_type": "code",
   "execution_count": 11,
   "metadata": {},
   "outputs": [
    {
     "data": {
      "text/html": [
       "<div>\n",
       "<style scoped>\n",
       "    .dataframe tbody tr th:only-of-type {\n",
       "        vertical-align: middle;\n",
       "    }\n",
       "\n",
       "    .dataframe tbody tr th {\n",
       "        vertical-align: top;\n",
       "    }\n",
       "\n",
       "    .dataframe thead th {\n",
       "        text-align: right;\n",
       "    }\n",
       "</style>\n",
       "<table border=\"1\" class=\"dataframe\">\n",
       "  <thead>\n",
       "    <tr style=\"text-align: right;\">\n",
       "      <th></th>\n",
       "      <th>primaryName</th>\n",
       "      <th>birthYear</th>\n",
       "      <th>deathYear</th>\n",
       "      <th>primaryProfession</th>\n",
       "      <th>knownForTitles</th>\n",
       "    </tr>\n",
       "    <tr>\n",
       "      <th>nconst</th>\n",
       "      <th></th>\n",
       "      <th></th>\n",
       "      <th></th>\n",
       "      <th></th>\n",
       "      <th></th>\n",
       "    </tr>\n",
       "  </thead>\n",
       "  <tbody>\n",
       "    <tr>\n",
       "      <th>nm0000001</th>\n",
       "      <td>Fred Astaire</td>\n",
       "      <td>1899</td>\n",
       "      <td>1987</td>\n",
       "      <td>soundtrack,actor,miscellaneous</td>\n",
       "      <td>tt0072308,tt0050419,tt0043044,tt0053137</td>\n",
       "    </tr>\n",
       "    <tr>\n",
       "      <th>nm0000002</th>\n",
       "      <td>Lauren Bacall</td>\n",
       "      <td>1924</td>\n",
       "      <td>2014</td>\n",
       "      <td>actress,soundtrack</td>\n",
       "      <td>tt0117057,tt0038355,tt0071877,tt0037382</td>\n",
       "    </tr>\n",
       "    <tr>\n",
       "      <th>nm0000003</th>\n",
       "      <td>Brigitte Bardot</td>\n",
       "      <td>1934</td>\n",
       "      <td>\\N</td>\n",
       "      <td>actress,soundtrack,producer</td>\n",
       "      <td>tt0059956,tt0049189,tt0054452,tt0057345</td>\n",
       "    </tr>\n",
       "    <tr>\n",
       "      <th>nm0000004</th>\n",
       "      <td>John Belushi</td>\n",
       "      <td>1949</td>\n",
       "      <td>1982</td>\n",
       "      <td>actor,soundtrack,writer</td>\n",
       "      <td>tt0072562,tt0077975,tt0078723,tt0080455</td>\n",
       "    </tr>\n",
       "    <tr>\n",
       "      <th>nm0000005</th>\n",
       "      <td>Ingmar Bergman</td>\n",
       "      <td>1918</td>\n",
       "      <td>2007</td>\n",
       "      <td>writer,director,actor</td>\n",
       "      <td>tt0060827,tt0050986,tt0050976,tt0083922</td>\n",
       "    </tr>\n",
       "  </tbody>\n",
       "</table>\n",
       "</div>"
      ],
      "text/plain": [
       "               primaryName birthYear deathYear  \\\n",
       "nconst                                           \n",
       "nm0000001     Fred Astaire      1899      1987   \n",
       "nm0000002    Lauren Bacall      1924      2014   \n",
       "nm0000003  Brigitte Bardot      1934        \\N   \n",
       "nm0000004     John Belushi      1949      1982   \n",
       "nm0000005   Ingmar Bergman      1918      2007   \n",
       "\n",
       "                        primaryProfession  \\\n",
       "nconst                                      \n",
       "nm0000001  soundtrack,actor,miscellaneous   \n",
       "nm0000002              actress,soundtrack   \n",
       "nm0000003     actress,soundtrack,producer   \n",
       "nm0000004         actor,soundtrack,writer   \n",
       "nm0000005           writer,director,actor   \n",
       "\n",
       "                                    knownForTitles  \n",
       "nconst                                              \n",
       "nm0000001  tt0072308,tt0050419,tt0043044,tt0053137  \n",
       "nm0000002  tt0117057,tt0038355,tt0071877,tt0037382  \n",
       "nm0000003  tt0059956,tt0049189,tt0054452,tt0057345  \n",
       "nm0000004  tt0072562,tt0077975,tt0078723,tt0080455  \n",
       "nm0000005  tt0060827,tt0050986,tt0050976,tt0083922  "
      ]
     },
     "execution_count": 11,
     "metadata": {},
     "output_type": "execute_result"
    }
   ],
   "source": [
    "persons_df.head()"
   ]
  },
  {
   "cell_type": "code",
   "execution_count": 12,
   "metadata": {},
   "outputs": [
    {
     "data": {
      "text/plain": [
       "'Fred Astaire'"
      ]
     },
     "execution_count": 12,
     "metadata": {},
     "output_type": "execute_result"
    }
   ],
   "source": [
    "persons_df.loc['nm0000001'].primaryName"
   ]
  },
  {
   "cell_type": "markdown",
   "metadata": {},
   "source": [
    "## Get only movies with one single writer"
   ]
  },
  {
   "cell_type": "code",
   "execution_count": 13,
   "metadata": {},
   "outputs": [
    {
     "data": {
      "text/plain": [
       "(11304, 10)"
      ]
     },
     "execution_count": 13,
     "metadata": {},
     "output_type": "execute_result"
    }
   ],
   "source": [
    "f = df[[len(entry) == 1 for entry in df.writers.str.split(',')]]\n",
    "df.shape"
   ]
  },
  {
   "cell_type": "markdown",
   "metadata": {},
   "source": [
    "# Analyze writers"
   ]
  },
  {
   "cell_type": "code",
   "execution_count": 14,
   "metadata": {},
   "outputs": [],
   "source": [
    "writers = df.writers.str.split(',')"
   ]
  },
  {
   "cell_type": "code",
   "execution_count": 15,
   "metadata": {},
   "outputs": [],
   "source": [
    "df.dropna(inplace=True)"
   ]
  },
  {
   "cell_type": "code",
   "execution_count": 16,
   "metadata": {},
   "outputs": [],
   "source": [
    "from collections import Counter\n",
    "writers = Counter((writer for entry in writers for writer in entry))"
   ]
  },
  {
   "cell_type": "code",
   "execution_count": 17,
   "metadata": {},
   "outputs": [
    {
     "data": {
      "text/plain": [
       "15496"
      ]
     },
     "execution_count": 17,
     "metadata": {},
     "output_type": "execute_result"
    }
   ],
   "source": [
    "len(writers)"
   ]
  },
  {
   "cell_type": "code",
   "execution_count": 27,
   "metadata": {},
   "outputs": [
    {
     "data": {
      "image/png": "[encoded data removed]",
      "text/plain": [
       "<Figure size 432x288 with 1 Axes>"
      ]
     },
     "metadata": {
      "needs_background": "light"
     },
     "output_type": "display_data"
    }
   ],
   "source": [
    "plt.plot(list(sorted(writers.values())))\n",
    "plt.show()"
   ]
  },
  {
   "cell_type": "code",
   "execution_count": 19,
   "metadata": {},
   "outputs": [
    {
     "name": "stdout",
     "output_type": "stream",
     "text": [
      "Writer:\n",
      "primaryName                                      H.M. Walker\n",
      "birthYear                                               1878\n",
      "deathYear                                               1937\n",
      "primaryProfession                 writer,miscellaneous,actor\n",
      "knownForTitles       tt0014429,tt0024140,tt0024654,tt0022251\n",
      "Name: nm0907778, dtype: object \n",
      "\n",
      "Movies:  67\n",
      "\n",
      "######################################################################\n",
      "Writer:\n",
      "primaryName                                      Woody Allen\n",
      "birthYear                                               1935\n",
      "deathYear                                                 \\N\n",
      "primaryProfession                      writer,director,actor\n",
      "knownForTitles       tt0079522,tt0097123,tt0118954,tt0075686\n",
      "Name: nm0000095, dtype: object \n",
      "\n",
      "Movies:  39\n",
      "\n",
      "######################################################################\n",
      "Writer:\n",
      "primaryName                                     Stephen King\n",
      "birthYear                                               1947\n",
      "deathYear                                                 \\N\n",
      "primaryProfession                      writer,producer,actor\n",
      "knownForTitles       tt0091499,tt0111161,tt0120689,tt0083767\n",
      "Name: nm0000175, dtype: object \n",
      "\n",
      "Movies:  39\n",
      "\n",
      "######################################################################\n",
      "Writer:\n",
      "primaryName                                      Stan Laurel\n",
      "birthYear                                               1890\n",
      "deathYear                                               1965\n",
      "primaryProfession                    actor,writer,soundtrack\n",
      "knownForTitles       tt0024601,tt0024852,tt0033022,tt0032339\n",
      "Name: nm0491048, dtype: object \n",
      "\n",
      "Movies:  32\n",
      "\n",
      "######################################################################\n",
      "Writer:\n",
      "primaryName                                      Jacob Grimm\n",
      "birthYear                                               1785\n",
      "deathYear                                               1863\n",
      "primaryProfession                   writer,script_department\n",
      "knownForTitles       tt0029583,tt6208148,tt1479244,tt0398286\n",
      "Name: nm0342278, dtype: object \n",
      "\n",
      "Movies:  32\n",
      "\n",
      "######################################################################\n",
      "Writer:\n",
      "primaryName                                    Wilhelm Grimm\n",
      "birthYear                                               1786\n",
      "deathYear                                               1859\n",
      "primaryProfession                   writer,script_department\n",
      "knownForTitles       tt0029583,tt6208148,tt1479244,tt0398286\n",
      "Name: nm0342303, dtype: object \n",
      "\n",
      "Movies:  32\n",
      "\n",
      "######################################################################\n",
      "Writer:\n",
      "primaryName                                      Joe Shuster\n",
      "birthYear                                               1914\n",
      "deathYear                                               1992\n",
      "primaryProfession        writer,art_department,miscellaneous\n",
      "knownForTitles       tt0081573,tt0078346,tt0770828,tt0086393\n",
      "Name: nm0795975, dtype: object \n",
      "\n",
      "Movies:  32\n",
      "\n",
      "######################################################################\n",
      "Writer:\n",
      "primaryName                                     Jerry Siegel\n",
      "birthYear                                               1914\n",
      "deathYear                                               1996\n",
      "primaryProfession        writer,miscellaneous,art_department\n",
      "knownForTitles       tt0086393,tt0081573,tt0770828,tt0078346\n",
      "Name: nm0796950, dtype: object \n",
      "\n",
      "Movies:  32\n",
      "\n",
      "######################################################################\n",
      "Writer:\n",
      "primaryName                              William Shakespeare\n",
      "birthYear                                               1564\n",
      "deathYear                                               1616\n",
      "primaryProfession            writer,soundtrack,miscellaneous\n",
      "knownForTitles       tt8632012,tt3894536,tt5932378,tt5377528\n",
      "Name: nm0000636, dtype: object \n",
      "\n",
      "Movies:  31\n",
      "\n",
      "######################################################################\n",
      "Writer:\n",
      "primaryName                                       Luc Besson\n",
      "birthYear                                               1959\n",
      "deathYear                                                 \\N\n",
      "primaryProfession                   writer,producer,director\n",
      "knownForTitles       tt0119116,tt0110413,tt2872732,tt0100263\n",
      "Name: nm0000108, dtype: object \n",
      "\n",
      "Movies:  31\n",
      "\n",
      "######################################################################\n",
      "Writer:\n",
      "primaryName                                      Leo McCarey\n",
      "birthYear                                               1896\n",
      "deathYear                                               1969\n",
      "primaryProfession                   director,writer,producer\n",
      "knownForTitles       tt0036872,tt0028597,tt0031593,tt0050105\n",
      "Name: nm0564970, dtype: object \n",
      "\n",
      "Movies:  27\n",
      "\n",
      "######################################################################\n",
      "Writer:\n",
      "primaryName                                 Ernesto Gastaldi\n",
      "birthYear                                               1934\n",
      "deathYear                                                 \\N\n",
      "primaryProfession         writer,director,assistant_director\n",
      "knownForTitles       tt0062806,tt0061906,tt0082827,tt0087261\n",
      "Name: nm0002759, dtype: object \n",
      "\n",
      "Movies:  27\n",
      "\n",
      "######################################################################\n",
      "Writer:\n",
      "primaryName                                François Truffaut\n",
      "birthYear                                               1932\n",
      "deathYear                                               1984\n",
      "primaryProfession                   writer,director,producer\n",
      "knownForTitles       tt0055032,tt0070460,tt0075860,tt0053198\n",
      "Name: nm0000076, dtype: object \n",
      "\n",
      "Movies:  26\n",
      "\n",
      "######################################################################\n",
      "Writer:\n",
      "primaryName                                      Ian Fleming\n",
      "birthYear                                               1908\n",
      "deathYear                                               1964\n",
      "primaryProfession                       writer,miscellaneous\n",
      "knownForTitles       tt0086006,tt0055928,tt0059800,tt0381061\n",
      "Name: nm0001220, dtype: object \n",
      "\n",
      "Movies:  26\n",
      "\n",
      "######################################################################\n",
      "Writer:\n",
      "primaryName                                   Ingmar Bergman\n",
      "birthYear                                               1918\n",
      "deathYear                                               2007\n",
      "primaryProfession                      writer,director,actor\n",
      "knownForTitles       tt0060827,tt0050986,tt0050976,tt0083922\n",
      "Name: nm0000005, dtype: object \n",
      "\n",
      "Movies:  25\n",
      "\n",
      "######################################################################\n",
      "Writer:\n",
      "primaryName                                      John Hughes\n",
      "birthYear                                               1950\n",
      "deathYear                                               2009\n",
      "primaryProfession                   writer,producer,director\n",
      "knownForTitles       tt0090305,tt0093748,tt0091042,tt0088847\n",
      "Name: nm0000455, dtype: object \n",
      "\n",
      "Movies:  25\n",
      "\n",
      "######################################################################\n",
      "Writer:\n",
      "primaryName                                        Ben Hecht\n",
      "birthYear                                               1894\n",
      "deathYear                                               1964\n",
      "primaryProfession                      writer,actor,producer\n",
      "knownForTitles       tt0032209,tt0038109,tt0038787,tt0026970\n",
      "Name: nm0372942, dtype: object \n",
      "\n",
      "Movies:  24\n",
      "\n",
      "######################################################################\n",
      "Writer:\n",
      "primaryName                                         Stan Lee\n",
      "birthYear                                               1922\n",
      "deathYear                                               2018\n",
      "primaryProfession                      producer,writer,actor\n",
      "knownForTitles       tt3896198,tt1211837,tt2250912,tt1825683\n",
      "Name: nm0498278, dtype: object \n",
      "\n",
      "Movies:  24\n",
      "\n",
      "######################################################################\n",
      "Writer:\n",
      "primaryName                                    Edgar Wallace\n",
      "birthYear                                               1875\n",
      "deathYear                                               1932\n",
      "primaryProfession                   writer,director,producer\n",
      "knownForTitles       tt0074751,tt0021415,tt0360717,tt0024216\n",
      "Name: nm0908624, dtype: object \n",
      "\n",
      "Movies:  23\n",
      "\n",
      "######################################################################\n",
      "Writer:\n",
      "primaryName                                     Billy Wilder\n",
      "birthYear                                               1906\n",
      "deathYear                                               2002\n",
      "primaryProfession                   writer,director,producer\n",
      "knownForTitles       tt0053604,tt0047437,tt0053291,tt0043014\n",
      "Name: nm0000697, dtype: object \n",
      "\n",
      "Movies:  23\n",
      "\n",
      "######################################################################\n"
     ]
    }
   ],
   "source": [
    "for writer_id, value in writers.most_common(20):\n",
    "    print(f'Writer:\\n{persons_df.loc[writer_id]} \\n\\nMovies:  {value}\\n\\n{\"#\"*70}')"
   ]
  },
  {
   "cell_type": "code",
   "execution_count": 55,
   "metadata": {},
   "outputs": [],
   "source": [
    "#sample = df[(df.writers.str.contains('nm0000095')) | (df.writers.str.contains('nm0000175'))]\n",
    "sample = df[(df.writers.str.contains('nm0498278'))]"
   ]
  },
  {
   "cell_type": "code",
   "execution_count": 56,
   "metadata": {},
   "outputs": [
    {
     "data": {
      "text/plain": [
       "(24, 10)"
      ]
     },
     "execution_count": 56,
     "metadata": {},
     "output_type": "execute_result"
    }
   ],
   "source": [
    "sample.shape"
   ]
  },
  {
   "cell_type": "code",
   "execution_count": 57,
   "metadata": {},
   "outputs": [],
   "source": [
    "from sklearn.decomposition import PCA\n",
    "from sklearn.feature_extraction.text import TfidfVectorizer\n",
    "from stop_words import get_stop_words\n",
    "\n",
    "X = TfidfVectorizer(stop_words=get_stop_words('de')).fit_transform(sample.text)\n",
    "\n",
    "pca = PCA(n_components=2)\n",
    "\n",
    "Xr = pca.fit_transform(X.todense())"
   ]
  },
  {
   "cell_type": "code",
   "execution_count": 63,
   "metadata": {},
   "outputs": [
    {
     "ename": "ValueError",
     "evalue": "Could not interpret input 'title'",
     "output_type": "error",
     "traceback": [
      "\u001b[0;31m---------------------------------------------------------------------------\u001b[0m",
      "\u001b[0;31mValueError\u001b[0m                                Traceback (most recent call last)",
      "\u001b[0;32m<ipython-input-63-224a47d2ff53>\u001b[0m in \u001b[0;36m<module>\u001b[0;34m\u001b[0m\n\u001b[1;32m      2\u001b[0m \u001b[0msns\u001b[0m\u001b[0;34m.\u001b[0m\u001b[0mset\u001b[0m\u001b[0;34m(\u001b[0m\u001b[0mrc\u001b[0m\u001b[0;34m=\u001b[0m\u001b[0;34m{\u001b[0m\u001b[0;34m'figure.figsize'\u001b[0m\u001b[0;34m:\u001b[0m\u001b[0;34m(\u001b[0m\u001b[0;36m15\u001b[0m\u001b[0;34m,\u001b[0m \u001b[0;36m10\u001b[0m\u001b[0;34m)\u001b[0m\u001b[0;34m}\u001b[0m\u001b[0;34m)\u001b[0m\u001b[0;34m\u001b[0m\u001b[0;34m\u001b[0m\u001b[0m\n\u001b[1;32m      3\u001b[0m \u001b[0mplt\u001b[0m\u001b[0;34m.\u001b[0m\u001b[0mfigure\u001b[0m\u001b[0;34m\u001b[0m\u001b[0;34m\u001b[0m\u001b[0m\n\u001b[0;32m----> 4\u001b[0;31m \u001b[0mp\u001b[0m \u001b[0;34m=\u001b[0m \u001b[0msns\u001b[0m\u001b[0;34m.\u001b[0m\u001b[0mscatterplot\u001b[0m\u001b[0;34m(\u001b[0m\u001b[0mx\u001b[0m\u001b[0;34m=\u001b[0m\u001b[0mXr\u001b[0m\u001b[0;34m[\u001b[0m\u001b[0;34m:\u001b[0m\u001b[0;34m,\u001b[0m \u001b[0;36m0\u001b[0m\u001b[0;34m]\u001b[0m\u001b[0;34m,\u001b[0m \u001b[0my\u001b[0m\u001b[0;34m=\u001b[0m\u001b[0mXr\u001b[0m\u001b[0;34m[\u001b[0m\u001b[0;34m:\u001b[0m\u001b[0;34m,\u001b[0m \u001b[0;36m1\u001b[0m\u001b[0;34m]\u001b[0m\u001b[0;34m,\u001b[0m \u001b[0mdata\u001b[0m\u001b[0;34m=\u001b[0m\u001b[0msample\u001b[0m\u001b[0;34m,\u001b[0m \u001b[0mhue\u001b[0m\u001b[0;34m=\u001b[0m\u001b[0;34m'title'\u001b[0m\u001b[0;34m)\u001b[0m\u001b[0;34m\u001b[0m\u001b[0;34m\u001b[0m\u001b[0m\n\u001b[0m\u001b[1;32m      5\u001b[0m \u001b[0;31m#p.legend_.remove()\u001b[0m\u001b[0;34m\u001b[0m\u001b[0;34m\u001b[0m\u001b[0;34m\u001b[0m\u001b[0m\n",
      "\u001b[0;32m~/opt/anaconda3/envs/clustering/lib/python3.8/site-packages/seaborn/relational.py\u001b[0m in \u001b[0;36mscatterplot\u001b[0;34m(x, y, hue, style, size, data, palette, hue_order, hue_norm, sizes, size_order, size_norm, markers, style_order, x_bins, y_bins, units, estimator, ci, n_boot, alpha, x_jitter, y_jitter, legend, ax, **kwargs)\u001b[0m\n\u001b[1;32m   1393\u001b[0m                 legend=\"brief\", ax=None, **kwargs):\n\u001b[1;32m   1394\u001b[0m \u001b[0;34m\u001b[0m\u001b[0m\n\u001b[0;32m-> 1395\u001b[0;31m     p = _ScatterPlotter(\n\u001b[0m\u001b[1;32m   1396\u001b[0m         \u001b[0mx\u001b[0m\u001b[0;34m=\u001b[0m\u001b[0mx\u001b[0m\u001b[0;34m,\u001b[0m \u001b[0my\u001b[0m\u001b[0;34m=\u001b[0m\u001b[0my\u001b[0m\u001b[0;34m,\u001b[0m \u001b[0mhue\u001b[0m\u001b[0;34m=\u001b[0m\u001b[0mhue\u001b[0m\u001b[0;34m,\u001b[0m \u001b[0mstyle\u001b[0m\u001b[0;34m=\u001b[0m\u001b[0mstyle\u001b[0m\u001b[0;34m,\u001b[0m \u001b[0msize\u001b[0m\u001b[0;34m=\u001b[0m\u001b[0msize\u001b[0m\u001b[0;34m,\u001b[0m \u001b[0mdata\u001b[0m\u001b[0;34m=\u001b[0m\u001b[0mdata\u001b[0m\u001b[0;34m,\u001b[0m\u001b[0;34m\u001b[0m\u001b[0;34m\u001b[0m\u001b[0m\n\u001b[1;32m   1397\u001b[0m         \u001b[0mpalette\u001b[0m\u001b[0;34m=\u001b[0m\u001b[0mpalette\u001b[0m\u001b[0;34m,\u001b[0m \u001b[0mhue_order\u001b[0m\u001b[0;34m=\u001b[0m\u001b[0mhue_order\u001b[0m\u001b[0;34m,\u001b[0m \u001b[0mhue_norm\u001b[0m\u001b[0;34m=\u001b[0m\u001b[0mhue_norm\u001b[0m\u001b[0;34m,\u001b[0m\u001b[0;34m\u001b[0m\u001b[0;34m\u001b[0m\u001b[0m\n",
      "\u001b[0;32m~/opt/anaconda3/envs/clustering/lib/python3.8/site-packages/seaborn/relational.py\u001b[0m in \u001b[0;36m__init__\u001b[0;34m(self, x, y, hue, size, style, data, palette, hue_order, hue_norm, sizes, size_order, size_norm, dashes, markers, style_order, x_bins, y_bins, units, estimator, ci, n_boot, alpha, x_jitter, y_jitter, legend)\u001b[0m\n\u001b[1;32m    888\u001b[0m                  legend=None):\n\u001b[1;32m    889\u001b[0m \u001b[0;34m\u001b[0m\u001b[0m\n\u001b[0;32m--> 890\u001b[0;31m         plot_data = self.establish_variables(\n\u001b[0m\u001b[1;32m    891\u001b[0m             \u001b[0mx\u001b[0m\u001b[0;34m,\u001b[0m \u001b[0my\u001b[0m\u001b[0;34m,\u001b[0m \u001b[0mhue\u001b[0m\u001b[0;34m,\u001b[0m \u001b[0msize\u001b[0m\u001b[0;34m,\u001b[0m \u001b[0mstyle\u001b[0m\u001b[0;34m,\u001b[0m \u001b[0munits\u001b[0m\u001b[0;34m,\u001b[0m \u001b[0mdata\u001b[0m\u001b[0;34m\u001b[0m\u001b[0;34m\u001b[0m\u001b[0m\n\u001b[1;32m    892\u001b[0m         )\n",
      "\u001b[0;32m~/opt/anaconda3/envs/clustering/lib/python3.8/site-packages/seaborn/relational.py\u001b[0m in \u001b[0;36mestablish_variables\u001b[0;34m(self, x, y, hue, size, style, units, data)\u001b[0m\n\u001b[1;32m    140\u001b[0m                 \u001b[0;32mif\u001b[0m \u001b[0misinstance\u001b[0m\u001b[0;34m(\u001b[0m\u001b[0mvar\u001b[0m\u001b[0;34m,\u001b[0m \u001b[0mstr\u001b[0m\u001b[0;34m)\u001b[0m\u001b[0;34m:\u001b[0m\u001b[0;34m\u001b[0m\u001b[0;34m\u001b[0m\u001b[0m\n\u001b[1;32m    141\u001b[0m                     \u001b[0merr\u001b[0m \u001b[0;34m=\u001b[0m \u001b[0;34m\"Could not interpret input '{}'\"\u001b[0m\u001b[0;34m.\u001b[0m\u001b[0mformat\u001b[0m\u001b[0;34m(\u001b[0m\u001b[0mvar\u001b[0m\u001b[0;34m)\u001b[0m\u001b[0;34m\u001b[0m\u001b[0;34m\u001b[0m\u001b[0m\n\u001b[0;32m--> 142\u001b[0;31m                     \u001b[0;32mraise\u001b[0m \u001b[0mValueError\u001b[0m\u001b[0;34m(\u001b[0m\u001b[0merr\u001b[0m\u001b[0;34m)\u001b[0m\u001b[0;34m\u001b[0m\u001b[0;34m\u001b[0m\u001b[0m\n\u001b[0m\u001b[1;32m    143\u001b[0m \u001b[0;34m\u001b[0m\u001b[0m\n\u001b[1;32m    144\u001b[0m             \u001b[0;31m# Extract variable names\u001b[0m\u001b[0;34m\u001b[0m\u001b[0;34m\u001b[0m\u001b[0;34m\u001b[0m\u001b[0m\n",
      "\u001b[0;31mValueError\u001b[0m: Could not interpret input 'title'"
     ]
    }
   ],
   "source": [
    "import seaborn as sns\n",
    "sns.set(rc={'figure.figsize':(15, 10)})\n",
    "plt.figure\n",
    "p = sns.scatterplot(x=Xr[:, 0], y=Xr[:, 1], data=sample, hue='title')\n",
    "#p.legend_.remove()"
   ]
  },
  {
   "cell_type": "code",
   "execution_count": 24,
   "metadata": {},
   "outputs": [
    {
     "data": {
      "text/html": [
       "<div>\n",
       "<style scoped>\n",
       "    .dataframe tbody tr th:only-of-type {\n",
       "        vertical-align: middle;\n",
       "    }\n",
       "\n",
       "    .dataframe tbody tr th {\n",
       "        vertical-align: top;\n",
       "    }\n",
       "\n",
       "    .dataframe thead th {\n",
       "        text-align: right;\n",
       "    }\n",
       "</style>\n",
       "<table border=\"1\" class=\"dataframe\">\n",
       "  <thead>\n",
       "    <tr style=\"text-align: right;\">\n",
       "      <th></th>\n",
       "      <th>text</th>\n",
       "      <th>IMDB_ID</th>\n",
       "      <th>genre</th>\n",
       "      <th>year</th>\n",
       "      <th>production_region</th>\n",
       "      <th>corpus</th>\n",
       "      <th>duration</th>\n",
       "      <th>directors</th>\n",
       "      <th>writers</th>\n",
       "      <th>main_genre</th>\n",
       "    </tr>\n",
       "    <tr>\n",
       "      <th>filename</th>\n",
       "      <th></th>\n",
       "      <th></th>\n",
       "      <th></th>\n",
       "      <th></th>\n",
       "      <th></th>\n",
       "      <th></th>\n",
       "      <th></th>\n",
       "      <th></th>\n",
       "      <th></th>\n",
       "      <th></th>\n",
       "    </tr>\n",
       "  </thead>\n",
       "  <tbody>\n",
       "    <tr>\n",
       "      <th>3999839.xml</th>\n",
       "      <td>SHOCHIKU PRÄSENTIERT EINE KOPRODUKTION VON BAN...</td>\n",
       "      <td>98967</td>\n",
       "      <td>Action,Comedy,Crime</td>\n",
       "      <td>1990.0</td>\n",
       "      <td>Japanese</td>\n",
       "      <td>untokenisiert</td>\n",
       "      <td>96</td>\n",
       "      <td>nm0001429</td>\n",
       "      <td>nm0001429</td>\n",
       "      <td>Action</td>\n",
       "    </tr>\n",
       "    <tr>\n",
       "      <th>3658771.xml</th>\n",
       "      <td>Machst du dich endlich an die Arbeit oder was ...</td>\n",
       "      <td>103704</td>\n",
       "      <td>Comedy,Drama,Romance</td>\n",
       "      <td>1991.0</td>\n",
       "      <td>Japanese</td>\n",
       "      <td>untokenisiert</td>\n",
       "      <td>101</td>\n",
       "      <td>nm0001429</td>\n",
       "      <td>nm0001429</td>\n",
       "      <td>Comedy</td>\n",
       "    </tr>\n",
       "    <tr>\n",
       "      <th>3869352.xml</th>\n",
       "      <td>Untertitel astrogirl @ eselkult.de Sie können ...</td>\n",
       "      <td>108188</td>\n",
       "      <td>Action,Comedy,Crime</td>\n",
       "      <td>1993.0</td>\n",
       "      <td>Japanese</td>\n",
       "      <td>untokenisiert</td>\n",
       "      <td>94</td>\n",
       "      <td>nm0001429</td>\n",
       "      <td>nm0001429</td>\n",
       "      <td>Action</td>\n",
       "    </tr>\n",
       "    <tr>\n",
       "      <th>4510095.xml</th>\n",
       "      <td>POLIZEIREVIER MIAMI - Hey , das ist der falsch...</td>\n",
       "      <td>110524</td>\n",
       "      <td>Comedy</td>\n",
       "      <td>1994.0</td>\n",
       "      <td>Japanese</td>\n",
       "      <td>untokenisiert</td>\n",
       "      <td>108</td>\n",
       "      <td>nm0001429</td>\n",
       "      <td>nm0001429</td>\n",
       "      <td>Comedy</td>\n",
       "    </tr>\n",
       "    <tr>\n",
       "      <th>4534156.xml</th>\n",
       "      <td>- Ihr habt 10 Minuten auf der Bühne . - Gut . ...</td>\n",
       "      <td>116767</td>\n",
       "      <td>Crime,Drama,Sport</td>\n",
       "      <td>1996.0</td>\n",
       "      <td>Japanese</td>\n",
       "      <td>untokenisiert</td>\n",
       "      <td>107</td>\n",
       "      <td>nm0001429</td>\n",
       "      <td>nm0001429</td>\n",
       "      <td>Crime</td>\n",
       "    </tr>\n",
       "    <tr>\n",
       "      <th>3863123.xml</th>\n",
       "      <td>BANDAI VISUAL , TV TOKYO , TOKYO FM and OFFICE...</td>\n",
       "      <td>119250</td>\n",
       "      <td>Crime,Drama,Romance</td>\n",
       "      <td>1997.0</td>\n",
       "      <td>Japanese</td>\n",
       "      <td>untokenisiert</td>\n",
       "      <td>103</td>\n",
       "      <td>nm0001429</td>\n",
       "      <td>nm0001429</td>\n",
       "      <td>Crime</td>\n",
       "    </tr>\n",
       "    <tr>\n",
       "      <th>3658458.xml</th>\n",
       "      <td>Filmverleih JAPAN HERALD OFFICE KITANO BANDAI ...</td>\n",
       "      <td>199683</td>\n",
       "      <td>Comedy,Drama</td>\n",
       "      <td>1999.0</td>\n",
       "      <td>Japanese</td>\n",
       "      <td>untokenisiert</td>\n",
       "      <td>121</td>\n",
       "      <td>nm0001429</td>\n",
       "      <td>nm0001429</td>\n",
       "      <td>Comedy</td>\n",
       "    </tr>\n",
       "    <tr>\n",
       "      <th>113281.xml</th>\n",
       "      <td>Er meinte , er kündigt ! Warten Sie ! Yamamoto...</td>\n",
       "      <td>222851</td>\n",
       "      <td>Crime,Drama,Thriller</td>\n",
       "      <td>2000.0</td>\n",
       "      <td>English, Japanese, Italian, Spanish</td>\n",
       "      <td>untokenisiert</td>\n",
       "      <td>114</td>\n",
       "      <td>nm0001429</td>\n",
       "      <td>nm0001429</td>\n",
       "      <td>Crime</td>\n",
       "    </tr>\n",
       "    <tr>\n",
       "      <th>4524709.xml</th>\n",
       "      <td>Präsentiert von BANDAI VISUAL , TOKYO FM TV TO...</td>\n",
       "      <td>330229</td>\n",
       "      <td>Drama,Romance</td>\n",
       "      <td>2002.0</td>\n",
       "      <td>Japanese</td>\n",
       "      <td>untokenisiert</td>\n",
       "      <td>114</td>\n",
       "      <td>nm0001429</td>\n",
       "      <td>nm0001429</td>\n",
       "      <td>Drama</td>\n",
       "    </tr>\n",
       "    <tr>\n",
       "      <th>6485792.xml</th>\n",
       "      <td>Eine Produktion von BANDAI VISUAL , TOKYO FM ,...</td>\n",
       "      <td>478044</td>\n",
       "      <td>Comedy,Drama,Fantasy</td>\n",
       "      <td>2005.0</td>\n",
       "      <td>Japanese</td>\n",
       "      <td>untokenisiert</td>\n",
       "      <td>108</td>\n",
       "      <td>nm0001429</td>\n",
       "      <td>nm0001429</td>\n",
       "      <td>Comedy</td>\n",
       "    </tr>\n",
       "    <tr>\n",
       "      <th>6645863.xml</th>\n",
       "      <td>EINE BANDAI VISUAI . , TV ASAHI , TOKYO THEATR...</td>\n",
       "      <td>1217243</td>\n",
       "      <td>Comedy,Drama</td>\n",
       "      <td>2008.0</td>\n",
       "      <td>Japanese</td>\n",
       "      <td>untokenisiert</td>\n",
       "      <td>119</td>\n",
       "      <td>nm0001429</td>\n",
       "      <td>nm0001429</td>\n",
       "      <td>Comedy</td>\n",
       "    </tr>\n",
       "    <tr>\n",
       "      <th>4236228.xml</th>\n",
       "      <td>Das war ' s dann . Auf Wiedersehen . Ikemoto ....</td>\n",
       "      <td>1462667</td>\n",
       "      <td>Crime,Drama</td>\n",
       "      <td>2010.0</td>\n",
       "      <td>Japanese, English</td>\n",
       "      <td>untokenisiert</td>\n",
       "      <td>109</td>\n",
       "      <td>nm0001429</td>\n",
       "      <td>nm0001429</td>\n",
       "      <td>Crime</td>\n",
       "    </tr>\n",
       "    <tr>\n",
       "      <th>6642425.xml</th>\n",
       "      <td>Es soll euer Yamamoto sein , der in dem Auto s...</td>\n",
       "      <td>1724962</td>\n",
       "      <td>Action,Crime,Drama</td>\n",
       "      <td>2012.0</td>\n",
       "      <td>Japanese</td>\n",
       "      <td>untokenisiert</td>\n",
       "      <td>112</td>\n",
       "      <td>nm0001429</td>\n",
       "      <td>nm0001429</td>\n",
       "      <td>Action</td>\n",
       "    </tr>\n",
       "  </tbody>\n",
       "</table>\n",
       "</div>"
      ],
      "text/plain": [
       "                                                          text  IMDB_ID  \\\n",
       "filename                                                                  \n",
       "3999839.xml  SHOCHIKU PRÄSENTIERT EINE KOPRODUKTION VON BAN...    98967   \n",
       "3658771.xml  Machst du dich endlich an die Arbeit oder was ...   103704   \n",
       "3869352.xml  Untertitel astrogirl @ eselkult.de Sie können ...   108188   \n",
       "4510095.xml  POLIZEIREVIER MIAMI - Hey , das ist der falsch...   110524   \n",
       "4534156.xml  - Ihr habt 10 Minuten auf der Bühne . - Gut . ...   116767   \n",
       "3863123.xml  BANDAI VISUAL , TV TOKYO , TOKYO FM and OFFICE...   119250   \n",
       "3658458.xml  Filmverleih JAPAN HERALD OFFICE KITANO BANDAI ...   199683   \n",
       "113281.xml   Er meinte , er kündigt ! Warten Sie ! Yamamoto...   222851   \n",
       "4524709.xml  Präsentiert von BANDAI VISUAL , TOKYO FM TV TO...   330229   \n",
       "6485792.xml  Eine Produktion von BANDAI VISUAL , TOKYO FM ,...   478044   \n",
       "6645863.xml  EINE BANDAI VISUAI . , TV ASAHI , TOKYO THEATR...  1217243   \n",
       "4236228.xml  Das war ' s dann . Auf Wiedersehen . Ikemoto ....  1462667   \n",
       "6642425.xml  Es soll euer Yamamoto sein , der in dem Auto s...  1724962   \n",
       "\n",
       "                            genre    year  \\\n",
       "filename                                    \n",
       "3999839.xml   Action,Comedy,Crime  1990.0   \n",
       "3658771.xml  Comedy,Drama,Romance  1991.0   \n",
       "3869352.xml   Action,Comedy,Crime  1993.0   \n",
       "4510095.xml                Comedy  1994.0   \n",
       "4534156.xml     Crime,Drama,Sport  1996.0   \n",
       "3863123.xml   Crime,Drama,Romance  1997.0   \n",
       "3658458.xml          Comedy,Drama  1999.0   \n",
       "113281.xml   Crime,Drama,Thriller  2000.0   \n",
       "4524709.xml         Drama,Romance  2002.0   \n",
       "6485792.xml  Comedy,Drama,Fantasy  2005.0   \n",
       "6645863.xml          Comedy,Drama  2008.0   \n",
       "4236228.xml           Crime,Drama  2010.0   \n",
       "6642425.xml    Action,Crime,Drama  2012.0   \n",
       "\n",
       "                               production_region         corpus duration  \\\n",
       "filename                                                                   \n",
       "3999839.xml                             Japanese  untokenisiert       96   \n",
       "3658771.xml                             Japanese  untokenisiert      101   \n",
       "3869352.xml                             Japanese  untokenisiert       94   \n",
       "4510095.xml                             Japanese  untokenisiert      108   \n",
       "4534156.xml                             Japanese  untokenisiert      107   \n",
       "3863123.xml                             Japanese  untokenisiert      103   \n",
       "3658458.xml                             Japanese  untokenisiert      121   \n",
       "113281.xml   English, Japanese, Italian, Spanish  untokenisiert      114   \n",
       "4524709.xml                             Japanese  untokenisiert      114   \n",
       "6485792.xml                             Japanese  untokenisiert      108   \n",
       "6645863.xml                             Japanese  untokenisiert      119   \n",
       "4236228.xml                    Japanese, English  untokenisiert      109   \n",
       "6642425.xml                             Japanese  untokenisiert      112   \n",
       "\n",
       "             directors    writers main_genre  \n",
       "filename                                      \n",
       "3999839.xml  nm0001429  nm0001429     Action  \n",
       "3658771.xml  nm0001429  nm0001429     Comedy  \n",
       "3869352.xml  nm0001429  nm0001429     Action  \n",
       "4510095.xml  nm0001429  nm0001429     Comedy  \n",
       "4534156.xml  nm0001429  nm0001429      Crime  \n",
       "3863123.xml  nm0001429  nm0001429      Crime  \n",
       "3658458.xml  nm0001429  nm0001429     Comedy  \n",
       "113281.xml   nm0001429  nm0001429      Crime  \n",
       "4524709.xml  nm0001429  nm0001429      Drama  \n",
       "6485792.xml  nm0001429  nm0001429     Comedy  \n",
       "6645863.xml  nm0001429  nm0001429     Comedy  \n",
       "4236228.xml  nm0001429  nm0001429      Crime  \n",
       "6642425.xml  nm0001429  nm0001429     Action  "
      ]
     },
     "execution_count": 24,
     "metadata": {},
     "output_type": "execute_result"
    }
   ],
   "source": [
    "df[df.writers == 'nm0001429']"
   ]
  },
  {
   "cell_type": "code",
   "execution_count": null,
   "metadata": {},
   "outputs": [],
   "source": []
  }
 ],
 "metadata": {
  "kernelspec": {
   "display_name": "Python 3",
   "language": "python",
   "name": "python3"
  },
  "language_info": {
   "codemirror_mode": {
    "name": "ipython",
    "version": 3
   },
   "file_extension": ".py",
   "mimetype": "text/x-python",
   "name": "python",
   "nbconvert_exporter": "python",
   "pygments_lexer": "ipython3",
   "version": "3.8.2"
  }
 },
 "nbformat": 4,
 "nbformat_minor": 4
}
