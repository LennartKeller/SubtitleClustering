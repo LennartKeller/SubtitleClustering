{
 "cells": [
  {
   "cell_type": "code",
   "execution_count": 1,
   "metadata": {},
   "outputs": [],
   "source": [
    "import pandas as pd\n",
    "import numpy as np\n",
    "import matplotlib.pyplot as plt"
   ]
  },
  {
   "cell_type": "code",
   "execution_count": 2,
   "metadata": {},
   "outputs": [],
   "source": [
    "df = pd.read_csv('../dataset/subtitles_dataset_tokenized.csv')"
   ]
  },
  {
   "cell_type": "code",
   "execution_count": 3,
   "metadata": {},
   "outputs": [
    {
     "data": {
      "text/plain": [
       "(46468, 9)"
      ]
     },
     "execution_count": 3,
     "metadata": {},
     "output_type": "execute_result"
    }
   ],
   "source": [
    "df.shape"
   ]
  },
  {
   "cell_type": "code",
   "execution_count": 4,
   "metadata": {},
   "outputs": [
    {
     "data": {
      "text/html": [
       "<div>\n",
       "<style scoped>\n",
       "    .dataframe tbody tr th:only-of-type {\n",
       "        vertical-align: middle;\n",
       "    }\n",
       "\n",
       "    .dataframe tbody tr th {\n",
       "        vertical-align: top;\n",
       "    }\n",
       "\n",
       "    .dataframe thead th {\n",
       "        text-align: right;\n",
       "    }\n",
       "</style>\n",
       "<table border=\"1\" class=\"dataframe\">\n",
       "  <thead>\n",
       "    <tr style=\"text-align: right;\">\n",
       "      <th></th>\n",
       "      <th>Unnamed: 0</th>\n",
       "      <th>filename</th>\n",
       "      <th>text</th>\n",
       "      <th>IMDB_ID</th>\n",
       "      <th>genre</th>\n",
       "      <th>year</th>\n",
       "      <th>production_region</th>\n",
       "      <th>corpus</th>\n",
       "      <th>duration</th>\n",
       "    </tr>\n",
       "  </thead>\n",
       "  <tbody>\n",
       "    <tr>\n",
       "      <th>0</th>\n",
       "      <td>0</td>\n",
       "      <td>6584498.xml</td>\n",
       "      <td>( Rückblick ) Waren Sie neulich mit uns in die...</td>\n",
       "      <td>1147427</td>\n",
       "      <td>Comedy,Family,Romance</td>\n",
       "      <td>0</td>\n",
       "      <td>NaN</td>\n",
       "      <td>untokenisiert</td>\n",
       "      <td>NaN</td>\n",
       "    </tr>\n",
       "    <tr>\n",
       "      <th>1</th>\n",
       "      <td>1</td>\n",
       "      <td>6977710.xml</td>\n",
       "      <td>FÜNF FREUNDE FÜR ALLE FÄLLE FÜNF FREUNDE FÜR A...</td>\n",
       "      <td>1294864</td>\n",
       "      <td>Animation,Comedy</td>\n",
       "      <td>0</td>\n",
       "      <td>NaN</td>\n",
       "      <td>untokenisiert</td>\n",
       "      <td>NaN</td>\n",
       "    </tr>\n",
       "    <tr>\n",
       "      <th>2</th>\n",
       "      <td>2</td>\n",
       "      <td>6977706.xml</td>\n",
       "      <td>FÜNF FREUNDE FÜR ALLE FÄLLE FÜNF FREUNDE FÜR A...</td>\n",
       "      <td>1294865</td>\n",
       "      <td>Animation,Comedy</td>\n",
       "      <td>0</td>\n",
       "      <td>NaN</td>\n",
       "      <td>untokenisiert</td>\n",
       "      <td>NaN</td>\n",
       "    </tr>\n",
       "    <tr>\n",
       "      <th>3</th>\n",
       "      <td>3</td>\n",
       "      <td>6979067.xml</td>\n",
       "      <td>FÜNF FREUNDE - FÜR ALLE FÄLLE FÜNF FREUNDE - F...</td>\n",
       "      <td>1328700</td>\n",
       "      <td>Animation,Comedy</td>\n",
       "      <td>0</td>\n",
       "      <td>NaN</td>\n",
       "      <td>untokenisiert</td>\n",
       "      <td>NaN</td>\n",
       "    </tr>\n",
       "    <tr>\n",
       "      <th>4</th>\n",
       "      <td>4</td>\n",
       "      <td>6979068.xml</td>\n",
       "      <td>FÜNF FREUNDE FÜR ALLE FÄLLE FÜNF FREUNDE FÜR A...</td>\n",
       "      <td>1328701</td>\n",
       "      <td>Animation,Comedy</td>\n",
       "      <td>0</td>\n",
       "      <td>NaN</td>\n",
       "      <td>untokenisiert</td>\n",
       "      <td>NaN</td>\n",
       "    </tr>\n",
       "  </tbody>\n",
       "</table>\n",
       "</div>"
      ],
      "text/plain": [
       "   Unnamed: 0     filename                                               text  \\\n",
       "0           0  6584498.xml  ( Rückblick ) Waren Sie neulich mit uns in die...   \n",
       "1           1  6977710.xml  FÜNF FREUNDE FÜR ALLE FÄLLE FÜNF FREUNDE FÜR A...   \n",
       "2           2  6977706.xml  FÜNF FREUNDE FÜR ALLE FÄLLE FÜNF FREUNDE FÜR A...   \n",
       "3           3  6979067.xml  FÜNF FREUNDE - FÜR ALLE FÄLLE FÜNF FREUNDE - F...   \n",
       "4           4  6979068.xml  FÜNF FREUNDE FÜR ALLE FÄLLE FÜNF FREUNDE FÜR A...   \n",
       "\n",
       "   IMDB_ID                  genre  year production_region         corpus  \\\n",
       "0  1147427  Comedy,Family,Romance     0               NaN  untokenisiert   \n",
       "1  1294864       Animation,Comedy     0               NaN  untokenisiert   \n",
       "2  1294865       Animation,Comedy     0               NaN  untokenisiert   \n",
       "3  1328700       Animation,Comedy     0               NaN  untokenisiert   \n",
       "4  1328701       Animation,Comedy     0               NaN  untokenisiert   \n",
       "\n",
       "  duration  \n",
       "0      NaN  \n",
       "1      NaN  \n",
       "2      NaN  \n",
       "3      NaN  \n",
       "4      NaN  "
      ]
     },
     "execution_count": 4,
     "metadata": {},
     "output_type": "execute_result"
    }
   ],
   "source": [
    "df.head()"
   ]
  },
  {
   "cell_type": "code",
   "execution_count": 5,
   "metadata": {},
   "outputs": [
    {
     "data": {
      "text/plain": [
       "(18277, 9)"
      ]
     },
     "execution_count": 5,
     "metadata": {},
     "output_type": "execute_result"
    }
   ],
   "source": [
    "df.dropna(subset=['genre', 'year', 'production_region', 'duration']).shape"
   ]
  },
  {
   "cell_type": "code",
   "execution_count": 6,
   "metadata": {},
   "outputs": [
    {
     "data": {
      "text/plain": [
       "0"
      ]
     },
     "execution_count": 6,
     "metadata": {},
     "output_type": "execute_result"
    }
   ],
   "source": [
    "df.shape[0] - df.dropna(subset=['text']).shape[0]"
   ]
  },
  {
   "cell_type": "code",
   "execution_count": 7,
   "metadata": {},
   "outputs": [],
   "source": [
    "df.dropna(inplace=True)"
   ]
  },
  {
   "cell_type": "code",
   "execution_count": 8,
   "metadata": {},
   "outputs": [
    {
     "data": {
      "text/html": [
       "<div>\n",
       "<style scoped>\n",
       "    .dataframe tbody tr th:only-of-type {\n",
       "        vertical-align: middle;\n",
       "    }\n",
       "\n",
       "    .dataframe tbody tr th {\n",
       "        vertical-align: top;\n",
       "    }\n",
       "\n",
       "    .dataframe thead th {\n",
       "        text-align: right;\n",
       "    }\n",
       "</style>\n",
       "<table border=\"1\" class=\"dataframe\">\n",
       "  <thead>\n",
       "    <tr style=\"text-align: right;\">\n",
       "      <th></th>\n",
       "      <th>Unnamed: 0</th>\n",
       "      <th>filename</th>\n",
       "      <th>text</th>\n",
       "      <th>IMDB_ID</th>\n",
       "      <th>genre</th>\n",
       "      <th>year</th>\n",
       "      <th>production_region</th>\n",
       "      <th>corpus</th>\n",
       "      <th>duration</th>\n",
       "    </tr>\n",
       "  </thead>\n",
       "  <tbody>\n",
       "    <tr>\n",
       "      <th>79</th>\n",
       "      <td>79</td>\n",
       "      <td>6581015.xml</td>\n",
       "      <td>HINTER DER LEIWAND Die Anwendung für die Arbei...</td>\n",
       "      <td>6414</td>\n",
       "      <td>Comedy,Romance,Short</td>\n",
       "      <td>1916</td>\n",
       "      <td>English</td>\n",
       "      <td>untokenisiert</td>\n",
       "      <td>30</td>\n",
       "    </tr>\n",
       "    <tr>\n",
       "      <th>80</th>\n",
       "      <td>80</td>\n",
       "      <td>6564964.xml</td>\n",
       "      <td>DER GRAF Maße : Hals 30 cm - Ohr - 4 cm Mounth...</td>\n",
       "      <td>6548</td>\n",
       "      <td>Comedy,Short</td>\n",
       "      <td>1916</td>\n",
       "      <td>English</td>\n",
       "      <td>untokenisiert</td>\n",
       "      <td>24</td>\n",
       "    </tr>\n",
       "    <tr>\n",
       "      <th>82</th>\n",
       "      <td>82</td>\n",
       "      <td>6412883.xml</td>\n",
       "      <td>Chaplin bei der Feuerwehr \" Lass doch das Haus...</td>\n",
       "      <td>6684</td>\n",
       "      <td>Comedy,Short</td>\n",
       "      <td>1916</td>\n",
       "      <td>English</td>\n",
       "      <td>untokenisiert</td>\n",
       "      <td>24</td>\n",
       "    </tr>\n",
       "    <tr>\n",
       "      <th>85</th>\n",
       "      <td>85</td>\n",
       "      <td>6565009.xml</td>\n",
       "      <td>Der Abenteurer Der Mann Jagd . Ein morgendlich...</td>\n",
       "      <td>7613</td>\n",
       "      <td>Comedy,Short</td>\n",
       "      <td>1917</td>\n",
       "      <td>English</td>\n",
       "      <td>untokenisiert</td>\n",
       "      <td>24</td>\n",
       "    </tr>\n",
       "    <tr>\n",
       "      <th>86</th>\n",
       "      <td>86</td>\n",
       "      <td>6564950.xml</td>\n",
       "      <td>Die Heilquelle Die Gesundheit Frühling La moll...</td>\n",
       "      <td>7832</td>\n",
       "      <td>Comedy,Short</td>\n",
       "      <td>1917</td>\n",
       "      <td>English</td>\n",
       "      <td>untokenisiert</td>\n",
       "      <td>24</td>\n",
       "    </tr>\n",
       "  </tbody>\n",
       "</table>\n",
       "</div>"
      ],
      "text/plain": [
       "    Unnamed: 0     filename  \\\n",
       "79          79  6581015.xml   \n",
       "80          80  6564964.xml   \n",
       "82          82  6412883.xml   \n",
       "85          85  6565009.xml   \n",
       "86          86  6564950.xml   \n",
       "\n",
       "                                                 text  IMDB_ID  \\\n",
       "79  HINTER DER LEIWAND Die Anwendung für die Arbei...     6414   \n",
       "80  DER GRAF Maße : Hals 30 cm - Ohr - 4 cm Mounth...     6548   \n",
       "82  Chaplin bei der Feuerwehr \" Lass doch das Haus...     6684   \n",
       "85  Der Abenteurer Der Mann Jagd . Ein morgendlich...     7613   \n",
       "86  Die Heilquelle Die Gesundheit Frühling La moll...     7832   \n",
       "\n",
       "                   genre  year production_region         corpus duration  \n",
       "79  Comedy,Romance,Short  1916           English  untokenisiert       30  \n",
       "80          Comedy,Short  1916           English  untokenisiert       24  \n",
       "82          Comedy,Short  1916           English  untokenisiert       24  \n",
       "85          Comedy,Short  1917           English  untokenisiert       24  \n",
       "86          Comedy,Short  1917           English  untokenisiert       24  "
      ]
     },
     "execution_count": 8,
     "metadata": {},
     "output_type": "execute_result"
    }
   ],
   "source": [
    "df.head()"
   ]
  },
  {
   "cell_type": "markdown",
   "metadata": {},
   "source": [
    "# Publishing year"
   ]
  },
  {
   "cell_type": "code",
   "execution_count": 9,
   "metadata": {},
   "outputs": [
    {
     "data": {
      "text/plain": [
       "count    18277.000000\n",
       "mean      1992.397987\n",
       "std         20.505514\n",
       "min       1916.000000\n",
       "25%       1980.000000\n",
       "50%       2000.000000\n",
       "75%       2009.000000\n",
       "max       2017.000000\n",
       "Name: year, dtype: float64"
      ]
     },
     "execution_count": 9,
     "metadata": {},
     "output_type": "execute_result"
    }
   ],
   "source": [
    "df.year.describe()"
   ]
  },
  {
   "cell_type": "code",
   "execution_count": 10,
   "metadata": {},
   "outputs": [
    {
     "data": {
      "text/plain": [
       "101"
      ]
     },
     "execution_count": 10,
     "metadata": {},
     "output_type": "execute_result"
    }
   ],
   "source": [
    "year_bins = df.year.max() - df.year.min()\n",
    "year_bins"
   ]
  },
  {
   "cell_type": "code",
   "execution_count": 11,
   "metadata": {},
   "outputs": [
    {
     "data": {
      "text/plain": [
       "<matplotlib.axes._subplots.AxesSubplot at 0x1d51df790>"
      ]
     },
     "execution_count": 11,
     "metadata": {},
     "output_type": "execute_result"
    },
    {
     "data": {
      "image/png": "[encoded data removed]",
      "text/plain": [
       "<Figure size 432x288 with 1 Axes>"
      ]
     },
     "metadata": {
      "needs_background": "light"
     },
     "output_type": "display_data"
    }
   ],
   "source": [
    "df.year.plot(kind='hist', bins=year_bins)"
   ]
  },
  {
   "cell_type": "markdown",
   "metadata": {},
   "source": [
    "# Genre"
   ]
  },
  {
   "cell_type": "markdown",
   "metadata": {},
   "source": [
    "## Unique combinations"
   ]
  },
  {
   "cell_type": "code",
   "execution_count": 12,
   "metadata": {},
   "outputs": [
    {
     "data": {
      "text/plain": [
       "(592,)"
      ]
     },
     "execution_count": 12,
     "metadata": {},
     "output_type": "execute_result"
    }
   ],
   "source": [
    "df.genre.unique().shape"
   ]
  },
  {
   "cell_type": "code",
   "execution_count": 13,
   "metadata": {},
   "outputs": [
    {
     "data": {
      "text/plain": [
       "[('Drama', 1212),\n",
       " ('Comedy', 814),\n",
       " ('Drama,Romance', 615),\n",
       " ('Comedy,Drama,Romance', 571),\n",
       " ('Comedy,Drama', 549),\n",
       " ('Action,Crime,Drama', 456),\n",
       " ('Comedy,Romance', 416),\n",
       " ('Crime,Drama,Thriller', 367),\n",
       " ('Horror', 334),\n",
       " ('Crime,Drama', 292),\n",
       " ('Action,Crime,Thriller', 286),\n",
       " ('Action,Adventure,Sci-Fi', 273),\n",
       " ('Action,Comedy,Crime', 252),\n",
       " ('Drama,Thriller', 242),\n",
       " ('Crime,Drama,Mystery', 234),\n",
       " ('Action,Adventure,Drama', 230),\n",
       " ('Action,Adventure,Comedy', 208),\n",
       " ('Action,Adventure,Fantasy', 206),\n",
       " ('Horror,Thriller', 199),\n",
       " ('Comedy,Crime', 186)]"
      ]
     },
     "execution_count": 13,
     "metadata": {},
     "output_type": "execute_result"
    }
   ],
   "source": [
    "from collections import Counter\n",
    "genre_combination_frequs = Counter(df.genre)\n",
    "genre_combination_frequs.most_common(20)"
   ]
  },
  {
   "cell_type": "markdown",
   "metadata": {},
   "source": [
    "## Single genres"
   ]
  },
  {
   "cell_type": "code",
   "execution_count": 14,
   "metadata": {},
   "outputs": [
    {
     "data": {
      "text/plain": [
       "{'Action',\n",
       " 'Adult',\n",
       " 'Adventure',\n",
       " 'Animation',\n",
       " 'Biography',\n",
       " 'Comedy',\n",
       " 'Crime',\n",
       " 'Documentary',\n",
       " 'Drama',\n",
       " 'Family',\n",
       " 'Fantasy',\n",
       " 'Film-Noir',\n",
       " 'History',\n",
       " 'Horror',\n",
       " 'Music',\n",
       " 'Musical',\n",
       " 'Mystery',\n",
       " 'News',\n",
       " 'Romance',\n",
       " 'Sci-Fi',\n",
       " 'Short',\n",
       " 'Sport',\n",
       " 'Thriller',\n",
       " 'War',\n",
       " 'Western'}"
      ]
     },
     "execution_count": 14,
     "metadata": {},
     "output_type": "execute_result"
    }
   ],
   "source": [
    "import re \n",
    "single_genres = set([re.sub(r'\\s+', '', genre) for entry in df.genre.str.split(',') for genre in entry])\n",
    "single_genres"
   ]
  },
  {
   "cell_type": "code",
   "execution_count": 15,
   "metadata": {},
   "outputs": [
    {
     "data": {
      "text/plain": [
       "25"
      ]
     },
     "execution_count": 15,
     "metadata": {},
     "output_type": "execute_result"
    }
   ],
   "source": [
    "len(single_genres)"
   ]
  },
  {
   "cell_type": "markdown",
   "metadata": {},
   "source": [
    "# Production Region"
   ]
  },
  {
   "cell_type": "markdown",
   "metadata": {},
   "source": [
    "## Combinations"
   ]
  },
  {
   "cell_type": "code",
   "execution_count": 16,
   "metadata": {},
   "outputs": [
    {
     "data": {
      "text/plain": [
       "array(['English', 'Swedish', 'German', ..., 'Chinese, English',\n",
       "       'Spanish, English, Icelandic, Portuguese',\n",
       "       'Hebrew, English, Persian'], dtype=object)"
      ]
     },
     "execution_count": 16,
     "metadata": {},
     "output_type": "execute_result"
    }
   ],
   "source": [
    "df.production_region.unique()"
   ]
  },
  {
   "cell_type": "code",
   "execution_count": 17,
   "metadata": {},
   "outputs": [
    {
     "data": {
      "text/plain": [
       "(1238,)"
      ]
     },
     "execution_count": 17,
     "metadata": {},
     "output_type": "execute_result"
    }
   ],
   "source": [
    "df.production_region.unique().shape"
   ]
  },
  {
   "cell_type": "code",
   "execution_count": 18,
   "metadata": {},
   "outputs": [
    {
     "data": {
      "text/plain": [
       "[('English', 8242),\n",
       " ('French', 1041),\n",
       " ('German', 939),\n",
       " ('Japanese', 625),\n",
       " ('English, Spanish', 529),\n",
       " ('Italian', 394),\n",
       " ('English, French', 387),\n",
       " ('Spanish', 204),\n",
       " ('English, Italian', 171),\n",
       " ('English, German', 163),\n",
       " ('English, Russian', 156),\n",
       " ('Korean', 153),\n",
       " ('English, Japanese', 127),\n",
       " ('French, English', 119),\n",
       " ('Cantonese', 118),\n",
       " ('Russian', 116),\n",
       " ('Mandarin', 113),\n",
       " ('Swedish', 104),\n",
       " ('Turkish', 78),\n",
       " ('English, Arabic', 69)]"
      ]
     },
     "execution_count": 18,
     "metadata": {},
     "output_type": "execute_result"
    }
   ],
   "source": [
    "from collections import Counter\n",
    "region_combination_frequs = Counter(df.production_region)\n",
    "region_combination_frequs.most_common(20)"
   ]
  },
  {
   "cell_type": "markdown",
   "metadata": {},
   "source": [
    "## Single regions"
   ]
  },
  {
   "cell_type": "code",
   "execution_count": 19,
   "metadata": {},
   "outputs": [
    {
     "data": {
      "text/plain": [
       "{'Aboriginal',\n",
       " 'Acholi',\n",
       " 'Afrikaans',\n",
       " 'Albanian',\n",
       " 'Algonquin',\n",
       " 'AmericanSignLanguage',\n",
       " 'Amharic',\n",
       " 'Ancient(to1453)',\n",
       " 'Apachelanguages',\n",
       " 'Arabic',\n",
       " 'Aramaic',\n",
       " 'Arapaho',\n",
       " 'Armenian',\n",
       " 'AssyrianNeo-Aramaic',\n",
       " 'Athapascanlanguages',\n",
       " 'Aymara',\n",
       " 'Azerbaijani',\n",
       " 'Bable',\n",
       " 'Balinese',\n",
       " 'Bambara',\n",
       " 'Basque',\n",
       " 'Belarusian',\n",
       " 'Bengali',\n",
       " 'Berberlanguages',\n",
       " 'Bhojpuri',\n",
       " 'Bosnian',\n",
       " 'BrazilianSignLanguage',\n",
       " 'Breton',\n",
       " 'BritishSignLanguage',\n",
       " 'Bulgarian',\n",
       " 'Burmese',\n",
       " 'Cantonese',\n",
       " 'Catalan',\n",
       " 'Chechen',\n",
       " 'Chinese',\n",
       " 'Corsican',\n",
       " 'Cree',\n",
       " 'Creole',\n",
       " 'Creolesandpidgins',\n",
       " 'Croatian',\n",
       " 'Crow',\n",
       " 'Czech',\n",
       " 'Danish',\n",
       " 'Dari',\n",
       " 'Dutch',\n",
       " 'Egyptian(Ancient)',\n",
       " 'English',\n",
       " 'Esperanto',\n",
       " 'Estonian',\n",
       " 'Faroese',\n",
       " 'Filipino',\n",
       " 'Finnish',\n",
       " 'Flemish',\n",
       " 'French',\n",
       " 'FrenchSignLanguage',\n",
       " 'Fulah',\n",
       " 'Gallegan',\n",
       " 'Georgian',\n",
       " 'German',\n",
       " 'GermanSignLanguage',\n",
       " 'Greek',\n",
       " 'Greenlandic',\n",
       " 'Guarani',\n",
       " 'Gujarati',\n",
       " 'Hakka',\n",
       " 'Hawaiian',\n",
       " 'Hebrew',\n",
       " 'Hindi',\n",
       " 'Hmong',\n",
       " 'Hokkien',\n",
       " 'Hungarian',\n",
       " 'Icelandic',\n",
       " 'Indonesian',\n",
       " 'Inuktitut',\n",
       " 'Inupiaq',\n",
       " 'Irish',\n",
       " 'Italian',\n",
       " 'Japanese',\n",
       " 'JapaneseSignLanguage',\n",
       " 'Kazakh',\n",
       " 'Khmer',\n",
       " 'Kirghiz',\n",
       " 'Klingon',\n",
       " 'Korean',\n",
       " 'KoreanSignLanguage',\n",
       " 'Kurdish',\n",
       " 'Ladakhi',\n",
       " 'Lao',\n",
       " 'Latin',\n",
       " 'Latvian',\n",
       " 'Lingala',\n",
       " 'Lithuanian',\n",
       " 'Luxembourgish',\n",
       " 'Malay',\n",
       " 'Malayalam',\n",
       " 'Maltese',\n",
       " 'Mandarin',\n",
       " 'Maori',\n",
       " 'Mapudungun',\n",
       " 'Marathi',\n",
       " 'Masai',\n",
       " 'Maya',\n",
       " 'Mende',\n",
       " 'MinNan',\n",
       " 'Mohawk',\n",
       " 'Mongolian',\n",
       " 'More',\n",
       " 'Nahuatl',\n",
       " 'Navajo',\n",
       " 'Neapolitan',\n",
       " 'Nepali',\n",
       " 'Norse',\n",
       " 'NorthAmericanIndian',\n",
       " 'Norwegian',\n",
       " 'Nyanja',\n",
       " 'Occitan',\n",
       " 'Old',\n",
       " 'OldEnglish',\n",
       " 'Panjabi',\n",
       " 'Papiamento',\n",
       " 'Pawnee',\n",
       " 'Persian',\n",
       " 'Polish',\n",
       " 'Polynesian',\n",
       " 'Portuguese',\n",
       " 'Pushto',\n",
       " 'Quechua',\n",
       " 'Quenya',\n",
       " 'Raeto-Romance',\n",
       " 'Romanian',\n",
       " 'Romany',\n",
       " 'Russian',\n",
       " 'Saami',\n",
       " 'Sanskrit',\n",
       " 'Scanian',\n",
       " 'Scots',\n",
       " 'ScottishGaelic',\n",
       " 'Serbian',\n",
       " 'Serbo-Croatian',\n",
       " 'Shanghainese',\n",
       " 'Sicilian',\n",
       " 'SignLanguages',\n",
       " 'Sindarin',\n",
       " 'Sinhalese',\n",
       " 'Sioux',\n",
       " 'Slovak',\n",
       " 'Slovenian',\n",
       " 'Somali',\n",
       " 'SouthernSotho',\n",
       " 'Spanish',\n",
       " 'SpanishSignLanguage',\n",
       " 'Swahili',\n",
       " 'Swedish',\n",
       " 'SwissGerman',\n",
       " 'Syriac',\n",
       " 'Tagalog',\n",
       " 'Tamil',\n",
       " 'Tatar',\n",
       " 'Telugu',\n",
       " 'Thai',\n",
       " 'Tibetan',\n",
       " 'TokPisin',\n",
       " 'Turkish',\n",
       " 'Ukrainian',\n",
       " 'Ungwatsi',\n",
       " 'Urdu',\n",
       " 'Vietnamese',\n",
       " 'Welsh',\n",
       " 'Wolof',\n",
       " 'Xhosa',\n",
       " 'Yiddish',\n",
       " 'Zulu'}"
      ]
     },
     "execution_count": 19,
     "metadata": {},
     "output_type": "execute_result"
    }
   ],
   "source": [
    "single_region = set([re.sub(r'\\s+', '', region) for entry in df.production_region.str.split(',') for region in entry])\n",
    "single_region"
   ]
  },
  {
   "cell_type": "code",
   "execution_count": 20,
   "metadata": {},
   "outputs": [
    {
     "data": {
      "text/plain": [
       "172"
      ]
     },
     "execution_count": 20,
     "metadata": {},
     "output_type": "execute_result"
    }
   ],
   "source": [
    "len(single_region)"
   ]
  },
  {
   "cell_type": "markdown",
   "metadata": {},
   "source": [
    "# PCA"
   ]
  },
  {
   "cell_type": "code",
   "execution_count": 21,
   "metadata": {},
   "outputs": [],
   "source": [
    "from sklearn.decomposition import PCA\n",
    "from sklearn.feature_extraction.text import TfidfVectorizer"
   ]
  },
  {
   "cell_type": "code",
   "execution_count": 22,
   "metadata": {},
   "outputs": [],
   "source": [
    "tfidf = TfidfVectorizer(max_features=10000)\n",
    "X = tfidf.fit_transform(df.text)"
   ]
  },
  {
   "cell_type": "code",
   "execution_count": 23,
   "metadata": {},
   "outputs": [],
   "source": [
    "pca = PCA(n_components=2)\n",
    "Xr = pca.fit_transform(X.todense())"
   ]
  },
  {
   "cell_type": "code",
   "execution_count": 24,
   "metadata": {},
   "outputs": [
    {
     "data": {
      "image/png": "[encoded data removed]",
      "text/plain": [
       "<Figure size 864x864 with 1 Axes>"
      ]
     },
     "metadata": {
      "needs_background": "light"
     },
     "output_type": "display_data"
    }
   ],
   "source": [
    "plt.figure(figsize=(12,12))\n",
    "plt.scatter(Xr[:,0], Xr[:,1])\n",
    "plt.show()"
   ]
  },
  {
   "cell_type": "code",
   "execution_count": 25,
   "metadata": {},
   "outputs": [],
   "source": [
    "import seaborn as sns"
   ]
  },
  {
   "cell_type": "code",
   "execution_count": 26,
   "metadata": {},
   "outputs": [
    {
     "data": {
      "image/png": "[encoded data removed]",
      "text/plain": [
       "<Figure size 540x540 with 9 Axes>"
      ]
     },
     "metadata": {
      "needs_background": "light"
     },
     "output_type": "display_data"
    }
   ],
   "source": [
    "grid = sns.pairplot(df, corner=True)"
   ]
  },
  {
   "cell_type": "code",
   "execution_count": null,
   "metadata": {},
   "outputs": [],
   "source": []
  }
 ],
 "metadata": {
  "kernelspec": {
   "display_name": "Python 3",
   "language": "python",
   "name": "python3"
  },
  "language_info": {
   "codemirror_mode": {
    "name": "ipython",
    "version": 3
   },
   "file_extension": ".py",
   "mimetype": "text/x-python",
   "name": "python",
   "nbconvert_exporter": "python",
   "pygments_lexer": "ipython3",
   "version": "3.8.2"
  }
 },
 "nbformat": 4,
 "nbformat_minor": 4
}
